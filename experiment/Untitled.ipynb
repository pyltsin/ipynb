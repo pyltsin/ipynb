{
 "cells": [
  {
   "cell_type": "code",
   "execution_count": 57,
   "metadata": {},
   "outputs": [],
   "source": [
    "n=10"
   ]
  },
  {
   "cell_type": "markdown",
   "metadata": {},
   "source": [
    "n - содежит размер матрицы"
   ]
  },
  {
   "cell_type": "code",
   "execution_count": 58,
   "metadata": {},
   "outputs": [],
   "source": [
    "row=[0]*n\n",
    "matrix = []\n",
    "for i in range(n):\n",
    "    matrix.append(row.copy())"
   ]
  },
  {
   "cell_type": "code",
   "execution_count": 59,
   "metadata": {},
   "outputs": [
    {
     "data": {
      "text/plain": [
       "[[0, 0, 0, 0, 0, 0, 0, 0, 0, 0],\n",
       " [0, 0, 0, 0, 0, 0, 0, 0, 0, 0],\n",
       " [0, 0, 0, 0, 0, 0, 0, 0, 0, 0],\n",
       " [0, 0, 0, 0, 0, 0, 0, 0, 0, 0],\n",
       " [0, 0, 0, 0, 0, 0, 0, 0, 0, 0],\n",
       " [0, 0, 0, 0, 0, 0, 0, 0, 0, 0],\n",
       " [0, 0, 0, 0, 0, 0, 0, 0, 0, 0],\n",
       " [0, 0, 0, 0, 0, 0, 0, 0, 0, 0],\n",
       " [0, 0, 0, 0, 0, 0, 0, 0, 0, 0],\n",
       " [0, 0, 0, 0, 0, 0, 0, 0, 0, 0]]"
      ]
     },
     "execution_count": 59,
     "metadata": {},
     "output_type": "execute_result"
    }
   ],
   "source": [
    "matrix"
   ]
  },
  {
   "cell_type": "markdown",
   "metadata": {},
   "source": [
    "получили матрицу нулей"
   ]
  },
  {
   "cell_type": "code",
   "execution_count": 60,
   "metadata": {},
   "outputs": [],
   "source": [
    "i=0\n",
    "j=-1"
   ]
  },
  {
   "cell_type": "markdown",
   "metadata": {},
   "source": [
    "координаты текущей точки"
   ]
  },
  {
   "cell_type": "code",
   "execution_count": 61,
   "metadata": {},
   "outputs": [],
   "source": [
    "strategy = 1"
   ]
  },
  {
   "cell_type": "code",
   "execution_count": 62,
   "metadata": {},
   "outputs": [],
   "source": [
    "def check_next(i, j, n, matrix):\n",
    "    return i>=0 and j>=0 and i<n and j<n and matrix[i][j]==0"
   ]
  },
  {
   "cell_type": "code",
   "execution_count": 63,
   "metadata": {},
   "outputs": [],
   "source": [
    "def get_next(i, j, strategy, n, matrix):\n",
    "    next_i=i\n",
    "    next_j =j \n",
    "    if strategy==1:\n",
    "        next_j+=1\n",
    "    elif strategy==2:\n",
    "        next_i+=1\n",
    "    elif strategy==3:\n",
    "        next_j-=1\n",
    "    else:\n",
    "        next_i-=1\n",
    "    \n",
    "    if check_next(next_i, next_j, n, matrix):\n",
    "        return next_i, next_j, strategy\n",
    "    else:\n",
    "        strategy+=1\n",
    "        if strategy>4:\n",
    "            strategy=1\n",
    "        return get_next(i, j, strategy, n, matrix)"
   ]
  },
  {
   "cell_type": "code",
   "execution_count": 64,
   "metadata": {},
   "outputs": [],
   "source": [
    "for next_number in range(1, n**2+1):\n",
    "    i, j, strategy = get_next(i, j, strategy, n, matrix)\n",
    "    matrix[i][j]=next_number\n"
   ]
  },
  {
   "cell_type": "code",
   "execution_count": 65,
   "metadata": {},
   "outputs": [
    {
     "data": {
      "text/plain": [
       "[[1, 2, 3, 4, 5, 6, 7, 8, 9, 10],\n",
       " [36, 37, 38, 39, 40, 41, 42, 43, 44, 11],\n",
       " [35, 64, 65, 66, 67, 68, 69, 70, 45, 12],\n",
       " [34, 63, 84, 85, 86, 87, 88, 71, 46, 13],\n",
       " [33, 62, 83, 96, 97, 98, 89, 72, 47, 14],\n",
       " [32, 61, 82, 95, 100, 99, 90, 73, 48, 15],\n",
       " [31, 60, 81, 94, 93, 92, 91, 74, 49, 16],\n",
       " [30, 59, 80, 79, 78, 77, 76, 75, 50, 17],\n",
       " [29, 58, 57, 56, 55, 54, 53, 52, 51, 18],\n",
       " [28, 27, 26, 25, 24, 23, 22, 21, 20, 19]]"
      ]
     },
     "execution_count": 65,
     "metadata": {},
     "output_type": "execute_result"
    }
   ],
   "source": [
    "matrix"
   ]
  },
  {
   "cell_type": "code",
   "execution_count": null,
   "metadata": {},
   "outputs": [],
   "source": []
  },
  {
   "cell_type": "code",
   "execution_count": null,
   "metadata": {},
   "outputs": [],
   "source": []
  }
 ],
 "metadata": {
  "kernelspec": {
   "display_name": "Python 3",
   "language": "python",
   "name": "python3"
  },
  "language_info": {
   "codemirror_mode": {
    "name": "ipython",
    "version": 3
   },
   "file_extension": ".py",
   "mimetype": "text/x-python",
   "name": "python",
   "nbconvert_exporter": "python",
   "pygments_lexer": "ipython3",
   "version": "3.6.5"
  }
 },
 "nbformat": 4,
 "nbformat_minor": 2
}
