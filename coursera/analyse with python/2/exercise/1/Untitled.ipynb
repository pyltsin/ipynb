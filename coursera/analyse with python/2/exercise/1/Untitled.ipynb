{
 "cells": [
  {
   "cell_type": "code",
   "execution_count": 43,
   "metadata": {},
   "outputs": [],
   "source": [
    "lst=[]\n",
    "with open('sentences.txt') as txt:\n",
    "    for line in txt:\n",
    "        lst.append(line.lower())"
   ]
  },
  {
   "cell_type": "code",
   "execution_count": 13,
   "metadata": {},
   "outputs": [],
   "source": [
    "import re\n",
    "lst_dct=[]\n",
    "for line in lst:\n",
    "    l=[]\n",
    "    for word in re.split('[^a-z]', line):\n",
    "        if len(word)>0:\n",
    "            l.append(word)\n",
    "    lst_dct.append(l)"
   ]
  },
  {
   "cell_type": "code",
   "execution_count": 22,
   "metadata": {},
   "outputs": [],
   "source": [
    "word_dict={}\n",
    "i=0\n",
    "for line in lst_dct:\n",
    "    for word in line:\n",
    "        if word not in word_dict:\n",
    "            word_dict[word]=i\n",
    "            i=i+1"
   ]
  },
  {
   "cell_type": "code",
   "execution_count": 25,
   "metadata": {},
   "outputs": [],
   "source": [
    "import numpy as np"
   ]
  },
  {
   "cell_type": "code",
   "execution_count": 29,
   "metadata": {},
   "outputs": [],
   "source": [
    "ar = np.zeros([len(lst_dct), len(word_dict)])\n"
   ]
  },
  {
   "cell_type": "code",
   "execution_count": 30,
   "metadata": {},
   "outputs": [],
   "source": [
    "for i, line in enumerate(lst_dct):\n",
    "    for word in line:\n",
    "        ar[i, word_dict[word]]+=1\n"
   ]
  },
  {
   "cell_type": "code",
   "execution_count": 37,
   "metadata": {},
   "outputs": [],
   "source": [
    "from numpy.linalg import norm\n",
    "lst = []\n",
    "for line in ar[1:]:\n",
    "    c = np.dot(ar[0], line)/norm(ar[0])/norm(line)\n",
    "    lst.append(c)"
   ]
  },
  {
   "cell_type": "code",
   "execution_count": 42,
   "metadata": {},
   "outputs": [
    {
     "data": {
      "text/plain": [
       "[(5, 0.2672612419124244),\n",
       " (3, 0.22291128503014115),\n",
       " (20, 0.1749635530559413),\n",
       " (9, 0.16718346377260587),\n",
       " (11, 0.16035674514745463),\n",
       " (15, 0.15936381457791915),\n",
       " (19, 0.15724272550828777),\n",
       " (1, 0.13552618543578768),\n",
       " (12, 0.12964074471043288),\n",
       " (13, 0.12598815766974242),\n",
       " (10, 0.11952286093343936),\n",
       " (7, 0.11572751247156894),\n",
       " (18, 0.11145564251507058),\n",
       " (2, 0.10482848367219184),\n",
       " (8, 0.0944911182523068),\n",
       " (6, 0.07412493166611013),\n",
       " (4, 0.05976143046671968),\n",
       " (14, 0.05572782125753529),\n",
       " (17, 0.05572782125753529),\n",
       " (0, 0.0472455591261534),\n",
       " (16, 0.043355498476206004)]"
      ]
     },
     "execution_count": 42,
     "metadata": {},
     "output_type": "execute_result"
    }
   ],
   "source": [
    "sorted(enumerate(lst), key=(lambda x: x[1]), reverse=True)"
   ]
  },
  {
   "cell_type": "code",
   "execution_count": 44,
   "metadata": {},
   "outputs": [
    {
     "data": {
      "text/plain": [
       "('in comparison to dogs, cats have not undergone major changes during the domestication process.\\n',\n",
       " 'domestic cats are similar in size to the other members of the genus felis, typically weighing between 4 and 5 kg (8.8 and 11.0 lb).\\n',\n",
       " 'in one, people deliberately tamed cats in a process of artificial selection, as they were useful predators of vermin.\\n')"
      ]
     },
     "execution_count": 44,
     "metadata": {},
     "output_type": "execute_result"
    }
   ],
   "source": [
    "lst[0], lst[6], lst[4]"
   ]
  }
 ],
 "metadata": {
  "kernelspec": {
   "display_name": "Python 3",
   "language": "python",
   "name": "python3"
  },
  "language_info": {
   "codemirror_mode": {
    "name": "ipython",
    "version": 3
   },
   "file_extension": ".py",
   "mimetype": "text/x-python",
   "name": "python",
   "nbconvert_exporter": "python",
   "pygments_lexer": "ipython3",
   "version": "3.6.5"
  }
 },
 "nbformat": 4,
 "nbformat_minor": 2
}
