{
 "cells": [
  {
   "cell_type": "code",
   "execution_count": 1,
   "metadata": {
    "collapsed": false
   },
   "outputs": [
    {
     "name": "stderr",
     "output_type": "stream",
     "text": [
      "/home/ar600/anaconda2/lib/python2.7/site-packages/pandas/computation/__init__.py:19: UserWarning: The installed version of numexpr 2.4.4 is not supported in pandas and will be not be used\n",
      "\n",
      "  UserWarning)\n"
     ]
    }
   ],
   "source": [
    "from matplotlib.colors import ListedColormap\n",
    "from sklearn import cross_validation, datasets, metrics, tree, ensemble, learning_curve\n",
    "\n",
    "import numpy as np\n",
    "import pandas as pd"
   ]
  },
  {
   "cell_type": "code",
   "execution_count": 2,
   "metadata": {
    "collapsed": false
   },
   "outputs": [
    {
     "name": "stdout",
     "output_type": "stream",
     "text": [
      "Populating the interactive namespace from numpy and matplotlib\n"
     ]
    }
   ],
   "source": [
    "%pylab inline"
   ]
  },
  {
   "cell_type": "code",
   "execution_count": 3,
   "metadata": {
    "collapsed": true
   },
   "outputs": [],
   "source": [
    "digits = datasets.load_digits()"
   ]
  },
  {
   "cell_type": "code",
   "execution_count": 7,
   "metadata": {
    "collapsed": false
   },
   "outputs": [],
   "source": [
    "X = digits.data\n",
    "y = digits.target"
   ]
  },
  {
   "cell_type": "code",
   "execution_count": 9,
   "metadata": {
    "collapsed": false
   },
   "outputs": [
    {
     "data": {
      "text/plain": [
       "(1797, 64)"
      ]
     },
     "execution_count": 9,
     "metadata": {},
     "output_type": "execute_result"
    }
   ],
   "source": [
    "X.shape"
   ]
  },
  {
   "cell_type": "code",
   "execution_count": 12,
   "metadata": {
    "collapsed": false
   },
   "outputs": [],
   "source": [
    "dtree = tree.DecisionTreeClassifier()"
   ]
  },
  {
   "cell_type": "code",
   "execution_count": 15,
   "metadata": {
    "collapsed": true
   },
   "outputs": [],
   "source": [
    "cv_size = 10\n",
    "tree_scores = cross_validation.cross_val_score(dtree, X, y, cv=cv_size)"
   ]
  },
  {
   "cell_type": "code",
   "execution_count": 26,
   "metadata": {
    "collapsed": false
   },
   "outputs": [
    {
     "name": "stdout",
     "output_type": "stream",
     "text": [
      "0.837535569718\n"
     ]
    }
   ],
   "source": [
    "ans1 = tree_scores.mean()\n",
    "print ans1"
   ]
  },
  {
   "cell_type": "code",
   "execution_count": 19,
   "metadata": {
    "collapsed": true
   },
   "outputs": [],
   "source": [
    "def plot_scores(scores):\n",
    "    pylab.grid(True)\n",
    "    pylab.plot(range(cv_size), scores, label='cv scores')\n",
    "    pylab.ylim((0.0, 1.05))\n",
    "    pylab.legend(loc='lower right')"
   ]
  },
  {
   "cell_type": "code",
   "execution_count": 20,
   "metadata": {
    "collapsed": false
   },
   "outputs": [
    {
     "data": {
      "image/png": "[encoded data removed]",
      "text/plain": [
       "<matplotlib.figure.Figure at 0x7fe3ee60e490>"
      ]
     },
     "metadata": {},
     "output_type": "display_data"
    }
   ],
   "source": [
    "plot_scores(tree_scores)"
   ]
  },
  {
   "cell_type": "code",
   "execution_count": 23,
   "metadata": {
    "collapsed": true
   },
   "outputs": [],
   "source": [
    "with open('ans1.txt', 'w') as f_out:\n",
    "        f_out.write(str(ans1))"
   ]
  },
  {
   "cell_type": "code",
   "execution_count": 24,
   "metadata": {
    "collapsed": true
   },
   "outputs": [],
   "source": [
    "bagging = ensemble.BaggingClassifier(dtree, n_estimators=100)\n",
    "bag_scores = cross_validation.cross_val_score(bagging, X, y, cv=cv_size)"
   ]
  },
  {
   "cell_type": "code",
   "execution_count": 25,
   "metadata": {
    "collapsed": false
   },
   "outputs": [
    {
     "name": "stdout",
     "output_type": "stream",
     "text": [
      "0.925986060452\n"
     ]
    },
    {
     "data": {
      "image/png": "[encoded data removed]",
      "text/plain": [
       "<matplotlib.figure.Figure at 0x7fe3f0e0c490>"
      ]
     },
     "metadata": {},
     "output_type": "display_data"
    }
   ],
   "source": [
    "plot_scores(bag_scores)\n",
    "ans2 = bag_scores.mean()\n",
    "print ans2\n",
    "with open('ans2.txt', 'w') as f_out:\n",
    "        f_out.write(str(ans2))"
   ]
  },
  {
   "cell_type": "code",
   "execution_count": 27,
   "metadata": {
    "collapsed": false
   },
   "outputs": [
    {
     "name": "stdout",
     "output_type": "stream",
     "text": [
      "0.934826190111\n"
     ]
    },
    {
     "data": {
      "image/png": "[encoded data removed]",
      "text/plain": [
       "<matplotlib.figure.Figure at 0x7fe3ee5d03d0>"
      ]
     },
     "metadata": {},
     "output_type": "display_data"
    }
   ],
   "source": [
    "n_f = int(np.sqrt(X.shape[1]))\n",
    "bagging2 = ensemble.BaggingClassifier(dtree, n_estimators=100, max_features=n_f)\n",
    "bag_scores = cross_validation.cross_val_score(bagging2, X, y, cv=cv_size)\n",
    "\n",
    "plot_scores(bag_scores)\n",
    "ans3 = bag_scores.mean()\n",
    "print ans3\n",
    "with open('ans3.txt', 'w') as f_out:\n",
    "        f_out.write(str(ans3))"
   ]
  },
  {
   "cell_type": "code",
   "execution_count": 29,
   "metadata": {
    "collapsed": false
   },
   "outputs": [
    {
     "name": "stdout",
     "output_type": "stream",
     "text": [
      "0.954932023264\n"
     ]
    },
    {
     "data": {
      "image/png": "[encoded data removed]",
      "text/plain": [
       "<matplotlib.figure.Figure at 0x7fe42506ab90>"
      ]
     },
     "metadata": {},
     "output_type": "display_data"
    }
   ],
   "source": [
    "tree_f = tree.DecisionTreeClassifier(max_features=n_f)\n",
    "bagging3 = ensemble.BaggingClassifier(tree_f, n_estimators=100)\n",
    "bag_scores = cross_validation.cross_val_score(bagging3, X, y, cv=cv_size)\n",
    "\n",
    "plot_scores(bag_scores)\n",
    "ans4 = bag_scores.mean()\n",
    "print ans4\n",
    "with open('ans4.txt', 'w') as f_out:\n",
    "        f_out.write(str(ans4))"
   ]
  },
  {
   "cell_type": "code",
   "execution_count": 33,
   "metadata": {
    "collapsed": false
   },
   "outputs": [
    {
     "name": "stdout",
     "output_type": "stream",
     "text": [
      "CPU times: user 37.9 s, sys: 0 ns, total: 37.9 s\n",
      "Wall time: 37.7 s\n"
     ]
    }
   ],
   "source": [
    "%%time\n",
    "\n",
    "n_trees = [1] + range(5,100,5)\n",
    "scoring = []\n",
    "for n_tree in n_trees:\n",
    "    estimator = ensemble.RandomForestClassifier(n_estimators = n_tree, min_samples_split=5, random_state=1)\n",
    "    score = cross_validation.cross_val_score(estimator, X, y, \n",
    "                                             scoring = 'accuracy', cv = cv_size)    \n",
    "    scoring.append(score)\n",
    "scoring = np.asmatrix(scoring)"
   ]
  },
  {
   "cell_type": "code",
   "execution_count": 34,
   "metadata": {
    "collapsed": false
   },
   "outputs": [
    {
     "data": {
      "text/plain": [
       "matrix([[ 0.72972973,  0.79234973,  0.73480663,  0.66111111,  0.72625698,\n",
       "          0.69832402,  0.79888268,  0.82022472,  0.66666667,  0.69886364],\n",
       "        [ 0.83243243,  0.91803279,  0.84530387,  0.83333333,  0.93854749,\n",
       "          0.89385475,  0.89385475,  0.93258427,  0.86440678,  0.86931818],\n",
       "        [ 0.88108108,  0.93989071,  0.9281768 ,  0.90555556,  0.9273743 ,\n",
       "          0.94972067,  0.94413408,  0.93820225,  0.89265537,  0.92045455],\n",
       "        [ 0.88648649,  0.97814208,  0.93922652,  0.91666667,  0.94413408,\n",
       "          0.97765363,  0.97206704,  0.94382022,  0.89830508,  0.92613636],\n",
       "        [ 0.88648649,  0.96174863,  0.9281768 ,  0.92777778,  0.94972067,\n",
       "          0.96648045,  0.97206704,  0.96629213,  0.89830508,  0.9375    ],\n",
       "        [ 0.8972973 ,  0.96174863,  0.93370166,  0.94444444,  0.94972067,\n",
       "          0.96089385,  0.97206704,  0.96067416,  0.89830508,  0.9375    ],\n",
       "        [ 0.90810811,  0.96721311,  0.93370166,  0.96111111,  0.96089385,\n",
       "          0.96648045,  0.96648045,  0.96067416,  0.9039548 ,  0.9375    ],\n",
       "        [ 0.8972973 ,  0.9726776 ,  0.93922652,  0.95555556,  0.94972067,\n",
       "          0.96648045,  0.96089385,  0.96629213,  0.90960452,  0.94318182],\n",
       "        [ 0.9027027 ,  0.96721311,  0.93922652,  0.95555556,  0.94972067,\n",
       "          0.97206704,  0.96089385,  0.96629213,  0.90960452,  0.94318182],\n",
       "        [ 0.9027027 ,  0.96721311,  0.94475138,  0.95555556,  0.94972067,\n",
       "          0.96648045,  0.97206704,  0.96629213,  0.89830508,  0.94318182],\n",
       "        [ 0.9027027 ,  0.97814208,  0.95027624,  0.96666667,  0.96089385,\n",
       "          0.97206704,  0.97765363,  0.96629213,  0.9039548 ,  0.94886364],\n",
       "        [ 0.9027027 ,  0.96721311,  0.94475138,  0.96111111,  0.96089385,\n",
       "          0.96089385,  0.97765363,  0.97191011,  0.91525424,  0.95454545],\n",
       "        [ 0.9027027 ,  0.97814208,  0.94475138,  0.97222222,  0.96089385,\n",
       "          0.96089385,  0.97765363,  0.96629213,  0.91525424,  0.94886364],\n",
       "        [ 0.91351351,  0.98360656,  0.94475138,  0.97222222,  0.95530726,\n",
       "          0.96648045,  0.98324022,  0.96629213,  0.90960452,  0.9375    ],\n",
       "        [ 0.90810811,  0.97814208,  0.94475138,  0.96111111,  0.95530726,\n",
       "          0.96648045,  0.98324022,  0.96629213,  0.91525424,  0.9375    ],\n",
       "        [ 0.90810811,  0.97814208,  0.94475138,  0.97222222,  0.96089385,\n",
       "          0.96648045,  0.98324022,  0.97191011,  0.91525424,  0.94318182],\n",
       "        [ 0.90810811,  0.97814208,  0.93922652,  0.96666667,  0.95530726,\n",
       "          0.96648045,  0.98324022,  0.96629213,  0.91525424,  0.94886364],\n",
       "        [ 0.90810811,  0.97814208,  0.93370166,  0.97222222,  0.95530726,\n",
       "          0.97206704,  0.98324022,  0.97191011,  0.90960452,  0.94886364],\n",
       "        [ 0.90810811,  0.97814208,  0.93922652,  0.96666667,  0.96089385,\n",
       "          0.97206704,  0.98324022,  0.97191011,  0.91525424,  0.94886364],\n",
       "        [ 0.90810811,  0.97814208,  0.93922652,  0.97222222,  0.96089385,\n",
       "          0.97206704,  0.98324022,  0.97191011,  0.92090395,  0.94886364]])"
      ]
     },
     "execution_count": 34,
     "metadata": {},
     "output_type": "execute_result"
    }
   ],
   "source": [
    "scoring"
   ]
  },
  {
   "cell_type": "code",
   "execution_count": 35,
   "metadata": {
    "collapsed": false
   },
   "outputs": [
    {
     "data": {
      "text/plain": [
       "<matplotlib.legend.Legend at 0x7fe3ee5d0e10>"
      ]
     },
     "execution_count": 35,
     "metadata": {},
     "output_type": "execute_result"
    },
    {
     "data": {
      "image/png": "[encoded data removed]",
      "text/plain": [
       "<matplotlib.figure.Figure at 0x7fe3ee5d0510>"
      ]
     },
     "metadata": {},
     "output_type": "display_data"
    }
   ],
   "source": [
    "pylab.plot(n_trees, scoring.mean(axis = 1), marker='.', label='RandomForest')\n",
    "pylab.grid(True)\n",
    "pylab.xlabel('n_trees')\n",
    "pylab.ylabel('score')\n",
    "pylab.title('Accuracy score')\n",
    "pylab.legend(loc='lower right')"
   ]
  },
  {
   "cell_type": "code",
   "execution_count": 41,
   "metadata": {
    "collapsed": false
   },
   "outputs": [
    {
     "name": "stdout",
     "output_type": "stream",
     "text": [
      "CPU times: user 41.9 s, sys: 0 ns, total: 41.9 s\n",
      "Wall time: 41.4 s\n"
     ]
    }
   ],
   "source": [
    "%%time\n",
    "total_features = X.shape[1]\n",
    "n_features = np.arange(0.1,1.1,0.1)\n",
    "scoring = []\n",
    "for n_feature in n_features:\n",
    "    n_feat = int(n_feature*total_features)\n",
    "    estimator = ensemble.RandomForestClassifier(n_estimators = 50, min_samples_split=5, random_state=1, max_features=n_feat)\n",
    "    score = cross_validation.cross_val_score(estimator, X, y, \n",
    "                                             scoring = 'accuracy', cv = cv_size)    \n",
    "    scoring.append(score)\n",
    "scoring = np.asmatrix(scoring)"
   ]
  },
  {
   "cell_type": "code",
   "execution_count": 42,
   "metadata": {
    "collapsed": false
   },
   "outputs": [
    {
     "data": {
      "text/plain": [
       "<matplotlib.legend.Legend at 0x7fe3ee2833d0>"
      ]
     },
     "execution_count": 42,
     "metadata": {},
     "output_type": "execute_result"
    },
    {
     "data": {
      "image/png": "[encoded data removed]",
      "text/plain": [
       "<matplotlib.figure.Figure at 0x7fe3ee38f810>"
      ]
     },
     "metadata": {},
     "output_type": "display_data"
    }
   ],
   "source": [
    "pylab.plot(n_features, scoring.mean(axis = 1), marker='.', label='RandomForest')\n",
    "pylab.grid(True)\n",
    "pylab.xlabel('n_features')\n",
    "pylab.ylabel('score')\n",
    "pylab.title('Accuracy score')\n",
    "pylab.legend(loc='upper right')"
   ]
  },
  {
   "cell_type": "code",
   "execution_count": 44,
   "metadata": {
    "collapsed": false
   },
   "outputs": [
    {
     "name": "stdout",
     "output_type": "stream",
     "text": [
      "0.908841462279\n",
      "0.952751278756\n"
     ]
    }
   ],
   "source": [
    "estimator1 = ensemble.RandomForestClassifier(n_estimators = 50, min_samples_split=5, random_state=1, max_depth=5)\n",
    "estimator2 = ensemble.RandomForestClassifier(n_estimators = 50, min_samples_split=5, random_state=1)\n",
    "\n",
    "score1 = cross_validation.cross_val_score(estimator1, X, y, scoring = 'accuracy', cv = cv_size) \n",
    "score2 = cross_validation.cross_val_score(estimator2, X, y, scoring = 'accuracy', cv = cv_size)\n",
    "\n",
    "print score1.mean()\n",
    "print score2.mean()"
   ]
  },
  {
   "cell_type": "code",
   "execution_count": null,
   "metadata": {
    "collapsed": true
   },
   "outputs": [],
   "source": []
  }
 ],
 "metadata": {
  "kernelspec": {
   "display_name": "Python 3",
   "language": "python",
   "name": "python3"
  },
  "language_info": {
   "codemirror_mode": {
    "name": "ipython",
    "version": 3
   },
   "file_extension": ".py",
   "mimetype": "text/x-python",
   "name": "python",
   "nbconvert_exporter": "python",
   "pygments_lexer": "ipython3",
   "version": "3.6.5"
  }
 },
 "nbformat": 4,
 "nbformat_minor": 2
}
