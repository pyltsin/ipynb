{
 "cells": [
  {
   "cell_type": "markdown",
   "metadata": {},
   "source": [
    "# <center> Финальный проект <br> Идентификация пользователей по посещенным веб-страницам\n"
   ]
  },
  {
   "cell_type": "markdown",
   "metadata": {},
   "source": [
    "### Цель\n",
    "- Определить по последовательности из нескольких веб-сайтов, посещенных подряд одним и тем же человеком, Элис это или взломщик (кто-то другой)\n",
    "\n",
    "### Задачи\n",
    "- Построить наиболее эффективную модель для достижения цели\n",
    "- Сделать прогнозы для сессий в тестовой выборке"
   ]
  },
  {
   "cell_type": "code",
   "execution_count": 1,
   "metadata": {},
   "outputs": [],
   "source": [
    "from __future__ import division, print_function\n",
    "# отключим всякие предупреждения Anaconda\n",
    "import warnings\n",
    "warnings.filterwarnings('ignore')\n",
    "import os\n",
    "import pickle\n",
    "from tqdm import tqdm\n",
    "import numpy as np\n",
    "import pandas as pd\n",
    "from scipy.sparse import csr_matrix\n",
    "from sklearn.model_selection import train_test_split\n",
    "from sklearn.linear_model import SGDClassifier\n",
    "from sklearn.metrics import roc_auc_score\n",
    "from sklearn.model_selection import train_test_split, cross_val_score, StratifiedKFold, GridSearchCV, TimeSeriesSplit\n",
    "%matplotlib inline\n",
    "from matplotlib import pyplot as plt\n",
    "from scipy.sparse import hstack"
   ]
  },
  {
   "cell_type": "markdown",
   "metadata": {},
   "source": [
    "### Данные\n",
    "В обучающей выборке:\n",
    "\n",
    "- Признаки site_i – это индексы посещенных сайтов (расшифровка дана в файле со словарем)\n",
    "- Признаки time_j – время посещения сайтов site_j\n",
    "- Целевой признак target – факт того, что сессия принадлежит Элис (то есть что именно Элис ходила по всем этим сайтам)\n",
    "\n",
    "Сессии пользователей выделены таким образом, что они не могут быть длинее получаса или 10 сайтов. То есть сессия считается оконченной либо когда пользователь посетил 10 сайтов подряд, либо когда сессия заняла по времени более 30 минут."
   ]
  },
  {
   "cell_type": "code",
   "execution_count": 2,
   "metadata": {},
   "outputs": [],
   "source": [
    "# Загрузим данные\n",
    "PATH_TO_DATA = 'capstone_user_identification'"
   ]
  },
  {
   "cell_type": "code",
   "execution_count": 3,
   "metadata": {},
   "outputs": [],
   "source": [
    "train_df = pd.read_csv(os.path.join(PATH_TO_DATA, 'train_sessions.csv'),\n",
    "                       index_col='session_id')\n",
    "test_df = pd.read_csv(os.path.join(PATH_TO_DATA, 'test_sessions.csv'),\n",
    "                      index_col='session_id')"
   ]
  },
  {
   "cell_type": "code",
   "execution_count": 4,
   "metadata": {},
   "outputs": [
    {
     "data": {
      "text/html": [
       "<div>\n",
       "<style scoped>\n",
       "    .dataframe tbody tr th:only-of-type {\n",
       "        vertical-align: middle;\n",
       "    }\n",
       "\n",
       "    .dataframe tbody tr th {\n",
       "        vertical-align: top;\n",
       "    }\n",
       "\n",
       "    .dataframe thead th {\n",
       "        text-align: right;\n",
       "    }\n",
       "</style>\n",
       "<table border=\"1\" class=\"dataframe\">\n",
       "  <thead>\n",
       "    <tr style=\"text-align: right;\">\n",
       "      <th></th>\n",
       "      <th>site1</th>\n",
       "      <th>time1</th>\n",
       "      <th>site2</th>\n",
       "      <th>time2</th>\n",
       "      <th>site3</th>\n",
       "      <th>time3</th>\n",
       "      <th>site4</th>\n",
       "      <th>time4</th>\n",
       "      <th>site5</th>\n",
       "      <th>time5</th>\n",
       "      <th>...</th>\n",
       "      <th>time6</th>\n",
       "      <th>site7</th>\n",
       "      <th>time7</th>\n",
       "      <th>site8</th>\n",
       "      <th>time8</th>\n",
       "      <th>site9</th>\n",
       "      <th>time9</th>\n",
       "      <th>site10</th>\n",
       "      <th>time10</th>\n",
       "      <th>target</th>\n",
       "    </tr>\n",
       "    <tr>\n",
       "      <th>session_id</th>\n",
       "      <th></th>\n",
       "      <th></th>\n",
       "      <th></th>\n",
       "      <th></th>\n",
       "      <th></th>\n",
       "      <th></th>\n",
       "      <th></th>\n",
       "      <th></th>\n",
       "      <th></th>\n",
       "      <th></th>\n",
       "      <th></th>\n",
       "      <th></th>\n",
       "      <th></th>\n",
       "      <th></th>\n",
       "      <th></th>\n",
       "      <th></th>\n",
       "      <th></th>\n",
       "      <th></th>\n",
       "      <th></th>\n",
       "      <th></th>\n",
       "      <th></th>\n",
       "    </tr>\n",
       "  </thead>\n",
       "  <tbody>\n",
       "    <tr>\n",
       "      <th>1</th>\n",
       "      <td>718</td>\n",
       "      <td>2014-02-20 10:02:45</td>\n",
       "      <td>NaN</td>\n",
       "      <td>NaN</td>\n",
       "      <td>NaN</td>\n",
       "      <td>NaN</td>\n",
       "      <td>NaN</td>\n",
       "      <td>NaN</td>\n",
       "      <td>NaN</td>\n",
       "      <td>NaN</td>\n",
       "      <td>...</td>\n",
       "      <td>NaN</td>\n",
       "      <td>NaN</td>\n",
       "      <td>NaN</td>\n",
       "      <td>NaN</td>\n",
       "      <td>NaN</td>\n",
       "      <td>NaN</td>\n",
       "      <td>NaN</td>\n",
       "      <td>NaN</td>\n",
       "      <td>NaN</td>\n",
       "      <td>0</td>\n",
       "    </tr>\n",
       "    <tr>\n",
       "      <th>2</th>\n",
       "      <td>890</td>\n",
       "      <td>2014-02-22 11:19:50</td>\n",
       "      <td>941.0</td>\n",
       "      <td>2014-02-22 11:19:50</td>\n",
       "      <td>3847.0</td>\n",
       "      <td>2014-02-22 11:19:51</td>\n",
       "      <td>941.0</td>\n",
       "      <td>2014-02-22 11:19:51</td>\n",
       "      <td>942.0</td>\n",
       "      <td>2014-02-22 11:19:51</td>\n",
       "      <td>...</td>\n",
       "      <td>2014-02-22 11:19:51</td>\n",
       "      <td>3847.0</td>\n",
       "      <td>2014-02-22 11:19:52</td>\n",
       "      <td>3846.0</td>\n",
       "      <td>2014-02-22 11:19:52</td>\n",
       "      <td>1516.0</td>\n",
       "      <td>2014-02-22 11:20:15</td>\n",
       "      <td>1518.0</td>\n",
       "      <td>2014-02-22 11:20:16</td>\n",
       "      <td>0</td>\n",
       "    </tr>\n",
       "    <tr>\n",
       "      <th>3</th>\n",
       "      <td>14769</td>\n",
       "      <td>2013-12-16 16:40:17</td>\n",
       "      <td>39.0</td>\n",
       "      <td>2013-12-16 16:40:18</td>\n",
       "      <td>14768.0</td>\n",
       "      <td>2013-12-16 16:40:19</td>\n",
       "      <td>14769.0</td>\n",
       "      <td>2013-12-16 16:40:19</td>\n",
       "      <td>37.0</td>\n",
       "      <td>2013-12-16 16:40:19</td>\n",
       "      <td>...</td>\n",
       "      <td>2013-12-16 16:40:19</td>\n",
       "      <td>14768.0</td>\n",
       "      <td>2013-12-16 16:40:20</td>\n",
       "      <td>14768.0</td>\n",
       "      <td>2013-12-16 16:40:21</td>\n",
       "      <td>14768.0</td>\n",
       "      <td>2013-12-16 16:40:22</td>\n",
       "      <td>14768.0</td>\n",
       "      <td>2013-12-16 16:40:24</td>\n",
       "      <td>0</td>\n",
       "    </tr>\n",
       "    <tr>\n",
       "      <th>4</th>\n",
       "      <td>782</td>\n",
       "      <td>2014-03-28 10:52:12</td>\n",
       "      <td>782.0</td>\n",
       "      <td>2014-03-28 10:52:42</td>\n",
       "      <td>782.0</td>\n",
       "      <td>2014-03-28 10:53:12</td>\n",
       "      <td>782.0</td>\n",
       "      <td>2014-03-28 10:53:42</td>\n",
       "      <td>782.0</td>\n",
       "      <td>2014-03-28 10:54:12</td>\n",
       "      <td>...</td>\n",
       "      <td>2014-03-28 10:54:42</td>\n",
       "      <td>782.0</td>\n",
       "      <td>2014-03-28 10:55:12</td>\n",
       "      <td>782.0</td>\n",
       "      <td>2014-03-28 10:55:42</td>\n",
       "      <td>782.0</td>\n",
       "      <td>2014-03-28 10:56:12</td>\n",
       "      <td>782.0</td>\n",
       "      <td>2014-03-28 10:56:42</td>\n",
       "      <td>0</td>\n",
       "    </tr>\n",
       "    <tr>\n",
       "      <th>5</th>\n",
       "      <td>22</td>\n",
       "      <td>2014-02-28 10:53:05</td>\n",
       "      <td>177.0</td>\n",
       "      <td>2014-02-28 10:55:22</td>\n",
       "      <td>175.0</td>\n",
       "      <td>2014-02-28 10:55:22</td>\n",
       "      <td>178.0</td>\n",
       "      <td>2014-02-28 10:55:23</td>\n",
       "      <td>177.0</td>\n",
       "      <td>2014-02-28 10:55:23</td>\n",
       "      <td>...</td>\n",
       "      <td>2014-02-28 10:55:59</td>\n",
       "      <td>175.0</td>\n",
       "      <td>2014-02-28 10:55:59</td>\n",
       "      <td>177.0</td>\n",
       "      <td>2014-02-28 10:55:59</td>\n",
       "      <td>177.0</td>\n",
       "      <td>2014-02-28 10:57:06</td>\n",
       "      <td>178.0</td>\n",
       "      <td>2014-02-28 10:57:11</td>\n",
       "      <td>0</td>\n",
       "    </tr>\n",
       "  </tbody>\n",
       "</table>\n",
       "<p>5 rows × 21 columns</p>\n",
       "</div>"
      ],
      "text/plain": [
       "            site1                time1  site2                time2    site3  \\\n",
       "session_id                                                                    \n",
       "1             718  2014-02-20 10:02:45    NaN                  NaN      NaN   \n",
       "2             890  2014-02-22 11:19:50  941.0  2014-02-22 11:19:50   3847.0   \n",
       "3           14769  2013-12-16 16:40:17   39.0  2013-12-16 16:40:18  14768.0   \n",
       "4             782  2014-03-28 10:52:12  782.0  2014-03-28 10:52:42    782.0   \n",
       "5              22  2014-02-28 10:53:05  177.0  2014-02-28 10:55:22    175.0   \n",
       "\n",
       "                          time3    site4                time4  site5  \\\n",
       "session_id                                                             \n",
       "1                           NaN      NaN                  NaN    NaN   \n",
       "2           2014-02-22 11:19:51    941.0  2014-02-22 11:19:51  942.0   \n",
       "3           2013-12-16 16:40:19  14769.0  2013-12-16 16:40:19   37.0   \n",
       "4           2014-03-28 10:53:12    782.0  2014-03-28 10:53:42  782.0   \n",
       "5           2014-02-28 10:55:22    178.0  2014-02-28 10:55:23  177.0   \n",
       "\n",
       "                          time5  ...                  time6    site7  \\\n",
       "session_id                       ...                                   \n",
       "1                           NaN  ...                    NaN      NaN   \n",
       "2           2014-02-22 11:19:51  ...    2014-02-22 11:19:51   3847.0   \n",
       "3           2013-12-16 16:40:19  ...    2013-12-16 16:40:19  14768.0   \n",
       "4           2014-03-28 10:54:12  ...    2014-03-28 10:54:42    782.0   \n",
       "5           2014-02-28 10:55:23  ...    2014-02-28 10:55:59    175.0   \n",
       "\n",
       "                          time7    site8                time8    site9  \\\n",
       "session_id                                                               \n",
       "1                           NaN      NaN                  NaN      NaN   \n",
       "2           2014-02-22 11:19:52   3846.0  2014-02-22 11:19:52   1516.0   \n",
       "3           2013-12-16 16:40:20  14768.0  2013-12-16 16:40:21  14768.0   \n",
       "4           2014-03-28 10:55:12    782.0  2014-03-28 10:55:42    782.0   \n",
       "5           2014-02-28 10:55:59    177.0  2014-02-28 10:55:59    177.0   \n",
       "\n",
       "                          time9   site10               time10 target  \n",
       "session_id                                                            \n",
       "1                           NaN      NaN                  NaN      0  \n",
       "2           2014-02-22 11:20:15   1518.0  2014-02-22 11:20:16      0  \n",
       "3           2013-12-16 16:40:22  14768.0  2013-12-16 16:40:24      0  \n",
       "4           2014-03-28 10:56:12    782.0  2014-03-28 10:56:42      0  \n",
       "5           2014-02-28 10:57:06    178.0  2014-02-28 10:57:11      0  \n",
       "\n",
       "[5 rows x 21 columns]"
      ]
     },
     "execution_count": 4,
     "metadata": {},
     "output_type": "execute_result"
    }
   ],
   "source": [
    "train_df.head()"
   ]
  },
  {
   "cell_type": "markdown",
   "metadata": {},
   "source": [
    "Объединим обучающую и тестовую выборки – это понадобится, чтоб вместе потом привести их к разреженному формату и создавать признаки сразу для обеих выборок. Индексы сайтов нумеровались с 1, так что заменим пропуски на нули"
   ]
  },
  {
   "cell_type": "code",
   "execution_count": 5,
   "metadata": {},
   "outputs": [],
   "source": [
    "train_test_df = pd.concat([train_df, test_df], ignore_index=True)"
   ]
  },
  {
   "cell_type": "code",
   "execution_count": 6,
   "metadata": {},
   "outputs": [],
   "source": [
    "train_test_df_sites = train_test_df[['site%d' % i for i in range(1, 11)]].fillna(0).astype('int')"
   ]
  },
  {
   "cell_type": "markdown",
   "metadata": {},
   "source": [
    "В обучающей выборке – 2297 сессий одного пользователя (Alice) и 251264 сессий – других пользователей, не Элис. Дисбаланс классов очень сильный, и смотреть на долю верных ответов (accuracy) непоказательно, поэтому в качестве метрики будем использовать площадь под кривой ошибок - ROC AUC"
   ]
  },
  {
   "cell_type": "code",
   "execution_count": 7,
   "metadata": {},
   "outputs": [
    {
     "data": {
      "text/plain": [
       "0    251264\n",
       "1      2297\n",
       "Name: target, dtype: int64"
      ]
     },
     "execution_count": 7,
     "metadata": {},
     "output_type": "execute_result"
    }
   ],
   "source": [
    "train_df['target'].value_counts()"
   ]
  },
  {
   "cell_type": "markdown",
   "metadata": {},
   "source": [
    "Создадим разреженные матрицы, используя объединенную матрицу *train_test_df_sites*, потом разделим обратно на обучающую и тестовую части\n",
    "\n",
    "Выделим в отдельный вектор *y* ответы на обучающей выборке"
   ]
  },
  {
   "cell_type": "code",
   "execution_count": 8,
   "metadata": {},
   "outputs": [],
   "source": [
    "# функция удаления столбца из разреженной матрицы, необходима для удаления столбца для сайта с индексом ноль\n",
    "def dropcols_coo(M, idx_to_drop):\n",
    "    idx_to_drop = np.unique(idx_to_drop)\n",
    "    C = M.tocoo()\n",
    "    keep = ~np.in1d(C.col, idx_to_drop)\n",
    "    C.data, C.row, C.col = C.data[keep], C.row[keep], C.col[keep]\n",
    "    C.col -= idx_to_drop.searchsorted(C.col) \n",
    "    C._shape = (C.shape[0], C.shape[1] - len(idx_to_drop))\n",
    "    return C.tocsr()"
   ]
  },
  {
   "cell_type": "code",
   "execution_count": 9,
   "metadata": {},
   "outputs": [],
   "source": [
    "# функция преобразования матрицы в разреженный формат\n",
    "def sparse(d):\n",
    "    rows = []\n",
    "    columns = []\n",
    "    data = []\n",
    "    for i in tqdm(xrange(d.shape[0])):\n",
    "        unique, counts = np.unique(d[i], return_counts=True)\n",
    "        dic = dict(zip(unique, counts))\n",
    "        rows.extend([i]*len(dic.keys()))\n",
    "        columns.extend(dic.keys())\n",
    "        data.extend(dic.values())\n",
    "    c = csr_matrix((data, (rows, columns)))\n",
    "    \n",
    "    return dropcols_coo(c, 0)"
   ]
  },
  {
   "cell_type": "code",
   "execution_count": 10,
   "metadata": {},
   "outputs": [
    {
     "name": "stderr",
     "output_type": "stream",
     "text": [
      "100%|███████████████████████████████| 336358/336358 [00:22<00:00, 14649.10it/s]\n"
     ]
    }
   ],
   "source": [
    "train_test_sparse = sparse(train_test_df_sites.values)\n",
    "X_train_sparse = train_test_sparse[:253561]\n",
    "X_test_sparse = train_test_sparse[253561:]\n",
    "y = train_df['target']"
   ]
  },
  {
   "cell_type": "code",
   "execution_count": 11,
   "metadata": {},
   "outputs": [
    {
     "data": {
      "text/plain": [
       "(253561, 48371)"
      ]
     },
     "execution_count": 11,
     "metadata": {},
     "output_type": "execute_result"
    }
   ],
   "source": [
    "X_train_sparse.shape"
   ]
  },
  {
   "cell_type": "markdown",
   "metadata": {},
   "source": [
    "Разобьем обучающую выборку на 2 части в пропорции 7/3, причем не перемешивая. Исходные данные упорядочены по времени, тестовая выборка по времени четко отделена от обучающей, это же соблюдем и здесь"
   ]
  },
  {
   "cell_type": "code",
   "execution_count": 12,
   "metadata": {},
   "outputs": [],
   "source": [
    "train_share = int(.7 * X_train_sparse.shape[0])\n",
    "X_train, y_train = X_train_sparse[:train_share, :], y[:train_share]\n",
    "X_valid, y_valid  = X_train_sparse[train_share:, :], y[train_share:]"
   ]
  },
  {
   "cell_type": "markdown",
   "metadata": {},
   "source": [
    "Создадим объект `sklearn.linear_model.SGDClassifier` с логистической функцией потерь и обучим модель на выборке `(X_train, y_train)`"
   ]
  },
  {
   "cell_type": "code",
   "execution_count": 13,
   "metadata": {},
   "outputs": [
    {
     "data": {
      "text/plain": [
       "SGDClassifier(alpha=0.0001, average=False, class_weight=None, epsilon=0.1,\n",
       "       eta0=0.0, fit_intercept=True, l1_ratio=0.15,\n",
       "       learning_rate='optimal', loss='log', max_iter=None, n_iter=None,\n",
       "       n_jobs=-1, penalty='l2', power_t=0.5, random_state=17, shuffle=True,\n",
       "       tol=None, verbose=0, warm_start=False)"
      ]
     },
     "execution_count": 13,
     "metadata": {},
     "output_type": "execute_result"
    }
   ],
   "source": [
    "sgd_logit_base = SGDClassifier(loss='log', random_state=17, n_jobs=-1)\n",
    "sgd_logit_base.fit(X_train, y_train)"
   ]
  },
  {
   "cell_type": "markdown",
   "metadata": {
    "scrolled": true
   },
   "source": [
    "Сделаем прогноз в виде предсказанных вероятностей того, что это сессия Элис, на отложенной выборке *(X_valid, y_valid)*"
   ]
  },
  {
   "cell_type": "code",
   "execution_count": 14,
   "metadata": {},
   "outputs": [],
   "source": [
    "logit_valid_pred_proba = sgd_logit_base.predict_proba(X_valid)"
   ]
  },
  {
   "cell_type": "markdown",
   "metadata": {},
   "source": [
    "Посчитаем ROC AUC логистической регрессии, обученной с помощью стохастического градиентного спуска, на отложенной выборке"
   ]
  },
  {
   "cell_type": "code",
   "execution_count": 15,
   "metadata": {},
   "outputs": [
    {
     "data": {
      "text/plain": [
       "0.934"
      ]
     },
     "execution_count": 15,
     "metadata": {},
     "output_type": "execute_result"
    }
   ],
   "source": [
    "round(roc_auc_score(y_valid, logit_valid_pred_proba[:,1]), 3)"
   ]
  },
  {
   "cell_type": "markdown",
   "metadata": {},
   "source": [
    "## Создание новых признаков\n",
    "\n",
    "Попробуем улучшить модель с помощью добавления признаков"
   ]
  },
  {
   "cell_type": "markdown",
   "metadata": {},
   "source": [
    "Создадим следующие признаки:\n",
    "- unique - количество уникальных сайтов за сессию\n",
    "- site_max_count - сайт наиболее часто встречающийся за сессию (если таких несколько, то первый из них)\n",
    "- com_count - количество сайтов за сессию с расширением .com\n",
    "- org_count - количество сайтов за сессию с расширением .org\n",
    "- fr_count - количество сайтов за сессию с расширением .fr\n",
    "- net_count - количество сайтов за сессию с расширением .net\n",
    "- morning - сессия начинается утром\n",
    "- day - сессия начинается днем\n",
    "- evening - сессия начинается вечером\n",
    "- night - сессия начинается ночью\n",
    "- dayofweek - день недели начала сессии\n",
    "- month - месяц начала сессии\n",
    "- weekend - относится ли день начала сессии к выходному дню\n",
    "- top10 - количество сайтов в сессии, которые входят в топ10 самых популярных сайтов в выборке"
   ]
  },
  {
   "cell_type": "code",
   "execution_count": 16,
   "metadata": {},
   "outputs": [],
   "source": [
    "# названия признаков\n",
    "features_names = ['unique', 'site_max_count', 'com_count', 'fr_count',\n",
    "                  'org_count', 'net_count', 'day', 'night', 'evening', \n",
    "                  'morning', 'dayofweek', 'month', 'weekend', 'top10']"
   ]
  },
  {
   "cell_type": "code",
   "execution_count": 17,
   "metadata": {},
   "outputs": [
    {
     "name": "stderr",
     "output_type": "stream",
     "text": [
      "100%|████████████████████████████████| 336358/336358 [02:06<00:00, 2653.04it/s]\n"
     ]
    }
   ],
   "source": [
    "#создание признака top10\n",
    "freq = np.unique(train_test_df_sites.values, return_counts = True)\n",
    "f = list(freq[1])\n",
    "f.sort(reverse=True)\n",
    "f1 = f[1:11]\n",
    "top=[]\n",
    "for i in f1:\n",
    "    top.append(freq[0][list(freq[1]).index(i)])\n",
    "top10 =[]\n",
    "for i in tqdm(range(len(train_test_df_sites))):\n",
    "    top10.append(len(np.intersect1d(train_test_df_sites.loc[i], top)))\n"
   ]
  },
  {
   "cell_type": "code",
   "execution_count": 18,
   "metadata": {},
   "outputs": [
    {
     "name": "stderr",
     "output_type": "stream",
     "text": [
      "100%|███████████████████████████████| 336358/336358 [00:13<00:00, 25652.68it/s]\n"
     ]
    }
   ],
   "source": [
    "# сoздание признаков site_max_count и unique \n",
    "site_max_count=[]\n",
    "unique=[]\n",
    "for k in tqdm(range(len(train_test_df_sites.values))):  \n",
    "    s = list(train_test_df_sites.values[k])\n",
    "    t=set(s)\n",
    "    t-={0}\n",
    "    unique.append(len(t))\n",
    "    m = None\n",
    "    q_max = 0\n",
    "    for item in set(s):\n",
    "        q = s.count(item)\n",
    "        if q > q_max:\n",
    "            q_max = q\n",
    "            m = item\n",
    "    site_max_count.append(m)"
   ]
  },
  {
   "cell_type": "code",
   "execution_count": 19,
   "metadata": {},
   "outputs": [],
   "source": [
    "#создание признаков dayofweek, month, morning, day, evening, night\n",
    "t = pd.to_datetime(train_test_df['time1'])\n",
    "hour = t.apply(lambda s: s.hour)\n",
    "dayofweek=t.apply(lambda s: s.dayofweek)\n",
    "month = t.apply(lambda s: s.month)\n",
    "morning = ((hour >= 7) & (hour <= 11)).astype('int')\n",
    "day = ((hour >= 12) & (hour <= 18)).astype('int')\n",
    "evening = ((hour >= 19) & (hour <= 23)).astype('int')\n",
    "night = ((hour >= 0) & (hour <= 6)).astype('int')\n",
    "                    "
   ]
  },
  {
   "cell_type": "code",
   "execution_count": 20,
   "metadata": {},
   "outputs": [],
   "source": [
    "#создание признака weekend\n",
    "weekend=[]\n",
    "for i in dayofweek:\n",
    "    if i >5:\n",
    "        weekend.append(1)\n",
    "    else:\n",
    "        weekend.append(0)"
   ]
  },
  {
   "cell_type": "code",
   "execution_count": 21,
   "metadata": {},
   "outputs": [],
   "source": [
    "#загрузим словарь с сайтами\n",
    "with open(os.path.join(PATH_TO_DATA, 'site_dic.pkl'), 'rb') as s:\n",
    "        d = pickle.load(s)\n",
    "\n",
    "d1 = {v:k for k, v in d.items()}\n",
    "d1[0]=0"
   ]
  },
  {
   "cell_type": "code",
   "execution_count": 22,
   "metadata": {},
   "outputs": [
    {
     "name": "stderr",
     "output_type": "stream",
     "text": [
      "100%|███████████████████████████████| 336358/336358 [00:21<00:00, 15970.66it/s]\n"
     ]
    }
   ],
   "source": [
    "#отделим от каждого сайта расширение\n",
    "tts = train_test_df_sites.values\n",
    "r = []  \n",
    "for k in tqdm(range(len(tts))):  \n",
    "    for i in range(10):\n",
    "        if d1[tts[k][i]] != 0:\n",
    "              r.append(d1[tts[k][i]].split('.')[-1])\n",
    "        else:\n",
    "              r.append(0)    "
   ]
  },
  {
   "cell_type": "code",
   "execution_count": 23,
   "metadata": {},
   "outputs": [
    {
     "name": "stderr",
     "output_type": "stream",
     "text": [
      "100%|███████████████████████████████| 336358/336358 [00:12<00:00, 27983.19it/s]\n"
     ]
    }
   ],
   "source": [
    "#создание признаков com_count, fr_count, org_count, net_count\n",
    "r = np.array(r).reshape((336358, 10))\n",
    "com_count = []\n",
    "fr_count = []\n",
    "org_count = []\n",
    "net_count = []\n",
    "for i in tqdm(range(len(r))):\n",
    "    com_count.append(list(r[i]).count('com'))\n",
    "    fr_count.append(list(r[i]).count('fr'))\n",
    "    org_count.append(list(r[i]).count('org'))\n",
    "    net_count.append(list(r[i]).count('net'))\n"
   ]
  },
  {
   "cell_type": "code",
   "execution_count": 24,
   "metadata": {},
   "outputs": [],
   "source": [
    "# список признаков\n",
    "features = [unique, site_max_count, com_count, fr_count,\n",
    "            org_count, net_count, day, night, evening, \n",
    "            morning, dayofweek, month, weekend, top10]"
   ]
  },
  {
   "cell_type": "code",
   "execution_count": 25,
   "metadata": {},
   "outputs": [],
   "source": [
    "#добавим в train_test_df_sites все признаки\n",
    "for i, k in enumerate(features):\n",
    "    train_test_df_sites[features_names[i]]=features[i]"
   ]
  },
  {
   "cell_type": "code",
   "execution_count": 26,
   "metadata": {},
   "outputs": [],
   "source": [
    "#выделим из train_test_df_sites обучающую выборку с ответами\n",
    "train_df_new = train_test_df_sites[:253561]\n",
    "train_df_new['target']=np.array(train_df['target'])"
   ]
  },
  {
   "cell_type": "markdown",
   "metadata": {},
   "source": [
    "**Посмотрим на гистограммы распределений признаков для Элис (darkviolet) и остальных пользователей (pink)**"
   ]
  },
  {
   "cell_type": "code",
   "execution_count": 27,
   "metadata": {},
   "outputs": [
    {
     "data": {
      "image/png": "[encoded data removed]",
      "text/plain": [
       "<matplotlib.figure.Figure at 0x2132b1d0>"
      ]
     },
     "metadata": {},
     "output_type": "display_data"
    }
   ],
   "source": [
    "#построим гимтограммы для признаков com_count, fr_count, org_count, net_count\n",
    "fig, axes = plt.subplots(nrows=4, ncols=2, figsize=(10, 14))\n",
    "t=1\n",
    "color_dic = {0: 'pink', 1 : 'darkviolet'}\n",
    "for i, k in enumerate(features_names[2:6]):\n",
    "    for idx, (u, sub_df) in  enumerate (pd.groupby(train_df_new, 'target')):\n",
    "        a = plt.subplot(4, 2, t)\n",
    "        plt.hist(sub_df[k], color=color_dic[u], edgecolor='black')\n",
    "        plt.xlabel(k)\n",
    "        t=t+1"
   ]
  },
  {
   "cell_type": "markdown",
   "metadata": {},
   "source": [
    "По этим признакам Элис и остальные пользователи почти не отличаются. Наиболее заметные различия видны для признака org_count. В отличие от остальных Элис реже заходит на сайты с таким расширением доменного имени"
   ]
  },
  {
   "cell_type": "code",
   "execution_count": 28,
   "metadata": {},
   "outputs": [
    {
     "data": {
      "image/png": "[encoded data removed]",
      "text/plain": [
       "<matplotlib.figure.Figure at 0x2369dd30>"
      ]
     },
     "metadata": {},
     "output_type": "display_data"
    }
   ],
   "source": [
    "#построим гимтограммы для признаков unique, site_max_count\n",
    "fig, axes = plt.subplots(nrows=2, ncols=2, figsize=(10, 6))\n",
    "t=1\n",
    "color_dic = {0: 'pink', 1 : 'darkviolet'}\n",
    "for i, k in enumerate(features_names[0:2]):\n",
    "    for idx, (u, sub_df) in  enumerate (pd.groupby(train_df_new, 'target')):\n",
    "        a = plt.subplot(2, 2, t)\n",
    "        plt.hist(sub_df[k], color=color_dic[u], edgecolor='black')\n",
    "        plt.xlabel(k)\n",
    "        t=t+1"
   ]
  },
  {
   "cell_type": "markdown",
   "metadata": {},
   "source": [
    "Для этих признаков тоже сильных различий не наблюдается"
   ]
  },
  {
   "cell_type": "code",
   "execution_count": 29,
   "metadata": {},
   "outputs": [
    {
     "data": {
      "image/png": "[encoded data removed]",
      "text/plain": [
       "<matplotlib.figure.Figure at 0x3813b550>"
      ]
     },
     "metadata": {},
     "output_type": "display_data"
    }
   ],
   "source": [
    "#построим гимтограммы для признаков day, night, evening, morning\n",
    "fig, axes = plt.subplots(nrows=4, ncols=2, figsize=(10, 14))\n",
    "t=1\n",
    "color_dic = {0: 'pink', 1 : 'darkviolet'}\n",
    "for i, k in enumerate(features_names[6:10]):\n",
    "    for idx, (u, sub_df) in  enumerate (pd.groupby(train_df_new, 'target')):\n",
    "        a = plt.subplot(4, 2, t)\n",
    "        plt.hist(sub_df[k], color=color_dic[u], edgecolor='black')\n",
    "        plt.xlabel(k)\n",
    "        t=t+1"
   ]
  },
  {
   "cell_type": "markdown",
   "metadata": {},
   "source": [
    "Для этих признаков уже лучше видны различия для Элис и остальных пользователей. Элис почти всегда посещает сайты днем, очень редко утром и вечером. Именно эти признаки должны улучшить модель"
   ]
  },
  {
   "cell_type": "code",
   "execution_count": 30,
   "metadata": {},
   "outputs": [
    {
     "data": {
      "image/png": "[encoded data removed]",
      "text/plain": [
       "<matplotlib.figure.Figure at 0x20b15f60>"
      ]
     },
     "metadata": {},
     "output_type": "display_data"
    }
   ],
   "source": [
    "#построим гимтограммы для признаков dayofweek, month, weekend, top10\n",
    "fig, axes = plt.subplots(nrows=4, ncols=2, figsize=(10, 14))\n",
    "t=1\n",
    "color_dic = {0: 'pink', 1 : 'darkviolet'}\n",
    "for i, k in enumerate(features_names[10:14]):\n",
    "    for idx, (u, sub_df) in  enumerate (pd.groupby(train_df_new, 'target')):\n",
    "        a = plt.subplot(4, 2, t)\n",
    "        plt.hist(sub_df[k], color=color_dic[u], edgecolor='black')\n",
    "        plt.xlabel(k)\n",
    "        t=t+1"
   ]
  },
  {
   "cell_type": "markdown",
   "metadata": {},
   "source": [
    "Для этих признаков тоже видны отличия. Элис чаще посещает сайты в будние дни. В будние дни реже всего заходит в сеть в среду, хотя остальные пользователи чаще всего посещают сайты в среду. Чуть менее сильные различия видны по месяца и количеству сайтов в сессии, входящих в топ10"
   ]
  },
  {
   "cell_type": "markdown",
   "metadata": {},
   "source": [
    "**Посмотрим как меняется ROC AUC при добавление каждого из признаков по отдельности**"
   ]
  },
  {
   "cell_type": "code",
   "execution_count": 31,
   "metadata": {},
   "outputs": [],
   "source": [
    "def sgd_logit(train_test_sparse):\n",
    "    X_train_sparse = train_test_sparse[:253561]\n",
    "    X_test_sparse = train_test_sparse[253561:]\n",
    "    y = train_df['target']\n",
    "    train_share = int(.7 * X_train_sparse.shape[0])\n",
    "    X_train, y_train = X_train_sparse[:train_share, :], y[:train_share]\n",
    "    X_valid, y_valid  = X_train_sparse[train_share:, :], y[train_share:]\n",
    "    sgd_logit = SGDClassifier(loss='log', random_state=17, n_jobs=-1)\n",
    "    sgd_logit.fit(X_train, y_train)\n",
    "    logit_valid_pred_proba = sgd_logit.predict_proba(X_valid)\n",
    "    print(round(roc_auc_score(y_valid, logit_valid_pred_proba[:,1]), 3))"
   ]
  },
  {
   "cell_type": "code",
   "execution_count": 32,
   "metadata": {},
   "outputs": [
    {
     "name": "stdout",
     "output_type": "stream",
     "text": [
      "unique\n",
      "0.921\n",
      "site_max_count\n",
      "0.474\n",
      "com_count\n",
      "0.921\n",
      "fr_count\n",
      "0.918\n",
      "org_count\n",
      "0.933\n",
      "net_count\n",
      "0.932\n",
      "day\n",
      "0.949\n",
      "night\n",
      "0.934\n",
      "evening\n",
      "0.934\n",
      "morning\n",
      "0.958\n",
      "dayofweek\n",
      "0.925\n",
      "month\n",
      "0.922\n",
      "weekend\n",
      "0.935\n",
      "top10\n",
      "0.934\n"
     ]
    }
   ],
   "source": [
    "for i in features_names:\n",
    "    train_test_sparse1 = hstack((train_test_sparse, np.array(train_test_df_sites[i])[:,None]), format= 'csr')\n",
    "    print(i)\n",
    "    sgd_logit(train_test_sparse=train_test_sparse1)"
   ]
  },
  {
   "cell_type": "markdown",
   "metadata": {},
   "source": [
    "Лучшие значения (которые больше, чем ROC AUC для модели без признаков) показали признаки day, morning"
   ]
  },
  {
   "cell_type": "markdown",
   "metadata": {},
   "source": [
    "В обучении будем использовать признаки: weekend, org_count, month, evening, unique, day, morning, top10. Данная модель должна наиболее точно идентифицировать Элис"
   ]
  },
  {
   "cell_type": "code",
   "execution_count": 33,
   "metadata": {},
   "outputs": [],
   "source": [
    "train_test_sparse1 = hstack((train_test_sparse, np.array(train_test_df_sites['evening'])[:,None],\n",
    "                             np.array(train_test_df_sites['month'])[:,None],\n",
    "                             np.array(train_test_df_sites['unique'])[:,None],\n",
    "                             np.array(train_test_df_sites['weekend'])[:,None],\n",
    "                             np.array(train_test_df_sites['day'])[:,None],\n",
    "                             np.array(train_test_df_sites['org_count'])[:,None],\n",
    "                             np.array(train_test_df_sites['top10'])[:,None],\n",
    "                             np.array(train_test_df_sites['morning'])[:,None]),\n",
    "                             format= 'csr')\n"
   ]
  },
  {
   "cell_type": "code",
   "execution_count": 34,
   "metadata": {},
   "outputs": [
    {
     "name": "stdout",
     "output_type": "stream",
     "text": [
      "0.961\n"
     ]
    }
   ],
   "source": [
    "sgd_logit(train_test_sparse=train_test_sparse1)"
   ]
  },
  {
   "cell_type": "markdown",
   "metadata": {},
   "source": [
    "## Обучение модели"
   ]
  },
  {
   "cell_type": "markdown",
   "metadata": {},
   "source": [
    "Для кросс-валидации будем использовать TimeSeriesSplit, так как данные распределены по времени"
   ]
  },
  {
   "cell_type": "code",
   "execution_count": 35,
   "metadata": {},
   "outputs": [],
   "source": [
    "time_split = TimeSeriesSplit(n_splits=10)"
   ]
  },
  {
   "cell_type": "markdown",
   "metadata": {},
   "source": [
    "Разобъем данные обратно на обучение и тест"
   ]
  },
  {
   "cell_type": "code",
   "execution_count": 36,
   "metadata": {},
   "outputs": [],
   "source": [
    "X_train_sparse = train_test_sparse1[:253561]\n",
    "X_test_sparse = train_test_sparse1[253561:]"
   ]
  },
  {
   "cell_type": "markdown",
   "metadata": {},
   "source": [
    "Обучим модель и подберем параметр альфа"
   ]
  },
  {
   "cell_type": "code",
   "execution_count": 37,
   "metadata": {},
   "outputs": [
    {
     "name": "stdout",
     "output_type": "stream",
     "text": [
      "8e-05\n"
     ]
    }
   ],
   "source": [
    "sgd_logit = SGDClassifier(loss=\"log\", random_state=17, n_jobs=-1)\n",
    "\n",
    "sgd_params = {'alpha': [0.00001, 0.00002, 0.00004, 0.00006, 0.00008, 0.0001]}\n",
    "sgd_grid = GridSearchCV(sgd_logit,sgd_params,cv=time_split, scoring='roc_auc')\n",
    "sgd_grid.fit(X_train_sparse, y)\n",
    "alpha=sgd_grid.best_params_[\"alpha\"]\n",
    "print(alpha)"
   ]
  },
  {
   "cell_type": "markdown",
   "metadata": {},
   "source": [
    "Построим кривые валидации"
   ]
  },
  {
   "cell_type": "code",
   "execution_count": 40,
   "metadata": {},
   "outputs": [],
   "source": [
    "def plot_validation_curves(param_values, grid_cv_results_):\n",
    "    train_mu, train_std = grid_cv_results_['mean_train_score'], grid_cv_results_['std_train_score']\n",
    "    valid_mu, valid_std = grid_cv_results_['mean_test_score'], grid_cv_results_['std_test_score']\n",
    "    train_line = plt.plot(param_values, train_mu, '-', label='train', color='green')\n",
    "    valid_line = plt.plot(param_values, valid_mu, '-', label='test', color='red')\n",
    "    plt.fill_between(param_values, train_mu - train_std, train_mu + train_std, edgecolor='none',\n",
    "                     facecolor=train_line[0].get_color(), alpha=0.2)\n",
    "    plt.fill_between(param_values, valid_mu - valid_std, valid_mu + valid_std, edgecolor='none',\n",
    "                     facecolor=valid_line[0].get_color(), alpha=0.2)\n",
    "    plt.legend()"
   ]
  },
  {
   "cell_type": "code",
   "execution_count": 41,
   "metadata": {},
   "outputs": [
    {
     "data": {
      "image/png": "[encoded data removed]",
      "text/plain": [
       "<matplotlib.figure.Figure at 0x233cf5c0>"
      ]
     },
     "metadata": {},
     "output_type": "display_data"
    }
   ],
   "source": [
    "plot_validation_curves(sgd_params['alpha'], sgd_grid.cv_results_)"
   ]
  },
  {
   "cell_type": "markdown",
   "metadata": {},
   "source": [
    "Тестовые значение получились достаточно высокие. С ростом качества при обучении, качество модели на тесте тоже увеличивается."
   ]
  },
  {
   "cell_type": "markdown",
   "metadata": {},
   "source": [
    "Постороим кривые обучения"
   ]
  },
  {
   "cell_type": "code",
   "execution_count": 42,
   "metadata": {},
   "outputs": [],
   "source": [
    "from sklearn.model_selection import learning_curve\n",
    "\n",
    "def plot_learning_curve(val_train, val_test, train_sizes, \n",
    "                        xlabel='Training Set Size', ylabel='score'):\n",
    "    def plot_with_err(x, data, **kwargs):\n",
    "        mu, std = data.mean(1), data.std(1)\n",
    "        lines = plt.plot(x, mu, '-', **kwargs)\n",
    "        plt.fill_between(x, mu - std, mu + std, edgecolor='none',\n",
    "                         facecolor=lines[0].get_color(), alpha=0.2)\n",
    "    plot_with_err(train_sizes, val_train, label='train')\n",
    "    plot_with_err(train_sizes, val_test, label='valid')\n",
    "    plt.xlabel(xlabel); plt.ylabel(ylabel)\n",
    "    plt.legend(loc='lower right');"
   ]
  },
  {
   "cell_type": "code",
   "execution_count": 43,
   "metadata": {},
   "outputs": [
    {
     "name": "stdout",
     "output_type": "stream",
     "text": [
      "Wall time: 34.6 s\n"
     ]
    }
   ],
   "source": [
    "%%time\n",
    "train_sizes = np.linspace(0.25, 1, 20)\n",
    "estimator = sgd_grid.best_estimator_\n",
    "n_train, val_train, val_test = learning_curve (estimator, \n",
    "                                              X_train_sparse, y, \n",
    "                                              train_sizes=train_sizes, \n",
    "                                              cv=time_split, \n",
    "                                              n_jobs=-1)"
   ]
  },
  {
   "cell_type": "code",
   "execution_count": 44,
   "metadata": {},
   "outputs": [
    {
     "data": {
      "image/png": "[encoded data removed]",
      "text/plain": [
       "<matplotlib.figure.Figure at 0x23677400>"
      ]
     },
     "metadata": {},
     "output_type": "display_data"
    }
   ],
   "source": [
    "plot_learning_curve(val_train, val_test, n_train, \n",
    "                    xlabel='train_size', ylabel='roc_auc')"
   ]
  },
  {
   "cell_type": "markdown",
   "metadata": {},
   "source": [
    "Мы видим два ухудшения качества модели, но в целом на больших данных модель также показывает хорошие результаты."
   ]
  },
  {
   "cell_type": "markdown",
   "metadata": {},
   "source": [
    "Предскажем значения для тестовой выборки"
   ]
  },
  {
   "cell_type": "code",
   "execution_count": 45,
   "metadata": {},
   "outputs": [],
   "source": [
    "test_pred = sgd_grid.predict_proba(X_test_sparse)"
   ]
  },
  {
   "cell_type": "markdown",
   "metadata": {},
   "source": [
    "Результат ROC AUC, полученный для тестовой выборки, равен 0.94604 (то есть результат полученный на лидерборде соревнования на Kaggle)"
   ]
  },
  {
   "cell_type": "markdown",
   "metadata": {},
   "source": [
    "**Качество модели получилось достаточно хорошее. Задачи данного типа встречаются в практике достаточно часто. Например, компания Яндекс решает такого типа задачу для идентификации взломщика почтового ящика по его поведению. То есть, взломщик будет себя вести не так, как владелец ящика: он может не удалять сообщения сразу по прочтении, как это делал хозяин, он будет по-другому ставить флажки сообщениям и даже по-своему двигать мышкой. Поэтому необходимо максимально точно идентифицировать пользователей**"
   ]
  },
  {
   "cell_type": "markdown",
   "metadata": {},
   "source": [
    "**Для улучшения качества модели можно поробовать использовать LogisticRegression, которая обрабатывает данные гораздо дольше, чем SGDClassifier. Еще можно попробовать создать признаки связанные со временем (продолжительность сессии; сайт, на котором пользователь больше всего проводит времени за сессию и тд)**"
   ]
  }
 ],
 "metadata": {
  "kernelspec": {
   "display_name": "Python 2",
   "language": "python",
   "name": "python2"
  },
  "language_info": {
   "codemirror_mode": {
    "name": "ipython",
    "version": 2
   },
   "file_extension": ".py",
   "mimetype": "text/x-python",
   "name": "python",
   "nbconvert_exporter": "python",
   "pygments_lexer": "ipython2",
   "version": "2.7.14"
  }
 },
 "nbformat": 4,
 "nbformat_minor": 1
}
