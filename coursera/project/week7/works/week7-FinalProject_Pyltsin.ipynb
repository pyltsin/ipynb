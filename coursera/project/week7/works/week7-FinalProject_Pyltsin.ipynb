{
 "cells": [
  {
   "cell_type": "markdown",
   "metadata": {},
   "source": [
    "<center>\n",
    "<img src=\"https://habrastorage.org/web/677/8e1/337/6778e1337c3d4b159d7e99df94227cb2.jpg\"/>\n",
    "## Специализация \"Машинное обучение и анализ данных\"\n",
    "</center>\n"
   ]
  },
  {
   "cell_type": "markdown",
   "metadata": {},
   "source": [
    "# <center> Capstone проект №1. Идентификация пользователей по посещенным веб-страницам\n",
    "\n",
    "# <center> Неделя 7.  Отчет о выполненном проекте\n",
    "\n",
    "**План 7 недели:**\n",
    "- цели и задачи проекта, описание исходных и обработанных данных и признаков.\n",
    "- первичный анализ признаков\n",
    "- первичный визуальный анализ признаков\n",
    "- описание предобработки данных\n",
    "- если создаются признаки, то описание этого процесса\n",
    "- кросс-валидация, построение кривых валидации и обучения\n",
    "- оценка модели с описанием выбранной метрики. Опишите простыми словами качество модели, как она может применяться\n",
    "- выводы: как построенная модель может применяться на практике, какие бизнес-задачи решать. Подведите итог, опишите, что еще можно сделать, а что сделать не удалось."
   ]
  },
  {
   "cell_type": "markdown",
   "metadata": {},
   "source": [
    "# Цели и задачи проекта\n",
    "Описание исходных и обработанных данных и признаков."
   ]
  },
  {
   "cell_type": "markdown",
   "metadata": {},
   "source": [
    "В этом соревновании будем решать похожую задачу: алгоритм будет анализировать последовательность из нескольких веб-сайтов, посещенных подряд одним и тем же человеком, и определять, Элис это или взломщик (кто-то другой).\n",
    "\n",
    "Данные собраны с прокси-серверов Университета Блеза Паскаля. \"A Tool for Classification of Sequential Data\", авторы Giacomo Kahn, Yannick Loiseau и Olivier Raynaud.\n",
    "\n"
   ]
  },
  {
   "cell_type": "markdown",
   "metadata": {},
   "source": [
    "## Загрузим тренировочные и тестовые данные"
   ]
  },
  {
   "cell_type": "code",
   "execution_count": 1,
   "metadata": {
    "collapsed": true
   },
   "outputs": [],
   "source": [
    "import os\n",
    "import pandas as pd\n",
    "import numpy as np\n",
    "from scipy.sparse import csr_matrix\n",
    "from sklearn.linear_model import LogisticRegression, SGDClassifier\n",
    "from sklearn.preprocessing import LabelEncoder\n",
    "from datetime import datetime\n",
    "from matplotlib import pyplot as plt"
   ]
  },
  {
   "cell_type": "code",
   "execution_count": 3,
   "metadata": {
    "collapsed": true
   },
   "outputs": [],
   "source": [
    "# Поменяйте на свой путь к данным\n",
    "PATH_TO_DATA = (r'C:\\Users\\1\\projects\\ipynb\\coursera\\project\\week7\\works\\capstone_user_identification')"
   ]
  },
  {
   "cell_type": "code",
   "execution_count": 5,
   "metadata": {
    "collapsed": true
   },
   "outputs": [],
   "source": [
    "train_df = pd.read_csv(os.path.join(PATH_TO_DATA,'train_sessions.csv'), \n",
    "                           index_col='session_id')"
   ]
  },
  {
   "cell_type": "code",
   "execution_count": 6,
   "metadata": {
    "collapsed": true
   },
   "outputs": [],
   "source": [
    "test_df = pd.read_csv(os.path.join(PATH_TO_DATA,'test_sessions.csv'), \n",
    "                           index_col='session_id')"
   ]
  },
  {
   "cell_type": "markdown",
   "metadata": {},
   "source": [
    "Объединим тренировочную и тестовые выборки"
   ]
  },
  {
   "cell_type": "code",
   "execution_count": 7,
   "metadata": {
    "collapsed": true
   },
   "outputs": [
    {
     "name": "stderr",
     "output_type": "stream",
     "text": [
      "C:\\ProgramData\\Anaconda3\\lib\\site-packages\\ipykernel_launcher.py:1: FutureWarning: Sorting because non-concatenation axis is not aligned. A future version\n",
      "of pandas will change to not sort by default.\n",
      "\n",
      "To accept the future behavior, pass 'sort=False'.\n",
      "\n",
      "To retain the current behavior and silence the warning, pass 'sort=True'.\n",
      "\n",
      "  \"\"\"Entry point for launching an IPython kernel.\n"
     ]
    }
   ],
   "source": [
    "train_test_df = pd.concat([train_df, test_df])"
   ]
  },
  {
   "cell_type": "code",
   "execution_count": 8,
   "metadata": {
    "collapsed": true
   },
   "outputs": [],
   "source": [
    "train_test_df_sites = train_test_df[['site%d' % i for i in range(1, 11)]].fillna(0).astype('int')"
   ]
  },
  {
   "cell_type": "markdown",
   "metadata": {},
   "source": [
    "### Выделим переменные"
   ]
  },
  {
   "cell_type": "code",
   "execution_count": 9,
   "metadata": {},
   "outputs": [
    {
     "name": "stderr",
     "output_type": "stream",
     "text": [
      "C:\\ProgramData\\Anaconda3\\lib\\site-packages\\ipykernel_launcher.py:15: FutureWarning: Method .as_matrix will be removed in a future version. Use .values instead.\n",
      "  from ipykernel import kernelapp as app\n",
      "C:\\ProgramData\\Anaconda3\\lib\\site-packages\\ipykernel_launcher.py:18: FutureWarning: Method .as_matrix will be removed in a future version. Use .values instead.\n"
     ]
    }
   ],
   "source": [
    "def create_csr_matrix(data):\n",
    "    indexes = [0]\n",
    "    vals = []\n",
    "    column_indexes = []\n",
    "    index = 0\n",
    "    for i in range(0,data.shape[0]):\n",
    "        for j in range(0, data.shape[1]):\n",
    "            if data[i,j] != 0:\n",
    "                column_indexes.append(data[i,j])\n",
    "                vals.append(1)\n",
    "                index+=1\n",
    "        indexes.append(index)\n",
    "    return csr_matrix((vals, column_indexes, indexes))[:,1:]\n",
    "\n",
    "train_test_sparse = create_csr_matrix(train_test_df_sites.as_matrix())\n",
    "X_train_sparse = train_test_sparse[:253561]\n",
    "X_test_sparse = train_test_sparse[253561:]\n",
    "y = train_df['target'].as_matrix()"
   ]
  },
  {
   "cell_type": "code",
   "execution_count": 10,
   "metadata": {
    "collapsed": true
   },
   "outputs": [],
   "source": [
    "enriched_df = pd.DataFrame()"
   ]
  },
  {
   "cell_type": "code",
   "execution_count": 11,
   "metadata": {},
   "outputs": [
    {
     "name": "stdout",
     "output_type": "stream",
     "text": [
      "Wall time: 18.2 s\n"
     ]
    }
   ],
   "source": [
    "%%time\n",
    "enriched_df['#uniqe_sites'] = train_test_df_sites.apply(lambda x: len(np.unique(x[:10])), axis=1)"
   ]
  },
  {
   "cell_type": "code",
   "execution_count": 12,
   "metadata": {},
   "outputs": [
    {
     "name": "stdout",
     "output_type": "stream",
     "text": [
      "Wall time: 19.2 s\n"
     ]
    }
   ],
   "source": [
    "%%time\n",
    "counter = train_test_df_sites.stack().value_counts()\n",
    "top_sites = counter[1:50].index\n",
    "def count_popular(row):\n",
    "    return len(set(row[:10]) & set(top_sites))\n",
    "\n",
    "enriched_df['top_sites_visited'] = train_test_df_sites.apply(count_popular, axis=1)"
   ]
  },
  {
   "cell_type": "code",
   "execution_count": 13,
   "metadata": {},
   "outputs": [
    {
     "name": "stdout",
     "output_type": "stream",
     "text": [
      "Wall time: 7.29 s\n"
     ]
    }
   ],
   "source": [
    "%%time\n",
    "def get_start_hour(x):\n",
    "    return datetime.strptime(x[0], \"%Y-%m-%d %H:%M:%S\").hour\n",
    "\n",
    "enriched_df['start_hour'] = train_test_df[['time1']].apply(get_start_hour, axis=1)"
   ]
  },
  {
   "cell_type": "code",
   "execution_count": 14,
   "metadata": {},
   "outputs": [
    {
     "name": "stdout",
     "output_type": "stream",
     "text": [
      "Wall time: 7.41 s\n"
     ]
    }
   ],
   "source": [
    "%%time\n",
    "def get_start_day_of_week(x):\n",
    "    return datetime.strptime(x[0], \"%Y-%m-%d %H:%M:%S\").weekday()\n",
    "enriched_df['day_of_week'] = train_test_df[['time1']].apply(get_start_day_of_week, axis=1)"
   ]
  },
  {
   "cell_type": "code",
   "execution_count": 15,
   "metadata": {},
   "outputs": [
    {
     "name": "stdout",
     "output_type": "stream",
     "text": [
      "Wall time: 16.4 s\n"
     ]
    }
   ],
   "source": [
    "%%time\n",
    "def get_session_timespan(row):\n",
    "    start_time = row[0];\n",
    "    end_time = row[0];\n",
    "    for r in row:\n",
    "        if r == 0:\n",
    "            continue\n",
    "        end_time = r\n",
    "    start_time = datetime.strptime(start_time, \"%Y-%m-%d %H:%M:%S\")\n",
    "    end_time = datetime.strptime(end_time, \"%Y-%m-%d %H:%M:%S\")\n",
    "    return (end_time - start_time).total_seconds()\n",
    "\n",
    "enriched_df['ses_timespan'] = train_test_df[['time%d' % i for i in range(1, 11)]].fillna(0).apply(get_session_timespan, axis=1)"
   ]
  },
  {
   "cell_type": "code",
   "execution_count": 16,
   "metadata": {},
   "outputs": [
    {
     "name": "stdout",
     "output_type": "stream",
     "text": [
      "Wall time: 1min 3s\n"
     ]
    }
   ],
   "source": [
    "%%time\n",
    "def get_visits_time(row):\n",
    "    start_time = row[0];\n",
    "    end_time = row[0];\n",
    "    res = []\n",
    "    for r in row:\n",
    "        if r == 0:\n",
    "            break\n",
    "        start_time = end_time\n",
    "        end_time = r\n",
    "        s_time = datetime.strptime(start_time, \"%Y-%m-%d %H:%M:%S\")\n",
    "        e_time = datetime.strptime(end_time, \"%Y-%m-%d %H:%M:%S\")\n",
    "        res.append((e_time - s_time).total_seconds())\n",
    "    while(len(res) < 10):\n",
    "        res.append(0)\n",
    "    return res[1],res[2],res[3],res[4],res[5],res[6],res[7],res[8],res[9]\n",
    "\n",
    "temp = list(zip(*train_test_df[['time%d' % i for i in range(1, 11)]].fillna(0).apply(get_visits_time, axis=1)))\n",
    "for i, c in enumerate(['time_diff%d' % i for i in range(1, 10)]):\n",
    "    enriched_df[c] = temp[i]"
   ]
  },
  {
   "cell_type": "code",
   "execution_count": 17,
   "metadata": {
    "collapsed": true
   },
   "outputs": [
    {
     "data": {
      "image/png": "[encoded data removed]",
      "text/plain": [
       "<Figure size 1296x864 with 15 Axes>"
      ]
     },
     "metadata": {
      "needs_background": "light"
     },
     "output_type": "display_data"
    }
   ],
   "source": [
    "fig, axes = plt.subplots(nrows=5, ncols=3, figsize=(18, 12))\n",
    "\n",
    "for idx, colname in  enumerate(enriched_df.columns): \n",
    "    ax = axes[int(idx/3)][idx%3]\n",
    "    ax.hist(enriched_df[colname])\n",
    "    ax.set_label(colname)\n",
    "    ax.legend([colname])"
   ]
  },
  {
   "cell_type": "code",
   "execution_count": 18,
   "metadata": {
    "collapsed": true
   },
   "outputs": [
    {
     "name": "stderr",
     "output_type": "stream",
     "text": [
      "C:\\ProgramData\\Anaconda3\\lib\\site-packages\\ipykernel_launcher.py:2: FutureWarning: Method .as_matrix will be removed in a future version. Use .values instead.\n",
      "  \n",
      "C:\\ProgramData\\Anaconda3\\lib\\site-packages\\ipykernel_launcher.py:3: FutureWarning: Method .as_matrix will be removed in a future version. Use .values instead.\n",
      "  This is separate from the ipykernel package so we can avoid doing imports until\n"
     ]
    }
   ],
   "source": [
    "from scipy.sparse import hstack\n",
    "enriched_train = enriched_df.as_matrix()[:253561]\n",
    "enriched_test = enriched_df.as_matrix()[253561:]\n",
    "enriched_train_sparse = csr_matrix(enriched_train)\n",
    "enriched_test_sparse = csr_matrix(enriched_test)\n",
    "\n",
    "X_train_sparse_with_new = csr_matrix(hstack([X_train_sparse, enriched_train_sparse]))\n",
    "X_test_sparse_with_new = csr_matrix(hstack([X_test_sparse, enriched_test_sparse]))"
   ]
  },
  {
   "cell_type": "markdown",
   "metadata": {},
   "source": [
    "### Сохраним полученные результаты в файл"
   ]
  },
  {
   "cell_type": "code",
   "execution_count": 19,
   "metadata": {
    "collapsed": true
   },
   "outputs": [],
   "source": [
    "import pickle"
   ]
  },
  {
   "cell_type": "code",
   "execution_count": 20,
   "metadata": {},
   "outputs": [],
   "source": [
    "with open(os.path.join(PATH_TO_DATA, \n",
    "                       'X_train_sparse_vit.pkl'), 'wb') as X_pkl:\n",
    "                pickle.dump(X_train_sparse_with_new, X_pkl, protocol=2)\n",
    "with open(os.path.join(PATH_TO_DATA, \n",
    "                       'X_test_sparse_vit.pkl'), 'wb') as X_pkl:\n",
    "                pickle.dump(X_test_sparse_with_new, X_pkl, protocol=2)"
   ]
  },
  {
   "cell_type": "code",
   "execution_count": 21,
   "metadata": {},
   "outputs": [],
   "source": [
    "X_train_sparse_with_new =  pickle.load(open(os.path.join(PATH_TO_DATA, 'X_train_sparse_vit.pkl'), 'rb')) \n",
    "X_test_sparse_vit =  pickle.load(open(os.path.join(PATH_TO_DATA, 'X_test_sparse_vit.pkl'), 'rb')) "
   ]
  },
  {
   "cell_type": "code",
   "execution_count": 22,
   "metadata": {},
   "outputs": [],
   "source": [
    "X_train_sparse = X_train_sparse_with_new\n",
    "X_test_sparse = X_test_sparse_vit\n",
    "y = train_df['target']"
   ]
  },
  {
   "cell_type": "markdown",
   "metadata": {},
   "source": [
    "# Проанализируем основные признаки"
   ]
  },
  {
   "cell_type": "markdown",
   "metadata": {},
   "source": [
    "# Визуализируем распределения основных признаков\n",
    "## Искомые классы"
   ]
  },
  {
   "cell_type": "code",
   "execution_count": 34,
   "metadata": {
    "collapsed": true
   },
   "outputs": [],
   "source": [
    "%matplotlib inline\n",
    "from matplotlib import pyplot as plt"
   ]
  },
  {
   "cell_type": "code",
   "execution_count": 36,
   "metadata": {},
   "outputs": [
    {
     "data": {
      "image/png": "[encoded data removed]",
      "text/plain": [
       "<matplotlib.figure.Figure at 0x11ddc25c0>"
      ]
     },
     "metadata": {},
     "output_type": "display_data"
    }
   ],
   "source": [
    "n, bins, patches = plt.hist(y, 2, facecolor='aqua', alpha=0.75)\n",
    "\n",
    "plt.xlabel('Число искомых классов')\n",
    "plt.ylabel('Вероятность')\n",
    "plt.grid(True)\n",
    "\n",
    "plt.show()"
   ]
  },
  {
   "cell_type": "markdown",
   "metadata": {},
   "source": [
    "Вывод: искомые классы в обучающей выборке сильно не сбалансированы"
   ]
  },
  {
   "cell_type": "markdown",
   "metadata": {},
   "source": [
    "## Создание новых признаков"
   ]
  },
  {
   "cell_type": "code",
   "execution_count": 29,
   "metadata": {},
   "outputs": [],
   "source": [
    "features = ['unique', 'site_max_count', 'com_count', 'fr_count',\n",
    "            'org_count', 'net_count', 'hour', 'dayofweek', 'month', 'year', 'weekend']"
   ]
  },
  {
   "cell_type": "markdown",
   "metadata": {},
   "source": [
    "Создание признаков:\n",
    "- unique - количество уникальных сайтов за сессию\n",
    "- site_max_count - сайт наиболее часто встречающийся за сессию (если таких несколько, то первый из них)\n",
    "- com_count - количество сайтов за сессию с расширением .com\n",
    "- org_count - количество сайтов за сессию с расширением .org\n",
    "- fr_count - количество сайтов за сессию с расширением .fr\n",
    "- net_count - количество сайтов за сессию с расширением .net\n",
    "- hour - время начала сессии (утро, день, вечер, ночь)\n",
    "- dayofwee - день недели начала сессии\n",
    "- month - месяц начала сессии\n",
    "- year - год начала сессии\n",
    "- weekend - относится ли день начала сессии к выходному дню"
   ]
  },
  {
   "cell_type": "code",
   "execution_count": 34,
   "metadata": {},
   "outputs": [],
   "source": [
    "from tqdm import tqdm"
   ]
  },
  {
   "cell_type": "code",
   "execution_count": 35,
   "metadata": {},
   "outputs": [
    {
     "name": "stderr",
     "output_type": "stream",
     "text": [
      "100%|██████████| 336358/336358 [00:03<00:00, 103748.21it/s]\n"
     ]
    }
   ],
   "source": [
    "site_max_count=[]\n",
    "unique=[]\n",
    "for k in tqdm(range(len(train_test_df_sites.values))):  \n",
    "    s = list(train_test_df_sites.values[k])\n",
    "    t=set(s)\n",
    "    t-={0}\n",
    "    unique.append(len(t))\n",
    "    m = None\n",
    "    q_max = 0\n",
    "    for item in set(s):\n",
    "        q = s.count(item)\n",
    "        if q > q_max:\n",
    "            q_max = q\n",
    "            m = item\n",
    "    site_max_count.append(m)"
   ]
  },
  {
   "cell_type": "code",
   "execution_count": 44,
   "metadata": {},
   "outputs": [
    {
     "data": {
      "text/plain": [
       "11"
      ]
     },
     "execution_count": 44,
     "metadata": {},
     "output_type": "execute_result"
    }
   ],
   "source": [
    "t = pd.to_datetime(train_test_df['time1'])\n",
    "t.iloc[1].hour"
   ]
  },
  {
   "cell_type": "code",
   "execution_count": 45,
   "metadata": {},
   "outputs": [
    {
     "name": "stderr",
     "output_type": "stream",
     "text": [
      "100%|██████████| 336358/336358 [00:10<00:00, 31669.14it/s]\n"
     ]
    }
   ],
   "source": [
    "t = pd.to_datetime(train_test_df['time1'])\n",
    "hour=[]\n",
    "for i in tqdm(range(len(t))):\n",
    "    if ((t.iloc[i].hour >= 6) & (t.iloc[i].hour <= 11)):\n",
    "        hour.append(1)\n",
    "    else:\n",
    "        if ((t.iloc[i].hour >= 12) & (t.iloc[i].hour <= 18)):\n",
    "            hour.append(2)\n",
    "        else:\n",
    "            if ((t.iloc[i].hour >= 19) & (t.iloc[i].hour <= 23)):\n",
    "                hour.append(3)\n",
    "            else:\n",
    "                hour.append(4)\n",
    "                    "
   ]
  },
  {
   "cell_type": "code",
   "execution_count": 46,
   "metadata": {},
   "outputs": [
    {
     "name": "stderr",
     "output_type": "stream",
     "text": [
      "100%|██████████| 336358/336358 [00:10<00:00, 32503.71it/s]\n"
     ]
    }
   ],
   "source": [
    "dayofweek=[]\n",
    "month=[]\n",
    "year=[]\n",
    "for i in tqdm(range(len(t))):\n",
    "    dayofweek.append(t.iloc[i].dayofweek)\n",
    "    month.append(t.iloc[i].month)\n",
    "    year.append(t.iloc[i].year)\n"
   ]
  },
  {
   "cell_type": "code",
   "execution_count": 47,
   "metadata": {},
   "outputs": [],
   "source": [
    "weekend=[]\n",
    "for i in dayofweek:\n",
    "    if i >5:\n",
    "        weekend.append(1)\n",
    "    else:\n",
    "        weekend.append(0)"
   ]
  },
  {
   "cell_type": "code",
   "execution_count": 49,
   "metadata": {},
   "outputs": [],
   "source": [
    "with open(os.path.join(PATH_TO_DATA, 'site_dic.pkl'), 'rb') as s:\n",
    "        d = pickle.load(s)"
   ]
  },
  {
   "cell_type": "code",
   "execution_count": 50,
   "metadata": {},
   "outputs": [],
   "source": [
    "tts = train_test_df_sites.values\n",
    "d1 = {v:k for k, v in d.items()}\n",
    "d1[0]=0"
   ]
  },
  {
   "cell_type": "code",
   "execution_count": 51,
   "metadata": {},
   "outputs": [
    {
     "name": "stderr",
     "output_type": "stream",
     "text": [
      "100%|██████████| 336358/336358 [00:04<00:00, 76099.10it/s]\n"
     ]
    }
   ],
   "source": [
    "r = []  \n",
    "for k in tqdm(range(len(tts))):  \n",
    "    for i in range(10):\n",
    "        if d1[tts[k][i]] != 0:\n",
    "              r.append(d1[tts[k][i]].split('.')[-1])\n",
    "        else:\n",
    "              r.append(0)   "
   ]
  },
  {
   "cell_type": "code",
   "execution_count": 52,
   "metadata": {},
   "outputs": [],
   "source": [
    "r = np.array(r).reshape((336358, 10))"
   ]
  },
  {
   "cell_type": "code",
   "execution_count": 53,
   "metadata": {},
   "outputs": [
    {
     "name": "stderr",
     "output_type": "stream",
     "text": [
      "100%|██████████| 336358/336358 [00:04<00:00, 78609.39it/s]\n"
     ]
    }
   ],
   "source": [
    "com_count = []\n",
    "fr_count = []\n",
    "org_count = []\n",
    "net_count = []\n",
    "for i in tqdm(range(len(r))):\n",
    "    com_count.append(list(r[i]).count('com'))\n",
    "    fr_count.append(list(r[i]).count('fr'))\n",
    "    org_count.append(list(r[i]).count('org'))\n",
    "    net_count.append(list(r[i]).count('net'))\n"
   ]
  },
  {
   "cell_type": "code",
   "execution_count": 54,
   "metadata": {},
   "outputs": [],
   "source": [
    "train_test_df_sites['com_count']=com_count\n",
    "train_test_df_sites['fr_count']=fr_count\n",
    "train_test_df_sites['org_count']=org_count\n",
    "train_test_df_sites['net_count']=net_count\n",
    "train_test_df_sites['unique']=unique\n",
    "train_test_df_sites['site_max_count']=site_max_count\n",
    "train_test_df_sites['hour']=hour\n",
    "train_test_df_sites['dayofweek']=dayofweek\n",
    "train_test_df_sites['month']=month\n",
    "train_test_df_sites['year']=year\n",
    "train_test_df_sites['weekend']=weekend\n"
   ]
  },
  {
   "cell_type": "code",
   "execution_count": 55,
   "metadata": {},
   "outputs": [],
   "source": [
    "def ftr_unique_sites(row):\n",
    "    sites=row[['site1', 'site2', 'site3', 'site4','site5', 'site6','site7', 'site8','site9', 'site10']]\n",
    "    return len(np.unique(sites))\n",
    "\n",
    "def ftr_session_timespan(row):\n",
    "    time_start= datetime.strptime(row['time1'], '%Y-%m-%d %H:%M:%S')\n",
    "    time_end=row['time10']\n",
    "    if (str(time_end)=='nan'):\n",
    "        res=30*60\n",
    "    else:  \n",
    "        time_end= datetime.strptime(row['time10'], '%Y-%m-%d %H:%M:%S')\n",
    "        res=(time_end-time_start).total_seconds()\n",
    "    return int(res)\n",
    "\n",
    "def ftr_from_time(row, time1, time10):\n",
    "    time_start=row[time10]\n",
    "    if (str(time_start)=='nan'):\n",
    "        res=30*60\n",
    "    else:  \n",
    "        time_start= datetime.strptime(row[time1], '%Y-%m-%d %H:%M:%S')\n",
    "        \n",
    "    time_end=row[time10]\n",
    "    if (str(time_end)=='nan'):\n",
    "        res=30*60\n",
    "    else:  \n",
    "        time_end= datetime.strptime(row[time10], '%Y-%m-%d %H:%M:%S')\n",
    "        res=(time_end-time_start).total_seconds()\n",
    "    return int(res)\n",
    "\n",
    "def ftr_session_timespan(row):\n",
    "    return ftr_from_time(row, 'time1', 'time10')\n",
    "\n",
    "def ftr_mean_site_session(row):\n",
    "    lst = []\n",
    "    for i in range(1, 10):\n",
    "        n = ftr_from_time(row, 'time' + str(i), 'time'  + str(i+1))\n",
    "        if(n!=0):\n",
    "            lst.append(n)\n",
    "    if(len(lst)==0):\n",
    "        lst.append(0)\n",
    "    return np.mean(lst)"
   ]
  },
  {
   "cell_type": "code",
   "execution_count": 56,
   "metadata": {},
   "outputs": [],
   "source": [
    "def gen_features(df):\n",
    "    newdf=pd.DataFrame(index=df.index)\n",
    "    newdf['session_timespan']=df.apply(ftr_session_timespan, axis=1)\n",
    "    newdf['unique_sites']=df.apply(ftr_unique_sites, axis=1)\n",
    "    newdf['mean_site_sessio']=df.apply(ftr_mean_site_session, axis=1) \n",
    "    return newdf"
   ]
  },
  {
   "cell_type": "code",
   "execution_count": 57,
   "metadata": {},
   "outputs": [],
   "source": [
    "additional=gen_features(train_df)\n"
   ]
  },
  {
   "cell_type": "code",
   "execution_count": 58,
   "metadata": {},
   "outputs": [
    {
     "name": "stdout",
     "output_type": "stream",
     "text": [
      "2.0 1800.0\n"
     ]
    }
   ],
   "source": [
    "q95 = additional.session_timespan.quantile(.95)\n",
    "q05 = additional.session_timespan.quantile(.05)\n",
    "print (q05,q95)\n",
    "additional['session_timespan_filtered'] = additional['session_timespan'].apply(lambda x: filter_perc(q95, q05, x))\n",
    "additional = additional.fillna(0)"
   ]
  },
  {
   "cell_type": "code",
   "execution_count": 59,
   "metadata": {},
   "outputs": [
    {
     "name": "stderr",
     "output_type": "stream",
     "text": [
      "C:\\ProgramData\\Anaconda3\\lib\\site-packages\\matplotlib\\axes\\_axes.py:6521: MatplotlibDeprecationWarning: \n",
      "The 'normed' kwarg was deprecated in Matplotlib 2.1 and will be removed in 3.1. Use 'density' instead.\n",
      "  alternative=\"'density'\", removal=\"3.1\")\n"
     ]
    },
    {
     "data": {
      "image/png": "[encoded data removed]",
      "text/plain": [
       "<Figure size 432x288 with 1 Axes>"
      ]
     },
     "metadata": {
      "needs_background": "light"
     },
     "output_type": "display_data"
    }
   ],
   "source": [
    "n, bins, patches = plt.hist(additional['session_timespan_filtered'], 50, normed=1, facecolor='darkviolet', alpha=0.75)\n",
    "\n",
    "plt.xlabel('Продолжительность сессии (секунды)')\n",
    "plt.ylabel('Вероятность')\n",
    "plt.grid(True)\n",
    "\n",
    "plt.show()\n"
   ]
  },
  {
   "cell_type": "markdown",
   "metadata": {},
   "source": [
    "Вывод: большиство сессий имеют продолжительность меньше 1.5 минут."
   ]
  },
  {
   "cell_type": "code",
   "execution_count": null,
   "metadata": {},
   "outputs": [],
   "source": []
  },
  {
   "cell_type": "markdown",
   "metadata": {},
   "source": [
    "##  Распределение числа уникальных сайтов в сессии"
   ]
  },
  {
   "cell_type": "code",
   "execution_count": 60,
   "metadata": {},
   "outputs": [
    {
     "data": {
      "image/png": "[encoded data removed]",
      "text/plain": [
       "<Figure size 432x288 with 1 Axes>"
      ]
     },
     "metadata": {
      "needs_background": "light"
     },
     "output_type": "display_data"
    }
   ],
   "source": [
    "n, bins, patches = plt.hist(additional['unique_sites'], 10, normed=1, facecolor='aqua', alpha=0.75)\n",
    "\n",
    "plt.xlabel('Число уникальных сайтов в сессии')\n",
    "plt.ylabel('Вероятность')\n",
    "plt.axis([0, 10, 0, 0.2])\n",
    "plt.grid(True)\n",
    "\n",
    "plt.show()"
   ]
  },
  {
   "cell_type": "markdown",
   "metadata": {},
   "source": [
    "Вывод: в среднем число уникальных сайтов в сессии из 10 сайтов составляет 6-7 штук."
   ]
  },
  {
   "cell_type": "markdown",
   "metadata": {},
   "source": [
    "## Распределение часа начала сессии"
   ]
  },
  {
   "cell_type": "code",
   "execution_count": 65,
   "metadata": {},
   "outputs": [
    {
     "data": {
      "image/png": "[encoded data removed]",
      "text/plain": [
       "<Figure size 432x288 with 1 Axes>"
      ]
     },
     "metadata": {
      "needs_background": "light"
     },
     "output_type": "display_data"
    }
   ],
   "source": [
    "train_test_df_sites['hour'] = train_test_df_sites['hour'].apply(lambda x: int(x))\n",
    "plt.hist(train_test_df_sites['hour'], 10, normed=1, facecolor='darkgreen', alpha=0.75)\n",
    "\n",
    "plt.xlabel('Час начала сессии')\n",
    "plt.ylabel('Вероятность')\n",
    "plt.axis([0, 24, 0, 0.2])\n",
    "plt.grid(True)\n",
    "\n",
    "plt.show()"
   ]
  },
  {
   "cell_type": "markdown",
   "metadata": {},
   "source": [
    "Выводы:\n",
    "- В данной выборке отсуствуют сессии с временем начала с 23 до 7 часов утра\n",
    "- Чаще всего пользователи выходят в интернет утром с 7 до 9, в обед с 13 до 14 и вечером с 15 до 18"
   ]
  },
  {
   "cell_type": "markdown",
   "metadata": {},
   "source": [
    "## Распределение дня начала сессии"
   ]
  },
  {
   "cell_type": "code",
   "execution_count": 66,
   "metadata": {},
   "outputs": [
    {
     "data": {
      "image/png": "[encoded data removed]",
      "text/plain": [
       "<Figure size 432x288 with 1 Axes>"
      ]
     },
     "metadata": {
      "needs_background": "light"
     },
     "output_type": "display_data"
    }
   ],
   "source": [
    "train_test_df_sites['day_of_week'] = train_test_df_sites['dayofweek'].apply(lambda x: int(x))\n",
    "plt.hist(train_test_df_sites['day_of_week'], 7, normed=1, facecolor='orchid', alpha=0.75)\n",
    "plt.xlabel('День начала сессии')\n",
    "plt.ylabel('Вероятность')\n",
    "plt.grid(True)\n",
    "plt.show()"
   ]
  },
  {
   "cell_type": "markdown",
   "metadata": {},
   "source": [
    "Вывод: люди большую часть времени проводят в интернете по будням, кол-во сессий в субботу и воскресение значительно меньше."
   ]
  },
  {
   "cell_type": "markdown",
   "metadata": {},
   "source": [
    "## Сезон"
   ]
  },
  {
   "cell_type": "code",
   "execution_count": 67,
   "metadata": {},
   "outputs": [
    {
     "data": {
      "image/png": "[encoded data removed]",
      "text/plain": [
       "<Figure size 432x288 with 1 Axes>"
      ]
     },
     "metadata": {
      "needs_background": "light"
     },
     "output_type": "display_data"
    }
   ],
   "source": [
    "train_test_df_sites['month'] = train_test_df_sites['month'].apply(lambda x: int(x))\n",
    "plt.hist(train_test_df_sites['month'], 4, normed=1, facecolor='brown', alpha=0.75)\n",
    "plt.xlabel('Месяц')\n",
    "plt.ylabel('Вероятность')\n",
    "plt.grid(True)\n",
    "plt.show()"
   ]
  },
  {
   "cell_type": "markdown",
   "metadata": {},
   "source": [
    "Вывод:кол-во сессий осенью значительно меньше, чем в остальные сезоны."
   ]
  },
  {
   "cell_type": "markdown",
   "metadata": {},
   "source": [
    "## Обучение"
   ]
  },
  {
   "cell_type": "markdown",
   "metadata": {},
   "source": [
    "Реализуем функции визуализации AUC кривых и записи результатов в файл в формате kaggle."
   ]
  },
  {
   "cell_type": "code",
   "execution_count": 68,
   "metadata": {
    "collapsed": true
   },
   "outputs": [],
   "source": [
    "def write_to_submission_file(predicted_labels, out_file,\n",
    "                             target='target', index_label=\"session_id\"):\n",
    "    # turn predictions into data frame and save as csv file\n",
    "    predicted_df = pd.DataFrame(predicted_labels,\n",
    "                                index = np.arange(1, predicted_labels.shape[0] + 1),\n",
    "                                columns=[target])\n",
    "    predicted_df.to_csv(out_file, index_label=index_label)"
   ]
  },
  {
   "cell_type": "code",
   "execution_count": 69,
   "metadata": {
    "collapsed": true
   },
   "outputs": [],
   "source": [
    "def plot_validation_curves(param_values, grid_cv_results_):\n",
    "    train_mu, train_std = grid_cv_results_['mean_train_score'], grid_cv_results_['std_train_score']\n",
    "    valid_mu, valid_std = grid_cv_results_['mean_test_score'], grid_cv_results_['std_test_score']\n",
    "    train_line = plt.plot(param_values, train_mu, '-', label='train', color='green')\n",
    "    valid_line = plt.plot(param_values, valid_mu, '-', label='test', color='red')\n",
    "    plt.fill_between(param_values, train_mu - train_std, train_mu + train_std, edgecolor='none',\n",
    "                     facecolor=train_line[0].get_color(), alpha=0.2)\n",
    "    plt.fill_between(param_values, valid_mu - valid_std, valid_mu + valid_std, edgecolor='none',\n",
    "                     facecolor=valid_line[0].get_color(), alpha=0.2)\n",
    "    plt.legend()"
   ]
  },
  {
   "cell_type": "markdown",
   "metadata": {},
   "source": [
    "Подготовим кросс-валидатор, и попробуем с помощью GridSearchCV и вычислить оптимальный классификатор и его параметры"
   ]
  },
  {
   "cell_type": "code",
   "execution_count": 70,
   "metadata": {
    "collapsed": true
   },
   "outputs": [],
   "source": [
    "from sklearn.model_selection import StratifiedKFold\n",
    "skf = StratifiedKFold(n_splits=3, shuffle=True, random_state=17)"
   ]
  },
  {
   "cell_type": "markdown",
   "metadata": {},
   "source": [
    "Попробуем применить различные алгоритмы классификации с набором параметров по сетке с помощью GridSearchCV\n",
    "- LogisticRegression\n",
    "- Linear SVM\n",
    "- SGDClassifier\n",
    "- RandomForestClassifier"
   ]
  },
  {
   "cell_type": "code",
   "execution_count": 71,
   "metadata": {
    "collapsed": true
   },
   "outputs": [],
   "source": [
    "def search_cv_predict_write(estimator, params_grid, X_train, y_train, X_test, filename, cv=skf):\n",
    "    grid_searcher = GridSearchCV(estimator, params_grid, scoring = 'roc_auc',  n_jobs = -1, cv=skf)\n",
    "    grid_searcher.fit(X_train, y_train)\n",
    "\n",
    "    print(grid_searcher.best_score_)\n",
    "    print (grid_searcher.best_params_)\n",
    "    \n",
    "    test_pred_proba = np.array([*map(lambda x: x[1], grid_searcher.best_estimator_.predict_proba(X_test))])\n",
    "    write_to_submission_file(test_pred_proba, filename)\n",
    "    return grid_searcher"
   ]
  },
  {
   "cell_type": "markdown",
   "metadata": {},
   "source": [
    "##  LogisticRegression с LogisticRegressionCV"
   ]
  },
  {
   "cell_type": "code",
   "execution_count": 72,
   "metadata": {
    "collapsed": true
   },
   "outputs": [],
   "source": [
    "from sklearn.linear_model import LogisticRegression, LogisticRegressionCV"
   ]
  },
  {
   "cell_type": "code",
   "execution_count": 73,
   "metadata": {},
   "outputs": [
    {
     "name": "stderr",
     "output_type": "stream",
     "text": [
      "C:\\ProgramData\\Anaconda3\\lib\\site-packages\\sklearn\\linear_model\\logistic.py:758: ConvergenceWarning: lbfgs failed to converge. Increase the number of iterations.\n",
      "  \"of iterations.\", ConvergenceWarning)\n"
     ]
    },
    {
     "name": "stdout",
     "output_type": "stream",
     "text": [
      "Wall time: 55.4 s\n"
     ]
    }
   ],
   "source": [
    "%%time\n",
    "estimator = LogisticRegressionCV(random_state=17, n_jobs=-1, cv = skf, Cs = np.linspace(1, 11, 25), scoring = 'roc_auc')\n",
    "estimator.fit(X_train_sparse_with_new, y)"
   ]
  },
  {
   "cell_type": "code",
   "execution_count": 89,
   "metadata": {},
   "outputs": [
    {
     "data": {
      "text/plain": [
       "{1: array([[0.81613038, 0.8887424 , 0.91983745, 0.93101677, 0.94083036,\n",
       "         0.94876492, 0.95313384, 0.95563579, 0.95846658, 0.95881334,\n",
       "         0.95921975, 0.96155252, 0.96176388, 0.96348284, 0.96415436,\n",
       "         0.96533608, 0.96610313, 0.96599756, 0.96652324, 0.96655632],\n",
       "        [0.80703082, 0.85612434, 0.8949392 , 0.92337362, 0.933124  ,\n",
       "         0.94381547, 0.94655931, 0.95137325, 0.95142274, 0.95705444,\n",
       "         0.95561578, 0.95854824, 0.95798509, 0.96255078, 0.95992501,\n",
       "         0.96158347, 0.95601311, 0.96310167, 0.96350796, 0.96523744],\n",
       "        [0.82353792, 0.89607453, 0.9215082 , 0.93653167, 0.94679926,\n",
       "         0.94939295, 0.95185129, 0.95663978, 0.95862074, 0.96030062,\n",
       "         0.96267413, 0.96440956, 0.96405018, 0.96531344, 0.96553942,\n",
       "         0.96885618, 0.97007274, 0.97145075, 0.97206405, 0.97200168]])}"
      ]
     },
     "execution_count": 89,
     "metadata": {},
     "output_type": "execute_result"
    }
   ],
   "source": [
    "estimator.scores_"
   ]
  },
  {
   "cell_type": "code",
   "execution_count": 79,
   "metadata": {
    "collapsed": true
   },
   "outputs": [],
   "source": [
    "test_pred = estimator.predict_proba(X_test_sparse_with_new)\n",
    "write_to_submission_file(test_pred[:,1], os.path.join(PATH_TO_DATA, 'submission_LogisticRegressionCV.csv'))"
   ]
  },
  {
   "cell_type": "markdown",
   "metadata": {},
   "source": [
    "## LogisticRegression с GridSearchCV"
   ]
  },
  {
   "cell_type": "code",
   "execution_count": 75,
   "metadata": {
    "collapsed": true
   },
   "outputs": [],
   "source": [
    "from sklearn.model_selection import GridSearchCV\n",
    "from sklearn.linear_model import LogisticRegression"
   ]
  },
  {
   "cell_type": "code",
   "execution_count": 76,
   "metadata": {
    "collapsed": true
   },
   "outputs": [],
   "source": [
    "logit = LogisticRegression(C = 55, random_state = 17)\n",
    "logit_params2 = {'C': np.linspace(1, 5, 25)}"
   ]
  },
  {
   "cell_type": "code",
   "execution_count": 77,
   "metadata": {},
   "outputs": [
    {
     "name": "stderr",
     "output_type": "stream",
     "text": [
      "C:\\ProgramData\\Anaconda3\\lib\\site-packages\\sklearn\\linear_model\\logistic.py:433: FutureWarning: Default solver will be changed to 'lbfgs' in 0.22. Specify a solver to silence this warning.\n",
      "  FutureWarning)\n",
      "C:\\ProgramData\\Anaconda3\\lib\\site-packages\\sklearn\\svm\\base.py:922: ConvergenceWarning: Liblinear failed to converge, increase the number of iterations.\n",
      "  \"the number of iterations.\", ConvergenceWarning)\n"
     ]
    },
    {
     "name": "stdout",
     "output_type": "stream",
     "text": [
      "0.8228691669669761\n",
      "{'C': 2.0}\n",
      "Wall time: 3min 44s\n"
     ]
    }
   ],
   "source": [
    "%%time\n",
    "grid_searcher = search_cv_predict_write(logit, logit_params2, X_train_sparse_with_new, y, X_test_sparse_with_new, 'submission-logistic.txt')"
   ]
  },
  {
   "cell_type": "markdown",
   "metadata": {},
   "source": [
    "##  SGDClassifier"
   ]
  },
  {
   "cell_type": "code",
   "execution_count": 80,
   "metadata": {
    "collapsed": true
   },
   "outputs": [],
   "source": [
    "from sklearn.linear_model import LogisticRegression, LogisticRegressionCV"
   ]
  },
  {
   "cell_type": "code",
   "execution_count": 81,
   "metadata": {
    "collapsed": true
   },
   "outputs": [],
   "source": [
    "sgd_logit = SGDClassifier( loss='log', random_state=17, n_jobs=-1, penalty='l1')\n",
    "sgd_param_grid = {\n",
    "    'n_iter':[ 100, 200, 300 ],\n",
    "    'alpha' : [0.0001, 0.00001],\n",
    "    'penalty' : ['l1', 'l2'],\n",
    "    'loss' : ['log']\n",
    "}"
   ]
  },
  {
   "cell_type": "code",
   "execution_count": 82,
   "metadata": {},
   "outputs": [
    {
     "name": "stderr",
     "output_type": "stream",
     "text": [
      "C:\\ProgramData\\Anaconda3\\lib\\site-packages\\sklearn\\linear_model\\stochastic_gradient.py:152: DeprecationWarning: n_iter parameter is deprecated in 0.19 and will be removed in 0.21. Use max_iter and tol instead.\n",
      "  DeprecationWarning)\n"
     ]
    },
    {
     "name": "stdout",
     "output_type": "stream",
     "text": [
      "0.894139800134458\n",
      "{'alpha': 1e-05, 'loss': 'log', 'n_iter': 300, 'penalty': 'l1'}\n",
      "Wall time: 1min 28s\n"
     ]
    }
   ],
   "source": [
    "%%time\n",
    "sgd_grid_searcher = search_cv_predict_write(sgd_logit, sgd_param_grid, X_train_sparse_with_new, y, X_test_sparse_with_new, 'submission-sgd.txt')"
   ]
  },
  {
   "cell_type": "markdown",
   "metadata": {},
   "source": [
    "## RandomForestClassifier"
   ]
  },
  {
   "cell_type": "code",
   "execution_count": 83,
   "metadata": {
    "collapsed": true
   },
   "outputs": [],
   "source": [
    "from sklearn.ensemble import RandomForestClassifier"
   ]
  },
  {
   "cell_type": "code",
   "execution_count": 84,
   "metadata": {
    "collapsed": true
   },
   "outputs": [],
   "source": [
    "forest = RandomForestClassifier(n_estimators=100, n_jobs=-1, random_state=17)\n",
    "forest_param_grid = { \n",
    "    'n_estimators': [100],\n",
    "    'max_features': ['auto']\n",
    "}"
   ]
  },
  {
   "cell_type": "code",
   "execution_count": 85,
   "metadata": {},
   "outputs": [
    {
     "name": "stdout",
     "output_type": "stream",
     "text": [
      "0.9688784961289091\n",
      "{'max_features': 'auto', 'n_estimators': 100}\n",
      "Wall time: 3min 33s\n"
     ]
    }
   ],
   "source": [
    "%%time\n",
    "forest_grid_searcher = search_cv_predict_write(forest, forest_param_grid, X_train_sparse_with_new, y, X_test_sparse_with_new, 'submission-forest.txt')"
   ]
  },
  {
   "cell_type": "code",
   "execution_count": 90,
   "metadata": {},
   "outputs": [],
   "source": [
    "test_pred2 = forest_grid_searcher .predict_proba(X_test_sparse_with_new)\n",
    "write_to_submission_file(test_pred2[:,1], os.path.join(PATH_TO_DATA, 'submission_Forest.csv'))"
   ]
  },
  {
   "cell_type": "markdown",
   "metadata": {},
   "source": [
    "## sklearn.ensemble.BaggingClassifier"
   ]
  },
  {
   "cell_type": "code",
   "execution_count": 86,
   "metadata": {
    "collapsed": true
   },
   "outputs": [],
   "source": [
    "from sklearn.ensemble import BaggingClassifier"
   ]
  },
  {
   "cell_type": "code",
   "execution_count": 87,
   "metadata": {
    "collapsed": true
   },
   "outputs": [],
   "source": [
    "logit = LogisticRegression(C = 1.62, random_state = 17)\n",
    "bagging = BaggingClassifier(logit, n_jobs = -1)\n",
    "bagging_params = {\n",
    "                    'n_estimators': [10],\n",
    "                 }"
   ]
  },
  {
   "cell_type": "code",
   "execution_count": 88,
   "metadata": {},
   "outputs": [
    {
     "name": "stdout",
     "output_type": "stream",
     "text": [
      "0.8341315751556498\n",
      "{'n_estimators': 10}\n",
      "Wall time: 2min 18s\n"
     ]
    }
   ],
   "source": [
    "%%time\n",
    "svm_best_estimator = search_cv_predict_write(bagging, bagging_params, X_train_sparse_with_new, y, X_test_sparse_with_new, 'submission-bagging.txt')\n"
   ]
  },
  {
   "cell_type": "markdown",
   "metadata": {},
   "source": [
    "## Лучшая модель"
   ]
  },
  {
   "cell_type": "markdown",
   "metadata": {},
   "source": [
    "Лучший результат показала модель, которая была натренирована с помощью LogisticRegressionCV. Она показала результат __0.93__ roc auc"
   ]
  },
  {
   "cell_type": "markdown",
   "metadata": {},
   "source": [
    "# Выводы"
   ]
  },
  {
   "cell_type": "markdown",
   "metadata": {},
   "source": [
    " - Лучшие результаты показала модель построенная с помощью Linear Regression CV классификатора. Она определяет, что пользователь не тот за кого себя выдает с площадью под кривой ROC AUC 93%.\n",
    " - Данный результат кажется отличным, но это связано с несбалансированностью классов. Константный метод, получает результат в 0.82.\n"
   ]
  },
  {
   "cell_type": "markdown",
   "metadata": {},
   "source": [
    "# Методы улучшения"
   ]
  },
  {
   "cell_type": "markdown",
   "metadata": {},
   "source": [
    "- добавить новые признаки\n",
    "- использовать бустинг, нейронки\n"
   ]
  }
 ],
 "metadata": {
  "kernelspec": {
   "display_name": "Python 3",
   "language": "python",
   "name": "python3"
  },
  "language_info": {
   "codemirror_mode": {
    "name": "ipython",
    "version": 3
   },
   "file_extension": ".py",
   "mimetype": "text/x-python",
   "name": "python",
   "nbconvert_exporter": "python",
   "pygments_lexer": "ipython3",
   "version": "3.7.1"
  }
 },
 "nbformat": 4,
 "nbformat_minor": 2
}
