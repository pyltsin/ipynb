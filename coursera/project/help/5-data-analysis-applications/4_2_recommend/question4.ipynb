{
 "cells": [
  {
   "cell_type": "code",
   "execution_count": 22,
   "metadata": {
    "collapsed": true
   },
   "outputs": [],
   "source": [
    "import pandas as pd\n",
    "import numpy as np\n",
    "import scipy as sc\n",
    "import sklearn\n",
    "from matplotlib import pyplot as plt\n",
    "%matplotlib inline\n",
    "from collections import OrderedDict"
   ]
  },
  {
   "cell_type": "code",
   "execution_count": 23,
   "metadata": {
    "collapsed": false
   },
   "outputs": [],
   "source": [
    "def str2list(string):\n",
    "    if len(string) == 0:\n",
    "        return []\n",
    "    try: \n",
    "        return list(map(int, string.split(',')))\n",
    "    except ValueError as e:\n",
    "        print('string: ', string)\n",
    "        "
   ]
  },
  {
   "cell_type": "code",
   "execution_count": 29,
   "metadata": {
    "collapsed": false
   },
   "outputs": [],
   "source": [
    "train_data = pd.read_table('coursera_sessions_train.txt', header=None, sep=';', converters={0:str2list, 1:str2list})\n",
    "test_data = pd.read_table('coursera_sessions_test.txt', header=None, sep=';', converters={0:str2list, 1:str2list})"
   ]
  },
  {
   "cell_type": "code",
   "execution_count": 30,
   "metadata": {
    "collapsed": false
   },
   "outputs": [],
   "source": [
    "train_data.columns =['see', 'buy']\n",
    "test_data.columns =['see', 'buy']"
   ]
  },
  {
   "cell_type": "code",
   "execution_count": 25,
   "metadata": {
    "collapsed": false
   },
   "outputs": [
    {
     "data": {
      "text/html": [
       "<div>\n",
       "<table border=\"1\" class=\"dataframe\">\n",
       "  <thead>\n",
       "    <tr style=\"text-align: right;\">\n",
       "      <th></th>\n",
       "      <th>see</th>\n",
       "      <th>buy</th>\n",
       "    </tr>\n",
       "  </thead>\n",
       "  <tbody>\n",
       "    <tr>\n",
       "      <th>0</th>\n",
       "      <td>[0, 1, 2, 3, 4, 5]</td>\n",
       "      <td>[]</td>\n",
       "    </tr>\n",
       "    <tr>\n",
       "      <th>1</th>\n",
       "      <td>[9, 10, 11, 9, 11, 12, 9, 11]</td>\n",
       "      <td>[]</td>\n",
       "    </tr>\n",
       "    <tr>\n",
       "      <th>2</th>\n",
       "      <td>[16, 17, 18, 19, 20, 21]</td>\n",
       "      <td>[]</td>\n",
       "    </tr>\n",
       "    <tr>\n",
       "      <th>3</th>\n",
       "      <td>[24, 25, 26, 27, 24]</td>\n",
       "      <td>[]</td>\n",
       "    </tr>\n",
       "    <tr>\n",
       "      <th>4</th>\n",
       "      <td>[34, 35, 36, 34, 37, 35, 36, 37, 38, 39, 38, 39]</td>\n",
       "      <td>[]</td>\n",
       "    </tr>\n",
       "  </tbody>\n",
       "</table>\n",
       "</div>"
      ],
      "text/plain": [
       "                                                see buy\n",
       "0                                [0, 1, 2, 3, 4, 5]  []\n",
       "1                     [9, 10, 11, 9, 11, 12, 9, 11]  []\n",
       "2                          [16, 17, 18, 19, 20, 21]  []\n",
       "3                              [24, 25, 26, 27, 24]  []\n",
       "4  [34, 35, 36, 34, 37, 35, 36, 37, 38, 39, 38, 39]  []"
      ]
     },
     "execution_count": 25,
     "metadata": {},
     "output_type": "execute_result"
    }
   ],
   "source": [
    "train_data.head()"
   ]
  },
  {
   "cell_type": "code",
   "execution_count": 6,
   "metadata": {
    "collapsed": false
   },
   "outputs": [
    {
     "data": {
      "text/plain": [
       "(50000, 2)"
      ]
     },
     "execution_count": 6,
     "metadata": {},
     "output_type": "execute_result"
    }
   ],
   "source": [
    "train_data.shape"
   ]
  },
  {
   "cell_type": "code",
   "execution_count": 7,
   "metadata": {
    "collapsed": false
   },
   "outputs": [
    {
     "data": {
      "text/plain": [
       "(50000, 2)"
      ]
     },
     "execution_count": 7,
     "metadata": {},
     "output_type": "execute_result"
    }
   ],
   "source": [
    "test_data.shape"
   ]
  },
  {
   "cell_type": "code",
   "execution_count": 8,
   "metadata": {
    "collapsed": false,
    "scrolled": true
   },
   "outputs": [
    {
     "data": {
      "text/html": [
       "<div>\n",
       "<table border=\"1\" class=\"dataframe\">\n",
       "  <thead>\n",
       "    <tr style=\"text-align: right;\">\n",
       "      <th></th>\n",
       "      <th>see</th>\n",
       "      <th>buy</th>\n",
       "    </tr>\n",
       "  </thead>\n",
       "  <tbody>\n",
       "    <tr>\n",
       "      <th>0</th>\n",
       "      <td>[6, 7, 8]</td>\n",
       "      <td>[]</td>\n",
       "    </tr>\n",
       "    <tr>\n",
       "      <th>1</th>\n",
       "      <td>[13, 14, 15]</td>\n",
       "      <td>[]</td>\n",
       "    </tr>\n",
       "    <tr>\n",
       "      <th>2</th>\n",
       "      <td>[22, 23]</td>\n",
       "      <td>[]</td>\n",
       "    </tr>\n",
       "    <tr>\n",
       "      <th>3</th>\n",
       "      <td>[28, 29, 30, 31, 32, 33]</td>\n",
       "      <td>[]</td>\n",
       "    </tr>\n",
       "    <tr>\n",
       "      <th>4</th>\n",
       "      <td>[40, 41]</td>\n",
       "      <td>[]</td>\n",
       "    </tr>\n",
       "  </tbody>\n",
       "</table>\n",
       "</div>"
      ],
      "text/plain": [
       "                        see buy\n",
       "0                 [6, 7, 8]  []\n",
       "1              [13, 14, 15]  []\n",
       "2                  [22, 23]  []\n",
       "3  [28, 29, 30, 31, 32, 33]  []\n",
       "4                  [40, 41]  []"
      ]
     },
     "execution_count": 8,
     "metadata": {},
     "output_type": "execute_result"
    }
   ],
   "source": [
    "test_data.head()"
   ]
  },
  {
   "cell_type": "code",
   "execution_count": 11,
   "metadata": {
    "collapsed": false
   },
   "outputs": [],
   "source": [
    "def precision(raw, sorted_dict_train, k):\n",
    "    \n",
    "    see = raw.see\n",
    "    see = set(raw.see)\n",
    "    buy = raw.buy\n",
    "    \n",
    "    if len(buy) == 0:\n",
    "        return 0\n",
    "    \n",
    "    see = [s for s in see if s in sorted_dict_train.keys()]\n",
    "    if len(see) == 0:\n",
    "        return 0\n",
    "    \n",
    "    see = sorted(see, key=lambda x: sorted_dict_train[x], reverse=True)\n",
    "    recommended = see[:k]    \n",
    "    bough_recommended = [b for b in buy if b in recommended]    \n",
    "    return len(bough_recommended)/k"
   ]
  },
  {
   "cell_type": "code",
   "execution_count": 12,
   "metadata": {
    "collapsed": false
   },
   "outputs": [],
   "source": [
    "def recall(raw, sorted_dict_train, k):\n",
    "    see = raw.see\n",
    "    see = set(see)\n",
    "    buy = raw.buy\n",
    "    \n",
    "    if len(buy) == 0:\n",
    "        return 0\n",
    "\n",
    "    see = [s for s in see if s in sorted_dict_train.keys()]\n",
    "    \n",
    "    if len(see) == 0:\n",
    "        return 0\n",
    "    see = sorted(see, key=lambda x: sorted_dict_train[x], reverse=True)\n",
    "    recommended = see[:k]\n",
    "    bough_recommended = [b for b in buy if b in recommended]    \n",
    "    return len(bough_recommended)/len(buy)"
   ]
  },
  {
   "cell_type": "code",
   "execution_count": 45,
   "metadata": {
    "collapsed": false
   },
   "outputs": [],
   "source": [
    "precision_buy_test_1 = 0\n",
    "precision_buy_test_5 = 0\n",
    "\n",
    "recall_buy_test_1 = 0\n",
    "recall_buy_test_5 = 0\n",
    "\n",
    "num_good_session_buy_test = 0\n",

    "good_sess = []\n",
    "\n",
    "\n",
    "for indx in test_data.index:\n",
    "    raw = test_data.loc[indx]\n",

    "    good_sess.append((indx,len(raw.buy),raw.buy))\n",
    "    if len(raw.buy) == 0:\n",
    "        continue\n",
    "        \n",
    "    res_prec_1 = precision(raw, buy_dict_train, 1)\n",
    "    if res_prec_1 is not None:\n",
    "        num_good_session_buy_test += 1\n",

    "        \n",
    "        precision_buy_test_1 += res_prec_1\n",
    "        precision_buy_test_5 += precision(raw, buy_dict_train, 5)\n",
    "\n",
    "        recall_buy_test_1 += recall(raw, buy_dict_train, 1)\n",
    "        recall_buy_test_5 += recall(raw, buy_dict_train, 5)\n"
   ]
  },
  {
   "cell_type": "code",
   "execution_count": 39,
   "metadata": {
    "collapsed": false
   },
   "outputs": [],
   "source": [
    "precision_buy_test_1 /= float(num_good_session_buy_test)\n",
    "precision_buy_test_5 /= float(num_good_session_buy_test)\n",
    "\n",
    "recall_buy_test_1 /= float(num_good_session_buy_test)\n",
    "recall_buy_test_5 /= float(num_good_session_buy_test)"
   ]
  },
  {
   "cell_type": "code",
   "execution_count": 17,
   "metadata": {
    "collapsed": false
   },
   "outputs": [
    {
     "name": "stdout",
     "output_type": "stream",
     "text": [
      "recall_buy_test_1\t0.144884038199\n",
      "precision_buy_test_1\t0.212824010914\n",
      "recall_buy_test_5\t0.198908594816\n",
      "precision_buy_test_5\t0.0\n"
     ]
    }
   ],
   "source": [
    "print \"recall_buy_test_1\\t\", recall_buy_test_1\n",
    "print \"precision_buy_test_1\\t\", precision_buy_test_1\n",
    "\n",
    "print \"recall_buy_test_5\\t\", recall_buy_test_5\n",
    "print \"precision_buy_test_5\\t\", precision_buy_test_5"
   ]
  },
  {
   "cell_type": "code",
   "execution_count": 18,
   "metadata": {
    "collapsed": false
   },
   "outputs": [],
   "source": [
    "# with open('answr2-4.txt', 'w') as f:\n",
    "#    f.write(\"{0} {1} {2} {3}\".format(0.43, 0.54, 0.76, 0.19))"
   ]
  },
  {
   "cell_type": "code",
   "execution_count": null,
   "metadata": {
    "collapsed": false
   },
   "outputs": [],
   "source": []
  },
  {
   "cell_type": "code",
   "execution_count": null,
   "metadata": {
    "collapsed": false
   },
   "outputs": [],
   "source": []
  },
  {
   "cell_type": "code",
   "execution_count": null,
   "metadata": {
    "collapsed": false
   },
   "outputs": [],
   "source": []
  },
  {
   "cell_type": "code",
   "execution_count": null,
   "metadata": {
    "collapsed": false
   },
   "outputs": [],
   "source": []
  },
  {
   "cell_type": "code",
   "execution_count": null,
   "metadata": {
    "collapsed": true
   },
   "outputs": [],
   "source": []
  },
  {
   "cell_type": "code",
   "execution_count": null,
   "metadata": {
    "collapsed": true
   },
   "outputs": [],
   "source": []
  }
 ],
 "metadata": {
  "anaconda-cloud": {},
  "kernelspec": {
   "display_name": "Python 2",
   "language": "python",
   "name": "python2"
  },
  "language_info": {
   "codemirror_mode": {
    "name": "ipython",
    "version": 2
   },
   "file_extension": ".py",
   "mimetype": "text/x-python",
   "name": "python",
   "nbconvert_exporter": "python",
   "pygments_lexer": "ipython2",
   "version": "2.7.13"
  }
 },
 "nbformat": 4,
 "nbformat_minor": 1
}
