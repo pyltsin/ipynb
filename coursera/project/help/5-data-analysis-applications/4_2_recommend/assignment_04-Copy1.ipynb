{
 "cells": [
  {
   "cell_type": "markdown",
   "metadata": {},
   "source": [
    "# Programming Assignment: Рекомендательные системы\n",
    "\n",
    "## Описание задачи\n",
    "\n",
    "Небольшой интернет-магазин попросил вас добавить ранжирование товаров в блок «Смотрели ранее» — в нем теперь надо показывать не последние просмотренные пользователем товары, а те товары из просмотренных, которые он наиболее вероятно купит. Качество вашего решения будет оцениваться по количеству покупок в сравнении с прошлым решением в ходе А/В теста, т.к. по доходу от продаж статзначимость будет достигаться дольше из-за разброса цен. Таким образом, ничего заранее не зная про корелляцию оффлайновых и онлайновых метрик качества, в начале проекта вы можете лишь постараться оптимизировать `recall@k` и `precision@k`.\n",
    "\n",
    "Это задание посвящено построению простых бейзлайнов для этой задачи: ранжирование просмотренных товаров по частоте просмотров и по частоте покупок. Эти бейзлайны, с одной стороны, могут помочь вам грубо оценить возможный эффект от ранжирования товаров в блоке — например, чтобы вписать какие-то числа в коммерческое предложение заказчику, а с другой стороны, могут оказаться самым хорошим вариантом, если данных очень мало (недостаточно для обучения даже простых моделей).\n",
    "\n",
    "## Данные\n",
    "\n",
    "Вам дается две выборки с пользовательскими сессиями – `id`-шниками просмотренных и `id`-шниками купленных товаров. Одна выборка будет использоваться для обучения (оценки популярностей товаров), а другая - для теста.\n",
    "\n",
    "В файлах записаны сессии по одной в каждой строке. Формат сессии: `id` просмотренных товаров через `,` затем идёт `;`, после чего следуют `id` купленных товаров (если такие имеются), разделённые запятой. Например, `1,2,3,4;` или `1,2,3,4;5,6`.\n",
    "\n",
    "Гарантируется, что среди `id` купленных товаров все различные.\n",
    "\n",
    "**Важно:**\n",
    "* Сессии, в которых пользователь ничего не купил, исключаем из оценки качества.\n",
    "* Если товар не встречался в обучающей выборке, его популярность равна 0.\n",
    "* Рекомендуем разные товары. И их число должно быть не больше, чем количество различных просмотренных пользователем товаров.\n",
    "* Рекомендаций всегда не больше, чем минимум из двух чисел: количество просмотренных пользователем товаров и `k` в `recall@k`/`precision@k`.\n",
    "\n",
    "\n",
    "## Задание"
   ]
  },
  {
   "cell_type": "code",
   "execution_count": 1,
   "metadata": {
    "collapsed": true
   },
   "outputs": [],
   "source": [
    "import pandas as pd\n",
    "import numpy as np\n",
    "from collections import OrderedDict\n",
    "from collections import Counter"
   ]
  },
  {
   "cell_type": "code",
   "execution_count": 2,
   "metadata": {
    "collapsed": true
   },
   "outputs": [],
   "source": [
    "def f7(seq):\n",
    "    seen = set()\n",
    "    seen_add = seen.add\n",
    "    return [x for x in seq if not (x in seen or seen_add(x))]"
   ]
  },
  {
   "cell_type": "code",
   "execution_count": 3,
   "metadata": {
    "collapsed": true
   },
   "outputs": [],
   "source": [
    "def str2list(string):\n",
    "    if len(string) == 0:\n",
    "        return None\n",
    "    try: \n",
    "        return np.array(string.split(','),dtype=np.uint32)\n",
    "    except ValueError as e:\n",
    "        print('string: ', string)"
   ]
  },
  {
   "cell_type": "markdown",
   "metadata": {},
   "source": [
    "### Задание 1. \n",
    "\n",
    "На обучении постройте частоты появления `id` в просмотренных и в купленных (`id` может несколько раз появляться в просмотренных, все появления надо учитывать)."
   ]
  },
  {
   "cell_type": "code",
   "execution_count": null,
   "metadata": {
    "collapsed": true
   },
   "outputs": [],
   "source": [
    "lst = ['1,2,3,1,6,1;1',\n",
    "\n",
    "'1,4,5;5',\n",
    "\n",
    "'4,3,6;4',\n",
    "\n",
    "'2,1,2,4,5;',\n",
    "\n",
    "'4,1,1,2,6;1,4']\n",
    "lst = map(lambda x: x.split(';'),lst)"
   ]
  },
  {
   "cell_type": "code",
   "execution_count": null,
   "metadata": {
    "collapsed": false
   },
   "outputs": [],
   "source": [
    "test=pd.DataFrame(lst)"
   ]
  },
  {
   "cell_type": "code",
   "execution_count": null,
   "metadata": {
    "collapsed": false,
    "scrolled": true
   },
   "outputs": [],
   "source": [
    "test=test.applymap(str2list)"
   ]
  },
  {
   "cell_type": "code",
   "execution_count": null,
   "metadata": {
    "collapsed": true
   },
   "outputs": [],
   "source": [
    "test.columns=['see','buy']"
   ]
  },
  {
   "cell_type": "code",
   "execution_count": null,
   "metadata": {
    "collapsed": false
   },
   "outputs": [],
   "source": [
    "test"
   ]
  },
  {
   "cell_type": "code",
   "execution_count": null,
   "metadata": {
    "collapsed": false
   },
   "outputs": [],
   "source": [
    "test_see = np.concatenate(test.see.values)\n",
    "test_see_vc = pd.Series(test_see).value_counts()"
   ]
  },
  {
   "cell_type": "code",
   "execution_count": null,
   "metadata": {
    "collapsed": false
   },
   "outputs": [],
   "source": [
    "buy_dict_train = test_see_vc.to_dict()\n",
    "set_dic = set(buy_dict_train)"
   ]
  },
  {
   "cell_type": "code",
   "execution_count": null,
   "metadata": {
    "collapsed": false
   },
   "outputs": [],
   "source": []
  },
  {
   "cell_type": "code",
   "execution_count": null,
   "metadata": {
    "collapsed": true
   },
   "outputs": [],
   "source": [
    "test_dropna = test.dropna()\n",
    "\n",
    "len_test = test_dropna.shape[0]"
   ]
  },
  {
   "cell_type": "code",
   "execution_count": null,
   "metadata": {
    "collapsed": false
   },
   "outputs": [],
   "source": [
    "session=test_dropna.loc[1]"
   ]
  },
  {
   "cell_type": "code",
   "execution_count": null,
   "metadata": {
    "collapsed": false
   },
   "outputs": [],
   "source": [
    "Recall(test_dropna.iloc[3],buy_dict_train,5)"
   ]
  },
  {
   "cell_type": "code",
   "execution_count": null,
   "metadata": {
    "collapsed": false
   },
   "outputs": [],
   "source": [
    "see=f7(session.see)\n",
    "buy = session.buy\n",
    "\n",
    "TDSK = set(buy_dict_train.keys())\n",
    "\n",
    "see = [s for s in see if s in TDSK]\n",
    "\n",
    "sorted(see,key= lambda x: buy_dict_train[x],reverse=True)\n",
    "# reccomend = see[:k]\n",
    "\n",
    "# bough_rec = np.intersect1d(reccomend,buy)\n",
    "\n",
    "# print bough_rec.shape[0]/float(buy.shape[0])"
   ]
  },
  {
   "cell_type": "code",
   "execution_count": null,
   "metadata": {
    "collapsed": false
   },
   "outputs": [],
   "source": [
    "precision_buy_test_1 = 0.0\n",
    "precision_buy_test_5 = 0.0\n",
    "\n",
    "recall_buy_test_1 = 0.0\n",
    "recall_buy_test_5 = 0.0\n",
    "for ind in test_dropna.index:\n",
    "    sess = test_dropna.loc[ind]\n",
    "    \n",
    "    res_prec1 = Precision(sess,buy_dict_train,set_dic,1)\n",
    "#     print \"res_prec1={}\".format(res_prec1)\n",
    "#     if not res_prec1 == 0:\n",
    "    precision_buy_test_1 += res_prec1\n",
    "    precision_buy_test_5 += Precision(sess,buy_dict_train,set_dic,5)\n",
    "    recall_buy_test_1 += Recall(sess,buy_dict_train,set_dic,1)\n",
    "    print \"res_prec5={}\".format(Recall(sess,buy_dict_train,set_dic,5))\n",
    "    recall_buy_test_5 += Recall(sess,buy_dict_train,set_dic,5)"
   ]
  },
  {
   "cell_type": "code",
   "execution_count": null,
   "metadata": {
    "collapsed": false
   },
   "outputs": [],
   "source": [
    "ans1=[recall_buy_test_1/len_test,precision_buy_test_1/len_test,\\\n",
    "recall_buy_test_5/len_test,precision_buy_test_5/len_test]\n",
    "print ans1"
   ]
  },
  {
   "cell_type": "code",
   "execution_count": null,
   "metadata": {
    "collapsed": true
   },
   "outputs": [],
   "source": []
  },
  {
   "cell_type": "code",
   "execution_count": null,
   "metadata": {
    "collapsed": true
   },
   "outputs": [],
   "source": []
  },
  {
   "cell_type": "code",
   "execution_count": null,
   "metadata": {
    "collapsed": true
   },
   "outputs": [],
   "source": []
  },
  {
   "cell_type": "code",
   "execution_count": 6,
   "metadata": {
    "collapsed": false
   },
   "outputs": [],
   "source": [
    "data_train = pd.read_table(\"coursera_sessions_train.txt\",sep=';',header=None,converters={0:str2list, 1:str2list})\n",
    "data_test = pd.read_table(\"coursera_sessions_train.txt\",sep=';',header=None,converters={0:str2list, 1:str2list})\n",
    "\n",
    "data_train.columns=['see','buy']\n",
    "data_test.columns=['see','buy']"
   ]
  },
  {
   "cell_type": "code",
   "execution_count": 7,
   "metadata": {
    "collapsed": false,
    "scrolled": true
   },
   "outputs": [
    {
     "data": {
      "text/html": [
       "<div>\n",
       "<table border=\"1\" class=\"dataframe\">\n",
       "  <thead>\n",
       "    <tr style=\"text-align: right;\">\n",
       "      <th></th>\n",
       "      <th>see</th>\n",
       "      <th>buy</th>\n",
       "    </tr>\n",
       "  </thead>\n",
       "  <tbody>\n",
       "    <tr>\n",
       "      <th>0</th>\n",
       "      <td>[0, 1, 2, 3, 4, 5]</td>\n",
       "      <td>None</td>\n",
       "    </tr>\n",
       "    <tr>\n",
       "      <th>1</th>\n",
       "      <td>[9, 10, 11, 9, 11, 12, 9, 11]</td>\n",
       "      <td>None</td>\n",
       "    </tr>\n",
       "    <tr>\n",
       "      <th>2</th>\n",
       "      <td>[16, 17, 18, 19, 20, 21]</td>\n",
       "      <td>None</td>\n",
       "    </tr>\n",
       "    <tr>\n",
       "      <th>3</th>\n",
       "      <td>[24, 25, 26, 27, 24]</td>\n",
       "      <td>None</td>\n",
       "    </tr>\n",
       "    <tr>\n",
       "      <th>4</th>\n",
       "      <td>[34, 35, 36, 34, 37, 35, 36, 37, 38, 39, 38, 39]</td>\n",
       "      <td>None</td>\n",
       "    </tr>\n",
       "  </tbody>\n",
       "</table>\n",
       "</div>"
      ],
      "text/plain": [
       "                                                see   buy\n",
       "0                                [0, 1, 2, 3, 4, 5]  None\n",
       "1                     [9, 10, 11, 9, 11, 12, 9, 11]  None\n",
       "2                          [16, 17, 18, 19, 20, 21]  None\n",
       "3                              [24, 25, 26, 27, 24]  None\n",
       "4  [34, 35, 36, 34, 37, 35, 36, 37, 38, 39, 38, 39]  None"
      ]
     },
     "execution_count": 7,
     "metadata": {},
     "output_type": "execute_result"
    }
   ],
   "source": [
    "data_train.head()"
   ]
  },
  {
   "cell_type": "code",
   "execution_count": 8,
   "metadata": {
    "collapsed": false
   },
   "outputs": [
    {
     "data": {
      "text/plain": [
       "(3608,)"
      ]
     },
     "execution_count": 8,
     "metadata": {},
     "output_type": "execute_result"
    }
   ],
   "source": [
    "data_train.buy.dropna().shape"
   ]
  },
  {
   "cell_type": "code",
   "execution_count": 9,
   "metadata": {
    "collapsed": false
   },
   "outputs": [],
   "source": [
    "train_see = np.concatenate(data_train.see.values)\n",
    "train_see_vc = pd.Series(train_see).value_counts()\n",
    "ts_index = train_see_vc.index.values"
   ]
  },
  {
   "cell_type": "code",
   "execution_count": 10,
   "metadata": {
    "collapsed": true
   },
   "outputs": [],
   "source": [
    "train_buy = np.concatenate(data_train.buy.dropna().values)"
   ]
  },
  {
   "cell_type": "code",
   "execution_count": 11,
   "metadata": {
    "collapsed": false
   },
   "outputs": [],
   "source": [
    "train_buy_vc=pd.Series(train_buy).value_counts()"
   ]
  },
  {
   "cell_type": "code",
   "execution_count": 12,
   "metadata": {
    "collapsed": false
   },
   "outputs": [],
   "source": [
    "train_see_dic = train_see_vc.to_dict()"
   ]
  },
  {
   "cell_type": "code",
   "execution_count": 13,
   "metadata": {
    "collapsed": false
   },
   "outputs": [],
   "source": [
    "buy_dict_train = OrderedDict()\n",
    "\n",
    "for ind in data_train.index:\n",
    "    raw = data_train.loc[ind]\n",
    "            \n",
    "    buy_l_values = raw.buy\n",
    "    if buy_l_values is None:\n",
    "        continue\n",
    "    for val in buy_l_values:\n",
    "        if val in buy_dict_train.keys():\n",
    "            buy_dict_train[val] += 1\n",
    "        else:\n",
    "            buy_dict_train[val] = 1"
   ]
  },
  {
   "cell_type": "markdown",
   "metadata": {},
   "source": [
    "### Задание 2. \n",
    "\n",
    "Реализуйте два алгоритма рекомендаций: сортировка просмотренных `id` по популярности (частота появления в просмотренных), сортировка просморенных `id` по покупаемости (частота появления в покупках). Если частота одинаковая, то сортировать надо по возрастанию момента просмотра (чем раньше появился в просмотренных, тем больше приоритет)"
   ]
  },
  {
   "cell_type": "code",
   "execution_count": 58,
   "metadata": {
    "collapsed": true
   },
   "outputs": [],
   "source": [
    "def Precision(session, dic_sort,dic_set , k):\n",
    "    see=session.see\n",
    "    \n",
    "    buy = session.buy\n",
    "    \n",
    "    k = min(k,see.shape[0])\n",
    "    see = f7(see)\n",
    "    \n",
    "    see = [s for s in see if s in dic_set]\n",
    "    \n",
    "    if len(see) == 0:\n",
    "        return 0\n",
    "    \n",
    "    sorted(see,key= lambda x: train_see_dic[x],reverse=True)\n",
    "    reccomend = see[:k]\n",
    "    \n",
    "    bough_rec = np.intersect1d(reccomend,buy)\n",
    "    \n",
    "    return bough_rec.shape[0]/float(k)"
   ]
  },
  {
   "cell_type": "code",
   "execution_count": 59,
   "metadata": {
    "collapsed": true
   },
   "outputs": [],
   "source": [
    "def Recall(session, buy,dic_set, k):\n",
    "    see=session.see\n",
    "    \n",
    "    buy = session.buy\n",
    "    k = min(k,see.shape[0])\n",
    "    t = min(see.shape[0],buy.shape[0])\n",
    "    see = f7(see)\n",
    "    \n",
    "    \n",
    "    \n",
    "    see = [s for s in see if s in dic_set]\n",
    "    \n",
    "    if len(see) == 0:\n",
    "        return 0\n",
    "    \n",
    "    sorted(see,key= lambda x: train_see_dic[x],reverse=True)\n",
    "    reccomend = see[:k]\n",
    "    \n",
    "    bough_rec = np.intersect1d(reccomend,buy)\n",
    "    \n",
    "    return bough_rec.shape[0]/float(t)"
   ]
  },
  {
   "cell_type": "markdown",
   "metadata": {},
   "source": [
    "### Задание 3. \n",
    "\n",
    "Для данных алгоритмов выпишите через пробел `AverageRecall@1`, `AveragePrecision@1`, `AverageRecall@5`, `AveragePrecision@5` на обучающей и тестовых выборках, округляя до 2 знака после запятой. Это будут ваши ответы в этом задании. Посмотрите, как они соотносятся друг с другом. Где качество получилось выше? Значимо ли это различие? Обратите внимание на различие качества на обучающей и тестовой выборке в случае рекомендаций по частотам покупки."
   ]
  },
  {
   "cell_type": "code",
   "execution_count": 37,
   "metadata": {
    "collapsed": true
   },
   "outputs": [],
   "source": [
    "train_see_dic=buy_dict_train"
   ]
  },
  {
   "cell_type": "code",
   "execution_count": 38,
   "metadata": {
    "collapsed": true
   },
   "outputs": [],
   "source": [
    "test_dropna = data_test.dropna()\n",
    "\n",
    "len_test = test_dropna.shape[0]"
   ]
  },
  {
   "cell_type": "code",
   "execution_count": 39,
   "metadata": {
    "collapsed": true
   },
   "outputs": [],
   "source": [
    "dict_set = set(train_see_dic.keys())"
   ]
  },
  {
   "cell_type": "code",
   "execution_count": 60,
   "metadata": {
    "collapsed": false
   },
   "outputs": [
    {
     "name": "stdout",
     "output_type": "stream",
     "text": [
      "0.701883950768 0.82012195122 0.930125307065 0.459160199557\n"
     ]
    }
   ],
   "source": [
    "precision_buy_test_1 = 0.0\n",
    "precision_buy_test_5 = 0.0\n",
    "\n",
    "recall_buy_test_1 = 0.0\n",
    "recall_buy_test_5 = 0.0\n",
    "for ind in test_dropna.index:\n",
    "    sess = test_dropna.loc[ind]\n",
    "\n",
    "    precision_buy_test_1 += Precision(sess,train_see_dic,dict_set,1)\n",
    "    precision_buy_test_5 += Precision(sess,train_see_dic,dict_set,5)\n",
    "    recall_buy_test_1 += Recall(sess,train_see_dic,dict_set,1)\n",
    "    recall_buy_test_5 += Recall(sess,train_see_dic,dict_set,5)\n",
    "print recall_buy_test_1/len_test,precision_buy_test_1/len_test,\\\n",
    "recall_buy_test_5/len_test,precision_buy_test_5/len_test"
   ]
  },
  {
   "cell_type": "code",
   "execution_count": null,
   "metadata": {
    "collapsed": false
   },
   "outputs": [],
   "source": [
    "[0.4706289814521518, 0.5454545454545454, 0.8162751297729124, 0.2093680709534424]"
   ]
  },
  {
   "cell_type": "code",
   "execution_count": 54,
   "metadata": {
    "collapsed": false
   },
   "outputs": [
    {
     "name": "stdout",
     "output_type": "stream",
     "text": [
      "[0.7026453759962634, 0.8201219512195121, 0.9313157409540445, 0.49094142645972544]\n"
     ]
    }
   ],
   "source": [
    "ans1=[recall_buy_test_1/len_test,precision_buy_test_1/len_test,\\\n",
    "recall_buy_test_5/len_test,precision_buy_test_5/len_test]\n",
    "print ans1"
   ]
  },
  {
   "cell_type": "code",
   "execution_count": 55,
   "metadata": {
    "collapsed": false
   },
   "outputs": [],
   "source": [
    "ans1=map(lambda x : round(x,2),ans1)"
   ]
  },
  {
   "cell_type": "code",
   "execution_count": 56,
   "metadata": {
    "collapsed": false
   },
   "outputs": [
    {
     "data": {
      "text/plain": [
       "'[0.7, 0.82, 0.93, 0.49]'"
      ]
     },
     "execution_count": 56,
     "metadata": {},
     "output_type": "execute_result"
    }
   ],
   "source": [
    "str(ans1)"
   ]
  },
  {
   "cell_type": "code",
   "execution_count": 57,
   "metadata": {
    "collapsed": false
   },
   "outputs": [],
   "source": [
    "with open(\"ans1\",\"w\") as f:\n",
    "    for an in ans1:\n",
    "        f.write(str(an)+' ')"
   ]
  },
  {
   "cell_type": "markdown",
   "metadata": {},
   "source": [
    "### Дополнительные вопросы\n",
    "\n",
    "* Обратите внимание, что при сортировке по покупаемости возникает много товаров с одинаковым рангом - это означает, что значение метрик будет зависеть от того, как мы будем сортировать товары с одинаковым рангом. Попробуйте убедиться, что при изменении сортировки таких товаров `recall@k` меняется. Подумайте, как оценить минимальное и максимальное значение `recall@k` в зависимости от правила сортировки.\n",
    "* Мы обучаемся и тестируемся на полных сессиях (в которых есть все просмотренные за сессию товары). Подумайте, почему полученная нами оценка качества рекомендаций в этом случае несколько завышена."
   ]
  }
 ],
 "metadata": {
  "anaconda-cloud": {},
  "kernelspec": {
   "display_name": "Python 3",
   "language": "python",
   "name": "python3"
  },
  "language_info": {
   "codemirror_mode": {
    "name": "ipython",
    "version": 3
   },
   "file_extension": ".py",
   "mimetype": "text/x-python",
   "name": "python",
   "nbconvert_exporter": "python",
   "pygments_lexer": "ipython3",
   "version": "3.6.0"
  }
 },
 "nbformat": 4,
 "nbformat_minor": 1
}
