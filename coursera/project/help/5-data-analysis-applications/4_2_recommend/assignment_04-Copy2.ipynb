{
 "cells": [
  {
   "cell_type": "markdown",
   "metadata": {},
   "source": [
    "# Programming Assignment: Рекомендательные системы\n",
    "\n",
    "## Описание задачи\n",
    "\n",
    "Небольшой интернет-магазин попросил вас добавить ранжирование товаров в блок «Смотрели ранее» — в нем теперь надо показывать не последние просмотренные пользователем товары, а те товары из просмотренных, которые он наиболее вероятно купит. Качество вашего решения будет оцениваться по количеству покупок в сравнении с прошлым решением в ходе А/В теста, т.к. по доходу от продаж статзначимость будет достигаться дольше из-за разброса цен. Таким образом, ничего заранее не зная про корелляцию оффлайновых и онлайновых метрик качества, в начале проекта вы можете лишь постараться оптимизировать `recall@k` и `precision@k`.\n",
    "\n",
    "Это задание посвящено построению простых бейзлайнов для этой задачи: ранжирование просмотренных товаров по частоте просмотров и по частоте покупок. Эти бейзлайны, с одной стороны, могут помочь вам грубо оценить возможный эффект от ранжирования товаров в блоке — например, чтобы вписать какие-то числа в коммерческое предложение заказчику, а с другой стороны, могут оказаться самым хорошим вариантом, если данных очень мало (недостаточно для обучения даже простых моделей).\n",
    "\n",
    "## Данные\n",
    "\n",
    "Вам дается две выборки с пользовательскими сессиями – `id`-шниками просмотренных и `id`-шниками купленных товаров. Одна выборка будет использоваться для обучения (оценки популярностей товаров), а другая - для теста.\n",
    "\n",
    "В файлах записаны сессии по одной в каждой строке. Формат сессии: `id` просмотренных товаров через `,` затем идёт `;`, после чего следуют `id` купленных товаров (если такие имеются), разделённые запятой. Например, `1,2,3,4;` или `1,2,3,4;5,6`.\n",
    "\n",
    "Гарантируется, что среди `id` купленных товаров все различные.\n",
    "\n",
    "**Важно:**\n",
    "* Сессии, в которых пользователь ничего не купил, исключаем из оценки качества.\n",
    "* Если товар не встречался в обучающей выборке, его популярность равна 0.\n",
    "* Рекомендуем разные товары. И их число должно быть не больше, чем количество различных просмотренных пользователем товаров.\n",
    "* Рекомендаций всегда не больше, чем минимум из двух чисел: количество просмотренных пользователем товаров и `k` в `recall@k`/`precision@k`.\n",
    "\n",
    "\n",
    "## Задание"
   ]
  },
  {
   "cell_type": "code",
   "execution_count": 2,
   "metadata": {
    "collapsed": true
   },
   "outputs": [],
   "source": [
    "import pandas as pd\n",
    "import numpy as np\n",
    "from collections import OrderedDict\n",
    "from collections import Counter"
   ]
  },
  {
   "cell_type": "code",
   "execution_count": 3,
   "metadata": {
    "collapsed": true
   },
   "outputs": [],
   "source": [
    "def f7(seq):\n",
    "    seen = set()\n",
    "    seen_add = seen.add\n",
    "    return [x for x in seq if not (x in seen or seen_add(x))]"
   ]
  },
  {
   "cell_type": "code",
   "execution_count": 4,
   "metadata": {
    "collapsed": true
   },
   "outputs": [],
   "source": [
    "def str2list(string):\n",
    "    if len(string) == 0:\n",
    "        return None\n",
    "    try: \n",
    "        return np.array(string.split(','),dtype=np.uint32)\n",
    "    except ValueError as e:\n",
    "        print('string: ', string)"
   ]
  },
  {
   "cell_type": "code",
   "execution_count": 5,
   "metadata": {
    "collapsed": true
   },
   "outputs": [],
   "source": [
    "class OrderedCounter(Counter, OrderedDict):\n",
    "    'Counter that remembers the order elements are first encountered'\n",
    "\n",
    "    def __repr__(self):\n",
    "        return '%s(%r)' % (self.__class__.__name__, OrderedDict(self))\n",
    "\n",
    "    def __reduce__(self):\n",
    "        return self.__class__, (OrderedDict(self),)"
   ]
  },
  {
   "cell_type": "markdown",
   "metadata": {},
   "source": [
    "### Задание 1. \n",
    "\n",
    "На обучении постройте частоты появления `id` в просмотренных и в купленных (`id` может несколько раз появляться в просмотренных, все появления надо учитывать)."
   ]
  },
  {
   "cell_type": "code",
   "execution_count": 45,
   "metadata": {
    "collapsed": false
   },
   "outputs": [],
   "source": [
    "data_train = pd.read_table(\"coursera_sessions_train.txt\",sep=';',header=None,converters={0:str2list, 1:str2list})\n",
    "data_test = pd.read_table(\"coursera_sessions_test.txt\",sep=';',header=None,converters={0:str2list, 1:str2list})\n",
    "\n",
    "data_train.columns=['see','buy']\n",
    "data_test.columns=['see','buy']"
   ]
  },
  {
   "cell_type": "code",
   "execution_count": 7,
   "metadata": {
    "collapsed": false,
    "scrolled": true
   },
   "outputs": [
    {
     "data": {
      "text/html": [
       "<div>\n",
       "<table border=\"1\" class=\"dataframe\">\n",
       "  <thead>\n",
       "    <tr style=\"text-align: right;\">\n",
       "      <th></th>\n",
       "      <th>see</th>\n",
       "      <th>buy</th>\n",
       "    </tr>\n",
       "  </thead>\n",
       "  <tbody>\n",
       "    <tr>\n",
       "      <th>0</th>\n",
       "      <td>[0, 1, 2, 3, 4, 5]</td>\n",
       "      <td>None</td>\n",
       "    </tr>\n",
       "    <tr>\n",
       "      <th>1</th>\n",
       "      <td>[9, 10, 11, 9, 11, 12, 9, 11]</td>\n",
       "      <td>None</td>\n",
       "    </tr>\n",
       "    <tr>\n",
       "      <th>2</th>\n",
       "      <td>[16, 17, 18, 19, 20, 21]</td>\n",
       "      <td>None</td>\n",
       "    </tr>\n",
       "    <tr>\n",
       "      <th>3</th>\n",
       "      <td>[24, 25, 26, 27, 24]</td>\n",
       "      <td>None</td>\n",
       "    </tr>\n",
       "    <tr>\n",
       "      <th>4</th>\n",
       "      <td>[34, 35, 36, 34, 37, 35, 36, 37, 38, 39, 38, 39]</td>\n",
       "      <td>None</td>\n",
       "    </tr>\n",
       "    <tr>\n",
       "      <th>5</th>\n",
       "      <td>[42]</td>\n",
       "      <td>None</td>\n",
       "    </tr>\n",
       "    <tr>\n",
       "      <th>6</th>\n",
       "      <td>[47, 48, 49]</td>\n",
       "      <td>None</td>\n",
       "    </tr>\n",
       "    <tr>\n",
       "      <th>7</th>\n",
       "      <td>[59, 60, 61, 62, 60, 63, 64, 65, 66, 61, 67, 6...</td>\n",
       "      <td>[67, 60, 63]</td>\n",
       "    </tr>\n",
       "    <tr>\n",
       "      <th>8</th>\n",
       "      <td>[71, 72, 73, 74]</td>\n",
       "      <td>None</td>\n",
       "    </tr>\n",
       "    <tr>\n",
       "      <th>9</th>\n",
       "      <td>[76, 77, 78]</td>\n",
       "      <td>None</td>\n",
       "    </tr>\n",
       "  </tbody>\n",
       "</table>\n",
       "</div>"
      ],
      "text/plain": [
       "                                                 see           buy\n",
       "0                                 [0, 1, 2, 3, 4, 5]          None\n",
       "1                      [9, 10, 11, 9, 11, 12, 9, 11]          None\n",
       "2                           [16, 17, 18, 19, 20, 21]          None\n",
       "3                               [24, 25, 26, 27, 24]          None\n",
       "4   [34, 35, 36, 34, 37, 35, 36, 37, 38, 39, 38, 39]          None\n",
       "5                                               [42]          None\n",
       "6                                       [47, 48, 49]          None\n",
       "7  [59, 60, 61, 62, 60, 63, 64, 65, 66, 61, 67, 6...  [67, 60, 63]\n",
       "8                                   [71, 72, 73, 74]          None\n",
       "9                                       [76, 77, 78]          None"
      ]
     },
     "execution_count": 7,
     "metadata": {},
     "output_type": "execute_result"
    }
   ],
   "source": [
    "data_train.head(10)"
   ]
  },
  {
   "cell_type": "code",
   "execution_count": 8,
   "metadata": {
    "collapsed": false
   },
   "outputs": [
    {
     "data": {
      "text/plain": [
       "(3608,)"
      ]
     },
     "execution_count": 8,
     "metadata": {},
     "output_type": "execute_result"
    }
   ],
   "source": [
    "data_train.buy.dropna().shape"
   ]
  },
  {
   "cell_type": "markdown",
   "metadata": {},
   "source": [
    "* создаем список купленных товаров по сессиям, получится приблизительно такое [[0,1,2,3],[15,16],[4]...]\n",
    "* создаем словарь просмотренных товаров (ключ - id товара, значение - его частота) как вариант, создать пустой словарь, затем перебором списка ВСЕХ просмотренных товаров добавить в словарь, если их нет, если они повторяются -- инкрементировать значение"
   ]
  },
  {
   "cell_type": "code",
   "execution_count": 9,
   "metadata": {
    "collapsed": false
   },
   "outputs": [],
   "source": [
    "buy_list = data_train.buy.dropna().values\n",
    "ordered_c = OrderedCounter(np.concatenate(data_train.see.values))"
   ]
  },
  {
   "cell_type": "markdown",
   "metadata": {},
   "source": [
    "* создать список, состоящий из списков просмотренных товаров за каждую сессию) ПОСЛЕ dropna"
   ]
  },
  {
   "cell_type": "code",
   "execution_count": 10,
   "metadata": {
    "collapsed": false
   },
   "outputs": [],
   "source": [
    "see_list_dropna = data_train.dropna().see"
   ]
  },
  {
   "cell_type": "code",
   "execution_count": 1,
   "metadata": {
    "collapsed": true
   },
   "outputs": [],
   "source": [
    "a=[1, 0, 0, 1]\n",
    "b=[1, 1, 0, 0] "
   ]
  },
  {
   "cell_type": "code",
   "execution_count": 21,
   "metadata": {
    "collapsed": false
   },
   "outputs": [
    {
     "data": {
      "text/plain": [
       "0.41666666666666674"
      ]
     },
     "execution_count": 21,
     "metadata": {},
     "output_type": "execute_result"
    }
   ],
   "source": [
    "(1+1+2.0/3+2.0/4)*0.5-(1+1.0/2+1.0/3+2.0/4)*0.5"
   ]
  },
  {
   "cell_type": "markdown",
   "metadata": {},
   "source": [
    "* двойным перебором полученного в предыдущем пункте списка преобразовать его в список кортежей вида [[(60,2) ,(59,3)], [(130,1)]...]. частоту брать из словаря. следует обратить внимание на то, что получится список списков кортежей типа (х,у)"
   ]
  },
  {
   "cell_type": "code",
   "execution_count": 11,
   "metadata": {
    "collapsed": false
   },
   "outputs": [
    {
     "data": {
      "text/plain": [
       "array([ 5,  6,  4, 57, 12])"
      ]
     },
     "execution_count": 11,
     "metadata": {},
     "output_type": "execute_result"
    }
   ],
   "source": [
    "pd.unique([5,5,6,4,57,12,5])"
   ]
  },
  {
   "cell_type": "code",
   "execution_count": 12,
   "metadata": {
    "collapsed": false
   },
   "outputs": [
    {
     "data": {
      "text/plain": [
       "{4, 5, 6, 12, 57}"
      ]
     },
     "execution_count": 12,
     "metadata": {},
     "output_type": "execute_result"
    }
   ],
   "source": [
    "set([5,5,6,4,57,12,5])"
   ]
  },
  {
   "cell_type": "code",
   "execution_count": 13,
   "metadata": {
    "collapsed": false
   },
   "outputs": [],
   "source": [
    "list_of_pair = []\n",
    "for list_ in see_list_dropna:\n",
    "    lst = []\n",
    "    for elem_ in pd.unique(list_):\n",
    "        lst.append((elem_,ordered_c[elem_]))\n",
    "    list_of_pair.append(lst)"
   ]
  },
  {
   "cell_type": "markdown",
   "metadata": {},
   "source": [
    "* отсортировать кортежи в каждом списке полученного массива"
   ]
  },
  {
   "cell_type": "code",
   "execution_count": 14,
   "metadata": {
    "collapsed": false
   },
   "outputs": [
    {
     "data": {
      "text/plain": [
       "3608"
      ]
     },
     "execution_count": 14,
     "metadata": {},
     "output_type": "execute_result"
    }
   ],
   "source": [
    "len(list_of_pair)"
   ]
  },
  {
   "cell_type": "code",
   "execution_count": 15,
   "metadata": {
    "collapsed": false,
    "scrolled": true
   },
   "outputs": [
    {
     "data": {
      "text/plain": [
       "array([array([59, 60, 61, 62, 60, 63, 64, 65, 66, 61, 67, 68, 67], dtype=uint32),\n",
       "       array([84, 85, 86, 87, 88, 89, 84, 90, 91, 92, 93, 86], dtype=uint32),\n",
       "       array([138, 198, 199, 127], dtype=uint32), ...,\n",
       "       array([64552, 25931,  2807], dtype=uint32),\n",
       "       array([91921, 20251,  5063, 21742,  5063, 20251, 34927], dtype=uint32),\n",
       "       array([32291, 60520, 32291, 38220], dtype=uint32)], dtype=object)"
      ]
     },
     "execution_count": 15,
     "metadata": {},
     "output_type": "execute_result"
    }
   ],
   "source": [
    "see_list_dropna.values"
   ]
  },
  {
   "cell_type": "code",
   "execution_count": 16,
   "metadata": {
    "collapsed": false
   },
   "outputs": [],
   "source": [
    "for tb in list_of_pair:\n",
    "    tb.sort(key=lambda x: x[1],reverse=True)"
   ]
  },
  {
   "cell_type": "markdown",
   "metadata": {},
   "source": [
    "* обратное преобразование в список просмотренных товаров по сессиям (берется только нулевая компонента кортежа (x,y)[0])"
   ]
  },
  {
   "cell_type": "code",
   "execution_count": 17,
   "metadata": {
    "collapsed": false
   },
   "outputs": [],
   "source": [
    "sorted_list = []\n",
    "for list_ in list_of_pair:\n",
    "    sorted_list.append(map(lambda x: x[0],list_))"
   ]
  },
  {
   "cell_type": "markdown",
   "metadata": {},
   "source": [
    "### Задание 2. \n",
    "\n",
    "Реализуйте два алгоритма рекомендаций: сортировка просмотренных `id` по популярности (частота появления в просмотренных), сортировка просморенных `id` по покупаемости (частота появления в покупках). Если частота одинаковая, то сортировать надо по возрастанию момента просмотра (чем раньше появился в просмотренных, тем больше приоритет)"
   ]
  },
  {
   "cell_type": "code",
   "execution_count": 18,
   "metadata": {
    "collapsed": true
   },
   "outputs": [],
   "source": [
    "# def Precision(session, dic_sort,dic_set , k):\n",
    "#     see=session.see\n",
    "    \n",
    "#     buy = session.buy\n",
    "    \n",
    "#     k = min(k,see.shape[0])\n",
    "#     see = f7(see)\n",
    "    \n",
    "#     see = [s for s in see if s in dic_set]\n",
    "    \n",
    "#     if len(see) == 0:\n",
    "#         return 0\n",
    "    \n",
    "#     sorted(see,key= lambda x: train_see_dic[x],reverse=True)\n",
    "#     reccomend = see[:k]\n",
    "    \n",
    "#     bough_rec = np.intersect1d(reccomend,buy)\n",
    "    \n",
    "#     return bough_rec.shape[0]/float(k)"
   ]
  },
  {
   "cell_type": "code",
   "execution_count": 31,
   "metadata": {
    "collapsed": true
   },
   "outputs": [],
   "source": [
    "def Precision(see,buy, k):\n",
    "#     \n",
    "#     k = min(k,len(see))\n",
    "    \n",
    "#     bough_rec = np.intersect1d(see[:k],buy)\n",
    "    bough_rec = [s for s in buy if s in see[:k]]\n",
    "    \n",
    "    return len(bough_rec)/float(k)"
   ]
  },
  {
   "cell_type": "code",
   "execution_count": null,
   "metadata": {
    "collapsed": true
   },
   "outputs": [],
   "source": [
    "# def Recall(session, buy,dic_set, k):\n",
    "#     see=session.see\n",
    "    \n",
    "#     buy = session.buy\n",
    "#     k = min(k,see.shape[0])\n",
    "#     t = min(see.shape[0],buy.shape[0])\n",
    "#     see = f7(see)\n",
    "    \n",
    "    \n",
    "    \n",
    "#     see = [s for s in see if s in dic_set]\n",
    "    \n",
    "#     if len(see) == 0:\n",
    "#         return 0\n",
    "    \n",
    "#     sorted(see,key= lambda x: train_see_dic[x],reverse=True)\n",
    "#     reccomend = see[:k]\n",
    "    \n",
    "#     bough_rec = np.intersect1d(reccomend,buy)\n",
    "    \n",
    "#     return bough_rec.shape[0]/float(t)"
   ]
  },
  {
   "cell_type": "code",
   "execution_count": 32,
   "metadata": {
    "collapsed": false
   },
   "outputs": [],
   "source": [
    "def Recall(see,buy, k):\n",
    "\n",
    "    k = min(k,len(see))\n",
    "    t = min(len(see),len(buy))\n",
    "#     k = min(k,t)\n",
    "    \n",
    "#     see = [s for s in see if s in dic_set]\n",
    "    \n",
    "    bough_rec = [s for s in buy if s in see[:k]]#np.intersect1d(see[:k],buy)\n",
    "    \n",
    "    return len(bough_rec)/float(t)"
   ]
  },
  {
   "cell_type": "markdown",
   "metadata": {},
   "source": [
    "### Задание 3. \n",
    "\n",
    "Для данных алгоритмов выпишите через пробел `AverageRecall@1`, `AveragePrecision@1`, `AverageRecall@5`, `AveragePrecision@5` на обучающей и тестовых выборках, округляя до 2 знака после запятой. Это будут ваши ответы в этом задании. Посмотрите, как они соотносятся друг с другом. Где качество получилось выше? Значимо ли это различие? Обратите внимание на различие качества на обучающей и тестовой выборке в случае рекомендаций по частотам покупки."
   ]
  },
  {
   "cell_type": "code",
   "execution_count": 22,
   "metadata": {
    "collapsed": true
   },
   "outputs": [],
   "source": [
    "len_test = len(sorted_list)"
   ]
  },
  {
   "cell_type": "code",
   "execution_count": 23,
   "metadata": {
    "collapsed": false
   },
   "outputs": [
    {
     "data": {
      "text/plain": [
       "3608"
      ]
     },
     "execution_count": 23,
     "metadata": {},
     "output_type": "execute_result"
    }
   ],
   "source": [
    "len_test"
   ]
  },
  {
   "cell_type": "code",
   "execution_count": 33,
   "metadata": {
    "collapsed": false,
    "scrolled": true
   },
   "outputs": [
    {
     "name": "stdout",
     "output_type": "stream",
     "text": [
      "0.44601416845 0.512195121951 0.82959512771 0.212527716186\n"
     ]
    }
   ],
   "source": [
    "precision_buy_test_1 = 0.0\n",
    "precision_buy_test_5 = 0.0\n",
    "\n",
    "recall_buy_test_1 = 0.0\n",
    "recall_buy_test_5 = 0.0\n",
    "for buy,see in zip(buy_list,sorted_list):\n",
    "    precision_buy_test_1 += Precision(see,buy,1)\n",
    "    precision_buy_test_5 += Precision(see,buy,5)\n",
    "    recall_buy_test_1 += Recall(see,buy,1)\n",
    "    recall_buy_test_5 += Recall(see,buy,5)\n",
    "print recall_buy_test_1/len_test,precision_buy_test_1/len_test,\\\n",
    "recall_buy_test_5/len_test,precision_buy_test_5/len_test"
   ]
  },
  {
   "cell_type": "code",
   "execution_count": 92,
   "metadata": {
    "collapsed": false
   },
   "outputs": [
    {
     "data": {
      "text/plain": [
       "[0.4706289814521518,\n",
       " 0.5454545454545454,\n",
       " 0.8162751297729124,\n",
       " 0.2093680709534424]"
      ]
     },
     "execution_count": 92,
     "metadata": {},
     "output_type": "execute_result"
    }
   ],
   "source": [
    "[0.4706289814521518, 0.5454545454545454, 0.8162751297729124, 0.2093680709534424]"
   ]
  },
  {
   "cell_type": "code",
   "execution_count": 93,
   "metadata": {
    "collapsed": false
   },
   "outputs": [
    {
     "name": "stdout",
     "output_type": "stream",
     "text": [
      "[0.4460141684504208, 0.5121951219512195, 0.8295951277104273, 0.21252771618625918]\n"
     ]
    }
   ],
   "source": [
    "ans1=[recall_buy_test_1/len_test,precision_buy_test_1/len_test,\\\n",
    "recall_buy_test_5/len_test,precision_buy_test_5/len_test]\n",
    "print ans1"
   ]
  },
  {
   "cell_type": "code",
   "execution_count": 94,
   "metadata": {
    "collapsed": false
   },
   "outputs": [],
   "source": [
    "ans1=map(lambda x : round(x,2),ans1)"
   ]
  },
  {
   "cell_type": "code",
   "execution_count": 95,
   "metadata": {
    "collapsed": false
   },
   "outputs": [
    {
     "data": {
      "text/plain": [
       "'[0.45, 0.51, 0.83, 0.21]'"
      ]
     },
     "execution_count": 95,
     "metadata": {},
     "output_type": "execute_result"
    }
   ],
   "source": [
    "str(ans1)"
   ]
  },
  {
   "cell_type": "code",
   "execution_count": 96,
   "metadata": {
    "collapsed": false
   },
   "outputs": [],
   "source": [
    "with open(\"ans1\",\"w\") as f:\n",
    "    for an in ans1:\n",
    "        f.write(str(an)+' ')"
   ]
  },
  {
   "cell_type": "markdown",
   "metadata": {},
   "source": [
    "### Тестовая выборка"
   ]
  },
  {
   "cell_type": "code",
   "execution_count": 46,
   "metadata": {
    "collapsed": true
   },
   "outputs": [],
   "source": [
    "buy_list = data_test.buy.dropna().values\n",
    "see_list_dropna = data_test.dropna().see\n",
    "list_of_pair = []\n",
    "for list_ in see_list_dropna:\n",
    "    lst = []\n",
    "    for elem_ in pd.unique(list_):\n",
    "        lst.append((elem_,ordered_c[elem_]))\n",
    "    list_of_pair.append(lst)\n",
    "    \n",
    "for tb in list_of_pair:\n",
    "    tb.sort(key=lambda x: x[1],reverse=True)\n",
    "    \n",
    "    \n",
    "sorted_list = []\n",
    "for list_ in list_of_pair:\n",
    "    sorted_list.append(map(lambda x: x[0],list_))"
   ]
  },
  {
   "cell_type": "code",
   "execution_count": 47,
   "metadata": {
    "collapsed": false
   },
   "outputs": [
    {
     "name": "stdout",
     "output_type": "stream",
     "text": [
      "3665\n"
     ]
    }
   ],
   "source": [
    "len_test = len(sorted_list)\n",
    "print len_test"
   ]
  },
  {
   "cell_type": "code",
   "execution_count": 48,
   "metadata": {
    "collapsed": false
   },
   "outputs": [
    {
     "name": "stdout",
     "output_type": "stream",
     "text": [
      "0.421215595834 0.481309686221 0.804883057361 0.203765347885\n"
     ]
    }
   ],
   "source": [
    "precision_buy_test_1 = 0.0\n",
    "precision_buy_test_5 = 0.0\n",
    "\n",
    "recall_buy_test_1 = 0.0\n",
    "recall_buy_test_5 = 0.0\n",
    "for buy,see in zip(buy_list,sorted_list):\n",
    "    precision_buy_test_1 += Precision(see,buy,1)\n",
    "    precision_buy_test_5 += Precision(see,buy,5)\n",
    "    recall_buy_test_1 += Recall(see,buy,1)\n",
    "    recall_buy_test_5 += Recall(see,buy,5)\n",
    "print recall_buy_test_1/len_test,precision_buy_test_1/len_test,\\\n",
    "recall_buy_test_5/len_test,precision_buy_test_5/len_test"
   ]
  },
  {
   "cell_type": "code",
   "execution_count": 49,
   "metadata": {
    "collapsed": false
   },
   "outputs": [
    {
     "name": "stdout",
     "output_type": "stream",
     "text": [
      "[0.4212155958336038, 0.48130968622100956, 0.8048830573611896, 0.2037653478854079]\n"
     ]
    }
   ],
   "source": [
    "ans2=[recall_buy_test_1/len_test,precision_buy_test_1/len_test,\\\n",
    "recall_buy_test_5/len_test,precision_buy_test_5/len_test]\n",
    "print ans2\n",
    "ans2=map(lambda x : round(x,2),ans2)\n",
    "with open(\"ans2\",\"w\") as f:\n",
    "    for an in ans2:\n",
    "        f.write(str(an)+' ')"
   ]
  },
  {
   "cell_type": "markdown",
   "metadata": {},
   "source": [
    "## Обучение на просмотрах"
   ]
  },
  {
   "cell_type": "code",
   "execution_count": 54,
   "metadata": {
    "collapsed": false
   },
   "outputs": [],
   "source": [
    "ordered_c = OrderedCounter(np.concatenate(data_train.buy.dropna().values))\n",
    "\n",
    "buy_list = data_train.buy.dropna().values\n",
    "see_list_dropna = data_train.dropna().see\n",
    "list_of_pair = []\n",
    "for list_ in see_list_dropna:\n",
    "    lst = []\n",
    "    for elem_ in pd.unique(list_):\n",
    "        lst.append((elem_,ordered_c[elem_]))\n",
    "    list_of_pair.append(lst)\n",
    "    \n",
    "for tb in list_of_pair:\n",
    "    tb.sort(key=lambda x: x[1],reverse=True)\n",
    "    \n",
    "    \n",
    "sorted_list = []\n",
    "for list_ in list_of_pair:\n",
    "    sorted_list.append(map(lambda x: x[0],list_))\n",
    "\n",
    "len_test = len(sorted_list)\n",
    "print len_test\n",
    "\n",
    "precision_buy_test_1 = 0.0\n",
    "precision_buy_test_5 = 0.0\n",
    "\n",
    "recall_buy_test_1 = 0.0\n",
    "recall_buy_test_5 = 0.0\n",
    "for buy,see in zip(buy_list,sorted_list):\n",
    "    precision_buy_test_1 += Precision(see,buy,1)\n",
    "    precision_buy_test_5 += Precision(see,buy,5)\n",
    "    recall_buy_test_1 += Recall(see,buy,1)\n",
    "    recall_buy_test_5 += Recall(see,buy,5)\n",
    "print recall_buy_test_1/len_test,precision_buy_test_1/len_test,\\\n",
    "recall_buy_test_5/len_test,precision_buy_test_5/len_test"
   ]
  },
  {
   "cell_type": "code",
   "execution_count": 59,
   "metadata": {
    "collapsed": false
   },
   "outputs": [
    {
     "name": "stdout",
     "output_type": "stream",
     "text": [
      "[0.6922932604473627, 0.8037694013303769, 0.9312244635138202, 0.2525498891352649]\n"
     ]
    }
   ],
   "source": [
    "ans3=[recall_buy_test_1/len_test,precision_buy_test_1/len_test,\\\n",
    "recall_buy_test_5/len_test,precision_buy_test_5/len_test]\n",
    "print ans3\n",
    "ans3=map(lambda x : round(x,2),ans2)\n",
    "with open(\"ans3\",\"w\") as f:\n",
    "    for an in ans2:\n",
    "        f.write(str(an)+' ')"
   ]
  },
  {
   "cell_type": "markdown",
   "metadata": {},
   "source": [
    "### тестовая выборка"
   ]
  },
  {
   "cell_type": "code",
   "execution_count": 60,
   "metadata": {
    "collapsed": false
   },
   "outputs": [
    {
     "name": "stdout",
     "output_type": "stream",
     "text": [
      "3665\n",
      "0.464368894443 0.527694406548 0.825042921216 0.210095497954\n"
     ]
    }
   ],
   "source": [
    "ordered_c = OrderedCounter(np.concatenate(data_train.buy.dropna().values))\n",
    "\n",
    "buy_list = data_test.buy.dropna().values\n",
    "see_list_dropna = data_test.dropna().see\n",
    "list_of_pair = []\n",
    "for list_ in see_list_dropna:\n",
    "    lst = []\n",
    "    for elem_ in pd.unique(list_):\n",
    "        lst.append((elem_,ordered_c[elem_]))\n",
    "    list_of_pair.append(lst)\n",
    "    \n",
    "for tb in list_of_pair:\n",
    "    tb.sort(key=lambda x: x[1],reverse=True)\n",
    "    \n",
    "    \n",
    "sorted_list = []\n",
    "for list_ in list_of_pair:\n",
    "    sorted_list.append(map(lambda x: x[0],list_))\n",
    "\n",
    "len_test = len(sorted_list)\n",
    "print len_test\n",
    "\n",
    "precision_buy_test_1 = 0.0\n",
    "precision_buy_test_5 = 0.0\n",
    "\n",
    "recall_buy_test_1 = 0.0\n",
    "recall_buy_test_5 = 0.0\n",
    "for buy,see in zip(buy_list,sorted_list):\n",
    "    precision_buy_test_1 += Precision(see,buy,1)\n",
    "    precision_buy_test_5 += Precision(see,buy,5)\n",
    "    recall_buy_test_1 += Recall(see,buy,1)\n",
    "    recall_buy_test_5 += Recall(see,buy,5)\n",
    "print recall_buy_test_1/len_test,precision_buy_test_1/len_test,\\\n",
    "recall_buy_test_5/len_test,precision_buy_test_5/len_test"
   ]
  },
  {
   "cell_type": "code",
   "execution_count": 61,
   "metadata": {
    "collapsed": false
   },
   "outputs": [
    {
     "name": "stdout",
     "output_type": "stream",
     "text": [
      "[0.4643688944427246, 0.5276944065484311, 0.8250429212157806, 0.21009549795362173]\n"
     ]
    }
   ],
   "source": [
    "ans4=[recall_buy_test_1/len_test,precision_buy_test_1/len_test,\\\n",
    "recall_buy_test_5/len_test,precision_buy_test_5/len_test]\n",
    "print ans4\n",
    "ans4=map(lambda x : round(x,2),ans4)\n",
    "with open(\"ans4\",\"w\") as f:\n",
    "    for an in ans4:\n",
    "        f.write(str(an)+' ')"
   ]
  },
  {
   "cell_type": "code",
   "execution_count": null,
   "metadata": {
    "collapsed": true
   },
   "outputs": [],
   "source": []
  },
  {
   "cell_type": "markdown",
   "metadata": {},
   "source": [
    "### Дополнительные вопросы\n",
    "\n",
    "* Обратите внимание, что при сортировке по покупаемости возникает много товаров с одинаковым рангом - это означает, что значение метрик будет зависеть от того, как мы будем сортировать товары с одинаковым рангом. Попробуйте убедиться, что при изменении сортировки таких товаров `recall@k` меняется. Подумайте, как оценить минимальное и максимальное значение `recall@k` в зависимости от правила сортировки.\n",
    "* Мы обучаемся и тестируемся на полных сессиях (в которых есть все просмотренные за сессию товары). Подумайте, почему полученная нами оценка качества рекомендаций в этом случае несколько завышена."
   ]
  }
 ],
 "metadata": {
  "anaconda-cloud": {},
  "kernelspec": {
   "display_name": "Python 3",
   "language": "python",
   "name": "python3"
  },
  "language_info": {
   "codemirror_mode": {
    "name": "ipython",
    "version": 3
   },
   "file_extension": ".py",
   "mimetype": "text/x-python",
   "name": "python",
   "nbconvert_exporter": "python",
   "pygments_lexer": "ipython3",
   "version": "3.6.0"
  }
 },
 "nbformat": 4,
 "nbformat_minor": 1
}
