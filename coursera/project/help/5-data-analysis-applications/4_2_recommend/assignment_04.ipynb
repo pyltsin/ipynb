{
 "cells": [
  {
   "cell_type": "markdown",
   "metadata": {},
   "source": [
    "# Programming Assignment: Рекомендательные системы\n",
    "\n",
    "## Описание задачи\n",
    "\n",
    "Небольшой интернет-магазин попросил вас добавить ранжирование товаров в блок «Смотрели ранее» — в нем теперь надо показывать не последние просмотренные пользователем товары, а те товары из просмотренных, которые он наиболее вероятно купит. Качество вашего решения будет оцениваться по количеству покупок в сравнении с прошлым решением в ходе А/В теста, т.к. по доходу от продаж статзначимость будет достигаться дольше из-за разброса цен. Таким образом, ничего заранее не зная про корелляцию оффлайновых и онлайновых метрик качества, в начале проекта вы можете лишь постараться оптимизировать `recall@k` и `precision@k`.\n",
    "\n",
    "Это задание посвящено построению простых бейзлайнов для этой задачи: ранжирование просмотренных товаров по частоте просмотров и по частоте покупок. Эти бейзлайны, с одной стороны, могут помочь вам грубо оценить возможный эффект от ранжирования товаров в блоке — например, чтобы вписать какие-то числа в коммерческое предложение заказчику, а с другой стороны, могут оказаться самым хорошим вариантом, если данных очень мало (недостаточно для обучения даже простых моделей).\n",
    "\n",
    "## Данные\n",
    "\n",
    "Вам дается две выборки с пользовательскими сессиями – `id`-шниками просмотренных и `id`-шниками купленных товаров. Одна выборка будет использоваться для обучения (оценки популярностей товаров), а другая - для теста.\n",
    "\n",
    "В файлах записаны сессии по одной в каждой строке. Формат сессии: `id` просмотренных товаров через `,` затем идёт `;`, после чего следуют `id` купленных товаров (если такие имеются), разделённые запятой. Например, `1,2,3,4;` или `1,2,3,4;5,6`.\n",
    "\n",
    "Гарантируется, что среди `id` купленных товаров все различные.\n",
    "\n",
    "**Важно:**\n",
    "* Сессии, в которых пользователь ничего не купил, исключаем из оценки качества.\n",
    "* Если товар не встречался в обучающей выборке, его популярность равна 0.\n",
    "* Рекомендуем разные товары. И их число должно быть не больше, чем количество различных просмотренных пользователем товаров.\n",
    "* Рекомендаций всегда не больше, чем минимум из двух чисел: количество просмотренных пользователем товаров и `k` в `recall@k`/`precision@k`.\n",
    "\n",
    "\n",
    "## Задание"
   ]
  },
  {
   "cell_type": "code",
<<<<<<< HEAD
   "execution_count": 1,
   "metadata": {
    "collapsed": true
=======
   "execution_count": 15,
   "metadata": {
    "collapsed": false
>>>>>>> 70d4993a23986efe2dab590e4f207ff08233007c
   },
   "outputs": [],
   "source": [
    "import pandas as pd\n",
    "import numpy as np\n",
<<<<<<< HEAD
=======
    "from collections import OrderedDict\n",
>>>>>>> 70d4993a23986efe2dab590e4f207ff08233007c
    "from collections import Counter"
   ]
  },
  {
   "cell_type": "code",
<<<<<<< HEAD
   "execution_count": 36,
=======
   "execution_count": 3,
   "metadata": {
    "collapsed": true
   },
   "outputs": [],
   "source": [
    "def f7(seq):\n",
    "    seen = set()\n",
    "    seen_add = seen.add\n",
    "    return [x for x in seq if not (x in seen or seen_add(x))]"
   ]
  },
  {
   "cell_type": "code",
   "execution_count": 4,
>>>>>>> 70d4993a23986efe2dab590e4f207ff08233007c
   "metadata": {
    "collapsed": true
   },
   "outputs": [],
   "source": [
    "def str2list(string):\n",
    "    if len(string) == 0:\n",
    "        return None\n",
    "    try: \n",
    "        return np.array(string.split(','),dtype=np.uint32)\n",
    "    except ValueError as e:\n",
    "        print('string: ', string)"
   ]
  },
  {
<<<<<<< HEAD
=======
   "cell_type": "code",
   "execution_count": 18,
   "metadata": {
    "collapsed": false
   },
   "outputs": [],
   "source": [
    "class OrderedCounter(Counter, OrderedDict):\n",
    "    'Counter that remembers the order elements are first encountered'\n",
    "\n",
    "    def __repr__(self):\n",
    "        return '%s(%r)' % (self.__class__.__name__, OrderedDict(self))\n",
    "\n",
    "    def __reduce__(self):\n",
    "        return self.__class__, (OrderedDict(self),)"
   ]
  },
  {
>>>>>>> 70d4993a23986efe2dab590e4f207ff08233007c
   "cell_type": "markdown",
   "metadata": {},
   "source": [
    "### Задание 1. \n",
    "\n",
    "На обучении постройте частоты появления `id` в просмотренных и в купленных (`id` может несколько раз появляться в просмотренных, все появления надо учитывать)."
   ]
  },
  {
   "cell_type": "code",
<<<<<<< HEAD
   "execution_count": 37,
=======
   "execution_count": 5,
>>>>>>> 70d4993a23986efe2dab590e4f207ff08233007c
   "metadata": {
    "collapsed": false
   },
   "outputs": [],
   "source": [
    "data_train = pd.read_table(\"coursera_sessions_train.txt\",sep=';',header=None,converters={0:str2list, 1:str2list})\n",
    "data_test = pd.read_table(\"coursera_sessions_train.txt\",sep=';',header=None,converters={0:str2list, 1:str2list})\n",
    "\n",
    "data_train.columns=['see','buy']\n",
    "data_test.columns=['see','buy']"
   ]
  },
  {
   "cell_type": "code",
<<<<<<< HEAD
   "execution_count": 42,
   "metadata": {
    "collapsed": false,
    "scrolled": true
=======
   "execution_count": 10,
   "metadata": {
    "collapsed": false
   },
   "outputs": [],
   "source": [
    "train_see = np.concatenate(data_train.see.values)"
   ]
  },
  {
   "cell_type": "code",
   "execution_count": 45,
   "metadata": {
    "collapsed": false
   },
   "outputs": [],
   "source": [
    "buy_dict_train = OrderedCounter(train_see)"
   ]
  },
  {
   "cell_type": "code",
   "execution_count": 54,
   "metadata": {
    "collapsed": false
>>>>>>> 70d4993a23986efe2dab590e4f207ff08233007c
   },
   "outputs": [
    {
     "data": {
      "text/html": [
       "<div>\n",
       "<table border=\"1\" class=\"dataframe\">\n",
       "  <thead>\n",
       "    <tr style=\"text-align: right;\">\n",
       "      <th></th>\n",
       "      <th>see</th>\n",
       "      <th>buy</th>\n",
       "    </tr>\n",
       "  </thead>\n",
       "  <tbody>\n",
       "    <tr>\n",
       "      <th>0</th>\n",
<<<<<<< HEAD
       "      <td>[0, 1, 2, 3, 4, 5]</td>\n",
=======
       "      <td>[1, 2, 0, 3, 4, 5]</td>\n",
>>>>>>> 70d4993a23986efe2dab590e4f207ff08233007c
       "      <td>None</td>\n",
       "    </tr>\n",
       "    <tr>\n",
       "      <th>1</th>\n",
       "      <td>[9, 10, 11, 9, 11, 12, 9, 11]</td>\n",
       "      <td>None</td>\n",
       "    </tr>\n",
       "    <tr>\n",
       "      <th>2</th>\n",
       "      <td>[16, 17, 18, 19, 20, 21]</td>\n",
       "      <td>None</td>\n",
       "    </tr>\n",
       "    <tr>\n",
       "      <th>3</th>\n",
       "      <td>[24, 25, 26, 27, 24]</td>\n",
       "      <td>None</td>\n",
       "    </tr>\n",
       "    <tr>\n",
       "      <th>4</th>\n",
       "      <td>[34, 35, 36, 34, 37, 35, 36, 37, 38, 39, 38, 39]</td>\n",
       "      <td>None</td>\n",
       "    </tr>\n",
<<<<<<< HEAD
       "  </tbody>\n",
       "</table>\n",
       "</div>"
      ],
      "text/plain": [
       "                                                see   buy\n",
       "0                                [0, 1, 2, 3, 4, 5]  None\n",
       "1                     [9, 10, 11, 9, 11, 12, 9, 11]  None\n",
       "2                          [16, 17, 18, 19, 20, 21]  None\n",
       "3                              [24, 25, 26, 27, 24]  None\n",
       "4  [34, 35, 36, 34, 37, 35, 36, 37, 38, 39, 38, 39]  None"
      ]
     },
     "execution_count": 42,
=======
       "    <tr>\n",
       "      <th>5</th>\n",
       "      <td>[42]</td>\n",
       "      <td>None</td>\n",
       "    </tr>\n",
       "    <tr>\n",
       "      <th>6</th>\n",
       "      <td>[47, 48, 49]</td>\n",
       "      <td>None</td>\n",
       "    </tr>\n",
       "    <tr>\n",
       "      <th>7</th>\n",
       "      <td>[59, 60, 61, 62, 60, 63, 64, 65, 66, 61, 67, 6...</td>\n",
       "      <td>[67, 60, 63]</td>\n",
       "    </tr>\n",
       "    <tr>\n",
       "      <th>8</th>\n",
       "      <td>[71, 72, 73, 74]</td>\n",
       "      <td>None</td>\n",
       "    </tr>\n",
       "    <tr>\n",
       "      <th>9</th>\n",
       "      <td>[76, 77, 78]</td>\n",
       "      <td>None</td>\n",
       "    </tr>\n",
       "    <tr>\n",
       "      <th>10</th>\n",
       "      <td>[84, 85, 86, 87, 88, 89, 84, 90, 91, 92, 93, 86]</td>\n",
       "      <td>[86]</td>\n",
       "    </tr>\n",
       "    <tr>\n",
       "      <th>11</th>\n",
       "      <td>[114, 77, 115, 116, 117, 118, 119, 120, 121, 1...</td>\n",
       "      <td>None</td>\n",
       "    </tr>\n",
       "    <tr>\n",
       "      <th>12</th>\n",
       "      <td>[129, 130, 131, 132, 133, 134]</td>\n",
       "      <td>None</td>\n",
       "    </tr>\n",
       "    <tr>\n",
       "      <th>13</th>\n",
       "      <td>[93, 137, 138, 139, 140, 141, 142, 141, 143, 144]</td>\n",
       "      <td>None</td>\n",
       "    </tr>\n",
       "    <tr>\n",
       "      <th>14</th>\n",
       "      <td>[97, 155, 156, 155, 157, 93]</td>\n",
       "      <td>None</td>\n",
       "    </tr>\n",
       "    <tr>\n",
       "      <th>15</th>\n",
       "      <td>[163, 87, 129, 164, 129, 130, 165, 166]</td>\n",
       "      <td>None</td>\n",
       "    </tr>\n",
       "    <tr>\n",
       "      <th>16</th>\n",
       "      <td>[173, 174, 175, 174, 176]</td>\n",
       "      <td>None</td>\n",
       "    </tr>\n",
       "    <tr>\n",
       "      <th>17</th>\n",
       "      <td>[136, 192]</td>\n",
       "      <td>None</td>\n",
       "    </tr>\n",
       "    <tr>\n",
       "      <th>18</th>\n",
       "      <td>[195, 196]</td>\n",
       "      <td>None</td>\n",
       "    </tr>\n",
       "    <tr>\n",
       "      <th>19</th>\n",
       "      <td>[138, 198, 199, 127]</td>\n",
       "      <td>[199]</td>\n",
       "    </tr>\n",
       "    <tr>\n",
       "      <th>20</th>\n",
       "      <td>[206, 207]</td>\n",
       "      <td>None</td>\n",
       "    </tr>\n",
       "    <tr>\n",
       "      <th>21</th>\n",
       "      <td>[216, 217]</td>\n",
       "      <td>None</td>\n",
       "    </tr>\n",
       "    <tr>\n",
       "      <th>22</th>\n",
       "      <td>[220]</td>\n",
       "      <td>None</td>\n",
       "    </tr>\n",
       "    <tr>\n",
       "      <th>23</th>\n",
       "      <td>[223, 224, 225]</td>\n",
       "      <td>None</td>\n",
       "    </tr>\n",
       "    <tr>\n",
       "      <th>24</th>\n",
       "      <td>[241, 242, 243, 244, 245, 246, 247, 248, 249, ...</td>\n",
       "      <td>None</td>\n",
       "    </tr>\n",
       "    <tr>\n",
       "      <th>25</th>\n",
       "      <td>[253, 254, 169]</td>\n",
       "      <td>None</td>\n",
       "    </tr>\n",
       "    <tr>\n",
       "      <th>26</th>\n",
       "      <td>[262, 263, 262, 264]</td>\n",
       "      <td>None</td>\n",
       "    </tr>\n",
       "    <tr>\n",
       "      <th>27</th>\n",
       "      <td>[265, 266, 267, 268, 269, 270, 269, 268, 271, ...</td>\n",
       "      <td>None</td>\n",
       "    </tr>\n",
       "    <tr>\n",
       "      <th>28</th>\n",
       "      <td>[291]</td>\n",
       "      <td>None</td>\n",
       "    </tr>\n",
       "    <tr>\n",
       "      <th>29</th>\n",
       "      <td>[296, 297, 298, 299]</td>\n",
       "      <td>None</td>\n",
       "    </tr>\n",
       "    <tr>\n",
       "      <th>...</th>\n",
       "      <td>...</td>\n",
       "      <td>...</td>\n",
       "    </tr>\n",
       "    <tr>\n",
       "      <th>49970</th>\n",
       "      <td>[102761, 24754, 48117, 14732, 162, 46291, 1027...</td>\n",
       "      <td>None</td>\n",
       "    </tr>\n",
       "    <tr>\n",
       "      <th>49971</th>\n",
       "      <td>[9399, 93922, 23810, 16769, 10976, 16580, 1027...</td>\n",
       "      <td>None</td>\n",
       "    </tr>\n",
       "    <tr>\n",
       "      <th>49972</th>\n",
       "      <td>[13344, 13037, 99575, 22310, 34469, 16194, 907...</td>\n",
       "      <td>None</td>\n",
       "    </tr>\n",
       "    <tr>\n",
       "      <th>49973</th>\n",
       "      <td>[10258, 22738, 982, 17615, 48769, 102794, 4916...</td>\n",
       "      <td>None</td>\n",
       "    </tr>\n",
       "    <tr>\n",
       "      <th>49974</th>\n",
       "      <td>[16024, 8367, 16024, 17060, 17061, 75302, 4924...</td>\n",
       "      <td>None</td>\n",
       "    </tr>\n",
       "    <tr>\n",
       "      <th>49975</th>\n",
       "      <td>[18211, 40362, 81465, 86547, 40362, 81465]</td>\n",
       "      <td>None</td>\n",
       "    </tr>\n",
       "    <tr>\n",
       "      <th>49976</th>\n",
       "      <td>[1748, 8509, 8521, 7594]</td>\n",
       "      <td>None</td>\n",
       "    </tr>\n",
       "    <tr>\n",
       "      <th>49977</th>\n",
       "      <td>[56484, 62543, 57533]</td>\n",
       "      <td>None</td>\n",
       "    </tr>\n",
       "    <tr>\n",
       "      <th>49978</th>\n",
       "      <td>[38846, 16421, 8321]</td>\n",
       "      <td>None</td>\n",
       "    </tr>\n",
       "    <tr>\n",
       "      <th>49979</th>\n",
       "      <td>[20408, 33706, 41416, 33706, 41416, 20408, 414...</td>\n",
       "      <td>None</td>\n",
       "    </tr>\n",
       "    <tr>\n",
       "      <th>49980</th>\n",
       "      <td>[390, 4535, 381, 382, 381]</td>\n",
       "      <td>None</td>\n",
       "    </tr>\n",
       "    <tr>\n",
       "      <th>49981</th>\n",
       "      <td>[64552, 25931, 2807]</td>\n",
       "      <td>[25935, 2807]</td>\n",
       "    </tr>\n",
       "    <tr>\n",
       "      <th>49982</th>\n",
       "      <td>[30508, 2915, 17064, 38717]</td>\n",
       "      <td>None</td>\n",
       "    </tr>\n",
       "    <tr>\n",
       "      <th>49983</th>\n",
       "      <td>[2582, 3059]</td>\n",
       "      <td>None</td>\n",
       "    </tr>\n",
       "    <tr>\n",
       "      <th>49984</th>\n",
       "      <td>[49195]</td>\n",
       "      <td>None</td>\n",
       "    </tr>\n",
       "    <tr>\n",
       "      <th>49985</th>\n",
       "      <td>[35572, 27139, 42308, 2503, 49977, 35569, 1794...</td>\n",
       "      <td>None</td>\n",
       "    </tr>\n",
       "    <tr>\n",
       "      <th>49986</th>\n",
       "      <td>[17711, 21841, 17711, 21841, 17711, 21841]</td>\n",
       "      <td>None</td>\n",
       "    </tr>\n",
       "    <tr>\n",
       "      <th>49987</th>\n",
       "      <td>[1480, 2639, 1480, 1054, 557, 10991, 1055, 105...</td>\n",
       "      <td>None</td>\n",
       "    </tr>\n",
       "    <tr>\n",
       "      <th>49988</th>\n",
       "      <td>[29504, 14159, 24162]</td>\n",
       "      <td>None</td>\n",
       "    </tr>\n",
       "    <tr>\n",
       "      <th>49989</th>\n",
       "      <td>[9831, 3059, 2581]</td>\n",
       "      <td>None</td>\n",
       "    </tr>\n",
       "    <tr>\n",
       "      <th>49990</th>\n",
       "      <td>[42379, 64439, 43687, 47097, 18694, 32320]</td>\n",
       "      <td>None</td>\n",
       "    </tr>\n",
       "    <tr>\n",
       "      <th>49991</th>\n",
       "      <td>[91921, 20251, 5063, 21742, 5063, 20251, 34927]</td>\n",
       "      <td>[91921]</td>\n",
       "    </tr>\n",
       "    <tr>\n",
       "      <th>49992</th>\n",
       "      <td>[102802, 83951, 102802]</td>\n",
       "      <td>None</td>\n",
       "    </tr>\n",
       "    <tr>\n",
       "      <th>49993</th>\n",
       "      <td>[28165, 24167, 28165]</td>\n",
       "      <td>None</td>\n",
       "    </tr>\n",
       "    <tr>\n",
       "      <th>49994</th>\n",
       "      <td>[99782, 92081, 18697, 92081, 18697, 42615, 997...</td>\n",
       "      <td>None</td>\n",
       "    </tr>\n",
       "    <tr>\n",
       "      <th>49995</th>\n",
       "      <td>[32291, 60520, 32291, 38220]</td>\n",
       "      <td>[32291]</td>\n",
       "    </tr>\n",
       "    <tr>\n",
       "      <th>49996</th>\n",
       "      <td>[60479, 28288, 102804, 102805]</td>\n",
       "      <td>None</td>\n",
       "    </tr>\n",
       "    <tr>\n",
       "      <th>49997</th>\n",
       "      <td>[980, 20025, 980, 20025, 980, 20025, 980, 20025]</td>\n",
       "      <td>None</td>\n",
       "    </tr>\n",
       "    <tr>\n",
       "      <th>49998</th>\n",
       "      <td>[8844, 42500, 8838, 8172, 29237, 352, 8847, 66...</td>\n",
       "      <td>None</td>\n",
       "    </tr>\n",
       "    <tr>\n",
       "      <th>49999</th>\n",
       "      <td>[39047, 102806, 27774]</td>\n",
       "      <td>None</td>\n",
       "    </tr>\n",
       "  </tbody>\n",
       "</table>\n",
       "<p>50000 rows × 2 columns</p>\n",
       "</div>"
      ],
      "text/plain": [
       "                                                     see            buy\n",
       "0                                     [1, 2, 0, 3, 4, 5]           None\n",
       "1                          [9, 10, 11, 9, 11, 12, 9, 11]           None\n",
       "2                               [16, 17, 18, 19, 20, 21]           None\n",
       "3                                   [24, 25, 26, 27, 24]           None\n",
       "4       [34, 35, 36, 34, 37, 35, 36, 37, 38, 39, 38, 39]           None\n",
       "5                                                   [42]           None\n",
       "6                                           [47, 48, 49]           None\n",
       "7      [59, 60, 61, 62, 60, 63, 64, 65, 66, 61, 67, 6...   [67, 60, 63]\n",
       "8                                       [71, 72, 73, 74]           None\n",
       "9                                           [76, 77, 78]           None\n",
       "10      [84, 85, 86, 87, 88, 89, 84, 90, 91, 92, 93, 86]           [86]\n",
       "11     [114, 77, 115, 116, 117, 118, 119, 120, 121, 1...           None\n",
       "12                        [129, 130, 131, 132, 133, 134]           None\n",
       "13     [93, 137, 138, 139, 140, 141, 142, 141, 143, 144]           None\n",
       "14                          [97, 155, 156, 155, 157, 93]           None\n",
       "15               [163, 87, 129, 164, 129, 130, 165, 166]           None\n",
       "16                             [173, 174, 175, 174, 176]           None\n",
       "17                                            [136, 192]           None\n",
       "18                                            [195, 196]           None\n",
       "19                                  [138, 198, 199, 127]          [199]\n",
       "20                                            [206, 207]           None\n",
       "21                                            [216, 217]           None\n",
       "22                                                 [220]           None\n",
       "23                                       [223, 224, 225]           None\n",
       "24     [241, 242, 243, 244, 245, 246, 247, 248, 249, ...           None\n",
       "25                                       [253, 254, 169]           None\n",
       "26                                  [262, 263, 262, 264]           None\n",
       "27     [265, 266, 267, 268, 269, 270, 269, 268, 271, ...           None\n",
       "28                                                 [291]           None\n",
       "29                                  [296, 297, 298, 299]           None\n",
       "...                                                  ...            ...\n",
       "49970  [102761, 24754, 48117, 14732, 162, 46291, 1027...           None\n",
       "49971  [9399, 93922, 23810, 16769, 10976, 16580, 1027...           None\n",
       "49972  [13344, 13037, 99575, 22310, 34469, 16194, 907...           None\n",
       "49973  [10258, 22738, 982, 17615, 48769, 102794, 4916...           None\n",
       "49974  [16024, 8367, 16024, 17060, 17061, 75302, 4924...           None\n",
       "49975         [18211, 40362, 81465, 86547, 40362, 81465]           None\n",
       "49976                           [1748, 8509, 8521, 7594]           None\n",
       "49977                              [56484, 62543, 57533]           None\n",
       "49978                               [38846, 16421, 8321]           None\n",
       "49979  [20408, 33706, 41416, 33706, 41416, 20408, 414...           None\n",
       "49980                         [390, 4535, 381, 382, 381]           None\n",
       "49981                               [64552, 25931, 2807]  [25935, 2807]\n",
       "49982                        [30508, 2915, 17064, 38717]           None\n",
       "49983                                       [2582, 3059]           None\n",
       "49984                                            [49195]           None\n",
       "49985  [35572, 27139, 42308, 2503, 49977, 35569, 1794...           None\n",
       "49986         [17711, 21841, 17711, 21841, 17711, 21841]           None\n",
       "49987  [1480, 2639, 1480, 1054, 557, 10991, 1055, 105...           None\n",
       "49988                              [29504, 14159, 24162]           None\n",
       "49989                                 [9831, 3059, 2581]           None\n",
       "49990         [42379, 64439, 43687, 47097, 18694, 32320]           None\n",
       "49991    [91921, 20251, 5063, 21742, 5063, 20251, 34927]        [91921]\n",
       "49992                            [102802, 83951, 102802]           None\n",
       "49993                              [28165, 24167, 28165]           None\n",
       "49994  [99782, 92081, 18697, 92081, 18697, 42615, 997...           None\n",
       "49995                       [32291, 60520, 32291, 38220]        [32291]\n",
       "49996                     [60479, 28288, 102804, 102805]           None\n",
       "49997   [980, 20025, 980, 20025, 980, 20025, 980, 20025]           None\n",
       "49998  [8844, 42500, 8838, 8172, 29237, 352, 8847, 66...           None\n",
       "49999                             [39047, 102806, 27774]           None\n",
       "\n",
       "[50000 rows x 2 columns]"
      ]
     },
     "execution_count": 54,
>>>>>>> 70d4993a23986efe2dab590e4f207ff08233007c
     "metadata": {},
     "output_type": "execute_result"
    }
   ],
   "source": [
<<<<<<< HEAD
    "data_train.head()"
=======
    "data_train"
>>>>>>> 70d4993a23986efe2dab590e4f207ff08233007c
   ]
  },
  {
   "cell_type": "code",
<<<<<<< HEAD
   "execution_count": 51,
=======
   "execution_count": 48,
>>>>>>> 70d4993a23986efe2dab590e4f207ff08233007c
   "metadata": {
    "collapsed": false
   },
   "outputs": [],
   "source": [
<<<<<<< HEAD
    "train_see = np.concatenate(data_train.see.values)\n",
    "train_see_vc = pd.Series(train_see).value_counts()\n",
    "ts_index = train_see_vc.index.values"
=======
    "c=buy_dict_train.values()"
>>>>>>> 70d4993a23986efe2dab590e4f207ff08233007c
   ]
  },
  {
   "cell_type": "code",
<<<<<<< HEAD
   "execution_count": 95,
   "metadata": {
    "collapsed": true
   },
   "outputs": [],
   "source": [
    "train_buy = np.concatenate(data_train.buy.dropna().values)"
   ]
  },
  {
   "cell_type": "markdown",
   "metadata": {},
   "source": [
    "### Задание 2. \n",
    "\n",
    "Реализуйте два алгоритма рекомендаций: сортировка просмотренных `id` по популярности (частота появления в просмотренных), сортировка просморенных `id` по покупаемости (частота появления в покупках). Если частота одинаковая, то сортировать надо по возрастанию момента просмотра (чем раньше появился в просмотренных, тем больше приоритет)"
   ]
  },
  {
   "cell_type": "code",
   "execution_count": 61,
=======
   "execution_count": 52,
>>>>>>> 70d4993a23986efe2dab590e4f207ff08233007c
   "metadata": {
    "collapsed": false
   },
   "outputs": [
    {
     "data": {
      "text/plain": [
<<<<<<< HEAD
       "array([ 73, 158, 162, 204, 262])"
      ]
     },
     "execution_count": 61,
=======
       "[0, 1, 2, 3, 4, 5, 9, 10, 11, 12]"
      ]
     },
     "execution_count": 52,
>>>>>>> 70d4993a23986efe2dab590e4f207ff08233007c
     "metadata": {},
     "output_type": "execute_result"
    }
   ],
   "source": [
<<<<<<< HEAD
    "np.intersect1d(ts_index[:5],train_buy)"
=======
    "buy_dict_train.keys()[:10]"
>>>>>>> 70d4993a23986efe2dab590e4f207ff08233007c
   ]
  },
  {
   "cell_type": "code",
<<<<<<< HEAD
   "execution_count": 57,
=======
   "execution_count": 53,
>>>>>>> 70d4993a23986efe2dab590e4f207ff08233007c
   "metadata": {
    "collapsed": false
   },
   "outputs": [
    {
     "data": {
      "text/plain": [
<<<<<<< HEAD
       "array([ 73, 158, 204, 262, 162])"
      ]
     },
     "execution_count": 57,
=======
       "[(0, 6),\n",
       " (1, 6),\n",
       " (2, 9),\n",
       " (3, 7),\n",
       " (4, 11),\n",
       " (5, 4),\n",
       " (9, 7),\n",
       " (10, 7),\n",
       " (11, 5),\n",
       " (12, 17)]"
      ]
     },
     "execution_count": 53,
>>>>>>> 70d4993a23986efe2dab590e4f207ff08233007c
     "metadata": {},
     "output_type": "execute_result"
    }
   ],
   "source": [
<<<<<<< HEAD
    "ts_index[:5]"
=======
    "buy_dict_train.items()[:10]"
   ]
  },
  {
   "cell_type": "markdown",
   "metadata": {},
   "source": [
    "### Задание 2. \n",
    "\n",
    "Реализуйте два алгоритма рекомендаций: сортировка просмотренных `id` по популярности (частота появления в просмотренных), сортировка просморенных `id` по покупаемости (частота появления в покупках). Если частота одинаковая, то сортировать надо по возрастанию момента просмотра (чем раньше появился в просмотренных, тем больше приоритет)"
>>>>>>> 70d4993a23986efe2dab590e4f207ff08233007c
   ]
  },
  {
   "cell_type": "code",
<<<<<<< HEAD
   "execution_count": 85,
=======
   "execution_count": 58,
>>>>>>> 70d4993a23986efe2dab590e4f207ff08233007c
   "metadata": {
    "collapsed": true
   },
   "outputs": [],
   "source": [
<<<<<<< HEAD
    "def Precision(see, buy , k):\n",
    "    return np.intersect1d(see[:k], buy).shape[0]/float(5)"
=======
    "def Precision(session, dic_sort,dic_set , k):\n",
    "    see=session.see\n",
    "    \n",
    "    buy = session.buy\n",
    "    \n",
    "    k = min(k,see.shape[0])\n",
    "    see = f7(see)\n",
    "    \n",
    "    see = [s for s in see if s in dic_set]\n",
    "    \n",
    "    if len(see) == 0:\n",
    "        return 0\n",
    "    \n",
    "    sorted(see,key= lambda x: train_see_dic[x],reverse=True)\n",
    "    reccomend = see[:k]\n",
    "    \n",
    "    bough_rec = np.intersect1d(reccomend,buy)\n",
    "    \n",
    "    return bough_rec.shape[0]/float(k)"
>>>>>>> 70d4993a23986efe2dab590e4f207ff08233007c
   ]
  },
  {
   "cell_type": "code",
<<<<<<< HEAD
   "execution_count": 82,
=======
   "execution_count": 59,
>>>>>>> 70d4993a23986efe2dab590e4f207ff08233007c
   "metadata": {
    "collapsed": true
   },
   "outputs": [],
   "source": [
<<<<<<< HEAD
    "def Recall(see, buy, k):\n",
    "    return np.intersect1d(see[:k],buy).shape[0]/float(len(buy))"
=======
    "def Recall(session, buy,dic_set, k):\n",
    "    see=session.see\n",
    "    \n",
    "    buy = session.buy\n",
    "    k = min(k,see.shape[0])\n",
    "    t = min(see.shape[0],buy.shape[0])\n",
    "    see = f7(see)\n",
    "    \n",
    "    \n",
    "    \n",
    "    see = [s for s in see if s in dic_set]\n",
    "    \n",
    "    if len(see) == 0:\n",
    "        return 0\n",
    "    \n",
    "    sorted(see,key= lambda x: train_see_dic[x],reverse=True)\n",
    "    reccomend = see[:k]\n",
    "    \n",
    "    bough_rec = np.intersect1d(reccomend,buy)\n",
    "    \n",
    "    return bough_rec.shape[0]/float(t)"
>>>>>>> 70d4993a23986efe2dab590e4f207ff08233007c
   ]
  },
  {
   "cell_type": "markdown",
   "metadata": {},
   "source": [
    "### Задание 3. \n",
    "\n",
    "Для данных алгоритмов выпишите через пробел `AverageRecall@1`, `AveragePrecision@1`, `AverageRecall@5`, `AveragePrecision@5` на обучающей и тестовых выборках, округляя до 2 знака после запятой. Это будут ваши ответы в этом задании. Посмотрите, как они соотносятся друг с другом. Где качество получилось выше? Значимо ли это различие? Обратите внимание на различие качества на обучающей и тестовой выборке в случае рекомендаций по частотам покупки."
   ]
  },
  {
   "cell_type": "code",
<<<<<<< HEAD
   "execution_count": null,
=======
   "execution_count": 37,
>>>>>>> 70d4993a23986efe2dab590e4f207ff08233007c
   "metadata": {
    "collapsed": true
   },
   "outputs": [],
<<<<<<< HEAD
   "source": []
  },
  {
   "cell_type": "markdown",
   "metadata": {},
   "source": [
    "### Дополнительные вопросы\n",
    "\n",
    "* Обратите внимание, что при сортировке по покупаемости возникает много товаров с одинаковым рангом - это означает, что значение метрик будет зависеть от того, как мы будем сортировать товары с одинаковым рангом. Попробуйте убедиться, что при изменении сортировки таких товаров `recall@k` меняется. Подумайте, как оценить минимальное и максимальное значение `recall@k` в зависимости от правила сортировки.\n",
    "* Мы обучаемся и тестируемся на полных сессиях (в которых есть все просмотренные за сессию товары). Подумайте, почему полученная нами оценка качества рекомендаций в этом случае несколько завышена."
=======
   "source": [
    "train_see_dic=buy_dict_train"
   ]
  },
  {
   "cell_type": "code",
   "execution_count": 38,
   "metadata": {
    "collapsed": true
   },
   "outputs": [],
   "source": [
    "test_dropna = data_test.dropna()\n",
    "\n",
    "len_test = test_dropna.shape[0]"
>>>>>>> 70d4993a23986efe2dab590e4f207ff08233007c
   ]
  },
  {
   "cell_type": "code",
<<<<<<< HEAD
   "execution_count": null,
=======
   "execution_count": 39,
>>>>>>> 70d4993a23986efe2dab590e4f207ff08233007c
   "metadata": {
    "collapsed": true
   },
   "outputs": [],
<<<<<<< HEAD
   "source": []
=======
   "source": [
    "dict_set = set(train_see_dic.keys())"
   ]
  },
  {
   "cell_type": "code",
   "execution_count": 60,
   "metadata": {
    "collapsed": false
   },
   "outputs": [
    {
     "name": "stdout",
     "output_type": "stream",
     "text": [
      "0.701883950768 0.82012195122 0.930125307065 0.459160199557\n"
     ]
    }
   ],
   "source": [
    "precision_buy_test_1 = 0.0\n",
    "precision_buy_test_5 = 0.0\n",
    "\n",
    "recall_buy_test_1 = 0.0\n",
    "recall_buy_test_5 = 0.0\n",
    "for ind in test_dropna.index:\n",
    "    sess = test_dropna.loc[ind]\n",
    "\n",
    "    precision_buy_test_1 += Precision(sess,train_see_dic,dict_set,1)\n",
    "    precision_buy_test_5 += Precision(sess,train_see_dic,dict_set,5)\n",
    "    recall_buy_test_1 += Recall(sess,train_see_dic,dict_set,1)\n",
    "    recall_buy_test_5 += Recall(sess,train_see_dic,dict_set,5)\n",
    "print recall_buy_test_1/len_test,precision_buy_test_1/len_test,\\\n",
    "recall_buy_test_5/len_test,precision_buy_test_5/len_test"
   ]
  },
  {
   "cell_type": "code",
   "execution_count": null,
   "metadata": {
    "collapsed": false
   },
   "outputs": [],
   "source": [
    "[0.4706289814521518, 0.5454545454545454, 0.8162751297729124, 0.2093680709534424]"
   ]
  },
  {
   "cell_type": "code",
   "execution_count": 54,
   "metadata": {
    "collapsed": false
   },
   "outputs": [
    {
     "name": "stdout",
     "output_type": "stream",
     "text": [
      "[0.7026453759962634, 0.8201219512195121, 0.9313157409540445, 0.49094142645972544]\n"
     ]
    }
   ],
   "source": [
    "ans1=[recall_buy_test_1/len_test,precision_buy_test_1/len_test,\\\n",
    "recall_buy_test_5/len_test,precision_buy_test_5/len_test]\n",
    "print ans1"
   ]
  },
  {
   "cell_type": "code",
   "execution_count": 55,
   "metadata": {
    "collapsed": false
   },
   "outputs": [],
   "source": [
    "ans1=map(lambda x : round(x,2),ans1)"
   ]
  },
  {
   "cell_type": "code",
   "execution_count": 56,
   "metadata": {
    "collapsed": false
   },
   "outputs": [
    {
     "data": {
      "text/plain": [
       "'[0.7, 0.82, 0.93, 0.49]'"
      ]
     },
     "execution_count": 56,
     "metadata": {},
     "output_type": "execute_result"
    }
   ],
   "source": [
    "str(ans1)"
   ]
  },
  {
   "cell_type": "code",
   "execution_count": 57,
   "metadata": {
    "collapsed": false
   },
   "outputs": [],
   "source": [
    "with open(\"ans1\",\"w\") as f:\n",
    "    for an in ans1:\n",
    "        f.write(str(an)+' ')"
   ]
  },
  {
   "cell_type": "markdown",
   "metadata": {},
   "source": [
    "### Дополнительные вопросы\n",
    "\n",
    "* Обратите внимание, что при сортировке по покупаемости возникает много товаров с одинаковым рангом - это означает, что значение метрик будет зависеть от того, как мы будем сортировать товары с одинаковым рангом. Попробуйте убедиться, что при изменении сортировки таких товаров `recall@k` меняется. Подумайте, как оценить минимальное и максимальное значение `recall@k` в зависимости от правила сортировки.\n",
    "* Мы обучаемся и тестируемся на полных сессиях (в которых есть все просмотренные за сессию товары). Подумайте, почему полученная нами оценка качества рекомендаций в этом случае несколько завышена."
   ]
>>>>>>> 70d4993a23986efe2dab590e4f207ff08233007c
  }
 ],
 "metadata": {
  "anaconda-cloud": {},
  "kernelspec": {
<<<<<<< HEAD
   "display_name": "Python [default]",
=======
   "display_name": "Python 2",
>>>>>>> 70d4993a23986efe2dab590e4f207ff08233007c
   "language": "python",
   "name": "python2"
  },
  "language_info": {
   "codemirror_mode": {
    "name": "ipython",
    "version": 2
   },
   "file_extension": ".py",
   "mimetype": "text/x-python",
   "name": "python",
   "nbconvert_exporter": "python",
   "pygments_lexer": "ipython2",
<<<<<<< HEAD
   "version": "2.7.12"
=======
   "version": "2.7.13"
>>>>>>> 70d4993a23986efe2dab590e4f207ff08233007c
  }
 },
 "nbformat": 4,
 "nbformat_minor": 1
}
