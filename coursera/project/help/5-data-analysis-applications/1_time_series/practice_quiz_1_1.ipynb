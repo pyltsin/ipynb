{
 "cells": [
  {
   "cell_type": "code",
   "execution_count": 1,
   "metadata": {
    "collapsed": true
   },
   "outputs": [],
   "source": [
    "import pandas as pd"
   ]
  },
  {
   "cell_type": "markdown",
   "metadata": {},
   "source": [
    "# Автокорреляция и стационарность\n",
    "\n",
    "## Вопрос 1.\n",
    "\n",
    "Перед вами ряд значений среднегодового объёма популяции рыси:\n",
    "\n",
    "<img src=\"./1/jtOO7oMVEealOA67wFuqoQ_ab96c0da1bb953be03153e7e61dd0217_all7.png?expiry=1487980800000&hmac=4rUMTXcQRVMylN_NnS6T278VkMC9N-zZ2GLotN2HMGI\" width = 400/>\n",
    "\n",
    "Какая из автокорреляционных функций соответствует этому ряду?\n",
    "\n",
    "* <img src=\"./1/sT3fGYMWEeaQkhKk4jYr6Q_75f46bf2326da0fbdcec6b3cedf81322_acfeggs.png\" width = 400/>\n",
    "* <img src=\"./1/cqFG1YMWEeam4BLcQYZr8Q_e4f3e0f8fb1b6500b17c860a0eed264b_acfbeer.png\" width = 400/>\n",
    "* <img src=\"./1/qSe2ZIMWEead-BJkoDOYOw_34d227d2304b2afcc4961f2cb4584a23_acflynx.png\" width = 400/>"
   ]
  },
  {
   "cell_type": "markdown",
   "metadata": {},
   "source": [
    "4"
   ]
  },
  {
   "cell_type": "markdown",
   "metadata": {},
   "source": [
    "## Вопрос 2\n",
    "\n",
    "Перед вами ряд уровней среднемесячной номинальной заработной платы в России:\n",
    "\n",
    "<img src=\"./2/LFqYh4MXEeazqQoyai5dlw_be032246383271c4bf5d355ef6a0d8b5_nomwage.png\" width = 400/>\n",
    "\n",
    "* Стационарность\n",
    "* Автокоррелированность+\n",
    "* Повышающийся тренд+\n",
    "* Циклические колебания, соответствующие периодам активности в экономике\n",
    "* Выраженная годовая сезонность+"
   ]
  },
  {
   "cell_type": "markdown",
   "metadata": {},
   "source": [
    "## Вопрос 3\n",
    "\n",
    "В приложенном файле — данные по ежемесячному уровню производства молока в фунтах на одну корову:\n",
    "\n",
    "`monthly-milk-production.csv`\n",
    "\n",
    "Загрузите ряд, например, так:\n",
    "\n",
    "```python\n",
    "milk = pd.read_csv('monthly-milk-production.csv',';', index_col=['month'], \n",
    "  parse_dates=['month'], dayfirst=True)\n",
    "```\n",
    "и постройте его график. Какой из приведённых ниже графиков у вас получился?"
   ]
  },
  {
   "cell_type": "code",
   "execution_count": 2,
   "metadata": {
    "collapsed": false
   },
   "outputs": [],
   "source": [
    "milk = pd.read_csv('monthly-milk-production.csv',';',\n",
    "                   index_col=['month'], parse_dates=['month'],\n",
    "                   dayfirst=True)"
   ]
  },
  {
   "cell_type": "code",
   "execution_count": 3,
   "metadata": {
    "collapsed": true
   },
   "outputs": [],
   "source": [
    "from matplotlib import pylab as plt\n",
    "%matplotlib inline"
   ]
  },
  {
   "cell_type": "code",
   "execution_count": 4,
   "metadata": {
    "collapsed": false
   },
   "outputs": [
    {
     "data": {
      "image/png": "[encoded data removed]",
      "text/plain": [
       "<matplotlib.figure.Figure at 0x7fcdb3af1790>"
      ]
     },
     "metadata": {},
     "output_type": "display_data"
    }
   ],
   "source": [
    "milk.plot()\n",
    "plt.show()"
   ]
  },
  {
   "cell_type": "markdown",
   "metadata": {},
   "source": [
    "## Вопрос 4\n",
    "\n",
    "Примените к ряду из предыдущего вопроса критерий Дики-Фуллера. Это делается так:\n",
    "\n",
    "```python\n",
    "import statsmodels.api as sm\n",
    "sm.tsa.stattools.adfuller(ряд)\n",
    "```\n",
    "\n",
    "Чему равен полученный достигаемый уровень значимости? Округлите до двух знаков после десятичной точки."
   ]
  },
  {
   "cell_type": "code",
   "execution_count": 5,
   "metadata": {
    "collapsed": true
   },
   "outputs": [],
   "source": [
    "import statsmodels.api as sm"
   ]
  },
  {
   "cell_type": "code",
   "execution_count": 6,
   "metadata": {
    "collapsed": false
   },
   "outputs": [],
   "source": [
    "result = sm.tsa.stattools.adfuller(milk.milk)"
   ]
  },
  {
   "cell_type": "code",
   "execution_count": 7,
   "metadata": {
    "collapsed": false
   },
   "outputs": [
    {
     "data": {
      "text/plain": [
       "(-1.303811587422125,\n",
       " 0.62742670860303362,\n",
       " 13,\n",
       " 154,\n",
       " {'1%': -3.4735425281962091,\n",
       "  '10%': -2.5768780536346769,\n",
       "  '5%': -2.880497674144038},\n",
       " 1115.1730447395112)"
      ]
     },
     "execution_count": 7,
     "metadata": {},
     "output_type": "execute_result"
    }
   ],
   "source": [
    "result"
   ]
  },
  {
   "cell_type": "code",
   "execution_count": 8,
   "metadata": {
    "collapsed": false
   },
   "outputs": [
    {
     "data": {
      "text/plain": [
       "0.63"
      ]
     },
     "execution_count": 8,
     "metadata": {},
     "output_type": "execute_result"
    }
   ],
   "source": [
    "round(0.62742670860303362,2)"
   ]
  },
  {
   "cell_type": "markdown",
   "metadata": {},
   "source": [
    "## Вопрос 5\n",
    "\n",
    " \n",
    "Часто, когда вы имеете дело с величинами, представляющими собой сумму значений показателя за каждый день или за каждый рабочий день, имеет смысл перед началом прогнозирования поделить весь ряд на число дней в периоде. Например, если поделить ряд с объёмом производства молока на одну корову на число дней в месяце, полученная величина будет меняться более плавно, и для неё легче будет построить прогнозирующую модель.\n",
    "\n",
    "Корректно определить число дней в месяце можно с помощью свойства `days_in_month` у индекса ряда или функции `monthrange` из пакета `calendar`. Используйте число дней в месяце для того, чтобы вычислить новый показатель — среднее дневное число полученного молока на одну корову. Постройте график этого ряда и убедитесь, что он стал более гладким.\n",
    "\n",
    "\n",
    "\n",
    "В качестве ответа введите сумму значений полученного показателя за весь период; округлите до двух знаков после десятичной точки."
   ]
  },
  {
   "cell_type": "code",
   "execution_count": 36,
   "metadata": {
    "collapsed": false
   },
   "outputs": [],
   "source": [
    "milk_day =pd.DataFrame(milk.milk/milk.index.days_in_month)"
   ]
  },
  {
   "cell_type": "code",
   "execution_count": 38,
   "metadata": {
    "collapsed": false
   },
   "outputs": [
    {
     "data": {
      "text/plain": [
       "4166.326661899464"
      ]
     },
     "execution_count": 38,
     "metadata": {},
     "output_type": "execute_result"
    }
   ],
   "source": [
    "milk_day.milk.sum()"
   ]
  }
 ],
 "metadata": {
  "kernelspec": {
   "display_name": "Python [Root]",
   "language": "python",
   "name": "Python [Root]"
  },
  "language_info": {
   "codemirror_mode": {
    "name": "ipython",
    "version": 2
   },
   "file_extension": ".py",
   "mimetype": "text/x-python",
   "name": "python",
   "nbconvert_exporter": "python",
   "pygments_lexer": "ipython2",
   "version": "2.7.12"
  }
 },
 "nbformat": 4,
 "nbformat_minor": 1
}
