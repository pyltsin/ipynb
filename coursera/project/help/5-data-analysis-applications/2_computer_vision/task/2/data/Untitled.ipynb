{
 "cells": [
  {
   "cell_type": "code",
   "execution_count": null,
   "metadata": {
    "collapsed": true
   },
   "outputs": [],
   "source": [
    " paths = glob.glob(folder)\n",
    "    X = np.zeros((len(paths), 4096))\n",
    "    Y = np.zeros(len(paths))\n",
    "\n",
    "    for i,img_name in enumerate(paths):\n",
    "        print(img_name)\n",
    "        base = os.path.basename(img_name)\n",
    "        Y[i] = ydict[base]\n",
    "\n",
    "        img1 = imread(img_name, mode='RGB')\n",
    "        img1 = imresize(img1, (224, 224))\n",
    "        # Здесь ваш код. Нужно получить слой fc2\n",
    "        fc2=sess.run(vgg.fc2, feed_dict={vgg.imgs: [img1]})[0]\n",
    "        \n",
    "        X[i, :] = fc2\n",
    "    \n",
    "    return X, Y"
   ]
  }
 ],
 "metadata": {
  "kernelspec": {
   "display_name": "Python 3",
   "language": "python",
   "name": "python3"
  },
  "language_info": {
   "codemirror_mode": {
    "name": "ipython",
    "version": 3
   },
   "file_extension": ".py",
   "mimetype": "text/x-python",
   "name": "python",
   "nbconvert_exporter": "python",
   "pygments_lexer": "ipython3",
   "version": "3.6.0"
  }
 },
 "nbformat": 4,
 "nbformat_minor": 2
}
