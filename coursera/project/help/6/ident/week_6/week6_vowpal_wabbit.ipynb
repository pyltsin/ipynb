{
 "cells": [
  {
   "cell_type": "markdown",
   "metadata": {
    "slideshow": {
     "slide_type": "slide"
    }
   },
   "source": [
    "<center>\n",
    "<img src=\"https://habrastorage.org/web/677/8e1/337/6778e1337c3d4b159d7e99df94227cb2.jpg\"/>\n",
    "## Специализация \"Машинное обучение и анализ данных\"\n",
    "</center>\n",
    "<center>Автор материала: программист-исследователь Mail.ru Group, старший преподаватель Факультета Компьютерных Наук ВШЭ Юрий Кашницкий"
   ]
  },
  {
   "cell_type": "markdown",
   "metadata": {
    "slideshow": {
     "slide_type": "slide"
    }
   },
   "source": [
    "# <center> Capstone проект №1. Идентификация пользователей по посещенным веб-страницам\n",
    "<img src='http://i.istockimg.com/file_thumbview_approve/21546327/5/stock-illustration-21546327-identification-de-l-utilisateur.jpg'>\n",
    "\n",
    "# <center>Неделя 6.  Vowpal Wabbit\n",
    "\n",
    "На этой неделе мы познакомимся с популярной библиотекой Vowpal Wabbit и попробуем ее на данных соревнования. Знакомиться будем на [данных](http://scikit-learn.org/stable/datasets/twenty_newsgroups.html) Scikit-learn по новостям, сначала в режиме бинарной классификации, затем – в многоклассовом режиме. Затем будем классифицировать рецензии к фильмам с сайта IMDB. Наконец, применим Vowpal Wabbit к данным нашего соревнования. Материала немало, но Vowpal Wabbit того стоит!\n",
    "\n",
    "**План 6 недели:**\n",
    "- Часть 1. Тьюториал по Vowpal Wabbit. Новости. Бинарная классификация\n",
    "- Часть 2. Тьюториал по Vowpal Wabbit. Новости. Многоклассовая классификация\n",
    "- Часть 3. Тьюториал по Vowpal Wabbit. Рецензии к фильмам IMDB\n",
    "- Часть 4. Применение Vowpal Wabbit к данным по посещению сайтов\n",
    "\n",
    "\n",
    "**В этой части проекта Вам могут быть полезны видеозаписи следующих лекций курса \"Обучение на размеченных данных\":**\n",
    "   - [Стохатический градиентный спуск](https://www.coursera.org/learn/supervised-learning/lecture/xRY50/stokhastichieskii-ghradiientnyi-spusk)\n",
    "   - [Линейные модели. Sklearn.linear_model. Классификация](https://www.coursera.org/learn/supervised-learning/lecture/EBg9t/linieinyie-modieli-sklearn-linear-model-klassifikatsiia)\n",
    "   \n",
    "Также будет полезна [презентация](https://github.com/esokolov/ml-course-msu/blob/master/ML15/lecture-notes/Sem08_vw.pdf) лектора специализации Евгения Соколова. И, конечно же, [документация](https://github.com/JohnLangford/vowpal_wabbit/wiki) Vowpal Wabbit. Данный материал стал основой [статьи](https://habrahabr.ru/company/ods/blog/326418/) на Хабре из серии открытого курса по машинному обучению."
   ]
  },
  {
   "cell_type": "markdown",
   "metadata": {},
   "source": [
    "## Часть 1. Тьюториал по Vowpal Wabbit. Новости. Бинарная классификация"
   ]
  },
  {
   "cell_type": "markdown",
   "metadata": {},
   "source": [
    "Vowpal Wabbit (VW) является одной из наиболее широко используемых библиотек в индустрии. Её отличает высокая скорость работы и поддержка большого количества различных режимов обучения. Особый интерес для больших и высокоразмерных данных представляет онлайн-обучение – самая сильная сторона библиотеки. \n",
    "\n",
    "\n",
    "Основным интерфейсом для работы с VW является shell."
   ]
  },
  {
   "cell_type": "code",
   "execution_count": 4,
   "metadata": {
    "collapsed": true
   },
   "outputs": [],
   "source": [
    "import os\n",
    "import re\n",
    "import numpy as np\n",
    "import pandas as pd\n",
    "import tqdm\n",
    "from scipy.sparse import csr_matrix\n",
    "import matplotlib.pyplot as plt\n",
    "%matplotlib inline\n",
    "import sklearn.datasets\n",
    "from sklearn.metrics import accuracy_score, roc_auc_score, confusion_matrix\n",
    "from sklearn.model_selection import train_test_split\n",
    "from sklearn.preprocessing import LabelEncoder"
   ]
  },
  {
   "cell_type": "markdown",
   "metadata": {},
   "source": [
    "Для того чтобы изучить возможные режимы работы vw воспользуемся командой ! для запуска:"
   ]
  },
  {
   "cell_type": "code",
   "execution_count": 54,
   "metadata": {
    "scrolled": true
   },
   "outputs": [
    {
     "name": "stdout",
     "output_type": "stream",
     "text": [
      "Num weight bits = 18\r\n",
      "learning rate = 0.5\r\n",
      "initial_t = 0\r\n",
      "power_t = 0.5\r\n",
      "using no cache\r\n",
      "Reading datafile = \r\n",
      "num sources = 1\r\n",
      "\r\n",
      "\r\n",
      "VW options:\r\n",
      "  --random_seed arg     seed random number generator\r\n",
      "  --ring_size arg       size of example ring\r\n",
      "\r\n",
      "Update options:\r\n",
      "  -l [ --learning_rate ] arg Set learning rate\r\n",
      "  --power_t arg              t power value\r\n",
      "  --decay_learning_rate arg  Set Decay factor for learning_rate between passes\r\n",
      "  --initial_t arg            initial t value\r\n",
      "  --feature_mask arg         Use existing regressor to determine which \r\n",
      "                             parameters may be updated.  If no \r\n",
      "                             initial_regressor given, also used for initial \r\n",
      "                             weights.\r\n",
      "\r\n",
      "Weight options:\r\n",
      "  -i [ --initial_regressor ] arg  Initial regressor(s)\r\n",
      "  --initial_weight arg            Set all weights to an initial value of arg.\r\n",
      "  --random_weights arg            make initial weights random\r\n",
      "  --sparse_weights                Use a sparse datastructure for weights\r\n",
      "  --input_feature_regularizer arg Per feature regularization input file\r\n",
      "\r\n",
      "Parallelization options:\r\n",
      "  --span_server arg     Location of server for setting up spanning tree\r\n",
      "  --threads             Enable multi-threading\r\n",
      "  --unique_id arg (=0)  unique id used for cluster parallel jobs\r\n",
      "  --total arg (=1)      total number of nodes used in cluster parallel job\r\n",
      "  --node arg (=0)       node number in cluster parallel job\r\n",
      "\r\n",
      "Diagnostic options:\r\n",
      "  --version             Version information\r\n",
      "  -a [ --audit ]        print weights of features\r\n",
      "  -P [ --progress ] arg Progress update frequency. int: additive, float: \r\n",
      "                        multiplicative\r\n",
      "  --quiet               Don't output disgnostics and progress updates\r\n",
      "  -h [ --help ]         Look here: http://hunch.net/~vw/ and click on Tutorial.\r\n",
      "\r\n",
      "Feature options:\r\n",
      "  --hash arg                      how to hash the features. Available options: \r\n",
      "                                  strings, all\r\n",
      "  --ignore arg                    ignore namespaces beginning with character \r\n",
      "                                  <arg>\r\n",
      "  --ignore_linear arg             ignore namespaces beginning with character \r\n",
      "                                  <arg> for linear terms only\r\n",
      "  --keep arg                      keep namespaces beginning with character \r\n",
      "                                  <arg>\r\n",
      "  --redefine arg                  redefine namespaces beginning with characters\r\n",
      "                                  of string S as namespace N. <arg> shall be in\r\n",
      "                                  form 'N:=S' where := is operator. Empty N or \r\n",
      "                                  S are treated as default namespace. Use ':' \r\n",
      "                                  as a wildcard in S.\r\n",
      "  -b [ --bit_precision ] arg      number of bits in the feature table\r\n",
      "  --noconstant                    Don't add a constant feature\r\n",
      "  -C [ --constant ] arg           Set initial value of constant\r\n",
      "  --ngram arg                     Generate N grams. To generate N grams for a \r\n",
      "                                  single namespace 'foo', arg should be fN.\r\n",
      "  --skips arg                     Generate skips in N grams. This in \r\n",
      "                                  conjunction with the ngram tag can be used to\r\n",
      "                                  generate generalized n-skip-k-gram. To \r\n",
      "                                  generate n-skips for a single namespace \r\n",
      "                                  'foo', arg should be fN.\r\n",
      "  --feature_limit arg             limit to N features. To apply to a single \r\n",
      "                                  namespace 'foo', arg should be fN\r\n",
      "  --affix arg                     generate prefixes/suffixes of features; \r\n",
      "                                  argument '+2a,-3b,+1' means generate 2-char \r\n",
      "                                  prefixes for namespace a, 3-char suffixes for\r\n",
      "                                  b and 1 char prefixes for default namespace\r\n",
      "  --spelling arg                  compute spelling features for a give \r\n",
      "                                  namespace (use '_' for default namespace)\r\n",
      "  --dictionary arg                read a dictionary for additional features \r\n",
      "                                  (arg either 'x:file' or just 'file')\r\n",
      "  --dictionary_path arg           look in this directory for dictionaries; \r\n",
      "                                  defaults to current directory or env{PATH}\r\n",
      "  --interactions arg              Create feature interactions of any level \r\n",
      "                                  between namespaces.\r\n",
      "  --permutations                  Use permutations instead of combinations for \r\n",
      "                                  feature interactions of same namespace.\r\n",
      "  --leave_duplicate_interactions  Don't remove interactions with duplicate \r\n",
      "                                  combinations of namespaces. For ex. this is a\r\n",
      "                                  duplicate: '-q ab -q ba' and a lot more in \r\n",
      "                                  '-q ::'.\r\n",
      "  -q [ --quadratic ] arg          Create and use quadratic features\r\n",
      "  --q: arg                        : corresponds to a wildcard for all printable\r\n",
      "                                  characters\r\n",
      "  --cubic arg                     Create and use cubic features\r\n",
      "\r\n",
      "Example options:\r\n",
      "  -t [ --testonly ]              Ignore label information and just test\r\n",
      "  --holdout_off                  no holdout data in multiple passes\r\n",
      "  --holdout_period arg           holdout period for test only, default 10\r\n",
      "  --holdout_after arg            holdout after n training examples, default off\r\n",
      "                                 (disables holdout_period)\r\n",
      "  --early_terminate arg          Specify the number of passes tolerated when \r\n",
      "                                 holdout loss doesn't decrease before early \r\n",
      "                                 termination, default is 3\r\n",
      "  --passes arg                   Number of Training Passes\r\n",
      "  --initial_pass_length arg      initial number of examples per pass\r\n",
      "  --examples arg                 number of examples to parse\r\n",
      "  --min_prediction arg           Smallest prediction to output\r\n",
      "  --max_prediction arg           Largest prediction to output\r\n",
      "  --sort_features                turn this on to disregard order in which \r\n",
      "                                 features have been defined. This will lead to \r\n",
      "                                 smaller cache sizes\r\n",
      "  --loss_function arg (=squared) Specify the loss function to be used, uses \r\n",
      "                                 squared by default. Currently available ones \r\n",
      "                                 are squared, classic, hinge, logistic, \r\n",
      "                                 quantile and poisson.\r\n",
      "  --quantile_tau arg (=0.5)      Parameter \\tau associated with Quantile loss. \r\n",
      "                                 Defaults to 0.5\r\n",
      "  --l1 arg                       l_1 lambda\r\n",
      "  --l2 arg                       l_2 lambda\r\n",
      "  --no_bias_regularization arg   no bias in regularization\r\n",
      "  --named_labels arg             use names for labels (multiclass, etc.) rather\r\n",
      "                                 than integers, argument specified all possible\r\n",
      "                                 labels, comma-sep, eg \"--named_labels \r\n",
      "                                 Noun,Verb,Adj,Punc\"\r\n",
      "\r\n",
      "Output model:\r\n",
      "  -f [ --final_regressor ] arg          Final regressor\r\n",
      "  --readable_model arg                  Output human-readable final regressor \r\n",
      "                                        with numeric features\r\n",
      "  --invert_hash arg                     Output human-readable final regressor \r\n",
      "                                        with feature names.  Computationally \r\n",
      "                                        expensive.\r\n",
      "  --save_resume                         save extra state so learning can be \r\n",
      "                                        resumed later with new data\r\n",
      "  --preserve_performance_counters       reset performance counters when \r\n",
      "                                        warmstarting\r\n",
      "  --save_per_pass                       Save the model after every pass over \r\n",
      "                                        data\r\n",
      "  --output_feature_regularizer_binary arg\r\n",
      "                                        Per feature regularization output file\r\n",
      "  --output_feature_regularizer_text arg Per feature regularization output file,\r\n",
      "                                        in text\r\n",
      "  --id arg                              User supplied ID embedded into the \r\n",
      "                                        final regressor\r\n",
      "\r\n",
      "Output options:\r\n",
      "  -p [ --predictions ] arg     File to output predictions to\r\n",
      "  -r [ --raw_predictions ] arg File to output unnormalized predictions to\r\n",
      "\r\n",
      "Reduction options, use [option] --help for more info:\r\n",
      "\r\n",
      "  --audit_regressor arg stores feature names and their regressor values. Same \r\n",
      "                        dataset must be used for both regressor training and \r\n",
      "                        this mode.\r\n",
      "\r\n",
      "  --bootstrap arg       k-way bootstrap by online importance resampling\r\n",
      "\r\n",
      "  --search arg          Use learning to search, argument=maximum action id or 0\r\n",
      "                        for LDF\r\n",
      "\r\n",
      "  --replay_c arg        use experience replay at a specified level \r\n",
      "                        [b=classification/regression, m=multiclass, c=cost \r\n",
      "                        sensitive] with specified buffer size\r\n",
      "\r\n",
      "  --explore_eval        Evaluate explore_eval adf policies\r\n",
      "\r\n",
      "  --cbify arg           Convert multiclass on <k> classes into a contextual \r\n",
      "                        bandit problem\r\n",
      "\r\n",
      "  --cb_explore_adf      Online explore-exploit for a contextual bandit problem \r\n",
      "                        with multiline action dependent features\r\n",
      "\r\n",
      "  --cb_explore arg      Online explore-exploit for a <k> action contextual \r\n",
      "                        bandit problem\r\n",
      "\r\n",
      "  --multiworld_test arg Evaluate features as a policies\r\n",
      "\r\n",
      "  --cb_adf              Do Contextual Bandit learning with multiline action \r\n",
      "                        dependent features.\r\n",
      "\r\n",
      "  --cb arg              Use contextual bandit learning with <k> costs\r\n",
      "\r\n",
      "  --csoaa_ldf arg       Use one-against-all multiclass learning with label \r\n",
      "                        dependent features.  Specify singleline or multiline.\r\n",
      "\r\n",
      "  --wap_ldf arg         Use weighted all-pairs multiclass learning with label \r\n",
      "                        dependent features.  Specify singleline or multiline.\r\n",
      "\r\n",
      "  --interact arg        Put weights on feature products from namespaces <n1> \r\n",
      "                        and <n2>\r\n",
      "\r\n",
      "  --csoaa arg           One-against-all multiclass with <k> costs\r\n",
      "\r\n",
      "  --multilabel_oaa arg  One-against-all multilabel with <k> labels\r\n",
      "\r\n",
      "  --recall_tree arg     Use online tree for multiclass\r\n",
      "\r\n",
      "  --log_multi arg       Use online tree for multiclass\r\n",
      "\r\n",
      "  --ect arg             Error correcting tournament with <k> labels\r\n",
      "\r\n",
      "  --boosting arg        Online boosting with <N> weak learners\r\n",
      "\r\n",
      "  --oaa arg             One-against-all multiclass with <k> labels\r\n",
      "\r\n",
      "  --top arg             top k recommendation\r\n",
      "\r\n",
      "  --replay_m arg        use experience replay at a specified level \r\n",
      "                        [b=classification/regression, m=multiclass, c=cost \r\n",
      "                        sensitive] with specified buffer size\r\n",
      "\r\n",
      "  --binary              report loss as binary classification on -1,1\r\n",
      "\r\n",
      "  --link arg (=identity) Specify the link function: identity, logistic, glf1 or\r\n",
      "                         poisson\r\n",
      "\r\n",
      "  --stage_poly          use stagewise polynomial feature learning\r\n",
      "\r\n",
      "  --lrqfa arg           use low rank quadratic features with field aware \r\n",
      "                        weights\r\n",
      "\r\n",
      "  --lrq arg             use low rank quadratic features\r\n",
      "\r\n",
      "  --autolink arg        create link function with polynomial d\r\n",
      "\r\n",
      "  --marginal arg        substitute marginal label estimates for ids\r\n",
      "\r\n",
      "  --new_mf arg          rank for reduction-based matrix factorization\r\n",
      "\r\n",
      "  --nn arg              Sigmoidal feedforward network with <k> hidden units\r\n",
      "\r\n",
      "confidence options:\r\n",
      "  --confidence_after_training  Confidence after training\r\n",
      "\r\n",
      "  --confidence          Get confidence for binary predictions\r\n",
      "\r\n",
      "  --active_cover        enable active learning with cover\r\n",
      "\r\n",
      "  --active              enable active learning\r\n",
      "\r\n",
      "  --replay_b arg        use experience replay at a specified level \r\n",
      "                        [b=classification/regression, m=multiclass, c=cost \r\n",
      "                        sensitive] with specified buffer size\r\n",
      "\r\n",
      "  --OjaNewton           Online Newton with Oja's Sketch\r\n",
      "\r\n",
      "  --bfgs                use bfgs optimization\r\n",
      "\r\n",
      "  --conjugate_gradient  use conjugate gradient based optimization\r\n",
      "\r\n",
      "  --lda arg             Run lda with <int> topics\r\n",
      "\r\n",
      "  --noop                do no learning\r\n",
      "\r\n",
      "  --print               print examples\r\n",
      "\r\n",
      "  --rank arg            rank for matrix factorization.\r\n",
      "\r\n",
      "  --sendto arg          send examples to <host>\r\n",
      "\r\n",
      "  --svrg                Streaming Stochastic Variance Reduced Gradient\r\n",
      "\r\n",
      "  --ftrl                FTRL: Follow the Proximal Regularized Leader\r\n",
      "\r\n",
      "  --pistol              FTRL: Parameter-free Stochastic Learning\r\n",
      "\r\n",
      "  --ksvm                kernel svm\r\n",
      "\r\n",
      "Gradient Descent options:\r\n",
      "  --sgd                 use regular stochastic gradient descent update.\r\n",
      "  --adaptive            use adaptive, individual learning rates.\r\n",
      "  --invariant           use safe/importance aware updates.\r\n",
      "  --normalized          use per feature normalized updates\r\n",
      "  --sparse_l2 arg (=0)  use per feature normalized updates\r\n",
      "\r\n",
      "Input options:\r\n",
      "  -d [ --data ] arg     Example Set\r\n",
      "  --daemon              persistent daemon mode on port 26542\r\n",
      "  --foreground          in persistent daemon mode, do not run in the background\r\n",
      "  --port arg            port to listen on; use 0 to pick unused port\r\n",
      "  --num_children arg    number of children for persistent daemon mode\r\n",
      "  --pid_file arg        Write pid file in persistent daemon mode\r\n",
      "  --port_file arg       Write port used in persistent daemon mode\r\n",
      "  -c [ --cache ]        Use a cache.  The default is <data>.cache\r\n",
      "  --cache_file arg      The location(s) of cache_file.\r\n",
      "  --json                Enable JSON parsing.\r\n",
      "  --dsjson              Enable Decision Service JSON parsing.\r\n",
      "  -k [ --kill_cache ]   do not reuse existing cache: create a new one always\r\n",
      "  --compressed          use gzip format whenever possible. If a cache file is \r\n",
      "                        being created, this option creates a compressed cache \r\n",
      "                        file. A mixture of raw-text & compressed inputs are \r\n",
      "                        supported with autodetection.\r\n",
      "  --no_stdin            do not default to reading from stdin\r\n",
      "\r\n"
     ]
    }
   ],
   "source": [
    "!vw --help"
   ]
  },
  {
   "cell_type": "markdown",
   "metadata": {
    "collapsed": true
   },
   "source": [
    "Vowpal Wabbit считывает данные из файла или стандартного ввода (stdin) в формате, который имеет следующий вид:\n",
    "\n",
    "`[Label] [Importance] [Tag]|Namespace Features |Namespace Features ... |Namespace Features`\n",
    "\n",
    "`Namespace=String[:Value]`\n",
    "\n",
    "`Features=(String[:Value] )*`\n",
    "\n",
    "где [] обозначает необязательные элементы, а (...)\\* означает повтор неопределенное число раз. \n",
    "\n",
    "- **Label** является числом, \"правильным\" ответом. В случае классификации обычно принимает значение 1/-1, а в случае регрессии некоторое вещественное число\n",
    "- **Importance** является числом и отвечает за вес примера при обучении. Это позволяет бороться с проблемой несбалансированных данных, изученной нами ранее\n",
    "- **Tag** является некоторой строкой без пробелов и отвечает за некоторое \"название\" примера, которое сохраняется при предсказании ответа. Для того, чтобы отделить Tag от Importance лучше начинать Tag с символа '.\n",
    "- **Namespace** служит для создания отдельных пространств признаков. В аргументах Namespace именуются по первой букве, это нужно учитывать при выборе их названий\n",
    "- **Features** являются непосредственно признаками объекта внутри **Namespace**. Признаки по умолчанию имеют вес 1.0, но его можно переопределить, к примеру feature:0.1. \n",
    "\n",
    "\n",
    "К примеру, под такой формат подходит следующая строка:\n",
    "\n",
    "```\n",
    "1 1.0 |Subject WHAT car is this |Organization University of Maryland:0.5 College Park\n",
    "```\n",
    "\n",
    "\n",
    "чтобы убедиться в этом, запустим vw с этим обучающим примером:"
   ]
  },
  {
   "cell_type": "code",
   "execution_count": 31,
   "metadata": {},
   "outputs": [
    {
     "name": "stdout",
     "output_type": "stream",
     "text": [
      "Num weight bits = 18\r\n",
      "learning rate = 0.5\r\n",
      "initial_t = 0\r\n",
      "power_t = 0.5\r\n",
      "using no cache\r\n",
      "Reading datafile = \r\n",
      "num sources = 1\r\n",
      "average  since         example        example  current  current  current\r\n",
      "loss     last          counter         weight    label  predict features\r\n",
      "1.000000 1.000000            1            1.0   1.0000   0.0000       10\r\n",
      "\r\n",
      "finished run\r\n",
      "number of examples per pass = 1\r\n",
      "passes used = 1\r\n",
      "weighted example sum = 1.000000\r\n",
      "weighted label sum = 1.000000\r\n",
      "average loss = 1.000000\r\n",
      "best constant = 1.000000\r\n",
      "best constant's loss = 0.000000\r\n",
      "total feature number = 10\r\n"
     ]
    }
   ],
   "source": [
    "! echo '1 1.0 |Subject WHAT car is this |Organization University of Maryland:0.5 College Park' | vw"
   ]
  },
  {
   "cell_type": "markdown",
   "metadata": {},
   "source": [
    "VW является прекрасным инструментом для работы с текстовыми данными. Убедимся в этом с помощью выборки 20newsgroups, содержащей новости из 20 различных тематических рассылок:"
   ]
  },
  {
   "cell_type": "code",
   "execution_count": 32,
   "metadata": {
    "collapsed": true
   },
   "outputs": [],
   "source": [
    "newsgroups = sklearn.datasets.fetch_20newsgroups('news_data/')"
   ]
  },
  {
   "cell_type": "code",
   "execution_count": 33,
   "metadata": {},
   "outputs": [
    {
     "data": {
      "text/plain": [
       "['alt.atheism',\n",
       " 'comp.graphics',\n",
       " 'comp.os.ms-windows.misc',\n",
       " 'comp.sys.ibm.pc.hardware',\n",
       " 'comp.sys.mac.hardware',\n",
       " 'comp.windows.x',\n",
       " 'misc.forsale',\n",
       " 'rec.autos',\n",
       " 'rec.motorcycles',\n",
       " 'rec.sport.baseball',\n",
       " 'rec.sport.hockey',\n",
       " 'sci.crypt',\n",
       " 'sci.electronics',\n",
       " 'sci.med',\n",
       " 'sci.space',\n",
       " 'soc.religion.christian',\n",
       " 'talk.politics.guns',\n",
       " 'talk.politics.mideast',\n",
       " 'talk.politics.misc',\n",
       " 'talk.religion.misc']"
      ]
     },
     "execution_count": 33,
     "metadata": {},
     "output_type": "execute_result"
    }
   ],
   "source": [
    "newsgroups['target_names']"
   ]
  },
  {
   "cell_type": "markdown",
   "metadata": {},
   "source": [
    "Рассмотрим первый текстовый документ этой коллекции:"
   ]
  },
  {
   "cell_type": "code",
   "execution_count": 34,
   "metadata": {},
   "outputs": [
    {
     "name": "stdout",
     "output_type": "stream",
     "text": [
      "-----\n",
      "rec.autos\n",
      "-----\n",
      "From: lerxst@wam.umd.edu (where's my thing)\n",
      "Subject: WHAT car is this!?\n",
      "Nntp-Posting-Host: rac3.wam.umd.edu\n",
      "Organization: University of Maryland, College Park\n",
      "Lines: 15\n",
      "\n",
      " I was wondering if anyone out there could enlighten me on this car I saw\n",
      "the other day. It was a 2-door sports car, looked to be from the late 60s/\n",
      "early 70s. It was called a Bricklin. The doors were really small. In addition,\n",
      "the front bumper was separate from the rest of the body. This is \n",
      "all I know. If anyone can tellme a model name, engine specs, years\n",
      "of production, where this car is made, history, or whatever info you\n",
      "have on this funky looking car, please e-mail.\n",
      "\n",
      "Thanks,\n",
      "- IL\n",
      "   ---- brought to you by your neighborhood Lerxst ----\n",
      "----\n"
     ]
    }
   ],
   "source": [
    "text = newsgroups['data'][0]\n",
    "target = newsgroups['target_names'][newsgroups['target'][0]]\n",
    "\n",
    "print('-----')\n",
    "print(target)\n",
    "print('-----')\n",
    "print(text.strip())\n",
    "print('----')"
   ]
  },
  {
   "cell_type": "markdown",
   "metadata": {},
   "source": [
    "**Приведем данные к формату Vowpal Wabbit, при этом оставляя только слова не короче 3 символов. Здесь мы не выполняем многие важные в анализе текстов процедуры (стемминг и лемматизацию), но, как увидим, задача и так будет решаться хорошо.**"
   ]
  },
  {
   "cell_type": "code",
   "execution_count": 35,
   "metadata": {},
   "outputs": [
    {
     "data": {
      "text/plain": [
       "'1 |text from lerxst wam umd edu where thing subject what car this nntp posting host rac3 wam umd edu organization university maryland college park lines was wondering anyone out there could enlighten this car saw the other day was door sports car looked from the late 60s early 70s was called bricklin the doors were really small addition the front bumper was separate from the rest the body this all know anyone can tellme model name engine specs years production where this car made history whatever info you have this funky looking car please mail thanks brought you your neighborhood lerxst\\n'"
      ]
     },
     "execution_count": 35,
     "metadata": {},
     "output_type": "execute_result"
    }
   ],
   "source": [
    "def to_vw_format(document, label=None):\n",
    "    return str(label or '') + ' |text ' + ' '.join(re.findall('\\w{3,}', document.lower())) + '\\n'\n",
    "\n",
    "to_vw_format(text, 1 if target == 'rec.autos' else -1)"
   ]
  },
  {
   "cell_type": "markdown",
   "metadata": {},
   "source": [
    "Разобьем выборку на обучающую и тестовую и запишем в файл преобразованные таким образом документы. Будем считать документ положительным, если он относится к рассылке про автомобили **rec.autos**. Так мы построим модель, отличающую новости про автомобили от остальных: "
   ]
  },
  {
   "cell_type": "code",
   "execution_count": 36,
   "metadata": {
    "collapsed": true
   },
   "outputs": [],
   "source": [
    "all_documents = newsgroups['data']\n",
    "all_targets = [1 if newsgroups['target_names'][target] == 'rec.autos' \n",
    "               else -1 for target in newsgroups['target']]"
   ]
  },
  {
   "cell_type": "code",
   "execution_count": 37,
   "metadata": {
    "collapsed": true
   },
   "outputs": [],
   "source": [
    "train_documents, test_documents, train_labels, test_labels = \\\n",
    "    train_test_split(all_documents, all_targets, random_state=17)\n",
    "    \n",
    "with open('news_data/20news_train.vw', 'w') as vw_train_data:\n",
    "    for text, target in zip(train_documents, train_labels):\n",
    "        vw_train_data.write(to_vw_format(text, target))\n",
    "with open('news_data/20news_test.vw', 'w') as vw_test_data:\n",
    "    for text in test_documents:\n",
    "        vw_test_data.write(to_vw_format(text))"
   ]
  },
  {
   "cell_type": "markdown",
   "metadata": {},
   "source": [
    "Запустим Vowpal Wabbit на сформированном файле. Мы решаем задачу классификации, поэтому зададим функцию потерь в значение hinge (линейный SVM). Построенную модель мы сохраним в соответствующий файл `20news_model.vw`:"
   ]
  },
  {
   "cell_type": "code",
   "execution_count": 38,
   "metadata": {
    "scrolled": true
   },
   "outputs": [
    {
     "name": "stdout",
     "output_type": "stream",
     "text": [
      "final_regressor = news_data/20news_model.vw\n",
      "Num weight bits = 18\n",
      "learning rate = 0.5\n",
      "initial_t = 0\n",
      "power_t = 0.5\n",
      "using no cache\n",
      "Reading datafile = news_data/20news_train.vw\n",
      "num sources = 1\n",
      "average  since         example        example  current  current  current\n",
      "loss     last          counter         weight    label  predict features\n",
      "1.000000 1.000000            1            1.0  -1.0000   0.0000      144\n",
      "0.500000 0.000000            2            2.0  -1.0000  -1.0000      270\n",
      "0.340324 0.180648            4            4.0  -1.0000  -0.9480      244\n",
      "0.417071 0.493818            8            8.0  -1.0000  -1.0000      151\n",
      "0.283219 0.149366           16           16.0  -1.0000  -1.0000      128\n",
      "0.211971 0.140724           32           32.0  -1.0000  -0.3997       28\n",
      "0.116923 0.021875           64           64.0  -1.0000  -1.0000      103\n",
      "0.158355 0.199787          128          128.0  -1.0000  -0.8313      127\n",
      "0.125210 0.092065          256          256.0  -1.0000  -0.9422       46\n",
      "0.150460 0.175711          512          512.0  -1.0000  -1.0000      139\n",
      "0.133359 0.116258         1024         1024.0  -1.0000  -1.0000      136\n",
      "0.124270 0.115181         2048         2048.0  -1.0000  -1.0000      409\n",
      "0.105939 0.087609         4096         4096.0   1.0000   0.7067      167\n",
      "0.078980 0.052020         8192         8192.0  -1.0000  -1.0000      610\n",
      "\n",
      "finished run\n",
      "number of examples per pass = 8485\n",
      "passes used = 1\n",
      "weighted example sum = 8485.000000\n",
      "weighted label sum = -7577.000000\n",
      "average loss = 0.077667\n",
      "best constant = -1.000000\n",
      "best constant's loss = 0.107012\n",
      "total feature number = 1994587\n"
     ]
    }
   ],
   "source": [
    "!vw -d news_data/20news_train.vw --loss_function hinge -f news_data/20news_model.vw"
   ]
  },
  {
   "cell_type": "markdown",
   "metadata": {},
   "source": [
    "Модель обучена. VW выводит достаточно много полезной информации по ходу обучения. Обратите внимание, что average loss снижался по ходу выполнения итераций. Для вычисления функции потерь VW использует еще не просмотренные примеры, поэтому, как правило, эта оценка является корректной. Применим обученную модель на тестовой выборке, сохраняя предсказания в файл с помощью опции -p: "
   ]
  },
  {
   "cell_type": "code",
   "execution_count": 39,
   "metadata": {},
   "outputs": [
    {
     "name": "stdout",
     "output_type": "stream",
     "text": [
      "only testing\n",
      "predictions = news_data/20news_test_predictions.txt\n",
      "Num weight bits = 18\n",
      "learning rate = 0.5\n",
      "initial_t = 0\n",
      "power_t = 0.5\n",
      "using no cache\n",
      "Reading datafile = news_data/20news_test.vw\n",
      "num sources = 1\n",
      "average  since         example        example  current  current  current\n",
      "loss     last          counter         weight    label  predict features\n",
      "    n.a.     n.a.            1            1.0  unknown  -1.0000      143\n",
      "    n.a.     n.a.            2            2.0  unknown  -1.0000       42\n",
      "    n.a.     n.a.            4            4.0  unknown  -0.8455       72\n",
      "    n.a.     n.a.            8            8.0  unknown   0.5062       54\n",
      "    n.a.     n.a.           16           16.0  unknown  -1.0000      796\n",
      "    n.a.     n.a.           32           32.0  unknown  -1.0000      187\n",
      "    n.a.     n.a.           64           64.0  unknown  -0.5900      215\n",
      "    n.a.     n.a.          128          128.0  unknown  -1.0000      139\n",
      "    n.a.     n.a.          256          256.0  unknown  -1.0000      248\n",
      "    n.a.     n.a.          512          512.0  unknown  -1.0000      192\n",
      "    n.a.     n.a.         1024         1024.0  unknown  -1.0000       97\n",
      "    n.a.     n.a.         2048         2048.0  unknown  -1.0000      132\n",
      "\n",
      "finished run\n",
      "number of examples per pass = 2829\n",
      "passes used = 1\n",
      "weighted example sum = 2829.000000\n",
      "weighted label sum = 0.000000\n",
      "average loss = n.a.\n",
      "total feature number = 696560\n"
     ]
    }
   ],
   "source": [
    "!vw -i news_data/20news_model.vw -t -d news_data/20news_test.vw \\\n",
    "-p news_data/20news_test_predictions.txt"
   ]
  },
  {
   "cell_type": "markdown",
   "metadata": {},
   "source": [
    "Загрузим полученные предсказания, вычислим AUC и отобразим ROC-кривую:"
   ]
  },
  {
   "cell_type": "code",
   "execution_count": 40,
   "metadata": {
    "scrolled": true
   },
   "outputs": [
    {
     "name": "stderr",
     "output_type": "stream",
     "text": [
      "/opt/conda/lib/python3.6/site-packages/matplotlib/font_manager.py:1297: UserWarning: findfont: Font family ['xkcd', 'Humor Sans', 'Comic Sans MS'] not found. Falling back to DejaVu Sans\n",
      "  (prop.get_family(), self.defaultFamily[fontext]))\n"
     ]
    },
    {
     "data": {
      "image/png": "[encoded data removed]",
      "text/plain": [
       "<matplotlib.figure.Figure at 0x7fefc9de48d0>"
      ]
     },
     "metadata": {},
     "output_type": "display_data"
    }
   ],
   "source": [
    "with open('news_data/20news_test_predictions.txt') as pred_file:\n",
    "    test_prediction = [float(label) \n",
    "                             for label in pred_file.readlines()]\n",
    "\n",
    "auc = sklearn.metrics.roc_auc_score(test_labels, test_prediction)\n",
    "roc_curve = sklearn.metrics.roc_curve(test_labels, test_prediction)\n",
    "\n",
    "with plt.xkcd():\n",
    "    plt.plot(roc_curve[0], roc_curve[1]);\n",
    "    plt.plot([0,1], [0,1])\n",
    "    plt.xlabel('FPR'); plt.ylabel('TPR'); plt.title('test AUC = %f' % (auc)); plt.axis([-0.05,1.05,-0.05,1.05]);"
   ]
  },
  {
   "cell_type": "markdown",
   "metadata": {},
   "source": [
    "Полученное значения AUC говорит о высоком качестве классификации."
   ]
  },
  {
   "cell_type": "markdown",
   "metadata": {},
   "source": [
    "## Часть 2. Тьюториал по Vowpal Wabbit. Новости. Многоклассовая классификация"
   ]
  },
  {
   "cell_type": "markdown",
   "metadata": {},
   "source": [
    "**Используем ту же выборку, что в прошлой части , но решаем задачу многоклассовой классификации. Тут Vowpal Wabbit слегка капризничает – он любит, чтоб метки классов были распределены от 1 до K, где K – число классов в задаче классификации (в нашем случае – 20). Поэтому придется применить LabelEncoder, да еще и +1 потом добавить (LabelEncoder переводит метки в диапозон от 0 до K-1).**"
   ]
  },
  {
   "cell_type": "code",
   "execution_count": 41,
   "metadata": {
    "collapsed": true
   },
   "outputs": [],
   "source": [
    "all_documents = newsgroups['data']\n",
    "topic_encoder = LabelEncoder()\n",
    "all_targets_mult = topic_encoder.fit_transform(newsgroups['target']) + 1"
   ]
  },
  {
   "cell_type": "code",
   "execution_count": 42,
   "metadata": {},
   "outputs": [
    {
     "data": {
      "text/plain": [
       "array([8, 5, 5, ..., 4, 2, 9])"
      ]
     },
     "execution_count": 42,
     "metadata": {},
     "output_type": "execute_result"
    }
   ],
   "source": [
    "all_targets_mult"
   ]
  },
  {
   "cell_type": "markdown",
   "metadata": {},
   "source": [
    "**Выборки будут те же, а метки поменяются, `train_labels_mult` и `test_labels_mult` – векторы меток от 1 до 20.**"
   ]
  },
  {
   "cell_type": "code",
   "execution_count": 43,
   "metadata": {
    "collapsed": true
   },
   "outputs": [],
   "source": [
    "train_documents, test_documents, train_labels_mult, test_labels_mult = \\\n",
    "    train_test_split(all_documents, all_targets_mult, random_state=17)"
   ]
  },
  {
   "cell_type": "code",
   "execution_count": 44,
   "metadata": {
    "collapsed": true
   },
   "outputs": [],
   "source": [
    "with open('news_data/20news_train_mult.vw', 'w') as vw_train_data:\n",
    "    for text, target in zip(train_documents, train_labels_mult):\n",
    "        vw_train_data.write(to_vw_format(text, target))\n",
    "with open('news_data/20news_test_mult.vw', 'w') as vw_test_data:\n",
    "    for text in test_documents:\n",
    "        vw_test_data.write(to_vw_format(text))"
   ]
  },
  {
   "cell_type": "markdown",
   "metadata": {},
   "source": [
    "**Обучим Vowpal Wabbit в режиме многоклассовой классификации, передав параметр *oaa* (от \"one against all\"), равный числу классов. Также перечислим параметры, которые можно понастраивать, и от которых качество модели может довольно значительно зависеть (более полно – в официальном [тьюториале](https://github.com/JohnLangford/vowpal_wabbit/wiki/Tutorial) по Vowpal Wabbit):**\n",
    " - темп обучения (-l, по умолчанию 0.5) – коэффициент перед изменением весов модели при каждом изменении\n",
    " - степень убывания темпа обучения (--power_t, по умолчанию 0.5) – на практике проверено, что если темп обучения уменьшается при увеличении числа итераций стохастического градиентного спуска, то минимум функции находится лучше \n",
    " - функция потерь (--loss_function) – от нее, по сути, зависит обучаемый алгоритм\n",
    " - регуляризация (-l1) – тут надо обратить внимание на то, что в VW регуляризация считается для каждого объекта, поэтому коэффициенты регуляризации обычно берутся малыми, около $10^{-20}.$\n",
    " \n",
    " **Дополнительно: в соревновании можно попробовать автоматическую настройку параметров Vowpal Wabbit с Hyperopt. Пока это работает только с Python 2. [Статья](https://habrahabr.ru/company/dca/blog/272697/) на Хабре.**"
   ]
  },
  {
   "cell_type": "code",
   "execution_count": 45,
   "metadata": {},
   "outputs": [
    {
     "name": "stdout",
     "output_type": "stream",
     "text": [
      "final_regressor = news_data/20news_model_mult.vw\n",
      "Num weight bits = 18\n",
      "learning rate = 0.5\n",
      "initial_t = 0\n",
      "power_t = 0.5\n",
      "using no cache\n",
      "Reading datafile = news_data/20news_train_mult.vw\n",
      "num sources = 1\n",
      "average  since         example        example  current  current  current\n",
      "loss     last          counter         weight    label  predict features\n",
      "0.000000 0.000000            1            1.0        1        1      144\n",
      "0.500000 1.000000            2            2.0       16        1      270\n",
      "0.750000 1.000000            4            4.0       10       14      244\n",
      "0.875000 1.000000            8            8.0       13       10      151\n",
      "0.937500 1.000000           16           16.0        9       17      128\n",
      "0.875000 0.812500           32           32.0       15        5       28\n",
      "0.875000 0.875000           64           64.0        3        3      103\n",
      "0.835938 0.796875          128          128.0       15       15      127\n",
      "0.750000 0.664062          256          256.0       20        3       46\n",
      "0.628906 0.507812          512          512.0       17       17      139\n",
      "0.506836 0.384766         1024         1024.0        4        4      136\n",
      "0.387207 0.267578         2048         2048.0        7        3      409\n",
      "0.294922 0.202637         4096         4096.0        8        8      167\n",
      "0.225830 0.156738         8192         8192.0       16       16      610\n",
      "\n",
      "finished run\n",
      "number of examples per pass = 8485\n",
      "passes used = 1\n",
      "weighted example sum = 8485.000000\n",
      "weighted label sum = 0.000000\n",
      "average loss = 0.222275\n",
      "total feature number = 1994587\n",
      "CPU times: user 36 ms, sys: 24 ms, total: 60 ms\n",
      "Wall time: 1.14 s\n"
     ]
    }
   ],
   "source": [
    "%%time\n",
    "!vw --oaa 20 news_data/20news_train_mult.vw -f news_data/20news_model_mult.vw \\\n",
    "--loss_function=hinge"
   ]
  },
  {
   "cell_type": "code",
   "execution_count": 46,
   "metadata": {},
   "outputs": [
    {
     "name": "stdout",
     "output_type": "stream",
     "text": [
      "only testing\n",
      "predictions = news_data/20news_test_predictions_mult.txt\n",
      "Num weight bits = 18\n",
      "learning rate = 0.5\n",
      "initial_t = 0\n",
      "power_t = 0.5\n",
      "using no cache\n",
      "Reading datafile = news_data/20news_test_mult.vw\n",
      "num sources = 1\n",
      "average  since         example        example  current  current  current\n",
      "loss     last          counter         weight    label  predict features\n",
      "    n.a.     n.a.            1            1.0  unknown        4      143\n",
      "    n.a.     n.a.            2            2.0  unknown        5       42\n",
      "    n.a.     n.a.            4            4.0  unknown       13       72\n",
      "    n.a.     n.a.            8            8.0  unknown        8       54\n",
      "    n.a.     n.a.           16           16.0  unknown        1      796\n",
      "    n.a.     n.a.           32           32.0  unknown       11      187\n",
      "    n.a.     n.a.           64           64.0  unknown       13      215\n",
      "    n.a.     n.a.          128          128.0  unknown       13      139\n",
      "    n.a.     n.a.          256          256.0  unknown       17      248\n",
      "    n.a.     n.a.          512          512.0  unknown        6      192\n",
      "    n.a.     n.a.         1024         1024.0  unknown       14       97\n",
      "    n.a.     n.a.         2048         2048.0  unknown        6      132\n",
      "\n",
      "finished run\n",
      "number of examples per pass = 2829\n",
      "passes used = 1\n",
      "weighted example sum = 2829.000000\n",
      "weighted label sum = 0.000000\n",
      "average loss = n.a.\n",
      "total feature number = 696560\n",
      "CPU times: user 24 ms, sys: 12 ms, total: 36 ms\n",
      "Wall time: 599 ms\n"
     ]
    }
   ],
   "source": [
    "%%time\n",
    "!vw -i news_data/20news_model_mult.vw -t -d news_data/20news_test_mult.vw \\\n",
    "-p news_data/20news_test_predictions_mult.txt"
   ]
  },
  {
   "cell_type": "code",
   "execution_count": 47,
   "metadata": {
    "collapsed": true
   },
   "outputs": [],
   "source": [
    "with open('news_data/20news_test_predictions_mult.txt') as pred_file:\n",
    "    test_prediction_mult = [float(label) \n",
    "                             for label in pred_file.readlines()]"
   ]
  },
  {
   "cell_type": "code",
   "execution_count": 48,
   "metadata": {},
   "outputs": [
    {
     "data": {
      "text/plain": [
       "0.87133262636974196"
      ]
     },
     "execution_count": 48,
     "metadata": {},
     "output_type": "execute_result"
    }
   ],
   "source": [
    "accuracy_score(test_labels_mult, test_prediction_mult)"
   ]
  },
  {
   "cell_type": "markdown",
   "metadata": {},
   "source": [
    "**Выведем раскрашенную матрицу ошибок полученного классификатора.**"
   ]
  },
  {
   "cell_type": "code",
   "execution_count": 81,
   "metadata": {},
   "outputs": [
    {
     "data": {
      "image/png": "[encoded data removed]",
      "text/plain": [
       "<matplotlib.figure.Figure at 0x7fefc9d94048>"
      ]
     },
     "metadata": {},
     "output_type": "display_data"
    }
   ],
   "source": [
    "from sklearn.metrics import confusion_matrix\n",
    "\n",
    "M = confusion_matrix(test_labels_mult, test_prediction_mult)\n",
    "M_normalized = M.astype('float') / M.sum(axis=1)[:, np.newaxis]\n",
    "\n",
    "plt.figure(figsize=(10,10))\n",
    "im = plt.imshow(M_normalized, interpolation='nearest', cmap='Greens')\n",
    "plt.colorbar(im, shrink=0.71)\n",
    "tick_marks = np.arange(len(newsgroups['target_names']))\n",
    "plt.xticks(tick_marks - 0.5, newsgroups['target_names'], rotation=45)\n",
    "plt.yticks(tick_marks, newsgroups['target_names'])\n",
    "plt.tight_layout()\n",
    "plt.ylabel('True topic')\n",
    "plt.xlabel('Predicted topic')\n",
    "plt.title('Normalized confusion matrix')\n",
    "plt.show()"
   ]
  },
  {
   "cell_type": "markdown",
   "metadata": {},
   "source": [
    "## Часть 3. Тьюториал по Vowpal Wabbit. Рецензии к фильмам IMDB"
   ]
  },
  {
   "cell_type": "markdown",
   "metadata": {},
   "source": [
    "**В этой части мы будем заниматься бинарной классификацией отзывов к фильмам, публикованным на сайте IMDB. Обратите внимание, насколько быстро будет работать Vowpal Wabbit.**\n",
    "\n",
    "**Используем функцию `load_files` из `sklearn.datasets` для загрузки отзывов по фильмам [отсюда](https://yadi.sk/d/Tg1Tflur333iLr). Скачайте данные и положите рядом с этой тетрадкой в каталог *imdb_reviews* (в нем должны быть каталоги *train* и *test*). Разархивирование может занять несколько минут – там 100 тыс. файлов. В обучающей и тестовой выборках по 12500 тысяч хороших и плохих отзывов к фильмам. Отделим данные (собственно тексты) от меток.**"
   ]
  },
  {
   "cell_type": "code",
   "execution_count": 2,
   "metadata": {
    "collapsed": true
   },
   "outputs": [],
   "source": [
    "from sklearn.datasets import load_files"
   ]
  },
  {
   "cell_type": "code",
   "execution_count": 51,
   "metadata": {},
   "outputs": [
    {
     "name": "stdout",
     "output_type": "stream",
     "text": [
      "/tmp/working/machinlearning/6/ident/week_6\r\n"
     ]
    }
   ],
   "source": [
    "! pwd"
   ]
  },
  {
   "cell_type": "code",
   "execution_count": 3,
   "metadata": {
    "collapsed": true
   },
   "outputs": [],
   "source": [
    "# Поменяйте на свой путь\n",
    "PATH_TO_MOVIE_DATA = '/tmp/working/machinlearning/6/ident/week_6/aclImdb'"
   ]
  },
  {
   "cell_type": "code",
   "execution_count": 14,
   "metadata": {
    "collapsed": true
   },
   "outputs": [],
   "source": [
    "train_path = PATH_TO_MOVIE_DATA +'/train'"
   ]
  },
  {
   "cell_type": "code",
   "execution_count": 18,
   "metadata": {
    "collapsed": true
   },
   "outputs": [],
   "source": [
    "reviews_train = load_files(os.path.join(PATH_TO_MOVIE_DATA, 'train'))\n",
    "text_train, y_train = reviews_train.data, reviews_train.target"
   ]
  },
  {
   "cell_type": "code",
   "execution_count": 19,
   "metadata": {},
   "outputs": [
    {
     "name": "stdout",
     "output_type": "stream",
     "text": [
      "Number of documents in training data: 25000\n",
      "[12500 12500]\n"
     ]
    }
   ],
   "source": [
    "print(\"Number of documents in training data: %d\" % len(text_train))\n",
    "print(np.bincount(y_train))"
   ]
  },
  {
   "cell_type": "markdown",
   "metadata": {},
   "source": [
    "То же самое с тестовой выборкой."
   ]
  },
  {
   "cell_type": "code",
   "execution_count": 20,
   "metadata": {},
   "outputs": [
    {
     "name": "stdout",
     "output_type": "stream",
     "text": [
      "Number of documents in test data: 25000\n",
      "[12500 12500]\n"
     ]
    }
   ],
   "source": [
    "reviews_test = load_files(os.path.join(PATH_TO_MOVIE_DATA, 'test'))\n",
    "text_test, y_test = reviews_test.data, reviews_train.target\n",
    "print(\"Number of documents in test data: %d\" % len(text_test))\n",
    "print(np.bincount(y_test))"
   ]
  },
  {
   "cell_type": "markdown",
   "metadata": {},
   "source": [
    "**Примеры отзывов и соответствующих меток.**"
   ]
  },
  {
   "cell_type": "code",
   "execution_count": 21,
   "metadata": {},
   "outputs": [
    {
     "data": {
      "text/plain": [
       "b\"Zero Day leads you to think, even re-think why two boys/young men would do what they did - commit mutual suicide via slaughtering their classmates. It captures what must be beyond a bizarre mode of being for two humans who have decided to withdraw from common civility in order to define their own/mutual world via coupled destruction.<br /><br />It is not a perfect movie but given what money/time the filmmaker and actors had - it is a remarkable product. In terms of explaining the motives and actions of the two young suicide/murderers it is better than 'Elephant' - in terms of being a film that gets under our 'rationalistic' skin it is a far, far better film than almost anything you are likely to see. <br /><br />Flawed but honest with a terrible honesty.\""
      ]
     },
     "execution_count": 21,
     "metadata": {},
     "output_type": "execute_result"
    }
   ],
   "source": [
    "text_train[0]"
   ]
  },
  {
   "cell_type": "code",
   "execution_count": 62,
   "metadata": {},
   "outputs": [
    {
     "data": {
      "text/plain": [
       "1"
      ]
     },
     "execution_count": 62,
     "metadata": {},
     "output_type": "execute_result"
    }
   ],
   "source": [
    "y_train[0] # хороший отзыв"
   ]
  },
  {
   "cell_type": "code",
   "execution_count": 63,
   "metadata": {},
   "outputs": [
    {
     "data": {
      "text/plain": [
       "b'Words can\\'t describe how bad this movie is. I can\\'t explain it by writing only. You have too see it for yourself to get at grip of how horrible a movie really can be. Not that I recommend you to do that. There are so many clich\\xc3\\xa9s, mistakes (and all other negative things you can imagine) here that will just make you cry. To start with the technical first, there are a LOT of mistakes regarding the airplane. I won\\'t list them here, but just mention the coloring of the plane. They didn\\'t even manage to show an airliner in the colors of a fictional airline, but instead used a 747 painted in the original Boeing livery. Very bad. The plot is stupid and has been done many times before, only much, much better. There are so many ridiculous moments here that i lost count of it really early. Also, I was on the bad guys\\' side all the time in the movie, because the good guys were so stupid. \"Executive Decision\" should without a doubt be you\\'re choice over this one, even the \"Turbulence\"-movies are better. In fact, every other movie in the world is better than this one.'"
      ]
     },
     "execution_count": 63,
     "metadata": {},
     "output_type": "execute_result"
    }
   ],
   "source": [
    "text_train[1]"
   ]
  },
  {
   "cell_type": "code",
   "execution_count": 64,
   "metadata": {},
   "outputs": [
    {
     "data": {
      "text/plain": [
       "0"
      ]
     },
     "execution_count": 64,
     "metadata": {},
     "output_type": "execute_result"
    }
   ],
   "source": [
    "y_train[1] # плохой отзыв"
   ]
  },
  {
   "cell_type": "markdown",
   "metadata": {},
   "source": [
    "**Будем использовать ранее написанную функцию `to_vw_format`.**"
   ]
  },
  {
   "cell_type": "code",
   "execution_count": 65,
   "metadata": {},
   "outputs": [
    {
     "data": {
      "text/plain": [
       "'1 |text words can describe how bad this movie can explain writing only you have too see for yourself get grip how horrible movie really can not that recommend you that there are many clich xc3 xa9s mistakes and all other negative things you can imagine here that will just make you cry start with the technical first there are lot mistakes regarding the airplane won list them here but just mention the coloring the plane they didn even manage show airliner the colors fictional airline but instead used 747 painted the original boeing livery very bad the plot stupid and has been done many times before only much much better there are many ridiculous moments here that lost count really early also was the bad guys side all the time the movie because the good guys were stupid executive decision should without doubt you choice over this one even the turbulence movies are better fact every other movie the world better than this one\\n'"
      ]
     },
     "execution_count": 65,
     "metadata": {},
     "output_type": "execute_result"
    }
   ],
   "source": [
    "to_vw_format(str(text_train[1]), 1 if y_train[0] == 1 else -1)"
   ]
  },
  {
   "cell_type": "markdown",
   "metadata": {},
   "source": [
    "**Подготовим обучающую (`movie_reviews_train.vw`), отложенную (`movie_reviews_valid.vw`) и тестовую (`movie_reviews_test.vw`) выборки для Vowpal Wabbit. 70% исходной обучаюшей выборки оставим под обучение, 30% – под отложенную выборку.**"
   ]
  },
  {
   "cell_type": "code",
   "execution_count": 66,
   "metadata": {
    "collapsed": true
   },
   "outputs": [],
   "source": [
    "train_share = int(0.7 * len(text_train))\n",
    "train, valid = text_train[:train_share], text_train[train_share:]\n",
    "train_labels, valid_labels = y_train[:train_share], y_train[train_share:]"
   ]
  },
  {
   "cell_type": "code",
   "execution_count": 67,
   "metadata": {},
   "outputs": [
    {
     "data": {
      "text/plain": [
       "(17500, 7500)"
      ]
     },
     "execution_count": 67,
     "metadata": {},
     "output_type": "execute_result"
    }
   ],
   "source": [
    "len(train_labels), len(valid_labels)"
   ]
  },
  {
   "cell_type": "code",
   "execution_count": 68,
   "metadata": {
    "collapsed": true
   },
   "outputs": [],
   "source": [
    "with open(os.path.join(PATH_TO_MOVIE_DATA, 'movie_reviews_train.vw'), 'w') as vw_train_data:\n",
    "    for text, target in zip(train, train_labels):\n",
    "        vw_train_data.write(to_vw_format(str(text), 1 if target == 1 else -1))\n",
    "with open(os.path.join(PATH_TO_MOVIE_DATA, 'movie_reviews_valid.vw'), 'w') as vw_train_data:\n",
    "    for text, target in zip(valid, valid_labels):\n",
    "        vw_train_data.write(to_vw_format(str(text), 1 if target == 1 else -1))\n",
    "with open(os.path.join(PATH_TO_MOVIE_DATA, 'movie_reviews_test.vw'), 'w') as vw_test_data:\n",
    "    for text in text_test:\n",
    "        vw_test_data.write(to_vw_format(str(text)))"
   ]
  },
  {
   "cell_type": "code",
   "execution_count": 69,
   "metadata": {},
   "outputs": [
    {
     "name": "stdout",
     "output_type": "stream",
     "text": [
      "1 |text zero day leads you think even think why two boys young men would what they did commit mutual suicide via slaughtering their classmates captures what must beyond bizarre mode being for two humans who have decided withdraw from common civility order define their own mutual world via coupled destruction not perfect movie but given what money time the filmmaker and actors had remarkable product terms explaining the motives and actions the two young suicide murderers better than elephant terms being film that gets under our rationalistic skin far far better film than almost anything you are likely see flawed but honest with terrible honesty\r\n",
      "-1 |text words can describe how bad this movie can explain writing only you have too see for yourself get grip how horrible movie really can not that recommend you that there are many clich xc3 xa9s mistakes and all other negative things you can imagine here that will just make you cry start with the technical first there are lot mistakes regarding the airplane won list them here but just mention the coloring the plane they didn even manage show airliner the colors fictional airline but instead used 747 painted the original boeing livery very bad the plot stupid and has been done many times before only much much better there are many ridiculous moments here that lost count really early also was the bad guys side all the time the movie because the good guys were stupid executive decision should without doubt you choice over this one even the turbulence movies are better fact every other movie the world better than this one\r\n"
     ]
    }
   ],
   "source": [
    "!head -2 $PATH_TO_MOVIE_DATA/movie_reviews_train.vw"
   ]
  },
  {
   "cell_type": "code",
   "execution_count": 70,
   "metadata": {},
   "outputs": [
    {
     "name": "stdout",
     "output_type": "stream",
     "text": [
      "1 |text matter life and death what can you really say that would properly justice the genius and beauty this film powell and pressburger visual imagination knows bounds every frame filled with fantastically bold compositions the switches between the bold colours the real world the stark black and white heaven ingenious showing visually just how much more vibrant life the final court scene also fantastic the judge and jury descend the stairway heaven hold court over peter david niven operation all the performances are spot roger livesey being standout and the romantic energy the film beautiful never has there been more romantic film than this there has haven seen matter life and death all about the power love and just how important life and jack cardiff cinematography reason enough watch the film alone the way lights kim hunter face makes her all the more beautiful what genius can make simple things such game table tennis look exciting and the sound design also impeccable the way the sound mutes vital points was decision way ahead its time this true classic that can restore anyone faith cinema under appreciated its initial release and today audiences but one all time favourites which why give this film word beautiful\r\n",
      "1 |text while this was better movie than 101 dalmations live action not animated version think still fell little short what disney could was well filmed the music was more suited the action and the effects were better done compared 101 the acting was perhaps better but then the human characters were given far more appropriate roles this sequel and glenn close really not missed the first movie she makes shine her poor lackey and the overzealous furrier sidekicks are wonderful characters play off and they add the spectacle disney has given this great family film with little objectionable material and yet remains fun and interesting for adults and children alike bound classic many disney films are here hoping the third will even better still because you know they probably want make one\r\n"
     ]
    }
   ],
   "source": [
    "!head -2 $PATH_TO_MOVIE_DATA/movie_reviews_valid.vw"
   ]
  },
  {
   "cell_type": "code",
   "execution_count": 36,
   "metadata": {},
   "outputs": [
    {
     "name": "stdout",
     "output_type": "stream",
     "text": [
      " |text don hate heather graham because she beautiful hate her because she fun watch this movie like the hip clothing and funky surroundings the actors this flick work well together casey affleck hysterical and heather graham literally lights the screen the minor characters goran visnjic sigh and patricia velazquez are talented they are gorgeous congratulations miramax director lisa krueger\r\n",
      " |text don know how this movie has received many positive comments one can call artistic and beautifully filmed but those things don make for the empty plot that was filled with sexual innuendos wish had not wasted time watch this movie rather than being biographical was poor excuse for promoting strange and lewd behavior was just another hollywood attempt convince that that kind life normal and from the very beginning asked self what was the point this movie and continued watching hoping that would change and was quite disappointed that continued the same vein glad did not spend the money see this theater\r\n"
     ]
    }
   ],
   "source": [
    "!head -2 $PATH_TO_MOVIE_DATA/movie_reviews_test.vw"
   ]
  },
  {
   "cell_type": "markdown",
   "metadata": {},
   "source": [
    "**Обучим модель Vowpal Wabbit со следующими агрументами:**\n",
    "\n",
    " - -d, путь к обучающей выборке (соотв. файл .vw )\n",
    " - --loss_function – hinge (хотя можно и поэкспериментировать с другими)\n",
    " - -f – путь к файлу, в который запишется модель (можно тоже в формате .vw)"
   ]
  },
  {
   "cell_type": "code",
   "execution_count": 71,
   "metadata": {},
   "outputs": [
    {
     "name": "stdout",
     "output_type": "stream",
     "text": [
      "final_regressor = /tmp/working/machinlearning/6/ident/week_6/aclImdb/movie_reviews_model.vw\n",
      "Num weight bits = 18\n",
      "learning rate = 0.5\n",
      "initial_t = 0\n",
      "power_t = 0.5\n",
      "using no cache\n",
      "Reading datafile = /tmp/working/machinlearning/6/ident/week_6/aclImdb/movie_reviews_train.vw\n",
      "num sources = 1\n",
      "average  since         example        example  current  current  current\n",
      "loss     last          counter         weight    label  predict features\n",
      "1.000000 1.000000            1            1.0   1.0000   0.0000      105\n",
      "1.324514 1.649029            2            2.0  -1.0000   0.6490      164\n",
      "1.274999 1.225483            4            4.0  -1.0000   0.2310      110\n",
      "1.071162 0.867325            8            8.0  -1.0000   0.4609      219\n",
      "1.063382 1.055602           16           16.0   1.0000  -0.5401      204\n",
      "0.987534 0.911686           32           32.0   1.0000   0.2172      190\n",
      "1.016583 1.045631           64           64.0  -1.0000   0.3521      126\n",
      "0.917219 0.817854          128          128.0  -1.0000  -1.0000      106\n",
      "0.863816 0.810413          256          256.0  -1.0000  -1.0000       93\n",
      "0.752982 0.642148          512          512.0   1.0000   1.0000      325\n",
      "0.652552 0.552122         1024         1024.0  -1.0000  -1.0000      494\n",
      "0.586978 0.521403         2048         2048.0  -1.0000  -0.6998      105\n",
      "0.501923 0.416868         4096         4096.0  -1.0000  -0.8127      131\n",
      "0.428878 0.355834         8192         8192.0   1.0000   1.0000      118\n",
      "0.375668 0.322457        16384        16384.0  -1.0000  -1.0000      188\n",
      "\n",
      "finished run\n",
      "number of examples per pass = 17500\n",
      "passes used = 1\n",
      "weighted example sum = 17500.000000\n",
      "weighted label sum = -72.000000\n",
      "average loss = 0.367972\n",
      "best constant = -1.000000\n",
      "best constant's loss = 0.995886\n",
      "total feature number = 3258815\n"
     ]
    }
   ],
   "source": [
    "!vw -d $PATH_TO_MOVIE_DATA/movie_reviews_train.vw \\\n",
    "--loss_function hinge -f $PATH_TO_MOVIE_DATA/movie_reviews_model.vw"
   ]
  },
  {
   "cell_type": "markdown",
   "metadata": {},
   "source": [
    "**Сделаем прогноз для отложенной выборки с помощью обученной модели Vowpal Wabbit, передав следующие аргументы:**\n",
    " - -i –путь к обученной модели (соотв. файл .vw)\n",
    " - -t -d – путь к отложенной выборке (соотв. файл .vw)\n",
    " - -p – путь к txt-файлу, куда запишутся прогнозы"
   ]
  },
  {
   "cell_type": "code",
   "execution_count": 77,
   "metadata": {},
   "outputs": [
    {
     "name": "stdout",
     "output_type": "stream",
     "text": [
      "only testing\n",
      "predictions = /tmp/working/machinlearning/6/ident/week_6/aclImdb/movie_valid_pred.txt\n",
      "Num weight bits = 18\n",
      "learning rate = 0.5\n",
      "initial_t = 0\n",
      "power_t = 0.5\n",
      "using no cache\n",
      "Reading datafile = /tmp/working/machinlearning/6/ident/week_6/aclImdb/movie_reviews_valid.vw\n",
      "num sources = 1\n",
      "average  since         example        example  current  current  current\n",
      "loss     last          counter         weight    label  predict features\n",
      "0.000000 0.000000            1            1.0   1.0000   1.0000      204\n",
      "0.016776 0.033551            2            2.0   1.0000   0.8168      132\n",
      "0.008388 0.000000            4            4.0   1.0000   1.0000       97\n",
      "0.012055 0.015722            8            8.0   1.0000   1.0000      128\n",
      "0.301133 0.590210           16           16.0   1.0000   0.9068       35\n",
      "0.287625 0.274117           32           32.0   1.0000   1.0000      268\n",
      "0.488315 0.689006           64           64.0   1.0000   0.7265       92\n",
      "0.408818 0.329320          128          128.0   1.0000   1.0000      272\n",
      "0.396541 0.384265          256          256.0   1.0000   1.0000      430\n",
      "0.399256 0.401971          512          512.0   1.0000   1.0000      136\n",
      "0.381387 0.363519         1024         1024.0   1.0000   0.7902      117\n",
      "0.355498 0.329608         2048         2048.0  -1.0000  -1.0000      771\n",
      "0.353539 0.351580         4096         4096.0  -1.0000  -1.0000      791\n",
      "\n",
      "finished run\n",
      "number of examples per pass = 7500\n",
      "passes used = 1\n",
      "weighted example sum = 7500.000000\n",
      "weighted label sum = 72.000000\n",
      "average loss = 0.358580\n",
      "best constant = 0.009600\n",
      "best constant's loss = 0.999908\n",
      "total feature number = 1386305\n"
     ]
    }
   ],
   "source": [
    "!vw -i $PATH_TO_MOVIE_DATA/movie_reviews_model.vw \\\n",
    "-t -d $PATH_TO_MOVIE_DATA/movie_reviews_valid.vw \\\n",
    "-p $PATH_TO_MOVIE_DATA/movie_valid_pred.txt"
   ]
  },
  {
   "cell_type": "markdown",
   "metadata": {},
   "source": [
    "**Считаем прогноз из файла и посчитаем долю правильных ответов и ROC AUC. Учтем, что VW выводит оценки вероятности принадлежности к классу +1. Эти оценки распределены на [-1, 1], поэтому бинарным ответом алгоритма (0 или 1) будем попросту считать тот факт, что оценка получилась положительной.**"
   ]
  },
  {
   "cell_type": "code",
   "execution_count": 82,
   "metadata": {},
   "outputs": [
    {
     "name": "stdout",
     "output_type": "stream",
     "text": [
      "Accuracy: 0.885\n",
      "AUC: 0.942\n"
     ]
    }
   ],
   "source": [
    "with open(os.path.join(PATH_TO_MOVIE_DATA, 'movie_valid_pred.txt')) as pred_file:\n",
    "    valid_prediction = [float(label) \n",
    "                             for label in pred_file.readlines()]\n",
    "print(\"Accuracy: {}\".format(round(accuracy_score(valid_labels, \n",
    "               [int(pred_prob > 0) for pred_prob in valid_prediction]), 3)))\n",
    "print(\"AUC: {}\".format(round(roc_auc_score(valid_labels, valid_prediction), 3)))"
   ]
  },
  {
   "cell_type": "markdown",
   "metadata": {
    "collapsed": true
   },
   "source": [
    "**Сделаем то же самое для тестовой выборки.**"
   ]
  },
  {
   "cell_type": "code",
   "execution_count": 83,
   "metadata": {},
   "outputs": [
    {
     "name": "stdout",
     "output_type": "stream",
     "text": [
      "only testing\n",
      "predictions = /tmp/working/machinlearning/6/ident/week_6/aclImdb/movie_test_pred.txt\n",
      "Num weight bits = 18\n",
      "learning rate = 0.5\n",
      "initial_t = 0\n",
      "power_t = 0.5\n",
      "using no cache\n",
      "Reading datafile = /tmp/working/machinlearning/6/ident/week_6/aclImdb/movie_reviews_test.vw\n",
      "num sources = 1\n",
      "average  since         example        example  current  current  current\n",
      "loss     last          counter         weight    label  predict features\n",
      "    n.a.     n.a.            1            1.0  unknown   0.1245       59\n",
      "    n.a.     n.a.            2            2.0  unknown  -1.0000      103\n",
      "    n.a.     n.a.            4            4.0  unknown  -1.0000      161\n",
      "    n.a.     n.a.            8            8.0  unknown  -0.8256      365\n",
      "    n.a.     n.a.           16           16.0  unknown   1.0000      319\n",
      "    n.a.     n.a.           32           32.0  unknown   1.0000       95\n",
      "    n.a.     n.a.           64           64.0  unknown  -0.9379      139\n",
      "    n.a.     n.a.          128          128.0  unknown  -0.7748       92\n",
      "    n.a.     n.a.          256          256.0  unknown  -0.1277      411\n",
      "    n.a.     n.a.          512          512.0  unknown   1.0000       94\n",
      "    n.a.     n.a.         1024         1024.0  unknown  -1.0000      403\n",
      "    n.a.     n.a.         2048         2048.0  unknown  -1.0000      101\n",
      "    n.a.     n.a.         4096         4096.0  unknown  -1.0000      140\n",
      "    n.a.     n.a.         8192         8192.0  unknown   1.0000      182\n",
      "    n.a.     n.a.        16384        16384.0  unknown  -1.0000      201\n",
      "\n",
      "finished run\n",
      "number of examples per pass = 25000\n",
      "passes used = 1\n",
      "weighted example sum = 25000.000000\n",
      "weighted label sum = 0.000000\n",
      "average loss = n.a.\n",
      "total feature number = 4535055\n"
     ]
    }
   ],
   "source": [
    "!vw -i $PATH_TO_MOVIE_DATA/movie_reviews_model.vw \\\n",
    "-t -d $PATH_TO_MOVIE_DATA/movie_reviews_test.vw \\\n",
    "-p $PATH_TO_MOVIE_DATA/movie_test_pred.txt"
   ]
  },
  {
   "cell_type": "code",
   "execution_count": 84,
   "metadata": {},
   "outputs": [
    {
     "name": "stdout",
     "output_type": "stream",
     "text": [
      "Accuracy: 0.88\n",
      "AUC: 0.94\n"
     ]
    }
   ],
   "source": [
    "with open(os.path.join(PATH_TO_MOVIE_DATA, 'movie_test_pred.txt')) as pred_file:\n",
    "    test_prediction = [float(label) \n",
    "                             for label in pred_file.readlines()]\n",
    "print(\"Accuracy: {}\".format(round(accuracy_score(y_test, \n",
    "               [int(pred_prob > 0) for pred_prob in test_prediction]), 3)))\n",
    "print(\"AUC: {}\".format(round(roc_auc_score(y_test, test_prediction), 3)))"
   ]
  },
  {
   "cell_type": "markdown",
   "metadata": {},
   "source": [
    "**Попробуем улучшить прогноз за счет задействования биграмм.**"
   ]
  },
  {
   "cell_type": "code",
   "execution_count": 85,
   "metadata": {},
   "outputs": [
    {
     "name": "stdout",
     "output_type": "stream",
     "text": [
      "Generating 2-grams for all namespaces.\n",
      "final_regressor = /tmp/working/machinlearning/6/ident/week_6/aclImdb/movie_reviews_model2.vw\n",
      "Num weight bits = 18\n",
      "learning rate = 0.5\n",
      "initial_t = 0\n",
      "power_t = 0.5\n",
      "using no cache\n",
      "Reading datafile = /tmp/working/machinlearning/6/ident/week_6/aclImdb/movie_reviews_train.vw\n",
      "num sources = 1\n",
      "average  since         example        example  current  current  current\n",
      "loss     last          counter         weight    label  predict features\n",
      "1.000000 1.000000            1            1.0   1.0000   0.0000      208\n",
      "1.163564 1.327128            2            2.0  -1.0000   0.3271      326\n",
      "1.132272 1.100979            4            4.0  -1.0000   0.1421      218\n",
      "1.038996 0.945721            8            8.0  -1.0000  -0.0209      436\n",
      "1.066398 1.093799           16           16.0   1.0000  -0.3067      406\n",
      "1.015723 0.965048           32           32.0   1.0000   0.1252      378\n",
      "0.998668 0.981614           64           64.0  -1.0000   0.1228      250\n",
      "0.944884 0.891100          128          128.0  -1.0000  -0.5893      210\n",
      "0.915717 0.886549          256          256.0  -1.0000  -0.5191      184\n",
      "0.840179 0.764641          512          512.0   1.0000   0.6381      648\n",
      "0.766950 0.693722         1024         1024.0  -1.0000  -0.9148      986\n",
      "0.696453 0.625956         2048         2048.0  -1.0000  -0.4542      208\n",
      "0.608606 0.520759         4096         4096.0  -1.0000  -0.9513      260\n",
      "0.519946 0.431286         8192         8192.0   1.0000   1.0000      234\n",
      "0.447116 0.374285        16384        16384.0  -1.0000  -1.0000      374\n",
      "\n",
      "finished run\n",
      "number of examples per pass = 17500\n",
      "passes used = 1\n",
      "weighted example sum = 17500.000000\n",
      "weighted label sum = -72.000000\n",
      "average loss = 0.438549\n",
      "best constant = -1.000000\n",
      "best constant's loss = 0.995886\n",
      "total feature number = 6482630\n"
     ]
    }
   ],
   "source": [
    "!vw -d $PATH_TO_MOVIE_DATA/movie_reviews_train.vw \\\n",
    "--loss_function hinge --ngram 2 -f $PATH_TO_MOVIE_DATA/movie_reviews_model2.vw"
   ]
  },
  {
   "cell_type": "code",
   "execution_count": 86,
   "metadata": {},
   "outputs": [
    {
     "name": "stdout",
     "output_type": "stream",
     "text": [
      "Generating 2-grams for all namespaces.\n",
      "only testing\n",
      "predictions = /tmp/working/machinlearning/6/ident/week_6/aclImdb/movie_valid_pred2.txt\n",
      "Num weight bits = 18\n",
      "learning rate = 0.5\n",
      "initial_t = 0\n",
      "power_t = 0.5\n",
      "using no cache\n",
      "Reading datafile = /tmp/working/machinlearning/6/ident/week_6/aclImdb/movie_reviews_valid.vw\n",
      "num sources = 1\n",
      "average  since         example        example  current  current  current\n",
      "loss     last          counter         weight    label  predict features\n",
      "0.000000 0.000000            1            1.0   1.0000   1.0000      406\n",
      "0.058499 0.116998            2            2.0   1.0000   0.6580      262\n",
      "0.029249 0.000000            4            4.0   1.0000   1.0000      192\n",
      "0.039642 0.050034            8            8.0   1.0000   1.0000      254\n",
      "0.260827 0.482012           16           16.0   1.0000   0.5979       68\n",
      "0.277697 0.294567           32           32.0   1.0000   1.0000      534\n",
      "0.381055 0.484414           64           64.0   1.0000   0.6431      182\n",
      "0.304856 0.228656          128          128.0   1.0000   0.8595      542\n",
      "0.351446 0.398036          256          256.0   1.0000   0.6343      858\n",
      "0.375424 0.399402          512          512.0   1.0000   1.0000      270\n",
      "0.354018 0.332612         1024         1024.0   1.0000   0.4807      232\n",
      "0.326355 0.298692         2048         2048.0  -1.0000  -1.0000     1540\n",
      "0.329652 0.332948         4096         4096.0  -1.0000  -1.0000     1580\n",
      "\n",
      "finished run\n",
      "number of examples per pass = 7500\n",
      "passes used = 1\n",
      "weighted example sum = 7500.000000\n",
      "weighted label sum = 72.000000\n",
      "average loss = 0.334046\n",
      "best constant = 0.009600\n",
      "best constant's loss = 0.999908\n",
      "total feature number = 2757610\n"
     ]
    }
   ],
   "source": [
    "!vw -i $PATH_TO_MOVIE_DATA/movie_reviews_model2.vw \\\n",
    "-t -d $PATH_TO_MOVIE_DATA/movie_reviews_valid.vw \\\n",
    "-p $PATH_TO_MOVIE_DATA/movie_valid_pred2.txt"
   ]
  },
  {
   "cell_type": "code",
   "execution_count": 87,
   "metadata": {},
   "outputs": [
    {
     "name": "stdout",
     "output_type": "stream",
     "text": [
      "Accuracy: 0.894\n",
      "AUC: 0.954\n"
     ]
    }
   ],
   "source": [
    "with open(os.path.join(PATH_TO_MOVIE_DATA, 'movie_valid_pred2.txt')) as pred_file:\n",
    "    valid_prediction = [float(label) \n",
    "                             for label in pred_file.readlines()]\n",
    "print(\"Accuracy: {}\".format(round(accuracy_score(valid_labels, \n",
    "               [int(pred_prob > 0) for pred_prob in valid_prediction]), 3)))\n",
    "print(\"AUC: {}\".format(round(roc_auc_score(valid_labels, valid_prediction), 3)))"
   ]
  },
  {
   "cell_type": "code",
   "execution_count": null,
   "metadata": {
    "collapsed": true
   },
   "outputs": [],
   "source": [
    "!"
   ]
  },
  {
   "cell_type": "code",
   "execution_count": 88,
   "metadata": {},
   "outputs": [
    {
     "name": "stdout",
     "output_type": "stream",
     "text": [
      "Generating 2-grams for all namespaces.\n",
      "only testing\n",
      "predictions = /tmp/working/machinlearning/6/ident/week_6/aclImdb/movie_test_pred2.txt\n",
      "Num weight bits = 18\n",
      "learning rate = 0.5\n",
      "initial_t = 0\n",
      "power_t = 0.5\n",
      "using no cache\n",
      "Reading datafile = /tmp/working/machinlearning/6/ident/week_6/aclImdb/movie_reviews_test.vw\n",
      "num sources = 1\n",
      "average  since         example        example  current  current  current\n",
      "loss     last          counter         weight    label  predict features\n",
      "    n.a.     n.a.            1            1.0  unknown  -0.0426      116\n",
      "    n.a.     n.a.            2            2.0  unknown  -1.0000      204\n",
      "    n.a.     n.a.            4            4.0  unknown  -1.0000      320\n",
      "    n.a.     n.a.            8            8.0  unknown  -1.0000      728\n",
      "    n.a.     n.a.           16           16.0  unknown   1.0000      636\n",
      "    n.a.     n.a.           32           32.0  unknown   0.9573      188\n",
      "    n.a.     n.a.           64           64.0  unknown  -0.4484      276\n",
      "    n.a.     n.a.          128          128.0  unknown  -0.8634      182\n",
      "    n.a.     n.a.          256          256.0  unknown  -0.3853      820\n",
      "    n.a.     n.a.          512          512.0  unknown   1.0000      186\n",
      "    n.a.     n.a.         1024         1024.0  unknown  -0.8601      804\n",
      "    n.a.     n.a.         2048         2048.0  unknown  -0.8399      200\n",
      "    n.a.     n.a.         4096         4096.0  unknown  -0.7178      278\n",
      "    n.a.     n.a.         8192         8192.0  unknown   1.0000      362\n",
      "    n.a.     n.a.        16384        16384.0  unknown  -1.0000      400\n",
      "\n",
      "finished run\n",
      "number of examples per pass = 25000\n",
      "passes used = 1\n",
      "weighted example sum = 25000.000000\n",
      "weighted label sum = 0.000000\n",
      "average loss = n.a.\n",
      "total feature number = 9020110\n"
     ]
    }
   ],
   "source": [
    "!vw -i $PATH_TO_MOVIE_DATA/movie_reviews_model2.vw \\\n",
    "-t -d $PATH_TO_MOVIE_DATA/movie_reviews_test.vw \\\n",
    "-p $PATH_TO_MOVIE_DATA/movie_test_pred2.txt"
   ]
  },
  {
   "cell_type": "code",
   "execution_count": 89,
   "metadata": {},
   "outputs": [
    {
     "name": "stdout",
     "output_type": "stream",
     "text": [
      "Accuracy: 0.888\n",
      "AUC: 0.952\n"
     ]
    }
   ],
   "source": [
    "with open(os.path.join(PATH_TO_MOVIE_DATA, 'movie_test_pred2.txt')) as pred_file:\n",
    "    test_prediction2 = [float(label) \n",
    "                             for label in pred_file.readlines()]\n",
    "print(\"Accuracy: {}\".format(round(accuracy_score(y_test, \n",
    "               [int(pred_prob > 0) for pred_prob in test_prediction2]), 3)))\n",
    "print(\"AUC: {}\".format(round(roc_auc_score(y_test, test_prediction2), 3)))"
   ]
  },
  {
   "cell_type": "markdown",
   "metadata": {},
   "source": [
    "Видим, что биграммы помогли повысить качество классификации."
   ]
  },
  {
   "cell_type": "markdown",
   "metadata": {},
   "source": [
    "## Часть 4. Применение Vowpal Wabbit к данным по посещению сайтов"
   ]
  },
  {
   "cell_type": "markdown",
   "metadata": {},
   "source": [
    "**Загрузим созданные ранее pickle-объекты, соответствующие разреженным данным [соревнования](https://inclass.kaggle.com/c/identify-me-if-you-can4/data), которые мы создали на прошлой неделе.**"
   ]
  },
  {
   "cell_type": "code",
   "execution_count": 8,
   "metadata": {
    "collapsed": true
   },
   "outputs": [],
   "source": [
    "import pickle"
   ]
  },
  {
   "cell_type": "code",
   "execution_count": 7,
   "metadata": {},
   "outputs": [
    {
     "name": "stdout",
     "output_type": "stream",
     "text": [
      "/tmp/working/machinleaning/ml/6/ident/week_6\r\n"
     ]
    }
   ],
   "source": [
    "!pwd"
   ]
  },
  {
   "cell_type": "code",
   "execution_count": 5,
   "metadata": {
    "collapsed": true
   },
   "outputs": [],
   "source": [
    "# Поменяйте на свой путь к данным\n",
    "PATH_TO_DATA = '/tmp/working/machinleaning/ml/6/ident/kaggle_data/' "
   ]
  },
  {
   "cell_type": "code",
   "execution_count": 9,
   "metadata": {
    "collapsed": true
   },
   "outputs": [],
   "source": [
    "with open(os.path.join(PATH_TO_DATA, 'X_train_sparse.pkl'), 'rb') as X_train_sparse_pkl:\n",
    "    X_train_sparse = pickle.load(X_train_sparse_pkl)\n",
    "with open(os.path.join(PATH_TO_DATA, 'X_test_sparse.pkl'), 'rb') as X_test_sparse_pkl:\n",
    "    X_test_sparse = pickle.load(X_test_sparse_pkl)\n",
    "with open(os.path.join(PATH_TO_DATA, 'train_target.pkl'), 'rb') as train_target_pkl:\n",
    "    y = pickle.load(train_target_pkl)"
   ]
  },
  {
   "cell_type": "code",
   "execution_count": 7,
   "metadata": {},
   "outputs": [
    {
     "data": {
      "text/plain": [
       "((182793, 36655), (46473, 36655))"
      ]
     },
     "execution_count": 7,
     "metadata": {},
     "output_type": "execute_result"
    }
   ],
   "source": [
    "X_train_sparse.shape, X_test_sparse.shape"
   ]
  },
  {
   "cell_type": "code",
   "execution_count": 8,
   "metadata": {},
   "outputs": [
    {
     "data": {
      "text/plain": [
       "((182793, 36655), (46473, 36655))"
      ]
     },
     "execution_count": 8,
     "metadata": {},
     "output_type": "execute_result"
    }
   ],
   "source": [
    "X_train_sparse.shape, X_test_sparse.shape"
   ]
  },
  {
   "cell_type": "markdown",
   "metadata": {},
   "source": [
    "**Vowpal Wabbit любит, чтоб метки классов были распределены от 1 до K, где K – число классов в задаче классификации (в нашем случае – 550). Поэтому придется применить LabelEncoder, да еще и +1 потом добавить (LabelEncoder переводит метки в диапозон от 0 до K-1).**"
   ]
  },
  {
   "cell_type": "code",
   "execution_count": 10,
   "metadata": {
    "collapsed": true
   },
   "outputs": [],
   "source": [
    "class_encoder = LabelEncoder().fit(y)"
   ]
  },
  {
   "cell_type": "code",
   "execution_count": 11,
   "metadata": {
    "collapsed": true
   },
   "outputs": [],
   "source": [
    "y_for_vw = class_encoder.transform(y) + 1"
   ]
  },
  {
   "cell_type": "markdown",
   "metadata": {},
   "source": [
    "**Выделим обучающую и оставленную части исходной обучающей выборки.**"
   ]
  },
  {
   "cell_type": "code",
   "execution_count": 12,
   "metadata": {
    "collapsed": true
   },
   "outputs": [],
   "source": [
    "X_train, X_valid, y_train, y_valid = train_test_split(X_train_sparse, y_for_vw, test_size=0.3, \n",
    "                                                     random_state=17, stratify=y_for_vw)"
   ]
  },
  {
   "cell_type": "markdown",
   "metadata": {},
   "source": [
    "**Реализуйте функцию, переводящую разреженную матрицу в формат Vowpal Wabbit.**\n",
    "\n",
    "Вход:\n",
    " - X_sparse – разреженная матрица SciPy.sparse.csr_matrix\n",
    " - y (необяз.) - вектор ответов. Необязателен, поскольку тестовую матрицу будем обрабатывать этой же функцией\n",
    " - out_file – путь к файлу .vw, в который будет произведена запись\n",
    " \n",
    "Детали:\n",
    "- можно делать по-разному, но скорее всего поможет метод *nonzero* разреженной матрицы\n",
    "- в тестовой выборке на месте меток целевого класса можно писать произвольные, допустим, 1"
   ]
  },
  {
   "cell_type": "code",
   "execution_count": 12,
   "metadata": {
    "collapsed": true
   },
   "outputs": [],
   "source": [
    "import multiprocessing\n",
    "\n",
    "def nonzero(x,mark=None):\n",
    "    \n",
    "    nonzero_index = x.nonzero()[1]\n",
    "    values = x[:,nonzero_index].data\n",
    "\n",
    "    pair=(str(index)+':'+str(val) for index,val in zip(nonzero_index,values))\n",
    "    features = ' '.join(pair)\n",
    "    \n",
    "    ret_val = \"{0} | sites {1}\".format(mark,features)\\\n",
    "    if not mark is None else\\\n",
    "    \"1 | sites {0}\".format(features)\n",
    "    \n",
    "    return ret_val\n",
    "\n",
    "def sparse_matrix_to_vw(X_sparse, y=None, out_file='tmp.vw'):\n",
    "    pool = multiprocessing.Pool(processes=4)\n",
    "    if not y is None:\n",
    "        features = pool.starmap(nonzero,\\\n",
    "                            ((X_sparse[i,:],y[i]) for i in tqdm.tqdm_notebook(range(X_sparse.shape[0]))))\n",
    "    else:\n",
    "        features = pool.map(nonzero,\\\n",
    "                            (X_sparse[i,:] for i in tqdm.tqdm_notebook(range(X_sparse.shape[0]))))\n",
    "    \n",
    "    pool.close()\n",
    "    pool.join()\n",
    "    with open(out_file,'w') as f:\n",
    "        for line in features:\n",
    "            f.write(line+'\\n')"
   ]
  },
  {
   "cell_type": "markdown",
   "metadata": {},
   "source": [
    "**Примените написанную функцию к части обучащей выборки (X_train, y_train), к отложенной выборке (X_valid, y_valid), ко всей обучающей выборке (X_train_sparse, y_for_vw) и ко всей тестовой выборке X_test_sparse.**"
   ]
  },
  {
   "cell_type": "code",
   "execution_count": 17,
   "metadata": {},
   "outputs": [
    {
     "data": {
      "application/vnd.jupyter.widget-view+json": {
       "model_id": "879539cdea0c4a49a6d62bc90f0a0cf9"
      }
     },
     "metadata": {},
     "output_type": "display_data"
    },
    {
     "name": "stdout",
     "output_type": "stream",
     "text": [
      "\n"
     ]
    },
    {
     "data": {
      "application/vnd.jupyter.widget-view+json": {
       "model_id": "2d4729680601471a91313af0c5b90213"
      }
     },
     "metadata": {},
     "output_type": "display_data"
    },
    {
     "name": "stdout",
     "output_type": "stream",
     "text": [
      "\n"
     ]
    },
    {
     "data": {
      "application/vnd.jupyter.widget-view+json": {
       "model_id": "4986956ccfaa40f7a6b07d5f903e1dc0"
      }
     },
     "metadata": {},
     "output_type": "display_data"
    },
    {
     "name": "stdout",
     "output_type": "stream",
     "text": [
      "\n"
     ]
    },
    {
     "data": {
      "application/vnd.jupyter.widget-view+json": {
       "model_id": "cdf04dd45b8e454ebd00b28deb231ad4"
      }
     },
     "metadata": {},
     "output_type": "display_data"
    },
    {
     "name": "stdout",
     "output_type": "stream",
     "text": [
      "\n",
      "CPU times: user 51.4 s, sys: 1.52 s, total: 52.9 s\n",
      "Wall time: 1min 57s\n"
     ]
    }
   ],
   "source": [
    "%%time\n",
    "sparse_matrix_to_vw(X_train, y_train, os.path.join(PATH_TO_DATA, 'train_part.vw'))\n",
    "sparse_matrix_to_vw(X_valid, y_valid, os.path.join(PATH_TO_DATA, 'valid.vw'))\n",
    "sparse_matrix_to_vw(X_train_sparse, y_for_vw, os.path.join(PATH_TO_DATA, 'train.vw'))\n",
    "sparse_matrix_to_vw(X_test_sparse, out_file=os.path.join(PATH_TO_DATA, 'test.vw'))"
   ]
  },
  {
   "cell_type": "code",
   "execution_count": 25,
   "metadata": {},
   "outputs": [
    {
     "name": "stdout",
     "output_type": "stream",
     "text": [
      "85 | sites 294:6 295:4\r\n",
      "76 | sites 9:2 88:1 78:1 125:1 10:1 86:1 51:1 110:1 87:1\r\n",
      "96 | sites 2999:6 2887:3 3960:1\r\n"
     ]
    }
   ],
   "source": [
    "!head -3  $PATH_TO_DATA/valid.vw"
   ]
  },
  {
   "cell_type": "code",
   "execution_count": 26,
   "metadata": {},
   "outputs": [
    {
     "name": "stdout",
     "output_type": "stream",
     "text": [
      "347 | sites 1607:1 1230:2 1113:1 48:1\r\n",
      "189 | sites 7873:4 18531:4 18530:1 18532:1\r\n",
      "175 | sites 1198:9 17134:1\r\n"
     ]
    }
   ],
   "source": [
    "!head -3  $PATH_TO_DATA/valid.vw"
   ]
  },
  {
   "cell_type": "code",
   "execution_count": 27,
   "metadata": {},
   "outputs": [
    {
     "name": "stdout",
     "output_type": "stream",
     "text": [
      "262 | sites 23712:2 23719:8\r\n",
      "82 | sites 8725:3 8724:2 664:1 8726:1 44:2 5319:1\r\n",
      "16 | sites 302:1 18:1 308:8\r\n"
     ]
    }
   ],
   "source": [
    "!head -3 $PATH_TO_DATA/train.vw"
   ]
  },
  {
   "cell_type": "code",
   "execution_count": 45,
   "metadata": {},
   "outputs": [
    {
     "name": "stdout",
     "output_type": "stream",
     "text": [
      "1 | sites 8:1 303:1 307:1 306:1 90:1 311:1 299:2 304:1 308:1\r\n",
      "1 | sites 837:1 503:1 67:1 10:2 885:1 26:1 304:3\r\n",
      "1 | sites 189:1 191:1 7:2 188:2 190:2 2374:2\r\n"
     ]
    }
   ],
   "source": [
    "!head -3 $PATH_TO_DATA/test.vw"
   ]
  },
  {
   "cell_type": "markdown",
   "metadata": {},
   "source": [
    "**Обучите модель на выборке `train_part.vw`. Укажите, что решается задача классификации с 400 классами (*--oaa*), сделайте 3 прохода по выборке (*--passes*). Задайте некоторый кэш-файл (*--cache_file*, можно просто указать флаг -c), так VW будет быстрее делать все следующие после первого проходы по выборке (прошлый кэш-файл удаляется с помощью аргумента *-k*). Также укажите значение параметра b=26. Это число бит, используемых для хэширования, в данном случае нужно больше, чем 18 по умолчанию. Наконец, укажите *random_seed=17*. Остальные параметры пока не меняйте, далее уже в свободном режиме соревнования можете попробовать другие функции потерь.**"
   ]
  },
  {
   "cell_type": "code",
   "execution_count": 17,
   "metadata": {
    "collapsed": true
   },
   "outputs": [],
   "source": [
    "train_part_vw = os.path.join(PATH_TO_DATA, 'train_part.vw')\n",
    "valid_vw = os.path.join(PATH_TO_DATA, 'valid.vw')\n",
    "train_vw = os.path.join(PATH_TO_DATA, 'train.vw')\n",
    "test_vw = os.path.join(PATH_TO_DATA, 'test.vw')\n",
    "model = os.path.join(PATH_TO_DATA, 'vw_model_full.vw')\n",
    "model_part = os.path.join(PATH_TO_DATA, 'vw_model_part.vw')\n",
    "pred = os.path.join(PATH_TO_DATA, 'vw_pred.csv')"
   ]
  },
  {
   "cell_type": "code",
   "execution_count": 30,
   "metadata": {
    "scrolled": false
   },
   "outputs": [
    {
     "name": "stdout",
     "output_type": "stream",
     "text": [
      " 182793 1588224 8344647 /tmp/working/machinleaning/ml/6/ident/kaggle_data/train.vw\r\n"
     ]
    }
   ],
   "source": [
    "! wc $train_vw"
   ]
  },
  {
   "cell_type": "code",
   "execution_count": 14,
   "metadata": {
    "scrolled": true
   },
   "outputs": [
    {
     "name": "stdout",
     "output_type": "stream",
     "text": [
      "using l2 regularization = 1e-12\n",
      "final_regressor = --l2\n",
      "Num weight bits = 26\n",
      "learning rate = 0.5\n",
      "initial_t = 0\n",
      "power_t = 0.5\n",
      "decay_learning_rate = 1\n",
      "creating cache_file = --final_regressor.cache\n",
      "Reading datafile = --final_regressor\n",
      "can't open '--final_regressor', sailing on!\n",
      "num sources = 0\n",
      "average  since         example        example  current  current  current\n",
      "loss     last          counter         weight    label  predict features\n",
      "\n",
      "finished run\n",
      "number of examples per pass = 0\n",
      "passes used = 3\n",
      "weighted example sum = 0.000000\n",
      "weighted label sum = 0.000000\n",
      "average loss = undefined (no holdout)\n",
      "total feature number = 0\n",
      "CPU times: user 8 ms, sys: 8 ms, total: 16 ms\n",
      "Wall time: 316 ms\n"
     ]
    }
   ],
   "source": [
    "%%time\n",
    "!vw --oaa 400 -d $train_part_vw\\\n",
    " -f $model\\\n",
    " --l2 1e-12 --loss_function classic\\\n",
    " -c -k --passes 3 -b 26 --random_seed 17"
   ]
  },
  {
   "cell_type": "markdown",
   "metadata": {},
   "source": [
    "**Запишите прогнозы на выборке *valid.vw* в *vw_valid_pred.csv*.**"
   ]
  },
  {
   "cell_type": "code",
   "execution_count": 26,
   "metadata": {
    "collapsed": true
   },
   "outputs": [],
   "source": [
    "vw_valid_pred_csv = os.path.join(PATH_TO_DATA, 'vw_valid_pred.csv')"
   ]
  },
  {
   "cell_type": "code",
   "execution_count": 77,
   "metadata": {
    "scrolled": true
   },
   "outputs": [
    {
     "name": "stdout",
     "output_type": "stream",
     "text": [
      "only testing\n",
      "predictions = /tmp/working/machinlearning/6/ident/data/capstone_user/vw_valid_pred.csv\n",
      "Num weight bits = 26\n",
      "learning rate = 0.5\n",
      "initial_t = 0\n",
      "power_t = 0.5\n",
      "using no cache\n",
      "Reading datafile = /tmp/working/machinlearning/6/ident/data/capstone_user/valid.vw\n",
      "num sources = 1\n",
      "average  since         example        example  current  current  current\n",
      "loss     last          counter         weight    label  predict features\n",
      "1.000000 1.000000            1            1.0      347      328        6\n",
      "1.000000 1.000000            2            2.0      189      237        6\n",
      "0.750000 0.500000            4            4.0      239      231        7\n",
      "0.750000 0.750000            8            8.0       59      208        3\n",
      "0.687500 0.625000           16           16.0      226      194        8\n",
      "0.625000 0.562500           32           32.0      115      212        7\n",
      "0.718750 0.812500           64           64.0      363      202       12\n",
      "0.710938 0.703125          128          128.0      392      266        6\n",
      "0.671875 0.632812          256          256.0      310      280        8\n",
      "0.658203 0.644531          512          512.0      114      315       10\n",
      "0.659180 0.660156         1024         1024.0       49      333        4\n",
      "0.666016 0.672852         2048         2048.0       17      328       11\n",
      "0.661865 0.657715         4096         4096.0      187      364       10\n",
      "0.663696 0.665527         8192         8192.0      389      181        8\n",
      "0.657654 0.651611        16384        16384.0      208      208        8\n",
      "0.652252 0.646851        32768        32768.0      313      313       11\n",
      "\n",
      "finished run\n",
      "number of examples per pass = 54838\n",
      "passes used = 1\n",
      "weighted example sum = 54838.000000\n",
      "weighted label sum = 0.000000\n",
      "average loss = 0.650480\n",
      "total feature number = 420931\n",
      "CPU times: user 32 ms, sys: 12 ms, total: 44 ms\n",
      "Wall time: 1.25 s\n"
     ]
    }
   ],
   "source": [
    "%%time\n",
    "!vw -i $model -t -d $valid_vw -p $vw_valid_pred_csv"
   ]
  },
  {
   "cell_type": "markdown",
   "metadata": {},
   "source": [
    "**Считайте прогнозы *kaggle_data/vw_valid_pred.csv*  из файла и посмотрите на долю правильных ответов на отложенной части.**"
   ]
  },
  {
   "cell_type": "code",
   "execution_count": 46,
   "metadata": {
    "collapsed": true
   },
   "outputs": [],
   "source": [
    "vw_valid_pred = pd.read_csv(vw_valid_pred_csv,header=None)\n",
    "# accuracy_score ''' ВАШ КОД ЗДЕСЬ '''"
   ]
  },
  {
   "cell_type": "code",
   "execution_count": 47,
   "metadata": {},
   "outputs": [
    {
     "name": "stdout",
     "output_type": "stream",
     "text": [
      "0.349520405558\n"
     ]
    }
   ],
   "source": [
    "ans_6_1 = accuracy_score(y_valid,vw_valid_pred.values)\n",
    "print(ans_6_1)"
   ]
  },
  {
   "cell_type": "markdown",
   "metadata": {},
   "source": [
    "**Какой получается доля правильных ответов на отложенной выборке? Запишите в файл *answer6_1.txt*, округлив до 3 знаков после запятой.**"
   ]
  },
  {
   "cell_type": "code",
   "execution_count": 6,
   "metadata": {
    "collapsed": true
   },
   "outputs": [],
   "source": [
    "def write_answer_to_file(answer, file_address):\n",
    "    with open(file_address, 'w') as out_f:\n",
    "        out_f.write(str(answer))"
   ]
  },
  {
   "cell_type": "code",
   "execution_count": null,
   "metadata": {
    "collapsed": true
   },
   "outputs": [],
   "source": [
    "write_answer_to_file('%.3f' % ans_6_1,\n",
    "                     'answer6_1.txt')"
   ]
  },
  {
   "cell_type": "markdown",
   "metadata": {},
   "source": [
    "**Обучите модель с теми же параметрами на всей обучающей выборке – *train.vw*.**"
   ]
  },
  {
   "cell_type": "code",
   "execution_count": 30,
   "metadata": {
    "scrolled": true
   },
   "outputs": [
    {
     "name": "stdout",
     "output_type": "stream",
     "text": [
      "using l2 regularization = 1e-08\n",
      "final_regressor = /tmp/working/machinleaning/ml/6/ident/kaggle_data/vw_model_full.vw\n",
      "Num weight bits = 26\n",
      "learning rate = 0.5\n",
      "initial_t = 0\n",
      "power_t = 0.5\n",
      "decay_learning_rate = 1\n",
      "creating cache_file = /tmp/working/machinleaning/ml/6/ident/kaggle_data/train.vw.cache\n",
      "Reading datafile = /tmp/working/machinleaning/ml/6/ident/kaggle_data/train.vw\n",
      "num sources = 1\n",
      "average  since         example        example  current  current  current\n",
      "loss     last          counter         weight    label  predict features\n",
      "1.000000 1.000000            1            1.0      262        1        4\n",
      "1.000000 1.000000            2            2.0       82      262        8\n",
      "1.000000 1.000000            4            4.0      241      262        9\n",
      "1.000000 1.000000            8            8.0      352      262        4\n",
      "1.000000 1.000000           16           16.0      135       16        5\n",
      "1.000000 1.000000           32           32.0       71      262        7\n",
      "0.984375 0.968750           64           64.0      358       99        6\n",
      "0.984375 0.984375          128          128.0      348       82       11\n",
      "0.964844 0.945312          256          256.0      202       59       12\n",
      "0.960938 0.957031          512          512.0       30      231        9\n",
      "0.949219 0.937500         1024         1024.0       36      290        3\n",
      "0.935547 0.921875         2048         2048.0       21       21        9\n",
      "0.914551 0.893555         4096         4096.0       80       59       10\n",
      "0.899414 0.884277         8192         8192.0      307      144        6\n",
      "0.875977 0.852539        16384        16384.0       59       59       10\n",
      "0.847137 0.818298        32768        32768.0      262      231        5\n",
      "0.817841 0.788544        65536        65536.0      171       59       11\n",
      "0.785027 0.752213       131072       131072.0      180      208       10\n",
      "0.752180 0.752180       262144       262144.0       88       88        6 h\n",
      "\n",
      "finished run\n",
      "number of examples per pass = 164514\n",
      "passes used = 3\n",
      "weighted example sum = 493542.000000\n",
      "weighted label sum = 0.000000\n",
      "average loss = 0.698506 h\n",
      "total feature number = 3795300\n"
     ]
    }
   ],
   "source": [
    "!vw --oaa 400 $train_vw -f $model -b 26 -c -k --random_seed 7 --l2 1e-8 --loss_function logistic --passes=3"
   ]
  },
  {
   "cell_type": "markdown",
   "metadata": {},
   "source": [
    "**Сделайте прогноз для тестовой выборки.**"
   ]
  },
  {
   "cell_type": "code",
   "execution_count": 31,
   "metadata": {},
   "outputs": [
    {
     "name": "stdout",
     "output_type": "stream",
     "text": [
      "only testing\n",
      "predictions = /tmp/working/machinleaning/ml/6/ident/kaggle_data/vw_pred.csv\n",
      "Num weight bits = 26\n",
      "learning rate = 0.5\n",
      "initial_t = 0\n",
      "power_t = 0.5\n",
      "using no cache\n",
      "Reading datafile = /tmp/working/machinleaning/ml/6/ident/kaggle_data/test.vw\n",
      "num sources = 1\n",
      "average  since         example        example  current  current  current\n",
      "loss     last          counter         weight    label  predict features\n",
      "1.000000 1.000000            1            1.0        1      338       11\n",
      "1.000000 1.000000            2            2.0        1       59        9\n",
      "1.000000 1.000000            4            4.0        1      344        3\n",
      "1.000000 1.000000            8            8.0        1      137        6\n",
      "1.000000 1.000000           16           16.0        1      273        8\n",
      "1.000000 1.000000           32           32.0        1      333        5\n",
      "1.000000 1.000000           64           64.0        1       59       12\n",
      "1.000000 1.000000          128          128.0        1       59        3\n",
      "1.000000 1.000000          256          256.0        1       59        3\n",
      "0.998047 0.996094          512          512.0        1      188        7\n",
      "0.998047 0.998047         1024         1024.0        1      202       11\n",
      "0.998047 0.998047         2048         2048.0        1      181        5\n",
      "0.998535 0.999023         4096         4096.0        1      394       10\n",
      "0.998657 0.998779         8192         8192.0        1       84        5\n",
      "0.998657 0.998657        16384        16384.0        1       30        5\n",
      "0.998779 0.998901        32768        32768.0        1      394        9\n",
      "\n",
      "finished run\n",
      "number of examples per pass = 46473\n",
      "passes used = 1\n",
      "weighted example sum = 46473.000000\n",
      "weighted label sum = 0.000000\n",
      "average loss = 0.998881\n",
      "total feature number = 347246\n"
     ]
    }
   ],
   "source": [
    "!vw -t -i $model -d $test_vw --random_seed 7 -p $pred"
   ]
  },
  {
   "cell_type": "markdown",
   "metadata": {},
   "source": [
    "**Запишите прогноз в файл, примените обратное преобразование меток (был LabelEncoder и потом +1 в меткам) и отправьте решение на Kaggle.**"
   ]
  },
  {
   "cell_type": "code",
   "execution_count": 21,
   "metadata": {
    "collapsed": true
   },
   "outputs": [],
   "source": [
    "def write_to_submission_file(predicted_labels, out_file,\n",
    "                             target='user_id', index_label=\"session_id\"):\n",
    "    # turn predictions into data frame and save as csv file\n",
    "    predicted_df = pd.DataFrame(predicted_labels,\n",
    "                                index = np.arange(1, predicted_labels.shape[0] + 1),\n",
    "                                columns=[target])\n",
    "    predicted_df.to_csv(out_file, index_label=index_label)"
   ]
  },
  {
   "cell_type": "code",
   "execution_count": 27,
   "metadata": {
    "collapsed": true
   },
   "outputs": [],
   "source": [
    "vw_pred =  pd.read_csv(pred,header=None)"
   ]
  },
  {
   "cell_type": "code",
   "execution_count": 28,
   "metadata": {
    "collapsed": true
   },
   "outputs": [],
   "source": [
    "vw_subm = os.path.join('./','submission')"
   ]
  },
  {
   "cell_type": "code",
   "execution_count": 29,
   "metadata": {
    "collapsed": true
   },
   "outputs": [],
   "source": [
    "write_to_submission_file(class_encoder.inverse_transform(vw_pred.values-1), vw_subm)"
   ]
  },
  {
   "cell_type": "markdown",
   "metadata": {},
   "source": [
    "## Напутствие\n",
    "\n",
    "Итак, мы познакомились с отличной библиотекой Vowpal Wabbit. Хотя это только начало: в VW реализованы матричные разложения и обучение с подкреплением, тематическое моделирование и активное обучение, name entity recognition и нейронные сети. Если Вам придется как-нибудь обучать модель на терабайте данных, при этом расходуя несколько мегабайт оперативной памяти, Вы наверняка вернетесь к этому тьюториалу (если, конечно, не выпустят библиотеку с более удобным интерфейсом). Хочется верить, что именно эта часть проекта оказалось самой полезной!"
   ]
  },
  {
   "cell_type": "markdown",
   "metadata": {},
   "source": [
    "## Пути улучшения\n",
    "На этой неделе, как видите, заданий под моим руководством мало – намного больше именно тьюториалов по Vowpal Wabbit. Зато, как и на прошлой неделе, дается время на соревнование и офрмление финального проекта.\n",
    "Что еще можно попробовать:\n",
    " - Использовать ранее построенные признаки для улучшения модели\n",
    " - Настройть параметры Vowpal Wabbit с hyperopt\n",
    " - Попробовать TF-IDF и n-граммы\n",
    "\n",
    "На следующей, заключительной, неделе мы оформим всю работу над проектом в виде одного файла (`html`, `pdf` или `ipynb`) и будем проверять проекты друг друга."
   ]
  }
 ],
 "metadata": {
  "anaconda-cloud": {},
  "kernelspec": {
   "display_name": "Python 3",
   "language": "python",
   "name": "python3"
  },
  "language_info": {
   "codemirror_mode": {
    "name": "ipython",
    "version": 3
   },
   "file_extension": ".py",
   "mimetype": "text/x-python",
   "name": "python",
   "nbconvert_exporter": "python",
   "pygments_lexer": "ipython3",
   "version": "3.6.1"
  }
 },
 "nbformat": 4,
 "nbformat_minor": 1
}
