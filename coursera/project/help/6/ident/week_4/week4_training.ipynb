{
 "cells": [
  {
   "cell_type": "markdown",
   "metadata": {},
   "source": [
    "<center>\n",
    "<img src=\"https://habrastorage.org/web/677/8e1/337/6778e1337c3d4b159d7e99df94227cb2.jpg\"/>\n",
    "## Специализация \"Машинное обучение и анализ данных\"\n",
    "</center>\n",
    "<center>Автор материала: программист-исследователь Mail.ru Group, старший преподаватель Факультета Компьютерных Наук ВШЭ Юрий Кашницкий"
   ]
  },
  {
   "cell_type": "markdown",
   "metadata": {},
   "source": [
    "# <center> Capstone проект №1. Идентификация пользователей по посещенным веб-страницам\n",
    "<img src='http://i.istockimg.com/file_thumbview_approve/21546327/5/stock-illustration-21546327-identification-de-l-utilisateur.jpg'>\n",
    "\n",
    "# <center>Неделя 4.  Сравнение алгоритмов классификации\n",
    "\n",
    "Теперь мы наконец подойдем к обучению моделей классификации, сравним на кросс-валидации несколько алгоритмов, разберемся, какие параметры длины сессии (*session_length* и *window_size*) лучше использовать. Также для выбранного алгоритма построим кривые валидации (как качество классификации зависит от одного из гиперпараметров алгоритма) и кривые обучения (как качество классификации зависит от объема выборки).\n",
    "\n",
    "**План 4 недели:**\n",
    "- Часть 1. Сравнение нескольких алгоритмов на сессиях из 10 сайтов\n",
    "- Часть 2. Выбор параметров – длины сессии и ширины окна\n",
    "- Часть 3. Идентификация  конкретного пользователя и кривые обучения\n",
    " \n",
    "\n",
    "\n",
    "**В этой части проекта Вам могут быть полезны видеозаписи следующих лекций курса \"Обучение на размеченных данных\":**\n",
    "   - [Линейная классификация](https://www.coursera.org/learn/supervised-learning/lecture/jqLcO/linieinaia-klassifikatsiia)\n",
    "   - [Сравнение алгоритмов и выбор гиперпараметров](https://www.coursera.org/learn/supervised-learning/lecture/aF79U/sravnieniie-alghoritmov-i-vybor-ghipierparamietrov)\n",
    "   - [Кросс-валидация. Sklearn.cross_validation](https://www.coursera.org/learn/supervised-learning/lecture/XbHEk/kross-validatsiia-sklearn-cross-validation)\n",
    "   - [Линейные модели. Sklearn.linear_model. Классификация](https://www.coursera.org/learn/supervised-learning/lecture/EBg9t/linieinyie-modieli-sklearn-linear-model-klassifikatsiia)\n",
    "   - и многие другие\n"
   ]
  },
  {
   "cell_type": "code",
   "execution_count": 1,
   "metadata": {
    "collapsed": true
   },
   "outputs": [],
   "source": [
    "from __future__ import division, print_function\n",
    "# отключим всякие предупреждения Anaconda\n",
    "import warnings\n",
    "warnings.filterwarnings('ignore')\n",
    "from time import time\n",
    "import itertools\n",
    "import os\n",
    "import numpy as np\n",
    "import pandas as pd\n",
    "import seaborn as sns\n",
    "%matplotlib inline\n",
    "from matplotlib import pyplot as plt\n",
    "import pickle\n",
    "from scipy.sparse import csr_matrix\n",
    "from sklearn.model_selection import train_test_split, cross_val_score, StratifiedKFold, GridSearchCV\n",
    "from sklearn.metrics import accuracy_score, f1_score"
   ]
  },
  {
   "cell_type": "code",
   "execution_count": 2,
   "metadata": {
    "collapsed": true
   },
   "outputs": [],
   "source": [
    "# Поменяйте на свой путь к данным\n",
    "# PATH_TO_DATA = '/tmp/working/machinleaning/ml/6/ident/data/capstone_user'\n",
    "PATH_TO_DATA = '/tmp/working/machinlearning/6/ident/data/capstone_user/'"
   ]
  },
  {
   "cell_type": "markdown",
   "metadata": {},
   "source": [
    "## Часть 1. Сравнение нескольких алгоритмов на сессиях из 10 сайтов"
   ]
  },
  {
   "cell_type": "markdown",
   "metadata": {},
   "source": [
    "**Загрузим сериализованные ранее объекты *X_sparse_10users* и *y_10users*, соответствующие обучающей выборке для 10 пользователей.**"
   ]
  },
  {
   "cell_type": "code",
   "execution_count": 3,
   "metadata": {},
   "outputs": [
    {
     "name": "stdout",
     "output_type": "stream",
     "text": [
      "/tmp/working/machinlearning/6/ident/week_4\r\n"
     ]
    }
   ],
   "source": [
    "!pwd"
   ]
  },
  {
   "cell_type": "code",
   "execution_count": 4,
   "metadata": {
    "collapsed": true
   },
   "outputs": [],
   "source": [
    "with open(os.path.join(PATH_TO_DATA, \n",
    "         'X_sparse_10users.pkl'), 'rb') as X_sparse_10users_pkl:\n",
    "    X_sparse_10users = pickle.load(X_sparse_10users_pkl)\n",
    "with open(os.path.join(PATH_TO_DATA, \n",
    "                       'y_10users.pkl'), 'rb') as y_10users_pkl:\n",
    "    y_10users = pickle.load(y_10users_pkl)"
   ]
  },
  {
   "cell_type": "markdown",
   "metadata": {},
   "source": [
    "**Здесь более 14 тысяч сессий и почти 5 тысяч уникальных посещенных сайтов.**"
   ]
  },
  {
   "cell_type": "code",
   "execution_count": 5,
   "metadata": {},
   "outputs": [
    {
     "data": {
      "text/plain": [
       "(14061, 4913)"
      ]
     },
     "execution_count": 5,
     "metadata": {},
     "output_type": "execute_result"
    }
   ],
   "source": [
    "X_sparse_10users.shape"
   ]
  },
  {
   "cell_type": "code",
   "execution_count": 6,
   "metadata": {},
   "outputs": [
    {
     "data": {
      "text/plain": [
       "(14061, 4913)"
      ]
     },
     "execution_count": 6,
     "metadata": {},
     "output_type": "execute_result"
    }
   ],
   "source": [
    "X_sparse_10users.shape"
   ]
  },
  {
   "cell_type": "markdown",
   "metadata": {},
   "source": [
    "**Разобьем выборку на 2 части. На одной будем проводить кросс-валидацию, на второй – оценивать модель, обученную после кросс-валидации.**"
   ]
  },
  {
   "cell_type": "code",
   "execution_count": 7,
   "metadata": {
    "collapsed": true
   },
   "outputs": [],
   "source": [
    "X_train, X_valid, y_train, y_valid = train_test_split(X_sparse_10users, y_10users, \n",
    "                                                      test_size=0.3, \n",
    "                                                     random_state=17, stratify=y_10users)"
   ]
  },
  {
   "cell_type": "markdown",
   "metadata": {},
   "source": [
    "**Зададим заранее тип кросс-валидации: 3-кратная, с перемешиванием, параметр random_state=17 – для воспроизводимости.**"
   ]
  },
  {
   "cell_type": "code",
   "execution_count": 8,
   "metadata": {
    "collapsed": true
   },
   "outputs": [],
   "source": [
    "skf = StratifiedKFold(n_splits=3, shuffle=True, random_state=17)"
   ]
  },
  {
   "cell_type": "markdown",
   "metadata": {},
   "source": [
    "**Вспомогательная функция для отрисовки кривых валидации после запуска GridSearchCV (или RandomizedCV).**"
   ]
  },
  {
   "cell_type": "code",
   "execution_count": 9,
   "metadata": {
    "collapsed": true
   },
   "outputs": [],
   "source": [
    "def plot_validation_curves(param_values, grid_cv_results_):\n",
    "    train_mu, train_std = grid_cv_results_['mean_train_score'], grid_cv_results_['std_train_score']\n",
    "    valid_mu, valid_std = grid_cv_results_['mean_test_score'], grid_cv_results_['std_test_score']\n",
    "    train_line = plt.plot(param_values, train_mu, '-', label='train', color='green')\n",
    "    valid_line = plt.plot(param_values, valid_mu, '-', label='test', color='red')\n",
    "    plt.fill_between(param_values, train_mu - train_std, train_mu + train_std, edgecolor='none',\n",
    "                     facecolor=train_line[0].get_color(), alpha=0.2)\n",
    "    plt.fill_between(param_values, valid_mu - valid_std, valid_mu + valid_std, edgecolor='none',\n",
    "                     facecolor=valid_line[0].get_color(), alpha=0.2)\n",
    "    plt.legend()"
   ]
  },
  {
   "cell_type": "code",
   "execution_count": 10,
   "metadata": {
    "collapsed": true
   },
   "outputs": [],
   "source": [
    "def write_answer_to_file(answer, file_address):\n",
    "    with open(file_address, 'w') as out_f:\n",
    "        out_f.write(str(answer))"
   ]
  },
  {
   "cell_type": "markdown",
   "metadata": {},
   "source": [
    "**1. Обучите `KNeighborsClassifier` со 100 ближайшими соседями (остальные параметры оставьте по умолчанию, только `n_jobs`=-1 для распараллеливания) и посмотрите на долю правильных ответов на 3-кратной кросс-валидации (ради воспроизводимости используйте для этого объект `StratifiedKFold` `skf`) по выборке `(X_train, y_train)` и отдельно на выборке `(X_valid, y_valid)`.**"
   ]
  },
  {
   "cell_type": "code",
   "execution_count": 11,
   "metadata": {
    "collapsed": true
   },
   "outputs": [],
   "source": [
    "from sklearn.neighbors import KNeighborsClassifier"
   ]
  },
  {
   "cell_type": "code",
   "execution_count": 12,
   "metadata": {
    "collapsed": true
   },
   "outputs": [],
   "source": [
    "knn = KNeighborsClassifier(n_neighbors=100,n_jobs=-1)"
   ]
  },
  {
   "cell_type": "code",
   "execution_count": 13,
   "metadata": {
    "collapsed": true
   },
   "outputs": [],
   "source": [
    "scoring = cross_val_score(knn, X_train, y_train, scoring = 'accuracy', cv = skf)"
   ]
  },
  {
   "cell_type": "code",
   "execution_count": 14,
   "metadata": {
    "collapsed": true
   },
   "outputs": [],
   "source": [
    "ans_1=np.mean(scoring)"
   ]
  },
  {
   "cell_type": "code",
   "execution_count": 15,
   "metadata": {},
   "outputs": [
    {
     "data": {
      "text/plain": [
       "KNeighborsClassifier(algorithm='auto', leaf_size=30, metric='minkowski',\n",
       "           metric_params=None, n_jobs=-1, n_neighbors=100, p=2,\n",
       "           weights='uniform')"
      ]
     },
     "execution_count": 15,
     "metadata": {},
     "output_type": "execute_result"
    }
   ],
   "source": [
    "knn.fit(X_train,y_train)"
   ]
  },
  {
   "cell_type": "code",
   "execution_count": 16,
   "metadata": {
    "collapsed": true
   },
   "outputs": [],
   "source": [
    "ans_2=knn.score(X_valid,y_valid)"
   ]
  },
  {
   "cell_type": "markdown",
   "metadata": {},
   "source": [
    "**Запишите в файл *answer4_1.txt* доли правильных ответов для KNeighborsClassifier на кросс-валидации и отложенной выборке. Округлите каждое до 3 знаков после запятой и запишите в файл через пробел.**"
   ]
  },
  {
   "cell_type": "code",
   "execution_count": 17,
   "metadata": {},
   "outputs": [
    {
     "name": "stdout",
     "output_type": "stream",
     "text": [
      "(0.56471888700633621, 0.58402465039108797)\n"
     ]
    }
   ],
   "source": [
    "print((ans_1,ans_2))"
   ]
  },
  {
   "cell_type": "code",
   "execution_count": 18,
   "metadata": {
    "collapsed": true
   },
   "outputs": [],
   "source": [
    "write_answer_to_file('0.565 0.584',\n",
    "                     'answer4_1.txt')"
   ]
  },
  {
   "cell_type": "markdown",
   "metadata": {},
   "source": [
    "**2. Обучите случайный лес (`RandomForestClassifier`) из 100 деревьев (для воспроизводимости `random_state`=17). Посмотрите на OOB-оценку (для этого надо сразу установить `oob_score`=True) и на долю правильных ответов на выборке `(X_valid, y_valid)`. Для распараллеливания задайте `n_jobs`=-1.**"
   ]
  },
  {
   "cell_type": "code",
   "execution_count": 19,
   "metadata": {
    "collapsed": true
   },
   "outputs": [],
   "source": [
    "from sklearn.ensemble import RandomForestClassifier"
   ]
  },
  {
   "cell_type": "code",
   "execution_count": 20,
   "metadata": {
    "collapsed": true
   },
   "outputs": [],
   "source": [
    "forest = RandomForestClassifier(random_state=17,n_jobs=-1,n_estimators=100,oob_score=True)"
   ]
  },
  {
   "cell_type": "code",
   "execution_count": 21,
   "metadata": {},
   "outputs": [
    {
     "name": "stdout",
     "output_type": "stream",
     "text": [
      "CPU times: user 24.4 s, sys: 40 ms, total: 24.4 s\n",
      "Wall time: 6.66 s\n"
     ]
    },
    {
     "data": {
      "text/plain": [
       "RandomForestClassifier(bootstrap=True, class_weight=None, criterion='gini',\n",
       "            max_depth=None, max_features='auto', max_leaf_nodes=None,\n",
       "            min_impurity_decrease=0.0, min_impurity_split=None,\n",
       "            min_samples_leaf=1, min_samples_split=2,\n",
       "            min_weight_fraction_leaf=0.0, n_estimators=100, n_jobs=-1,\n",
       "            oob_score=True, random_state=17, verbose=0, warm_start=False)"
      ]
     },
     "execution_count": 21,
     "metadata": {},
     "output_type": "execute_result"
    }
   ],
   "source": [
    "%%time\n",
    "forest.fit(X_train,y_train)"
   ]
  },
  {
   "cell_type": "code",
   "execution_count": 22,
   "metadata": {
    "collapsed": true
   },
   "outputs": [],
   "source": [
    "ans_1=forest.oob_score_"
   ]
  },
  {
   "cell_type": "code",
   "execution_count": 23,
   "metadata": {
    "collapsed": true
   },
   "outputs": [],
   "source": [
    "ans_2=forest.score(X_valid,y_valid)"
   ]
  },
  {
   "cell_type": "code",
   "execution_count": 24,
   "metadata": {
    "collapsed": true
   },
   "outputs": [],
   "source": [
    "write_answer_to_file('0.725 0.734',\n",
    "                     'answer4_2.txt')"
   ]
  },
  {
   "cell_type": "code",
   "execution_count": 25,
   "metadata": {
    "collapsed": true
   },
   "outputs": [],
   "source": [
    "ans_2=forest.score(X_valid,y_valid)"
   ]
  },
  {
   "cell_type": "code",
   "execution_count": 26,
   "metadata": {},
   "outputs": [
    {
     "name": "stdout",
     "output_type": "stream",
     "text": [
      "0.719264377159 0.734297226831\n"
     ]
    }
   ],
   "source": [
    "print(ans_1,ans_2)"
   ]
  },
  {
   "cell_type": "markdown",
   "metadata": {},
   "source": [
    "**Запишите в файл *answer4_2.txt* доли правильных ответов для `RandomForestClassifier` при Out-of-Bag оценке на и отложенной выборке. Округлите каждое до 3 знаков после запятой и запишите в файл через пробел.**"
   ]
  },
  {
   "cell_type": "code",
   "execution_count": 27,
   "metadata": {
    "collapsed": true
   },
   "outputs": [],
   "source": [
    "write_answer_to_file('0.725 0.734',\n",
    "                     'answer4_2.txt')"
   ]
  },
  {
   "cell_type": "code",
   "execution_count": 28,
   "metadata": {},
   "outputs": [
    {
     "name": "stdout",
     "output_type": "stream",
     "text": [
      "0.725 0.734"
     ]
    }
   ],
   "source": [
    "!cat answer4_2.txt"
   ]
  },
  {
   "cell_type": "markdown",
   "metadata": {},
   "source": [
    "**3. Обучите логистическую регрессию (`LogisticRegression`) с параметром `C` по умолчанию и `random_state`=17 (для воспроизводимости). Посмотрите на долю правильных ответов на кросс-валидации (используйте объект `skf`, созданный ранее) и на выборке `(X_valid, y_valid)`. Для распараллеливания задайте `n_jobs=-1`.**"
   ]
  },
  {
   "cell_type": "code",
   "execution_count": 29,
   "metadata": {
    "collapsed": true
   },
   "outputs": [],
   "source": [
    "from sklearn.linear_model import LogisticRegression, LogisticRegressionCV"
   ]
  },
  {
   "cell_type": "code",
   "execution_count": 30,
   "metadata": {
    "collapsed": true
   },
   "outputs": [],
   "source": [
    "logit = LogisticRegression(random_state=17,n_jobs=-1,multi_class='ovr')"
   ]
  },
  {
   "cell_type": "code",
   "execution_count": 31,
   "metadata": {},
   "outputs": [
    {
     "data": {
      "text/plain": [
       "array([ 0.75616438,  0.76974687,  0.75716901])"
      ]
     },
     "execution_count": 31,
     "metadata": {},
     "output_type": "execute_result"
    }
   ],
   "source": [
    "cross_val_score(logit,X_train,y_train,cv=skf,n_jobs=-1)"
   ]
  },
  {
   "cell_type": "code",
   "execution_count": 32,
   "metadata": {},
   "outputs": [
    {
     "data": {
      "text/plain": [
       "LogisticRegression(C=1.0, class_weight=None, dual=False, fit_intercept=True,\n",
       "          intercept_scaling=1, max_iter=100, multi_class='ovr', n_jobs=-1,\n",
       "          penalty='l2', random_state=17, solver='liblinear', tol=0.0001,\n",
       "          verbose=0, warm_start=False)"
      ]
     },
     "execution_count": 32,
     "metadata": {},
     "output_type": "execute_result"
    }
   ],
   "source": [
    "logit.fit(X_train,y_train)"
   ]
  },
  {
   "cell_type": "code",
   "execution_count": 33,
   "metadata": {},
   "outputs": [
    {
     "data": {
      "text/plain": [
       "0.78170182507703245"
      ]
     },
     "execution_count": 33,
     "metadata": {},
     "output_type": "execute_result"
    }
   ],
   "source": [
    "logit.score(X_valid,y_valid)"
   ]
  },
  {
   "cell_type": "markdown",
   "metadata": {},
   "source": [
    "**Почитайте документацию к [LogisticRegressionCV](http://scikit-learn.org/stable/modules/generated/sklearn.linear_model.LogisticRegressionCV.html). Логистическая регрессия хорошо изучена, и для нее существуют алгоритмы быстрого подбора параметра регуляризации `C` (быстрее, чем с `GridSearchCV`).**\n",
    "\n",
    "**С помощью `LogisticRegressionCV` подберите параметр `C` для `LogisticRegression` сначала в широком диапазоне: 10 значений от 1e-4 до 1e2, используйте `logspace` из `NumPy`. Укажите у `LogisticRegressionCV` параметры `multi_class`='multinomial' и `random_state`=17. Для кросс-валидации используйте объект `skf`, созданный ранее. Для распараллеливания задайте `n_jobs=-1`.**\n",
    "\n",
    "**Нарисуйте кривые валидации по параметру `C`.**"
   ]
  },
  {
   "cell_type": "code",
   "execution_count": 34,
   "metadata": {},
   "outputs": [
    {
     "name": "stdout",
     "output_type": "stream",
     "text": [
      "CPU times: user 3.75 s, sys: 92 ms, total: 3.84 s\n",
      "Wall time: 26 s\n"
     ]
    }
   ],
   "source": [
    "%%time\n",
    "logit_c_values1 = np.logspace(-4, 2, 10)\n",
    "\n",
    "logit_grid_searcher1 = LogisticRegressionCV(Cs=logit_c_values1,cv=skf,\\\n",
    "                                            multi_class='multinomial',random_state=17,n_jobs=-1,scoring='accuracy') \n",
    "logit_grid_searcher1.fit(X_train, y_train)"
   ]
  },
  {
   "cell_type": "markdown",
   "metadata": {},
   "source": [
    "Средние значения доли правильных ответов на кросс-валидации по каждому из 10 параметров `C`."
   ]
  },
  {
   "cell_type": "code",
   "execution_count": 35,
   "metadata": {},
   "outputs": [
    {
     "data": {
      "text/plain": [
       "LogisticRegressionCV(Cs=array([  1.00000e-04,   4.64159e-04,   2.15443e-03,   1.00000e-02,\n",
       "         4.64159e-02,   2.15443e-01,   1.00000e+00,   4.64159e+00,\n",
       "         2.15443e+01,   1.00000e+02]),\n",
       "           class_weight=None,\n",
       "           cv=StratifiedKFold(n_splits=3, random_state=17, shuffle=True),\n",
       "           dual=False, fit_intercept=True, intercept_scaling=1.0,\n",
       "           max_iter=100, multi_class='multinomial', n_jobs=-1,\n",
       "           penalty='l2', random_state=17, refit=True, scoring='accuracy',\n",
       "           solver='lbfgs', tol=0.0001, verbose=0)"
      ]
     },
     "execution_count": 35,
     "metadata": {},
     "output_type": "execute_result"
    }
   ],
   "source": [
    "logit_grid_searcher1"
   ]
  },
  {
   "cell_type": "code",
   "execution_count": 36,
   "metadata": {
    "collapsed": true
   },
   "outputs": [],
   "source": [
    "score_array1 = np.array(list(logit_grid_searcher1.scores_.values()))"
   ]
  },
  {
   "cell_type": "code",
   "execution_count": 37,
   "metadata": {
    "collapsed": true
   },
   "outputs": [],
   "source": [
    "logit_mean_cv_scores1 = np.apply_over_axes(np.mean,score_array1,[0,1]).\\\n",
    "reshape(-1)"
   ]
  },
  {
   "cell_type": "markdown",
   "metadata": {},
   "source": [
    "Выведите лучшее значение доли правильных ответов на кросс-валидации и соответствующее значение `C`."
   ]
  },
  {
   "cell_type": "code",
   "execution_count": 38,
   "metadata": {},
   "outputs": [
    {
     "data": {
      "text/plain": [
       "array([ 0.31822225,  0.47337913,  0.55273512,  0.65119285,  0.71297117,\n",
       "        0.75137565,  0.75889418,  0.75747451,  0.75026107,  0.73938838])"
      ]
     },
     "execution_count": 38,
     "metadata": {},
     "output_type": "execute_result"
    }
   ],
   "source": [
    "logit_mean_cv_scores1.reshape(-1)"
   ]
  },
  {
   "cell_type": "code",
   "execution_count": 39,
   "metadata": {},
   "outputs": [
    {
     "data": {
      "text/plain": [
       "(array([6]),)"
      ]
     },
     "execution_count": 39,
     "metadata": {},
     "output_type": "execute_result"
    }
   ],
   "source": [
    "np.where(logit_c_values1==1)"
   ]
  },
  {
   "cell_type": "code",
   "execution_count": 40,
   "metadata": {},
   "outputs": [
    {
     "data": {
      "text/plain": [
       "0.75889418487465476"
      ]
     },
     "execution_count": 40,
     "metadata": {},
     "output_type": "execute_result"
    }
   ],
   "source": [
    "logit_mean_cv_scores1[6]"
   ]
  },
  {
   "cell_type": "code",
   "execution_count": 41,
   "metadata": {},
   "outputs": [
    {
     "data": {
      "text/plain": [
       "array([ 1.,  1.,  1.,  1.,  1.,  1.,  1.,  1.,  1.,  1.])"
      ]
     },
     "execution_count": 41,
     "metadata": {},
     "output_type": "execute_result"
    }
   ],
   "source": []
  },
  {
   "cell_type": "markdown",
   "metadata": {},
   "source": [
    "Нарисуйте график зависимости доли правильных ответов на кросс-валидации от `C`."
   ]
  },
  {
   "cell_type": "code",
   "execution_count": 86,
   "metadata": {},
   "outputs": [
    {
     "data": {
      "image/png": "[encoded data removed]",
      "text/plain": [
       "<matplotlib.figure.Figure at 0x7f019d51f6a0>"
      ]
     },
     "metadata": {},
     "output_type": "display_data"
    }
   ],
   "source": [
    "plt.plot(logit_c_values1, logit_mean_cv_scores1);\n",
    "plt.savefig(\"LogisticRegressionCV.svg\")"
   ]
  },
  {
   "cell_type": "markdown",
   "metadata": {},
   "source": [
    "**Теперь то же самое, только значения параметра `C` перебирайте в диапазоне `np.linspace`(3, 7, 20). Опять нарисуйте кривые валидации, определите максимальное значение доли правильных ответов на кросс-валидации.**"
   ]
  },
  {
   "cell_type": "code",
   "execution_count": 49,
   "metadata": {},
   "outputs": [
    {
     "name": "stdout",
     "output_type": "stream",
     "text": [
      "CPU times: user 3.64 s, sys: 144 ms, total: 3.78 s\n",
      "Wall time: 59.2 s\n"
     ]
    }
   ],
   "source": [
    "%%time\n",
    "logit_c_values2 = np.linspace(3, 7, 20)\n",
    "\n",
    "logit_grid_searcher2 = LogisticRegressionCV(Cs=logit_c_values2,cv=skf,\\\n",
    "                                            multi_class='multinomial',random_state=17,n_jobs=-1,scoring='accuracy')\n",
    "logit_grid_searcher2.fit(X_train, y_train)"
   ]
  },
  {
   "cell_type": "markdown",
   "metadata": {},
   "source": [
    "Средние значения доли правильных ответов на кросс-валидации по каждому из 10 параметров `C`."
   ]
  },
  {
   "cell_type": "code",
   "execution_count": 50,
   "metadata": {
    "collapsed": true
   },
   "outputs": [],
   "source": [
    "score_array2 = np.array(list(logit_grid_searcher2.scores_.values()))"
   ]
  },
  {
   "cell_type": "code",
   "execution_count": 51,
   "metadata": {
    "collapsed": true
   },
   "outputs": [],
   "source": [
    "''' ВАШ КОД ЗДЕСЬ '''\n",
    "logit_mean_cv_scores2 = np.apply_over_axes(np.mean,score_array2,[0,1]).\\\n",
    "reshape(-1)"
   ]
  },
  {
   "cell_type": "code",
   "execution_count": 52,
   "metadata": {},
   "outputs": [
    {
     "data": {
      "text/plain": [
       "array([ 0.75960708,  0.75696595,  0.75706826,  0.75727111,  0.75656   ,\n",
       "        0.7565601 ,  0.75615369,  0.75584905,  0.75564627,  0.75584943,\n",
       "        0.75554545,  0.75503781,  0.75473337,  0.75463211,  0.75463236,\n",
       "        0.75463254,  0.75453067,  0.7545307 ,  0.75392125,  0.75392104])"
      ]
     },
     "execution_count": 52,
     "metadata": {},
     "output_type": "execute_result"
    }
   ],
   "source": [
    "logit_mean_cv_scores2"
   ]
  },
  {
   "cell_type": "code",
   "execution_count": 53,
   "metadata": {},
   "outputs": [
    {
     "data": {
      "text/plain": [
       "0.77885754918227068"
      ]
     },
     "execution_count": 53,
     "metadata": {},
     "output_type": "execute_result"
    }
   ],
   "source": [
    "logit_grid_searcher2.score(X_valid,y_valid)"
   ]
  },
  {
   "cell_type": "markdown",
   "metadata": {},
   "source": [
    "Выведите лучшее значение доли правильных ответов на кросс-валидации и соответствующее значение `C`."
   ]
  },
  {
   "cell_type": "code",
   "execution_count": 54,
   "metadata": {},
   "outputs": [
    {
     "data": {
      "text/plain": [
       "array([ 3.,  3.,  3.,  3.,  3.,  3.,  3.,  3.,  3.,  3.])"
      ]
     },
     "execution_count": 54,
     "metadata": {},
     "output_type": "execute_result"
    }
   ],
   "source": [
    "''' ВАШ КОД ЗДЕСЬ '''\n",
    "logit_grid_searcher2.C_"
   ]
  },
  {
   "cell_type": "markdown",
   "metadata": {},
   "source": [
    "Нарисуйте график зависимости доли правильных ответов на кросс-валидации от `C`."
   ]
  },
  {
   "cell_type": "code",
   "execution_count": 87,
   "metadata": {},
   "outputs": [
    {
     "data": {
      "image/png": "[encoded data removed]",
      "text/plain": [
       "<matplotlib.figure.Figure at 0x7f019c3274e0>"
      ]
     },
     "metadata": {},
     "output_type": "display_data"
    }
   ],
   "source": [
    "plt.plot(logit_c_values2, logit_mean_cv_scores2);\n",
    "plt.savefig(\"LogisticRegressionCV2.svg\")"
   ]
  },
  {
   "cell_type": "markdown",
   "metadata": {},
   "source": [
    "Выведите долю правильных ответов на выборке `(X_valid, y_valid)` для логистической регрессии с лучшим найденным значением `C`."
   ]
  },
  {
   "cell_type": "code",
   "execution_count": 56,
   "metadata": {
    "collapsed": true
   },
   "outputs": [],
   "source": [
    "logit_cv_acc =  ''' ВАШ КОД ЗДЕСЬ '''"
   ]
  },
  {
   "cell_type": "markdown",
   "metadata": {},
   "source": [
    "**Запишите в файл *answer4_3.txt* доли правильных ответов для `logit_grid_searcher2` на кросс-валидации для лучшего значения параметра `C` и на отложенной выборке. Округлите каждое до 3 знаков после запятой и запишите в файл через пробел.**"
   ]
  },
  {
   "cell_type": "code",
   "execution_count": 57,
   "metadata": {
    "collapsed": true
   },
   "outputs": [],
   "source": [
    "write_answer_to_file('0.760 0.780',\n",
    "                     'answer4_3.txt')"
   ]
  },
  {
   "cell_type": "markdown",
   "metadata": {},
   "source": [
    "**4. Обучите линейный SVM (`LinearSVC`) с параметром `C`=1 и `random_state`=17 (для воспроизводимости). Посмотрите на долю правильных ответов на кросс-валидации (используйте объект `skf`, созданный ранее) и на выборке `(X_valid, y_valid)`.**"
   ]
  },
  {
   "cell_type": "code",
   "execution_count": 58,
   "metadata": {
    "collapsed": true
   },
   "outputs": [],
   "source": [
    "from sklearn.svm import LinearSVC"
   ]
  },
  {
   "cell_type": "code",
   "execution_count": 59,
   "metadata": {
    "collapsed": true
   },
   "outputs": [],
   "source": [
    "svm = LinearSVC(C=1,random_state=17)"
   ]
  },
  {
   "cell_type": "code",
   "execution_count": 60,
   "metadata": {
    "collapsed": true
   },
   "outputs": [],
   "source": [
    "scoring = cross_val_score(svm, X_train, y_train, scoring = 'accuracy', cv = skf, n_jobs=-1)"
   ]
  },
  {
   "cell_type": "code",
   "execution_count": 61,
   "metadata": {},
   "outputs": [
    {
     "data": {
      "text/plain": [
       "array([ 0.74672755,  0.76029277,  0.75106772])"
      ]
     },
     "execution_count": 61,
     "metadata": {},
     "output_type": "execute_result"
    }
   ],
   "source": [
    "scoring"
   ]
  },
  {
   "cell_type": "code",
   "execution_count": 62,
   "metadata": {},
   "outputs": [
    {
     "data": {
      "text/plain": [
       "LinearSVC(C=1, class_weight=None, dual=True, fit_intercept=True,\n",
       "     intercept_scaling=1, loss='squared_hinge', max_iter=1000,\n",
       "     multi_class='ovr', penalty='l2', random_state=17, tol=0.0001,\n",
       "     verbose=0)"
      ]
     },
     "execution_count": 62,
     "metadata": {},
     "output_type": "execute_result"
    }
   ],
   "source": [
    "svm.fit(X_train,y_train)"
   ]
  },
  {
   "cell_type": "code",
   "execution_count": 63,
   "metadata": {},
   "outputs": [
    {
     "data": {
      "text/plain": [
       "0.77696136525242954"
      ]
     },
     "execution_count": 63,
     "metadata": {},
     "output_type": "execute_result"
    }
   ],
   "source": [
    "svm.score(X_valid,y_valid)"
   ]
  },
  {
   "cell_type": "markdown",
   "metadata": {},
   "source": [
    "**С помощью `GridSearchCV` подберите параметр `C` для SVM сначала в широком диапазоне: 10 значений от 1e-4 до 1e4, используйте `linspace` из NumPy. Нарисуйте кривые валидации.**"
   ]
  },
  {
   "cell_type": "code",
   "execution_count": 66,
   "metadata": {
    "collapsed": true
   },
   "outputs": [],
   "source": [
    "from sklearn.model_selection import GridSearchCV"
   ]
  },
  {
   "cell_type": "code",
   "execution_count": 67,
   "metadata": {},
   "outputs": [
    {
     "name": "stdout",
     "output_type": "stream",
     "text": [
      "Fitting 3 folds for each of 10 candidates, totalling 30 fits\n"
     ]
    },
    {
     "name": "stderr",
     "output_type": "stream",
     "text": [
      "[Parallel(n_jobs=-1)]: Done  30 out of  30 | elapsed:   34.5s finished\n"
     ]
    },
    {
     "name": "stdout",
     "output_type": "stream",
     "text": [
      "CPU times: user 3.46 s, sys: 48 ms, total: 3.51 s\n",
      "Wall time: 37.9 s\n"
     ]
    }
   ],
   "source": [
    "%%time\n",
    "svm_params1 = {'C': np.linspace(1e-4, 1e4, 10)}\n",
    "\n",
    "svm_grid_searcher1 = GridSearchCV(svm,svm_params1,n_jobs=-1,verbose=True,cv=skf)\n",
    "svm_grid_searcher1.fit(X_train, y_train)"
   ]
  },
  {
   "cell_type": "code",
   "execution_count": 68,
   "metadata": {
    "collapsed": true,
    "scrolled": true
   },
   "outputs": [],
   "source": [
    "results_svm_params_1=svm_grid_searcher1.cv_results_"
   ]
  },
  {
   "cell_type": "markdown",
   "metadata": {},
   "source": [
    "Выведите лучшее значение доли правильных ответов на кросс-валидации и соответствующее значение `C`."
   ]
  },
  {
   "cell_type": "code",
   "execution_count": 69,
   "metadata": {},
   "outputs": [
    {
     "data": {
      "text/plain": [
       "0.68421052631578949"
      ]
     },
     "execution_count": 69,
     "metadata": {},
     "output_type": "execute_result"
    }
   ],
   "source": [
    "''' ВАШ КОД ЗДЕСЬ '''\n",
    "max(results_svm_params_1['mean_test_score'])"
   ]
  },
  {
   "cell_type": "markdown",
   "metadata": {},
   "source": [
    "Нарисуйте график зависимости доли правильных ответов на кросс-валидации от `C`."
   ]
  },
  {
   "cell_type": "code",
   "execution_count": 88,
   "metadata": {},
   "outputs": [
    {
     "data": {
      "image/png": "[encoded data removed]",
      "text/plain": [
       "<matplotlib.figure.Figure at 0x7f019c2c6908>"
      ]
     },
     "metadata": {},
     "output_type": "display_data"
    }
   ],
   "source": [
    "plot_validation_curves(svm_params1['C'], svm_grid_searcher1.cv_results_)\n",
    "plt.savefig(\"validation_curves1.svg\")"
   ]
  },
  {
   "cell_type": "markdown",
   "metadata": {},
   "source": [
    "**Но мы помним, что с параметром регуляризации по умолчанию (С=1) на кросс-валидации доля правильных ответов выше. Это тот случай (не редкий), когда можно ошибиться и перебирать параметры не в том диапазоне (причина в том, что мы взяли равномерную сетку на большом интервале и упустили действительно хороший интервал значений `C`). Здесь намного осмысленней подбирать `C` в районе 1, к тому же, так модель быстрее обучается, чем при больших `C`. **\n",
    "\n",
    "**С помощью `GridSearchCV` подберите параметр `C` для SVM в диапазоне (1e-3, 1), 30 значений, используйте `linspace` из NumPy. Нарисуйте кривые валидации.**"
   ]
  },
  {
   "cell_type": "code",
   "execution_count": 71,
   "metadata": {},
   "outputs": [
    {
     "name": "stdout",
     "output_type": "stream",
     "text": [
      "CPU times: user 948 ms, sys: 196 ms, total: 1.14 s\n",
      "Wall time: 1min 3s\n"
     ]
    }
   ],
   "source": [
    "%%time\n",
    "svm_params2 = {'C': np.linspace(1e-3, 1, 30)}\n",
    "\n",
    "svm_grid_searcher2 =  GridSearchCV(svm,svm_params2,n_jobs=-1,cv=skf)\n",
    "svm_grid_searcher2.fit(X_train, y_train)"
   ]
  },
  {
   "cell_type": "markdown",
   "metadata": {},
   "source": [
    "Выведите лучшее значение доли правильных ответов на кросс-валидации и соответствующее значение `C`."
   ]
  },
  {
   "cell_type": "code",
   "execution_count": 72,
   "metadata": {
    "collapsed": true
   },
   "outputs": [],
   "source": [
    "results_svm_params_2=svm_grid_searcher2.cv_results_"
   ]
  },
  {
   "cell_type": "code",
   "execution_count": 73,
   "metadata": {},
   "outputs": [
    {
     "data": {
      "text/plain": [
       "0.76468197520829095"
      ]
     },
     "execution_count": 73,
     "metadata": {},
     "output_type": "execute_result"
    }
   ],
   "source": [
    "max(results_svm_params_2['mean_test_score'])"
   ]
  },
  {
   "cell_type": "code",
   "execution_count": 74,
   "metadata": {},
   "outputs": [
    {
     "data": {
      "text/plain": [
       "3"
      ]
     },
     "execution_count": 74,
     "metadata": {},
     "output_type": "execute_result"
    }
   ],
   "source": [
    "np.argmax(results_svm_params_2['mean_test_score'])"
   ]
  },
  {
   "cell_type": "code",
   "execution_count": 75,
   "metadata": {},
   "outputs": [
    {
     "data": {
      "text/plain": [
       "0.10434482758620689"
      ]
     },
     "execution_count": 75,
     "metadata": {},
     "output_type": "execute_result"
    }
   ],
   "source": [
    "svm_params2['C'][3]"
   ]
  },
  {
   "cell_type": "markdown",
   "metadata": {},
   "source": [
    "Нарисуйте график зависимости доли правильных ответов на кросс-валидации от С."
   ]
  },
  {
   "cell_type": "code",
   "execution_count": 89,
   "metadata": {},
   "outputs": [
    {
     "data": {
      "image/png": "[encoded data removed]",
      "text/plain": [
       "<matplotlib.figure.Figure at 0x7f019d53e320>"
      ]
     },
     "metadata": {},
     "output_type": "display_data"
    }
   ],
   "source": [
    "plot_validation_curves(svm_params2['C'], svm_grid_searcher2.cv_results_)\n",
    "plt.savefig(\"validation_curves2.svg\")"
   ]
  },
  {
   "cell_type": "markdown",
   "metadata": {},
   "source": [
    "Выведите долю правильных ответов на выборке `(X_valid, y_valid)` для `LinearSVC` с лучшим найденным значением `C`."
   ]
  },
  {
   "cell_type": "code",
   "execution_count": 77,
   "metadata": {},
   "outputs": [
    {
     "data": {
      "text/plain": [
       "0.78075373311211183"
      ]
     },
     "execution_count": 77,
     "metadata": {},
     "output_type": "execute_result"
    }
   ],
   "source": [
    "svm_grid_searcher2.score(X_valid,y_valid)"
   ]
  },
  {
   "cell_type": "markdown",
   "metadata": {},
   "source": [
    "**Запишите в файл *answer4_4.txt* доли правильных ответов для svm_grid_searcher2 на кросс-валидации для лучшего значения параметра С и на отложенной выборке. Округлите каждое до 3 знаков после запятой и запишите в файл через пробел.**"
   ]
  },
  {
   "cell_type": "code",
   "execution_count": 78,
   "metadata": {
    "collapsed": true
   },
   "outputs": [],
   "source": [
    "write_answer_to_file('''0.765 0.781 ''',\n",
    "                     'answer4_4.txt')"
   ]
  },
  {
   "cell_type": "markdown",
   "metadata": {},
   "source": [
    "## Часть 2. Выбор параметров – длины сессии и ширины окна"
   ]
  },
  {
   "cell_type": "markdown",
   "metadata": {},
   "source": [
    "**Возьмем `LinearSVC`, показавший лучшее качество на кросс-валидации в 1 части, и проверим его работу еще на 8 выборках для 10 пользователей (с разными сочетаниями параметров *session_length* и *window_size*). Поскольку тут уже вычислений побольше, мы не будем каждый раз заново подбирать параметр регуляризации `C`.**\n",
    "\n",
    "**Определите функцию `model_assessment`, ее документация описана ниже. Обратите внимание на все детали. Например, на то, что разбиение  выборки с `train_test_split` должно быть стратифицированным. Не теряйте нигде `random_state`.**"
   ]
  },
  {
   "cell_type": "code",
   "execution_count": 79,
   "metadata": {
    "collapsed": true
   },
   "outputs": [],
   "source": [
    "def model_assessment(estimator, path_to_X_pickle, path_to_y_pickle, cv, random_state=17, test_size=0.3):\n",
    "    '''\n",
    "    Estimates CV-accuracy for (1 - test_size) share of (X_sparse, y) \n",
    "    loaded from path_to_X_pickle and path_to_y_pickle and holdout accuracy for (test_size) share of (X_sparse, y).\n",
    "    The split is made with stratified train_test_split with params random_state and test_size.\n",
    "    \n",
    "    :param estimator – Scikit-learn estimator (classifier or regressor)\n",
    "    :param path_to_X_pickle – path to pickled sparse X (instances and their features)\n",
    "    :param path_to_y_pickle – path to pickled y (responses)\n",
    "    :param cv – cross-validation as in cross_val_score (use StratifiedKFold here)\n",
    "    :param random_state –  for train_test_split\n",
    "    :param test_size –  for train_test_split\n",
    "    \n",
    "    :returns mean CV-accuracy for (X_train, y_train) and accuracy for (X_valid, y_valid) where (X_train, y_train)\n",
    "    and (X_valid, y_valid) are (1 - test_size) and (testsize) shares of (X_sparse, y).\n",
    "    '''\n",
    "    \n",
    "    ''' ВАШ КОД ЗДЕСЬ '''\n",
    "    with open(path_to_X_pickle, 'rb') as X_sparse_pkl:\n",
    "        X_sparse = pickle.load(X_sparse_pkl)\n",
    "    with open(path_to_y_pickle, 'rb') as y_pkl:\n",
    "        y = pickle.load(y_pkl)\n",
    "#     from IPython.core.debugger import Tracer; Tracer()()\n",
    "    X_train, X_valid, y_train, y_valid = train_test_split(X_sparse, y, \n",
    "                                                      test_size=test_size, \n",
    "                                                     random_state=random_state, stratify=y)\n",
    "    \n",
    "    scoring1 = cross_val_score(estimator, X_train, y_train, scoring = 'accuracy', cv = cv, n_jobs=-1)\n",
    "    \n",
    "    estimator.fit(X_train,y_train)\n",
    "    scoring2 = estimator.score(X_valid,y_valid)\n",
    "    return scoring1.mean(),scoring2\n",
    "    "
   ]
  },
  {
   "cell_type": "markdown",
   "metadata": {},
   "source": [
    "**Убедитесь, что функция работает.**"
   ]
  },
  {
   "cell_type": "code",
   "execution_count": 80,
   "metadata": {},
   "outputs": [
    {
     "data": {
      "text/plain": [
       "(0.76468532445509807, 0.78075373311211183)"
      ]
     },
     "execution_count": 80,
     "metadata": {},
     "output_type": "execute_result"
    }
   ],
   "source": [
    "model_assessment(svm_grid_searcher2.best_estimator_, \n",
    "                 os.path.join(PATH_TO_DATA, 'X_sparse_10users.pkl'),\n",
    "        os.path.join(PATH_TO_DATA, 'y_10users.pkl'), skf, random_state=17, test_size=0.3)"
   ]
  },
  {
   "cell_type": "markdown",
   "metadata": {},
   "source": [
    "**Примените функцию *model_assessment* для лучшего алгоритма из предыдущей части (а именно, `svm_grid_searcher2.best_estimator_`) и 9 выборок вида с разными сочетаниями параметров *session_length* и *window_size* для 10 пользователей. Выведите в цикле параметры *session_length* и *window_size*, а также результат вывода функции *model_assessment*. \n",
    "Удобно сделать так, чтоб *model_assessment* возвращала 3-им элементом время, за которое она выполнилась. На моем ноуте этот участок кода выполнился за 20 секунд. Но со 150 пользователями каждая итерация занимает уже несколько минут.**"
   ]
  },
  {
   "cell_type": "markdown",
   "metadata": {},
   "source": [
    "Здесь для удобства стоит создать копии ранее созданных pickle-файлов X_sparse_10users.pkl, X_sparse_150users.pkl, y_10users.pkl и y_150users.pkl, добавив к их названиям s10_w10, что означает длину сессии 10 и ширину окна 10. "
   ]
  },
  {
   "cell_type": "code",
   "execution_count": 81,
   "metadata": {
    "collapsed": true
   },
   "outputs": [],
   "source": [
    "!cp $PATH_TO_DATA/X_sparse_10users.pkl $PATH_TO_DATA/X_sparse_10users_s10_w10.pkl \n",
    "!cp $PATH_TO_DATA/X_sparse_150users.pkl $PATH_TO_DATA/X_sparse_150users_s10_w10.pkl \n",
    "!cp $PATH_TO_DATA/y_10users.pkl $PATH_TO_DATA/y_10users_s10_w10.pkl \n",
    "!cp $PATH_TO_DATA/y_150users.pkl $PATH_TO_DATA/y_150users_s10_w10.pkl "
   ]
  },
  {
   "cell_type": "code",
   "execution_count": null,
   "metadata": {
    "collapsed": true
   },
   "outputs": [],
   "source": [
    "# X_sparse_10users_s10_w5.pkl\n",
    "# y_10users_s5_w5.pkl"
   ]
  },
  {
   "cell_type": "code",
   "execution_count": 82,
   "metadata": {
    "scrolled": false
   },
   "outputs": [
    {
     "name": "stdout",
     "output_type": "stream",
     "text": [
      "10 15\n",
      "(0.82382149552781048, 0.84048352690210948)\n",
      "10 10\n",
      "(0.76468532445509807, 0.78075373311211183)\n",
      "7 15\n",
      "(0.84794037698440983, 0.85432221669155473)\n",
      "7 10\n",
      "(0.79708721957886686, 0.80736684917869583)\n",
      "7 7\n",
      "(0.75298911148303416, 0.76173884187821472)\n",
      "5 15\n",
      "(0.86800137255434695, 0.87529634898055952)\n",
      "5 10\n",
      "(0.81592472053180387, 0.82456140350877194)\n",
      "5 7\n",
      "(0.77405867456322597, 0.78532479848269321)\n",
      "5 5\n",
      "(0.72528306503988282, 0.73624940730203892)\n",
      "CPU times: user 14.7 s, sys: 372 ms, total: 15.1 s\n",
      "Wall time: 33.9 s\n"
     ]
    }
   ],
   "source": [
    "%%time\n",
    "estimator = svm_grid_searcher2.best_estimator_\n",
    "\n",
    "for window_size, session_length in itertools.product([10, 7, 5], [15, 10, 7, 5]):\n",
    "    if window_size <= session_length:\n",
    "        path_to_X_pkl = os.path.join(PATH_TO_DATA,\\\n",
    "                                     'X_sparse_10users_s{0}_w{1}.pkl'.\\\n",
    "                                     format(session_length,window_size))\n",
    "\n",
    "        path_to_y_pkl = os.path.join(PATH_TO_DATA,\\\n",
    "                                     'y_10users_s{0}_w{1}.pkl'.\\\n",
    "                                    format(session_length,window_size))\n",
    "        print(window_size,session_length)\n",
    "        print(model_assessment(svm_grid_searcher2.best_estimator_, \n",
    "                 path_to_X_pkl,\n",
    "        path_to_y_pkl, skf, random_state=17, test_size=0.3))"
   ]
  },
  {
   "cell_type": "markdown",
   "metadata": {},
   "source": [
    "**Запишите в файл *answer4_5.txt* доли правильных ответов для `LinearSVC` с настроенным параметром `C` и выборки `X_sparse_10users_s15_w5`. Укажите доли правильных ответов на кросс-валидации и на отложенной выборке. Округлите каждое до 3 знаков после запятой и запишите в файл через пробел.**"
   ]
  },
  {
   "cell_type": "code",
   "execution_count": 83,
   "metadata": {
    "collapsed": true
   },
   "outputs": [],
   "source": [
    "write_answer_to_file('''0.872 0.877''', \n",
    "                     'answer4_5.txt')"
   ]
  },
  {
   "cell_type": "markdown",
   "metadata": {},
   "source": [
    "**Прокомментируйте полученные результаты. Сравните для 150 пользователей доли правильных ответов на кросс-валидации и оставленной выборке для сочетаний параметров (*session_length, window_size*): (5,5), (7,7) и (10,10). На среднем ноуте это может занять до часа – запаситесь терпением, это Data Science :) **\n",
    "\n",
    "**Сделайте вывод о том, как качество классификации зависит от длины сессии и ширины окна.**"
   ]
  },
  {
   "cell_type": "code",
   "execution_count": null,
   "metadata": {
    "collapsed": true
   },
   "outputs": [],
   "source": [
    "%%time\n",
    "estimator = svm_grid_searcher2.best_estimator_\n",
    "\n",
    "for window_size, session_length in [(5,5), (7,7), (10,10)]:\n",
    "    path_to_X_pkl = os.path.join(PATH_TO_DATA,\\\n",
    "                                     'X_sparse_150users_s{0}_w{1}.pkl'.\\\n",
    "                                     format(session_length,window_size))\n",
    "\n",
    "    path_to_y_pkl = os.path.join(PATH_TO_DATA,\\\n",
    "                                 'y_150users_s{0}_w{1}.pkl'.\\\n",
    "                                format(session_length,window_size))\n",
    "    print(window_size,session_length)\n",
    "    print(model_assessment(svm_grid_searcher2.best_estimator_, \n",
    "             path_to_X_pkl,\n",
    "    path_to_y_pkl, skf, random_state=17, test_size=0.3))"
   ]
  },
  {
   "cell_type": "markdown",
   "metadata": {},
   "source": [
    "**Запишите в файл *answer4_6.txt* доли правильных ответов для LinearSVC с настроенным параметром C и выборки *X_sparse_150users*. Укажите доли правильных ответов на кросс-валидации и на отложенной выборке. Округлите каждое до 3 знаков после запятой и запишите в файл через пробел.**"
   ]
  },
  {
   "cell_type": "code",
   "execution_count": null,
   "metadata": {
    "collapsed": true
   },
   "outputs": [],
   "source": [
    "write_answer_to_file('''0.461 0.484''', \n",
    "                     'answer4_6.txt')"
   ]
  },
  {
   "cell_type": "markdown",
   "metadata": {},
   "source": [
    "## Часть 3. Идентификация  конкретного пользователя и кривые обучения"
   ]
  },
  {
   "cell_type": "markdown",
   "metadata": {},
   "source": [
    "**Поскольку может разочаровать, что многоклассовая доля правильных ответов на выборке из 150 пользовалей невелика, порадуемся тому, что конкретного пользователя можно идентифицировать достаточно хорошо. **"
   ]
  },
  {
   "cell_type": "markdown",
   "metadata": {},
   "source": [
    "**Загрузим сериализованные ранее объекты *X_sparse_150users* и *y_150users*, соответствующие обучающей выборке для 150 пользователей с параметрами (*session_length, window_size*) = (10,10). Так же точно разобьем их на 70% и 30%.**"
   ]
  },
  {
   "cell_type": "code",
   "execution_count": 42,
   "metadata": {
    "collapsed": true
   },
   "outputs": [],
   "source": [
    "with open(os.path.join(PATH_TO_DATA, 'X_sparse_150users.pkl'), 'rb') as X_sparse_150users_pkl:\n",
    "     X_sparse_150users = pickle.load(X_sparse_150users_pkl)\n",
    "with open(os.path.join(PATH_TO_DATA, 'y_150users.pkl'), 'rb') as y_150users_pkl:\n",
    "    y_150users = pickle.load(y_150users_pkl)"
   ]
  },
  {
   "cell_type": "code",
   "execution_count": 43,
   "metadata": {
    "collapsed": true
   },
   "outputs": [],
   "source": [
    "X_train_150, X_valid_150, y_train_150, y_valid_150 = train_test_split(X_sparse_150users, \n",
    "                                                                      y_150users, test_size=0.3, \n",
    "                                                     random_state=17, stratify=y_150users)"
   ]
  },
  {
   "cell_type": "markdown",
   "metadata": {},
   "source": [
    "**Обучите `LogisticRegressionCV` для одного значения параметра `C` (лучшего на кросс-валидации в 1 части, используйте точное значение, не на глаз). Теперь будем решать 150 задач \"Один-против-Всех\", поэтому укажите аргумент `multi_class`='ovr'. Как всегда, где возможно, указывайте `n_jobs=-1` и `random_state`=17.**"
   ]
  },
  {
   "cell_type": "code",
   "execution_count": 44,
   "metadata": {
    "scrolled": true
   },
   "outputs": [
    {
     "name": "stdout",
     "output_type": "stream",
     "text": [
      "CPU times: user 7min 13s, sys: 6.13 s, total: 7min 19s\n",
      "Wall time: 18min 39s\n"
     ]
    }
   ],
   "source": [
    "%%time\n",
    "logit_cv_150users = LogisticRegressionCV(Cs=3,cv=skf,\\\n",
    "                                            multi_class='ovr',random_state=17,n_jobs=-1,scoring='accuracy')\n",
    "logit_cv_150users.fit(X_train_150, y_train_150)"
   ]
  },
  {
   "cell_type": "markdown",
   "metadata": {},
   "source": [
    "**Посмотрите на средние доли правильных ответов на кросс-валидации в задаче идентификации каждого пользователя по отдельности.**"
   ]
  },
  {
   "cell_type": "code",
   "execution_count": 55,
   "metadata": {},
   "outputs": [
    {
     "data": {
      "text/plain": [
       "{1: array([[ 0.98441794,  0.996003  ,  0.99622158],\n",
       "        [ 0.98438966,  0.99630858,  0.99599575],\n",
       "        [ 0.98439996,  0.99552047,  0.9954265 ]]),\n",
       " 2: array([[ 0.99569073,  0.99634649,  0.99665876],\n",
       "        [ 0.9957142 ,  0.99640243,  0.99612088],\n",
       "        [ 0.99570842,  0.99642891,  0.99646023]]),\n",
       " 3: array([[ 0.99441044,  0.99525356,  0.99484761],\n",
       "        [ 0.9944003 ,  0.9951511 ,  0.99480698],\n",
       "        [ 0.99439276,  0.99526987,  0.99486264]]),\n",
       " 4: array([[ 0.9847302 ,  0.99203722,  0.99172496],\n",
       "        [ 0.9847025 ,  0.99221047,  0.99158481],\n",
       "        [ 0.98471322,  0.99157347,  0.99091564]]),\n",
       " 5: array([[ 0.98794654,  0.99016363,  0.99000749],\n",
       "        [ 0.98795595,  0.99014578,  0.9899268 ],\n",
       "        [ 0.98793973,  0.99032046,  0.98994455]]),\n",
       " 6: array([[ 0.99444167,  0.99453535,  0.99331751],\n",
       "        [ 0.99446287,  0.99468185,  0.99305512],\n",
       "        [ 0.99445541,  0.99445541,  0.9935783 ]]),\n",
       " 7: array([[ 0.99253685,  0.99375468,  0.9930677 ],\n",
       "        [ 0.99255459,  0.9938372 ,  0.99349309],\n",
       "        [ 0.99254456,  0.9935783 ,  0.99313974]]),\n",
       " 8: array([[ 0.98391831,  0.98607295,  0.98547964],\n",
       "        [ 0.98392042,  0.98539073,  0.98482763],\n",
       "        [ 0.98389876,  0.98590358,  0.98559033]]),\n",
       " 9: array([[ 0.99712715,  0.99806395,  0.99781414],\n",
       "        [ 0.99712194,  0.99774761,  0.99755991],\n",
       "        [ 0.99711807,  0.99837108,  0.99793253]]),\n",
       " 10: array([[ 0.99381714,  0.99522233,  0.99478516],\n",
       "        [ 0.9938372 ,  0.99505725,  0.9947757 ],\n",
       "        [ 0.9938289 ,  0.9954265 ,  0.99552047]]),\n",
       " 11: array([[ 0.99416063,  0.99453535,  0.99362978],\n",
       "        [ 0.99415003,  0.9947757 ,  0.99418132],\n",
       "        [ 0.99414215,  0.99445541,  0.9935783 ]]),\n",
       " 12: array([[ 0.99203722,  0.993661  ,  0.99288034],\n",
       "        [ 0.99205406,  0.99371207,  0.99333667],\n",
       "        [ 0.99204335,  0.9937036 ,  0.99326504]]),\n",
       " 13: array([[ 0.99690857,  0.9969398 ,  0.99622158],\n",
       "        [ 0.99693424,  0.99687168,  0.99580805],\n",
       "        [ 0.99693011,  0.99708674,  0.99649156]]),\n",
       " 14: array([[ 0.99484761,  0.99503497,  0.9941294 ],\n",
       "        [ 0.99486955,  0.99474442,  0.99424388],\n",
       "        [ 0.99486264,  0.99473734,  0.99414215]]),\n",
       " 15: array([[ 0.99634649,  0.99634649,  0.99653385],\n",
       "        [ 0.99633986,  0.99640243,  0.99605831],\n",
       "        [ 0.99636626,  0.99633493,  0.99599035]]),\n",
       " 16: array([[ 0.99619036,  0.99634649,  0.9961279 ],\n",
       "        [ 0.99618344,  0.99627729,  0.99580805],\n",
       "        [ 0.99620963,  0.99646023,  0.99573975]]),\n",
       " 17: array([[ 0.99006995,  0.99063203,  0.99035099],\n",
       "        [ 0.99008321,  0.99061503,  0.98998936],\n",
       "        [ 0.99006986,  0.99050841,  0.98928672]]),\n",
       " 18: array([[ 0.99416063,  0.99419186,  0.99391082],\n",
       "        [ 0.99415003,  0.99436902,  0.99418132],\n",
       "        [ 0.99414215,  0.99442408,  0.99404818]]),\n",
       " 19: array([[ 0.99475393,  0.99475393,  0.99425431],\n",
       "        [ 0.99474442,  0.99468185,  0.99449415],\n",
       "        [ 0.99473734,  0.99464336,  0.99392288]]),\n",
       " 20: array([[ 0.99044467,  0.9910692 ,  0.99091307],\n",
       "        [ 0.99042733,  0.99092786,  0.99089658],\n",
       "        [ 0.99044576,  0.99179275,  0.99132287]]),\n",
       " 21: array([[ 0.97701724,  0.9801399 ,  0.98004622],\n",
       "        [ 0.97700682,  0.97975974,  0.97875868],\n",
       "        [ 0.97697585,  0.98076622,  0.98092285]]),\n",
       " 22: array([[ 0.996003  ,  0.99684612,  0.99675244],\n",
       "        [ 0.99602703,  0.99668398,  0.99668398],\n",
       "        [ 0.99602168,  0.99721204,  0.99708674]]),\n",
       " 23: array([[ 0.98722833,  0.99494129,  0.99478516],\n",
       "        [ 0.98720516,  0.994588  ,  0.99436902],\n",
       "        [ 0.98721925,  0.99429878,  0.99411083]]),\n",
       " 24: array([[ 0.99000749,  0.99094429,  0.99103797],\n",
       "        [ 0.98998936,  0.99095914,  0.99080273],\n",
       "        [ 0.9900072 ,  0.99069636,  0.99066504]]),\n",
       " 25: array([[ 0.99594054,  0.99650262,  0.99590932],\n",
       "        [ 0.99593318,  0.99659013,  0.99646499],\n",
       "        [ 0.99595903,  0.99680481,  0.99630361]]),\n",
       " 26: array([[ 0.993661  ,  0.99453535,  0.99372346],\n",
       "        [ 0.9936495 ,  0.99427517,  0.9934618 ],\n",
       "        [ 0.99367227,  0.99426746,  0.99326504]]),\n",
       " 27: array([[ 0.99406695,  0.9950662 ,  0.99381714],\n",
       "        [ 0.99405618,  0.99499468,  0.99455672],\n",
       "        [ 0.99404818,  0.99526987,  0.99467469]]),\n",
       " 28: array([[ 0.98750937,  0.99184986,  0.99184986],\n",
       "        [ 0.98751799,  0.99083401,  0.99020835],\n",
       "        [ 0.98750117,  0.9914795 ,  0.99066504]]),\n",
       " 29: array([[ 0.97960904,  0.98451162,  0.98416812],\n",
       "        [ 0.97960333,  0.98523431,  0.98514046],\n",
       "        [ 0.97957585,  0.98458791,  0.98433731]]),\n",
       " 30: array([[ 0.99709593,  0.99722083,  0.99662753],\n",
       "        [ 0.99712194,  0.99712194,  0.99659013],\n",
       "        [ 0.99711807,  0.99718072,  0.99655421]]),\n",
       " 31: array([[ 0.99678366,  0.99700225,  0.99644017],\n",
       "        [ 0.99677783,  0.99696553,  0.99646499],\n",
       "        [ 0.99677349,  0.99721204,  0.99683614]]),\n",
       " 32: array([[ 0.99653385,  0.99700225,  0.99653385],\n",
       "        [ 0.99652756,  0.99693424,  0.99646499],\n",
       "        [ 0.99655421,  0.99677349,  0.99633493]]),\n",
       " 33: array([[ 0.9970647 ,  0.99737697,  0.99718961],\n",
       "        [ 0.99709066,  0.99724708,  0.99684039],\n",
       "        [ 0.99708674,  0.99743132,  0.99711807]]),\n",
       " 34: array([[ 0.99625281,  0.99662753,  0.99634649],\n",
       "        [ 0.99624601,  0.99652756,  0.99599575],\n",
       "        [ 0.99627228,  0.99661686,  0.99646023]]),\n",
       " 35: array([[ 0.99650262,  0.99690857,  0.99665876],\n",
       "        [ 0.99649628,  0.99687168,  0.99640243],\n",
       "        [ 0.99649156,  0.99714939,  0.99633493]]),\n",
       " 36: array([[ 0.99619036,  0.99759555,  0.99718961],\n",
       "        [ 0.99618344,  0.99746606,  0.99702809],\n",
       "        [ 0.9961783 ,  0.99755662,  0.99746264]]),\n",
       " 37: array([[ 0.98638521,  0.98754059,  0.9876655 ],\n",
       "        [ 0.98636051,  0.98670462,  0.98598511],\n",
       "        [ 0.98634214,  0.98828431,  0.98809636]]),\n",
       " 38: array([[ 0.9964714 ,  0.99644017,  0.99578441],\n",
       "        [ 0.99646499,  0.99646499,  0.99587061],\n",
       "        [ 0.99646023,  0.99649156,  0.99608433]]),\n",
       " 39: array([[ 0.99622158,  0.99656508,  0.99594054],\n",
       "        [ 0.99624601,  0.99624601,  0.99583933],\n",
       "        [ 0.99624095,  0.99633493,  0.9956771 ]]),\n",
       " 40: array([[ 0.99675244,  0.99668998,  0.99603422],\n",
       "        [ 0.99674654,  0.99659013,  0.99549521],\n",
       "        [ 0.99674216,  0.99671084,  0.99646023]]),\n",
       " 41: array([[ 0.98878966,  0.98997627,  0.98916438],\n",
       "        [ 0.98876932,  0.99083401,  0.98980166],\n",
       "        [ 0.98878552,  0.98997588,  0.98919275]]),\n",
       " 42: array([[ 0.98800899,  0.98938296,  0.98894579],\n",
       "        [ 0.98801852,  0.98933242,  0.98901958],\n",
       "        [ 0.98800238,  0.98913009,  0.98887949]]),\n",
       " 43: array([[ 0.99625281,  0.99628404,  0.99544092],\n",
       "        [ 0.99627729,  0.99640243,  0.99558906],\n",
       "        [ 0.99627228,  0.9961783 ,  0.99602168]]),\n",
       " 44: array([[ 0.99578441,  0.99578441,  0.9941294 ],\n",
       "        [ 0.99577676,  0.99602703,  0.99543265],\n",
       "        [ 0.99577107,  0.99577107,  0.99495661]]),\n",
       " 45: array([[ 0.99609668,  0.99606545,  0.99547215],\n",
       "        [ 0.9960896 ,  0.99593318,  0.99537008],\n",
       "        [ 0.99611565,  0.99602168,  0.99545782]]),\n",
       " 46: array([[ 0.99466025,  0.99528479,  0.99503497],\n",
       "        [ 0.99465057,  0.99511981,  0.99483827],\n",
       "        [ 0.99467469,  0.99495661,  0.99436143]]),\n",
       " 47: array([[ 0.99575319,  0.99619036,  0.9961279 ],\n",
       "        [ 0.99577676,  0.99599575,  0.9959019 ],\n",
       "        [ 0.99577107,  0.99624095,  0.9955518 ]]),\n",
       " 48: array([[ 0.99712715,  0.99700225,  0.99653385],\n",
       "        [ 0.99712194,  0.99702809,  0.99662141],\n",
       "        [ 0.99711807,  0.99699276,  0.99664818]]),\n",
       " 49: array([[ 0.99509743,  0.9950662 ,  0.99391082],\n",
       "        [ 0.99508853,  0.99511981,  0.99471313],\n",
       "        [ 0.99511324,  0.99517589,  0.99476866]]),\n",
       " 50: array([[ 0.99628404,  0.99640894,  0.99628404],\n",
       "        [ 0.99630858,  0.99643371,  0.99596446],\n",
       "        [ 0.99630361,  0.99642891,  0.99589638]]),\n",
       " 51: array([[ 0.98991381,  0.99184986,  0.99181864],\n",
       "        [ 0.9899268 ,  0.99170994,  0.99133454],\n",
       "        [ 0.98991323,  0.99191805,  0.9916048 ]]),\n",
       " 52: array([[ 0.99556583,  0.9961279 ,  0.99494129],\n",
       "        [ 0.99555778,  0.99596446,  0.99521366],\n",
       "        [ 0.9955518 ,  0.99620963,  0.99548915]]),\n",
       " 53: array([[ 0.99575319,  0.99590932,  0.9955346 ],\n",
       "        [ 0.99574548,  0.9957142 ,  0.99474442],\n",
       "        [ 0.99577107,  0.99564577,  0.99552047]]),\n",
       " 54: array([[ 0.99519111,  0.99481639,  0.99434799],\n",
       "        [ 0.99518238,  0.99505725,  0.99446287],\n",
       "        [ 0.99517589,  0.99501927,  0.99420481]]),\n",
       " 55: array([[ 0.9970647 ,  0.99728329,  0.99684612],\n",
       "        [ 0.99709066,  0.99727836,  0.99696553],\n",
       "        [ 0.99708674,  0.99746264,  0.99730602]]),\n",
       " 56: array([[ 0.98910192,  0.98960155,  0.9891956 ],\n",
       "        [ 0.98911343,  0.98961396,  0.98952012],\n",
       "        [ 0.98909877,  0.99010118,  0.98972528]]),\n",
       " 57: array([[ 0.99160005,  0.99288034,  0.99216213],\n",
       "        [ 0.99158481,  0.99274229,  0.99255459],\n",
       "        [ 0.9916048 ,  0.99251323,  0.99219998]]),\n",
       " 58: array([[ 0.99619036,  0.99675244,  0.99562828],\n",
       "        [ 0.99621473,  0.99646499,  0.9959019 ],\n",
       "        [ 0.99620963,  0.99658553,  0.99595903]]),\n",
       " 59: array([[ 0.98576068,  0.98704097,  0.98551087],\n",
       "        [ 0.98573484,  0.98708002,  0.98520303],\n",
       "        [ 0.98574695,  0.98690599,  0.98621683]]),\n",
       " 60: array([[ 0.98513615,  0.989664  ,  0.98932051],\n",
       "        [ 0.98510918,  0.98886317,  0.98908215],\n",
       "        [ 0.98512045,  0.98913009,  0.98894214]]),\n",
       " 61: array([[ 0.99372346,  0.99425431,  0.99375468],\n",
       "        [ 0.99374335,  0.99455672,  0.99355565],\n",
       "        [ 0.99373492,  0.99429878,  0.99342167]]),\n",
       " 62: array([[ 0.98825881,  0.99050712,  0.98903947],\n",
       "        [ 0.9882375 ,  0.99045861,  0.98911343],\n",
       "        [ 0.98822166,  0.99016383,  0.98891082]]),\n",
       " 63: array([[ 0.99594054,  0.99581564,  0.99522233],\n",
       "        [ 0.99596446,  0.99583933,  0.99521366],\n",
       "        [ 0.99595903,  0.99589638,  0.99517589]]),\n",
       " 64: array([[ 0.98978891,  0.99156882,  0.99135024],\n",
       "        [ 0.98977038,  0.99067759,  0.99067759],\n",
       "        [ 0.9897566 ,  0.99107227,  0.99122889]]),\n",
       " 65: array([[ 0.99547215,  0.99728329,  0.99709593],\n",
       "        [ 0.99546393,  0.99696553,  0.99699681],\n",
       "        [ 0.99548915,  0.99718072,  0.99702409]]),\n",
       " 66: array([[ 0.99497252,  0.99578441,  0.99569073],\n",
       "        [ 0.9949634 ,  0.9955265 ,  0.9953388 ],\n",
       "        [ 0.99498794,  0.99577107,  0.99548915]]),\n",
       " 67: array([[ 0.99709593,  0.99768923,  0.99740819],\n",
       "        [ 0.99712194,  0.99743477,  0.99715323],\n",
       "        [ 0.99711807,  0.99739999,  0.99721204]]),\n",
       " 68: array([[ 0.99534724,  0.99594054,  0.99547215],\n",
       "        [ 0.9953388 ,  0.99574548,  0.99524495],\n",
       "        [ 0.99533252,  0.9958024 ,  0.99548915]]),\n",
       " 69: array([[ 0.99662753,  0.9965963 ,  0.99587809],\n",
       "        [ 0.99662141,  0.99665269,  0.99596446],\n",
       "        [ 0.99664818,  0.99671084,  0.99577107]]),\n",
       " 70: array([[ 0.99681489,  0.99668998,  0.99634649],\n",
       "        [ 0.99680911,  0.99655884,  0.99593318],\n",
       "        [ 0.99683614,  0.99699276,  0.99636626]]),\n",
       " 71: array([[ 0.99497252,  0.99606545,  0.99609668],\n",
       "        [ 0.9949634 ,  0.99633986,  0.9960896 ],\n",
       "        [ 0.99498794,  0.99624095,  0.99620963]]),\n",
       " 72: array([[ 0.99590932,  0.99709593,  0.99690857],\n",
       "        [ 0.99593318,  0.99702809,  0.99696553],\n",
       "        [ 0.9959277 ,  0.99689879,  0.99642891]]),\n",
       " 73: array([[ 0.99650262,  0.99675244,  0.99587809],\n",
       "        [ 0.99649628,  0.99662141,  0.99602703],\n",
       "        [ 0.99652288,  0.99664818,  0.99611565]]),\n",
       " 74: array([[ 0.99191232,  0.99216213,  0.99156882],\n",
       "        [ 0.99189764,  0.99214791,  0.99089658],\n",
       "        [ 0.99191805,  0.99238793,  0.99163612]]),\n",
       " 75: array([[ 0.99678366,  0.99675244,  0.99603422],\n",
       "        [ 0.99677783,  0.99677783,  0.9960896 ],\n",
       "        [ 0.99677349,  0.99655421,  0.99589638]]),\n",
       " 76: array([[ 0.99103797,  0.99256807,  0.99181864],\n",
       "        [ 0.99102171,  0.99217919,  0.99158481],\n",
       "        [ 0.99104094,  0.99263854,  0.99176143]]),\n",
       " 77: array([[ 0.99722083,  0.99765801,  0.9975331 ],\n",
       "        [ 0.99721579,  0.99784146,  0.99759119],\n",
       "        [ 0.99721204,  0.99761927,  0.99758795]]),\n",
       " 78: array([[ 0.99662753,  0.99665876,  0.99606545],\n",
       "        [ 0.99662141,  0.99652756,  0.99587061],\n",
       "        [ 0.99664818,  0.99649156,  0.99564577]]),\n",
       " 79: array([[ 0.99528479,  0.99631526,  0.9955346 ],\n",
       "        [ 0.99530751,  0.99630858,  0.99633986],\n",
       "        [ 0.99530119,  0.99661686,  0.99586505]]),\n",
       " 80: array([[ 0.98922683,  0.99125656,  0.99128778],\n",
       "        [ 0.98923857,  0.99099043,  0.99074016],\n",
       "        [ 0.98922407,  0.99132287,  0.99116624]]),\n",
       " 81: array([[ 0.99662753,  0.99668998,  0.99619036],\n",
       "        [ 0.99662141,  0.99684039,  0.99568291],\n",
       "        [ 0.99664818,  0.99693011,  0.99614698]]),\n",
       " 82: array([[ 0.99416063,  0.99416063,  0.99350487],\n",
       "        [ 0.99415003,  0.99424388,  0.99405618],\n",
       "        [ 0.99417348,  0.99426746,  0.9935783 ]]),\n",
       " 83: array([[ 0.99525356,  0.99650262,  0.99603422],\n",
       "        [ 0.99524495,  0.99627729,  0.99555778],\n",
       "        [ 0.99523854,  0.99624095,  0.9956771 ]]),\n",
       " 84: array([[ 0.99715838,  0.9970647 ,  0.99609668],\n",
       "        [ 0.99715323,  0.99696553,  0.99615216],\n",
       "        [ 0.99714939,  0.99711807,  0.99667951]]),\n",
       " 85: array([[ 0.99500375,  0.99525356,  0.99484761],\n",
       "        [ 0.99502597,  0.99499468,  0.99461928],\n",
       "        [ 0.99501927,  0.99514457,  0.99442408]]),\n",
       " 86: array([[ 0.99709593,  0.99700225,  0.9965963 ],\n",
       "        [ 0.99709066,  0.99721579,  0.99624601],\n",
       "        [ 0.99708674,  0.99693011,  0.99649156]]),\n",
       " 87: array([[ 0.99700225,  0.99765801,  0.99787659],\n",
       "        [ 0.99702809,  0.99787274,  0.99793531],\n",
       "        [ 0.99702409,  0.99783855,  0.9979012 ]]),\n",
       " 88: array([[ 0.98800899,  0.9890707 ,  0.98888334],\n",
       "        [ 0.98798724,  0.98930113,  0.98889445],\n",
       "        [ 0.98797106,  0.98941202,  0.98894214]]),\n",
       " 89: array([[ 0.9961279 ,  0.99665876,  0.99628404],\n",
       "        [ 0.99612088,  0.99715323,  0.99668398],\n",
       "        [ 0.99614698,  0.99677349,  0.99686746]]),\n",
       " 90: array([[ 0.99525356,  0.99562828,  0.99475393],\n",
       "        [ 0.99524495,  0.99511981,  0.9942126 ],\n",
       "        [ 0.99523854,  0.99552047,  0.99511324]]),\n",
       " 91: array([[ 0.99397327,  0.99422308,  0.99294279],\n",
       "        [ 0.99399362,  0.99411875,  0.9936495 ],\n",
       "        [ 0.99398553,  0.99426746,  0.99373492]]),\n",
       " 92: array([[ 0.99263053,  0.99372346,  0.99375468],\n",
       "        [ 0.99264844,  0.99361822,  0.99361822],\n",
       "        [ 0.99263854,  0.99392288,  0.99354697]]),\n",
       " 93: array([[ 0.98098301,  0.98482388,  0.9832001 ],\n",
       "        [ 0.98097979,  0.98401427,  0.9830132 ],\n",
       "        [ 0.98095417,  0.98446261,  0.98330357]]),\n",
       " 94: array([[ 0.99631526,  0.99697102,  0.99668998],\n",
       "        [ 0.99630858,  0.99674654,  0.99615216],\n",
       "        [ 0.99630361,  0.99686746,  0.99639758]]),\n",
       " 95: array([[ 0.99512865,  0.9955346 ,  0.99544092],\n",
       "        [ 0.99511981,  0.99568291,  0.99527623],\n",
       "        [ 0.99514457,  0.99558312,  0.9956771 ]]),\n",
       " 96: array([[ 0.99181864,  0.99160005,  0.99069448],\n",
       "        [ 0.99183507,  0.99205406,  0.99158481],\n",
       "        [ 0.99182408,  0.99182408,  0.99100962]]),\n",
       " 97: array([[ 0.98507369,  0.98913315,  0.98835249],\n",
       "        [ 0.98504661,  0.9893637 ,  0.98892573],\n",
       "        [ 0.98502647,  0.98994455,  0.9892554 ]]),\n",
       " 98: array([[ 0.99569073,  0.99828254,  0.99778291],\n",
       "        [ 0.9957142 ,  0.99827942,  0.99812301],\n",
       "        [ 0.99570842,  0.99843373,  0.9977759 ]]),\n",
       " 99: array([[ 0.99097552,  0.99103797,  0.98982013],\n",
       "        [ 0.99095914,  0.99074016,  0.98930113],\n",
       "        [ 0.99094697,  0.99075901,  0.9893807 ]]),\n",
       " 100: array([[ 0.9886023 ,  0.98991381,  0.99000749],\n",
       "        [ 0.9886129 ,  0.99017706,  0.99014578],\n",
       "        [ 0.98859756,  0.99022648,  0.99010118]]),\n",
       " 101: array([[ 0.99437922,  0.99425431,  0.99278666],\n",
       "        [ 0.9944003 ,  0.99452543,  0.99355565],\n",
       "        [ 0.99439276,  0.99423613,  0.99332769]]),\n",
       " 102: array([[ 0.98051461,  0.98700974,  0.98579191],\n",
       "        [ 0.98047926,  0.98645436,  0.98429581],\n",
       "        [ 0.98045296,  0.98662406,  0.98549635]]),\n",
       " 103: array([[ 0.96608793,  0.98076443,  0.98045216],\n",
       "        [ 0.9660264 ,  0.98104236,  0.98057311],\n",
       "        [ 0.96601197,  0.98013971,  0.97954453]]),\n",
       " 104: array([[ 0.97845366,  0.9817949 ,  0.98067075],\n",
       "        [ 0.97844585,  0.98107364,  0.97935306],\n",
       "        [ 0.97841682,  0.98092285,  0.97998308]]),\n",
       " 105: array([[ 0.9906008 ,  0.99175618,  0.99144392],\n",
       "        [ 0.99058375,  0.99167866,  0.99174123],\n",
       "        [ 0.99060239,  0.99129155,  0.99151082]]),\n",
       " 106: array([[ 0.9950662 ,  0.99565951,  0.99531601],\n",
       "        [ 0.99505725,  0.99568291,  0.99558906],\n",
       "        [ 0.99505059,  0.99558312,  0.99520722]]),\n",
       " 107: array([[ 0.9950662 ,  0.9975331 ,  0.99759555],\n",
       "        [ 0.99505725,  0.99771632,  0.99762247],\n",
       "        [ 0.99508192,  0.99714939,  0.99721204]]),\n",
       " 108: array([[ 0.99703347,  0.99715838,  0.9969398 ],\n",
       "        [ 0.99702809,  0.99709066,  0.99674654],\n",
       "        [ 0.99705541,  0.99724337,  0.99649156]]),\n",
       " 109: array([[ 0.996003  ,  0.99759555,  0.99775169],\n",
       "        [ 0.99602703,  0.99784146,  0.99737221],\n",
       "        [ 0.99602168,  0.99724337,  0.99705541]]),\n",
       " 110: array([[ 0.99725206,  0.99740819,  0.99718961],\n",
       "        [ 0.99724708,  0.99746606,  0.99659013],\n",
       "        [ 0.99724337,  0.99733734,  0.99693011]]),\n",
       " 111: array([[ 0.99456658,  0.99531601,  0.9941294 ],\n",
       "        [ 0.994588  ,  0.99524495,  0.99380592],\n",
       "        [ 0.99458071,  0.99539517,  0.99458071]]),\n",
       " 112: array([[ 0.99665876,  0.99684612,  0.99625281],\n",
       "        [ 0.99668398,  0.99712194,  0.99690296],\n",
       "        [ 0.99667951,  0.99702409,  0.99680481]]),\n",
       " 113: array([[ 0.99590932,  0.99678366,  0.99628404],\n",
       "        [ 0.9959019 ,  0.99662141,  0.99649628],\n",
       "        [ 0.99589638,  0.99655421,  0.99589638]]),\n",
       " 114: array([[ 0.99687734,  0.99703347,  0.99687734],\n",
       "        [ 0.99687168,  0.99696553,  0.99674654],\n",
       "        [ 0.99686746,  0.99693011,  0.99646023]]),\n",
       " 115: array([[ 0.99525356,  0.99594054,  0.99531601],\n",
       "        [ 0.99524495,  0.99577676,  0.99568291],\n",
       "        [ 0.99523854,  0.9956771 ,  0.99533252]]),\n",
       " 116: array([[ 0.99619036,  0.99650262,  0.99556583],\n",
       "        [ 0.99618344,  0.99665269,  0.9960896 ],\n",
       "        [ 0.9961783 ,  0.99646023,  0.99630361]]),\n",
       " 117: array([[ 0.99362978,  0.99466025,  0.99462903],\n",
       "        [ 0.99361822,  0.99455672,  0.99461928],\n",
       "        [ 0.99360962,  0.99461204,  0.99464336]]),\n",
       " 118: array([[ 0.99584686,  0.99662753,  0.99609668],\n",
       "        [ 0.99587061,  0.99659013,  0.99540136],\n",
       "        [ 0.99586505,  0.99689879,  0.99608433]]),\n",
       " 119: array([[ 0.99678366,  0.99728329,  0.99609668],\n",
       "        [ 0.99677783,  0.99690296,  0.99568291],\n",
       "        [ 0.99677349,  0.99689879,  0.99633493]]),\n",
       " 120: array([[ 0.99531601,  0.99581564,  0.9955346 ],\n",
       "        [ 0.99530751,  0.99540136,  0.99483827],\n",
       "        [ 0.99530119,  0.99564577,  0.99548915]]),\n",
       " 121: array([[ 0.99575319,  0.99631526,  0.99578441],\n",
       "        [ 0.99577676,  0.99649628,  0.99562035],\n",
       "        [ 0.99577107,  0.99667951,  0.99526987]]),\n",
       " 122: array([[ 0.99494129,  0.99650262,  0.99609668],\n",
       "        [ 0.9949634 ,  0.99633986,  0.99612088],\n",
       "        [ 0.99495661,  0.99664818,  0.99655421]]),\n",
       " 123: array([[ 0.99703347,  0.99712715,  0.99556583],\n",
       "        [ 0.99702809,  0.99699681,  0.9960896 ],\n",
       "        [ 0.99705541,  0.99702409,  0.99646023]]),\n",
       " 124: array([[ 0.99522233,  0.9955346 ,  0.99472271],\n",
       "        [ 0.99521366,  0.99602703,  0.99452543],\n",
       "        [ 0.99520722,  0.9956771 ,  0.99467469]]),\n",
       " 125: array([[ 0.98950787,  0.99453535,  0.99378591],\n",
       "        [ 0.98948883,  0.99518238,  0.99455672],\n",
       "        [ 0.989506  ,  0.99464336,  0.99423613]]),\n",
       " 126: array([[ 0.99697102,  0.99697102,  0.99665876],\n",
       "        [ 0.99696553,  0.99705938,  0.99665269],\n",
       "        [ 0.99696144,  0.99699276,  0.99639758]]),\n",
       " 127: array([[ 0.99690857,  0.99815763,  0.99828254],\n",
       "        [ 0.99690296,  0.99824814,  0.99821686],\n",
       "        [ 0.99693011,  0.9982771 ,  0.99818313]]),\n",
       " 128: array([[ 0.99678366,  0.99653385,  0.99575319],\n",
       "        [ 0.99677783,  0.99668398,  0.99615216],\n",
       "        [ 0.99677349,  0.99680481,  0.99646023]]),\n",
       " 129: array([[ 0.9901324 ,  0.99509743,  0.99528479],\n",
       "        [ 0.99014578,  0.99593318,  0.99587061],\n",
       "        [ 0.99013251,  0.99589638,  0.99577107]]),\n",
       " 130: array([[ 0.98810267,  0.9901324 ,  0.99016363],\n",
       "        [ 0.98811237,  0.99061503,  0.99027091],\n",
       "        [ 0.98809636,  0.99044576,  0.99006986]]),\n",
       " 131: array([[ 0.99047589,  0.99319261,  0.99337997],\n",
       "        [ 0.9904899 ,  0.99305512,  0.99324282],\n",
       "        [ 0.99047709,  0.99276384,  0.99266986]]),\n",
       " 132: array([[ 0.99578441,  0.99737697,  0.99737697],\n",
       "        [ 0.99577676,  0.99696553,  0.99743477],\n",
       "        [ 0.9958024 ,  0.99696144,  0.99714939]]),\n",
       " 133: array([[ 0.99515988,  0.99728329,  0.9969398 ],\n",
       "        [ 0.99518238,  0.99693424,  0.99652756],\n",
       "        [ 0.99517589,  0.99702409,  0.99649156]]),\n",
       " 134: array([[ 0.99634649,  0.99650262,  0.99637772],\n",
       "        [ 0.99633986,  0.99637114,  0.99605831],\n",
       "        [ 0.99636626,  0.99671084,  0.99577107]]),\n",
       " 135: array([[ 0.99731451,  0.99765801,  0.99725206],\n",
       "        [ 0.99734092,  0.99752862,  0.99730964],\n",
       "        [ 0.99733734,  0.9979012 ,  0.99786987]]),\n",
       " 136: array([[ 0.99700225,  0.99762678,  0.99728329],\n",
       "        [ 0.99699681,  0.99746606,  0.99677783],\n",
       "        [ 0.99699276,  0.99721204,  0.99649156]]),\n",
       " 137: array([[ 0.99681489,  0.99687734,  0.99668998],\n",
       "        [ 0.99684039,  0.99687168,  0.99659013],\n",
       "        [ 0.99683614,  0.99696144,  0.99671084]]),\n",
       " 138: array([[ 0.9887272 ,  0.99356732,  0.99359855],\n",
       "        [ 0.98873803,  0.99371207,  0.99352437],\n",
       "        [ 0.98872286,  0.99307709,  0.99260721]]),\n",
       " 139: array([[ 0.99175618,  0.99444167,  0.99494129],\n",
       "        [ 0.99174123,  0.99511981,  0.99568291],\n",
       "        [ 0.9917301 ,  0.99442408,  0.99476866]]),\n",
       " 140: array([[ 0.99544092,  0.99628404,  0.99594054],\n",
       "        [ 0.99543265,  0.99643371,  0.99655884],\n",
       "        [ 0.9954265 ,  0.99677349,  0.99655421]]),\n",
       " 141: array([[ 0.99590932,  0.9965963 ,  0.99644017],\n",
       "        [ 0.99593318,  0.99696553,  0.99668398],\n",
       "        [ 0.9959277 ,  0.99674216,  0.99649156]]),\n",
       " 142: array([[ 0.99634649,  0.99775169,  0.99778291],\n",
       "        [ 0.99633986,  0.99752862,  0.99724708],\n",
       "        [ 0.99633493,  0.99799518,  0.9977759 ]]),\n",
       " 143: array([[ 0.99534724,  0.99575319,  0.9955346 ],\n",
       "        [ 0.9953388 ,  0.99568291,  0.9957142 ],\n",
       "        [ 0.99536384,  0.99552047,  0.99548915]]),\n",
       " 144: array([[ 0.99481639,  0.99531601,  0.99534724],\n",
       "        [ 0.99483827,  0.99530751,  0.99521366],\n",
       "        [ 0.99483131,  0.99505059,  0.99486264]]),\n",
       " 145: array([[ 0.99743942,  0.99747065,  0.99684612],\n",
       "        [ 0.99743477,  0.99724708,  0.99696553],\n",
       "        [ 0.99743132,  0.99749397,  0.99696144]]),\n",
       " 146: array([[ 0.98744691,  0.99609668,  0.99565951],\n",
       "        [ 0.98742414,  0.99508853,  0.99527623],\n",
       "        [ 0.98743852,  0.9959277 ,  0.9958024 ]]),\n",
       " 147: array([[ 0.99241194,  0.99297402,  0.99219335],\n",
       "        [ 0.99242946,  0.99393105,  0.99349309],\n",
       "        [ 0.99241926,  0.9937036 ,  0.99266986]]),\n",
       " 148: array([[ 0.99631526,  0.99662753,  0.99628404],\n",
       "        [ 0.99630858,  0.99662141,  0.99618344],\n",
       "        [ 0.99630361,  0.99658553,  0.99636626]]),\n",
       " 149: array([[ 0.99547215,  0.99550337,  0.99581564],\n",
       "        [ 0.99546393,  0.99624601,  0.99618344],\n",
       "        [ 0.99545782,  0.99586505,  0.99577107]]),\n",
       " 150: array([[ 0.99503497,  0.99718961,  0.99628404],\n",
       "        [ 0.99505725,  0.99715323,  0.99593318],\n",
       "        [ 0.99505059,  0.99696144,  0.99627228]])}"
      ]
     },
     "execution_count": 55,
     "metadata": {},
     "output_type": "execute_result"
    }
   ],
   "source": [
    "logit_cv_150users.scores_"
   ]
  },
  {
   "cell_type": "code",
   "execution_count": 60,
   "metadata": {},
   "outputs": [
    {
     "name": "stdout",
     "output_type": "stream",
     "text": [
      "User 1, CV score: [[ 0.98441794  0.996003    0.99622158]\n",
      " [ 0.98438966  0.99630858  0.99599575]\n",
      " [ 0.98439996  0.99552047  0.9954265 ]]\n",
      "User 2, CV score: [[ 0.99569073  0.99634649  0.99665876]\n",
      " [ 0.9957142   0.99640243  0.99612088]\n",
      " [ 0.99570842  0.99642891  0.99646023]]\n",
      "User 3, CV score: [[ 0.99441044  0.99525356  0.99484761]\n",
      " [ 0.9944003   0.9951511   0.99480698]\n",
      " [ 0.99439276  0.99526987  0.99486264]]\n",
      "User 4, CV score: [[ 0.9847302   0.99203722  0.99172496]\n",
      " [ 0.9847025   0.99221047  0.99158481]\n",
      " [ 0.98471322  0.99157347  0.99091564]]\n",
      "User 5, CV score: [[ 0.98794654  0.99016363  0.99000749]\n",
      " [ 0.98795595  0.99014578  0.9899268 ]\n",
      " [ 0.98793973  0.99032046  0.98994455]]\n",
      "User 6, CV score: [[ 0.99444167  0.99453535  0.99331751]\n",
      " [ 0.99446287  0.99468185  0.99305512]\n",
      " [ 0.99445541  0.99445541  0.9935783 ]]\n",
      "User 7, CV score: [[ 0.99253685  0.99375468  0.9930677 ]\n",
      " [ 0.99255459  0.9938372   0.99349309]\n",
      " [ 0.99254456  0.9935783   0.99313974]]\n",
      "User 8, CV score: [[ 0.98391831  0.98607295  0.98547964]\n",
      " [ 0.98392042  0.98539073  0.98482763]\n",
      " [ 0.98389876  0.98590358  0.98559033]]\n",
      "User 9, CV score: [[ 0.99712715  0.99806395  0.99781414]\n",
      " [ 0.99712194  0.99774761  0.99755991]\n",
      " [ 0.99711807  0.99837108  0.99793253]]\n",
      "User 10, CV score: [[ 0.99381714  0.99522233  0.99478516]\n",
      " [ 0.9938372   0.99505725  0.9947757 ]\n",
      " [ 0.9938289   0.9954265   0.99552047]]\n",
      "User 11, CV score: [[ 0.99416063  0.99453535  0.99362978]\n",
      " [ 0.99415003  0.9947757   0.99418132]\n",
      " [ 0.99414215  0.99445541  0.9935783 ]]\n",
      "User 12, CV score: [[ 0.99203722  0.993661    0.99288034]\n",
      " [ 0.99205406  0.99371207  0.99333667]\n",
      " [ 0.99204335  0.9937036   0.99326504]]\n",
      "User 13, CV score: [[ 0.99690857  0.9969398   0.99622158]\n",
      " [ 0.99693424  0.99687168  0.99580805]\n",
      " [ 0.99693011  0.99708674  0.99649156]]\n",
      "User 14, CV score: [[ 0.99484761  0.99503497  0.9941294 ]\n",
      " [ 0.99486955  0.99474442  0.99424388]\n",
      " [ 0.99486264  0.99473734  0.99414215]]\n",
      "User 15, CV score: [[ 0.99634649  0.99634649  0.99653385]\n",
      " [ 0.99633986  0.99640243  0.99605831]\n",
      " [ 0.99636626  0.99633493  0.99599035]]\n",
      "User 16, CV score: [[ 0.99619036  0.99634649  0.9961279 ]\n",
      " [ 0.99618344  0.99627729  0.99580805]\n",
      " [ 0.99620963  0.99646023  0.99573975]]\n",
      "User 17, CV score: [[ 0.99006995  0.99063203  0.99035099]\n",
      " [ 0.99008321  0.99061503  0.98998936]\n",
      " [ 0.99006986  0.99050841  0.98928672]]\n",
      "User 18, CV score: [[ 0.99416063  0.99419186  0.99391082]\n",
      " [ 0.99415003  0.99436902  0.99418132]\n",
      " [ 0.99414215  0.99442408  0.99404818]]\n",
      "User 19, CV score: [[ 0.99475393  0.99475393  0.99425431]\n",
      " [ 0.99474442  0.99468185  0.99449415]\n",
      " [ 0.99473734  0.99464336  0.99392288]]\n",
      "User 20, CV score: [[ 0.99044467  0.9910692   0.99091307]\n",
      " [ 0.99042733  0.99092786  0.99089658]\n",
      " [ 0.99044576  0.99179275  0.99132287]]\n",
      "User 21, CV score: [[ 0.97701724  0.9801399   0.98004622]\n",
      " [ 0.97700682  0.97975974  0.97875868]\n",
      " [ 0.97697585  0.98076622  0.98092285]]\n",
      "User 22, CV score: [[ 0.996003    0.99684612  0.99675244]\n",
      " [ 0.99602703  0.99668398  0.99668398]\n",
      " [ 0.99602168  0.99721204  0.99708674]]\n",
      "User 23, CV score: [[ 0.98722833  0.99494129  0.99478516]\n",
      " [ 0.98720516  0.994588    0.99436902]\n",
      " [ 0.98721925  0.99429878  0.99411083]]\n",
      "User 24, CV score: [[ 0.99000749  0.99094429  0.99103797]\n",
      " [ 0.98998936  0.99095914  0.99080273]\n",
      " [ 0.9900072   0.99069636  0.99066504]]\n",
      "User 25, CV score: [[ 0.99594054  0.99650262  0.99590932]\n",
      " [ 0.99593318  0.99659013  0.99646499]\n",
      " [ 0.99595903  0.99680481  0.99630361]]\n",
      "User 26, CV score: [[ 0.993661    0.99453535  0.99372346]\n",
      " [ 0.9936495   0.99427517  0.9934618 ]\n",
      " [ 0.99367227  0.99426746  0.99326504]]\n",
      "User 27, CV score: [[ 0.99406695  0.9950662   0.99381714]\n",
      " [ 0.99405618  0.99499468  0.99455672]\n",
      " [ 0.99404818  0.99526987  0.99467469]]\n",
      "User 28, CV score: [[ 0.98750937  0.99184986  0.99184986]\n",
      " [ 0.98751799  0.99083401  0.99020835]\n",
      " [ 0.98750117  0.9914795   0.99066504]]\n",
      "User 29, CV score: [[ 0.97960904  0.98451162  0.98416812]\n",
      " [ 0.97960333  0.98523431  0.98514046]\n",
      " [ 0.97957585  0.98458791  0.98433731]]\n",
      "User 30, CV score: [[ 0.99709593  0.99722083  0.99662753]\n",
      " [ 0.99712194  0.99712194  0.99659013]\n",
      " [ 0.99711807  0.99718072  0.99655421]]\n",
      "User 31, CV score: [[ 0.99678366  0.99700225  0.99644017]\n",
      " [ 0.99677783  0.99696553  0.99646499]\n",
      " [ 0.99677349  0.99721204  0.99683614]]\n",
      "User 32, CV score: [[ 0.99653385  0.99700225  0.99653385]\n",
      " [ 0.99652756  0.99693424  0.99646499]\n",
      " [ 0.99655421  0.99677349  0.99633493]]\n",
      "User 33, CV score: [[ 0.9970647   0.99737697  0.99718961]\n",
      " [ 0.99709066  0.99724708  0.99684039]\n",
      " [ 0.99708674  0.99743132  0.99711807]]\n",
      "User 34, CV score: [[ 0.99625281  0.99662753  0.99634649]\n",
      " [ 0.99624601  0.99652756  0.99599575]\n",
      " [ 0.99627228  0.99661686  0.99646023]]\n",
      "User 35, CV score: [[ 0.99650262  0.99690857  0.99665876]\n",
      " [ 0.99649628  0.99687168  0.99640243]\n",
      " [ 0.99649156  0.99714939  0.99633493]]\n",
      "User 36, CV score: [[ 0.99619036  0.99759555  0.99718961]\n",
      " [ 0.99618344  0.99746606  0.99702809]\n",
      " [ 0.9961783   0.99755662  0.99746264]]\n",
      "User 37, CV score: [[ 0.98638521  0.98754059  0.9876655 ]\n",
      " [ 0.98636051  0.98670462  0.98598511]\n",
      " [ 0.98634214  0.98828431  0.98809636]]\n",
      "User 38, CV score: [[ 0.9964714   0.99644017  0.99578441]\n",
      " [ 0.99646499  0.99646499  0.99587061]\n",
      " [ 0.99646023  0.99649156  0.99608433]]\n",
      "User 39, CV score: [[ 0.99622158  0.99656508  0.99594054]\n",
      " [ 0.99624601  0.99624601  0.99583933]\n",
      " [ 0.99624095  0.99633493  0.9956771 ]]\n",
      "User 40, CV score: [[ 0.99675244  0.99668998  0.99603422]\n",
      " [ 0.99674654  0.99659013  0.99549521]\n",
      " [ 0.99674216  0.99671084  0.99646023]]\n",
      "User 41, CV score: [[ 0.98878966  0.98997627  0.98916438]\n",
      " [ 0.98876932  0.99083401  0.98980166]\n",
      " [ 0.98878552  0.98997588  0.98919275]]\n",
      "User 42, CV score: [[ 0.98800899  0.98938296  0.98894579]\n",
      " [ 0.98801852  0.98933242  0.98901958]\n",
      " [ 0.98800238  0.98913009  0.98887949]]\n",
      "User 43, CV score: [[ 0.99625281  0.99628404  0.99544092]\n",
      " [ 0.99627729  0.99640243  0.99558906]\n",
      " [ 0.99627228  0.9961783   0.99602168]]\n",
      "User 44, CV score: [[ 0.99578441  0.99578441  0.9941294 ]\n",
      " [ 0.99577676  0.99602703  0.99543265]\n",
      " [ 0.99577107  0.99577107  0.99495661]]\n",
      "User 45, CV score: [[ 0.99609668  0.99606545  0.99547215]\n",
      " [ 0.9960896   0.99593318  0.99537008]\n",
      " [ 0.99611565  0.99602168  0.99545782]]\n",
      "User 46, CV score: [[ 0.99466025  0.99528479  0.99503497]\n",
      " [ 0.99465057  0.99511981  0.99483827]\n",
      " [ 0.99467469  0.99495661  0.99436143]]\n",
      "User 47, CV score: [[ 0.99575319  0.99619036  0.9961279 ]\n",
      " [ 0.99577676  0.99599575  0.9959019 ]\n",
      " [ 0.99577107  0.99624095  0.9955518 ]]\n",
      "User 48, CV score: [[ 0.99712715  0.99700225  0.99653385]\n",
      " [ 0.99712194  0.99702809  0.99662141]\n",
      " [ 0.99711807  0.99699276  0.99664818]]\n",
      "User 49, CV score: [[ 0.99509743  0.9950662   0.99391082]\n",
      " [ 0.99508853  0.99511981  0.99471313]\n",
      " [ 0.99511324  0.99517589  0.99476866]]\n",
      "User 50, CV score: [[ 0.99628404  0.99640894  0.99628404]\n",
      " [ 0.99630858  0.99643371  0.99596446]\n",
      " [ 0.99630361  0.99642891  0.99589638]]\n",
      "User 51, CV score: [[ 0.98991381  0.99184986  0.99181864]\n",
      " [ 0.9899268   0.99170994  0.99133454]\n",
      " [ 0.98991323  0.99191805  0.9916048 ]]\n",
      "User 52, CV score: [[ 0.99556583  0.9961279   0.99494129]\n",
      " [ 0.99555778  0.99596446  0.99521366]\n",
      " [ 0.9955518   0.99620963  0.99548915]]\n",
      "User 53, CV score: [[ 0.99575319  0.99590932  0.9955346 ]\n",
      " [ 0.99574548  0.9957142   0.99474442]\n",
      " [ 0.99577107  0.99564577  0.99552047]]\n",
      "User 54, CV score: [[ 0.99519111  0.99481639  0.99434799]\n",
      " [ 0.99518238  0.99505725  0.99446287]\n",
      " [ 0.99517589  0.99501927  0.99420481]]\n",
      "User 55, CV score: [[ 0.9970647   0.99728329  0.99684612]\n",
      " [ 0.99709066  0.99727836  0.99696553]\n",
      " [ 0.99708674  0.99746264  0.99730602]]\n",
      "User 56, CV score: [[ 0.98910192  0.98960155  0.9891956 ]\n",
      " [ 0.98911343  0.98961396  0.98952012]\n",
      " [ 0.98909877  0.99010118  0.98972528]]\n",
      "User 57, CV score: [[ 0.99160005  0.99288034  0.99216213]\n",
      " [ 0.99158481  0.99274229  0.99255459]\n",
      " [ 0.9916048   0.99251323  0.99219998]]\n",
      "User 58, CV score: [[ 0.99619036  0.99675244  0.99562828]\n",
      " [ 0.99621473  0.99646499  0.9959019 ]\n",
      " [ 0.99620963  0.99658553  0.99595903]]\n",
      "User 59, CV score: [[ 0.98576068  0.98704097  0.98551087]\n",
      " [ 0.98573484  0.98708002  0.98520303]\n",
      " [ 0.98574695  0.98690599  0.98621683]]\n",
      "User 60, CV score: [[ 0.98513615  0.989664    0.98932051]\n",
      " [ 0.98510918  0.98886317  0.98908215]\n",
      " [ 0.98512045  0.98913009  0.98894214]]\n",
      "User 61, CV score: [[ 0.99372346  0.99425431  0.99375468]\n",
      " [ 0.99374335  0.99455672  0.99355565]\n",
      " [ 0.99373492  0.99429878  0.99342167]]\n",
      "User 62, CV score: [[ 0.98825881  0.99050712  0.98903947]\n",
      " [ 0.9882375   0.99045861  0.98911343]\n",
      " [ 0.98822166  0.99016383  0.98891082]]\n",
      "User 63, CV score: [[ 0.99594054  0.99581564  0.99522233]\n",
      " [ 0.99596446  0.99583933  0.99521366]\n",
      " [ 0.99595903  0.99589638  0.99517589]]\n",
      "User 64, CV score: [[ 0.98978891  0.99156882  0.99135024]\n",
      " [ 0.98977038  0.99067759  0.99067759]\n",
      " [ 0.9897566   0.99107227  0.99122889]]\n",
      "User 65, CV score: [[ 0.99547215  0.99728329  0.99709593]\n",
      " [ 0.99546393  0.99696553  0.99699681]\n",
      " [ 0.99548915  0.99718072  0.99702409]]\n",
      "User 66, CV score: [[ 0.99497252  0.99578441  0.99569073]\n",
      " [ 0.9949634   0.9955265   0.9953388 ]\n",
      " [ 0.99498794  0.99577107  0.99548915]]\n",
      "User 67, CV score: [[ 0.99709593  0.99768923  0.99740819]\n",
      " [ 0.99712194  0.99743477  0.99715323]\n",
      " [ 0.99711807  0.99739999  0.99721204]]\n",
      "User 68, CV score: [[ 0.99534724  0.99594054  0.99547215]\n",
      " [ 0.9953388   0.99574548  0.99524495]\n",
      " [ 0.99533252  0.9958024   0.99548915]]\n",
      "User 69, CV score: [[ 0.99662753  0.9965963   0.99587809]\n",
      " [ 0.99662141  0.99665269  0.99596446]\n",
      " [ 0.99664818  0.99671084  0.99577107]]\n",
      "User 70, CV score: [[ 0.99681489  0.99668998  0.99634649]\n",
      " [ 0.99680911  0.99655884  0.99593318]\n",
      " [ 0.99683614  0.99699276  0.99636626]]\n",
      "User 71, CV score: [[ 0.99497252  0.99606545  0.99609668]\n",
      " [ 0.9949634   0.99633986  0.9960896 ]\n",
      " [ 0.99498794  0.99624095  0.99620963]]\n",
      "User 72, CV score: [[ 0.99590932  0.99709593  0.99690857]\n",
      " [ 0.99593318  0.99702809  0.99696553]\n",
      " [ 0.9959277   0.99689879  0.99642891]]\n",
      "User 73, CV score: [[ 0.99650262  0.99675244  0.99587809]\n",
      " [ 0.99649628  0.99662141  0.99602703]\n",
      " [ 0.99652288  0.99664818  0.99611565]]\n",
      "User 74, CV score: [[ 0.99191232  0.99216213  0.99156882]\n",
      " [ 0.99189764  0.99214791  0.99089658]\n",
      " [ 0.99191805  0.99238793  0.99163612]]\n",
      "User 75, CV score: [[ 0.99678366  0.99675244  0.99603422]\n",
      " [ 0.99677783  0.99677783  0.9960896 ]\n",
      " [ 0.99677349  0.99655421  0.99589638]]\n",
      "User 76, CV score: [[ 0.99103797  0.99256807  0.99181864]\n",
      " [ 0.99102171  0.99217919  0.99158481]\n",
      " [ 0.99104094  0.99263854  0.99176143]]\n",
      "User 77, CV score: [[ 0.99722083  0.99765801  0.9975331 ]\n",
      " [ 0.99721579  0.99784146  0.99759119]\n",
      " [ 0.99721204  0.99761927  0.99758795]]\n",
      "User 78, CV score: [[ 0.99662753  0.99665876  0.99606545]\n",
      " [ 0.99662141  0.99652756  0.99587061]\n",
      " [ 0.99664818  0.99649156  0.99564577]]\n",
      "User 79, CV score: [[ 0.99528479  0.99631526  0.9955346 ]\n",
      " [ 0.99530751  0.99630858  0.99633986]\n",
      " [ 0.99530119  0.99661686  0.99586505]]\n",
      "User 80, CV score: [[ 0.98922683  0.99125656  0.99128778]\n",
      " [ 0.98923857  0.99099043  0.99074016]\n",
      " [ 0.98922407  0.99132287  0.99116624]]\n",
      "User 81, CV score: [[ 0.99662753  0.99668998  0.99619036]\n",
      " [ 0.99662141  0.99684039  0.99568291]\n",
      " [ 0.99664818  0.99693011  0.99614698]]\n",
      "User 82, CV score: [[ 0.99416063  0.99416063  0.99350487]\n",
      " [ 0.99415003  0.99424388  0.99405618]\n",
      " [ 0.99417348  0.99426746  0.9935783 ]]\n",
      "User 83, CV score: [[ 0.99525356  0.99650262  0.99603422]\n",
      " [ 0.99524495  0.99627729  0.99555778]\n",
      " [ 0.99523854  0.99624095  0.9956771 ]]\n",
      "User 84, CV score: [[ 0.99715838  0.9970647   0.99609668]\n",
      " [ 0.99715323  0.99696553  0.99615216]\n",
      " [ 0.99714939  0.99711807  0.99667951]]\n",
      "User 85, CV score: [[ 0.99500375  0.99525356  0.99484761]\n",
      " [ 0.99502597  0.99499468  0.99461928]\n",
      " [ 0.99501927  0.99514457  0.99442408]]\n",
      "User 86, CV score: [[ 0.99709593  0.99700225  0.9965963 ]\n",
      " [ 0.99709066  0.99721579  0.99624601]\n",
      " [ 0.99708674  0.99693011  0.99649156]]\n",
      "User 87, CV score: [[ 0.99700225  0.99765801  0.99787659]\n",
      " [ 0.99702809  0.99787274  0.99793531]\n",
      " [ 0.99702409  0.99783855  0.9979012 ]]\n",
      "User 88, CV score: [[ 0.98800899  0.9890707   0.98888334]\n",
      " [ 0.98798724  0.98930113  0.98889445]\n",
      " [ 0.98797106  0.98941202  0.98894214]]\n",
      "User 89, CV score: [[ 0.9961279   0.99665876  0.99628404]\n",
      " [ 0.99612088  0.99715323  0.99668398]\n",
      " [ 0.99614698  0.99677349  0.99686746]]\n",
      "User 90, CV score: [[ 0.99525356  0.99562828  0.99475393]\n",
      " [ 0.99524495  0.99511981  0.9942126 ]\n",
      " [ 0.99523854  0.99552047  0.99511324]]\n",
      "User 91, CV score: [[ 0.99397327  0.99422308  0.99294279]\n",
      " [ 0.99399362  0.99411875  0.9936495 ]\n",
      " [ 0.99398553  0.99426746  0.99373492]]\n",
      "User 92, CV score: [[ 0.99263053  0.99372346  0.99375468]\n",
      " [ 0.99264844  0.99361822  0.99361822]\n",
      " [ 0.99263854  0.99392288  0.99354697]]\n",
      "User 93, CV score: [[ 0.98098301  0.98482388  0.9832001 ]\n",
      " [ 0.98097979  0.98401427  0.9830132 ]\n",
      " [ 0.98095417  0.98446261  0.98330357]]\n",
      "User 94, CV score: [[ 0.99631526  0.99697102  0.99668998]\n",
      " [ 0.99630858  0.99674654  0.99615216]\n",
      " [ 0.99630361  0.99686746  0.99639758]]\n",
      "User 95, CV score: [[ 0.99512865  0.9955346   0.99544092]\n",
      " [ 0.99511981  0.99568291  0.99527623]\n",
      " [ 0.99514457  0.99558312  0.9956771 ]]\n",
      "User 96, CV score: [[ 0.99181864  0.99160005  0.99069448]\n",
      " [ 0.99183507  0.99205406  0.99158481]\n",
      " [ 0.99182408  0.99182408  0.99100962]]\n",
      "User 97, CV score: [[ 0.98507369  0.98913315  0.98835249]\n",
      " [ 0.98504661  0.9893637   0.98892573]\n",
      " [ 0.98502647  0.98994455  0.9892554 ]]\n",
      "User 98, CV score: [[ 0.99569073  0.99828254  0.99778291]\n",
      " [ 0.9957142   0.99827942  0.99812301]\n",
      " [ 0.99570842  0.99843373  0.9977759 ]]\n",
      "User 99, CV score: [[ 0.99097552  0.99103797  0.98982013]\n",
      " [ 0.99095914  0.99074016  0.98930113]\n",
      " [ 0.99094697  0.99075901  0.9893807 ]]\n",
      "User 100, CV score: [[ 0.9886023   0.98991381  0.99000749]\n",
      " [ 0.9886129   0.99017706  0.99014578]\n",
      " [ 0.98859756  0.99022648  0.99010118]]\n",
      "User 101, CV score: [[ 0.99437922  0.99425431  0.99278666]\n",
      " [ 0.9944003   0.99452543  0.99355565]\n",
      " [ 0.99439276  0.99423613  0.99332769]]\n",
      "User 102, CV score: [[ 0.98051461  0.98700974  0.98579191]\n",
      " [ 0.98047926  0.98645436  0.98429581]\n",
      " [ 0.98045296  0.98662406  0.98549635]]\n",
      "User 103, CV score: [[ 0.96608793  0.98076443  0.98045216]\n",
      " [ 0.9660264   0.98104236  0.98057311]\n",
      " [ 0.96601197  0.98013971  0.97954453]]\n",
      "User 104, CV score: [[ 0.97845366  0.9817949   0.98067075]\n",
      " [ 0.97844585  0.98107364  0.97935306]\n",
      " [ 0.97841682  0.98092285  0.97998308]]\n",
      "User 105, CV score: [[ 0.9906008   0.99175618  0.99144392]\n",
      " [ 0.99058375  0.99167866  0.99174123]\n",
      " [ 0.99060239  0.99129155  0.99151082]]\n",
      "User 106, CV score: [[ 0.9950662   0.99565951  0.99531601]\n",
      " [ 0.99505725  0.99568291  0.99558906]\n",
      " [ 0.99505059  0.99558312  0.99520722]]\n",
      "User 107, CV score: [[ 0.9950662   0.9975331   0.99759555]\n",
      " [ 0.99505725  0.99771632  0.99762247]\n",
      " [ 0.99508192  0.99714939  0.99721204]]\n",
      "User 108, CV score: [[ 0.99703347  0.99715838  0.9969398 ]\n",
      " [ 0.99702809  0.99709066  0.99674654]\n",
      " [ 0.99705541  0.99724337  0.99649156]]\n",
      "User 109, CV score: [[ 0.996003    0.99759555  0.99775169]\n",
      " [ 0.99602703  0.99784146  0.99737221]\n",
      " [ 0.99602168  0.99724337  0.99705541]]\n",
      "User 110, CV score: [[ 0.99725206  0.99740819  0.99718961]\n",
      " [ 0.99724708  0.99746606  0.99659013]\n",
      " [ 0.99724337  0.99733734  0.99693011]]\n",
      "User 111, CV score: [[ 0.99456658  0.99531601  0.9941294 ]\n",
      " [ 0.994588    0.99524495  0.99380592]\n",
      " [ 0.99458071  0.99539517  0.99458071]]\n",
      "User 112, CV score: [[ 0.99665876  0.99684612  0.99625281]\n",
      " [ 0.99668398  0.99712194  0.99690296]\n",
      " [ 0.99667951  0.99702409  0.99680481]]\n",
      "User 113, CV score: [[ 0.99590932  0.99678366  0.99628404]\n",
      " [ 0.9959019   0.99662141  0.99649628]\n",
      " [ 0.99589638  0.99655421  0.99589638]]\n",
      "User 114, CV score: [[ 0.99687734  0.99703347  0.99687734]\n",
      " [ 0.99687168  0.99696553  0.99674654]\n",
      " [ 0.99686746  0.99693011  0.99646023]]\n",
      "User 115, CV score: [[ 0.99525356  0.99594054  0.99531601]\n",
      " [ 0.99524495  0.99577676  0.99568291]\n",
      " [ 0.99523854  0.9956771   0.99533252]]\n",
      "User 116, CV score: [[ 0.99619036  0.99650262  0.99556583]\n",
      " [ 0.99618344  0.99665269  0.9960896 ]\n",
      " [ 0.9961783   0.99646023  0.99630361]]\n",
      "User 117, CV score: [[ 0.99362978  0.99466025  0.99462903]\n",
      " [ 0.99361822  0.99455672  0.99461928]\n",
      " [ 0.99360962  0.99461204  0.99464336]]\n",
      "User 118, CV score: [[ 0.99584686  0.99662753  0.99609668]\n",
      " [ 0.99587061  0.99659013  0.99540136]\n",
      " [ 0.99586505  0.99689879  0.99608433]]\n",
      "User 119, CV score: [[ 0.99678366  0.99728329  0.99609668]\n",
      " [ 0.99677783  0.99690296  0.99568291]\n",
      " [ 0.99677349  0.99689879  0.99633493]]\n",
      "User 120, CV score: [[ 0.99531601  0.99581564  0.9955346 ]\n",
      " [ 0.99530751  0.99540136  0.99483827]\n",
      " [ 0.99530119  0.99564577  0.99548915]]\n",
      "User 121, CV score: [[ 0.99575319  0.99631526  0.99578441]\n",
      " [ 0.99577676  0.99649628  0.99562035]\n",
      " [ 0.99577107  0.99667951  0.99526987]]\n",
      "User 122, CV score: [[ 0.99494129  0.99650262  0.99609668]\n",
      " [ 0.9949634   0.99633986  0.99612088]\n",
      " [ 0.99495661  0.99664818  0.99655421]]\n",
      "User 123, CV score: [[ 0.99703347  0.99712715  0.99556583]\n",
      " [ 0.99702809  0.99699681  0.9960896 ]\n",
      " [ 0.99705541  0.99702409  0.99646023]]\n",
      "User 124, CV score: [[ 0.99522233  0.9955346   0.99472271]\n",
      " [ 0.99521366  0.99602703  0.99452543]\n",
      " [ 0.99520722  0.9956771   0.99467469]]\n",
      "User 125, CV score: [[ 0.98950787  0.99453535  0.99378591]\n",
      " [ 0.98948883  0.99518238  0.99455672]\n",
      " [ 0.989506    0.99464336  0.99423613]]\n",
      "User 126, CV score: [[ 0.99697102  0.99697102  0.99665876]\n",
      " [ 0.99696553  0.99705938  0.99665269]\n",
      " [ 0.99696144  0.99699276  0.99639758]]\n",
      "User 127, CV score: [[ 0.99690857  0.99815763  0.99828254]\n",
      " [ 0.99690296  0.99824814  0.99821686]\n",
      " [ 0.99693011  0.9982771   0.99818313]]\n",
      "User 128, CV score: [[ 0.99678366  0.99653385  0.99575319]\n",
      " [ 0.99677783  0.99668398  0.99615216]\n",
      " [ 0.99677349  0.99680481  0.99646023]]\n",
      "User 129, CV score: [[ 0.9901324   0.99509743  0.99528479]\n",
      " [ 0.99014578  0.99593318  0.99587061]\n",
      " [ 0.99013251  0.99589638  0.99577107]]\n",
      "User 130, CV score: [[ 0.98810267  0.9901324   0.99016363]\n",
      " [ 0.98811237  0.99061503  0.99027091]\n",
      " [ 0.98809636  0.99044576  0.99006986]]\n",
      "User 131, CV score: [[ 0.99047589  0.99319261  0.99337997]\n",
      " [ 0.9904899   0.99305512  0.99324282]\n",
      " [ 0.99047709  0.99276384  0.99266986]]\n",
      "User 132, CV score: [[ 0.99578441  0.99737697  0.99737697]\n",
      " [ 0.99577676  0.99696553  0.99743477]\n",
      " [ 0.9958024   0.99696144  0.99714939]]\n",
      "User 133, CV score: [[ 0.99515988  0.99728329  0.9969398 ]\n",
      " [ 0.99518238  0.99693424  0.99652756]\n",
      " [ 0.99517589  0.99702409  0.99649156]]\n",
      "User 134, CV score: [[ 0.99634649  0.99650262  0.99637772]\n",
      " [ 0.99633986  0.99637114  0.99605831]\n",
      " [ 0.99636626  0.99671084  0.99577107]]\n",
      "User 135, CV score: [[ 0.99731451  0.99765801  0.99725206]\n",
      " [ 0.99734092  0.99752862  0.99730964]\n",
      " [ 0.99733734  0.9979012   0.99786987]]\n",
      "User 136, CV score: [[ 0.99700225  0.99762678  0.99728329]\n",
      " [ 0.99699681  0.99746606  0.99677783]\n",
      " [ 0.99699276  0.99721204  0.99649156]]\n",
      "User 137, CV score: [[ 0.99681489  0.99687734  0.99668998]\n",
      " [ 0.99684039  0.99687168  0.99659013]\n",
      " [ 0.99683614  0.99696144  0.99671084]]\n",
      "User 138, CV score: [[ 0.9887272   0.99356732  0.99359855]\n",
      " [ 0.98873803  0.99371207  0.99352437]\n",
      " [ 0.98872286  0.99307709  0.99260721]]\n",
      "User 139, CV score: [[ 0.99175618  0.99444167  0.99494129]\n",
      " [ 0.99174123  0.99511981  0.99568291]\n",
      " [ 0.9917301   0.99442408  0.99476866]]\n",
      "User 140, CV score: [[ 0.99544092  0.99628404  0.99594054]\n",
      " [ 0.99543265  0.99643371  0.99655884]\n",
      " [ 0.9954265   0.99677349  0.99655421]]\n",
      "User 141, CV score: [[ 0.99590932  0.9965963   0.99644017]\n",
      " [ 0.99593318  0.99696553  0.99668398]\n",
      " [ 0.9959277   0.99674216  0.99649156]]\n",
      "User 142, CV score: [[ 0.99634649  0.99775169  0.99778291]\n",
      " [ 0.99633986  0.99752862  0.99724708]\n",
      " [ 0.99633493  0.99799518  0.9977759 ]]\n",
      "User 143, CV score: [[ 0.99534724  0.99575319  0.9955346 ]\n",
      " [ 0.9953388   0.99568291  0.9957142 ]\n",
      " [ 0.99536384  0.99552047  0.99548915]]\n",
      "User 144, CV score: [[ 0.99481639  0.99531601  0.99534724]\n",
      " [ 0.99483827  0.99530751  0.99521366]\n",
      " [ 0.99483131  0.99505059  0.99486264]]\n",
      "User 145, CV score: [[ 0.99743942  0.99747065  0.99684612]\n",
      " [ 0.99743477  0.99724708  0.99696553]\n",
      " [ 0.99743132  0.99749397  0.99696144]]\n",
      "User 146, CV score: [[ 0.98744691  0.99609668  0.99565951]\n",
      " [ 0.98742414  0.99508853  0.99527623]\n",
      " [ 0.98743852  0.9959277   0.9958024 ]]\n",
      "User 147, CV score: [[ 0.99241194  0.99297402  0.99219335]\n",
      " [ 0.99242946  0.99393105  0.99349309]\n",
      " [ 0.99241926  0.9937036   0.99266986]]\n",
      "User 148, CV score: [[ 0.99631526  0.99662753  0.99628404]\n",
      " [ 0.99630858  0.99662141  0.99618344]\n",
      " [ 0.99630361  0.99658553  0.99636626]]\n",
      "User 149, CV score: [[ 0.99547215  0.99550337  0.99581564]\n",
      " [ 0.99546393  0.99624601  0.99618344]\n",
      " [ 0.99545782  0.99586505  0.99577107]]\n",
      "User 150, CV score: [[ 0.99503497  0.99718961  0.99628404]\n",
      " [ 0.99505725  0.99715323  0.99593318]\n",
      " [ 0.99505059  0.99696144  0.99627228]]\n"
     ]
    }
   ],
   "source": [
    "cv_scores_by_user = []\n",
    "for user_id in logit_cv_150users.scores_:\n",
    "    cv_scores_by_user.append(logit_cv_150users.scores_[user_id])\n",
    "    print('User {}, CV score: {}'.\\\n",
    "          format(user_id,logit_cv_150users.scores_[user_id]))\n"
   ]
  },
  {
   "cell_type": "code",
   "execution_count": 62,
   "metadata": {
    "collapsed": true
   },
   "outputs": [],
   "source": [
    "from itertools import chain"
   ]
  },
  {
   "cell_type": "code",
   "execution_count": 93,
   "metadata": {},
   "outputs": [
    {
     "data": {
      "text/plain": [
       "[array([ 0.98441794,  0.996003  ,  0.99622158]),\n",
       " array([ 0.98438966,  0.99630858,  0.99599575]),\n",
       " array([ 0.98439996,  0.99552047,  0.9954265 ]),\n",
       " array([ 0.99569073,  0.99634649,  0.99665876]),\n",
       " array([ 0.9957142 ,  0.99640243,  0.99612088]),\n",
       " array([ 0.99570842,  0.99642891,  0.99646023]),\n",
       " array([ 0.99441044,  0.99525356,  0.99484761]),\n",
       " array([ 0.9944003 ,  0.9951511 ,  0.99480698]),\n",
       " array([ 0.99439276,  0.99526987,  0.99486264]),\n",
       " array([ 0.9847302 ,  0.99203722,  0.99172496]),\n",
       " array([ 0.9847025 ,  0.99221047,  0.99158481]),\n",
       " array([ 0.98471322,  0.99157347,  0.99091564]),\n",
       " array([ 0.98794654,  0.99016363,  0.99000749]),\n",
       " array([ 0.98795595,  0.99014578,  0.9899268 ]),\n",
       " array([ 0.98793973,  0.99032046,  0.98994455]),\n",
       " array([ 0.99444167,  0.99453535,  0.99331751]),\n",
       " array([ 0.99446287,  0.99468185,  0.99305512]),\n",
       " array([ 0.99445541,  0.99445541,  0.9935783 ]),\n",
       " array([ 0.99253685,  0.99375468,  0.9930677 ]),\n",
       " array([ 0.99255459,  0.9938372 ,  0.99349309]),\n",
       " array([ 0.99254456,  0.9935783 ,  0.99313974]),\n",
       " array([ 0.98391831,  0.98607295,  0.98547964]),\n",
       " array([ 0.98392042,  0.98539073,  0.98482763]),\n",
       " array([ 0.98389876,  0.98590358,  0.98559033]),\n",
       " array([ 0.99712715,  0.99806395,  0.99781414]),\n",
       " array([ 0.99712194,  0.99774761,  0.99755991]),\n",
       " array([ 0.99711807,  0.99837108,  0.99793253]),\n",
       " array([ 0.99381714,  0.99522233,  0.99478516]),\n",
       " array([ 0.9938372 ,  0.99505725,  0.9947757 ]),\n",
       " array([ 0.9938289 ,  0.9954265 ,  0.99552047]),\n",
       " array([ 0.99416063,  0.99453535,  0.99362978]),\n",
       " array([ 0.99415003,  0.9947757 ,  0.99418132]),\n",
       " array([ 0.99414215,  0.99445541,  0.9935783 ]),\n",
       " array([ 0.99203722,  0.993661  ,  0.99288034]),\n",
       " array([ 0.99205406,  0.99371207,  0.99333667]),\n",
       " array([ 0.99204335,  0.9937036 ,  0.99326504]),\n",
       " array([ 0.99690857,  0.9969398 ,  0.99622158]),\n",
       " array([ 0.99693424,  0.99687168,  0.99580805]),\n",
       " array([ 0.99693011,  0.99708674,  0.99649156]),\n",
       " array([ 0.99484761,  0.99503497,  0.9941294 ]),\n",
       " array([ 0.99486955,  0.99474442,  0.99424388]),\n",
       " array([ 0.99486264,  0.99473734,  0.99414215]),\n",
       " array([ 0.99634649,  0.99634649,  0.99653385]),\n",
       " array([ 0.99633986,  0.99640243,  0.99605831]),\n",
       " array([ 0.99636626,  0.99633493,  0.99599035]),\n",
       " array([ 0.99619036,  0.99634649,  0.9961279 ]),\n",
       " array([ 0.99618344,  0.99627729,  0.99580805]),\n",
       " array([ 0.99620963,  0.99646023,  0.99573975]),\n",
       " array([ 0.99006995,  0.99063203,  0.99035099]),\n",
       " array([ 0.99008321,  0.99061503,  0.98998936]),\n",
       " array([ 0.99006986,  0.99050841,  0.98928672]),\n",
       " array([ 0.99416063,  0.99419186,  0.99391082]),\n",
       " array([ 0.99415003,  0.99436902,  0.99418132]),\n",
       " array([ 0.99414215,  0.99442408,  0.99404818]),\n",
       " array([ 0.99475393,  0.99475393,  0.99425431]),\n",
       " array([ 0.99474442,  0.99468185,  0.99449415]),\n",
       " array([ 0.99473734,  0.99464336,  0.99392288]),\n",
       " array([ 0.99044467,  0.9910692 ,  0.99091307]),\n",
       " array([ 0.99042733,  0.99092786,  0.99089658]),\n",
       " array([ 0.99044576,  0.99179275,  0.99132287]),\n",
       " array([ 0.97701724,  0.9801399 ,  0.98004622]),\n",
       " array([ 0.97700682,  0.97975974,  0.97875868]),\n",
       " array([ 0.97697585,  0.98076622,  0.98092285]),\n",
       " array([ 0.996003  ,  0.99684612,  0.99675244]),\n",
       " array([ 0.99602703,  0.99668398,  0.99668398]),\n",
       " array([ 0.99602168,  0.99721204,  0.99708674]),\n",
       " array([ 0.98722833,  0.99494129,  0.99478516]),\n",
       " array([ 0.98720516,  0.994588  ,  0.99436902]),\n",
       " array([ 0.98721925,  0.99429878,  0.99411083]),\n",
       " array([ 0.99000749,  0.99094429,  0.99103797]),\n",
       " array([ 0.98998936,  0.99095914,  0.99080273]),\n",
       " array([ 0.9900072 ,  0.99069636,  0.99066504]),\n",
       " array([ 0.99594054,  0.99650262,  0.99590932]),\n",
       " array([ 0.99593318,  0.99659013,  0.99646499]),\n",
       " array([ 0.99595903,  0.99680481,  0.99630361]),\n",
       " array([ 0.993661  ,  0.99453535,  0.99372346]),\n",
       " array([ 0.9936495 ,  0.99427517,  0.9934618 ]),\n",
       " array([ 0.99367227,  0.99426746,  0.99326504]),\n",
       " array([ 0.99406695,  0.9950662 ,  0.99381714]),\n",
       " array([ 0.99405618,  0.99499468,  0.99455672]),\n",
       " array([ 0.99404818,  0.99526987,  0.99467469]),\n",
       " array([ 0.98750937,  0.99184986,  0.99184986]),\n",
       " array([ 0.98751799,  0.99083401,  0.99020835]),\n",
       " array([ 0.98750117,  0.9914795 ,  0.99066504]),\n",
       " array([ 0.97960904,  0.98451162,  0.98416812]),\n",
       " array([ 0.97960333,  0.98523431,  0.98514046]),\n",
       " array([ 0.97957585,  0.98458791,  0.98433731]),\n",
       " array([ 0.99709593,  0.99722083,  0.99662753]),\n",
       " array([ 0.99712194,  0.99712194,  0.99659013]),\n",
       " array([ 0.99711807,  0.99718072,  0.99655421]),\n",
       " array([ 0.99678366,  0.99700225,  0.99644017]),\n",
       " array([ 0.99677783,  0.99696553,  0.99646499]),\n",
       " array([ 0.99677349,  0.99721204,  0.99683614]),\n",
       " array([ 0.99653385,  0.99700225,  0.99653385]),\n",
       " array([ 0.99652756,  0.99693424,  0.99646499]),\n",
       " array([ 0.99655421,  0.99677349,  0.99633493]),\n",
       " array([ 0.9970647 ,  0.99737697,  0.99718961]),\n",
       " array([ 0.99709066,  0.99724708,  0.99684039]),\n",
       " array([ 0.99708674,  0.99743132,  0.99711807]),\n",
       " array([ 0.99625281,  0.99662753,  0.99634649])]"
      ]
     },
     "execution_count": 93,
     "metadata": {},
     "output_type": "execute_result"
    }
   ],
   "source": [
    "[*chain(*cv_scores_by_user)][0:100]"
   ]
  },
  {
   "cell_type": "code",
   "execution_count": 97,
   "metadata": {},
   "outputs": [
    {
     "data": {
      "text/plain": [
       "0.9936183118271491"
      ]
     },
     "execution_count": 97,
     "metadata": {},
     "output_type": "execute_result"
    }
   ],
   "source": [
    "np.mean(sum([*chain(*cv_scores_by_user)][0:150])/150)"
   ]
  },
  {
   "cell_type": "markdown",
   "metadata": {},
   "source": [
    "**Результаты кажутся впечатляющими, но возможно, мы забываем про дисбаланс классов, и высокую долю правильных ответов можно получить константным прогнозом. Посчитайте для каждого пользователя разницу между долей правильных ответов на кросс-валидации (только что посчитанную с помощью `LogisticRegressionCV`) и долей меток в *y_train_150*, отличных от ID \n",
    " этого пользователя (именно такую долю правильных ответов можно получить, если классификатор всегда \"говорит\", что это не пользователь с номером $i$ в задаче классификации $i$-vs-All).**"
   ]
  },
  {
   "cell_type": "code",
   "execution_count": null,
   "metadata": {
    "collapsed": true
   },
   "outputs": [],
   "source": [
    "class_distr = np.bincount(y_train_150.astype('int'))\n",
    "\n",
    "for user_id in np.unique(y_train_150):\n",
    "    ''' ВАШ КОД ЗДЕСЬ '''"
   ]
  },
  {
   "cell_type": "code",
   "execution_count": null,
   "metadata": {
    "collapsed": true
   },
   "outputs": [],
   "source": [
    "num_better_than_default = (np.array(list(acc_diff_vs_constant.values())) > 0).sum()"
   ]
  },
  {
   "cell_type": "markdown",
   "metadata": {},
   "source": [
    "**Запишите в файл *answer4_7.txt* долю пользователей, для которых логистическая регрессия на кросс-валидации дает прогноз лучше константного. Округлите до 3 знаков после запятой. **"
   ]
  },
  {
   "cell_type": "code",
   "execution_count": null,
   "metadata": {
    "collapsed": true
   },
   "outputs": [],
   "source": [
    "write_answer_to_file(''' ВАШ КОД ЗДЕСЬ ''', \n",
    "                     'answer4_7.txt')"
   ]
  },
  {
   "cell_type": "markdown",
   "metadata": {},
   "source": [
    "**Дальше будем строить кривые обучения для конкретного пользователя, допустим, для 128-го. Составьте новый бинарный вектор на основе *y_150users*, его значения будут 1 или 0 в зависимости от того, равен ли ID-шник пользователя 128.**"
   ]
  },
  {
   "cell_type": "code",
   "execution_count": null,
   "metadata": {
    "collapsed": true
   },
   "outputs": [],
   "source": [
    "y_binary_128 = ''' ВАШ КОД ЗДЕСЬ '''"
   ]
  },
  {
   "cell_type": "code",
   "execution_count": null,
   "metadata": {
    "collapsed": true
   },
   "outputs": [],
   "source": [
    "from sklearn.model_selection import learning_curve\n",
    "\n",
    "def plot_learning_curve(val_train, val_test, train_sizes, \n",
    "                        xlabel='Training Set Size', ylabel='score'):\n",
    "    def plot_with_err(x, data, **kwargs):\n",
    "        mu, std = data.mean(1), data.std(1)\n",
    "        lines = plt.plot(x, mu, '-', **kwargs)\n",
    "        plt.fill_between(x, mu - std, mu + std, edgecolor='none',\n",
    "                         facecolor=lines[0].get_color(), alpha=0.2)\n",
    "    plot_with_err(train_sizes, val_train, label='train')\n",
    "    plot_with_err(train_sizes, val_test, label='valid')\n",
    "    plt.xlabel(xlabel); plt.ylabel(ylabel)\n",
    "    plt.legend(loc='lower right');"
   ]
  },
  {
   "cell_type": "markdown",
   "metadata": {},
   "source": [
    "**Посчитайте доли правильных ответов на кросс-валидации в задаче классификации \"user128-vs-All\" в зависимости от размера выборки. Не помешает посмотреть встроенную документацию для *learning_curve*.**"
   ]
  },
  {
   "cell_type": "code",
   "execution_count": null,
   "metadata": {
    "collapsed": true
   },
   "outputs": [],
   "source": [
    "%%time\n",
    "train_sizes = np.linspace(0.25, 1, 20)\n",
    "estimator = svm_grid_searcher2.best_estimator_\n",
    "n_train, val_train, val_test = learning_curve ''' ВАШ КОД ЗДЕСЬ '''"
   ]
  },
  {
   "cell_type": "code",
   "execution_count": null,
   "metadata": {
    "collapsed": true
   },
   "outputs": [],
   "source": [
    "plot_learning_curve(val_train, val_test, n_train, \n",
    "                    xlabel='train_size', ylabel='accuracy')"
   ]
  },
  {
   "cell_type": "markdown",
   "metadata": {},
   "source": [
    "**Сделайте выводы о том, помогут ли алгоритму новые размеченные данные при той же постановке задачи.**"
   ]
  },
  {
   "cell_type": "markdown",
   "metadata": {},
   "source": [
    "## Пути улучшения\n",
    "В этом проекте свобода творчества на каждом шаге, а 7 неделя посвящена общему описанию проекта (`html`, `ipynb` или `pdf`) и взимному оцениванию. Что еще можно добавить по 4 части проекта:\n",
    "- конечно, можно проверить еще кучу алгоритмов, например, Xgboost, но в такой задаче очень маловероятно, что что-то справится лучше линейных методов\n",
    "- интересно проверить качество алгоритма на данных, где сессии выделялись не по количеству посещенных сайтов, а по времени, например, 5, 7, 10 и 15 минут. Отдельно стоит отметить данные нашего [соревнования](https://inclass.kaggle.com/c/identify-me-if-you-can4) \n",
    "- опять же, если ресурсы позволяют, можно проверить, насколько хорошо можно решить задачу для 3000 пользователей\n",
    "\n",
    "На следующей неделе мы вспомним про линейные модели, обучаемые стохастическим градиентным спуском, и порадуемся тому, насколько быстрее они работают. Также сделаем первые (или не первые) посылки в [соревновании](https://inclass.kaggle.com/c/identify-me-if-you-can4) Kaggle Inclass."
   ]
  }
 ],
 "metadata": {
  "anaconda-cloud": {},
  "kernelspec": {
   "display_name": "Python 3",
   "language": "python",
   "name": "python3"
  },
  "language_info": {
   "codemirror_mode": {
    "name": "ipython",
    "version": 3
   },
   "file_extension": ".py",
   "mimetype": "text/x-python",
   "name": "python",
   "nbconvert_exporter": "python",
   "pygments_lexer": "ipython3",
   "version": "3.6.1"
  }
 },
 "nbformat": 4,
 "nbformat_minor": 1
}
