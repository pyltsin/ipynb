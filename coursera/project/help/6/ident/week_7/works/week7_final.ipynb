{
 "cells": [
  {
   "cell_type": "markdown",
   "metadata": {},
   "source": [
    "<center>\n",
    "<img src=\"https://habrastorage.org/web/677/8e1/337/6778e1337c3d4b159d7e99df94227cb2.jpg\"/>\n",
    "## Специализация \"Машинное обучение и анализ данных\"\n",
    "</center>"
   ]
  },
  {
   "cell_type": "markdown",
   "metadata": {},
   "source": [
    "# <center> Capstone проект №1. Идентификация пользователей по посещенным веб-страницам\n",
    "<img src='http://i.istockimg.com/file_thumbview_approve/21546327/5/stock-illustration-21546327-identification-de-l-utilisateur.jpg'>\n",
    "\n",
    "# <center>Соревнование Kaggle \"Catch Me If You Can\"\n",
    "\n",
    "Будем решать задачу идентификации взломщика по его поведению в сети Интернет. \n",
    "\n",
    "Нужно проанализировать последовательность из нескольких веб-сайтов, посещенных подряд одним и тем же человеком, и определять, Элис это или взломщик (кто-то другой).\n",
    "\n",
    "Данные собраны с прокси-серверов Университета Блеза Паскаля. \"A Tool for Classification of Sequential Data\", авторы Giacomo Kahn, Yannick Loiseau и Olivier Raynaud."
   ]
  },
  {
   "cell_type": "code",
   "execution_count": 1,
   "metadata": {
    "collapsed": true
   },
   "outputs": [],
   "source": [
    "from __future__ import division\n",
    "# отключим всякие предупреждения Anaconda\n",
    "import warnings\n",
    "warnings.filterwarnings('ignore')\n",
    "import os\n",
    "import pickle\n",
    "import numpy as np\n",
    "import pandas as pd\n",
    "from scipy.sparse import csr_matrix\n",
    "from sklearn.linear_model import SGDClassifier, LogisticRegression, LogisticRegressionCV\n",
    "from sklearn.svm import LinearSVC\n",
    "from sklearn.metrics import roc_auc_score, accuracy_score\n",
    "from sklearn.model_selection import train_test_split, cross_val_score, StratifiedKFold, GridSearchCV\n",
    "from collections import Counter\n",
    "import datetime\n",
    "import seaborn as sns\n",
    "%matplotlib inline\n",
    "from matplotlib import pyplot as plt"
   ]
  },
  {
   "cell_type": "markdown",
   "metadata": {},
   "source": [
    "**Считаем данные [соревнования](https://inclass.kaggle.com/c/catch-me-if-you-can-intruder-detection-through-webpage-session-tracking2) в DataFrame train_df и test_df (обучающая и тестовая выборки).**"
   ]
  },
  {
   "cell_type": "code",
   "execution_count": 2,
   "metadata": {
    "collapsed": true
   },
   "outputs": [],
   "source": [
    "PATH_TO_DATA = '/Users/cross/Documents/coursera/Yandex_ML/course6/kaggle' "
   ]
  },
  {
   "cell_type": "code",
   "execution_count": 3,
   "metadata": {
    "collapsed": true
   },
   "outputs": [],
   "source": [
    "train_df = pd.read_csv(os.path.join(PATH_TO_DATA, 'train_sessions.csv'),\n",
    "                       index_col='session_id')\n",
    "test_df = pd.read_csv(os.path.join(PATH_TO_DATA, 'test_sessions.csv'),\n",
    "                      index_col='session_id')"
   ]
  },
  {
   "cell_type": "code",
   "execution_count": 4,
   "metadata": {},
   "outputs": [
    {
     "data": {
      "text/html": [
       "<div>\n",
       "<style>\n",
       "    .dataframe thead tr:only-child th {\n",
       "        text-align: right;\n",
       "    }\n",
       "\n",
       "    .dataframe thead th {\n",
       "        text-align: left;\n",
       "    }\n",
       "\n",
       "    .dataframe tbody tr th {\n",
       "        vertical-align: top;\n",
       "    }\n",
       "</style>\n",
       "<table border=\"1\" class=\"dataframe\">\n",
       "  <thead>\n",
       "    <tr style=\"text-align: right;\">\n",
       "      <th></th>\n",
       "      <th>site1</th>\n",
       "      <th>time1</th>\n",
       "      <th>site2</th>\n",
       "      <th>time2</th>\n",
       "      <th>site3</th>\n",
       "      <th>time3</th>\n",
       "      <th>site4</th>\n",
       "      <th>time4</th>\n",
       "      <th>site5</th>\n",
       "      <th>time5</th>\n",
       "      <th>...</th>\n",
       "      <th>time6</th>\n",
       "      <th>site7</th>\n",
       "      <th>time7</th>\n",
       "      <th>site8</th>\n",
       "      <th>time8</th>\n",
       "      <th>site9</th>\n",
       "      <th>time9</th>\n",
       "      <th>site10</th>\n",
       "      <th>time10</th>\n",
       "      <th>target</th>\n",
       "    </tr>\n",
       "    <tr>\n",
       "      <th>session_id</th>\n",
       "      <th></th>\n",
       "      <th></th>\n",
       "      <th></th>\n",
       "      <th></th>\n",
       "      <th></th>\n",
       "      <th></th>\n",
       "      <th></th>\n",
       "      <th></th>\n",
       "      <th></th>\n",
       "      <th></th>\n",
       "      <th></th>\n",
       "      <th></th>\n",
       "      <th></th>\n",
       "      <th></th>\n",
       "      <th></th>\n",
       "      <th></th>\n",
       "      <th></th>\n",
       "      <th></th>\n",
       "      <th></th>\n",
       "      <th></th>\n",
       "      <th></th>\n",
       "    </tr>\n",
       "  </thead>\n",
       "  <tbody>\n",
       "    <tr>\n",
       "      <th>1</th>\n",
       "      <td>718</td>\n",
       "      <td>2014-02-20 10:02:45</td>\n",
       "      <td>NaN</td>\n",
       "      <td>NaN</td>\n",
       "      <td>NaN</td>\n",
       "      <td>NaN</td>\n",
       "      <td>NaN</td>\n",
       "      <td>NaN</td>\n",
       "      <td>NaN</td>\n",
       "      <td>NaN</td>\n",
       "      <td>...</td>\n",
       "      <td>NaN</td>\n",
       "      <td>NaN</td>\n",
       "      <td>NaN</td>\n",
       "      <td>NaN</td>\n",
       "      <td>NaN</td>\n",
       "      <td>NaN</td>\n",
       "      <td>NaN</td>\n",
       "      <td>NaN</td>\n",
       "      <td>NaN</td>\n",
       "      <td>0</td>\n",
       "    </tr>\n",
       "    <tr>\n",
       "      <th>2</th>\n",
       "      <td>890</td>\n",
       "      <td>2014-02-22 11:19:50</td>\n",
       "      <td>941.0</td>\n",
       "      <td>2014-02-22 11:19:50</td>\n",
       "      <td>3847.0</td>\n",
       "      <td>2014-02-22 11:19:51</td>\n",
       "      <td>941.0</td>\n",
       "      <td>2014-02-22 11:19:51</td>\n",
       "      <td>942.0</td>\n",
       "      <td>2014-02-22 11:19:51</td>\n",
       "      <td>...</td>\n",
       "      <td>2014-02-22 11:19:51</td>\n",
       "      <td>3847.0</td>\n",
       "      <td>2014-02-22 11:19:52</td>\n",
       "      <td>3846.0</td>\n",
       "      <td>2014-02-22 11:19:52</td>\n",
       "      <td>1516.0</td>\n",
       "      <td>2014-02-22 11:20:15</td>\n",
       "      <td>1518.0</td>\n",
       "      <td>2014-02-22 11:20:16</td>\n",
       "      <td>0</td>\n",
       "    </tr>\n",
       "    <tr>\n",
       "      <th>3</th>\n",
       "      <td>14769</td>\n",
       "      <td>2013-12-16 16:40:17</td>\n",
       "      <td>39.0</td>\n",
       "      <td>2013-12-16 16:40:18</td>\n",
       "      <td>14768.0</td>\n",
       "      <td>2013-12-16 16:40:19</td>\n",
       "      <td>14769.0</td>\n",
       "      <td>2013-12-16 16:40:19</td>\n",
       "      <td>37.0</td>\n",
       "      <td>2013-12-16 16:40:19</td>\n",
       "      <td>...</td>\n",
       "      <td>2013-12-16 16:40:19</td>\n",
       "      <td>14768.0</td>\n",
       "      <td>2013-12-16 16:40:20</td>\n",
       "      <td>14768.0</td>\n",
       "      <td>2013-12-16 16:40:21</td>\n",
       "      <td>14768.0</td>\n",
       "      <td>2013-12-16 16:40:22</td>\n",
       "      <td>14768.0</td>\n",
       "      <td>2013-12-16 16:40:24</td>\n",
       "      <td>0</td>\n",
       "    </tr>\n",
       "    <tr>\n",
       "      <th>4</th>\n",
       "      <td>782</td>\n",
       "      <td>2014-03-28 10:52:12</td>\n",
       "      <td>782.0</td>\n",
       "      <td>2014-03-28 10:52:42</td>\n",
       "      <td>782.0</td>\n",
       "      <td>2014-03-28 10:53:12</td>\n",
       "      <td>782.0</td>\n",
       "      <td>2014-03-28 10:53:42</td>\n",
       "      <td>782.0</td>\n",
       "      <td>2014-03-28 10:54:12</td>\n",
       "      <td>...</td>\n",
       "      <td>2014-03-28 10:54:42</td>\n",
       "      <td>782.0</td>\n",
       "      <td>2014-03-28 10:55:12</td>\n",
       "      <td>782.0</td>\n",
       "      <td>2014-03-28 10:55:42</td>\n",
       "      <td>782.0</td>\n",
       "      <td>2014-03-28 10:56:12</td>\n",
       "      <td>782.0</td>\n",
       "      <td>2014-03-28 10:56:42</td>\n",
       "      <td>0</td>\n",
       "    </tr>\n",
       "    <tr>\n",
       "      <th>5</th>\n",
       "      <td>22</td>\n",
       "      <td>2014-02-28 10:53:05</td>\n",
       "      <td>177.0</td>\n",
       "      <td>2014-02-28 10:55:22</td>\n",
       "      <td>175.0</td>\n",
       "      <td>2014-02-28 10:55:22</td>\n",
       "      <td>178.0</td>\n",
       "      <td>2014-02-28 10:55:23</td>\n",
       "      <td>177.0</td>\n",
       "      <td>2014-02-28 10:55:23</td>\n",
       "      <td>...</td>\n",
       "      <td>2014-02-28 10:55:59</td>\n",
       "      <td>175.0</td>\n",
       "      <td>2014-02-28 10:55:59</td>\n",
       "      <td>177.0</td>\n",
       "      <td>2014-02-28 10:55:59</td>\n",
       "      <td>177.0</td>\n",
       "      <td>2014-02-28 10:57:06</td>\n",
       "      <td>178.0</td>\n",
       "      <td>2014-02-28 10:57:11</td>\n",
       "      <td>0</td>\n",
       "    </tr>\n",
       "  </tbody>\n",
       "</table>\n",
       "<p>5 rows × 21 columns</p>\n",
       "</div>"
      ],
      "text/plain": [
       "            site1                time1  site2                time2    site3  \\\n",
       "session_id                                                                    \n",
       "1             718  2014-02-20 10:02:45    NaN                  NaN      NaN   \n",
       "2             890  2014-02-22 11:19:50  941.0  2014-02-22 11:19:50   3847.0   \n",
       "3           14769  2013-12-16 16:40:17   39.0  2013-12-16 16:40:18  14768.0   \n",
       "4             782  2014-03-28 10:52:12  782.0  2014-03-28 10:52:42    782.0   \n",
       "5              22  2014-02-28 10:53:05  177.0  2014-02-28 10:55:22    175.0   \n",
       "\n",
       "                          time3    site4                time4  site5  \\\n",
       "session_id                                                             \n",
       "1                           NaN      NaN                  NaN    NaN   \n",
       "2           2014-02-22 11:19:51    941.0  2014-02-22 11:19:51  942.0   \n",
       "3           2013-12-16 16:40:19  14769.0  2013-12-16 16:40:19   37.0   \n",
       "4           2014-03-28 10:53:12    782.0  2014-03-28 10:53:42  782.0   \n",
       "5           2014-02-28 10:55:22    178.0  2014-02-28 10:55:23  177.0   \n",
       "\n",
       "                          time5  ...                  time6    site7  \\\n",
       "session_id                       ...                                   \n",
       "1                           NaN  ...                    NaN      NaN   \n",
       "2           2014-02-22 11:19:51  ...    2014-02-22 11:19:51   3847.0   \n",
       "3           2013-12-16 16:40:19  ...    2013-12-16 16:40:19  14768.0   \n",
       "4           2014-03-28 10:54:12  ...    2014-03-28 10:54:42    782.0   \n",
       "5           2014-02-28 10:55:23  ...    2014-02-28 10:55:59    175.0   \n",
       "\n",
       "                          time7    site8                time8    site9  \\\n",
       "session_id                                                               \n",
       "1                           NaN      NaN                  NaN      NaN   \n",
       "2           2014-02-22 11:19:52   3846.0  2014-02-22 11:19:52   1516.0   \n",
       "3           2013-12-16 16:40:20  14768.0  2013-12-16 16:40:21  14768.0   \n",
       "4           2014-03-28 10:55:12    782.0  2014-03-28 10:55:42    782.0   \n",
       "5           2014-02-28 10:55:59    177.0  2014-02-28 10:55:59    177.0   \n",
       "\n",
       "                          time9   site10               time10 target  \n",
       "session_id                                                            \n",
       "1                           NaN      NaN                  NaN      0  \n",
       "2           2014-02-22 11:20:15   1518.0  2014-02-22 11:20:16      0  \n",
       "3           2013-12-16 16:40:22  14768.0  2013-12-16 16:40:24      0  \n",
       "4           2014-03-28 10:56:12    782.0  2014-03-28 10:56:42      0  \n",
       "5           2014-02-28 10:57:06    178.0  2014-02-28 10:57:11      0  \n",
       "\n",
       "[5 rows x 21 columns]"
      ]
     },
     "execution_count": 4,
     "metadata": {},
     "output_type": "execute_result"
    }
   ],
   "source": [
    "train_df.head()"
   ]
  },
  {
   "cell_type": "code",
   "execution_count": 5,
   "metadata": {},
   "outputs": [
    {
     "data": {
      "text/html": [
       "<div>\n",
       "<style>\n",
       "    .dataframe thead tr:only-child th {\n",
       "        text-align: right;\n",
       "    }\n",
       "\n",
       "    .dataframe thead th {\n",
       "        text-align: left;\n",
       "    }\n",
       "\n",
       "    .dataframe tbody tr th {\n",
       "        vertical-align: top;\n",
       "    }\n",
       "</style>\n",
       "<table border=\"1\" class=\"dataframe\">\n",
       "  <thead>\n",
       "    <tr style=\"text-align: right;\">\n",
       "      <th></th>\n",
       "      <th>site1</th>\n",
       "      <th>time1</th>\n",
       "      <th>site2</th>\n",
       "      <th>time2</th>\n",
       "      <th>site3</th>\n",
       "      <th>time3</th>\n",
       "      <th>site4</th>\n",
       "      <th>time4</th>\n",
       "      <th>site5</th>\n",
       "      <th>time5</th>\n",
       "      <th>site6</th>\n",
       "      <th>time6</th>\n",
       "      <th>site7</th>\n",
       "      <th>time7</th>\n",
       "      <th>site8</th>\n",
       "      <th>time8</th>\n",
       "      <th>site9</th>\n",
       "      <th>time9</th>\n",
       "      <th>site10</th>\n",
       "      <th>time10</th>\n",
       "    </tr>\n",
       "    <tr>\n",
       "      <th>session_id</th>\n",
       "      <th></th>\n",
       "      <th></th>\n",
       "      <th></th>\n",
       "      <th></th>\n",
       "      <th></th>\n",
       "      <th></th>\n",
       "      <th></th>\n",
       "      <th></th>\n",
       "      <th></th>\n",
       "      <th></th>\n",
       "      <th></th>\n",
       "      <th></th>\n",
       "      <th></th>\n",
       "      <th></th>\n",
       "      <th></th>\n",
       "      <th></th>\n",
       "      <th></th>\n",
       "      <th></th>\n",
       "      <th></th>\n",
       "      <th></th>\n",
       "    </tr>\n",
       "  </thead>\n",
       "  <tbody>\n",
       "    <tr>\n",
       "      <th>1</th>\n",
       "      <td>29</td>\n",
       "      <td>2014-10-04 11:19:53</td>\n",
       "      <td>35.0</td>\n",
       "      <td>2014-10-04 11:19:53</td>\n",
       "      <td>22.0</td>\n",
       "      <td>2014-10-04 11:19:54</td>\n",
       "      <td>321.0</td>\n",
       "      <td>2014-10-04 11:19:54</td>\n",
       "      <td>23.0</td>\n",
       "      <td>2014-10-04 11:19:54</td>\n",
       "      <td>2211.0</td>\n",
       "      <td>2014-10-04 11:19:54</td>\n",
       "      <td>6730.0</td>\n",
       "      <td>2014-10-04 11:19:54</td>\n",
       "      <td>21.0</td>\n",
       "      <td>2014-10-04 11:19:54</td>\n",
       "      <td>44582.0</td>\n",
       "      <td>2014-10-04 11:20:00</td>\n",
       "      <td>15336.0</td>\n",
       "      <td>2014-10-04 11:20:00</td>\n",
       "    </tr>\n",
       "    <tr>\n",
       "      <th>2</th>\n",
       "      <td>782</td>\n",
       "      <td>2014-07-03 11:00:28</td>\n",
       "      <td>782.0</td>\n",
       "      <td>2014-07-03 11:00:53</td>\n",
       "      <td>782.0</td>\n",
       "      <td>2014-07-03 11:00:58</td>\n",
       "      <td>782.0</td>\n",
       "      <td>2014-07-03 11:01:06</td>\n",
       "      <td>782.0</td>\n",
       "      <td>2014-07-03 11:01:09</td>\n",
       "      <td>782.0</td>\n",
       "      <td>2014-07-03 11:01:10</td>\n",
       "      <td>782.0</td>\n",
       "      <td>2014-07-03 11:01:23</td>\n",
       "      <td>782.0</td>\n",
       "      <td>2014-07-03 11:01:29</td>\n",
       "      <td>782.0</td>\n",
       "      <td>2014-07-03 11:01:30</td>\n",
       "      <td>782.0</td>\n",
       "      <td>2014-07-03 11:01:53</td>\n",
       "    </tr>\n",
       "    <tr>\n",
       "      <th>3</th>\n",
       "      <td>55</td>\n",
       "      <td>2014-12-05 15:55:12</td>\n",
       "      <td>55.0</td>\n",
       "      <td>2014-12-05 15:55:13</td>\n",
       "      <td>55.0</td>\n",
       "      <td>2014-12-05 15:55:14</td>\n",
       "      <td>55.0</td>\n",
       "      <td>2014-12-05 15:56:15</td>\n",
       "      <td>55.0</td>\n",
       "      <td>2014-12-05 15:56:16</td>\n",
       "      <td>55.0</td>\n",
       "      <td>2014-12-05 15:56:17</td>\n",
       "      <td>55.0</td>\n",
       "      <td>2014-12-05 15:56:18</td>\n",
       "      <td>55.0</td>\n",
       "      <td>2014-12-05 15:56:19</td>\n",
       "      <td>1445.0</td>\n",
       "      <td>2014-12-05 15:56:33</td>\n",
       "      <td>1445.0</td>\n",
       "      <td>2014-12-05 15:56:36</td>\n",
       "    </tr>\n",
       "    <tr>\n",
       "      <th>4</th>\n",
       "      <td>1023</td>\n",
       "      <td>2014-11-04 10:03:19</td>\n",
       "      <td>1022.0</td>\n",
       "      <td>2014-11-04 10:03:19</td>\n",
       "      <td>50.0</td>\n",
       "      <td>2014-11-04 10:03:20</td>\n",
       "      <td>222.0</td>\n",
       "      <td>2014-11-04 10:03:21</td>\n",
       "      <td>202.0</td>\n",
       "      <td>2014-11-04 10:03:21</td>\n",
       "      <td>3374.0</td>\n",
       "      <td>2014-11-04 10:03:22</td>\n",
       "      <td>50.0</td>\n",
       "      <td>2014-11-04 10:03:22</td>\n",
       "      <td>48.0</td>\n",
       "      <td>2014-11-04 10:03:22</td>\n",
       "      <td>48.0</td>\n",
       "      <td>2014-11-04 10:03:23</td>\n",
       "      <td>3374.0</td>\n",
       "      <td>2014-11-04 10:03:23</td>\n",
       "    </tr>\n",
       "    <tr>\n",
       "      <th>5</th>\n",
       "      <td>301</td>\n",
       "      <td>2014-05-16 15:05:31</td>\n",
       "      <td>301.0</td>\n",
       "      <td>2014-05-16 15:05:32</td>\n",
       "      <td>301.0</td>\n",
       "      <td>2014-05-16 15:05:33</td>\n",
       "      <td>66.0</td>\n",
       "      <td>2014-05-16 15:05:39</td>\n",
       "      <td>67.0</td>\n",
       "      <td>2014-05-16 15:05:40</td>\n",
       "      <td>69.0</td>\n",
       "      <td>2014-05-16 15:05:40</td>\n",
       "      <td>70.0</td>\n",
       "      <td>2014-05-16 15:05:40</td>\n",
       "      <td>68.0</td>\n",
       "      <td>2014-05-16 15:05:40</td>\n",
       "      <td>71.0</td>\n",
       "      <td>2014-05-16 15:05:40</td>\n",
       "      <td>167.0</td>\n",
       "      <td>2014-05-16 15:05:44</td>\n",
       "    </tr>\n",
       "  </tbody>\n",
       "</table>\n",
       "</div>"
      ],
      "text/plain": [
       "            site1                time1   site2                time2  site3  \\\n",
       "session_id                                                                   \n",
       "1              29  2014-10-04 11:19:53    35.0  2014-10-04 11:19:53   22.0   \n",
       "2             782  2014-07-03 11:00:28   782.0  2014-07-03 11:00:53  782.0   \n",
       "3              55  2014-12-05 15:55:12    55.0  2014-12-05 15:55:13   55.0   \n",
       "4            1023  2014-11-04 10:03:19  1022.0  2014-11-04 10:03:19   50.0   \n",
       "5             301  2014-05-16 15:05:31   301.0  2014-05-16 15:05:32  301.0   \n",
       "\n",
       "                          time3  site4                time4  site5  \\\n",
       "session_id                                                           \n",
       "1           2014-10-04 11:19:54  321.0  2014-10-04 11:19:54   23.0   \n",
       "2           2014-07-03 11:00:58  782.0  2014-07-03 11:01:06  782.0   \n",
       "3           2014-12-05 15:55:14   55.0  2014-12-05 15:56:15   55.0   \n",
       "4           2014-11-04 10:03:20  222.0  2014-11-04 10:03:21  202.0   \n",
       "5           2014-05-16 15:05:33   66.0  2014-05-16 15:05:39   67.0   \n",
       "\n",
       "                          time5   site6                time6   site7  \\\n",
       "session_id                                                             \n",
       "1           2014-10-04 11:19:54  2211.0  2014-10-04 11:19:54  6730.0   \n",
       "2           2014-07-03 11:01:09   782.0  2014-07-03 11:01:10   782.0   \n",
       "3           2014-12-05 15:56:16    55.0  2014-12-05 15:56:17    55.0   \n",
       "4           2014-11-04 10:03:21  3374.0  2014-11-04 10:03:22    50.0   \n",
       "5           2014-05-16 15:05:40    69.0  2014-05-16 15:05:40    70.0   \n",
       "\n",
       "                          time7  site8                time8    site9  \\\n",
       "session_id                                                             \n",
       "1           2014-10-04 11:19:54   21.0  2014-10-04 11:19:54  44582.0   \n",
       "2           2014-07-03 11:01:23  782.0  2014-07-03 11:01:29    782.0   \n",
       "3           2014-12-05 15:56:18   55.0  2014-12-05 15:56:19   1445.0   \n",
       "4           2014-11-04 10:03:22   48.0  2014-11-04 10:03:22     48.0   \n",
       "5           2014-05-16 15:05:40   68.0  2014-05-16 15:05:40     71.0   \n",
       "\n",
       "                          time9   site10               time10  \n",
       "session_id                                                     \n",
       "1           2014-10-04 11:20:00  15336.0  2014-10-04 11:20:00  \n",
       "2           2014-07-03 11:01:30    782.0  2014-07-03 11:01:53  \n",
       "3           2014-12-05 15:56:33   1445.0  2014-12-05 15:56:36  \n",
       "4           2014-11-04 10:03:23   3374.0  2014-11-04 10:03:23  \n",
       "5           2014-05-16 15:05:40    167.0  2014-05-16 15:05:44  "
      ]
     },
     "execution_count": 5,
     "metadata": {},
     "output_type": "execute_result"
    }
   ],
   "source": [
    "test_df.head()"
   ]
  },
  {
   "cell_type": "markdown",
   "metadata": {},
   "source": [
    "**Объединим обучающую и тестовую выборки – это понадобится, чтоб вместе потом привести их к разреженному формату.**"
   ]
  },
  {
   "cell_type": "code",
   "execution_count": 6,
   "metadata": {
    "collapsed": true
   },
   "outputs": [],
   "source": [
    "train_test_df = pd.concat([train_df, test_df])"
   ]
  },
  {
   "cell_type": "markdown",
   "metadata": {},
   "source": [
    "В обучающей выборке видим следующие признаки:\n",
    "    - site1 – индекс первого посещенного сайта в сессии\n",
    "    - time1 – время посещения первого сайта в сессии\n",
    "    - ...\n",
    "    - site10 – индекс 10-го посещенного сайта в сессии\n",
    "    - time10 – время посещения 10-го сайта в сессии\n",
    "    - user_id – ID пользователя\n",
    "    \n",
    "По условиям соревнования сессии пользователей выделены таким образом, что они не могут быть длинее получаса или 10 сайтов. То есть сессия считается оконченной либо когда пользователь посетил 10 сайтов подряд, либо когда сессия заняла по времени более 30 минут. Это немного ограничивает наши возможности, т.к. более длинные сессия по количеству сайтов могуть дать нам лучшие результаты."
   ]
  },
  {
   "cell_type": "markdown",
   "metadata": {},
   "source": [
    "**Посмотрим на статистику признаков.**\n",
    "\n",
    "Пропуски возникают там, где сессии короткие (менее 10 сайтов). Скажем, если человек 1 января 2015 года посетил *vk.com* в 20:01, потом *yandex.ru* в 20:29, затем *google.com* в 20:33, то первая его сессия будет состоять только из двух сайтов (site1 – ID сайта *vk.com*, time1 – 2015-01-01 20:01:00, site2 – ID сайта  *yandex.ru*, time2 – 2015-01-01 20:29:00, остальные признаки – NaN), а начиная с *google.com* пойдет новая сессия, потому что уже прошло более 30 минут с момента посещения *vk.com*."
   ]
  },
  {
   "cell_type": "code",
   "execution_count": 7,
   "metadata": {},
   "outputs": [
    {
     "name": "stdout",
     "output_type": "stream",
     "text": [
      "<class 'pandas.core.frame.DataFrame'>\n",
      "Int64Index: 253561 entries, 1 to 253561\n",
      "Data columns (total 21 columns):\n",
      "site1     253561 non-null int64\n",
      "time1     253561 non-null object\n",
      "site2     250098 non-null float64\n",
      "time2     250098 non-null object\n",
      "site3     246919 non-null float64\n",
      "time3     246919 non-null object\n",
      "site4     244321 non-null float64\n",
      "time4     244321 non-null object\n",
      "site5     241829 non-null float64\n",
      "time5     241829 non-null object\n",
      "site6     239495 non-null float64\n",
      "time6     239495 non-null object\n",
      "site7     237297 non-null float64\n",
      "time7     237297 non-null object\n",
      "site8     235224 non-null float64\n",
      "time8     235224 non-null object\n",
      "site9     233084 non-null float64\n",
      "time9     233084 non-null object\n",
      "site10    231052 non-null float64\n",
      "time10    231052 non-null object\n",
      "target    253561 non-null int64\n",
      "dtypes: float64(9), int64(2), object(10)\n",
      "memory usage: 42.6+ MB\n"
     ]
    }
   ],
   "source": [
    "train_df.info()"
   ]
  },
  {
   "cell_type": "code",
   "execution_count": 8,
   "metadata": {},
   "outputs": [
    {
     "name": "stdout",
     "output_type": "stream",
     "text": [
      "<class 'pandas.core.frame.DataFrame'>\n",
      "Int64Index: 82797 entries, 1 to 82797\n",
      "Data columns (total 20 columns):\n",
      "site1     82797 non-null int64\n",
      "time1     82797 non-null object\n",
      "site2     81308 non-null float64\n",
      "time2     81308 non-null object\n",
      "site3     80075 non-null float64\n",
      "time3     80075 non-null object\n",
      "site4     79182 non-null float64\n",
      "time4     79182 non-null object\n",
      "site5     78341 non-null float64\n",
      "time5     78341 non-null object\n",
      "site6     77566 non-null float64\n",
      "time6     77566 non-null object\n",
      "site7     76840 non-null float64\n",
      "time7     76840 non-null object\n",
      "site8     76151 non-null float64\n",
      "time8     76151 non-null object\n",
      "site9     75484 non-null float64\n",
      "time9     75484 non-null object\n",
      "site10    74806 non-null float64\n",
      "time10    74806 non-null object\n",
      "dtypes: float64(9), int64(1), object(10)\n",
      "memory usage: 13.3+ MB\n"
     ]
    }
   ],
   "source": [
    "test_df.info()"
   ]
  },
  {
   "cell_type": "code",
   "execution_count": 9,
   "metadata": {},
   "outputs": [
    {
     "data": {
      "text/plain": [
       "0    251264\n",
       "1      2297\n",
       "Name: target, dtype: int64"
      ]
     },
     "execution_count": 9,
     "metadata": {},
     "output_type": "execute_result"
    }
   ],
   "source": [
    "train_df['target'].value_counts()"
   ]
  },
  {
   "cell_type": "markdown",
   "metadata": {},
   "source": [
    "\n",
    "**В обучающей выборке – 2297 сессий одного пользователя (Alice) и 251264 сессий – других пользователей, не Элис. Дисбаланс классов очень сильный, при разбиении обязательно нужно будет стратифицировать выборки. **"
   ]
  },
  {
   "cell_type": "markdown",
   "metadata": {},
   "source": [
    "** Индексы сайтов нумеровались с 1, так что можно заменить пропуски на нули.**"
   ]
  },
  {
   "cell_type": "code",
   "execution_count": 10,
   "metadata": {
    "collapsed": true
   },
   "outputs": [],
   "source": [
    "train_test_df_sites = train_test_df[['site%d' % i for i in range(1, 11)]].fillna(0).astype('int')"
   ]
  },
  {
   "cell_type": "code",
   "execution_count": 11,
   "metadata": {},
   "outputs": [
    {
     "data": {
      "text/html": [
       "<div>\n",
       "<style>\n",
       "    .dataframe thead tr:only-child th {\n",
       "        text-align: right;\n",
       "    }\n",
       "\n",
       "    .dataframe thead th {\n",
       "        text-align: left;\n",
       "    }\n",
       "\n",
       "    .dataframe tbody tr th {\n",
       "        vertical-align: top;\n",
       "    }\n",
       "</style>\n",
       "<table border=\"1\" class=\"dataframe\">\n",
       "  <thead>\n",
       "    <tr style=\"text-align: right;\">\n",
       "      <th></th>\n",
       "      <th>site1</th>\n",
       "      <th>site2</th>\n",
       "      <th>site3</th>\n",
       "      <th>site4</th>\n",
       "      <th>site5</th>\n",
       "      <th>site6</th>\n",
       "      <th>site7</th>\n",
       "      <th>site8</th>\n",
       "      <th>site9</th>\n",
       "      <th>site10</th>\n",
       "    </tr>\n",
       "    <tr>\n",
       "      <th>session_id</th>\n",
       "      <th></th>\n",
       "      <th></th>\n",
       "      <th></th>\n",
       "      <th></th>\n",
       "      <th></th>\n",
       "      <th></th>\n",
       "      <th></th>\n",
       "      <th></th>\n",
       "      <th></th>\n",
       "      <th></th>\n",
       "    </tr>\n",
       "  </thead>\n",
       "  <tbody>\n",
       "    <tr>\n",
       "      <th>1</th>\n",
       "      <td>718</td>\n",
       "      <td>0</td>\n",
       "      <td>0</td>\n",
       "      <td>0</td>\n",
       "      <td>0</td>\n",
       "      <td>0</td>\n",
       "      <td>0</td>\n",
       "      <td>0</td>\n",
       "      <td>0</td>\n",
       "      <td>0</td>\n",
       "    </tr>\n",
       "    <tr>\n",
       "      <th>2</th>\n",
       "      <td>890</td>\n",
       "      <td>941</td>\n",
       "      <td>3847</td>\n",
       "      <td>941</td>\n",
       "      <td>942</td>\n",
       "      <td>3846</td>\n",
       "      <td>3847</td>\n",
       "      <td>3846</td>\n",
       "      <td>1516</td>\n",
       "      <td>1518</td>\n",
       "    </tr>\n",
       "    <tr>\n",
       "      <th>3</th>\n",
       "      <td>14769</td>\n",
       "      <td>39</td>\n",
       "      <td>14768</td>\n",
       "      <td>14769</td>\n",
       "      <td>37</td>\n",
       "      <td>39</td>\n",
       "      <td>14768</td>\n",
       "      <td>14768</td>\n",
       "      <td>14768</td>\n",
       "      <td>14768</td>\n",
       "    </tr>\n",
       "    <tr>\n",
       "      <th>4</th>\n",
       "      <td>782</td>\n",
       "      <td>782</td>\n",
       "      <td>782</td>\n",
       "      <td>782</td>\n",
       "      <td>782</td>\n",
       "      <td>782</td>\n",
       "      <td>782</td>\n",
       "      <td>782</td>\n",
       "      <td>782</td>\n",
       "      <td>782</td>\n",
       "    </tr>\n",
       "    <tr>\n",
       "      <th>5</th>\n",
       "      <td>22</td>\n",
       "      <td>177</td>\n",
       "      <td>175</td>\n",
       "      <td>178</td>\n",
       "      <td>177</td>\n",
       "      <td>178</td>\n",
       "      <td>175</td>\n",
       "      <td>177</td>\n",
       "      <td>177</td>\n",
       "      <td>178</td>\n",
       "    </tr>\n",
       "    <tr>\n",
       "      <th>6</th>\n",
       "      <td>570</td>\n",
       "      <td>21</td>\n",
       "      <td>570</td>\n",
       "      <td>21</td>\n",
       "      <td>21</td>\n",
       "      <td>0</td>\n",
       "      <td>0</td>\n",
       "      <td>0</td>\n",
       "      <td>0</td>\n",
       "      <td>0</td>\n",
       "    </tr>\n",
       "    <tr>\n",
       "      <th>7</th>\n",
       "      <td>803</td>\n",
       "      <td>23</td>\n",
       "      <td>5956</td>\n",
       "      <td>17513</td>\n",
       "      <td>37</td>\n",
       "      <td>21</td>\n",
       "      <td>803</td>\n",
       "      <td>17514</td>\n",
       "      <td>17514</td>\n",
       "      <td>17514</td>\n",
       "    </tr>\n",
       "    <tr>\n",
       "      <th>8</th>\n",
       "      <td>22</td>\n",
       "      <td>21</td>\n",
       "      <td>29</td>\n",
       "      <td>5041</td>\n",
       "      <td>14422</td>\n",
       "      <td>23</td>\n",
       "      <td>21</td>\n",
       "      <td>5041</td>\n",
       "      <td>14421</td>\n",
       "      <td>14421</td>\n",
       "    </tr>\n",
       "    <tr>\n",
       "      <th>9</th>\n",
       "      <td>668</td>\n",
       "      <td>940</td>\n",
       "      <td>942</td>\n",
       "      <td>941</td>\n",
       "      <td>941</td>\n",
       "      <td>942</td>\n",
       "      <td>940</td>\n",
       "      <td>23</td>\n",
       "      <td>21</td>\n",
       "      <td>22</td>\n",
       "    </tr>\n",
       "    <tr>\n",
       "      <th>10</th>\n",
       "      <td>3700</td>\n",
       "      <td>229</td>\n",
       "      <td>570</td>\n",
       "      <td>21</td>\n",
       "      <td>229</td>\n",
       "      <td>21</td>\n",
       "      <td>21</td>\n",
       "      <td>21</td>\n",
       "      <td>2336</td>\n",
       "      <td>2044</td>\n",
       "    </tr>\n",
       "  </tbody>\n",
       "</table>\n",
       "</div>"
      ],
      "text/plain": [
       "            site1  site2  site3  site4  site5  site6  site7  site8  site9  \\\n",
       "session_id                                                                  \n",
       "1             718      0      0      0      0      0      0      0      0   \n",
       "2             890    941   3847    941    942   3846   3847   3846   1516   \n",
       "3           14769     39  14768  14769     37     39  14768  14768  14768   \n",
       "4             782    782    782    782    782    782    782    782    782   \n",
       "5              22    177    175    178    177    178    175    177    177   \n",
       "6             570     21    570     21     21      0      0      0      0   \n",
       "7             803     23   5956  17513     37     21    803  17514  17514   \n",
       "8              22     21     29   5041  14422     23     21   5041  14421   \n",
       "9             668    940    942    941    941    942    940     23     21   \n",
       "10           3700    229    570     21    229     21     21     21   2336   \n",
       "\n",
       "            site10  \n",
       "session_id          \n",
       "1                0  \n",
       "2             1518  \n",
       "3            14768  \n",
       "4              782  \n",
       "5              178  \n",
       "6                0  \n",
       "7            17514  \n",
       "8            14421  \n",
       "9               22  \n",
       "10            2044  "
      ]
     },
     "execution_count": 11,
     "metadata": {},
     "output_type": "execute_result"
    }
   ],
   "source": [
    "train_test_df_sites.head(10)"
   ]
  },
  {
   "cell_type": "markdown",
   "metadata": {},
   "source": [
    "** Посмотрим на корреляцию признаков \"siteN\" и id пользователя **"
   ]
  },
  {
   "cell_type": "code",
   "execution_count": 12,
   "metadata": {},
   "outputs": [
    {
     "data": {
      "image/png": "[encoded data removed]",
      "text/plain": [
       "<matplotlib.figure.Figure at 0x10ad01190>"
      ]
     },
     "metadata": {},
     "output_type": "display_data"
    }
   ],
   "source": [
    "plt.figure(figsize=(12, 12))\n",
    "sns.heatmap(train_test_df[['site%d' % i for i in range(1, 11)]].corr())\n",
    "plt.show()"
   ]
  },
  {
   "cell_type": "markdown",
   "metadata": {},
   "source": [
    "** Как видим некоторая корреляция присутствует. Можно попробовать создать первые модели**"
   ]
  },
  {
   "cell_type": "markdown",
   "metadata": {},
   "source": [
    "**Для построение моделей создадим разреженные матрицы *X_train_sparse* и *X_test_sparse* **\n",
    "\n",
    "В  сессиях меньше 10 сайтов  у нас остались нули, так что первый признак (сколько раз попался 0) по смыслу отличен от остальных (сколько раз попался сайт с индексом $i$). Поэтому первый столбец разреженной матрицы надо будет удалить."
   ]
  },
  {
   "cell_type": "code",
   "execution_count": 13,
   "metadata": {
    "collapsed": true
   },
   "outputs": [],
   "source": [
    "def create_csr_matrix(data):\n",
    "    indexes = [0]\n",
    "    vals = []\n",
    "    column_indexes = []\n",
    "    index = 0\n",
    "    for i in range(0,data.shape[0]):\n",
    "        for j in range(0, data.shape[1]):\n",
    "            if data[i,j] != 0:\n",
    "                column_indexes.append(data[i,j])\n",
    "                vals.append(1)\n",
    "                index+=1\n",
    "        indexes.append(index)\n",
    "    return csr_matrix((vals, column_indexes, indexes))[:,1:]\n",
    "\n",
    "train_test_sparse = create_csr_matrix(train_test_df_sites.as_matrix())\n",
    "X_train_sparse = train_test_sparse[:253561]\n",
    "X_test_sparse = train_test_sparse[253561:]\n",
    "y = train_df['target'].as_matrix()"
   ]
  },
  {
   "cell_type": "markdown",
   "metadata": {},
   "source": [
    "**Разобьем обучающую выборку на 2 части в пропорции 7/3, причем не перемешивая. Исходные данные упорядочены по времени, тестовая выборка по времени четко отделена от обучающей, это же соблюдем и здесь.**"
   ]
  },
  {
   "cell_type": "code",
   "execution_count": 14,
   "metadata": {
    "collapsed": true
   },
   "outputs": [],
   "source": [
    "train_share = int(.7 * X_train_sparse.shape[0])\n",
    "X_train, y_train = X_train_sparse[:train_share, :], y[:train_share]\n",
    "X_valid, y_valid  = X_train_sparse[train_share:, :], y[train_share:]"
   ]
  },
  {
   "cell_type": "markdown",
   "metadata": {},
   "source": [
    "** Создадим класс StratifiedKFold c 3 фолдами который будем использовать для сравнения моделей по кросс-валидации **"
   ]
  },
  {
   "cell_type": "code",
   "execution_count": 15,
   "metadata": {
    "collapsed": true
   },
   "outputs": [],
   "source": [
    "skf = StratifiedKFold(n_splits=3, shuffle=True, random_state=17)"
   ]
  },
  {
   "cell_type": "markdown",
   "metadata": {
    "collapsed": true
   },
   "source": [
    "**Начнем с `sklearn.linear_model.SGDClassifier` с логистической функцией потерь. Один из наиболее быстрых способов.**"
   ]
  },
  {
   "cell_type": "code",
   "execution_count": 16,
   "metadata": {},
   "outputs": [
    {
     "name": "stdout",
     "output_type": "stream",
     "text": [
      "CPU times: user 267 ms, sys: 4.21 ms, total: 271 ms\n",
      "Wall time: 270 ms\n"
     ]
    }
   ],
   "source": [
    "%%time\n",
    "sgd_logit = SGDClassifier(random_state=17, n_jobs=-1, loss='log')\n",
    "sgd_logit.fit(X_train, y_train)"
   ]
  },
  {
   "cell_type": "markdown",
   "metadata": {},
   "source": [
    "** Сделаем прогноз в виде предсказанных вероятностей того, что это сессия Элис, на отложенной выборке *(X_valid, y_valid)*. Посмотрим на ROC_AUC логистической регрессии и cross_val_score, обученной с помощью стохастического градиентного спуска, на отложенной выборке.**"
   ]
  },
  {
   "cell_type": "code",
   "execution_count": 17,
   "metadata": {},
   "outputs": [
    {
     "name": "stdout",
     "output_type": "stream",
     "text": [
      "Roc_auc score for SGDClasifier is : 0.933847823591\n",
      "Cross val score for SGDClassifier: [ 0.93837926  0.93370595  0.9386594 ]\n"
     ]
    }
   ],
   "source": [
    "logit_valid_pred_proba = sgd_logit.predict_proba(X_valid)\n",
    "print \"Roc_auc score for SGDClasifier is :\", roc_auc_score(y_valid, logit_valid_pred_proba[:,1])\n",
    "print \"Cross val score for SGDClassifier:\", cross_val_score(sgd_logit, X_train_sparse,\n",
    "                                                                                  y, n_jobs=-1, scoring='roc_auc', cv=skf)\n",
    "\n"
   ]
  },
  {
   "cell_type": "markdown",
   "metadata": {},
   "source": [
    "**Также сделаем прогноз в виде предсказанных вероятностей отнесения к классу 1 для тестовой выборки с помощью той же *sgd_logit*, обученной уже на всей обучающей выборке.**"
   ]
  },
  {
   "cell_type": "code",
   "execution_count": 18,
   "metadata": {},
   "outputs": [
    {
     "name": "stdout",
     "output_type": "stream",
     "text": [
      "CPU times: user 437 ms, sys: 17.7 ms, total: 455 ms\n",
      "Wall time: 453 ms\n"
     ]
    }
   ],
   "source": [
    "%%time\n",
    "sgd_logit = SGDClassifier(random_state=17, n_jobs=-1, loss='log').fit(X_train_sparse, y)\n",
    "logit_test_pred_proba = sgd_logit.predict_proba(X_test_sparse)"
   ]
  },
  {
   "cell_type": "markdown",
   "metadata": {},
   "source": [
    "**Запишим ответы в файл и сделаем посылку на Kaggle. **"
   ]
  },
  {
   "cell_type": "code",
   "execution_count": 19,
   "metadata": {
    "collapsed": true
   },
   "outputs": [],
   "source": [
    "def write_to_submission_file(predicted_labels, out_file,\n",
    "                             target='target', index_label=\"session_id\"):\n",
    "    # turn predictions into data frame and save as csv file\n",
    "    predicted_df = pd.DataFrame(predicted_labels,\n",
    "                                index = np.arange(1, predicted_labels.shape[0] + 1),\n",
    "                                columns=[target])\n",
    "    predicted_df.to_csv(out_file, index_label=index_label)"
   ]
  },
  {
   "cell_type": "code",
   "execution_count": 20,
   "metadata": {
    "collapsed": true
   },
   "outputs": [],
   "source": [
    "write_to_submission_file(logit_test_pred_proba[:,1], os.path.join(PATH_TO_DATA, 'kaggle_submission.csv'))"
   ]
  },
  {
   "cell_type": "markdown",
   "metadata": {},
   "source": [
    "** По условиям соревнования модели сравниваются по roc_auc. Наша посылка имела значение - 0.91273. Это немного ниже чем значение на нашей отложенной выборке и значение полученное через cross_val_score, но при этом достаточно близкое. **"
   ]
  },
  {
   "cell_type": "markdown",
   "metadata": {},
   "source": [
    "** Создадим несколько признаков которые могут улучшить модель из данных которые есть в изначальном датасете **"
   ]
  },
  {
   "cell_type": "code",
   "execution_count": 21,
   "metadata": {
    "collapsed": true
   },
   "outputs": [],
   "source": [
    "new_feature_df = pd.DataFrame()"
   ]
  },
  {
   "cell_type": "markdown",
   "metadata": {},
   "source": [
    "** Добавим признак количество посещенных уникальных сайтов за сессию. **"
   ]
  },
  {
   "cell_type": "code",
   "execution_count": 22,
   "metadata": {},
   "outputs": [
    {
     "name": "stdout",
     "output_type": "stream",
     "text": [
      "CPU times: user 28.5 s, sys: 53.4 ms, total: 28.5 s\n",
      "Wall time: 28.5 s\n"
     ]
    }
   ],
   "source": [
    "%%time\n",
    "new_feature_df['uniq_sites'] = train_test_df_sites.apply(lambda x: len(np.unique(x[:10])), axis=1)"
   ]
  },
  {
   "cell_type": "code",
   "execution_count": 23,
   "metadata": {},
   "outputs": [
    {
     "data": {
      "text/html": [
       "<div>\n",
       "<style>\n",
       "    .dataframe thead tr:only-child th {\n",
       "        text-align: right;\n",
       "    }\n",
       "\n",
       "    .dataframe thead th {\n",
       "        text-align: left;\n",
       "    }\n",
       "\n",
       "    .dataframe tbody tr th {\n",
       "        vertical-align: top;\n",
       "    }\n",
       "</style>\n",
       "<table border=\"1\" class=\"dataframe\">\n",
       "  <thead>\n",
       "    <tr style=\"text-align: right;\">\n",
       "      <th></th>\n",
       "      <th>uniq_sites</th>\n",
       "    </tr>\n",
       "    <tr>\n",
       "      <th>session_id</th>\n",
       "      <th></th>\n",
       "    </tr>\n",
       "  </thead>\n",
       "  <tbody>\n",
       "    <tr>\n",
       "      <th>1</th>\n",
       "      <td>2</td>\n",
       "    </tr>\n",
       "    <tr>\n",
       "      <th>2</th>\n",
       "      <td>7</td>\n",
       "    </tr>\n",
       "    <tr>\n",
       "      <th>3</th>\n",
       "      <td>4</td>\n",
       "    </tr>\n",
       "    <tr>\n",
       "      <th>4</th>\n",
       "      <td>1</td>\n",
       "    </tr>\n",
       "    <tr>\n",
       "      <th>5</th>\n",
       "      <td>4</td>\n",
       "    </tr>\n",
       "  </tbody>\n",
       "</table>\n",
       "</div>"
      ],
      "text/plain": [
       "            uniq_sites\n",
       "session_id            \n",
       "1                    2\n",
       "2                    7\n",
       "3                    4\n",
       "4                    1\n",
       "5                    4"
      ]
     },
     "execution_count": 23,
     "metadata": {},
     "output_type": "execute_result"
    }
   ],
   "source": [
    "new_feature_df.head()"
   ]
  },
  {
   "cell_type": "markdown",
   "metadata": {},
   "source": [
    "** Аналогично добавим признак количество посещенных \"популярных\" сайтов из top 50. **"
   ]
  },
  {
   "cell_type": "code",
   "execution_count": 24,
   "metadata": {},
   "outputs": [
    {
     "name": "stdout",
     "output_type": "stream",
     "text": [
      "CPU times: user 31.9 s, sys: 1.19 s, total: 33.1 s\n",
      "Wall time: 32.4 s\n"
     ]
    }
   ],
   "source": [
    "%%time\n",
    "counter = train_test_df_sites.stack().value_counts()\n",
    "top_sites = counter[1:50].index\n",
    "def count_popular(row):\n",
    "    return len(set(row[:10]) & set(top_sites))\n",
    "\n",
    "new_feature_df['top_sites_visited'] = train_test_df_sites.apply(count_popular, axis=1)"
   ]
  },
  {
   "cell_type": "markdown",
   "metadata": {},
   "source": [
    "** Аналогично добавим признаки \"час начала сессии\" и \"день недели начала сессии\" \"Длина сессии в секундах\", и время посещения каждого сайта **"
   ]
  },
  {
   "cell_type": "code",
   "execution_count": 25,
   "metadata": {},
   "outputs": [
    {
     "name": "stdout",
     "output_type": "stream",
     "text": [
      "CPU times: user 14.1 s, sys: 83 ms, total: 14.2 s\n",
      "Wall time: 14.2 s\n"
     ]
    }
   ],
   "source": [
    "%%time\n",
    "def get_start_hour(x):\n",
    "    return datetime.datetime.strptime(x[0], \"%Y-%m-%d %H:%M:%S\").hour\n",
    "\n",
    "new_feature_df['start_hour'] = train_test_df[['time1']].apply(get_start_hour, axis=1)"
   ]
  },
  {
   "cell_type": "code",
   "execution_count": 26,
   "metadata": {},
   "outputs": [
    {
     "name": "stdout",
     "output_type": "stream",
     "text": [
      "CPU times: user 16.1 s, sys: 101 ms, total: 16.2 s\n",
      "Wall time: 16.2 s\n"
     ]
    }
   ],
   "source": [
    "%%time\n",
    "def get_start_day_of_week(x):\n",
    "    return datetime.datetime.strptime(x[0], \"%Y-%m-%d %H:%M:%S\").weekday()\n",
    "new_feature_df['day_of_week'] = train_test_df[['time1']].apply(get_start_day_of_week, axis=1)"
   ]
  },
  {
   "cell_type": "code",
   "execution_count": 27,
   "metadata": {
    "collapsed": true
   },
   "outputs": [],
   "source": [
    "def get_session_timespan(row):\n",
    "    start_time = row[0];\n",
    "    end_time = row[0];\n",
    "    for r in row:\n",
    "        if r == 0:\n",
    "            continue\n",
    "        end_time = r\n",
    "    start_time = datetime.datetime.strptime(start_time, \"%Y-%m-%d %H:%M:%S\")\n",
    "    end_time = datetime.datetime.strptime(end_time, \"%Y-%m-%d %H:%M:%S\")\n",
    "    return (end_time - start_time).total_seconds()\n",
    "\n",
    "new_feature_df['ses_timespan'] = train_test_df[['time%d' % i for i in range(1, 11)]].fillna(0).apply(get_session_timespan, axis=1)"
   ]
  },
  {
   "cell_type": "code",
   "execution_count": 28,
   "metadata": {},
   "outputs": [
    {
     "name": "stdout",
     "output_type": "stream",
     "text": [
      "CPU times: user 2min 16s, sys: 959 ms, total: 2min 17s\n",
      "Wall time: 2min 17s\n"
     ]
    }
   ],
   "source": [
    "%%time\n",
    "def get_visits_time(row):\n",
    "    start_time = row[0];\n",
    "    end_time = row[0];\n",
    "    res = []\n",
    "    for r in row:\n",
    "        if r == 0:\n",
    "            break\n",
    "        start_time = end_time\n",
    "        end_time = r\n",
    "        s_time = datetime.datetime.strptime(start_time, \"%Y-%m-%d %H:%M:%S\")\n",
    "        e_time = datetime.datetime.strptime(end_time, \"%Y-%m-%d %H:%M:%S\")\n",
    "        res.append((e_time - s_time).total_seconds())\n",
    "    while(len(res) < 10):\n",
    "        res.append(0)\n",
    "    return res[1],res[2],res[3],res[4],res[5],res[6],res[7],res[8],res[9]\n",
    "\n",
    "temp = list(zip(*train_test_df[['time%d' % i for i in range(1, 11)]].fillna(0).apply(get_visits_time, axis=1)))\n",
    "for i, c in enumerate(['time_diff%d' % i for i in range(1, 10)]):\n",
    "    new_feature_df[c] = temp[i]"
   ]
  },
  {
   "cell_type": "code",
   "execution_count": 29,
   "metadata": {},
   "outputs": [
    {
     "data": {
      "text/html": [
       "<div>\n",
       "<style>\n",
       "    .dataframe thead tr:only-child th {\n",
       "        text-align: right;\n",
       "    }\n",
       "\n",
       "    .dataframe thead th {\n",
       "        text-align: left;\n",
       "    }\n",
       "\n",
       "    .dataframe tbody tr th {\n",
       "        vertical-align: top;\n",
       "    }\n",
       "</style>\n",
       "<table border=\"1\" class=\"dataframe\">\n",
       "  <thead>\n",
       "    <tr style=\"text-align: right;\">\n",
       "      <th></th>\n",
       "      <th>uniq_sites</th>\n",
       "      <th>top_sites_visited</th>\n",
       "      <th>start_hour</th>\n",
       "      <th>day_of_week</th>\n",
       "      <th>ses_timespan</th>\n",
       "      <th>time_diff1</th>\n",
       "      <th>time_diff2</th>\n",
       "      <th>time_diff3</th>\n",
       "      <th>time_diff4</th>\n",
       "      <th>time_diff5</th>\n",
       "      <th>time_diff6</th>\n",
       "      <th>time_diff7</th>\n",
       "      <th>time_diff8</th>\n",
       "      <th>time_diff9</th>\n",
       "    </tr>\n",
       "    <tr>\n",
       "      <th>session_id</th>\n",
       "      <th></th>\n",
       "      <th></th>\n",
       "      <th></th>\n",
       "      <th></th>\n",
       "      <th></th>\n",
       "      <th></th>\n",
       "      <th></th>\n",
       "      <th></th>\n",
       "      <th></th>\n",
       "      <th></th>\n",
       "      <th></th>\n",
       "      <th></th>\n",
       "      <th></th>\n",
       "      <th></th>\n",
       "    </tr>\n",
       "  </thead>\n",
       "  <tbody>\n",
       "    <tr>\n",
       "      <th>1</th>\n",
       "      <td>2</td>\n",
       "      <td>0</td>\n",
       "      <td>10</td>\n",
       "      <td>3</td>\n",
       "      <td>0.0</td>\n",
       "      <td>0.0</td>\n",
       "      <td>0.0</td>\n",
       "      <td>0.0</td>\n",
       "      <td>0.0</td>\n",
       "      <td>0.0</td>\n",
       "      <td>0.0</td>\n",
       "      <td>0.0</td>\n",
       "      <td>0.0</td>\n",
       "      <td>0.0</td>\n",
       "    </tr>\n",
       "    <tr>\n",
       "      <th>2</th>\n",
       "      <td>7</td>\n",
       "      <td>2</td>\n",
       "      <td>11</td>\n",
       "      <td>5</td>\n",
       "      <td>26.0</td>\n",
       "      <td>0.0</td>\n",
       "      <td>1.0</td>\n",
       "      <td>0.0</td>\n",
       "      <td>0.0</td>\n",
       "      <td>0.0</td>\n",
       "      <td>1.0</td>\n",
       "      <td>0.0</td>\n",
       "      <td>23.0</td>\n",
       "      <td>1.0</td>\n",
       "    </tr>\n",
       "    <tr>\n",
       "      <th>3</th>\n",
       "      <td>4</td>\n",
       "      <td>2</td>\n",
       "      <td>16</td>\n",
       "      <td>0</td>\n",
       "      <td>7.0</td>\n",
       "      <td>1.0</td>\n",
       "      <td>1.0</td>\n",
       "      <td>0.0</td>\n",
       "      <td>0.0</td>\n",
       "      <td>0.0</td>\n",
       "      <td>1.0</td>\n",
       "      <td>1.0</td>\n",
       "      <td>1.0</td>\n",
       "      <td>2.0</td>\n",
       "    </tr>\n",
       "    <tr>\n",
       "      <th>4</th>\n",
       "      <td>1</td>\n",
       "      <td>1</td>\n",
       "      <td>10</td>\n",
       "      <td>4</td>\n",
       "      <td>270.0</td>\n",
       "      <td>30.0</td>\n",
       "      <td>30.0</td>\n",
       "      <td>30.0</td>\n",
       "      <td>30.0</td>\n",
       "      <td>30.0</td>\n",
       "      <td>30.0</td>\n",
       "      <td>30.0</td>\n",
       "      <td>30.0</td>\n",
       "      <td>30.0</td>\n",
       "    </tr>\n",
       "    <tr>\n",
       "      <th>5</th>\n",
       "      <td>4</td>\n",
       "      <td>3</td>\n",
       "      <td>10</td>\n",
       "      <td>4</td>\n",
       "      <td>246.0</td>\n",
       "      <td>137.0</td>\n",
       "      <td>0.0</td>\n",
       "      <td>1.0</td>\n",
       "      <td>0.0</td>\n",
       "      <td>36.0</td>\n",
       "      <td>0.0</td>\n",
       "      <td>0.0</td>\n",
       "      <td>67.0</td>\n",
       "      <td>5.0</td>\n",
       "    </tr>\n",
       "  </tbody>\n",
       "</table>\n",
       "</div>"
      ],
      "text/plain": [
       "            uniq_sites  top_sites_visited  start_hour  day_of_week  \\\n",
       "session_id                                                           \n",
       "1                    2                  0          10            3   \n",
       "2                    7                  2          11            5   \n",
       "3                    4                  2          16            0   \n",
       "4                    1                  1          10            4   \n",
       "5                    4                  3          10            4   \n",
       "\n",
       "            ses_timespan  time_diff1  time_diff2  time_diff3  time_diff4  \\\n",
       "session_id                                                                 \n",
       "1                    0.0         0.0         0.0         0.0         0.0   \n",
       "2                   26.0         0.0         1.0         0.0         0.0   \n",
       "3                    7.0         1.0         1.0         0.0         0.0   \n",
       "4                  270.0        30.0        30.0        30.0        30.0   \n",
       "5                  246.0       137.0         0.0         1.0         0.0   \n",
       "\n",
       "            time_diff5  time_diff6  time_diff7  time_diff8  time_diff9  \n",
       "session_id                                                              \n",
       "1                  0.0         0.0         0.0         0.0         0.0  \n",
       "2                  0.0         1.0         0.0        23.0         1.0  \n",
       "3                  0.0         1.0         1.0         1.0         2.0  \n",
       "4                 30.0        30.0        30.0        30.0        30.0  \n",
       "5                 36.0         0.0         0.0        67.0         5.0  "
      ]
     },
     "execution_count": 29,
     "metadata": {},
     "output_type": "execute_result"
    }
   ],
   "source": [
    "new_feature_df.head()"
   ]
  },
  {
   "cell_type": "markdown",
   "metadata": {},
   "source": [
    "** Посмотрим на гистограммы распределения новых признаков **"
   ]
  },
  {
   "cell_type": "code",
   "execution_count": 30,
   "metadata": {},
   "outputs": [
    {
     "data": {
      "image/png": "[encoded data removed]",
      "text/plain": [
       "<matplotlib.figure.Figure at 0x10ad01290>"
      ]
     },
     "metadata": {},
     "output_type": "display_data"
    }
   ],
   "source": [
    "fig, axes = plt.subplots(nrows=5, ncols=3, figsize=(18, 12))\n",
    "\n",
    "for idx, colname in  enumerate(new_feature_df.columns): \n",
    "    ax = axes[int(idx/3)][idx%3]\n",
    "    ax.hist(new_feature_df[colname])\n",
    "    ax.set_label(colname)\n",
    "    ax.legend([colname])"
   ]
  },
  {
   "cell_type": "markdown",
   "metadata": {},
   "source": [
    "** Добавим колонку с user_id и посмотрим кореляцию признаков с ним. **"
   ]
  },
  {
   "cell_type": "code",
   "execution_count": 31,
   "metadata": {},
   "outputs": [
    {
     "data": {
      "image/png": "[encoded data removed]",
      "text/plain": [
       "<matplotlib.figure.Figure at 0x115f6db50>"
      ]
     },
     "metadata": {},
     "output_type": "display_data"
    }
   ],
   "source": [
    "new_feature_df['target'] = train_test_df['target']\n",
    "plt.figure(figsize=(12, 12))\n",
    "sns.heatmap(new_feature_df.corr())\n",
    "plt.show()\n",
    "new_feature_df = new_feature_df.drop('target', axis=1)"
   ]
  },
  {
   "cell_type": "markdown",
   "metadata": {},
   "source": [
    "** Как видим наибольшую кореляцию с целевой меткой у нас имеет признак start_hour. Обьеденим наши новые признаки с признаками посещенных сайтов. **"
   ]
  },
  {
   "cell_type": "code",
   "execution_count": 32,
   "metadata": {
    "collapsed": true
   },
   "outputs": [],
   "source": [
    "from scipy.sparse import hstack\n",
    "new_feature_train = new_feature_df.as_matrix()[:253561]\n",
    "new_feature_test = new_feature_df.as_matrix()[253561:]\n",
    "new_feature_train_sparse = csr_matrix(new_feature_train)\n",
    "new_feature_test_sparse = csr_matrix(new_feature_test)\n",
    "\n",
    "X_train_sparse_with_new = csr_matrix(hstack([X_train_sparse, new_feature_train_sparse]))\n",
    "X_test_sparse_with_new = csr_matrix(hstack([X_test_sparse, new_feature_test_sparse]))\n",
    "\n",
    "X_train, y_train = X_train_sparse_with_new[:train_share, :], y[:train_share]\n",
    "X_valid, y_valid  = X_train_sparse_with_new[train_share:, :], y[train_share:]"
   ]
  },
  {
   "cell_type": "markdown",
   "metadata": {},
   "source": [
    "** Попробуем обучить SGDClassifier  с новыми признаками и посмотрим улучшают ли они его качество. Смотреть будем на roc_auc на отложенной выборке и на cross_val_score **"
   ]
  },
  {
   "cell_type": "code",
   "execution_count": 33,
   "metadata": {},
   "outputs": [
    {
     "name": "stdout",
     "output_type": "stream",
     "text": [
      "Roc_auc score for SGDClasifier(with  0  feature) is : 0.933847286791\n",
      "mean cross_val_score: 0.936914876491\n",
      "Roc_auc score for SGDClasifier(with  1  feature) is : 0.920440142464\n",
      "mean cross_val_score: 0.897156881187\n",
      "Roc_auc score for SGDClasifier(with  2  feature) is : 0.915706518701\n",
      "mean cross_val_score: 0.899999452861\n",
      "Roc_auc score for SGDClasifier(with  3  feature) is : 0.907966494586\n",
      "mean cross_val_score: 0.873767070802\n",
      "Roc_auc score for SGDClasifier(with  4  feature) is : 0.915954836962\n",
      "mean cross_val_score: 0.892586961892\n",
      "Roc_auc score for SGDClasifier(with  5  feature) is : 0.706293119956\n",
      "mean cross_val_score: 0.724503348389\n",
      "Roc_auc score for SGDClasifier(with  6  feature) is : 0.708394100453\n",
      "mean cross_val_score: 0.698208645747\n",
      "Roc_auc score for SGDClasifier(with  7  feature) is : 0.695062990113\n",
      "mean cross_val_score: 0.688026018031\n",
      "Roc_auc score for SGDClasifier(with  8  feature) is : 0.671866910845\n",
      "mean cross_val_score: 0.665222226312\n",
      "Roc_auc score for SGDClasifier(with  9  feature) is : 0.679373110318\n",
      "mean cross_val_score: 0.675405967913\n",
      "Roc_auc score for SGDClasifier(with  10  feature) is : 0.620258793927\n",
      "mean cross_val_score: 0.667560585662\n",
      "Roc_auc score for SGDClasifier(with  11  feature) is : 0.679183169135\n",
      "mean cross_val_score: 0.65894614117\n",
      "Roc_auc score for SGDClasifier(with  12  feature) is : 0.620496845874\n",
      "mean cross_val_score: 0.657558616717\n",
      "Roc_auc score for SGDClasifier(with  13  feature) is : 0.665294016106\n",
      "mean cross_val_score: 0.672618909441\n"
     ]
    }
   ],
   "source": [
    "n_f = len(new_feature_df.columns)\n",
    "for i in reversed(range(1,len(new_feature_df.columns) + 1)):\n",
    "    sgd_logit = SGDClassifier(random_state=17, n_jobs=-1, loss='log')\n",
    "    sgd_logit.fit(X_train[:,:-i], y_train)\n",
    "    logit_valid_pred_proba = sgd_logit.predict_proba(X_valid[:,:-i])\n",
    "    print \"Roc_auc score for SGDClasifier(with \", n_f - i, \" feature) is :\", roc_auc_score(y_valid, logit_valid_pred_proba[:,1])\n",
    "    print \"mean cross_val_score:\", np.mean(cross_val_score(sgd_logit, X_train_sparse_with_new[:,:-i],\n",
    "                                                                                  y, n_jobs=-1, scoring='roc_auc', cv=skf))"
   ]
  },
  {
   "cell_type": "markdown",
   "metadata": {},
   "source": [
    "** Как видим простое добавление признаков ухудшает модель. Попробуем преобразовать признаки uniq_sites, top_sites_visited, start_hour, day_of_week как будто они категориальные, заменим их на набор признаков name\\_(0-10)  **"
   ]
  },
  {
   "cell_type": "code",
   "execution_count": 34,
   "metadata": {
    "collapsed": true
   },
   "outputs": [],
   "source": [
    "new_feature_df_cat = new_feature_df[['uniq_sites', 'top_sites_visited', 'start_hour', 'day_of_week']]\n",
    "uniq_dumies = pd.get_dummies(new_feature_df_cat['uniq_sites'], prefix='uniq_sites')\n",
    "new_feature_df_cat = pd.concat([new_feature_df_cat, uniq_dumies],axis=1)\n",
    "new_feature_df_cat.drop('uniq_sites', axis=1, inplace=True)\n",
    "\n",
    "top_dumies = pd.get_dummies(new_feature_df_cat['top_sites_visited'], prefix='top_sites_visited')\n",
    "new_feature_df_cat = pd.concat([new_feature_df_cat, top_dumies],axis=1)\n",
    "new_feature_df_cat.drop('top_sites_visited', axis=1, inplace=True)\n",
    "\n",
    "hour_dumies = pd.get_dummies(new_feature_df_cat['start_hour'], prefix='start_hour')\n",
    "new_feature_df_cat = pd.concat([new_feature_df_cat, hour_dumies],axis=1)\n",
    "new_feature_df_cat.drop('start_hour', axis=1, inplace=True)\n",
    "\n",
    "day_dumies = pd.get_dummies(new_feature_df_cat['day_of_week'], prefix='day_of_week')\n",
    "new_feature_df_cat = pd.concat([new_feature_df_cat, day_dumies], axis=1)\n",
    "new_feature_df_cat.drop('day_of_week', axis=1, inplace=True)"
   ]
  },
  {
   "cell_type": "markdown",
   "metadata": {},
   "source": [
    "** Полученные таким образом дополнительные признаки добавим к признакам посещенных сайтов **"
   ]
  },
  {
   "cell_type": "code",
   "execution_count": 35,
   "metadata": {},
   "outputs": [
    {
     "name": "stdout",
     "output_type": "stream",
     "text": [
      "Size of train set is  (253561, 48416)\n"
     ]
    }
   ],
   "source": [
    "new_feature_train = new_feature_df_cat.as_matrix()[:253561]\n",
    "new_feature_test = new_feature_df_cat.as_matrix()[253561:]\n",
    "new_feature_train_sparse = csr_matrix(new_feature_train)\n",
    "new_feature_test_sparse = csr_matrix(new_feature_test)\n",
    "\n",
    "X_train_sparse_with_new = csr_matrix(hstack([X_train_sparse, new_feature_train_sparse]))\n",
    "X_test_sparse_with_new = csr_matrix(hstack([X_test_sparse, new_feature_test_sparse]))\n",
    "\n",
    "X_train, y_train = X_train_sparse_with_new[:train_share, :], y[:train_share]\n",
    "X_valid, y_valid  = X_train_sparse_with_new[train_share:, :], y[train_share:]\n",
    "print \"Size of train set is \", X_train_sparse_with_new.shape"
   ]
  },
  {
   "cell_type": "code",
   "execution_count": 36,
   "metadata": {},
   "outputs": [
    {
     "name": "stdout",
     "output_type": "stream",
     "text": [
      "Roc_auc score for SGDClasifier(with  13  feature) is : 0.971491990051\n",
      "mean cross_val_score: 0.974202586132\n"
     ]
    }
   ],
   "source": [
    "sgd_logit = SGDClassifier(random_state=17, n_jobs=-1, loss='log')\n",
    "sgd_logit.fit(X_train, y_train)\n",
    "logit_valid_pred_proba = sgd_logit.predict_proba(X_valid)\n",
    "print \"Roc_auc score for SGDClasifier(with \", n_f - i, \" feature) is :\", roc_auc_score(y_valid, logit_valid_pred_proba[:,1])\n",
    "print \"mean cross_val_score:\", np.mean(cross_val_score(sgd_logit, X_train_sparse_with_new,\n",
    "                                                                              y, n_jobs=-1, scoring='roc_auc', cv=skf))"
   ]
  },
  {
   "cell_type": "markdown",
   "metadata": {},
   "source": [
    "** Как видим в таком варианте признаки достаточно сильно улучшили нашу модель. Такая модель в соревновании на kaggle будет иметь 0.93619 roc_auc score **"
   ]
  },
  {
   "cell_type": "markdown",
   "metadata": {},
   "source": [
    "** Можно попробовать другие модели и сравнить с SGDClassifier ** "
   ]
  },
  {
   "cell_type": "code",
   "execution_count": 37,
   "metadata": {},
   "outputs": [
    {
     "name": "stdout",
     "output_type": "stream",
     "text": [
      "Roc_auc score for LogisticRegressionCV is : 0.985719011204\n",
      "mean cross_val_score: 0.987538108938\n",
      "CPU times: user 3.37 s, sys: 341 ms, total: 3.71 s\n",
      "Wall time: 58.3 s\n"
     ]
    }
   ],
   "source": [
    "%%time\n",
    "estimator = LogisticRegressionCV(random_state=17, n_jobs=-1)\n",
    "estimator.fit(X_train, y_train)\n",
    "logit_valid_pred_proba = estimator.predict_proba(X_valid)\n",
    "print \"Roc_auc score for LogisticRegressionCV is :\", roc_auc_score(y_valid, logit_valid_pred_proba[:,1])\n",
    "print \"mean cross_val_score:\", np.mean(cross_val_score(estimator, X_train_sparse_with_new,\n",
    "                                                                              y, n_jobs=-1, scoring='roc_auc', cv=skf))"
   ]
  },
  {
   "cell_type": "code",
   "execution_count": 38,
   "metadata": {},
   "outputs": [
    {
     "name": "stdout",
     "output_type": "stream",
     "text": [
      "Best score and params for SVM 0.984238389719 {'C': 1.0}\n",
      "CPU times: user 8.16 s, sys: 338 ms, total: 8.5 s\n",
      "Wall time: 44.1 s\n"
     ]
    }
   ],
   "source": [
    "%%time\n",
    "from sklearn.svm import LinearSVC\n",
    "svm_params = {'C': np.linspace(1, 3, 10)}\n",
    "svm_grid_searcher =  GridSearchCV(LinearSVC(C=1, random_state=17), svm_params, cv=skf, scoring='roc_auc', n_jobs=-1)\n",
    "svm_grid_searcher.fit(X_train_sparse_with_new, y)\n",
    "print \"Best score and params for SVM\", svm_grid_searcher.best_score_, svm_grid_searcher.best_params_ "
   ]
  },
  {
   "cell_type": "code",
   "execution_count": 39,
   "metadata": {},
   "outputs": [
    {
     "name": "stdout",
     "output_type": "stream",
     "text": [
      "Roc_auc score for RandomForestClassifier is : 0.922099220941\n",
      "mean cross_val_score: 0.91736554112\n"
     ]
    }
   ],
   "source": [
    "from sklearn.ensemble import RandomForestClassifier\n",
    "estimator = RandomForestClassifier(random_state=17, oob_score=True, n_jobs=-1)\n",
    "estimator.fit(X_train, y_train)\n",
    "logit_valid_pred_proba = estimator.predict_proba(X_valid)\n",
    "print \"Roc_auc score for RandomForestClassifier is :\", roc_auc_score(y_valid, logit_valid_pred_proba[:,1])\n",
    "print \"mean cross_val_score:\", np.mean(cross_val_score(estimator, X_train_sparse_with_new,\n",
    "                                                                              y, n_jobs=-1, scoring='roc_auc', cv=skf))"
   ]
  },
  {
   "cell_type": "markdown",
   "metadata": {},
   "source": [
    "** Как видим один из лучших результатов дает нам метод LogisticRegressionCV с набором данных с категореальными признаками **\n",
    "** Его результат на public leader board kaggle - 0.94199 ** "
   ]
  },
  {
   "cell_type": "markdown",
   "metadata": {},
   "source": [
    "** Простое добавление признаков с временем не давало нам улучшения модели, скорее всего это было из-за большой разницы в величинах. Попробуем нормировать их с помощью sklearn.preprocessing.StandartScaler  и проверим как это скажется на качестве наших моделей. Будем смотреть сразу на три варианта.**"
   ]
  },
  {
   "cell_type": "code",
   "execution_count": 40,
   "metadata": {},
   "outputs": [
    {
     "name": "stdout",
     "output_type": "stream",
     "text": [
      "Size of train set is  (253561, 48381)\n",
      "Roc_auc score for SGDClasifier with with time is : 0.907084559763\n",
      "mean cross_val_score: 0.906617043115\n",
      "Roc_auc score for RandomForestClassifier with time is : 0.817255685314\n",
      "mean cross_val_score: 0.812427111262\n",
      "Roc_auc score for LogisticRegressionCV with time is : 0.959033525966\n",
      "mean cross_val_score: 0.961252622783\n",
      "CPU times: user 1min 19s, sys: 1.31 s, total: 1min 21s\n",
      "Wall time: 1min 51s\n"
     ]
    }
   ],
   "source": [
    "%%time\n",
    "new_feature_df_time = new_feature_df.drop(['uniq_sites', 'top_sites_visited', 'start_hour', 'day_of_week'], axis=1)\n",
    "from sklearn.preprocessing import StandardScaler\n",
    "sc = StandardScaler()\n",
    "new_feature_df_time_sc = sc.fit_transform(new_feature_df_time)\n",
    "\n",
    "new_feature_train = new_feature_df_time_sc[:253561]\n",
    "new_feature_test = new_feature_df_time_sc[253561:]\n",
    "new_feature_train_sparse = csr_matrix(new_feature_train)\n",
    "new_feature_test_sparse = csr_matrix(new_feature_test)\n",
    "\n",
    "X_train_sparse_with_new = csr_matrix(hstack([X_train_sparse, new_feature_train_sparse]))\n",
    "X_test_sparse_with_new = csr_matrix(hstack([X_test_sparse, new_feature_test_sparse]))\n",
    "\n",
    "X_train, y_train = X_train_sparse_with_new[:train_share, :], y[:train_share]\n",
    "X_valid, y_valid  = X_train_sparse_with_new[train_share:, :], y[train_share:]\n",
    "\n",
    "\n",
    "print \"Size of train set is \", X_train_sparse_with_new.shape\n",
    "\n",
    "estimator = SGDClassifier(loss='log', random_state=17, n_jobs=-1)\n",
    "estimator.fit(X_train, y_train)\n",
    "logit_valid_pred_proba = estimator.predict_proba(X_valid)\n",
    "print \"Roc_auc score for SGDClasifier with with time is :\", roc_auc_score(y_valid, logit_valid_pred_proba[:,1])\n",
    "print \"mean cross_val_score:\", np.mean(cross_val_score(estimator, X_train_sparse_with_new,\n",
    "                                                                              y, n_jobs=-1, scoring='roc_auc', cv=skf))\n",
    "\n",
    "\n",
    "estimator = RandomForestClassifier(random_state=17, oob_score=True, n_jobs=-1)\n",
    "estimator.fit(X_train, y_train)\n",
    "logit_valid_pred_proba = estimator.predict_proba(X_valid)\n",
    "print \"Roc_auc score for RandomForestClassifier with time is :\", roc_auc_score(y_valid, logit_valid_pred_proba[:,1])\n",
    "print \"mean cross_val_score:\", np.mean(cross_val_score(estimator, X_train_sparse_with_new,\n",
    "                                                                              y, n_jobs=-1, scoring='roc_auc', cv=skf))\n",
    "\n",
    "estimator = LogisticRegressionCV(random_state=17, n_jobs=-1)\n",
    "estimator.fit(X_train, y_train)\n",
    "logit_valid_pred_proba = estimator.predict_proba(X_valid)\n",
    "print \"Roc_auc score for LogisticRegressionCV with time is :\", roc_auc_score(y_valid, logit_valid_pred_proba[:,1])\n",
    "print \"mean cross_val_score:\", np.mean(cross_val_score(estimator, X_train_sparse_with_new,\n",
    "                                                                              y, n_jobs=-1, scoring='roc_auc', cv=skf))"
   ]
  },
  {
   "cell_type": "markdown",
   "metadata": {},
   "source": [
    "** Видим что для SGDClassifier и RandomForestClassifier добавление этих признаков не принесло пользы. Однако для LogisticRegression добавление этих признаков дает улучшение результатов. **\n",
    "** Можно попробовать обьеденить эти признаки с категориальными и посмотреть на результат **"
   ]
  },
  {
   "cell_type": "code",
   "execution_count": 41,
   "metadata": {},
   "outputs": [
    {
     "name": "stdout",
     "output_type": "stream",
     "text": [
      "Size of train set is  (253561, 48426)\n",
      "Roc_auc score for SGDClasifier with with time and cat is : 0.971811635708\n",
      "mean cross_val_score: 0.974683360774\n",
      "Roc_auc score for RandomForestClassifier with time and cat is : 0.901958937276\n",
      "mean cross_val_score: 0.90130761919\n",
      "Roc_auc score for LogisticRegressionCV with time and cat is : 0.985656148005\n",
      "mean cross_val_score: 0.987570645539\n",
      "CPU times: user 1min 1s, sys: 1.56 s, total: 1min 2s\n",
      "Wall time: 1min 42s\n"
     ]
    }
   ],
   "source": [
    "%%time\n",
    "new_feature_train = new_feature_df_cat[:253561]\n",
    "new_feature_test = new_feature_df_cat[253561:]\n",
    "new_feature_train_sparse = csr_matrix(new_feature_train)\n",
    "new_feature_test_sparse = csr_matrix(new_feature_test)\n",
    "\n",
    "X_train_sparse_with_new_cat = csr_matrix(hstack([X_train_sparse, new_feature_train_sparse]))\n",
    "X_test_sparse_with_new_cat = csr_matrix(hstack([X_test_sparse, new_feature_test_sparse]))\n",
    "\n",
    "\n",
    "new_feature_train = new_feature_df_time_sc[:253561]\n",
    "new_feature_test = new_feature_df_time_sc[253561:]\n",
    "new_feature_train_sparse_sc = csr_matrix(new_feature_train)\n",
    "new_feature_test_sparse_sc = csr_matrix(new_feature_test)\n",
    "\n",
    "\n",
    "X_train_sparse_with_new = csr_matrix(hstack([X_train_sparse_with_new_cat, new_feature_train_sparse_sc]))\n",
    "X_test_sparse_with_new = csr_matrix(hstack([X_test_sparse_with_new_cat, new_feature_test_sparse_sc]))\n",
    "\n",
    "X_train, y_train = X_train_sparse_with_new[:train_share, :], y[:train_share]\n",
    "X_valid, y_valid  = X_train_sparse_with_new[train_share:, :], y[train_share:]\n",
    "\n",
    "print \"Size of train set is \", X_train_sparse_with_new.shape\n",
    "\n",
    "estimator = SGDClassifier(loss='log', random_state=17, n_jobs=-1)\n",
    "estimator.fit(X_train, y_train)\n",
    "logit_valid_pred_proba = estimator.predict_proba(X_valid)\n",
    "print \"Roc_auc score for SGDClasifier with with time and cat is :\", roc_auc_score(y_valid, logit_valid_pred_proba[:,1])\n",
    "print \"mean cross_val_score:\", np.mean(cross_val_score(estimator, X_train_sparse_with_new,\n",
    "                                                                              y, n_jobs=-1, scoring='roc_auc', cv=skf))\n",
    "\n",
    "\n",
    "estimator = RandomForestClassifier(random_state=17, oob_score=True, n_jobs=-1)\n",
    "estimator.fit(X_train, y_train)\n",
    "logit_valid_pred_proba = estimator.predict_proba(X_valid)\n",
    "print \"Roc_auc score for RandomForestClassifier with time and cat is :\", roc_auc_score(y_valid, logit_valid_pred_proba[:,1])\n",
    "print \"mean cross_val_score:\", np.mean(cross_val_score(estimator, X_train_sparse_with_new,\n",
    "                                                                              y, n_jobs=-1, scoring='roc_auc', cv=skf))\n",
    "\n",
    "estimator = LogisticRegressionCV(random_state=17, n_jobs=-1)\n",
    "estimator.fit(X_train, y_train)\n",
    "logit_valid_pred_proba = estimator.predict_proba(X_valid)\n",
    "print \"Roc_auc score for LogisticRegressionCV with time and cat is :\", roc_auc_score(y_valid, logit_valid_pred_proba[:,1])\n",
    "print \"mean cross_val_score:\", np.mean(cross_val_score(estimator, X_train_sparse_with_new,\n",
    "                                                                              y, n_jobs=-1, scoring='roc_auc', cv=skf))"
   ]
  },
  {
   "cell_type": "markdown",
   "metadata": {},
   "source": [
    "** LogisticRegressionCV дает чуть чуть лучший результат чем с просто категореальными признаками. SGDClasifier получил достаточно большой буст. Сохраним предсказания для этих моделей на test выборке** "
   ]
  },
  {
   "cell_type": "code",
   "execution_count": 42,
   "metadata": {},
   "outputs": [
    {
     "name": "stdout",
     "output_type": "stream",
     "text": [
      "Size of train set is  (253561, 48426)\n",
      "CPU times: user 4.2 s, sys: 244 ms, total: 4.45 s\n",
      "Wall time: 24.4 s\n"
     ]
    }
   ],
   "source": [
    "%%time\n",
    "print \"Size of train set is \", X_train_sparse_with_new.shape\n",
    "estimator = LogisticRegressionCV(random_state=17, n_jobs=-1)\n",
    "estimator.fit(X_train_sparse_with_new, y)\n",
    "test_pred = estimator.predict_proba(X_test_sparse_with_new)\n",
    "write_to_submission_file(test_pred[:,1], os.path.join(PATH_TO_DATA, 'kaggle_submission_LogisticRegressionCV_time_cat.csv'))\n",
    "#0.94193 on kaggle\n",
    "\n",
    "estimator = SGDClassifier(loss='log', random_state=17, n_jobs=-1)\n",
    "estimator.fit(X_train_sparse_with_new, y)\n",
    "test_pred = estimator.predict_proba(X_test_sparse_with_new)\n",
    "write_to_submission_file(test_pred[:,1], os.path.join(PATH_TO_DATA, 'kaggle_submission_SGDClassifier_time_cat.csv'))\n",
    "#0.93787 on kaggle"
   ]
  },
  {
   "cell_type": "markdown",
   "metadata": {},
   "source": [
    "** Для логистической регресии можно попробовать подобрать параметры ** "
   ]
  },
  {
   "cell_type": "code",
   "execution_count": 43,
   "metadata": {},
   "outputs": [
    {
     "name": "stdout",
     "output_type": "stream",
     "text": [
      "[ 0.99380031  0.99387524  0.99392257  0.99393834  0.99396201  0.99398567\n",
      "  0.9939975   0.99402511  0.99403694  0.99404088  0.99405666  0.99406454\n",
      "  0.99406454  0.9940606   0.99404483  0.99404483  0.99404877  0.99403694\n",
      "  0.99404483  0.99404088  0.99403299  0.99402905  0.99402905  0.99403694\n",
      "  0.99403694  0.99403299  0.99403694  0.99404482  0.99405666  0.9940606 ]\n",
      "CPU times: user 3.4 s, sys: 278 ms, total: 3.68 s\n",
      "Wall time: 1min 23s\n"
     ]
    }
   ],
   "source": [
    "%%time\n",
    "logit_c_values = np.linspace(1, 4, 30)\n",
    "log_reg = LogisticRegressionCV(Cs=logit_c_values, random_state=17, n_jobs=-1).fit(X_train_sparse_with_new,y)\n",
    "logit_mean_cv_scores1 = np.mean(log_reg.scores_.values()[0],axis=0)\n",
    "print logit_mean_cv_scores1"
   ]
  },
  {
   "cell_type": "code",
   "execution_count": 44,
   "metadata": {},
   "outputs": [
    {
     "name": "stdout",
     "output_type": "stream",
     "text": [
      "Best results with Cs= 1.10344827586\n"
     ]
    }
   ],
   "source": [
    "print \"Best results with Cs=\", logit_c_values[1]"
   ]
  },
  {
   "cell_type": "code",
   "execution_count": 45,
   "metadata": {},
   "outputs": [
    {
     "name": "stdout",
     "output_type": "stream",
     "text": [
      "Roc_auc score for LogisticRegressionCV with time and cat is : 0.985692209511\n",
      "mean cross_val_score: 0.987318474066\n",
      "CPU times: user 6.49 s, sys: 583 ms, total: 7.07 s\n",
      "Wall time: 22.2 s\n"
     ]
    }
   ],
   "source": [
    "%%time\n",
    "estimator = LogisticRegressionCV(Cs=[2.10526315789], random_state=17, n_jobs=-1)\n",
    "estimator.fit(X_train, y_train)\n",
    "logit_valid_pred_proba = estimator.predict_proba(X_valid)\n",
    "print \"Roc_auc score for LogisticRegressionCV with time and cat is :\", roc_auc_score(y_valid, logit_valid_pred_proba[:,1])\n",
    "print \"mean cross_val_score:\", np.mean(cross_val_score(estimator, X_train_sparse_with_new,\n",
    "                                                                              y, n_jobs=-1, scoring='roc_auc', cv=skf))\n",
    "estimator.fit(X_train_sparse_with_new, y)\n",
    "test_pred = estimator.predict_proba(X_test_sparse_with_new)\n",
    "write_to_submission_file(test_pred[:,1], os.path.join(PATH_TO_DATA, 'kaggle_submission_LogisticRegressionCV_time_cat_withCs.csv'))\n",
    "#0.94400 on kaggle"
   ]
  },
  {
   "cell_type": "markdown",
   "metadata": {},
   "source": [
    "** Можно попробовать сделать смесь моделей. Например сделать LogisticRegressionCV c категориальными признаками и отдельно модель с временными признаками и потом усреднить результат. **"
   ]
  },
  {
   "cell_type": "code",
   "execution_count": 46,
   "metadata": {},
   "outputs": [
    {
     "name": "stdout",
     "output_type": "stream",
     "text": [
      "Size of train set is  (253561, 10)\n",
      "Roc_auc score for SGDClasifier with only time : 0.985692209511\n",
      "mean cross_val_score: 0.611395071554\n",
      "Roc_auc score for RandomForestClassifier with only time : 0.985692209511\n",
      "mean cross_val_score: 0.527136075736\n",
      "Roc_auc score for LogisticRegressionCV with only time : 0.611386752955\n",
      "mean cross_val_score: 0.608581834062\n",
      "------------------------------------------------------------------\n",
      "Size of train set is  (253561, 48416)\n",
      "Roc_auc score for SGDClasifier with only time : 0.971491990051\n",
      "mean cross_val_score: 0.974202586132\n",
      "Roc_auc score for RandomForestClassifier with only time : 0.922099220941\n",
      "mean cross_val_score: 0.91736554112\n",
      "Roc_auc score for LogisticRegressionCV with only time : 0.98559094589\n",
      "mean cross_val_score: 0.987268632315\n",
      "Result roc_auc:\n",
      "Roc_auc score for SGDClasifier average: 0.966089838508\n",
      "Roc_auc score for RandomForest average : 0.924334507061\n",
      "Roc_auc score for LogisticRegressionCV average: 0.980679219317\n",
      "CPU times: user 1min 39s, sys: 1.79 s, total: 1min 41s\n",
      "Wall time: 1min 17s\n"
     ]
    }
   ],
   "source": [
    "%%time\n",
    "new_feature_train = new_feature_df_time_sc[:253561]\n",
    "new_feature_test = new_feature_df_time_sc[253561:]\n",
    "new_feature_train_sparse_sc = csr_matrix(new_feature_train)\n",
    "new_feature_test_sparse_sc = csr_matrix(new_feature_test)\n",
    "\n",
    "X_train, y_train = new_feature_train_sparse_sc[:train_share, :], y[:train_share]\n",
    "X_valid, y_valid  = new_feature_train_sparse_sc[train_share:, :], y[train_share:]\n",
    "\n",
    "\n",
    "\n",
    "print \"Size of train set is \", new_feature_train_sparse_sc.shape\n",
    "\n",
    "estimator = SGDClassifier(loss='log', random_state=17, n_jobs=-1)\n",
    "estimator.fit(X_train, y_train)\n",
    "sgd_valid_pred_proba = estimator.predict_proba(X_valid)\n",
    "print \"Roc_auc score for SGDClasifier with only time :\", roc_auc_score(y_valid, logit_valid_pred_proba[:,1])\n",
    "print \"mean cross_val_score:\", np.mean(cross_val_score(estimator, new_feature_train_sparse_sc,\n",
    "                                                                              y, n_jobs=-1, scoring='roc_auc', cv=skf))\n",
    "\n",
    "\n",
    "estimator = RandomForestClassifier(random_state=17, oob_score=True, n_jobs=-1)\n",
    "estimator.fit(X_train, y_train)\n",
    "forest_valid_pred_proba = estimator.predict_proba(X_valid)\n",
    "print \"Roc_auc score for RandomForestClassifier with only time :\", roc_auc_score(y_valid, logit_valid_pred_proba[:,1])\n",
    "print \"mean cross_val_score:\", np.mean(cross_val_score(estimator, new_feature_train_sparse_sc,\n",
    "                                                                              y, n_jobs=-1, scoring='roc_auc', cv=skf))\n",
    "\n",
    "estimator = LogisticRegressionCV(Cs=[2.10526315789], random_state=17, n_jobs=-1)\n",
    "estimator.fit(X_train, y_train)\n",
    "logit_valid_pred_proba = estimator.predict_proba(X_valid)\n",
    "print \"Roc_auc score for LogisticRegressionCV with only time :\", roc_auc_score(y_valid, logit_valid_pred_proba[:,1])\n",
    "print \"mean cross_val_score:\", np.mean(cross_val_score(estimator, new_feature_train_sparse_sc,\n",
    "                                                                              y, n_jobs=-1, scoring='roc_auc', cv=skf))\n",
    "\n",
    "\n",
    "print \"------------------------------------------------------------------\"\n",
    "\n",
    "new_feature_train = new_feature_df_cat[:253561]\n",
    "new_feature_test = new_feature_df_cat[253561:]\n",
    "new_feature_train_sparse = csr_matrix(new_feature_train)\n",
    "new_feature_test_sparse = csr_matrix(new_feature_test)\n",
    "\n",
    "X_train_sparse_with_new_cat = csr_matrix(hstack([X_train_sparse, new_feature_train_sparse]))\n",
    "X_test_sparse_with_new_cat = csr_matrix(hstack([X_test_sparse, new_feature_test_sparse]))\n",
    "\n",
    "X_train, y_train = X_train_sparse_with_new_cat[:train_share, :], y[:train_share]\n",
    "X_valid, y_valid  = X_train_sparse_with_new_cat[train_share:, :], y[train_share:]\n",
    "\n",
    "print \"Size of train set is \", X_train_sparse_with_new_cat.shape\n",
    "\n",
    "estimator = SGDClassifier(loss='log', random_state=17, n_jobs=-1)\n",
    "estimator.fit(X_train, y_train)\n",
    "sgd_valid_pred_proba2 = estimator.predict_proba(X_valid)\n",
    "print \"Roc_auc score for SGDClasifier with only time :\", roc_auc_score(y_valid, sgd_valid_pred_proba2[:,1])\n",
    "print \"mean cross_val_score:\", np.mean(cross_val_score(estimator, X_train_sparse_with_new_cat,\n",
    "                                                                              y, n_jobs=-1, scoring='roc_auc', cv=skf))\n",
    "\n",
    "\n",
    "estimator = RandomForestClassifier(random_state=17, oob_score=True, n_jobs=-1)\n",
    "estimator.fit(X_train, y_train)\n",
    "forest_valid_pred_proba2 = estimator.predict_proba(X_valid)\n",
    "print \"Roc_auc score for RandomForestClassifier with only time :\", roc_auc_score(y_valid, forest_valid_pred_proba2[:,1])\n",
    "print \"mean cross_val_score:\", np.mean(cross_val_score(estimator, X_train_sparse_with_new_cat,\n",
    "                                                                              y, n_jobs=-1, scoring='roc_auc', cv=skf))\n",
    "\n",
    "estimator = LogisticRegressionCV(Cs=[2.10526315789], random_state=17, n_jobs=-1)\n",
    "estimator.fit(X_train, y_train)\n",
    "logit_valid_pred_proba2 = estimator.predict_proba(X_valid)\n",
    "print \"Roc_auc score for LogisticRegressionCV with only time :\", roc_auc_score(y_valid, logit_valid_pred_proba2[:,1])\n",
    "print \"mean cross_val_score:\", np.mean(cross_val_score(estimator, X_train_sparse_with_new_cat,\n",
    "                                                                              y, n_jobs=-1, scoring='roc_auc', cv=skf))\n",
    "\n",
    "\n",
    "\n",
    "print \"Result roc_auc:\"\n",
    "logit_av = (logit_valid_pred_proba[:,1] + logit_valid_pred_proba2[:,1])/2\n",
    "sgd_av = (sgd_valid_pred_proba[:,1] + sgd_valid_pred_proba2[:,1])/2\n",
    "forest_av = (forest_valid_pred_proba[:,1] + forest_valid_pred_proba2[:,1])/2\n",
    "print \"Roc_auc score for SGDClasifier average:\", roc_auc_score(y_valid, sgd_av)\n",
    "print \"Roc_auc score for RandomForest average :\", roc_auc_score(y_valid, forest_av)\n",
    "print \"Roc_auc score for LogisticRegressionCV average:\", roc_auc_score(y_valid, logit_av)"
   ]
  },
  {
   "cell_type": "markdown",
   "metadata": {},
   "source": [
    "** Как видно из вывода, такое смешение моделей не дает выигрыша в качестве модели, можно еще попробовать усреднить выходы разных класификаторов между собой **"
   ]
  },
  {
   "cell_type": "code",
   "execution_count": 47,
   "metadata": {},
   "outputs": [
    {
     "name": "stdout",
     "output_type": "stream",
     "text": [
      "Size of train set is  (253561, 48426)\n",
      "Roc_auc score for SGDClasifier with all : 0.971811635708\n",
      "Roc_auc score for RandomForestClassifier with all : 0.901958937276\n",
      "Roc_auc score for LogisticRegressionCV with all: 0.985692209511\n",
      "-------------------------------------------------------\n",
      "Roc_auc score for average all: 0.983262112659\n",
      "CPU times: user 1min, sys: 1.07 s, total: 1min 1s\n",
      "Wall time: 18.3 s\n"
     ]
    }
   ],
   "source": [
    "%%time\n",
    "new_feature_train = new_feature_df_cat[:253561]\n",
    "new_feature_test = new_feature_df_cat[253561:]\n",
    "new_feature_train_sparse = csr_matrix(new_feature_train)\n",
    "new_feature_test_sparse = csr_matrix(new_feature_test)\n",
    "\n",
    "X_train_sparse_with_new_cat = csr_matrix(hstack([X_train_sparse, new_feature_train_sparse]))\n",
    "X_test_sparse_with_new_cat = csr_matrix(hstack([X_test_sparse, new_feature_test_sparse]))\n",
    "\n",
    "\n",
    "new_feature_train = new_feature_df_time_sc[:253561]\n",
    "new_feature_test = new_feature_df_time_sc[253561:]\n",
    "new_feature_train_sparse_sc = csr_matrix(new_feature_train)\n",
    "new_feature_test_sparse_sc = csr_matrix(new_feature_test)\n",
    "\n",
    "\n",
    "X_train_sparse_with_new = csr_matrix(hstack([X_train_sparse_with_new_cat, new_feature_train_sparse_sc]))\n",
    "X_test_sparse_with_new = csr_matrix(hstack([X_test_sparse_with_new_cat, new_feature_test_sparse_sc]))\n",
    "\n",
    "X_train, y_train = X_train_sparse_with_new[:train_share, :], y[:train_share]\n",
    "X_valid, y_valid  = X_train_sparse_with_new[train_share:, :], y[train_share:]\n",
    "\n",
    "print \"Size of train set is \", X_train_sparse_with_new.shape\n",
    "\n",
    "estimator = SGDClassifier(loss='log', random_state=17, n_jobs=-1)\n",
    "estimator.fit(X_train, y_train)\n",
    "sgd_valid_pred_proba = estimator.predict_proba(X_valid)\n",
    "print \"Roc_auc score for SGDClasifier with all :\", roc_auc_score(y_valid, sgd_valid_pred_proba[:,1])\n",
    "\n",
    "\n",
    "estimator = RandomForestClassifier(random_state=17, oob_score=True, n_jobs=-1)\n",
    "estimator.fit(X_train, y_train)\n",
    "forest_valid_pred_proba = estimator.predict_proba(X_valid)\n",
    "print \"Roc_auc score for RandomForestClassifier with all :\", roc_auc_score(y_valid, forest_valid_pred_proba[:,1])\n",
    "\n",
    "estimator = LogisticRegressionCV(Cs=[2.10526315789], random_state=17, n_jobs=-1)\n",
    "estimator.fit(X_train, y_train)\n",
    "logit_valid_pred_proba = estimator.predict_proba(X_valid)\n",
    "print \"Roc_auc score for LogisticRegressionCV with all:\", roc_auc_score(y_valid, logit_valid_pred_proba[:,1])\n",
    "\n",
    "all_av = (logit_valid_pred_proba[:,1] + forest_valid_pred_proba[:,1] + sgd_valid_pred_proba[:,1])/3\n",
    "print \"-------------------------------------------------------\"\n",
    "print \"Roc_auc score for average all:\", roc_auc_score(y_valid, all_av)\n"
   ]
  },
  {
   "cell_type": "markdown",
   "metadata": {},
   "source": [
    "** Усреднение выходов разных класификаторов между собой тоже не принесло желаемого результата. Ради интереса можно проверить такое усреднение на тестовой выборке от kaggle**"
   ]
  },
  {
   "cell_type": "code",
   "execution_count": 48,
   "metadata": {
    "collapsed": true
   },
   "outputs": [],
   "source": [
    "estimator = SGDClassifier(loss='log', random_state=17, n_jobs=-1)\n",
    "estimator.fit(X_train_sparse_with_new, y)\n",
    "sgd_valid_pred_proba = estimator.predict_proba(X_test_sparse_with_new)\n",
    "\n",
    "\n",
    "estimator = RandomForestClassifier(random_state=17, oob_score=True, n_jobs=-1)\n",
    "estimator.fit(X_train_sparse_with_new, y)\n",
    "forest_valid_pred_proba = estimator.predict_proba(X_test_sparse_with_new)\n",
    "\n",
    "estimator = LogisticRegressionCV(Cs=[2.10526315789], random_state=17, n_jobs=-1)\n",
    "estimator.fit(X_train_sparse_with_new, y)\n",
    "logit_valid_pred_proba = estimator.predict_proba(X_test_sparse_with_new)\n",
    "\n",
    "all_av = (logit_valid_pred_proba[:,1] + forest_valid_pred_proba[:,1] + sgd_valid_pred_proba[:,1])/3\n",
    "write_to_submission_file(all_av, os.path.join(PATH_TO_DATA, 'kaggle_submission_avv_all.csv'))\n",
    "#0.93958 on kaggle"
   ]
  },
  {
   "cell_type": "markdown",
   "metadata": {},
   "source": [
    "** Попробуем еще одну хорошую библиотеку классификации - Vowpal-wabbit. У нее свой формат входных данных, подготовим признаки для нее **"
   ]
  },
  {
   "cell_type": "code",
   "execution_count": 49,
   "metadata": {
    "collapsed": true
   },
   "outputs": [],
   "source": [
    "def arrays_to_vw(X, y=None, train=True, out_file='tmp.vw'):\n",
    "    with open(os.path.join(PATH_TO_DATA, out_file), 'w') as vw_data:\n",
    "        for index in range(0, X.shape[0]):\n",
    "            line = ''\n",
    "            if train == True:\n",
    "                line += str(y[index]) + ' |'\n",
    "            else:\n",
    "                line += '1 | '\n",
    "            for val in X[index]:\n",
    "                line+= ' ' + str(int(val))\n",
    "            line += '\\n'\n",
    "            vw_data.write(line)"
   ]
  },
  {
   "cell_type": "code",
   "execution_count": 50,
   "metadata": {
    "collapsed": true
   },
   "outputs": [],
   "source": [
    "from sklearn import preprocessing\n",
    "y_to_vw = preprocessing.LabelEncoder().fit_transform(y) + 1\n",
    "arrays_to_vw(train_test_df_sites.as_matrix()[:253561], y_to_vw)\n",
    "arrays_to_vw(train_test_df_sites.as_matrix()[253561:], y_to_vw, out_file='test.vw')"
   ]
  },
  {
   "cell_type": "code",
   "execution_count": 51,
   "metadata": {},
   "outputs": [
    {
     "name": "stdout",
     "output_type": "stream",
     "text": [
      "my data\n",
      "1 | 718 0 0 0 0 0 0 0 0 0\r\n",
      "1 | 890 941 3847 941 942 3846 3847 3846 1516 1518\r\n",
      "1 | 14769 39 14768 14769 37 39 14768 14768 14768 14768\r\n"
     ]
    }
   ],
   "source": [
    "print \"my data\"\n",
    "!head -3 $PATH_TO_DATA/tmp.vw"
   ]
  },
  {
   "cell_type": "markdown",
   "metadata": {},
   "source": [
    "** Обучение модели **"
   ]
  },
  {
   "cell_type": "code",
   "execution_count": 52,
   "metadata": {},
   "outputs": [
    {
     "name": "stdout",
     "output_type": "stream",
     "text": [
      "final_regressor = /Users/cross/Documents/coursera/Yandex_ML/course6/kaggle/model.vw\n",
      "Num weight bits = 26\n",
      "learning rate = 0.5\n",
      "initial_t = 0\n",
      "power_t = 0.5\n",
      "decay_learning_rate = 1\n",
      "creating cache_file = /Users/cross/Documents/coursera/Yandex_ML/course6/kaggle/cache.vw\n",
      "Reading datafile = /Users/cross/Documents/coursera/Yandex_ML/course6/kaggle/tmp.vw\n",
      "num sources = 1\n",
      "average  since         example        example  current  current  current\n",
      "loss     last          counter         weight    label  predict features\n",
      "0.000000 0.000000            1            1.0        1        1       11\n",
      "0.000000 0.000000            2            2.0        1        1       11\n",
      "0.000000 0.000000            4            4.0        1        1       11\n",
      "0.000000 0.000000            8            8.0        1        1       11\n",
      "0.000000 0.000000           16           16.0        1        1       11\n",
      "0.000000 0.000000           32           32.0        1        1       11\n",
      "0.000000 0.000000           64           64.0        1        1       11\n",
      "0.000000 0.000000          128          128.0        1        1       11\n",
      "0.003906 0.007812          256          256.0        1        1       11\n",
      "0.003906 0.003906          512          512.0        1        1       11\n",
      "0.007812 0.011719         1024         1024.0        1        1       11\n",
      "0.006348 0.004883         2048         2048.0        1        1       11\n",
      "0.008057 0.009766         4096         4096.0        1        1       11\n",
      "0.009155 0.010254         8192         8192.0        1        1       11\n",
      "0.008850 0.008545        16384        16384.0        1        1       11\n",
      "0.009918 0.010986        32768        32768.0        1        1       11\n",
      "0.009430 0.008942        65536        65536.0        1        1       11\n",
      "0.009254 0.009079       131072       131072.0        1        1       11\n",
      "0.008755 0.008755       262144       262144.0        1        1       11 h\n",
      "0.008412 0.008068       524288       524288.0        1        1       11 h\n",
      "\n",
      "finished run\n",
      "number of examples per pass = 228205\n",
      "passes used = 3\n",
      "weighted example sum = 684615.000000\n",
      "weighted label sum = 0.000000\n",
      "average loss = 0.008045 h\n",
      "total feature number = 7530765\n",
      "CPU times: user 149 ms, sys: 64.8 ms, total: 214 ms\n",
      "Wall time: 10.2 s\n"
     ]
    }
   ],
   "source": [
    "%%time\n",
    "!vw -d $PATH_TO_DATA/tmp.vw --oaa 2 --passes 3 -b 26 --random_seed 17 -k\\\n",
    "   --cache_file $PATH_TO_DATA/cache.vw -f $PATH_TO_DATA/model.vw"
   ]
  },
  {
   "cell_type": "markdown",
   "metadata": {},
   "source": [
    "** Сделаем предсказание для тестовой выборки **"
   ]
  },
  {
   "cell_type": "code",
   "execution_count": 53,
   "metadata": {},
   "outputs": [
    {
     "name": "stdout",
     "output_type": "stream",
     "text": [
      "ignoring duplicate option: '--bit_precision 26'\n",
      "only testing\n",
      "predictions = /Users/cross/Documents/coursera/Yandex_ML/course6/kaggle/pred.vw\n",
      "WARNING: --probabilities should be used only with --loss_function=logistic\n",
      "Num weight bits = 26\n",
      "learning rate = 0.5\n",
      "initial_t = 0\n",
      "power_t = 0.5\n",
      "using no cache\n",
      "Reading datafile = /Users/cross/Documents/coursera/Yandex_ML/course6/kaggle/test.vw\n",
      "num sources = 1\n",
      "average  since         example        example  current  current  current\n",
      "loss     last          counter         weight    label  predict features\n",
      "0.000000 0.000000            1            1.0        1   1(73%)       11\n",
      "0.000000 0.000000            2            2.0        1   1(73%)       11\n",
      "0.000000 0.000000            4            4.0        1   1(73%)       11\n",
      "0.000000 0.000000            8            8.0        1   1(73%)       11\n",
      "0.062500 0.125000           16           16.0        1   1(73%)       11\n",
      "0.031250 0.000000           32           32.0        1   1(71%)       11\n",
      "0.015625 0.000000           64           64.0        1   1(73%)       11\n",
      "0.007812 0.000000          128          128.0        1   1(73%)       11\n",
      "0.007812 0.007812          256          256.0        1   1(73%)       11\n",
      "0.009766 0.011719          512          512.0        1   1(73%)       11\n",
      "0.011719 0.013672         1024         1024.0        1   1(73%)       11\n",
      "0.011719 0.011719         2048         2048.0        1   1(68%)       11\n",
      "0.010986 0.010254         4096         4096.0        1   1(73%)       11\n",
      "0.011230 0.011475         8192         8192.0        1   1(73%)       11\n",
      "0.011292 0.011353        16384        16384.0        1   1(73%)       11\n",
      "0.011749 0.012207        32768        32768.0        1   1(73%)       11\n",
      "0.011520 0.011292        65536        65536.0        1   1(73%)       11\n",
      "\n",
      "finished run\n",
      "number of examples per pass = 82797\n",
      "passes used = 1\n",
      "weighted example sum = 82797.000000\n",
      "weighted label sum = 0.000000\n",
      "average loss = 0.011583\n",
      "average multiclass log loss = 0.329537\n",
      "total feature number = 910767\n",
      "CPU times: user 16.9 ms, sys: 15.2 ms, total: 32.1 ms\n",
      "Wall time: 609 ms\n"
     ]
    }
   ],
   "source": [
    "%%time\n",
    "!vw -d  $PATH_TO_DATA/test.vw -b 26 --random_seed 17 -t \\\n",
    "    -i $PATH_TO_DATA/model.vw -p $PATH_TO_DATA/pred.vw --probabilities"
   ]
  },
  {
   "cell_type": "markdown",
   "metadata": {},
   "source": [
    "** формат данных отличается, для того что бы была возможность отправки в kaggle требуется преборазование к формату соревнования **"
   ]
  },
  {
   "cell_type": "code",
   "execution_count": 54,
   "metadata": {},
   "outputs": [
    {
     "name": "stdout",
     "output_type": "stream",
     "text": [
      "1:0.731059 2:0.268941\r\n",
      "1:0.731059 2:0.268941\r\n",
      "1:0.731059 2:0.268941\r\n",
      "1:0.731059 2:0.268941\r\n",
      "1:0.731059 2:0.268941\r\n",
      "1:0.731059 2:0.268941\r\n",
      "1:0.682496 2:0.317504\r\n",
      "1:0.731059 2:0.268941\r\n",
      "1:0.731059 2:0.268941\r\n",
      "1:0.701628 2:0.298372\r\n"
     ]
    }
   ],
   "source": [
    "!head -n 10 $PATH_TO_DATA/pred.vw"
   ]
  },
  {
   "cell_type": "code",
   "execution_count": 55,
   "metadata": {
    "collapsed": true
   },
   "outputs": [],
   "source": [
    "vw_df_pred = pd.DataFrame.from_csv(os.path.join(PATH_TO_DATA, 'pred.vw'), header=None, sep=' ')\n",
    "pred = [float(x.split(':')[1]) for x in vw_df_pred.as_matrix()[:,0]]\n",
    "write_to_submission_file(np.array(pred), os.path.join(PATH_TO_DATA, 'kaggle_submission_vowpal-wabbit.csv'))\n",
    "#0.83735 on kaggle"
   ]
  },
  {
   "cell_type": "markdown",
   "metadata": {},
   "source": [
    "** Как видно результат данного метода немного хуже чем результаты линейных методов. Но при сравнении нужно учитывать что пространство признаков в данной попытке было меньше чем в предыдущих методах. ** "
   ]
  },
  {
   "cell_type": "markdown",
   "metadata": {},
   "source": [
    "# Выводы:"
   ]
  },
  {
   "cell_type": "markdown",
   "metadata": {},
   "source": [
    "** Задачей данного соревнования было выяснить возможно ли с достаточно точностью идентифицировать пользователя анализируя его предыдущую историю посещения сайтов в интернете за разумное время. Лучшая модель полученная мной в данном соревновании имеет точность на тестовой выборке 0.94400(4 место на public leaderboard kaggle момент написания). Такой результат был получен с применением метода логистической регрессии с учетом как истории посещенных сайтов пользователями в прошлом так и временных интервалов между посещениями. Так же в модель были добавлены синтетические признаки такие как:  ** \n",
    "- количество  посещенных уникальных сайтов за сессию,\n",
    "- количество посещенных популярных среди данных пользователей сайтов,\n",
    "- день недели и час начала сессии. \n",
    "\n",
    "** Обьединение разных моделей( путем усреднения вероятностей ) в данном случае не привело к увеличению точности идентификации пользователя. На практике можно попробовать и другие методы обьединения моделей, например \"голосование\" или усреднения с весами. **\n",
    "\n",
    "** Так же для улучшения предсказаний можно попробовать ввести еще дополнительные признаки, например время посещения социальных сетей, принадлежит ли первый( и/или последний) сайт к социальным сетям или рабочим сайтам, время потраченное на соц. сети. Для улучшения моделей можно еще попробовать метод n-gram. **\n",
    "\n",
    "** Для ускорения моделей так же можно использовать метод \"главных компонент\" для уменьшения признакового пространства и ускорения как обучения так и предсказания. Но в данном небольшом наборе данных такой необходимости нет ** \n",
    "\n",
    "** Данная модель может быть использована для идентификации не санкционировано доступа к аккаунту пользователей по анализу его поведения и сравнения с историческими данными **\n"
   ]
  },
  {
   "cell_type": "code",
   "execution_count": null,
   "metadata": {
    "collapsed": true
   },
   "outputs": [],
   "source": []
  }
 ],
 "metadata": {
  "kernelspec": {
   "display_name": "Python 3",
   "language": "python",
   "name": "python3"
  },
  "language_info": {
   "codemirror_mode": {
    "name": "ipython",
    "version": 3
   },
   "file_extension": ".py",
   "mimetype": "text/x-python",
   "name": "python",
   "nbconvert_exporter": "python",
   "pygments_lexer": "ipython3",
   "version": "3.6.1"
  }
 },
 "nbformat": 4,
 "nbformat_minor": 1
}
