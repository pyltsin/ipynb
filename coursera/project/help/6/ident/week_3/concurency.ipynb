{
 "cells": [
  {
   "cell_type": "code",
   "execution_count": 1,
   "metadata": {
    "collapsed": true
   },
   "outputs": [],
   "source": [
    "import concurrent.futures\n",
    "import math\n",
    "from concurrent.futures import as_completed\n",
    "\n",
    "PRIMES = [\n",
    "    112272535095293,\n",
    "    112582705942171,\n",
    "    112272535095293,\n",
    "    115280095190773,\n",
    "    115797848077099,\n",
    "    1099726899285419]\n",
    "\n",
    "def is_prime(n):\n",
    "    if n % 2 == 0:\n",
    "        return False\n",
    "\n",
    "    sqrt_n = int(math.floor(math.sqrt(n)))\n",
    "    for i in range(3, sqrt_n + 1, 2):\n",
    "        if n % i == 0:\n",
    "            return False\n",
    "    return True\n",
    "\n",
    "def main():\n",
    "    with concurrent.futures.ProcessPoolExecutor() as executor:\n",
    "#         for number, prime in zip(PRIMES, executor.map(is_prime, PRIMES)):\n",
    "#             print('%d is prime: %s' % (number, prime))\n",
    "        futures = [executor.submit(is_prime, a) for a in PRIMES]\n",
    "        kwargs = {\n",
    "                'total': len(futures),\n",
    "                'unit': 'it',\n",
    "                'unit_scale': True,\n",
    "                'leave': True\n",
    "            }\n",
    "        for f in tqdm(as_completed(futures), **kwargs):\n",
    "            pass\n",
    "    out = []\n",
    "    #Get the results from the futures. \n",
    "    for i, future in tqdm(enumerate(futures)):\n",
    "        try:\n",
    "            out.append(future.result())\n",
    "        except Exception as e:\n",
    "            out.append(e)\n",
    "    return out\n"
   ]
  },
  {
   "cell_type": "code",
   "execution_count": 4,
   "metadata": {
    "collapsed": true
   },
   "outputs": [],
   "source": [
    "%load_ext cython"
   ]
  },
  {
   "cell_type": "code",
   "execution_count": 1,
   "metadata": {},
   "outputs": [
    {
     "data": {
      "text/plain": [
       "'0.26'"
      ]
     },
     "execution_count": 1,
     "metadata": {},
     "output_type": "execute_result"
    }
   ],
   "source": [
    "import Cython"
   ]
  },
  {
   "cell_type": "code",
   "execution_count": 5,
   "metadata": {
    "collapsed": true
   },
   "outputs": [],
   "source": [
    "%%cython --cplus\n",
    "from libcpp.vector cimport vector\n",
    "# from libcpp.pair cimport pair\n",
    "from cython.operator cimport dereference as deref, preincrement as inc\n",
    "cimport numpy as np\n",
    "\n",
    "cdef extern from \"<algorithm>\" namespace \"std\":\n",
    "    OutputIterator set_intersection[InputIterator1, InputIterator2, OutputIterator]\\\n",
    "    (InputIterator1 first1, InputIterator1 last1,InputIterator2 first2, InputIterator2 last2,\\\n",
    "                                   OutputIterator result)\n",
    "\n",
    "def rotate_list(list ll,list  rr):\n",
    "    cdef vector[int] vect1 = ll\n",
    "    cdef vector[int] vect2 = rr\n",
    "    cdef vector[int] vect3 = np.ndarray(vect1.size())\n",
    "    cdef vector[int].iterator end\n",
    "    cdef vector[int].iterator it\n",
    "    cdef size_t t=0\n",
    "    \n",
    "    end=set_intersection[vector[int].iterator,vector[int].iterator,vector[int].iterator]\\\n",
    "    (vect1.begin(), vect1.end(), vect2.begin(),vect2.end(),vect3.begin())\n",
    "    \n",
    "#     it = vect3.begin()\n",
    "    t = end - vect3.begin()\n",
    "    \n",
    "#     while it != end:\n",
    "#         t +=1\n",
    "#         inc(it)\n",
    "    vect3.resize(t)\n",
    "    return vect3\n",
    "#     copy[vector[int].iterator,vector[int].iterator](vect1.begin(), vect1.end(), vect2.begin())\n",
    "#     return vect2\n",
    "# #     rotate[vector[int].iterator](ll.begin(), ll.begin()+rot, ll.end())"
   ]
  },
  {
   "cell_type": "code",
   "execution_count": 106,
   "metadata": {},
   "outputs": [
    {
     "name": "stdout",
     "output_type": "stream",
     "text": [
      "The slowest run took 5.64 times longer than the fastest. This could mean that an intermediate result is being cached.\n",
      "10000 loops, best of 3: 20.2 µs per loop\n"
     ]
    }
   ],
   "source": [
    "%%timeit\n",
    "rotate_list(np.random.randint(100,size=50).tolist(),np.random.randint(100,size=50).tolist())"
   ]
  },
  {
   "cell_type": "code",
   "execution_count": 109,
   "metadata": {},
   "outputs": [
    {
     "data": {
      "text/plain": [
       "array([ True, False, False, False, False, False, False,  True,  True,\n",
       "       False, False, False, False, False,  True, False, False, False,\n",
       "       False,  True,  True, False, False, False, False, False, False,\n",
       "        True, False, False,  True, False, False, False,  True,  True,\n",
       "       False,  True,  True, False,  True, False, False, False, False,\n",
       "       False, False, False, False, False], dtype=bool)"
      ]
     },
     "execution_count": 109,
     "metadata": {},
     "output_type": "execute_result"
    }
   ],
   "source": [
    "np.in1d(np.random.randint(100,size=50),np.random.randint(100,size=50))"
   ]
  },
  {
   "cell_type": "code",
   "execution_count": 85,
   "metadata": {},
   "outputs": [
    {
     "data": {
      "text/plain": [
       "array([13, 14, 73, 66, 11,  0, 51, 86, 22, 69, 32, 78, 54, 29, 90, 65, 75,\n",
       "       30, 31, 41,  5, 77, 58, 86, 72, 47, 95, 75, 64,  0, 48, 19, 24, 97,\n",
       "       48, 43, 48, 25, 85, 78, 44, 73, 58, 83, 83, 47, 60, 23, 51, 45])"
      ]
     },
     "execution_count": 85,
     "metadata": {},
     "output_type": "execute_result"
    }
   ],
   "source": [
    "np.random.randint(100,size=50)"
   ]
  },
  {
   "cell_type": "code",
   "execution_count": null,
   "metadata": {
    "collapsed": true
   },
   "outputs": [],
   "source": []
  }
 ],
 "metadata": {
  "kernelspec": {
   "display_name": "Python 3",
   "language": "python",
   "name": "python3"
  },
  "language_info": {
   "codemirror_mode": {
    "name": "ipython",
    "version": 3
   },
   "file_extension": ".py",
   "mimetype": "text/x-python",
   "name": "python",
   "nbconvert_exporter": "python",
   "pygments_lexer": "ipython3",
   "version": "3.6.1"
  }
 },
 "nbformat": 4,
 "nbformat_minor": 2
}
