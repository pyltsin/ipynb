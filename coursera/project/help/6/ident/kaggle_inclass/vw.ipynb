{
 "cells": [
  {
   "cell_type": "code",
   "execution_count": 2,
   "metadata": {
    "collapsed": true
   },
   "outputs": [],
   "source": [
    "from __future__ import division, print_function\n",
    "# отключим всякие предупреждения Anaconda\n",
    "import warnings\n",
    "warnings.filterwarnings('ignore')\n",
    "import os\n",
    "import pickle\n",
    "import numpy as np\n",
    "import itertools\n",
    "from time import time\n",
    "import pandas as pd\n",
    "import tqdm\n",
    "from collections import Counter\n",
    "from scipy.sparse import csr_matrix\n",
    "from sklearn.model_selection import train_test_split\n",
    "from sklearn.linear_model import SGDClassifier\n",
    "from sklearn.metrics import accuracy_score\n",
    "import xgboost as xgb\n",
    "from subprocess import Popen,PIPE,STDOUT\n",
    "from sklearn.preprocessing import LabelEncoder"
   ]
  },
  {
   "cell_type": "code",
   "execution_count": 53,
   "metadata": {
    "collapsed": true
   },
   "outputs": [],
   "source": [
    "def train_vw_model(train_vw_file, model_filename, num_classes=10,\n",
    "                   bit_precision=28,l2=1e-8, passes=3,\n",
    "                   seed=17, quiet=True,add_args=None):\n",
    "    init_time = time()\n",
    "    vw_call_string = ('vw --oaa {num_classes} {train_vw_file} ' + \n",
    "                       '-f {model_filename} -b {bit_precision} --random_seed {seed}').format(\n",
    "                       num_classes=num_classes, train_vw_file=train_vw_file, \n",
    "                       model_filename=model_filename, bit_precision=bit_precision, seed=seed)\n",
    "            \n",
    "    if passes > 1:\n",
    "         vw_call_string += ' -k --passes={} --cache_file {}'.format(passes, \n",
    "                            model_filename.replace('.vw', '.cache'))\n",
    "    if quiet:\n",
    "        vw_call_string += ' --quiet'\n",
    "    \n",
    "    vw_call_string += \" --l2 {}\".format(l2)\n",
    "    \n",
    "    if add_args:\n",
    "        vw_call_string += \" {}\".format(\" \".join(add_args))   \n",
    "    \n",
    "    proc = Popen(vw_call_string,stdout=PIPE,shell=True)\n",
    "    out,err=proc.communicate()\n",
    "    print('Success. Elapsed: {} sec.'.format(round(time() - init_time, 2))\n",
    "          if not err else 'Failed.')\n",
    "    return out\n",
    "\n",
    "def test_vw_model(model_filename, test_vw_file, prediction_filename,\n",
    "                  true_labels, seed=17, quiet=True):\n",
    "    init_time = time()\n",
    "    vw_call_string = ('vw -t -i {model_filename} {test_vw_file} ' + \n",
    "                       '-p {prediction_filename} --random_seed {seed}').format(\n",
    "                       model_filename=model_filename, test_vw_file=test_vw_file, \n",
    "                       prediction_filename=prediction_filename, seed=seed)\n",
    "    if quiet:\n",
    "        vw_call_string += ' --quiet'\n",
    "        \n",
    "    proc = Popen(vw_call_string,stdout=PIPE,shell=True)\n",
    "    out,err=proc.communicate()\n",
    "        \n",
    "    if not err: # the call resulted OK\n",
    "        vw_pred = np.loadtxt(prediction_filename)\n",
    "        accuracy = accuracy_score(true_labels, vw_pred)\n",
    "        print(\"Accuracy: {}%. Elapsed: {} sec.\".format(\n",
    "            round(100 * accuracy, 2), \n",
    "            round(time() - init_time, 2)))\n",
    "        return accuracy\n",
    "    else:\n",
    "        print('Failed.')"
   ]
  },
  {
   "cell_type": "code",
   "execution_count": null,
   "metadata": {
    "collapsed": true
   },
   "outputs": [],
   "source": [
    "! ls /tmp/working/machinleaning/ml/6/ident/data/capstone_user/"
   ]
  },
  {
   "cell_type": "code",
   "execution_count": 14,
   "metadata": {
    "collapsed": true
   },
   "outputs": [],
   "source": [
    "# Поменяйте на свой путь к данным\n",
    "PATH_TO_DATA = '/tmp/working/machinlearning/6/ident/kaggle_data/'"
   ]
  },
  {
   "cell_type": "code",
   "execution_count": 20,
   "metadata": {},
   "outputs": [],
   "source": [
    "with open(os.path.join(PATH_TO_DATA, 'X_train_sparse.pkl'), 'rb') as X_train_sparse_pkl:\n",
    "    X_train_sparse = pickle.load(X_train_sparse_pkl)\n",
    "with open(os.path.join(PATH_TO_DATA, 'X_test_sparse.pkl'), 'rb') as X_test_sparse_pkl:\n",
    "    X_test_sparse = pickle.load(X_test_sparse_pkl)\n",
    "with open(os.path.join(PATH_TO_DATA, 'train_target.pkl'), 'rb') as train_target_pkl:\n",
    "    y = pickle.load(train_target_pkl)"
   ]
  },
  {
   "cell_type": "code",
   "execution_count": null,
   "metadata": {
    "collapsed": true
   },
   "outputs": [],
   "source": [
    "import multiprocessing\n",
    "\n",
    "def nonzero(x,mark=None):\n",
    "    \n",
    "    nonzero_index = x.nonzero()[1]\n",
    "    values = x[:,nonzero_index].data\n",
    "\n",
    "    pair=(str(index)+':'+str(val) for index,val in zip(nonzero_index,values))\n",
    "    features = ' '.join(pair)\n",
    "    \n",
    "    ret_val = \"{0} | sites {1}\".format(mark,features)\\\n",
    "    if not mark is None else\\\n",
    "    \"1 | sites {0}\".format(features)\n",
    "    \n",
    "    return ret_val\n",
    "\n",
    "def sparse_matrix_to_vw(X_sparse, y=None, out_file='tmp.vw'):\n",
    "    pool = multiprocessing.Pool(processes=4)\n",
    "    if not y is None:\n",
    "        features = pool.starmap(nonzero,\\\n",
    "                            ((X_sparse[i,:],y[i]) for i in tqdm.tqdm_notebook(range(X_sparse.shape[0]))))\n",
    "    else:\n",
    "        features = pool.map(nonzero,\\\n",
    "                            (X_sparse[i,:] for i in tqdm.tqdm_notebook(range(X_sparse.shape[0]))))\n",
    "    \n",
    "    pool.close()\n",
    "    pool.join()\n",
    "    with open(out_file,'w') as f:\n",
    "        for line in features:\n",
    "            f.write(line+'\\n')"
   ]
  },
  {
   "cell_type": "code",
   "execution_count": 12,
   "metadata": {
    "collapsed": true
   },
   "outputs": [],
   "source": [
    "class_encoder = LabelEncoder().fit(y)\n",
    "\n",
    "y_for_vw = class_encoder.transform(y) + 1\n",
    "\n",
    "X_train, X_valid, y_train, y_valid = train_test_split(X_train_sparse, y_for_vw, test_size=0.3, \n",
    "                                                     random_state=17, stratify=y_for_vw)\n",
    "\n",
    "# Поменяйте на свой путь к данным\n",
    "PATH_TO_DATA = '/tmp/working/machinlearning/6/ident/data/capstone_user/' \n",
    "\n",
    "train_part_vw = os.path.join(PATH_TO_DATA, 'train_part.vw')\n",
    "valid_vw = os.path.join(PATH_TO_DATA, 'valid.vw')\n",
    "train_vw = os.path.join(PATH_TO_DATA, 'train.vw')\n",
    "test_vw = os.path.join(PATH_TO_DATA, 'test.vw')\n",
    "model = os.path.join(PATH_TO_DATA, 'vw_model_full.vw')\n",
    "model_part = os.path.join(PATH_TO_DATA, 'vw_model_part.vw')\n",
    "pred = os.path.join(PATH_TO_DATA, 'vw_pred.csv')\n",
    "\n",
    "train_vw_model(train_part_vw,model_part,num_classes=400)\n",
    "\n",
    "test_vw_model(model_part,valid_vw,pred,y_valid,quiet=False)\n",
    "\n",
    "def train_vw_model(train_vw_file, model_filename, num_classes=10,\n",
    "                   bit_precision=28,l2=1e-8, passes=1,\n",
    "                   seed=17, quiet=True):\n",
    "    init_time = time()\n",
    "    vw_call_string = ('vw --oaa {num_classes} {train_vw_file} ' + \n",
    "                       '-f {model_filename} -b {bit_precision} --random_seed {seed}').format(\n",
    "                       num_classes=num_classes, train_vw_file=train_vw_file, \n",
    "                       model_filename=model_filename, bit_precision=bit_precision, seed=seed)\n",
    "            \n",
    "    if passes > 1:\n",
    "         vw_call_string += ' -k --passes={} --cache_file {}'.format(passes, \n",
    "                            model_filename.replace('.vw', '.cache'))\n",
    "    if quiet:\n",
    "        vw_call_string += ' --quiet'\n",
    "    \n",
    "    vw_call_string += \" --l2 {}\".format(l2)\n",
    "    \n",
    "    \n",
    "    proc = Popen(vw_call_string,stdout=PIPE,shell=True)\n",
    "    out,err=proc.communicate()\n",
    "    print('Success. Elapsed: {} sec.'.format(round(time() - init_time, 2))\n",
    "          if not err else 'Failed.')\n",
    "    return out\n",
    "\n",
    "def test_vw_model(model_filename, test_vw_file, prediction_filename,\n",
    "                  true_labels, seed=17, quiet=True):\n",
    "    init_time = time()\n",
    "    vw_call_string = ('vw -t -i {model_filename} {test_vw_file} ' + \n",
    "                       '-p {prediction_filename} --random_seed {seed}').format(\n",
    "                       model_filename=model_filename, test_vw_file=test_vw_file, \n",
    "                       prediction_filename=prediction_filename, seed=seed)\n",
    "    if quiet:\n",
    "        vw_call_string += ' --quiet'\n",
    "        \n",
    "    proc = Popen(vw_call_string,stdout=PIPE,shell=True)\n",
    "    out,err=proc.communicate()\n",
    "        \n",
    "    if not err: # the call resulted OK\n",
    "        vw_pred = np.loadtxt(prediction_filename)\n",
    "        print(\"Accuracy: {}%. Elapsed: {} sec.\".format(\n",
    "            round(100 * accuracy_score(true_labels, vw_pred), 2), \n",
    "            round(time() - init_time, 2)))\n",
    "    else:\n",
    "        print('Failed.')"
   ]
  },
  {
   "cell_type": "code",
   "execution_count": 14,
   "metadata": {
    "collapsed": true
   },
   "outputs": [],
   "source": [
    "class_encoder = LabelEncoder().fit(y)\n",
    "y_for_vw = class_encoder.transform(y) + 1"
   ]
  },
  {
   "cell_type": "code",
   "execution_count": 15,
   "metadata": {
    "collapsed": true
   },
   "outputs": [],
   "source": [
    "X_train, X_valid, y_train, y_valid = train_test_split(X_train_sparse, y_for_vw, test_size=0.3, \n",
    "                                                     random_state=17, stratify=y_for_vw)"
   ]
  },
  {
   "cell_type": "code",
   "execution_count": 16,
   "metadata": {
    "collapsed": true
   },
   "outputs": [],
   "source": [
    "train_part_vw = os.path.join(PATH_TO_DATA, 'train_part.vw')\n",
    "valid_vw = os.path.join(PATH_TO_DATA, 'valid.vw')\n",
    "train_vw = os.path.join(PATH_TO_DATA, 'train.vw')\n",
    "test_vw = os.path.join(PATH_TO_DATA, 'test.vw')\n",
    "model = os.path.join(PATH_TO_DATA, 'vw_model_full.vw')\n",
    "model_part = os.path.join(PATH_TO_DATA, 'vw_model_part.vw')\n",
    "pred = os.path.join(PATH_TO_DATA, 'vw_pred.csv')"
   ]
  },
  {
   "cell_type": "code",
   "execution_count": 19,
   "metadata": {},
   "outputs": [
    {
     "name": "stdout",
     "output_type": "stream",
     "text": [
      "Success. Elapsed: 21.39 sec.\n",
      "Accuracy: 4.59%. Elapsed: 1.23 sec.\n"
     ]
    }
   ],
   "source": [
    "train_vw_model(train_part_vw,model_part,l2=1e-5,num_classes=400)\n",
    "\n",
    "test_vw_model(model_part,valid_vw,pred,y_valid,quiet=False)"
   ]
  },
  {
   "cell_type": "code",
   "execution_count": 30,
   "metadata": {
    "collapsed": true
   },
   "outputs": [],
   "source": [
    "index = np.unique(np.random.randint(1,1000,size=121))"
   ]
  },
  {
   "cell_type": "code",
   "execution_count": 31,
   "metadata": {},
   "outputs": [
    {
     "data": {
      "text/plain": [
       "113"
      ]
     },
     "execution_count": 31,
     "metadata": {},
     "output_type": "execute_result"
    }
   ],
   "source": [
    "len(index)"
   ]
  },
  {
   "cell_type": "code",
   "execution_count": 49,
   "metadata": {
    "collapsed": true
   },
   "outputs": [],
   "source": [
    "l2_linspace = np.linspace(1e-12,1e-5,30)"
   ]
  },
  {
   "cell_type": "code",
   "execution_count": 47,
   "metadata": {},
   "outputs": [
    {
     "name": "stdout",
     "output_type": "stream",
     "text": [
      "Success. Elapsed: 26.51 sec.\n",
      "Accuracy: 34.94%. Elapsed: 1.16 sec.\n"
     ]
    },
    {
     "data": {
      "text/plain": [
       "0.34939275684744153"
      ]
     },
     "execution_count": 47,
     "metadata": {},
     "output_type": "execute_result"
    }
   ],
   "source": [
    "train_vw_model(train_part_vw,model_part,l2=1e-8,num_classes=400)\n",
    "test_vw_model(model_part,valid_vw,pred,y_valid,quiet=False)"
   ]
  },
  {
   "cell_type": "code",
   "execution_count": 54,
   "metadata": {},
   "outputs": [
    {
     "name": "stdout",
     "output_type": "stream",
     "text": [
      "Success. Elapsed: 11.31 sec.\n",
      "Accuracy: 32.53%. Elapsed: 1.09 sec.\n"
     ]
    }
   ],
   "source": [
    "train_vw_model(train_part_vw,model_part,l2=1e-12,num_classes=400,add_args=['--loss_function hinge'])\n",
    "acc=test_vw_model(model_part,valid_vw,pred,y_valid,quiet=False)"
   ]
  },
  {
   "cell_type": "code",
   "execution_count": 58,
   "metadata": {},
   "outputs": [
    {
     "name": "stdout",
     "output_type": "stream",
     "text": [
      "Success. Elapsed: 79.51 sec.\n",
      "Accuracy: 31.26%. Elapsed: 1.24 sec.\n"
     ]
    }
   ],
   "source": [
    "train_vw_model(train_part_vw,model_part,l2=1e-12,num_classes=400,add_args=['--loss_function logistic'])\n",
    "acc=test_vw_model(model_part,valid_vw,pred,y_valid,quiet=False)"
   ]
  },
  {
   "cell_type": "code",
   "execution_count": 60,
   "metadata": {
    "collapsed": true
   },
   "outputs": [],
   "source": [
    "from itertools import product"
   ]
  },
  {
   "cell_type": "code",
   "execution_count": 66,
   "metadata": {},
   "outputs": [
    {
     "name": "stderr",
     "output_type": "stream",
     "text": [
      "\n",
      "0it [00:00, ?it/s]\u001b[A\n",
      "20it [00:00, 1892.95it/s]"
     ]
    },
    {
     "name": "stdout",
     "output_type": "stream",
     "text": [
      "1e-12 squared (9.9999999999999998e-13, 0.34952040555818958)\n",
      "1e-12 classic (9.9999999999999998e-13, 0.3500127648710748)\n",
      "1e-12 hinge (9.9999999999999998e-13, 0.32526715051606553)\n",
      "1e-12 logistic (9.9999999999999998e-13, 0.3126299281520114)\n",
      "2.50000075e-06 squared (2.5000007500000002e-06, 0.15148254859768773)\n",
      "2.50000075e-06 classic (2.5000007500000002e-06, 0.16120208614464424)\n",
      "2.50000075e-06 hinge (2.5000007500000002e-06, 0.32160180896458662)\n",
      "2.50000075e-06 logistic (2.5000007500000002e-06, 0.024617965644261278)\n",
      "5.0000005e-06 squared (5.000000500000001e-06, 0.061836682592362961)\n",
      "5.0000005e-06 classic (5.000000500000001e-06, 0.056438965680732339)\n",
      "5.0000005e-06 hinge (5.000000500000001e-06, 0.31547467084868158)\n",
      "5.0000005e-06 logistic (5.000000500000001e-06, 0.024380903752872097)\n",
      "7.50000025e-06 squared (7.5000002500000009e-06, 0.032331594879463146)\n",
      "7.50000025e-06 classic (7.5000002500000009e-06, 0.029578029833327253)\n",
      "7.50000025e-06 hinge (7.5000002500000009e-06, 0.30641161238557207)\n",
      "7.50000025e-06 logistic (7.5000002500000009e-06, 0.025693861920566032)\n",
      "1e-05 squared (1.0000000000000001e-05, 0.026860935847405083)\n",
      "1e-05 classic (1.0000000000000001e-05, 0.026076808052810097)\n",
      "1e-05 hinge (1.0000000000000001e-05, 0.28757430978518544)\n",
      "1e-05 logistic (1.0000000000000001e-05, 0.028064480834457856)\n"
     ]
    },
    {
     "name": "stderr",
     "output_type": "stream",
     "text": [
      "\u001b[A"
     ]
    }
   ],
   "source": [
    "it1=product(\\\n",
    "                                     np.linspace(1e-12,1e-5,5)\\\n",
    "                                     ,['squared', 'classic', 'hinge', 'logistic'])\n",
    "it2=acc_list\n",
    "it3=zip(it1,it2)\n",
    "\n",
    "for (loss_f, l2_),name_ in tqdm.tqdm(it3):\n",
    "    print(loss_f, l2_,name_)"
   ]
  },
  {
   "cell_type": "code",
   "execution_count": 64,
   "metadata": {},
   "outputs": [
    {
     "data": {
      "application/vnd.jupyter.widget-view+json": {
       "model_id": "1eb75097111d49328032bbe8a8b34144"
      }
     },
     "metadata": {},
     "output_type": "display_data"
    },
    {
     "name": "stdout",
     "output_type": "stream",
     "text": [
      "Success. Elapsed: 26.95 sec.\n",
      "Accuracy: 34.95%. Elapsed: 1.13 sec.\n",
      "Success. Elapsed: 18.78 sec.\n",
      "Accuracy: 35.0%. Elapsed: 1.1 sec.\n",
      "Success. Elapsed: 11.33 sec.\n",
      "Accuracy: 32.53%. Elapsed: 1.06 sec.\n",
      "Success. Elapsed: 77.69 sec.\n",
      "Accuracy: 31.26%. Elapsed: 1.22 sec.\n",
      "Success. Elapsed: 34.8 sec.\n",
      "Accuracy: 15.15%. Elapsed: 1.21 sec.\n",
      "Success. Elapsed: 25.15 sec.\n",
      "Accuracy: 16.12%. Elapsed: 1.19 sec.\n",
      "Success. Elapsed: 14.48 sec.\n",
      "Accuracy: 32.16%. Elapsed: 1.07 sec.\n",
      "Success. Elapsed: 64.23 sec.\n",
      "Accuracy: 2.46%. Elapsed: 1.27 sec.\n",
      "Success. Elapsed: 46.18 sec.\n",
      "Accuracy: 6.18%. Elapsed: 1.24 sec.\n",
      "Success. Elapsed: 38.75 sec.\n",
      "Accuracy: 5.64%. Elapsed: 1.26 sec.\n",
      "Success. Elapsed: 17.49 sec.\n",
      "Accuracy: 31.55%. Elapsed: 1.09 sec.\n",
      "Success. Elapsed: 68.35 sec.\n",
      "Accuracy: 2.44%. Elapsed: 1.23 sec.\n",
      "Success. Elapsed: 53.0 sec.\n",
      "Accuracy: 3.23%. Elapsed: 1.21 sec.\n",
      "Success. Elapsed: 47.88 sec.\n",
      "Accuracy: 2.96%. Elapsed: 1.23 sec.\n",
      "Success. Elapsed: 20.47 sec.\n",
      "Accuracy: 30.64%. Elapsed: 1.11 sec.\n",
      "Success. Elapsed: 70.33 sec.\n",
      "Accuracy: 2.57%. Elapsed: 1.21 sec.\n",
      "Success. Elapsed: 54.41 sec.\n",
      "Accuracy: 2.69%. Elapsed: 1.18 sec.\n",
      "Success. Elapsed: 50.78 sec.\n",
      "Accuracy: 2.61%. Elapsed: 1.19 sec.\n",
      "Success. Elapsed: 19.52 sec.\n",
      "Accuracy: 28.76%. Elapsed: 1.2 sec.\n",
      "Success. Elapsed: 71.8 sec.\n",
      "Accuracy: 2.81%. Elapsed: 1.17 sec.\n",
      "\n"
     ]
    }
   ],
   "source": [
    "acc_list = []\n",
    "for l2_,loss_f in tqdm.tqdm_notebook(product(\\\n",
    "                                     np.linspace(1e-12,1e-8,5)\\\n",
    "                                     ,['squared', 'classic', 'hinge', 'logistic'])):\n",
    "    train_vw_model(train_part_vw,model_part,l2=l2_,num_classes=400,add_args=['--loss_function {}'.format(loss_f)])\n",
    "    acc=test_vw_model(model_part,valid_vw,pred,y_valid,quiet=False)\n",
    "    acc_list.append((l2_,acc))"
   ]
  }
 ],
 "metadata": {
  "kernelspec": {
   "display_name": "Python 3",
   "language": "python",
   "name": "python3"
  },
  "language_info": {
   "codemirror_mode": {
    "name": "ipython",
    "version": 3
   },
   "file_extension": ".py",
   "mimetype": "text/x-python",
   "name": "python",
   "nbconvert_exporter": "python",
   "pygments_lexer": "ipython3",
   "version": "3.6.1"
  }
 },
 "nbformat": 4,
 "nbformat_minor": 2
}
