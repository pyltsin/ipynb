{
 "cells": [
  {
   "cell_type": "code",
   "execution_count": 31,
   "metadata": {
    "collapsed": true
   },
   "outputs": [],
   "source": [
    "from __future__ import division, print_function\n",
    "# отключим всякие предупреждения Anaconda\n",
    "import warnings\n",
    "warnings.filterwarnings('ignore')\n",
    "from glob import glob\n",
    "import os\n",
    "import pickle\n",
    "from collections import Counter\n",
    "import re\n",
    "# pip install tqdm\n",
    "from tqdm import tqdm \n",
    "import numpy as np\n",
    "import pandas as pd\n",
    "import itertools\n",
    "from scipy.sparse import csr_matrix"
   ]
  },
  {
   "cell_type": "code",
   "execution_count": 1,
   "metadata": {},
   "outputs": [
    {
     "name": "stdout",
     "output_type": "stream",
     "text": [
      "user0048.csv  user0120.csv  user0361.csv  user0512.csv\tuser0884.csv\r\n",
      "user0049.csv  user0149.csv  user0370.csv  user0543.csv\tuser0912.csv\r\n",
      "user0050.csv  user0251.csv  user0405.csv  user0575.csv\tuser0917.csv\r\n",
      "user0059.csv  user0318.csv  user0445.csv  user0660.csv\tuser0939.csv\r\n",
      "user0068.csv  user0324.csv  user0454.csv  user0762.csv\tuser0984.csv\r\n",
      "user0104.csv  user0352.csv  user0468.csv  user0812.csv\tuser0989.csv\r\n"
     ]
    }
   ],
   "source": [
    "! ls /tmp/working/machinleaning/ml/6/ident/kaggle_data/train/30/"
   ]
  },
  {
   "cell_type": "code",
   "execution_count": 7,
   "metadata": {
    "collapsed": true
   },
   "outputs": [],
   "source": [
    "PATH_TO_DATA = '/tmp/working/machinleaning/ml/6/ident/kaggle_data/'"
   ]
  },
  {
   "cell_type": "code",
   "execution_count": 32,
   "metadata": {
    "collapsed": true
   },
   "outputs": [],
   "source": [
    "def get_list(user_data,site_freq,\\\n",
    "             session_length=10, window_size=10):\n",
    "         \n",
    "        N=user_data.shape[0]\n",
    "        r_b = lambda x: x+session_length\n",
    "        slice_list=((i,r_b(i) if r_b(i)<N else N) for i in range(0,N,window_size))\n",
    "        \n",
    "        list_sites = []\n",
    "        \n",
    "        for pair in slice_list:\n",
    "            lst = list(\\\n",
    "                map(lambda x: site_freq[x],user_data.site.values[pair[0]:pair[1]]))\n",
    "            list_sites.append(lst)\n",
    "        return list_sites\n",
    "    \n",
    "def prepare_sparse_train_set_window(path_to_csv_files, site_freq_path, \n",
    "                                    session_length=10, window_size=10):\n",
    "    \n",
    "    ''' ВАШ КОД ЗДЕСЬ'''\n",
    "    pat = re.compile(\"user([\\d]+)[.]\")\n",
    "    indptr = [0]\n",
    "    count = 0\n",
    "    indices = []\n",
    "    data = []\n",
    "    y = []\n",
    "    \n",
    "#     from IPython.core.debugger import Tracer; Tracer()()\n",
    "    \n",
    "    with open(site_freq_path,\"rb\") as f:\n",
    "        site_freq = pickle.load(f)\n",
    "\n",
    "    for f in sorted(glob(path_to_csv_files+'/*')):\n",
    "        user_data = pd.read_csv(f)\n",
    "        lst_ = get_list(user_data,site_freq,session_length,window_size)\n",
    "        for col in lst_:\n",
    "            counter = Counter(col)\n",
    "            count += len(counter)\n",
    "            indptr.append(count)\n",
    "            indices += counter.keys()\n",
    "            data += counter.values()\n",
    "        y.append([int(re.search(pat,f).group(1))]*len(lst_))\n",
    "    y=list(itertools.chain(*y))\n",
    "    return \\\n",
    "    csr_matrix((data, indices, indptr),\\\n",
    "               shape=(len(y),len(site_freq)))[:,1:],np.array(y,dtype=np.int32)\n",
    "    # X = csr_matrix((data, indices, indptr), shape=(X.shape[0], n))[:,1:]"
   ]
  },
  {
   "cell_type": "code",
   "execution_count": 34,
   "metadata": {
    "scrolled": true
   },
   "outputs": [],
   "source": [
    "X_30_10_10, y_30_10_10=prepare_sparse_train_set_window(os.path.join(PATH_TO_DATA,'train/30/'),\\\n",
    "                                                os.path.join(PATH_TO_DATA,'site_dic.pkl'))"
   ]
  },
  {
   "cell_type": "code",
   "execution_count": 37,
   "metadata": {},
   "outputs": [],
   "source": [
    "with open(os.path.join(PATH_TO_DATA, \n",
    "                       'X_sparse_30users.pkl'), 'wb') as X30_pkl:\n",
    "    pickle.dump(X_30_10_10, X30_pkl, protocol=2)\n",
    "with open(os.path.join(PATH_TO_DATA, \n",
    "                       'y_30users.pkl'), 'wb') as y30_pkl:\n",
    "    pickle.dump(y_30_10_10, y30_pkl, protocol=2)"
   ]
  },
  {
   "cell_type": "code",
   "execution_count": 41,
   "metadata": {},
   "outputs": [
    {
     "name": "stderr",
     "output_type": "stream",
     "text": [
      "12it [00:00, 1138.73it/s]\n"
     ]
    }
   ],
   "source": [
    "num_users = 30\n",
    "for window_size, session_length in tqdm(itertools.product([10, 7, 5], [15, 10, 7, 5])):\n",
    "    if window_size <= session_length and (window_size, session_length) != (10, 10):\n",
    "        X_sparse, y = prepare_sparse_train_set_window(os.path.join(PATH_TO_DATA,str(num_users)+'users'), \n",
    "                                                   os.path.join(PATH_TO_DATA, \n",
    "                       'y_30users.pkl'.format(num_users)),\n",
    "                                   session_length, window_size)\n",
    "        with open(os.path.join(PATH_TO_DATA, \n",
    "                   'X_sparse_{0}users_s{1}_w{2}.pkl'.\\\n",
    "                               format(num_users,session_length,window_size)), 'wb') as X_pkl:\n",
    "            pickle.dump(X_sparse, X_pkl, protocol=2)\n",
    "\n",
    "        with open(os.path.join(PATH_TO_DATA, \n",
    "                   'y_{0}users_s{1}_w{2}.pkl'.\\\n",
    "                               format(num_users,session_length,window_size)), 'wb') as y_pkl:\n",
    "            pickle.dump(y, y_pkl, protocol=2)"
   ]
  },
  {
   "cell_type": "code",
   "execution_count": null,
   "metadata": {
    "collapsed": true
   },
   "outputs": [],
   "source": []
  }
 ],
 "metadata": {
  "kernelspec": {
   "display_name": "Python 3",
   "language": "python",
   "name": "python3"
  },
  "language_info": {
   "codemirror_mode": {
    "name": "ipython",
    "version": 3
   },
   "file_extension": ".py",
   "mimetype": "text/x-python",
   "name": "python",
   "nbconvert_exporter": "python",
   "pygments_lexer": "ipython3",
   "version": "3.6.1"
  }
 },
 "nbformat": 4,
 "nbformat_minor": 2
}
