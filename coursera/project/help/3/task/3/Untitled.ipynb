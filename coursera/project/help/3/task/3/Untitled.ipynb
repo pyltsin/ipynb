{
 "cells": [
  {
   "cell_type": "code",
   "execution_count": null,
   "metadata": {
    "collapsed": true
   },
   "outputs": [],
   "source": [
    "__Ответьте на вопросы (Блок 3):__\n",
    "* Есть ли пары признаков, у которых облака точек разных классов отличаются? Иными словами, есть ли графики, на которых видны облака разных классов, а не только последнего нарисованного?\n",
    "    * Ответ:Да, например (Wt, Ins_Age),(BMI, Ins_Age),(Wt,Ht), (BMI,ht)\n",
    "* Есть ли объекты-выбросы, то есть такие точки, которые стоят далеко от общего облака точек?\n",
    "    * Ответ: Да, например (BMI, Ins_Age)"
   ]
  },
  {
   "cell_type": "code",
   "execution_count": 1,
   "metadata": {
    "collapsed": false
   },
   "outputs": [
    {
     "data": {
      "text/plain": [
       "['Ins_Age',\n",
       " 'Ht',\n",
       " 'Wt',\n",
       " 'BMI',\n",
       " 'Employment_Info_1',\n",
       " 'Family_Hist_2',\n",
       " 'Family_Hist_3',\n",
       " 'Family_Hist_4',\n",
       " 'Family_Hist_5',\n",
       " 'Response']"
      ]
     },
     "execution_count": 1,
     "metadata": {},
     "output_type": "execute_result"
    }
   ],
   "source": [
    "['Ins_Age',\n",
    " 'Ht',\n",
    " 'Wt',\n",
    " 'BMI',\n",
    " 'Employment_Info_1',\n",
    " 'Family_Hist_2',\n",
    " 'Family_Hist_3',\n",
    " 'Family_Hist_4',\n",
    " 'Family_Hist_5',\n",
    " 'Response']"
   ]
  }
 ],
 "metadata": {
  "kernelspec": {
   "display_name": "Python [Root]",
   "language": "python",
   "name": "Python [Root]"
  },
  "language_info": {
   "codemirror_mode": {
    "name": "ipython",
    "version": 2
   },
   "file_extension": ".py",
   "mimetype": "text/x-python",
   "name": "python",
   "nbconvert_exporter": "python",
   "pygments_lexer": "ipython2",
   "version": "2.7.12"
  }
 },
 "nbformat": 4,
 "nbformat_minor": 0
}
