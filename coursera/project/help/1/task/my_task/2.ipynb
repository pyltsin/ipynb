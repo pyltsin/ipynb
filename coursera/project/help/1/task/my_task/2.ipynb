{
 "cells": [
  {
   "cell_type": "code",
   "execution_count": 2,
   "metadata": {
    "collapsed": true
   },
   "outputs": [],
   "source": [
    "%matplotlib inline\n",
    "from matplotlib import pylab as plt"
   ]
  },
  {
   "cell_type": "code",
   "execution_count": 68,
   "metadata": {
    "collapsed": false
   },
   "outputs": [],
   "source": [
    "import numpy as np\n",
    "from numpy import sin as sin\n",
    "from numpy import exp as exp\n",
    "from scipy import interpolate\n",
    "import scipy"
   ]
  },
  {
   "cell_type": "code",
   "execution_count": 4,
   "metadata": {
    "collapsed": false
   },
   "outputs": [],
   "source": [
    "def f(x):\n",
    "    return (sin(x/5.0)*exp(x/10.0)+5*exp(-x/2.0))"
   ]
  },
  {
   "cell_type": "code",
   "execution_count": 83,
   "metadata": {
    "collapsed": true
   },
   "outputs": [],
   "source": [
    "u1 = np.array([1.0,15.0])\n",
    "b1 = f(u1)\n",
    "a1 = np.array([[i**j for j in range(2)] for i in u1])\n",
    "w1 = np.linalg.solve(a1, b1)"
   ]
  },
  {
   "cell_type": "code",
   "execution_count": 69,
   "metadata": {
    "collapsed": false
   },
   "outputs": [],
   "source": [
    "u2 = np.array([1.0, 8.0, 15.0])\n",
    "b2 = f(u2)\n",
    "a2 = np.array([[i**j for j in range(3)] for i in u2])\n",
    "w2 = np.linalg.solve(a2, b2) "
   ]
  },
  {
   "cell_type": "code",
   "execution_count": 113,
   "metadata": {
    "collapsed": false
   },
   "outputs": [
    {
     "name": "stdout",
     "output_type": "stream",
     "text": [
      "[[  1.00000000e+00   1.00000000e+00   1.00000000e+00   1.00000000e+00]\n",
      " [  1.00000000e+00   4.00000000e+00   1.60000000e+01   6.40000000e+01]\n",
      " [  1.00000000e+00   1.00000000e+01   1.00000000e+02   1.00000000e+03]\n",
      " [  1.00000000e+00   1.50000000e+01   2.25000000e+02   3.37500000e+03]] \n",
      " [ 3.25221687  1.74684595  2.50541641  0.63522142]\n"
     ]
    }
   ],
   "source": [
    "u3 = np.array([1.0, 4.0, 10.0, 15.0])\n",
    "b3 = f(u3)\n",
    "a3 = np.array([[i**j for j in range(4)] for i in u3])\n",
    "w3 = np.linalg.solve(a3,b3)\n",
    "print(a3,'\\n',b3)"
   ]
  },
  {
   "cell_type": "code",
   "execution_count": 108,
   "metadata": {
    "collapsed": false
   },
   "outputs": [
    {
     "data": {
      "image/png": "[encoded data removed]",
      "text/plain": [
       "<matplotlib.figure.Figure at 0xb70d2612b0>"
      ]
     },
     "metadata": {},
     "output_type": "display_data"
    }
   ],
   "source": [
    "x = np.arange(1, 15, 0.1)\n",
    "y = f(x)\n",
    "y1 = w1[0]+w1[1]*x\n",
    "y2 = w2[0]+w2[1]*x+w2[2]*x**2\n",
    "y3 = w3[0]+w3[1]*x+w3[2]*x**2+w3[3]*x**3\n",
    "plt.axis([0,16,0.5,3.5])\n",
    "plt.plot(x,y,'-',x ,y1, '--',x,y2,'-',x,y3,'-' )\n",
    "plt.show()"
   ]
  },
  {
   "cell_type": "code",
   "execution_count": 119,
   "metadata": {
    "collapsed": false
   },
   "outputs": [
    {
     "name": "stdout",
     "output_type": "stream",
     "text": [
      "[ 4.36264154 -1.29552587  0.19333685 -0.00823565]\n"
     ]
    },
    {
     "data": {
      "text/plain": [
       "[4.3600000000000003, -1.3, 0.19, -0.01]"
      ]
     },
     "execution_count": 119,
     "metadata": {},
     "output_type": "execute_result"
    }
   ],
   "source": [
    "print(w3)\n",
    "l=[round(i,2) for i in w3]\n",
    "l"
   ]
  },
  {
   "cell_type": "code",
   "execution_count": 114,
   "metadata": {
    "collapsed": false
   },
   "outputs": [
    {
     "data": {
      "text/plain": [
       "array([ 3.25221687,  1.74684595,  2.50541641,  0.63522142])"
      ]
     },
     "execution_count": 114,
     "metadata": {},
     "output_type": "execute_result"
    }
   ],
   "source": [
    "w3[0]+w3[1]*u3+w3[2]*u3**2+w3[3]*u3**3"
   ]
  },
  {
   "cell_type": "code",
   "execution_count": 110,
   "metadata": {
    "collapsed": false
   },
   "outputs": [
    {
     "data": {
      "text/plain": [
       "2.316170159053224"
      ]
     },
     "execution_count": 110,
     "metadata": {},
     "output_type": "execute_result"
    }
   ],
   "source": [
    "f(8.0)"
   ]
  }
 ],
 "metadata": {
  "kernelspec": {
   "display_name": "Python 3",
   "language": "python",
   "name": "python3"
  },
  "language_info": {
   "codemirror_mode": {
    "name": "ipython",
    "version": 3
   },
   "file_extension": ".py",
   "mimetype": "text/x-python",
   "name": "python",
   "nbconvert_exporter": "python",
   "pygments_lexer": "ipython3",
   "version": "3.5.1"
  }
 },
 "nbformat": 4,
 "nbformat_minor": 0
}
