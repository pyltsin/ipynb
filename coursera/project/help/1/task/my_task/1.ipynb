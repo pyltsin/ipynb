{
 "cells": [
  {
   "cell_type": "code",
   "execution_count": 1,
   "metadata": {
    "collapsed": false
   },
   "outputs": [],
   "source": [
    "import numpy as np\n",
    "import re\n",
    "import scipy.spatial.distance as dist "
   ]
  },
  {
   "cell_type": "code",
   "execution_count": 2,
   "metadata": {
    "collapsed": true
   },
   "outputs": [],
   "source": [
    "with open(\"sentences.txt\") as task_file:\n",
    "    text = task_file.read()\n",
    "\n",
    "text = text.lower()\n",
    "list_sen = text.splitlines()"
   ]
  },
  {
   "cell_type": "markdown",
   "metadata": {},
   "source": [
    "# Обозначения\n",
    "\n",
    "- `wodr_dic` - словарь всех слов\n",
    "- `list_sen` - список из списков слов"
   ]
  },
  {
   "cell_type": "code",
   "execution_count": 3,
   "metadata": {
    "collapsed": false
   },
   "outputs": [],
   "source": [
    "all_word = set([i for i in re.split(r'[^a-z]',text)\\\n",
    "                if len(i)>0])\n",
    "\n",
    "word_dic = {j:i for i,j in enumerate(all_word)}"
   ]
  },
  {
   "cell_type": "code",
   "execution_count": 4,
   "metadata": {
    "collapsed": false
   },
   "outputs": [],
   "source": [
    "d = len(list_sen)\n",
    "n = len(word_dic)"
   ]
  },
  {
   "cell_type": "markdown",
   "metadata": {},
   "source": [
    "Разбиение списков на слова"
   ]
  },
  {
   "cell_type": "code",
   "execution_count": 5,
   "metadata": {
    "collapsed": true
   },
   "outputs": [],
   "source": [
    "for i in range(len(list_sen)):\n",
    "    txt = list_sen[i]\n",
    "    list_sen[i] = [j for j in re.split(r'[^a-z]',txt)\\\n",
    "                if len(j) > 0]"
   ]
  },
  {
   "cell_type": "code",
   "execution_count": 6,
   "metadata": {
    "collapsed": false
   },
   "outputs": [],
   "source": [
    "A = np.zeros((d,n))\n",
    "for i in range(d):\n",
    "    for j in list_sen[i]:\n",
    "        ind = word_dic[j]\n",
    "        A[i][ind] +=1"
   ]
  },
  {
   "cell_type": "code",
   "execution_count": 17,
   "metadata": {
    "collapsed": false
   },
   "outputs": [],
   "source": [
    "L = [(dist.cosine(A[0],A[i]),i) for i in range(1,d)]"
   ]
  },
  {
   "cell_type": "code",
   "execution_count": 18,
   "metadata": {
    "collapsed": false
   },
   "outputs": [
    {
     "data": {
      "text/plain": [
       "[(0.95664450152379399, 17),\n",
       " (0.95275444087384664, 1),\n",
       " (0.94427217874246472, 15),\n",
       " (0.94427217874246472, 18),\n",
       " (0.94023856953328033, 5),\n",
       " (0.92587506833388988, 7),\n",
       " (0.90550888174769317, 9),\n",
       " (0.89517151632780823, 3),\n",
       " (0.88854435748492944, 19),\n",
       " (0.88427248752843102, 8),\n",
       " (0.88047713906656067, 11),\n",
       " (0.87401184233025764, 14),\n",
       " (0.87035925528956715, 13),\n",
       " (0.86447381456421235, 2),\n",
       " (0.84275727449171223, 20),\n",
       " (0.84063618542208085, 16),\n",
       " (0.83964325485254543, 12),\n",
       " (0.83281653622739416, 10),\n",
       " (0.82503644694405864, 21),\n",
       " (0.77708871496985887, 4),\n",
       " (0.7327387580875756, 6)]"
      ]
     },
     "execution_count": 18,
     "metadata": {},
     "output_type": "execute_result"
    }
   ],
   "source": [
    "sorted(L, key = lambda x : x[0], reverse = True)"
   ]
  }
 ],
 "metadata": {
  "anaconda-cloud": {},
  "kernelspec": {
   "display_name": "Python 3",
   "language": "python",
   "name": "python3"
  },
  "language_info": {
   "codemirror_mode": {
    "name": "ipython",
    "version": 3
   },
   "file_extension": ".py",
   "mimetype": "text/x-python",
   "name": "python",
   "nbconvert_exporter": "python",
   "pygments_lexer": "ipython3",
   "version": "3.5.1"
  }
 },
 "nbformat": 4,
 "nbformat_minor": 0
}
