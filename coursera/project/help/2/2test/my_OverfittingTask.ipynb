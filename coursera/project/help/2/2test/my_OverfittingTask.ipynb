{
 "cells": [
  {
   "cell_type": "markdown",
   "metadata": {},
   "source": [
    "# Практическое задание к уроку 1 (2 неделя).\n",
    "## Линейная регрессия: переобучение и регуляризация"
   ]
  },
  {
   "cell_type": "markdown",
   "metadata": {},
   "source": [
    "В этом задании мы на примерах увидим, как переобучаются линейные модели, разберем, почему так происходит, и выясним, как диагностировать и контролировать переобучение.\n",
    "\n",
    "Во всех ячейках, где написан комментарий с инструкциями, нужно написать код, выполняющий эти инструкции. Остальные ячейки с кодом (без комментариев) нужно просто выполнить. Кроме того, в задании требуется отвечать на вопросы; ответы нужно вписывать после выделенного слова \"__Ответ:__\".\n",
    "\n",
    "Напоминаем, что посмотреть справку любого метода или функции (узнать, какие у нее аргументы и что она делает) можно с помощью комбинации Shift+Tab. Нажатие Tab после имени объекта и точки позволяет посмотреть, какие методы и переменные есть у этого объекта."
   ]
  },
  {
   "cell_type": "code",
   "execution_count": 1,
   "metadata": {
    "collapsed": true
   },
   "outputs": [],
   "source": [
    "import pandas as pd\n",
    "import numpy as np\n",
    "from matplotlib import pyplot as plt\n",
    "%matplotlib inline"
   ]
  },
  {
   "cell_type": "markdown",
   "metadata": {},
   "source": [
    "Мы будем работать с датасетом __\"bikes_rent.csv\"__, в котором по дням записаны календарная информация и погодные условия, характеризующие автоматизированные пункты проката велосипедов, а также число прокатов в этот день. Последнее мы будем предсказывать; таким образом, мы будем решать задачу регрессии."
   ]
  },
  {
   "cell_type": "markdown",
   "metadata": {},
   "source": [
    "### Знакомство с данными"
   ]
  },
  {
   "cell_type": "markdown",
   "metadata": {},
   "source": [
    "Загрузите датасет с помощью функции __pandas.read_csv__ в переменную __df__. Выведите первые 5 строчек, чтобы убедиться в корректном считывании данных:"
   ]
  },
  {
   "cell_type": "code",
   "execution_count": 2,
   "metadata": {
    "collapsed": false
   },
   "outputs": [
    {
     "ename": "IOError",
     "evalue": "File bikes_rent.csv does not exist",
     "output_type": "error",
     "traceback": [
      "\u001b[1;31m---------------------------------------------------------------------------\u001b[0m",
      "\u001b[1;31mIOError\u001b[0m                                   Traceback (most recent call last)",
      "\u001b[1;32m<ipython-input-2-ea392bcf2b11>\u001b[0m in \u001b[0;36m<module>\u001b[1;34m()\u001b[0m\n\u001b[0;32m      1\u001b[0m \u001b[1;31m# (0 баллов)\u001b[0m\u001b[1;33m\u001b[0m\u001b[1;33m\u001b[0m\u001b[0m\n\u001b[0;32m      2\u001b[0m \u001b[1;31m# Считайте данные и выведите первые 5 строк\u001b[0m\u001b[1;33m\u001b[0m\u001b[1;33m\u001b[0m\u001b[0m\n\u001b[1;32m----> 3\u001b[1;33m \u001b[0mdf\u001b[0m \u001b[1;33m=\u001b[0m \u001b[0mpd\u001b[0m\u001b[1;33m.\u001b[0m\u001b[0mread_csv\u001b[0m\u001b[1;33m(\u001b[0m\u001b[1;34m'bikes_rent.csv'\u001b[0m\u001b[1;33m)\u001b[0m\u001b[1;33m\u001b[0m\u001b[0m\n\u001b[0m\u001b[0;32m      4\u001b[0m \u001b[0mdf\u001b[0m\u001b[1;33m.\u001b[0m\u001b[0mhead\u001b[0m\u001b[1;33m(\u001b[0m\u001b[1;33m)\u001b[0m\u001b[1;33m\u001b[0m\u001b[0m\n",
      "\u001b[1;32m/home/ivanov/anaconda2/lib/python2.7/site-packages/pandas/io/parsers.pyc\u001b[0m in \u001b[0;36mparser_f\u001b[1;34m(filepath_or_buffer, sep, delimiter, header, names, index_col, usecols, squeeze, prefix, mangle_dupe_cols, dtype, engine, converters, true_values, false_values, skipinitialspace, skiprows, skipfooter, nrows, na_values, keep_default_na, na_filter, verbose, skip_blank_lines, parse_dates, infer_datetime_format, keep_date_col, date_parser, dayfirst, iterator, chunksize, compression, thousands, decimal, lineterminator, quotechar, quoting, escapechar, comment, encoding, dialect, tupleize_cols, error_bad_lines, warn_bad_lines, skip_footer, doublequote, delim_whitespace, as_recarray, compact_ints, use_unsigned, low_memory, buffer_lines, memory_map, float_precision)\u001b[0m\n\u001b[0;32m    560\u001b[0m                     skip_blank_lines=skip_blank_lines)\n\u001b[0;32m    561\u001b[0m \u001b[1;33m\u001b[0m\u001b[0m\n\u001b[1;32m--> 562\u001b[1;33m         \u001b[1;32mreturn\u001b[0m \u001b[0m_read\u001b[0m\u001b[1;33m(\u001b[0m\u001b[0mfilepath_or_buffer\u001b[0m\u001b[1;33m,\u001b[0m \u001b[0mkwds\u001b[0m\u001b[1;33m)\u001b[0m\u001b[1;33m\u001b[0m\u001b[0m\n\u001b[0m\u001b[0;32m    563\u001b[0m \u001b[1;33m\u001b[0m\u001b[0m\n\u001b[0;32m    564\u001b[0m     \u001b[0mparser_f\u001b[0m\u001b[1;33m.\u001b[0m\u001b[0m__name__\u001b[0m \u001b[1;33m=\u001b[0m \u001b[0mname\u001b[0m\u001b[1;33m\u001b[0m\u001b[0m\n",
      "\u001b[1;32m/home/ivanov/anaconda2/lib/python2.7/site-packages/pandas/io/parsers.pyc\u001b[0m in \u001b[0;36m_read\u001b[1;34m(filepath_or_buffer, kwds)\u001b[0m\n\u001b[0;32m    313\u001b[0m \u001b[1;33m\u001b[0m\u001b[0m\n\u001b[0;32m    314\u001b[0m     \u001b[1;31m# Create the parser.\u001b[0m\u001b[1;33m\u001b[0m\u001b[1;33m\u001b[0m\u001b[0m\n\u001b[1;32m--> 315\u001b[1;33m     \u001b[0mparser\u001b[0m \u001b[1;33m=\u001b[0m \u001b[0mTextFileReader\u001b[0m\u001b[1;33m(\u001b[0m\u001b[0mfilepath_or_buffer\u001b[0m\u001b[1;33m,\u001b[0m \u001b[1;33m**\u001b[0m\u001b[0mkwds\u001b[0m\u001b[1;33m)\u001b[0m\u001b[1;33m\u001b[0m\u001b[0m\n\u001b[0m\u001b[0;32m    316\u001b[0m \u001b[1;33m\u001b[0m\u001b[0m\n\u001b[0;32m    317\u001b[0m     \u001b[1;32mif\u001b[0m \u001b[1;33m(\u001b[0m\u001b[0mnrows\u001b[0m \u001b[1;32mis\u001b[0m \u001b[1;32mnot\u001b[0m \u001b[0mNone\u001b[0m\u001b[1;33m)\u001b[0m \u001b[1;32mand\u001b[0m \u001b[1;33m(\u001b[0m\u001b[0mchunksize\u001b[0m \u001b[1;32mis\u001b[0m \u001b[1;32mnot\u001b[0m \u001b[0mNone\u001b[0m\u001b[1;33m)\u001b[0m\u001b[1;33m:\u001b[0m\u001b[1;33m\u001b[0m\u001b[0m\n",
      "\u001b[1;32m/home/ivanov/anaconda2/lib/python2.7/site-packages/pandas/io/parsers.pyc\u001b[0m in \u001b[0;36m__init__\u001b[1;34m(self, f, engine, **kwds)\u001b[0m\n\u001b[0;32m    643\u001b[0m             \u001b[0mself\u001b[0m\u001b[1;33m.\u001b[0m\u001b[0moptions\u001b[0m\u001b[1;33m[\u001b[0m\u001b[1;34m'has_index_names'\u001b[0m\u001b[1;33m]\u001b[0m \u001b[1;33m=\u001b[0m \u001b[0mkwds\u001b[0m\u001b[1;33m[\u001b[0m\u001b[1;34m'has_index_names'\u001b[0m\u001b[1;33m]\u001b[0m\u001b[1;33m\u001b[0m\u001b[0m\n\u001b[0;32m    644\u001b[0m \u001b[1;33m\u001b[0m\u001b[0m\n\u001b[1;32m--> 645\u001b[1;33m         \u001b[0mself\u001b[0m\u001b[1;33m.\u001b[0m\u001b[0m_make_engine\u001b[0m\u001b[1;33m(\u001b[0m\u001b[0mself\u001b[0m\u001b[1;33m.\u001b[0m\u001b[0mengine\u001b[0m\u001b[1;33m)\u001b[0m\u001b[1;33m\u001b[0m\u001b[0m\n\u001b[0m\u001b[0;32m    646\u001b[0m \u001b[1;33m\u001b[0m\u001b[0m\n\u001b[0;32m    647\u001b[0m     \u001b[1;32mdef\u001b[0m \u001b[0mclose\u001b[0m\u001b[1;33m(\u001b[0m\u001b[0mself\u001b[0m\u001b[1;33m)\u001b[0m\u001b[1;33m:\u001b[0m\u001b[1;33m\u001b[0m\u001b[0m\n",
      "\u001b[1;32m/home/ivanov/anaconda2/lib/python2.7/site-packages/pandas/io/parsers.pyc\u001b[0m in \u001b[0;36m_make_engine\u001b[1;34m(self, engine)\u001b[0m\n\u001b[0;32m    797\u001b[0m     \u001b[1;32mdef\u001b[0m \u001b[0m_make_engine\u001b[0m\u001b[1;33m(\u001b[0m\u001b[0mself\u001b[0m\u001b[1;33m,\u001b[0m \u001b[0mengine\u001b[0m\u001b[1;33m=\u001b[0m\u001b[1;34m'c'\u001b[0m\u001b[1;33m)\u001b[0m\u001b[1;33m:\u001b[0m\u001b[1;33m\u001b[0m\u001b[0m\n\u001b[0;32m    798\u001b[0m         \u001b[1;32mif\u001b[0m \u001b[0mengine\u001b[0m \u001b[1;33m==\u001b[0m \u001b[1;34m'c'\u001b[0m\u001b[1;33m:\u001b[0m\u001b[1;33m\u001b[0m\u001b[0m\n\u001b[1;32m--> 799\u001b[1;33m             \u001b[0mself\u001b[0m\u001b[1;33m.\u001b[0m\u001b[0m_engine\u001b[0m \u001b[1;33m=\u001b[0m \u001b[0mCParserWrapper\u001b[0m\u001b[1;33m(\u001b[0m\u001b[0mself\u001b[0m\u001b[1;33m.\u001b[0m\u001b[0mf\u001b[0m\u001b[1;33m,\u001b[0m \u001b[1;33m**\u001b[0m\u001b[0mself\u001b[0m\u001b[1;33m.\u001b[0m\u001b[0moptions\u001b[0m\u001b[1;33m)\u001b[0m\u001b[1;33m\u001b[0m\u001b[0m\n\u001b[0m\u001b[0;32m    800\u001b[0m         \u001b[1;32melse\u001b[0m\u001b[1;33m:\u001b[0m\u001b[1;33m\u001b[0m\u001b[0m\n\u001b[0;32m    801\u001b[0m             \u001b[1;32mif\u001b[0m \u001b[0mengine\u001b[0m \u001b[1;33m==\u001b[0m \u001b[1;34m'python'\u001b[0m\u001b[1;33m:\u001b[0m\u001b[1;33m\u001b[0m\u001b[0m\n",
      "\u001b[1;32m/home/ivanov/anaconda2/lib/python2.7/site-packages/pandas/io/parsers.pyc\u001b[0m in \u001b[0;36m__init__\u001b[1;34m(self, src, **kwds)\u001b[0m\n\u001b[0;32m   1211\u001b[0m         \u001b[0mkwds\u001b[0m\u001b[1;33m[\u001b[0m\u001b[1;34m'allow_leading_cols'\u001b[0m\u001b[1;33m]\u001b[0m \u001b[1;33m=\u001b[0m \u001b[0mself\u001b[0m\u001b[1;33m.\u001b[0m\u001b[0mindex_col\u001b[0m \u001b[1;32mis\u001b[0m \u001b[1;32mnot\u001b[0m \u001b[0mFalse\u001b[0m\u001b[1;33m\u001b[0m\u001b[0m\n\u001b[0;32m   1212\u001b[0m \u001b[1;33m\u001b[0m\u001b[0m\n\u001b[1;32m-> 1213\u001b[1;33m         \u001b[0mself\u001b[0m\u001b[1;33m.\u001b[0m\u001b[0m_reader\u001b[0m \u001b[1;33m=\u001b[0m \u001b[0m_parser\u001b[0m\u001b[1;33m.\u001b[0m\u001b[0mTextReader\u001b[0m\u001b[1;33m(\u001b[0m\u001b[0msrc\u001b[0m\u001b[1;33m,\u001b[0m \u001b[1;33m**\u001b[0m\u001b[0mkwds\u001b[0m\u001b[1;33m)\u001b[0m\u001b[1;33m\u001b[0m\u001b[0m\n\u001b[0m\u001b[0;32m   1214\u001b[0m \u001b[1;33m\u001b[0m\u001b[0m\n\u001b[0;32m   1215\u001b[0m         \u001b[1;31m# XXX\u001b[0m\u001b[1;33m\u001b[0m\u001b[1;33m\u001b[0m\u001b[0m\n",
      "\u001b[1;32mpandas/parser.pyx\u001b[0m in \u001b[0;36mpandas.parser.TextReader.__cinit__ (pandas/parser.c:3427)\u001b[1;34m()\u001b[0m\n",
      "\u001b[1;32mpandas/parser.pyx\u001b[0m in \u001b[0;36mpandas.parser.TextReader._setup_parser_source (pandas/parser.c:6861)\u001b[1;34m()\u001b[0m\n",
      "\u001b[1;31mIOError\u001b[0m: File bikes_rent.csv does not exist"
     ]
    }
   ],
   "source": [
    "# (0 баллов)\n",
    "# Считайте данные и выведите первые 5 строк\n",
    "df = pd.read_csv('bikes_rent.csv')\n",
    "df.head()"
   ]
  },
  {
   "cell_type": "markdown",
   "metadata": {},
   "source": [
    "Для каждого дня проката известны следующие признаки (как они были указаны в источнике данных):\n",
    "* _season_: 1 - весна, 2 - лето, 3 - осень, 4 - зима\n",
    "* _yr_: 0 - 2011, 1 - 2012\n",
    "* _mnth_: от 1 до 12\n",
    "* _holiday_: 0 - нет праздника, 1 - есть праздник\n",
    "* _weekday_: от 0 до 6\n",
    "* _workingday_: 0 - нерабочий день, 1 - рабочий день\n",
    "* _weathersit_: оценка благоприятности погоды от 1 (чистый, ясный день) до 4 (ливень, туман)\n",
    "* _temp_: температура в Цельсиях\n",
    "* _atemp_: температура по ощущениям в Цельсиях\n",
    "* _hum_: влажность\n",
    "* _windspeed(mph)_: скорость ветра в милях в час\n",
    "* _windspeed(ms)_: скорость ветра в метрах в секунду\n",
    "* _cnt_: количество арендованных велосипедов (это целевой признак, его мы будем предсказывать)\n",
    "\n",
    "Итак, у нас есть вещественные, бинарные и номинальные (порядковые) признаки, и со всеми из них можно работать как с вещественными. С номинальныеми признаками тоже можно работать как с вещественными, потому что на них задан порядок. Давайте посмотрим на графиках, как целевой признак зависит от остальных"
   ]
  },
  {
   "cell_type": "code",
   "execution_count": null,
   "metadata": {
    "collapsed": false
   },
   "outputs": [],
   "source": [
    "fig, axes = plt.subplots(nrows=3, ncols=4, figsize=(15, 10))\n",
    "for idx, feature in enumerate(df.columns[:-1]):\n",
    "    df.plot(feature, \"cnt\", subplots=True, kind=\"scatter\", ax=axes[idx / 4, idx % 4])"
   ]
  },
  {
   "cell_type": "markdown",
   "metadata": {},
   "source": [
    "__Блок 1. Ответьте на вопросы (каждый 0.5 балла):__\n",
    "1. Каков характер зависимости числа прокатов от месяца? \n",
    "   * ответ: число прокатов растет по мере приближения летних месяцев и падает по мере приближения зимы\n",
    "1. Укажите один или два признака, от которых число прокатов скорее всего зависит линейно\n",
    "   * ответ: temp, atemp"
   ]
  },
  {
   "cell_type": "markdown",
   "metadata": {},
   "source": [
    "Давайте более строго оценим уровень линейной зависимости между признаками и целевой переменной. Хорошей мерой линейной зависимости между двумя векторами является корреляция Пирсона. В pandas ее можно посчитать с помощью двух методов датафрейма: corr и corrwith. Метод df.corr вычисляет матрицу корреляций всех признаков из датафрейма. Методу df.corrwith нужно подать еще один датафрейм в качестве аргумента, и тогда он посчитает попарные корреляции между признаками из df и этого датафрейма."
   ]
  },
  {
   "cell_type": "code",
   "execution_count": null,
   "metadata": {
    "collapsed": false
   },
   "outputs": [],
   "source": [
    "# Код 1.1 (0.5 балла)\n",
    "# Посчитайте корреляции всех признаков, кроме последнего, с последним с помощью метода corrwith:\n",
    "df[df.columns[:-1]].corrwith(df.cnt)"
   ]
  },
  {
   "cell_type": "markdown",
   "metadata": {},
   "source": [
    "В выборке есть признаки, коррелирующие с целевым, а значит, задачу можно решать линейными методами."
   ]
  },
  {
   "cell_type": "markdown",
   "metadata": {},
   "source": [
    "По графикам видно, что некоторые признаки похожи друг на друга. Поэтому давайте также посчитаем корреляции между вещественными признаками."
   ]
  },
  {
   "cell_type": "code",
   "execution_count": null,
   "metadata": {
    "collapsed": false
   },
   "outputs": [],
   "source": [
    "# Код 1.2 (0.5 балла)\n",
    "# Посчитайте попарные корреляции между признаками temp, atemp, hum, windspeed(mph), windspeed(ms) и cnt\n",
    "# с помощью метода corr:\n",
    "df[['temp','atemp','hum','windspeed(mph)','windspeed(ms)','cnt']].corr()"
   ]
  },
  {
   "cell_type": "markdown",
   "metadata": {},
   "source": [
    "На диагоналях, как и полагается, стоят единицы. Однако в матрице имеются еще две пары сильно коррелирующих столбцов: temp и atemp (коррелируют по своей природе) и два windspeed (потому что это просто перевод одних единиц в другие). Далее мы увидим, что этот факт негативно сказывается на обучении линейной модели."
   ]
  },
  {
   "cell_type": "markdown",
   "metadata": {},
   "source": [
    "Напоследок посмотрим средние признаков (метод mean), чтобы оценить масштаб признаков и доли 1 у бинарных признаков."
   ]
  },
  {
   "cell_type": "code",
   "execution_count": null,
   "metadata": {
    "collapsed": false
   },
   "outputs": [],
   "source": [
    "# Код 1.3 (0.5 балла)\n",
    "# Выведите средние признаков\n",
    "df.mean()"
   ]
  },
  {
   "cell_type": "markdown",
   "metadata": {},
   "source": [
    "Признаки имеют разный масштаб, значит для дальнейшей работы нам лучше нормировать матрицу объекты-признаки."
   ]
  },
  {
   "cell_type": "markdown",
   "metadata": {},
   "source": [
    "### Проблема первая: коллинеарные признаки"
   ]
  },
  {
   "cell_type": "markdown",
   "metadata": {},
   "source": [
    "Итак, в наших данных один признак дублирует другой, и есть еще два очень похожих. Конечно, мы могли бы сразу удалить дубликаты, но давайте посмотрим, как бы происходило обучение модели, если бы мы не заметили эту проблему. \n",
    "\n",
    "Для начала проведем масштабирование, или стандартизацию признаков: из каждого признака вычтем его среднее и поделим на стандартное отклонение. Это можно сделать с помощью метода scale.\n",
    "\n",
    "Кроме того, нужно перемешать выборку, это потребуется для кросс-валидации."
   ]
  },
  {
   "cell_type": "code",
   "execution_count": null,
   "metadata": {
    "collapsed": true
   },
   "outputs": [],
   "source": [
    "from sklearn.preprocessing import scale\n",
    "from sklearn.utils import shuffle"
   ]
  },
  {
   "cell_type": "code",
   "execution_count": null,
   "metadata": {
    "collapsed": false
   },
   "outputs": [],
   "source": [
    "df_shuffled = shuffle(df, random_state=123)\n",
    "X = scale(df_shuffled[df_shuffled.columns[:-1]])\n",
    "y = df_shuffled[\"cnt\"]"
   ]
  },
  {
   "cell_type": "markdown",
   "metadata": {},
   "source": [
    "Давайте обучим линейную регрессию на наших данных и посмотрим на веса признаков."
   ]
  },
  {
   "cell_type": "code",
   "execution_count": null,
   "metadata": {
    "collapsed": true
   },
   "outputs": [],
   "source": [
    "from sklearn.linear_model import LinearRegression"
   ]
  },
  {
   "cell_type": "code",
   "execution_count": null,
   "metadata": {
    "collapsed": false
   },
   "outputs": [],
   "source": [
    "# Код 2.1 (1 балл)\n",
    "# Создайте объект линейного регрессора, обучите его на всех данных и выведите веса модели \n",
    "# (веса хранятся в переменной coef_ класса регрессора).\n",
    "# Можно выводить пары (название признака, вес), воспользовавшись функцией zip, встроенной в язык python\n",
    "# Названия признаков хранятся в переменной df.columns\n",
    "model = LinearRegression()\n",
    "model.fit(X, y)\n",
    "list(zip(df.columns, model.coef_))"
   ]
  },
  {
   "cell_type": "markdown",
   "metadata": {},
   "source": [
    "Мы видим, что веса при линейно-зависимых признаках по модулю значительно больше, чем при других признаках."
   ]
  },
  {
   "cell_type": "markdown",
   "metadata": {},
   "source": [
    "Чтобы понять, почему так произошло, вспомним аналитическую формулу, по которой вычисляются веса линейной модели в методе наименьших квадратов:\n",
    "\n",
    "$w = (X^TX)^{-1} X^T y$.\n",
    "\n",
    "Если в X есть коллинеарные (линейно-зависимые) столбцы, матрица $X^TX$ становится вырожденной, и формула перестает быть корректной. Чем более зависимы признаки, тем меньше определитель этой матрицы и тем хуже аппроксимация $Xw \\approx y$. Такая ситуацию называют _проблемой мультиколлинеарности_, вы обсуждали ее на лекции."
   ]
  },
  {
   "cell_type": "markdown",
   "metadata": {},
   "source": [
    "С парой temp-atemp чуть менее коррелирующих переменных такого не произошло, однако на практике всегда стоит внимательно следить за коэффициентами при похожих признаках."
   ]
  },
  {
   "cell_type": "markdown",
   "metadata": {},
   "source": [
    "__Решение__ проблемы мультиколлинеарности состоит в _регуляризации_ линейной модели. К оптимизируемому функционалу прибавляют L1 или L2 норму весов, умноженную на коэффициент регуляризации $\\alpha$. В первом случае метод называется Lasso, а во втором --- Ridge. Подробнее об этом также рассказано в лекции."
   ]
  },
  {
   "cell_type": "markdown",
   "metadata": {},
   "source": [
    "Обучите регрессоры Ridge и Lasso с параметрами по умолчанию и убедитесь, что проблема с весами решилась."
   ]
  },
  {
   "cell_type": "code",
   "execution_count": null,
   "metadata": {
    "collapsed": true
   },
   "outputs": [],
   "source": [
    "from sklearn.linear_model import Lasso, Ridge"
   ]
  },
  {
   "cell_type": "code",
   "execution_count": null,
   "metadata": {
    "collapsed": false
   },
   "outputs": [],
   "source": [
    "# Код 2.2 (0.5 балла)\n",
    "# Обучите линейную модель с L1-регуляризацией\n",
    "model = Lasso()\n",
    "model.fit(X, y)\n",
    "list(zip(df.columns, model.coef_))"
   ]
  },
  {
   "cell_type": "code",
   "execution_count": null,
   "metadata": {
    "collapsed": false
   },
   "outputs": [],
   "source": [
    "# Код 2.3 (0.5 балла)\n",
    "# Обучите линейную модель с L2-регуляризацией\n",
    "model = Ridge()\n",
    "model.fit(X, y)\n",
    "list(zip(df.columns, model.coef_))"
   ]
  },
  {
   "cell_type": "markdown",
   "metadata": {},
   "source": [
    "__Блок 2. Поясните,__ каким образом введение регуляризации решает проблему с весами и мультиколлинеарностью.\n",
    "\n",
    "__Ваш ответ (1 балл)__: регуляризация штрафует за большие веса, не давая им расти, если это не приводит к росту качества."
   ]
  },
  {
   "cell_type": "markdown",
   "metadata": {},
   "source": [
    "### Проблема вторая: неинформативные признаки"
   ]
  },
  {
   "cell_type": "markdown",
   "metadata": {},
   "source": [
    "В отличие от L2-регуляризации, L1 обнуляет веса при некоторых признаках. Объяснение данному факту дается в одной из лекций курса.\n",
    "\n",
    "Давайте пронаблюдаем, как меняются веса при увеличении коэффициента регуляризации $\\alpha$ (в лекции коэффициент при регуляризаторе мог быть обозначен другой буквой)."
   ]
  },
  {
   "cell_type": "code",
   "execution_count": null,
   "metadata": {
    "collapsed": false
   },
   "outputs": [],
   "source": [
    "# Код 3.1 (1 балл)\n",
    "alphas = np.arange(1, 500, 50)\n",
    "coefs_lasso = np.zeros((alphas.shape[0], X.shape[1])) # матрица весов размера (число регрессоров) x (число признаков)\n",
    "coefs_ridge = np.zeros((alphas.shape[0], X.shape[1]))\n",
    "# Для каждого значения коэффициента из alphas обучите регрессор Lasso\n",
    "# и запишите веса в соответствующую строку матрицы coefs_lasso (вспомните встроенную в python функцию enumerate),\n",
    "# а затем обучите Ridge и запишите веса в coefs_ridge.\n",
    "for i, alpha in enumerate(alphas):\n",
    "    model = Lasso(alpha)\n",
    "    model.fit(X, y)\n",
    "    coefs_lasso[i] = model.coef_\n",
    "    \n",
    "    model = Ridge(alpha)\n",
    "    model.fit(X, y)\n",
    "    coefs_ridge[i] = model.coef_"
   ]
  },
  {
   "cell_type": "code",
   "execution_count": null,
   "metadata": {
    "collapsed": false
   },
   "outputs": [],
   "source": [
    "model = Ridge(10000000000000)\n",
    "model.fit(X, y)\n",
    "model.coef_"
   ]
  },
  {
   "cell_type": "markdown",
   "metadata": {},
   "source": [
    "Визуализируем динамику весов при увеличении параметра регуляризации:"
   ]
  },
  {
   "cell_type": "code",
   "execution_count": null,
   "metadata": {
    "collapsed": false
   },
   "outputs": [],
   "source": [
    "plt.figure(figsize=(8, 5))\n",
    "for coef, feature in zip(coefs_lasso.T, df.columns):\n",
    "    plt.plot(alphas, coef, label=feature, color=np.random.rand(3))\n",
    "plt.legend(loc=\"upper right\", bbox_to_anchor=(1.4, 0.95))\n",
    "plt.xlabel(\"alpha\")\n",
    "plt.ylabel(\"feature weight\")\n",
    "plt.title(\"Lasso\")\n",
    "\n",
    "plt.figure(figsize=(8, 5))\n",
    "for coef, feature in zip(coefs_ridge.T, df.columns):\n",
    "    plt.plot(alphas, coef, label=feature, color=np.random.rand(3))\n",
    "plt.legend(loc=\"upper right\", bbox_to_anchor=(1.4, 0.95))\n",
    "plt.xlabel(\"alpha\")\n",
    "plt.ylabel(\"feature weight\")\n",
    "plt.title(\"Ridge\")"
   ]
  },
  {
   "cell_type": "markdown",
   "metadata": {},
   "source": [
    "Ответы на следующие вопросы можно давать, глядя на графики или выводя коэффициенты на печать.\n",
    "\n",
    "__Блок 3. Ответьте на вопросы (каждый 0.25 балла)__:\n",
    "1. Какой регуляризатор (Ridge или Lasso) агрессивнее уменьшает веса при одном и том же alpha?\n",
    "    * Ответ: Lasso\n",
    "1. Что произойдет с весами Lasso, если alpha сделать очень большим? Поясните, почему так происходит.\n",
    "    * Ответ: Все веса занулятся\n",
    "1. Можно ли утверждать, что Lasso исключает один из признаков windspeed при любом значении alpha > 0? А Ridge? Ситается, что регуляризатор исключает признак, если коэффициент при нем < 1e-3.\n",
    "    * Ответ: \n",
    "1. Какой из регуляризаторов подойдет для отбора неинформативных признаков?\n",
    "    * Ответ: Lasso"
   ]
  },
  {
   "cell_type": "markdown",
   "metadata": {},
   "source": [
    "Далее будем работать с Lasso.\n",
    "\n",
    "Итак, мы видим, что при изменении alpha модель по-разному подбирает коэффициенты признаков. Нам нужно выбрать наилучшее alpha. "
   ]
  },
  {
   "cell_type": "markdown",
   "metadata": {},
   "source": [
    "Для этого, во-первых, нам нужна метрика качества. Будем использовать в качестве метрики сам оптимизируемый функционал метода наименьших квадратов, то есть Mean Square Error.\n",
    "\n",
    "Во-вторых, нужно понять, на каких данных эту метрику считать. Нельзя выбирать alpha по значению MSE на обучающей выборке, потому что тогда мы не сможем оценить, как модель будет делать предсказания на новых для нее данных. Если мы выберем одно разбиение выборки на обучающую и тестовую (это называется holdout), то настроимся на конкретные \"новые\" данные, и вновь можем переобучиться. Поэтому будем делать несколько разбиений выборки, на каждом пробовать разные значения alpha, а затем усреднять MSE. Удобнее всего делать такие разбиения кросс-валидацией, то есть разделить выборку на K частей, или блоков, и каждый раз брать одну из них как тестовую, а из оставшихся блоков составлять обучающую выборку. "
   ]
  },
  {
   "cell_type": "markdown",
   "metadata": {},
   "source": [
    "Делать кросс-валидацию для регрессии в sklearn совсем просто: для этого есть специальный регрессор, __LassoCV__, который берет на вход список из alpha и для каждого из них вычисляет MSE на кросс-валидации. После обучения (если оставить параметр cv=3 по умолчанию) регрессор будет содержать переменную __mse\\_path\\___, матрицу размера len(alpha) x k, k = 3 (число блоков в кросс-валидации), содержащую значения MSE на тесте для соответствующих запусков. Кроме того, в переменной alpha\\_ будет храниться выбранное значение параметра регуляризации, а в coef\\_, традиционно, обученные веса, соответствующие этому alpha_.\n",
    "\n",
    "Обратите внимание, что регрессор может менять порядок, в котором он проходит по alphas; для сопоставления с матрицей MSE лучше использовать переменную регрессора alphas_."
   ]
  },
  {
   "cell_type": "code",
   "execution_count": null,
   "metadata": {
    "collapsed": false
   },
   "outputs": [],
   "source": [
    "from sklearn.linear_model import LassoCV"
   ]
  },
  {
   "cell_type": "code",
   "execution_count": null,
   "metadata": {
    "collapsed": false
   },
   "outputs": [],
   "source": [
    "# Код 3.2 (1 балл)\n",
    "# Обучите регрессор LassoCV на всех параметрах регуляризации из alpha\n",
    "# Постройте график _усредненного_ по строкам MSE в зависимости от alpha. \n",
    "# Выведите выбранное alpha, а также пары \"признак-коэффициент\" для обученного вектора коэффициентов\n",
    "alphas = np.arange(1, 100, 1) # Немного подкрутил шаг, иначе он был слишком большим.\n",
    "lasso = LassoCV(alphas=alphas)\n",
    "lasso.fit(X, y)\n",
    "plt.plot(lasso.alphas_, lasso.mse_path_.mean(axis=1), '.')\n",
    "plt.xlabel(\"alpha\")\n",
    "plt.ylabel(\"mse\")\n",
    "lasso.alpha_, list(zip(df.columns, lasso.coef_))"
   ]
  },
  {
   "cell_type": "markdown",
   "metadata": {},
   "source": [
    "Итак, мы выбрали некоторый параметр регуляризации. Давайте посмотрим, какие бы мы выбирали alpha, если бы делили выборку только один раз на обучающую и тестовую, то есть рассмотрим траектории MSE, соответствующие отдельным блокам выборки."
   ]
  },
  {
   "cell_type": "code",
   "execution_count": 144,
   "metadata": {
    "collapsed": false
   },
   "outputs": [
    {
     "name": "stdout",
     "output_type": "stream",
     "text": [
      "Значения alpha, соответствующие минимумам MSE на каждом разбиении:  [39  5  1]\n"
     ]
    },
    {
     "data": {
      "image/png": "iVBORw0KGgoAAAANSUhEUgAAAaAAAAEPCAYAAAAEfBBiAAAABHNCSVQICAgIfAhkiAAAAAlwSFlz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\nfm9BJonKhrQAAAAASUVORK5CYII=\n",
      "text/plain": [
       "<matplotlib.figure.Figure at 0x119396400>"
      ]
     },
     "metadata": {},
     "output_type": "display_data"
    },
    {
     "data": {
      "image/png": "iVBORw0KGgoAAAANSUhEUgAAAaAAAAEPCAYAAAAEfBBiAAAABHNCSVQICAgIfAhkiAAAAAlwSFlz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\nYII=\n",
      "text/plain": [
       "<matplotlib.figure.Figure at 0x1195fa780>"
      ]
     },
     "metadata": {},
     "output_type": "display_data"
    },
    {
     "data": {
      "image/png": "iVBORw0KGgoAAAANSUhEUgAAAaAAAAEPCAYAAAAEfBBiAAAABHNCSVQICAgIfAhkiAAAAAlwSFlz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\nNYQDkJmZNYQDkJmZNcT/B2temtWpXl49AAAAAElFTkSuQmCC\n",
      "text/plain": [
       "<matplotlib.figure.Figure at 0x1190c64e0>"
      ]
     },
     "metadata": {},
     "output_type": "display_data"
    }
   ],
   "source": [
    "# Код 3.3 (1 балл)\n",
    "# Выведите значения alpha, соответствующие минимумам MSE на каждом разбиении (то есть по столбцам).\n",
    "# На трех отдельных графиках визуализируйте столбцы .mse_path_\n",
    "min_alphas_indexes = lasso.mse_path_.argmin(axis=0)\n",
    "print(\"Значения alpha, соответствующие минимумам MSE на каждом разбиении: \", lasso.alphas_[min_alphas_indexes])\n",
    "\n",
    "for col in range(3):\n",
    "    plt.plot(lasso.alphas_, lasso.mse_path_[:,col], '.', label=col)\n",
    "    plt.xlabel(\"alpha\")\n",
    "    plt.ylabel(\"mse\")\n",
    "    plt.show()"
   ]
  },
  {
   "cell_type": "markdown",
   "metadata": {},
   "source": [
    "На каждом разбиении оптимальное значение alpha свое, и ему соответствует большое MSE на других разбиениях. Получается, что мы настраиваемся на конкретные обучающие и контрольные выборки. При выборе alpha на кросс-валидации мы выбираем нечто \"среднее\", что будет давать приемлемое значение метрики на разных разбиениях выборки. "
   ]
  },
  {
   "cell_type": "markdown",
   "metadata": {},
   "source": [
    "Наконец, как принято в анализе данных, давайте проинтерпретируем результат."
   ]
  },
  {
   "cell_type": "markdown",
   "metadata": {},
   "source": [
    "__Блок 4. Ответьте на вопросы (каждый 0.5 балла):__\n",
    "1. В последней обученной модели выберите 4 признака с наибольшими (положительными) коэфициентами (и выпишите их), посмотрите на визуализации зависимостей cnt от этих признаков, которые мы рисовали в блоке \"Знакомство с данными\". Видна ли возрастающая линейная зависимость cnt от этих признаков по графикам? Логично ли утверждать (из здравого смысла), что чем больше значение этих признаков, тем больше людей захотят взять велосипеды? \n",
    "    * Ответ: признаки: yr, season, atemp, temp. Зависимость в целом видна (хотя видно, что зависимость от сезона не совсем линейная из-за зимы - этот признак можно было бы преобразовать, перенумеровав сезоны или введя бинарные признаки). Утверждение имеет смысл касаетельно температуры и сезона, а вот с годом нужно быть осторожнее: возможно, увеличение продаж во второй год скорее связано с какими-то внешними событиями (например, с более мощной рекламной компанией).\n",
    "1. Выберите 3 признака с наибольшими по модулю отрицательными коэффициентами (и выпишите их), посмотрите на соответствующие визуализации. Видна ли убывающая линейная зависимость? Логично ли утверждать, что чем больше величина этих признаков, тем меньше людей захотят взять велосипеды?\n",
    "    * Ответ: weathersit, windspeed(mph), hum. Зависомисть видна. Утверждать можно, однако влажность достаточно сильно кореллирует с общей оценкой погоды, поэтому, возможно, сама по себе не сильно влияет на продажи.\n",
    "1. Выпишите признаки с коэффициентами, близкими к нулю (< 1e-3). Как вы думаете, почему модель исключила их из модели (вновь посмотрите на графики)? Верно ли, что они никак не влияют на спрос на велосипеды?\n",
    "    * Ответ: windspeed(ms) был исключен регуляризатором, т.к. коллинеарен windspeed(mph) и его использование не помогает сделать модель точнее. Нет верно."
   ]
  },
  {
   "cell_type": "markdown",
   "metadata": {},
   "source": [
    "### Заключение\n",
    "Итак, мы посмотрели, как можно следить за адекватностью линейной модели, как отбирать признаки и как грамотно, по возможности не настраиваясь на какую-то конкретную порцию данных, подбирать коэффициент регуляризации. \n",
    "\n",
    "Стоит отметить, что с помощью кросс-валидации удобно подбирать лишь небольшое число параметров (1, 2, максимум 3), потому что для каждой допустимой их комбинации нам приходится несколько раз обучать модель, а это времязатратный процесс, особенно если нужно обучаться на больших объемах данных."
   ]
  }
 ],
 "metadata": {
  "kernelspec": {
<<<<<<< HEAD
   "display_name": "Python 3",
   "language": "python",
   "name": "python3"
=======
   "display_name": "Python [Root]",
   "language": "python",
   "name": "Python [Root]"
>>>>>>> 70d4993a23986efe2dab590e4f207ff08233007c
  },
  "language_info": {
   "codemirror_mode": {
    "name": "ipython",
<<<<<<< HEAD
    "version": 3
=======
    "version": 2
>>>>>>> 70d4993a23986efe2dab590e4f207ff08233007c
   },
   "file_extension": ".py",
   "mimetype": "text/x-python",
   "name": "python",
   "nbconvert_exporter": "python",
<<<<<<< HEAD
   "pygments_lexer": "ipython3",
   "version": "3.6.0"
=======
   "pygments_lexer": "ipython2",
   "version": "2.7.12"
>>>>>>> 70d4993a23986efe2dab590e4f207ff08233007c
  }
 },
 "nbformat": 4,
 "nbformat_minor": 0
}
