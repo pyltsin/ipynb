{
 "cells": [
  {
   "cell_type": "markdown",
   "metadata": {
    "collapsed": true
   },
   "source": [
    "# Обнаружение статистически значимых отличий в уровнях экспрессии генов больных раком\n",
    "Это задание поможет вам лучше разобраться в методах множественной проверки гипотез и позволит применить ваши знания на данных из реального биологического исследования.\n",
    "\n",
    "#### В этом задании вы:\n",
    "\n",
    "вспомните, что такое t-критерий Стьюдента и для чего он применяется\n",
    "сможете применить технику множественной проверки гипотез и увидеть собственными глазами, как она работает на реальных данных\n",
    "почувствуете разницу в результатах применения различных методов поправки на множественную проверку\n",
    "\n",
    "## Основные библиотеки и используемые методы:\n",
    "\n",
    "Библиотека scipy и основные статистические функции:http://docs.scipy.org/doc/scipy/reference/stats.html#statistical-functions\n",
    "\n",
    "Библиотека statmodels для методов коррекции при множественном сравнении:\n",
    "\n",
    "http://statsmodels.sourceforge.net/devel/stats.html\n",
    "\n",
    "Статья, в которой рассматриваются примеры использования statsmodels для множественной проверки гипотез:\n",
    "\n",
    "http://jpktd.blogspot.ru/2013/04/multiple-testing-p-value-corrections-in.html\n",
    "\n",
    "## Описание используемых данных\n",
    "\n",
    "Данные для этой задачи взяты из исследования, проведенного в Stanford School of Medicine. В исследовании была предпринята попытка выявить набор генов, которые позволили бы более точно диагностировать возникновение рака груди на самых ранних стадиях.\n",
    "\n",
    "В эксперименте принимали участие 24 человек, у которых не было рака груди (normal), 25 человек, у которых это заболевание было диагностировано на ранней стадии (early neoplasia), и 23 человека с сильно выраженными симптомами (cancer).\n",
    "\n",
    "\n",
    "Ученые провели секвенирование биологического материала испытуемых, чтобы понять, какие из этих генов наиболее активны в клетках больных людей.\n",
    "\n",
    "Секвенирование — это определение степени активности генов в анализируемом образце с помощью подсчёта количества соответствующей каждому гену РНК.\n",
    "\n",
    "В данных для этого задания вы найдете именно эту количественную меру активности каждого из 15748 генов у каждого из 72 человек, принимавших участие в эксперименте.\n",
    "\n",
    "Вам нужно будет определить те гены, активность которых у людей в разных стадиях заболевания отличается статистически значимо.\n",
    "\n",
    "Кроме того, вам нужно будет оценить не только статистическую, но и практическую значимость этих результатов, которая часто используется в подобных исследованиях.\n",
    "\n",
    "Диагноз человека содержится в столбце под названием \"Diagnosis\".\n",
    "\n",
    "## Практическая значимость изменения\n",
    "\n",
    "Цель исследований — найти гены, средняя экспрессия которых отличается не только статистически значимо, но и достаточно сильно. В экспрессионных исследованиях для этого часто используется метрика, которая называется fold change (кратность изменения). Определяется она следующим образом:\n",
    "\n",
    "$$F_{c}(C,T) = \\begin{cases} \\frac{T}{C}, T>C \\\\ -\\frac{C}{T}, T<C \\end{cases}$$\n",
    "\n",
    "где C,T — средние значения экспрессии гена в control и treatment группах соответственно. По сути, fold change показывает, во сколько раз отличаются средние двух выборок.\n",
    "\n",
    "## Инструкции к решению задачи\n",
    "\n",
    "Задание состоит из трёх частей. Если не сказано обратное, то уровень значимости нужно принять равным 0.05.\n",
    "\n",
    "### Часть 1: применение t-критерия Стьюдента\n",
    "\n",
    "В первой части вам нужно будет применить критерий Стьюдента для проверки гипотезы о равенстве средних в двух независимых выборках. Применить критерий для каждого гена нужно будет дважды:\n",
    "\n",
    " * для групп **normal (control)** и **early neoplasia (treatment)**\n",
    " * для групп **early neoplasia (control)** и **cancer (treatment)**\n",
    "\n",
    "В качестве ответа в этой части задания необходимо указать количество статистически значимых отличий, которые вы нашли с помощью t-критерия Стьюдента, то есть число генов, у которых p-value этого теста оказался меньше, чем уровень значимости."
   ]
  },
  {
   "cell_type": "code",
   "execution_count": 31,
   "metadata": {
    "collapsed": false
   },
   "outputs": [],
   "source": [
    "import pandas as pd\n",
    "import scipy.stats"
   ]
  },
  {
   "cell_type": "code",
   "execution_count": 32,
   "metadata": {
    "collapsed": false
   },
   "outputs": [],
   "source": [
    "df = pd.read_csv(\"gene_high_throughput_sequencing.csv\")\n",
    "control_df = df[df.Diagnosis == 'normal']\n",
    "neoplasia_df = df[df.Diagnosis == 'early neoplasia']\n",
    "cancer_df = df[df.Diagnosis == 'cancer']"
   ]
  },
  {
   "cell_type": "code",
   "execution_count": 33,
   "metadata": {
    "collapsed": false
   },
   "outputs": [],
   "source": [
    "# scipy.stats.ttest_ind(data.Placebo, data.Methylphenidate, equal_var = False)"
   ]
  },
  {
   "cell_type": "code",
   "execution_count": 34,
   "metadata": {
    "collapsed": false
   },
   "outputs": [],
   "source": [
    "genes = filter(lambda x: x not in ['Patient_id', 'Diagnosis'], df.columns.tolist())"
   ]
  },
  {
   "cell_type": "code",
   "execution_count": 35,
   "metadata": {
    "collapsed": true
   },
   "outputs": [],
   "source": [
    "control_vs_neoplasia = {}\n",
    "neoplasia_vs_cancer = {}"
   ]
  },
  {
   "cell_type": "code",
   "execution_count": 36,
   "metadata": {
    "collapsed": false
   },
   "outputs": [],
   "source": [
    "for gene in genes:\n",
    "    control_vs_neoplasia[gene] = scipy.stats.ttest_ind(control_df[gene], neoplasia_df[gene], equal_var = False).pvalue\n",
    "    neoplasia_vs_cancer[gene] = scipy.stats.ttest_ind(cancer_df[gene], neoplasia_df[gene], equal_var = False).pvalue"
   ]
  },
  {
   "cell_type": "code",
   "execution_count": 37,
   "metadata": {
    "collapsed": false,
    "scrolled": true
   },
   "outputs": [
    {
     "name": "stdout",
     "output_type": "stream",
     "text": [
      "0     1.257614\n",
      "1     4.567931\n",
      "2     2.077597\n",
      "3     2.066576\n",
      "4     2.613616\n",
      "5     3.942275\n",
      "6     1.084113\n",
      "7     3.153900\n",
      "8     2.551800\n",
      "9     3.693128\n",
      "10    3.558222\n",
      "11    0.938061\n",
      "12    1.003451\n",
      "13    7.364879\n",
      "14    2.561871\n",
      "15    2.971205\n",
      "16    2.871767\n",
      "17    1.045382\n",
      "18    1.801865\n",
      "19    3.515834\n",
      "20    2.234576\n",
      "21    4.717822\n",
      "22    1.474174\n",
      "23    1.282995\n",
      "Name: LOC643837, dtype: float64 24    2.516305\n",
      "25    1.937270\n",
      "26    1.405858\n",
      "27    2.131757\n",
      "28    2.421766\n",
      "29    4.668232\n",
      "30    3.386331\n",
      "31    1.247440\n",
      "32    1.591747\n",
      "33    0.979074\n",
      "34    4.730638\n",
      "35    0.964837\n",
      "36    0.949252\n",
      "37    1.068210\n",
      "38    1.679849\n",
      "39    0.885375\n",
      "40    4.567425\n",
      "41    3.060481\n",
      "42    2.888731\n",
      "43    1.285190\n",
      "44    5.753165\n",
      "45    3.983593\n",
      "46    4.391919\n",
      "47    1.122588\n",
      "48    3.155315\n",
      "Name: LOC643837, dtype: float64\n"
     ]
    }
   ],
   "source": [
    "print control_df['LOC643837'],neoplasia_df['LOC643837']"
   ]
  },
  {
   "cell_type": "code",
   "execution_count": 38,
   "metadata": {
    "collapsed": false
   },
   "outputs": [
    {
     "data": {
      "text/plain": [
       "0.69076601574973551"
      ]
     },
     "execution_count": 38,
     "metadata": {},
     "output_type": "execute_result"
    }
   ],
   "source": [
    "scipy.stats.ttest_ind(control_df['LOC643837'], neoplasia_df['LOC643837'], equal_var = False).pvalue"
   ]
  },
  {
   "cell_type": "code",
   "execution_count": 39,
   "metadata": {
    "collapsed": false
   },
   "outputs": [],
   "source": [
    "control_vs_neoplasia_df = pd.DataFrame.from_dict(control_vs_neoplasia, orient = 'index')\n",
    "control_vs_neoplasia_df.columns = ['control_vs_neoplasia_pvalue']"
   ]
  },
  {
   "cell_type": "code",
   "execution_count": 40,
   "metadata": {
    "collapsed": true
   },
   "outputs": [],
   "source": [
    "neoplasia_vs_cancer_df = pd.DataFrame.from_dict(neoplasia_vs_cancer, orient = 'index')\n",
    "neoplasia_vs_cancer_df.columns = ['neoplasia_vs_cancer_pvalue']"
   ]
  },
  {
   "cell_type": "code",
   "execution_count": 42,
   "metadata": {
    "collapsed": false,
    "scrolled": true
   },
   "outputs": [
    {
     "data": {
      "text/html": [
       "<div>\n",
       "<table border=\"1\" class=\"dataframe\">\n",
       "  <thead>\n",
       "    <tr style=\"text-align: right;\">\n",
       "      <th></th>\n",
       "      <th>neoplasia_vs_cancer_pvalue</th>\n",
       "    </tr>\n",
       "  </thead>\n",
       "  <tbody>\n",
       "    <tr>\n",
       "      <th>UBE2Q1</th>\n",
       "      <td>0.453480</td>\n",
       "    </tr>\n",
       "    <tr>\n",
       "      <th>HIF3A</th>\n",
       "      <td>0.000654</td>\n",
       "    </tr>\n",
       "    <tr>\n",
       "      <th>UBE2Q2</th>\n",
       "      <td>0.114018</td>\n",
       "    </tr>\n",
       "    <tr>\n",
       "      <th>RNF10</th>\n",
       "      <td>0.702235</td>\n",
       "    </tr>\n",
       "    <tr>\n",
       "      <th>RNF11</th>\n",
       "      <td>0.346222</td>\n",
       "    </tr>\n",
       "    <tr>\n",
       "      <th>LRRC31</th>\n",
       "      <td>0.419521</td>\n",
       "    </tr>\n",
       "    <tr>\n",
       "      <th>RNF13</th>\n",
       "      <td>0.485952</td>\n",
       "    </tr>\n",
       "    <tr>\n",
       "      <th>REM1</th>\n",
       "      <td>0.003971</td>\n",
       "    </tr>\n",
       "    <tr>\n",
       "      <th>REM2</th>\n",
       "      <td>0.698901</td>\n",
       "    </tr>\n",
       "    <tr>\n",
       "      <th>C16orf13</th>\n",
       "      <td>0.049652</td>\n",
       "    </tr>\n",
       "    <tr>\n",
       "      <th>MZT2A</th>\n",
       "      <td>0.072839</td>\n",
       "    </tr>\n",
       "    <tr>\n",
       "      <th>MZT2B</th>\n",
       "      <td>0.163551</td>\n",
       "    </tr>\n",
       "    <tr>\n",
       "      <th>NDP</th>\n",
       "      <td>0.872778</td>\n",
       "    </tr>\n",
       "    <tr>\n",
       "      <th>PMM2</th>\n",
       "      <td>0.014564</td>\n",
       "    </tr>\n",
       "    <tr>\n",
       "      <th>PMM1</th>\n",
       "      <td>0.562594</td>\n",
       "    </tr>\n",
       "    <tr>\n",
       "      <th>ASS1</th>\n",
       "      <td>0.767728</td>\n",
       "    </tr>\n",
       "    <tr>\n",
       "      <th>NCBP1</th>\n",
       "      <td>0.886632</td>\n",
       "    </tr>\n",
       "    <tr>\n",
       "      <th>ZNF709</th>\n",
       "      <td>0.000414</td>\n",
       "    </tr>\n",
       "    <tr>\n",
       "      <th>ZNF708</th>\n",
       "      <td>0.151118</td>\n",
       "    </tr>\n",
       "    <tr>\n",
       "      <th>ZNF879</th>\n",
       "      <td>0.651241</td>\n",
       "    </tr>\n",
       "    <tr>\n",
       "      <th>CBX3</th>\n",
       "      <td>0.024891</td>\n",
       "    </tr>\n",
       "    <tr>\n",
       "      <th>NID2</th>\n",
       "      <td>0.501976</td>\n",
       "    </tr>\n",
       "    <tr>\n",
       "      <th>CAMK1</th>\n",
       "      <td>0.729918</td>\n",
       "    </tr>\n",
       "    <tr>\n",
       "      <th>STYXL1</th>\n",
       "      <td>0.059709</td>\n",
       "    </tr>\n",
       "    <tr>\n",
       "      <th>ZNF701</th>\n",
       "      <td>0.874405</td>\n",
       "    </tr>\n",
       "    <tr>\n",
       "      <th>ZNF700</th>\n",
       "      <td>0.151003</td>\n",
       "    </tr>\n",
       "    <tr>\n",
       "      <th>ZNF707</th>\n",
       "      <td>0.023744</td>\n",
       "    </tr>\n",
       "    <tr>\n",
       "      <th>LOC147670</th>\n",
       "      <td>0.820141</td>\n",
       "    </tr>\n",
       "    <tr>\n",
       "      <th>ZNF704</th>\n",
       "      <td>0.092377</td>\n",
       "    </tr>\n",
       "    <tr>\n",
       "      <th>ZC3H10</th>\n",
       "      <td>0.912989</td>\n",
       "    </tr>\n",
       "    <tr>\n",
       "      <th>...</th>\n",
       "      <td>...</td>\n",
       "    </tr>\n",
       "    <tr>\n",
       "      <th>PTRF</th>\n",
       "      <td>0.043195</td>\n",
       "    </tr>\n",
       "    <tr>\n",
       "      <th>LUZP6</th>\n",
       "      <td>0.942831</td>\n",
       "    </tr>\n",
       "    <tr>\n",
       "      <th>C1orf198</th>\n",
       "      <td>0.194484</td>\n",
       "    </tr>\n",
       "    <tr>\n",
       "      <th>CFL2</th>\n",
       "      <td>0.584340</td>\n",
       "    </tr>\n",
       "    <tr>\n",
       "      <th>CFL1</th>\n",
       "      <td>0.068066</td>\n",
       "    </tr>\n",
       "    <tr>\n",
       "      <th>C8orf83</th>\n",
       "      <td>0.669453</td>\n",
       "    </tr>\n",
       "    <tr>\n",
       "      <th>C1orf192</th>\n",
       "      <td>0.014639</td>\n",
       "    </tr>\n",
       "    <tr>\n",
       "      <th>PLAA</th>\n",
       "      <td>0.498337</td>\n",
       "    </tr>\n",
       "    <tr>\n",
       "      <th>C1orf190</th>\n",
       "      <td>0.004657</td>\n",
       "    </tr>\n",
       "    <tr>\n",
       "      <th>BCL6B</th>\n",
       "      <td>0.009442</td>\n",
       "    </tr>\n",
       "    <tr>\n",
       "      <th>MRPL23</th>\n",
       "      <td>0.279824</td>\n",
       "    </tr>\n",
       "    <tr>\n",
       "      <th>C1orf194</th>\n",
       "      <td>0.201948</td>\n",
       "    </tr>\n",
       "    <tr>\n",
       "      <th>SELL</th>\n",
       "      <td>0.038052</td>\n",
       "    </tr>\n",
       "    <tr>\n",
       "      <th>PLEKHG3</th>\n",
       "      <td>0.091142</td>\n",
       "    </tr>\n",
       "    <tr>\n",
       "      <th>NFIA</th>\n",
       "      <td>0.074839</td>\n",
       "    </tr>\n",
       "    <tr>\n",
       "      <th>SELO</th>\n",
       "      <td>0.131847</td>\n",
       "    </tr>\n",
       "    <tr>\n",
       "      <th>PLEKHG6</th>\n",
       "      <td>0.438145</td>\n",
       "    </tr>\n",
       "    <tr>\n",
       "      <th>PLEKHG4</th>\n",
       "      <td>0.002692</td>\n",
       "    </tr>\n",
       "    <tr>\n",
       "      <th>PLEKHG5</th>\n",
       "      <td>0.128011</td>\n",
       "    </tr>\n",
       "    <tr>\n",
       "      <th>SELE</th>\n",
       "      <td>0.488034</td>\n",
       "    </tr>\n",
       "    <tr>\n",
       "      <th>SLC7A10</th>\n",
       "      <td>0.024658</td>\n",
       "    </tr>\n",
       "    <tr>\n",
       "      <th>C2orf71</th>\n",
       "      <td>0.071053</td>\n",
       "    </tr>\n",
       "    <tr>\n",
       "      <th>SIGLEC1</th>\n",
       "      <td>0.000088</td>\n",
       "    </tr>\n",
       "    <tr>\n",
       "      <th>AP4M1</th>\n",
       "      <td>0.624477</td>\n",
       "    </tr>\n",
       "    <tr>\n",
       "      <th>GNGT2</th>\n",
       "      <td>0.003862</td>\n",
       "    </tr>\n",
       "    <tr>\n",
       "      <th>AIP</th>\n",
       "      <td>0.909838</td>\n",
       "    </tr>\n",
       "    <tr>\n",
       "      <th>SERPINH1</th>\n",
       "      <td>0.006149</td>\n",
       "    </tr>\n",
       "    <tr>\n",
       "      <th>NFIX</th>\n",
       "      <td>0.143400</td>\n",
       "    </tr>\n",
       "    <tr>\n",
       "      <th>SELP</th>\n",
       "      <td>0.812087</td>\n",
       "    </tr>\n",
       "    <tr>\n",
       "      <th>SELS</th>\n",
       "      <td>0.131701</td>\n",
       "    </tr>\n",
       "  </tbody>\n",
       "</table>\n",
       "<p>15748 rows × 1 columns</p>\n",
       "</div>"
      ],
      "text/plain": [
       "           neoplasia_vs_cancer_pvalue\n",
       "UBE2Q1                       0.453480\n",
       "HIF3A                        0.000654\n",
       "UBE2Q2                       0.114018\n",
       "RNF10                        0.702235\n",
       "RNF11                        0.346222\n",
       "LRRC31                       0.419521\n",
       "RNF13                        0.485952\n",
       "REM1                         0.003971\n",
       "REM2                         0.698901\n",
       "C16orf13                     0.049652\n",
       "MZT2A                        0.072839\n",
       "MZT2B                        0.163551\n",
       "NDP                          0.872778\n",
       "PMM2                         0.014564\n",
       "PMM1                         0.562594\n",
       "ASS1                         0.767728\n",
       "NCBP1                        0.886632\n",
       "ZNF709                       0.000414\n",
       "ZNF708                       0.151118\n",
       "ZNF879                       0.651241\n",
       "CBX3                         0.024891\n",
       "NID2                         0.501976\n",
       "CAMK1                        0.729918\n",
       "STYXL1                       0.059709\n",
       "ZNF701                       0.874405\n",
       "ZNF700                       0.151003\n",
       "ZNF707                       0.023744\n",
       "LOC147670                    0.820141\n",
       "ZNF704                       0.092377\n",
       "ZC3H10                       0.912989\n",
       "...                               ...\n",
       "PTRF                         0.043195\n",
       "LUZP6                        0.942831\n",
       "C1orf198                     0.194484\n",
       "CFL2                         0.584340\n",
       "CFL1                         0.068066\n",
       "C8orf83                      0.669453\n",
       "C1orf192                     0.014639\n",
       "PLAA                         0.498337\n",
       "C1orf190                     0.004657\n",
       "BCL6B                        0.009442\n",
       "MRPL23                       0.279824\n",
       "C1orf194                     0.201948\n",
       "SELL                         0.038052\n",
       "PLEKHG3                      0.091142\n",
       "NFIA                         0.074839\n",
       "SELO                         0.131847\n",
       "PLEKHG6                      0.438145\n",
       "PLEKHG4                      0.002692\n",
       "PLEKHG5                      0.128011\n",
       "SELE                         0.488034\n",
       "SLC7A10                      0.024658\n",
       "C2orf71                      0.071053\n",
       "SIGLEC1                      0.000088\n",
       "AP4M1                        0.624477\n",
       "GNGT2                        0.003862\n",
       "AIP                          0.909838\n",
       "SERPINH1                     0.006149\n",
       "NFIX                         0.143400\n",
       "SELP                         0.812087\n",
       "SELS                         0.131701\n",
       "\n",
       "[15748 rows x 1 columns]"
      ]
     },
     "execution_count": 42,
     "metadata": {},
     "output_type": "execute_result"
    }
   ],
   "source": [
    "neoplasia_vs_cancer_df"
   ]
  },
  {
   "cell_type": "code",
   "execution_count": 43,
   "metadata": {
    "collapsed": false
   },
   "outputs": [
    {
     "data": {
      "text/html": [
       "<div>\n",
       "<table border=\"1\" class=\"dataframe\">\n",
       "  <thead>\n",
       "    <tr style=\"text-align: right;\">\n",
       "      <th></th>\n",
       "      <th>control_vs_neoplasia_pvalue</th>\n",
       "      <th>neoplasia_vs_cancer_pvalue</th>\n",
       "    </tr>\n",
       "  </thead>\n",
       "  <tbody>\n",
       "    <tr>\n",
       "      <th>UBE2Q1</th>\n",
       "      <td>0.908853</td>\n",
       "      <td>0.453480</td>\n",
       "    </tr>\n",
       "    <tr>\n",
       "      <th>HIF3A</th>\n",
       "      <td>0.115963</td>\n",
       "      <td>0.000654</td>\n",
       "    </tr>\n",
       "    <tr>\n",
       "      <th>UBE2Q2</th>\n",
       "      <td>0.355621</td>\n",
       "      <td>0.114018</td>\n",
       "    </tr>\n",
       "    <tr>\n",
       "      <th>RNF10</th>\n",
       "      <td>0.081252</td>\n",
       "      <td>0.702235</td>\n",
       "    </tr>\n",
       "    <tr>\n",
       "      <th>RNF11</th>\n",
       "      <td>0.438372</td>\n",
       "      <td>0.346222</td>\n",
       "    </tr>\n",
       "  </tbody>\n",
       "</table>\n",
       "</div>"
      ],
      "text/plain": [
       "        control_vs_neoplasia_pvalue  neoplasia_vs_cancer_pvalue\n",
       "UBE2Q1                     0.908853                    0.453480\n",
       "HIF3A                      0.115963                    0.000654\n",
       "UBE2Q2                     0.355621                    0.114018\n",
       "RNF10                      0.081252                    0.702235\n",
       "RNF11                      0.438372                    0.346222"
      ]
     },
     "execution_count": 43,
     "metadata": {},
     "output_type": "execute_result"
    }
   ],
   "source": [
    "pvalue_df = control_vs_neoplasia_df.join(neoplasia_vs_cancer_df)\n",
    "pvalue_df.head()"
   ]
  },
  {
   "cell_type": "code",
   "execution_count": 44,
   "metadata": {
    "collapsed": false
   },
   "outputs": [
    {
     "data": {
      "text/plain": [
       "(1575, 2)"
      ]
     },
     "execution_count": 44,
     "metadata": {},
     "output_type": "execute_result"
    }
   ],
   "source": [
    "pvalue_df[pvalue_df.control_vs_neoplasia_pvalue < 0.05].shape"
   ]
  },
  {
   "cell_type": "code",
   "execution_count": 45,
   "metadata": {
    "collapsed": false
   },
   "outputs": [
    {
     "data": {
      "text/plain": [
       "(3490, 2)"
      ]
     },
     "execution_count": 45,
     "metadata": {},
     "output_type": "execute_result"
    }
   ],
   "source": [
    "pvalue_df[pvalue_df.neoplasia_vs_cancer_pvalue < 0.05].shape"
   ]
  },
  {
   "cell_type": "markdown",
   "metadata": {},
   "source": [
    "### Часть 2: поправка методом Холма\n",
    "\n",
    "Для этой части задания вам понадобится модуль multitest из statsmodels.\n",
    "\n",
    "`import statsmodels.stats.multitest as smm`\n",
    "\n",
    "В этой части задания нужно будет применить поправку Холма для получившихся двух наборов достигаемых уровней значимости из предыдущей части. Обратите внимание, что поскольку вы будете делать поправку для каждого из двух наборов p-value отдельно, то проблема, связанная с множественной проверкой останется.\n",
    "\n",
    "Для того, чтобы ее устранить, достаточно воспользоваться поправкой Бонферрони, то есть использовать уровень значимости 0.05 / 2 вместо 0.05 для дальнейшего уточнения значений p-value c помощью метода Холма.\n",
    "\n",
    "В качестве ответа к этому заданию требуется ввести количество значимых отличий в каждой группе после того, как произведена коррекция Холма-Бонферрони. Причем это число нужно ввести с учетом практической значимости: посчитайте для каждого значимого изменения fold change и выпишите в ответ число таких значимых изменений, абсолютное значение fold change которых больше, чем 1.5.\n",
    "\n",
    "**Обратите внимание, что**\n",
    "\n",
    "применять поправку на множественную проверку нужно ко всем значениям достигаемых уровней значимости, а не только для тех, которые меньше значения уровня доверия.\n",
    "при использовании поправки на уровне значимости 0.025 меняются значения достигаемого уровня значимости, но не меняется значение уровня доверия (то есть для отбора значимых изменений скорректированные значения уровня значимости нужно сравнивать с порогом 0.025, а не 0.05)!\n"
   ]
  },
  {
   "cell_type": "code",
   "execution_count": 46,
   "metadata": {
    "collapsed": true
   },
   "outputs": [],
   "source": [
    "import statsmodels.stats.multitest as smm"
   ]
  },
  {
   "cell_type": "code",
   "execution_count": 47,
   "metadata": {
    "collapsed": false
   },
   "outputs": [],
   "source": [
    "pvalue_df['control_mean_expression'] = control_df.mean()\n",
    "pvalue_df['neoplasia_mean_expression'] = neoplasia_df.mean()\n",
    "pvalue_df['cancer_mean_expression'] = cancer_df.mean()"
   ]
  },
  {
   "cell_type": "code",
   "execution_count": 48,
   "metadata": {
    "collapsed": false
   },
   "outputs": [],
   "source": [
    "def abs_fold_change(c, t):\n",
    "    if t > c:\n",
    "        return t/c\n",
    "    else:\n",
    "        return c/t"
   ]
  },
  {
   "cell_type": "code",
   "execution_count": 49,
   "metadata": {
    "collapsed": true
   },
   "outputs": [],
   "source": [
    "pvalue_df['control_vs_neoplasia_fold_change'] = map(lambda x, y: abs_fold_change(x, y), \n",
    "                                                    pvalue_df.control_mean_expression,\n",
    "                                                    pvalue_df.neoplasia_mean_expression\n",
    "                                                   )\n",
    "pvalue_df['neoplasia_vs_cancer_fold_change'] = map(lambda x, y: abs_fold_change(x, y),\n",
    "                                                   pvalue_df.neoplasia_mean_expression,\n",
    "                                                   pvalue_df.cancer_mean_expression\n",
    "                                                  )"
   ]
  },
  {
   "cell_type": "code",
   "execution_count": 50,
   "metadata": {
    "collapsed": false
   },
   "outputs": [],
   "source": [
    "pvalue_df['control_vs_neoplasia_rej_hb'] = smm.multipletests(pvalue_df.control_vs_neoplasia_pvalue, alpha=0.025, method='h')[0]\n",
    "pvalue_df['neoplasia_vs_cancer_rej_hb'] = smm.multipletests(pvalue_df.neoplasia_vs_cancer_pvalue, alpha=0.025, method='h')[0]"
   ]
  },
  {
   "cell_type": "code",
   "execution_count": 51,
   "metadata": {
    "collapsed": false
   },
   "outputs": [
    {
     "data": {
      "text/plain": [
       "(2, 9)"
      ]
     },
     "execution_count": 51,
     "metadata": {},
     "output_type": "execute_result"
    }
   ],
   "source": [
    "pvalue_df[(pvalue_df.control_vs_neoplasia_rej_hb) & (pvalue_df.control_vs_neoplasia_fold_change > 1.5)].shape"
   ]
  },
  {
   "cell_type": "code",
   "execution_count": 52,
   "metadata": {
    "collapsed": false
   },
   "outputs": [
    {
     "data": {
      "text/plain": [
       "(77, 9)"
      ]
     },
     "execution_count": 52,
     "metadata": {},
     "output_type": "execute_result"
    }
   ],
   "source": [
    "pvalue_df[(pvalue_df.neoplasia_vs_cancer_rej_hb) & (pvalue_df.neoplasia_vs_cancer_fold_change > 1.5)].shape"
   ]
  },
  {
   "cell_type": "markdown",
   "metadata": {},
   "source": [
    "### Часть 3: поправка методом Бенджамини-Хохберга\n",
    "\n",
    "Данная часть задания аналогична второй части за исключением того, что нужно будет использовать метод Бенджамини-Хохберга.\n",
    "\n",
    "Обратите внимание, что методы коррекции, которые контролируют FDR, допускает больше ошибок первого рода и имеют большую мощность, чем методы, контролирующие FWER. Большая мощность означает, что эти методы будут совершать меньше ошибок второго рода (то есть будут лучше улавливать отклонения от H0, когда они есть, и будут чаще отклонять H0, когда отличий нет).\n",
    "\n",
    "В качестве ответа к этому заданию требуется ввести количество значимых отличий в каждой группе после того, как произведена коррекция Бенджамини-Хохберга, причем так же, как и во второй части, считать только такие отличия, у которых abs(fold change) > 1.5.\n"
   ]
  },
  {
   "cell_type": "code",
   "execution_count": 57,
   "metadata": {
    "collapsed": false
   },
   "outputs": [],
   "source": [
    "pvalue_df['control_vs_neoplasia_rej_bh'] = smm.multipletests(pvalue_df.control_vs_neoplasia_pvalue, alpha=0.025, method='fdr_i')[0]\n",
    "pvalue_df['neoplasia_vs_cancer_rej_bh'] = smm.multipletests(pvalue_df.neoplasia_vs_cancer_pvalue, alpha=0.025, method='fdr_i')[0]"
   ]
  },
  {
   "cell_type": "code",
   "execution_count": 60,
   "metadata": {
    "collapsed": false
   },
   "outputs": [
    {
     "data": {
      "text/plain": [
       "False    15744\n",
       "True         4\n",
       "Name: control_vs_neoplasia_rej_bh, dtype: int64"
      ]
     },
     "execution_count": 60,
     "metadata": {},
     "output_type": "execute_result"
    }
   ],
   "source": [
    "pvalue_df.control_vs_neoplasia_rej_bh.value_counts()"
   ]
  },
  {
   "cell_type": "code",
   "execution_count": 54,
   "metadata": {
    "collapsed": false
   },
   "outputs": [
    {
     "data": {
      "text/plain": [
       "(4, 11)"
      ]
     },
     "execution_count": 54,
     "metadata": {},
     "output_type": "execute_result"
    }
   ],
   "source": [
    "pvalue_df[(pvalue_df.control_vs_neoplasia_rej_bh) & (pvalue_df.control_vs_neoplasia_fold_change > 1.5)].shape"
   ]
  },
  {
   "cell_type": "code",
   "execution_count": 55,
   "metadata": {
    "collapsed": false
   },
   "outputs": [
    {
     "data": {
      "text/plain": [
       "(524, 11)"
      ]
     },
     "execution_count": 55,
     "metadata": {},
     "output_type": "execute_result"
    }
   ],
   "source": [
    "pvalue_df[(pvalue_df.neoplasia_vs_cancer_rej_bh) & (pvalue_df.neoplasia_vs_cancer_fold_change > 1.5)].shape"
   ]
  },
  {
   "cell_type": "code",
   "execution_count": null,
   "metadata": {
    "collapsed": true
   },
   "outputs": [],
   "source": []
  }
 ],
 "metadata": {
  "anaconda-cloud": {},
  "kernelspec": {
   "display_name": "Python [Root]",
   "language": "python",
   "name": "Python [Root]"
  },
  "language_info": {
   "codemirror_mode": {
    "name": "ipython",
    "version": 2
   },
   "file_extension": ".py",
   "mimetype": "text/x-python",
   "name": "python",
   "nbconvert_exporter": "python",
   "pygments_lexer": "ipython2",
   "version": "2.7.12"
  }
 },
 "nbformat": 4,
 "nbformat_minor": 0
}
