{
 "cells": [
  {
   "cell_type": "code",
   "execution_count": 1,
   "metadata": {
    "collapsed": false
   },
   "outputs": [
    {
     "name": "stdout",
     "output_type": "stream",
     "text": [
      "Populating the interactive namespace from numpy and matplotlib\n"
     ]
    }
   ],
   "source": [
    "import pandas as pd\n",
    "import numpy as np\n",
    "import seaborn as sns\n",
    "from matplotlib import pyplot as plt\n",
    "import scipy\n",
    "import statsmodels.stats.multitest as smm\n",
    "from statsmodels.stats.weightstats import *\n",
    "%pylab inline"
   ]
  },
  {
   "cell_type": "markdown",
   "metadata": {},
   "source": [
    "Инструкции\n",
    "\n",
    "Для выполнения этого задания вам понадобятся данные о кредитных историях клиентов одного из банков. Поля в предоставляемых данных имеют следующий смысл:\n",
    "\n",
    "* LIMIT_BAL: размер кредитного лимита (в том числе и на семью клиента)\n",
    "* SEX: пол клиента (1 = мужской, 2 = женский )\n",
    "* EDUCATION: образование (0 = доктор, 1 = магистр; 2 = бакалавр; 3 = выпускник школы; 4 = начальное образование; 5= прочее; 6 = нет данных ).\n",
    "* MARRIAGE: (0 = отказываюсь отвечать; 1 = замужем/женат; 2 = холост; 3 = нет данных).\n",
    "* AGE: возраст в годах\n",
    "* PAY_0 - PAY_6 : История прошлых платежей по кредиту. PAY_6 - платеж в апреле, ... Pay_0 - платеж в сентябре. Платеж = (0 = исправный платеж, 1=задержка в один месяц, 2=задержка в 2 месяца ...)\n",
    "* BILL_AMT1 - BILL_AMT6: задолженность, BILL_AMT6 - на апрель, BILL_AMT1 - на сентябрь\n",
    "* PAY_AMT1 - PAY_AMT6: сумма уплаченная в PAY_AMT6 - апреле, ..., * PAY_AMT1 - сентябре\n",
    "* default - индикатор невозврата денежных средств"
   ]
  },
  {
   "cell_type": "markdown",
   "metadata": {},
   "source": [
    "### Загрузка данных"
   ]
  },
  {
   "cell_type": "code",
   "execution_count": 2,
   "metadata": {
    "collapsed": false
   },
   "outputs": [
    {
     "data": {
      "text/html": [
       "<div>\n",
       "<table border=\"1\" class=\"dataframe\">\n",
       "  <thead>\n",
       "    <tr style=\"text-align: right;\">\n",
       "      <th></th>\n",
       "      <th>ID</th>\n",
       "      <th>LIMIT_BAL</th>\n",
       "      <th>SEX</th>\n",
       "      <th>EDUCATION</th>\n",
       "      <th>MARRIAGE</th>\n",
       "      <th>AGE</th>\n",
       "      <th>PAY_0</th>\n",
       "      <th>PAY_2</th>\n",
       "      <th>PAY_3</th>\n",
       "      <th>PAY_4</th>\n",
       "      <th>...</th>\n",
       "      <th>BILL_AMT4</th>\n",
       "      <th>BILL_AMT5</th>\n",
       "      <th>BILL_AMT6</th>\n",
       "      <th>PAY_AMT1</th>\n",
       "      <th>PAY_AMT2</th>\n",
       "      <th>PAY_AMT3</th>\n",
       "      <th>PAY_AMT4</th>\n",
       "      <th>PAY_AMT5</th>\n",
       "      <th>PAY_AMT6</th>\n",
       "      <th>default</th>\n",
       "    </tr>\n",
       "  </thead>\n",
       "  <tbody>\n",
       "    <tr>\n",
       "      <th>0</th>\n",
       "      <td>1</td>\n",
       "      <td>20000</td>\n",
       "      <td>2</td>\n",
       "      <td>2</td>\n",
       "      <td>1</td>\n",
       "      <td>24</td>\n",
       "      <td>2</td>\n",
       "      <td>2</td>\n",
       "      <td>0</td>\n",
       "      <td>0</td>\n",
       "      <td>...</td>\n",
       "      <td>0</td>\n",
       "      <td>0</td>\n",
       "      <td>0</td>\n",
       "      <td>0</td>\n",
       "      <td>689</td>\n",
       "      <td>0</td>\n",
       "      <td>0</td>\n",
       "      <td>0</td>\n",
       "      <td>0</td>\n",
       "      <td>1</td>\n",
       "    </tr>\n",
       "    <tr>\n",
       "      <th>1</th>\n",
       "      <td>2</td>\n",
       "      <td>120000</td>\n",
       "      <td>2</td>\n",
       "      <td>2</td>\n",
       "      <td>2</td>\n",
       "      <td>26</td>\n",
       "      <td>0</td>\n",
       "      <td>2</td>\n",
       "      <td>0</td>\n",
       "      <td>0</td>\n",
       "      <td>...</td>\n",
       "      <td>3272</td>\n",
       "      <td>3455</td>\n",
       "      <td>3261</td>\n",
       "      <td>0</td>\n",
       "      <td>1000</td>\n",
       "      <td>1000</td>\n",
       "      <td>1000</td>\n",
       "      <td>0</td>\n",
       "      <td>2000</td>\n",
       "      <td>1</td>\n",
       "    </tr>\n",
       "    <tr>\n",
       "      <th>2</th>\n",
       "      <td>3</td>\n",
       "      <td>90000</td>\n",
       "      <td>2</td>\n",
       "      <td>2</td>\n",
       "      <td>2</td>\n",
       "      <td>34</td>\n",
       "      <td>0</td>\n",
       "      <td>0</td>\n",
       "      <td>0</td>\n",
       "      <td>0</td>\n",
       "      <td>...</td>\n",
       "      <td>14331</td>\n",
       "      <td>14948</td>\n",
       "      <td>15549</td>\n",
       "      <td>1518</td>\n",
       "      <td>1500</td>\n",
       "      <td>1000</td>\n",
       "      <td>1000</td>\n",
       "      <td>1000</td>\n",
       "      <td>5000</td>\n",
       "      <td>0</td>\n",
       "    </tr>\n",
       "    <tr>\n",
       "      <th>3</th>\n",
       "      <td>4</td>\n",
       "      <td>50000</td>\n",
       "      <td>2</td>\n",
       "      <td>2</td>\n",
       "      <td>1</td>\n",
       "      <td>37</td>\n",
       "      <td>0</td>\n",
       "      <td>0</td>\n",
       "      <td>0</td>\n",
       "      <td>0</td>\n",
       "      <td>...</td>\n",
       "      <td>28314</td>\n",
       "      <td>28959</td>\n",
       "      <td>29547</td>\n",
       "      <td>2000</td>\n",
       "      <td>2019</td>\n",
       "      <td>1200</td>\n",
       "      <td>1100</td>\n",
       "      <td>1069</td>\n",
       "      <td>1000</td>\n",
       "      <td>0</td>\n",
       "    </tr>\n",
       "    <tr>\n",
       "      <th>4</th>\n",
       "      <td>5</td>\n",
       "      <td>50000</td>\n",
       "      <td>1</td>\n",
       "      <td>2</td>\n",
       "      <td>1</td>\n",
       "      <td>57</td>\n",
       "      <td>0</td>\n",
       "      <td>0</td>\n",
       "      <td>0</td>\n",
       "      <td>0</td>\n",
       "      <td>...</td>\n",
       "      <td>20940</td>\n",
       "      <td>19146</td>\n",
       "      <td>19131</td>\n",
       "      <td>2000</td>\n",
       "      <td>36681</td>\n",
       "      <td>10000</td>\n",
       "      <td>9000</td>\n",
       "      <td>689</td>\n",
       "      <td>679</td>\n",
       "      <td>0</td>\n",
       "    </tr>\n",
       "  </tbody>\n",
       "</table>\n",
       "<p>5 rows × 25 columns</p>\n",
       "</div>"
      ],
      "text/plain": [
       "   ID  LIMIT_BAL  SEX  EDUCATION  MARRIAGE  AGE  PAY_0  PAY_2  PAY_3  PAY_4  \\\n",
       "0   1      20000    2          2         1   24      2      2      0      0   \n",
       "1   2     120000    2          2         2   26      0      2      0      0   \n",
       "2   3      90000    2          2         2   34      0      0      0      0   \n",
       "3   4      50000    2          2         1   37      0      0      0      0   \n",
       "4   5      50000    1          2         1   57      0      0      0      0   \n",
       "\n",
       "    ...     BILL_AMT4  BILL_AMT5  BILL_AMT6  PAY_AMT1  PAY_AMT2  PAY_AMT3  \\\n",
       "0   ...             0          0          0         0       689         0   \n",
       "1   ...          3272       3455       3261         0      1000      1000   \n",
       "2   ...         14331      14948      15549      1518      1500      1000   \n",
       "3   ...         28314      28959      29547      2000      2019      1200   \n",
       "4   ...         20940      19146      19131      2000     36681     10000   \n",
       "\n",
       "   PAY_AMT4  PAY_AMT5  PAY_AMT6  default  \n",
       "0         0         0         0        1  \n",
       "1      1000         0      2000        1  \n",
       "2      1000      1000      5000        0  \n",
       "3      1100      1069      1000        0  \n",
       "4      9000       689       679        0  \n",
       "\n",
       "[5 rows x 25 columns]"
      ]
     },
     "execution_count": 2,
     "metadata": {},
     "output_type": "execute_result"
    }
   ],
   "source": [
    "data = pd.read_csv(\"credit_card_default_analysis.csv\", index_col=False) \n",
    "data.head()"
   ]
  },
  {
   "cell_type": "markdown",
   "metadata": {},
   "source": [
    "Выданы и не выданы кредиты."
   ]
  },
  {
   "cell_type": "code",
   "execution_count": 3,
   "metadata": {
    "collapsed": true
   },
   "outputs": [],
   "source": [
    "default0 = data[data.default==0]\n",
    "default1 = data[data.default==1]"
   ]
  },
  {
   "cell_type": "code",
   "execution_count": 4,
   "metadata": {
    "collapsed": false
   },
   "outputs": [
    {
     "data": {
      "image/png": "iVBORw0KGgoAAAANSUhEUgAAAsUAAAHxCAYAAACFyME+AAAABHNCSVQICAgIfAhkiAAAAAlwSFlz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\nXwAAAABJRU5ErkJggg==\n",
      "text/plain": [
       "<matplotlib.figure.Figure at 0x7fab832651d0>"
      ]
     },
     "metadata": {},
     "output_type": "display_data"
    }
   ],
   "source": [
    "sns.set(style='darkgrid')\n",
    "ax = sns.countplot(x='default',data=data)"
   ]
  },
  {
   "cell_type": "markdown",
   "metadata": {},
   "source": [
    "## Задание 1.\n",
    "\n",
    "Размер кредитного лимита (LIMIT_BAL). В двух группах, тех людей, кто вернул кредит (default = 0) и тех, кто его не вернул (default = 1) проверьте гипотезы: a) о равенстве медианных значений кредитного лимита с помощью подходящей интервальной оценки b) о равенстве распределений с помощью одного из подходящих непараметрических критериев проверки равенства средних. Значимы ли полученные результаты с практической точки зрения ?\n"
   ]
  },
  {
   "cell_type": "code",
   "execution_count": 5,
   "metadata": {
    "collapsed": false
   },
   "outputs": [
    {
     "data": {
      "text/plain": [
       "<matplotlib.axes._subplots.AxesSubplot at 0x7fab806b1290>"
      ]
     },
     "execution_count": 5,
     "metadata": {},
     "output_type": "execute_result"
    },
    {
     "data": {
      "image/png": "iVBORw0KGgoAAAANSUhEUgAABnoAAANFCAYAAABcKCJCAAAABHNCSVQICAgIfAhkiAAAAAlwSFlz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\nkFOCHgAAAAAAgJwS9AAAAAAAAOTU/wfMjdGxZJ/t0QAAAABJRU5ErkJggg==\n",
      "text/plain": [
       "<matplotlib.figure.Figure at 0x7fab83272950>"
      ]
     },
     "metadata": {},
     "output_type": "display_data"
    }
   ],
   "source": [
    "fig, axes = plt.subplots(nrows=1, ncols=2, figsize=(20, 10))\n",
    "default1['LIMIT_BAL'].plot(kind='hist',ax=axes[0], color='r',title='default = 1')\n",
    "default0['LIMIT_BAL'].plot(kind='hist',ax=axes[1], title='default = 0')"
   ]
  },
  {
   "cell_type": "markdown",
   "metadata": {},
   "source": [
    "Распределение размера кредитного лимита для лиц с default = 1 сильнее скошено влево. "
   ]
  },
  {
   "cell_type": "code",
   "execution_count": 6,
   "metadata": {
    "collapsed": false
   },
   "outputs": [
    {
     "data": {
      "image/png": "iVBORw0KGgoAAAANSUhEUgAABA8AAAFtCAYAAABoREMtAAAABHNCSVQICAgIfAhkiAAAAAlwSFlz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\nIiIiIiKl+n/1YKknpS3qQAAAAABJRU5ErkJggg==\n",
      "text/plain": [
       "<matplotlib.figure.Figure at 0x7fab7ff238d0>"
      ]
     },
     "metadata": {},
     "output_type": "display_data"
    }
   ],
   "source": [
    "pylab.figure(figsize=(12,8))\n",
    "pylab.subplot(2,2,1)\n",
    "stats.probplot(default0['LIMIT_BAL'], dist=\"norm\", plot=pylab)\n",
    "pylab.subplot(2,2,2)\n",
    "stats.probplot(default1['LIMIT_BAL'], dist=\"norm\", plot=pylab)\n",
    "pylab.show()"
   ]
  },
  {
   "cell_type": "markdown",
   "metadata": {},
   "source": [
    "На Q-Q графике видны отклониния распределения данных от нормального, поэтому нельзя иcпользовать параметрические критерии."
   ]
  },
  {
   "cell_type": "markdown",
   "metadata": {},
   "source": [
    "### 1(a)"
   ]
  },
  {
   "cell_type": "markdown",
   "metadata": {},
   "source": [
    "$H_0\\colon med\\left(X_1-X_2\\right)=0,$\n",
    "\n",
    "$H_1\\colon med\\left(X_1-X_2\\right)\\neq0$"
   ]
  },
  {
   "cell_type": "code",
   "execution_count": 7,
   "metadata": {
    "collapsed": true
   },
   "outputs": [],
   "source": [
    "def get_bootstrap_samples(data, n_samples):\n",
    "    indices = np.random.randint(0, len(data), (n_samples, len(data)))\n",
    "    samples = data[indices]\n",
    "    return samples\n",
    "def stat_intervals(stat, alpha):\n",
    "    boundaries = np.percentile(stat, [100 * alpha / 2., 100 * (1 - alpha / 2.)])\n",
    "    return boundaries"
   ]
  },
  {
   "cell_type": "code",
   "execution_count": 8,
   "metadata": {
    "collapsed": true
   },
   "outputs": [],
   "source": [
    "X1 = default1['LIMIT_BAL'].values\n",
    "X0 = default0['LIMIT_BAL'].values"
   ]
  },
  {
   "cell_type": "markdown",
   "metadata": {},
   "source": [
    "### Интервальная оценка медианы "
   ]
  },
  {
   "cell_type": "code",
   "execution_count": 9,
   "metadata": {
    "collapsed": true
   },
   "outputs": [],
   "source": [
    "np.random.seed(0)\n",
    "data_default0 = get_bootstrap_samples(X0, 1000)\n",
    "data_default1 = get_bootstrap_samples(X1, 1000)\n",
    "\n",
    "default0_median_scores = map(np.mean,data_default0)\n",
    "default1_median_scores = map(np.mean,data_default1)"
   ]
  },
  {
   "cell_type": "code",
   "execution_count": 10,
   "metadata": {
    "collapsed": false
   },
   "outputs": [
    {
     "name": "stdout",
     "output_type": "stream",
     "text": [
      "95% confidence interval for the ILEC median repair time: [ 176255.2259887   179833.54947783]\n",
      "95% confidence interval for the CLEC median repair time: [ 127478.43158529  132814.89180229]\n"
     ]
    }
   ],
   "source": [
    "print \"95% confidence interval for the ILEC median repair time:\",  stat_intervals(default0_median_scores, 0.05)\n",
    "print \"95% confidence interval for the CLEC median repair time:\",  stat_intervals(default1_median_scores, 0.05)"
   ]
  },
  {
   "cell_type": "markdown",
   "metadata": {
    "collapsed": true
   },
   "source": [
    "### Точечная оценка разности медиан "
   ]
  },
  {
   "cell_type": "code",
   "execution_count": 11,
   "metadata": {
    "collapsed": false
   },
   "outputs": [
    {
     "name": "stdout",
     "output_type": "stream",
     "text": [
      "difference between medians: 60000.0\n"
     ]
    }
   ],
   "source": [
    "print \"difference between medians:\", np.median(data_default0) - np.median(data_default1)"
   ]
  },
  {
   "cell_type": "markdown",
   "metadata": {},
   "source": [
    "### Интервальная оценка разности медиан "
   ]
  },
  {
   "cell_type": "code",
   "execution_count": 12,
   "metadata": {
    "collapsed": true
   },
   "outputs": [],
   "source": [
    "delta_median_scores = map(lambda x: x[0] - x[1], zip(default0_median_scores, default1_median_scores))"
   ]
  },
  {
   "cell_type": "code",
   "execution_count": 13,
   "metadata": {
    "collapsed": false,
    "scrolled": true
   },
   "outputs": [
    {
     "name": "stdout",
     "output_type": "stream",
     "text": [
      "95% confidence interval for the difference between medians [ 44488.95873839  51178.35817426]\n"
     ]
    }
   ],
   "source": [
    "print \"95% confidence interval for the difference between medians\",  stat_intervals(delta_median_scores, 0.05)"
   ]
  },
  {
   "cell_type": "markdown",
   "metadata": {},
   "source": [
    "### Выводы: \n",
    "* доверительные интервалы для медиан не пересекаются;\n",
    "* разность между оценками медиан не пересекаются;\n",
    "* доверительный интервал разности медиан не содержит нуля.\n",
    "\n",
    "Из перечисленных выше результатов можно отвергнуть гипотезу о равенстве медиан."
   ]
  },
  {
   "cell_type": "markdown",
   "metadata": {},
   "source": [
    "### 1(b) "
   ]
  },
  {
   "cell_type": "markdown",
   "metadata": {},
   "source": [
    "$H_0\\colon F_{X_1}(x) = F_{X_2}(x)$\n",
    "\n",
    "$H_1\\colon F_{X_1}(x) = F_{X_2}(x + \\Delta), \\Delta\\neq 0$"
   ]
  },
  {
   "cell_type": "code",
   "execution_count": 14,
   "metadata": {
    "collapsed": true
   },
   "outputs": [],
   "source": [
    "from scipy import stats"
   ]
  },
  {
   "cell_type": "code",
   "execution_count": 15,
   "metadata": {
    "collapsed": false
   },
   "outputs": [
    {
     "data": {
      "text/plain": [
       "MannwhitneyuResult(statistic=59257217.5, pvalue=6.1277429091116516e-190)"
      ]
     },
     "execution_count": 15,
     "metadata": {},
     "output_type": "execute_result"
    }
   ],
   "source": [
    "stats.mannwhitneyu(X1,X0)"
   ]
  },
  {
   "cell_type": "code",
   "execution_count": 16,
   "metadata": {
    "collapsed": true
   },
   "outputs": [],
   "source": [
    "def permutation_t_stat_ind(sample1, sample2):\n",
    "    return np.mean(sample1) - np.mean(sample2)"
   ]
  },
  {
   "cell_type": "code",
   "execution_count": 17,
   "metadata": {
    "collapsed": true
   },
   "outputs": [],
   "source": [
    "def get_random_combinations(n1, n2, max_combinations):\n",
    "    index = range(n1 + n2)\n",
    "    indices = set([tuple(index)])\n",
    "    for i in range(max_combinations - 1):\n",
    "        np.random.shuffle(index)\n",
    "        indices.add(tuple(index))\n",
    "    return [(index[:n1], index[n1:]) for index in indices]"
   ]
  },
  {
   "cell_type": "code",
   "execution_count": 18,
   "metadata": {
    "collapsed": true
   },
   "outputs": [],
   "source": [
    "def permutation_zero_dist_ind(sample1, sample2, max_combinations = None):\n",
    "    joined_sample = np.hstack((sample1, sample2))\n",
    "    n1 = len(sample1)\n",
    "    n = len(joined_sample)\n",
    "    \n",
    "    if max_combinations:\n",
    "        indices = get_random_combinations(n1, len(sample2), max_combinations)\n",
    "    else:\n",
    "        indices = [(list(index), filter(lambda i: i not in index, range(n))) \\\n",
    "                    for index in itertools.combinations(range(n), n1)]\n",
    "    \n",
    "    distr = [joined_sample[list(i[0])].mean() - joined_sample[list(i[1])].mean() \\\n",
    "             for i in indices]\n",
    "    return distr"
   ]
  },
  {
   "cell_type": "code",
   "execution_count": null,
   "metadata": {
    "collapsed": true
   },
   "outputs": [],
   "source": [
    "plt.hist([age[data.default==0],age[data.default==1]],color=['r','b'],histtype='barstacked',\\\n",
    "         label=['default0','default1'])"
   ]
  },
  {
   "cell_type": "code",
   "execution_count": 157,
   "metadata": {
    "collapsed": false
   },
   "outputs": [
    {
     "data": {
      "image/png": "iVBORw0KGgoAAAANSUhEUgAAArQAAAHcCAYAAAAncTlwAAAABHNCSVQICAgIfAhkiAAAAAlwSFlz\nAAAPYQAAD2EBqD+naQAAIABJREFUeJzt3X90lOWd///XEJxAgYkJdqXmrF1wA+THEGgGMfyokXaR\nVUMJEhPAPWvdQJTFLQTtVjSsYnS1od2zIkhTeqxUq01YJcRutbrZIrvEs2oVJhMoVjy1EkAgGQKS\nEJNc3z/8Zj5MI9aJycx9Mc/HOZ6W+5rJfd15z6RPxsnUZYwxAgAAACw1JNYbAAAAAL4IghYAAABW\nI2gBAABgNYIWAAAAViNoAQAAYDWCFgAAAFYjaAEAAGA1ghYAAABWI2gBAABgNYIWAAAAVos4aPft\n26e///u/19SpUzVz5kzdddddam1tlSQ1NDSosLBQOTk5ys/PV11dXdh9t27dqrlz58rn82nJkiUK\nBAIDcxUAAACIWxEFbXd3t5YtW6YpU6aooaFBv/zlL9XS0qL7779fx44d0/Lly7V48WI1NDRozZo1\nKi8vD0VrfX29Nm7cqMrKSu3evVt5eXkqLS1VR0fHoFwYAAAA4kNEQXvs2DEdO3ZM8+bN09ChQ5WU\nlKS/+Zu/0b59+1RXV6exY8eqoKBAbrdbubm5mj17tmpqaiRJ1dXVWrBggbxer9xut0pKSuRyuVRf\nXz8oFwYAAID4EFHQXnrppcrIyFB1dbXOnDmjEydO6Ne//rXy8vIUCASUmZkZdvuMjAz5/X5JUmNj\nozIyMkJrLpdL6enpoXUAAACgPyIKWpfLpX//93/XK6+8opycHM2cOVPd3d0qKytTMBiUx+MJu31S\nUlLo/bXnWw8Gg1/wEgAAABDPIgrazs5O3X777bruuuv0xhtv6NVXX9WoUaN05513SpKMMYOyyV6D\n/fUBAABgn6GR3LihoUGHDh1SWVmZJGnEiBFasWKF5s+fr69//et9Xm0NBoMaPXq0JCklJSX0au25\n6+PHj//c53e5XGpra1d3d08k28YgS0gYIo9nOLNxKObjXMzGuZiNszEf5+qdTbRFFLQ9PT2hf4YM\n+eTF3c7OTrlcLk2fPl3PPfdc2O39fr+ys7MlSVlZWQoEApo/f37oazU1NamwsDCiDXd396iriwev\nEzEbZ2M+zsVsnIvZOBvzQa+I3nIwZcoUfelLX9Kjjz6qjo4Otba2avPmzZo6darmzZun5uZmbdu2\nTZ2dndq5c6d27dqloqIiSdKiRYtUW1urPXv2qKOjQ5s2bVJiYqLy8vIG47oAAAAQJ1wmwjemNjU1\n6eGHH9bvfvc7XXTRRZo2bZq+973v6ctf/rLeeOMNVVRU6ODBg0pNTdXq1av1zW9+M3TfZ599Vj/6\n0Y/U0tIir9er++67T3/9138d0YZbWz/ib2MOM3ToECUnj2A2DsV8nIvZOBezcTbm41y9s4m2iIM2\n1njwOg8/WJyN+TgXs3EuZuNszMe5YhW0Ef9f3wIAAABOQtACAADAagQtAAAArEbQAgAAwGoRfQ4t\nLlydnZ0KBPz9uq9NH3CdmemV2+2O9TYAAMAAImghSQoE/PruD5/TqNGXx3org+bUiff1/TJpypSc\nWG8FAAAMIIIWIaNGX66Lx6TFehsAAAAR4T20AAAAsBpBCwAAAKsRtAAAALAaQQsAAACrEbQAAACw\nGkELAAAAqxG0AAAAsBpBCwAAAKsRtAAAALAaQQsAAACrEbQAAACwGkELAAAAqxG0AAAAsBpBCwAA\nAKsRtAAAALAaQQsAAACrEbQAAACwGkELAAAAqxG0AAAAsBpBCwAAAKsRtAAAALAaQQsAAACrEbQA\nAACwGkELAAAAqxG0AAAAsBpBCwAAAKsRtAAAALAaQQsAAACrEbQAAACwGkELAAAAqxG0AAAAsBpB\nCwAAAKsRtAAAALAaQQsAAACrEbQAAACw2tBIbvzGG2/o1ltvlcvlCh3r6elRV1eX9u3bp4aGBv3w\nhz/UwYMHddlll2nZsmXKz88P3Xbr1q36+c9/ruPHj2vChAlas2aNMjMzB+5qAAAAEHciClqfz6e9\ne/eGHfvRj36kAwcO6NixY1q+fLnWrl2r66+/Xm+++aZuv/12jRs3TpmZmaqvr9fGjRu1ZcsWTZgw\nQU8++aRKS0v1yiuvaNiwYQN6UQAAAIgfX+gtB83NzXriiSd01113qa6uTmPHjlVBQYHcbrdyc3M1\ne/Zs1dTUSJKqq6u1YMECeb1eud1ulZSUyOVyqb6+fkAuBAAAAPHpCwXto48+qsLCQo0ZM0aBQKDP\n2wcyMjLk9/slSY2NjcrIyAituVwupaenh9YBAACA/ojoLQfn+uCDD/Tyyy/r5ZdfliQFg0GNGTMm\n7DZJSUlqbW0NrXs8nj7rwWAwovMmJPB7bIMhXr6vCQlDNHRofFxrr97ZxsuMbcJsnIvZOBvzca5Y\nzaTfQfv0009rzpw5SklJCR0zxgzIpj6LxzN80M8Rj+Ll++rxDFdy8ohYbyMm4mXGNmI2zsVsnI35\noFe/g/all17S3XffHfpzcnJyn1dbg8GgRo8eLUlKSUkJvVp77vr48eMjOm9bW7u6u3v6uWucT1tb\ne6y3EBVtbe1qbf0o1tuIqoSEIfJ4hvPccSBm41zMxtmYj3P1ziba+hW0+/fv1+HDhzV9+vTQsays\nLD3//PNht/P7/crOzg6tBwIBzZ8/X9InH/fV1NSkwsLCiM7d3d2jri4evAMtXn4gxPPjJ56v3emY\njXMxG2djPujVrzc6NDU16eKLL9aIEf/vX93OmzdPhw4d0rZt29TZ2amdO3dq165dKioqkiQtWrRI\ntbW12rNnjzo6OrRp0yYlJiYqLy9vQC4EAAAA8alfr9AeP35cl1xySdixlJQUbd68WRUVFVq3bp1S\nU1NVWVmptLQ0SdKsWbNUVlamlStXqqWlRV6vV1VVVXK73V/8KgAAABC3+hW0y5Yt07Jly/oc9/l8\n2r59+3nvV1xcrOLi4v6cEgAAAPhUfN4FAAAArEbQAgAAwGoELQAAAKxG0AIAAMBqBC0AAACsRtAC\nAADAagQtAAAArEbQAgAAwGoELQAAAKxG0AIAAMBqBC0AAACsRtACAADAagQtAAAArEbQAgAAwGoE\nLQAAAKxG0AIAAMBqBC0AAACsRtACAADAagQtAAAArEbQAgAAwGoELQAAAKxG0AIAAMBqBC0AAACs\nRtACAADAagQtAAAArEbQAgAAwGoELQAAAKxG0AIAAMBqBC0AAACsRtACAADAagQtAAAArEbQAgAA\nwGoELQAAAKxG0AIAAMBqBC0AAACsRtACAADAagQtAAAArEbQAgAAwGoELQAAAKxG0AIAAMBqBC0A\nAACsRtACAADAagQtAAAArNavoH388cc1c+ZMTZkyRbfeeqsOHTokSWpoaFBhYaFycnKUn5+vurq6\nsPtt3bpVc+fOlc/n05IlSxQIBL74FQAAACCuRRy0Tz/9tF544QU9/fTT+p//+R9dccUV+ulPf6pj\nx45p+fLlWrx4sRoaGrRmzRqVl5eHorW+vl4bN25UZWWldu/erby8PJWWlqqjo2PALwoAAADxI+Kg\nfeKJJ7Rq1Sp99atf1YgRI3TPPffonnvuUV1dncaOHauCggK53W7l5uZq9uzZqqmpkSRVV1drwYIF\n8nq9crvdKikpkcvlUn19/YBfFAAAAOJHREF79OhRffDBBwoGg7r++us1bdo0fec731FLS4sCgYAy\nMzPDbp+RkSG/3y9JamxsVEZGRmjN5XIpPT09tA4AAAD0x9BIbnz06FFJ0ksvvaQnn3xS3d3d+qd/\n+ieVl5ero6NDY8aMCbt9UlKSWltbJUnBYFAej6fPejAYjGjDCQn8HttgiJfva0LCEA0dGh/X2qt3\ntvEyY5swG+diNs7GfJwrVjOJKGiNMZKkpUuX6pJLLpEk3XHHHVq6dKmmT58eWh9MHs/wQT9HPIqX\n76vHM1zJySNivY2YiJcZ24jZOBezcTbmg14RBW1vxI4aNSp0LDU1VcYYdXV19Xm1NRgMavTo0ZKk\nlJSU0Ku1566PHz8+og23tbWru7snovvgz2tra4/1FqKira1dra0fxXobUZWQMEQez3CeOw7EbJyL\n2Tgb83Gu3tlEW0RBO2bMGI0cOVL79u1Tenq6JOmDDz7QRRddpKuvvlrbt28Pu73f71d2drYkKSsr\nS4FAQPPnz5ck9fT0qKmpSYWFhRFtuLu7R11dPHgHWrz8QIjnx088X7vTMRvnYjbOxnzQK6I3OiQk\nJGjhwoXavHmz3n//fZ04cUKbNm3St771Lc2fP1/Nzc3atm2bOjs7tXPnTu3atUtFRUWSpEWLFqm2\ntlZ79uxRR0eHNm3apMTEROXl5Q3GdQEAACBORPQKrSSVlZXp448/VmFhobq6unTttdfqnnvu0fDh\nw7V582ZVVFRo3bp1Sk1NVWVlpdLS0iRJs2bNUllZmVauXKmWlhZ5vV5VVVXJ7XYP+EUBAAAgfrhM\nNH6TawC1tn7Ev14YBG+99aYeePINXTwmLdZbGTTBI++o/O99mjIlJ9ZbiaqhQ4coOXkEzx0HYjbO\nxWycjfk4V+9soo3PuwAAAIDVCFoAAABYjaAFAACA1QhaAAAAWI2gBQAAgNUIWgAAAFiNoAUAAIDV\nCFoAAABYjaAFAACA1QhaAAAAWI2gBQAAgNUIWgAAAFiNoAUAAIDVCFoAAABYjaAFAACA1QhaAAAA\nWI2gBQAAgNUIWgAAAFiNoAUAAIDVCFoAAABYjaAFAACA1QhaAAAAWI2gBQAAgNUIWgAAAFiNoAUA\nAIDVCFoAAABYjaAFAACA1QhaAAAAWI2gBQAAgNUIWgAAAFiNoAUAAIDVCFoAAABYjaAFAACA1Qha\nAAAAWI2gBQAAgNUIWgAAAFiNoAUAAIDVCFoAAABYjaAFAACA1QhaAAAAWI2gBQAAgNUIWgAAAFgt\n4qCdOHGiJk2apOzs7NB/VlRUSJIaGhpUWFionJwc5efnq66uLuy+W7du1dy5c+Xz+bRkyRIFAoGB\nuQoAAADEraGR3sHlcumll17SV77ylbDjx44d0/Lly7V27Vpdf/31evPNN3X77bdr3LhxyszMVH19\nvTZu3KgtW7ZowoQJevLJJ1VaWqpXXnlFw4YNG7ALAgAAQHyJ+BVaY4yMMX2O19XVaezYsSooKJDb\n7VZubq5mz56tmpoaSVJ1dbUWLFggr9crt9utkpISuVwu1dfXf/GrAAAAQNzq13to169fr2uuuUZT\np07V2rVrdebMGQUCAWVmZobdLiMjQ36/X5LU2NiojIyM0JrL5VJ6enpoHQAAAOiPiN9yMHnyZM2Y\nMUOPPPKI/vjHP2rVqlW6//77FQwGNWbMmLDbJiUlqbW1VZIUDAbl8Xj6rAeDwYjOn5DA77ENhnj5\nviYkDNHQofFxrb16ZxsvM7YJs3EuZuNszMe5YjWTiIP22WefDf33cePGafXq1br99tvl8/k+9a0I\nA83jGT7o54hH8fJ99XiGKzl5RKy3ERPxMmMbMRvnYjbOxnzQK+Kg/VOpqanq7u7WkCFD+rzaGgwG\nNXr0aElSSkpK6NXac9fHjx8f0fna2trV3d3zxTaNPtra2mO9hahoa2tXa+tHsd5GVCUkDJHHM5zn\njgMxG+diNs7GfJyrdzbRFlHQ7tu3Tzt27NA///M/h469++67SkxM1NVXX63nnnsu7PZ+v1/Z2dmS\npKysLAUCAc2fP1+S1NPTo6amJhUWFka04e7uHnV18eAdaPHyAyGeHz/xfO1Ox2yci9k4G/NBr4je\n6JCSkqJf/OIX+vGPf6zOzk699957evTRR1VUVKR58+apublZ27ZtU2dnp3bu3Kldu3apqKhIkrRo\n0SLV1tZqz5496ujo0KZNm5SYmKi8vLzBuC4AAADEiYheob300ktVVVWl9evX6/HHH1diYqIKCgq0\ncuVKud1ubd68WRUVFVq3bp1SU1NVWVmptLQ0SdKsWbNUVlamlStXqqWlRV6vV1VVVXK73YNyYQAA\nAIgPEb+H1ufzhf1i2J+ubd++/bz3LS4uVnFxcaSnBAAAAM6Lz7sAAACA1QhaAAAAWI2gBQAAgNUI\nWgAAAFiNoAUAAIDVCFoAAABYjaAFAACA1QhaAAAAWI2gBQAAgNUIWgAAAFiNoAUAAIDVCFoAAABY\njaAFAACA1QhaAAAAWI2gBQAAgNUIWgAAAFiNoAUAAIDVCFoAAABYjaAFAACA1QhaAAAAWI2gBQAA\ngNUIWgAAAFiNoAUAAIDVCFoAAABYjaAFAACA1QhaAAAAWI2gBQAAgNUIWgAAAFiNoAUAAIDVCFoA\nAABYjaAFAACA1QhaAAAAWI2gBQAAgNUIWgAAAFiNoAUAAIDVCFoAAABYjaAFAACA1QhaAAAAWI2g\nBQAAgNUIWgAAAFiNoAUAAIDVCFoAAABYrd9B+9BDD2nixImhPzc0NKiwsFA5OTnKz89XXV1d2O23\nbt2quXPnyufzacmSJQoEAv3fNQAAAPD/61fQ7tu3T7W1tXK5XJKkDz/8UMuXL9fixYvV0NCgNWvW\nqLy8PBSt9fX12rhxoyorK7V7927l5eWptLRUHR0dA3clAAAAiEsRB60xRvfdd59uvfXW0LG6ujqN\nHTtWBQUFcrvdys3N1ezZs1VTUyNJqq6u1oIFC+T1euV2u1VSUiKXy6X6+vqBuxIAAADEpYiD9pln\nnlFiYqJuuOGG0LGmpiZlZmaG3S4jI0N+v1+S1NjYqIyMjNCay+VSenp6aB0AAADor6GR3Pj48eN6\n7LHH9NRTT4UdDwaDGjNmTNixpKQktba2htY9Hk+f9WAwGPGGExL4PbbBEC/f14SEIRo6ND6utVfv\nbONlxjZhNs7FbJyN+ThXrGYSUdA+/PDDWrhwocaNG6dDhw6FrRljBnRj5+PxDI/KeeJNvHxfPZ7h\nSk4eEettxES8zNhGzMa5mI2zMR/0+txB29DQoLfeeksVFRWSwgM2OTm5z6utwWBQo0ePliSlpKSE\nXq09d338+PERb7itrV3d3T0R3w+fra2tPdZbiIq2tna1tn4U621EVULCEHk8w3nuOBCzcS5m42zM\nx7l6ZxNtnztod+zYoZaWFuXl5Un6JGiNMcrNzdW3v/1tvfDCC2G39/v9ys7OliRlZWUpEAho/vz5\nkqSenh41NTWpsLAw4g13d/eoq4sH70CLlx8I8fz4iedrdzpm41zMxtmYD3p97jc6rFmzRi+++KJq\na2tVW1urqqoqSVJtba3y8/PV3Nysbdu2qbOzUzt37tSuXbtUVFQkSVq0aJFqa2u1Z88edXR0aNOm\nTUpMTAzFMQAAANBfn/sV2lGjRmnUqFGhP3d1dcnlcukv/uIvJEmbN29WRUWF1q1bp9TUVFVWViot\nLU2SNGvWLJWVlWnlypVqaWmR1+tVVVWV3G73AF8OAAAA4k1EvxR2rtTUVO3bty/0Z5/Pp+3bt5/3\n9sXFxSouLu7v6QAAAIBPxeddAAAAwGoELQAAAKxG0AIAAMBqBC0AAACsRtACAADAagQtAAAArEbQ\nAgAAwGoELQAAAKxG0AIAAMBqBC0AAACsRtACAADAagQtAAAArEbQAgAAwGoELQAAAKxG0AIAAMBq\nBC0AAACsRtACAADAagQtAAAArEbQAgAAwGoELQAAAKxG0AIAAMBqBC0AAACsRtACAADAagQtAAAA\nrEbQAgAAwGoELQAAAKxG0AIAAMBqBC0AAACsRtACAADAagQtAAAArEbQAgAAwGoELQAAAKxG0AIA\nAMBqBC0AAACsRtACAADAagQtAAAArEbQAgAAwGoELQAAAKxG0AIAAMBqBC0AAACsRtACAADAagQt\nAAAArBZx0O7fv1+33HKLfD6fZs6cqVWrVunEiROSpIaGBhUWFionJ0f5+fmqq6sLu+/WrVs1d+5c\n+Xw+LVmyRIFAYGCuAgAAAHEroqDt7OzUP/zDP+iqq65SQ0OD6urqdPz4cd133306duyYli9frsWL\nF6uhoUFr1qxReXl5KFrr6+u1ceNGVVZWavfu3crLy1Npaak6OjoG5cIAAAAQHyIK2o6ODq1atUrL\nli3TRRddpOTkZM2ZM0cHDhxQXV2dxo4dq4KCArndbuXm5mr27NmqqamRJFVXV2vBggXyer1yu90q\nKSmRy+VSfX39oFwYAAAA4kNEQevxeLRw4UINGfLJ3Q4ePKjnn39e1113nQKBgDIzM8Nun5GRIb/f\nL0lqbGxURkZGaM3lcik9PT20DgAAAPTH0P7cqbm5WXPmzFFPT49uuukm3XHHHVq6dKnGjBkTdruk\npCS1trZKkoLBoDweT5/1YDAY0bkTEvg9tsEQL9/XhIQhGjo0Pq61V+9s42XGNmE2zsVsnI35OFes\nZtKvoL3sssvU2Nio999/X+Xl5brrrrskScaYAd3cp/F4hg/6OeJRvHxfPZ7hSk4eEettxES8zNhG\nzMa5mI2zMR/06lfQ9rr88su1atUqFRcXKy8vr8+rrcFgUKNHj5YkpaSkhF6tPXd9/PjxEZ2zra1d\n3d09X2Tb+BRtbe2x3kJUtLW1q7X1o1hvI6oSEobI4xnOc8eBmI1zMRtnYz7O1TubaIsoaF977TXd\nd999evHFF0PHXC6XXC6XvF6vXnrppbDb+/1+ZWdnS5KysrIUCAQ0f/58SVJPT4+amppUWFgY0Ya7\nu3vU1cWDd6DFyw+EeH78xPO1Ox2zcS5m42zMB70ieqNDVlaWTp8+rcrKSnV0dKilpUWPPfaYfD6f\nFi1apObmZm3btk2dnZ3auXOndu3apaKiIknSokWLVFtbqz179qijo0ObNm1SYmKi8vLyBuO6AAAA\nECciCtqRI0fqiSee0N69e5Wbm6v8/Hx5PB794Ac/UEpKijZv3qynnnpKPp9PDz/8sCorK5WWliZJ\nmjVrlsrKyrRy5UpNmzZNr732mqqqquR2uwflwgAAABAfIn4PbVpamn72s5996prP59P27dvPe9/i\n4mIVFxdHekoAAADgvPi8CwAAAFiNoAUAAIDVCFoAAABYjaAFAACA1QhaAAAAWI2gBQAAgNUIWgAA\nAFiNoAUAAIDVCFoAAABYjaAFAACA1QhaAAAAWI2gBQAAgNUIWgAAAFiNoAUAAIDVCFoAAABYjaAF\nAACA1QhaAAAAWI2gBQAAgNUIWgAAAFiNoAUAAIDVCFoAAABYjaAFAACA1QhaAAAAWI2gBQAAgNUI\nWgAAAFiNoAUAAIDVCFoAAABYjaAFAACA1QhaAAAAWI2gBQAAgNUIWgAAAFiNoAUAAIDVCFoAAABY\njaAFAACA1QhaAAAAWI2gBQAAgNUIWgAAAFiNoAUAAIDVCFoAAABYjaAFAACA1QhaAAAAWI2gBQAA\ngNUIWgAAAFgt4qBtbm7WihUrNG3aNM2cOVN33323Tp8+LUlqaGhQYWGhcnJylJ+fr7q6urD7bt26\nVXPnzpXP59OSJUsUCAQG5ioAAAAQtyIO2ttuu01JSUnauXOn/uM//kPvvPOOHnnkER07dkzLly/X\n4sWL1dDQoDVr1qi8vDwUrfX19dq4caMqKyu1e/du5eXlqbS0VB0dHQN+UQAAAIgfEQXtqVOn5PV6\ntXr1ag0bNkyXXnqpCgoK9Prrr6uurk5jx45VQUGB3G63cnNzNXv2bNXU1EiSqqurtWDBAnm9Xrnd\nbpWUlMjlcqm+vn5QLgwAAADxYWgkNx41apQefPDBsGOHDx/WpZdeqkAgoMzMzLC1jIwM/epXv5Ik\nNTY26vrrrw+tuVwupaeny+/367rrruvv/qOip6dHH3/8cay3Mai6urpivQUAAIB+iSho/5Tf79fT\nTz+tTZs2acuWLRozZkzYelJSklpbWyVJwWBQHo+nz3owGIzonAkJ0f89tp89Xa3ql36roe5hUT93\ntLT+8S150pz9F4uBkJAwREOHxtfvQvY+Z2Lx3MFnYzbOxWycjfk4V6xm0u+gffPNN7V8+XLdeeed\nys3N1ZYtW2SMGci9fSqPZ/ign+NPJVzk0ojLp8s9bGTUzx0t3WeOxnoLUeHxDFdy8ohYbyMmYvHc\nwefDbJyL2Tgb80GvfgVtfX29vvvd72rt2rWaN2+eJCk5ObnPq63BYFCjR4+WJKWkpIRerT13ffz4\n8RGdu62tXd3dPf3Zdr+1n+mUlBjVc0Zbd3ePEmK9iShoa2tXa+tHsd5GVCUkDJHHMzwmzx18Nmbj\nXMzG2ZiPc/XOJtoiDtrf/va3uvvuu7Vhwwbl5uaGjmdlZen5558Pu63f71d2dnZoPRAIaP78+ZI+\neV9qU1OTCgsLIzp/d3ePurqi++Dt7hn8V55jLg4uUYrN48cp4vnanY7ZOBezcTbmg14RvdGhu7tb\n5eXlobcZnGvevHk6dOiQtm3bps7OTu3cuVO7du1SUVGRJGnRokWqra3Vnj171NHRoU2bNikxMVF5\neXkDdjEAAACIPxG9QvvWW2/p4MGDqqio0AMPPCCXyyVjjFwul1588UVt3rxZFRUVWrdunVJTU1VZ\nWam0tDRJ0qxZs1RWVqaVK1eqpaVFXq9XVVVVcrvdg3JhAAAAiA8RBa3P59O+ffvOu/6Vr3xF27dv\nP+96cXGxiouLIzklAAAA8Jn4vAsAAABYjaAFAACA1QhaAAAAWI2gBQAAgNUIWgAAAFiNoAUAAIDV\nCFoAAABYjaAFAACA1QhaAAAAWI2gBQAAgNUIWgAAAFiNoAUAAIDVCFoAAABYjaAFAACA1QhaAAAA\nWI2gBQAAgNUIWgAAAFiNoAUAAIDVCFoAAABYjaAFAACA1QhaAAAAWI2gBQAAgNUIWgAAAFiNoAUA\nAIDVCFoAAABYjaAFAACA1QhaAAAAWI2gBQAAgNUIWgAAAFiNoAUAAIDVCFoAAABYjaAFAACA1Qha\nAAAAWI2gBQAAgNUIWgAAAFiNoAUAAIDVCFoAAABYjaAFAACA1QhaAAAAWI2gBQAAgNUIWgAAAFiN\noAUAAIDVIg7aXbt2acaMGVq9enWftYaGBhUWFionJ0f5+fmqq6sLW9+6davmzp0rn8+nJUuWKBAI\n9H/nAACR6heUAAAQj0lEQVQAgCIM2i1btuihhx7SX/3VX/VZO3bsmJYvX67FixeroaFBa9asUXl5\neSha6+vrtXHjRlVWVmr37t3Ky8tTaWmpOjo6BuRCAAAAEJ8iCtphw4appqZGl19+eZ+1uro6jR07\nVgUFBXK73crNzdXs2bNVU1MjSaqurtaCBQvk9XrldrtVUlIil8ul+vr6gbkSAAAAxKWIgvbmm2/W\nyJEjP3UtEAgoMzMz7FhGRob8fr8kqbGxURkZGaE1l8ul9PT00DoAAADQH0MH6gsFg0GNGTMm7FhS\nUpJaW1tD6x6Pp896MBiM6DwJCdH/PbaEIa6onzPq4uASpU8eP0OHxtfvQvY+Z2Lx3MFnYzbOxWyc\njfk4V6xmMmBBK0nGmIH8cp/K4xk+6Of4U8O/5I76OaMtXn4oeDzDlZw8ItbbiIlYPHfw+TAb52I2\nzsZ80GvAgjY5ObnPq63BYFCjR4+WJKWkpIRerT13ffz48RGdp62tXd3dPV9ssxFqP9MpKTGq54y2\n7u4eJcR6E1HQ1tau1taPYr2NqEpIGCKPZ3hMnjv4bMzGuZiNszEf5+qdTbQNWNBmZWXp+eefDzvm\n9/uVnZ0dWg8EApo/f74kqaenR01NTSosLIzoPN3dPerqiu6Dt7tn8F95jrk4uEQpNo8fp4jna3c6\nZuNczMbZmA96Ddi/Z543b54OHTqkbdu2qbOzUzt37tSuXbtUVFQkSVq0aJFqa2u1Z88edXR0aNOm\nTUpMTFReXt5AbQEAAABxKKJXaCdNmiSXy6Wuri5J0ssvvyyXy6U9e/YoJSVFmzdvVkVFhdatW6fU\n1FRVVlYqLS1NkjRr1iyVlZVp5cqVamlpkdfrVVVVldzuC//9qQAAABg8EQXt3r17P3Pd5/Np+/bt\n510vLi5WcXFxJKcEAAAAPlN8/Go7AAAALlgELQAAAKxG0AIAAMBqBC0AAACsRtACAADAagQtAAAA\nrEbQAgAAwGoELQAAAKxG0AIAAMBqBC0AAACsRtACAADAagQtAAAArEbQAgAAwGoELQAAAKxG0AIA\nAMBqBC0AAACsRtACAADAagQtAAAArEbQAgAAwGoELQAAAKxG0AIAAMBqBC0AAACsRtACAADAagQt\nAAAArEbQAgAAwGoELQAAAKxG0AIAAMBqBC0AAACsRtACAADAagQtAAAArEbQAgAAwGoELQAAAKxG\n0AIAAMBqBC0AAACsRtACAADAagQtAAAArEbQAgAAwGpDY70BIFp6urv0u9/tj/U2BlVmpldutzvW\n2wAAIKoIWsSNj4KH9ZNfNmvUa6djvZVBcerE+/p+mTRlSk6stwIAQFQRtIgro0ZfrovHpMV6GwAA\nYADxHloAAABYjaAFAACA1aIatM3NzSotLdW0adM0e/ZsrV+/PpqnBwAAwAUoqu+hXbFihbxer+rr\n63XixAktXbpUl1xyiW655ZZobgMAAAAXkKi9Quv3+3XgwAHdddddGjFihC6//HJ9+9vfVnV1dbS2\nAAAAgAtQ1IK2qalJqampGjlyZOhYRkaG3nvvPZ05cyZa2wAAAMAFJmpvOQgGg/J4PGHHLr74YklS\na2urvvSlL32ur5OQEP3fY0sY4or6OaPO9cnnmF7Izpw8IsnEehuD5tSJ9/XOO6P6PEeGDHFp5Mhh\nOn26Qz09F+7124jZOBezcTbmM3C+9rWB/ezyWHSaFOX30BrzxR90Hs/wAdhJZO5cdZvujPpZo+1b\nsd4AAABAv0Qto1NSUhQMBsOOBYNBuVwupaSkRGsbAAAAuMBELWizsrJ0+PDhsKjdu3evrrjiCg0f\nHv1XXQEAAHBhiFrQpqeny+v16gc/+IFOnz6td999Vz/96U+1ePHiaG0BAAAAFyCXGYg3tn5OR48e\nVXl5uf7v//5PI0eO1KJFi/SP//iP0To9AAAALkBRDVoAAABgoMXmsxUAAACAAULQAgAAwGoELQAA\nAKxG0AIAAMBqBC0AAACsRtACAADAajEJWr/frzlz5qi4uLjP2v79+/V3f/d38vl8uvbaa/XEE0+E\nrf/nf/6n5s2bp6997Wu68cYb9b//+7+hNWOM/u3f/k3f/OY3NW3aNC1dulR//OMfQ+snT57UypUr\nNWPGDM2aNUv33nuvOjs7B+9C40Bzc7NKS0s1bdo0zZ49W+vXr4/1li4ou3bt0owZM7R69eo+aw0N\nDSosLFROTo7y8/NVV1cXtr5161bNnTtXPp9PS5YsUSAQCK11dnZq7dq1uvrqq5Wbm6vvfOc7Yf8v\nfsz1z2tubtaKFSs0bdo0zZw5U3fffbdOnz4tidk4wf79+3XLLbfI5/Np5syZWrVqlU6cOCGJ+TjJ\nQw89pIkTJ4b+zGxia+LEiZo0aZKys7ND/1lRUSHJgtmYKNuxY4fJy8szS5cuNUVFRWFrHR0d5utf\n/7rZuHGjaW9vN4FAwEybNs28/PLLxhhjmpqajNfrNa+++qo5e/as2bFjh5k8ebI5cuSIMcaYrVu3\nmm984xvm4MGD5qOPPjIPPPCAmTdvXujrr1ixwpSWlppgMGg+/PBDU1xcbCoqKqJ38ReggoICs3bt\nWnP69Gnzhz/8wcyZM8c88cQTsd7WBeHHP/6xmTt3rlm8eLEpKysLW/vwww/N5MmTzXPPPWfOnj1r\ndu/ebbKzs01jY6Mxxpj/+q//MldeeaXZu3evOXv2rKmqqjIzZsww7e3txhhj/vVf/9UsXLjQHDly\nxJw8edLccccd5rbbbgt9feb65+Xn55s1a9aY9vZ2c+TIEXPjjTeae++9l9k4wNmzZ8306dPN448/\nbjo7O01LS4u5+eabzYoVK5iPgzQ1NZkrr7zSTJw40RhjzNGjR5lNjE2cONE0Nzf3OW7D8ybqQbtt\n2zbz4Ycfmg0bNvQJ2l/96ldm+vTppqenJ3Rs/fr1pqSkxBhjzLp168wdd9wRdp+bbrrJVFVVGWOM\nueGGG8xTTz0VWjt9+rTJzMw0e/bsMcePHzfp6enmwIEDofVXX33VfO1rXzNdXV0Dfp3xYO/evSYz\nM9OcOnUqdOyZZ54xf/u3fxvDXV04fvazn5lTp06Z733ve32C9ic/+YkpKCgIO7Zq1SrzL//yL8YY\nY0pLS83DDz8cWuvp6TEzZ840v/zlL01XV5fx+Xzmv//7v0Pr7777rpk4caL58MMPmevn0NbWZtas\nWWNOnDgROvbUU0+Za6+9ltk4wMmTJ01NTY3p7u4OHdu6dauZM2cO83GInp4ec9NNN5nNmzeHgnbL\nli3MJsYmTJhgDh061Oe4Dc+bqL/l4MYbb9SXv/zlT11ramrShAkT5HK5QscyMjLk9/slSYFAQBkZ\nGWH36V0/e/asfv/73ys9PT20NmLECH31q1+V3+/Xvn37lJCQoLS0tNB6ZmamPvroIx08eHAgLzFu\nNDU1KTU1VSNHjgwdy8jI0HvvvaczZ87EcGcXhptvvjnse3uuQCCgzMzMsGPnPlcaGxvDnisul0vp\n6eny+/16//33derUqbDnyrhx4zRs2DAFAgHm+jmMGjVKDz74oFJSUkLHDh8+rEsvvZTZOIDH49HC\nhQs1ZMgn/xN38OBBPf/887ruuuuYj0M888wzSkxM1A033BA61tTUxGwcYP369brmmms0depUrV27\nVmfOnLHieeOoXwoLBoPyeDxhxy6++GKdPHlSktTa2tpnPSkpSa2trTp58qSMMUpKSvrU9WAwqFGj\nRvVZ6/26iNz55iXxPR1sn/a9732sf9Z6MBhUMBiUy+Xq81zxeDyh5wpzjYzf79fTTz+t2267jdk4\nSHNzs7KysnTDDTdo0qRJuuOOO5iPAxw/flyPPfaY7rvvvrDjzCb2Jk+erBkzZujXv/61fvGLX2jP\nnj26//77rZjNgAftjh07NHHiRKWnp4f+6f3z9u3b/+z9jTF9jp37iu2nrf+5+3/e+yJyfE9j54t+\n73muDIw333xTJSUluvPOO5WbmyuJ2TjFZZddpsbGRr344ot67733dNddd0liPrH28MMPa+HChRo3\nblyfNWYTW88++6xuvPFGXXTRRRo3bpxWr16tF154QV1dXY6fzdAv/BX+xLx58zRv3rx+3Tc5OVl/\n+MMfwo61traGSj0lJSXst+KkT/5WMHr0aF188cUaMmTIp66npKQoJSVFp06dkjEmFMi9tx09enS/\n9hvvzjcPl8sV9q9iMfCSk5PP+1yQPpnNn/7NNhgMavz48UpJSZExRsFgUMOHDw+tnzx5UikpKerq\n6mKun1N9fb2++93vau3ataGfe8zGeS6//HKtWrVKxcXFysvLYz4x1NDQoLfeeiv0m/PnhgzPHedJ\nTU1Vd3f3efvKSbNx1FsOvF6v9u/fr56entAxv9+vSZMmSZKysrLCPgaid33y5Mlyu91KS0tTY2Nj\naK2trU3vv/++Jk+eHHrvxv79+0Pre/fuVVJSksaOHTuYl3XBysrK0uHDh8MeiHv37tUVV1wR9qDF\nwDvfcyE7O/tT13t6etTU1KTJkyfrL//yL5WUlBS2fuDAAX388cfyer3M9XP67W9/q7vvvlsbNmwI\n+0s8s4m91157TXPnzg075nK55HK55PV6w/53QmI+0bRjxw61tLQoLy9PV111lW688UYZY5Sbm6vx\n48czmxjat2+fHnnkkbBj7777rhITE3X11Vc7fzYR/QrZAHr00Uf7fMrB2bNnzezZs82GDRtMe3u7\nefvtt83UqVPNzp07jTHGHDhwwGRnZ5vf/OY35uzZs6ampsbk5OSY48ePG2M++a24a665xrz77rvm\n1KlTpry83BQWFoa+fllZmVm2bJlpaWkxhw8fNgsXLjSVlZXRu+gLUFFRkbn33nvNqVOnzO9//3vz\njW98w/z85z+P9bYuKJ/2KQcnTpwwOTk5pqamxpw9e9b85je/MZMnTw59iserr75qpk6dat5++23T\n3t5uNmzYYK655hpz9uxZY8wnnx6yYMECc/jwYdPS0mJKS0vNypUrQ1+fuX62rq4uc91115nq6uo+\na8wm9k6dOmVmzJhhvv/975v29nZz4sQJU1JSYm6++WbmE2NtbW3myJEjoX/efvttM2HCBHP06FHT\n3NzMbGLoyJEjZsqUKaaqqsqcPXvWHDx40Fx//fXmwQcftOJ5E/Wgvfbaa82kSZNMZmamSU9PN16v\n10yaNCn0uWfvvPOOWbRokfF6veaaa64xzz77bNj9X375ZTNnzhzj9XpNQUGBeeONN8LWN2zYYKZP\nn24mT55sSktLQ59Ra8wnP+TKysrMlClTzJVXXmkeeOAB8/HHHw/+RV/Ajhw5YpYuXWqys7PNjBkz\nzGOPPRbrLV0wep8bGRkZJiMjI/TnXq+//rr51re+Zbxer5k7d27o85p7PfPMMyYvL89MmjTJLFmy\nxLzzzjuhtc7OTrNu3Tpz5ZVXmpycHHPnnXeGfWQKc/1sr7/+upk4caKZNGlSaC7n/ixjNrF34MAB\nc/PNN5vJkyeb6dOnm7KyMnP06FFjDM8dJ/nggw9CH9tlDLOJtddff90UFRWZKVOmmKuuuso88sgj\noSh1+mxcxvAuaQAAANjLUe+hBQAAACJF0AIAAMBqBC0AAACsRtACAADAagQtAAAArEbQAgAAwGoE\nLQAAAKxG0AIAAMBqBC0AAACsRtACAADAagQtAAAArPb/ATQ76tRiklPSAAAAAElFTkSuQmCC\n",
      "text/plain": [
       "<matplotlib.figure.Figure at 0x7fab7cb9fbd0>"
      ]
     },
     "metadata": {},
     "output_type": "display_data"
    }
   ],
   "source": [
    "plt.hist(permutation_zero_dist_ind(X0, X1, max_combinations = 1000))\n",
    "plt.show()"
   ]
  },
  {
   "cell_type": "code",
   "execution_count": 20,
   "metadata": {
    "collapsed": true
   },
   "outputs": [],
   "source": [
    "def permutation_test(sample, mean, max_permutations = None, alternative = 'two-sided'):\n",
    "    if alternative not in ('two-sided', 'less', 'greater'):\n",
    "        raise ValueError(\"alternative not recognized\\n\"\n",
    "                         \"should be 'two-sided', 'less' or 'greater'\")\n",
    "    \n",
    "    t_stat = permutation_t_stat_ind(sample, mean)\n",
    "    \n",
    "    zero_distr = permutation_zero_dist_ind(sample, mean, max_permutations)\n",
    "    \n",
    "    if alternative == 'two-sided':\n",
    "        return sum([1. if abs(x) >= abs(t_stat) else 0. for x in zero_distr]) / len(zero_distr)\n",
    "    \n",
    "    if alternative == 'less':\n",
    "        return sum([1. if x <= t_stat else 0. for x in zero_distr]) / len(zero_distr)\n",
    "\n",
    "    if alternative == 'greater':\n",
    "        return sum([1. if x >= t_stat else 0. for x in zero_distr]) / len(zero_distr)"
   ]
  },
  {
   "cell_type": "code",
   "execution_count": 21,
   "metadata": {
    "collapsed": false
   },
   "outputs": [
    {
     "name": "stdout",
     "output_type": "stream",
     "text": [
      "p-value: 0.000100\n"
     ]
    }
   ],
   "source": [
    "#print \"p-value: %f\" % permutation_test(X0, X1, max_permutations = 10000)"
   ]
  },
  {
   "cell_type": "markdown",
   "metadata": {
    "collapsed": true
   },
   "source": [
    "### Выводы: \n",
    "* для критерия Манна-Уитни и перестановочного критерия p-value значительно меньше уровня значимости. \n",
    "\n",
    "Оба критерия отвергают гипотезу о равенстве распределений. Результат является практически значимым. Возврат кредита зависит от кредитного лимита."
   ]
  },
  {
   "cell_type": "markdown",
   "metadata": {},
   "source": [
    "##  Задание 2.\n",
    "Пол (SEX): Проверьте гипотезу о том, что гендерный состав группы людей вернувших и не вернувших кредит отличается. Хорошо, если вы предоставите несколько различных решений этой задачи (с помощью доверительного интервала и подходящего статистического критерия)"
   ]
  },
  {
   "cell_type": "markdown",
   "metadata": {},
   "source": [
    "### Гипотезы\n",
    "$p_{male}$ - вероятность невозврата кредита мужчиной\n",
    "\n",
    "$p_{female}$ - вероятность невозврата кредита женщиной\n",
    "\n",
    "$H_0 \\colon p_{male} = p_{female}$\n",
    "\n",
    "$H_1 \\colon p_{male} \\neq p_{female}$"
   ]
  },
  {
   "cell_type": "code",
   "execution_count": 22,
   "metadata": {
    "collapsed": true
   },
   "outputs": [],
   "source": [
    "from statsmodels.stats.proportion import proportion_confint"
   ]
  },
  {
   "cell_type": "code",
   "execution_count": 23,
   "metadata": {
    "collapsed": true
   },
   "outputs": [],
   "source": [
    "male_default = data[data.SEX==1].default\n",
    "female_default = data[data.SEX==2].default"
   ]
  },
  {
   "cell_type": "code",
   "execution_count": 24,
   "metadata": {
    "collapsed": false
   },
   "outputs": [
    {
     "data": {
      "image/png": "iVBORw0KGgoAAAANSUhEUgAAAsUAAAHxCAYAAACFyME+AAAABHNCSVQICAgIfAhkiAAAAAlwSFlz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\n",
      "text/plain": [
       "<matplotlib.figure.Figure at 0x7fab7ff1aa90>"
      ]
     },
     "metadata": {},
     "output_type": "display_data"
    }
   ],
   "source": [
    "sns.set(style='darkgrid')\n",
    "ax = sns.countplot(x='default',hue=\"SEX\",data=data)"
   ]
  },
  {
   "cell_type": "code",
   "execution_count": 25,
   "metadata": {
    "collapsed": false,
    "scrolled": true
   },
   "outputs": [
    {
     "data": {
      "text/html": [
       "<div>\n",
       "<table border=\"1\" class=\"dataframe\">\n",
       "  <thead>\n",
       "    <tr style=\"text-align: right;\">\n",
       "      <th></th>\n",
       "      <th>male</th>\n",
       "      <th>female</th>\n",
       "    </tr>\n",
       "  </thead>\n",
       "  <tbody>\n",
       "    <tr>\n",
       "      <th>count</th>\n",
       "      <td>11888.000000</td>\n",
       "      <td>18112.000000</td>\n",
       "    </tr>\n",
       "    <tr>\n",
       "      <th>mean</th>\n",
       "      <td>0.241672</td>\n",
       "      <td>0.207763</td>\n",
       "    </tr>\n",
       "    <tr>\n",
       "      <th>std</th>\n",
       "      <td>0.428115</td>\n",
       "      <td>0.405717</td>\n",
       "    </tr>\n",
       "    <tr>\n",
       "      <th>min</th>\n",
       "      <td>0.000000</td>\n",
       "      <td>0.000000</td>\n",
       "    </tr>\n",
       "    <tr>\n",
       "      <th>25%</th>\n",
       "      <td>0.000000</td>\n",
       "      <td>0.000000</td>\n",
       "    </tr>\n",
       "    <tr>\n",
       "      <th>50%</th>\n",
       "      <td>0.000000</td>\n",
       "      <td>0.000000</td>\n",
       "    </tr>\n",
       "    <tr>\n",
       "      <th>75%</th>\n",
       "      <td>0.000000</td>\n",
       "      <td>0.000000</td>\n",
       "    </tr>\n",
       "    <tr>\n",
       "      <th>max</th>\n",
       "      <td>1.000000</td>\n",
       "      <td>1.000000</td>\n",
       "    </tr>\n",
       "  </tbody>\n",
       "</table>\n",
       "</div>"
      ],
      "text/plain": [
       "               male        female\n",
       "count  11888.000000  18112.000000\n",
       "mean       0.241672      0.207763\n",
       "std        0.428115      0.405717\n",
       "min        0.000000      0.000000\n",
       "25%        0.000000      0.000000\n",
       "50%        0.000000      0.000000\n",
       "75%        0.000000      0.000000\n",
       "max        1.000000      1.000000"
      ]
     },
     "execution_count": 25,
     "metadata": {},
     "output_type": "execute_result"
    }
   ],
   "source": [
    "desc = pd.DataFrame({'male':male_default.describe()})\n",
    "desc['female']  = female_default.describe().values\n",
    "desc"
   ]
  },
  {
   "cell_type": "code",
   "execution_count": 26,
   "metadata": {
    "collapsed": false
   },
   "outputs": [],
   "source": [
    "conf_interval_male = proportion_confint(sum(male_default), \n",
    "                                            male_default.shape[0],\n",
    "                                            method = 'normal')\n",
    "conf_interval_female = proportion_confint(sum(female_default), \n",
    "                                            female_default.shape[0],\n",
    "                                            method = 'normal')"
   ]
  },
  {
   "cell_type": "markdown",
   "metadata": {},
   "source": [
    "Доверительные интервалы"
   ]
  },
  {
   "cell_type": "code",
   "execution_count": 27,
   "metadata": {
    "collapsed": false
   },
   "outputs": [
    {
     "name": "stdout",
     "output_type": "stream",
     "text": [
      "interval for male [0.233977, 0.249368]\n",
      "interval for female [0.201854, 0.213671]\n"
     ]
    }
   ],
   "source": [
    "print 'interval for male [%f, %f]' % conf_interval_male\n",
    "print 'interval for female [%f, %f]' % conf_interval_female"
   ]
  },
  {
   "cell_type": "markdown",
   "metadata": {},
   "source": [
    "Доверительные интервалы не пересекаются, отсюда можно сделать предположени, что гипотеза $H_0$ не верна"
   ]
  },
  {
   "cell_type": "code",
   "execution_count": 28,
   "metadata": {
    "collapsed": true
   },
   "outputs": [],
   "source": [
    "def proportions_confint_diff_ind(sample1, sample2, alpha = 0.05):    \n",
    "    z = scipy.stats.norm.ppf(1 - alpha / 2.)   \n",
    "    p1 = float(sum(sample1)) / len(sample1)\n",
    "    p2 = float(sum(sample2)) / len(sample2)\n",
    "    \n",
    "    left_boundary = (p1 - p2) - z * np.sqrt(p1 * (1 - p1)/ len(sample1) + p2 * (1 - p2)/ len(sample2))\n",
    "    right_boundary = (p1 - p2) + z * np.sqrt(p1 * (1 - p1)/ len(sample1) + p2 * (1 - p2)/ len(sample2))\n",
    "    \n",
    "    return (left_boundary, right_boundary)"
   ]
  },
  {
   "cell_type": "code",
   "execution_count": 29,
   "metadata": {
    "collapsed": false
   },
   "outputs": [
    {
     "name": "stdout",
     "output_type": "stream",
     "text": [
      "confidence interval: [0.024207, 0.043612]\n"
     ]
    }
   ],
   "source": [
    "print \"confidence interval: [%f, %f]\" % proportions_confint_diff_ind(male_default, female_default)"
   ]
  },
  {
   "cell_type": "markdown",
   "metadata": {},
   "source": [
    "Доверительный интервал разности не содержит 0."
   ]
  },
  {
   "cell_type": "code",
   "execution_count": 30,
   "metadata": {
    "collapsed": true
   },
   "outputs": [],
   "source": [
    "def proportions_diff_z_stat_ind(sample1, sample2):\n",
    "    n1 = len(sample1)\n",
    "    n2 = len(sample2)\n",
    "    \n",
    "    p1 = float(sum(sample1)) / n1\n",
    "    p2 = float(sum(sample2)) / n2 \n",
    "    P = float(p1*n1 + p2*n2) / (n1 + n2)\n",
    "    \n",
    "    return (p1 - p2) / np.sqrt(P * (1 - P) * (1. / n1 + 1. / n2))\n",
    "def proportions_diff_z_test(z_stat, alternative = 'two-sided'):\n",
    "    if alternative not in ('two-sided', 'less', 'greater'):\n",
    "        raise ValueError(\"alternative not recognized\\n\"\n",
    "                         \"should be 'two-sided', 'less' or 'greater'\")\n",
    "    \n",
    "    if alternative == 'two-sided':\n",
    "        return 2 * (1 - scipy.stats.norm.cdf(np.abs(z_stat)))\n",
    "    \n",
    "    if alternative == 'less':\n",
    "        return scipy.stats.norm.cdf(z_stat)\n",
    "\n",
    "    if alternative == 'greater':\n",
    "        return 1 - scipy.stats.norm.cdf(z_stat)"
   ]
  },
  {
   "cell_type": "code",
   "execution_count": 49,
   "metadata": {
    "collapsed": false
   },
   "outputs": [
    {
     "name": "stdout",
     "output_type": "stream",
     "text": [
      "p-value: 0.000000\n"
     ]
    }
   ],
   "source": [
    "print \"p-value: %f\" % proportions_diff_z_test(proportions_diff_z_stat_ind(male_default, female_default))"
   ]
  },
  {
   "cell_type": "markdown",
   "metadata": {},
   "source": [
    "Критерий отвергает гипотезу $H_0$ на уровне значимости 0.05."
   ]
  },
  {
   "cell_type": "markdown",
   "metadata": {},
   "source": [
    "## Задание 3.\n",
    "\n",
    "Образование (EDUCATION): Проверьте гипотезу о том, что образование не влияет на то, вернет ли человек долг. Предложите способ наглядного представления разницы в ожидаемых и наблюдаемых значениях количества человек вернувших и не вернувших долг. Например, составьте таблицу сопряженности \"образование\" на \"возврат долга\", где значением ячейки была бы разность между наблюдаемым и ожидаемым количеством человек. Как бы вы предложили модифицировать таблицу так, чтобы привести значения ячеек к одному масштабу не потеряв в интерпретируемости ? Наличие какого образования является наилучшим индикатором того, что человек отдаст долг ? наоборт, не отдаст долг ?"
   ]
  },
  {
   "cell_type": "code",
   "execution_count": 32,
   "metadata": {
    "collapsed": true
   },
   "outputs": [],
   "source": [
    "from scipy.stats import chi2_contingency"
   ]
  },
  {
   "cell_type": "markdown",
   "metadata": {},
   "source": [
    "$H_0 \\colon$ EDUCATION и default зависимы.\n",
    "\n",
    "$H_1 \\colon$ EDUCATION и default независимы."
   ]
  },
  {
   "cell_type": "code",
   "execution_count": 33,
   "metadata": {
    "collapsed": true
   },
   "outputs": [],
   "source": [
    "table = []\n",
    "for ed in range(7):\n",
    "    col = []\n",
    "    for defl in range(2):\n",
    "        col.append(sum(((data.EDUCATION==ed) & (data.default==defl))))\n",
    "    table.append(col)\n",
    "table = np.array(table)"
   ]
  },
  {
   "cell_type": "code",
   "execution_count": 34,
   "metadata": {
    "collapsed": false
   },
   "outputs": [],
   "source": [
    "chi2, p, dof, ex = chi2_contingency(table)"
   ]
  },
  {
   "cell_type": "code",
   "execution_count": 35,
   "metadata": {
    "collapsed": false,
    "scrolled": true
   },
   "outputs": [
    {
     "data": {
      "text/plain": [
       "1.2332626245415605e-32"
      ]
     },
     "execution_count": 35,
     "metadata": {},
     "output_type": "execute_result"
    }
   ],
   "source": [
    "p"
   ]
  },
  {
   "cell_type": "markdown",
   "metadata": {},
   "source": [
    "Критерий хи-квадрат отвергает гипотезу $H_0$ на уровне значимости 0.05."
   ]
  },
  {
   "cell_type": "code",
   "execution_count": 36,
   "metadata": {
    "collapsed": false
   },
   "outputs": [
    {
     "data": {
      "text/html": [
       "<div>\n",
       "<table border=\"1\" class=\"dataframe\">\n",
       "  <thead>\n",
       "    <tr style=\"text-align: right;\">\n",
       "      <th></th>\n",
       "      <th>default0</th>\n",
       "      <th>default1</th>\n",
       "    </tr>\n",
       "  </thead>\n",
       "  <tbody>\n",
       "    <tr>\n",
       "      <th>доктор</th>\n",
       "      <td>14</td>\n",
       "      <td>0</td>\n",
       "    </tr>\n",
       "    <tr>\n",
       "      <th>магистр</th>\n",
       "      <td>8549</td>\n",
       "      <td>2036</td>\n",
       "    </tr>\n",
       "    <tr>\n",
       "      <th>бакалавр</th>\n",
       "      <td>10700</td>\n",
       "      <td>3330</td>\n",
       "    </tr>\n",
       "    <tr>\n",
       "      <th>выпускник школы</th>\n",
       "      <td>3680</td>\n",
       "      <td>1237</td>\n",
       "    </tr>\n",
       "    <tr>\n",
       "      <th>начальное образование</th>\n",
       "      <td>116</td>\n",
       "      <td>7</td>\n",
       "    </tr>\n",
       "    <tr>\n",
       "      <th>прочее</th>\n",
       "      <td>262</td>\n",
       "      <td>18</td>\n",
       "    </tr>\n",
       "    <tr>\n",
       "      <th>нет данных</th>\n",
       "      <td>43</td>\n",
       "      <td>8</td>\n",
       "    </tr>\n",
       "  </tbody>\n",
       "</table>\n",
       "</div>"
      ],
      "text/plain": [
       "                       default0  default1\n",
       "доктор                       14         0\n",
       "магистр                    8549      2036\n",
       "бакалавр                  10700      3330\n",
       "выпускник школы            3680      1237\n",
       "начальное образование       116         7\n",
       "прочее                      262        18\n",
       "нет данных                   43         8"
      ]
     },
     "execution_count": 36,
     "metadata": {},
     "output_type": "execute_result"
    }
   ],
   "source": [
    "p_table = pd.DataFrame(table)\n",
    "p_table.index=['доктор','магистр','бакалавр','выпускник школы',\\\n",
    "           'начальное образование','прочее','нет данных']\n",
    "p_table.columns=['default0','default1']\n",
    "p_table"
   ]
  },
  {
   "cell_type": "code",
   "execution_count": 37,
   "metadata": {
    "collapsed": false,
    "scrolled": true
   },
   "outputs": [
    {
     "data": {
      "text/html": [
       "<div>\n",
       "<table border=\"1\" class=\"dataframe\">\n",
       "  <thead>\n",
       "    <tr style=\"text-align: right;\">\n",
       "      <th></th>\n",
       "      <th>default0</th>\n",
       "      <th>default1</th>\n",
       "    </tr>\n",
       "  </thead>\n",
       "  <tbody>\n",
       "    <tr>\n",
       "      <th>доктор</th>\n",
       "      <td>4</td>\n",
       "      <td>-3</td>\n",
       "    </tr>\n",
       "    <tr>\n",
       "      <th>магистр</th>\n",
       "      <td>306</td>\n",
       "      <td>-305</td>\n",
       "    </tr>\n",
       "    <tr>\n",
       "      <th>бакалавр</th>\n",
       "      <td>-226</td>\n",
       "      <td>227</td>\n",
       "    </tr>\n",
       "    <tr>\n",
       "      <th>выпускник школы</th>\n",
       "      <td>-149</td>\n",
       "      <td>150</td>\n",
       "    </tr>\n",
       "    <tr>\n",
       "      <th>начальное образование</th>\n",
       "      <td>21</td>\n",
       "      <td>-20</td>\n",
       "    </tr>\n",
       "    <tr>\n",
       "      <th>прочее</th>\n",
       "      <td>44</td>\n",
       "      <td>-43</td>\n",
       "    </tr>\n",
       "    <tr>\n",
       "      <th>нет данных</th>\n",
       "      <td>4</td>\n",
       "      <td>-3</td>\n",
       "    </tr>\n",
       "  </tbody>\n",
       "</table>\n",
       "</div>"
      ],
      "text/plain": [
       "                       default0  default1\n",
       "доктор                        4        -3\n",
       "магистр                     306      -305\n",
       "бакалавр                   -226       227\n",
       "выпускник школы            -149       150\n",
       "начальное образование        21       -20\n",
       "прочее                       44       -43\n",
       "нет данных                    4        -3"
      ]
     },
     "execution_count": 37,
     "metadata": {},
     "output_type": "execute_result"
    }
   ],
   "source": [
    "diff_table = p_table - np.array(ex,dtype='I')\n",
    "diff_table"
   ]
  },
  {
   "cell_type": "code",
   "execution_count": 38,
   "metadata": {
    "collapsed": false
   },
   "outputs": [
    {
     "data": {
      "text/plain": [
       "доктор                      14\n",
       "магистр                  10585\n",
       "бакалавр                 14030\n",
       "выпускник школы           4917\n",
       "начальное образование      123\n",
       "прочее                     280\n",
       "нет данных                  51\n",
       "dtype: int64"
      ]
     },
     "execution_count": 38,
     "metadata": {},
     "output_type": "execute_result"
    }
   ],
   "source": [
    "p_table.sum(axis=1)"
   ]
  },
  {
   "cell_type": "code",
   "execution_count": 39,
   "metadata": {
    "collapsed": false
   },
   "outputs": [
    {
     "data": {
      "text/html": [
       "<div>\n",
       "<table border=\"1\" class=\"dataframe\">\n",
       "  <thead>\n",
       "    <tr style=\"text-align: right;\">\n",
       "      <th></th>\n",
       "      <th>default0</th>\n",
       "      <th>default1</th>\n",
       "    </tr>\n",
       "  </thead>\n",
       "  <tbody>\n",
       "    <tr>\n",
       "      <th>доктор</th>\n",
       "      <td>1.000000</td>\n",
       "      <td>0.000000</td>\n",
       "    </tr>\n",
       "    <tr>\n",
       "      <th>магистр</th>\n",
       "      <td>0.807652</td>\n",
       "      <td>0.192348</td>\n",
       "    </tr>\n",
       "    <tr>\n",
       "      <th>бакалавр</th>\n",
       "      <td>0.762651</td>\n",
       "      <td>0.237349</td>\n",
       "    </tr>\n",
       "    <tr>\n",
       "      <th>выпускник школы</th>\n",
       "      <td>0.748424</td>\n",
       "      <td>0.251576</td>\n",
       "    </tr>\n",
       "    <tr>\n",
       "      <th>начальное образование</th>\n",
       "      <td>0.943089</td>\n",
       "      <td>0.056911</td>\n",
       "    </tr>\n",
       "    <tr>\n",
       "      <th>прочее</th>\n",
       "      <td>0.935714</td>\n",
       "      <td>0.064286</td>\n",
       "    </tr>\n",
       "    <tr>\n",
       "      <th>нет данных</th>\n",
       "      <td>0.843137</td>\n",
       "      <td>0.156863</td>\n",
       "    </tr>\n",
       "  </tbody>\n",
       "</table>\n",
       "</div>"
      ],
      "text/plain": [
       "                       default0  default1\n",
       "доктор                 1.000000  0.000000\n",
       "магистр                0.807652  0.192348\n",
       "бакалавр               0.762651  0.237349\n",
       "выпускник школы        0.748424  0.251576\n",
       "начальное образование  0.943089  0.056911\n",
       "прочее                 0.935714  0.064286\n",
       "нет данных             0.843137  0.156863"
      ]
     },
     "execution_count": 39,
     "metadata": {},
     "output_type": "execute_result"
    }
   ],
   "source": [
    "p_table.div(p_table.sum(axis=1), axis=0)"
   ]
  },
  {
   "cell_type": "markdown",
   "metadata": {},
   "source": [
    "Доктора наук возвращали кредит в 100% случаев.\n",
    "Выпускники школ и бакалавры не возвращали кредит в 23-25% и это самый худший показатель."
   ]
  },
  {
   "cell_type": "markdown",
   "metadata": {},
   "source": [
    "## Задание 4.\n",
    "\n",
    "Семейное положение (MARRIAGE): Проверьте, как связан семейный статус с индикатором дефолта: нужно предложить меру, по которой можно измерить возможную связь этих переменных и посчитать ее значение.\n",
    "\n",
    "MARRIAGE: (0 = отказываюсь отвечать; 1 = замужем/женат; 2 = холост; 3 = нет данных)."
   ]
  },
  {
   "cell_type": "markdown",
   "metadata": {},
   "source": [
    "$H_0 \\colon$ MARRIAGE и default зависимы.\n",
    "\n",
    "$H_1 \\colon$ MARRIAGE и default независимы."
   ]
  },
  {
   "cell_type": "code",
   "execution_count": 50,
   "metadata": {
    "collapsed": false,
    "scrolled": true
   },
   "outputs": [
    {
     "data": {
      "text/plain": [
       "2    15964\n",
       "1    13659\n",
       "3      323\n",
       "0       54\n",
       "Name: MARRIAGE, dtype: int64"
      ]
     },
     "execution_count": 50,
     "metadata": {},
     "output_type": "execute_result"
    }
   ],
   "source": [
    "data.MARRIAGE.value_counts()"
   ]
  },
  {
   "cell_type": "code",
   "execution_count": 41,
   "metadata": {
    "collapsed": false
   },
   "outputs": [
    {
     "data": {
      "text/plain": [
       "<matplotlib.axes._subplots.AxesSubplot at 0x7fab7f87c910>"
      ]
     },
     "execution_count": 41,
     "metadata": {},
     "output_type": "execute_result"
    },
    {
     "data": {
      "image/png": "iVBORw0KGgoAAAANSUhEUgAACW4AAAlcCAYAAABhPPsLAAAABHNCSVQICAgIfAhkiAAAAAlwSFlz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\ngnzUDgAAAABJRU5ErkJggg==\n",
      "text/plain": [
       "<matplotlib.figure.Figure at 0x7fab7f895f10>"
      ]
     },
     "metadata": {},
     "output_type": "display_data"
    }
   ],
   "source": [
    "fig, axes = plt.subplots(2, figsize=(30, 30), sharey=True)\n",
    "sns.set(style='darkgrid')\n",
    "sns.countplot(x='MARRIAGE',data=data,ax=axes[0])\n",
    "sns.countplot(x='default',hue=\"MARRIAGE\",data=data,ax=axes[1])"
   ]
  },
  {
   "cell_type": "markdown",
   "metadata": {},
   "source": [
    "Общее количество людей у которых значение MARRIAGE равно 0 или 4 незначительно, поэтому будем рассматривать людей, у которых MARRIAGE принимает значение 1 или 2."
   ]
  },
  {
   "cell_type": "code",
   "execution_count": 42,
   "metadata": {
    "collapsed": true
   },
   "outputs": [],
   "source": [
    "from scipy.stats import chi2"
   ]
  },
  {
   "cell_type": "code",
   "execution_count": 96,
   "metadata": {
    "collapsed": false
   },
   "outputs": [],
   "source": [
    "def MCC(a,b,c,d):\n",
    "    return (a*d-b*c)/np.sqrt((a+b)*(a+c)*(b+d)*(c+d))"
   ]
  },
  {
   "cell_type": "code",
   "execution_count": 55,
   "metadata": {
    "collapsed": true
   },
   "outputs": [],
   "source": [
    "married = data[data.MARRIAGE==1]\n",
    "divorce = data[data.MARRIAGE==2]"
   ]
  },
  {
   "cell_type": "code",
   "execution_count": 65,
   "metadata": {
    "collapsed": false
   },
   "outputs": [
    {
     "data": {
      "text/html": [
       "<div>\n",
       "<table border=\"1\" class=\"dataframe\">\n",
       "  <thead>\n",
       "    <tr style=\"text-align: right;\">\n",
       "      <th></th>\n",
       "      <th>default0</th>\n",
       "      <th>default1</th>\n",
       "    </tr>\n",
       "  </thead>\n",
       "  <tbody>\n",
       "    <tr>\n",
       "      <th>женат/замужем</th>\n",
       "      <td>10453</td>\n",
       "      <td>3206</td>\n",
       "    </tr>\n",
       "    <tr>\n",
       "      <th>в разводе</th>\n",
       "      <td>12623</td>\n",
       "      <td>3341</td>\n",
       "    </tr>\n",
       "  </tbody>\n",
       "</table>\n",
       "</div>"
      ],
      "text/plain": [
       "               default0  default1\n",
       "женат/замужем     10453      3206\n",
       "в разводе         12623      3341"
      ]
     },
     "execution_count": 65,
     "metadata": {},
     "output_type": "execute_result"
    }
   ],
   "source": [
    "p_table = pd.DataFrame([married.default.value_counts().values,divorce.default.value_counts().values])\n",
    "p_table.index=['женат/замужем','в разводе']\n",
    "p_table.columns=['default0','default1']\n",
    "p_table"
   ]
  },
  {
   "cell_type": "markdown",
   "metadata": {},
   "source": [
    "С помощью критерия хи-квадрат проверим гипотезы:\n",
    "\n",
    "$H_0\\colon$ $MCC_{MARRIAGE,deafaul}=0$\n",
    "\n",
    "$H_1\\colon$ $MCC_{MARRIAGE,deafaul} \\neq 0$"
   ]
  },
  {
   "cell_type": "code",
   "execution_count": 104,
   "metadata": {
    "collapsed": false
   },
   "outputs": [
    {
     "name": "stdout",
     "output_type": "stream",
     "text": [
      "p-value: 1.44851434292e-07\n"
     ]
    }
   ],
   "source": [
    "mcc = MCC(*p_table.values.ravel())\n",
    "n = p_table.values.ravel().sum()\n",
    "print \"p-value: {}\".format(1-chi2.cdf(n*mcc**2,1))"
   ]
  },
  {
   "cell_type": "markdown",
   "metadata": {},
   "source": [
    "### Вывод:\n",
    "на уровне значимости 0.05 отвергаем нулевую гипотезу. Взаимосвязь между велечинами отсутствует."
   ]
  },
  {
   "cell_type": "markdown",
   "metadata": {},
   "source": [
    "## Задание 5.\n",
    "\n",
    "Возраст (AGE): Относительно двух групп людей вернувших и не вернувших кредит проверьте следующие гипотезы: a) о равенстве медианных значений возрастов людей b) о равенстве распределений с помощью одного из подходящих непараметрических критериев проверки равенства средних. Значимы ли полученные результаты с практической точки зрения ?"
   ]
  },
  {
   "cell_type": "code",
   "execution_count": 170,
   "metadata": {
    "collapsed": true
   },
   "outputs": [],
   "source": [
    "age = data.AGE\n",
    "age0 = age[data.default==0]\n",
    "age1 = age[data.default==1]"
   ]
  },
  {
   "cell_type": "code",
   "execution_count": 171,
   "metadata": {
    "collapsed": false
   },
   "outputs": [
    {
     "data": {
      "image/png": "iVBORw0KGgoAAAANSUhEUgAAArAAAAHcCAYAAAAumpkKAAAABHNCSVQICAgIfAhkiAAAAAlwSFlz\nAAAPYQAAD2EBqD+naQAAIABJREFUeJzs3Xt4lOWd//HP5DBJRGbMwC6hWWqJQpuEKWUJalQawDag\nbji1hFMPWlEsUAiotaEGhFKLG69068phWa2aFrdNSCXGbY32lyU/XLKWukqHSSit1osKpY1mngQJ\ncZLJ/P5oGc0PD5kkMs89vF/XxdUy9/08c3/nOwMfH+554giHw2EBAAAAhkiI9QIAAACAaBBgAQAA\nYBQCLAAAAIxCgAUAAIBRCLAAAAAwCgEWAAAARiHAAgAAwCgEWAAAABiFAAsAAACjEGABAABglKgD\n7OHDh/XVr35VeXl5Kigo0A9/+MPIWFNTkxYsWKDJkyerqKhIdXV1fY6trKzUrFmzlJeXp6VLl8rv\n90fGgsGgNmzYoIKCAuXn52vNmjWyLGsQpQEAACAeRRVg29vbdeutt+ozn/mM/vu//1uPPPKIdu/e\nrfr6erW2tmrFihVasmSJmpqatH79epWVlUVCakNDg7Zt26by8nIdOHBA06ZN0/Lly9XV1SVJqqio\nUEtLi6qqqlRfX69wOKzS0tKhrxgAAABGiyrAvvzyy+rs7NTatWuVkpKiyy+/XLfccouqqqpUV1en\nsWPHat68eXI6ncrPz9eMGTNUXV0tSaqqqtL8+fPl9XrldDq1bNkyORwONTQ0KBQKqaamRitXrtSo\nUaPkcrlUUlKiffv2qbW19SMpHAAAAGaKeguBw+FQOByO/N7tduvIkSPy+/3Kzc3tMzcnJ0c+n0/S\nX7ce5OTk9DlPdna2fD6fjh07plOnTik7OzsynpWVpdTU1D7bDAAAAICoAuykSZOUmpqqf/mXf1FX\nV5eOHTumJ554Qu3t7bIsSy6Xq898t9utQCAgSe87blmWLMuSw+GQ2+3uM+5yuSLHAwAAAFKUAdbl\ncmn79u1qamrStddeq29+85uaO3euEhMTJanPldmBiPXxAAAAsL+kaA/4x3/8R1VVVUV+/+yzzyoj\nI0Mej+ecuwZYlqURI0ZIkjwezzlXUy3L0vjx4+XxeBQOh2VZltLS0iLj7e3t8ng8/V6bw+FQR8cZ\nhUK90ZaFj1BiYoJcrjR6Y0P0xt7oj33RG/uiN/Z2tj+DFVWADQaD+vnPf67Pf/7zGjZsmCTp+eef\n16RJk5Sdna2ampo+830+nyZOnChJmjBhgvx+v+bOnStJ6u3tVXNzs4qLizVmzBi53W75/X6NHj1a\nknT06FF1d3fL6/VGVVAo1KueHt6wdkRv7Ive2Bv9sS96Y1/0Jr5FtYUgOTlZDz30kHbu3KlQKKTn\nn39edXV1uummm1RUVKQTJ05oz549CgaDamxs1P79+7Vw4UJJ0uLFi1VbW6tDhw6pq6tL27dvV0pK\nigoKCpSQkKDi4mLt2LFDJ0+eVCAQUEVFhQoLC6O6AgsAAID45whHuXHU7/errKxMf/jDH5SRkaE7\n77xT1113nSTp17/+tbZs2aJXX31VmZmZuuOOO/S5z30ucuxPfvIT/du//Zva2trk9Xp177336vLL\nL5ckdXd3a+vWrXr66acVCoU0ffp0bdy4URdffHFUBQUCp/kvLptJSkpQevowemND9Mbe6I990Rv7\nojf2drY/gxV1gLU73rD2wx8m9kVv7I3+2Be9sS96Y29DFWCjvg8sAAAAEEsEWAAAABiFAAsAAACj\nEGABAABgFAIsAAAAjEKABQAAgFEIsAAAADBKVD9KFgAAwBTBYFB+v++8PV9urldOp/O8Pd+FjAAL\nAADikt/v04mZ05V7Pp5Lkur/S5MmTR7UefburdHu3Y+ruvqpD517zz1364UXmvStb92j664rHPBz\nvvTSi1q9+nY1NBxQcnLygM9zPhFgAQBA3MqVNOU8PVdgyM7k+NAZv/vdb9XY2KDKyp9q7NiswT+j\n453nbGz8L11++ThlZv7D357rqH7wgwf0+98fVXq6R3PmzNeiRV8a9HMOBntgAQAADPPWW2/J4XBE\nQuZQeuSRnXr99T9Kkt5++23dffda5eVdodraZ7Rp03368Y8f0//9v/uG/HmjQYAFAACIEb//sG66\naYk+//nPat26VbKsd67jvvjiQd1++9dUWFig+fNv1GOPPSxJOnjwBa1bt0qSdP310/Xss79QMBjU\n/fdv0Zw5szRr1jStWnWbXn31lci5pk6dol/96n8iv9+7t0YLFsw+Zz033bREf/jDqyotvUNbt35H\nTU3Pq6enR1/96i1KSUnV+PGf0j/901w99dTPPqqXpF8IsAAAADHQ29ursrK7ddVVV+vnP/8/Wrbs\ndj311JOSpNbWv6i09E7Nn79Azz7bqAceeFBPPfWkfvnLek2ZcqUqKh6SJNXXN6qw8Ho98USlmpv9\n+vGPq/X007/UmDGX6rvfvfdDVnDuVoXHHntCknT//RX61rfK9NvfHtFll13eZ4vB+PGf0pEjzUPy\nGgwUARYAACAGjhxp1ptvvqGvfOVmJScnKydngj772WmSpOeeq1dW1mUqLLxekpSVdZlmz56n+vqf\n9zlHOByWJH35yzdr584favjw4UpKStL06dfplVd+p97e3gGt7W+nVXu7peHDXX3GXC6XOjo6BnTe\nocKXuAAAAGKgtfUvGj7cpYsuGhZ5bMyYj0uSTpx4XS0tfl133TWRsXBYuvTSS9/zXIFAm77//X/W\noUMvqbPzjMLhXvX29ioUCikhYXDXK8+G5Hd79xXZWCDAAgAAxEAwGFQoFOrzWG/vX8NiSkqq8vOv\n0datFf0614YNpUpNTdVjj/1EI0eO1IsvHtTatSvfd35/r8xeckm6jh9/vc9j7e3tcrnc/Tr+o8IW\nAgAAgBgYOfLv1Nl5Wp2dpyOPvfbaq5KkzMx/0Cuv/L7P/La2N9Xd3f2e5zpypFmzZ8/TyJEjJUm/\n/W1Ln/HkZKe6uroivz9+/I/9WuOnPpWj3//+aJ/Ae+RIs3Jyzsfddd8fARYAAMQtv6SD5+GXfwBr\ny8mZoOHDh2v37kp1d3fr0KGXdeDA85Kkz31upjo62vX444/o7bff1vHjr2vt2pWqrv5J5Ph3/9N+\nRsZoNTcfVk9Pj154oUkHD74g6a/bFCRpzJgx2r9/n0KhkI4caY48z3udy+l06o9/PKbOztPKz79G\nF1108d/W0SW//7CefrpW8+YtGEDFQ4ctBAAAIC7l5nql+v8awh8w8P4+dvb5opCSkqL77ntADzzw\nPVVVPaEJEz6txYu/pOrqn8rlcmnr1go99NC/qLLyh7rkknTNmnWjFi9+5wcIvHsf6tq131R5+X2q\nrf2ZrrgiX5s2fU933bVGt9zyZT3xRI1Wr75D5eXf06xZ0/WZz0zSkiVfUWXlo+95rrlzv6Dt23+g\nX//6V/re9x7Q/fdX6IEHvqcf/egxjRgxQrffvkpXXXX1wF+sIeAIv9fOXIMFAqfV0zOwb9zho5GU\nlKD09GH0xobojb3RH/uiN/ZFb+ztbH8Giy0EAAAAMAoBFgAAAEYhwAIAAMAoBFgAAAAYhQALAAAA\noxBgAQAAYBQCLAAAAIxCgAUAAIBR+ElcF6hgMCi/33denisxMUEuV5o6Os4oFBq6m0rn5nrldDqH\n7HwAgPhyPv+uk4bm76W9e2u0e/fjqq5+6kPn3nPP3XrhhSZ961v36LrrCgf8nC+99KJWr75dDQ0H\nlJycPODznE8E2AuU3+/TzJmvSco9j8+aNoTn8qu+Xpo0afIQnhMAEE/O7991Q/n3kuNDZ/zud79V\nY2ODKit/qrFjswb/jO/6UbKNjf+lyy8fp8zMf4g89swz/6mKin/WF75QrOXLVw76+QaLAHtBy5U0\nJdaLGITTsV4AAMD2zuffdefv76W33npLDoejT8gcKo88slMrV5ZEzl1Rcb+OHGlRRkbGkD/XQLEH\nFgAAIEb8/sO66aYl+vznP6t161bJsgKRsRdfPKjbb/+aCgsLNH/+jXrssYclSQcPvqB161ZJkq6/\nfrqeffYXCgaDuv/+LZozZ5ZmzZqmVatu06uvvhI519SpU/SrX/1P5Pd799ZowYLZ56znppuW6A9/\neFWlpXdo69bvSJIyMkZr+/aH5XZf8pG8BgNBgAUAAIiB3t5elZXdrauuulo///n/0bJlt+upp56U\nJLW2/kWlpXdq/vwFevbZRj3wwIN66qkn9ctf1mvKlCtVUfGQJKm+vlGFhdfriScq1dzs149/XK2n\nn/6lxoy5VN/97r0fsoJztyo89tgTkqT776/Qt75VJklasuQrSkqy1z/aE2ABAABi4MiRZr355hv6\nylduVnJysnJyJuizn50mSXruuXplZV2mwsLrJUlZWZdp9ux5qq//eZ9zhMNhSdKXv3yzdu78oYYP\nH66kpCRNn36dXnnld+rtHdiXp/92WtuyV5wGAAC4QLS2/kXDh7t00UXDIo+NGfNxSdKJE6+rpcWv\n6667JjIWDkuXXnrpe54rEGjT97//zzp06CV1dp5RONyr3t5ehUIhJSTE3/VKAiwAAEAMBINBhUKh\nPo/19v710mdKSqry86/R1q0V/TrXhg2lSk1N1WOP/UQjR47Uiy8e1Nq173+3gIFembWLqCN5S0uL\nvvrVr2rKlCm69tprdddddykQ+OuG46amJi1YsECTJ09WUVGR6urq+hxbWVmpWbNmKS8vT0uXLpXf\n74+MBYNBbdiwQQUFBcrPz9eaNWtkWdYgywMAALCnkSP/Tp2dp9XZ+c7dC1577VVJUmbmP+iVV37f\nZ35b25vq7u5+z3MdOdKs2bPnaeTIkZKk3/62pc94crJTXV1dkd8fP/7HIakhVqIKsKFQSLfddpsm\nTZqkpqYm/ed//qfa2tq0adMmtba2asWKFVqyZImampq0fv16lZWVRUJqQ0ODtm3bpvLych04cEDT\npk3T8uXLIy9mRUWFWlpaVFVVpfr6eoXDYZWWlg59xQAA4ALil3TwPPx656Jcf+XkTNDw4cO1e3el\nuru7dejQyzpw4HlJ0uc+N1MdHe16/PFH9Pbbb+v48de1du1KVVf/JHJ8+F0bVTMyRqu5+bB6enr0\nwgtNOnjwBUl/3aYgSWPGjNH+/fsUCoV05Ehz5Hne61xOp1N//OOxPsHabqLaQtDa2qrW1lbNnj1b\nSUlJcrvd+vznP69HH31UdXV1Gjt2rObNmydJys/P14wZM1RdXa3c3FxVVVVp/vz58nq9kqRly5ap\nsrJSDQ0NmjlzpmpqalReXq5Ro0ZJkkpKSnTjjTeqtbVVf/d3fzfEZQMAgHiXm+tVfb10fu7P+gnl\n5nqjOiIlJUX33feAHnjge6qqekITJnxaixd/SdXVP5XL5dLWrRV66KF/UWXlD3XJJemaNetGLV78\npcjx7/7hA2vXflPl5feptvZnuuKKfG3a9D3dddca3XLLl/XEEzVavfoOlZd/T7NmTddnPjNJS5Z8\nRZWVj77nuebO/YK2b/+Bfv3rX2nNmju1ZMkX5HBIPT098vkO6ac/fUKjR4/W7t17BvF6DY4jHO7/\n98zC4bC+8IUv6IorrtDq1at15swZ3XXXXRo3bpzeeOMNXXTRRfrOd74Tmf/www/rF7/4hWpqanTt\ntdfq7rvvVlFRUWT8tttu02WXXabi4mJdf/31amxsjARYSZo0aZK+//3va9q0af0uKBA4rZ4es/d1\nnA8vvfSiZs4cJnN/kMFB1def5idxDVJSUoLS04fxubEp+mNf9Ma+6I29ne3PoM8TzWSHw6Ef/OAH\nuvnmm/X4449Lkq644gqtW7dOK1asOOcnNLjd7sj+WMuy5HK5zhm3LEuWZcnhcMjtdvcZd7lckeP7\nKzEx/r5p91GIh9cpMTFBSUnm1xFLZ98H8fB+iEf0x77ojX3RG3sbqr5EFWCDwaC+/vWv64YbbtDy\n5cvV2dmpTZs26c4775TUd//EQAz2eElyudIGfY4LQTy8Ti5X2pD8Vxzi4/0Qz+iPfdEb+6I38S2q\nANvU1KTjx49r3bp1kqRhw4Zp1apVmjt3rj772c+ec9cAy7I0YsQISZLH4znnaqplWRo/frw8Ho/C\n4bAsy1Ja2jtvuPb2dnk8nqgK6ug4o1CIfzL4MB0dZySZ/eHu6DijQMC+G8xNkJiYIJcrjc+NTdEf\n+6I39kVv7O1sfwYrqgDb29sb+XX2prjBYFAOh0NXX321fvazn/WZ7/P5NHHiREnShAkT5Pf7NXfu\n3Mi5mpubVVxcrDFjxsjtdsvv92v06NGSpKNHj6q7uzvypa/+CoV62fPSD/HwoabXQ4fX0t7oj33R\nG/uiN/Etqo0IkyZN0kUXXaQHH3xQXV1dCgQC2rlzp6ZMmaLZs2frxIkT2rNnj4LBoBobG7V//34t\nXLhQkrR48WLV1tbq0KFD6urq0vbt25WSkqKCggIlJCSouLhYO3bs0MmTJxUIBFRRUaHCwsKor8AC\nAAAgvkV1BfaSSy7RI488oq1bt6qgoEDJycm68sortWnTJnk8Hu3cuVNbtmzR5s2blZmZqfLyco0b\nN06SNHXqVK1bt04lJSVqa2uT1+vVrl275HQ6JUmrV69WZ2en5syZo1AopOnTp2vjxo1DXzEAAACM\nFtVttEzAbTP6h9toQeJ2M3ZHf+yL3tgXvbG3obqNFveYAAAAgFEIsAAAADAKARYAAABGIcACAADA\nKARYAAAAGIUACwAAAKMQYAEAAGAUAiwAAACMQoAFAACAUQiwAAAAMAoBFgAAAEYhwAIAAMAoBFgA\nAAAYhQALAAAAoxBgAQAAYBQCLAAAAIxCgAUAAIBRCLAAAAAwCgEWAAAARiHAAgAAwCgEWAAAABiF\nAAsAAACjEGABAABgFAIsAAAAjEKABQAAgFEIsAAAADAKARYAAABGIcACAADAKARYAAAAGIUACwAA\nAKMQYAEAAGAUAiwAAACMQoAFAACAUQiwAAAAMAoBFgAAAEYhwAIAAMAoBFgAAAAYJaoA++tf/1qf\n/vSnNXHixMgvr9er7OxsSVJTU5MWLFigyZMnq6ioSHV1dX2Or6ys1KxZs5SXl6elS5fK7/dHxoLB\noDZs2KCCggLl5+drzZo1sixrCEoEAABAPIkqwObl5ek3v/mNDh06FPm1atUq3XDDDWptbdWKFSu0\nZMkSNTU1af369SorK4uE1IaGBm3btk3l5eU6cOCApk2bpuXLl6urq0uSVFFRoZaWFlVVVam+vl7h\ncFilpaVDXzEAAACMNqgtBCdOnNCjjz6qu+66S3V1dRo7dqzmzZsnp9Op/Px8zZgxQ9XV1ZKkqqoq\nzZ8/X16vV06nU8uWLZPD4VBDQ4NCoZBqamq0cuVKjRo1Si6XSyUlJdq3b59aW1uHpFAAAADEh0EF\n2AcffFALFixQRkaG/H6/cnNz+4zn5OTI5/NJkg4fPqycnJzImMPhUHZ2tnw+n44dO6ZTp05FtiJI\nUlZWllJTU/tsMwAAAACSBnrg66+/rueee07PPfecJMmyLGVkZPSZ43a7FQgEIuMul+ucccuyZFmW\nHA6H3G53n3GXyxU5vr8SE/leWn/Ew+uUmJigpCTz64ils++DeHg/xCP6Y1/0xr7ojb0NVV8GHGB3\n796twsJCeTyeyGPhcHhQixns8ZLkcqUN+hwXgnh4nVyuNKWnD4v1MuJCPLwf4hn9sS96Y1/0Jr4N\nOMDW19f3+ZJVenr6OXcNsCxLI0aMkCR5PJ5zrqZalqXx48fL4/EoHA7Lsiylpb3zhmtvb+8TkPuj\no+OMQqHeaMu54HR0nJFk9oe7o+OMAoHTsV6G0RITE+RypfG5sSn6Y1/0xr7ojb2d7c9gDSjAHjly\nRH/605909dVXRx6bMGGCnnzyyT7zfD6fJk6cGBn3+/2aO3euJKm3t1fNzc0qLi7WmDFj5Ha75ff7\nNXr0aEnS0aNH1d3dLa/XG9XaQqFe9fTwhv0w8fChptdDh9fS3uiPfdEb+6I38W1AGxGam5t1ySWX\naNiwd/75dvbs2Tp+/Lj27NmjYDCoxsZG7d+/XwsXLpQkLV68WLW1tTp06JC6urq0fft2paSkqKCg\nQAkJCSouLtaOHTt08uRJBQIBVVRUnLNFAQAAABjQFdg33nhDI0eO7POYx+PRzp07tWXLFm3evFmZ\nmZkqLy/XuHHjJElTp07VunXrVFJSora2Nnm9Xu3atUtOp1OStHr1anV2dmrOnDkKhUKaPn26Nm7c\nOMjyAAAAEG8c4aH45pSNBAKn+SeDfnjppRc1c+YwSVNivZQBOqj6+tOaNGlyrBditKSkBKWnD+Nz\nY1P0x77ojX3RG3s725/B4h4TAAAAMAoBFgAAAEYhwAIAAMAoBFgAAAAYhQALAAAAoxBgAQAAYBQC\nLAAAAIxCgAUAAIBRCLAAAAAwCgEWAAAARiHAAgAAwChJsV4AYqO7u1uSP9bLGAS/urszY70IAAAQ\nAwTYC1iZbtZlsV7EAL0iSXo2xqsAAACxQIC9QCUnJ6tI0pRYL2SADkoKJCfHehkAACAG2AMLAAAA\noxBgAQAAYBS2EOCCEAwG5ff7Yr2MQcnN9crpdMZ6GQAAxBwBFhcEv9+nmTNfk5Qb45UMlF/19dKk\nSZNjvRAAAGKOAIsLSK7M/dqaJJ2O9QIAALAF9sACAADAKARYAAAAGIUACwAAAKMQYAEAAGAUAiwA\nAACMQoAFAACAUQiwAAAAMAoBFgAAAEYhwAIAAMAoBFgAAAAYhQALAAAAoxBgAQAAYBQCLAAAAIxC\ngAUAAIBRCLAAAAAwCgEWAAAARiHAAgAAwCgDCrA7duzQtddeq0mTJulrX/uajh8/LklqamrSggUL\nNHnyZBUVFamurq7PcZWVlZo1a5by8vK0dOlS+f3+yFgwGNSGDRtUUFCg/Px8rVmzRpZlDaI0AAAA\nxKOoA+zu3bv19NNPa/fu3Xr++ed12WWX6bHHHlNra6tWrFihJUuWqKmpSevXr1dZWVkkpDY0NGjb\ntm0qLy/XgQMHNG3aNC1fvlxdXV2SpIqKCrW0tKiqqkr19fUKh8MqLS0d2moBAABgvKgD7KOPPqq1\na9fq0ksv1bBhw/Ttb39b3/72t1VXV6exY8dq3rx5cjqdys/P14wZM1RdXS1Jqqqq0vz58+X1euV0\nOrVs2TI5HA41NDQoFAqppqZGK1eu1KhRo+RyuVRSUqJ9+/aptbV1yIsGAACAuaIKsH/+85/1+uuv\ny7Is3Xjjjbryyiu1Zs0atbW1ye/3Kzc3t8/8nJwc+Xw+SdLhw4eVk5MTGXM4HMrOzpbP59OxY8d0\n6tQpZWdnR8azsrKUmpraZ5sBAAAAkBTN5D//+c+SpPr6ej3++OMKhUJavXq1ysrK1NXVpYyMjD7z\n3W63AoGAJMmyLLlcrnPGLcuSZVlyOBxyu919xl0uV+T4/kpM5Htp/REPr1NiYoKSkvpXx4VWbzTn\nfPf/wl7oj33RG/uiN/Y2VH2JKsCGw2FJ0q233qqRI0dKkr7xjW/o1ltv1dVXXx0ZH6jBHi9JLlfa\noM9xIYiH18nlSlN6+rB+zzVdNPUO5NywL/pjX/TGvuhNfIsqwJ4NrcOHD488lpmZqXA4rJ6ennPu\nGmBZlkaMGCFJ8ng851xNtSxL48ePl8fjUTgclmVZSkt75w3X3t4uj8cTVUEdHWcUCvVGdcyFqKPj\njFwfPs3WOjrOKBA43e+5ktl/mEVTb38lJibI5Urjc2NT9Me+6I190Rt7O9ufwYoqwGZkZOjiiy9W\nS0tLZL/q66+/ruTkZBUUFGjv3r195vt8Pk2cOFGSNGHCBPn9fs2dO1eS1Nvbq+bmZhUXF2vMmDFy\nu93y+/0aPXq0JOno0aPq7u6W1+uNqqBQqFc9PbxhP0w8fKij6fWFVq+dzo3Boz/2RW/si97Et6g2\nIiQmJuqLX/yidu7cqWPHjunNN9/U9u3bNWfOHM2dO1cnTpzQnj17FAwG1djYqP3792vhwoWSpMWL\nF6u2tlaHDh1SV1eXtm/frpSUFBUUFCghIUHFxcXasWOHTp48qUAgoIqKChUWFkZ9BRYAAADxLaor\nsJK0bt06dXd3a8GCBerp6dHMmTP17W9/W2lpadq5c6e2bNmizZs3KzMzU+Xl5Ro3bpwkaerUqVq3\nbp1KSkrU1tYmr9erXbt2yel0SpJWr16tzs5OzZkzR6FQSNOnT9fGjRuHtloAAAAYzxEeim9O2Ugg\ncJp/MuiHl156Uekzp2tKrBcyQAclBer/S5MmTe7X/JdeelEzZw6TDK64vv50v+vtr6SkBKWnD+Nz\nY1P0x77ojX3RG3s725/B4h4TAAAAMAoBFgAAAEYhwAIAAMAoBFgAAAAYhQALAAAAoxBgAQAAYBQC\nLAAAAIxCgAUAAIBRCLAAAAAwCgEWAAAARiHAAgAAwCgEWAAAABiFAAsAAACjEGABAABgFAIsAAAA\njEKABQAAgFEIsAAAADAKARYAAABGIcACAADAKARYAAAAGIUACwAAAKMQYAEAAGAUAiwAAACMQoAF\nAACAUQiwAAAAMAoBFgAAAEYhwAIAAMAoBFgAAAAYhQALAAAAoxBgAQAAYBQCLAAAAIxCgAUAAIBR\nCLAAAAAwSlKsFwCcD93d3ZL8sV7GIPjV3Z0Z60UAAGALBFhcMMp0sy6L9SIG6BVJ0rMxXgUAAPZA\ngP2bkyf/pNtuq5TT+fexXsqAdHW16aGH5usTnxgb66XYUnJysookTYn1QgbooKRAcnKslwEAgC1E\nHWA/9alPyel0yuFwKBwOy+FwaMGCBbrnnnvU1NSkiooKvfrqq/rYxz6m2267TUVFRZFjKysr9cQT\nT+iNN97QJz/5Sa1fv165ubmSpGAwqC1btqixsVHBYFBXXHGFNm3apEsuuWToqv0AHR0devnl6erq\nuu68PN/Q+5UsKyCJAAsAAOJb1AHW4XCovr5eo0eP7vN4a2urVqxYoQ0bNujGG2/Uiy++qK9//evK\nyspSbm6uGhoatG3bNj388MP65Cc/qccff1zLly/XL3/5S6WmpqqiokItLS2qqqpSWlqa7rnnHpWW\nlmrHjh1Tdvu7AAAgAElEQVRDViwAAADMF/VdCMLhsMLh8DmP19XVaezYsZo3b56cTqfy8/M1Y8YM\nVVdXS5Kqqqo0f/58eb1eOZ1OLVu2TA6HQw0NDQqFQqqpqdHKlSs1atQouVwulZSUaN++fWptbR18\nlQAAAIgbA7qN1gMPPKDp06drypQp2rBhgzo7O+X3+yPbAc7KycmRz+eTJB0+fFg5OTmRMYfDoezs\nbPl8Ph07dkynTp1SdnZ2ZDwrK0upqany+03+5jgAAACGWtRbCD7zmc/ommuu0f33368//vGPWrt2\nrTZt2iTLspSRkdFnrtvtViAQkCRZliWXy3XOuGVZsixLDodDbre7z7jL5Yoc31+JiQO7tW1iomNA\nx9lJYmKCkpL6V/9AXyc7od6hOee7/xf2Qn/si97YF72xt6HqS9QB9ic/+Unk/2dlZemOO+7Q17/+\ndeXl5b3n1oJoDPZ4SXK50gZ0nNt9kaT2QT9/LLlcaUpPH9bvuaaj3qE9N+yL/tgXvbEvehPfBn0b\nrczMTIVCISUkJMiyrD5jlmVpxIgRkiSPx3PO1VTLsjR+/Hh5PB6Fw2FZlqW0tHfecO3t7fJ4PFGt\np6PjjEKh3qjraG/vlDT4AB1LHR1nFAic7vdc14dPszXqHbzExAS5XGkD/tzgo0V/7Ive2Be9sbez\n/RmsqAJsS0uLnnrqKd19992Rx1555RWlpKSooKBAP/vZz/rM9/l8mjhxoiRpwoQJ8vv9mjt3riSp\nt7dXzc3NKi4u1pgxY+R2u+X3+yN3Nzh69Ki6u7vl9XqjKigU6lVPT/Rv2FDI7PAqRVd7PHyoqdeM\nc2Pw6I990Rv7ojfxLaqNCB6PRz/96U/17//+7woGg/rDH/6gBx98UAsXLtTs2bN14sQJ7dmzR8Fg\nUI2Njdq/f78WLlwoSVq8eLFqa2t16NAhdXV1afv27ZHgm5CQoOLiYu3YsUMnT55UIBBQRUWFCgsL\no74CCwAAgPgW1RXYUaNGadeuXXrggQe0Y8cOpaSkaN68eSopKZHT6dTOnTu1ZcsWbd68WZmZmSov\nL9e4ceMkSVOnTtW6detUUlKitrY2eb1e7dq1S06nU5K0evVqdXZ2as6cOQqFQpo+fbo2btw49BUD\nAADAaFHvgc3Ly+vzRa7/f2zv3r3ve+yiRYu0aNGi9xxLTk5WWVmZysrKol0SAAAALiDcYwIAAABG\nIcACAADAKIO+jRYA+wkGg/L7fR86z863m8nN9Ub2yAMA8G4EWCAO+f0+zZz5mqTcD5l5lt1u+O1X\nfb00adLkWC8EAGBDBFggbuVKmhLrRQzC0P7QBgBA/GAPLAAAAIxCgAUAAIBRCLAAAAAwCgEWAAAA\nRiHAAgAAwCgEWAAAABiFAAsAAACjEGABAABgFAIsAAAAjEKABQAAgFEIsAAAADAKARYAAABGIcAC\nAADAKARYAAAAGIUACwAAAKMQYAEAAGAUAiwAAACMQoAFAACAUQiwAAAAMAoBFgAAAEYhwAIAAMAo\nBFgAAAAYhQALAAAAoxBgAQAAYBQCLAAAAIxCgAUAAIBRCLAAAAAwCgEWAAAARiHAAgAAwCgEWAAA\nABiFAAsAAACjEGABAABglAEH2Pvuu0+f+tSnIr9vamrSggULNHnyZBUVFamurq7P/MrKSs2aNUt5\neXlaunSp/H5/ZCwYDGrDhg0qKChQfn6+1qxZI8uyBro0AAAAxLEBBdiWlhbV1tbK4XBIkv7yl79o\nxYoVWrJkiZqamrR+/XqVlZVFQmpDQ4O2bdum8vJyHThwQNOmTdPy5cvV1dUlSaqoqFBLS4uqqqpU\nX1+vcDis0tLSISoRAAAA8STqABsOh3Xvvffqa1/7WuSxuro6jR07VvPmzZPT6VR+fr5mzJih6upq\nSVJVVZXmz58vr9crp9OpZcuWyeFwqKGhQaFQSDU1NVq5cqVGjRoll8ulkpIS7du3T62trUNXKQAA\nAOJC1AH2P/7jP5SSkqJ/+qd/ijzW3Nys3NzcPvNycnLk8/kkSYcPH1ZOTk5kzOFwKDs7Wz6fT8eO\nHdOpU6eUnZ0dGc/KylJqamqfbQYAAACAJCVFM/mNN97QQw89pB//+Md9HrcsSxkZGX0ec7vdCgQC\nkXGXy3XOuGVZsixLDodDbre7z7jL5YocH43ExIFt601MdAzoODtJTExQUlL/6h/o62Qn1PvBc00X\nTb3x6mwf46Gf8Ybe2Be9sbeh6ktUAXbr1q364he/qKysLB0/frzPWDgcHtRCBnv8WS5X2oCOc7sv\nktQ+JGuIFZcrTenpw/o913TU+8FzTRdNvfEuHvoZr+iNfdGb+NbvANvU1KSXXnpJW7ZskdQ3cKan\np59z1wDLsjRixAhJksfjOedqqmVZGj9+vDwej8LhsCzLUlraO2+29vZ2eTyeqAvq6DijUKg36uPa\n2zslDU2IjpWOjjMKBE73e67rw6fZGvV+8FzJ7D+8o6k3XiUmJsjlShvwn2v46NAb+6I39na2P4PV\n7wD71FNPqa2tTdOmTZP01wAbDoeVn5+vm2++WU8//XSf+T6fTxMnTpQkTZgwQX6/X3PnzpUk9fb2\nqrm5WcXFxRozZozcbrf8fr9Gjx4tSTp69Ki6u7vl9XqjLigU6lVPT/Rv2FDI7PAqRVd7PHyoqfeD\n55puoJ/leMRrYV/0xr7oTXzr90aE9evX65lnnlFtba1qa2u1a9cuSVJtba2Kiop04sQJ7dmzR8Fg\nUI2Njdq/f78WLlwoSVq8eLFqa2t16NAhdXV1afv27UpJSVFBQYESEhJUXFysHTt26OTJkwoEAqqo\nqFBhYeGArsACAAAgvvX7Cuzw4cM1fPjwyO97enrkcDj093//95KknTt3asuWLdq8ebMyMzNVXl6u\ncePGSZKmTp2qdevWqaSkRG1tbfJ6vdq1a5ecTqckafXq1ers7NScOXMUCoU0ffp0bdy4cSjrBAAA\nQJyI6ktc75aZmamWlpbI7/Py8rR37973nb9o0SItWrToPceSk5NVVlamsrKygS4HAAAAFwjuMQEA\nAACjDPgKbLwJBt/W5cn3aHjqllgvZUDeCgX19ttsuwAAAPGPAPs3TmeKvt/9sj53qivWSxmQX0lq\nT0mJ9TIAAAA+cmwhAAAAgFEIsAAAADAKWwiAONTd3S3JH+tlDIJf3d2ZsV4EAMCmCLBAnCrTzbos\n1osYoFckSc/GeBUAALsiwAJxKDk5WUWSpsR6IQN0UFIgOTnWywAA2BR7YAEAAGAUAiwAAACMQoAF\nAACAUQiwAAAAMAoBFgAAAEYhwAIAAMAoBFgAAAAYhQALAAAAoxBgAQAAYBQCLAAAAIxCgAUAAIBR\nCLAAAAAwCgEWAAAARiHAAgAAwCgEWAAAABiFAAsAAACjEGABAABgFAIsAAAAjEKABQAAgFEIsAAA\nADAKARYAAABGIcACAADAKARYAAAAGIUACwAAAKMQYAEAAGAUAiwAAACMQoAFAACAUQiwAAAAMErU\nAfbIkSO66aablJeXp2uvvVZr167Vm2++KUlqamrSggULNHnyZBUVFamurq7PsZWVlZo1a5by8vK0\ndOlS+f3+yFgwGNSGDRtUUFCg/Px8rVmzRpZlDbI8AAAAxJuoAmwwGNQtt9yiq666Sk1NTaqrq9Mb\nb7yhe++9V62trVqxYoWWLFmipqYmrV+/XmVlZZGQ2tDQoG3btqm8vFwHDhzQtGnTtHz5cnV1dUmS\nKioq1NLSoqqqKtXX1yscDqu0tHToKwYAAIDRogqwXV1dWrt2rW677TYlJycrPT1dhYWFOnr0qOrq\n6jR27FjNmzdPTqdT+fn5mjFjhqqrqyVJVVVVmj9/vrxer5xOp5YtWyaHw6GGhgaFQiHV1NRo5cqV\nGjVqlFwul0pKSrRv3z61trZ+JIUDAADATFEFWJfLpS9+8YtKSPjrYa+++qqefPJJ3XDDDfL7/crN\nze0zPycnRz6fT5J0+PBh5eTkRMYcDoeys7Pl8/l07NgxnTp1StnZ2ZHxrKwspaam9tlmAAAAACQN\n5KATJ06osLBQvb29Ki4u1je+8Q3deuutysjI6DPP7XYrEAhIkizLksvlOmfcsixZliWHwyG3291n\n3OVyRY7vr8TEgX0vLTHRIceAjrSPxMQEJSX1r/6Bvk52Qr0fPNd00dQbr872MR76GW/ojX3RG3sb\nqr4MKMB+7GMf0+HDh3Xs2DGVlZXprrvukiSFw+FBLWawx0uSy5U2oOPc7ovUOehnjy2XK03p6cP6\nPdd01PvBc00XTb3xLh76Ga/ojX3Rm/g2oAB71sc//nGtXbtWixYt0rRp0865a4BlWRoxYoQkyePx\nnHM11bIsjR8/Xh6PR+FwWJZlKS3tnTdce3u7PB5PVGvq6DijUKg36lra2zs1+PgcWx0dZxQInO73\nXNeHT7M16v3guRdSvfEqMTFBLlfagP9cw0eH3tgXvbG3s/0ZrKgC7P/8z//o3nvv1TPPPBN5zOFw\nyOFwyOv1qr6+vs98n8+niRMnSpImTJggv9+vuXPnSpJ6e3vV3Nys4uJijRkzRm63W36/X6NHj5Yk\nHT16VN3d3fJ6vVEVFAr1qqcn+jdsKBQ2PsBGU3s8fKip94Pnmm6gn+V4xGthX/TGvuhNfItqI8KE\nCRP01ltvqby8XF1dXWpra9NDDz2kvLw8LV68WCdOnNCePXsUDAbV2Nio/fv3a+HChZKkxYsXq7a2\nVocOHVJXV5e2b9+ulJQUFRQUKCEhQcXFxdqxY4dOnjypQCCgiooKFRYWRn0FFgAAAPEtqiuwF198\nsR599FFt3rxZ+fn5uuiii3TVVVfpu9/9rjwej3bu3KktW7Zo8+bNyszMVHl5ucaNGydJmjp1qtat\nW6eSkhK1tbXJ6/Vq165dcjqdkqTVq1ers7NTc+bMUSgU0vTp07Vx48ahrxgAAABGi3oP7Lhx4/Sj\nH/3oPcfy8vK0d+/e9z120aJFWrRo0XuOJScnq6ysTGVlZdEuCQAAABcQ7jEBAAAAoxBgAQAAYBQC\nLAAAAIxCgAUAAIBRCLAAAAAwCgEWAAAARiHAAgAAwCgEWAAAABiFAAsAAACjEGABAABgFAIsAAAA\njEKABQAAgFGSYr0AABisYDAov98X62UMSm6uV06nM9bLAAAjEGABGM/v92nmzNck5cZ4JQPlV329\nNGnS5FgvBACMQIAFECdyJU2J9SIG4XSsFwAAxmAPLAAAAIxCgAUAAIBRCLAAAAAwCgEWAAAARiHA\nAgAAwCgEWAAAABiFAAsAAACjEGABAABgFAIsAAAAjEKABQAAgFEIsAAAADAKARYAAABGIcACAADA\nKARYAAAAGIUACwAAAKMQYAEAAGAUAiwAAACMQoAFAACAUQiwAAAAMAoBFgAAAEYhwAIAAMAoBFgA\nAAAYJeoAe+LECa1atUpXXnmlrr32WpWWluqtt96SJDU1NWnBggWaPHmyioqKVFdX1+fYyspKzZo1\nS3l5eVq6dKn8fn9kLBgMasOGDSooKFB+fr7WrFkjy7IGWR4AAADiTdQB9vbbb5fb7VZjY6Nqamr0\nu9/9Tvfff79aW1u1YsUKLVmyRE1NTVq/fr3KysoiIbWhoUHbtm1TeXm5Dhw4oGnTpmn58uXq6uqS\nJFVUVKilpUVVVVWqr69XOBxWaWnp0FYLAAAA40UVYE+dOiWv16s77rhDqampGjVqlObNm6eDBw+q\nrq5OY8eO1bx58+R0OpWfn68ZM2aourpaklRVVaX58+fL6/XK6XRq2bJlcjgcamhoUCgUUk1NjVau\nXKlRo0bJ5XKppKRE+/btU2tr60dSOAAAAMwUVYAdPny4vvvd78rj8UQe+9Of/qRRo0bJ7/crNze3\nz/ycnBz5fD5J0uHDh5WTkxMZczgcys7Ols/n07Fjx3Tq1CllZ2dHxrOyspSamtpnmwEAAACQNJiD\nfT6fdu/ere3bt+vhhx9WRkZGn3G3261AICBJsixLLpfrnHHLsmRZlhwOh9xud59xl8sVOb6/EhMH\n9r20xESHHAM60j4SExOUlNS/+gf6OtkJ9X7wXNNFU29vb0iSyf+x61dv75hz6j3bx3joZ7yhN/ZF\nb+xtqPoy4AD74osvasWKFbrzzjuVn5+vhx9+WOFweFCLGezxkuRypQ3oOLf7InUO+tljy+VKU3r6\nsH7PNR31fvBc00Vbb5lu1mUf8Zo+Kq9Icrn++33rjYd+xit6Y1/0Jr4NKMA2NDTom9/8pjZs2KDZ\ns2dLktLT08+5a4BlWRoxYoQkyePxnHM11bIsjR8/Xh6PR+FwWJZlKS3tnTdce3t7n+0K/dHRcUah\nUG/UNbW3d2rw8Tm2OjrOKBA43e+5rg+fZmvU+8FzL6R6z5zpUZGkKR/tkj4yByV1nOk5p97ExAS5\nXGkD/nMNHx16Y1/0xt7O9mewog6w//u//6vS0lL967/+q/Lz8yOPT5gwQU8++WSfuT6fTxMnToyM\n+/1+zZ07V5LU29ur5uZmFRcXa8yYMXK73fL7/Ro9erQk6ejRo+ru7pbX641qfaFQr3p6on/DhkJh\n4wNsNLXHw4eaej94rumot39jiC16Y1/0Jr5FtREhFAqprKwssm3g3WbPnq3jx49rz549CgaDamxs\n1P79+7Vw4UJJ0uLFi1VbW6tDhw6pq6tL27dvV0pKigoKCpSQkKDi4mLt2LFDJ0+eVCAQUEVFhQoL\nC6O+AgsAAID4FtUV2JdeekmvvvqqtmzZou985ztyOBwKh8NyOBx65plntHPnTm3ZskWbN29WZmam\nysvLNW7cOEnS1KlTtW7dOpWUlKitrU1er1e7du2S0+mUJK1evVqdnZ2aM2eOQqGQpk+fro0bNw59\nxQAAADBaVAE2Ly9PLS0t7zs+evRo7d27933HFy1apEWLFr3nWHJyssrKylRWVhbNkgAAAHCBGdRt\ntAAA518wGJTf74v1MgYlN9cb+Rc4AIgWARYADOP3+zRz5muScj9kpl35VV8vTZo0OdYLAWAoAiwA\nGClX5t44TJL6d4s0AHgv/JgKAAAAGIUACwAAAKMQYAEAAGAUAiwAAACMQoAFAACAUQiwAAAAMAoB\nFgAAAEYhwAIAAMAoBFgAAAAYhQALAAAAoxBgAQAAYBQCLAAAAIxCgAUAAIBRCLAAAAAwCgEWAAAA\nRiHAAgAAwCgEWAAAABiFAAsAAACjEGABAABglKRYLwAAEJ3u7m5J/lgvYxD86u7OjPUiABiMAAsA\nBirTzbos1osYoFckSc/GeBUATEaABQDDJCcnq0jSlFgvZIAOSgokJ8d6GQAMxh5YAAAAGIUACwAA\nAKMQYAEAAGAUAiwAAACMQoAFAACAUQiwAAAAMAoBFgAAAEYhwAIAAMAoBFgAAAAYhQALAAAAoxBg\nAQAAYJSoA+z+/ft1zTXX6I477jhnrKmpSQsWLNDkyZNVVFSkurq6PuOVlZWaNWuW8vLytHTpUvn9\n/shYMBjUhg0bVFBQoPz8fK1Zs0aWZQ2gJAAAAMSzqALsww8/rPvuu0+f+MQnzhlrbW3VihUrtGTJ\nEjU1NWn9+vUqKyuLhNSGhgZt27ZN5eXlOnDggKZNm6bly5erq6tLklRRUaGWlhZVVVWpvr5e4XBY\npaWlg68QAAAAcSWqAJuamqrq6mp9/OMfP2esrq5OY8eO1bx58+R0OpWfn68ZM2aourpaklRVVaX5\n8+fL6/XK6XRq2bJlcjgcamhoUCgUUk1NjVauXKlRo0bJ5XKppKRE+/btU2tr69BUCgAAgLgQVYD9\n0pe+pIsvvvg9x/x+v3Jzc/s8lpOTI5/PJ0k6fPiwcnJyImMOh0PZ2dny+Xw6duyYTp06pezs7Mh4\nVlaWUlNT+2wzAAAAAJKG6kSWZSkjI6PPY263W4FAIDLucrnOGbcsS5ZlyeFwyO129xl3uVyR4/sr\nMXFg30tLTHTIMaAj7SMxMUFJSf2rf6Cvk51Q7wfPNR31vlPX/19fvNZrkvfrDWKP3tjbUPVlyAKs\nJIXD4ZgeL0kuV9qAjnO7L1LnoJ89tlyuNKWnD+v3XNNR7wfPNR319h37oN+bKJr+2lk89CJe0Zv4\nNmQBNj09/Zy7BliWpREjRkiSPB7POVdTLcvS+PHj5fF4FA6HZVmW0tLeecO1t7fL4/FEtY6OjjMK\nhXqjXn97e6cGH59jq6PjjAKB0/2e6/rwabZGvR88l3rN8l71JiYmyOVKO+fPtXit1yTv1xvEHr2x\nt7P9GawhC7ATJkzQk08+2ecxn8+niRMnRsb9fr/mzp0rSert7VVzc7OKi4s1ZswYud1u+f1+jR49\nWpJ09OhRdXd3y+v1RrWOUKhXPT3Rv2FDobDxATaa2uPhQ029HzzXdNT7/mPxXq9J4qWOeERv4tuQ\nbRCZPXu2jh8/rj179igYDKqxsVH79+/XwoULJUmLFy9WbW2tDh06pK6uLm3fvl0pKSkqKChQQkKC\niouLtWPHDp08eVKBQEAVFRUqLCyM+gosAAAA4ltUV2A//elPy+FwqKenR5L03HPPyeFw6NChQ/J4\nPNq5c6e2bNmizZs3KzMzU+Xl5Ro3bpwkaerUqVq3bp1KSkrU1tYmr9erXbt2yel0SpJWr16tzs5O\nzZkzR6FQSNOnT9fGjRuHuFwAAACYLqoA+5vf/OYDx/Py8rR37973HV+0aJEWLVr0nmPJyckqKytT\nWVlZNEsCAADABYZ7TAAAAMAoBFgAAAAYhQALAAAAoxBgAQAAYBQCLAAAAIxCgAUAAIBRCLAAAAAw\nCgEWAAAARiHAAgAAwCgEWAAAABiFAAsAAACjJMV6AQAAfJBgMCi/3xfrZfSRmJgglytNHR1nFAr1\nfuj83FyvnE7neVgZcGEgwAIAbM3v92nmzNck5cZ4Je8lrR9z/KqvlyZNmvyRrwa4UBBgAQAGyJU0\nJdaLGITTsV4AEFfYAwsAAACjEGABAABgFAIsAAAAjEKABQAAgFEIsAAAADAKdyEAANhad3e3JH+s\nlzEIfnV3Z8Z6EUBcIcACAGyvTDfrslgvYoBekSQ9G+NVAPGFAAsAsLXk5GQVydy7wB6UFEhOjvUy\ngLjCHlgAAAAYhQALAAAAoxBgAQAAYBQCLAAAAIxCgAUAAIBRCLAAAAAwCgEWAAAARiHAAgAAwCgE\nWAAAABiFAAsAAACj8KNkAQCwkWAwKL/fF+tlDEpurldOpzPWy0AcI8ACAGAjfr9PM2e+Jik3xisZ\nKL/q66VJkybHeiGIY2whAADARrq7u2O9hEGLhxpgb1yBBQDAZsp0sy6L9SIG6BVJ0rMxXgXina0C\n7IkTJ7Rp0ya9/PLLGjZsmG644QbdeeedsV4WAADnTXJysookTYn1QgbooKRAcnKsl4E4Z6sAu2rV\nKnm9XjU0NOjNN9/UrbfeqpEjR+qmm26K9dIAAABgE7YJsD6fT0ePHlXl/2vvTkOi2vs4gH/Hydui\naZlhJE89GdRkjkuWjTrQAi2oGaHRplTSnhFuL8wKC1ufIlqg7E0LeSvbIAuqiYheZKStrgit2OhU\n6lCijWm/++LSwNSNJ0o951y/HxiG+Z8Z+R2/nsMXPRxPnoSHhwc8PDywdOlSnDx5kgWWiIjoX6qz\n77qg17vBy6svPnxoRUfHl077uj/COy4oQzUFtrKyEv7+/vD09HSuBQYG4sWLF2hpaUG/fv0UnI6I\niIi6wuPHDxEXZwHwX6VH+QUvceXKZ0REmJQepMdRTYG12+3w8vJyWRswYAAAoKmp6acLrF7/azdW\n0Ot10P3SJ9VDr3dDr14/t/96vRsqunierlQB4D/c3x/i/mrLj/b36/ns2/Pav3V/f4T7qy2/sr9J\n+B+Gdu1YXcIKQK+f8dP7CgB//nmq6wbqBgsXJv3W53+1p31LJyLSKV/pN+Xn58NiseD8+fPOtdev\nX2PGjBm4efMm/P39FZyOiIiIiNRCNfeB9fHxgd1ud1mz2+3Q6XTw8fFRaCoiIiIiUhvVFNigoCDU\n1dW5lNinT59i5MiR6Nu3r4KTEREREZGaqKbAjhkzBkajEXv37kVzczOePXuG48ePY+HChUqPRkRE\nREQqopprYAHAZrNh06ZNuH//Pjw9PbFgwQKsXbtW6bGIiIiISEVUVWCJiIiIiP4f1VxCQERERET0\nM1hgiYiIiEhTWGCJiIiISFNYYImIiIhIU1hgiYiIiEhTWGCJiIiISFM0WWCtVitSU1MxceJEmM1m\nZGdno7m5GQBQXFyMuXPnIjw8HLNmzUJRUZHC0/Ys1dXVWLJkCcaPHw+z2Yy0tDQ0NDQAYDZqsn37\ndhgMBudrZqM8g8GA4OBghISEOJ/z8vIAMB81OHz4MMxmM8LCwpCSkoI3b94AYDZKKi0tdR4rXx9G\noxFjxowBwGzUoKqqCosXL8aECRNgNpuRlZWFpqYmAJ2Qj2jQrFmzZMOGDdLa2ir19fWSkJAgGzdu\nlLdv30poaKhcvHhRHA6H3L17V0JCQqS8vFzpkXsEh8MhUVFRcvjwYWlra5PGxkZJSkqS1NRUZqMi\nlZWVEhERIQaDQUREbDYbs1EBg8EgVqv1u3UeO8o7deqUxMTEyMuXL6W5uVny8vIkLy+P2ajQkSNH\nJD09ndmoQHt7u5jNZtm3b598/vxZ7Ha7pKSkyPr16zslH839Bvbjx48wGo3IyMhAnz594Ofnhzlz\n5qCkpARFRUUYMWIE5syZgz/++AORkZGYOnUqzp07p/TYPcKnT5+QlpaGFStWwN3dHQMHDsT06dNR\nU1PDbFRCRJCbm4uUlBTnGrNRBxGB/MP/lWE+yjt27BjS0tIwfPhweHh4ICcnBzk5OcxGZaxWK44d\nO4asrCxmowLv3r3Du3fvEB8fj169esHb2xvTpk1DVVVVp+SjuQLbv39/bNu2DT4+Ps61uro6+Pn5\noaKiAmPHjnV5f2BgIMrKyrp7zB7Jy8sLiYmJcHP7+8fq+fPnuHTpEmJiYpiNSpw+fRq9e/dGXFyc\nc8jEC/4AAASjSURBVK2yspLZqMSePXswZcoUTJgwAZs3b0ZLSwuPHYXZbDbU1tbCbrcjNjYWEydO\nxPr169HY2MhsVObAgQOYO3cuhgwZwmxUwM/PD4GBgSgsLERLSwsaGhpw48YNTJ48uVPy0VyB/VZZ\nWRkKCgqwatUq2O12eHl5uWz39vZ2Xm9B3cNqtSIoKAhxcXEIDg7GunXrmI0KvH//HocOHUJubq7L\nOrNRh9DQUERHR+PGjRs4e/Ysnjx5gi1btjAfhdlsNgDA9evXceLECVy+fBn19fXYtGkTs1GR2tpa\nWCwWLF26FADPa2qg0+mwf/9+3Lx5E+Hh4TCbzejo6EB6enqn5KPpAvvgwQMsW7YMmZmZiIyMBIB/\n/BMcda+hQ4eivLwc165dw4sXL5CVlQWA2Sht586dSExMREBAwHfbmI3yzpw5g4SEBLi7uyMgIAAZ\nGRm4cuUK2tvbmY+Cvn7vly9fDl9fX/j5+WHdunW4deuWy3ZSVkFBAaZPn+7y11lmo6y2tjasXr0a\nMTExKC0txZ07d9C/f39kZmYC+P18NFtgb926hZUrVyInJweLFi0CAAwcOBB2u93lfXa7HYMGDVJi\nxB5v2LBhSEtLw9WrV+Hu7s5sFFRcXIxHjx5hzZo1AFxPHDxu1Mnf3x8dHR1wc3NjPgry9fUF8Pfl\na1/5+/tDRNDe3s5sVOL69euYOnWq8zXPa8orLi7GmzdvkJ6eDg8PDwwePBipqamwWCzQ6/W/nY8m\nC+zDhw+RnZ2NgwcPIj4+3rkeFBSEiooKl/eWlZUhJCSku0fske7du4eZM2e6rOl0Ouh0OhiNRpSX\nl7tsYzbd5/Lly2hsbMTkyZNhMpmQkJAAEUFkZCRGjRrFbBRWVVWFXbt2uaw9e/YMvXv3xqRJk5iP\ngoYMGQJPT09UVVU512pra+Hu7s5sVKK6uhp1dXWIiopyrrEPKO/Lly/Ox1dtbW3Q6XSIior6/WOn\nU++Z0A3a29slJiZGCgsLv9vW0NAg4eHhcu7cOXE4HHL79m0JDQ2VmpoaBSbteT5+/CjR0dGye/du\naW1tlYaGBlm2bJkkJSUxG4V9+PBB6uvrnY/Hjx/L6NGjxWazidVqZTYKq6+vl7CwMDl69Kg4HA55\n/vy5xMbGyrZt23jsqMCOHTtk2rRp8urVK3n//r3Mnz9fcnJymI1KXLhwQUwmk8sas1FeU1OTmEwm\n2bdvn7S2tkpjY6OsXr1akpOTOyUfzRXYkpISMRgMEhwcLEaj0eXZarVKSUmJzJ49W4xGo8ycOVMs\nFovSI/coNTU1kpSUJKGhoRIVFSXp6elis9lERJiNitTW1jrvAyvCbNSgpKRE5s2bJ2FhYWIymWTX\nrl3icDic25iPchwOh2zdulUiIiJk3Lhxkp2dLS0tLSLCbNQgPz9f4uLivltnNsqrqKiQ5ORkiYiI\nkOjoaOc9ekV+Px+dCK9yJiIiIiLt0OQ1sERERETUc7HAEhEREZGmsMASERERkaawwBIRERGRprDA\nEhEREZGmsMASERERkaawwBIRERGRprDAEhEREZGmsMASERERkaawwBIRERGRprDAEhEREZGm/AUx\n+puP/XWOywAAAABJRU5ErkJggg==\n",
      "text/plain": [
       "<matplotlib.figure.Figure at 0x7fab7d0aad90>"
      ]
     },
     "metadata": {},
     "output_type": "display_data"
    }
   ],
   "source": [
    "plt.hist([age0,age1],color=['r','b'],histtype='barstacked',\\\n",
    "         label=['default0','default1'])\n",
    "plt.legend(['default0','default1'])\n",
    "\n",
    "plt.show()"
   ]
  },
  {
   "cell_type": "code",
   "execution_count": 172,
   "metadata": {
    "collapsed": false,
    "scrolled": true
   },
   "outputs": [
    {
     "data": {
      "image/png": "iVBORw0KGgoAAAANSUhEUgAAA/AAAAFtCAYAAACgOIG6AAAABHNCSVQICAgIfAhkiAAAAAlwSFlz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\nREREREREJANs4ImIiIiIiIhk4P8B+yhP3N7pPXUAAAAASUVORK5CYII=\n",
      "text/plain": [
       "<matplotlib.figure.Figure at 0x7fab7c585150>"
      ]
     },
     "metadata": {},
     "output_type": "display_data"
    }
   ],
   "source": [
    "pylab.figure(figsize=(12,8))\n",
    "pylab.subplot(2,2,1)\n",
    "stats.probplot(age0, dist=\"norm\", plot=pylab)\n",
    "pylab.subplot(2,2,2)\n",
    "stats.probplot(age1, dist=\"norm\", plot=pylab)\n",
    "pylab.show()"
   ]
  },
  {
   "cell_type": "markdown",
   "metadata": {},
   "source": [
    "$H_0\\colon med\\left(X_1-X_2\\right)=0,$\n",
    "\n",
    "$H_1\\colon med\\left(X_1-X_2\\right)\\neq0$"
   ]
  },
  {
   "cell_type": "markdown",
   "metadata": {},
   "source": [
    "### Интервальная оценка медианы"
   ]
  },
  {
   "cell_type": "code",
   "execution_count": 174,
   "metadata": {
    "collapsed": false
   },
   "outputs": [],
   "source": [
    "np.random.seed(0)\n",
    "data_default0 = get_bootstrap_samples(age0.values, 1000)\n",
    "data_default1 = get_bootstrap_samples(age1.values, 1000)\n",
    "\n",
    "default0_median_scores = map(np.mean,data_default0)\n",
    "default1_median_scores = map(np.mean,data_default1)"
   ]
  },
  {
   "cell_type": "code",
   "execution_count": 175,
   "metadata": {
    "collapsed": false
   },
   "outputs": [
    {
     "name": "stdout",
     "output_type": "stream",
     "text": [
      "95% confidence interval for the ILEC median repair time: [ 35.30182867  35.53313966]\n",
      "95% confidence interval for the CLEC median repair time: [ 35.49975512  35.95544002]\n"
     ]
    }
   ],
   "source": [
    "print \"95% confidence interval for the ILEC median repair time:\",  stat_intervals(default0_median_scores, 0.05)\n",
    "print \"95% confidence interval for the CLEC median repair time:\",  stat_intervals(default1_median_scores, 0.05)"
   ]
  },
  {
   "cell_type": "markdown",
   "metadata": {},
   "source": [
    "### Точечная оценка разности медиан"
   ]
  },
  {
   "cell_type": "code",
   "execution_count": 176,
   "metadata": {
    "collapsed": false
   },
   "outputs": [
    {
     "name": "stdout",
     "output_type": "stream",
     "text": [
      "difference between medians: 0.0\n"
     ]
    }
   ],
   "source": [
    "print \"difference between medians:\", np.median(data_default0) - np.median(data_default1)"
   ]
  },
  {
   "cell_type": "markdown",
   "metadata": {},
   "source": [
    "### Интервальная оценка разности медиан"
   ]
  },
  {
   "cell_type": "code",
   "execution_count": 177,
   "metadata": {
    "collapsed": true
   },
   "outputs": [],
   "source": [
    "delta_median_scores = map(lambda x: x[0] - x[1], zip(default0_median_scores, default1_median_scores))"
   ]
  },
  {
   "cell_type": "code",
   "execution_count": 178,
   "metadata": {
    "collapsed": false
   },
   "outputs": [
    {
     "name": "stdout",
     "output_type": "stream",
     "text": [
      "95% confidence interval for the difference between medians [-0.5645032  -0.05203262]\n"
     ]
    }
   ],
   "source": [
    "print \"95% confidence interval for the difference between medians\",  stat_intervals(delta_median_scores, 0.05)"
   ]
  },
  {
   "cell_type": "markdown",
   "metadata": {
    "collapsed": true
   },
   "source": [
    "* Доверительные интервалы медиан пересекаются;\n",
    "* точечна оценка разности медиан равн нулю;\n",
    "* интервальная оценка разности медиан лежит близко к нулю.\n",
    "\n",
    "Исходя из описаных выше предположений можно сделать предположение, что медианы равны."
   ]
  },
  {
   "cell_type": "markdown",
   "metadata": {},
   "source": [
    "Применим непараметрические критерии."
   ]
  },
  {
   "cell_type": "code",
   "execution_count": 179,
   "metadata": {
    "collapsed": false
   },
   "outputs": [
    {
     "data": {
      "text/plain": [
       "MannwhitneyuResult(statistic=76966879.5, pvalue=0.18625177174493079)"
      ]
     },
     "execution_count": 179,
     "metadata": {},
     "output_type": "execute_result"
    }
   ],
   "source": [
    "stats.mannwhitneyu(age0.values,age1.values)"
   ]
  },
  {
   "cell_type": "markdown",
   "metadata": {},
   "source": [
    "Критерий Манна-Уитни принимает нулевую гипотезу на уровне значимости 0.05."
   ]
  },
  {
   "cell_type": "code",
   "execution_count": 181,
   "metadata": {
    "collapsed": false
   },
   "outputs": [
    {
     "name": "stdout",
     "output_type": "stream",
     "text": [
      "p-value: 0.016200\n",
      "CPU times: user 1min 17s, sys: 3.34 s, total: 1min 20s\n",
      "Wall time: 2min 7s\n"
     ]
    }
   ],
   "source": [
    "%%time\n",
    "print \"p-value: %f\" % permutation_test(age0.values, age1.values, max_permutations = 20000)"
   ]
  },
  {
   "cell_type": "markdown",
   "metadata": {},
   "source": [
    "Перестановочный критерий отвревгает нулевую гипотезу на уровне значимости 0.05."
   ]
  },
  {
   "cell_type": "markdown",
   "metadata": {},
   "source": [
    "### Вывод:\n",
    "\n",
    "* средние значения возраста в обеих группах одинаковые;\n",
    "* распределение возраста, зависит от группы, отсюда можно сделать вывод, что при выдаче кредита, следует обращать внимание на возраст."
   ]
  }
 ],
 "metadata": {
  "anaconda-cloud": {},
  "kernelspec": {
<<<<<<< HEAD
   "display_name": "Python [conda root]",
   "language": "python",
   "name": "conda-root-py"
=======
   "display_name": "Python 3",
   "language": "python",
   "name": "python3"
>>>>>>> a15b9d7091eb48167953e419ebdfab6a261ee4ff
  },
  "language_info": {
   "codemirror_mode": {
    "name": "ipython",
<<<<<<< HEAD
    "version": 2
=======
    "version": 3
>>>>>>> a15b9d7091eb48167953e419ebdfab6a261ee4ff
   },
   "file_extension": ".py",
   "mimetype": "text/x-python",
   "name": "python",
   "nbconvert_exporter": "python",
<<<<<<< HEAD
   "pygments_lexer": "ipython2",
   "version": "2.7.12"
=======
   "pygments_lexer": "ipython3",
   "version": "3.6.0"
>>>>>>> a15b9d7091eb48167953e419ebdfab6a261ee4ff
  }
 },
 "nbformat": 4,
 "nbformat_minor": 0
}
