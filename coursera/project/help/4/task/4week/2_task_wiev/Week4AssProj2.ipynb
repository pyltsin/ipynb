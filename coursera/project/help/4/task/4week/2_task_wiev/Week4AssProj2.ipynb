{
 "cells": [
  {
   "cell_type": "markdown",
   "metadata": {},
   "source": [
    "### Анализ данных в задаче кредитного скоринга"
   ]
  },
  {
   "cell_type": "code",
   "execution_count": 1,
   "metadata": {
    "collapsed": false
   },
   "outputs": [
    {
     "name": "stdout",
     "output_type": "stream",
     "text": [
      "Populating the interactive namespace from numpy and matplotlib\n"
     ]
    }
   ],
   "source": [
    "import pandas as pd\n",
    "import numpy as np\n",
    "\n",
    "from scipy import stats\n",
    "\n",
    "import matplotlib.pyplot as plt\n",
    "plt.style.use('ggplot')\n",
    "\n",
    "%pylab inline"
   ]
  },
  {
   "cell_type": "code",
   "execution_count": 2,
   "metadata": {
    "collapsed": false
   },
   "outputs": [
    {
     "data": {
      "text/html": [
       "<div>\n",
       "<table border=\"1\" class=\"dataframe\">\n",
       "  <thead>\n",
       "    <tr style=\"text-align: right;\">\n",
       "      <th></th>\n",
       "      <th>ID</th>\n",
       "      <th>LIMIT_BAL</th>\n",
       "      <th>SEX</th>\n",
       "      <th>EDUCATION</th>\n",
       "      <th>MARRIAGE</th>\n",
       "      <th>AGE</th>\n",
       "      <th>PAY_0</th>\n",
       "      <th>PAY_2</th>\n",
       "      <th>PAY_3</th>\n",
       "      <th>PAY_4</th>\n",
       "      <th>...</th>\n",
       "      <th>BILL_AMT4</th>\n",
       "      <th>BILL_AMT5</th>\n",
       "      <th>BILL_AMT6</th>\n",
       "      <th>PAY_AMT1</th>\n",
       "      <th>PAY_AMT2</th>\n",
       "      <th>PAY_AMT3</th>\n",
       "      <th>PAY_AMT4</th>\n",
       "      <th>PAY_AMT5</th>\n",
       "      <th>PAY_AMT6</th>\n",
       "      <th>default</th>\n",
       "    </tr>\n",
       "  </thead>\n",
       "  <tbody>\n",
       "    <tr>\n",
       "      <th>0</th>\n",
       "      <td>1</td>\n",
       "      <td>20000</td>\n",
       "      <td>2</td>\n",
       "      <td>2</td>\n",
       "      <td>1</td>\n",
       "      <td>24</td>\n",
       "      <td>2</td>\n",
       "      <td>2</td>\n",
       "      <td>0</td>\n",
       "      <td>0</td>\n",
       "      <td>...</td>\n",
       "      <td>0</td>\n",
       "      <td>0</td>\n",
       "      <td>0</td>\n",
       "      <td>0</td>\n",
       "      <td>689</td>\n",
       "      <td>0</td>\n",
       "      <td>0</td>\n",
       "      <td>0</td>\n",
       "      <td>0</td>\n",
       "      <td>1</td>\n",
       "    </tr>\n",
       "    <tr>\n",
       "      <th>1</th>\n",
       "      <td>2</td>\n",
       "      <td>120000</td>\n",
       "      <td>2</td>\n",
       "      <td>2</td>\n",
       "      <td>2</td>\n",
       "      <td>26</td>\n",
       "      <td>0</td>\n",
       "      <td>2</td>\n",
       "      <td>0</td>\n",
       "      <td>0</td>\n",
       "      <td>...</td>\n",
       "      <td>3272</td>\n",
       "      <td>3455</td>\n",
       "      <td>3261</td>\n",
       "      <td>0</td>\n",
       "      <td>1000</td>\n",
       "      <td>1000</td>\n",
       "      <td>1000</td>\n",
       "      <td>0</td>\n",
       "      <td>2000</td>\n",
       "      <td>1</td>\n",
       "    </tr>\n",
       "    <tr>\n",
       "      <th>2</th>\n",
       "      <td>3</td>\n",
       "      <td>90000</td>\n",
       "      <td>2</td>\n",
       "      <td>2</td>\n",
       "      <td>2</td>\n",
       "      <td>34</td>\n",
       "      <td>0</td>\n",
       "      <td>0</td>\n",
       "      <td>0</td>\n",
       "      <td>0</td>\n",
       "      <td>...</td>\n",
       "      <td>14331</td>\n",
       "      <td>14948</td>\n",
       "      <td>15549</td>\n",
       "      <td>1518</td>\n",
       "      <td>1500</td>\n",
       "      <td>1000</td>\n",
       "      <td>1000</td>\n",
       "      <td>1000</td>\n",
       "      <td>5000</td>\n",
       "      <td>0</td>\n",
       "    </tr>\n",
       "    <tr>\n",
       "      <th>3</th>\n",
       "      <td>4</td>\n",
       "      <td>50000</td>\n",
       "      <td>2</td>\n",
       "      <td>2</td>\n",
       "      <td>1</td>\n",
       "      <td>37</td>\n",
       "      <td>0</td>\n",
       "      <td>0</td>\n",
       "      <td>0</td>\n",
       "      <td>0</td>\n",
       "      <td>...</td>\n",
       "      <td>28314</td>\n",
       "      <td>28959</td>\n",
       "      <td>29547</td>\n",
       "      <td>2000</td>\n",
       "      <td>2019</td>\n",
       "      <td>1200</td>\n",
       "      <td>1100</td>\n",
       "      <td>1069</td>\n",
       "      <td>1000</td>\n",
       "      <td>0</td>\n",
       "    </tr>\n",
       "    <tr>\n",
       "      <th>4</th>\n",
       "      <td>5</td>\n",
       "      <td>50000</td>\n",
       "      <td>1</td>\n",
       "      <td>2</td>\n",
       "      <td>1</td>\n",
       "      <td>57</td>\n",
       "      <td>0</td>\n",
       "      <td>0</td>\n",
       "      <td>0</td>\n",
       "      <td>0</td>\n",
       "      <td>...</td>\n",
       "      <td>20940</td>\n",
       "      <td>19146</td>\n",
       "      <td>19131</td>\n",
       "      <td>2000</td>\n",
       "      <td>36681</td>\n",
       "      <td>10000</td>\n",
       "      <td>9000</td>\n",
       "      <td>689</td>\n",
       "      <td>679</td>\n",
       "      <td>0</td>\n",
       "    </tr>\n",
       "  </tbody>\n",
       "</table>\n",
       "<p>5 rows × 25 columns</p>\n",
       "</div>"
      ],
      "text/plain": [
       "   ID  LIMIT_BAL  SEX  EDUCATION  MARRIAGE  AGE  PAY_0  PAY_2  PAY_3  PAY_4  \\\n",
       "0   1      20000    2          2         1   24      2      2      0      0   \n",
       "1   2     120000    2          2         2   26      0      2      0      0   \n",
       "2   3      90000    2          2         2   34      0      0      0      0   \n",
       "3   4      50000    2          2         1   37      0      0      0      0   \n",
       "4   5      50000    1          2         1   57      0      0      0      0   \n",
       "\n",
       "    ...     BILL_AMT4  BILL_AMT5  BILL_AMT6  PAY_AMT1  PAY_AMT2  PAY_AMT3  \\\n",
       "0   ...             0          0          0         0       689         0   \n",
       "1   ...          3272       3455       3261         0      1000      1000   \n",
       "2   ...         14331      14948      15549      1518      1500      1000   \n",
       "3   ...         28314      28959      29547      2000      2019      1200   \n",
       "4   ...         20940      19146      19131      2000     36681     10000   \n",
       "\n",
       "   PAY_AMT4  PAY_AMT5  PAY_AMT6  default  \n",
       "0         0         0         0        1  \n",
       "1      1000         0      2000        1  \n",
       "2      1000      1000      5000        0  \n",
       "3      1100      1069      1000        0  \n",
       "4      9000       689       679        0  \n",
       "\n",
       "[5 rows x 25 columns]"
      ]
     },
     "execution_count": 2,
     "metadata": {},
     "output_type": "execute_result"
    }
   ],
   "source": [
    "# Загружаем исходные данные\n",
    "\n",
    "data = pd.read_csv('credit_card_default_analysis.csv', sep = ',', header = 0)\n",
    "data.head()"
   ]
  },
  {
   "cell_type": "markdown",
   "metadata": {},
   "source": [
    "#### Задание 1: \n",
    "##### В двух группах, тех людей, кто вернул кредит (default = 0) и тех, кто его не вернул (default = 1) проверьте гипотезы: a) о равенстве медианных значений кредитного лимита с помощью подходящей интервальной оценки b) о равенстве распределений с помощью одного из подходящих непараметрических критериев проверки равенства средних. Значимы ли полученные результаты с практической точки зрения?"
   ]
  },
  {
   "cell_type": "markdown",
   "metadata": {},
   "source": [
    "#### Задание 1(a):\n",
    "Для ответа на вопрос (а) используем оценку с помощью доверительных интервалов на основе бутстрепа.\n",
    "\n",
    "Сначала посмотрим на данные - оценим размер выборок значений кредитного лимита для тех, кто вернул кредит, и значений кредитного лимита для тех, кто не вернул кредит:"
   ]
  },
  {
   "cell_type": "code",
   "execution_count": 3,
   "metadata": {
    "collapsed": false
   },
   "outputs": [
    {
     "data": {
      "text/plain": [
       "0    23364\n",
       "1     6636\n",
       "Name: default, dtype: int64"
      ]
     },
     "execution_count": 3,
     "metadata": {},
     "output_type": "execute_result"
    }
   ],
   "source": [
    "data.default.value_counts()"
   ]
  },
  {
   "cell_type": "markdown",
   "metadata": {},
   "source": [
    "Размеры выборок существенно отличаются, но в таких условиях также можно сравнивать медианные значения. Так как мы будем проверять гипотезы о медианах выборок и распределениях значений, полезно построить boxplot-графики и гистограммы."
   ]
  },
  {
   "cell_type": "code",
   "execution_count": 4,
   "metadata": {
    "collapsed": false
   },
   "outputs": [
    {
     "data": {
      "image/png": "[encoded data removed]",
      "text/plain": [
       "<matplotlib.figure.Figure at 0x1147354d0>"
      ]
     },
     "metadata": {},
     "output_type": "display_data"
    }
   ],
   "source": [
    "pylab.figure(figsize=(12,5))\n",
    "pylab.grid(1)\n",
    "\n",
    "pylab.subplot(1,2,1)\n",
    "plt.boxplot([data[data.default == 0].LIMIT_BAL.values, data[data.default == 1].LIMIT_BAL.values], positions = [1,2])\n",
    "plt.xticks([1, 2], ['Credit was repaid', 'Credit was NOT repaid'])\n",
    "plt.title('Boxplots of LIMIL_BAL compare')\n",
    "\n",
    "pylab.subplot(1,2,2)\n",
    "pyplot.hist(data[data.default == 0].LIMIT_BAL.values, bins = 50, alpha=0.7, label='Credit was repaid')\n",
    "pyplot.hist(data[data.default == 1].LIMIT_BAL.values, bins = 50, alpha=0.7, label='Credit was NOT repaid')\n",
    "\n",
    "plt.title('Hist: LIMIL_BAL compare')\n",
    "pyplot.legend(loc='upper right')\n",
    "pyplot.show()"
   ]
  },
  {
   "cell_type": "markdown",
   "metadata": {},
   "source": [
    "На данных графиках видно, что распределения имеют разные медианы. Чтобы в этом убедиться, построим доверительные интервалы на основе бутстрепа для медиан обоих распределений:"
   ]
  },
  {
   "cell_type": "code",
   "execution_count": 5,
   "metadata": {
    "collapsed": false
   },
   "outputs": [
    {
     "name": "stdout",
     "output_type": "stream",
     "text": [
      "95% confidence interval for the \"Credit was repaid\" median: [ 150000.  150000.]\n",
      "95% confidence interval for the \"Credit was not repaid\" median: [ 80000.  90000.]\n"
     ]
    }
   ],
   "source": [
    "def get_bootstrap_samples(data, n_samples):\n",
    "    indices = np.random.randint(0, len(data), (n_samples, len(data)))\n",
    "    samples = data[indices]\n",
    "    return samples\n",
    "\n",
    "def stat_intervals(stat, alpha):\n",
    "    boundaries = np.percentile(stat, [100 * alpha / 2., 100 * (1 - alpha / 2.)])\n",
    "    return boundaries\n",
    "\n",
    "np.random.seed(0)\n",
    "\n",
    "ret_median_scores = map(np.median, get_bootstrap_samples(data[data.default == 0].LIMIT_BAL.values, 1000))\n",
    "non_ret_median_scores = map(np.median, get_bootstrap_samples(data[data.default == 1].LIMIT_BAL.values, 1000))\n",
    "\n",
    "print '95% confidence interval for the \"Credit was repaid\" median:',  stat_intervals(ret_median_scores, 0.05)\n",
    "print '95% confidence interval for the \"Credit was not repaid\" median:',  stat_intervals(non_ret_median_scores, 0.05)"
   ]
  },
  {
   "cell_type": "markdown",
   "metadata": {},
   "source": [
    "Т.к. интервалы не пересекаются, и в первом случае мы получили точечную оценку => будем проверять гипотезу:\n",
    "\n",
    "$H_0\\colon \\theta = \\theta_{0}$ \n",
    "\n",
    "$H_1\\colon \\theta\\neq \\theta_{0}$ \n",
    "\n",
    "$H_0$ отвергается на уровне значимости 0.05, если 95% доверительный интервал для $\\theta$ не содержит $\\theta_{0}$\n",
    "\n",
    "#### Ответ 1(a): \n",
    "\n",
    "Мы можем отвергнуть гипотезу о равенстве медиан, т.к. доверительный интервал для медианы значений кредитного лимита для тех, кто не вернул кредит, не содержит значение $\\theta_{0} = 150000$. "
   ]
  },
  {
   "cell_type": "markdown",
   "metadata": {},
   "source": [
    "#### Задание 1(b):\n",
    "\n",
    "На графике распределений двух выборок видно, что они не совпадают. Чтобы это доказать используем перестановочный критерий для независимых выборок:\n",
    "\n",
    "Проверять будем нулевую гипотезу о том, что функции распределения значений кредитного лимита для тех, кто вернул кредит и для тех, кто его не вернул одинаковы (совпадают):\n",
    "\n",
    "$H_0\\colon F_{X_1}(x) = F_{X_2}(x)$\n",
    "\n",
    "Против альтернативы, что функция распределения одной выборки получается сдвигом на некоторую дельту из функции распределения на другой выборке.\n",
    "\n",
    "$H_1\\colon F_{X_1}(x) = F_{X_2}(x + \\Delta), \\Delta\\neq 0$"
   ]
  },
  {
   "cell_type": "code",
   "execution_count": 6,
   "metadata": {
    "collapsed": false
   },
   "outputs": [
    {
     "name": "stdout",
     "output_type": "stream",
     "text": [
      "Statistical significance p-value: 0.000333333333333\n"
     ]
    }
   ],
   "source": [
    "def permutation_t_stat_ind(sample1, sample2):\n",
    "    return np.mean(sample1) - np.mean(sample2)\n",
    "\n",
    "def get_random_combinations(n1, n2, max_combinations):\n",
    "    index = range(n1 + n2)\n",
    "    indices = set([tuple(index)])\n",
    "    for i in range(max_combinations - 1):\n",
    "        np.random.shuffle(index)\n",
    "        indices.add(tuple(index))\n",
    "    return [(index[:n1], index[n1:]) for index in indices]\n",
    "\n",
    "def permutation_zero_dist_ind(sample1, sample2, max_combinations = None):\n",
    "    joined_sample = np.hstack((sample1, sample2))\n",
    "    n1 = len(sample1)\n",
    "    n = len(joined_sample)\n",
    "    \n",
    "    if max_combinations:\n",
    "        indices = get_random_combinations(n1, len(sample2), max_combinations)\n",
    "    else:\n",
    "        indices = [(list(index), filter(lambda i: i not in index, range(n))) \\\n",
    "                    for index in itertools.combinations(range(n), n1)]\n",
    "    \n",
    "    distr = [joined_sample[list(i[0])].mean() - joined_sample[list(i[1])].mean() \\\n",
    "             for i in indices]\n",
    "    return distr\n",
    "\n",
    "def permutation_test(sample, mean, max_permutations = None, alternative = 'two-sided'):\n",
    "    if alternative not in ('two-sided', 'less', 'greater'):\n",
    "        raise ValueError(\"alternative not recognized\\n\"\n",
    "                         \"should be 'two-sided', 'less' or 'greater'\")\n",
    "    \n",
    "    t_stat = permutation_t_stat_ind(sample, mean)\n",
    "    \n",
    "    zero_distr = permutation_zero_dist_ind(sample, mean, max_permutations)\n",
    "    \n",
    "    if alternative == 'two-sided':\n",
    "        return sum([1. if abs(x) >= abs(t_stat) else 0. for x in zero_distr]) / len(zero_distr)\n",
    "    \n",
    "    if alternative == 'less':\n",
    "        return sum([1. if x <= t_stat else 0. for x in zero_distr]) / len(zero_distr)\n",
    "\n",
    "    if alternative == 'greater':\n",
    "        return sum([1. if x >= t_stat else 0. for x in zero_distr]) / len(zero_distr)\n",
    "    \n",
    "np.random.seed(0)\n",
    "\n",
    "print 'Statistical significance p-value:', permutation_test(data[data.default == 0].LIMIT_BAL.values, \n",
    "                                                            data[data.default == 1].LIMIT_BAL.values, \n",
    "                                                            max_permutations = 3000) "
   ]
  },
  {
   "cell_type": "markdown",
   "metadata": {},
   "source": [
    "#### Ответ 1(b) : \n",
    "\n",
    "Так как значение p-value намного меньше $\\alpha$ - мы можем отвергнуть гипотезу о равенстве распределений на уровне значимости 0.05.\n",
    "\n",
    "##### Размер эффекта:\n",
    "\n",
    "Размер эффекта - это степень отклонения данных от нулевой гипотезы. Данная величина определена на генеральной совокупности. Но у нас есть только небольшая выборка из нее, а оценка размера эффекта по выборке — это случайная величина. Маленький достигаемый уровень значимости является показателем того, что такую оценку размера эффекта, какая получена по выборке, с маленькой вероятностью можно было получить случайно.\n",
    "\n",
    "С полученным p-value так и есть.\n",
    "\n",
    "Достигаемый уровень значимости зависит не только от размера эффекта, но и от объема выборки, по которой оценивается эффект. На небольших выборках, нулевая гипотеза, скорее всего,отвергается. Однако с ростом объема выборки начинают проявляться все более тонкие отклонения данных от нулевой гипотезы. Велика вероятность, что на достаточно большой выборке значительная часть разумных нулевых гипотез будет отвергнута. Именно поэтому, даже если нулевая гипотеза отвергнута, это еще не значит, что полученный эффект имеет какую-то практическую значимость, её нужно оценивать отдельно. \n",
    "\n",
    "Несмотря на то, что мы имеем выборки достаточного размера: N_non_ret = 6636, R_ret = 23364. Оценим практическую значимость исходя из здравого смысла )\n",
    "\n",
    "##### Практическая значимоcть результатов:\n",
    "\n",
    "Результат (a): сравнение медианных значений этих двух выборок и проверка распределений - сложно назвать практически значимыми, т.к. в случае (а) мы ответили на вопрос о том, что средние отличаются, но не определяли: в какую сторону. Соответственно, при данной проверке мы не можем сделать практически значимый вывод, например, о прибыльности данного банка. \n",
    "В данную случае простой boxplot, показанный ранее, имеет большую практическую значимость.\n",
    "\n",
    "Результат (b): в случае (b) мы установили, что обе выборки имеют похожий вид распределения, но имеют сдвиг относительно друг друга на некоторую величину => данный результат не несет большого смысла сам по себе. Сравнительный график гистограмм дает больше информации, например, о том, что доля невыплаченных кредитов в несколько раз меньше доли возвращенных."
   ]
  },
  {
   "cell_type": "markdown",
   "metadata": {},
   "source": [
    "----------------------------------------------------------------------------------------------------------------------\n",
    "#### Задание 2:\n",
    "\n",
    "###### Проверьте гипотезу о том, что гендерный состав группы людей вернувших и не вернувших кредит отличается. Хорошо, если вы предоставите несколько различных решений этой задачи (с помощью доверительного интервала и подходящего статистического критерия).\n",
    "\n",
    "Для ответа на этот вопрос нужно проверить гипотезу о равенстве долей полов в обоих выборках. \n",
    "\n",
    "$H_0$ - доли обоих полов равны \n",
    "\n",
    "$H_1$ - доли обоих полов не равны\n",
    "\n",
    "Всегда полезно посмотреть на данные, с которыми будем работать, поэтому построим интересующие нас доли в двух выборках."
   ]
  },
  {
   "cell_type": "code",
   "execution_count": 13,
   "metadata": {
    "collapsed": false
   },
   "outputs": [
    {
     "data": {
      "text/html": [
       "<div>\n",
       "<table border=\"1\" class=\"dataframe\">\n",
       "  <thead>\n",
       "    <tr style=\"text-align: right;\">\n",
       "      <th>default</th>\n",
       "      <th>0</th>\n",
       "      <th>1</th>\n",
       "    </tr>\n",
       "    <tr>\n",
       "      <th>SEX</th>\n",
       "      <th></th>\n",
       "      <th></th>\n",
       "    </tr>\n",
       "  </thead>\n",
       "  <tbody>\n",
       "    <tr>\n",
       "      <th>1</th>\n",
       "      <td>9015</td>\n",
       "      <td>2873</td>\n",
       "    </tr>\n",
       "    <tr>\n",
       "      <th>2</th>\n",
       "      <td>14349</td>\n",
       "      <td>3763</td>\n",
       "    </tr>\n",
       "  </tbody>\n",
       "</table>\n",
       "</div>"
      ],
      "text/plain": [
       "default      0     1\n",
       "SEX                 \n",
       "1         9015  2873\n",
       "2        14349  3763"
      ]
     },
     "execution_count": 13,
     "metadata": {},
     "output_type": "execute_result"
    }
   ],
   "source": [
    "# составим сводную таблицу по полу и индикатору возврата кредита\n",
    "\n",
    "people = data.pivot_table(index = 'SEX', columns = 'default', values = 'ID', aggfunc = 'count').fillna(0)\n",
    "people"
   ]
  },
  {
   "cell_type": "code",
   "execution_count": 58,
   "metadata": {
    "collapsed": false
   },
   "outputs": [
    {
     "data": {
      "image/png": "[encoded data removed]",
      "text/plain": [
       "<matplotlib.figure.Figure at 0x115945d90>"
      ]
     },
     "metadata": {},
     "output_type": "display_data"
    }
   ],
   "source": [
    "pylab.figure(figsize=(6,5))\n",
    "pylab.grid(1)\n",
    "\n",
    "index = list([1,2])\n",
    "width = 0.25\n",
    "opacity = 0.5\n",
    "\n",
    "men = [people[0][1], people[1][1]]\n",
    "women = [people[0][2], people[1][2]]\n",
    " \n",
    "plt.bar(index, men, width, alpha=opacity, color='b', label='Men')\n",
    "plt.bar([i + width for i in index], women, width, alpha=opacity, color='red', label='Women')\n",
    "\n",
    "plt.xticks([1.25, 2.25], ['Credit was repaid', 'Credit was NOT repaid'])\n",
    "\n",
    "plt.title('Gender proportion compare')\n",
    "plt.legend(loc='upper right')\n",
    "plt.show()"
   ]
  },
  {
   "cell_type": "markdown",
   "metadata": {},
   "source": [
    "По графику уже видно, что отношения долей существенно отличаются. Чтобы это доказать, проведем дополнительные исследования - интервальную оценку и Z-критерий для долей.\n",
    "\n",
    "#### Интервальная оценка:\n",
    "\n",
    "Построим доверительные интервалы для этих долей:"
   ]
  },
  {
   "cell_type": "code",
   "execution_count": 21,
   "metadata": {
    "collapsed": false
   },
   "outputs": [
    {
     "name": "stdout",
     "output_type": "stream",
     "text": [
      "Interval in Repaid credits [0.379627, 0.392110]\n",
      "Interval in Non repaid credits [0.421062, 0.444898]\n"
     ]
    }
   ],
   "source": [
    "from statsmodels.stats.proportion import proportion_confint\n",
    "\n",
    "# оценим доли полов среди обоих выборок\n",
    "conf_interval_g = proportion_confint(people[0][1], \n",
    "                                            sum(people[0]),\n",
    "                                            method = 'wilson')\n",
    "conf_interval_b = proportion_confint(people[1][1], \n",
    "                                            sum(people[1]),\n",
    "                                            method = 'wilson')\n",
    "print 'Interval in Repaid credits [%f, %f]' % conf_interval_g\n",
    "print 'Interval in Non repaid credits [%f, %f]' % conf_interval_b"
   ]
  },
  {
   "cell_type": "markdown",
   "metadata": {},
   "source": [
    "Как видно, доверительные интервалы не пересекаются => можно сказать, что доли не равны. Чтобы в этом убедиться, построим доверительный интервал разности долей для независимых выборок."
   ]
  },
  {
   "cell_type": "code",
   "execution_count": 25,
   "metadata": {
    "collapsed": false
   },
   "outputs": [
    {
     "name": "stdout",
     "output_type": "stream",
     "text": [
      "95% confidence interval for a difference between proportions: [0.033635, 0.060548]\n"
     ]
    }
   ],
   "source": [
    "def proportions_diff_confint_ind(sample1, sample2, alpha = 0.05):    \n",
    "    z = stats.norm.ppf(1 - alpha / 2.)\n",
    "    \n",
    "    p1 = float(sum(sample1)) / len(sample1)\n",
    "    p2 = float(sum(sample2)) / len(sample2)\n",
    "    \n",
    "    left_boundary = (p1 - p2) - z * np.sqrt(p1 * (1 - p1)/ len(sample1) + p2 * (1 - p2)/ len(sample2))\n",
    "    right_boundary = (p1 - p2) + z * np.sqrt(p1 * (1 - p1)/ len(sample1) + p2 * (1 - p2)/ len(sample2))\n",
    "    \n",
    "    return (left_boundary, right_boundary)\n",
    "\n",
    "# для удобства преобразуем выборки в бинарные\n",
    "good_people = [1 if x == 2 else 0 for x in data[data.default == 0].SEX]\n",
    "bad_people = [1 if x == 2 else 0 for x in data[data.default == 1].SEX]\n",
    "\n",
    "print '95%% confidence interval for a difference between proportions: [%f, %f]' %\\\n",
    "                                    proportions_diff_confint_ind(good_people, bad_people)"
   ]
  },
  {
   "cell_type": "markdown",
   "metadata": {},
   "source": [
    "Данный доверительный интервал довольно узкий (что означает, что оценка точная), лежит полностью правее нуля и не содержит его => мы можем утверждать, что доли отличаются. \n",
    "\n",
    "#### Z-критерий:\n",
    "\n",
    "Эту же гипотезу о равенстве долей против двусторонней альтернативы, что доли не равны, можно проверить еще одним способом: с помощью Z-критерия для разности долей для независимых выборок.\n",
    "\n",
    "Для его рассчета используем следующую матрицу:\n",
    "\n",
    "  | $default = 1$ | $default = 0$  \n",
    "  ------------- | -------------|\n",
    "  SEX = 1  | 2873 | 9015 \n",
    "  SEX = 2  | 3763 | 14349 \n",
    "  $\\sum$ | 6636| 23364"
   ]
  },
  {
   "cell_type": "code",
   "execution_count": 26,
   "metadata": {
    "collapsed": false
   },
   "outputs": [
    {
     "name": "stdout",
     "output_type": "stream",
     "text": [
      "p-value: 4.47286652161e-12\n"
     ]
    }
   ],
   "source": [
    "def proportions_diff_z_stat_ind(sample1, sample2):\n",
    "    n1 = len(sample1)\n",
    "    n2 = len(sample2)\n",
    "    \n",
    "    p1 = float(sum(sample1)) / n1\n",
    "    p2 = float(sum(sample2)) / n2 \n",
    "    P = float(p1*n1 + p2*n2) / (n1 + n2)\n",
    "    \n",
    "    return (p1 - p2) / np.sqrt(P * (1 - P) * (1. / n1 + 1. / n2))\n",
    "\n",
    "def proportions_diff_z_test(z_stat, alternative = 'two-sided'):\n",
    "    if alternative not in ('two-sided', 'less', 'greater'):\n",
    "        raise ValueError(\"alternative not recognized\\n\"\n",
    "                         \"should be 'two-sided', 'less' or 'greater'\")\n",
    "    \n",
    "    if alternative == 'two-sided':\n",
    "        return 2 * (1 - stats.norm.cdf(np.abs(z_stat)))\n",
    "    \n",
    "    if alternative == 'less':\n",
    "        return stats.norm.cdf(z_stat)\n",
    "\n",
    "    if alternative == 'greater':\n",
    "        return 1 - stats.norm.cdf(z_stat)\n",
    "\n",
    "p = proportions_diff_z_test(proportions_diff_z_stat_ind(good_people, bad_people),'two-sided')\n",
    "print 'p-value:', p"
   ]
  },
  {
   "cell_type": "markdown",
   "metadata": {},
   "source": [
    "Полученное значение p-value намного меньше 0.05, что позволяет отвергнуть нулевую гипотезу в пользу альтернативы и сделать вывод, что доли не равны.\n",
    "\n",
    "#### Ответ 2:\n",
    "\n",
    "На уровне значимости 0.05 можно сделать вывод о том, что гендерный состав группы людей вернувших и не вернувших кредит отличается."
   ]
  },
  {
   "cell_type": "markdown",
   "metadata": {},
   "source": [
    "----------------------------------------------------------------------------------------------------------------------\n",
    "\n",
    "#### Задание 3:\n",
    "##### Проверьте гипотезу о том, что образование не влияет на то, вернет ли человек долг. Предложите способ наглядного представления разницы в ожидаемых и наблюдаемых значениях количества человек вернувших и не вернувших долг. Например, составьте таблицу сопряженности \"образование\" на \"возврат долга\", где значением ячейки была бы разность между наблюдаемым и ожидаемым количеством человек. Как бы вы предложили модифицировать таблицу так, чтобы привести значения ячеек к одному масштабу не потеряв в интерпретируемости? Наличие какого образования является наилучшим индикатором того, что человек отдаст долг? Наоборот, не отдаст долг?"
   ]
  },
  {
   "cell_type": "markdown",
   "metadata": {},
   "source": [
    "Мы хотим проверить гипотезу о том, что образование клиента не влияет на то, вернет ли человек долг.\n",
    "\n",
    "Для этого мы применим критерий хи-квадрат: \n",
    "построим таблицы сопряженности между каждой из всех возможных неупорядоченных пар категорий образования и значений признака default и оценим - сколько достигаемых уровней значимости оказались меньше, чем $\\alpha$=0.05?"
   ]
  },
  {
   "cell_type": "markdown",
   "metadata": {},
   "source": [
    "Начнем с таблицы сопряженности \"образование\" на \"возврат долга\", где значение ячейки это разность между наблюдаемым и ожидаемым количеством человек.\n",
    "\n",
    "Для этого применим функцию\n",
    "stats.chi2_contingency(subtable) - которая возвращает в т.ч. и ожидаемое распределение"
   ]
  },
  {
   "cell_type": "code",
   "execution_count": 27,
   "metadata": {
    "collapsed": false
   },
   "outputs": [
    {
     "data": {
      "text/html": [
       "<div>\n",
       "<table border=\"1\" class=\"dataframe\">\n",
       "  <thead>\n",
       "    <tr style=\"text-align: right;\">\n",
       "      <th>default</th>\n",
       "      <th>0</th>\n",
       "      <th>1</th>\n",
       "    </tr>\n",
       "    <tr>\n",
       "      <th>EDUCATION</th>\n",
       "      <th></th>\n",
       "      <th></th>\n",
       "    </tr>\n",
       "  </thead>\n",
       "  <tbody>\n",
       "    <tr>\n",
       "      <th>0</th>\n",
       "      <td>3.0968</td>\n",
       "      <td>-3.0968</td>\n",
       "    </tr>\n",
       "    <tr>\n",
       "      <th>1</th>\n",
       "      <td>305.4020</td>\n",
       "      <td>-305.4020</td>\n",
       "    </tr>\n",
       "    <tr>\n",
       "      <th>2</th>\n",
       "      <td>-226.5640</td>\n",
       "      <td>226.5640</td>\n",
       "    </tr>\n",
       "    <tr>\n",
       "      <th>3</th>\n",
       "      <td>-149.3596</td>\n",
       "      <td>149.3596</td>\n",
       "    </tr>\n",
       "    <tr>\n",
       "      <th>4</th>\n",
       "      <td>20.2076</td>\n",
       "      <td>-20.2076</td>\n",
       "    </tr>\n",
       "    <tr>\n",
       "      <th>5</th>\n",
       "      <td>43.9360</td>\n",
       "      <td>-43.9360</td>\n",
       "    </tr>\n",
       "    <tr>\n",
       "      <th>6</th>\n",
       "      <td>3.2812</td>\n",
       "      <td>-3.2812</td>\n",
       "    </tr>\n",
       "  </tbody>\n",
       "</table>\n",
       "</div>"
      ],
      "text/plain": [
       "default           0         1\n",
       "EDUCATION                    \n",
       "0            3.0968   -3.0968\n",
       "1          305.4020 -305.4020\n",
       "2         -226.5640  226.5640\n",
       "3         -149.3596  149.3596\n",
       "4           20.2076  -20.2076\n",
       "5           43.9360  -43.9360\n",
       "6            3.2812   -3.2812"
      ]
     },
     "execution_count": 27,
     "metadata": {},
     "output_type": "execute_result"
    }
   ],
   "source": [
    "obs_edu = data.pivot_table(index = 'EDUCATION', columns = 'default', values = 'ID', aggfunc = 'count').fillna(0)\n",
    "exp_edu = pd.DataFrame(stats.chi2_contingency(obs_edu, correction = False)[3], columns = obs_edu.columns, index = obs_edu.index)\n",
    "\n",
    "diff_edu = obs_edu - exp_edu\n",
    "diff_edu"
   ]
  },
  {
   "cell_type": "markdown",
   "metadata": {},
   "source": [
    "В полученной таблице получились одинаковые по модулю значения разностей, но не будем забывать, что начальные значения имеют разный масштаб. Посмотрим на графики распределений:"
   ]
  },
  {
   "cell_type": "code",
   "execution_count": 28,
   "metadata": {
    "collapsed": false
   },
   "outputs": [
    {
     "data": {
      "image/png": "[encoded data removed]",
      "text/plain": [
       "<matplotlib.figure.Figure at 0x1044c70d0>"
      ]
     },
     "metadata": {},
     "output_type": "display_data"
    }
   ],
   "source": [
    "pylab.figure(figsize=(12,5))\n",
    "pylab.grid(1)\n",
    "\n",
    "pylab.subplot(1,2,1)\n",
    "plt.bar(np.arange(obs_edu.shape[0]), obs_edu[0], color = 'b', alpha = 0.5, label = 'Observed')\n",
    "plt.bar(np.arange(exp_edu.shape[0]), exp_edu[0], color = 'g', alpha = 0.5, label = 'Expected')\n",
    "plt.xlabel('EDUCATION in Credit was repaid')\n",
    "plt.legend()\n",
    "\n",
    "pylab.subplot(1,2,2)\n",
    "plt.bar(np.arange(obs_edu.shape[0]), obs_edu[1], color = 'b', alpha = 0.5, label = 'Observed')\n",
    "plt.bar(np.arange(exp_edu.shape[0]), exp_edu[1], color = 'g', alpha = 0.5, label = 'Expected')\n",
    "plt.xlabel('EDUCATION in Credit was NOT repaid')\n",
    "\n",
    "plt.legend()\n",
    "pyplot.show()"
   ]
  },
  {
   "cell_type": "markdown",
   "metadata": {},
   "source": [
    "##### Как бы вы предложили модифицировать таблицу так, чтобы привести значения ячеек к одному масштабу не потеряв в интерпретируемости? \n",
    "\n",
    "#### Ответ:\n",
    "Чтобы сравнивать значения обеих групп необходимо привести их к одному масштабу не потеряв в интерпретируемости => прологарифмируем значения распределений EDUCATION и оценим результат."
   ]
  },
  {
   "cell_type": "code",
   "execution_count": 29,
   "metadata": {
    "collapsed": false
   },
   "outputs": [
    {
     "data": {
      "text/html": [
       "<div>\n",
       "<table border=\"1\" class=\"dataframe\">\n",
       "  <thead>\n",
       "    <tr style=\"text-align: right;\">\n",
       "      <th>default</th>\n",
       "      <th>0</th>\n",
       "      <th>1</th>\n",
       "    </tr>\n",
       "    <tr>\n",
       "      <th>EDUCATION</th>\n",
       "      <th></th>\n",
       "      <th></th>\n",
       "    </tr>\n",
       "  </thead>\n",
       "  <tbody>\n",
       "    <tr>\n",
       "      <th>0</th>\n",
       "      <td>0.250001</td>\n",
       "      <td>-inf</td>\n",
       "    </tr>\n",
       "    <tr>\n",
       "      <th>1</th>\n",
       "      <td>0.036377</td>\n",
       "      <td>-0.139763</td>\n",
       "    </tr>\n",
       "    <tr>\n",
       "      <th>2</th>\n",
       "      <td>-0.020953</td>\n",
       "      <td>0.070462</td>\n",
       "    </tr>\n",
       "    <tr>\n",
       "      <th>3</th>\n",
       "      <td>-0.039785</td>\n",
       "      <td>0.128679</td>\n",
       "    </tr>\n",
       "    <tr>\n",
       "      <th>4</th>\n",
       "      <td>0.191407</td>\n",
       "      <td>-1.357586</td>\n",
       "    </tr>\n",
       "    <tr>\n",
       "      <th>5</th>\n",
       "      <td>0.183556</td>\n",
       "      <td>-1.235730</td>\n",
       "    </tr>\n",
       "    <tr>\n",
       "      <th>6</th>\n",
       "      <td>0.079375</td>\n",
       "      <td>-0.343696</td>\n",
       "    </tr>\n",
       "  </tbody>\n",
       "</table>\n",
       "</div>"
      ],
      "text/plain": [
       "default           0         1\n",
       "EDUCATION                    \n",
       "0          0.250001      -inf\n",
       "1          0.036377 -0.139763\n",
       "2         -0.020953  0.070462\n",
       "3         -0.039785  0.128679\n",
       "4          0.191407 -1.357586\n",
       "5          0.183556 -1.235730\n",
       "6          0.079375 -0.343696"
      ]
     },
     "execution_count": 29,
     "metadata": {},
     "output_type": "execute_result"
    }
   ],
   "source": [
    "l_obs_edu = obs_edu.apply(np.log)\n",
    "l_exp_edu = exp_edu.apply(np.log)\n",
    "\n",
    "l_diff_edu = l_obs_edu - l_exp_edu\n",
    "l_diff_edu"
   ]
  },
  {
   "cell_type": "markdown",
   "metadata": {},
   "source": [
    "Теперь отличия ожидаемых значений от наблюдаемых стали отличаться не только по направлению, но и по размеру. Убедимся в этом на графике (обратите внимание на масштаб по оси Y)"
   ]
  },
  {
   "cell_type": "code",
   "execution_count": 30,
   "metadata": {
    "collapsed": false
   },
   "outputs": [
    {
     "data": {
      "image/png": "[encoded data removed]",
      "text/plain": [
       "<matplotlib.figure.Figure at 0x115064f90>"
      ]
     },
     "metadata": {},
     "output_type": "display_data"
    }
   ],
   "source": [
    "pylab.figure(figsize=(12,5))\n",
    "pylab.grid(1)\n",
    "\n",
    "pylab.subplot(1,2,1)\n",
    "plt.bar(np.arange(l_obs_edu.shape[0]), l_obs_edu[0], color = 'b', alpha = 0.5, label = 'Observed')\n",
    "plt.bar(np.arange(l_exp_edu.shape[0]), l_exp_edu[0], color = 'g', alpha = 0.5, label = 'Expected')\n",
    "plt.xlabel('EDUCATION in Credit was repaid')\n",
    "plt.legend()\n",
    "\n",
    "pylab.subplot(1,2,2)\n",
    "plt.bar(np.arange(l_obs_edu.shape[0]), l_obs_edu[1], color = 'b', alpha = 0.5, label = 'Observed')\n",
    "plt.bar(np.arange(l_exp_edu.shape[0]), l_exp_edu[1], color = 'g', alpha = 0.5, label = 'Expected')\n",
    "plt.xlabel('EDUCATION in Credit was NOT repaid')\n",
    "\n",
    "plt.legend()\n",
    "pyplot.show()"
   ]
  },
  {
   "cell_type": "markdown",
   "metadata": {},
   "source": [
    "##### Наличие какого образования является наилучшим индикатором того, что человек отдаст долг? Наоборот, не отдаст долг?\n",
    "\n",
    "До тех пор, пока клиент не вернул кредит, мы можем оценивать только ожидаемое распределение => для ответа на этот вопрос сравним отмасштабированные ожидаемые распределения образования по двум группам."
   ]
  },
  {
   "cell_type": "code",
   "execution_count": 31,
   "metadata": {
    "collapsed": false
   },
   "outputs": [
    {
     "data": {
      "image/png": "[encoded data removed]",
      "text/plain": [
       "<matplotlib.figure.Figure at 0x114762e90>"
      ]
     },
     "metadata": {},
     "output_type": "display_data"
    }
   ],
   "source": [
    "pylab.figure(figsize=(8,5))\n",
    "pylab.grid(1)\n",
    "\n",
    "plt.bar(np.arange(exp_edu.shape[0]), l_exp_edu[0], color = 'g', alpha = 0.5, label = 'Credit was repaid')\n",
    "plt.bar(np.arange(exp_edu.shape[0]), l_exp_edu[1], color = 'r', alpha = 0.5, label = 'Credit was NOT repaid')\n",
    "plt.xlabel('EDUCATION category')\n",
    "plt.legend()\n",
    "pyplot.show()"
   ]
  },
  {
   "cell_type": "markdown",
   "metadata": {},
   "source": [
    "На графике видно, что вид разница между ожидаемыми распределениями очень похожа. Чтобы это проверить, посмотрим на разность значений по категориям образования:"
   ]
  },
  {
   "cell_type": "code",
   "execution_count": 32,
   "metadata": {
    "collapsed": false
   },
   "outputs": [
    {
     "name": "stdout",
     "output_type": "stream",
     "text": [
      "EDUCATION\n",
      "0   -1.258687\n",
      "1   -1.258687\n",
      "2   -1.258687\n",
      "3   -1.258687\n",
      "4   -1.258687\n",
      "5   -1.258687\n",
      "6   -1.258687\n",
      "dtype: float64\n"
     ]
    }
   ],
   "source": [
    "print (l_exp_edu[1] - l_exp_edu[0])"
   ]
  },
  {
   "cell_type": "markdown",
   "metadata": {},
   "source": [
    "Докажем равенство распределений проверкой нулевой гипотезы о том, что они равны, против альтернативы, что это не так.\n",
    "\n",
    "Для этого мы воспользуемся критерием хи-квадрат, т.к. соблюдены следующие условия: \n",
    "\n",
    "$-$ нужно, чтобы выборки были достаточно большими: n ≥ 40. \n",
    "необходимо, чтобы ожидаемое количество элементов в каждой ячейке таблицы было меньше 5($\\frac{n_{i+}n_{+j}}{n} &lt;5$), не более, чем в 20% ячеек."
   ]
  },
  {
   "cell_type": "code",
   "execution_count": 52,
   "metadata": {
    "collapsed": false
   },
   "outputs": [
    {
     "name": "stdout",
     "output_type": "stream",
     "text": [
      "H0 False:  13\n",
      "H0 True:  8\n"
     ]
    }
   ],
   "source": [
    "edu = data.EDUCATION.unique()\n",
    "\n",
    "results = {}\n",
    "for edu1 in edu:\n",
    "    for edu2 in edu:\n",
    "        if edu2 <= edu1:\n",
    "            continue\n",
    "            \n",
    "        tmp_df = data[data.EDUCATION.isin([edu1, edu2])]\\\n",
    "        .pivot_table(index = 'EDUCATION', columns = 'default', values = 'ID', aggfunc = 'count').fillna(0)\n",
    "        results[(edu1, edu2)] = stats.chi2_contingency(tmp_df, correction=False)[1]\n",
    "        \n",
    "edu_df = pd.DataFrame.from_dict(results, orient = 'index')\n",
    "edu_df.columns = ['p_value']\n",
    "print \"H0 False: \",edu_corr_df[edu_df.p_value < 0.05].shape[0]\n",
    "print \"H0 True: \",edu_corr_df[edu_df.p_value >= 0.05].shape[0]"
   ]
  },
  {
   "cell_type": "markdown",
   "metadata": {},
   "source": [
    "Казалось бы, можно отвергнуть нулевую гипотезу о том, что распределения не равны, но интерпретация числа достигаемых уровней значимости, меньших α=0.05, некорректна, поскольку не сделана поправка на множественную проверку гипотез.\n",
    "\n",
    "В основе критерия xи-квадрат лежит предположение о том, что если верна нулевая гипотеза, то дискретное биномиальное распределение данных по клеткам в таблице сопряженности может быть аппроксимировано с помощью непрерывного распределения xи-квадрат. Однако точность такой аппроксимации существенно зависит от суммарного количества наблюдений и их распределения в этой таблице (отсюда и ограничения при использовании критерия xи-квадрат).\n",
    "\n",
    "Одним из способов коррекции точности аппроксимации является поправка Йетса на непрерывность. Эта поправка заключается в вычитании константы 0.5 из каждого модуля разности наблюденного Oi и ожидаемого Ei значений.\n",
    "\n",
    "Проведем те же сравнения, но с поправкой: scipy.stats.chi2_contingency(subtable, correction=True)"
   ]
  },
  {
   "cell_type": "code",
   "execution_count": 54,
   "metadata": {
    "collapsed": false
   },
   "outputs": [
    {
     "name": "stdout",
     "output_type": "stream",
     "text": [
      "H0 False:  10\n",
      "H0 True:  11\n"
     ]
    }
   ],
   "source": [
    "results_corr = {}\n",
    "for edu1 in edu:\n",
    "    for edu2 in edu:\n",
    "        if edu2 <= edu1:\n",
    "            continue\n",
    "            \n",
    "        tmp_df = data[data.EDUCATION.isin([edu1, edu2])]\\\n",
    "        .pivot_table(index = 'EDUCATION', columns = 'default', values = 'ID', aggfunc = 'count').fillna(0)\n",
    "        results_corr[(edu1, edu2)] = stats.chi2_contingency(tmp_df, correction=True)[1]\n",
    "        \n",
    "edu_corr_df = pd.DataFrame.from_dict(results_corr, orient = 'index')\n",
    "edu_corr_df.columns = ['p_value']\n",
    "print \"H0 False: \",edu_corr_df[edu_corr_df.p_value < 0.05].shape[0]\n",
    "print \"H0 True: \",edu_corr_df[edu_corr_df.p_value >= 0.05].shape[0]"
   ]
  },
  {
   "cell_type": "markdown",
   "metadata": {},
   "source": [
    "=> В случае с поправкой победила нулевая гипотеза и мы можем принять на уровне значимости 0.05, что распределения по образованию в обоих группах равны.\n",
    "\n",
    "#### Ответ:\n",
    "В данном случае можно сделать вывод, что от образования не зависит вернет клиент кредит или нет. Наибольшее ожидаемое количество людей, которые вернут кредит, как и тех, кто его не вернет, имеют образование бакалавра (EDUCATION = 2)."
   ]
  },
  {
   "cell_type": "markdown",
   "metadata": {},
   "source": [
    "----------------------------------------------------------------------------------------------------------------------\n",
    "\n",
    "#### Задание 4:\n",
    "\n",
    "##### Проверьте, как связан семейный статус с индикатором дефолта: нужно предложить меру, по которой можно измерить возможную связь этих переменных и посчитать ее значение.\n",
    "\n",
    "Применение критерия xи-квадрат для этих данных не обосновано, потому что не выполняются условия, при которых этот критерий дает правильные результаты.\n",
    "\n",
    "Так как оба признака - MARRIAGE и default являются категориальными, но первый - не бинарный, то проверим их взаимосвязь с помощью коэффициента корреляции Крамера.\n",
    "\n",
    "Этот коэффициент корню из специальным образом нормированного значения статистики хи-квадрат. Коэффициент Крамера принимает значения в интервале от 0 до 1. 0 соответствует полному отсутствию взаимосвязи, а 1 — полному совпадению переменных X1 и X2.\n",
    "\n",
    "Если значение коэффициента достаточно велико, то нулевая гипотеза о независимости признаков должна быть отклонена в пользу двусторонней альтернативы.\n",
    "\n",
    "Построим сводную таблицу для признака MARRIAGE и показателя default: "
   ]
  },
  {
   "cell_type": "code",
   "execution_count": 55,
   "metadata": {
    "collapsed": false
   },
   "outputs": [
    {
     "data": {
      "text/html": [
       "<div>\n",
       "<table border=\"1\" class=\"dataframe\">\n",
       "  <thead>\n",
       "    <tr style=\"text-align: right;\">\n",
       "      <th>default</th>\n",
       "      <th>0</th>\n",
       "      <th>1</th>\n",
       "    </tr>\n",
       "    <tr>\n",
       "      <th>MARRIAGE</th>\n",
       "      <th></th>\n",
       "      <th></th>\n",
       "    </tr>\n",
       "  </thead>\n",
       "  <tbody>\n",
       "    <tr>\n",
       "      <th>0</th>\n",
       "      <td>49</td>\n",
       "      <td>5</td>\n",
       "    </tr>\n",
       "    <tr>\n",
       "      <th>1</th>\n",
       "      <td>10453</td>\n",
       "      <td>3206</td>\n",
       "    </tr>\n",
       "    <tr>\n",
       "      <th>2</th>\n",
       "      <td>12623</td>\n",
       "      <td>3341</td>\n",
       "    </tr>\n",
       "    <tr>\n",
       "      <th>3</th>\n",
       "      <td>239</td>\n",
       "      <td>84</td>\n",
       "    </tr>\n",
       "  </tbody>\n",
       "</table>\n",
       "</div>"
      ],
      "text/plain": [
       "default       0     1\n",
       "MARRIAGE             \n",
       "0            49     5\n",
       "1         10453  3206\n",
       "2         12623  3341\n",
       "3           239    84"
      ]
     },
     "execution_count": 55,
     "metadata": {},
     "output_type": "execute_result"
    }
   ],
   "source": [
    "mar = data.pivot_table(index = 'MARRIAGE', columns = 'default', values = 'ID', aggfunc = 'count').fillna(0)\n",
    "mar.head()"
   ]
  },
  {
   "cell_type": "code",
   "execution_count": 62,
   "metadata": {
    "collapsed": false
   },
   "outputs": [
    {
     "data": {
      "image/png": "[encoded data removed]",
      "text/plain": [
       "<matplotlib.figure.Figure at 0x11660c990>"
      ]
     },
     "metadata": {},
     "output_type": "display_data"
    }
   ],
   "source": [
    "# Посмотрим на функции плотности распределения\n",
    "\n",
    "pylab.figure(figsize=(10,5))\n",
    "pylab.grid(1)\n",
    "\n",
    "pylab.subplot(1,2,1)\n",
    "plt.bar(np.arange(mar.shape[0]), mar[0], color = 'b', alpha = 0.7)\n",
    "plt.xlabel('MARRIAGE in Credit was repaid')\n",
    "\n",
    "pylab.subplot(1,2,2)\n",
    "plt.bar(np.arange(mar.shape[0]), mar[1], color = 'g', alpha = 0.7)\n",
    "plt.xlabel('MARRIAGE in Credit was NOT repaid')\n",
    "pyplot.show()"
   ]
  },
  {
   "cell_type": "code",
   "execution_count": 56,
   "metadata": {
    "collapsed": false
   },
   "outputs": [
    {
     "name": "stdout",
     "output_type": "stream",
     "text": [
      "Cramer's V value: 0.0344782036628\n"
     ]
    }
   ],
   "source": [
    "def cramers_stat(confusion_matrix):\n",
    "    chi2 = stats.chi2_contingency(confusion_matrix)[0]\n",
    "    n = confusion_matrix.sum()\n",
    "    return np.sqrt(chi2 / (n*(min(confusion_matrix.shape)-1)))\n",
    "\n",
    "print \"Cramer's V value:\",cramers_stat(mar.values)"
   ]
  },
  {
   "cell_type": "markdown",
   "metadata": {},
   "source": [
    "#### Ответ 4:\n",
    "\n",
    "Так как коэффициент Крамера имеет небольшое значение, можно сказать, что связь между этими переменными довольно слабая."
   ]
  },
  {
   "cell_type": "markdown",
   "metadata": {
    "collapsed": true
   },
   "source": [
    "----------------------------------------------------------------------------------------------------------------------\n",
    "\n",
    "#### Задание 5: \n",
    "##### Относительно двух групп людей вернувших и не вернувших кредит проверьте следующие гипотезы: a) о равенстве медианных значений возрастов людей b) о равенстве распределений с помощью одного из подходящих непараметрических критериев проверки равенства средних. Значимы ли полученные результаты с практической точки зрения?\n",
    "\n",
    "Задание 5(a):\n",
    "Как и в случае задания 1(a) lля ответа на вопрос используем оценку с помощью доверительных интервалов на основе бутстрепа\n",
    "Сначала посмотрим на данные: оценим размер выборок значений возраста для тех, кто вернул кредит, и значений возраста для тех, кто не вернул кредит."
   ]
  },
  {
   "cell_type": "code",
   "execution_count": 35,
   "metadata": {
    "collapsed": false
   },
   "outputs": [
    {
     "data": {
      "image/png": "[encoded data removed]",
      "text/plain": [
       "<matplotlib.figure.Figure at 0x116b1c910>"
      ]
     },
     "metadata": {},
     "output_type": "display_data"
    }
   ],
   "source": [
    "# посмотрим на гистограммы и медианы обоих распределений\n",
    "pylab.figure(figsize=(12,5))\n",
    "pylab.grid(1)\n",
    "\n",
    "pylab.subplot(1,2,1)\n",
    "plt.boxplot([data[data.default == 0].AGE.values, data[data.default == 1].AGE.values], positions = [1,2])\n",
    "plt.xticks([1, 2], ['Credit was repaid', 'Credit was NOT repaid'])\n",
    "plt.title('Median values of AGE compare')\n",
    "\n",
    "pylab.subplot(1,2,2)\n",
    "pyplot.hist(data[data.default == 0].AGE.values, bins = 50,  alpha=0.7, label='Credit was repaid')\n",
    "pyplot.hist(data[data.default == 1].AGE.values, bins = 50,  alpha=0.7, label='Credit was NOT repaid')\n",
    "plt.title('Hist: AGE compare')\n",
    "pyplot.legend(loc='upper right')\n",
    "pyplot.show()\n",
    "\n",
    "plt.show()"
   ]
  },
  {
   "cell_type": "markdown",
   "metadata": {},
   "source": [
    "На данных графиках видно, что медианы выборок могут совпадать. Для проверки этой гипотезы построим доверительные интервалы на основе бутстрепа для медиан обоих распределений:"
   ]
  },
  {
   "cell_type": "code",
   "execution_count": 36,
   "metadata": {
    "collapsed": false
   },
   "outputs": [
    {
     "name": "stdout",
     "output_type": "stream",
     "text": [
      "95% confidence interval for the \"Credit was repaid\" median: [ 34.  34.]\n",
      "95% confidence interval for the \"Credit was not repaid\" median: [ 34.  35.]\n"
     ]
    }
   ],
   "source": [
    "np.random.seed(0)\n",
    "\n",
    "ret_median_scores = map(np.median, get_bootstrap_samples(data[data.default == 0].AGE.values, 1000))\n",
    "non_ret_median_scores = map(np.median, get_bootstrap_samples(data[data.default == 1].AGE.values, 1000))\n",
    "\n",
    "print '95% confidence interval for the \"Credit was repaid\" median:',  stat_intervals(ret_median_scores, 0.05)\n",
    "print '95% confidence interval for the \"Credit was not repaid\" median:',  stat_intervals(non_ret_median_scores, 0.05)"
   ]
  },
  {
   "cell_type": "markdown",
   "metadata": {},
   "source": [
    "Несмотря на то, что интервалы пересекаются, нельзя сказать, что $H_{0}$ всегда принимается:\n",
    "\n",
    "$H_0\\colon \\theta_{1} = \\theta_{2}$ \n",
    "\n",
    "$H_1\\colon \\theta_{1} \\neq \\theta_{2}$ \n",
    "\n",
    "Чтобы проверить эту гипотезу нужно построить доверительный интервал для разности параметров $\\theta_{1}$ и $\\theta_{2}$ - в этом случае мы проверяем нулевую гипотезу, что разность равна 0 против двусторонней альтернативы, что это не так. "
   ]
  },
  {
   "cell_type": "code",
   "execution_count": 37,
   "metadata": {
    "collapsed": false
   },
   "outputs": [
    {
     "name": "stdout",
     "output_type": "stream",
     "text": [
      "95% confidence interval for the difference between medians [ 0.  1.]\n"
     ]
    }
   ],
   "source": [
    "delta_median_scores = map(lambda x: x[1] - x[0], zip(ret_median_scores, non_ret_median_scores))\n",
    "print \"95% confidence interval for the difference between medians\",  stat_intervals(delta_median_scores, 0.05)"
   ]
  },
  {
   "cell_type": "markdown",
   "metadata": {},
   "source": [
    "#### Ответ 5(a): \n",
    "\n",
    "95% доверительный интервал содержит 0, значит мы можем принять нулевую гипотезу на уровне значимости 0.05 и утверждать, что медианы равны.\n",
    "\n",
    "#### Задание 5(b): \n",
    "Даже если медианы равны, это еще не гарантирует, что распределения тоже равны. Проверим гипотезу о равенстве распределений.\n",
    "\n",
    "По гистрограммам видно, что это распределения имеют разные параметры, несмотря на совпадение медиан. Убедимся в этом с помощью перестановочного критерия для независимых выборок. Проверим нулевую гипотезу\n",
    "\n",
    "$H_0\\colon F_{X_1}(x) = F_{X_2}(x)$ - что функции распределения значений возраста для тех, кто вернул кредит и для тех, кто его не вернул одинаковы (совпадают)\n",
    "\n",
    "Против двусторонней альтернативы: \n",
    "\n",
    "$H_1\\colon F_{X_1}(x) = F_{X_2}(x + \\Delta), \\Delta\\neq 0$, что это не так."
   ]
  },
  {
   "cell_type": "code",
   "execution_count": 57,
   "metadata": {
    "collapsed": false
   },
   "outputs": [
    {
     "name": "stdout",
     "output_type": "stream",
     "text": [
      "Statistical significance p-value: 0.019\n"
     ]
    }
   ],
   "source": [
    "print 'Statistical significance p-value:', permutation_test(data[data.default == 0].AGE.values, \n",
    "                                                            data[data.default == 1].AGE.values, max_permutations = 3000) "
   ]
  },
  {
   "cell_type": "markdown",
   "metadata": {},
   "source": [
    "#### Ответ 5(b) : \n",
    "\n",
    "Так как значение p-value намного меньше $\\alpha$ - мы можем отвергнуть гипотезу о равенстве распределений на уровне значимости 0.05.\n",
    "\n",
    "##### Размер эффекта:\n",
    "\n",
    "В отличии от Задания 1(b) - степень отклонения данных от нулевой гипотезы в данном случае меньше => больше вероятности что такую оценку размера эффекта, какая получена по выборке, можно было получить случайно. Значит можно предположить, что практическая значимость данного результат меньше.\n",
    "\n",
    "Но размер выборки достаточно большой, поэтому, даже если нулевая гипотеза отвергнута, это еще не значит, что полученный эффект имеет какую-то практическую значимость, её нужно оценивать отдельно. \n",
    "\n",
    "\n",
    "##### Практическая значимоcть результатов:\n",
    "\n",
    "Результат (a): практическая значимость данного результата в том, что в обоих группах половина клиентов находится в возрасте до 34 лет, а половина после => можно предположить, что возраст \"среднего\" клиента, взявшего кредит, равен 34 годам.\n",
    "\n",
    "А в случае (b) мы установили, что обе выборки имеют похожий вид распределения, но имеют сдвиг относительно друг друга на некоторую величину => данный результат не несет большого смысла сам по себе, как и в случае с Заданием 1(b)."
   ]
  },
  {
   "cell_type": "code",
   "execution_count": null,
   "metadata": {
    "collapsed": true
   },
   "outputs": [],
   "source": []
  }
 ],
 "metadata": {
  "anaconda-cloud": {},
  "kernelspec": {
   "display_name": "Python [conda root]",
   "language": "python",
   "name": "conda-root-py"
  },
  "language_info": {
   "codemirror_mode": {
    "name": "ipython",
    "version": 2
   },
   "file_extension": ".py",
   "mimetype": "text/x-python",
   "name": "python",
   "nbconvert_exporter": "python",
   "pygments_lexer": "ipython2",
   "version": "2.7.12"
  }
 },
 "nbformat": 4,
 "nbformat_minor": 1
}
