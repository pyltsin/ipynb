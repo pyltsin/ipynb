{
 "cells": [
  {
   "cell_type": "markdown",
   "metadata": {},
   "source": [
    "## Задание 1:\n",
    "    Размер кредитного лимита (LIMIT_BAL).     \n",
    "    В двух группах, тех людей, кто вернул кредит (default = 0) и тех, кто его не вернул (default = 1) проверьте гипотезы: \n",
    "    a) о равенстве медианных значений кредитного лимита с помощью подходящей интервальной оценки \n",
    "    b) о равенстве распределений с помощью одного из подходящих непараметрических критериев проверки равенства средних. \n",
    "    \n",
    "    Значимы ли полученные результаты с практической точки зрения ?"
   ]
  },
  {
   "cell_type": "code",
   "execution_count": 1,
   "metadata": {
    "collapsed": true
   },
   "outputs": [],
   "source": [
    "import pandas as pd\n",
    "import numpy as np\n",
    "from statsmodels.stats.weightstats import *\n",
    "from scipy.stats import ttest_ind\n",
    "import scipy"
   ]
  },
  {
   "cell_type": "code",
   "execution_count": 2,
   "metadata": {
    "collapsed": false
   },
   "outputs": [
    {
     "name": "stdout",
     "output_type": "stream",
     "text": [
      "Populating the interactive namespace from numpy and matplotlib\n"
     ]
    }
   ],
   "source": [
    "%pylab inline"
   ]
  },
  {
   "cell_type": "code",
   "execution_count": 3,
   "metadata": {
    "collapsed": false
   },
   "outputs": [
    {
     "data": {
      "text/html": [
       "<div>\n",
       "<table border=\"1\" class=\"dataframe\">\n",
       "  <thead>\n",
       "    <tr style=\"text-align: right;\">\n",
       "      <th></th>\n",
       "      <th>ID</th>\n",
       "      <th>LIMIT_BAL</th>\n",
       "      <th>SEX</th>\n",
       "      <th>EDUCATION</th>\n",
       "      <th>MARRIAGE</th>\n",
       "      <th>AGE</th>\n",
       "      <th>PAY_0</th>\n",
       "      <th>PAY_2</th>\n",
       "      <th>PAY_3</th>\n",
       "      <th>PAY_4</th>\n",
       "      <th>...</th>\n",
       "      <th>BILL_AMT4</th>\n",
       "      <th>BILL_AMT5</th>\n",
       "      <th>BILL_AMT6</th>\n",
       "      <th>PAY_AMT1</th>\n",
       "      <th>PAY_AMT2</th>\n",
       "      <th>PAY_AMT3</th>\n",
       "      <th>PAY_AMT4</th>\n",
       "      <th>PAY_AMT5</th>\n",
       "      <th>PAY_AMT6</th>\n",
       "      <th>default</th>\n",
       "    </tr>\n",
       "  </thead>\n",
       "  <tbody>\n",
       "    <tr>\n",
       "      <th>0</th>\n",
       "      <td>1</td>\n",
       "      <td>20000</td>\n",
       "      <td>2</td>\n",
       "      <td>2</td>\n",
       "      <td>1</td>\n",
       "      <td>24</td>\n",
       "      <td>2</td>\n",
       "      <td>2</td>\n",
       "      <td>0</td>\n",
       "      <td>0</td>\n",
       "      <td>...</td>\n",
       "      <td>0</td>\n",
       "      <td>0</td>\n",
       "      <td>0</td>\n",
       "      <td>0</td>\n",
       "      <td>689</td>\n",
       "      <td>0</td>\n",
       "      <td>0</td>\n",
       "      <td>0</td>\n",
       "      <td>0</td>\n",
       "      <td>1</td>\n",
       "    </tr>\n",
       "    <tr>\n",
       "      <th>1</th>\n",
       "      <td>2</td>\n",
       "      <td>120000</td>\n",
       "      <td>2</td>\n",
       "      <td>2</td>\n",
       "      <td>2</td>\n",
       "      <td>26</td>\n",
       "      <td>0</td>\n",
       "      <td>2</td>\n",
       "      <td>0</td>\n",
       "      <td>0</td>\n",
       "      <td>...</td>\n",
       "      <td>3272</td>\n",
       "      <td>3455</td>\n",
       "      <td>3261</td>\n",
       "      <td>0</td>\n",
       "      <td>1000</td>\n",
       "      <td>1000</td>\n",
       "      <td>1000</td>\n",
       "      <td>0</td>\n",
       "      <td>2000</td>\n",
       "      <td>1</td>\n",
       "    </tr>\n",
       "    <tr>\n",
       "      <th>2</th>\n",
       "      <td>3</td>\n",
       "      <td>90000</td>\n",
       "      <td>2</td>\n",
       "      <td>2</td>\n",
       "      <td>2</td>\n",
       "      <td>34</td>\n",
       "      <td>0</td>\n",
       "      <td>0</td>\n",
       "      <td>0</td>\n",
       "      <td>0</td>\n",
       "      <td>...</td>\n",
       "      <td>14331</td>\n",
       "      <td>14948</td>\n",
       "      <td>15549</td>\n",
       "      <td>1518</td>\n",
       "      <td>1500</td>\n",
       "      <td>1000</td>\n",
       "      <td>1000</td>\n",
       "      <td>1000</td>\n",
       "      <td>5000</td>\n",
       "      <td>0</td>\n",
       "    </tr>\n",
       "    <tr>\n",
       "      <th>3</th>\n",
       "      <td>4</td>\n",
       "      <td>50000</td>\n",
       "      <td>2</td>\n",
       "      <td>2</td>\n",
       "      <td>1</td>\n",
       "      <td>37</td>\n",
       "      <td>0</td>\n",
       "      <td>0</td>\n",
       "      <td>0</td>\n",
       "      <td>0</td>\n",
       "      <td>...</td>\n",
       "      <td>28314</td>\n",
       "      <td>28959</td>\n",
       "      <td>29547</td>\n",
       "      <td>2000</td>\n",
       "      <td>2019</td>\n",
       "      <td>1200</td>\n",
       "      <td>1100</td>\n",
       "      <td>1069</td>\n",
       "      <td>1000</td>\n",
       "      <td>0</td>\n",
       "    </tr>\n",
       "    <tr>\n",
       "      <th>4</th>\n",
       "      <td>5</td>\n",
       "      <td>50000</td>\n",
       "      <td>1</td>\n",
       "      <td>2</td>\n",
       "      <td>1</td>\n",
       "      <td>57</td>\n",
       "      <td>0</td>\n",
       "      <td>0</td>\n",
       "      <td>0</td>\n",
       "      <td>0</td>\n",
       "      <td>...</td>\n",
       "      <td>20940</td>\n",
       "      <td>19146</td>\n",
       "      <td>19131</td>\n",
       "      <td>2000</td>\n",
       "      <td>36681</td>\n",
       "      <td>10000</td>\n",
       "      <td>9000</td>\n",
       "      <td>689</td>\n",
       "      <td>679</td>\n",
       "      <td>0</td>\n",
       "    </tr>\n",
       "  </tbody>\n",
       "</table>\n",
       "<p>5 rows × 25 columns</p>\n",
       "</div>"
      ],
      "text/plain": [
       "   ID  LIMIT_BAL  SEX  EDUCATION  MARRIAGE  AGE  PAY_0  PAY_2  PAY_3  PAY_4  \\\n",
       "0   1      20000    2          2         1   24      2      2      0      0   \n",
       "1   2     120000    2          2         2   26      0      2      0      0   \n",
       "2   3      90000    2          2         2   34      0      0      0      0   \n",
       "3   4      50000    2          2         1   37      0      0      0      0   \n",
       "4   5      50000    1          2         1   57      0      0      0      0   \n",
       "\n",
       "    ...     BILL_AMT4  BILL_AMT5  BILL_AMT6  PAY_AMT1  PAY_AMT2  PAY_AMT3  \\\n",
       "0   ...             0          0          0         0       689         0   \n",
       "1   ...          3272       3455       3261         0      1000      1000   \n",
       "2   ...         14331      14948      15549      1518      1500      1000   \n",
       "3   ...         28314      28959      29547      2000      2019      1200   \n",
       "4   ...         20940      19146      19131      2000     36681     10000   \n",
       "\n",
       "   PAY_AMT4  PAY_AMT5  PAY_AMT6  default  \n",
       "0         0         0         0        1  \n",
       "1      1000         0      2000        1  \n",
       "2      1000      1000      5000        0  \n",
       "3      1100      1069      1000        0  \n",
       "4      9000       689       679        0  \n",
       "\n",
       "[5 rows x 25 columns]"
      ]
     },
     "execution_count": 3,
     "metadata": {},
     "output_type": "execute_result"
    }
   ],
   "source": [
    "data = pd.read_csv('credit_card_default_analysis.csv', sep = ',')\n",
    "data.head()"
   ]
  },
  {
   "cell_type": "code",
   "execution_count": 4,
   "metadata": {
    "collapsed": false
   },
   "outputs": [
    {
     "data": {
      "text/plain": [
       "(30000, 25)"
      ]
     },
     "execution_count": 4,
     "metadata": {},
     "output_type": "execute_result"
    }
   ],
   "source": [
    "data.shape"
   ]
  },
  {
   "cell_type": "markdown",
   "metadata": {},
   "source": [
    "Разбиваем данные на 2 группы: LIMIT_BAL_0 - вернул кредит; LIMIT_BAL_0 - не вернул."
   ]
  },
  {
   "cell_type": "code",
   "execution_count": 5,
   "metadata": {
    "collapsed": false
   },
   "outputs": [
    {
     "data": {
      "text/plain": [
       "(23364,)"
      ]
     },
     "execution_count": 5,
     "metadata": {},
     "output_type": "execute_result"
    }
   ],
   "source": [
    "LIMIT_BAL_0 = data[(data.default == 0)].LIMIT_BAL # вернул кредит\n",
    "LIMIT_BAL_1 = data[(data.default == 1)].LIMIT_BAL # не вернул кредит\n",
    "LIMIT_BAL_0.shape"
   ]
  },
  {
   "cell_type": "code",
   "execution_count": 47,
   "metadata": {
    "collapsed": false
   },
   "outputs": [
    {
     "data": {
      "text/plain": [
       "<matplotlib.text.Text at 0x12668910>"
      ]
     },
     "execution_count": 47,
     "metadata": {},
     "output_type": "execute_result"
    },
    {
     "data": {
      "image/png": "iVBORw0KGgoAAAANSUhEUgAABPcAAAKvCAYAAAAGFypiAAAABHNCSVQICAgIfAhkiAAAAAlwSFlz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\nVQHWI6awAAAAAElFTkSuQmCC\n",
      "text/plain": [
       "<matplotlib.figure.Figure at 0xdd73950>"
      ]
     },
     "metadata": {},
     "output_type": "display_data"
    }
   ],
   "source": [
    "pyplot.figure(figsize(15,8))\n",
    "pyplot.subplot(121)\n",
    "LIMIT_BAL_0.plot.hist(color = 'g')\n",
    "pyplot.xlabel('LIMIT_BAL_0')\n",
    "\n",
    "pyplot.subplot(122)\n",
    "LIMIT_BAL_1.plot.hist()\n",
    "pyplot.xlabel('LIMIT_BAL_1')"
   ]
  },
  {
   "cell_type": "markdown",
   "metadata": {},
   "source": [
    "* Распределения несимметричные, отличны от нормального.\n",
    "* Чаще всего возвращают и не возвращают небольшие кредиты."
   ]
  },
  {
   "cell_type": "markdown",
   "metadata": {},
   "source": [
    "Выборки независимые."
   ]
  },
  {
   "cell_type": "markdown",
   "metadata": {},
   "source": [
    "  **a) Проверка гипотезы:**\n",
    "  \n",
    "    H0: равенство медианных значений кредитных лимитов\n",
    "    H1: медианы не равны"
   ]
  },
  {
   "cell_type": "markdown",
   "metadata": {},
   "source": [
    "Интервальная оценка медианы методом Bootstrap: "
   ]
  },
  {
   "cell_type": "code",
   "execution_count": 7,
   "metadata": {
    "collapsed": true
   },
   "outputs": [],
   "source": [
    "def get_bootstrap_samples(data, n_samples):\n",
    "    # генерируем матрицу индексов подвыборок из генеральной выборки\n",
    "    indices = np.random.randint(0, len(data), (n_samples, len(data))) \n",
    "    # массив выборок\n",
    "    samples = data[indices]\n",
    "    return samples\n",
    "\n",
    "# Вычисление интервальной оценки между alpha / 2 и 1 - alpha / 2.\n",
    "def stat_intervals(stat, alpha):\n",
    "    boundaries = np.percentile(stat, [100 * alpha / 2., 100 * (1 - alpha / 2.)])\n",
    "    return boundaries"
   ]
  },
  {
   "cell_type": "code",
   "execution_count": 8,
   "metadata": {
    "collapsed": false
   },
   "outputs": [
    {
     "name": "stdout",
     "output_type": "stream",
     "text": [
      "95% confidence interval for the LIMIT_BAL_0 median repair time: [ 150000.  150000.]\n",
      "95% confidence interval for the LIMIT_BAL_1 median repair time: [ 80000.  90000.]\n"
     ]
    }
   ],
   "source": [
    "np.random.seed(0)\n",
    "# Рассчитываем медианы для каждой из 1000 подвыборок\n",
    "LIMIT_BAL_0_scores = map(np.median, get_bootstrap_samples(LIMIT_BAL_0.values, 1000))\n",
    "LIMIT_BAL_1_scores = map(np.median, get_bootstrap_samples(LIMIT_BAL_1.values, 1000))\n",
    "\n",
    "print \"95% confidence interval for the LIMIT_BAL_0 median repair time:\",  stat_intervals(LIMIT_BAL_0_scores, 0.05)\n",
    "print \"95% confidence interval for the LIMIT_BAL_1 median repair time:\",  stat_intervals(LIMIT_BAL_1_scores, 0.05)"
   ]
  },
  {
   "cell_type": "markdown",
   "metadata": {},
   "source": [
    "**Выводы:** \n",
    "- Интервалы не содержат 0, т.е. по ним можно делать выводу о гипотезе.\n",
    "- Гипотеза H0 отвергается. Медианные значения кредитного лимита для вернувших и не вернувших кредит не совпадают."
   ]
  },
  {
   "cell_type": "markdown",
   "metadata": {},
   "source": [
    " **b) Проверка гипотезы:**\n",
    "  \n",
    "    H0: равенство распределений кредитных лимитов\n",
    "    H1: распределения не равны"
   ]
  },
  {
   "cell_type": "markdown",
   "metadata": {},
   "source": [
    "Для сравнения двух распределний воспользуемся непараметрическим ранговым критерием Манна-Уитни для независимых выборок."
   ]
  },
  {
   "cell_type": "code",
   "execution_count": 9,
   "metadata": {
    "collapsed": false
   },
   "outputs": [
    {
     "data": {
      "text/plain": [
       "MannwhitneyuResult(statistic=59257217.5, pvalue=6.1277429091116516e-190)"
      ]
     },
     "execution_count": 9,
     "metadata": {},
     "output_type": "execute_result"
    }
   ],
   "source": [
    "stats.mannwhitneyu(LIMIT_BAL_0.values, LIMIT_BAL_1.values)"
   ]
  },
  {
   "cell_type": "markdown",
   "metadata": {},
   "source": [
    "**Выводы:** \n",
    "- pvalue=6.1277e-190, что значительно меньше 0.05. \n",
    "- Гипотеза H0 отвергается. Распределения кредитного лимита для вернувших и не вернувших кредит не совпадают.\n",
    "- С практической точки зрения результаты также значимы. Судя по доверительным интервалам медиана возвращаемого кредита  выше не возвращаемого. Из этого можно сделать вывод, что выдавать кредиты на большие суммы менее рискованно. "
   ]
  },
  {
   "cell_type": "markdown",
   "metadata": {},
   "source": [
    "## Задание 2:\n",
    "Пол (SEX): Проверьте гипотезу о том, что гендерный состав группы людей вернувших и не вернувших кредит отличается. Хорошо, если вы предоставите несколько различных решений этой задачи (с помощью доверительного интервала и подходящего статистического критерия)"
   ]
  },
  {
   "cell_type": "code",
   "execution_count": 10,
   "metadata": {
    "collapsed": false
   },
   "outputs": [
    {
     "data": {
      "text/plain": [
       "2    18112\n",
       "1    11888\n",
       "Name: SEX, dtype: int64"
      ]
     },
     "execution_count": 10,
     "metadata": {},
     "output_type": "execute_result"
    }
   ],
   "source": [
    "data.SEX.value_counts()"
   ]
  },
  {
   "cell_type": "markdown",
   "metadata": {},
   "source": [
    "Для применения в этом задании критериев для долей введем в датасет столбец SEX_bin, в котором 0 - мужской пол, 1 - женский. "
   ]
  },
  {
   "cell_type": "code",
   "execution_count": 11,
   "metadata": {
    "collapsed": false
   },
   "outputs": [],
   "source": [
    "data['SEX_bin'] = [int(sex/2) for sex in data.SEX.values]"
   ]
  },
  {
   "cell_type": "code",
   "execution_count": 12,
   "metadata": {
    "collapsed": true
   },
   "outputs": [],
   "source": [
    "SEX_0 = data[(data.default == 0)].SEX_bin # Гендерное распределение людей, которые вернули кредит\n",
    "SEX_1 = data[(data.default == 1)].SEX_bin # Гендерное распределение людей, которые не вернули кредит"
   ]
  },
  {
   "cell_type": "markdown",
   "metadata": {},
   "source": [
    "Построим гистограммы гендерного распределения вернувших кредит (SEX_0) и не вернувших (SEX_1): \n",
    "* столбец ближе к 0 - мужчины;\n",
    "* столбец ближе к 1 - женщины"
   ]
  },
  {
   "cell_type": "code",
   "execution_count": 20,
   "metadata": {
    "collapsed": false,
    "scrolled": true
   },
   "outputs": [
    {
     "data": {
      "text/plain": [
       "<matplotlib.text.Text at 0xe439510>"
      ]
     },
     "execution_count": 20,
     "metadata": {},
     "output_type": "execute_result"
    },
    {
     "data": {
      "image/png": "iVBORw0KGgoAAAANSUhEUgAABPAAAAKvCAYAAADkyzEbAAAABHNCSVQICAgIfAhkiAAAAAlwSFlz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\nAADomAAPAAAAADomwAMAAACAjv1/ISQf94V3cNUAAAAASUVORK5CYII=\n",
      "text/plain": [
       "<matplotlib.figure.Figure at 0xe154070>"
      ]
     },
     "metadata": {},
     "output_type": "display_data"
    }
   ],
   "source": [
    "pyplot.figure(figsize(15,8))\n",
    "pyplot.subplot(121)\n",
    "SEX_0.plot.hist(bins =2, color = 'g')\n",
    "pyplot.xlabel('SEX_0')\n",
    "\n",
    "pyplot.subplot(122)\n",
    "SEX_1.plot.hist(bins =2)\n",
    "pyplot.xlabel('SEX_1')"
   ]
  },
  {
   "cell_type": "markdown",
   "metadata": {},
   "source": [
    "   **Гипотезы:**\n",
    "  \n",
    "    H0: гендерный состав группы людей вернувших и не вернувших кредит отличается\n",
    "    H1: не отличается"
   ]
  },
  {
   "cell_type": "markdown",
   "metadata": {},
   "source": [
    "**Доверительный интервал для разности долей (независимые выборки):**"
   ]
  },
  {
   "cell_type": "code",
   "execution_count": 21,
   "metadata": {
    "collapsed": true
   },
   "outputs": [],
   "source": [
    "def proportions_confint_diff_ind(sample1, sample2, alpha = 0.05):    \n",
    "    z = scipy.stats.norm.ppf(1 - alpha / 2.)  # Квантиль при alpha = 0.05 \n",
    "    p1 = float(sum(sample1)) / len(sample1)\n",
    "    p2 = float(sum(sample2)) / len(sample2)\n",
    "    \n",
    "    left_boundary = (p1 - p2) - z * np.sqrt(p1 * (1 - p1)/ len(sample1) + p2 * (1 - p2)/ len(sample2))\n",
    "    right_boundary = (p1 - p2) + z * np.sqrt(p1 * (1 - p1)/ len(sample1) + p2 * (1 - p2)/ len(sample2))\n",
    "    \n",
    "    return (left_boundary, right_boundary)"
   ]
  },
  {
   "cell_type": "code",
   "execution_count": 22,
   "metadata": {
    "collapsed": false
   },
   "outputs": [
    {
     "name": "stdout",
     "output_type": "stream",
     "text": [
      "confidence interval: [0.033635, 0.060548]\n"
     ]
    }
   ],
   "source": [
    "print \"confidence interval: [%f, %f]\" % proportions_confint_diff_ind(SEX_0, SEX_1)"
   ]
  },
  {
   "cell_type": "markdown",
   "metadata": {},
   "source": [
    "**Выводы:**\n",
    "- Доверительный интервал не включает 0, значит можно сделать вывод о гипотезе.\n",
    "- Доверительный интервал лежит в положительной области, но близок к 0. Гендерный состав не отличается.\n",
    "- Гипотеза H0 отвергается, гендерный состав группы людей вернувших и не вернувших кредит не отличается."
   ]
  },
  {
   "cell_type": "code",
   "execution_count": 53,
   "metadata": {
    "collapsed": false
   },
   "outputs": [
    {
     "name": "stdout",
     "output_type": "stream",
     "text": [
      "0.614149974319 0.567058468957\n"
     ]
    }
   ],
   "source": [
    "p1 = float(sum(SEX_0.values)) / len(SEX_0.values)\n",
    "p2 = float(sum(SEX_1.values)) / len(SEX_1.values)\n",
    "print p1,p2"
   ]
  },
  {
   "cell_type": "markdown",
   "metadata": {},
   "source": [
    "**Z-критерий для разности долей (независимые выборки):**"
   ]
  },
  {
   "cell_type": "code",
   "execution_count": 25,
   "metadata": {
    "collapsed": true
   },
   "outputs": [],
   "source": [
    "def proportions_diff_z_stat_ind(sample1, sample2):\n",
    "    n1 = len(sample1)\n",
    "    n2 = len(sample2)\n",
    "    \n",
    "    p1 = float(sum(sample1)) / n1\n",
    "    p2 = float(sum(sample2)) / n2 \n",
    "    P = float(p1*n1 + p2*n2) / (n1 + n2)\n",
    "    \n",
    "    return (p1 - p2) / np.sqrt(P * (1 - P) * (1. / n1 + 1. / n2))"
   ]
  },
  {
   "cell_type": "markdown",
   "metadata": {},
   "source": [
    "Достигаемый уровень значимости pvalue для двусторонней и односторонних альтернатив:"
   ]
  },
  {
   "cell_type": "code",
   "execution_count": 26,
   "metadata": {
    "collapsed": true
   },
   "outputs": [],
   "source": [
    "def proportions_diff_z_test(z_stat, alternative = 'two-sided'):\n",
    "    if alternative not in ('two-sided', 'less', 'greater'):\n",
    "        raise ValueError(\"alternative not recognized\\n\"\n",
    "                         \"should be 'two-sided', 'less' or 'greater'\")\n",
    "    \n",
    "    if alternative == 'two-sided':\n",
    "        return 2 * (1 - scipy.stats.norm.cdf(np.abs(z_stat)))\n",
    "    \n",
    "    if alternative == 'less':\n",
    "        return scipy.stats.norm.cdf(z_stat)\n",
    "\n",
    "    if alternative == 'greater':\n",
    "        return 1 - scipy.stats.norm.cdf(z_stat)"
   ]
  },
  {
   "cell_type": "code",
   "execution_count": 28,
   "metadata": {
    "collapsed": false
   },
   "outputs": [
    {
     "name": "stdout",
     "output_type": "stream",
     "text": [
      "p-value: 0.000000\n"
     ]
    }
   ],
   "source": [
    "print \"p-value: %f\" % proportions_diff_z_test(proportions_diff_z_stat_ind(SEX_0.values, SEX_1.values))"
   ]
  },
  {
   "cell_type": "markdown",
   "metadata": {},
   "source": [
    "**Выводы:**\n",
    "- pvalue=0, что значительно меньше 0.05.\n",
    "- Гипотеза H0 отвергается, гендерный состав группы людей вернувших и не вернувших кредит не отличается."
   ]
  },
  {
   "cell_type": "markdown",
   "metadata": {},
   "source": [
    "## Задание 3:\n",
    "Образование (EDUCATION): Проверьте гипотезу о том, что образование не влияет на то, вернет ли человек долг. Предложите способ наглядного представления разницы в ожидаемых и наблюдаемых значениях количества человек вернувших и не вернувших долг. Например, составьте таблицу сопряженности \"образование\" на \"возврат долга\", где значением ячейки была бы разность между наблюдаемым и ожидаемым количеством человек. Как бы вы предложили модифицировать таблицу так, чтобы привести значения ячеек к одному масштабу не потеряв в интерпретируемости ? Наличие какого образования является наилучшим индикатором того, что человек отдаст долг ? наоборт, не отдаст долг ?"
   ]
  },
  {
   "cell_type": "code",
   "execution_count": 29,
   "metadata": {
    "collapsed": false
   },
   "outputs": [
    {
     "data": {
      "text/plain": [
       "2    14030\n",
       "1    10585\n",
       "3     4917\n",
       "5      280\n",
       "4      123\n",
       "6       51\n",
       "0       14\n",
       "Name: EDUCATION, dtype: int64"
      ]
     },
     "execution_count": 29,
     "metadata": {},
     "output_type": "execute_result"
    }
   ],
   "source": [
    "data.EDUCATION.value_counts()"
   ]
  },
  {
   "cell_type": "markdown",
   "metadata": {},
   "source": [
    "Составим таблицу сопряженности для расчета критерия chi-2:\n",
    "- столбцы - уровень образования;\n",
    "- строки - 1-я строка: вернул кредит, 2-я: не вернул кредит;\n",
    "- ячейки таблицы - количество пересечений события в строке и столбце."
   ]
  },
  {
   "cell_type": "code",
   "execution_count": 30,
   "metadata": {
    "collapsed": false
   },
   "outputs": [
    {
     "data": {
      "text/plain": [
       "array([[   14,  8549, 10700,  3680,   116,   262,    43],\n",
       "       [    0,  2036,  3330,  1237,     7,    18,     8]])"
      ]
     },
     "execution_count": 30,
     "metadata": {},
     "output_type": "execute_result"
    }
   ],
   "source": [
    "educ_nums = len(data.EDUCATION.value_counts())\n",
    "sparse_education = np.zeros([2,educ_nums]).astype(int)\n",
    "for i in range(educ_nums):\n",
    "        dflt = data[(data.EDUCATION == i)].default.value_counts()\n",
    "        sparse_education[0,i] = dflt[0]\n",
    "        if len(dflt) > 1: sparse_education[1,i] = dflt[1]\n",
    "        else: sparse_education[1,i] = 0\n",
    "\n",
    "sparse_education"
   ]
  },
  {
   "cell_type": "markdown",
   "metadata": {},
   "source": [
    "Визуализируем эту таблицу:"
   ]
  },
  {
   "cell_type": "code",
   "execution_count": 31,
   "metadata": {
    "collapsed": false
   },
   "outputs": [
    {
     "data": {
      "text/plain": [
       "<matplotlib.legend.Legend at 0xe519e10>"
      ]
     },
     "execution_count": 31,
     "metadata": {},
     "output_type": "execute_result"
    },
    {
     "data": {
      "image/png": "iVBORw0KGgoAAAANSUhEUgAABOUAAAKvCAYAAAAlTHu3AAAABHNCSVQICAgIfAhkiAAAAAlwSFlz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\n",
      "text/plain": [
       "<matplotlib.figure.Figure at 0xe2e3030>"
      ]
     },
     "metadata": {},
     "output_type": "display_data"
    }
   ],
   "source": [
    "fig, ax = pyplot.subplots()\n",
    "index = np.arange(educ_nums)\n",
    "bar_width = 0.5\n",
    "opacity = 0.5\n",
    "rects1 = pyplot.bar(index, sparse_education[0,:], bar_width,\n",
    "                 alpha=opacity,\n",
    "                 color='b',\n",
    "                 label='default = 0')\n",
    "\n",
    "rects2 = pyplot.bar(index, sparse_education[1,:], bar_width,\n",
    "                 alpha=opacity,\n",
    "                 color='r',\n",
    "                 label='default = 1')\n",
    "\n",
    "pyplot.xlabel('EDUCATION')\n",
    "pyplot.ylabel('default_Scores')\n",
    "pyplot.xticks(index + bar_width / 2, ('0', '1', '2', '3', '4', '5', '6'))\n",
    "pyplot.legend()"
   ]
  },
  {
   "cell_type": "markdown",
   "metadata": {},
   "source": [
    "* Чаще других кредиты берут: 1 = магистр; 2 = бакалавр; 3 = выпускник школы"
   ]
  },
  {
   "cell_type": "markdown",
   "metadata": {},
   "source": [
    "**Гипотезы:**\n",
    "\n",
    "    H0: образование не влияет на то, вернет ли человек долг;\n",
    "    H1: влияет."
   ]
  },
  {
   "cell_type": "markdown",
   "metadata": {},
   "source": [
    "Критерий Хи-квадрат:"
   ]
  },
  {
   "cell_type": "code",
   "execution_count": 32,
   "metadata": {
    "collapsed": false
   },
   "outputs": [
    {
     "data": {
      "text/plain": [
       "(163.21655786997073,\n",
       " 1.2332626245415605e-32,\n",
       " 6,\n",
       " array([[  1.09032000e+01,   8.24359800e+03,   1.09265640e+04,\n",
       "           3.82935960e+03,   9.57924000e+01,   2.18064000e+02,\n",
       "           3.97188000e+01],\n",
       "        [  3.09680000e+00,   2.34140200e+03,   3.10343600e+03,\n",
       "           1.08764040e+03,   2.72076000e+01,   6.19360000e+01,\n",
       "           1.12812000e+01]]))"
      ]
     },
     "execution_count": 32,
     "metadata": {},
     "output_type": "execute_result"
    }
   ],
   "source": [
    "chi2_stats = scipy.stats.chi2_contingency(sparse_education)\n",
    "chi2_stats"
   ]
  },
  {
   "cell_type": "markdown",
   "metadata": {},
   "source": [
    "**Вывод:**\n",
    "* pvalue=1.2333e-32, что значительно меньше 0.05\n",
    "* Гипотеза H0 отвергается, образование влияет на то, вернет ли человек долг"
   ]
  },
  {
   "cell_type": "markdown",
   "metadata": {},
   "source": [
    "**Таблица сопряженности \"образование\" на \"возврат долга\", где значением ячейки - разность между наблюдаемым и ожидаемым количеством человек (первая строка: вернули кредит, вторая строка: не вернули кредит):**"
   ]
  },
  {
   "cell_type": "code",
   "execution_count": 33,
   "metadata": {
    "collapsed": false
   },
   "outputs": [
    {
     "data": {
      "text/plain": [
       "array([[   3.0968,  305.402 , -226.564 , -149.3596,   20.2076,   43.936 ,\n",
       "           3.2812],\n",
       "       [  -3.0968, -305.402 ,  226.564 ,  149.3596,  -20.2076,  -43.936 ,\n",
       "          -3.2812]])"
      ]
     },
     "execution_count": 33,
     "metadata": {},
     "output_type": "execute_result"
    }
   ],
   "source": [
    "sparse_education_expected = (sparse_education - chi2_stats[3])\n",
    "sparse_education_expected"
   ]
  },
  {
   "cell_type": "markdown",
   "metadata": {},
   "source": [
    "* Значения полученной таблицы можно нормировать в диапазоне [-1,1]"
   ]
  },
  {
   "cell_type": "markdown",
   "metadata": {},
   "source": [
    "Зависимости количества возвращаемых (default = 0) и не возвращаемых (default = 1) кредитов от образования для наблюдаемых и ожидаемых величин:"
   ]
  },
  {
   "cell_type": "code",
   "execution_count": 34,
   "metadata": {
    "collapsed": false
   },
   "outputs": [
    {
     "data": {
      "text/plain": [
       "<matplotlib.legend.Legend at 0xe5e0c90>"
      ]
     },
     "execution_count": 34,
     "metadata": {},
     "output_type": "execute_result"
    },
    {
     "data": {
      "image/png": "iVBORw0KGgoAAAANSUhEUgAABOkAAAK9CAYAAABxbjipAAAABHNCSVQICAgIfAhkiAAAAAlwSFlz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\nEREREREJmJp0IiIiIiIiIiIiAft/V1SeIv25oRQAAAAASUVORK5CYII=\n",
      "text/plain": [
       "<matplotlib.figure.Figure at 0xe3d1a90>"
      ]
     },
     "metadata": {},
     "output_type": "display_data"
    }
   ],
   "source": [
    "pyplot.figure(figsize(15,8))\n",
    "pyplot.subplot(121)\n",
    "pyplot.plot(sparse_education[0,:], label = 'observable')\n",
    "pyplot.plot(chi2_stats[3][0,:], label = 'expected')\n",
    "pyplot.title('default = 0')\n",
    "pyplot.xlabel('Education')\n",
    "pyplot.ylabel('Nums')\n",
    "pyplot.legend()\n",
    "\n",
    "pyplot.subplot(122)\n",
    "pyplot.plot(sparse_education[1,:], label = 'observable')\n",
    "pyplot.plot(chi2_stats[3][1,:], label = 'expected')\n",
    "pyplot.title('default = 1')\n",
    "pyplot.xlabel('Education')\n",
    "pyplot.legend()"
   ]
  },
  {
   "cell_type": "markdown",
   "metadata": {},
   "source": [
    "**Выводы:**\n",
    "* Наличие степени магистра является наилучшим индикатором того, что человек отдаст долг.\n",
    "* Наличие степени бакалавра является наилучшим индикатором того, что человек не отдаст долг."
   ]
  },
  {
   "cell_type": "markdown",
   "metadata": {},
   "source": [
    "## Задание 4:\n",
    "Семейное положение (MARRIAGE): Проверьте, как связан семейный статус с индикатором дефолта: нужно предложить меру, по которой можно измерить возможную связь этих переменных и посчитать ее значение."
   ]
  },
  {
   "cell_type": "code",
   "execution_count": 35,
   "metadata": {
    "collapsed": false
   },
   "outputs": [
    {
     "data": {
      "text/plain": [
       "2    15964\n",
       "1    13659\n",
       "3      323\n",
       "0       54\n",
       "Name: MARRIAGE, dtype: int64"
      ]
     },
     "execution_count": 35,
     "metadata": {},
     "output_type": "execute_result"
    }
   ],
   "source": [
    "data.MARRIAGE.value_counts()"
   ]
  },
  {
   "cell_type": "markdown",
   "metadata": {},
   "source": [
    "Статусы 0 и 3 (отказываются отвечать и нет данных) можно не рассматривать, так как их количество несопоставимо с количество двух других статусов."
   ]
  },
  {
   "cell_type": "markdown",
   "metadata": {},
   "source": [
    "Составим таблицу сопряженности для двух статусов: 1 и 2"
   ]
  },
  {
   "cell_type": "code",
   "execution_count": 36,
   "metadata": {
    "collapsed": false
   },
   "outputs": [
    {
     "data": {
      "text/plain": [
       "array([[10453, 12623],\n",
       "       [ 3206,  3341]])"
      ]
     },
     "execution_count": 36,
     "metadata": {},
     "output_type": "execute_result"
    }
   ],
   "source": [
    "sparse_marriage = np.zeros([2,2]).astype(int)\n",
    "for i in range(2):\n",
    "        dflt = data[(data.MARRIAGE == i+1)].default.value_counts()\n",
    "        sparse_marriage[0,i] = dflt[0]\n",
    "        sparse_marriage[1,i] = dflt[1]\n",
    "\n",
    "sparse_marriage"
   ]
  },
  {
   "cell_type": "markdown",
   "metadata": {},
   "source": [
    "Визаулизируем таблицу сопряженности:"
   ]
  },
  {
   "cell_type": "code",
   "execution_count": 46,
   "metadata": {
    "collapsed": false
   },
   "outputs": [
    {
     "data": {
      "image/png": "iVBORw0KGgoAAAANSUhEUgAAAscAAAFkCAYAAADMlpbzAAAABHNCSVQICAgIfAhkiAAAAAlwSFlz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\n",
      "text/plain": [
       "<matplotlib.figure.Figure at 0xddefe50>"
      ]
     },
     "metadata": {},
     "output_type": "display_data"
    }
   ],
   "source": [
    "pyplot.figure(figsize(8,4))\n",
    "index = np.arange(2)\n",
    "bar_width = 0.3\n",
    "opacity = 0.7\n",
    "rects1 = pyplot.bar(index, sparse_marriage[0,:], bar_width,\n",
    "                 alpha=opacity,\n",
    "                 color='b',\n",
    "                 label='default = 0')\n",
    "\n",
    "rects2 = pyplot.bar(index + bar_width, sparse_marriage[1,:], bar_width,\n",
    "                 alpha=opacity,\n",
    "                 color='r',\n",
    "                 label='default = 1')\n",
    "\n",
    "pyplot.ylabel('default_Scores')\n",
    "pyplot.xticks(index + bar_width, ('marriage', 'not marriage'))\n",
    "pyplot.legend()\n",
    "pyplot.show()"
   ]
  },
  {
   "cell_type": "markdown",
   "metadata": {},
   "source": [
    "Поскольку проверяемые выборки бинарны: в браке \\ не в браке; вернул кредит \\ не вернул. То предлагается использовать критерий Хи-квадрат."
   ]
  },
  {
   "cell_type": "markdown",
   "metadata": {},
   "source": [
    "**Гипотезы:**\n",
    "\n",
    "    H0: семейный статус не влияет на то, вернет ли человек долг;\n",
    "    H1: влияет."
   ]
  },
  {
   "cell_type": "code",
   "execution_count": 152,
   "metadata": {
    "collapsed": false
   },
   "outputs": [
    {
     "data": {
      "text/plain": [
       "(27.509409092957899,\n",
       " 1.5633210355976673e-07,\n",
       " 1,\n",
       " array([[ 10640.21483307,  12435.78516693],\n",
       "        [  3018.78516693,   3528.21483307]]))"
      ]
     },
     "execution_count": 152,
     "metadata": {},
     "output_type": "execute_result"
    }
   ],
   "source": [
    "chi2_stats = scipy.stats.chi2_contingency(sparse_marriage)\n",
    "chi2_stats"
   ]
  },
  {
   "cell_type": "markdown",
   "metadata": {},
   "source": [
    "Расчет коэффициента Крамера - мера взаимосвязи двух категориальных критериев:"
   ]
  },
  {
   "cell_type": "code",
   "execution_count": 61,
   "metadata": {
    "collapsed": false
   },
   "outputs": [
    {
     "data": {
      "text/plain": [
       "29623"
      ]
     },
     "execution_count": 61,
     "metadata": {},
     "output_type": "execute_result"
    }
   ],
   "source": [
    "n = sum(sparse_marriage)\n",
    "n"
   ]
  },
  {
   "cell_type": "code",
   "execution_count": 62,
   "metadata": {
    "collapsed": false
   },
   "outputs": [
    {
     "data": {
      "text/plain": [
       "0.0013111535981248626"
      ]
     },
     "execution_count": 62,
     "metadata": {},
     "output_type": "execute_result"
    }
   ],
   "source": [
    "VKramer = np.sqrt(chi2_stats[0]/(n*(sparse_marriage.min() - 1)))\n",
    "VKramer                                                      "
   ]
  },
  {
   "cell_type": "markdown",
   "metadata": {},
   "source": [
    "**Вывод:**\n",
    "* pvalue=1.5633e-07, что значительно меньше 0.05\n",
    "* Гипотеза H0 отвергается, семейный статус влияет на то, вернет ли человек долг\n",
    "* Влияние семейного статуса очень маленькое."
   ]
  },
  {
   "cell_type": "markdown",
   "metadata": {},
   "source": [
    "## Задание 5:\n",
    "Возраст (AGE): Относительно двух групп людей вернувших и не вернувших кредит проверьте следующие гипотезы: \n",
    "\n",
    "    a) о равенстве медианных значений возрастов людей \n",
    "    b) о равенстве распределений с помощью одного из подходящих непараметрических критериев проверки равенства средних. \n",
    "    \n",
    "    Значимы ли полученные результаты с практической точки зрения ?"
   ]
  },
  {
   "cell_type": "markdown",
   "metadata": {},
   "source": [
    "**a) равенство медианных значений возрастов людей **"
   ]
  },
  {
   "cell_type": "markdown",
   "metadata": {},
   "source": [
    "Разбиваем данные на 2 группы: AGE_0 - вернул кредит; AGE_1 - не вернул."
   ]
  },
  {
   "cell_type": "code",
   "execution_count": 49,
   "metadata": {
    "collapsed": false
   },
   "outputs": [
    {
     "data": {
      "text/plain": [
       "(23364,)"
      ]
     },
     "execution_count": 49,
     "metadata": {},
     "output_type": "execute_result"
    }
   ],
   "source": [
    "AGE_0 = data[(data.default == 0)].AGE # вернул кредит\n",
    "AGE_1 = data[(data.default == 1)].AGE # не вернул кредит\n",
    "LIMIT_BAL_0.shape"
   ]
  },
  {
   "cell_type": "code",
   "execution_count": 50,
   "metadata": {
    "collapsed": false
   },
   "outputs": [
    {
     "data": {
      "text/plain": [
       "<matplotlib.text.Text at 0xea19f30>"
      ]
     },
     "execution_count": 50,
     "metadata": {},
     "output_type": "execute_result"
    },
    {
     "data": {
      "image/png": "iVBORw0KGgoAAAANSUhEUgAABOUAAAKvCAYAAAAlTHu3AAAABHNCSVQICAgIfAhkiAAAAAlwSFlz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\n",
      "text/plain": [
       "<matplotlib.figure.Figure at 0xebca090>"
      ]
     },
     "metadata": {},
     "output_type": "display_data"
    }
   ],
   "source": [
    "pyplot.figure(figsize(15,8))\n",
    "pyplot.subplot(121)\n",
    "AGE_0.plot.hist(color = 'g')\n",
    "pyplot.xlabel('AGE_0')\n",
    "\n",
    "pyplot.subplot(122)\n",
    "AGE_1.plot.hist()\n",
    "pyplot.xlabel('AGE_1')"
   ]
  },
  {
   "cell_type": "markdown",
   "metadata": {},
   "source": [
    "* Распределения несимметричные, отличны от нормального.\n",
    "* В возрасте от 20 до 40 не возвращают примерно одинаковое количество людей и их большинство."
   ]
  },
  {
   "cell_type": "markdown",
   "metadata": {},
   "source": [
    "**Проверка гипотезы:**\n",
    "  \n",
    "    H0: равенство медианных значений возрастов людей\n",
    "    H1: медианы не равны"
   ]
  },
  {
   "cell_type": "markdown",
   "metadata": {},
   "source": [
    "Интервальная оценка медианы методом Bootstrap: "
   ]
  },
  {
   "cell_type": "code",
   "execution_count": 51,
   "metadata": {
    "collapsed": false
   },
   "outputs": [
    {
     "name": "stdout",
     "output_type": "stream",
     "text": [
      "95% confidence interval for the LIMIT_BAL_0 median repair time: [ 34.  34.]\n",
      "95% confidence interval for the LIMIT_BAL_1 median repair time: [ 34.  35.]\n"
     ]
    }
   ],
   "source": [
    "np.random.seed(0)\n",
    "# Рассчитываем медианы для каждой из 1000 подвыборок\n",
    "AGE_0_scores = map(np.median, get_bootstrap_samples(AGE_0.values, 1000))\n",
    "AGE_1_scores = map(np.median, get_bootstrap_samples(AGE_1.values, 1000))\n",
    "\n",
    "print \"95% confidence interval for the LIMIT_BAL_0 median repair time:\",  stat_intervals(AGE_0_scores, 0.05)\n",
    "print \"95% confidence interval for the LIMIT_BAL_1 median repair time:\",  stat_intervals(AGE_1_scores, 0.05)"
   ]
  },
  {
   "cell_type": "markdown",
   "metadata": {},
   "source": [
    "**Выводы:** \n",
    "- Интервалы не содержат 0, т.е. по ним можно делать выводу о гипотезе.\n",
    "- Гипотеза H0 не отвергается. Медианные значения кредитного лимита для вернувших и не вернувших кредит практически совпадают."
   ]
  },
  {
   "cell_type": "markdown",
   "metadata": {},
   "source": [
    "**b) равенство распределений с помощью одного из подходящих непараметрических критериев проверки равенства средних.**"
   ]
  },
  {
   "cell_type": "markdown",
   "metadata": {},
   "source": [
    " **Проверка гипотезы:**\n",
    "  \n",
    "    H0: равенство распределений \n",
    "    H1: распределения не равны"
   ]
  },
  {
   "cell_type": "markdown",
   "metadata": {},
   "source": [
    "Для сравнения двух распределний воспользуемся непараметрическим ранговым критерием Манна-Уитни для независимых выборок."
   ]
  },
  {
   "cell_type": "code",
   "execution_count": 52,
   "metadata": {
    "collapsed": false
   },
   "outputs": [
    {
     "data": {
      "text/plain": [
       "MannwhitneyuResult(statistic=76966879.5, pvalue=0.18625177174493079)"
      ]
     },
     "execution_count": 52,
     "metadata": {},
     "output_type": "execute_result"
    }
   ],
   "source": [
    "stats.mannwhitneyu(AGE_0.values, AGE_1.values)"
   ]
  },
  {
   "cell_type": "markdown",
   "metadata": {},
   "source": [
    "**Выводы:** \n",
    "- pvalue=0.1863, что больше 0.05. \n",
    "- Гипотеза H0 не отвегается. Распределения возрастов вернувших и не вернувших кредит совпадают.\n",
    "- С практической точки зрения не обладают большой значимостью, так как сложно сделать вывод из равенства медиан. Из полученных результатов не понятно какой возрастной категории можно давать кредит с меньшим риском. "
   ]
  },
  {
   "cell_type": "code",
   "execution_count": null,
   "metadata": {
    "collapsed": true
   },
   "outputs": [],
   "source": []
  }
 ],
 "metadata": {
  "anaconda-cloud": {},
  "kernelspec": {
<<<<<<< HEAD
   "display_name": "Python 3",
   "language": "python",
   "name": "python3"
=======
   "display_name": "Python [Root]",
   "language": "python",
   "name": "Python [Root]"
>>>>>>> 70d4993a23986efe2dab590e4f207ff08233007c
  },
  "language_info": {
   "codemirror_mode": {
    "name": "ipython",
<<<<<<< HEAD
    "version": 3
=======
    "version": 2
>>>>>>> 70d4993a23986efe2dab590e4f207ff08233007c
   },
   "file_extension": ".py",
   "mimetype": "text/x-python",
   "name": "python",
   "nbconvert_exporter": "python",
<<<<<<< HEAD
   "pygments_lexer": "ipython3",
   "version": "3.6.0"
=======
   "pygments_lexer": "ipython2",
   "version": "2.7.12"
>>>>>>> 70d4993a23986efe2dab590e4f207ff08233007c
  }
 },
 "nbformat": 4,
 "nbformat_minor": 1
}
