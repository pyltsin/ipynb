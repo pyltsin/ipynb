{
 "cells": [
  {
   "cell_type": "code",
   "execution_count": 1,
   "metadata": {
    "collapsed": true
   },
   "outputs": [],
   "source": [
    "import pandas as pd\n",
    "import numpy as np\n",
    "from itertools import combinations\n",
    "from scipy import stats\n",
    "\n",
    "from scipy.stats import pearsonr\n",
    "from statsmodels.sandbox.stats.multicomp import multipletests "
   ]
  },
  {
   "cell_type": "code",
   "execution_count": 2,
   "metadata": {
    "collapsed": false
   },
   "outputs": [],
   "source": [
    "frame = pd.read_csv('AUCs.txt', sep = '\\t', header = 0, parse_dates = [2])\n",
    "frame.ix[:,2]=frame.ix[:,2].apply(np.float64)"
   ]
  },
  {
   "cell_type": "code",
   "execution_count": 3,
   "metadata": {
    "collapsed": false
   },
   "outputs": [],
   "source": [
    "columnames = frame.columns.values[1:]\n",
    "comb = combinations(columnames, 2)\n",
    "data_pd = []\n",
    "for pair in comb:\n",
    "    data_pd.append((pair,stats.wilcoxon(frame[pair[0]].values-frame[pair[1]].values).pvalue))"
   ]
  },
  {
   "cell_type": "code",
   "execution_count": 4,
   "metadata": {
    "collapsed": true
   },
   "outputs": [],
   "source": [
    "cobd_CLS = pd.DataFrame.from_records(data_pd)\n",
    "cobd_CLS.columns=['name','p']"
   ]
  },
  {
   "cell_type": "code",
   "execution_count": 5,
   "metadata": {
    "collapsed": false
   },
   "outputs": [
    {
     "data": {
      "text/html": [
       "<div>\n",
       "<table border=\"1\" class=\"dataframe\">\n",
       "  <thead>\n",
       "    <tr style=\"text-align: right;\">\n",
       "      <th></th>\n",
       "      <th>name</th>\n",
       "      <th>p</th>\n",
       "    </tr>\n",
       "  </thead>\n",
       "  <tbody>\n",
       "    <tr>\n",
       "      <th>0</th>\n",
       "      <td>(C4.5, C4.5+m)</td>\n",
       "      <td>0.009633</td>\n",
       "    </tr>\n",
       "    <tr>\n",
       "      <th>1</th>\n",
       "      <td>(C4.5, C4.5+cf)</td>\n",
       "      <td>0.861262</td>\n",
       "    </tr>\n",
       "    <tr>\n",
       "      <th>2</th>\n",
       "      <td>(C4.5, C4.5+m+cf)</td>\n",
       "      <td>0.015906</td>\n",
       "    </tr>\n",
       "    <tr>\n",
       "      <th>3</th>\n",
       "      <td>(C4.5+m, C4.5+cf)</td>\n",
       "      <td>0.050301</td>\n",
       "    </tr>\n",
       "    <tr>\n",
       "      <th>4</th>\n",
       "      <td>(C4.5+m, C4.5+m+cf)</td>\n",
       "      <td>0.401534</td>\n",
       "    </tr>\n",
       "    <tr>\n",
       "      <th>5</th>\n",
       "      <td>(C4.5+cf, C4.5+m+cf)</td>\n",
       "      <td>0.022909</td>\n",
       "    </tr>\n",
       "  </tbody>\n",
       "</table>\n",
       "</div>"
      ],
      "text/plain": [
       "                   name         p\n",
       "0        (C4.5, C4.5+m)  0.009633\n",
       "1       (C4.5, C4.5+cf)  0.861262\n",
       "2     (C4.5, C4.5+m+cf)  0.015906\n",
       "3     (C4.5+m, C4.5+cf)  0.050301\n",
       "4   (C4.5+m, C4.5+m+cf)  0.401534\n",
       "5  (C4.5+cf, C4.5+m+cf)  0.022909"
      ]
     },
     "execution_count": 5,
     "metadata": {},
     "output_type": "execute_result"
    }
   ],
   "source": [
    "cobd_CLS"
   ]
  },
  {
   "cell_type": "code",
   "execution_count": 24,
   "metadata": {
    "collapsed": false
   },
   "outputs": [
    {
     "data": {
      "text/plain": [
       "name           (C4.5, C4.5+m)\n",
       "p                  0.00963298\n",
       "reject                   True\n",
       "p_corrected         0.0458182\n",
       "Name: 0, dtype: object"
      ]
     },
     "execution_count": 24,
     "metadata": {},
     "output_type": "execute_result"
    }
   ],
   "source": [
    "cobd_CLS.ix[cobd_CLS.p.argmin()]"
   ]
  },
  {
   "cell_type": "code",
   "execution_count": 6,
   "metadata": {
    "collapsed": false
   },
   "outputs": [
    {
     "data": {
      "text/html": [
       "<div>\n",
       "<table border=\"1\" class=\"dataframe\">\n",
       "  <thead>\n",
       "    <tr style=\"text-align: right;\">\n",
       "      <th></th>\n",
       "      <th>name</th>\n",
       "      <th>p</th>\n",
       "    </tr>\n",
       "  </thead>\n",
       "  <tbody>\n",
       "    <tr>\n",
       "      <th>0</th>\n",
       "      <td>(C4.5, C4.5+m)</td>\n",
       "      <td>0.009633</td>\n",
       "    </tr>\n",
       "    <tr>\n",
       "      <th>2</th>\n",
       "      <td>(C4.5, C4.5+m+cf)</td>\n",
       "      <td>0.015906</td>\n",
       "    </tr>\n",
       "    <tr>\n",
       "      <th>5</th>\n",
       "      <td>(C4.5+cf, C4.5+m+cf)</td>\n",
       "      <td>0.022909</td>\n",
       "    </tr>\n",
       "  </tbody>\n",
       "</table>\n",
       "</div>"
      ],
      "text/plain": [
       "                   name         p\n",
       "0        (C4.5, C4.5+m)  0.009633\n",
       "2     (C4.5, C4.5+m+cf)  0.015906\n",
       "5  (C4.5+cf, C4.5+m+cf)  0.022909"
      ]
     },
     "execution_count": 6,
     "metadata": {},
     "output_type": "execute_result"
    }
   ],
   "source": [
    "cobd_CLS[cobd_CLS.p<0.05]"
   ]
  },
  {
   "cell_type": "code",
   "execution_count": 7,
   "metadata": {
    "collapsed": true
   },
   "outputs": [],
   "source": [
    "reject, p_corrected, a1, a2 = multipletests(cobd_CLS.p, \n",
    "                                            alpha = 0.05, \n",
    "                                            method = 'holm')"
   ]
  },
  {
   "cell_type": "code",
   "execution_count": 8,
   "metadata": {
    "collapsed": false
   },
   "outputs": [],
   "source": [
    "cobd_CLS['reject'] = reject\n",
    "cobd_CLS['p_corrected'] = p_corrected"
   ]
  },
  {
   "cell_type": "code",
   "execution_count": 9,
   "metadata": {
    "collapsed": false
   },
   "outputs": [
    {
     "data": {
      "text/html": [
       "<div>\n",
       "<table border=\"1\" class=\"dataframe\">\n",
       "  <thead>\n",
       "    <tr style=\"text-align: right;\">\n",
       "      <th></th>\n",
       "      <th>name</th>\n",
       "      <th>p</th>\n",
       "      <th>reject</th>\n",
       "      <th>p_corrected</th>\n",
       "    </tr>\n",
       "  </thead>\n",
       "  <tbody>\n",
       "    <tr>\n",
       "      <th>0</th>\n",
       "      <td>(C4.5, C4.5+m)</td>\n",
       "      <td>0.009633</td>\n",
       "      <td>False</td>\n",
       "      <td>0.057798</td>\n",
       "    </tr>\n",
       "    <tr>\n",
       "      <th>1</th>\n",
       "      <td>(C4.5, C4.5+cf)</td>\n",
       "      <td>0.861262</td>\n",
       "      <td>False</td>\n",
       "      <td>0.861262</td>\n",
       "    </tr>\n",
       "    <tr>\n",
       "      <th>2</th>\n",
       "      <td>(C4.5, C4.5+m+cf)</td>\n",
       "      <td>0.015906</td>\n",
       "      <td>False</td>\n",
       "      <td>0.079532</td>\n",
       "    </tr>\n",
       "    <tr>\n",
       "      <th>3</th>\n",
       "      <td>(C4.5+m, C4.5+cf)</td>\n",
       "      <td>0.050301</td>\n",
       "      <td>False</td>\n",
       "      <td>0.150903</td>\n",
       "    </tr>\n",
       "    <tr>\n",
       "      <th>4</th>\n",
       "      <td>(C4.5+m, C4.5+m+cf)</td>\n",
       "      <td>0.401534</td>\n",
       "      <td>False</td>\n",
       "      <td>0.803069</td>\n",
       "    </tr>\n",
       "    <tr>\n",
       "      <th>5</th>\n",
       "      <td>(C4.5+cf, C4.5+m+cf)</td>\n",
       "      <td>0.022909</td>\n",
       "      <td>False</td>\n",
       "      <td>0.091636</td>\n",
       "    </tr>\n",
       "  </tbody>\n",
       "</table>\n",
       "</div>"
      ],
      "text/plain": [
       "                   name         p reject  p_corrected\n",
       "0        (C4.5, C4.5+m)  0.009633  False     0.057798\n",
       "1       (C4.5, C4.5+cf)  0.861262  False     0.861262\n",
       "2     (C4.5, C4.5+m+cf)  0.015906  False     0.079532\n",
       "3     (C4.5+m, C4.5+cf)  0.050301  False     0.150903\n",
       "4   (C4.5+m, C4.5+m+cf)  0.401534  False     0.803069\n",
       "5  (C4.5+cf, C4.5+m+cf)  0.022909  False     0.091636"
      ]
     },
     "execution_count": 9,
     "metadata": {},
     "output_type": "execute_result"
    }
   ],
   "source": [
    "cobd_CLS"
   ]
  },
  {
   "cell_type": "code",
   "execution_count": 10,
   "metadata": {
    "collapsed": false
   },
   "outputs": [],
   "source": [
    "reject, p_corrected, a1, a2 = multipletests(cobd_CLS.p, \n",
    "                                            alpha = 0.05, \n",
    "                                            method = 'fdr_bh') "
   ]
  },
  {
   "cell_type": "code",
   "execution_count": 11,
   "metadata": {
    "collapsed": true
   },
   "outputs": [],
   "source": [
    "cobd_CLS['reject'] = reject\n",
    "cobd_CLS['p_corrected'] = p_corrected"
   ]
  },
  {
   "cell_type": "code",
   "execution_count": 12,
   "metadata": {
    "collapsed": false
   },
   "outputs": [
    {
     "data": {
      "text/html": [
       "<div>\n",
       "<table border=\"1\" class=\"dataframe\">\n",
       "  <thead>\n",
       "    <tr style=\"text-align: right;\">\n",
       "      <th></th>\n",
       "      <th>name</th>\n",
       "      <th>p</th>\n",
       "      <th>reject</th>\n",
       "      <th>p_corrected</th>\n",
       "    </tr>\n",
       "  </thead>\n",
       "  <tbody>\n",
       "    <tr>\n",
       "      <th>0</th>\n",
       "      <td>(C4.5, C4.5+m)</td>\n",
       "      <td>0.009633</td>\n",
       "      <td>True</td>\n",
       "      <td>0.045818</td>\n",
       "    </tr>\n",
       "    <tr>\n",
       "      <th>1</th>\n",
       "      <td>(C4.5, C4.5+cf)</td>\n",
       "      <td>0.861262</td>\n",
       "      <td>False</td>\n",
       "      <td>0.861262</td>\n",
       "    </tr>\n",
       "    <tr>\n",
       "      <th>2</th>\n",
       "      <td>(C4.5, C4.5+m+cf)</td>\n",
       "      <td>0.015906</td>\n",
       "      <td>True</td>\n",
       "      <td>0.045818</td>\n",
       "    </tr>\n",
       "    <tr>\n",
       "      <th>3</th>\n",
       "      <td>(C4.5+m, C4.5+cf)</td>\n",
       "      <td>0.050301</td>\n",
       "      <td>False</td>\n",
       "      <td>0.075451</td>\n",
       "    </tr>\n",
       "    <tr>\n",
       "      <th>4</th>\n",
       "      <td>(C4.5+m, C4.5+m+cf)</td>\n",
       "      <td>0.401534</td>\n",
       "      <td>False</td>\n",
       "      <td>0.481841</td>\n",
       "    </tr>\n",
       "    <tr>\n",
       "      <th>5</th>\n",
       "      <td>(C4.5+cf, C4.5+m+cf)</td>\n",
       "      <td>0.022909</td>\n",
       "      <td>True</td>\n",
       "      <td>0.045818</td>\n",
       "    </tr>\n",
       "  </tbody>\n",
       "</table>\n",
       "</div>"
      ],
      "text/plain": [
       "                   name         p reject  p_corrected\n",
       "0        (C4.5, C4.5+m)  0.009633   True     0.045818\n",
       "1       (C4.5, C4.5+cf)  0.861262  False     0.861262\n",
       "2     (C4.5, C4.5+m+cf)  0.015906   True     0.045818\n",
       "3     (C4.5+m, C4.5+cf)  0.050301  False     0.075451\n",
       "4   (C4.5+m, C4.5+m+cf)  0.401534  False     0.481841\n",
       "5  (C4.5+cf, C4.5+m+cf)  0.022909   True     0.045818"
      ]
     },
     "execution_count": 12,
     "metadata": {},
     "output_type": "execute_result"
    }
   ],
   "source": [
    "cobd_CLS"
   ]
  },
  {
   "cell_type": "code",
   "execution_count": 13,
   "metadata": {
    "collapsed": false
   },
   "outputs": [
    {
     "data": {
      "text/plain": [
       "True     3\n",
       "False    3\n",
       "Name: reject, dtype: int64"
      ]
     },
     "execution_count": 13,
     "metadata": {},
     "output_type": "execute_result"
    }
   ],
   "source": [
    "cobd_CLS.reject.value_counts()"
   ]
  }
 ],
 "metadata": {
  "anaconda-cloud": {},
  "kernelspec": {
   "display_name": "Python [conda root]",
   "language": "python",
   "name": "conda-root-py"
  },
  "language_info": {
   "codemirror_mode": {
    "name": "ipython",
    "version": 2
   },
   "file_extension": ".py",
   "mimetype": "text/x-python",
   "name": "python",
   "nbconvert_exporter": "python",
   "pygments_lexer": "ipython2",
   "version": "2.7.12"
  }
 },
 "nbformat": 4,
 "nbformat_minor": 1
}
