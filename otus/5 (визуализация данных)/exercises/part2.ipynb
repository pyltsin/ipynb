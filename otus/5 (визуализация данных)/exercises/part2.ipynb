{
 "cells": [
  {
   "cell_type": "markdown",
   "metadata": {},
   "source": [
    "Часть 2"
   ]
  },
  {
   "cell_type": "markdown",
   "metadata": {},
   "source": [
    "Выбрать датасет и провести его анализ\n",
    "●\tВыбрать данные\n",
    "●\tСоставить список вопросов, по которым хотелось бы получить ответ в виде графиков (и расширять этот список вопросов в процессе выполнения задания)\n",
    "●\tПостроить соответствующие визуализации\n",
    "\n",
    "\n",
    "Требования к выполнению задания - сделать не менее 5 визуализаций разного типа с фильтрацией и преобразованием данных разной сложности (5 раз df[‘column_i’].plot() на каждую колонку не принимается). Нужно постараться найти в данных что-то необычное или с помощью визуализаций показать характеристики данных\n"
   ]
  },
  {
   "cell_type": "markdown",
   "metadata": {},
   "source": [
    "Данные как и предлагалось в занятии взяты из https://www.kaggle.com/usdot/flight-delays/data#flights.csv\n",
    "\n",
    "Для анализа взят только файл flight.csv\n",
    "\n",
    "В файле 31 колонка.\n",
    "\n",
    "- YEAR - Year of the Flight Trip \n",
    "- MONTH - Month of the Flight Trip\n",
    "- DAY - Day of the Flight Trip\n",
    "- DAY_OF_WEEK - Day of week of the Flight Trip\n",
    "- AIRLINE - Airline Identifier\n",
    "- FLIGHT_NUMBER- Flight Identifier\n",
    "- TAIL_NUMBER - Aircraft Identifier\n",
    "- ORIGIN_AIRPORT - Starting Airport\n",
    "- DESTINATION_AIRPORT - Destination Airport\n",
    "- SCHEDULED_DEPARTURE - Planned Departure Time\n",
    "- DEPARTURE_TIMEWHEEL_OFF - TAXI_OUT\n",
    "- DEPARTURE_DELAY Total - Delay on Departure\n",
    "- TAXI_OUT - The time duration elapsed between departure from the origin airport gate and wheels off\n",
    "- WHEELS_OFF - The time point that the aircraft's wheels leave the ground\n",
    "- SCHEDULED_TIME - Planned time amount needed for the flight trip\n",
    "- ELAPSED_TIME - AIR_TIME+TAXI_IN+TAXI_OUT\n",
    "- AIR_TIME - The time duration between wheels_off and wheels_on time\n",
    "- DISTANCE - Distance between two airports\n",
    "- WHEELS_ON - The time point that the aircraft's wheels touch on the ground\n",
    "- TAXI_IN - The time duration elapsed between wheels-on and gate arrival at the destination airport\n",
    "- SCHEDULED_ARRIVAL - Planned arrival time\n",
    "- ARRIVAL_TIME - WHEELS_ON+TAXI_IN\n",
    "- ARRIVAL_DELAY - ARRIVAL_TIME-SCHEDULED_ARRIVAL\n",
    "- DIVERTED - Aircraft landed on airport that out of schedule\n",
    "- CANCELLED -Flight Cancelled (1 = cancelled)\n",
    "- CANCELLATION_REASON - Reason for Cancellation of flight: A - Airline/Carrier; B - Weather; C - National Air System; D - Security\n",
    "- AIR_SYSTEM_DELAYDelay caused by air system\n",
    "- SECURITY_DELAY - Delay caused by security\n",
    "- AIRLINE_DELAY - Delay caused by the airline\n",
    "- LATE_AIRCRAFT_DELAY - Delay caused by aircraft\n",
    "- WEATHER_DELAY - Delay caused by weather"
   ]
  },
  {
   "cell_type": "markdown",
   "metadata": {},
   "source": [
    "Воспользуемся счастьем АИ - и переведем через google translator\n",
    "\n",
    "- ГОД - Год полета\n",
    "- МЕСЯЦ - Месяц полета\n",
    "- ДЕНЬ - День полета\n",
    "- DAY_OF_WEEK - день недели рейса\n",
    "- AIRLINE - идентификатор авиакомпании\n",
    "- FLIGHT_NUMBER- идентификатор рейса\n",
    "- TAIL_NUMBER - идентификатор самолета\n",
    "- ORIGIN_AIRPORT - Начальный аэропорт\n",
    "- DESTINATION_AIRPORT - Аэропорт назначения\n",
    "- SCHEDULED_DEPARTURE - Запланированное время отправления\n",
    "- DEPARTURE_TIME - WHEEL_OFF - TAXI_OUT\n",
    "- DEPARTURE_DELAY Итого - задержка при вылете\n",
    "- TAXI_OUT - промежуток времени, прошедший между вылетом из ворот аэропорта отправления и вылетом\n",
    "- WHEELS_OFF - момент времени, когда колеса самолета отрываются от земли\n",
    "- SCHEDULED_TIME - плановое время, необходимое для полета\n",
    "- ELAPSED_TIME - AIR_TIME + TAXI_IN + TAXI_OUT\n",
    "- AIR_TIME - продолжительность времени между wheel_off и wheel_on time\n",
    "- РАССТОЯНИЕ - Расстояние между двумя аэропортами\n",
    "- WHEELS_ON - момент времени, когда колеса самолета касаются земли.\n",
    "- TAXI_IN - промежуток времени между прибытием колес и прибытием в аэропорт назначения\n",
    "- SCHEDULED_ARRIVAL - Запланированное время прибытия\n",
    "- ARRIVAL_TIME - WHEELS_ON + TAXI_IN\n",
    "- ARRIVAL_DELAY - ARRIVAL_TIME-SCHEDULED_ARRIVAL\n",
    "- ОТКЛОНЕНО - Самолет приземлился в аэропорту, который не по расписанию\n",
    "- ОТМЕНЕНО - Полет отменен (1 = отменен)\n",
    "- CANCELLATION_REASON - Причина отмены рейса: A - Авиакомпания / Перевозчик; Б - Погода; C - Национальная воздушная система; D - Безопасность\n",
    "- AIR_SYSTEM_DELAYЗадержка вызвана воздушной системой\n",
    "- SECURITY_DELAY - Задержка, вызванная безопасностью\n",
    "- AIRLINE_DELAY - Задержка, вызванная авиакомпанией\n",
    "- LATE_AIRCRAFT_DELAY - Задержка вызвана самолетом\n",
    "- WEATHER_DELAY - Задержка, вызванная погодой"
   ]
  },
  {
   "cell_type": "code",
   "execution_count": 4,
   "metadata": {},
   "outputs": [
    {
     "name": "stdout",
     "output_type": "stream",
     "text": [
      "Populating the interactive namespace from numpy and matplotlib\n"
     ]
    }
   ],
   "source": [
    "import pandas as pd\n",
    "%pylab inline"
   ]
  },
  {
   "cell_type": "code",
   "execution_count": 5,
   "metadata": {},
   "outputs": [
    {
     "name": "stderr",
     "output_type": "stream",
     "text": [
      "C:\\javasdk\\anakonda\\lib\\site-packages\\IPython\\core\\interactiveshell.py:2785: DtypeWarning: Columns (7,8) have mixed types. Specify dtype option on import or set low_memory=False.\n",
      "  interactivity=interactivity, compiler=compiler, result=result)\n"
     ]
    }
   ],
   "source": [
    "df = pd.read_csv('../input/flights.csv', low_memory=False)"
   ]
  },
  {
   "cell_type": "markdown",
   "metadata": {},
   "source": [
    "Посмотрим на данные"
   ]
  },
  {
   "cell_type": "code",
   "execution_count": 8,
   "metadata": {},
   "outputs": [
    {
     "data": {
      "text/html": [
       "<div>\n",
       "<style scoped>\n",
       "    .dataframe tbody tr th:only-of-type {\n",
       "        vertical-align: middle;\n",
       "    }\n",
       "\n",
       "    .dataframe tbody tr th {\n",
       "        vertical-align: top;\n",
       "    }\n",
       "\n",
       "    .dataframe thead th {\n",
       "        text-align: right;\n",
       "    }\n",
       "</style>\n",
       "<table border=\"1\" class=\"dataframe\">\n",
       "  <thead>\n",
       "    <tr style=\"text-align: right;\">\n",
       "      <th></th>\n",
       "      <th>YEAR</th>\n",
       "      <th>MONTH</th>\n",
       "      <th>DAY</th>\n",
       "      <th>DAY_OF_WEEK</th>\n",
       "      <th>AIRLINE</th>\n",
       "      <th>FLIGHT_NUMBER</th>\n",
       "      <th>TAIL_NUMBER</th>\n",
       "      <th>ORIGIN_AIRPORT</th>\n",
       "      <th>DESTINATION_AIRPORT</th>\n",
       "      <th>SCHEDULED_DEPARTURE</th>\n",
       "      <th>...</th>\n",
       "      <th>ARRIVAL_TIME</th>\n",
       "      <th>ARRIVAL_DELAY</th>\n",
       "      <th>DIVERTED</th>\n",
       "      <th>CANCELLED</th>\n",
       "      <th>CANCELLATION_REASON</th>\n",
       "      <th>AIR_SYSTEM_DELAY</th>\n",
       "      <th>SECURITY_DELAY</th>\n",
       "      <th>AIRLINE_DELAY</th>\n",
       "      <th>LATE_AIRCRAFT_DELAY</th>\n",
       "      <th>WEATHER_DELAY</th>\n",
       "    </tr>\n",
       "  </thead>\n",
       "  <tbody>\n",
       "    <tr>\n",
       "      <th>0</th>\n",
       "      <td>2015</td>\n",
       "      <td>1</td>\n",
       "      <td>1</td>\n",
       "      <td>4</td>\n",
       "      <td>AS</td>\n",
       "      <td>98</td>\n",
       "      <td>N407AS</td>\n",
       "      <td>ANC</td>\n",
       "      <td>SEA</td>\n",
       "      <td>5</td>\n",
       "      <td>...</td>\n",
       "      <td>408.0</td>\n",
       "      <td>-22.0</td>\n",
       "      <td>0</td>\n",
       "      <td>0</td>\n",
       "      <td>NaN</td>\n",
       "      <td>NaN</td>\n",
       "      <td>NaN</td>\n",
       "      <td>NaN</td>\n",
       "      <td>NaN</td>\n",
       "      <td>NaN</td>\n",
       "    </tr>\n",
       "  </tbody>\n",
       "</table>\n",
       "<p>1 rows × 31 columns</p>\n",
       "</div>"
      ],
      "text/plain": [
       "   YEAR  MONTH  DAY  DAY_OF_WEEK AIRLINE  FLIGHT_NUMBER TAIL_NUMBER  \\\n",
       "0  2015      1    1            4      AS             98      N407AS   \n",
       "\n",
       "  ORIGIN_AIRPORT DESTINATION_AIRPORT  SCHEDULED_DEPARTURE      ...        \\\n",
       "0            ANC                 SEA                    5      ...         \n",
       "\n",
       "   ARRIVAL_TIME  ARRIVAL_DELAY  DIVERTED  CANCELLED  CANCELLATION_REASON  \\\n",
       "0         408.0          -22.0         0          0                  NaN   \n",
       "\n",
       "   AIR_SYSTEM_DELAY  SECURITY_DELAY  AIRLINE_DELAY  LATE_AIRCRAFT_DELAY  \\\n",
       "0               NaN             NaN            NaN                  NaN   \n",
       "\n",
       "   WEATHER_DELAY  \n",
       "0            NaN  \n",
       "\n",
       "[1 rows x 31 columns]"
      ]
     },
     "execution_count": 8,
     "metadata": {},
     "output_type": "execute_result"
    }
   ],
   "source": [
    "df.head(1)"
   ]
  },
  {
   "cell_type": "code",
   "execution_count": 13,
   "metadata": {},
   "outputs": [
    {
     "data": {
      "text/plain": [
       "(5819079, 31)"
      ]
     },
     "execution_count": 13,
     "metadata": {},
     "output_type": "execute_result"
    }
   ],
   "source": [
    "df.shape"
   ]
  },
  {
   "cell_type": "code",
   "execution_count": 14,
   "metadata": {},
   "outputs": [
    {
     "name": "stdout",
     "output_type": "stream",
     "text": [
      "<class 'pandas.core.frame.DataFrame'>\n",
      "RangeIndex: 5819079 entries, 0 to 5819078\n",
      "Data columns (total 31 columns):\n",
      "YEAR                   int64\n",
      "MONTH                  int64\n",
      "DAY                    int64\n",
      "DAY_OF_WEEK            int64\n",
      "AIRLINE                object\n",
      "FLIGHT_NUMBER          int64\n",
      "TAIL_NUMBER            object\n",
      "ORIGIN_AIRPORT         object\n",
      "DESTINATION_AIRPORT    object\n",
      "SCHEDULED_DEPARTURE    int64\n",
      "DEPARTURE_TIME         float64\n",
      "DEPARTURE_DELAY        float64\n",
      "TAXI_OUT               float64\n",
      "WHEELS_OFF             float64\n",
      "SCHEDULED_TIME         float64\n",
      "ELAPSED_TIME           float64\n",
      "AIR_TIME               float64\n",
      "DISTANCE               int64\n",
      "WHEELS_ON              float64\n",
      "TAXI_IN                float64\n",
      "SCHEDULED_ARRIVAL      int64\n",
      "ARRIVAL_TIME           float64\n",
      "ARRIVAL_DELAY          float64\n",
      "DIVERTED               int64\n",
      "CANCELLED              int64\n",
      "CANCELLATION_REASON    object\n",
      "AIR_SYSTEM_DELAY       float64\n",
      "SECURITY_DELAY         float64\n",
      "AIRLINE_DELAY          float64\n",
      "LATE_AIRCRAFT_DELAY    float64\n",
      "WEATHER_DELAY          float64\n",
      "dtypes: float64(16), int64(10), object(5)\n",
      "memory usage: 1.3+ GB\n"
     ]
    }
   ],
   "source": [
    "df.info()"
   ]
  },
  {
   "cell_type": "code",
   "execution_count": null,
   "metadata": {},
   "outputs": [],
   "source": []
  }
 ],
 "metadata": {
  "kernelspec": {
   "display_name": "Python 3",
   "language": "python",
   "name": "python3"
  },
  "language_info": {
   "codemirror_mode": {
    "name": "ipython",
    "version": 3
   },
   "file_extension": ".py",
   "mimetype": "text/x-python",
   "name": "python",
   "nbconvert_exporter": "python",
   "pygments_lexer": "ipython3",
   "version": "3.6.5"
  }
 },
 "nbformat": 4,
 "nbformat_minor": 2
}
