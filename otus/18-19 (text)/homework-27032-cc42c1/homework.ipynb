{
 "cells": [
  {
   "cell_type": "markdown",
   "metadata": {},
   "source": [
    "С помощью немного измененного первого задания вытащили id подписчиков otus"
   ]
  },
  {
   "cell_type": "code",
   "execution_count": 19,
   "metadata": {},
   "outputs": [],
   "source": [
    "SCRAPPED_FILE = 'ids2.txt'"
   ]
  },
  {
   "cell_type": "code",
   "execution_count": 20,
   "metadata": {},
   "outputs": [],
   "source": [
    "url_0 = ''"
   ]
  },
  {
   "cell_type": "code",
   "execution_count": 21,
   "metadata": {},
   "outputs": [],
   "source": [
    "url_1 = ''"
   ]
  },
  {
   "cell_type": "code",
   "execution_count": 22,
   "metadata": {},
   "outputs": [],
   "source": [
    "import json\n",
    "import logging\n",
    "\n",
    "import requests\n",
    "from scrapper.storages.file_storage import FileStorage\n",
    "from scrapper.scrappers.scrapper import Scrapper\n",
    "import time"
   ]
  },
  {
   "cell_type": "code",
   "execution_count": 123,
   "metadata": {},
   "outputs": [],
   "source": [
    "def scrap_process(storage, urls, path):\n",
    "        text_array=[]\n",
    "        headers = {\n",
    "            'User-Agent': 'Mozilla/5.0 (Macintosh; Intel Mac OS X 10.9; rv:45.0) Gecko/20100101 Firefox/45.0'\n",
    "        }\n",
    "        i = 0\n",
    "        for url in urls:\n",
    "            print(i)\n",
    "            i=i+1\n",
    "            response = requests.get(url=url, headers=headers)\n",
    "            if not response.ok or 'error' in response.text:\n",
    "                print('retry')\n",
    "                time.sleep(10)\n",
    "                response = requests.get(url=url, headers=headers)\n",
    "                if not response.ok  or 'error' in response.text:\n",
    "                    print(response.text)\n",
    "                    time.sleep(10)\n",
    "                else:\n",
    "                    text_array.append(response.json())\n",
    "\n",
    "            # then continue process, or retry, or fix your code\n",
    "        \n",
    "            else:\n",
    "#                print(response.json())\n",
    "                text_array.append(response.json())\n",
    "        time.sleep(1)\n",
    "        storage.write_data([json.dumps(text_array)])"
   ]
  },
  {
   "cell_type": "code",
   "execution_count": null,
   "metadata": {},
   "outputs": [],
   "source": [
    "storage = FileStorage(SCRAPPED_FILE)\n",
    "\n",
    "scrap_process(storage, [url_0,url_1], None)"
   ]
  },
  {
   "cell_type": "code",
   "execution_count": 78,
   "metadata": {},
   "outputs": [
    {
     "name": "stdout",
     "output_type": "stream",
     "text": [
      "2000\n"
     ]
    }
   ],
   "source": [
    "ids = []\n",
    "f = open(\"ids2.txt\", \"r\")\n",
    "lines = f.read()\n",
    "array_json = json.loads(lines)\n",
    "for row in array_json:\n",
    "    ids.extend(array_json[0]['response']['items'])\n",
    "print(len(ids))"
   ]
  },
  {
   "cell_type": "code",
   "execution_count": 79,
   "metadata": {},
   "outputs": [],
   "source": [
    "SCRAPPED_FILE = 'info.txt'"
   ]
  },
  {
   "cell_type": "code",
   "execution_count": 80,
   "metadata": {},
   "outputs": [],
   "source": [
    "url2 = ''"
   ]
  },
  {
   "cell_type": "code",
   "execution_count": 81,
   "metadata": {},
   "outputs": [],
   "source": [
    "ids_text = list(map(str, ids))"
   ]
  },
  {
   "cell_type": "code",
   "execution_count": 82,
   "metadata": {},
   "outputs": [],
   "source": [
    "url2_with_id = url2.format(','.join(ids_text[:100]))"
   ]
  },
  {
   "cell_type": "code",
   "execution_count": 83,
   "metadata": {},
   "outputs": [],
   "source": [
    "url2_with_id_list = []"
   ]
  },
  {
   "cell_type": "code",
   "execution_count": 84,
   "metadata": {},
   "outputs": [],
   "source": [
    "for i in range(20):\n",
    "    url2_with_id = url2.format(','.join(ids_text[i*100:i*100+100]))\n",
    "    url2_with_id_list.append(url2_with_id)"
   ]
  },
  {
   "cell_type": "code",
   "execution_count": 99,
   "metadata": {},
   "outputs": [],
   "source": [
    "storage = FileStorage(SCRAPPED_FILE)\n",
    "\n",
    "scrap_process(storage, url2_with_id_list, None)"
   ]
  },
  {
   "cell_type": "code",
   "execution_count": 100,
   "metadata": {},
   "outputs": [],
   "source": [
    "from scrapper.parsers.filter_parser import FilterParser\n",
    "from scrapper.parsers.json_parser import JsonParser"
   ]
  },
  {
   "cell_type": "code",
   "execution_count": 101,
   "metadata": {},
   "outputs": [],
   "source": [
    "columns = ['id', 'sex','city.title', 'country.title', 'bdate', 'about']\n",
    "filter_parser = FilterParser(columns)\n",
    "json_parser = JsonParser(filter_parser)\n"
   ]
  },
  {
   "cell_type": "code",
   "execution_count": 102,
   "metadata": {},
   "outputs": [],
   "source": [
    "import pandas as pd"
   ]
  },
  {
   "cell_type": "code",
   "execution_count": 103,
   "metadata": {},
   "outputs": [
    {
     "data": {
      "text/plain": [
       "'info.txt'"
      ]
     },
     "execution_count": 103,
     "metadata": {},
     "output_type": "execute_result"
    }
   ],
   "source": [
    "SCRAPPED_FILE"
   ]
  },
  {
   "cell_type": "code",
   "execution_count": 104,
   "metadata": {},
   "outputs": [],
   "source": [
    "def parse(data_file, filters):\n",
    "        rows = []\n",
    "        for line in data_file.read_data():\n",
    "            array_json = json.loads(line)\n",
    "            for responce in array_json:\n",
    "                for news in responce['response']:\n",
    "                    row = filters.parse(news)\n",
    "                    rows.append(row)\n",
    "        return rows"
   ]
  },
  {
   "cell_type": "code",
   "execution_count": 105,
   "metadata": {},
   "outputs": [],
   "source": [
    "storage = FileStorage(SCRAPPED_FILE)\n",
    "parsed_data = parse(storage, filter_parser)\n",
    "df = pd.DataFrame(data=parsed_data, columns=columns)\n",
    "df.to_csv('info.csv')    "
   ]
  },
  {
   "cell_type": "markdown",
   "metadata": {},
   "source": [
    "найдем кте, где указан год"
   ]
  },
  {
   "cell_type": "code",
   "execution_count": 207,
   "metadata": {},
   "outputs": [],
   "source": [
    "import pandas as pd"
   ]
  },
  {
   "cell_type": "code",
   "execution_count": 208,
   "metadata": {},
   "outputs": [],
   "source": [
    "df = pd.read_csv('info.csv')"
   ]
  },
  {
   "cell_type": "code",
   "execution_count": 209,
   "metadata": {},
   "outputs": [
    {
     "data": {
      "text/html": [
       "<div>\n",
       "<style scoped>\n",
       "    .dataframe tbody tr th:only-of-type {\n",
       "        vertical-align: middle;\n",
       "    }\n",
       "\n",
       "    .dataframe tbody tr th {\n",
       "        vertical-align: top;\n",
       "    }\n",
       "\n",
       "    .dataframe thead th {\n",
       "        text-align: right;\n",
       "    }\n",
       "</style>\n",
       "<table border=\"1\" class=\"dataframe\">\n",
       "  <thead>\n",
       "    <tr style=\"text-align: right;\">\n",
       "      <th></th>\n",
       "      <th>Unnamed: 0</th>\n",
       "      <th>id</th>\n",
       "      <th>sex</th>\n",
       "      <th>city.title</th>\n",
       "      <th>country.title</th>\n",
       "      <th>bdate</th>\n",
       "      <th>about</th>\n",
       "    </tr>\n",
       "  </thead>\n",
       "  <tbody>\n",
       "    <tr>\n",
       "      <th>0</th>\n",
       "      <td>0</td>\n",
       "      <td>255</td>\n",
       "      <td>2</td>\n",
       "      <td>Санкт-Петербург</td>\n",
       "      <td>Россия</td>\n",
       "      <td>3.7.1985</td>\n",
       "      <td>NaN</td>\n",
       "    </tr>\n",
       "  </tbody>\n",
       "</table>\n",
       "</div>"
      ],
      "text/plain": [
       "   Unnamed: 0   id  sex       city.title country.title     bdate about\n",
       "0           0  255    2  Санкт-Петербург        Россия  3.7.1985   NaN"
      ]
     },
     "execution_count": 209,
     "metadata": {},
     "output_type": "execute_result"
    }
   ],
   "source": [
    "df.head(1)"
   ]
  },
  {
   "cell_type": "code",
   "execution_count": 109,
   "metadata": {},
   "outputs": [],
   "source": [
    "with_bd = df['bdate'].str.contains('\\.[0-9]{4}')"
   ]
  },
  {
   "cell_type": "code",
   "execution_count": 110,
   "metadata": {},
   "outputs": [],
   "source": [
    "with_bd.fillna(False, inplace=True)"
   ]
  },
  {
   "cell_type": "code",
   "execution_count": 111,
   "metadata": {},
   "outputs": [],
   "source": [
    "df_bd = df[with_bd]"
   ]
  },
  {
   "cell_type": "code",
   "execution_count": 112,
   "metadata": {},
   "outputs": [
    {
     "data": {
      "text/plain": [
       "(804, 7)"
      ]
     },
     "execution_count": 112,
     "metadata": {},
     "output_type": "execute_result"
    }
   ],
   "source": [
    "df_bd.shape"
   ]
  },
  {
   "cell_type": "code",
   "execution_count": 114,
   "metadata": {},
   "outputs": [
    {
     "data": {
      "text/html": [
       "<div>\n",
       "<style scoped>\n",
       "    .dataframe tbody tr th:only-of-type {\n",
       "        vertical-align: middle;\n",
       "    }\n",
       "\n",
       "    .dataframe tbody tr th {\n",
       "        vertical-align: top;\n",
       "    }\n",
       "\n",
       "    .dataframe thead th {\n",
       "        text-align: right;\n",
       "    }\n",
       "</style>\n",
       "<table border=\"1\" class=\"dataframe\">\n",
       "  <thead>\n",
       "    <tr style=\"text-align: right;\">\n",
       "      <th></th>\n",
       "      <th>Unnamed: 0</th>\n",
       "      <th>id</th>\n",
       "      <th>sex</th>\n",
       "      <th>city.title</th>\n",
       "      <th>country.title</th>\n",
       "      <th>bdate</th>\n",
       "      <th>about</th>\n",
       "    </tr>\n",
       "  </thead>\n",
       "  <tbody>\n",
       "    <tr>\n",
       "      <th>0</th>\n",
       "      <td>0</td>\n",
       "      <td>255</td>\n",
       "      <td>2</td>\n",
       "      <td>Санкт-Петербург</td>\n",
       "      <td>Россия</td>\n",
       "      <td>3.7.1985</td>\n",
       "      <td>NaN</td>\n",
       "    </tr>\n",
       "  </tbody>\n",
       "</table>\n",
       "</div>"
      ],
      "text/plain": [
       "   Unnamed: 0   id  sex       city.title country.title     bdate about\n",
       "0           0  255    2  Санкт-Петербург        Россия  3.7.1985   NaN"
      ]
     },
     "execution_count": 114,
     "metadata": {},
     "output_type": "execute_result"
    }
   ],
   "source": [
    "df_bd.head(1)"
   ]
  },
  {
   "cell_type": "code",
   "execution_count": 115,
   "metadata": {},
   "outputs": [],
   "source": [
    "ids = df_bd['id'].tolist()"
   ]
  },
  {
   "cell_type": "code",
   "execution_count": 116,
   "metadata": {},
   "outputs": [
    {
     "data": {
      "text/plain": [
       "804"
      ]
     },
     "execution_count": 116,
     "metadata": {},
     "output_type": "execute_result"
    }
   ],
   "source": [
    "len(ids)"
   ]
  },
  {
   "cell_type": "code",
   "execution_count": 117,
   "metadata": {},
   "outputs": [
    {
     "data": {
      "text/plain": [
       "255"
      ]
     },
     "execution_count": 117,
     "metadata": {},
     "output_type": "execute_result"
    }
   ],
   "source": [
    "ids[0]"
   ]
  },
  {
   "cell_type": "code",
   "execution_count": 118,
   "metadata": {},
   "outputs": [],
   "source": [
    "url_wall=''"
   ]
  },
  {
   "cell_type": "code",
   "execution_count": 119,
   "metadata": {},
   "outputs": [],
   "source": [
    "urls = []\n",
    "for id in ids:\n",
    "    urls.append(url_wall.format(str(id)))"
   ]
  },
  {
   "cell_type": "code",
   "execution_count": 124,
   "metadata": {},
   "outputs": [
    {
     "name": "stdout",
     "output_type": "stream",
     "text": [
      "0\n",
      "1\n",
      "2\n",
      "3\n",
      "4\n",
      "5\n",
      "retry\n",
      "{\"error\":{\"error_code\":30,\"error_msg\":\"This profile is private\",\"request_params\":[{\"key\":\"oauth\",\"value\":\"1\"},{\"key\":\"method\",\"value\":\"wall.get\"},{\"key\":\"owner_id\",\"value\":\"80031\"},{\"key\":\"v\",\"value\":\"5.92\"}]}}\n",
      "6\n",
      "7\n",
      "8\n",
      "9\n",
      "10\n",
      "retry\n",
      "{\"error\":{\"error_code\":30,\"error_msg\":\"This profile is private\",\"request_params\":[{\"key\":\"oauth\",\"value\":\"1\"},{\"key\":\"method\",\"value\":\"wall.get\"},{\"key\":\"owner_id\",\"value\":\"171605\"},{\"key\":\"v\",\"value\":\"5.92\"}]}}\n",
      "11\n",
      "12\n",
      "13\n",
      "14\n",
      "15\n",
      "retry\n",
      "{\"error\":{\"error_code\":30,\"error_msg\":\"This profile is private\",\"request_params\":[{\"key\":\"oauth\",\"value\":\"1\"},{\"key\":\"method\",\"value\":\"wall.get\"},{\"key\":\"owner_id\",\"value\":\"247814\"},{\"key\":\"v\",\"value\":\"5.92\"}]}}\n",
      "16\n",
      "17\n",
      "18\n",
      "19\n",
      "20\n",
      "21\n",
      "22\n",
      "23\n",
      "24\n",
      "25\n",
      "26\n",
      "retry\n",
      "{\"error\":{\"error_code\":30,\"error_msg\":\"This profile is private\",\"request_params\":[{\"key\":\"oauth\",\"value\":\"1\"},{\"key\":\"method\",\"value\":\"wall.get\"},{\"key\":\"owner_id\",\"value\":\"458827\"},{\"key\":\"v\",\"value\":\"5.92\"}]}}\n",
      "27\n",
      "28\n",
      "29\n",
      "30\n",
      "31\n",
      "32\n",
      "33\n",
      "retry\n",
      "{\"error\":{\"error_code\":30,\"error_msg\":\"This profile is private\",\"request_params\":[{\"key\":\"oauth\",\"value\":\"1\"},{\"key\":\"method\",\"value\":\"wall.get\"},{\"key\":\"owner_id\",\"value\":\"688509\"},{\"key\":\"v\",\"value\":\"5.92\"}]}}\n",
      "34\n",
      "35\n",
      "36\n",
      "37\n",
      "38\n",
      "39\n",
      "40\n",
      "41\n",
      "retry\n",
      "{\"error\":{\"error_code\":30,\"error_msg\":\"This profile is private\",\"request_params\":[{\"key\":\"oauth\",\"value\":\"1\"},{\"key\":\"method\",\"value\":\"wall.get\"},{\"key\":\"owner_id\",\"value\":\"862876\"},{\"key\":\"v\",\"value\":\"5.92\"}]}}\n",
      "42\n",
      "retry\n",
      "{\"error\":{\"error_code\":30,\"error_msg\":\"This profile is private\",\"request_params\":[{\"key\":\"oauth\",\"value\":\"1\"},{\"key\":\"method\",\"value\":\"wall.get\"},{\"key\":\"owner_id\",\"value\":\"889964\"},{\"key\":\"v\",\"value\":\"5.92\"}]}}\n",
      "43\n",
      "44\n",
      "45\n",
      "46\n",
      "47\n",
      "48\n",
      "49\n",
      "50\n",
      "51\n",
      "52\n",
      "53\n",
      "54\n",
      "55\n",
      "56\n",
      "57\n",
      "58\n",
      "59\n",
      "60\n",
      "61\n",
      "retry\n",
      "{\"error\":{\"error_code\":30,\"error_msg\":\"This profile is private\",\"request_params\":[{\"key\":\"oauth\",\"value\":\"1\"},{\"key\":\"method\",\"value\":\"wall.get\"},{\"key\":\"owner_id\",\"value\":\"1415612\"},{\"key\":\"v\",\"value\":\"5.92\"}]}}\n",
      "62\n",
      "63\n",
      "64\n",
      "65\n",
      "66\n",
      "retry\n",
      "{\"error\":{\"error_code\":30,\"error_msg\":\"This profile is private\",\"request_params\":[{\"key\":\"oauth\",\"value\":\"1\"},{\"key\":\"method\",\"value\":\"wall.get\"},{\"key\":\"owner_id\",\"value\":\"1531961\"},{\"key\":\"v\",\"value\":\"5.92\"}]}}\n",
      "67\n",
      "retry\n",
      "{\"error\":{\"error_code\":30,\"error_msg\":\"This profile is private\",\"request_params\":[{\"key\":\"oauth\",\"value\":\"1\"},{\"key\":\"method\",\"value\":\"wall.get\"},{\"key\":\"owner_id\",\"value\":\"1677356\"},{\"key\":\"v\",\"value\":\"5.92\"}]}}\n",
      "68\n",
      "69\n",
      "70\n",
      "71\n",
      "72\n",
      "73\n",
      "retry\n",
      "{\"error\":{\"error_code\":30,\"error_msg\":\"This profile is private\",\"request_params\":[{\"key\":\"oauth\",\"value\":\"1\"},{\"key\":\"method\",\"value\":\"wall.get\"},{\"key\":\"owner_id\",\"value\":\"1789344\"},{\"key\":\"v\",\"value\":\"5.92\"}]}}\n",
      "74\n",
      "retry\n",
      "{\"response\":{\"count\":1245,\"items\":[{\"id\":5515,\"from_id\":1789350,\"owner_id\":1789350,\"date\":1552600286,\"post_type\":\"post\",\"text\":\"\",\"copy_history\":[{\"id\":466490,\"owner_id\":-4100014,\"from_id\":-4100014,\"date\":1552593745,\"post_type\":\"post\",\"text\":\"Макулатура — Место (2019)\\nAbstract Hip-Hop (Russia)\\n\\nУ Макулатуры вышел новый альбом «Место». За звук отвечает бывший гитарист Дельфина Павел Додонов\\n\\nСлушать плейлистом (10 треков): https:\\/\\/vk.cc\\/9aeDXW\",\"attachments\":[{\"type\":\"photo\",\"photo\":{\"id\":456248827,\"album_id\":-7,\"owner_id\":-4100014,\"user_id\":100,\"sizes\":[{\"type\":\"m\",\"url\":\"https:\\/\\/sun1-11.userapi.com\\/c846020\\/v846020714\\/1cba02\\/sHNDKj6wEKw.jpg\",\"width\":130,\"height\":130},{\"type\":\"o\",\"url\":\"https:\\/\\/sun1-8.userapi.com\\/c846020\\/v846020714\\/1cba07\\/2EFY169YVJE.jpg\",\"width\":130,\"height\":130},{\"type\":\"p\",\"url\":\"https:\\/\\/sun1-18.userapi.com\\/c846020\\/v846020714\\/1cba08\\/2FTifYK2oxs.jpg\",\"width\":200,\"height\":200},{\"type\":\"q\",\"url\":\"https:\\/\\/sun1-17.userapi.com\\/c846020\\/v846020714\\/1cba09\\/hJt7T5_ux9g.jpg\",\"width\":320,\"height\":320},{\"type\":\"r\",\"url\":\"https:\\/\\/sun1-14.userapi.com\\/c846020\\/v846020714\\/1cba0a\\/EBeM_aj5X9A.jpg\",\"width\":510,\"height\":510},{\"type\":\"s\",\"url\":\"https:\\/\\/sun1-7.userapi.com\\/c846020\\/v846020714\\/1cba01\\/ROjkkhq410I.jpg\",\"width\":75,\"height\":75},{\"type\":\"w\",\"url\":\"https:\\/\\/sun1-24.userapi.com\\/c846020\\/v846020714\\/1cba06\\/6Mt7Co3dOek.jpg\",\"width\":1500,\"height\":1500},{\"type\":\"x\",\"url\":\"https:\\/\\/sun1-2.userapi.com\\/c846020\\/v846020714\\/1cba03\\/NJul6or22js.jpg\",\"width\":604,\"height\":604},{\"type\":\"y\",\"url\":\"https:\\/\\/sun1-18.userapi.com\\/c846020\\/v846020714\\/1cba04\\/no9wBF1_dmA.jpg\",\"width\":807,\"height\":807},{\"type\":\"z\",\"url\":\"https:\\/\\/sun1-9.userapi.com\\/c846020\\/v846020714\\/1cba05\\/tgKsXPTqSlA.jpg\",\"width\":1080,\"height\":1080}],\"text\":\"\",\"date\":1552593681,\"access_key\":\"b57505a95b6afdb7c6\"}},{\"type\":\"audio\",\"audio\":{\"id\":456242447,\"owner_id\":2000270083,\"artist\":\"макулатура\",\"title\":\"утро\",\"duration\":25,\"date\":1552593681,\"url\":\"https:\\/\\/vk.com\\/mp3\\/audio_api_unavailable.mp3\",\"album_id\":2,\"is_hq\":true,\"track_code\":\"72b8a0bdLfQTR4wkU1AN6JRPWvoU-PkON1dXwLVeMYvoyioI9iwez0MHp3EGDmamxQ\",\"is_explicit\":false,\"main_artists\":[{\"name\":\"макулатура\",\"id\":\"8209838412840764188\",\"domain\":\"8209838412840764188\"}]}},{\"type\":\"audio\",\"audio\":{\"id\":456242309,\"owner_id\":2000270437,\"artist\":\"макулатура\",\"title\":\"любовь\",\"duration\":25,\"date\":1552593681,\"url\":\"https:\\/\\/vk.com\\/mp3\\/audio_api_unavailable.mp3\",\"album_id\":2,\"is_hq\":true,\"track_code\":\"c15b7652XVA3DvaOK-RDFoVTM9l_B3A3O-T6aPyhGOXyL61fE2hua2dO3dt-uihY1A\",\"is_explicit\":true,\"main_artists\":[{\"name\":\"макулатура\",\"id\":\"8209838412840764188\",\"domain\":\"8209838412840764188\"}]}},{\"type\":\"audio\",\"audio\":{\"id\":456242431,\"owner_id\":2000269692,\"artist\":\"макулатура\",\"title\":\"все включено\",\"duration\":25,\"date\":1552593681,\"url\":\"https:\\/\\/vk.com\\/mp3\\/audio_api_unavailable.mp3\",\"album_id\":2,\"is_hq\":true,\"track_code\":\"675faf64Ev9sAVaM778x7qidrmhFYxc6Fz-Agzm-JvWEmugnmE0hxDxBfdm64Vqg-Q\",\"is_explicit\":false,\"main_artists\":[{\"name\":\"макулатура\",\"id\":\"8209838412840764188\",\"domain\":\"8209838412840764188\"}]}},{\"type\":\"audio\",\"audio\":{\"id\":456242389,\"owner_id\":2000268951,\"artist\":\"макулатура\",\"title\":\"кафедра\",\"duration\":25,\"date\":1552593681,\"url\":\"https:\\/\\/vk.com\\/mp3\\/audio_api_unavailable.mp3\",\"album_id\":2,\"is_hq\":true,\"track_code\":\"03f59a99OqvVZlf42sV_iCMzA-0dJ5QhijHJVNXSTmBu8FAshi0JkIUmfK2PmxTGcg\",\"is_explicit\":false,\"main_artists\":[{\"name\":\"макулатура\",\"id\":\"8209838412840764188\",\"domain\":\"8209838412840764188\"}]}},{\"type\":\"audio\",\"audio\":{\"id\":456242741,\"owner_id\":2000267097,\"artist\":\"макулатура\",\"title\":\"пальцы\",\"duration\":25,\"date\":1552593681,\"url\":\"https:\\/\\/vk.com\\/mp3\\/audio_api_unavailable.mp3\",\"album_id\":2,\"is_hq\":true,\"track_code\":\"5274c7e1Nw7UCC7Zc6DSV5OipvbxmgLqz4VsY7BTpytQvz3S6JAENYRIBYwm_rkZwg\",\"is_explicit\":false,\"main_artists\":[{\"name\":\"макулатура\",\"id\":\"8209838412840764188\",\"domain\":\"8209838412840764188\"}]}},{\"type\":\"audio\",\"audio\":{\"id\":456242193,\"owner_id\":2000270782,\"artist\":\"макулатура\",\"title\":\"мосты\",\"duration\":25,\"date\":1552593681,\"url\":\"https:\\/\\/vk.com\\/mp3\\/audio_api_unavailable.mp3\",\"album_id\":2,\"is_hq\":true,\"track_code\":\"9c675ad9TMoUkDGiMVfLm0tf-V-AqzuqhZJ9hgHoxySzr9X4weF_8UTQGvdkCaDVGg\",\"is_explicit\":true,\"main_artists\":[{\"name\":\"макулатура\",\"id\":\"8209838412840764188\",\"domain\":\"8209838412840764188\"}]}},{\"type\":\"audio\",\"audio\":{\"id\":456242336,\"owner_id\":2000270327,\"artist\":\"макулатура\",\"title\":\"реп\",\"duration\":25,\"date\":1552593681,\"url\":\"https:\\/\\/vk.com\\/mp3\\/audio_api_unavailable.mp3\",\"album_id\":2,\"is_hq\":true,\"track_code\":\"b596bc9bDPc8KhJCpZyMhVwh9BtvEVf_LnxO3RvWH6QoDGTYde8_zGxqORfwwufLDQ\",\"is_explicit\":true,\"main_artists\":[{\"name\":\"макулатура\",\"id\":\"8209838412840764188\",\"domain\":\"8209838412840764188\"}]}},{\"type\":\"audio\",\"audio\":{\"id\":456242361,\"owner_id\":2000270476,\"artist\":\"макулатура\",\"title\":\"поддавки\",\"duration\":25,\"date\":1552593681,\"url\":\"https:\\/\\/vk.com\\/mp3\\/audio_api_unavailable.mp3\",\"album_id\":2,\"is_hq\":true,\"track_code\":\"86f0efc2jmG6NRf_JLpANTT0oodlym_epQPyVr9gPF5KEj0braq9Wup1PKpx5Ct7ZQ\",\"is_explicit\":true,\"main_artists\":[{\"name\":\"макулатура\",\"id\":\"8209838412840764188\",\"domain\":\"8209838412840764188\"}]}},{\"type\":\"audio\",\"audio\":{\"id\":456242438,\"owner_id\":2000268199,\"artist\":\"макулатура\",\"title\":\"последний год на земле\",\"duration\":25,\"date\":1552593681,\"url\":\"https:\\/\\/vk.com\\/mp3\\/audio_api_unavailable.mp3\",\"album_id\":2,\"is_hq\":true,\"track_code\":\"df14b87ej5VrhFxpAq9bPF7yOyRa4G19m-IEb_-jNqg3hnfsgkG8rjvEdzxX8TByDw\",\"is_explicit\":true,\"main_artists\":[{\"name\":\"макулатура\",\"id\":\"8209838412840764188\",\"domain\":\"8209838412840764188\"}]}}],\"post_source\":{\"type\":\"vk\"}}],\"post_source\":{\"type\":\"vk\"},\"comments\":{\"count\":0,\"can_post\":0,\"groups_can_post\":true},\"likes\":{\"count\":0,\"user_likes\":0,\"can_like\":1,\"can_publish\":1},\"reposts\":{\"count\":0,\"user_reposted\":0},\"views\":{\"count\":19},\"is_favorite\":false},{\"id\":5514,\"from_id\":1789350,\"owner_id\":1789350,\"date\":1551684318,\"post_type\":\"post\",\"text\":\"\",\"copy_history\":[{\"id\":100615,\"owner_id\":-26457580,\"from_id\":-26457580,\"date\":1551433441,\"post_type\":\"post\",\"text\":\"[club100710798|Apodemus] — Trippy Road (2019)\\n\\nСтонер, рок, жир в лайв-видео нижегородского космического трио [club100710798|Apodemus].\\n\\n📎 #ВкоментахВсё@stonermusic 👇\\n\\n#stoner #psychedelic_rock #instrumental\",\"attachments\":[{\"type\":\"video\",\"video\":{\"id\":456239330,\"owner_id\":-31641338,\"title\":\"Apodemus — Trippy Road (live @ Джао Да 13.01.2019)\",\"duration\":295,\"description\":\"Band: https:\\/\\/apodemus.bandcamp.com\\/\\nEvent: https:\\/\\/www.csbr-rock.com\\/news\\/tour-2019-report\\nProd by Leftography: https:\\/\\/vk.com\\/leftography\",\"date\":1551344678,\"comments\":0,\"views\":338,\"photo_130\":\"https:\\/\\/pp.userapi.com\\/c848416\\/v848416771\\/133d24\\/1x-4jWZhA80.jpg\",\"photo_320\":\"https:\\/\\/pp.userapi.com\\/c848416\\/v848416771\\/133d26\\/gSe3LtPHFqE.jpg\",\"photo_800\":\"https:\\/\\/pp.userapi.com\\/c848416\\/v848416771\\/133d27\\/wjXLgSC2ftE.jpg\",\"photo_640\":\"https:\\/\\/pp.userapi.com\\/c848416\\/v848416771\\/133d27\\/wjXLgSC2ftE.jpg\",\"is_favorite\":false,\"access_key\":\"accf89f50074413206\",\"platform\":\"YouTube\",\"can_add\":1,\"track_code\":\"video_94cd11f6sAmPeXaCjJmKBk9SflYVVv61E5QFRX2_xAOztR03pqSHK5ZKRw\"}}],\"post_source\":{\"type\":\"vk\"}}],\"post_source\":{\"type\":\"vk\"},\"comments\":{\"count\":0,\"can_post\":0,\"groups_can_post\":true},\"likes\":{\"count\":0,\"user_likes\":0,\"can_like\":1,\"can_publish\":1},\"reposts\":{\"count\":0,\"user_reposted\":0},\"views\":{\"count\":18},\"is_favorite\":false},{\"id\":5513,\"from_id\":1789350,\"owner_id\":1789350,\"date\":1551185632,\"post_type\":\"post\",\"text\":\"\",\"attachments\":[{\"type\":\"photo\",\"photo\":{\"id\":456239287,\"album_id\":-7,\"owner_id\":1789350,\"sizes\":[{\"type\":\"m\",\"url\":\"https:\\/\\/pp.userapi.com\\/c847221\\/v847221242\\/1ac6a3\\/p-bdAo1yB4A.jpg\",\"width\":89,\"height\":130},{\"type\":\"o\",\"url\":\"https:\\/\\/pp.userapi.com\\/c847221\\/v847221242\\/1ac6a5\\/me1Qn2kmzps.jpg\",\"width\":130,\"height\":191},{\"type\":\"p\",\"url\":\"https:\\/\\/pp.userapi.com\\/c847221\\/v847221242\\/1ac6a6\\/JSTA4tlqioU.jpg\",\"width\":200,\"height\":293},{\"type\":\"q\",\"url\":\"https:\\/\\/pp.userapi.com\\/c847221\\/v847221242\\/1ac6a7\\/t_S0136Sdms.jpg\",\"width\":320,\"height\":469},{\"type\":\"r\",\"url\":\"https:\\/\\/pp.userapi.com\\/c847221\\/v847221242\\/1ac6a8\\/jfJ5pBMqwvk.jpg\",\"width\":412,\"height\":604},{\"type\":\"s\",\"url\":\"https:\\/\\/pp.userapi.com\\/c847221\\/v847221242\\/1ac6a2\\/eloLxT9AzUY.jpg\",\"width\":51,\"height\":75},{\"type\":\"x\",\"url\":\"https:\\/\\/pp.userapi.com\\/c847221\\/v847221242\\/1ac6a4\\/X5nod4imrHg.jpg\",\"width\":412,\"height\":604}],\"text\":\"\",\"date\":1551185629,\"access_key\":\"35e424047419e8981a\"}}],\"post_source\":{\"type\":\"vk\"},\"comments\":{\"count\":0,\"can_post\":0,\"groups_can_post\":true},\"likes\":{\"count\":1,\"user_likes\":0,\"can_like\":1,\"can_publish\":1},\"reposts\":{\"count\":0,\"user_reposted\":0},\"views\":{\"count\":49},\"is_favorite\":false},{\"id\":5512,\"from_id\":1789350,\"owner_id\":1789350,\"date\":1550396245,\"post_type\":\"post\",\"text\":\"\",\"copy_history\":[{\"id\":100462,\"owner_id\":-26457580,\"from_id\":-26457580,\"date\":1550387149,\"post_type\":\"post\",\"text\":\"Skraeckoedlan - Eorþe (2019)\\n\\nНачинайте воскресное утро правильно - с нового альбома шведских любителей прога, которые совместно с фантастом Нильсом Хоканссоном (\\\"Eorþe\\\" (Землю, то бишь про нашему) его произведение сделанное под Лавкрафта специально), воплотили это все на записи. \\n\\nссылки, mp3 и flac в комментариях 👇 \\n#stoner #progressive #psychedelic #Sweden | #killsetband\",\"attachments\":[{\"type\":\"photo\",\"photo\":{\"id\":456241809,\"album_id\":-7,\"owner_id\":-26457580,\"user_id\":100,\"sizes\":[{\"type\":\"m\",\"url\":\"https:\\/\\/pp.userapi.com\\/c845521\\/v845521095\\/1a8053\\/zeaTmVZEv_g.jpg\",\"width\":130,\"height\":130},{\"type\":\"o\",\"url\":\"https:\\/\\/pp.userapi.com\\/c845521\\/v845521095\\/1a8058\\/ucVv8I7aNCU.jpg\",\"width\":130,\"height\":130},{\"type\":\"p\",\"url\":\"https:\\/\\/pp.userapi.com\\/c845521\\/v845521095\\/1a8059\\/_5eGHS9_lfo.jpg\",\"width\":200,\"height\":200},{\"type\":\"q\",\"url\":\"https:\\/\\/pp.userapi.com\\/c845521\\/v845521095\\/1a805a\\/w_9yLF6sW6c.jpg\",\"width\":320,\"height\":320},{\"type\":\"r\",\"url\":\"https:\\/\\/pp.userapi.com\\/c845521\\/v845521095\\/1a805b\\/C592Ypaa8Ac.jpg\",\"width\":510,\"height\":510},{\"type\":\"s\",\"url\":\"https:\\/\\/pp.userapi.com\\/c845521\\/v845521095\\/1a8052\\/UlpMS5ZXO1g.jpg\",\"width\":75,\"height\":75},{\"type\":\"w\",\"url\":\"https:\\/\\/pp.userapi.com\\/c845521\\/v845521095\\/1a8057\\/OEfZMS7eJvM.jpg\",\"width\":1400,\"height\":1400},{\"type\":\"x\",\"url\":\"https:\\/\\/pp.userapi.com\\/c845521\\/v845521095\\/1a8054\\/HDGuXLXxRxw.jpg\",\"width\":604,\"height\":604},{\"type\":\"y\",\"url\":\"https:\\/\\/pp.userapi.com\\/c845521\\/v845521095\\/1a8055\\/1tu4AXA9Hu0.jpg\",\"width\":807,\"height\":807},{\"type\":\"z\",\"url\":\"https:\\/\\/pp.userapi.com\\/c845521\\/v845521095\\/1a8056\\/rjYQIsMYvVk.jpg\",\"width\":1080,\"height\":1080}],\"text\":\"\",\"date\":1550387149,\"post_id\":100462,\"access_key\":\"d997575437bde4abd6\"}},{\"type\":\"audio\",\"audio\":{\"id\":456242217,\"owner_id\":2000218638,\"artist\":\"Skraeckoedlan\",\"title\":\"Guldåldern\",\"duration\":25,\"date\":1550387149,\"url\":\"https:\\/\\/vk.com\\/mp3\\/audio_api_unavailable.mp3\",\"genre_id\":1,\"is_hq\":true,\"track_code\":\"6160bc76bCK3aB20crw6LOYrpN6HErTjXR3Iomj778LHQjMVJzZaHuMkWYog5FVvsXU\",\"is_explicit\":false}},{\"type\":\"audio\",\"audio\":{\"id\":456242938,\"owner_id\":2000215780,\"artist\":\"Skraeckoedlan\",\"title\":\"Kung Mammut\",\"duration\":25,\"date\":1550387149,\"url\":\"https:\\/\\/vk.com\\/mp3\\/audio_api_unavailable.mp3\",\"genre_id\":1,\"is_hq\":true,\"track_code\":\"9ba2a042C6BhzfmHETniBlQ_jVejE7T5wEetduW2u1EBXx7F9Gk9nDWBvblDYY1FA2E\",\"is_explicit\":false}},{\"type\":\"audio\",\"audio\":{\"id\":456242696,\"owner_id\":2000217291,\"artist\":\"Skraeckoedlan\",\"title\":\"Creature of Doggerland\",\"duration\":25,\"date\":1550387149,\"url\":\"https:\\/\\/vk.com\\/mp3\\/audio_api_unavailable.mp3\",\"genre_id\":1,\"is_hq\":true,\"track_code\":\"581313b8G2nfZkEBlNsmTq1kRhtdkH4akGHUbbPnqSRgMusTlDgtVYsqBT_Gg0kN-jo\",\"is_explicit\":false}},{\"type\":\"audio\",\"audio\":{\"id\":456242438,\"owner_id\":2000218074,\"artist\":\"Skraeckoedlan\",\"title\":\"Angelica\",\"duration\":25,\"date\":1550387149,\"url\":\"https:\\/\\/vk.com\\/mp3\\/audio_api_unavailable.mp3\",\"genre_id\":1,\"is_hq\":true,\"track_code\":\"c1840767eo4fgwUg-NTd3yInLyLHWkPrblHyPIMeH1hjV-DUqCFMskvPQR6qjLKcdXk\",\"is_explicit\":false}},{\"type\":\"audio\",\"audio\":{\"id\":456242227,\"owner_id\":2000218905,\"artist\":\"Skraeckoedlan\",\"title\":\"Mammutkungens Barn\",\"duration\":25,\"date\":1550387149,\"url\":\"https:\\/\\/vk.com\\/mp3\\/audio_api_unavailable.mp3\",\"genre_id\":1,\"is_hq\":true,\"track_code\":\"1fe37347Yy9kOLPuNU7AhguiPx3BPhV4wQOR1LN_gnY98aabWXVVEzB099BnFq_FXPw\",\"is_explicit\":false}},{\"type\":\"audio\",\"audio\":{\"id\":456242508,\"owner_id\":2000217868,\"artist\":\"Skraeckoedlan\",\"title\":\"Elfenbenssalarna\",\"duration\":25,\"date\":1550387149,\"url\":\"https:\\/\\/vk.com\\/mp3\\/audio_api_unavailable.mp3\",\"genre_id\":1,\"is_hq\":true,\"track_code\":\"cd8d5c82kH3PoghNOigpp6SYG3Ft_OakxmChMiYpZhg7R3mXNMumQZvuTHNocEbk88Y\",\"is_explicit\":false}},{\"type\":\"audio\",\"audio\":{\"id\":456242800,\"owner_id\":2000216077,\"artist\":\"Skraeckoedlan\",\"title\":\"Tentakler & Betar\",\"duration\":25,\"date\":1550387149,\"url\":\"https:\\/\\/vk.com\\/mp3\\/audio_api_unavailable.mp3\",\"genre_id\":1,\"is_hq\":true,\"track_code\":\"66552f2ffdTYfvSRQLTavJkHCzQg7xq4Ll2MGT5To2BtmgfCcL9L6IwysK8S7LX_zlk\",\"is_explicit\":false}},{\"type\":\"audio\",\"audio\":{\"id\":456242833,\"owner_id\":2000215706,\"artist\":\"Skraeckoedlan\",\"title\":\"Angra mainyu\",\"duration\":25,\"date\":1550387149,\"url\":\"https:\\/\\/vk.com\\/mp3\\/audio_api_unavailable.mp3\",\"genre_id\":1,\"is_hq\":true,\"track_code\":\"15c88eb8Etd1kpA8FteS0ASniaUYBFFISFejB5Md9EhyoG-QLxEk6yHe1AJEj_2TU_k\",\"is_explicit\":false}}],\"post_source\":{\"type\":\"vk\"}}],\"post_source\":{\"type\":\"vk\"},\"comments\":{\"count\":0,\"can_post\":0,\"groups_can_post\":true},\"likes\":{\"count\":0,\"user_likes\":0,\"can_like\":1,\"can_publish\":1},\"reposts\":{\"count\":0,\"user_reposted\":0},\"views\":{\"count\":18},\"is_favorite\":false},{\"id\":5511,\"from_id\":1789350,\"owner_id\":1789350,\"date\":1550248334,\"post_type\":\"post\",\"text\":\"\",\"attachments\":[{\"type\":\"photo\",\"photo\":{\"id\":456239286,\"album_id\":-7,\"owner_id\":1789350,\"sizes\":[{\"type\":\"m\",\"url\":\"https:\\/\\/pp.userapi.com\\/c850528\\/v850528846\\/b8f3e\\/bOxOClfvYik.jpg\",\"width\":130,\"height\":130},{\"type\":\"o\",\"url\":\"https:\\/\\/pp.userapi.com\\/c850528\\/v850528846\\/b8f42\\/Cp4yldG54pU.jpg\",\"width\":130,\"height\":130},{\"type\":\"p\",\"url\":\"https:\\/\\/pp.userapi.com\\/c850528\\/v850528846\\/b8f43\\/2yY6-7TIvKU.jpg\",\"width\":200,\"height\":200},{\"type\":\"q\",\"url\":\"https:\\/\\/pp.userapi.com\\/c850528\\/v850528846\\/b8f44\\/aodoZsMM60A.jpg\",\"width\":320,\"height\":320},{\"type\":\"r\",\"url\":\"https:\\/\\/pp.userapi.com\\/c850528\\/v850528846\\/b8f45\\/m-1XMat4W5g.jpg\",\"width\":510,\"height\":510},{\"type\":\"s\",\"url\":\"https:\\/\\/pp.userapi.com\\/c850528\\/v850528846\\/b8f3d\\/6-4IJ1Nf9eA.jpg\",\"width\":75,\"height\":75},{\"type\":\"x\",\"url\":\"https:\\/\\/pp.userapi.com\\/c850528\\/v850528846\\/b8f3f\\/XPDWlbj0VOs.jpg\",\"width\":604,\"height\":604},{\"type\":\"y\",\"url\":\"https:\\/\\/pp.userapi.com\\/c850528\\/v850528846\\/b8f40\\/CmdfYYMOWwo.jpg\",\"width\":807,\"height\":807},{\"type\":\"z\",\"url\":\"https:\\/\\/pp.userapi.com\\/c850528\\/v850528846\\/b8f41\\/27NhLVz4N2Y.jpg\",\"width\":1080,\"height\":1080}],\"text\":\"\",\"date\":1550248330,\"access_key\":\"9ddf136377c2d63338\"}}],\"post_source\":{\"type\":\"vk\"},\"comments\":{\"count\":0,\"can_post\":0,\"groups_can_post\":true},\"likes\":{\"count\":1,\"user_likes\":0,\"can_like\":1,\"can_publish\":1},\"reposts\":{\"count\":0,\"user_reposted\":0},\"views\":{\"count\":83},\"is_favorite\":false},{\"id\":5510,\"from_id\":1789350,\"owner_id\":1789350,\"date\":1549823586,\"post_type\":\"post\",\"text\":\"\",\"copy_history\":[{\"id\":100374,\"owner_id\":-26457580,\"from_id\":-26457580,\"date\":1549821868,\"post_type\":\"post\",\"text\":\"Jagannatha — Samsara (2019)\\n\\nФранцузы вернулись с новой работой.\\n\\nссылки, mp3 в комментариях 👇 \\n#stoner #psychedelic #instrumental | #killsetband\",\"attachments\":[{\"type\":\"photo\",\"photo\":{\"id\":456241790,\"album_id\":-7,\"owner_id\":-26457580,\"user_id\":100,\"sizes\":[{\"type\":\"m\",\"url\":\"https:\\/\\/pp.userapi.com\\/c845016\\/v845016991\\/1a1df2\\/qObvJT_9e10.jpg\",\"width\":130,\"height\":120},{\"type\":\"o\",\"url\":\"https:\\/\\/pp.userapi.com\\/c845016\\/v845016991\\/1a1df7\\/K0VY4i3uRxE.jpg\",\"width\":130,\"height\":120},{\"type\":\"p\",\"url\":\"https:\\/\\/pp.userapi.com\\/c845016\\/v845016991\\/1a1df8\\/_vpV9kDV5Y0.jpg\",\"width\":200,\"height\":185},{\"type\":\"q\",\"url\":\"https:\\/\\/pp.userapi.com\\/c845016\\/v845016991\\/1a1df9\\/cSVllsJrTwM.jpg\",\"width\":320,\"height\":296},{\"type\":\"r\",\"url\":\"https:\\/\\/pp.userapi.com\\/c845016\\/v845016991\\/1a1dfa\\/-PuKvOZ35zg.jpg\",\"width\":510,\"height\":472},{\"type\":\"s\",\"url\":\"https:\\/\\/pp.userapi.com\\/c845016\\/v845016991\\/1a1df1\\/5AcG5snCjZM.jpg\",\"width\":75,\"height\":69},{\"type\":\"w\",\"url\":\"https:\\/\\/pp.userapi.com\\/c845016\\/v845016991\\/1a1df6\\/pEFYNdgsmb8.jpg\",\"width\":1200,\"height\":1110},{\"type\":\"x\",\"url\":\"https:\\/\\/pp.userapi.com\\/c845016\\/v845016991\\/1a1df3\\/kdtjVxQj-9g.jpg\",\"width\":604,\"height\":558},{\"type\":\"y\",\"url\":\"https:\\/\\/pp.userapi.com\\/c845016\\/v845016991\\/1a1df4\\/7iPa4Shcq-g.jpg\",\"width\":807,\"height\":746},{\"type\":\"z\",\"url\":\"https:\\/\\/pp.userapi.com\\/c845016\\/v845016991\\/1a1df5\\/7P9VbBbSV1A.jpg\",\"width\":1168,\"height\":1080}],\"text\":\"\",\"date\":1549821868,\"post_id\":100374,\"access_key\":\"d28366916830b3bee7\"}},{\"type\":\"audio\",\"audio\":{\"id\":456242749,\"owner_id\":2000203751,\"artist\":\"Jagannatha\",\"title\":\"Sooraj\",\"duration\":25,\"date\":1549821868,\"url\":\"https:\\/\\/vk.com\\/mp3\\/audio_api_unavailable.mp3\",\"genre_id\":1,\"is_hq\":true,\"track_code\":\"9f645a2cp3y1vOhYNH4nL6im6WGkim6q56nEaHX2SJOdc0VuqyGRQOHwrGZmJkhr_v4\",\"is_explicit\":false}},{\"type\":\"audio\",\"audio\":{\"id\":456242904,\"owner_id\":2000202706,\"artist\":\"Jagannatha\",\"title\":\"Chandrama\",\"duration\":25,\"date\":1549821868,\"url\":\"https:\\/\\/vk.com\\/mp3\\/audio_api_unavailable.mp3\",\"genre_id\":1,\"is_hq\":true,\"track_code\":\"de9d76edJY6UtV2K-la1O5JvoICYWHccQPNNNn4dZ1YFaVzHOvsTssD5GbSoDtp_xDc\",\"is_explicit\":false}},{\"type\":\"audio\",\"audio\":{\"id\":456242656,\"owner_id\":2000204622,\"artist\":\"Jagannatha\",\"title\":\"Brahmaand\",\"duration\":25,\"date\":1549821868,\"url\":\"https:\\/\\/vk.com\\/mp3\\/audio_api_unavailable.mp3\",\"genre_id\":1,\"is_hq\":true,\"track_code\":\"d416070a-vDjmva4pOl69jd_V2LF2ZW43KL3I9GtW3u_rT9_UsbMzLfWsob2sRWyYSc\",\"is_explicit\":false}}],\"post_source\":{\"type\":\"vk\"}}],\"post_source\":{\"type\":\"vk\"},\"comments\":{\"count\":0,\"can_post\":0,\"groups_can_post\":true},\"likes\":{\"count\":0,\"user_likes\":0,\"can_like\":1,\"can_publish\":1},\"reposts\":{\"count\":0,\"user_reposted\":0},\"views\":{\"count\":19},\"is_favorite\":false},{\"id\":5509,\"from_id\":1789350,\"owner_id\":1789350,\"date\":1549128719,\"post_type\":\"post\",\"text\":\"\",\"copy_history\":[{\"id\":100226,\"owner_id\":-26457580,\"from_id\":-26457580,\"date\":1549027201,\"post_type\":\"post\",\"text\":\"[club160046507|Dog Chasing Sun] — Ghost of the South (2019)\\n\\nИнструментальный стоунер дум с цельными кусками соутерна и психодела.\\n\\nСсылки, плейлист, mp3 и flac в камментах 👇 \\n#Stoner_rock #Southern #Doom #Dog_Chasing_Sun #instrumental #Stoner_psych\",\"attachments\":[{\"type\":\"photo\",\"photo\":{\"id\":456241764,\"album_id\":-7,\"owner_id\":-26457580,\"user_id\":100,\"sizes\":[{\"type\":\"m\",\"url\":\"https:\\/\\/pp.userapi.com\\/c846417\\/v846417649\\/18b3b5\\/1wRQDCWHeAI.jpg\",\"width\":130,\"height\":130},{\"type\":\"o\",\"url\":\"https:\\/\\/pp.userapi.com\\/c846417\\/v846417649\\/18b3ba\\/j04uBm7-8ts.jpg\",\"width\":130,\"height\":130},{\"type\":\"p\",\"url\":\"https:\\/\\/pp.userapi.com\\/c846417\\/v846417649\\/18b3bb\\/6diyPkSdLGY.jpg\",\"width\":200,\"height\":200},{\"type\":\"q\",\"url\":\"https:\\/\\/pp.userapi.com\\/c846417\\/v846417649\\/18b3bc\\/qWKuXa0fcDY.jpg\",\"width\":320,\"height\":320},{\"type\":\"r\",\"url\":\"https:\\/\\/pp.userapi.com\\/c846417\\/v846417649\\/18b3bd\\/FSUkN_mgXCE.jpg\",\"width\":510,\"height\":510},{\"type\":\"s\",\"url\":\"https:\\/\\/pp.userapi.com\\/c846417\\/v846417649\\/18b3b4\\/2qy8twGPjqQ.jpg\",\"width\":75,\"height\":75},{\"type\":\"w\",\"url\":\"https:\\/\\/pp.userapi.com\\/c846417\\/v846417649\\/18b3b9\\/fKW_Vd-QxAI.jpg\",\"width\":1608,\"height\":1608},{\"type\":\"x\",\"url\":\"https:\\/\\/pp.userapi.com\\/c846417\\/v846417649\\/18b3b6\\/YL9Q7zhev2U.jpg\",\"width\":604,\"height\":604},{\"type\":\"y\",\"url\":\"https:\\/\\/pp.userapi.com\\/c846417\\/v846417649\\/18b3b7\\/Tz72Ft9iX2c.jpg\",\"width\":807,\"height\":807},{\"type\":\"z\",\"url\":\"https:\\/\\/pp.userapi.com\\/c846417\\/v846417649\\/18b3b8\\/8oBDNEKpcso.jpg\",\"width\":1080,\"height\":1080}],\"text\":\"\",\"date\":1548939897,\"access_key\":\"2bb541647037a2d32b\"}},{\"type\":\"audio\",\"audio\":{\"id\":456242783,\"owner_id\":2000184393,\"artist\":\"Dog Chasing Sun\",\"title\":\"Red Dead Redemption\",\"duration\":25,\"date\":1549022145,\"url\":\"https:\\/\\/vk.com\\/mp3\\/audio_api_unavailable.mp3\",\"album_id\":2,\"is_hq\":true,\"track_code\":\"ec04990cDWK1EN622Yy-KrSn_pbVXq7UpZIVJDq0dYn-V20jVuk7XuFcmoiL1NFv5_0\",\"is_explicit\":false}},{\"type\":\"audio\",\"audio\":{\"id\":456242471,\"owner_id\":2000185896,\"artist\":\"Dog Chasing Sun\",\"title\":\"Dog Days\",\"duration\":25,\"date\":1549022145,\"url\":\"https:\\/\\/vk.com\\/mp3\\/audio_api_unavailable.mp3\",\"album_id\":2,\"is_hq\":true,\"track_code\":\"f8298249lE42lBFurEm4msg1Fb-z8ihYS2OBHypFxNAJffCUSCmicmLYVVD-Edffm28\",\"is_explicit\":false}},{\"type\":\"audio\",\"audio\":{\"id\":456242672,\"owner_id\":2000184914,\"artist\":\"Dog Chasing Sun\",\"title\":\"Sabbath\",\"duration\":25,\"date\":1549022145,\"url\":\"https:\\/\\/vk.com\\/mp3\\/audio_api_unavailable.mp3\",\"album_id\":2,\"is_hq\":true,\"track_code\":\"2d1ce451ymKACA3hrJtQw-XZ7Pepk1z9dlk8FU-ZipUnc7Zoyqz8XtRESd_-wz-GtoM\",\"is_explicit\":false}},{\"type\":\"audio\",\"audio\":{\"id\":456242326,\"owner_id\":2000186343,\"artist\":\"Dog Chasing Sun\",\"title\":\"Mushroom Shaman\",\"duration\":25,\"date\":1549022145,\"url\":\"https:\\/\\/vk.com\\/mp3\\/audio_api_unavailable.mp3\",\"album_id\":2,\"is_hq\":true,\"track_code\":\"3f7c2b98PlQAPcDlsGNcBMc0JZQsWkhaD5zOkjfWYlLSucrpDRYIaFRxhNviOzNBlG4\",\"is_explicit\":false}},{\"type\":\"audio\",\"audio\":{\"id\":456242208,\"owner_id\":2000187548,\"artist\":\"Dog Chasing Sun\",\"title\":\"Weed Powered Spaceship\",\"duration\":25,\"date\":1549022145,\"url\":\"https:\\/\\/vk.com\\/mp3\\/audio_api_unavailable.mp3\",\"album_id\":2,\"is_hq\":true,\"track_code\":\"94a7ca6dTWL1c-EEdy06KNPUjWYJ8zg4AR5yipsZp-_Jr1QWfn97XqE_pToldVVtgI4\",\"is_explicit\":false}},{\"type\":\"audio\",\"audio\":{\"id\":456242647,\"owner_id\":2000184569,\"artist\":\"Dog Chasing Sun\",\"title\":\"Spiritual Healing\",\"duration\":25,\"date\":1549022145,\"url\":\"https:\\/\\/vk.com\\/mp3\\/audio_api_unavailable.mp3\",\"album_id\":2,\"is_hq\":true,\"track_code\":\"db589cdbeodayHKx3Ge0ReFPwj1Xx7rQbSUvoi2b5JH6Lk1FEeRMuw6ENo-OP9sAshU\",\"is_explicit\":false}},{\"type\":\"audio\",\"audio\":{\"id\":456242267,\"owner_id\":2000186758,\"artist\":\"Dog Chasing Sun\",\"title\":\"The Roadrunner\",\"duration\":25,\"date\":1549022145,\"url\":\"https:\\/\\/vk.com\\/mp3\\/audio_api_unavailable.mp3\",\"album_id\":2,\"is_hq\":true,\"track_code\":\"7ad4a497UPYNIqY0Scswcb7UfoJQg-v1RK_CWCqZZXMz7O-gxzFmyllu4gobk1807Y4\",\"is_explicit\":false}},{\"type\":\"audio\",\"audio\":{\"id\":456242250,\"owner_id\":2000187444,\"artist\":\"Dog Chasing Sun\",\"title\":\"Pale Rider\",\"duration\":25,\"date\":1549022145,\"url\":\"https:\\/\\/vk.com\\/mp3\\/audio_api_unavailable.mp3\",\"album_id\":2,\"is_hq\":true,\"track_code\":\"f165aafeXfv48TF9IMBnIrT4cxwTS0vSIAY82taJ2zq9ANo3qO9rx6y9dUNymAhn56I\",\"is_explicit\":false}},{\"type\":\"audio\",\"audio\":{\"id\":456242506,\"owner_id\":2000185467,\"artist\":\"Dog Chasing Sun\",\"title\":\"The Final Chapter\",\"duration\":25,\"date\":1549022145,\"url\":\"https:\\/\\/vk.com\\/mp3\\/audio_api_unavailable.mp3\",\"album_id\":2,\"is_hq\":true,\"track_code\":\"a45213c4HFGfq-Z7LgBJwzRklHMsvkO_vOJ7omi2UeoHBgnoSvgqbcvnokV8WCaGZz4\",\"is_explicit\":false}}],\"post_source\":{\"type\":\"vk\"}}],\"post_source\":{\"type\":\"vk\"},\"comments\":{\"count\":0,\"can_post\":0,\"groups_can_post\":true},\"likes\":{\"count\":0,\"user_likes\":0,\"can_like\":1,\"can_publish\":1},\"reposts\":{\"count\":0,\"user_reposted\":0},\"views\":{\"count\":24},\"is_favorite\":false},{\"id\":5508,\"from_id\":1789350,\"owner_id\":1789350,\"date\":1549097231,\"post_type\":\"post\",\"text\":\"\",\"copy_history\":[{\"id\":100148,\"owner_id\":-26457580,\"from_id\":-26457580,\"date\":1548596427,\"post_type\":\"post\",\"text\":\"ÖfÖ Am — Tales from Outerspace: An Octaman's Odyssey (2018)\\n\\n2-й альбом трио из Монпелье\\n\\nссылки, плейлист, mp3 и flac в комментариях👇\\n#instrumental #stoner_rock #stoner_psych #France | #fadeaway\",\"signer_id\":45304509,\"attachments\":[{\"type\":\"photo\",\"photo\":{\"id\":456241751,\"album_id\":-7,\"owner_id\":-26457580,\"user_id\":100,\"sizes\":[{\"type\":\"m\",\"url\":\"https:\\/\\/pp.userapi.com\\/c846216\\/v846216631\\/18ed78\\/FTbPfhV_I70.jpg\",\"width\":130,\"height\":130},{\"type\":\"o\",\"url\":\"https:\\/\\/pp.userapi.com\\/c846216\\/v846216631\\/18ed7d\\/uUi26DYP4i0.jpg\",\"width\":130,\"height\":130},{\"type\":\"p\",\"url\":\"https:\\/\\/pp.userapi.com\\/c846216\\/v846216631\\/18ed7e\\/nM7nOE4HY7g.jpg\",\"width\":200,\"height\":200},{\"type\":\"q\",\"url\":\"https:\\/\\/pp.userapi.com\\/c846216\\/v846216631\\/18ed7f\\/VOXSisoEePo.jpg\",\"width\":320,\"height\":320},{\"type\":\"r\",\"url\":\"https:\\/\\/pp.userapi.com\\/c846216\\/v846216631\\/18ed80\\/u0Z2xD0PHAE.jpg\",\"width\":510,\"height\":510},{\"type\":\"s\",\"url\":\"https:\\/\\/pp.userapi.com\\/c846216\\/v846216631\\/18ed77\\/uQv_llziC-s.jpg\",\"width\":75,\"height\":75},{\"type\":\"w\",\"url\":\"https:\\/\\/pp.userapi.com\\/c846216\\/v846216631\\/18ed7c\\/RqpTJVSkZhk.jpg\",\"width\":1400,\"height\":1400},{\"type\":\"x\",\"url\":\"https:\\/\\/pp.userapi.com\\/c846216\\/v846216631\\/18ed79\\/4rT7DV99Nsw.jpg\",\"width\":604,\"height\":604},{\"type\":\"y\",\"url\":\"https:\\/\\/pp.userapi.com\\/c846216\\/v846216631\\/18ed7a\\/G9U7IQG7lAk.jpg\",\"width\":807,\"height\":807},{\"type\":\"z\",\"url\":\"https:\\/\\/pp.userapi.com\\/c846216\\/v846216631\\/18ed7b\\/aBPitx5f08Q.jpg\",\"width\":1080,\"height\":1080}],\"text\":\"\",\"date\":1548596427,\"post_id\":100148,\"access_key\":\"3fe6fae3733952b2a3\"}},{\"type\":\"audio\",\"audio\":{\"id\":456242768,\"owner_id\":2000174323,\"artist\":\"ÖfÖ Am\",\"title\":\"Bamakö\",\"duration\":25,\"date\":1548596427,\"url\":\"https:\\/\\/vk.com\\/mp3\\/audio_api_unavailable.mp3\",\"is_hq\":true,\"track_code\":\"421e1aa0tFkMnjOAbS5EzivYbQ-cP6VSVFblCJAw944ciISAhOqCZVjSd74_diuIfow\",\"is_explicit\":false}},{\"type\":\"audio\",\"audio\":{\"id\":456242554,\"owner_id\":2000175532,\"artist\":\"ÖfÖ Am\",\"title\":\"Gergövie\",\"duration\":25,\"date\":1548596427,\"url\":\"https:\\/\\/vk.com\\/mp3\\/audio_api_unavailable.mp3\",\"is_hq\":true,\"track_code\":\"fc0a8870UdBdhu_1BtOYdHhSAf--qql0yz7MdrrwSQ607LKosTVn7AnKq8tUi_cyLQY\",\"is_explicit\":false}},{\"type\":\"audio\",\"audio\":{\"id\":456242304,\"owner_id\":2000176799,\"artist\":\"ÖfÖ Am\",\"title\":\"Eddy's Funeral\",\"duration\":25,\"date\":1548596427,\"url\":\"https:\\/\\/vk.com\\/mp3\\/audio_api_unavailable.mp3\",\"is_hq\":true,\"track_code\":\"8a1cdae3BS6dVpIOhPr_LMSvzgxaIoXSJkUseJpmindjsVPWQS8zEska1jDWopBqkfs\",\"is_explicit\":false}},{\"type\":\"audio\",\"audio\":{\"id\":456242442,\"owner_id\":2000175917,\"artist\":\"ÖfÖ Am\",\"title\":\"Eye öf the Öctopus\",\"duration\":25,\"date\":1548596427,\"url\":\"https:\\/\\/vk.com\\/mp3\\/audio_api_unavailable.mp3\",\"is_hq\":true,\"track_code\":\"91799e49b1ZrBvyoYCWTij1CxCuNCyT0blj1wl9kBnBHTe5dColZaj9KuJYyffzMaBY\",\"is_explicit\":false}},{\"type\":\"audio\",\"audio\":{\"id\":456242610,\"owner_id\":2000174744,\"artist\":\"ÖfÖ Am\",\"title\":\"Tears öf Cönstellation\",\"duration\":25,\"date\":1548596427,\"url\":\"https:\\/\\/vk.com\\/mp3\\/audio_api_unavailable.mp3\",\"is_hq\":true,\"track_code\":\"380b5a333p3hKGSnViBYhXRCzav4hgOhAznz5Bom_H9cpDUbUFXoobVkIJkEeDfDIRY\",\"is_explicit\":false}},{\"type\":\"audio\",\"audio\":{\"id\":456242079,\"owner_id\":2000177789,\"artist\":\"ÖfÖ Am\",\"title\":\"Terror Is Öctaman\",\"duration\":25,\"date\":1548596427,\"url\":\"https:\\/\\/vk.com\\/mp3\\/audio_api_unavailable.mp3\",\"is_hq\":true,\"track_code\":\"9275f88fSr696_5-9Q5S4UOSlXM1FiwXynaMUWdYOO0F6W6vYu98gumnukCnVj2nFsY\",\"is_explicit\":false}},{\"type\":\"audio\",\"audio\":{\"id\":456242775,\"owner_id\":2000174298,\"artist\":\"ÖfÖ Am\",\"title\":\"Symphony öf Tentacles\",\"duration\":25,\"date\":1548596427,\"url\":\"https:\\/\\/vk.com\\/mp3\\/audio_api_unavailable.mp3\",\"is_hq\":true,\"track_code\":\"ce00c165aU-R3oClgV386Ax50bIt_Kc4z9T_-8MfvELV8URy64dfc8WSxJvTBZOuWS0\",\"is_explicit\":false}},{\"type\":\"audio\",\"audio\":{\"id\":456242367,\"owner_id\":2000176370,\"artist\":\"ÖfÖ Am\",\"title\":\"Anarchö Shivaïst Regency\",\"duration\":25,\"date\":1548596427,\"url\":\"https:\\/\\/vk.com\\/mp3\\/audio_api_unavailable.mp3\",\"is_hq\":true,\"track_code\":\"cbba141ehDlOH_GUuztuKYEephcBnjVNM2m795SHOSao7uoUluOyBRpTtarpYwFv1Eo\",\"is_explicit\":false}},{\"type\":\"audio\",\"audio\":{\"id\":456242366,\"owner_id\":2000176177,\"artist\":\"ÖfÖ Am\",\"title\":\"The Battle Öf...\",\"duration\":25,\"date\":1548596427,\"url\":\"https:\\/\\/vk.com\\/mp3\\/audio_api_unavailable.mp3\",\"is_hq\":true,\"track_code\":\"05b03897QJ5nGgeU4Jmwii0C4Cm1Ln6CrHti85ELkR9y3nYCIbh2ojNWQ6qywd_MeFY\",\"is_explicit\":false}}],\"post_source\":{\"type\":\"vk\"}}],\"post_source\":{\"type\":\"vk\"},\"comments\":{\"count\":0,\"can_post\":0,\"groups_can_post\":true},\"likes\":{\"count\":0,\"user_likes\":0,\"can_like\":1,\"can_publish\":1},\"reposts\":{\"count\":0,\"user_reposted\":0},\"views\":{\"count\":22},\"is_favorite\":false},{\"id\":5507,\"from_id\":1789350,\"owner_id\":1789350,\"date\":1547118546,\"post_type\":\"post\",\"text\":\"\",\"copy_history\":[{\"id\":459296,\"owner_id\":-4100014,\"from_id\":-4100014,\"date\":1546967192,\"post_type\":\"post\",\"text\":\"Фёдоров и Крузенштерн – Гимн Чуме (2019)\\nExperimental Rock \\/ Avant-Garde \\/ Art rock (Russia \\/ Israel) \\n\\nПесни на стихи Александра Пушкина в совместном альбоме лидера АукцЫона Леонида Фёдорова и Игоря Крутоголова из израильской группы Крузенштерн и пароход. Премьера состоялась на образовательном портале Arzamas с комментариями филолога: https:\\/\\/vk.cc\\/8Tk3Op\",\"attachments\":[{\"type\":\"photo\",\"photo\":{\"id\":456248155,\"album_id\":-7,\"owner_id\":-4100014,\"user_id\":100,\"sizes\":[{\"type\":\"m\",\"url\":\"https:\\/\\/pp.userapi.com\\/c850228\\/v850228176\\/b2566\\/0a5oM5wH6_Y.jpg\",\"width\":130,\"height\":130},{\"type\":\"o\",\"url\":\"https:\\/\\/pp.userapi.com\\/c850228\\/v850228176\\/b256a\\/F2Ny8N1bTVU.jpg\",\"width\":130,\"height\":130},{\"type\":\"p\",\"url\":\"https:\\/\\/pp.userapi.com\\/c850228\\/v850228176\\/b256b\\/IoJuKZyEeGU.jpg\",\"width\":200,\"height\":200},{\"type\":\"q\",\"url\":\"https:\\/\\/pp.userapi.com\\/c850228\\/v850228176\\/b256c\\/x3ffcQzQ-d8.jpg\",\"width\":320,\"height\":320},{\"type\":\"r\",\"url\":\"https:\\/\\/pp.userapi.com\\/c850228\\/v850228176\\/b256d\\/Of1vX4ltlng.jpg\",\"width\":510,\"height\":510},{\"type\":\"s\",\"url\":\"https:\\/\\/pp.userapi.com\\/c850228\\/v850228176\\/b2565\\/jiiI0St6QVA.jpg\",\"width\":75,\"height\":75},{\"type\":\"x\",\"url\":\"https:\\/\\/pp.userapi.com\\/c850228\\/v850228176\\/b2567\\/isgv1mLCBT0.jpg\",\"width\":604,\"height\":604},{\"type\":\"y\",\"url\":\"https:\\/\\/pp.userapi.com\\/c850228\\/v850228176\\/b2568\\/_8A0nDCDaDc.jpg\",\"width\":807,\"height\":807},{\"type\":\"z\",\"url\":\"https:\\/\\/pp.userapi.com\\/c850228\\/v850228176\\/b2569\\/w3wjBAcgg7A.jpg\",\"width\":998,\"height\":998}],\"text\":\"\",\"date\":1546866922,\"access_key\":\"63c91cf2c932b62ab9\"}},{\"type\":\"audio\",\"audio\":{\"id\":456242641,\"owner_id\":2000137885,\"artist\":\"Леонид Федоров и Игорь Крутоголов\",\"title\":\"Гимн Чуме\",\"duration\":25,\"date\":1546964108,\"url\":\"https:\\/\\/vk.com\\/mp3\\/audio_api_unavailable.mp3\",\"album_id\":2,\"genre_id\":1001,\"is_hq\":true,\"track_code\":\"2a8283e9mxWmRrjKbRTN-UP7G_8lo8KIWY0RbzxlBnYW5UtoApeoLvYGk587RaC3FA\",\"is_explicit\":false}},{\"type\":\"audio\",\"audio\":{\"id\":456242756,\"owner_id\":2000137040,\"artist\":\"Леонид Федоров и Игорь Крутоголов\",\"title\":\"Эхо\",\"duration\":25,\"date\":1546964108,\"url\":\"https:\\/\\/vk.com\\/mp3\\/audio_api_unavailable.mp3\",\"album_id\":2,\"genre_id\":1001,\"is_hq\":true,\"track_code\":\"70f1f759OtKevxMjZyzA4_u2ashrRPjm84vn9Y49KPN6xG3vWQ4J6c7_OHYxfa2trA\",\"is_explicit\":false}},{\"type\":\"audio\",\"audio\":{\"id\":456242728,\"owner_id\":2000137836,\"artist\":\"Леонид Федоров и Игорь Крутоголов\",\"title\":\"Мне Вас не Жаль\",\"duration\":25,\"date\":1546964108,\"url\":\"https:\\/\\/vk.com\\/mp3\\/audio_api_unavailable.mp3\",\"album_id\":2,\"is_hq\":true,\"track_code\":\"d3d78e2abqnJHyp8WQgI3VottkNMn81agYDdtRzT2ecRMP0-nQZdkplfASkPWWWTDQ\",\"is_explicit\":false}},{\"type\":\"audio\",\"audio\":{\"id\":456242362,\"owner_id\":2000139584,\"artist\":\"Леонид Федоров и Игорь Крутоголов\",\"title\":\"Талисман\",\"duration\":25,\"date\":1546964108,\"url\":\"https:\\/\\/vk.com\\/mp3\\/audio_api_unavailable.mp3\",\"album_id\":2,\"is_hq\":true,\"track_code\":\"176ad5abnlY31kDg9RVRkAnXBjU58Nu9SS6ZgCVo5d6kjJBfyi2tbWeWa7WjRDzeXg\",\"is_explicit\":false}},{\"type\":\"audio\",\"audio\":{\"id\":456242637,\"owner_id\":2000138093,\"artist\":\"Леонид Федоров и Игорь Крутоголов\",\"title\":\"Волшебница\",\"duration\":25,\"date\":1546964108,\"url\":\"https:\\/\\/vk.com\\/mp3\\/audio_api_unavailable.mp3\",\"album_id\":2,\"is_hq\":true,\"track_code\":\"425f62b8ZN_qTz7mJQeIq2sbAWCR1spBcfClMr__8HVFTdcK9sdX5LoPFbNzVuXlPA\",\"is_explicit\":false}},{\"type\":\"audio\",\"audio\":{\"id\":456242374,\"owner_id\":2000139429,\"artist\":\"Леонид Федоров и Игорь Крутоголов\",\"title\":\"Памятник\",\"duration\":25,\"date\":1546964108,\"url\":\"https:\\/\\/vk.com\\/mp3\\/audio_api_unavailable.mp3\",\"album_id\":2,\"is_hq\":true,\"track_code\":\"b9c39831Rikr1oE2qEfwlrChQTEcW2lkCVKh_czoI2bHnLCTart1EnuWqmP-Fp3Y5w\",\"is_explicit\":false}},{\"type\":\"audio\",\"audio\":{\"id\":456242684,\"owner_id\":2000137593,\"artist\":\"Леонид Федоров и Игорь Крутоголов\",\"title\":\"Дар\",\"duration\":25,\"date\":1546964108,\"url\":\"https:\\/\\/vk.com\\/mp3\\/audio_api_unavailable.mp3\",\"album_id\":2,\"is_hq\":true,\"track_code\":\"4a3ec3cd7i8eBDjQWC76WIrNg8vpO5UPXGssRFG5ybqoELiKL8DdFE5EE4UOf5cW3Q\",\"is_explicit\":false}},{\"type\":\"audio\",\"audio\":{\"id\":456242828,\"owner_id\":2000136658,\"artist\":\"Леонид Федоров и Игорь Крутоголов\",\"title\":\"Цветок\",\"duration\":25,\"date\":1546964108,\"url\":\"https:\\/\\/vk.com\\/mp3\\/audio_api_unavailable.mp3\",\"album_id\":2,\"is_hq\":true,\"track_code\":\"bbe5089feY0LR7VSuj2NnpyfMUEEjQMePSO26S564JEOhX1HnqRKtlsHngfsbODQyw\",\"is_explicit\":false}},{\"type\":\"audio\",\"audio\":{\"id\":456242706,\"owner_id\":2000137452,\"artist\":\"Леонид Федоров и Игорь Крутоголов\",\"title\":\"Кружка\",\"duration\":25,\"date\":1546964108,\"url\":\"https:\\/\\/vk.com\\/mp3\\/audio_api_unavailable.mp3\",\"album_id\":2,\"is_hq\":true,\"track_code\":\"bbc03561LiZOst7x5zfC03q5xeQTluqYCMpo5VaI8sOMcIgnBJIdHR7y9aSxZq-dLQ\",\"is_explicit\":false}}],\"post_source\":{\"type\":\"vk\"}}],\"post_source\":{\"type\":\"vk\"},\"comments\":{\"count\":0,\"can_post\":0,\"groups_can_post\":true},\"likes\":{\"count\":1,\"user_likes\":0,\"can_like\":1,\"can_publish\":1},\"reposts\":{\"count\":0,\"user_reposted\":0},\"views\":{\"count\":24},\"is_favorite\":false},{\"id\":5506,\"from_id\":1789350,\"owner_id\":1789350,\"date\":1547111728,\"post_type\":\"post\",\"text\":\"\",\"copy_history\":[{\"id\":99698,\"owner_id\":-26457580,\"from_id\":-26457580,\"date\":1546007831,\"post_type\":\"post\",\"text\":\"Demiurgo — Weedian Priest (2018)\\n\\nДымящийся дебют от немцев. Сочный и маслянистый, словно свежесорванная сенсимилья.\\n\\nссылки, плейлист, mp3 и flac в комментариях 👇\\n#instrumental #stoner #desert #fuzz #Germany | #fadeaway\",\"signer_id\":45304509,\"attachments\":[{\"type\":\"photo\",\"photo\":{\"id\":456241603,\"album_id\":-7,\"owner_id\":-26457580,\"user_id\":100,\"sizes\":[{\"type\":\"m\",\"url\":\"https:\\/\\/pp.userapi.com\\/c850016\\/v850016352\\/e9bbb\\/OwN49-ti0U4.jpg\",\"width\":130,\"height\":130},{\"type\":\"o\",\"url\":\"https:\\/\\/pp.userapi.com\\/c850016\\/v850016352\\/e9bc0\\/wuEG7j2gij8.jpg\",\"width\":130,\"height\":130},{\"type\":\"p\",\"url\":\"https:\\/\\/pp.userapi.com\\/c850016\\/v850016352\\/e9bc1\\/riO7_r8IT6U.jpg\",\"width\":200,\"height\":200},{\"type\":\"q\",\"url\":\"https:\\/\\/pp.userapi.com\\/c850016\\/v850016352\\/e9bc2\\/IRFeFVqaZRM.jpg\",\"width\":320,\"height\":320},{\"type\":\"r\",\"url\":\"https:\\/\\/pp.userapi.com\\/c850016\\/v850016352\\/e9bc3\\/0Ode7eY5Md0.jpg\",\"width\":510,\"height\":510},{\"type\":\"s\",\"url\":\"https:\\/\\/pp.userapi.com\\/c850016\\/v850016352\\/e9bba\\/W8WlLVt1T9c.jpg\",\"width\":75,\"height\":75},{\"type\":\"w\",\"url\":\"https:\\/\\/pp.userapi.com\\/c850016\\/v850016352\\/e9bbf\\/ft10VEwvN2Q.jpg\",\"width\":1400,\"height\":1400},{\"type\":\"x\",\"url\":\"https:\\/\\/pp.userapi.com\\/c850016\\/v850016352\\/e9bbc\\/7uJwDDNhAoA.jpg\",\"width\":604,\"height\":604},{\"type\":\"y\",\"url\":\"https:\\/\\/pp.userapi.com\\/c850016\\/v850016352\\/e9bbd\\/bi4o5JLl0Do.jpg\",\"width\":807,\"height\":807},{\"type\":\"z\",\"url\":\"https:\\/\\/pp.userapi.com\\/c850016\\/v850016352\\/e9bbe\\/5iXwQCPb0tQ.jpg\",\"width\":1080,\"height\":1080}],\"text\":\"\",\"date\":1546007831,\"post_id\":99698,\"access_key\":\"78a37941f31bc74a12\"}},{\"type\":\"audio\",\"audio\":{\"id\":456242380,\"owner_id\":2000116803,\"artist\":\"Demiurgo\",\"title\":\"Weedian Priest\",\"duration\":25,\"date\":1546007831,\"url\":\"https:\\/\\/vk.com\\/mp3\\/audio_api_unavailable.mp3\",\"is_hq\":true,\"track_code\":\"858953c48H1UV7Uh74_23h37dxs8I5ymm28OiKeiv9XjUi9qv3rGQQAb8R-13p-QRA\",\"is_explicit\":false}},{\"type\":\"audio\",\"audio\":{\"id\":456242243,\"owner_id\":2000117056,\"artist\":\"Demiurgo\",\"title\":\"The Journey\",\"duration\":25,\"date\":1546007831,\"url\":\"https:\\/\\/vk.com\\/mp3\\/audio_api_unavailable.mp3\",\"is_hq\":true,\"track_code\":\"aefb2160n0uvNHbkUxT3tXiTFDU7C4aQ2gJvdXySxFNmjDBAVJCpd_t4MtoJRZ77IQ\",\"is_explicit\":false}},{\"type\":\"audio\",\"audio\":{\"id\":456242621,\"owner_id\":2000115223,\"artist\":\"Demiurgo\",\"title\":\"Doomsday\",\"duration\":25,\"date\":1546007831,\"url\":\"https:\\/\\/vk.com\\/mp3\\/audio_api_unavailable.mp3\",\"is_hq\":true,\"track_code\":\"385ab67dor3L_lovIYK6leB29tmc-JbLJpf-yw2EMKK50f0mgDGUgZ-yHhF709PbuQ\",\"is_explicit\":false}},{\"type\":\"audio\",\"audio\":{\"id\":456242864,\"owner_id\":2000113929,\"artist\":\"Demiurgo\",\"title\":\"Motor\",\"duration\":25,\"date\":1546007831,\"url\":\"https:\\/\\/vk.com\\/mp3\\/audio_api_unavailable.mp3\",\"is_hq\":true,\"track_code\":\"d15fef9d3JNl37O31C8ypONtjFO2aFTZPxLF3O-dDQqjksUFYPDqrzGT94mOflvqug\",\"is_explicit\":false}},{\"type\":\"audio\",\"audio\":{\"id\":456242658,\"owner_id\":2000115217,\"artist\":\"Demiurgo\",\"title\":\"Yellow King\",\"duration\":25,\"date\":1546007831,\"url\":\"https:\\/\\/vk.com\\/mp3\\/audio_api_unavailable.mp3\",\"is_hq\":true,\"track_code\":\"c293e2c5pveDtyV6xYA_GLMPcJkOfFcf7Izy_9s93jJN5fotRxuQy9f7YUSf0VZW6g\",\"is_explicit\":false}}],\"post_source\":{\"type\":\"vk\"}}],\"post_source\":{\"type\":\"vk\"},\"comments\":{\"count\":0,\"can_post\":0,\"groups_can_post\":true},\"likes\":{\"count\":0,\"user_likes\":0,\"can_like\":1,\"can_publish\":1},\"reposts\":{\"count\":0,\"user_reposted\":0},\"views\":{\"count\":24},\"is_favorite\":false},{\"id\":5505,\"from_id\":1789350,\"owner_id\":1789350,\"date\":1545980651,\"post_type\":\"post\",\"text\":\"\",\"copy_history\":[{\"id\":99676,\"owner_id\":-26457580,\"from_id\":-26457580,\"date\":1545934555,\"post_type\":\"post\",\"text\":\"Wizard Must Die — In the Land of the Dead Turtles (2018)\\n\\nТрио из Лиона. Дебютный альбом.\\n\\nссылки, плейлист, mp3 и flac в комментариях 👇\\n#stoner #desert #psych #prog #France | #fadeaway\",\"signer_id\":45304509,\"attachments\":[{\"type\":\"photo\",\"photo\":{\"id\":456241600,\"album_id\":-7,\"owner_id\":-26457580,\"user_id\":100,\"sizes\":[{\"type\":\"m\",\"url\":\"https:\\/\\/pp.userapi.com\\/c849224\\/v849224507\\/f34b0\\/CPWH0gaf_fA.jpg\",\"width\":130,\"height\":130},{\"type\":\"o\",\"url\":\"https:\\/\\/pp.userapi.com\\/c849224\\/v849224507\\/f34b5\\/pzhpKc2XdwU.jpg\",\"width\":130,\"height\":130},{\"type\":\"p\",\"url\":\"https:\\/\\/pp.userapi.com\\/c849224\\/v849224507\\/f34b6\\/ZJEqE8i1dhk.jpg\",\"width\":200,\"height\":200},{\"type\":\"q\",\"url\":\"https:\\/\\/pp.userapi.com\\/c849224\\/v849224507\\/f34b7\\/hdZhUkLXgAY.jpg\",\"width\":320,\"height\":320},{\"type\":\"r\",\"url\":\"https:\\/\\/pp.userapi.com\\/c849224\\/v849224507\\/f34b8\\/MqkN9fJboBY.jpg\",\"width\":510,\"height\":510},{\"type\":\"s\",\"url\":\"https:\\/\\/pp.userapi.com\\/c849224\\/v849224507\\/f34af\\/1M0tP4q_fF8.jpg\",\"width\":75,\"height\":75},{\"type\":\"w\",\"url\":\"https:\\/\\/pp.userapi.com\\/c849224\\/v849224507\\/f34b4\\/vATws2a-iro.jpg\",\"width\":1400,\"height\":1400},{\"type\":\"x\",\"url\":\"https:\\/\\/pp.userapi.com\\/c849224\\/v849224507\\/f34b1\\/Wb4F5UosUuA.jpg\",\"width\":604,\"height\":604},{\"type\":\"y\",\"url\":\"https:\\/\\/pp.userapi.com\\/c849224\\/v849224507\\/f34b2\\/wgTodGcNZrg.jpg\",\"width\":807,\"height\":807},{\"type\":\"z\",\"url\":\"https:\\/\\/pp.userapi.com\\/c849224\\/v849224507\\/f34b3\\/760jPBulIw0.jpg\",\"width\":1080,\"height\":1080}],\"text\":\"\",\"date\":1545934555,\"post_id\":99676,\"access_key\":\"aa746756da173370bf\"}},{\"type\":\"audio\",\"audio\":{\"id\":456242315,\"owner_id\":2000115800,\"artist\":\"Wizard Must Die\",\"title\":\"In the Land\",\"duration\":25,\"date\":1545934555,\"url\":\"https:\\/\\/vk.com\\/mp3\\/audio_api_unavailable.mp3\",\"is_hq\":true,\"track_code\":\"35432534fyWwkKbEDpDU_BZYcyPKqBE_MafwRFgWu_ssjne8XGtJGeTc4vpUwb28QQ\",\"is_explicit\":false}},{\"type\":\"audio\",\"audio\":{\"id\":456242695,\"owner_id\":2000113378,\"artist\":\"Wizard Must Die\",\"title\":\"From their Blood to the Sea\",\"duration\":25,\"date\":1545934555,\"url\":\"https:\\/\\/vk.com\\/mp3\\/audio_api_unavailable.mp3\",\"is_hq\":true,\"track_code\":\"60174b2bAtg-ePdITG45YSF4tzhF0K8L8XnMYO_OIkUkNE46DeM05Go0s3YWP1Ahdg\",\"is_explicit\":false}},{\"type\":\"audio\",\"audio\":{\"id\":456242933,\"owner_id\":2000112802,\"artist\":\"Wizard Must Die\",\"title\":\"Umibe no Kafuka\",\"duration\":25,\"date\":1545934555,\"url\":\"https:\\/\\/vk.com\\/mp3\\/audio_api_unavailable.mp3\",\"is_hq\":true,\"track_code\":\"fe06d3abKwuvdIU2KLd20Y4YyHtoCbQ4QzRz7tMNdYKz-Bo6ifIdN_s4wQhy5h-R2Q\",\"is_explicit\":false}},{\"type\":\"audio\",\"audio\":{\"id\":456242709,\"owner_id\":2000113297,\"artist\":\"Wizard Must Die\",\"title\":\"Empty Shell\",\"duration\":25,\"date\":1545934555,\"url\":\"https:\\/\\/vk.com\\/mp3\\/audio_api_unavailable.mp3\",\"is_hq\":true,\"track_code\":\"e4208264MZXhCXXugJXNSOgB4n5o2-ejHUK0-x7vvArwP7wH5TEHqbVFMdDaxKQIvw\",\"is_explicit\":false}},{\"type\":\"audio\",\"audio\":{\"id\":456242729,\"owner_id\":2000112773,\"artist\":\"Wizard Must Die\",\"title\":\"Logical Math Carnage\",\"duration\":25,\"date\":1545934555,\"url\":\"https:\\/\\/vk.com\\/mp3\\/audio_api_unavailable.mp3\",\"is_hq\":true,\"track_code\":\"9b4a2fc9Eir1fG-SuqHJVg7LLgGZzoz-yphWHUEM0-xwJ7gQ4ZUkFqEwK6zg8KAWWQ\",\"is_explicit\":false}},{\"type\":\"audio\",\"audio\":{\"id\":456242627,\"owner_id\":2000113883,\"artist\":\"Wizard Must Die\",\"title\":\"A Sleeping Wave\",\"duration\":25,\"date\":1545934555,\"url\":\"https:\\/\\/vk.com\\/mp3\\/audio_api_unavailable.mp3\",\"is_hq\":true,\"track_code\":\"f2903191wRlw3MA8PgX_Y9eu_1U0IBRwugE79OgRdzS8UjUpHeL3JSSQhAJkVJYjgA\",\"is_explicit\":false}},{\"type\":\"audio\",\"audio\":{\"id\":456242434,\"owner_id\":2000114448,\"artist\":\"Wizard Must Die\",\"title\":\"Odyssey\",\"duration\":25,\"date\":1545934555,\"url\":\"https:\\/\\/vk.com\\/mp3\\/audio_api_unavailable.mp3\",\"is_hq\":true,\"track_code\":\"ae1f00e3MeznCLqVgQC1XgtF2y2cL5tRqrfq9ypTl4Xh1qnBrHQH0LNE_qvbUdweXA\",\"is_explicit\":false}}],\"post_source\":{\"type\":\"vk\"}}],\"post_source\":{\"type\":\"vk\"},\"comments\":{\"count\":0,\"can_post\":0,\"groups_can_post\":true},\"likes\":{\"count\":0,\"user_likes\":0,\"can_like\":1,\"can_publish\":1},\"reposts\":{\"count\":0,\"user_reposted\":0},\"views\":{\"count\":33},\"is_favorite\":false},{\"id\":5504,\"from_id\":1789350,\"owner_id\":1789350,\"date\":1545809864,\"post_type\":\"post\",\"text\":\"\",\"copy_history\":[{\"id\":99496,\"owner_id\":-26457580,\"from_id\":-26457580,\"date\":1545599214,\"post_type\":\"post\",\"text\":\"Gods & Punks — Enter the Ceremony of Damnation (2018)\\n\\n2-й полноформат банды из Рио\\n\\nссылки, плейлист, mp3 и flac в комментариях👇🏻\\n#stoner_metal #Brazil | #fadeaway\",\"signer_id\":45304509,\"attachments\":[{\"type\":\"photo\",\"photo\":{\"id\":456241569,\"album_id\":-7,\"owner_id\":-26457580,\"user_id\":100,\"sizes\":[{\"type\":\"m\",\"url\":\"https:\\/\\/pp.userapi.com\\/c851220\\/v851220148\\/6f9b0\\/afT0KKayylc.jpg\",\"width\":130,\"height\":130},{\"type\":\"o\",\"url\":\"https:\\/\\/pp.userapi.com\\/c851220\\/v851220148\\/6f9b5\\/ifgsCNdZfa0.jpg\",\"width\":130,\"height\":130},{\"type\":\"p\",\"url\":\"https:\\/\\/pp.userapi.com\\/c851220\\/v851220148\\/6f9b6\\/ANsaQISq0gI.jpg\",\"width\":200,\"height\":200},{\"type\":\"q\",\"url\":\"https:\\/\\/pp.userapi.com\\/c851220\\/v851220148\\/6f9b7\\/q9TMDra1qWs.jpg\",\"width\":320,\"height\":320},{\"type\":\"r\",\"url\":\"https:\\/\\/pp.userapi.com\\/c851220\\/v851220148\\/6f9b8\\/SGEiYRQfbO0.jpg\",\"width\":510,\"height\":510},{\"type\":\"s\",\"url\":\"https:\\/\\/pp.userapi.com\\/c851220\\/v851220148\\/6f9af\\/qti5NjPDvnI.jpg\",\"width\":75,\"height\":75},{\"type\":\"w\",\"url\":\"https:\\/\\/pp.userapi.com\\/c851220\\/v851220148\\/6f9b4\\/cp9GxgyHSU4.jpg\",\"width\":1400,\"height\":1400},{\"type\":\"x\",\"url\":\"https:\\/\\/pp.userapi.com\\/c851220\\/v851220148\\/6f9b1\\/-Pa1P4jyx2o.jpg\",\"width\":604,\"height\":604},{\"type\":\"y\",\"url\":\"https:\\/\\/pp.userapi.com\\/c851220\\/v851220148\\/6f9b2\\/wIrL3-MECLk.jpg\",\"width\":807,\"height\":807},{\"type\":\"z\",\"url\":\"https:\\/\\/pp.userapi.com\\/c851220\\/v851220148\\/6f9b3\\/YCI8W1sTzXA.jpg\",\"width\":1080,\"height\":1080}],\"text\":\"\",\"date\":1545564512,\"access_key\":\"722e91dd639bb9f370\"}},{\"type\":\"audio\",\"audio\":{\"id\":456242496,\"owner_id\":2000106074,\"artist\":\"Gods & Punks\",\"title\":\"The Summoning\",\"duration\":25,\"date\":1545564512,\"url\":\"https:\\/\\/vk.com\\/mp3\\/audio_api_unavailable.mp3\",\"album_id\":2,\"is_hq\":true,\"track_code\":\"4e52be4d8tu0osFghJ4FPMSzy1BrBH04RvQex79pKFjNKMdhuvnE5-DuhV7ez25ykw\",\"is_explicit\":false}},{\"type\":\"audio\",\"audio\":{\"id\":456242389,\"owner_id\":2000106742,\"artist\":\"Gods & Punks\",\"title\":\"Welcome to the Ceremony\",\"duration\":25,\"date\":1545564512,\"url\":\"https:\\/\\/vk.com\\/mp3\\/audio_api_unavailable.mp3\",\"album_id\":2,\"is_hq\":true,\"track_code\":\"a8255c48TdxrbYkK8Jpcj1PVDktogFr9k7dF9P3Eiy0AyPv850Z74D8hzTSqyzfBBA\",\"is_explicit\":false}},{\"type\":\"audio\",\"audio\":{\"id\":456242883,\"owner_id\":2000104539,\"artist\":\"Gods & Punks\",\"title\":\"From Sand to Throne\",\"duration\":25,\"date\":1545564512,\"url\":\"https:\\/\\/vk.com\\/mp3\\/audio_api_unavailable.mp3\",\"album_id\":2,\"is_hq\":true,\"track_code\":\"ed757861Gfd464SxcNeBqQsgQ-N6RXqKkAW8kEkc3LKXxALAU5wvyyynwI8qhurnXA\",\"is_explicit\":false}},{\"type\":\"audio\",\"audio\":{\"id\":456242550,\"owner_id\":2000105705,\"artist\":\"Gods & Punks\",\"title\":\"Blood Moon Sky\",\"duration\":25,\"date\":1545564512,\"url\":\"https:\\/\\/vk.com\\/mp3\\/audio_api_unavailable.mp3\",\"album_id\":2,\"is_hq\":true,\"track_code\":\"7d0cb2b9ygns8GhMABWlYdv5K7P4EeIaJmON1nRsSTt0abcFoun8Nbi8LHJaRM4vjA\",\"is_explicit\":false}},{\"type\":\"audio\",\"audio\":{\"id\":456243045,\"owner_id\":2000104022,\"artist\":\"Gods & Punks\",\"title\":\"Transparent Chains\",\"duration\":25,\"date\":1545564512,\"url\":\"https:\\/\\/vk.com\\/mp3\\/audio_api_unavailable.mp3\",\"album_id\":2,\"is_hq\":true,\"track_code\":\"360c014abkn56g4QYNDVV3khFBJ0CUKd_uqbcl78oOoxwrPGdD9Yda2mSi46gb4ZLg\",\"is_explicit\":false}},{\"type\":\"audio\",\"audio\":{\"id\":456242679,\"owner_id\":2000105386,\"artist\":\"Gods & Punks\",\"title\":\"The Gearlord\",\"duration\":25,\"date\":1545564512,\"url\":\"https:\\/\\/vk.com\\/mp3\\/audio_api_unavailable.mp3\",\"album_id\":2,\"is_hq\":true,\"track_code\":\"2d4238bbHGdt20sUx8jigHU_shPHUh3wSHbldzQGuoBpZm2pfNIqWzmXDyqdmYnOIg\",\"is_explicit\":false}},{\"type\":\"audio\",\"audio\":{\"id\":456242318,\"owner_id\":2000107073,\"artist\":\"Gods & Punks\",\"title\":\"Stop the Clocks\",\"duration\":25,\"date\":1545564512,\"url\":\"https:\\/\\/vk.com\\/mp3\\/audio_api_unavailable.mp3\",\"album_id\":2,\"is_hq\":true,\"track_code\":\"44cda651T_maUOcJAbDvjDQqU8uk4lhO5AofzUeNfdnqxKmsG3Z5xc4cozdb4YTCYw\",\"is_explicit\":false}},{\"type\":\"audio\",\"audio\":{\"id\":456242395,\"owner_id\":2000106194,\"artist\":\"Gods & Punks\",\"title\":\"Damnation\",\"duration\":25,\"date\":1545564512,\"url\":\"https:\\/\\/vk.com\\/mp3\\/audio_api_unavailable.mp3\",\"album_id\":2,\"is_hq\":true,\"track_code\":\"73826b70_Icjqvpkpmmmad-SUVv_7OPjpbVVMfmtW1pYFF-JeILKu3fmvlr8OM0niA\",\"is_explicit\":false}}],\"post_source\":{\"type\":\"vk\"}}],\"post_source\":{\"type\":\"vk\"},\"comments\":{\"count\":0,\"can_post\":0,\"groups_can_post\":true},\"likes\":{\"count\":0,\"user_likes\":0,\"can_like\":1,\"can_publish\":1},\"reposts\":{\"count\":0,\"user_reposted\":0},\"views\":{\"count\":28},\"is_favorite\":false},{\"id\":5503,\"from_id\":1789350,\"owner_id\":1789350,\"date\":1544965094,\"post_type\":\"post\",\"text\":\"\",\"copy_history\":[{\"id\":99315,\"owner_id\":-26457580,\"from_id\":-26457580,\"date\":1544778421,\"post_type\":\"post\",\"text\":\"Plastic Surgery Disaster — Desire (2018)\\n\\nОгненный дебют квинтета из Берхтесгадена.\\n\\nссылки, плейлист, mp3 и flac в комментариях 👇\\n#desert_psych #stoner_psych #stoner_rock #Germany | #fadeaway\",\"signer_id\":45304509,\"attachments\":[{\"type\":\"photo\",\"photo\":{\"id\":456241549,\"album_id\":-7,\"owner_id\":-26457580,\"user_id\":100,\"sizes\":[{\"type\":\"m\",\"url\":\"https:\\/\\/pp.userapi.com\\/c846216\\/v846216696\\/14cb16\\/Hy63bO7QDTQ.jpg\",\"width\":130,\"height\":130},{\"type\":\"o\",\"url\":\"https:\\/\\/pp.userapi.com\\/c846216\\/v846216696\\/14cb1b\\/xzZdeEndQHo.jpg\",\"width\":130,\"height\":130},{\"type\":\"p\",\"url\":\"https:\\/\\/pp.userapi.com\\/c846216\\/v846216696\\/14cb1c\\/kmhu8b-gAzc.jpg\",\"width\":200,\"height\":200},{\"type\":\"q\",\"url\":\"https:\\/\\/pp.userapi.com\\/c846216\\/v846216696\\/14cb1d\\/S78U9SCix4s.jpg\",\"width\":320,\"height\":320},{\"type\":\"r\",\"url\":\"https:\\/\\/pp.userapi.com\\/c846216\\/v846216696\\/14cb1e\\/t-aqruYeG8Q.jpg\",\"width\":510,\"height\":510},{\"type\":\"s\",\"url\":\"https:\\/\\/pp.userapi.com\\/c846216\\/v846216696\\/14cb15\\/kuUiimm1BfM.jpg\",\"width\":75,\"height\":75},{\"type\":\"w\",\"url\":\"https:\\/\\/pp.userapi.com\\/c846216\\/v846216696\\/14cb1a\\/_8sAWDU9EK8.jpg\",\"width\":1400,\"height\":1400},{\"type\":\"x\",\"url\":\"https:\\/\\/pp.userapi.com\\/c846216\\/v846216696\\/14cb17\\/IenZ4XG9ZfI.jpg\",\"width\":604,\"height\":604},{\"type\":\"y\",\"url\":\"https:\\/\\/pp.userapi.com\\/c846216\\/v846216696\\/14cb18\\/cZgKn9H4Gpk.jpg\",\"width\":807,\"height\":807},{\"type\":\"z\",\"url\":\"https:\\/\\/pp.userapi.com\\/c846216\\/v846216696\\/14cb19\\/1DRq73NLOzA.jpg\",\"width\":1080,\"height\":1080}],\"text\":\"\",\"date\":1544778421,\"post_id\":99315,\"access_key\":\"2e655e60a8554966eb\"}},{\"type\":\"audio\",\"audio\":{\"id\":456242852,\"owner_id\":2000085937,\"artist\":\"Plastic Surgery Disaster\",\"title\":\"Somewhere\",\"duration\":25,\"date\":1544778421,\"url\":\"https:\\/\\/vk.com\\/mp3\\/audio_api_unavailable.mp3\",\"is_hq\":true,\"track_code\":\"6e968c228UoAiRdHE5OF16C1lo_6szQx9le5mju67oWkMyNiMb7HdlTFU3lJwumR9A\",\"is_explicit\":false}},{\"type\":\"audio\",\"audio\":{\"id\":456243024,\"owner_id\":2000085246,\"artist\":\"Plastic Surgery Disaster\",\"title\":\"Something Wrong\",\"duration\":25,\"date\":1544778421,\"url\":\"https:\\/\\/vk.com\\/mp3\\/audio_api_unavailable.mp3\",\"is_hq\":true,\"track_code\":\"ddd8345cjWZUyaFRjOKJFffTqZwouHr_eezsxDdrZsHSg5qT06O7WgCF5W_Ws-VTow\",\"is_explicit\":false}},{\"type\":\"audio\",\"audio\":{\"id\":456242949,\"owner_id\":2000085654,\"artist\":\"Plastic Surgery Disaster\",\"title\":\"War of Violence\",\"duration\":25,\"date\":1544778421,\"url\":\"https:\\/\\/vk.com\\/mp3\\/audio_api_unavailable.mp3\",\"is_hq\":true,\"track_code\":\"f49dbac4QwQUV0ZpB5imU21YVO6N1uSKRCE_oErQzL_q_XCPFPV1OEAbAlddycoVOQ\",\"is_explicit\":false}},{\"type\":\"audio\",\"audio\":{\"id\":456242431,\"owner_id\":2000087788,\"artist\":\"Plastic Surgery Disaster\",\"title\":\"Black Machine\",\"duration\":25,\"date\":1544778421,\"url\":\"https:\\/\\/vk.com\\/mp3\\/audio_api_unavailable.mp3\",\"is_hq\":true,\"track_code\":\"0e01ce4b0fU7ZmYFZNtTYAnCFYBTTotAbWA6lB9C9O11eOCO8xvnyW8qIjs-ij8mXQ\",\"is_explicit\":false}},{\"type\":\"audio\",\"audio\":{\"id\":456242588,\"owner_id\":2000087514,\"artist\":\"Plastic Surgery Disaster\",\"title\":\"Desire\",\"duration\":25,\"date\":1544778421,\"url\":\"https:\\/\\/vk.com\\/mp3\\/audio_api_unavailable.mp3\",\"is_hq\":true,\"track_code\":\"a8aed611Wb-pldG_tdE9NSrqhrQ5VOwu-x1-23QNGrZXwLgatS1vg_3ZlYHvgFFzfg\",\"is_explicit\":false}},{\"type\":\"audio\",\"audio\":{\"id\":456243041,\"owner_id\":2000085102,\"artist\":\"Plastic Surgery Disaster\",\"title\":\"One Name\",\"duration\":25,\"date\":1544778421,\"url\":\"https:\\/\\/vk.com\\/mp3\\/audio_api_unavailable.mp3\",\"is_hq\":true,\"track_code\":\"d6fd7aca4g3tRGkCMgEytoJ1BblfQzV-FPOWqXUkSYFPFcbSbg7UMbkILTxoUF7w1g\",\"is_explicit\":false}},{\"type\":\"audio\",\"audio\":{\"id\":456242676,\"owner_id\":2000086444,\"artist\":\"Plastic Surgery Disaster\",\"title\":\"Mountain High\",\"duration\":25,\"date\":1544778421,\"url\":\"https:\\/\\/vk.com\\/mp3\\/audio_api_unavailable.mp3\",\"is_hq\":true,\"track_code\":\"5a445b45ULRqpV1P-E_YNI8pCpDaGT09FKTuMLljr7D_YlDLjlRmiD7pGXGiHrRy2w\",\"is_explicit\":false}},{\"type\":\"audio\",\"audio\":{\"id\":456242725,\"owner_id\":2000087455,\"artist\":\"Plastic Surgery Disaster\",\"title\":\"Don't Waste the Time\",\"duration\":25,\"date\":1544778421,\"url\":\"https:\\/\\/vk.com\\/mp3\\/audio_api_unavailable.mp3\",\"is_hq\":true,\"track_code\":\"2b33d7a126sjVmBGc4mg3AH_TDEML37e42hZxJxfpGybI4Q6t0ntl3caJHgp2MyaVQ\",\"is_explicit\":false}},{\"type\":\"audio\",\"audio\":{\"id\":456242395,\"owner_id\":2000088694,\"artist\":\"Plastic Surgery Disaster\",\"title\":\"Lost\",\"duration\":25,\"date\":1544778421,\"url\":\"https:\\/\\/vk.com\\/mp3\\/audio_api_unavailable.mp3\",\"is_hq\":true,\"track_code\":\"54acec24DkL1z_nkxpSua8dMPtJ_t5kBRZtxLdGD36gtf4EvwjM4fqGDvdqcxcItkw\",\"is_explicit\":false}}],\"post_source\":{\"type\":\"vk\"}}],\"post_source\":{\"type\":\"vk\"},\"comments\":{\"count\":0,\"can_post\":0,\"groups_can_post\":true},\"likes\":{\"count\":0,\"user_likes\":0,\"can_like\":1,\"can_publish\":1},\"reposts\":{\"count\":0,\"user_reposted\":0},\"views\":{\"count\":34},\"is_favorite\":false},{\"id\":5502,\"from_id\":1789350,\"owner_id\":1789350,\"date\":1543906115,\"post_type\":\"post\",\"text\":\"\",\"copy_history\":[{\"id\":99088,\"owner_id\":-26457580,\"from_id\":-26457580,\"date\":1543738020,\"post_type\":\"post\",\"text\":\"[club173947014|Goosła] — Rite of Passage (2018)\\n\\nТрансцендентальный опыт наших предков, в 42 минутах ритуальных вибраций Вселенной.\\n\\nссылки, mp3 и flac в камментах 👇\\n#live #ritual_cosmic_doom #heavy_psych #Ukraine #Poland\",\"attachments\":[{\"type\":\"photo\",\"photo\":{\"id\":456241381,\"album_id\":-7,\"owner_id\":-26457580,\"user_id\":100,\"sizes\":[{\"type\":\"m\",\"url\":\"https:\\/\\/pp.userapi.com\\/c848620\\/v848620238\\/b2b6a\\/mol62L1Dmh8.jpg\",\"width\":128,\"height\":130},{\"type\":\"o\",\"url\":\"https:\\/\\/pp.userapi.com\\/c848620\\/v848620238\\/b2b6f\\/sl8Q82hpS2M.jpg\",\"width\":130,\"height\":132},{\"type\":\"p\",\"url\":\"https:\\/\\/pp.userapi.com\\/c848620\\/v848620238\\/b2b70\\/kE0gtd4d7X8.jpg\",\"width\":200,\"height\":203},{\"type\":\"q\",\"url\":\"https:\\/\\/pp.userapi.com\\/c848620\\/v848620238\\/b2b71\\/rK90Oakp_hs.jpg\",\"width\":320,\"height\":325},{\"type\":\"r\",\"url\":\"https:\\/\\/pp.userapi.com\\/c848620\\/v848620238\\/b2b72\\/Bpx-akvFSfo.jpg\",\"width\":510,\"height\":519},{\"type\":\"s\",\"url\":\"https:\\/\\/pp.userapi.com\\/c848620\\/v848620238\\/b2b69\\/pLyu2xuBbPA.jpg\",\"width\":74,\"height\":75},{\"type\":\"w\",\"url\":\"https:\\/\\/pp.userapi.com\\/c848620\\/v848620238\\/b2b6e\\/CRyzpImrJRs.jpg\",\"width\":1180,\"height\":1200},{\"type\":\"x\",\"url\":\"https:\\/\\/pp.userapi.com\\/c848620\\/v848620238\\/b2b6b\\/asWV2xKimQI.jpg\",\"width\":594,\"height\":604},{\"type\":\"y\",\"url\":\"https:\\/\\/pp.userapi.com\\/c848620\\/v848620238\\/b2b6c\\/i9AmcRmuaks.jpg\",\"width\":794,\"height\":807},{\"type\":\"z\",\"url\":\"https:\\/\\/pp.userapi.com\\/c848620\\/v848620238\\/b2b6d\\/pCy5CatNW78.jpg\",\"width\":1062,\"height\":1080}],\"text\":\"\",\"date\":1542105589,\"access_key\":\"a5c6ede293fe841ad3\"}},{\"type\":\"audio\",\"audio\":{\"id\":456241514,\"owner_id\":2000059190,\"artist\":\"Goosła\",\"title\":\"Red Sun\",\"duration\":25,\"date\":1543572390,\"url\":\"https:\\/\\/vk.com\\/mp3\\/audio_api_unavailable.mp3\",\"album_id\":2,\"is_hq\":true,\"track_code\":\"e9b26e1eRj6_MhrBSEKYS1qhHXCgSsDRqXrlqwzSebJ85l87OQJwAut-Xv8SE_cEAw\",\"is_explicit\":false}},{\"type\":\"audio\",\"audio\":{\"id\":456241385,\"owner_id\":2000060060,\"artist\":\"Goosła\",\"title\":\"Indica Ritual Planet\",\"duration\":25,\"date\":1543572390,\"url\":\"https:\\/\\/vk.com\\/mp3\\/audio_api_unavailable.mp3\",\"album_id\":2,\"is_hq\":true,\"track_code\":\"ec1be699HBq0kS9zwgc4mm0p_2d2f6f2eum82iwZQwbo-oXZmWoqJuDda02YVlfVNA\",\"is_explicit\":false}},{\"type\":\"audio\",\"audio\":{\"id\":456241676,\"owner_id\":2000057937,\"artist\":\"Goosła\",\"title\":\"Venus\",\"duration\":25,\"date\":1543572390,\"url\":\"https:\\/\\/vk.com\\/mp3\\/audio_api_unavailable.mp3\",\"album_id\":2,\"is_hq\":true,\"track_code\":\"e24c956fPpnTENrnDbD8zjZKGYu3JhljATEji3mfFpaFPSqeiv4IpYdcntlX4ZOBbw\",\"is_explicit\":false}}],\"post_source\":{\"type\":\"vk\"}}],\"post_source\":{\"type\":\"api\",\"platform\":\"android\"},\"comments\":{\"count\":0,\"can_post\":0,\"groups_can_post\":true},\"likes\":{\"count\":1,\"user_likes\":0,\"can_like\":1,\"can_publish\":1},\"reposts\":{\"count\":0,\"user_reposted\":0},\"views\":{\"count\":32},\"is_favorite\":false},{\"id\":5501,\"from_id\":1789350,\"owner_id\":1789350,\"date\":1542632699,\"post_type\":\"post\",\"text\":\"\",\"copy_history\":[{\"id\":453943,\"owner_id\":-4100014,\"from_id\":-4100014,\"date\":1542304897,\"post_type\":\"post\",\"text\":\"James Lavelle –Trust OST (2018)\\n\\nДжеймс Лавель, также известный как UNKLE записал саундтрек к сериалу «Траст» канала FX\",\"attachments\":[{\"type\":\"photo\",\"photo\":{\"id\":456247791,\"album_id\":-7,\"owner_id\":-4100014,\"user_id\":100,\"sizes\":[{\"type\":\"m\",\"url\":\"https:\\/\\/pp.userapi.com\\/c830508\\/v830508330\\/1db2aa\\/-urmwyxlG90.jpg\",\"width\":130,\"height\":130},{\"type\":\"o\",\"url\":\"https:\\/\\/pp.userapi.com\\/c830508\\/v830508330\\/1db2ae\\/UYCR52C4aEY.jpg\",\"width\":130,\"height\":130},{\"type\":\"p\",\"url\":\"https:\\/\\/pp.userapi.com\\/c830508\\/v830508330\\/1db2af\\/vba21nTBiXM.jpg\",\"width\":200,\"height\":200},{\"type\":\"q\",\"url\":\"https:\\/\\/pp.userapi.com\\/c830508\\/v830508330\\/1db2b0\\/rrj6U-eEY4Y.jpg\",\"width\":320,\"height\":320},{\"type\":\"r\",\"url\":\"https:\\/\\/pp.userapi.com\\/c830508\\/v830508330\\/1db2b1\\/kLoxnPxRDPE.jpg\",\"width\":510,\"height\":510},{\"type\":\"s\",\"url\":\"https:\\/\\/pp.userapi.com\\/c830508\\/v830508330\\/1db2a9\\/1ExI-yD2_-8.jpg\",\"width\":75,\"height\":75},{\"type\":\"x\",\"url\":\"https:\\/\\/pp.userapi.com\\/c830508\\/v830508330\\/1db2ab\\/LdPT7ztNQ0o.jpg\",\"width\":604,\"height\":604},{\"type\":\"y\",\"url\":\"https:\\/\\/pp.userapi.com\\/c830508\\/v830508330\\/1db2ac\\/69-khecbY9U.jpg\",\"width\":807,\"height\":807},{\"type\":\"z\",\"url\":\"https:\\/\\/pp.userapi.com\\/c830508\\/v830508330\\/1db2ad\\/m1He8u70uv0.jpg\",\"width\":1080,\"height\":1080}],\"text\":\"\",\"date\":1542304688,\"access_key\":\"f5a92b05d2951fcaba\"}},{\"type\":\"link\",\"link\":{\"url\":\"https:\\/\\/m.vk.com\\/audio?act=audio_playlist-4100014_62189092&api_view=b58a3d6f2f988a6b505ff34e605429\",\"title\":\"UNKLE –Trust OST\",\"description\":\"Плейлист\",\"photo\":{\"id\":456239018,\"album_id\":235125454,\"owner_id\":-127435785,\"user_id\":100,\"sizes\":[{\"type\":\"m\",\"url\":\"https:\\/\\/sun1-13.userapi.com\\/c637630\\/v637630075\\/3d838\\/-D_AFiarQHY.jpg\",\"width\":130,\"height\":130},{\"type\":\"o\",\"url\":\"https:\\/\\/sun1-18.userapi.com\\/c637630\\/v637630075\\/3d83a\\/_o5f5AJbwhw.jpg\",\"width\":130,\"height\":130},{\"type\":\"p\",\"url\":\"https:\\/\\/sun1-14.userapi.com\\/c637630\\/v637630075\\/3d83b\\/t1L2-NeXjHk.jpg\",\"width\":200,\"height\":200},{\"type\":\"q\",\"url\":\"https:\\/\\/sun1-2.userapi.com\\/c637630\\/v637630075\\/3d83c\\/HKURh1Fy6-A.jpg\",\"width\":320,\"height\":320},{\"type\":\"r\",\"url\":\"https:\\/\\/sun1-18.userapi.com\\/c637630\\/v637630075\\/3d83d\\/PIuiHyOMo4c.jpg\",\"width\":510,\"height\":510},{\"type\":\"s\",\"url\":\"https:\\/\\/sun1-6.userapi.com\\/c637630\\/v637630075\\/3d837\\/ZQCLOU9vt9U.jpg\",\"width\":75,\"height\":75},{\"type\":\"x\",\"url\":\"https:\\/\\/sun1-10.userapi.com\\/c637630\\/v637630075\\/3d839\\/QoS1sHwG3kY.jpg\",\"width\":512,\"height\":512}],\"text\":\"\",\"date\":1490173981}}}],\"post_source\":{\"type\":\"vk\"}}],\"post_source\":{\"type\":\"vk\"},\"comments\":{\"count\":0,\"can_post\":0,\"groups_can_post\":true},\"likes\":{\"count\":0,\"user_likes\":0,\"can_like\":1,\"can_publish\":1},\"reposts\":{\"count\":0,\"user_reposted\":0},\"views\":{\"count\":32},\"is_favorite\":false},{\"id\":5500,\"from_id\":1789350,\"owner_id\":1789350,\"date\":1541761835,\"post_type\":\"post\",\"text\":\"\",\"copy_history\":[{\"id\":453135,\"owner_id\":-4100014,\"from_id\":-4100014,\"date\":1541761293,\"post_type\":\"post\",\"text\":\"Muse – Simulation Theory (2018)\\nAlternative Rock \\/ Synthpop \\/ Synth Rock (UK)\\n\\nВышел восьмой студийный альбом Muse\\n\\nСлушать весь альбом плейлистом: https:\\/\\/vk.cc\\/8G9FPi\",\"attachments\":[{\"type\":\"photo\",\"photo\":{\"id\":456247748,\"album_id\":-7,\"owner_id\":-4100014,\"user_id\":100,\"sizes\":[{\"type\":\"m\",\"url\":\"https:\\/\\/sun1-13.userapi.com\\/c846322\\/v846322133\\/12b58d\\/5G7LOijxBlM.jpg\",\"width\":130,\"height\":130},{\"type\":\"o\",\"url\":\"https:\\/\\/sun1-22.userapi.com\\/c846322\\/v846322133\\/12b592\\/D_ZkDcHSY78.jpg\",\"width\":130,\"height\":130},{\"type\":\"p\",\"url\":\"https:\\/\\/sun1-9.userapi.com\\/c846322\\/v846322133\\/12b593\\/yZJujgYtuZ0.jpg\",\"width\":200,\"height\":200},{\"type\":\"q\",\"url\":\"https:\\/\\/sun1-11.userapi.com\\/c846322\\/v846322133\\/12b594\\/h515Hp-KSAI.jpg\",\"width\":320,\"height\":320},{\"type\":\"r\",\"url\":\"https:\\/\\/sun1-11.userapi.com\\/c846322\\/v846322133\\/12b595\\/i7eLbcdPUTc.jpg\",\"width\":510,\"height\":510},{\"type\":\"s\",\"url\":\"https:\\/\\/sun1-8.userapi.com\\/c846322\\/v846322133\\/12b58c\\/pN5_nDnL7PY.jpg\",\"width\":75,\"height\":75},{\"type\":\"w\",\"url\":\"https:\\/\\/sun1-2.userapi.com\\/c846322\\/v846322133\\/12b591\\/d1zPI9muOi0.jpg\",\"width\":1400,\"height\":1400},{\"type\":\"x\",\"url\":\"https:\\/\\/sun1-3.userapi.com\\/c846322\\/v846322133\\/12b58e\\/BLUgSSjHE98.jpg\",\"width\":604,\"height\":604},{\"type\":\"y\",\"url\":\"https:\\/\\/sun1-22.userapi.com\\/c846322\\/v846322133\\/12b58f\\/VgPcx4-qI2U.jpg\",\"width\":807,\"height\":807},{\"type\":\"z\",\"url\":\"https:\\/\\/sun1-11.userapi.com\\/c846322\\/v846322133\\/12b590\\/7r02v2S_TTQ.jpg\",\"width\":1080,\"height\":1080}],\"text\":\"\",\"date\":1541760550,\"access_key\":\"5fc6984074a7e9c4ab\"}},{\"type\":\"audio\",\"audio\":{\"id\":456241536,\"owner_id\":2000017171,\"artist\":\"Muse\",\"title\":\"Algorithm\",\"duration\":25,\"date\":1541760550,\"url\":\"https:\\/\\/vk.com\\/mp3\\/audio_api_unavailable.mp3\",\"album_id\":2,\"is_hq\":true,\"track_code\":\"36bc751e48C2UMgltjJgvJEFmRjtVp0DHA_TOWfDiwD74c8Zuk3Q--YQ43DgaQ74xQ\",\"is_explicit\":false,\"main_artists\":[{\"name\":\"Muse\",\"id\":\"8099015328710656381\",\"domain\":\"8099015328710656381\"}]}},{\"type\":\"audio\",\"audio\":{\"id\":456241313,\"owner_id\":2000018568,\"artist\":\"Muse\",\"title\":\"The Dark Side\",\"duration\":25,\"date\":1541760550,\"url\":\"https:\\/\\/vk.com\\/mp3\\/audio_api_unavailable.mp3\",\"album_id\":2,\"is_hq\":true,\"track_code\":\"57418ed7F3dnK_rp2GcJmZdsmJrVJiFVVLvh6MvK1uHx27Rp6wYkTDdr0byOPGfdww\",\"is_explicit\":false,\"main_artists\":[{\"name\":\"Muse\",\"id\":\"8099015328710656381\",\"domain\":\"8099015328710656381\"}]}},{\"type\":\"audio\",\"audio\":{\"id\":456241443,\"owner_id\":2000017914,\"artist\":\"Muse\",\"title\":\"Pressure\",\"duration\":25,\"date\":1541760550,\"url\":\"https:\\/\\/vk.com\\/mp3\\/audio_api_unavailable.mp3\",\"album_id\":2,\"is_hq\":true,\"track_code\":\"9288c2a7o3Amsfm5U7iCCjVx_qKrCIaW1r1svKssKXJSeK3nIgqQS3bx0uwF4-xOYQ\",\"is_explicit\":false,\"main_artists\":[{\"name\":\"Muse\",\"id\":\"8099015328710656381\",\"domain\":\"8099015328710656381\"}]}},{\"type\":\"audio\",\"audio\":{\"id\":456241519,\"owner_id\":2000017186,\"artist\":\"Muse\",\"title\":\"Propaganda\",\"duration\":25,\"date\":1541760550,\"url\":\"https:\\/\\/vk.com\\/mp3\\/audio_api_unavailable.mp3\",\"album_id\":2,\"is_hq\":true,\"track_code\":\"65314176MdY2mMZM0LSf6jj1_jhR59GzJhMQgJG6hsSXe8XY_Q4C7WbY7RmG7_GubA\",\"is_explicit\":false,\"main_artists\":[{\"name\":\"Muse\",\"id\":\"8099015328710656381\",\"domain\":\"8099015328710656381\"}]}},{\"type\":\"audio\",\"audio\":{\"id\":456241602,\"owner_id\":2000016634,\"artist\":\"Muse\",\"title\":\"Break it to Me\",\"duration\":25,\"date\":1541760550,\"url\":\"https:\\/\\/vk.com\\/mp3\\/audio_api_unavailable.mp3\",\"album_id\":2,\"is_hq\":true,\"track_code\":\"ec7e8824b1kt2NFFJyosnClsK4aUP7iXS-ZWVVmyQ7Tcaa0aaNlcYn2Y-hBxcULYfQ\",\"is_explicit\":false,\"main_artists\":[{\"name\":\"Muse\",\"id\":\"8099015328710656381\",\"domain\":\"8099015328710656381\"}]}},{\"type\":\"audio\",\"audio\":{\"id\":456241639,\"owner_id\":2000015994,\"artist\":\"Muse\",\"title\":\"Something Human\",\"duration\":25,\"date\":1541760550,\"url\":\"https:\\/\\/vk.com\\/mp3\\/audio_api_unavailable.mp3\",\"album_id\":2,\"is_hq\":true,\"track_code\":\"d14cb3bfEYameM7Hin3fFBBwvL1-KwtGH8PRPzFR3BorGJM2CRMivfY45ZLcJrFQRA\",\"is_explicit\":false,\"main_artists\":[{\"name\":\"Muse\",\"id\":\"8099015328710656381\",\"domain\":\"8099015328710656381\"}]}},{\"type\":\"audio\",\"audio\":{\"id\":456241850,\"owner_id\":2000014948,\"artist\":\"Muse\",\"title\":\"Thought Contagion\",\"duration\":25,\"date\":1541760550,\"url\":\"https:\\/\\/vk.com\\/mp3\\/audio_api_unavailable.mp3\",\"album_id\":2,\"is_hq\":true,\"track_code\":\"810fced7cc1IPvR6EUeDngQBFNDRx72R7CZich7QL17QY-3I85NC9hh-3y9HHO3aUA\",\"is_explicit\":false,\"main_artists\":[{\"name\":\"Muse\",\"id\":\"8099015328710656381\",\"domain\":\"8099015328710656381\"}]}},{\"type\":\"audio\",\"audio\":{\"id\":456241436,\"owner_id\":2000017259,\"artist\":\"Muse\",\"title\":\"Get Up and Fight\",\"duration\":25,\"date\":1541760550,\"url\":\"https:\\/\\/vk.com\\/mp3\\/audio_api_unavailable.mp3\",\"album_id\":2,\"is_hq\":true,\"track_code\":\"ee8c9eaeVhixhnKws6ejfbUMK2c8W7hy5XQj-3079f0Gg3bvo49lI-HGWeXl_M054Q\",\"is_explicit\":false,\"main_artists\":[{\"name\":\"Muse\",\"id\":\"8099015328710656381\",\"domain\":\"8099015328710656381\"}]}},{\"type\":\"audio\",\"audio\":{\"id\":456241403,\"owner_id\":2000018067,\"artist\":\"Muse\",\"title\":\"The Void\",\"duration\":25,\"date\":1541760550,\"url\":\"https:\\/\\/vk.com\\/mp3\\/audio_api_unavailable.mp3\",\"album_id\":2,\"is_hq\":true,\"track_code\":\"9e028ce4V3UJMPgD7f1056UvCTHhnF8jBBVX8FkQxSlY-jezltdkTllw01a7phqj8Q\",\"is_explicit\":false,\"main_artists\":[{\"name\":\"Muse\",\"id\":\"8099015328710656381\",\"domain\":\"8099015328710656381\"}]}}],\"post_source\":{\"type\":\"vk\"}}],\"post_source\":{\"type\":\"vk\"},\"comments\":{\"count\":0,\"can_post\":0,\"groups_can_post\":true},\"likes\":{\"count\":0,\"user_likes\":0,\"can_like\":1,\"can_publish\":1},\"reposts\":{\"count\":0,\"user_reposted\":0},\"views\":{\"count\":23},\"is_favorite\":false},{\"id\":5497,\"from_id\":1789350,\"owner_id\":1789350,\"date\":1541082966,\"post_type\":\"post\",\"text\":\"\",\"attachments\":[{\"type\":\"link\",\"link\":{\"url\":\"https:\\/\\/m.vk.com\\/audio?act=audio_playlist-2000311925_3311925&access_hash=84d555d1a0460bfd92&api_view=c759cb9a722cd98c705ffe710f005c\",\"title\":\"Mona Lisa\",\"caption\":\"m.vk.com\",\"description\":\"Плейлист\",\"photo\":{\"id\":456239018,\"album_id\":235125454,\"owner_id\":-127435785,\"user_id\":100,\"sizes\":[{\"type\":\"m\",\"url\":\"https:\\/\\/sun1-13.userapi.com\\/c637630\\/v637630075\\/3d838\\/-D_AFiarQHY.jpg\",\"width\":130,\"height\":130},{\"type\":\"o\",\"url\":\"https:\\/\\/sun1-18.userapi.com\\/c637630\\/v637630075\\/3d83a\\/_o5f5AJbwhw.jpg\",\"width\":130,\"height\":130},{\"type\":\"p\",\"url\":\"https:\\/\\/sun1-14.userapi.com\\/c637630\\/v637630075\\/3d83b\\/t1L2-NeXjHk.jpg\",\"width\":200,\"height\":200},{\"type\":\"q\",\"url\":\"https:\\/\\/sun1-2.userapi.com\\/c637630\\/v637630075\\/3d83c\\/HKURh1Fy6-A.jpg\",\"width\":320,\"height\":320},{\"type\":\"r\",\"url\":\"https:\\/\\/sun1-18.userapi.com\\/c637630\\/v637630075\\/3d83d\\/PIuiHyOMo4c.jpg\",\"width\":510,\"height\":510},{\"type\":\"s\",\"url\":\"https:\\/\\/sun1-6.userapi.com\\/c637630\\/v637630075\\/3d837\\/ZQCLOU9vt9U.jpg\",\"width\":75,\"height\":75},{\"type\":\"x\",\"url\":\"https:\\/\\/sun1-10.userapi.com\\/c637630\\/v637630075\\/3d839\\/QoS1sHwG3kY.jpg\",\"width\":512,\"height\":512}],\"text\":\"\",\"date\":1490173981}}}],\"post_source\":{\"type\":\"vk\"},\"comments\":{\"count\":0,\"can_post\":0,\"groups_can_post\":true},\"likes\":{\"count\":0,\"user_likes\":0,\"can_like\":1,\"can_publish\":1},\"reposts\":{\"count\":0,\"user_reposted\":0},\"views\":{\"count\":68},\"is_favorite\":false},{\"id\":5496,\"from_id\":1789350,\"owner_id\":1789350,\"date\":1539346415,\"post_type\":\"post\",\"text\":\"\",\"attachments\":[{\"type\":\"photo\",\"photo\":{\"id\":456239264,\"album_id\":-7,\"owner_id\":1789350,\"sizes\":[{\"type\":\"m\",\"url\":\"https:\\/\\/pp.userapi.com\\/c844617\\/v844617633\\/10861e\\/oCrwamKbHj0.jpg\",\"width\":97,\"height\":130},{\"type\":\"o\",\"url\":\"https:\\/\\/pp.userapi.com\\/c844617\\/v844617633\\/108622\\/OIPkU2hFAXU.jpg\",\"width\":130,\"height\":173},{\"type\":\"p\",\"url\":\"https:\\/\\/pp.userapi.com\\/c844617\\/v844617633\\/108623\\/QP6EIZNOmGk.jpg\",\"width\":200,\"height\":267},{\"type\":\"q\",\"url\":\"https:\\/\\/pp.userapi.com\\/c844617\\/v844617633\\/108624\\/Vbo3mdlyVAw.jpg\",\"width\":320,\"height\":427},{\"type\":\"r\",\"url\":\"https:\\/\\/pp.userapi.com\\/c844617\\/v844617633\\/108625\\/PVAfV3__OWQ.jpg\",\"width\":510,\"height\":680},{\"type\":\"s\",\"url\":\"https:\\/\\/pp.userapi.com\\/c844617\\/v844617633\\/10861d\\/_tZWSuu6lsg.jpg\",\"width\":56,\"height\":75},{\"type\":\"x\",\"url\":\"https:\\/\\/pp.userapi.com\\/c844617\\/v844617633\\/10861f\\/5OjLo8Py5GI.jpg\",\"width\":453,\"height\":604},{\"type\":\"y\",\"url\":\"https:\\/\\/pp.userapi.com\\/c844617\\/v844617633\\/108620\\/j_v98-R8hco.jpg\",\"width\":605,\"height\":807},{\"type\":\"z\",\"url\":\"https:\\/\\/pp.userapi.com\\/c844617\\/v844617633\\/108621\\/IGyKSNCEHos.jpg\",\"width\":700,\"height\":933}],\"text\":\"\",\"date\":1539346413,\"post_id\":5496,\"access_key\":\"2baf3133055d7e82dc\"}}],\"post_source\":{\"type\":\"vk\"},\"comments\":{\"count\":0,\"can_post\":0,\"groups_can_post\":true},\"likes\":{\"count\":1,\"user_likes\":0,\"can_like\":1,\"can_publish\":1},\"reposts\":{\"count\":0,\"user_reposted\":0},\"views\":{\"count\":91},\"is_favorite\":false},{\"id\":5495,\"from_id\":1789350,\"owner_id\":1789350,\"date\":1539078581,\"post_type\":\"post\",\"text\":\"\",\"copy_history\":[{\"id\":449908,\"owner_id\":-4100014,\"from_id\":-4100014,\"date\":1538760696,\"post_type\":\"post\",\"text\":\"Cat Power – Wanderer (2018)\\nIndie Folk \\/ Acoustic \\/ Indie Rock (USA)\\nLabel: Domino Recording\\n\\nСлушаем первый за шесть лет альбом прекрасной Cat Power\\n\\nApple Music: https:\\/\\/vk.cc\\/8xPk3d\\nВесь альбом плейлистом (11 треков): https:\\/\\/vk.cc\\/8yhFcu\",\"attachments\":[{\"type\":\"photo\",\"photo\":{\"id\":456247488,\"album_id\":-7,\"owner_id\":-4100014,\"user_id\":100,\"sizes\":[{\"type\":\"m\",\"url\":\"https:\\/\\/pp.userapi.com\\/c830400\\/v830400412\\/1ae8ca\\/lVb9W079oRU.jpg\",\"width\":130,\"height\":130},{\"type\":\"o\",\"url\":\"https:\\/\\/pp.userapi.com\\/c830400\\/v830400412\\/1ae8cf\\/Aaj2euDPwhA.jpg\",\"width\":130,\"height\":130},{\"type\":\"p\",\"url\":\"https:\\/\\/pp.userapi.com\\/c830400\\/v830400412\\/1ae8d0\\/xWVTw4yUmGA.jpg\",\"width\":200,\"height\":200},{\"type\":\"q\",\"url\":\"https:\\/\\/pp.userapi.com\\/c830400\\/v830400412\\/1ae8d1\\/647Vmst4jko.jpg\",\"width\":320,\"height\":320},{\"type\":\"r\",\"url\":\"https:\\/\\/pp.userapi.com\\/c830400\\/v830400412\\/1ae8d2\\/-U0Iw6UUBjY.jpg\",\"width\":510,\"height\":510},{\"type\":\"s\",\"url\":\"https:\\/\\/pp.userapi.com\\/c830400\\/v830400412\\/1ae8c9\\/cWGPtvAPa1g.jpg\",\"width\":75,\"height\":75},{\"type\":\"w\",\"url\":\"https:\\/\\/pp.userapi.com\\/c830400\\/v830400412\\/1ae8ce\\/mksQ3n0X4Po.jpg\",\"width\":1400,\"height\":1400},{\"type\":\"x\",\"url\":\"https:\\/\\/pp.userapi.com\\/c830400\\/v830400412\\/1ae8cb\\/V5Blr0iwyDc.jpg\",\"width\":604,\"height\":604},{\"type\":\"y\",\"url\":\"https:\\/\\/pp.userapi.com\\/c830400\\/v830400412\\/1ae8cc\\/_FaukS8CmoM.jpg\",\"width\":807,\"height\":807},{\"type\":\"z\",\"url\":\"https:\\/\\/pp.userapi.com\\/c830400\\/v830400412\\/1ae8cd\\/eauDe-DoVVU.jpg\",\"width\":1080,\"height\":1080}],\"text\":\"\",\"date\":1538758843,\"access_key\":\"162c050f32f2a4ae71\"}},{\"type\":\"audio\",\"audio\":{\"id\":456241853,\"owner_id\":2000457272,\"artist\":\"Cat Power\",\"title\":\"In Your Face\",\"duration\":25,\"date\":1538759846,\"url\":\"https:\\/\\/vk.com\\/mp3\\/audio_api_unavailable.mp3\",\"album_id\":2,\"is_hq\":true,\"track_code\":\"923854c0jarR2ZzJDupKDwH6V7jWmF--lreQPFcQE5LP7m93Vda-kYGZt5xZuyxIWA\",\"is_explicit\":false}},{\"type\":\"audio\",\"audio\":{\"id\":456241574,\"owner_id\":2000460866,\"artist\":\"Cat Power\",\"title\":\"You Get\",\"duration\":25,\"date\":1538759846,\"url\":\"https:\\/\\/vk.com\\/mp3\\/audio_api_unavailable.mp3\",\"album_id\":2,\"is_hq\":true,\"track_code\":\"17aedbd2AFuGMQyLEIaa9G7SUMCT451RzqdT7NxUPvBJt7zKxvgzYNZxJ95H1_yzNw\",\"is_explicit\":false}},{\"type\":\"audio\",\"audio\":{\"id\":456241940,\"owner_id\":2000457927,\"artist\":\"Cat Power\",\"title\":\"Woman (feat. Lana Del Rey)\",\"duration\":25,\"date\":1538759846,\"url\":\"https:\\/\\/vk.com\\/mp3\\/audio_api_unavailable.mp3\",\"album_id\":2,\"genre_id\":1001,\"is_hq\":true,\"track_code\":\"0d8fa8e1PgZNG4NGtT1JdBQRJLGQGv5LOWuQHm0VlIOyG4_QtsQNPR1bqBPibC8zTQ\",\"is_explicit\":false}},{\"type\":\"audio\",\"audio\":{\"id\":456241886,\"owner_id\":2000457773,\"artist\":\"Cat Power\",\"title\":\"Horizon\",\"duration\":25,\"date\":1538759846,\"url\":\"https:\\/\\/vk.com\\/mp3\\/audio_api_unavailable.mp3\",\"album_id\":2,\"is_hq\":true,\"track_code\":\"765af185HgKTqNW2O9bNyCdVRsvJZGvaHHsnYiaqq4DbfYh2xpYtOcPo_uNsh6uPfg\",\"is_explicit\":false}},{\"type\":\"audio\",\"audio\":{\"id\":456241648,\"owner_id\":2000459723,\"artist\":\"Cat Power\",\"title\":\"Stay\",\"duration\":25,\"date\":1538759847,\"url\":\"https:\\/\\/vk.com\\/mp3\\/audio_api_unavailable.mp3\",\"album_id\":2,\"is_hq\":true,\"track_code\":\"b790975exZ1U2rz02KoeHDgj_1Xi_R2Y6BAmhjYDNS6yrSwb7zH2pgSal6GP-3hbYQ\",\"is_explicit\":false}},{\"type\":\"audio\",\"audio\":{\"id\":456241564,\"owner_id\":2000460383,\"artist\":\"Cat Power\",\"title\":\"Black\",\"duration\":25,\"date\":1538759847,\"url\":\"https:\\/\\/vk.com\\/mp3\\/audio_api_unavailable.mp3\",\"album_id\":2,\"is_hq\":true,\"track_code\":\"90d12e14dNCzwRp1Vdr3tE5dauh20hldbFdQ6FnRejJ8OstD97VH6-OBMSACi5HzFw\",\"is_explicit\":false}},{\"type\":\"audio\",\"audio\":{\"id\":456242087,\"owner_id\":2000457753,\"artist\":\"Cat Power\",\"title\":\"Robbin Hood\",\"duration\":25,\"date\":1538759847,\"url\":\"https:\\/\\/vk.com\\/mp3\\/audio_api_unavailable.mp3\",\"album_id\":2,\"is_hq\":true,\"track_code\":\"9f69cce11rsOP9cik_B5g2hFhstt0JGvmLb0BIhL__pd_RTavNzlgF5__HfEoR_EMQ\",\"is_explicit\":false}},{\"type\":\"audio\",\"audio\":{\"id\":456241958,\"owner_id\":2000457643,\"artist\":\"Cat Power\",\"title\":\"Nothing Really Matters\",\"duration\":25,\"date\":1538759847,\"url\":\"https:\\/\\/vk.com\\/mp3\\/audio_api_unavailable.mp3\",\"album_id\":2,\"is_hq\":true,\"track_code\":\"70c1c1a5tYLMG1VbPUCVQ1P9uV7_39kqKrpMDivoBbW0nufBZvqGuZxbfg5qEfMECg\",\"is_explicit\":false}},{\"type\":\"audio\",\"audio\":{\"id\":456242014,\"owner_id\":2000457616,\"artist\":\"Cat Power\",\"title\":\"Me Voy\",\"duration\":25,\"date\":1538759847,\"url\":\"https:\\/\\/vk.com\\/mp3\\/audio_api_unavailable.mp3\",\"album_id\":2,\"is_hq\":true,\"track_code\":\"ced8cbcfVEnsc50XOhh-mdB-lb9hCLbdMeo_hDFYchly5ch6O-RncrwztkJtSRjeiQ\",\"is_explicit\":false}}],\"post_source\":{\"type\":\"vk\"}}],\"post_source\":{\"type\":\"vk\"},\"comments\":{\"count\":0,\"can_post\":0,\"groups_can_post\":true},\"likes\":{\"count\":0,\"user_likes\":0,\"can_like\":1,\"can_publish\":1},\"reposts\":{\"count\":0,\"user_reposted\":0},\"views\":{\"count\":39},\"is_favorite\":false},{\"id\":5494,\"from_id\":1789350,\"owner_id\":1789350,\"date\":1538723582,\"post_type\":\"post\",\"text\":\"\",\"copy_history\":[{\"id\":97941,\"owner_id\":-26457580,\"from_id\":-26457580,\"date\":1537688736,\"post_type\":\"post\",\"text\":\"King Bolete — A Deal With the Dark Ones (2018)\\n\\n#stoner #psych #heavy_blues\\n\\nГруппа из UK с хорошим таким названием представляет дебютный альбом.\\n\\nkingbolete.bandcamp.com\\n\\nmp3: vk.cc\\/8vCh7P\\n\\n#killsetband\",\"attachments\":[{\"type\":\"photo\",\"photo\":{\"id\":456241204,\"album_id\":-7,\"owner_id\":-26457580,\"user_id\":100,\"sizes\":[{\"type\":\"m\",\"url\":\"https:\\/\\/pp.userapi.com\\/c849216\\/v849216365\\/81e4e\\/xnunI3hP3Og.jpg\",\"width\":130,\"height\":130},{\"type\":\"o\",\"url\":\"https:\\/\\/pp.userapi.com\\/c849216\\/v849216365\\/81e53\\/YnxOT2W2ilE.jpg\",\"width\":130,\"height\":130},{\"type\":\"p\",\"url\":\"https:\\/\\/pp.userapi.com\\/c849216\\/v849216365\\/81e54\\/T9hA4T94588.jpg\",\"width\":200,\"height\":200},{\"type\":\"q\",\"url\":\"https:\\/\\/pp.userapi.com\\/c849216\\/v849216365\\/81e55\\/V6DXE8fyhhc.jpg\",\"width\":320,\"height\":320},{\"type\":\"r\",\"url\":\"https:\\/\\/pp.userapi.com\\/c849216\\/v849216365\\/81e56\\/tDUKl5OFrMM.jpg\",\"width\":510,\"height\":510},{\"type\":\"s\",\"url\":\"https:\\/\\/pp.userapi.com\\/c849216\\/v849216365\\/81e4d\\/5pRs5Z0juT0.jpg\",\"width\":75,\"height\":75},{\"type\":\"w\",\"url\":\"https:\\/\\/pp.userapi.com\\/c849216\\/v849216365\\/81e52\\/wr7qkb9uRow.jpg\",\"width\":1200,\"height\":1200},{\"type\":\"x\",\"url\":\"https:\\/\\/pp.userapi.com\\/c849216\\/v849216365\\/81e4f\\/TyGDfIDo-us.jpg\",\"width\":604,\"height\":604},{\"type\":\"y\",\"url\":\"https:\\/\\/pp.userapi.com\\/c849216\\/v849216365\\/81e50\\/aKDjoIA5fCg.jpg\",\"width\":807,\"height\":807},{\"type\":\"z\",\"url\":\"https:\\/\\/pp.userapi.com\\/c849216\\/v849216365\\/81e51\\/GagHaczPqsU.jpg\",\"width\":1080,\"height\":1080}],\"text\":\"\",\"date\":1537688736,\"post_id\":97941,\"access_key\":\"dfe743d1019a965668\"}},{\"type\":\"audio\",\"audio\":{\"id\":456241691,\"owner_id\":2000433957,\"artist\":\"King Bolete\",\"title\":\"Green Witch\",\"duration\":25,\"date\":1537688736,\"url\":\"https:\\/\\/vk.com\\/mp3\\/audio_api_unavailable.mp3\",\"genre_id\":1,\"is_hq\":true,\"track_code\":\"36f11be4WfyQy6aBLk5ayRAJ_ZJxEozpflopGsLu2sRjQYvhbdxvwMSH4r90ETyKQA\",\"is_explicit\":false}},{\"type\":\"audio\",\"audio\":{\"id\":456241796,\"owner_id\":2000433421,\"artist\":\"King Bolete\",\"title\":\"Down to the Chapel\",\"duration\":25,\"date\":1537688736,\"url\":\"https:\\/\\/vk.com\\/mp3\\/audio_api_unavailable.mp3\",\"genre_id\":1,\"is_hq\":true,\"track_code\":\"594c86ecxPHkINb5QHQ0pWy6MIimhdKp0Cf02B3Mfyg-QCeYkMLyzbBskscaK1LmPA\",\"is_explicit\":false}},{\"type\":\"audio\",\"audio\":{\"id\":456241438,\"owner_id\":2000435721,\"artist\":\"King Bolete\",\"title\":\"Palm Reader\",\"duration\":25,\"date\":1537688736,\"url\":\"https:\\/\\/vk.com\\/mp3\\/audio_api_unavailable.mp3\",\"genre_id\":1,\"is_hq\":true,\"track_code\":\"0594cc88t2RJ6EkZVfZTAtkdhwT6KtvO6mfqVMaq5fDX4avVCTqBWB2kDScPqTVBiQ\",\"is_explicit\":false}},{\"type\":\"audio\",\"audio\":{\"id\":456241653,\"owner_id\":2000434331,\"artist\":\"King Bolete\",\"title\":\"Standing Stones\",\"duration\":25,\"date\":1537688736,\"url\":\"https:\\/\\/vk.com\\/mp3\\/audio_api_unavailable.mp3\",\"genre_id\":1,\"is_hq\":true,\"track_code\":\"53bf4bdeaHCVAqTKrkkoC4XfLSmyqAjSweo1dh5nr1Sgt1QJA_teTMFO4PT0Fk5I1Q\",\"is_explicit\":false}},{\"type\":\"audio\",\"audio\":{\"id\":456241749,\"owner_id\":2000434202,\"artist\":\"King Bolete\",\"title\":\"Liquid Moon\",\"duration\":25,\"date\":1537688736,\"url\":\"https:\\/\\/vk.com\\/mp3\\/audio_api_unavailable.mp3\",\"genre_id\":1,\"is_hq\":true,\"track_code\":\"724c51a92ckh4lXR4pXQXottdrSxnwhlRLGmTAZBMtRJ4m9Gb4Lv9XWuEe-4yrYd2w\",\"is_explicit\":false}},{\"type\":\"audio\",\"audio\":{\"id\":456241858,\"owner_id\":2000433080,\"artist\":\"King Bolete\",\"title\":\"Wolf Driver\",\"duration\":25,\"date\":1537688736,\"url\":\"https:\\/\\/vk.com\\/mp3\\/audio_api_unavailable.mp3\",\"genre_id\":1,\"is_hq\":true,\"track_code\":\"7f2901bcBXCTQVIcPMFPk7d9vARbdDiC2KdGxnabEHKb1_nBkGYzTMcNFiJmninQ5w\",\"is_explicit\":false}}],\"post_source\":{\"type\":\"vk\"}}],\"post_source\":{\"type\":\"vk\"},\"comments\":{\"count\":0,\"can_post\":0,\"groups_can_post\":true},\"likes\":{\"count\":0,\"user_likes\":0,\"can_like\":1,\"can_publish\":1},\"reposts\":{\"count\":0,\"user_reposted\":0},\"views\":{\"count\":32},\"is_favorite\":false}]}}\n",
      "75\n",
      "76\n",
      "77\n",
      "78\n",
      "79\n",
      "80\n",
      "81\n",
      "82\n",
      "83\n",
      "84\n",
      "85\n",
      "86\n",
      "87\n",
      "retry\n",
      "{\"error\":{\"error_code\":30,\"error_msg\":\"This profile is private\",\"request_params\":[{\"key\":\"oauth\",\"value\":\"1\"},{\"key\":\"method\",\"value\":\"wall.get\"},{\"key\":\"owner_id\",\"value\":\"2143283\"},{\"key\":\"v\",\"value\":\"5.92\"}]}}\n",
      "88\n",
      "89\n",
      "90\n",
      "91\n",
      "92\n",
      "retry\n",
      "{\"error\":{\"error_code\":30,\"error_msg\":\"This profile is private\",\"request_params\":[{\"key\":\"oauth\",\"value\":\"1\"},{\"key\":\"method\",\"value\":\"wall.get\"},{\"key\":\"owner_id\",\"value\":\"2292145\"},{\"key\":\"v\",\"value\":\"5.92\"}]}}\n",
      "93\n",
      "94\n",
      "95\n",
      "96\n",
      "retry\n",
      "{\"error\":{\"error_code\":30,\"error_msg\":\"This profile is private\",\"request_params\":[{\"key\":\"oauth\",\"value\":\"1\"},{\"key\":\"method\",\"value\":\"wall.get\"},{\"key\":\"owner_id\",\"value\":\"2336095\"},{\"key\":\"v\",\"value\":\"5.92\"}]}}\n",
      "97\n",
      "98\n",
      "retry\n",
      "{\"error\":{\"error_code\":30,\"error_msg\":\"This profile is private\",\"request_params\":[{\"key\":\"oauth\",\"value\":\"1\"},{\"key\":\"method\",\"value\":\"wall.get\"},{\"key\":\"owner_id\",\"value\":\"2470692\"},{\"key\":\"v\",\"value\":\"5.92\"}]}}\n",
      "99\n",
      "100\n",
      "101\n",
      "102\n",
      "103\n",
      "retry\n",
      "{\"error\":{\"error_code\":30,\"error_msg\":\"This profile is private\",\"request_params\":[{\"key\":\"oauth\",\"value\":\"1\"},{\"key\":\"method\",\"value\":\"wall.get\"},{\"key\":\"owner_id\",\"value\":\"2686682\"},{\"key\":\"v\",\"value\":\"5.92\"}]}}\n",
      "104\n",
      "105\n",
      "106\n",
      "107\n",
      "108\n",
      "109\n",
      "110\n",
      "111\n",
      "112\n",
      "113\n",
      "114\n",
      "retry\n",
      "{\"response\":{\"count\":626,\"items\":[{\"id\":750,\"from_id\":3004879,\"owner_id\":3004879,\"date\":1541506304,\"post_type\":\"post\",\"text\":\"\",\"attachments\":[{\"type\":\"link\",\"link\":{\"url\":\"https:\\/\\/amoconf.ru\\/1311\",\"title\":\"Присоединяйтесь онлайн к АМОКОНФ в Сан-Франциско. #АМОКОНФ\",\"caption\":\"amoconf.ru\",\"description\":\"undefined\",\"photo\":{\"id\":456243520,\"album_id\":-2,\"owner_id\":100,\"sizes\":[{\"type\":\"k\",\"url\":\"https:\\/\\/pp.userapi.com\\/c844617\\/v844617588\\/120948\\/kplYhqxTfS8.jpg\",\"width\":1024,\"height\":480},{\"type\":\"l\",\"url\":\"https:\\/\\/pp.userapi.com\\/c844617\\/v844617588\\/120947\\/_yX8K92Ds80.jpg\",\"width\":537,\"height\":240},{\"type\":\"m\",\"url\":\"https:\\/\\/pp.userapi.com\\/c844617\\/v844617588\\/120944\\/uIn6lL1nPRM.jpg\",\"width\":130,\"height\":71},{\"type\":\"p\",\"url\":\"https:\\/\\/pp.userapi.com\\/c844617\\/v844617588\\/120946\\/1Rshw2pKcRM.jpg\",\"width\":260,\"height\":141},{\"type\":\"s\",\"url\":\"https:\\/\\/pp.userapi.com\\/c844617\\/v844617588\\/120943\\/-UbDszwzECg.jpg\",\"width\":75,\"height\":41},{\"type\":\"x\",\"url\":\"https:\\/\\/pp.userapi.com\\/c844617\\/v844617588\\/120945\\/qNUU7QW2rwI.jpg\",\"width\":150,\"height\":81}],\"text\":\"\",\"date\":1540811934},\"is_favorite\":false}}],\"post_source\":{\"type\":\"vk\"},\"comments\":{\"count\":0,\"can_post\":0,\"groups_can_post\":true},\"likes\":{\"count\":14,\"user_likes\":0,\"can_like\":1,\"can_publish\":1},\"reposts\":{\"count\":0,\"user_reposted\":0},\"views\":{\"count\":115},\"is_favorite\":false},{\"id\":747,\"from_id\":3004879,\"owner_id\":3004879,\"date\":1536851702,\"post_type\":\"post\",\"text\":\"Must have!\",\"copy_history\":[{\"id\":32392,\"owner_id\":-19444929,\"from_id\":-19444929,\"date\":1536813000,\"post_type\":\"post\",\"text\":\"850 слов, выучив которые, вы сможете понимать более 60% английской речи!\",\"attachments\":[{\"type\":\"photo\",\"photo\":{\"id\":456249268,\"album_id\":-7,\"owner_id\":-19444929,\"user_id\":100,\"sizes\":[{\"type\":\"m\",\"url\":\"https:\\/\\/pp.userapi.com\\/c845522\\/v845522085\\/f0214\\/z39x64_3Wa4.jpg\",\"width\":85,\"height\":130},{\"type\":\"o\",\"url\":\"https:\\/\\/pp.userapi.com\\/c845522\\/v845522085\\/f0216\\/rQXgF9vnpHs.jpg\",\"width\":130,\"height\":198},{\"type\":\"p\",\"url\":\"https:\\/\\/pp.userapi.com\\/c845522\\/v845522085\\/f0217\\/KY9hNaR1h30.jpg\",\"width\":200,\"height\":305},{\"type\":\"q\",\"url\":\"https:\\/\\/pp.userapi.com\\/c845522\\/v845522085\\/f0218\\/isbHzC6lZmY.jpg\",\"width\":320,\"height\":488},{\"type\":\"r\",\"url\":\"https:\\/\\/pp.userapi.com\\/c845522\\/v845522085\\/f0219\\/2XDpdnXs1p8.jpg\",\"width\":396,\"height\":604},{\"type\":\"s\",\"url\":\"https:\\/\\/pp.userapi.com\\/c845522\\/v845522085\\/f0213\\/sLzJbwDDQnM.jpg\",\"width\":49,\"height\":75},{\"type\":\"x\",\"url\":\"https:\\/\\/pp.userapi.com\\/c845522\\/v845522085\\/f0215\\/wxn3Bpp0gMA.jpg\",\"width\":396,\"height\":604}],\"text\":\"\",\"date\":1536761720,\"access_key\":\"23055a6f69213cdd1e\"}},{\"type\":\"photo\",\"photo\":{\"id\":456249269,\"album_id\":-7,\"owner_id\":-19444929,\"user_id\":100,\"sizes\":[{\"type\":\"m\",\"url\":\"https:\\/\\/pp.userapi.com\\/c845522\\/v845522085\\/f0229\\/zkQAwvFQGbU.jpg\",\"width\":85,\"height\":130},{\"type\":\"o\",\"url\":\"https:\\/\\/pp.userapi.com\\/c845522\\/v845522085\\/f022b\\/H_DU3Pk6qhk.jpg\",\"width\":130,\"height\":198},{\"type\":\"p\",\"url\":\"https:\\/\\/pp.userapi.com\\/c845522\\/v845522085\\/f022c\\/CL6_LGMrzaw.jpg\",\"width\":200,\"height\":305},{\"type\":\"q\",\"url\":\"https:\\/\\/pp.userapi.com\\/c845522\\/v845522085\\/f022d\\/1pncDdWU3Es.jpg\",\"width\":320,\"height\":488},{\"type\":\"r\",\"url\":\"https:\\/\\/pp.userapi.com\\/c845522\\/v845522085\\/f022e\\/yQHDTfOo5us.jpg\",\"width\":396,\"height\":604},{\"type\":\"s\",\"url\":\"https:\\/\\/pp.userapi.com\\/c845522\\/v845522085\\/f0228\\/VVCKSaUHdLw.jpg\",\"width\":49,\"height\":75},{\"type\":\"x\",\"url\":\"https:\\/\\/pp.userapi.com\\/c845522\\/v845522085\\/f022a\\/onRnYzC1gZQ.jpg\",\"width\":396,\"height\":604}],\"text\":\"\",\"date\":1536761720,\"access_key\":\"093dfbcbae8599bc91\"}},{\"type\":\"photo\",\"photo\":{\"id\":456249270,\"album_id\":-7,\"owner_id\":-19444929,\"user_id\":100,\"sizes\":[{\"type\":\"m\",\"url\":\"https:\\/\\/pp.userapi.com\\/c845522\\/v845522085\\/f021b\\/AO7gwsW1yHs.jpg\",\"width\":85,\"height\":130},{\"type\":\"o\",\"url\":\"https:\\/\\/pp.userapi.com\\/c845522\\/v845522085\\/f021d\\/rHwQd3t2xuM.jpg\",\"width\":130,\"height\":198},{\"type\":\"p\",\"url\":\"https:\\/\\/pp.userapi.com\\/c845522\\/v845522085\\/f021e\\/_zOEMwh-14w.jpg\",\"width\":200,\"height\":305},{\"type\":\"q\",\"url\":\"https:\\/\\/pp.userapi.com\\/c845522\\/v845522085\\/f021f\\/4aIK4dN9i0k.jpg\",\"width\":320,\"height\":488},{\"type\":\"r\",\"url\":\"https:\\/\\/pp.userapi.com\\/c845522\\/v845522085\\/f0220\\/psywz4zhNhM.jpg\",\"width\":396,\"height\":604},{\"type\":\"s\",\"url\":\"https:\\/\\/pp.userapi.com\\/c845522\\/v845522085\\/f021a\\/rwQQ38CJm0Y.jpg\",\"width\":49,\"height\":75},{\"type\":\"x\",\"url\":\"https:\\/\\/pp.userapi.com\\/c845522\\/v845522085\\/f021c\\/6bmy31aspFM.jpg\",\"width\":396,\"height\":604}],\"text\":\"\",\"date\":1536761720,\"access_key\":\"427fcda1e27eeac503\"}},{\"type\":\"photo\",\"photo\":{\"id\":456249271,\"album_id\":-7,\"owner_id\":-19444929,\"user_id\":100,\"sizes\":[{\"type\":\"m\",\"url\":\"https:\\/\\/pp.userapi.com\\/c845522\\/v845522085\\/f0222\\/uOZqTLc4ecg.jpg\",\"width\":85,\"height\":130},{\"type\":\"o\",\"url\":\"https:\\/\\/pp.userapi.com\\/c845522\\/v845522085\\/f0224\\/uyxhefQxHFY.jpg\",\"width\":130,\"height\":198},{\"type\":\"p\",\"url\":\"https:\\/\\/pp.userapi.com\\/c845522\\/v845522085\\/f0225\\/9lUhW1fDjTc.jpg\",\"width\":200,\"height\":305},{\"type\":\"q\",\"url\":\"https:\\/\\/pp.userapi.com\\/c845522\\/v845522085\\/f0226\\/QegR6HNyxQY.jpg\",\"width\":320,\"height\":488},{\"type\":\"r\",\"url\":\"https:\\/\\/pp.userapi.com\\/c845522\\/v845522085\\/f0227\\/F2Amf3thqgg.jpg\",\"width\":396,\"height\":604},{\"type\":\"s\",\"url\":\"https:\\/\\/pp.userapi.com\\/c845522\\/v845522085\\/f0221\\/fS0c_Lr8c1c.jpg\",\"width\":49,\"height\":75},{\"type\":\"x\",\"url\":\"https:\\/\\/pp.userapi.com\\/c845522\\/v845522085\\/f0223\\/GvHYXcaMHmA.jpg\",\"width\":396,\"height\":604}],\"text\":\"\",\"date\":1536761720,\"access_key\":\"ad9f5fe2590e724c0a\"}},{\"type\":\"photo\",\"photo\":{\"id\":456249272,\"album_id\":-7,\"owner_id\":-19444929,\"user_id\":100,\"sizes\":[{\"type\":\"m\",\"url\":\"https:\\/\\/pp.userapi.com\\/c845522\\/v845522085\\/f020d\\/2fFqBuXyEJs.jpg\",\"width\":85,\"height\":130},{\"type\":\"o\",\"url\":\"https:\\/\\/pp.userapi.com\\/c845522\\/v845522085\\/f020f\\/i_rauqKFDA8.jpg\",\"width\":130,\"height\":198},{\"type\":\"p\",\"url\":\"https:\\/\\/pp.userapi.com\\/c845522\\/v845522085\\/f0210\\/RALgsnX9cn8.jpg\",\"width\":200,\"height\":305},{\"type\":\"q\",\"url\":\"https:\\/\\/pp.userapi.com\\/c845522\\/v845522085\\/f0211\\/FfP7ZUF3cCE.jpg\",\"width\":320,\"height\":488},{\"type\":\"r\",\"url\":\"https:\\/\\/pp.userapi.com\\/c845522\\/v845522085\\/f0212\\/oLCVeY-scns.jpg\",\"width\":396,\"height\":604},{\"type\":\"s\",\"url\":\"https:\\/\\/pp.userapi.com\\/c845522\\/v845522085\\/f020c\\/JwBSf7jblno.jpg\",\"width\":49,\"height\":75},{\"type\":\"x\",\"url\":\"https:\\/\\/pp.userapi.com\\/c845522\\/v845522085\\/f020e\\/6eRj9hzrzTc.jpg\",\"width\":396,\"height\":604}],\"text\":\"\",\"date\":1536761720,\"access_key\":\"30b17298556199ae10\"}},{\"type\":\"photo\",\"photo\":{\"id\":456249273,\"album_id\":-7,\"owner_id\":-19444929,\"user_id\":100,\"sizes\":[{\"type\":\"m\",\"url\":\"https:\\/\\/pp.userapi.com\\/c845522\\/v845522085\\/f0230\\/wlC424owwWo.jpg\",\"width\":85,\"height\":130},{\"type\":\"o\",\"url\":\"https:\\/\\/pp.userapi.com\\/c845522\\/v845522085\\/f0232\\/8555mfSGBpI.jpg\",\"width\":130,\"height\":198},{\"type\":\"p\",\"url\":\"https:\\/\\/pp.userapi.com\\/c845522\\/v845522085\\/f0233\\/OcwZZC-UZzE.jpg\",\"width\":200,\"height\":305},{\"type\":\"q\",\"url\":\"https:\\/\\/pp.userapi.com\\/c845522\\/v845522085\\/f0234\\/rJQiyIFWyFM.jpg\",\"width\":320,\"height\":488},{\"type\":\"r\",\"url\":\"https:\\/\\/pp.userapi.com\\/c845522\\/v845522085\\/f0235\\/Ip10YMg8gPI.jpg\",\"width\":396,\"height\":604},{\"type\":\"s\",\"url\":\"https:\\/\\/pp.userapi.com\\/c845522\\/v845522085\\/f022f\\/Wz3HlM_HwDw.jpg\",\"width\":49,\"height\":75},{\"type\":\"x\",\"url\":\"https:\\/\\/pp.userapi.com\\/c845522\\/v845522085\\/f0231\\/bBwPbZzz8AY.jpg\",\"width\":396,\"height\":604}],\"text\":\"\",\"date\":1536761720,\"access_key\":\"b2fd1c63da476cdb29\"}},{\"type\":\"photo\",\"photo\":{\"id\":456249274,\"album_id\":-7,\"owner_id\":-19444929,\"user_id\":100,\"sizes\":[{\"type\":\"m\",\"url\":\"https:\\/\\/pp.userapi.com\\/c845522\\/v845522085\\/f0206\\/u0AH1HvuGac.jpg\",\"width\":85,\"height\":130},{\"type\":\"o\",\"url\":\"https:\\/\\/pp.userapi.com\\/c845522\\/v845522085\\/f0208\\/-wfSRq7U_EQ.jpg\",\"width\":130,\"height\":198},{\"type\":\"p\",\"url\":\"https:\\/\\/pp.userapi.com\\/c845522\\/v845522085\\/f0209\\/4bHtgMv4q_4.jpg\",\"width\":200,\"height\":305},{\"type\":\"q\",\"url\":\"https:\\/\\/pp.userapi.com\\/c845522\\/v845522085\\/f020a\\/zfDjrMy6isA.jpg\",\"width\":320,\"height\":488},{\"type\":\"r\",\"url\":\"https:\\/\\/pp.userapi.com\\/c845522\\/v845522085\\/f020b\\/_uaRRpzejt0.jpg\",\"width\":396,\"height\":604},{\"type\":\"s\",\"url\":\"https:\\/\\/pp.userapi.com\\/c845522\\/v845522085\\/f0205\\/dCe2umJZBj0.jpg\",\"width\":49,\"height\":75},{\"type\":\"x\",\"url\":\"https:\\/\\/pp.userapi.com\\/c845522\\/v845522085\\/f0207\\/BJGKnaDIb-I.jpg\",\"width\":396,\"height\":604}],\"text\":\"\",\"date\":1536761720,\"access_key\":\"6f3d660c474aa74dea\"}},{\"type\":\"photo\",\"photo\":{\"id\":456249275,\"album_id\":-7,\"owner_id\":-19444929,\"user_id\":100,\"sizes\":[{\"type\":\"m\",\"url\":\"https:\\/\\/pp.userapi.com\\/c845522\\/v845522085\\/f01ff\\/m68irs3kO8E.jpg\",\"width\":85,\"height\":130},{\"type\":\"o\",\"url\":\"https:\\/\\/pp.userapi.com\\/c845522\\/v845522085\\/f0201\\/_CNt5WGHkdo.jpg\",\"width\":130,\"height\":198},{\"type\":\"p\",\"url\":\"https:\\/\\/pp.userapi.com\\/c845522\\/v845522085\\/f0202\\/vIQL3lxhM58.jpg\",\"width\":200,\"height\":305},{\"type\":\"q\",\"url\":\"https:\\/\\/pp.userapi.com\\/c845522\\/v845522085\\/f0203\\/IslYRNd2YP4.jpg\",\"width\":320,\"height\":488},{\"type\":\"r\",\"url\":\"https:\\/\\/pp.userapi.com\\/c845522\\/v845522085\\/f0204\\/6glTpkgZxLc.jpg\",\"width\":396,\"height\":604},{\"type\":\"s\",\"url\":\"https:\\/\\/pp.userapi.com\\/c845522\\/v845522085\\/f01fe\\/upaKqAoX7zw.jpg\",\"width\":49,\"height\":75},{\"type\":\"x\",\"url\":\"https:\\/\\/pp.userapi.com\\/c845522\\/v845522085\\/f0200\\/Mdgqi9aMg6g.jpg\",\"width\":396,\"height\":604}],\"text\":\"\",\"date\":1536761720,\"access_key\":\"0eb85e3e679d6ee52d\"}}],\"post_source\":{\"type\":\"vk\"}}],\"post_source\":{\"type\":\"api\",\"platform\":\"iphone\"},\"comments\":{\"count\":0,\"can_post\":0,\"groups_can_post\":true},\"likes\":{\"count\":1,\"user_likes\":0,\"can_like\":1,\"can_publish\":1},\"reposts\":{\"count\":0,\"user_reposted\":0},\"views\":{\"count\":115},\"is_favorite\":false},{\"id\":745,\"from_id\":3004879,\"owner_id\":3004879,\"date\":1509834158,\"post_type\":\"post\",\"text\":\"\",\"copy_history\":[{\"id\":78718,\"owner_id\":-33608666,\"from_id\":-33608666,\"date\":1509827763,\"post_type\":\"post\",\"text\":\"25 сайтов для развития интеллекта \\n\\nСоциальные сети Фейсбук, Инстаграм, ВКонтакте в буквальном смысле съедают наше время. Так почему бы не тратить время в интернете с пользой? Список из 25 лучших сайтов для развития интеллекта и мозга. \\n\\n▪ CodeAcademy — Научитесь программировать прямо в интернете. С помощью этого сайта вы сможете научиться таким языкам как HTML,CSS и Javascript абсолютно бесплатно! \\n\\n▪ Coursera — Корсера это целая образовательная платформа. Вы сможете расширить свои познания в самых разных областях. Более 800 бесплатный курсов по различным темам от истории интернета до финансового инжиниринга. \\n\\n▪ Digital Photography School (Школа цифровой фотографии) — Золотая жила для фотографов. Огромное количество статей позволят улучшить ваши навыки фотографа, даже если вы еще новичок. На действующем форуме можно пообщаться и подружиться с сообществом фотографов. . \\n\\n▪ Duolingo — Улучшайте знание иностранных языков с этой веселой и крайне увлекательной игрой. Получите образование уровня высшего учебного заведения абсолютно бесплатно. Если вы ищите еще и другие бесплатные материалы для изучения иностранных языков, можете попробовать BBC Languages. \\n\\n▪ edX — Здесь вы найдете много разных занятий от «Наука Счастья» до «Ответственные Инновации«. edX предлагает кучу бесплатных образовательных курсов от ведущих университетов мира. \\n\\n▪ Factsie — А вы знали, что рогатая ящерица может стрелять кровью из своих слезных протоков? Продолжайте кликать на большую кнопку в центре сайта, чтобы узнать еще больше необычных исторических и научных фактов, а также ссылку на источник. Еще один отличный сайт веселых и интересных фактов — Today I Found Out. \\n\\n▪ Fast Company’s 30-Second MBA — В коротких видео роликах от успешных топ-менеджеров корпораций, вы получите великие бизнес секреты и жизненные уроки, очень очень быстро. \\n\\n▪ Freerice — Расширяя свой словарный запас вы помогаете бороться с голодом! За каждый правильный ответ спонсоры проекта жертвуют 10 Expand your vocabulary while feeding the hungry. It’s the best way to feel good about yourself and learn words you can use for the rest of your life. \\n\\n▪ Gibbon — Универсальный плейлист для обучения. Пользователи собирают статьи и видео, которые помогут вам обучиться чему угодно от программирования для iOS до сторителлинга. \\n\\n▪ Instructables — Благодаря веселым видео и простым инструкциям, вы можете научиться мастерить что угодно от устройства для запуска теннисных мячей до форта на заднем дворе. Так же можно опубликовать свои собственные творения и рассказать всему миру о вашем творении. И этого мало? Посетите eHow и получите разнообразные навыки как готовить, декорировать, ремонтировать, планировать, вести садовоство или даже составить бюджет. \\n\\n▪ Investopedia — Здесь вы узнаете все что нужно о мире инвестирования, рынков и персональных финансов. \\n\\n▪ Khan Academy — В Академии Кхана вы погрузитесь в огромное разнообразие целых областей знаний с помощью невероятно полезных видео. Вы можете не просто смотреть, но и сразу практиковаться в выбранной области и отслеживать свой прогресс. И это не все. Академия Кхана отличный способ расширить и углубить свои познания в областях в которых вы уже проходили обучение. \\n\\n▪ LearnVest — Это сайт о персональных финансах предлагает новости, обучающие классы и подборки ресурсов, чтобы помочь вам взять под контроль свои деньги. \\n\\n▪ Lifehacker — Чрезвычайно полезный сайт. Здесь вы получите огромное количество лучших подсказок, хитростей, советов и готовых материалов, чтобы сделать что угодно и решить любую проблему. \\n\\n▪ Lumosity — Оказывается тренировка мозга может быть очень веселым занятием. Все игры разработаны с привлечением ученых. Вы можете составить личный план тренировок, чтобы развить память, внимание, скорость мышления. Во время игр вы зарабатываете очки и наглядно видите свой прогресс. \\n\\n▪ MIT Open Courseware — Хотите быть таким же умным как и студенты Массачусетского Технологического Института? Получите доступ к занятиям и курсам MIT в одном месте. \\n\\n▪ Powersearching with Google — Научитесь как найти что угодно, улучшив свои навыки поиска в Google. \\n\\n▪ Quora — Получите ответы на вопросы от других умных людей или просто читайте что хотят узнать другие люди. Вы узнаете о многом от повышения производительности до самой лучшей еды всех времен. \\n\\n▪ Recipe Puppy — Введите все ингредиенты какие сможете найти на кухне. А этот необычный поисковик выдаст вам перечень рецептов что вы можете приготовить. Отличный способ научиться готовить не заморачиваясь покупкой всех ингредиентов заранее. Если вам нужна огромная база рецептов, попробуйте AllRecipes. \\n\\n▪ Spreeder — Бесплатная онлайн программа скорочтения увеличит скорость вашего чтения и качество восприятия. Просто скопируйте и вставьте любой текст, который хотите прочитать, а программа позаботиться обо всем остальном. \\n\\n▪ StackOverflow — Сайт ответов и вопросов, но для программистов. Этот сайт лучший друг кодера. Еще отличные сайты для обучения программированию Learn X in Y Minutes и W3Schools. \\n\\n▪ TED-Ed — Новая инициатива запущенная провайдером всемирно известных конференций TED. Идея проста — «уроки которыми стоит поделиться» . Сайт поставил перед собой задачу разжечь любопытство учащихся по всему миру, создавая библиотеку достойных наград анимированых уроков созданных образовательными экспертами, сценаристами и аниматорами. Вы даже можете создать свои специализированные уроки и распространять их по всему миру. Нужно просто добавить вопросы, темы для обсуждения и другие дополнительные материалы к любому образовательному видео на YouTube. \\n\\n▪ Udemy — Накормите свои мозги онлайн курсами на любую тему от веб разработки до игры на гитаре. Можно и самому преподавать, собрать свой класс используя возможности платформы. \\n\\n▪ Unplug The TV — Веселый сайт, предлагает информативные видео, чтобы оторвать вас от телевизора. Огромное количество тем от «Добычи ресурсов в космосе» до «Как использование грузовых контейнеров изменило облик современного мира?» . \\n\\n▪ VSauce — Это канал на YouTube предлагает умопомрачительные факты и лучшее со всего интернета. Смотрите канал и убедитесь что наш мир — невероятное место. Что произойдет если Земля перестанет крутиться? Почему нам становится скучно? Смотрите видео и узнаете.\\n\\nСообщество [club33608666|Маркетинг и реклама] \\nМаркетинг, в отличие от бухгалтерии, – это не отдел, а образ жизни!\",\"attachments\":[{\"type\":\"photo\",\"photo\":{\"id\":456249312,\"album_id\":-7,\"owner_id\":-33608666,\"user_id\":100,\"sizes\":[{\"type\":\"m\",\"url\":\"https:\\/\\/pp.userapi.com\\/c635100\\/v635100039\\/2adff\\/EP4mtfDl2-Q.jpg\",\"width\":130,\"height\":81},{\"type\":\"o\",\"url\":\"https:\\/\\/pp.userapi.com\\/c635100\\/v635100039\\/2ae01\\/f5A2gBZh45M.jpg\",\"width\":130,\"height\":87},{\"type\":\"p\",\"url\":\"https:\\/\\/pp.userapi.com\\/c635100\\/v635100039\\/2ae02\\/pw2pk-L2kbg.jpg\",\"width\":200,\"height\":133},{\"type\":\"q\",\"url\":\"https:\\/\\/pp.userapi.com\\/c635100\\/v635100039\\/2ae03\\/lXSp29-agk8.jpg\",\"width\":320,\"height\":213},{\"type\":\"r\",\"url\":\"https:\\/\\/pp.userapi.com\\/c635100\\/v635100039\\/2ae04\\/oS8QMk5c83w.jpg\",\"width\":510,\"height\":340},{\"type\":\"s\",\"url\":\"https:\\/\\/pp.userapi.com\\/c635100\\/v635100039\\/2adfe\\/wEDc6l-qtC0.jpg\",\"width\":75,\"height\":47},{\"type\":\"x\",\"url\":\"https:\\/\\/pp.userapi.com\\/c635100\\/v635100039\\/2ae00\\/OGjopRnG2Ps.jpg\",\"width\":604,\"height\":376}],\"text\":\"\",\"date\":1509827763,\"post_id\":78718,\"access_key\":\"202aef96dfa83904b2\"}}],\"post_source\":{\"type\":\"api\"}}],\"post_source\":{\"type\":\"api\",\"platform\":\"iphone\"},\"comments\":{\"count\":0,\"can_post\":0,\"groups_can_post\":true},\"likes\":{\"count\":19,\"user_likes\":0,\"can_like\":1,\"can_publish\":1},\"reposts\":{\"count\":1,\"user_reposted\":0},\"views\":{\"count\":351},\"is_favorite\":false},{\"id\":738,\"from_id\":3004879,\"owner_id\":3004879,\"date\":1486401210,\"post_type\":\"post\",\"text\":\"Обращаюсь ко всем тем, кому не все равно. Давайте вместе подарим ребёнку возможность жить и нормально развиваться. Не большой вклад каждого сделает это возможным.  Русфонд\",\"attachments\":[{\"type\":\"link\",\"link\":{\"url\":\"https:\\/\\/rusfond.ru\\/moscow_actions\\/101\",\"title\":\"Боль за двоих\",\"caption\":\"rusfond.ru\",\"description\":\"Четырехлетнюю Машу Шишкову спасет операция\",\"photo\":{\"id\":456239063,\"album_id\":-2,\"owner_id\":100,\"sizes\":[{\"type\":\"m\",\"url\":\"https:\\/\\/pp.userapi.com\\/c836726\\/v836726879\\/2114d\\/GYX6b7biv_I.jpg\",\"width\":130,\"height\":87},{\"type\":\"p\",\"url\":\"https:\\/\\/pp.userapi.com\\/c836726\\/v836726879\\/2114f\\/mNBteOQyMlQ.jpg\",\"width\":260,\"height\":173},{\"type\":\"s\",\"url\":\"https:\\/\\/pp.userapi.com\\/c836726\\/v836726879\\/2114c\\/FKkD0Bvg8xA.jpg\",\"width\":75,\"height\":50},{\"type\":\"x\",\"url\":\"https:\\/\\/pp.userapi.com\\/c836726\\/v836726879\\/2114e\\/Gz7UY2v7qrg.jpg\",\"width\":150,\"height\":100}],\"text\":\"\",\"date\":1486401215},\"is_favorite\":false}}],\"post_source\":{\"type\":\"api\",\"platform\":\"iphone\"},\"comments\":{\"count\":0,\"can_post\":0,\"groups_can_post\":true},\"likes\":{\"count\":11,\"user_likes\":0,\"can_like\":1,\"can_publish\":1},\"reposts\":{\"count\":2,\"user_reposted\":0},\"views\":{\"count\":475},\"is_favorite\":false},{\"id\":734,\"from_id\":3004879,\"owner_id\":3004879,\"date\":1468603983,\"post_type\":\"post\",\"text\":\"\",\"attachments\":[{\"type\":\"photo\",\"photo\":{\"id\":423249947,\"album_id\":-6,\"owner_id\":3004879,\"sizes\":[{\"type\":\"m\",\"url\":\"https:\\/\\/pp.userapi.com\\/c630228\\/v630228879\\/37b15\\/1xcKYF0CDts.jpg\",\"width\":87,\"height\":130},{\"type\":\"o\",\"url\":\"https:\\/\\/pp.userapi.com\\/c630228\\/v630228879\\/37b1a\\/mbi_W3KFEaI.jpg\",\"width\":130,\"height\":195},{\"type\":\"p\",\"url\":\"https:\\/\\/pp.userapi.com\\/c630228\\/v630228879\\/37b1b\\/YifVr8sD-Wg.jpg\",\"width\":200,\"height\":300},{\"type\":\"q\",\"url\":\"https:\\/\\/pp.userapi.com\\/c630228\\/v630228879\\/37b1c\\/8YFaWhgBkw0.jpg\",\"width\":320,\"height\":479},{\"type\":\"r\",\"url\":\"https:\\/\\/pp.userapi.com\\/c630228\\/v630228879\\/37b1d\\/isQLsCchDds.jpg\",\"width\":510,\"height\":764},{\"type\":\"s\",\"url\":\"https:\\/\\/pp.userapi.com\\/c630228\\/v630228879\\/37b14\\/9HwkWbsY0uo.jpg\",\"width\":50,\"height\":75},{\"type\":\"w\",\"url\":\"https:\\/\\/pp.userapi.com\\/c630228\\/v630228879\\/37b19\\/qpfU1z79FiM.jpg\",\"width\":1443,\"height\":2160},{\"type\":\"x\",\"url\":\"https:\\/\\/pp.userapi.com\\/c630228\\/v630228879\\/37b16\\/jRkrcNxjidY.jpg\",\"width\":403,\"height\":604},{\"type\":\"y\",\"url\":\"https:\\/\\/pp.userapi.com\\/c630228\\/v630228879\\/37b17\\/fWLQRRF4S9g.jpg\",\"width\":539,\"height\":807},{\"type\":\"z\",\"url\":\"https:\\/\\/pp.userapi.com\\/c630228\\/v630228879\\/37b18\\/YSCd28us0sA.jpg\",\"width\":721,\"height\":1080}],\"text\":\"\",\"date\":1468603983,\"post_id\":734}}],\"post_source\":{\"type\":\"vk\",\"data\":\"profile_photo\"},\"comments\":{\"count\":0,\"can_post\":0,\"groups_can_post\":true},\"likes\":{\"count\":97,\"user_likes\":0,\"can_like\":1,\"can_publish\":1},\"reposts\":{\"count\":0,\"user_reposted\":0},\"is_favorite\":false},{\"id\":730,\"from_id\":3004879,\"owner_id\":3004879,\"date\":1467099090,\"post_type\":\"post\",\"text\":\"Вчера трагически погиб мой племянник Пожаев Слава.\\nЭто история его последних дней: http:\\/\\/xakac.info\\/news\\/52023\",\"attachments\":[{\"type\":\"link\",\"link\":{\"url\":\"http:\\/\\/xakac.info\\/news\\/52023\",\"title\":\"Житель Хакасии, отправившийся автостопом в Крым, трагически погиб\",\"caption\":\"xakac.info\",\"description\":\"Сегодня в социальных сетях появились сообщения о том, что Вячеслав Пожаев, который отправился автостопом из Хакасии в Крым, погиб. По предварительным данным, молодой человек сорвался со скалы. В настоящее время родственники погибшего объявили сбор средств для транспортировки тела в Хакасию и на похороны.\",\"is_favorite\":false}}],\"post_source\":{\"type\":\"api\",\"platform\":\"android\"},\"comments\":{\"count\":0,\"can_post\":0,\"groups_can_post\":true},\"likes\":{\"count\":23,\"user_likes\":0,\"can_like\":1,\"can_publish\":1},\"reposts\":{\"count\":3,\"user_reposted\":0},\"is_favorite\":false},{\"id\":729,\"from_id\":3004879,\"owner_id\":3004879,\"date\":1464708519,\"post_type\":\"post\",\"text\":\"Давайте поможем детям, они этого заслуживают......\",\"attachments\":[{\"type\":\"link\",\"link\":{\"url\":\"http:\\/\\/www.rusfond.ru\\/letter\\/17\\/11638\",\"title\":\"Арина Василенко, 8 лет, гипертрофическая кардиомиопатия, требуется обследование и лечение в госпитале дель Коре (Масса, Италия). 574 951 руб.\",\"caption\":\"www.rusfond.ru\",\"description\":\"Внимание! \\nЦена обследования и лечения 711 825 руб. \\nЧитатели vesti.ru (на 17.00 31.05.2016) собрали 136 874 руб. \\nНе хватает 574 951 руб. \\n \\nДочка родилась крепкой и здоровой. С трех лет занималась танцами, плаванием, каталась…\",\"is_favorite\":false}}],\"post_source\":{\"type\":\"vk\"},\"comments\":{\"count\":0,\"can_post\":0,\"groups_can_post\":true},\"likes\":{\"count\":6,\"user_likes\":0,\"can_like\":1,\"can_publish\":1},\"reposts\":{\"count\":2,\"user_reposted\":0},\"is_favorite\":false},{\"id\":728,\"from_id\":3004879,\"owner_id\":3004879,\"date\":1462699302,\"post_type\":\"post\",\"text\":\"\",\"copy_history\":[{\"id\":68798,\"owner_id\":-53275080,\"from_id\":-53275080,\"date\":1462453080,\"post_type\":\"post\",\"text\":\"Лучший способ «прокачать» себя (стать умнее, креативнее и успешнее) – читать книги. Какие?\\n\\nНачни\\nАвтор: Джон Эйкафф\\nКнига о том, как раскрасить свою серую жизнь в яркие тона. Быть как все – проще всего. Быть неординарной личностью – поступок, заслуживающий уважения. Сколько бы вам ни было лет, каким бы ни был ваш социальный статус, все сводится к одной простой истине: нужно начать. Прочитав эту книгу, вам действительно захочется начать действовать, начать менять себя и свою жизнь. А когда начинать новую жизнь, как не в Новый год?\\n\\nВ этом году я…\\nАвтор: М. Дж. Райан\\nКнига о том, как изменить привычки, сдержать слово или сделать то, о чем давно мечтал. Обычно такие жизненные обещания дают себе под Новый год, а после праздника благополучно их «забывают». В книге собраны знания автора в области психологии, нейрофизиологии и философии, которые вылились в практические рекомендации, как воплощать в жизнь обещания, данные себе под бой курантов.\\n\\nВыйди из зоны комфорта\\nАвтор: Брайан Трейси\\nКнига о том, как правильно распределять время и добиваться решения сложных задач, выходя из зоны комфорта. В ней – 21 практический совет, следуя которым можно стать столь же успешным, как автор. Брайан Трейси – миллионер, который в юности бросил школу и начинал свой путь наверх фактически с нуля. Эта книга – емкий и сверхполезный сборник секретов личной эффективности Брайана Трейси. Она переведена на 40 языков, ее тираж составляет более 1 200 000 экземпляров.\\n\\nКак люди думают\\nАвтор: Дмитрий Чернышев\\nКнига о сущности мышления. Люди часто думают на автомате, между тем любой акт мышления – есть творчество. Книга поможет вам смотреть на обыденные вещи свежим взглядом. Это авторский проект Дмитрия Чернышева, который придумал даже собственный «алфавит мышления», призванный помочь тренировать самый главный человеческий талант – способность думать.\\n\\nСам себе МВА\\nАвтор: Джош Кауфман\\nКнига о самообучении и вере в себя. Они важнее «корочек». Идея книги заключается в том, что не стоит тратить деньги на обучение в бизнес-школе. Дешевле и эффективнее заниматься самообразованием, тем более, в век информационных технологий это легко. Книга содержит десятки сентенций, которые учат абсолютно новому деловому мышлению. Советы Джоша Кауфмана действительно вдохновляют. Книга может заменить образование МВА по многим параметрам.\\n\\nСила воли\\nАвтор: Келли Макгонигал\\nКнига о том, как стать духовно сильной личностью, противостоять искушениям и перестать откладывать дела в долгий ящик. Книга подкупает абсолютной научностью. Все советы подкреплены многочисленными психологическими и медицинскими исследованиями. Именно поэтому книга полезна не только тем, кто нуждается в укреплении силы воли, но и просто любознательным людям – каждый почерпнет для себя много интересного.\\n\\nИскусство объяснять\\nАвтор: Ли ЛеФевер\\nКнига о том, как сделать так, чтобы вас понимали с полуслова. Ведь когда вас понимают – это счастье, а в бизнесе – еще и деньги. По мнению автора, нет людей, которые неспособны понять, есть те, кто не может объяснить. Книга поможет вам всегда, в любой ситуации, находить нужные слова. Благодаря этому, в ваших личных и профессиональных отношениях будут царить полное взаимопонимание и гармония.\\n\\nЖизнь на полной мощности\\nАвторы: Джим Лоэр и Тони Шварц\\nКнига об управлении энергией, о том, как сбалансировать в жизни разные виды энергий – физическую, эмоциональную, умственную и духовную. Ее авторы – известные спортсмены, которые советуют относиться к жизни не как к марафону, а как к серии спринтерских дистанций – периодов деятельности с полной самоотдачей, чередующихся с эпизодами полноценного отдыха и восстановления сил. Эту книгу, помимо нас, рекомендуют к прочтению главред МИФа Михаил Иванов и бизнесмен Олег Тиньков.\",\"attachments\":[{\"type\":\"photo\",\"photo\":{\"id\":411477188,\"album_id\":-7,\"owner_id\":-53275080,\"user_id\":100,\"sizes\":[{\"type\":\"m\",\"url\":\"https:\\/\\/pp.userapi.com\\/c543105\\/v543105951\\/13618\\/gnqGiESVuBI.jpg\",\"width\":130,\"height\":78},{\"type\":\"o\",\"url\":\"https:\\/\\/pp.userapi.com\\/c543105\\/v543105951\\/1361a\\/ZmGjCvWF7Ls.jpg\",\"width\":130,\"height\":87},{\"type\":\"p\",\"url\":\"https:\\/\\/pp.userapi.com\\/c543105\\/v543105951\\/1361b\\/SQJfjtfIpsE.jpg\",\"width\":200,\"height\":133},{\"type\":\"q\",\"url\":\"https:\\/\\/pp.userapi.com\\/c543105\\/v543105951\\/1361c\\/qoPsOXjPh-Q.jpg\",\"width\":320,\"height\":213},{\"type\":\"r\",\"url\":\"https:\\/\\/pp.userapi.com\\/c543105\\/v543105951\\/1361d\\/EkAgACDqy_Y.jpg\",\"width\":510,\"height\":340},{\"type\":\"s\",\"url\":\"https:\\/\\/pp.userapi.com\\/c543105\\/v543105951\\/13617\\/v_nIPt8_Mj8.jpg\",\"width\":75,\"height\":45},{\"type\":\"x\",\"url\":\"https:\\/\\/pp.userapi.com\\/c543105\\/v543105951\\/13619\\/psYzAyLCdPA.jpg\",\"width\":604,\"height\":362}],\"text\":\"\",\"date\":1462453080,\"post_id\":68798,\"access_key\":\"a982829223cb3b5954\"}}],\"post_source\":{\"type\":\"api\"}}],\"post_source\":{\"type\":\"api\",\"platform\":\"android\"},\"comments\":{\"count\":0,\"can_post\":0,\"groups_can_post\":true},\"likes\":{\"count\":7,\"user_likes\":0,\"can_like\":1,\"can_publish\":1},\"reposts\":{\"count\":1,\"user_reposted\":0},\"is_favorite\":false},{\"id\":727,\"from_id\":3004879,\"owner_id\":3004879,\"date\":1462699142,\"post_type\":\"post\",\"text\":\"\",\"copy_history\":[{\"id\":68816,\"owner_id\":-53275080,\"from_id\":-53275080,\"date\":1462479304,\"post_type\":\"post\",\"text\":\"240 документальных фильмов для расширения сознания\\n\\n240 документальных фильмов, которые бросают вызов общепринятой картине реальности и заставляют нас задуматься над привычными вещами, мнениями и практиками, которые мы обычно воспринимаем как должное.\\n\\nЖизнь в биосфере\\n\\nБлагодаря небольшой магии современных технологий у нас есть возможность исследовать чудо биосферы и взаимосвязь процессов, протекающих в ней.\\n\\n1. Home | «Дом».\\n2. How Many People Can Live on Planet Earth? | «Сколько людей может жить на Земле».\\n3. The Magical Forest | «Волшебный лес».\\n4. «Муравьи: тайная сила природы».\\n5. Mt. Everest: How It Was Made | «Как создавалась Земля: Эверест».\\n6. Mariana’s Trench: The Deepest Spot On Earth | «Как создавалась Земля: Марианская впадина».\\n7. «Дикая планета: Анды, Хребет дракона».\\n8. Shining Mountains: The Rockies | «Сияющие горы»: серия 1 — «Древние», серия 2 — «Земля изобилия», серия 3 — «На краю», серия 4 — «Будущее дикого края».\\n9. Grand Canyon: How It Was Made | «Как создавалась Земля: Гранд-Каньон»\\n10. The Intelligence of Plants| «Царство растений»: эпизод 1, эпизод 2, эпизод 3.\\n\\nТворчество и дизайн\\n\\nТолько посмотрите на эти чудо-вещи, которые создают люди благодаря своему воображению.\\n\\n11. Everything Is A Remix | «Всё кругом ремикс».\\n12. The Creative Brain: How Insight Works | «Творческие способности: взгляд изнутри».\\n13. Teaching to See | «Удивительное рядом».\\n14. Design: The New Business | «Дизайн: новый бизнес».\\n15. PressPausePlay: Art and Creativity in the Digital Age | Press Pause Play\\n16. Infamy: A Graffiti Documentary | «Дурная слава».\\n17. Influencers: How Trends and Creativity Become Contagious | «Влиятельные».\\n18. RIP: A Remix Manifesto | «Манифест ремиксера»: часть 1, часть 2.\\n19. Design: e² — Sustainable Architecture | «Design: e2 — Зелёный Манхэттен».\\n20. The Genius Of Design | «Гении дизайна».\\n\\nОбразовательная система\\n\\nКак государство загоняет молодые умы в стандартизированные шаблоны, штампуя новых обывателей.\\n\\n21. The College Conspiracy.\\n22. Declining by Degrees: Higher Education at Risk.\\n23. The Forbidden Education | «Запрещённое образование».\\n24. Default: The Student Loan Documentary.\\n25. College Inc.\\n26. Education For A Sustainable Future.\\n27. Networked Society: The Future of Learning.\\n28. The Ultimate History Lesson With John Taylor Gatto: hour 1, hour 2, hour 3, hour 4, hour 5.\\n29. Education, Education. Why Poverty?\\n30. The War On Kids.\\n\\nЦифровая революция\\n\\nИнтернет в настоящее время является движущей силой перемен и инноваций в мире.\\n\\n31. Download: The True Story of the Internet | «Загрузка: подлинная история интернета».\\n32. The Age of Big Data | «Эпоха больших данных».\\n33. Resonance: Beings of Frequency | «Резонанс: жизнь в океане микроволн».\\n34. Life In A Day | «Жизнь за один день».\\n35. Networked Society: On The Brink.\\n36. Us Now: Social Media and Mass Collaboration.\\n37. WikiRebels: The WikiLeaks Story.\\n38. The Virtual Revolution: The Cost of Free | «Виртуальная революция: цена свободы».\\n39. How Hackers Changed the World.\\n\\nНовая цивилизация\\n\\n40. THRIVE: What On Earth Will It Take? | «Процветание. Что станет с Землёй?»: часть 1, часть 2.\\n41. Zeitgeist III: Moving Forward | «Zeitgeist III: движение вперёд».\\n42. Paradise or Oblivion | «Рай или забвение».\\n43. 2012: Time For Change.\\n44. The Crisis of Civilization | «Кризис цивилизации».\\n45. The Collective Evolution II.\\n46. The Quickening: Awakening As One.\\n47. Love, Reality, and the Time of Transition.\\n48. Collapse | «Развал».\\n49. The Awakening.\\n\\nПолитика\\n\\nКакое влияние политика оказывает на нашу жизнь.\\n\\n50. Owned and Operated | «Разделённый и эксплуатируемый».\\n51. UnGrip.\\n52. The Power Principle.\\n53. The True Story of Che Guevara.\\n54. Earth Days.\\n55. Capitalism Is The Crisis.\\n56. WikiLeaks: The Secret Life of a Superpower.\\n57. The Putin System | «Система Путина».\\n58. The War On Democracy.\\n59. Rise Like Lions: Occupy Wall Street and the Seeds of Revolution.\\n\\nБиографии гениев\\n\\nБиографии гениев, которые подтолкнули человечество вперёд.\\n\\n60. Isaac Newton: The Last Magician | «Исаак Ньютон: последний из магов».\\n61. Nikola Tesla: The Greatest Mind of All Time.\\n62. The Unlimited Energy of Nicola Tesla | «Свободная энергия Николы Теслы».\\n63. The Missing Secrets Of Nikola Tesla | «Утерянные секреты Николы Теслы».\\n64. Richard Feynman: No Ordinary Genius.\\n65. How Albert Einstein’s Brain Worked | «Загадка мозга Эйнштейна».\\n66. The Extraordinary Genius of Albert Einstein.\\n67. The Biography of Albert Einstein.\\n68. Da Vinci: Unlocking The Genius.\\n69. «Архивы да Винчи. Теневая сторона выдающегося человека».\\n70. Leonardo Da Vinci: The Man Who Wanted to Know Everything | «Леонардо да Винчи: человек, который хотел знать всё».\\n\\nВойна\\n\\nВойна — старейший в мире инструмент для перераспределения ресурсов.\\n\\n71. Psywar: The Real Battlefield Is Your Mind.\\n72. The History of World War II.\\n73. The Secret History of 9\\/11 | «Секретная история: трагедия 9\\/11».\\n74. Robot Armies in the Future.\\n75. The Never Ending War in Afghanistan.\\n76. Shadow Company: Mercenaries In The Modern World.\\n77. World War II From Space | «Вторая мировая война. Взгляд из космоса».\\n78. Why We Fight | «Почему мы воюем».\\n79. The Fog Of War | «Туман войны».\\n80. The Oil Factor: Behind The War On Terror.\\n\\nЭкономика\\n\\nУзнайте больше о мировой финансовой системе и о том, как люди и целые общества попадают в кредитное рабство.\\n\\n81. The Corporation: The Pathological Pursuit of Profit and Power | «Корпорация: патологическая погоня за прибылью».\\n82. Overdose: The Next Financial Crisis | «Передозировка: следующий финансовый кризис».\\n83. The Ascent of Money: A Financial History of The World | «Восхождение денег: финансовая история мира»: серия 1, серия 2, серия 3, серия 4, серия 5.\\n84. The One Percent.\\n85. Quants: The Alchemists of Wall Street | «Кванты: алхимики Уолл-Стрит».\\n86. The Last Days Of Lehman Brothers.\\n87. The Four Horsemen | «Четыре всадника Апокалипсиса».\\n88. Inside Job: The Biggest Robbery In Human History.\\n89. Capitalism: A Love Story | «Капитализм: история любви».\\n90. Money and Life.\\n\\nDigital-предпринимательство\\n\\nИстории предпринимателей, которые используют технологии и меняют мир.\\n\\n91. The Life Of A Young Entrepreneur.\\n92. Profile: Google’s Larry Page and Sergey Brin.\\n93. Profile: Facebook’s Mark Zuckerberg.\\n94. Starting-Up in America.\\n95. The Biography of Bill Gates | «Билл Гейтс. Биография».\\n96. Steve Jobs: One Last Thing | «Стив Джобс: одна последняя вещь».\\n97. Steve Jobs: The Billion Dollar Hippy | «Стив Джобс: хиппи на миллиард долларов».\\n98. Elon Musk: Risk Takers | «Элон Маск: авантюрист».\\n99. The Story of Twitter.\\n\\nСпорт\\n\\nПосмотрите вдохновляющие истории о самых удивительных спортсменах.\\n\\n100. Fearless: The Jeb Corliss Story | «Бесстрашные: история Джеба Корлисса».\\n101. Carts of Darkness.\\n102. The Two Escobars.\\n103. Usain Bolt: The World’s Fastest Man.\\n104. Wayne Gretzky: The Life and Times.\\n105. When We Were Kings | «Мохаммед Али. Когда мы были королями».\\n106. Mike Tyson: Beyond the Glory.\\n107. Birdmen.\\n108. The Legacy Of Michael Jordan | «Наследие Майкла Джордана».\\n109. We Ride: The Story of Snowboarding.\\n\\nТехнологии\\n\\nУзнайте много нового о развитии технологий, их влиянии и скором достижении технологической сингулярности.\\n\\n110. Ray Kurzweil: The Transcendent Man | «Трансцендентный человек Рэймонд Курцвейл».\\n111. How Robots Will Change the World.\\n112. Human 2.0: Mind Control Machine.\\n113. Technology of the Future.\\n114. Trance-Formation: The Future of Humanity.\\n115. The Venus Project: Future By Design | «Проект „Венера“: дизайн будущего».\\n116. Bionics, Transhumanism And The End Of Evolution.\\n117. The Singularity Is Near.\\n118. Car Technology Of The Future.\\n119. Powering The Future: The Energy Revolution | «Энергия будущего: энергетическая революция».\\n\\nИстоки религии\\n\\nПодборка фильмов об изучении истоков религии и жизни человечества на заре цивилизации.\\n\\n120. Entheogen: Awakening the Divine Within.\\n121. Manifesting the Mind: Footprints of the Shaman.\\n122. Ancient Egypt and The Alternative Story of Mankind’s Origins.\\n123. The Hidden Knowledge of the Supernatural.\\n124. Re-Awaken: Open Your Heart, Expand Your Mind.\\n125. Shamans of the Amazon.\\n126. The Root of All Evil: The God Delusion.\\n127. Ancient Knowledge.\\n128. The Naked Truth.\\n129. Before Babel: In Search of the First Language.\\n\\nЗападные вероисповедания\\n\\nПоразительная история трёх авраамических религий: иудаизма, христианства и ислама.\\n\\n130. Secret Quest: The Path of the Christian Gnostics.\\n131. The Secret Gate of Eden.\\n132. Forbidden Knowledge: Lost Secrets of the Bible.\\n133. Banned From The Bible: Secrets Of The Apostles.\\n134. The Life of Prophet\\n135. The Road To Armageddon.\\n136. The Most Hated Family In America.\\n137. Muhammad: The Legacy of a Prophet | «Мухаммед: наследие пророка».\\n138. A Complete History of God.\\n139. Gnosis: The Untold History of the Bible.\\n\\nВосточные вероисповедания\\n\\nРасширьте свой кругозор и узнайте много нового о мировоззрении религий Востока.\\n\\n140. Inner Worlds, Outer Worlds.\\n141. The Life Of The Buddha | «Жизнь Будды».\\n142. The Seven Wonders of the Buddhist World.\\n143. Mysteries of the Cosmic OM: Ancient Vedic Science.\\n144. Where Science and Buddhism Meet | «Там, где встречаются буддизм и наука».\\n145. The Yogis of Tibet | «Великие йоги Тибета».\\n146. Taj Mahal: Secrets To Blow Your Mind | «Тайна Тадж-Махала».\\n147. Light at the Edge of the World: Tibetan Science of the Mind.\\n148. Myths of Mankind: The Mahabharata.\\n149. Ayurveda: The Art of Being | «Аюрведа: искусство жизни».\\n\\nСознание\\n\\nУзнайте много нового об основах экзистенции и чудесах сознания.\\n\\n150. Athene’s Theory of Everything.\\n151. Theory of Everything: GOD, Devils, Dimensions, Dragons & The Illusion of Reality.\\n152. The God Within: Physics, Cosmology and Consciousness.\\n153. 5 Gateways: The Five Key Expansions of Consciousness.\\n154. Return to the Source: Philosophy and The Matrix | «Возвращаясь к источнику: философия и Матрица».\\n155. The Holographic Universe.\\n156. DMT: The Spirit Molecule| «ДМТ: молекула духа».\\n157. What Is Consciousness?\\n158. Kymatica | «Киматика».\\n159. Neuroplasticity: The Brain That Changes Itself .\\n\\nТайны\\n\\nИсследования загадок прошлого в стиле Индианы Джонса.\\n\\n160. Alchemy: Sacred Secrets Revealed.\\n161. The Day Before Disclosure.\\n162. «Секретный код египетских пирамид».\\n163. The Secret Design of the Egyptian Pyramids.\\n164. Decoding the Past: Secrets of the Dollar Bill.\\n165. The Lost Gods of Easter Island | «Утраченные боги острова Пасхи».\\n166. Origins of the Da Vinci Code | «Вскрывая код да Винчи».\\n167. Forbidden Knowledge: Ancient Medical Secrets.\\n168. Secret Mysteries of America’s Beginnings: The New Atlantis.\\n169. Secrets in Plain Sight.\\n\\nМассовая культура\\n\\nУзнайте о том, как наши мысли и мнения влияют на массовую культуру.\\n\\n170. The Century of the Self.\\n171. All Watched Over By Machines Of Loving Grace.\\n172. The Power Of Nightmares.\\n173. The Trap: What Happened To Our Dreams of Freedom | «Ловушка. Что стало с нашей мечтой о свободе».\\n174. Starsuckers: A Culture Obsessed By Celebrity.\\n175. Human Resources: Social Engineering in the 20th Century.\\n176. Obey: The Death of the Liberal Class.\\n177. Brazil: In the Shadow of the Stadiums.\\n178. Bob Marley: Freedom Road.\\n179. Radiant City.\\n\\nМедиакорпорации\\n\\nОткройте для себя удивительные факты о том, как средства массовой информации и реклама пользуются нашими мотивами.\\n\\n180. Weapons of Mass Deceptions.\\n181. Secrets of the Superbrands | «Секреты супербрендов».\\n182. Orwell Rolls in his Grave.\\n183. The Century of the Self | Век личности\\n184. The Esoteric Agenda.\\n185. The Myth of the Liberal Media: The Propaganda Model of News.\\n186. Manufacturing Consent: Noam Chomsky and the Media.\\n187. Symbolism in Logos: Subliminal Messages or Ancient Archetypes.\\n188. Edward Snowden: A Truth Unveiled.\\n189. Outfoxed: Rupert Murdoch’s War on Journalism.\\n\\nИскусство и литература\\n\\nИстории жизни известных деятелей искусства.\\n\\n190. Lord Of The Rings: Facts Behind The Fiction | «„Властелин колец“: фильм о фильме».\\n\\n191. Cosm: Alex Gray’s Visionary Art.\\n\\n192. Banksy’s Exit Through The Gift Shop | «Выход через сувенирную лавку».\\n\\n193. New Art and the Young Artists Behind It.\\n\\n194. Salvador Dali: A Master of the Modern Era.\\n\\n195. How Art Made The World: More Human Than Human | «Как искусство сотворило мир. Более человеческое, чем сам человек».\\n\\n196. The Day Pictures Were Born.\\n\\n197. Guns, Germs and Steel | «Ружья, микробы и сталь».\\n\\n198. Off-Book: Digital Age Creativity.\\n\\n199. This Is Modern Art.\\n\\nЗдоровье\\n\\nУзнайте о том, как работает наше тело и насколько поразительна сила нашего мозга.\\n\\n200. The Human Brain | «Человеческий мозг и его возможности».\\n\\n201. The Truth About Exercise | «Вся правда об упражнениях».\\n\\n202. How To Live To 101 | «Как дожить до 101 года».\\n\\n203. Globesity: Fat’Globesitys New Frontier | «Ожирение — бич XXI века».\\n\\n204. The War On Health.\\n\\n205. The Beautiful Truth.\\n\\n206. Food Inc. | «Корпорация „Еда“».\\n\\n207. The Truth About Food | «Вся правда о еде».\\n\\n208. Addicted To Pleasure: Sugar.\\n\\n209. The Living Matrix.\\n\\n210. «Вредный здоровый образ жизни».\\n\\nОкружающая среда\\n\\nФильмы, заставляющие задуматься о состоянии окружающей среды и растущей угрозе для биосферы.\\n\\n211. Earthlings | «Земляне».\\n\\n212. Blue Gold: World Water Wars.\\n\\n213. Tapped | «Вода в бутылке».\\n\\n214. Shift: Beyond the Numbers of the Climate Crisis.\\n\\n215. All Things Are Connected.\\n\\n216. The Fight For Amazonia.\\n\\n217. Flow: For Love Of Water | «Поток: во имя любви к воде».\\n\\n218. Here Comes the Sun.\\n\\n219. The World According To Monsanto | «Корпорация Mosanto — создатель ГМО».\\n\\n220. The Story of Stuff.\\n\\nКосмос\\n\\nРасширяйте свой кругозор и наслаждайтесь неповторимой красотой космоса.\\n\\n221. The Search for Planets Similar to Earth | «Космические путешествия: в поисках планет земного типа».\\n\\n222. Inside the Milky Way Galaxy | «Путешествие по Млечному Пути».\\n\\n223. Cosmic Journeys : The Largest Black Holes in the Universe | «Космические путешествия: крупнейшие чёрные дыры во Вселенной».\\n\\n224. Beyond The Big Bang\\n\\n225. The Mystery of the Milky Way | «Тайна Млечного Пути».\\n\\n226. Fractals: The Hidden Dimension | «Фракталы: охота за скрытым измерением».\\n\\n227. Into The Universe With Stephen Hawking: The Story of Everything.\\n\\n228. Pioneer Science: Discovering Deep Space.\\n\\n229. Carl Sagan’s Cosmos | «Космос с Карлом Саганом».\\n\\n230. The Strangest Things In The Universe | «Самые странные вещи во Вселенной».\\n\\nНаука\\n\\nИстория научных открытий и всё о том, как наше восприятие изменилось благодаря научным инструментам.\\n\\n231. A Science Odyssey: Mysteries of the Universe.\\n\\n232. The Quantum Revolution | «Квантовая революция».\\n\\n233. Secret Universe: The Hidden Life of the Cell | «Внутренняя вселенная: тайная жизнь клетки».\\n\\n234. Stephen Hawking: A Brief History of Time | «Стивен Хокинг: краткая история времени».\\n\\n235. Quantum Mechanics: Fabric of the Cosmos | «Тайны мироздания. Космическая Одиссея».\\n\\n236. The Light Fantastic | «Что такое свет».\\n\\n237. DNA: The Secret of Life.\\n\\n238. Parallel Universes, Alternative Timelines & Multiverse | «Параллельные вселенные».\\n\\n239. What Is The Higgs Boson?\\n\\n240. Infinity | «Бесконечная бесконечность».\",\"attachments\":[{\"type\":\"photo\",\"photo\":{\"id\":411543419,\"album_id\":-7,\"owner_id\":-53275080,\"user_id\":100,\"sizes\":[{\"type\":\"m\",\"url\":\"https:\\/\\/pp.userapi.com\\/c543105\\/v543105951\\/1366b\\/wBlXug3UzyQ.jpg\",\"width\":130,\"height\":82},{\"type\":\"o\",\"url\":\"https:\\/\\/pp.userapi.com\\/c543105\\/v543105951\\/1366d\\/9VzkdnmBZ4Y.jpg\",\"width\":130,\"height\":87},{\"type\":\"p\",\"url\":\"https:\\/\\/pp.userapi.com\\/c543105\\/v543105951\\/1366e\\/D6YaMDE40Ug.jpg\",\"width\":200,\"height\":133},{\"type\":\"q\",\"url\":\"https:\\/\\/pp.userapi.com\\/c543105\\/v543105951\\/1366f\\/FqBWJErcbzU.jpg\",\"width\":320,\"height\":213},{\"type\":\"r\",\"url\":\"https:\\/\\/pp.userapi.com\\/c543105\\/v543105951\\/13670\\/vd6HPTZsVwE.jpg\",\"width\":510,\"height\":340},{\"type\":\"s\",\"url\":\"https:\\/\\/pp.userapi.com\\/c543105\\/v543105951\\/1366a\\/KbrV1jjaW8A.jpg\",\"width\":75,\"height\":47},{\"type\":\"x\",\"url\":\"https:\\/\\/pp.userapi.com\\/c543105\\/v543105951\\/1366c\\/0n61fl--Xh0.jpg\",\"width\":604,\"height\":382}],\"text\":\"\",\"date\":1462479305,\"post_id\":68816,\"access_key\":\"0cec23625ed3caf1e0\"}}],\"post_source\":{\"type\":\"api\"}}],\"post_source\":{\"type\":\"api\",\"platform\":\"android\"},\"comments\":{\"count\":0,\"can_post\":0,\"groups_can_post\":true},\"likes\":{\"count\":4,\"user_likes\":0,\"can_like\":1,\"can_publish\":1},\"reposts\":{\"count\":2,\"user_reposted\":0},\"is_favorite\":false},{\"id\":726,\"from_id\":3004879,\"owner_id\":3004879,\"date\":1462697962,\"post_type\":\"post\",\"text\":\"\",\"copy_history\":[{\"id\":68844,\"owner_id\":-53275080,\"from_id\":-53275080,\"date\":1462553880,\"post_type\":\"post\",\"text\":\"9 способов искать информацию в GOOGLE, о которых не знает 97% пользователей.\\n\\n1. Как найти точную фразу или форму слова\\n\\nС помощью оператора \\\" \\\". Заключите фразу или слово в кавычки, и Google будет искать веб-страницы, где есть ровно такая фраза (форма слова).\\n\\nПример:\\n\\n[\\\"я к вам пишу\\\"]\\n\\n2. Как найти цитату, в которой пропущено слово\\n\\nЗабыли слово в цитате? Возьмите всю цитату в кавычки, а вместо пропущенного слова поставьте звездочку *. Цитата найдется вместе с забытым словом.\\n\\nПример:\\n\\n[\\\"ночь улица * аптека\\\"]\\n\\n3. Как найти любые из нескольких слов\\n\\nПросто перечислите все подходящие варианты через вертикальный слеш: |. Google будет искать документы с любым из этих слов.\\n\\nПример:\\n\\n[ананасы | рябчики | шампанское]\\n[дачные участки (рублевское | киевское | минское) шоссе]\\n\\n4. Как найти слова в пределах одного предложения\\n\\nИспользуйте оператор с красивым именем «амперсанд» — &. Если соединить слова амперсандом, Google найдет документы, где эти слова стоят в одном предложении.\\n\\nПример:\\n\\n[памятник Пушкину & Псков]\\n\\n5. Как найти документ, содержащий определённое слово\\n\\nПоставьте перед нужным словом плюс, не отделяя его от слова пробелом. В запрос можно включить несколько обязательных слов.\\n\\nПример:\\n\\n[Памятник Шолохову +бульвар]\\n\\n6. Как исключить слово из поиска\\n\\nПоставьте минус перед словом, которое вы не хотите видеть в ответах. Так можно исключить даже несколько слов:\\n\\nПример:\\n\\n[мумий тролль мультфильм -рок -лагутенко]\\n[схемы вязания спицами -купить]\\n\\n7. Как искать на определенном сайте\\n\\nДля этого подойдет оператор site. Он позволяет прямо в запросе указать сайт, на котором нужно искать. Только обязательно поставьте после site двоеточие.\\n\\nПример:\\n\\n[конституция рф site:consultant(точка)ru]\\n[маяковский окна site:lib(точка)ru]\\n\\n8. Как искать документы определенного типа\\n\\nВам нужен оператор mime. Поставьте в запросе mime, двоеточие и затем тип документа, который вам нужен. Например, pdf или doc.\\n\\nПример:\\n\\n[заявление на загранпаспорт mime:pdf]\\n\\n9. Как искать на сайтах на определенном языке\\n\\nС помощью оператора lang. После lang нужно поставить двоеточие и написать, на каком языке вам нужны документы. Если это русский язык, то нужно указать ru, если украинский — uk. Белорусский язык обозначается как be, английский — en, французский — fr.\\n\\nПример:\\n\\n[void glClearColor lang:ru]\\n\\nЧТОБЫ НЕ ЗАБЫТЬ, СОХРАНИ СЕБЕ НА СТЕНУ, ЖМИ ПОД СТАТЬЕЙ \\\"ПОДЕЛИТЬСЯ\\\".\",\"attachments\":[{\"type\":\"photo\",\"photo\":{\"id\":411642159,\"album_id\":-7,\"owner_id\":-53275080,\"user_id\":100,\"sizes\":[{\"type\":\"m\",\"url\":\"https:\\/\\/pp.userapi.com\\/c543105\\/v543105951\\/1373f\\/Cn6Wt33mHQc.jpg\",\"width\":130,\"height\":78},{\"type\":\"o\",\"url\":\"https:\\/\\/pp.userapi.com\\/c543105\\/v543105951\\/13741\\/PP6zPN1jOG4.jpg\",\"width\":130,\"height\":87},{\"type\":\"p\",\"url\":\"https:\\/\\/pp.userapi.com\\/c543105\\/v543105951\\/13742\\/_UeR91m36zc.jpg\",\"width\":200,\"height\":133},{\"type\":\"q\",\"url\":\"https:\\/\\/pp.userapi.com\\/c543105\\/v543105951\\/13743\\/zXRHis_TUXU.jpg\",\"width\":320,\"height\":213},{\"type\":\"r\",\"url\":\"https:\\/\\/pp.userapi.com\\/c543105\\/v543105951\\/13744\\/AactmgxTsIs.jpg\",\"width\":510,\"height\":340},{\"type\":\"s\",\"url\":\"https:\\/\\/pp.userapi.com\\/c543105\\/v543105951\\/1373e\\/XtpR4sAlTpg.jpg\",\"width\":75,\"height\":45},{\"type\":\"x\",\"url\":\"https:\\/\\/pp.userapi.com\\/c543105\\/v543105951\\/13740\\/ckUsIenRR0M.jpg\",\"width\":604,\"height\":362}],\"text\":\"\",\"date\":1462553880,\"post_id\":68844,\"access_key\":\"402d6e240b817763e1\"}}],\"post_source\":{\"type\":\"api\"}}],\"post_source\":{\"type\":\"api\",\"platform\":\"android\"},\"comments\":{\"count\":0,\"can_post\":0,\"groups_can_post\":true},\"likes\":{\"count\":5,\"user_likes\":0,\"can_like\":1,\"can_publish\":1},\"reposts\":{\"count\":1,\"user_reposted\":0},\"is_favorite\":false},{\"id\":725,\"from_id\":3004879,\"owner_id\":3004879,\"date\":1461602376,\"post_type\":\"post\",\"text\":\"Очень крутая CRM-система для ведения продаж и понимания эффективности каждого канала лидогенерации. Рекомендую всем, кто хоть как то связан с продажей чего-либо. Не важно что вы продаете (товары или услуги), не важно кому вы продаете (B2B или B2C) четкое понимание каждого показателя в продажах должно быть в любом случае http:\\/\\/land.lptracker.ru\\/?ref=14186\",\"attachments\":[{\"type\":\"link\",\"link\":{\"url\":\"http:\\/\\/land.lptracker.ru\\/?ref=14186\",\"title\":\"CRM cистема LPTracker.ru\",\"caption\":\"land.lptracker.ru\",\"description\":\"\",\"photo\":{\"id\":409557692,\"album_id\":-2,\"owner_id\":100,\"sizes\":[{\"type\":\"m\",\"url\":\"https:\\/\\/pp.userapi.com\\/c626425\\/v626425574\\/538d\\/qg5UU6PsZ-o.jpg\",\"width\":130,\"height\":65},{\"type\":\"s\",\"url\":\"https:\\/\\/pp.userapi.com\\/c626425\\/v626425574\\/538c\\/YyMJFNpcOdw.jpg\",\"width\":75,\"height\":37},{\"type\":\"x\",\"url\":\"https:\\/\\/pp.userapi.com\\/c626425\\/v626425574\\/538e\\/qwlDU2f1U_U.jpg\",\"width\":150,\"height\":75}],\"text\":\"\",\"date\":1461082719},\"is_favorite\":false}}],\"post_source\":{\"type\":\"vk\"},\"comments\":{\"count\":0,\"can_post\":0,\"groups_can_post\":true},\"likes\":{\"count\":5,\"user_likes\":0,\"can_like\":1,\"can_publish\":1},\"reposts\":{\"count\":1,\"user_reposted\":0},\"is_favorite\":false},{\"id\":724,\"from_id\":3004879,\"owner_id\":3004879,\"date\":1450430169,\"post_type\":\"post\",\"text\":\"\",\"copy_history\":[{\"id\":34407,\"owner_id\":-41091051,\"from_id\":-41091051,\"date\":1450422000,\"post_type\":\"post\",\"text\":\"\",\"attachments\":[{\"type\":\"photo\",\"photo\":{\"id\":391717600,\"album_id\":-7,\"owner_id\":-41091051,\"user_id\":100,\"sizes\":[{\"type\":\"m\",\"url\":\"https:\\/\\/pp.userapi.com\\/c540109\\/v540109703\\/14773\\/T9ocyJcYvWU.jpg\",\"width\":130,\"height\":95},{\"type\":\"o\",\"url\":\"https:\\/\\/pp.userapi.com\\/c540109\\/v540109703\\/14775\\/n4lisvlrMac.jpg\",\"width\":130,\"height\":95},{\"type\":\"p\",\"url\":\"https:\\/\\/pp.userapi.com\\/c540109\\/v540109703\\/14776\\/51YvfJlAifE.jpg\",\"width\":200,\"height\":147},{\"type\":\"q\",\"url\":\"https:\\/\\/pp.userapi.com\\/c540109\\/v540109703\\/14777\\/TaUS8sRy-Zc.jpg\",\"width\":320,\"height\":235},{\"type\":\"r\",\"url\":\"https:\\/\\/pp.userapi.com\\/c540109\\/v540109703\\/14778\\/M1Q9KhoqZig.jpg\",\"width\":510,\"height\":374},{\"type\":\"s\",\"url\":\"https:\\/\\/pp.userapi.com\\/c540109\\/v540109703\\/14772\\/YFl-EbNsil8.jpg\",\"width\":75,\"height\":55},{\"type\":\"x\",\"url\":\"https:\\/\\/pp.userapi.com\\/c540109\\/v540109703\\/14774\\/llI5jaA05S8.jpg\",\"width\":604,\"height\":443}],\"text\":\"\",\"date\":1450422000,\"post_id\":34407,\"access_key\":\"6c43c0110b26746c2f\"}}],\"post_source\":{\"type\":\"api\"}}],\"post_source\":{\"type\":\"api\",\"platform\":\"android\"},\"comments\":{\"count\":0,\"can_post\":0,\"groups_can_post\":true},\"likes\":{\"count\":13,\"user_likes\":0,\"can_like\":1,\"can_publish\":1},\"reposts\":{\"count\":0,\"user_reposted\":0},\"is_favorite\":false},{\"id\":722,\"from_id\":3004879,\"owner_id\":3004879,\"date\":1449090300,\"post_type\":\"post\",\"text\":\"\",\"copy_history\":[{\"id\":268280,\"owner_id\":-22798006,\"from_id\":-22798006,\"date\":1449089113,\"post_type\":\"post\",\"text\":\"400 дней (2015)\\nЖанр: фантастика, триллер, детектив\\n\\nСюжет вращается вокруг астронавтов, отправившихся на симуляторе в путешествие по направлению к далекой планете. Цель этого эксперимента состоит в том, чтобы проверить членов экипажа космического корабля на психологическую совместимость во время длительного полета. Вскоре психика астронавтов дает сбой, и, оказавшись за бортом, они начинают понимать, что полет вовсе не был тренировочным.\",\"attachments\":[{\"type\":\"photo\",\"photo\":{\"id\":389061642,\"album_id\":-7,\"owner_id\":-22798006,\"user_id\":100,\"sizes\":[{\"type\":\"m\",\"url\":\"https:\\/\\/pp.userapi.com\\/c543101\\/v543101990\\/ddbd\\/_3hAowrqRI4.jpg\",\"width\":88,\"height\":130},{\"type\":\"o\",\"url\":\"https:\\/\\/pp.userapi.com\\/c543101\\/v543101990\\/ddc1\\/iiDHaAARZKw.jpg\",\"width\":130,\"height\":193},{\"type\":\"p\",\"url\":\"https:\\/\\/pp.userapi.com\\/c543101\\/v543101990\\/ddc2\\/GM1TCGYBeck.jpg\",\"width\":200,\"height\":297},{\"type\":\"q\",\"url\":\"https:\\/\\/pp.userapi.com\\/c543101\\/v543101990\\/ddc3\\/hGoqbluHtRo.jpg\",\"width\":320,\"height\":475},{\"type\":\"r\",\"url\":\"https:\\/\\/pp.userapi.com\\/c543101\\/v543101990\\/ddc4\\/IaCkDV998LM.jpg\",\"width\":510,\"height\":757},{\"type\":\"s\",\"url\":\"https:\\/\\/pp.userapi.com\\/c543101\\/v543101990\\/ddbc\\/4bxqdkIL1fg.jpg\",\"width\":51,\"height\":75},{\"type\":\"x\",\"url\":\"https:\\/\\/pp.userapi.com\\/c543101\\/v543101990\\/ddbe\\/nj84gMCQPtw.jpg\",\"width\":407,\"height\":604},{\"type\":\"y\",\"url\":\"https:\\/\\/pp.userapi.com\\/c543101\\/v543101990\\/ddbf\\/Gl4rVqu7v2s.jpg\",\"width\":544,\"height\":807},{\"type\":\"z\",\"url\":\"https:\\/\\/pp.userapi.com\\/c543101\\/v543101990\\/ddc0\\/xITdyAVdm08.jpg\",\"width\":674,\"height\":1000}],\"text\":\"\",\"date\":1449072721,\"access_key\":\"05bb5b915ebd2bb06e\"}},{\"type\":\"photo\",\"photo\":{\"id\":389061643,\"album_id\":-7,\"owner_id\":-22798006,\"user_id\":100,\"sizes\":[{\"type\":\"m\",\"url\":\"https:\\/\\/pp.userapi.com\\/c543101\\/v543101990\\/ddc6\\/wM-aKW6gkak.jpg\",\"width\":130,\"height\":72},{\"type\":\"o\",\"url\":\"https:\\/\\/pp.userapi.com\\/c543101\\/v543101990\\/ddc9\\/SdQKwqbJvBM.jpg\",\"width\":130,\"height\":87},{\"type\":\"p\",\"url\":\"https:\\/\\/pp.userapi.com\\/c543101\\/v543101990\\/ddca\\/1ElwtP0YG3Q.jpg\",\"width\":200,\"height\":133},{\"type\":\"q\",\"url\":\"https:\\/\\/pp.userapi.com\\/c543101\\/v543101990\\/ddcb\\/TAUyYETs-Qk.jpg\",\"width\":320,\"height\":213},{\"type\":\"r\",\"url\":\"https:\\/\\/pp.userapi.com\\/c543101\\/v543101990\\/ddcc\\/G4Ewv2N4E5I.jpg\",\"width\":510,\"height\":340},{\"type\":\"s\",\"url\":\"https:\\/\\/pp.userapi.com\\/c543101\\/v543101990\\/ddc5\\/Jy--YEUMnL4.jpg\",\"width\":75,\"height\":42},{\"type\":\"x\",\"url\":\"https:\\/\\/pp.userapi.com\\/c543101\\/v543101990\\/ddc7\\/umfj8H62kXc.jpg\",\"width\":604,\"height\":336},{\"type\":\"y\",\"url\":\"https:\\/\\/pp.userapi.com\\/c543101\\/v543101990\\/ddc8\\/9_KIkZBpQWs.jpg\",\"width\":720,\"height\":400}],\"text\":\"\",\"date\":1449072721,\"access_key\":\"53a43f161d23a0968f\"}},{\"type\":\"video\",\"video\":{\"id\":171621197,\"owner_id\":-47618171,\"title\":\"400 дней (2015) Трейлер\",\"duration\":106,\"description\":\"НОВИНКИ КИНО В ОТЛИЧНОМ КАЧЕСТВЕ FULL HD\\nvk.com\\/x.film \\nvk.com\\/x.film \\nvk.com\\/x.film\\n☝Заходи! Всегда есть, что посмотреть :)\",\"date\":1448920256,\"comments\":54,\"views\":113605,\"width\":1920,\"height\":816,\"photo_130\":\"https:\\/\\/pp.userapi.com\\/c633718\\/v633718171\\/1f76\\/7Sbi5bHO4cA.jpg\",\"photo_320\":\"https:\\/\\/pp.userapi.com\\/c633718\\/v633718171\\/1f74\\/0sDj1D307Fk.jpg\",\"photo_800\":\"https:\\/\\/pp.userapi.com\\/c633718\\/v633718171\\/1f73\\/xaOKRGA7Skw.jpg\",\"is_favorite\":false,\"access_key\":\"76dc8c8afe33d9992a\",\"can_add\":1,\"track_code\":\"video_489750b2pErCrr3q-VhaMzZUeEsuODJ3Tcj83dC3XJd04ok8Ai-Ua--a\"}},{\"type\":\"video\",\"video\":{\"id\":171318652,\"owner_id\":336219673,\"title\":\"400 dneй\",\"duration\":5285,\"description\":\"[club77051666|Новинки кино]  - №1 по обновлению новинок, подпишись!\\n\\n☝Заходи! Всегда есть, что посмотреть :)\\n\\nЕсли фильм изъят, ищите его тут http:\\/\\/vk.com\\/videos-77051666\",\"date\":1449046635,\"comments\":181,\"views\":80265,\"width\":1280,\"height\":720,\"photo_130\":\"https:\\/\\/sun1-21.userapi.com\\/c627324\\/v627324673\\/2711f\\/iB9LOMI6b70.jpg\",\"photo_320\":\"https:\\/\\/sun1-7.userapi.com\\/c627324\\/v627324673\\/2711d\\/dkA87PlssjM.jpg\",\"photo_800\":\"https:\\/\\/sun1-9.userapi.com\\/c627324\\/v627324673\\/2711c\\/_h37Ep1Ha4Y.jpg\",\"is_favorite\":false,\"access_key\":\"02cd88b41b6253bbd3\",\"can_add\":1,\"track_code\":\"video_c77d3bb1azxs-r1SHCdFnm0YHUs-_ktFHaSKEZ6gCDnkGTTysb5bHV_J\"}}],\"post_source\":{\"type\":\"vk\"}}],\"post_source\":{\"type\":\"api\",\"platform\":\"android\"},\"comments\":{\"count\":0,\"can_post\":0,\"groups_can_post\":true},\"likes\":{\"count\":4,\"user_likes\":0,\"can_like\":1,\"can_publish\":1},\"reposts\":{\"count\":1,\"user_reposted\":0},\"is_favorite\":false},{\"id\":721,\"from_id\":3004879,\"owner_id\":3004879,\"date\":1447966797,\"post_type\":\"post\",\"text\":\"\",\"copy_history\":[{\"id\":265577,\"owner_id\":-22798006,\"from_id\":-22798006,\"date\":1447916432,\"post_type\":\"post\",\"text\":\"Бегущий в лабиринте (2014)\\nБегущий в лабиринте: Испытание огнём (2015)\",\"attachments\":[{\"type\":\"photo\",\"photo\":{\"id\":387020383,\"album_id\":-7,\"owner_id\":-22798006,\"user_id\":100,\"sizes\":[{\"type\":\"m\",\"url\":\"https:\\/\\/pp.userapi.com\\/c543101\\/v543101257\\/1520f\\/9nKap3TM1-4.jpg\",\"width\":91,\"height\":130},{\"type\":\"o\",\"url\":\"https:\\/\\/pp.userapi.com\\/c543101\\/v543101257\\/15213\\/3AAU9SDeQOI.jpg\",\"width\":130,\"height\":185},{\"type\":\"p\",\"url\":\"https:\\/\\/pp.userapi.com\\/c543101\\/v543101257\\/15214\\/saYekl56-g0.jpg\",\"width\":200,\"height\":285},{\"type\":\"q\",\"url\":\"https:\\/\\/pp.userapi.com\\/c543101\\/v543101257\\/15215\\/Gno07E3JBA4.jpg\",\"width\":320,\"height\":455},{\"type\":\"r\",\"url\":\"https:\\/\\/pp.userapi.com\\/c543101\\/v543101257\\/15216\\/LodQwztCaV8.jpg\",\"width\":510,\"height\":725},{\"type\":\"s\",\"url\":\"https:\\/\\/pp.userapi.com\\/c543101\\/v543101257\\/1520e\\/Kwh34zc2zPg.jpg\",\"width\":52,\"height\":75},{\"type\":\"x\",\"url\":\"https:\\/\\/pp.userapi.com\\/c543101\\/v543101257\\/15210\\/AWClcmhdzw0.jpg\",\"width\":424,\"height\":604},{\"type\":\"y\",\"url\":\"https:\\/\\/pp.userapi.com\\/c543101\\/v543101257\\/15211\\/HdjndZafncY.jpg\",\"width\":567,\"height\":807},{\"type\":\"z\",\"url\":\"https:\\/\\/pp.userapi.com\\/c543101\\/v543101257\\/15212\\/7Z-oh8v19M8.jpg\",\"width\":703,\"height\":1000}],\"text\":\"\",\"date\":1447768684,\"access_key\":\"f496ea585b215db257\"}},{\"type\":\"photo\",\"photo\":{\"id\":387020385,\"album_id\":-7,\"owner_id\":-22798006,\"user_id\":100,\"sizes\":[{\"type\":\"m\",\"url\":\"https:\\/\\/pp.userapi.com\\/c543101\\/v543101257\\/15218\\/d5b3DGNzWtg.jpg\",\"width\":130,\"height\":85},{\"type\":\"o\",\"url\":\"https:\\/\\/pp.userapi.com\\/c543101\\/v543101257\\/1521c\\/1FgVXnxSlp8.jpg\",\"width\":130,\"height\":87},{\"type\":\"p\",\"url\":\"https:\\/\\/pp.userapi.com\\/c543101\\/v543101257\\/1521d\\/-xFg6Oyqm3A.jpg\",\"width\":200,\"height\":133},{\"type\":\"q\",\"url\":\"https:\\/\\/pp.userapi.com\\/c543101\\/v543101257\\/1521e\\/MG5OC30xPMw.jpg\",\"width\":320,\"height\":213},{\"type\":\"r\",\"url\":\"https:\\/\\/pp.userapi.com\\/c543101\\/v543101257\\/1521f\\/ilpsv-HaY5U.jpg\",\"width\":510,\"height\":340},{\"type\":\"s\",\"url\":\"https:\\/\\/pp.userapi.com\\/c543101\\/v543101257\\/15217\\/5kuDaRjEFMI.jpg\",\"width\":75,\"height\":49},{\"type\":\"x\",\"url\":\"https:\\/\\/pp.userapi.com\\/c543101\\/v543101257\\/15219\\/9yR0RWYINXA.jpg\",\"width\":604,\"height\":397},{\"type\":\"y\",\"url\":\"https:\\/\\/pp.userapi.com\\/c543101\\/v543101257\\/1521a\\/BEa1SPI10gs.jpg\",\"width\":807,\"height\":531},{\"type\":\"z\",\"url\":\"https:\\/\\/pp.userapi.com\\/c543101\\/v543101257\\/1521b\\/WH8xNPpLlyg.jpg\",\"width\":1200,\"height\":790}],\"text\":\"\",\"date\":1447768684,\"access_key\":\"9ec60dc05401d5e183\"}},{\"type\":\"video\",\"video\":{\"id\":171405137,\"owner_id\":333753407,\"title\":\"6egvlab\",\"duration\":7419,\"description\":\"[club77051666|Новинки кино]  - №1 по обновлению новинок, подпишись!\\n\\n☝Заходи! Всегда есть, что посмотреть :)\\n\\nЕсли фильм изъят, ищите его тут http:\\/\\/vk.com\\/videos-77051666\",\"date\":1447755514,\"comments\":556,\"views\":120084,\"width\":1280,\"height\":720,\"content_restricted\":1,\"photo_130\":\"https:\\/\\/vk.com\\/images\\/video_s.png\",\"photo_320\":\"https:\\/\\/vk.com\\/images\\/video_l.png\",\"is_favorite\":false,\"access_key\":\"f495939d0367d9e2aa\",\"can_add\":1,\"track_code\":\"video_2d35a483nbaKHMY6yn4mc06s3RNFOVtZgtyW5B_7-ByWm_480ICtlLkv\"}}],\"post_source\":{\"type\":\"vk\"}}],\"post_source\":{\"type\":\"vk\"},\"comments\":{\"count\":0,\"can_post\":0,\"groups_can_post\":true},\"likes\":{\"count\":3,\"user_likes\":0,\"can_like\":1,\"can_publish\":1},\"reposts\":{\"count\":0,\"user_reposted\":0},\"is_favorite\":false},{\"id\":720,\"from_id\":3004879,\"owner_id\":3004879,\"date\":1444903984,\"post_type\":\"post\",\"text\":\"Правильный пароль на телефон\",\"attachments\":[{\"type\":\"link\",\"link\":{\"url\":\"http:\\/\\/idaprikol.ru\\/i\\/5MY54vqJ3\",\"title\":\"Правильный пароль на телефон\",\"caption\":\"idaprikol.ru\",\"description\":\"Click to see the pic...\",\"photo\":{\"id\":384866934,\"album_id\":-2,\"owner_id\":100,\"sizes\":[{\"type\":\"m\",\"url\":\"https:\\/\\/pp.userapi.com\\/c6049\\/v6049879\\/18486\\/I3OfcUQoC5M.jpg\",\"width\":130,\"height\":90},{\"type\":\"p\",\"url\":\"https:\\/\\/pp.userapi.com\\/c6049\\/v6049879\\/18488\\/-1xav4YQI-s.jpg\",\"width\":260,\"height\":181},{\"type\":\"s\",\"url\":\"https:\\/\\/pp.userapi.com\\/c6049\\/v6049879\\/18485\\/RIL183qYuS0.jpg\",\"width\":75,\"height\":52},{\"type\":\"x\",\"url\":\"https:\\/\\/pp.userapi.com\\/c6049\\/v6049879\\/18487\\/WyG4INEqmsw.jpg\",\"width\":150,\"height\":104}],\"text\":\"\",\"date\":1444903988},\"is_favorite\":false}}],\"post_source\":{\"type\":\"api\",\"platform\":\"android\"},\"comments\":{\"count\":0,\"can_post\":0,\"groups_can_post\":true},\"likes\":{\"count\":3,\"user_likes\":0,\"can_like\":1,\"can_publish\":1},\"reposts\":{\"count\":0,\"user_reposted\":0},\"is_favorite\":false},{\"id\":719,\"from_id\":3004879,\"owner_id\":3004879,\"date\":1444316121,\"post_type\":\"post\",\"text\":\"Не стоит выкладывать детские фото в социалках. Не принимайте незнакомцев в друзья!!!\\n\\nhttp:\\/\\/www.g8ozd.ru\\/nastroyki-privatnosti\\/\",\"attachments\":[{\"type\":\"link\",\"link\":{\"url\":\"http:\\/\\/www.g8ozd.ru\\/nastroyki-privatnosti\\/\",\"title\":\"Мама навсегда потеряла своего ребенка из-за ошибки в Facebook. Держи глаза пошире!\",\"caption\":\"www.g8ozd.ru\",\"description\":\"Один клик изменил все!\",\"photo\":{\"id\":383993522,\"album_id\":-2,\"owner_id\":100,\"sizes\":[{\"type\":\"k\",\"url\":\"https:\\/\\/pp.userapi.com\\/c6082\\/v6082879\\/16fda\\/CnPrMgt-s2g.jpg\",\"width\":1074,\"height\":480},{\"type\":\"l\",\"url\":\"https:\\/\\/pp.userapi.com\\/c6082\\/v6082879\\/16fd9\\/Ryndg0ljCPU.jpg\",\"width\":537,\"height\":240},{\"type\":\"m\",\"url\":\"https:\\/\\/pp.userapi.com\\/c6082\\/v6082879\\/16fd6\\/dLYfKGunI_U.jpg\",\"width\":130,\"height\":70},{\"type\":\"p\",\"url\":\"https:\\/\\/pp.userapi.com\\/c6082\\/v6082879\\/16fd8\\/9NPbzHYs4cc.jpg\",\"width\":260,\"height\":140},{\"type\":\"s\",\"url\":\"https:\\/\\/pp.userapi.com\\/c6082\\/v6082879\\/16fd5\\/WvNwlYFkZ1M.jpg\",\"width\":75,\"height\":38},{\"type\":\"x\",\"url\":\"https:\\/\\/pp.userapi.com\\/c6082\\/v6082879\\/16fd7\\/IWzbcnDYGAY.jpg\",\"width\":150,\"height\":80}],\"text\":\"\",\"date\":1444316132},\"is_favorite\":false}}],\"post_source\":{\"type\":\"api\",\"platform\":\"android\"},\"comments\":{\"count\":0,\"can_post\":0,\"groups_can_post\":true},\"likes\":{\"count\":1,\"user_likes\":0,\"can_like\":1,\"can_publish\":1},\"reposts\":{\"count\":1,\"user_reposted\":0},\"is_favorite\":false},{\"id\":718,\"from_id\":3004879,\"owner_id\":3004879,\"date\":1443554245,\"post_type\":\"post\",\"text\":\"\",\"copy_history\":[{\"id\":26283,\"owner_id\":-36557224,\"from_id\":-36557224,\"date\":1443550620,\"post_type\":\"post\",\"text\":\"\",\"attachments\":[{\"type\":\"photo\",\"photo\":{\"id\":380462404,\"album_id\":-7,\"owner_id\":-36557224,\"user_id\":100,\"sizes\":[{\"type\":\"m\",\"url\":\"https:\\/\\/pp.userapi.com\\/c543105\\/v543105773\\/7fb1\\/ah1ICbYH28c.jpg\",\"width\":130,\"height\":121},{\"type\":\"o\",\"url\":\"https:\\/\\/pp.userapi.com\\/c543105\\/v543105773\\/7fb3\\/v6RMatZO060.jpg\",\"width\":130,\"height\":121},{\"type\":\"p\",\"url\":\"https:\\/\\/pp.userapi.com\\/c543105\\/v543105773\\/7fb4\\/i-nrnjr10nc.jpg\",\"width\":200,\"height\":186},{\"type\":\"q\",\"url\":\"https:\\/\\/pp.userapi.com\\/c543105\\/v543105773\\/7fb5\\/LEOdMOquPRI.jpg\",\"width\":320,\"height\":297},{\"type\":\"r\",\"url\":\"https:\\/\\/pp.userapi.com\\/c543105\\/v543105773\\/7fb6\\/a4iAPG7PV34.jpg\",\"width\":510,\"height\":474},{\"type\":\"s\",\"url\":\"https:\\/\\/pp.userapi.com\\/c543105\\/v543105773\\/7fb0\\/hZzASRExGp0.jpg\",\"width\":75,\"height\":70},{\"type\":\"x\",\"url\":\"https:\\/\\/pp.userapi.com\\/c543105\\/v543105773\\/7fb2\\/T0cXDr58hw8.jpg\",\"width\":604,\"height\":561}],\"text\":\"\",\"date\":1443550620,\"post_id\":26283,\"access_key\":\"a5428c67bb972c10de\"}}],\"post_source\":{\"type\":\"api\"}}],\"post_source\":{\"type\":\"api\",\"platform\":\"android\"},\"comments\":{\"count\":0,\"can_post\":0,\"groups_can_post\":true},\"likes\":{\"count\":3,\"user_likes\":0,\"can_like\":1,\"can_publish\":1},\"reposts\":{\"count\":0,\"user_reposted\":0},\"is_favorite\":false},{\"id\":717,\"from_id\":3004879,\"owner_id\":3004879,\"date\":1442218993,\"post_type\":\"post\",\"text\":\"\",\"copy_history\":[{\"id\":164170,\"owner_id\":-41041067,\"from_id\":-41041067,\"date\":1441919701,\"post_type\":\"post\",\"text\":\"Бессмертие\\n\\n1 день:\\n\\nЧто? Почему я ещё жив? Что со мной? Помню, как меня сбивает машина, я падаю, теряю сознание. А теперь вокруг меня собралась целая толпа людей, какой-то нервный мужичок прыгает вокруг меня, постоянно что-то причитая, все смотрят на меня так, будто со мной что-то не так. А на мне ни царапины. Как такое могло случиться?\\n\\n1 неделя:\\n\\nПоказался врачу. Он никаких отклонений не нашел, сказав что мой организм работает как часы. Однако после того как у меня взяли из пальца кровь, порез затянулся на считанные секунды. Благо что врач на это не обратил никакого внимания. Придя домой намеренно уколол себя повторно. Было страшно сделать себе больно, но ничего не произошло. Из укола вытекла одна маленькая капелька крови и тут же затянулась. Со мной явно что-то не так.\\n\\n1 месяц:\\n\\nАбсолютно пропало чувство голода и сна. Как оказалось я теперь совершенно спокойно могу провести целую неделю без еды и воды и ничего мне с этого не будет. Прикольное качество. Однако привычки, выработанные годами, всё равно дают о себе знать. Иногда хочется съесть чего-то вкусного, мороженного или жаренного мяса. Не потому что хочется есть, а просто ради вкуса.\\n\\n1 год:\\n\\nСегодня случилось непоправимое. Сегодня я должен был погибнуть второй раз в своей жизни. Мы с девушкой ехали поздно ночью по горной дороге. Я был так ею увлечён, что не заметил поворота и вылетел с дороги. Мы вместе с машиной ринулись в пропасть. Помню только, что в самый последний момент успел лишь обнять свою любимую и что-то прокричать напоследок. Очнулся я неподалеку от той груды металла, что раньше была автомобилем. Спасти любимую я уже не мог. А на мне по-прежнему не было ни одной царапины.\\n\\n10 лет:\\n\\nТе 10 лет, что я провел на службе по контракту, сделали из меня настоящего бойца. Я изучил науку выживания, благо что с моими способностями это оказалось много проще, чем остальным. Служба в горячих точках помогла мне укрыться от мыслей на тему того, кто же я есть. Когда ты сидишь под пулями, мало кого интересует - какое у тебя прошлое и какими особыми умениями ты обладал. Главное - здесь и сейчас. Для меня мой полк стал второй семьёй. Однако даже им я не скажу о том, что во время наших ночных вылазок меня убивали уже раз 5 или 6. Хотя я и сам уже и не помню сколько точно. Благо что после возвращения на базу мне удавалось объяснить то, что на мне не царапины. Да и мало кого это волновало. Жив, и ладно. Без ложной скромности скажу, что со временем я даже стал для наших, неким подобием талисмана, который приносит удачу. Ха! Как бы я хотел что бы было так. Все ребята в это верили до того момента, пока по нашей позиции, во время очередных боев, не ударила ракета. Больше верить во что-то было некому, т.к. на месте нашей дислокации не осталось ничего. Кроме меня.\\n\\n100 лет:\\n\\nКак же быстро разрастается человечество. Ещё, казалось, вчера, нас было чуть более 7 млрд, а за какие-то неполные 100 лет мы приблизились к 20! Как мне кажется это вызвано небывалым технических рывком в медицине, компьютерных технологиях, биоинженерии. Что бы спастись от голода, люди начали освоение морского дна, строительство морских ферм и доступного жилья под водой. Появились первые города-миллионники. А вот с проектом городов на Луне, увы, ничего, пока что не получилось. Получив доступ к компьютерам, человечество потеряло всякий интерес и стремление к звёздам. Теперь каждый имеет имплант, который соединят всех людей в одну информационную сеть. Разговоры, теперь, используются только в качестве хорошего тона и то, стараются его свести к минимуму. В основном же используют т.н. \\\"телепатию\\\". А если точнее то специальную программку, которая позволяет передавать мысли друг другу. Стоя у истоков фирмы, которая первой начала производить такие чипы-импланты я не могу беспристрастно сказать, хорошо это или плохо. Но люди сами выбирают свое будущее.\\n\\n1000 лет:\\n\\nКак же скучна становится жизнь. Казалось бы - у меня всё есть. Есть компания, которая за 1000-летнюю историю обрела репутацию такую, что может поспорить с некоторыми странами. Я уж молчу про прибыли от неё, ведь каждый день рождается человек, которому необходимы наборы плат, чипов и нейроинтерфейсов для нормального функционирования в обществе. А на эти части - у моей фирмы полная монополия. Женщины, влияние, связи, власть, всё становится неважным. Всё то, что раньше меня волновало - отошло на второй план, оставив только небольшой налёт каких-то приятных воспоминаний. Единственное утешение, что я себе нахожу - это наука. Она доставляет мне истинное наслаждение своей непредсказуемостью. Неизвестно, какие открытия будут совершены в течение какие-то 100 лет. \\n\\n10000 лет:\\n\\nГода проносятся мимо меня. Я не то что бы всегда стремился к жизни отшельника, но, увы, так получилось, что все мои знакомые умирают раньше, чем я смогу оставить о них хоть какое-то яркое впечатление. Череда знакомств, лиц, имен, дат - теперь ничего для меня не значат, сливаясь в одну серую, монотонную краску, которая теперь представляет всё моё существование. Мода, музыка, литература, всё что раньше меня развлекало теперь кажется мне повторением то, что уже было раньше.\\nНе так давно, пару столетий назад, человечество очередной раз вышло на очередной виток научного прогресса. Людям покорился космос и спустя век, весь научно-технический потенциал работал на то, что бы покинуть Землю. И вот свершилось - огромные космические лайнеры, ушли в необъятные просторы космоса, оставив за собой запылённый, уставший мир - колыбель человечества. Остался и я, поскольку решил, что мне нет места в новом мире.\\n\\n100000 лет:\\n\\nВчера... А может уже и не вчера. Я не помню. Был ледниковый период, который длился может день, может час, может век. Я не знаю. Я уже очень давно перестал считать время. Сложно считать то, что не имеет над тобой власти. Бродя по заснеженной пустыне я пытаюсь найти что-то, что может привлечь моё внимание, но всё тщетно.\\n\\n1000000 лет:\\n\\nЯ видел как жизнь умирала. Я видел, как из-за надвигающихся ледников или засухи вымирали целые виды. В итоге всех катаклизмов, что что я пережил, меня посетила мысль, что я остался совсем один на этой планете. Здесь была вода, солнечный свет, приемлемая температура. Но совсем не было жизни, кроме меня. Но однажды случило то, что изменило обычный ход вещей. Кровь. Обычная кровь, что течет в венах, по нелепой случайности попала в воду океана. Вначале я не придал этому значения, но через какой-то незначительный промежуток времени я заметил существ, очень отдаленно, да ещё и при должной фантазии, напоминающих рыб, что выпрыгивали на берег.\\nИ тут у меня затеплилась надежда на то, что отныне я буду не один. Пройдет ещё совсем немного времени и я снова услышу и увижу что-то новое, что-то что сможет меня удивить. Может быть у меня даже получится научить чему-то этих новых, пока что неведомых мне существ. Это было бы здорово. Нужно лишь немного подождать. Но это я уже умею отлично, время научило меня этому.\\nЯ буду присматривать за новым миром. Я буду ждать.\",\"attachments\":[{\"type\":\"photo\",\"photo\":{\"id\":382792159,\"album_id\":-7,\"owner_id\":-41041067,\"user_id\":100,\"sizes\":[{\"type\":\"m\",\"url\":\"https:\\/\\/pp.userapi.com\\/c7008\\/v7008306\\/4ef74\\/nQfEpzURX1c.jpg\",\"width\":130,\"height\":78},{\"type\":\"o\",\"url\":\"https:\\/\\/pp.userapi.com\\/c7008\\/v7008306\\/4ef76\\/r76XU7J0ub0.jpg\",\"width\":130,\"height\":87},{\"type\":\"p\",\"url\":\"https:\\/\\/pp.userapi.com\\/c7008\\/v7008306\\/4ef77\\/wmTTwtlake8.jpg\",\"width\":200,\"height\":133},{\"type\":\"q\",\"url\":\"https:\\/\\/pp.userapi.com\\/c7008\\/v7008306\\/4ef78\\/rASypWFrNvQ.jpg\",\"width\":320,\"height\":213},{\"type\":\"r\",\"url\":\"https:\\/\\/pp.userapi.com\\/c7008\\/v7008306\\/4ef79\\/C3BTHAUh9Zc.jpg\",\"width\":510,\"height\":340},{\"type\":\"s\",\"url\":\"https:\\/\\/pp.userapi.com\\/c7008\\/v7008306\\/4ef73\\/Ct2z35kSs94.jpg\",\"width\":75,\"height\":45},{\"type\":\"x\",\"url\":\"https:\\/\\/pp.userapi.com\\/c7008\\/v7008306\\/4ef75\\/jinv3AnQQ1Q.jpg\",\"width\":604,\"height\":362}],\"text\":\"\",\"date\":1441919701,\"post_id\":164170,\"access_key\":\"eca007fe255ed535be\"}}],\"post_source\":{\"type\":\"api\"}}],\"post_source\":{\"type\":\"api\",\"platform\":\"android\"},\"comments\":{\"count\":0,\"can_post\":0,\"groups_can_post\":true},\"likes\":{\"count\":4,\"user_likes\":0,\"can_like\":1,\"can_publish\":1},\"reposts\":{\"count\":1,\"user_reposted\":0},\"is_favorite\":false},{\"id\":716,\"from_id\":3004879,\"owner_id\":3004879,\"date\":1441538588,\"post_type\":\"post\",\"text\":\"\",\"copy_history\":[{\"id\":88973,\"owner_id\":-37154532,\"from_id\":-37154532,\"date\":1441040482,\"post_type\":\"post\",\"text\":\"Мы устраиваем розыгрыш 3 комплектов фирменных масел для бороды \\\"[club37154532|Borodist]\\\"\\n\\nДля участия в розыгрыше необходимо:\\n1. Подписаться на [club37154532|Borodist]. \\n2. Сделать репост этой записи.\\n\\nТРИ победителя будут выбраны 6 сентября случайным образом через [club49971308|Random.app]! Каждый из них получит по 3 масла. Результат будет объявлен в комментариях под этим постом. Доставка за наш счёт.\\nhttp:\\/\\/borodist.ru\\/store - подробнее о наших продуктах.\",\"attachments\":[{\"type\":\"photo\",\"photo\":{\"id\":380738183,\"album_id\":-7,\"owner_id\":-37154532,\"user_id\":100,\"sizes\":[{\"type\":\"m\",\"url\":\"https:\\/\\/pp.userapi.com\\/c540108\\/v540108635\\/6105\\/H8lxapbXPIg.jpg\",\"width\":130,\"height\":127},{\"type\":\"o\",\"url\":\"https:\\/\\/pp.userapi.com\\/c540108\\/v540108635\\/6108\\/D3XaEX1TOKk.jpg\",\"width\":130,\"height\":127},{\"type\":\"p\",\"url\":\"https:\\/\\/pp.userapi.com\\/c540108\\/v540108635\\/6109\\/nHNRaV9iHoI.jpg\",\"width\":200,\"height\":195},{\"type\":\"q\",\"url\":\"https:\\/\\/pp.userapi.com\\/c540108\\/v540108635\\/610a\\/xXOyofPby7Q.jpg\",\"width\":320,\"height\":312},{\"type\":\"r\",\"url\":\"https:\\/\\/pp.userapi.com\\/c540108\\/v540108635\\/610b\\/we_1I0ptjOw.jpg\",\"width\":510,\"height\":497},{\"type\":\"s\",\"url\":\"https:\\/\\/pp.userapi.com\\/c540108\\/v540108635\\/6104\\/qNaoVgIVYeA.jpg\",\"width\":75,\"height\":73},{\"type\":\"x\",\"url\":\"https:\\/\\/pp.userapi.com\\/c540108\\/v540108635\\/6106\\/vls9HK5fWF4.jpg\",\"width\":604,\"height\":589},{\"type\":\"y\",\"url\":\"https:\\/\\/pp.userapi.com\\/c540108\\/v540108635\\/6107\\/_NrqsK0hBg0.jpg\",\"width\":624,\"height\":608}],\"text\":\"\",\"date\":1441032825,\"post_id\":88973,\"access_key\":\"45cc93dd17d03eb524\"}},{\"type\":\"link\",\"link\":{\"url\":\"http:\\/\\/borodist.ru\\/store\\/\",\"title\":\"Магазин Бородист: товары для любителей бороды и усов.\",\"description\":\"Продукция бренда Бородист с доставкой по России и СНГ. Все для бородачей и усачей.\",\"target\":\"internal\",\"photo\":{\"id\":376821671,\"album_id\":-2,\"owner_id\":100,\"sizes\":[{\"type\":\"l\",\"url\":\"https:\\/\\/pp.userapi.com\\/c629509\\/v629509503\\/e1b7\\/WXZKFGtS9bM.jpg\",\"width\":537,\"height\":240},{\"type\":\"m\",\"url\":\"https:\\/\\/pp.userapi.com\\/c629509\\/v629509503\\/e1b4\\/fEgORqq_DBo.jpg\",\"width\":130,\"height\":130},{\"type\":\"p\",\"url\":\"https:\\/\\/pp.userapi.com\\/c629509\\/v629509503\\/e1b6\\/IOKIf0pltcI.jpg\",\"width\":260,\"height\":260},{\"type\":\"s\",\"url\":\"https:\\/\\/pp.userapi.com\\/c629509\\/v629509503\\/e1b3\\/3eizM-5LVrI.jpg\",\"width\":75,\"height\":75},{\"type\":\"x\",\"url\":\"https:\\/\\/pp.userapi.com\\/c629509\\/v629509503\\/e1b5\\/YT4h93wNlpU.jpg\",\"width\":150,\"height\":150}],\"text\":\"\",\"date\":1440766050},\"is_favorite\":false}}],\"post_source\":{\"type\":\"vk\"}}],\"post_source\":{\"type\":\"api\",\"platform\":\"android\"},\"comments\":{\"count\":0,\"can_post\":0,\"groups_can_post\":true},\"likes\":{\"count\":3,\"user_likes\":0,\"can_like\":1,\"can_publish\":1},\"reposts\":{\"count\":0,\"user_reposted\":0},\"is_favorite\":false},{\"id\":715,\"from_id\":3004879,\"owner_id\":3004879,\"date\":1441463713,\"post_type\":\"post\",\"text\":\"3 важных повода выпрямить свою сгорбившуюся спину\",\"attachments\":[{\"type\":\"link\",\"link\":{\"url\":\"http:\\/\\/lifehacker.ru\\/2015\\/09\\/04\\/nepravilnaja-osanka\\/\",\"title\":\"3 важных повода выпрямить свою сгорбившуюся спину\",\"caption\":\"lifehacker.ru\",\"description\":\"Неправильная осанка может оказаться не менее вредной, чем то же курение. Помимо вопросов здоровья, сгорбившаяся поза может негативно повлиять на ваше настроение, продуктивность и даже успех.\",\"photo\":{\"id\":379691791,\"album_id\":-2,\"owner_id\":100,\"sizes\":[{\"type\":\"k\",\"url\":\"https:\\/\\/pp.userapi.com\\/c6066\\/v6066879\\/149d8\\/AfoqHazyfBs.jpg\",\"width\":1024,\"height\":480},{\"type\":\"l\",\"url\":\"https:\\/\\/pp.userapi.com\\/c6066\\/v6066879\\/149d7\\/VbAkmuz4FCs.jpg\",\"width\":537,\"height\":240},{\"type\":\"m\",\"url\":\"https:\\/\\/pp.userapi.com\\/c6066\\/v6066879\\/149d4\\/0VGjbfUTApU.jpg\",\"width\":130,\"height\":70},{\"type\":\"p\",\"url\":\"https:\\/\\/pp.userapi.com\\/c6066\\/v6066879\\/149d6\\/QRr4nnJc2S8.jpg\",\"width\":260,\"height\":140},{\"type\":\"s\",\"url\":\"https:\\/\\/pp.userapi.com\\/c6066\\/v6066879\\/149d3\\/SIp2Nn2e97c.jpg\",\"width\":75,\"height\":38},{\"type\":\"x\",\"url\":\"https:\\/\\/pp.userapi.com\\/c6066\\/v6066879\\/149d5\\/10UjSKCpcN4.jpg\",\"width\":150,\"height\":80}],\"text\":\"\",\"date\":1441463718},\"is_favorite\":false}}],\"post_source\":{\"type\":\"api\",\"platform\":\"android\"},\"comments\":{\"count\":0,\"can_post\":0,\"groups_can_post\":true},\"likes\":{\"count\":1,\"user_likes\":0,\"can_like\":1,\"can_publish\":1},\"reposts\":{\"count\":0,\"user_reposted\":0},\"is_favorite\":false}]}}\n",
      "115\n",
      "116\n",
      "117\n",
      "retry\n",
      "{\"error\":{\"error_code\":30,\"error_msg\":\"This profile is private\",\"request_params\":[{\"key\":\"oauth\",\"value\":\"1\"},{\"key\":\"method\",\"value\":\"wall.get\"},{\"key\":\"owner_id\",\"value\":\"3082437\"},{\"key\":\"v\",\"value\":\"5.92\"}]}}\n",
      "118\n",
      "119\n",
      "120\n",
      "121\n",
      "122\n",
      "123\n",
      "124\n",
      "125\n",
      "126\n",
      "127\n",
      "128\n",
      "129\n",
      "retry\n",
      "{\"error\":{\"error_code\":30,\"error_msg\":\"This profile is private\",\"request_params\":[{\"key\":\"oauth\",\"value\":\"1\"},{\"key\":\"method\",\"value\":\"wall.get\"},{\"key\":\"owner_id\",\"value\":\"3539371\"},{\"key\":\"v\",\"value\":\"5.92\"}]}}\n",
      "130\n",
      "131\n",
      "132\n",
      "133\n",
      "134\n",
      "135\n",
      "136\n",
      "retry\n",
      "{\"error\":{\"error_code\":30,\"error_msg\":\"This profile is private\",\"request_params\":[{\"key\":\"oauth\",\"value\":\"1\"},{\"key\":\"method\",\"value\":\"wall.get\"},{\"key\":\"owner_id\",\"value\":\"3766339\"},{\"key\":\"v\",\"value\":\"5.92\"}]}}\n",
      "137\n",
      "138\n",
      "139\n",
      "140\n",
      "141\n",
      "142\n",
      "143\n",
      "144\n",
      "retry\n",
      "{\"error\":{\"error_code\":30,\"error_msg\":\"This profile is private\",\"request_params\":[{\"key\":\"oauth\",\"value\":\"1\"},{\"key\":\"method\",\"value\":\"wall.get\"},{\"key\":\"owner_id\",\"value\":\"4179447\"},{\"key\":\"v\",\"value\":\"5.92\"}]}}\n",
      "145\n",
      "146\n",
      "147\n",
      "148\n",
      "retry\n",
      "{\"error\":{\"error_code\":30,\"error_msg\":\"This profile is private\",\"request_params\":[{\"key\":\"oauth\",\"value\":\"1\"},{\"key\":\"method\",\"value\":\"wall.get\"},{\"key\":\"owner_id\",\"value\":\"4287815\"},{\"key\":\"v\",\"value\":\"5.92\"}]}}\n",
      "149\n",
      "150\n",
      "151\n",
      "retry\n",
      "{\"error\":{\"error_code\":30,\"error_msg\":\"This profile is private\",\"request_params\":[{\"key\":\"oauth\",\"value\":\"1\"},{\"key\":\"method\",\"value\":\"wall.get\"},{\"key\":\"owner_id\",\"value\":\"4338103\"},{\"key\":\"v\",\"value\":\"5.92\"}]}}\n",
      "152\n",
      "retry\n",
      "{\"error\":{\"error_code\":30,\"error_msg\":\"This profile is private\",\"request_params\":[{\"key\":\"oauth\",\"value\":\"1\"},{\"key\":\"method\",\"value\":\"wall.get\"},{\"key\":\"owner_id\",\"value\":\"4426616\"},{\"key\":\"v\",\"value\":\"5.92\"}]}}\n",
      "153\n",
      "154\n",
      "retry\n",
      "{\"error\":{\"error_code\":30,\"error_msg\":\"This profile is private\",\"request_params\":[{\"key\":\"oauth\",\"value\":\"1\"},{\"key\":\"method\",\"value\":\"wall.get\"},{\"key\":\"owner_id\",\"value\":\"4485472\"},{\"key\":\"v\",\"value\":\"5.92\"}]}}\n",
      "155\n",
      "156\n",
      "157\n",
      "retry\n",
      "{\"error\":{\"error_code\":30,\"error_msg\":\"This profile is private\",\"request_params\":[{\"key\":\"oauth\",\"value\":\"1\"},{\"key\":\"method\",\"value\":\"wall.get\"},{\"key\":\"owner_id\",\"value\":\"4550039\"},{\"key\":\"v\",\"value\":\"5.92\"}]}}\n",
      "158\n",
      "159\n",
      "160\n",
      "retry\n",
      "{\"error\":{\"error_code\":30,\"error_msg\":\"This profile is private\",\"request_params\":[{\"key\":\"oauth\",\"value\":\"1\"},{\"key\":\"method\",\"value\":\"wall.get\"},{\"key\":\"owner_id\",\"value\":\"4661333\"},{\"key\":\"v\",\"value\":\"5.92\"}]}}\n",
      "161\n",
      "162\n",
      "163\n",
      "164\n",
      "retry\n",
      "{\"error\":{\"error_code\":30,\"error_msg\":\"This profile is private\",\"request_params\":[{\"key\":\"oauth\",\"value\":\"1\"},{\"key\":\"method\",\"value\":\"wall.get\"},{\"key\":\"owner_id\",\"value\":\"4777249\"},{\"key\":\"v\",\"value\":\"5.92\"}]}}\n",
      "165\n",
      "166\n",
      "167\n",
      "168\n",
      "169\n",
      "170\n",
      "171\n",
      "172\n",
      "173\n",
      "174\n",
      "175\n",
      "176\n",
      "177\n",
      "178\n",
      "179\n",
      "180\n",
      "181\n",
      "182\n",
      "183\n",
      "184\n",
      "retry\n",
      "{\"error\":{\"error_code\":30,\"error_msg\":\"This profile is private\",\"request_params\":[{\"key\":\"oauth\",\"value\":\"1\"},{\"key\":\"method\",\"value\":\"wall.get\"},{\"key\":\"owner_id\",\"value\":\"5829288\"},{\"key\":\"v\",\"value\":\"5.92\"}]}}\n",
      "185\n",
      "retry\n",
      "{\"error\":{\"error_code\":30,\"error_msg\":\"This profile is private\",\"request_params\":[{\"key\":\"oauth\",\"value\":\"1\"},{\"key\":\"method\",\"value\":\"wall.get\"},{\"key\":\"owner_id\",\"value\":\"5972851\"},{\"key\":\"v\",\"value\":\"5.92\"}]}}\n",
      "186\n",
      "187\n",
      "188\n",
      "189\n",
      "190\n",
      "retry\n",
      "{\"error\":{\"error_code\":30,\"error_msg\":\"This profile is private\",\"request_params\":[{\"key\":\"oauth\",\"value\":\"1\"},{\"key\":\"method\",\"value\":\"wall.get\"},{\"key\":\"owner_id\",\"value\":\"6297084\"},{\"key\":\"v\",\"value\":\"5.92\"}]}}\n",
      "191\n",
      "192\n",
      "193\n",
      "194\n",
      "195\n",
      "retry\n",
      "{\"error\":{\"error_code\":30,\"error_msg\":\"This profile is private\",\"request_params\":[{\"key\":\"oauth\",\"value\":\"1\"},{\"key\":\"method\",\"value\":\"wall.get\"},{\"key\":\"owner_id\",\"value\":\"6595950\"},{\"key\":\"v\",\"value\":\"5.92\"}]}}\n",
      "196\n",
      "197\n",
      "198\n",
      "199\n",
      "200\n",
      "retry\n",
      "{\"error\":{\"error_code\":30,\"error_msg\":\"This profile is private\",\"request_params\":[{\"key\":\"oauth\",\"value\":\"1\"},{\"key\":\"method\",\"value\":\"wall.get\"},{\"key\":\"owner_id\",\"value\":\"6812002\"},{\"key\":\"v\",\"value\":\"5.92\"}]}}\n",
      "201\n",
      "202\n",
      "203\n",
      "204\n",
      "205\n",
      "206\n",
      "207\n",
      "208\n",
      "209\n",
      "210\n",
      "211\n",
      "212\n",
      "213\n",
      "214\n",
      "215\n",
      "216\n",
      "217\n",
      "218\n",
      "219\n",
      "220\n",
      "221\n",
      "retry\n",
      "{\"error\":{\"error_code\":30,\"error_msg\":\"This profile is private\",\"request_params\":[{\"key\":\"oauth\",\"value\":\"1\"},{\"key\":\"method\",\"value\":\"wall.get\"},{\"key\":\"owner_id\",\"value\":\"8158578\"},{\"key\":\"v\",\"value\":\"5.92\"}]}}\n",
      "222\n",
      "223\n",
      "retry\n",
      "{\"error\":{\"error_code\":30,\"error_msg\":\"This profile is private\",\"request_params\":[{\"key\":\"oauth\",\"value\":\"1\"},{\"key\":\"method\",\"value\":\"wall.get\"},{\"key\":\"owner_id\",\"value\":\"8277611\"},{\"key\":\"v\",\"value\":\"5.92\"}]}}\n",
      "224\n",
      "225\n",
      "226\n",
      "retry\n",
      "{\"error\":{\"error_code\":30,\"error_msg\":\"This profile is private\",\"request_params\":[{\"key\":\"oauth\",\"value\":\"1\"},{\"key\":\"method\",\"value\":\"wall.get\"},{\"key\":\"owner_id\",\"value\":\"8467837\"},{\"key\":\"v\",\"value\":\"5.92\"}]}}\n",
      "227\n",
      "retry\n",
      "{\"error\":{\"error_code\":30,\"error_msg\":\"This profile is private\",\"request_params\":[{\"key\":\"oauth\",\"value\":\"1\"},{\"key\":\"method\",\"value\":\"wall.get\"},{\"key\":\"owner_id\",\"value\":\"8620172\"},{\"key\":\"v\",\"value\":\"5.92\"}]}}\n",
      "228\n",
      "229\n",
      "230\n",
      "231\n",
      "232\n",
      "233\n",
      "234\n",
      "235\n",
      "236\n",
      "retry\n",
      "{\"response\":{\"count\":3042,\"items\":[{\"id\":5054,\"from_id\":9316846,\"owner_id\":9316846,\"date\":1546671708,\"post_type\":\"post\",\"text\":\"Вот он выложен наконец-то) Слушаем, лайкаем, репостим, подписываемся)\",\"copy_history\":[{\"id\":485,\"owner_id\":-78638925,\"from_id\":-78638925,\"date\":1546668060,\"post_type\":\"post\",\"text\":\"Hey, Folks! Альбом уже в сети! \\n\\nОт Гленфиннана до Лондона: \\n\\nЗапись и сведение: [club2269224|KROKODILSOUND] \\nЗапись баяна в бонус треке: [id89711963|Илья Котяшкин]\\nИллюстрация для обложки : [id29578534|Екатерина Смирнова] \\nДизайн, верстка, фото: [id122396043|Илья Привезенцев] \\n\\nОтдельное спасибо: [id339856263|Алексею Новикову], [id27888256|Роману Фураеву] за помощь в написании музыкального материала, [id5575770|Ольге Рассоловой], [id145515411|Галине Хариной] за неоценимую помощь и поддержку 😉\",\"attachments\":[{\"type\":\"photo\",\"photo\":{\"id\":456239382,\"album_id\":-7,\"owner_id\":-78638925,\"user_id\":100,\"sizes\":[{\"type\":\"m\",\"url\":\"https:\\/\\/pp.userapi.com\\/c850632\\/v850632477\\/80e6d\\/WiQW4PD3YGY.jpg\",\"width\":130,\"height\":130},{\"type\":\"o\",\"url\":\"https:\\/\\/pp.userapi.com\\/c850632\\/v850632477\\/80e72\\/Tq18MWwUlKE.jpg\",\"width\":130,\"height\":130},{\"type\":\"p\",\"url\":\"https:\\/\\/pp.userapi.com\\/c850632\\/v850632477\\/80e73\\/8qAt7MNyM7o.jpg\",\"width\":200,\"height\":200},{\"type\":\"q\",\"url\":\"https:\\/\\/pp.userapi.com\\/c850632\\/v850632477\\/80e74\\/Gv-7HmNV4rk.jpg\",\"width\":320,\"height\":320},{\"type\":\"r\",\"url\":\"https:\\/\\/pp.userapi.com\\/c850632\\/v850632477\\/80e75\\/Z5vfmThlI_Y.jpg\",\"width\":510,\"height\":510},{\"type\":\"s\",\"url\":\"https:\\/\\/pp.userapi.com\\/c850632\\/v850632477\\/80e6c\\/V7g9Sn0TjTg.jpg\",\"width\":75,\"height\":75},{\"type\":\"w\",\"url\":\"https:\\/\\/pp.userapi.com\\/c850632\\/v850632477\\/80e71\\/V2YYGTkXcnw.jpg\",\"width\":1465,\"height\":1465},{\"type\":\"x\",\"url\":\"https:\\/\\/pp.userapi.com\\/c850632\\/v850632477\\/80e6e\\/avErBiUITc8.jpg\",\"width\":604,\"height\":604},{\"type\":\"y\",\"url\":\"https:\\/\\/pp.userapi.com\\/c850632\\/v850632477\\/80e6f\\/vF4wjomZo_s.jpg\",\"width\":807,\"height\":807},{\"type\":\"z\",\"url\":\"https:\\/\\/pp.userapi.com\\/c850632\\/v850632477\\/80e70\\/UwfiyNFbzUg.jpg\",\"width\":1080,\"height\":1080}],\"text\":\"\",\"date\":1546665728,\"access_key\":\"9eb8004723c231e517\"}},{\"type\":\"link\",\"link\":{\"url\":\"https:\\/\\/m.vk.com\\/audio?act=audio_playlist-78638925_5&api_view=56d216d54a8be035605ff6ccdbf84f\",\"title\":\"Крик Вильгельма - От Гленфиннана до Лондона (2019)\",\"description\":\"Плейлист\",\"photo\":{\"id\":456239018,\"album_id\":235125454,\"owner_id\":-127435785,\"user_id\":100,\"sizes\":[{\"type\":\"m\",\"url\":\"https:\\/\\/sun9-12.userapi.com\\/c637630\\/v637630075\\/3d838\\/-D_AFiarQHY.jpg\",\"width\":130,\"height\":130},{\"type\":\"o\",\"url\":\"https:\\/\\/sun9-13.userapi.com\\/c637630\\/v637630075\\/3d83a\\/_o5f5AJbwhw.jpg\",\"width\":130,\"height\":130},{\"type\":\"p\",\"url\":\"https:\\/\\/sun9-3.userapi.com\\/c637630\\/v637630075\\/3d83b\\/t1L2-NeXjHk.jpg\",\"width\":200,\"height\":200},{\"type\":\"q\",\"url\":\"https:\\/\\/sun9-17.userapi.com\\/c637630\\/v637630075\\/3d83c\\/HKURh1Fy6-A.jpg\",\"width\":320,\"height\":320},{\"type\":\"r\",\"url\":\"https:\\/\\/sun9-20.userapi.com\\/c637630\\/v637630075\\/3d83d\\/PIuiHyOMo4c.jpg\",\"width\":510,\"height\":510},{\"type\":\"s\",\"url\":\"https:\\/\\/sun9-11.userapi.com\\/c637630\\/v637630075\\/3d837\\/ZQCLOU9vt9U.jpg\",\"width\":75,\"height\":75},{\"type\":\"x\",\"url\":\"https:\\/\\/sun9-10.userapi.com\\/c637630\\/v637630075\\/3d839\\/QoS1sHwG3kY.jpg\",\"width\":512,\"height\":512}],\"text\":\"\",\"date\":1490173981}}}],\"post_source\":{\"type\":\"vk\"}}],\"is_pinned\":1,\"post_source\":{\"type\":\"vk\"},\"comments\":{\"count\":0,\"can_post\":0,\"groups_can_post\":true},\"likes\":{\"count\":2,\"user_likes\":0,\"can_like\":1,\"can_publish\":1},\"reposts\":{\"count\":0,\"user_reposted\":0},\"views\":{\"count\":343},\"is_favorite\":false},{\"id\":5078,\"from_id\":9316846,\"owner_id\":9316846,\"date\":1552551782,\"post_type\":\"post\",\"text\":\"Я тут на днях понял, что соскучился по нашим лютым нойзкор-тусам на реп базах. [id41126776|Тимофей], [id8573078|Алексей], [id1602237|Константин], [id1484515|Тамаш], [id13619317|Эльдар], [id14528783|Даурекумба], [id53630311|Алексей] как насчёт собраться в Ярославле пошуметь? В апреле-мае. Кто хочет, пишите, создам беседу, решим)\",\"post_source\":{\"type\":\"api\",\"platform\":\"android\"},\"comments\":{\"count\":13,\"can_post\":0,\"groups_can_post\":true},\"likes\":{\"count\":6,\"user_likes\":0,\"can_like\":1,\"can_publish\":1},\"reposts\":{\"count\":0,\"user_reposted\":0},\"views\":{\"count\":213},\"is_favorite\":false},{\"id\":5077,\"from_id\":9316846,\"owner_id\":9316846,\"date\":1551995164,\"post_type\":\"post\",\"text\":\"Кто хочет диск?)\",\"copy_history\":[{\"id\":503,\"owner_id\":-78638925,\"from_id\":-78638925,\"date\":1551973020,\"post_type\":\"post\",\"text\":\"Налетай, торопись! Покупай..диджипаки со свежим альбомом! Вкусные, свежие, хрустящие! Самые что ни на есть настоящие! \\nПощупать - повертеть их в руках можно уже [club177258863|17 марта в клубе Джао - да]!\\nДля тех, кто не хочет ждать, велком ту наш торговый ряд, складывай в корзинку наш мерч, ну а дальше все по накатанной ✌ \\nДо встречи на зеленом празднике!\",\"attachments\":[{\"type\":\"photo\",\"photo\":{\"id\":456239393,\"album_id\":-7,\"owner_id\":-78638925,\"user_id\":100,\"sizes\":[{\"type\":\"m\",\"url\":\"https:\\/\\/pp.userapi.com\\/c851416\\/v851416810\\/cf244\\/H8l8NODQaIA.jpg\",\"width\":130,\"height\":87},{\"type\":\"o\",\"url\":\"https:\\/\\/pp.userapi.com\\/c851416\\/v851416810\\/cf248\\/CKsOodXx7BQ.jpg\",\"width\":130,\"height\":87},{\"type\":\"p\",\"url\":\"https:\\/\\/pp.userapi.com\\/c851416\\/v851416810\\/cf249\\/PYRC3a10Raw.jpg\",\"width\":200,\"height\":133},{\"type\":\"q\",\"url\":\"https:\\/\\/pp.userapi.com\\/c851416\\/v851416810\\/cf24a\\/N058lh3trGg.jpg\",\"width\":320,\"height\":213},{\"type\":\"r\",\"url\":\"https:\\/\\/pp.userapi.com\\/c851416\\/v851416810\\/cf24b\\/G36h6s4ecao.jpg\",\"width\":510,\"height\":340},{\"type\":\"s\",\"url\":\"https:\\/\\/pp.userapi.com\\/c851416\\/v851416810\\/cf243\\/XPFJrwIMDt4.jpg\",\"width\":75,\"height\":50},{\"type\":\"x\",\"url\":\"https:\\/\\/pp.userapi.com\\/c851416\\/v851416810\\/cf245\\/gTfN9fZqiyE.jpg\",\"width\":604,\"height\":403},{\"type\":\"y\",\"url\":\"https:\\/\\/pp.userapi.com\\/c851416\\/v851416810\\/cf246\\/lefrctlQLk4.jpg\",\"width\":807,\"height\":538},{\"type\":\"z\",\"url\":\"https:\\/\\/pp.userapi.com\\/c851416\\/v851416810\\/cf247\\/B0-bweZ4xhw.jpg\",\"width\":960,\"height\":640}],\"text\":\"\",\"date\":1551965853,\"access_key\":\"f9b7e41a198b3573b6\"}},{\"type\":\"photo\",\"photo\":{\"id\":456239395,\"album_id\":-7,\"owner_id\":-78638925,\"user_id\":100,\"sizes\":[{\"type\":\"m\",\"url\":\"https:\\/\\/pp.userapi.com\\/c850020\\/v850020850\\/142e51\\/_-sIlmeXdzk.jpg\",\"width\":130,\"height\":130},{\"type\":\"o\",\"url\":\"https:\\/\\/pp.userapi.com\\/c850020\\/v850020850\\/142e54\\/1Dn9moGI67E.jpg\",\"width\":130,\"height\":130},{\"type\":\"p\",\"url\":\"https:\\/\\/pp.userapi.com\\/c850020\\/v850020850\\/142e55\\/VrVEX64qGNA.jpg\",\"width\":200,\"height\":200},{\"type\":\"q\",\"url\":\"https:\\/\\/pp.userapi.com\\/c850020\\/v850020850\\/142e56\\/1l-Cv3_GJWk.jpg\",\"width\":320,\"height\":320},{\"type\":\"r\",\"url\":\"https:\\/\\/pp.userapi.com\\/c850020\\/v850020850\\/142e57\\/9cmrOPGSI-s.jpg\",\"width\":510,\"height\":510},{\"type\":\"s\",\"url\":\"https:\\/\\/pp.userapi.com\\/c850020\\/v850020850\\/142e50\\/2dNJVn4jNqw.jpg\",\"width\":75,\"height\":75},{\"type\":\"x\",\"url\":\"https:\\/\\/pp.userapi.com\\/c850020\\/v850020850\\/142e52\\/YMWQkgV10m8.jpg\",\"width\":604,\"height\":604},{\"type\":\"y\",\"url\":\"https:\\/\\/pp.userapi.com\\/c850020\\/v850020850\\/142e53\\/YKx-AZv2IXM.jpg\",\"width\":750,\"height\":750}],\"text\":\"\",\"date\":1551965872,\"access_key\":\"f4a2e624ab67a8229e\"}}],\"post_source\":{\"type\":\"api\",\"platform\":\"iphone\"}}],\"post_source\":{\"type\":\"api\",\"platform\":\"android\"},\"comments\":{\"count\":0,\"can_post\":0,\"groups_can_post\":true},\"likes\":{\"count\":1,\"user_likes\":0,\"can_like\":1,\"can_publish\":1},\"reposts\":{\"count\":0,\"user_reposted\":0},\"views\":{\"count\":134},\"is_favorite\":false},{\"id\":5072,\"from_id\":9316846,\"owner_id\":9316846,\"date\":1551613167,\"post_type\":\"post\",\"text\":\"Даже немного жаль выезжать)\\nСколько всего было за эти пять с лишним лет: развод и снова свадьба, начало и окончание учебы, увольнение и новая работа. А сколько раз мы приезжали сюда под утро с ощущением: \\\"Наконец-то мы дома!\\\"\\nНо теперь всё, этот этап закрыт, надо идти дальше)\",\"attachments\":[{\"type\":\"photo\",\"photo\":{\"id\":456239716,\"album_id\":-7,\"owner_id\":9316846,\"sizes\":[{\"type\":\"m\",\"url\":\"https:\\/\\/pp.userapi.com\\/c849136\\/v849136697\\/140390\\/VVx-6dMdowA.jpg\",\"width\":97,\"height\":130},{\"type\":\"o\",\"url\":\"https:\\/\\/pp.userapi.com\\/c849136\\/v849136697\\/140394\\/_CUm9u0viDQ.jpg\",\"width\":130,\"height\":173},{\"type\":\"p\",\"url\":\"https:\\/\\/pp.userapi.com\\/c849136\\/v849136697\\/140395\\/maV763XCU0Y.jpg\",\"width\":200,\"height\":267},{\"type\":\"q\",\"url\":\"https:\\/\\/pp.userapi.com\\/c849136\\/v849136697\\/140396\\/SiKGbf-QFho.jpg\",\"width\":320,\"height\":427},{\"type\":\"r\",\"url\":\"https:\\/\\/pp.userapi.com\\/c849136\\/v849136697\\/140397\\/PiuZg4r2jRc.jpg\",\"width\":510,\"height\":680},{\"type\":\"s\",\"url\":\"https:\\/\\/pp.userapi.com\\/c849136\\/v849136697\\/14038f\\/22bzOhPDS4M.jpg\",\"width\":56,\"height\":75},{\"type\":\"x\",\"url\":\"https:\\/\\/pp.userapi.com\\/c849136\\/v849136697\\/140391\\/A-O0H8_Hzt8.jpg\",\"width\":453,\"height\":604},{\"type\":\"y\",\"url\":\"https:\\/\\/pp.userapi.com\\/c849136\\/v849136697\\/140392\\/lCL4jKOil-0.jpg\",\"width\":605,\"height\":807},{\"type\":\"z\",\"url\":\"https:\\/\\/pp.userapi.com\\/c849136\\/v849136697\\/140393\\/747-jHMNHac.jpg\",\"width\":780,\"height\":1040}],\"text\":\"\",\"date\":1551612975,\"post_id\":5072,\"access_key\":\"37c38e83e677a4bb83\"}}],\"post_source\":{\"type\":\"api\",\"platform\":\"android\"},\"comments\":{\"count\":4,\"can_post\":0,\"groups_can_post\":true},\"likes\":{\"count\":27,\"user_likes\":0,\"can_like\":1,\"can_publish\":1},\"reposts\":{\"count\":0,\"user_reposted\":0},\"views\":{\"count\":544},\"is_favorite\":false},{\"id\":5071,\"from_id\":9316846,\"owner_id\":9316846,\"date\":1551389836,\"post_type\":\"post\",\"text\":\"Brodequin!! Мой первый брутальный диск - сборник Gore Grind Cafe, там был их трек Blood of the Martyr. С тех пор они большие фавориты для меня)\",\"copy_history\":[{\"id\":3,\"owner_id\":-177986477,\"from_id\":-177986477,\"date\":1551376842,\"post_type\":\"post\",\"text\":\"Итак первые участники следующего  Coyote Brutal Fest-14\\nBRODEQUIN (Сша) Brutal death\\nhttps:\\/\\/www.facebook.com\\/brodequinTN\\nBOWEL STEW (Италия) Gore Grind\\nhttps:\\/\\/www.facebook.com\\/Bowel-Stew-Official-107541992612120\",\"attachments\":[{\"type\":\"photo\",\"photo\":{\"id\":456239019,\"album_id\":-7,\"owner_id\":-177986477,\"user_id\":100,\"sizes\":[{\"type\":\"m\",\"url\":\"https:\\/\\/pp.userapi.com\\/c844617\\/v844617636\\/1b1cff\\/km5Y1a1tBTU.jpg\",\"width\":130,\"height\":65},{\"type\":\"o\",\"url\":\"https:\\/\\/pp.userapi.com\\/c844617\\/v844617636\\/1b1d04\\/L0W8WhqxIy0.jpg\",\"width\":130,\"height\":87},{\"type\":\"p\",\"url\":\"https:\\/\\/pp.userapi.com\\/c844617\\/v844617636\\/1b1d05\\/nezqwKbRR2M.jpg\",\"width\":200,\"height\":133},{\"type\":\"q\",\"url\":\"https:\\/\\/pp.userapi.com\\/c844617\\/v844617636\\/1b1d06\\/iaF8bL5Xjfw.jpg\",\"width\":320,\"height\":213},{\"type\":\"r\",\"url\":\"https:\\/\\/pp.userapi.com\\/c844617\\/v844617636\\/1b1d07\\/gvvq5kZaJX8.jpg\",\"width\":510,\"height\":340},{\"type\":\"s\",\"url\":\"https:\\/\\/pp.userapi.com\\/c844617\\/v844617636\\/1b1cfe\\/LRAsE-_SFMI.jpg\",\"width\":75,\"height\":37},{\"type\":\"w\",\"url\":\"https:\\/\\/pp.userapi.com\\/c844617\\/v844617636\\/1b1d03\\/-9gHKFRJ_4A.jpg\",\"width\":1824,\"height\":912},{\"type\":\"x\",\"url\":\"https:\\/\\/pp.userapi.com\\/c844617\\/v844617636\\/1b1d00\\/OEm8zxVGniE.jpg\",\"width\":604,\"height\":302},{\"type\":\"y\",\"url\":\"https:\\/\\/pp.userapi.com\\/c844617\\/v844617636\\/1b1d01\\/IlmatEWz7y8.jpg\",\"width\":807,\"height\":403},{\"type\":\"z\",\"url\":\"https:\\/\\/pp.userapi.com\\/c844617\\/v844617636\\/1b1d02\\/FlLuAEml7mo.jpg\",\"width\":1280,\"height\":640}],\"text\":\"\",\"date\":1551376842,\"lat\":38.756902,\"long\":-9.142079,\"access_key\":\"8a5a533573c09ffd6e\"}},{\"type\":\"photo\",\"photo\":{\"id\":456239020,\"album_id\":-7,\"owner_id\":-177986477,\"user_id\":100,\"sizes\":[{\"type\":\"m\",\"url\":\"https:\\/\\/pp.userapi.com\\/c849220\\/v849220492\\/1413aa\\/gaemZ6XlF7A.jpg\",\"width\":97,\"height\":130},{\"type\":\"o\",\"url\":\"https:\\/\\/pp.userapi.com\\/c849220\\/v849220492\\/1413af\\/p45OGiu7c6A.jpg\",\"width\":130,\"height\":174},{\"type\":\"p\",\"url\":\"https:\\/\\/pp.userapi.com\\/c849220\\/v849220492\\/1413b0\\/zkgiEq7b9eg.jpg\",\"width\":200,\"height\":268},{\"type\":\"q\",\"url\":\"https:\\/\\/pp.userapi.com\\/c849220\\/v849220492\\/1413b1\\/pYg9vKBTxto.jpg\",\"width\":320,\"height\":429},{\"type\":\"r\",\"url\":\"https:\\/\\/pp.userapi.com\\/c849220\\/v849220492\\/1413b2\\/GHu6d8sUFHQ.jpg\",\"width\":510,\"height\":683},{\"type\":\"s\",\"url\":\"https:\\/\\/pp.userapi.com\\/c849220\\/v849220492\\/1413a9\\/-NdTwgdxt50.jpg\",\"width\":56,\"height\":75},{\"type\":\"w\",\"url\":\"https:\\/\\/pp.userapi.com\\/c849220\\/v849220492\\/1413ae\\/P0Hduj04lTY.jpg\",\"width\":1194,\"height\":1600},{\"type\":\"x\",\"url\":\"https:\\/\\/pp.userapi.com\\/c849220\\/v849220492\\/1413ab\\/TSnCxwEzoiE.jpg\",\"width\":451,\"height\":604},{\"type\":\"y\",\"url\":\"https:\\/\\/pp.userapi.com\\/c849220\\/v849220492\\/1413ac\\/XCJthgq7HX0.jpg\",\"width\":602,\"height\":807},{\"type\":\"z\",\"url\":\"https:\\/\\/pp.userapi.com\\/c849220\\/v849220492\\/1413ad\\/ZZKvM5410Kg.jpg\",\"width\":806,\"height\":1080}],\"text\":\"\",\"date\":1551376842,\"access_key\":\"ec44269e9161151e84\"}},{\"type\":\"audio\",\"audio\":{\"id\":396267849,\"owner_id\":2000253833,\"artist\":\"Brodequin\",\"title\":\"Methods Of Execution\",\"duration\":25,\"date\":1441835933,\"url\":\"https:\\/\\/vk.com\\/mp3\\/audio_api_unavailable.mp3\",\"album_id\":3,\"is_hq\":true,\"track_code\":\"415706c4vKUqwKhNPIm_YGJns9OolMOJi0MFFQcC8LatjkfP6mGGln2A6xsA0g\",\"is_explicit\":false}},{\"type\":\"audio\",\"audio\":{\"id\":456242406,\"owner_id\":2000242234,\"artist\":\"Bowel Stew\",\"title\":\"Necrocoital Amputorgy\",\"duration\":25,\"date\":1551376842,\"url\":\"https:\\/\\/vk.com\\/mp3\\/audio_api_unavailable.mp3\",\"genre_id\":7,\"is_hq\":true,\"track_code\":\"1c4ad8bewxBq5tw5YYT5lENX0z7t0GNjHrGm6efThkx99h_TwNX5Iz2mn29d3w\",\"is_explicit\":false}}],\"post_source\":{\"type\":\"api\",\"platform\":\"android\"}}],\"post_source\":{\"type\":\"api\",\"platform\":\"android\"},\"comments\":{\"count\":0,\"can_post\":0,\"groups_can_post\":true},\"likes\":{\"count\":3,\"user_likes\":0,\"can_like\":1,\"can_publish\":1},\"reposts\":{\"count\":0,\"user_reposted\":0},\"views\":{\"count\":187},\"is_favorite\":false},{\"id\":5070,\"from_id\":9316846,\"owner_id\":9316846,\"date\":1550861037,\"post_type\":\"post\",\"text\":\"Наконец-то до Архангельска доедем)\",\"copy_history\":[{\"id\":2,\"owner_id\":-178588938,\"from_id\":-178588938,\"date\":1550855100,\"post_type\":\"post\",\"text\":\"SICK FEST #15 \\n \\n20 Апреля 2019 \\/ 19:00 \\nКлуб КОЛЕСО (ул. Гайдара 4\\/1) \\nhttp:\\/\\/www.arkoleso.ru\\/ \\n \\nНе большой, но горячий и долгожданный фестиваль экстремальной музыки вновь призывает всех фэнов и почитателей звукового давления в гости. Получить заряд энергии, отдохнуть и повеселиться помогут 5 банд. \\n \\nFERALIMINAL LYCANTHROPIZER (Ярославль) \\nBulldozer Groove Porn Gore Grind \\nhttps:\\/\\/vk.com\\/club13094904 \\nДля всех фэнов весёлой долбы, угара и сёкл-питов - к нам едет такой ансамбль. Танцы на бульдозере гарантированы. Не потеряй штаны и обувь в кутеже! \\n \\nTUUNBAQ (Архангельск) \\nGrindcore \\nhttps:\\/\\/tuunbaq.bandcamp.com \\nАдепты северного грайндкора, уже прекрасно себя показавшие на нескольких концертах в городе. Napalm Death со звуком Dismember. Nasum со звуком Unleashed. Кто не видел - не упусти момент. \\n \\nSVARTBLOD (Архангельск) \\nBlackened Crust \\/ D-Beat \\nЕщё одни поморские бунтари. И не первый раз на мероприятиях от SFB. Короткие и не очень треки- по канонам жанра. \\n \\n+ 2 группы!\",\"attachments\":[{\"type\":\"photo\",\"photo\":{\"id\":456239022,\"album_id\":-6,\"owner_id\":-178588938,\"user_id\":100,\"sizes\":[{\"type\":\"m\",\"url\":\"https:\\/\\/pp.userapi.com\\/c845221\\/v845221087\\/1a9a8e\\/Wb6iVfp8NMM.jpg\",\"width\":92,\"height\":130},{\"type\":\"o\",\"url\":\"https:\\/\\/pp.userapi.com\\/c845221\\/v845221087\\/1a9a93\\/Av2RONYyLO4.jpg\",\"width\":130,\"height\":184},{\"type\":\"p\",\"url\":\"https:\\/\\/pp.userapi.com\\/c845221\\/v845221087\\/1a9a94\\/cA9K9GGx9QQ.jpg\",\"width\":200,\"height\":283},{\"type\":\"q\",\"url\":\"https:\\/\\/pp.userapi.com\\/c845221\\/v845221087\\/1a9a95\\/jhQkhVgu4mY.jpg\",\"width\":320,\"height\":453},{\"type\":\"r\",\"url\":\"https:\\/\\/pp.userapi.com\\/c845221\\/v845221087\\/1a9a96\\/5EwK43tewl8.jpg\",\"width\":510,\"height\":722},{\"type\":\"s\",\"url\":\"https:\\/\\/pp.userapi.com\\/c845221\\/v845221087\\/1a9a8d\\/Utp4sUo79NY.jpg\",\"width\":53,\"height\":75},{\"type\":\"w\",\"url\":\"https:\\/\\/pp.userapi.com\\/c845221\\/v845221087\\/1a9a92\\/Cno3cXqkoDg.jpg\",\"width\":1527,\"height\":2160},{\"type\":\"x\",\"url\":\"https:\\/\\/pp.userapi.com\\/c845221\\/v845221087\\/1a9a8f\\/_3r4KrKuK7k.jpg\",\"width\":427,\"height\":604},{\"type\":\"y\",\"url\":\"https:\\/\\/pp.userapi.com\\/c845221\\/v845221087\\/1a9a90\\/GQ-mCVQ2PTs.jpg\",\"width\":570,\"height\":807},{\"type\":\"z\",\"url\":\"https:\\/\\/pp.userapi.com\\/c845221\\/v845221087\\/1a9a91\\/il7lYVsOXnU.jpg\",\"width\":763,\"height\":1080}],\"text\":\"\",\"date\":1550854459,\"post_id\":1}},{\"type\":\"audio\",\"audio\":{\"id\":456242297,\"owner_id\":2000230112,\"artist\":\"Feraliminal Lycanthropizer\",\"title\":\"The Apocalyptic Triumph of Vaginal Infernality\",\"duration\":25,\"date\":1550855100,\"url\":\"https:\\/\\/vk.com\\/mp3\\/audio_api_unavailable.mp3\",\"no_search\":1,\"is_hq\":true,\"track_code\":\"a8d0271danVWVJX8LEFOoh6xZexL-FpZCPol7DeVNjFG4kMornRcRg8Z0qUQGw\",\"is_explicit\":true,\"main_artists\":[{\"name\":\"Feraliminal Lycanthropizer\",\"id\":\"6251584570549049039\",\"domain\":\"6251584570549049039\"}]}},{\"type\":\"audio\",\"audio\":{\"id\":456242423,\"owner_id\":2000229833,\"artist\":\"Feraliminal Lycanthropizer\",\"title\":\"The Sudden Petrifaction of Intestinal Wastes\",\"duration\":25,\"date\":1550855100,\"url\":\"https:\\/\\/vk.com\\/mp3\\/audio_api_unavailable.mp3\",\"no_search\":1,\"is_hq\":true,\"track_code\":\"f309e826gCx5ytit3z7XIfU1MKxv23F8SWTF980eK31aLWyKZTW2HyCHn_TjZA\",\"is_explicit\":true,\"main_artists\":[{\"name\":\"Feraliminal Lycanthropizer\",\"id\":\"6251584570549049039\",\"domain\":\"6251584570549049039\"}]}},{\"type\":\"audio\",\"audio\":{\"id\":456242794,\"owner_id\":2000226651,\"artist\":\"Feraliminal Lycanthropizer\",\"title\":\"Radical Followers of Vaginoplasty Apologists\",\"duration\":25,\"date\":1550855100,\"url\":\"https:\\/\\/vk.com\\/mp3\\/audio_api_unavailable.mp3\",\"no_search\":1,\"is_hq\":true,\"track_code\":\"73926d5cbKDiWUTYPnPWYJx1erxrHhc6bgSCKEQ0vSzXwO-1QoBak7sUA4ECKQ\",\"is_explicit\":true,\"main_artists\":[{\"name\":\"Feraliminal Lycanthropizer\",\"id\":\"6251584570549049039\",\"domain\":\"6251584570549049039\"}]}},{\"type\":\"audio\",\"audio\":{\"id\":456242209,\"owner_id\":2000230162,\"artist\":\"TUUNBAQ\",\"title\":\"Terror Takes Shape\",\"duration\":25,\"date\":1550855100,\"url\":\"https:\\/\\/vk.com\\/mp3\\/audio_api_unavailable.mp3\",\"genre_id\":7,\"is_hq\":false,\"track_code\":\"57600ea6swOL8A-l4pamjsTuT3E73HL19KrwTc2ioXlncA9p9G-FMNK9SPzezA\",\"is_explicit\":false}},{\"type\":\"audio\",\"audio\":{\"id\":456242881,\"owner_id\":2000226646,\"artist\":\"TUUNBAQ\",\"title\":\"Heart Of The Northern Darkness\",\"duration\":25,\"date\":1550855100,\"url\":\"https:\\/\\/vk.com\\/mp3\\/audio_api_unavailable.mp3\",\"genre_id\":7,\"is_hq\":false,\"track_code\":\"673c5793ITX4j_6o_4PKfyqyd12q9V336zVyQufI6Y5-Aai_syUXBqHCufHD2Q\",\"is_explicit\":false}},{\"type\":\"audio\",\"audio\":{\"id\":456242336,\"owner_id\":2000229534,\"artist\":\"SVARTBLOD\",\"title\":\"Хаос, Отчаянье, Ужас и Злоба.\",\"duration\":25,\"date\":1550855100,\"url\":\"https:\\/\\/vk.com\\/mp3\\/audio_api_unavailable.mp3\",\"genre_id\":1001,\"is_hq\":true,\"track_code\":\"6a88d656hymszsJoyrblewa5mu926XOlI6RCsaWNXRaJrCEtRCexGvWDhTH27A\",\"is_explicit\":false}}],\"post_source\":{\"type\":\"vk\"}}],\"post_source\":{\"type\":\"api\",\"platform\":\"android\"},\"comments\":{\"count\":0,\"can_post\":0,\"groups_can_post\":true},\"likes\":{\"count\":2,\"user_likes\":0,\"can_like\":1,\"can_publish\":1},\"reposts\":{\"count\":0,\"user_reposted\":0},\"views\":{\"count\":175},\"is_favorite\":false},{\"id\":5068,\"from_id\":9316846,\"owner_id\":9316846,\"date\":1550305066,\"post_type\":\"post\",\"text\":\"Мы в начале, не пропустите)\",\"copy_history\":[{\"id\":293,\"owner_id\":-162456329,\"from_id\":-162456329,\"date\":1550303895,\"post_type\":\"post\",\"text\":\"РАСПИСАНИЕ ФЕСТА !!! \\n16:00 ДВЕРИ (Открытие) \\n17:00 малый зал BORDELLERO (Орехово-Зуево) \\n17:40 большой зал FERALIMINAL LYCANTHROPIZER (Ярославль) \\n18:20 малый зал PERVERTED DEXTERITY (Индонезия) \\n19:00 большой зал SEPTICOPYEMIA (Иваново) \\n19:40 малый зал PURULENT JACUZZI (Москва) \\n20:20 большой зал DEAD (Германия) \\n21:00 малый зал TRAUMATOMY (Япония\\/Россия) \\n21:40 большой зал VOMIT REMNANTS (Япония) \\n22:40 малый зал FECUNDATION (Южная Корея) \\n23:20 большой зал DATURA (Донбасс) \\n0:10 малый зал STRANGULATION (Япония) \\n0:40 большой зал FETAL DECAY (Саратов) \\n1:20 малый зал KORPSESOTURI (Финляндия) \\n2:00 большой зал SPAWNED FROM HATE (Англия) \\n2:40 малый зал BRAINTEASERS (Астрахань) \\n3:20 большой зал WHOREANUS (Москва) \\n4:00 далее дискач до 5 утра !!!\",\"post_source\":{\"type\":\"vk\"}}],\"post_source\":{\"type\":\"api\",\"platform\":\"android\"},\"comments\":{\"count\":0,\"can_post\":0,\"groups_can_post\":true},\"likes\":{\"count\":0,\"user_likes\":0,\"can_like\":1,\"can_publish\":1},\"reposts\":{\"count\":0,\"user_reposted\":0},\"views\":{\"count\":170},\"is_favorite\":false},{\"id\":5065,\"from_id\":9316846,\"owner_id\":9316846,\"date\":1549370999,\"post_type\":\"post\",\"text\":\"\",\"copy_history\":[{\"id\":7,\"owner_id\":-169022280,\"from_id\":-169022280,\"date\":1549369676,\"post_type\":\"post\",\"text\":\"Сплит скоро выйдет на кассетах небольшим тиражом на Necrosoft Records https:\\/\\/vk.com\\/necrosoft_records\",\"post_source\":{\"type\":\"vk\"}},{\"id\":13,\"owner_id\":-166481132,\"from_id\":-166481132,\"date\":1549367212,\"post_type\":\"post\",\"text\":\"#Gorenoise #Goregrind\\nViralocide\\/Brucellosis - Split (2019)\",\"attachments\":[{\"type\":\"photo\",\"photo\":{\"id\":456239037,\"album_id\":-7,\"owner_id\":-166481132,\"user_id\":100,\"sizes\":[{\"type\":\"m\",\"url\":\"https:\\/\\/pp.userapi.com\\/c849336\\/v849336191\\/1165e3\\/39G4tvR2s0I.jpg\",\"width\":130,\"height\":128},{\"type\":\"o\",\"url\":\"https:\\/\\/pp.userapi.com\\/c849336\\/v849336191\\/1165e8\\/XKgRpvrHjOM.jpg\",\"width\":130,\"height\":128},{\"type\":\"p\",\"url\":\"https:\\/\\/pp.userapi.com\\/c849336\\/v849336191\\/1165e9\\/1A9kOcOPrko.jpg\",\"width\":200,\"height\":197},{\"type\":\"q\",\"url\":\"https:\\/\\/pp.userapi.com\\/c849336\\/v849336191\\/1165ea\\/JKJVmfxR4yc.jpg\",\"width\":320,\"height\":315},{\"type\":\"r\",\"url\":\"https:\\/\\/pp.userapi.com\\/c849336\\/v849336191\\/1165eb\\/RHngQdTsonM.jpg\",\"width\":510,\"height\":502},{\"type\":\"s\",\"url\":\"https:\\/\\/pp.userapi.com\\/c849336\\/v849336191\\/1165e2\\/aXPot0XqGqA.jpg\",\"width\":75,\"height\":74},{\"type\":\"w\",\"url\":\"https:\\/\\/pp.userapi.com\\/c849336\\/v849336191\\/1165e7\\/6--T6HFKAoE.jpg\",\"width\":1221,\"height\":1201},{\"type\":\"x\",\"url\":\"https:\\/\\/pp.userapi.com\\/c849336\\/v849336191\\/1165e4\\/O-U80dVdcko.jpg\",\"width\":604,\"height\":594},{\"type\":\"y\",\"url\":\"https:\\/\\/pp.userapi.com\\/c849336\\/v849336191\\/1165e5\\/y2P86eLWRv0.jpg\",\"width\":807,\"height\":794},{\"type\":\"z\",\"url\":\"https:\\/\\/pp.userapi.com\\/c849336\\/v849336191\\/1165e6\\/SGckDSnWEGM.jpg\",\"width\":1098,\"height\":1080}],\"text\":\"\",\"date\":1549367212,\"post_id\":13,\"access_key\":\"c175e983d87b23d319\"}},{\"type\":\"link\",\"link\":{\"url\":\"https:\\/\\/m.vk.com\\/audio?act=audio_playlist-166481132_1&api_view=ffa714242f8bf5cff05ff19cf4e461\",\"title\":\"Viralocide\\/Brucellosis split\",\"description\":\"Плейлист\",\"photo\":{\"id\":456239018,\"album_id\":235125454,\"owner_id\":-127435785,\"user_id\":100,\"sizes\":[{\"type\":\"m\",\"url\":\"https:\\/\\/sun9-12.userapi.com\\/c637630\\/v637630075\\/3d838\\/-D_AFiarQHY.jpg\",\"width\":130,\"height\":130},{\"type\":\"o\",\"url\":\"https:\\/\\/sun9-13.userapi.com\\/c637630\\/v637630075\\/3d83a\\/_o5f5AJbwhw.jpg\",\"width\":130,\"height\":130},{\"type\":\"p\",\"url\":\"https:\\/\\/sun9-3.userapi.com\\/c637630\\/v637630075\\/3d83b\\/t1L2-NeXjHk.jpg\",\"width\":200,\"height\":200},{\"type\":\"q\",\"url\":\"https:\\/\\/sun9-17.userapi.com\\/c637630\\/v637630075\\/3d83c\\/HKURh1Fy6-A.jpg\",\"width\":320,\"height\":320},{\"type\":\"r\",\"url\":\"https:\\/\\/sun9-20.userapi.com\\/c637630\\/v637630075\\/3d83d\\/PIuiHyOMo4c.jpg\",\"width\":510,\"height\":510},{\"type\":\"s\",\"url\":\"https:\\/\\/sun9-11.userapi.com\\/c637630\\/v637630075\\/3d837\\/ZQCLOU9vt9U.jpg\",\"width\":75,\"height\":75},{\"type\":\"x\",\"url\":\"https:\\/\\/sun9-10.userapi.com\\/c637630\\/v637630075\\/3d839\\/QoS1sHwG3kY.jpg\",\"width\":512,\"height\":512}],\"text\":\"\",\"date\":1490173981}}}],\"post_source\":{\"type\":\"vk\"}}],\"post_source\":{\"type\":\"api\",\"platform\":\"android\"},\"comments\":{\"count\":0,\"can_post\":0,\"groups_can_post\":true},\"likes\":{\"count\":0,\"user_likes\":0,\"can_like\":1,\"can_publish\":1},\"reposts\":{\"count\":0,\"user_reposted\":0},\"views\":{\"count\":121},\"is_favorite\":false},{\"id\":5063,\"from_id\":9316846,\"owner_id\":9316846,\"date\":1549310392,\"post_type\":\"post\",\"text\":\"И вот тут у меня бомбануло. Я надеюсь, что вы понимаете, что математически как раз выводы неверные. Надпись \\\"Бог+Истина=Жизнь\\\" говорит о том, что имеется некоторое множество, в котором есть как минимум 3 элемента и на двух из них определена операция +. Всё, больше здесь ничего неизвестно. Мы НЕ знаем, какие ещё элементы входят в это множество, определён ли в нём 0 по сложению, коммутативна ли эта операция, а минус может быть вообще не определён.\\nКак пример можно взять какой-нибудь язык программирования типа Python. В нём можно складывать строки, причём в общем случае  a+b<>b+a. А вычитать строки нельзя!\\nНо в данном случае, это и не строки, а просто объекты неизвестной природы. Какой смысл вкладывается в них и в сложение - неизвестно.\\nВывод - паблик пидор, ставьте дизлайки, отписывайтесь, жмите \\\"Пожаловаться\\\".\",\"copy_history\":[{\"id\":165660,\"owner_id\":-25346844,\"from_id\":-25346844,\"date\":1549091820,\"post_type\":\"post\",\"text\":\"Математически верно.\",\"attachments\":[{\"type\":\"photo\",\"photo\":{\"id\":456256424,\"album_id\":-7,\"owner_id\":-25346844,\"user_id\":100,\"sizes\":[{\"type\":\"m\",\"url\":\"https:\\/\\/pp.userapi.com\\/c846322\\/v846322321\\/18f5df\\/WJ7zGPSUgOE.jpg\",\"width\":130,\"height\":100},{\"type\":\"o\",\"url\":\"https:\\/\\/pp.userapi.com\\/c846322\\/v846322321\\/18f5e3\\/2L6BfI_udpY.jpg\",\"width\":130,\"height\":100},{\"type\":\"p\",\"url\":\"https:\\/\\/pp.userapi.com\\/c846322\\/v846322321\\/18f5e4\\/is8DKG-fZuE.jpg\",\"width\":200,\"height\":154},{\"type\":\"q\",\"url\":\"https:\\/\\/pp.userapi.com\\/c846322\\/v846322321\\/18f5e5\\/m9jAZXcRwW8.jpg\",\"width\":320,\"height\":246},{\"type\":\"r\",\"url\":\"https:\\/\\/pp.userapi.com\\/c846322\\/v846322321\\/18f5e6\\/kSZ7_FZwGj8.jpg\",\"width\":510,\"height\":392},{\"type\":\"s\",\"url\":\"https:\\/\\/pp.userapi.com\\/c846322\\/v846322321\\/18f5de\\/p--YbplfX90.jpg\",\"width\":75,\"height\":58},{\"type\":\"x\",\"url\":\"https:\\/\\/pp.userapi.com\\/c846322\\/v846322321\\/18f5e0\\/4xbnpoW1X7Q.jpg\",\"width\":604,\"height\":464},{\"type\":\"y\",\"url\":\"https:\\/\\/pp.userapi.com\\/c846322\\/v846322321\\/18f5e1\\/3RFncWJW85I.jpg\",\"width\":807,\"height\":620},{\"type\":\"z\",\"url\":\"https:\\/\\/pp.userapi.com\\/c846322\\/v846322321\\/18f5e2\\/Z_cX-WiQZIM.jpg\",\"width\":960,\"height\":738}],\"text\":\"\",\"date\":1549053522,\"post_id\":165660,\"access_key\":\"8202a99a99b071709c\"}}],\"post_source\":{\"type\":\"vk\"}}],\"post_source\":{\"type\":\"api\",\"platform\":\"android\"},\"comments\":{\"count\":3,\"can_post\":0,\"groups_can_post\":true},\"likes\":{\"count\":10,\"user_likes\":0,\"can_like\":1,\"can_publish\":1},\"reposts\":{\"count\":1,\"user_reposted\":0},\"views\":{\"count\":256},\"is_favorite\":false},{\"id\":5062,\"from_id\":9316846,\"owner_id\":9316846,\"date\":1548841707,\"post_type\":\"post\",\"text\":\"Очень интересное сообщество\",\"copy_history\":[{\"id\":512,\"owner_id\":-152609441,\"from_id\":-152609441,\"date\":1546338325,\"post_type\":\"post\",\"text\":\"Panphage\\n2016 - Drengskapr\\n\\nКонцептуальный альбом по исландской родовой «Саге о Греттире». То, что именно этому герою посвятили такое полотно, настолько великолепно и знаково, что не отметить это не представляется возможным. Судя по всему, повествование на альбоме основано на одном из самых драматичных эпизодов саги – противостоянии силача Греттира и призрака именем Глам. Некоторые названия композиций переводятся, как: «Греттир, сын Асмунда», «Глам скачет по крышам домов», «Взгляд Глама», «Изгнанник», «Дрангей» (остров, где скрывался объявленный вне закона Греттир)…\\nВ целом - музыкально и концептуально - великолепная отсылка к идеям, заложенным ещё на Windir’овском «Arntor», сквозь призму турсатру и тёмной стороны германоскандинавского язычества, свойственных Panphage.\\n\\n«Ты прославлен здесь своими подвигами, но отныне будут твоим уделом изгнание и тяжбы об убийствах, и едва ли не всякий твой поступок обернётся тебе на беду и злосчастье. Тебя объявят вне закона, и уделом твоим станет одинокая жизнь на чужбине. Я насылаю на тебя проклятье, чтобы этот мой взгляд всегда стоял у тебя перед глазами» (Глам, «Сага о Греттире, сыне Асмунда»).\\n\\n© Útlaginn\",\"attachments\":[{\"type\":\"photo\",\"photo\":{\"id\":456241812,\"album_id\":-7,\"owner_id\":-152609441,\"user_id\":100,\"sizes\":[{\"type\":\"m\",\"url\":\"https:\\/\\/pp.userapi.com\\/c849416\\/v849416434\\/f4b4d\\/sVnN1KvmknU.jpg\",\"width\":130,\"height\":130},{\"type\":\"o\",\"url\":\"https:\\/\\/pp.userapi.com\\/c849416\\/v849416434\\/f4b52\\/oltpT_NAEQc.jpg\",\"width\":130,\"height\":130},{\"type\":\"p\",\"url\":\"https:\\/\\/pp.userapi.com\\/c849416\\/v849416434\\/f4b53\\/g2bgfrKhD88.jpg\",\"width\":200,\"height\":200},{\"type\":\"q\",\"url\":\"https:\\/\\/pp.userapi.com\\/c849416\\/v849416434\\/f4b54\\/jiyZ4JkRFWs.jpg\",\"width\":320,\"height\":320},{\"type\":\"r\",\"url\":\"https:\\/\\/pp.userapi.com\\/c849416\\/v849416434\\/f4b55\\/iXf1ROU0LnY.jpg\",\"width\":510,\"height\":510},{\"type\":\"s\",\"url\":\"https:\\/\\/pp.userapi.com\\/c849416\\/v849416434\\/f4b4c\\/NC1bhpE5nEc.jpg\",\"width\":75,\"height\":75},{\"type\":\"w\",\"url\":\"https:\\/\\/pp.userapi.com\\/c849416\\/v849416434\\/f4b51\\/kPwqNiPcZvY.jpg\",\"width\":1200,\"height\":1200},{\"type\":\"x\",\"url\":\"https:\\/\\/pp.userapi.com\\/c849416\\/v849416434\\/f4b4e\\/GhbCdM_1CgU.jpg\",\"width\":604,\"height\":604},{\"type\":\"y\",\"url\":\"https:\\/\\/pp.userapi.com\\/c849416\\/v849416434\\/f4b4f\\/m7pYoqTum3A.jpg\",\"width\":807,\"height\":807},{\"type\":\"z\",\"url\":\"https:\\/\\/pp.userapi.com\\/c849416\\/v849416434\\/f4b50\\/QjCKDKcQS2A.jpg\",\"width\":1080,\"height\":1080}],\"text\":\"\",\"date\":1546338325,\"post_id\":512,\"access_key\":\"8ac37280785753e9b1\"}},{\"type\":\"audio\",\"audio\":{\"id\":456242710,\"owner_id\":2000123277,\"artist\":\"Panphage\",\"title\":\"Grettir Àsmundarsonar\",\"duration\":25,\"date\":1546338325,\"url\":\"https:\\/\\/vk.com\\/mp3\\/audio_api_unavailable.mp3\",\"genre_id\":7,\"is_hq\":true,\"track_code\":\"f06df41dkdVEZLQkHXivCqam0joN6U5n9Ohd0WqAF4IzfH398Hik7hwk9HQhJcFP\",\"is_explicit\":false}},{\"type\":\"audio\",\"audio\":{\"id\":456242917,\"owner_id\":2000121591,\"artist\":\"Panphage\",\"title\":\"Landrensningen\",\"duration\":25,\"date\":1546338325,\"url\":\"https:\\/\\/vk.com\\/mp3\\/audio_api_unavailable.mp3\",\"genre_id\":7,\"is_hq\":true,\"track_code\":\"7fcd2c450fpuv_MaQd_qd7D7FGH0kUdV0izaPVIkG_xfBYUsYZjkwTb_s0p9goQy\",\"is_explicit\":false}},{\"type\":\"audio\",\"audio\":{\"id\":456242891,\"owner_id\":2000121811,\"artist\":\"Panphage\",\"title\":\"Glam rider husen\",\"duration\":25,\"date\":1546338325,\"url\":\"https:\\/\\/vk.com\\/mp3\\/audio_api_unavailable.mp3\",\"genre_id\":7,\"is_hq\":true,\"track_code\":\"914da0d1-6fuWPeliA3GoHXfvuZ-mLREVSO1ZT0T15yj37v4s2fOnLYYt_W0UKjl\",\"is_explicit\":false}},{\"type\":\"audio\",\"audio\":{\"id\":456242853,\"owner_id\":2000122114,\"artist\":\"Panphage\",\"title\":\"Glamsyn\",\"duration\":25,\"date\":1546338325,\"url\":\"https:\\/\\/vk.com\\/mp3\\/audio_api_unavailable.mp3\",\"genre_id\":7,\"is_hq\":true,\"track_code\":\"ca82f362YzMom_04F6scHM-t5pWQIOJHm15PskeGn37_RQ5J-OBWCHDbvWgr9nJZ\",\"is_explicit\":false}},{\"type\":\"audio\",\"audio\":{\"id\":456242382,\"owner_id\":2000125118,\"artist\":\"Panphage\",\"title\":\"Utlagr\",\"duration\":25,\"date\":1546338325,\"url\":\"https:\\/\\/vk.com\\/mp3\\/audio_api_unavailable.mp3\",\"genre_id\":7,\"is_hq\":true,\"track_code\":\"5fc10890tapEiuUaTfbWyk_26nr2U-lIRolydQzO3FCJSouwM1-AkRzKpUpxq7iP\",\"is_explicit\":false}},{\"type\":\"audio\",\"audio\":{\"id\":456242516,\"owner_id\":2000124121,\"artist\":\"Panphage\",\"title\":\"Drangey\",\"duration\":25,\"date\":1546338325,\"url\":\"https:\\/\\/vk.com\\/mp3\\/audio_api_unavailable.mp3\",\"genre_id\":7,\"is_hq\":true,\"track_code\":\"6ce1fffaoZjhlePORWkVXeRoQSA4Wx6FstgPDw1lVFfZtKb8VKiUo7nVo555NHsY\",\"is_explicit\":false}},{\"type\":\"audio\",\"audio\":{\"id\":456242847,\"owner_id\":2000122527,\"artist\":\"Panphage\",\"title\":\"Blodshämnd\",\"duration\":25,\"date\":1546338325,\"url\":\"https:\\/\\/vk.com\\/mp3\\/audio_api_unavailable.mp3\",\"genre_id\":7,\"is_hq\":true,\"track_code\":\"565bf813lCsAr3xMdx8GudO8BjvTngQ-FDR2BFfJd8o-Vy35l6OhEFjvPBxLQmj8\",\"is_explicit\":false}}],\"post_source\":{\"type\":\"vk\"}}],\"post_source\":{\"type\":\"api\",\"platform\":\"android\"},\"comments\":{\"count\":0,\"can_post\":0,\"groups_can_post\":true},\"likes\":{\"count\":1,\"user_likes\":0,\"can_like\":1,\"can_publish\":1},\"reposts\":{\"count\":0,\"user_reposted\":0},\"views\":{\"count\":178},\"is_favorite\":false},{\"id\":5061,\"from_id\":9316846,\"owner_id\":9316846,\"date\":1548699280,\"post_type\":\"post\",\"text\":\"Кто хотел презентацию альбома?) 17 марта, Джао да, всем быть)\",\"copy_history\":[{\"id\":3,\"owner_id\":-177258863,\"from_id\":-177258863,\"date\":1548666708,\"post_type\":\"post\",\"text\":\"Веселый и хмельной День Святого Патрика - это прекрасная возможность вернуть весну в наши сердца и как следует повеселиться после долгих зимних вечеров. Каждый может стать ирландцем в этот день! 🍀\\n🕺👯 Выбивать каблуками искры будет помогать ярославская фолк-рок банда [club78638925|\\\"КРИК ВИЛЬГЕЛЬМА\\\"] с презентацией своего нового альбома \\\"От Гленфиннана до Лондона\\\". \\n \\nНа Патрик день принято наряжаться в ярких персонажей , мы тоже ждём вас в разнообразии нарядов, проявляйте фантазию, шейте костюмы, наряжайтесь, лучшим будут вручены диски презентуемого альбома, а самого креативного угостим доброй порцией эля ! 🍻\\n \\nВход абсолютно свободный! 16+\\n\\nБронь столов заблаговременно с депозитом.\\nИнформация по тел. 28-49-55 \\n\\n#ДеньСвятогоПатрика2019 #КрикВильгельма #фолк\\n#ЗелёнаяВечеринка #Ярославль #АфишаЯрославль\",\"attachments\":[{\"type\":\"photo\",\"photo\":{\"id\":456239020,\"album_id\":-7,\"owner_id\":-177258863,\"user_id\":100,\"sizes\":[{\"type\":\"m\",\"url\":\"https:\\/\\/pp.userapi.com\\/c844617\\/v844617105\\/18dad5\\/fijAn9o075Y.jpg\",\"width\":92,\"height\":130},{\"type\":\"o\",\"url\":\"https:\\/\\/pp.userapi.com\\/c844617\\/v844617105\\/18dada\\/1tdmnTWciQc.jpg\",\"width\":130,\"height\":184},{\"type\":\"p\",\"url\":\"https:\\/\\/pp.userapi.com\\/c844617\\/v844617105\\/18dadb\\/EgIuWluhD7c.jpg\",\"width\":200,\"height\":283},{\"type\":\"q\",\"url\":\"https:\\/\\/pp.userapi.com\\/c844617\\/v844617105\\/18dadc\\/JF6SnDyLXfA.jpg\",\"width\":320,\"height\":453},{\"type\":\"r\",\"url\":\"https:\\/\\/pp.userapi.com\\/c844617\\/v844617105\\/18dadd\\/Z1ulGJkQw_M.jpg\",\"width\":510,\"height\":722},{\"type\":\"s\",\"url\":\"https:\\/\\/pp.userapi.com\\/c844617\\/v844617105\\/18dad4\\/I9lHkgOgGZI.jpg\",\"width\":53,\"height\":75},{\"type\":\"w\",\"url\":\"https:\\/\\/pp.userapi.com\\/c844617\\/v844617105\\/18dad9\\/VNBt-PqprSM.jpg\",\"width\":1527,\"height\":2160},{\"type\":\"x\",\"url\":\"https:\\/\\/pp.userapi.com\\/c844617\\/v844617105\\/18dad6\\/R6GeNTcZDVg.jpg\",\"width\":427,\"height\":604},{\"type\":\"y\",\"url\":\"https:\\/\\/pp.userapi.com\\/c844617\\/v844617105\\/18dad7\\/HLea0UwAMOY.jpg\",\"width\":570,\"height\":807},{\"type\":\"z\",\"url\":\"https:\\/\\/pp.userapi.com\\/c844617\\/v844617105\\/18dad8\\/zUDG6JB1PPU.jpg\",\"width\":763,\"height\":1080}],\"text\":\"\",\"date\":1548667118,\"access_key\":\"2e27bf202ed141b649\"}},{\"type\":\"video\",\"video\":{\"id\":456239017,\"owner_id\":-148958716,\"title\":\"Крик Вильгельма - Проводы зимы\",\"duration\":142,\"description\":\"КРИК ВИЛЬГЕЛЬМА l 14 июля 2017 года l Джао Да | Сольник\\n#КрикВильгельма, #Джаода76\",\"date\":1500127923,\"comments\":0,\"views\":511,\"width\":1280,\"height\":720,\"photo_130\":\"https:\\/\\/pp.userapi.com\\/c841233\\/v841233804\\/b99c\\/sVNZDl3Z5Sk.jpg\",\"photo_320\":\"https:\\/\\/pp.userapi.com\\/c841233\\/v841233804\\/b99a\\/2GQZRtFce-I.jpg\",\"photo_800\":\"https:\\/\\/pp.userapi.com\\/c841233\\/v841233804\\/b999\\/r1OIr6gsDdk.jpg\",\"is_favorite\":false,\"access_key\":\"e5c4b0145e12d3aea3\",\"first_frame_320\":\"https:\\/\\/pp.userapi.com\\/c836227\\/v836227804\\/4417a\\/LE5zIhC5YaA.jpg\",\"first_frame_160\":\"https:\\/\\/pp.userapi.com\\/c836227\\/v836227804\\/4417b\\/4zCgyr3pu7M.jpg\",\"first_frame_130\":\"https:\\/\\/pp.userapi.com\\/c836227\\/v836227804\\/4417c\\/aR4QZ_FSUbE.jpg\",\"first_frame_800\":\"https:\\/\\/pp.userapi.com\\/c836227\\/v836227804\\/44179\\/jr1uNCipd4c.jpg\",\"can_add\":1,\"track_code\":\"video_871064dbsT4yzDyzrSDhDJ-siJbFovVS6Z3KGZq1ERnoMurwv-uGGinMCIs\"}},{\"type\":\"video\",\"video\":{\"id\":456239024,\"owner_id\":-78638925,\"title\":\"Крик Вильгельма - Пей, Пей, Пей (Korpiklaani cover) OFFICIAL DOCUMENTARY VIDEO\",\"duration\":193,\"description\":\"FOLK SUMMER FEST 2017\\n\\nOFFICIAL DOCUMENTARY VIDEO\",\"date\":1512135835,\"comments\":0,\"views\":587,\"photo_130\":\"https:\\/\\/pp.userapi.com\\/c841137\\/u6457308\\/video\\/s_83a77245.jpg\",\"photo_320\":\"https:\\/\\/pp.userapi.com\\/c841137\\/u6457308\\/video\\/l_d47dc2eb.jpg\",\"photo_640\":\"https:\\/\\/pp.userapi.com\\/c841137\\/u6457308\\/video\\/y_4d397cba.jpg\",\"is_favorite\":false,\"access_key\":\"951f3703a61bf274ee\",\"platform\":\"YouTube\",\"can_add\":1,\"track_code\":\"video_421ea16dtPUU9etlGvwMAMIVfC5RJPf5joraonB8wgsFIcdCRnGG0AjC0w\"}},{\"type\":\"video\",\"video\":{\"id\":456239051,\"owner_id\":10655758,\"title\":\"Крик Вильгельма - \\\"Memento\\\"(Eluveitie cover) + \\\"Шахта\\\", Live 2017\",\"duration\":397,\"description\":\"Видео с концерта, который прошёл 14.07.17 в  арт-клубе Китайский лётчик Джао Да\",\"date\":1500324089,\"comments\":0,\"views\":134,\"photo_130\":\"https:\\/\\/pp.userapi.com\\/c836229\\/u10655758\\/video\\/s_ce11bf26.jpg\",\"photo_320\":\"https:\\/\\/pp.userapi.com\\/c836229\\/u10655758\\/video\\/l_b95202fa.jpg\",\"photo_800\":\"https:\\/\\/pp.userapi.com\\/c836229\\/u10655758\\/video\\/x_262447db.jpg\",\"is_favorite\":false,\"access_key\":\"c27f7eb806a5a5328b\",\"platform\":\"YouTube\",\"can_add\":1,\"track_code\":\"video_00d569e8W3XqMol-eGi7oMd0DGCM_EK-7LFmfr59DAMColPQTxJvVtsC\"}},{\"type\":\"link\",\"link\":{\"url\":\"https:\\/\\/m.vk.com\\/audio?act=audio_playlist-78638925_5&api_view=56d216d54a8be035605ff6ccdbf84f\",\"title\":\"Крик Вильгельма - От Гленфиннана до Лондона (2019)\",\"description\":\"Плейлист\",\"photo\":{\"id\":456239018,\"album_id\":235125454,\"owner_id\":-127435785,\"user_id\":100,\"sizes\":[{\"type\":\"m\",\"url\":\"https:\\/\\/sun9-12.userapi.com\\/c637630\\/v637630075\\/3d838\\/-D_AFiarQHY.jpg\",\"width\":130,\"height\":130},{\"type\":\"o\",\"url\":\"https:\\/\\/sun9-13.userapi.com\\/c637630\\/v637630075\\/3d83a\\/_o5f5AJbwhw.jpg\",\"width\":130,\"height\":130},{\"type\":\"p\",\"url\":\"https:\\/\\/sun9-3.userapi.com\\/c637630\\/v637630075\\/3d83b\\/t1L2-NeXjHk.jpg\",\"width\":200,\"height\":200},{\"type\":\"q\",\"url\":\"https:\\/\\/sun9-17.userapi.com\\/c637630\\/v637630075\\/3d83c\\/HKURh1Fy6-A.jpg\",\"width\":320,\"height\":320},{\"type\":\"r\",\"url\":\"https:\\/\\/sun9-20.userapi.com\\/c637630\\/v637630075\\/3d83d\\/PIuiHyOMo4c.jpg\",\"width\":510,\"height\":510},{\"type\":\"s\",\"url\":\"https:\\/\\/sun9-11.userapi.com\\/c637630\\/v637630075\\/3d837\\/ZQCLOU9vt9U.jpg\",\"width\":75,\"height\":75},{\"type\":\"x\",\"url\":\"https:\\/\\/sun9-10.userapi.com\\/c637630\\/v637630075\\/3d839\\/QoS1sHwG3kY.jpg\",\"width\":512,\"height\":512}],\"text\":\"\",\"date\":1490173981}}}],\"post_source\":{\"type\":\"vk\"}}],\"post_source\":{\"type\":\"api\",\"platform\":\"android\"},\"comments\":{\"count\":0,\"can_post\":0,\"groups_can_post\":true},\"likes\":{\"count\":1,\"user_likes\":0,\"can_like\":1,\"can_publish\":1},\"reposts\":{\"count\":0,\"user_reposted\":0},\"views\":{\"count\":156},\"is_favorite\":false},{\"id\":5060,\"from_id\":9316846,\"owner_id\":9316846,\"date\":1547496804,\"post_type\":\"post\",\"text\":\"\",\"copy_history\":[{\"id\":261914,\"owner_id\":-26140698,\"from_id\":-26140698,\"date\":1547496006,\"post_type\":\"post\",\"text\":\"Geheimnisvoll — Venomous Sorcery Through Hidden Darkness (2019)\\n\\nЕщё немного релизов Knife Vision на ночь. Добротный raw black metal от проекта из США. \\n\\n#eBlack #eRaw #eUSA | #murdunbad\\n\\nКупить релиз: vk.cc\\/8V6fyt (Digital)\",\"signer_id\":244724457,\"attachments\":[{\"type\":\"photo\",\"photo\":{\"id\":456248700,\"album_id\":-7,\"owner_id\":-26140698,\"user_id\":100,\"sizes\":[{\"type\":\"m\",\"url\":\"https:\\/\\/pp.userapi.com\\/c844723\\/v844723373\\/178124\\/c7w_00hR2rM.jpg\",\"width\":130,\"height\":130},{\"type\":\"o\",\"url\":\"https:\\/\\/pp.userapi.com\\/c844723\\/v844723373\\/178129\\/h_Yna3K9Ic0.jpg\",\"width\":130,\"height\":130},{\"type\":\"p\",\"url\":\"https:\\/\\/pp.userapi.com\\/c844723\\/v844723373\\/17812a\\/iRVChPDbOWM.jpg\",\"width\":200,\"height\":200},{\"type\":\"q\",\"url\":\"https:\\/\\/pp.userapi.com\\/c844723\\/v844723373\\/17812b\\/Aji8360Q_Ew.jpg\",\"width\":320,\"height\":320},{\"type\":\"r\",\"url\":\"https:\\/\\/pp.userapi.com\\/c844723\\/v844723373\\/17812c\\/bss7mxbFRCI.jpg\",\"width\":510,\"height\":510},{\"type\":\"s\",\"url\":\"https:\\/\\/pp.userapi.com\\/c844723\\/v844723373\\/178123\\/IJFh0VLmrO4.jpg\",\"width\":75,\"height\":75},{\"type\":\"w\",\"url\":\"https:\\/\\/pp.userapi.com\\/c844723\\/v844723373\\/178128\\/poJNWXI9Jks.jpg\",\"width\":1400,\"height\":1400},{\"type\":\"x\",\"url\":\"https:\\/\\/pp.userapi.com\\/c844723\\/v844723373\\/178125\\/y8nI92kQwbE.jpg\",\"width\":604,\"height\":604},{\"type\":\"y\",\"url\":\"https:\\/\\/pp.userapi.com\\/c844723\\/v844723373\\/178126\\/JFCYh9sxAls.jpg\",\"width\":807,\"height\":807},{\"type\":\"z\",\"url\":\"https:\\/\\/pp.userapi.com\\/c844723\\/v844723373\\/178127\\/LgzTpjJ11m8.jpg\",\"width\":1080,\"height\":1080}],\"text\":\"\",\"date\":1547495883,\"access_key\":\"5198f5694bef8625d3\"}},{\"type\":\"link\",\"link\":{\"url\":\"https:\\/\\/knifevision.bandcamp.com\\/album\\/venomous-sorcery-through-hidden-darkness\",\"title\":\"Venomous Sorcery Through Hidden Darkness, by GEHEIMNISVOLL\",\"description\":\"\",\"target\":\"internal\",\"photo\":{\"id\":456263138,\"album_id\":-26,\"owner_id\":2000049607,\"sizes\":[{\"type\":\"l\",\"url\":\"https:\\/\\/pp.userapi.com\\/c851532\\/v851532674\\/8d4fb\\/vzrZ5PXRpNo.jpg\",\"width\":537,\"height\":240},{\"type\":\"m\",\"url\":\"https:\\/\\/pp.userapi.com\\/c851532\\/v851532674\\/8d4f8\\/YZrVUGANUdQ.jpg\",\"width\":130,\"height\":130},{\"type\":\"p\",\"url\":\"https:\\/\\/pp.userapi.com\\/c851532\\/v851532674\\/8d4fa\\/UVS0FGC9iD4.jpg\",\"width\":260,\"height\":260},{\"type\":\"s\",\"url\":\"https:\\/\\/pp.userapi.com\\/c851532\\/v851532674\\/8d4f7\\/om2zoxSHbes.jpg\",\"width\":75,\"height\":75},{\"type\":\"x\",\"url\":\"https:\\/\\/pp.userapi.com\\/c851532\\/v851532674\\/8d4f9\\/OsbZey5tlXg.jpg\",\"width\":150,\"height\":150}],\"text\":\"\",\"date\":1547495883},\"is_favorite\":false}},{\"type\":\"audio\",\"audio\":{\"id\":456242771,\"owner_id\":2000149488,\"artist\":\"Geheimnisvoll\",\"title\":\"Intro: Into Nothingness\",\"duration\":25,\"date\":1547495996,\"url\":\"https:\\/\\/vk.com\\/mp3\\/audio_api_unavailable.mp3\",\"album_id\":2,\"is_hq\":true,\"track_code\":\"683204a9_3H240ZlkS_vmsvben6oBQGTtCqCDOlOb3eyowWBK0fISqGuClvAcYHUm4M\",\"is_explicit\":false}},{\"type\":\"audio\",\"audio\":{\"id\":456242791,\"owner_id\":2000149652,\"artist\":\"Geheimnisvoll\",\"title\":\"Venomous Sorcery Through Hidden Darkness\",\"duration\":25,\"date\":1547495996,\"url\":\"https:\\/\\/vk.com\\/mp3\\/audio_api_unavailable.mp3\",\"album_id\":2,\"is_hq\":true,\"track_code\":\"e626a6fc2c-_i2QLNopDoErrk5ZxlNkfKFnW4yO9bFSAyV31XGDu9OjGKDVn1C3uGrM\",\"is_explicit\":false}},{\"type\":\"audio\",\"audio\":{\"id\":456242521,\"owner_id\":2000150109,\"artist\":\"Geheimnisvoll\",\"title\":\"Esoteric Glare\",\"duration\":25,\"date\":1547495996,\"url\":\"https:\\/\\/vk.com\\/mp3\\/audio_api_unavailable.mp3\",\"album_id\":2,\"is_hq\":true,\"track_code\":\"5048863cKpq1l1SVuyxFfLIUrCkYzIJGxwpUZrdo_kvKponWZPkdoeLaGKvqcisy4kw\",\"is_explicit\":false}},{\"type\":\"audio\",\"audio\":{\"id\":456242514,\"owner_id\":2000151001,\"artist\":\"Geheimnisvoll\",\"title\":\"Drowning in the Depths of the Vacuous Abyss\",\"duration\":25,\"date\":1547495996,\"url\":\"https:\\/\\/vk.com\\/mp3\\/audio_api_unavailable.mp3\",\"album_id\":2,\"is_hq\":true,\"track_code\":\"4538ae7760TsiK4E8KdZDwk0uuMuhPq6Exz-6a_lWSH5wsbXzyHcf7vF4jqh-TdBWWw\",\"is_explicit\":false}}],\"post_source\":{\"type\":\"vk\"}}],\"post_source\":{\"type\":\"api\",\"platform\":\"android\"},\"comments\":{\"count\":0,\"can_post\":0,\"groups_can_post\":true},\"likes\":{\"count\":1,\"user_likes\":0,\"can_like\":1,\"can_publish\":1},\"reposts\":{\"count\":0,\"user_reposted\":0},\"views\":{\"count\":110},\"is_favorite\":false},{\"id\":5055,\"from_id\":9316846,\"owner_id\":9316846,\"date\":1547059244,\"post_type\":\"post\",\"text\":\"Аддзысьлытöдз.\\nБлин, сегодня в поезде полночи это слово снилось, всё не мог вспомнить, что оно значит. Потом проснулся, в книжке посмотрел, вроде отпустило\",\"post_source\":{\"type\":\"api\",\"platform\":\"android\"},\"comments\":{\"count\":4,\"can_post\":0,\"groups_can_post\":true},\"likes\":{\"count\":4,\"user_likes\":0,\"can_like\":1,\"can_publish\":1},\"reposts\":{\"count\":0,\"user_reposted\":0},\"views\":{\"count\":241},\"is_favorite\":false},{\"id\":5053,\"from_id\":9316846,\"owner_id\":9316846,\"date\":1546542721,\"post_type\":\"post\",\"text\":\"Сразу лайк\\/репост\",\"copy_history\":[{\"id\":260577,\"owner_id\":-26140698,\"from_id\":-26140698,\"date\":1546534814,\"post_type\":\"post\",\"text\":\"Digerdöden — Majestätens dunkla håg, i dödens profana ståt (2017)\\n\\nПервый полноформатный альбом от очередного сайд-проекта владельца Ancient Records и Mysticism Productions, Swartadauþuz (Ars Hmu, Azelisassath, Bekëth Nexëhmü, Demonomantic, Gnipahålan, Musmahhu, Mystik, Summum, Trolldom, Urkaos).\\n\\n#eBlack #eSweden | #murdunbad\\n\\nВесь релиз (11): https:\\/\\/vk.cc\\/8SzIlq\\n\\nКупить релиз: vk.cc\\/8SzIar (CD or Vinyl, Discogs Market)\",\"signer_id\":244724457,\"attachments\":[{\"type\":\"photo\",\"photo\":{\"id\":456248514,\"album_id\":-7,\"owner_id\":-26140698,\"user_id\":100,\"sizes\":[{\"type\":\"m\",\"url\":\"https:\\/\\/pp.userapi.com\\/c849328\\/v849328855\\/f63b0\\/q2n7N-g1Hbo.jpg\",\"width\":130,\"height\":130},{\"type\":\"o\",\"url\":\"https:\\/\\/pp.userapi.com\\/c849328\\/v849328855\\/f63b3\\/KYOy224nOWY.jpg\",\"width\":130,\"height\":130},{\"type\":\"p\",\"url\":\"https:\\/\\/pp.userapi.com\\/c849328\\/v849328855\\/f63b4\\/DSEoMCsCs6A.jpg\",\"width\":200,\"height\":200},{\"type\":\"q\",\"url\":\"https:\\/\\/pp.userapi.com\\/c849328\\/v849328855\\/f63b5\\/-gYlWqKCHIc.jpg\",\"width\":320,\"height\":320},{\"type\":\"r\",\"url\":\"https:\\/\\/pp.userapi.com\\/c849328\\/v849328855\\/f63b6\\/4i9MZEOb98c.jpg\",\"width\":510,\"height\":510},{\"type\":\"s\",\"url\":\"https:\\/\\/pp.userapi.com\\/c849328\\/v849328855\\/f63af\\/NVs4Nud5hJs.jpg\",\"width\":75,\"height\":75},{\"type\":\"x\",\"url\":\"https:\\/\\/pp.userapi.com\\/c849328\\/v849328855\\/f63b1\\/hQIypoXpbPc.jpg\",\"width\":604,\"height\":604},{\"type\":\"y\",\"url\":\"https:\\/\\/pp.userapi.com\\/c849328\\/v849328855\\/f63b2\\/0l1MzsDMiXU.jpg\",\"width\":770,\"height\":770}],\"text\":\"\",\"date\":1546534814,\"post_id\":260577,\"access_key\":\"30f0c11e79a0e4a4ff\"}},{\"type\":\"audio\",\"audio\":{\"id\":456242314,\"owner_id\":2000129458,\"artist\":\"Digerdöden\",\"title\":\"Hänsoven Ock Obeaktad\",\"duration\":25,\"date\":1546534814,\"url\":\"https:\\/\\/vk.com\\/mp3\\/audio_api_unavailable.mp3\",\"is_hq\":true,\"track_code\":\"47a5f20fQyOfvGhQKEmxsdX6lSBsBsSNz-deVbFnKJqzyDWmGql0GMjxJG55F97zg6E\",\"is_explicit\":false}},{\"type\":\"audio\",\"audio\":{\"id\":456242527,\"owner_id\":2000127608,\"artist\":\"Digerdöden\",\"title\":\"I Dödens Sorti\",\"duration\":25,\"date\":1546534814,\"url\":\"https:\\/\\/vk.com\\/mp3\\/audio_api_unavailable.mp3\",\"is_hq\":true,\"track_code\":\"e16f2416iJL6fe-gA4Lt-VPYvf0YVntdpnvtupYOMH98NomhJ0W_qa0wo55S3IK7BYM\",\"is_explicit\":false}},{\"type\":\"audio\",\"audio\":{\"id\":456242285,\"owner_id\":2000129771,\"artist\":\"Digerdöden\",\"title\":\"I Profan Avoghet Ock Evinnerli\",\"duration\":25,\"date\":1546534814,\"url\":\"https:\\/\\/vk.com\\/mp3\\/audio_api_unavailable.mp3\",\"is_hq\":true,\"track_code\":\"d40df9a9zNzQvcr_1DUsAcnXSUEcG1YHmF1SdZg8SNbTivGOEAb754fwhsGFa0NDn4w\",\"is_explicit\":false}},{\"type\":\"audio\",\"audio\":{\"id\":456242375,\"owner_id\":2000129360,\"artist\":\"Digerdöden\",\"title\":\"Lämning Af Herrskapets Ruttna\",\"duration\":25,\"date\":1546534814,\"url\":\"https:\\/\\/vk.com\\/mp3\\/audio_api_unavailable.mp3\",\"is_hq\":true,\"track_code\":\"b5a23a70H4gTsoVKQVjh5GYKERZEAEgWk4r_u2JH_GVaZ8XIGFkos0T_yXQQBo6mMFE\",\"is_explicit\":false}},{\"type\":\"audio\",\"audio\":{\"id\":456242993,\"owner_id\":2000125931,\"artist\":\"Digerdöden\",\"title\":\"Den Efvige Hornpers Genljuda\",\"duration\":25,\"date\":1546534814,\"url\":\"https:\\/\\/vk.com\\/mp3\\/audio_api_unavailable.mp3\",\"is_hq\":true,\"track_code\":\"c7f014eeKdHoS9GJ9NSwdr6A4xu5-AxGaXBRMdYZ5yCQwWT-Z6ce6r8Gnbelit806Ns\",\"is_explicit\":false}},{\"type\":\"audio\",\"audio\":{\"id\":456242750,\"owner_id\":2000126984,\"artist\":\"Digerdöden\",\"title\":\"Bråddjupets Håg\",\"duration\":25,\"date\":1546534814,\"url\":\"https:\\/\\/vk.com\\/mp3\\/audio_api_unavailable.mp3\",\"is_hq\":true,\"track_code\":\"8c40ea2f93wjW2uNBvbAnKGfz4p2GBnm62P2XYdopc4xRXK1s8PAR3QWJ7NXqK_e98Q\",\"is_explicit\":false}},{\"type\":\"audio\",\"audio\":{\"id\":456242915,\"owner_id\":2000126048,\"artist\":\"Digerdöden\",\"title\":\"Asket Ock Själaplågning\",\"duration\":25,\"date\":1546534814,\"url\":\"https:\\/\\/vk.com\\/mp3\\/audio_api_unavailable.mp3\",\"is_hq\":true,\"track_code\":\"ea591128vU9wRN4YBvswnsMguePDyfvU5kQRcbyd2hoB3lGMXXuKdCcJkiZXpV_clXs\",\"is_explicit\":false}},{\"type\":\"audio\",\"audio\":{\"id\":456242517,\"owner_id\":2000128284,\"artist\":\"Digerdöden\",\"title\":\"Gestalt I Illviljans Svärtande\",\"duration\":25,\"date\":1546534814,\"url\":\"https:\\/\\/vk.com\\/mp3\\/audio_api_unavailable.mp3\",\"is_hq\":true,\"track_code\":\"0c1cfd8275el3cNUwAm922NQHV79kKsAwBmingBiS6ZvjfgMYPHYrPKQj2qRV9KZNQs\",\"is_explicit\":false}},{\"type\":\"link\",\"link\":{\"url\":\"https:\\/\\/www.discogs.com\\/sell\\/list?master_id=1379442&ev=mb\",\"title\":\"Digerdöden - Majestätens Dunkla Håg, I Dödens Profana Ståt (All Versions) For Sale at Discogs Market\",\"description\":\"Buy and sell Digerdöden - Majestätens Dunkla Håg, I Dödens Profana Ståt (All Versions) at the Discogs Marketplace.\",\"target\":\"internal\",\"photo\":{\"id\":456261857,\"album_id\":-27,\"owner_id\":2000044327,\"sizes\":[{\"type\":\"m\",\"url\":\"https:\\/\\/pp.userapi.com\\/c851016\\/v851016228\\/8269d\\/XKvPzYODSCM.jpg\",\"width\":130,\"height\":130},{\"type\":\"s\",\"url\":\"https:\\/\\/pp.userapi.com\\/c851016\\/v851016228\\/8269c\\/VQRyUjucuFg.jpg\",\"width\":75,\"height\":75},{\"type\":\"x\",\"url\":\"https:\\/\\/pp.userapi.com\\/c851016\\/v851016228\\/8269e\\/1reDQVYZbR8.jpg\",\"width\":150,\"height\":150}],\"text\":\"\",\"date\":1546534919},\"is_favorite\":false}}],\"post_source\":{\"type\":\"vk\"}}],\"post_source\":{\"type\":\"api\",\"platform\":\"android\"},\"comments\":{\"count\":0,\"can_post\":0,\"groups_can_post\":true},\"likes\":{\"count\":2,\"user_likes\":0,\"can_like\":1,\"can_publish\":1},\"reposts\":{\"count\":0,\"user_reposted\":0},\"views\":{\"count\":194},\"is_favorite\":false},{\"id\":5050,\"from_id\":9316846,\"owner_id\":9316846,\"date\":1546020275,\"post_type\":\"post\",\"text\":\"Йохохо, Ликантропайзер будет на Койоте в феврале)\",\"copy_history\":[{\"id\":175,\"owner_id\":-162456329,\"from_id\":-162456329,\"date\":1546019059,\"post_type\":\"post\",\"text\":\"К фесту присоединились !!!\\nFERALIMINAL LYCANTHROPIZER (Ярославль) Porno Gore Grind \\nhttp:\\/\\/vk.com\\/flgrind\",\"attachments\":[{\"type\":\"photo\",\"photo\":{\"id\":456239119,\"album_id\":-7,\"owner_id\":-162456329,\"user_id\":100,\"sizes\":[{\"type\":\"m\",\"url\":\"https:\\/\\/pp.userapi.com\\/c845321\\/v845321954\\/162422\\/AACIAcxrBkA.jpg\",\"width\":130,\"height\":91},{\"type\":\"o\",\"url\":\"https:\\/\\/pp.userapi.com\\/c845321\\/v845321954\\/162426\\/6O53LBLuVS8.jpg\",\"width\":130,\"height\":91},{\"type\":\"p\",\"url\":\"https:\\/\\/pp.userapi.com\\/c845321\\/v845321954\\/162427\\/7u0Ldr9to2E.jpg\",\"width\":200,\"height\":140},{\"type\":\"q\",\"url\":\"https:\\/\\/pp.userapi.com\\/c845321\\/v845321954\\/162428\\/Ym5h65gE59k.jpg\",\"width\":320,\"height\":224},{\"type\":\"r\",\"url\":\"https:\\/\\/pp.userapi.com\\/c845321\\/v845321954\\/162429\\/sH_F5ZX60_U.jpg\",\"width\":510,\"height\":357},{\"type\":\"s\",\"url\":\"https:\\/\\/pp.userapi.com\\/c845321\\/v845321954\\/162421\\/mBKmSaEIxv8.jpg\",\"width\":75,\"height\":52},{\"type\":\"x\",\"url\":\"https:\\/\\/pp.userapi.com\\/c845321\\/v845321954\\/162423\\/l1kShiGHad8.jpg\",\"width\":604,\"height\":423},{\"type\":\"y\",\"url\":\"https:\\/\\/pp.userapi.com\\/c845321\\/v845321954\\/162424\\/dD1lixOhk8w.jpg\",\"width\":807,\"height\":565},{\"type\":\"z\",\"url\":\"https:\\/\\/pp.userapi.com\\/c845321\\/v845321954\\/162425\\/p0YS-cUV_DE.jpg\",\"width\":900,\"height\":630}],\"text\":\"\",\"date\":1546019059,\"access_key\":\"a1b259f1df5173bd2f\"}},{\"type\":\"photo\",\"photo\":{\"id\":456239120,\"album_id\":-7,\"owner_id\":-162456329,\"user_id\":100,\"sizes\":[{\"type\":\"m\",\"url\":\"https:\\/\\/pp.userapi.com\\/c852032\\/v852032192\\/6a7d7\\/iBg5mQfH_jo.jpg\",\"width\":130,\"height\":87},{\"type\":\"o\",\"url\":\"https:\\/\\/pp.userapi.com\\/c852032\\/v852032192\\/6a7db\\/nSvd_1siMXo.jpg\",\"width\":130,\"height\":87},{\"type\":\"p\",\"url\":\"https:\\/\\/pp.userapi.com\\/c852032\\/v852032192\\/6a7dc\\/BJcaO1kKxi4.jpg\",\"width\":200,\"height\":133},{\"type\":\"q\",\"url\":\"https:\\/\\/pp.userapi.com\\/c852032\\/v852032192\\/6a7dd\\/tTqOLQcZ_tc.jpg\",\"width\":320,\"height\":213},{\"type\":\"r\",\"url\":\"https:\\/\\/pp.userapi.com\\/c852032\\/v852032192\\/6a7de\\/-WPAH8XRq30.jpg\",\"width\":510,\"height\":340},{\"type\":\"s\",\"url\":\"https:\\/\\/pp.userapi.com\\/c852032\\/v852032192\\/6a7d6\\/VUJCww8uqlI.jpg\",\"width\":75,\"height\":50},{\"type\":\"x\",\"url\":\"https:\\/\\/pp.userapi.com\\/c852032\\/v852032192\\/6a7d8\\/Uz5Mn-DrOBQ.jpg\",\"width\":604,\"height\":402},{\"type\":\"y\",\"url\":\"https:\\/\\/pp.userapi.com\\/c852032\\/v852032192\\/6a7d9\\/WBALO9lfhTE.jpg\",\"width\":807,\"height\":537},{\"type\":\"z\",\"url\":\"https:\\/\\/pp.userapi.com\\/c852032\\/v852032192\\/6a7da\\/B2zT_5xzzHg.jpg\",\"width\":1280,\"height\":852}],\"text\":\"\",\"date\":1546019059,\"access_key\":\"f28bfef1a109d9e067\"}},{\"type\":\"video\",\"video\":{\"id\":456240436,\"owner_id\":986297,\"title\":\"FERALIMINAL LYCANTHROPIZER\",\"duration\":332,\"description\":\"\",\"date\":1519065612,\"comments\":0,\"views\":880,\"width\":1280,\"height\":720,\"photo_130\":\"https:\\/\\/pp.userapi.com\\/c841331\\/v841331965\\/7291d\\/Rio2LT9HhCg.jpg\",\"photo_320\":\"https:\\/\\/pp.userapi.com\\/c841331\\/v841331965\\/7291b\\/mkG1j-xX_gg.jpg\",\"photo_800\":\"https:\\/\\/pp.userapi.com\\/c841331\\/v841331965\\/7291a\\/pgjXx-4sae8.jpg\",\"is_favorite\":false,\"access_key\":\"88b50d59754ed95264\",\"first_frame_320\":\"https:\\/\\/pp.userapi.com\\/c834104\\/v834104965\\/c2a37\\/_96sdO_F-uU.jpg\",\"first_frame_160\":\"https:\\/\\/pp.userapi.com\\/c834104\\/v834104965\\/c2a38\\/rOHJiVLfFuQ.jpg\",\"first_frame_130\":\"https:\\/\\/pp.userapi.com\\/c834104\\/v834104965\\/c2a39\\/AOjGelb-m1o.jpg\",\"first_frame_800\":\"https:\\/\\/pp.userapi.com\\/c834104\\/v834104965\\/c2a36\\/hDD8TPYB-ak.jpg\",\"can_add\":1,\"track_code\":\"video_38e1cc27QFd8Hri6W97yb5mwsLqz1cQBXqgvWysaG-PmPefhji1CRw\"}},{\"type\":\"audio\",\"audio\":{\"id\":456242675,\"owner_id\":2000115446,\"artist\":\"Feraliminal Lycanthropizer\",\"title\":\"The Apocalyptic Triumph of Vaginal Infernality\",\"duration\":25,\"date\":1546019059,\"url\":\"https:\\/\\/vk.com\\/mp3\\/audio_api_unavailable.mp3\",\"is_hq\":true,\"track_code\":\"a6edac6eq95onQLY_7c7804HSpy9kPdkwFQJm0sb20F0JAYmHwGc4D_aRIDD7lOx\",\"is_explicit\":true,\"main_artists\":[{\"name\":\"Feraliminal Lycanthropizer\",\"id\":\"6251584570549049039\",\"domain\":\"6251584570549049039\"}]}},{\"type\":\"audio\",\"audio\":{\"id\":456242415,\"owner_id\":2000117518,\"artist\":\"Feraliminal Lycanthropizer\",\"title\":\"The Sudden Petrifaction of Intestinal Wastes\",\"duration\":25,\"date\":1546019059,\"url\":\"https:\\/\\/vk.com\\/mp3\\/audio_api_unavailable.mp3\",\"is_hq\":true,\"track_code\":\"9449de1eHlzVFFyzgWrdRp8Uq-kYjog81TVmA0fW_qMJaph7gsopYoJTGuu9M7UE\",\"is_explicit\":true,\"main_artists\":[{\"name\":\"Feraliminal Lycanthropizer\",\"id\":\"6251584570549049039\",\"domain\":\"6251584570549049039\"}]}},{\"type\":\"audio\",\"audio\":{\"id\":456242864,\"owner_id\":2000113985,\"artist\":\"Feraliminal Lycanthropizer\",\"title\":\"The Genital Mutation of a Miserable Gerontofil\",\"duration\":25,\"date\":1546019059,\"url\":\"https:\\/\\/vk.com\\/mp3\\/audio_api_unavailable.mp3\",\"is_hq\":true,\"track_code\":\"25fa72c6V66zgSS1ITd2xxQGAPFwtzI2VoTjCZb0oQMYpxkjx8lgkOTGYu0dbh6F\",\"is_explicit\":true,\"main_artists\":[{\"name\":\"Feraliminal Lycanthropizer\",\"id\":\"6251584570549049039\",\"domain\":\"6251584570549049039\"}]}}],\"post_source\":{\"type\":\"vk\"}}],\"post_source\":{\"type\":\"api\",\"platform\":\"android\"},\"comments\":{\"count\":0,\"can_post\":0,\"groups_can_post\":true},\"likes\":{\"count\":2,\"user_likes\":0,\"can_like\":1,\"can_publish\":1},\"reposts\":{\"count\":0,\"user_reposted\":0},\"views\":{\"count\":190},\"is_favorite\":false},{\"id\":5047,\"from_id\":9316846,\"owner_id\":9316846,\"date\":1545856295,\"post_type\":\"post\",\"text\":\"\",\"attachments\":[{\"type\":\"photo\",\"photo\":{\"id\":456239678,\"album_id\":-6,\"owner_id\":9316846,\"sizes\":[{\"type\":\"m\",\"url\":\"https:\\/\\/pp.userapi.com\\/c850216\\/v850216130\\/9db54\\/DAh4IgygoOk.jpg\",\"width\":87,\"height\":130},{\"type\":\"o\",\"url\":\"https:\\/\\/pp.userapi.com\\/c850216\\/v850216130\\/9db59\\/AzBZLYO2Er8.jpg\",\"width\":130,\"height\":195},{\"type\":\"p\",\"url\":\"https:\\/\\/pp.userapi.com\\/c850216\\/v850216130\\/9db5a\\/xOWFEQYNk8s.jpg\",\"width\":200,\"height\":300},{\"type\":\"q\",\"url\":\"https:\\/\\/pp.userapi.com\\/c850216\\/v850216130\\/9db5b\\/FJ-CA8KvesU.jpg\",\"width\":320,\"height\":479},{\"type\":\"r\",\"url\":\"https:\\/\\/pp.userapi.com\\/c850216\\/v850216130\\/9db5c\\/B6MNF_IPE5s.jpg\",\"width\":510,\"height\":764},{\"type\":\"s\",\"url\":\"https:\\/\\/pp.userapi.com\\/c850216\\/v850216130\\/9db53\\/0_w2D2ffXGw.jpg\",\"width\":50,\"height\":75},{\"type\":\"w\",\"url\":\"https:\\/\\/pp.userapi.com\\/c850216\\/v850216130\\/9db58\\/R6EkWRjeF54.jpg\",\"width\":1282,\"height\":1920},{\"type\":\"x\",\"url\":\"https:\\/\\/pp.userapi.com\\/c850216\\/v850216130\\/9db55\\/o0pJC3MQKy4.jpg\",\"width\":403,\"height\":604},{\"type\":\"y\",\"url\":\"https:\\/\\/pp.userapi.com\\/c850216\\/v850216130\\/9db56\\/Sn7xYKNA92M.jpg\",\"width\":539,\"height\":807},{\"type\":\"z\",\"url\":\"https:\\/\\/pp.userapi.com\\/c850216\\/v850216130\\/9db57\\/mC2MQwfIiTg.jpg\",\"width\":721,\"height\":1080}],\"text\":\"\",\"date\":1545856295,\"post_id\":5047}}],\"post_source\":{\"type\":\"api\",\"platform\":\"android\",\"data\":\"profile_photo\"},\"comments\":{\"count\":2,\"can_post\":0,\"groups_can_post\":true},\"likes\":{\"count\":63,\"user_likes\":0,\"can_like\":1,\"can_publish\":1},\"reposts\":{\"count\":0,\"user_reposted\":0},\"views\":{\"count\":359},\"is_favorite\":false},{\"id\":5046,\"from_id\":9316846,\"owner_id\":9316846,\"date\":1545822820,\"post_type\":\"post\",\"text\":\"Практически акустический вариант прошлого сингла)\",\"copy_history\":[{\"id\":477,\"owner_id\":-78638925,\"from_id\":-78638925,\"date\":1545822600,\"post_type\":\"post\",\"text\":\"10!!!! 10 дней до выхода альбома! Нам уже не терпится показать его вам, но придется чуток подождать) А пока, зацените фоточки, приуроченные к релизу и бонус трек с грядущего альбома✌🏻\",\"attachments\":[{\"type\":\"photo\",\"photo\":{\"id\":456239371,\"album_id\":-7,\"owner_id\":-78638925,\"user_id\":100,\"sizes\":[{\"type\":\"m\",\"url\":\"https:\\/\\/pp.userapi.com\\/c845322\\/v845322649\\/167d46\\/1Nw5XZkbKeY.jpg\",\"width\":130,\"height\":87},{\"type\":\"o\",\"url\":\"https:\\/\\/pp.userapi.com\\/c845322\\/v845322649\\/167d4b\\/WOaWE-L8c8k.jpg\",\"width\":130,\"height\":87},{\"type\":\"p\",\"url\":\"https:\\/\\/pp.userapi.com\\/c845322\\/v845322649\\/167d4c\\/B9KKUSpB8qo.jpg\",\"width\":200,\"height\":134},{\"type\":\"q\",\"url\":\"https:\\/\\/pp.userapi.com\\/c845322\\/v845322649\\/167d4d\\/oQFF1V7BY3I.jpg\",\"width\":320,\"height\":214},{\"type\":\"r\",\"url\":\"https:\\/\\/pp.userapi.com\\/c845322\\/v845322649\\/167d4e\\/1V0oCL4_8-o.jpg\",\"width\":510,\"height\":341},{\"type\":\"s\",\"url\":\"https:\\/\\/pp.userapi.com\\/c845322\\/v845322649\\/167d45\\/UIfpKxIEVzU.jpg\",\"width\":75,\"height\":50},{\"type\":\"w\",\"url\":\"https:\\/\\/pp.userapi.com\\/c845322\\/v845322649\\/167d4a\\/hYYwluvksJw.jpg\",\"width\":1920,\"height\":1282},{\"type\":\"x\",\"url\":\"https:\\/\\/pp.userapi.com\\/c845322\\/v845322649\\/167d47\\/V2oHlJUMTFg.jpg\",\"width\":604,\"height\":403},{\"type\":\"y\",\"url\":\"https:\\/\\/pp.userapi.com\\/c845322\\/v845322649\\/167d48\\/jqSeGvXcOCc.jpg\",\"width\":807,\"height\":539},{\"type\":\"z\",\"url\":\"https:\\/\\/pp.userapi.com\\/c845322\\/v845322649\\/167d49\\/M5gm4_wyLR8.jpg\",\"width\":1280,\"height\":855}],\"text\":\"\",\"date\":1545734009,\"access_key\":\"2d7f25086036fcd83a\"}},{\"type\":\"photo\",\"photo\":{\"id\":456239372,\"album_id\":-7,\"owner_id\":-78638925,\"user_id\":100,\"sizes\":[{\"type\":\"m\",\"url\":\"https:\\/\\/pp.userapi.com\\/c845322\\/v845322649\\/167d50\\/ug93FA7SjXk.jpg\",\"width\":130,\"height\":87},{\"type\":\"o\",\"url\":\"https:\\/\\/pp.userapi.com\\/c845322\\/v845322649\\/167d55\\/MA7V-A5ttlo.jpg\",\"width\":130,\"height\":87},{\"type\":\"p\",\"url\":\"https:\\/\\/pp.userapi.com\\/c845322\\/v845322649\\/167d56\\/X9eSi02BC-Y.jpg\",\"width\":200,\"height\":134},{\"type\":\"q\",\"url\":\"https:\\/\\/pp.userapi.com\\/c845322\\/v845322649\\/167d57\\/T6KIhJDjM3s.jpg\",\"width\":320,\"height\":214},{\"type\":\"r\",\"url\":\"https:\\/\\/pp.userapi.com\\/c845322\\/v845322649\\/167d58\\/RljmAHptF9I.jpg\",\"width\":510,\"height\":341},{\"type\":\"s\",\"url\":\"https:\\/\\/pp.userapi.com\\/c845322\\/v845322649\\/167d4f\\/6hvzKqGXVbc.jpg\",\"width\":75,\"height\":50},{\"type\":\"w\",\"url\":\"https:\\/\\/pp.userapi.com\\/c845322\\/v845322649\\/167d54\\/TphzqTx9VII.jpg\",\"width\":1920,\"height\":1282},{\"type\":\"x\",\"url\":\"https:\\/\\/pp.userapi.com\\/c845322\\/v845322649\\/167d51\\/6pIYxiVwDzw.jpg\",\"width\":604,\"height\":403},{\"type\":\"y\",\"url\":\"https:\\/\\/pp.userapi.com\\/c845322\\/v845322649\\/167d52\\/Ue65hhcoBsQ.jpg\",\"width\":807,\"height\":539},{\"type\":\"z\",\"url\":\"https:\\/\\/pp.userapi.com\\/c845322\\/v845322649\\/167d53\\/BWPUe3c4RtM.jpg\",\"width\":1280,\"height\":855}],\"text\":\"\",\"date\":1545734009,\"access_key\":\"1c655fde28e29ed0eb\"}},{\"type\":\"photo\",\"photo\":{\"id\":456239373,\"album_id\":-7,\"owner_id\":-78638925,\"user_id\":100,\"sizes\":[{\"type\":\"m\",\"url\":\"https:\\/\\/pp.userapi.com\\/c845322\\/v845322649\\/167d5a\\/QOOUiL36RXA.jpg\",\"width\":130,\"height\":87},{\"type\":\"o\",\"url\":\"https:\\/\\/pp.userapi.com\\/c845322\\/v845322649\\/167d5f\\/QqwHTbhvf-M.jpg\",\"width\":130,\"height\":87},{\"type\":\"p\",\"url\":\"https:\\/\\/pp.userapi.com\\/c845322\\/v845322649\\/167d60\\/6gsrbhkg51o.jpg\",\"width\":200,\"height\":134},{\"type\":\"q\",\"url\":\"https:\\/\\/pp.userapi.com\\/c845322\\/v845322649\\/167d61\\/fxIyk9s02ao.jpg\",\"width\":320,\"height\":214},{\"type\":\"r\",\"url\":\"https:\\/\\/pp.userapi.com\\/c845322\\/v845322649\\/167d62\\/lYZR8EeCjEM.jpg\",\"width\":510,\"height\":341},{\"type\":\"s\",\"url\":\"https:\\/\\/pp.userapi.com\\/c845322\\/v845322649\\/167d59\\/8ySrPojdVBQ.jpg\",\"width\":75,\"height\":50},{\"type\":\"w\",\"url\":\"https:\\/\\/pp.userapi.com\\/c845322\\/v845322649\\/167d5e\\/BuCJ3SNIP5E.jpg\",\"width\":1920,\"height\":1282},{\"type\":\"x\",\"url\":\"https:\\/\\/pp.userapi.com\\/c845322\\/v845322649\\/167d5b\\/0AirN27Y9Tk.jpg\",\"width\":604,\"height\":403},{\"type\":\"y\",\"url\":\"https:\\/\\/pp.userapi.com\\/c845322\\/v845322649\\/167d5c\\/8fLUmZreCNw.jpg\",\"width\":807,\"height\":539},{\"type\":\"z\",\"url\":\"https:\\/\\/pp.userapi.com\\/c845322\\/v845322649\\/167d5d\\/qIhiw1ppp6k.jpg\",\"width\":1280,\"height\":855}],\"text\":\"\",\"date\":1545734009,\"access_key\":\"7fa309071a43b54f94\"}},{\"type\":\"photo\",\"photo\":{\"id\":456239374,\"album_id\":-7,\"owner_id\":-78638925,\"user_id\":100,\"sizes\":[{\"type\":\"m\",\"url\":\"https:\\/\\/pp.userapi.com\\/c845322\\/v845322649\\/167d64\\/t8ONIEyuqlk.jpg\",\"width\":87,\"height\":130},{\"type\":\"o\",\"url\":\"https:\\/\\/pp.userapi.com\\/c845322\\/v845322649\\/167d69\\/H0VBg4llpPU.jpg\",\"width\":130,\"height\":195},{\"type\":\"p\",\"url\":\"https:\\/\\/pp.userapi.com\\/c845322\\/v845322649\\/167d6a\\/pQUa00UIzSY.jpg\",\"width\":200,\"height\":300},{\"type\":\"q\",\"url\":\"https:\\/\\/pp.userapi.com\\/c845322\\/v845322649\\/167d6b\\/lsqSh50TMoI.jpg\",\"width\":320,\"height\":479},{\"type\":\"r\",\"url\":\"https:\\/\\/pp.userapi.com\\/c845322\\/v845322649\\/167d6c\\/KWcPN0U6NyY.jpg\",\"width\":510,\"height\":764},{\"type\":\"s\",\"url\":\"https:\\/\\/pp.userapi.com\\/c845322\\/v845322649\\/167d63\\/tJ7NARTfImw.jpg\",\"width\":50,\"height\":75},{\"type\":\"w\",\"url\":\"https:\\/\\/pp.userapi.com\\/c845322\\/v845322649\\/167d68\\/udrVPm2amz4.jpg\",\"width\":1282,\"height\":1920},{\"type\":\"x\",\"url\":\"https:\\/\\/pp.userapi.com\\/c845322\\/v845322649\\/167d65\\/lWBAM6QjMYk.jpg\",\"width\":403,\"height\":604},{\"type\":\"y\",\"url\":\"https:\\/\\/pp.userapi.com\\/c845322\\/v845322649\\/167d66\\/xhdRzuWLRLA.jpg\",\"width\":539,\"height\":807},{\"type\":\"z\",\"url\":\"https:\\/\\/pp.userapi.com\\/c845322\\/v845322649\\/167d67\\/6VQwnK3Y_wI.jpg\",\"width\":721,\"height\":1080}],\"text\":\"\",\"date\":1545734009,\"access_key\":\"8c708a910113e1482c\"}},{\"type\":\"photo\",\"photo\":{\"id\":456239375,\"album_id\":-7,\"owner_id\":-78638925,\"user_id\":100,\"sizes\":[{\"type\":\"m\",\"url\":\"https:\\/\\/pp.userapi.com\\/c845322\\/v845322649\\/167d6e\\/F9OxZQVf-3M.jpg\",\"width\":87,\"height\":130},{\"type\":\"o\",\"url\":\"https:\\/\\/pp.userapi.com\\/c845322\\/v845322649\\/167d73\\/tku5-EKns0c.jpg\",\"width\":130,\"height\":195},{\"type\":\"p\",\"url\":\"https:\\/\\/pp.userapi.com\\/c845322\\/v845322649\\/167d74\\/OqRJNF_2e9A.jpg\",\"width\":200,\"height\":300},{\"type\":\"q\",\"url\":\"https:\\/\\/pp.userapi.com\\/c845322\\/v845322649\\/167d75\\/qGE0nsIflH0.jpg\",\"width\":320,\"height\":479},{\"type\":\"r\",\"url\":\"https:\\/\\/pp.userapi.com\\/c845322\\/v845322649\\/167d76\\/XxKB23ufHNk.jpg\",\"width\":510,\"height\":764},{\"type\":\"s\",\"url\":\"https:\\/\\/pp.userapi.com\\/c845322\\/v845322649\\/167d6d\\/IFtRG11PUq4.jpg\",\"width\":50,\"height\":75},{\"type\":\"w\",\"url\":\"https:\\/\\/pp.userapi.com\\/c845322\\/v845322649\\/167d72\\/31os3dlGmFE.jpg\",\"width\":1282,\"height\":1920},{\"type\":\"x\",\"url\":\"https:\\/\\/pp.userapi.com\\/c845322\\/v845322649\\/167d6f\\/PGNLJhj9rx0.jpg\",\"width\":403,\"height\":604},{\"type\":\"y\",\"url\":\"https:\\/\\/pp.userapi.com\\/c845322\\/v845322649\\/167d70\\/Ho9ydKTWGj8.jpg\",\"width\":539,\"height\":807},{\"type\":\"z\",\"url\":\"https:\\/\\/pp.userapi.com\\/c845322\\/v845322649\\/167d71\\/KCHyE9_JKkQ.jpg\",\"width\":721,\"height\":1080}],\"text\":\"\",\"date\":1545734009,\"access_key\":\"159f0ad15ff118e312\"}},{\"type\":\"photo\",\"photo\":{\"id\":456239376,\"album_id\":-7,\"owner_id\":-78638925,\"user_id\":100,\"sizes\":[{\"type\":\"m\",\"url\":\"https:\\/\\/pp.userapi.com\\/c845322\\/v845322649\\/167d78\\/J0rvpw4S-fw.jpg\",\"width\":87,\"height\":130},{\"type\":\"o\",\"url\":\"https:\\/\\/pp.userapi.com\\/c845322\\/v845322649\\/167d7d\\/vJMCmrxlImo.jpg\",\"width\":130,\"height\":195},{\"type\":\"p\",\"url\":\"https:\\/\\/pp.userapi.com\\/c845322\\/v845322649\\/167d7e\\/3GPVtSeV1gI.jpg\",\"width\":200,\"height\":300},{\"type\":\"q\",\"url\":\"https:\\/\\/pp.userapi.com\\/c845322\\/v845322649\\/167d7f\\/Ns3Gp5zR6lk.jpg\",\"width\":320,\"height\":479},{\"type\":\"r\",\"url\":\"https:\\/\\/pp.userapi.com\\/c845322\\/v845322649\\/167d80\\/FFN-hKtjze8.jpg\",\"width\":510,\"height\":764},{\"type\":\"s\",\"url\":\"https:\\/\\/pp.userapi.com\\/c845322\\/v845322649\\/167d77\\/oDPBb-9VwY8.jpg\",\"width\":50,\"height\":75},{\"type\":\"w\",\"url\":\"https:\\/\\/pp.userapi.com\\/c845322\\/v845322649\\/167d7c\\/iNzn9_lb5aE.jpg\",\"width\":1282,\"height\":1920},{\"type\":\"x\",\"url\":\"https:\\/\\/pp.userapi.com\\/c845322\\/v845322649\\/167d79\\/U4YUtBZpY6E.jpg\",\"width\":403,\"height\":604},{\"type\":\"y\",\"url\":\"https:\\/\\/pp.userapi.com\\/c845322\\/v845322649\\/167d7a\\/Y5oUUxddzNE.jpg\",\"width\":539,\"height\":807},{\"type\":\"z\",\"url\":\"https:\\/\\/pp.userapi.com\\/c845322\\/v845322649\\/167d7b\\/jxuB9HtuFaI.jpg\",\"width\":721,\"height\":1080}],\"text\":\"\",\"date\":1545734009,\"access_key\":\"d35db6b90a4aded4ca\"}},{\"type\":\"photo\",\"photo\":{\"id\":456239377,\"album_id\":-7,\"owner_id\":-78638925,\"user_id\":100,\"sizes\":[{\"type\":\"m\",\"url\":\"https:\\/\\/pp.userapi.com\\/c845322\\/v845322649\\/167d82\\/L2MoXZtiFHA.jpg\",\"width\":87,\"height\":130},{\"type\":\"o\",\"url\":\"https:\\/\\/pp.userapi.com\\/c845322\\/v845322649\\/167d87\\/9geteJVgj6w.jpg\",\"width\":130,\"height\":195},{\"type\":\"p\",\"url\":\"https:\\/\\/pp.userapi.com\\/c845322\\/v845322649\\/167d88\\/qXKHYkToUKQ.jpg\",\"width\":200,\"height\":300},{\"type\":\"q\",\"url\":\"https:\\/\\/pp.userapi.com\\/c845322\\/v845322649\\/167d89\\/e10DfSq5FIs.jpg\",\"width\":320,\"height\":479},{\"type\":\"r\",\"url\":\"https:\\/\\/pp.userapi.com\\/c845322\\/v845322649\\/167d8a\\/amYSAshrpSA.jpg\",\"width\":510,\"height\":764},{\"type\":\"s\",\"url\":\"https:\\/\\/pp.userapi.com\\/c845322\\/v845322649\\/167d81\\/dFZQ5M1367w.jpg\",\"width\":50,\"height\":75},{\"type\":\"w\",\"url\":\"https:\\/\\/pp.userapi.com\\/c845322\\/v845322649\\/167d86\\/bRLtNPnCKA0.jpg\",\"width\":1282,\"height\":1920},{\"type\":\"x\",\"url\":\"https:\\/\\/pp.userapi.com\\/c845322\\/v845322649\\/167d83\\/7WI3QP3e5Tk.jpg\",\"width\":403,\"height\":604},{\"type\":\"y\",\"url\":\"https:\\/\\/pp.userapi.com\\/c845322\\/v845322649\\/167d84\\/S4S44DRNV4w.jpg\",\"width\":539,\"height\":807},{\"type\":\"z\",\"url\":\"https:\\/\\/pp.userapi.com\\/c845322\\/v845322649\\/167d85\\/N2xbL4qgdxo.jpg\",\"width\":721,\"height\":1080}],\"text\":\"\",\"date\":1545734009,\"access_key\":\"d18cdb9d34b360053b\"}},{\"type\":\"photo\",\"photo\":{\"id\":456239378,\"album_id\":-7,\"owner_id\":-78638925,\"user_id\":100,\"sizes\":[{\"type\":\"m\",\"url\":\"https:\\/\\/pp.userapi.com\\/c845322\\/v845322649\\/167d8c\\/gMU7deZlyS8.jpg\",\"width\":87,\"height\":130},{\"type\":\"o\",\"url\":\"https:\\/\\/pp.userapi.com\\/c845322\\/v845322649\\/167d91\\/EeAA5RK398E.jpg\",\"width\":130,\"height\":195},{\"type\":\"p\",\"url\":\"https:\\/\\/pp.userapi.com\\/c845322\\/v845322649\\/167d92\\/OqOOdfmIMuI.jpg\",\"width\":200,\"height\":300},{\"type\":\"q\",\"url\":\"https:\\/\\/pp.userapi.com\\/c845322\\/v845322649\\/167d93\\/WiQBaoa-hn8.jpg\",\"width\":320,\"height\":479},{\"type\":\"r\",\"url\":\"https:\\/\\/pp.userapi.com\\/c845322\\/v845322649\\/167d94\\/Q3UhIkvNHQc.jpg\",\"width\":510,\"height\":764},{\"type\":\"s\",\"url\":\"https:\\/\\/pp.userapi.com\\/c845322\\/v845322649\\/167d8b\\/27L58F7Ersg.jpg\",\"width\":50,\"height\":75},{\"type\":\"w\",\"url\":\"https:\\/\\/pp.userapi.com\\/c845322\\/v845322649\\/167d90\\/SCDVzoBGR8k.jpg\",\"width\":1281,\"height\":1920},{\"type\":\"x\",\"url\":\"https:\\/\\/pp.userapi.com\\/c845322\\/v845322649\\/167d8d\\/IGPOJ-UIBgQ.jpg\",\"width\":403,\"height\":604},{\"type\":\"y\",\"url\":\"https:\\/\\/pp.userapi.com\\/c845322\\/v845322649\\/167d8e\\/In-lAxUnXTw.jpg\",\"width\":539,\"height\":807},{\"type\":\"z\",\"url\":\"https:\\/\\/pp.userapi.com\\/c845322\\/v845322649\\/167d8f\\/CbW6V0CmlJM.jpg\",\"width\":721,\"height\":1080}],\"text\":\"\",\"date\":1545734009,\"access_key\":\"997419fa09ac95222c\"}},{\"type\":\"photo\",\"photo\":{\"id\":456239380,\"album_id\":-7,\"owner_id\":-78638925,\"user_id\":100,\"sizes\":[{\"type\":\"m\",\"url\":\"https:\\/\\/pp.userapi.com\\/c846120\\/v846120501\\/15edab\\/FaBhFNqbRhw.jpg\",\"width\":87,\"height\":130},{\"type\":\"o\",\"url\":\"https:\\/\\/pp.userapi.com\\/c846120\\/v846120501\\/15edb0\\/mOa8gkmoCRM.jpg\",\"width\":130,\"height\":195},{\"type\":\"p\",\"url\":\"https:\\/\\/pp.userapi.com\\/c846120\\/v846120501\\/15edb1\\/VQKkU218ayk.jpg\",\"width\":200,\"height\":300},{\"type\":\"q\",\"url\":\"https:\\/\\/pp.userapi.com\\/c846120\\/v846120501\\/15edb2\\/K50G_6h1Htc.jpg\",\"width\":320,\"height\":479},{\"type\":\"r\",\"url\":\"https:\\/\\/pp.userapi.com\\/c846120\\/v846120501\\/15edb3\\/-v_RYPCrrK4.jpg\",\"width\":510,\"height\":764},{\"type\":\"s\",\"url\":\"https:\\/\\/pp.userapi.com\\/c846120\\/v846120501\\/15edaa\\/1Z5x9oV1Usc.jpg\",\"width\":50,\"height\":75},{\"type\":\"w\",\"url\":\"https:\\/\\/pp.userapi.com\\/c846120\\/v846120501\\/15edaf\\/ZI8vdJeMHrw.jpg\",\"width\":1442,\"height\":2160},{\"type\":\"x\",\"url\":\"https:\\/\\/pp.userapi.com\\/c846120\\/v846120501\\/15edac\\/T7Rx5GNTlkI.jpg\",\"width\":403,\"height\":604},{\"type\":\"y\",\"url\":\"https:\\/\\/pp.userapi.com\\/c846120\\/v846120501\\/15edad\\/_gCqP2gRG00.jpg\",\"width\":539,\"height\":807},{\"type\":\"z\",\"url\":\"https:\\/\\/pp.userapi.com\\/c846120\\/v846120501\\/15edae\\/LQgIsZEjvH4.jpg\",\"width\":721,\"height\":1080}],\"text\":\"\",\"date\":1545767616,\"access_key\":\"f740653f970991ade2\"}},{\"type\":\"audio\",\"audio\":{\"id\":456242267,\"owner_id\":2000111282,\"artist\":\"Крик Вильгельма\",\"title\":\"Стань сильнее (bonus)\",\"duration\":25,\"date\":1545734009,\"url\":\"https:\\/\\/vk.com\\/mp3\\/audio_api_unavailable.mp3\",\"lyrics_id\":435479449,\"album_id\":2,\"genre_id\":13,\"is_hq\":true,\"track_code\":\"5bba897dXQmouJr6Kwsx-zwfGwll3jv_Ck--NURbhsguZAR1-ENtOvD-28R8VFk\",\"is_explicit\":false}}],\"post_source\":{\"type\":\"vk\"}}],\"post_source\":{\"type\":\"api\",\"platform\":\"android\"},\"comments\":{\"count\":0,\"can_post\":0,\"groups_can_post\":true},\"likes\":{\"count\":8,\"user_likes\":0,\"can_like\":1,\"can_publish\":1},\"reposts\":{\"count\":0,\"user_reposted\":0},\"views\":{\"count\":218},\"is_favorite\":false},{\"id\":5045,\"from_id\":9316846,\"owner_id\":9316846,\"date\":1545669822,\"post_type\":\"post\",\"text\":\"\",\"copy_history\":[{\"id\":259065,\"owner_id\":-26140698,\"from_id\":-26140698,\"date\":1545646501,\"post_type\":\"post\",\"text\":\"Helfró — Helfró (2018)\\n\\nВесьма достойное полотно прибыло из Рейкьявика. Первый полноформатный альбом проекта Helfró, который представляет из себя довольно напористый и нетривиальный black\\/death метал. \\n\\n#eBlack #eDeath #eIceland | #murdunbad\\n\\nКупить релиз: vk.cc\\/8QtYRj (Digital)\",\"signer_id\":244724457,\"attachments\":[{\"type\":\"photo\",\"photo\":{\"id\":456248382,\"album_id\":-7,\"owner_id\":-26140698,\"user_id\":100,\"sizes\":[{\"type\":\"m\",\"url\":\"https:\\/\\/pp.userapi.com\\/c848620\\/v848620683\\/e707e\\/ZV_q2ceiLK0.jpg\",\"width\":130,\"height\":130},{\"type\":\"o\",\"url\":\"https:\\/\\/pp.userapi.com\\/c848620\\/v848620683\\/e7083\\/nEOEDLatT0g.jpg\",\"width\":130,\"height\":130},{\"type\":\"p\",\"url\":\"https:\\/\\/pp.userapi.com\\/c848620\\/v848620683\\/e7084\\/Acsa0W_EmDU.jpg\",\"width\":200,\"height\":200},{\"type\":\"q\",\"url\":\"https:\\/\\/pp.userapi.com\\/c848620\\/v848620683\\/e7085\\/ZIdL1iT_3mk.jpg\",\"width\":320,\"height\":320},{\"type\":\"r\",\"url\":\"https:\\/\\/pp.userapi.com\\/c848620\\/v848620683\\/e7086\\/wsWg-uPg4Qo.jpg\",\"width\":510,\"height\":510},{\"type\":\"s\",\"url\":\"https:\\/\\/pp.userapi.com\\/c848620\\/v848620683\\/e707d\\/zU2bQO7nnO0.jpg\",\"width\":75,\"height\":75},{\"type\":\"w\",\"url\":\"https:\\/\\/pp.userapi.com\\/c848620\\/v848620683\\/e7082\\/DIDiQbHTEqE.jpg\",\"width\":2160,\"height\":2160},{\"type\":\"x\",\"url\":\"https:\\/\\/pp.userapi.com\\/c848620\\/v848620683\\/e707f\\/QLj_RiVZq48.jpg\",\"width\":604,\"height\":604},{\"type\":\"y\",\"url\":\"https:\\/\\/pp.userapi.com\\/c848620\\/v848620683\\/e7080\\/nqkn51VQ4_A.jpg\",\"width\":807,\"height\":807},{\"type\":\"z\",\"url\":\"https:\\/\\/pp.userapi.com\\/c848620\\/v848620683\\/e7081\\/KQcCMFYDgv8.jpg\",\"width\":1080,\"height\":1080}],\"text\":\"\",\"date\":1545645447,\"access_key\":\"d87845964be41c1b83\"}},{\"type\":\"link\",\"link\":{\"url\":\"https:\\/\\/helfro.bandcamp.com\\/releases\",\"title\":\"Helfró, by Helfró\",\"description\":\"7 track album\",\"target\":\"internal\",\"photo\":{\"id\":456267746,\"album_id\":-28,\"owner_id\":2000038405,\"sizes\":[{\"type\":\"l\",\"url\":\"https:\\/\\/pp.userapi.com\\/c849416\\/v849416683\\/ebddb\\/KFmxnOK619I.jpg\",\"width\":537,\"height\":240},{\"type\":\"m\",\"url\":\"https:\\/\\/pp.userapi.com\\/c849416\\/v849416683\\/ebdd8\\/G1sSGp5uQMY.jpg\",\"width\":130,\"height\":130},{\"type\":\"p\",\"url\":\"https:\\/\\/pp.userapi.com\\/c849416\\/v849416683\\/ebdda\\/fXWzSs3pPks.jpg\",\"width\":260,\"height\":260},{\"type\":\"s\",\"url\":\"https:\\/\\/pp.userapi.com\\/c849416\\/v849416683\\/ebdd7\\/gwW3jfewuSw.jpg\",\"width\":75,\"height\":75},{\"type\":\"x\",\"url\":\"https:\\/\\/pp.userapi.com\\/c849416\\/v849416683\\/ebdd9\\/3nKk_eccw5U.jpg\",\"width\":150,\"height\":150}],\"text\":\"\",\"date\":1545645447},\"is_favorite\":false}},{\"type\":\"audio\",\"audio\":{\"id\":456242330,\"owner_id\":2000108669,\"artist\":\"Helfró\",\"title\":\"Ávöxtur Af Rotnu Tré\",\"duration\":25,\"date\":1545645447,\"url\":\"https:\\/\\/vk.com\\/mp3\\/audio_api_unavailable.mp3\",\"album_id\":2,\"is_hq\":true,\"track_code\":\"a2370330QjTsxby-kVqs1PF_wsQ1pleD_aMm9YgGg4-RevurQgt1D7uI8IDAB8qTpiY\",\"is_explicit\":false}},{\"type\":\"audio\",\"audio\":{\"id\":456242664,\"owner_id\":2000107494,\"artist\":\"Helfró\",\"title\":\"Eldhjarta\",\"duration\":25,\"date\":1545645447,\"url\":\"https:\\/\\/vk.com\\/mp3\\/audio_api_unavailable.mp3\",\"album_id\":2,\"is_hq\":true,\"track_code\":\"70e15fab6u6-XvYviWE82X-u-rztd8yJdOiTY5k3NVo7bohJ1Sfd1ekTuhHYPFqeKPc\",\"is_explicit\":false}},{\"type\":\"audio\",\"audio\":{\"id\":456242731,\"owner_id\":2000106370,\"artist\":\"Helfró\",\"title\":\"Þrátt Fyrir Brennandi Vilja\",\"duration\":25,\"date\":1545645447,\"url\":\"https:\\/\\/vk.com\\/mp3\\/audio_api_unavailable.mp3\",\"album_id\":2,\"is_hq\":true,\"track_code\":\"65250a2dpcuhf_kToUpCxzspfjaRoojWpxArHC6WmgKq4MTUZceS8PYytS3wFySAbHA\",\"is_explicit\":false}},{\"type\":\"audio\",\"audio\":{\"id\":456242760,\"owner_id\":2000106271,\"artist\":\"Helfró\",\"title\":\"Þegn Hinna Stundlegu Harma\",\"duration\":25,\"date\":1545645447,\"url\":\"https:\\/\\/vk.com\\/mp3\\/audio_api_unavailable.mp3\",\"album_id\":2,\"is_hq\":true,\"track_code\":\"3831e819OM2cN6sFRT1YaakvBBjwOwAdKa0Y7vh8kjwQMI3LriQP9st65zsUYD4u_nY\",\"is_explicit\":false}},{\"type\":\"audio\",\"audio\":{\"id\":456242630,\"owner_id\":2000106940,\"artist\":\"Helfró\",\"title\":\"Hin Forboðna Alsæla\",\"duration\":25,\"date\":1545645447,\"url\":\"https:\\/\\/vk.com\\/mp3\\/audio_api_unavailable.mp3\",\"album_id\":2,\"is_hq\":true,\"track_code\":\"36a70e09h-nqawTlt39MbQhH1111wG821Wr5vHgIVfs8NPZMoB6w0r0mSNvmIioqXx4\",\"is_explicit\":false}},{\"type\":\"audio\",\"audio\":{\"id\":456242868,\"owner_id\":2000106139,\"artist\":\"Helfró\",\"title\":\"Katrín\",\"duration\":25,\"date\":1545645447,\"url\":\"https:\\/\\/vk.com\\/mp3\\/audio_api_unavailable.mp3\",\"album_id\":2,\"is_hq\":true,\"track_code\":\"dcf52543sZOxygzkWRoPXP3eSls7BAl24X_azioMNpOhJjXLXraGqOaHQNoIR2kbqoc\",\"is_explicit\":false}},{\"type\":\"audio\",\"audio\":{\"id\":456242283,\"owner_id\":2000108655,\"artist\":\"Helfró\",\"title\":\"Í Musteri Agans\",\"duration\":25,\"date\":1545645447,\"url\":\"https:\\/\\/vk.com\\/mp3\\/audio_api_unavailable.mp3\",\"album_id\":2,\"is_hq\":true,\"track_code\":\"5897c364SZvzgujTE9Ry7d_GwMMHFy0vNwpeBjhuTbr-ey9xaol-oKTPpO1CiRSqiJ8\",\"is_explicit\":false}}],\"post_source\":{\"type\":\"vk\"}}],\"post_source\":{\"type\":\"api\",\"platform\":\"android\"},\"comments\":{\"count\":0,\"can_post\":0,\"groups_can_post\":true},\"likes\":{\"count\":0,\"user_likes\":0,\"can_like\":1,\"can_publish\":1},\"reposts\":{\"count\":0,\"user_reposted\":0},\"views\":{\"count\":111},\"is_favorite\":false},{\"id\":5044,\"from_id\":9316846,\"owner_id\":9316846,\"date\":1545041595,\"post_type\":\"post\",\"text\":\"\",\"copy_history\":[{\"id\":475,\"owner_id\":-78638925,\"from_id\":-78638925,\"date\":1545041460,\"post_type\":\"post\",\"text\":\"Hey, Folks! Смотрим тизер к альбому✌️ \\nРелиз уже совсем скоро)\",\"attachments\":[{\"type\":\"video\",\"video\":{\"id\":456239026,\"owner_id\":-78638925,\"title\":\"Крик Вильгельма - От Гленфиннана до Лондона 2019 (Тизер)\",\"duration\":190,\"description\":\"5 Января 2019 увидит свет первый полноформатный альбом группы Крик Вильгельма - \\\"От Гленфиннана до Лондона\\\"!!!\",\"date\":1544988020,\"comments\":0,\"views\":67,\"photo_130\":\"https:\\/\\/pp.userapi.com\\/c846019\\/v846019346\\/15125c\\/fxQtxvBGVjc.jpg\",\"photo_320\":\"https:\\/\\/pp.userapi.com\\/c846019\\/v846019346\\/15125e\\/ybAc2N6t7iQ.jpg\",\"photo_800\":\"https:\\/\\/pp.userapi.com\\/c846019\\/v846019346\\/15125f\\/0lKYmM10zsQ.jpg\",\"photo_640\":\"https:\\/\\/pp.userapi.com\\/c846019\\/v846019346\\/15125f\\/0lKYmM10zsQ.jpg\",\"is_favorite\":false,\"access_key\":\"c3e7aa60ca04f363b0\",\"platform\":\"YouTube\",\"can_add\":1,\"track_code\":\"video_2d9a568cc2TY8JB_bRs2ZWRGNZDOaG8v6y_JUFz9Ggxf2jqQctxBQ8HHqA\"}}],\"post_source\":{\"type\":\"api\",\"platform\":\"iphone\"}}],\"post_source\":{\"type\":\"api\",\"platform\":\"android\"},\"comments\":{\"count\":0,\"can_post\":0,\"groups_can_post\":true},\"likes\":{\"count\":0,\"user_likes\":0,\"can_like\":1,\"can_publish\":1},\"reposts\":{\"count\":0,\"user_reposted\":0},\"views\":{\"count\":97},\"is_favorite\":false},{\"id\":5043,\"from_id\":9316846,\"owner_id\":9316846,\"date\":1544790975,\"post_type\":\"post\",\"text\":\"\",\"copy_history\":[{\"id\":48,\"owner_id\":-173529940,\"from_id\":-173529940,\"date\":1544766482,\"post_type\":\"post\",\"text\":\"Очередная веха на пути к кормлению червей пройдена! Представляем наш долгожданный новый альбом \\\"Evangelium Nihil\\\", который вышел сегодня на Non Serviam Records. \\n\\nзаказ диска с сайта: https:\\/\\/bit.ly\\/2zws7yB \\nBandcamp: https:\\/\\/bit.ly\\/2PGFFBL\",\"attachments\":[{\"type\":\"photo\",\"photo\":{\"id\":456239021,\"album_id\":-7,\"owner_id\":-173529940,\"user_id\":100,\"sizes\":[{\"type\":\"m\",\"url\":\"https:\\/\\/pp.userapi.com\\/c846420\\/v846420275\\/14e29d\\/3VdoNKqaKsw.jpg\",\"width\":130,\"height\":130},{\"type\":\"o\",\"url\":\"https:\\/\\/pp.userapi.com\\/c846420\\/v846420275\\/14e2a2\\/VBlxe4v8UHI.jpg\",\"width\":130,\"height\":130},{\"type\":\"p\",\"url\":\"https:\\/\\/pp.userapi.com\\/c846420\\/v846420275\\/14e2a3\\/57dbNBTqxdY.jpg\",\"width\":200,\"height\":200},{\"type\":\"q\",\"url\":\"https:\\/\\/pp.userapi.com\\/c846420\\/v846420275\\/14e2a4\\/XpmFAnXmIbI.jpg\",\"width\":320,\"height\":320},{\"type\":\"r\",\"url\":\"https:\\/\\/pp.userapi.com\\/c846420\\/v846420275\\/14e2a5\\/BJ8iMtpCy4g.jpg\",\"width\":510,\"height\":510},{\"type\":\"s\",\"url\":\"https:\\/\\/pp.userapi.com\\/c846420\\/v846420275\\/14e29c\\/ZwzGTWH4PEo.jpg\",\"width\":75,\"height\":75},{\"type\":\"w\",\"url\":\"https:\\/\\/pp.userapi.com\\/c846420\\/v846420275\\/14e2a1\\/EzSa6PraDLI.jpg\",\"width\":1400,\"height\":1400},{\"type\":\"x\",\"url\":\"https:\\/\\/pp.userapi.com\\/c846420\\/v846420275\\/14e29e\\/vsvw8j_ydo4.jpg\",\"width\":604,\"height\":604},{\"type\":\"y\",\"url\":\"https:\\/\\/pp.userapi.com\\/c846420\\/v846420275\\/14e29f\\/hkFtH3jycaE.jpg\",\"width\":807,\"height\":807},{\"type\":\"z\",\"url\":\"https:\\/\\/pp.userapi.com\\/c846420\\/v846420275\\/14e2a0\\/y7zngzio9aI.jpg\",\"width\":1080,\"height\":1080}],\"text\":\"\",\"date\":1544766482,\"post_id\":48,\"access_key\":\"4f529778eb3244892e\"}},{\"type\":\"audio\",\"audio\":{\"id\":456242946,\"owner_id\":2000085324,\"artist\":\"Comatose Vigil a.k.\",\"title\":\"Evangelium Nihil\",\"duration\":25,\"date\":1544766482,\"url\":\"https:\\/\\/vk.com\\/mp3\\/audio_api_unavailable.mp3\",\"genre_id\":7,\"is_hq\":true,\"track_code\":\"b1989c7epnbw0xpVmMFn7WbTEt-pbIC4_iYjxPRM6Vta8Xo_pAuQT6ieWgSknQA\",\"is_explicit\":false}},{\"type\":\"audio\",\"audio\":{\"id\":456242298,\"owner_id\":2000088318,\"artist\":\"Comatose Vigil a.k.\",\"title\":\"Comatose Vigil\",\"duration\":25,\"date\":1544766482,\"url\":\"https:\\/\\/vk.com\\/mp3\\/audio_api_unavailable.mp3\",\"genre_id\":7,\"is_hq\":true,\"track_code\":\"e7ff9274s7-NElz9hf0rATPnIy_emtcNH1KaAI50H0nmIikgC_OFhtVfHKy5oUw\",\"is_explicit\":false}},{\"type\":\"audio\",\"audio\":{\"id\":456242660,\"owner_id\":2000086440,\"artist\":\"Comatose Vigil a.k.\",\"title\":\"Deus Sterilis\",\"duration\":25,\"date\":1544766482,\"url\":\"https:\\/\\/vk.com\\/mp3\\/audio_api_unavailable.mp3\",\"genre_id\":7,\"is_hq\":true,\"track_code\":\"b4b2a357zob5h--hEImFalaBeQ1aJP2z-FZAHTGTQjouoG7TVdn4v6HKr_As1eI\",\"is_explicit\":false}},{\"type\":\"audio\",\"audio\":{\"id\":456242917,\"owner_id\":2000085582,\"artist\":\"Comatose Vigil a.k.\",\"title\":\"The Day Heaven Fell\",\"duration\":25,\"date\":1544766482,\"url\":\"https:\\/\\/vk.com\\/mp3\\/audio_api_unavailable.mp3\",\"genre_id\":7,\"is_hq\":true,\"track_code\":\"229fe2f1LLXRM7y6pjT6HAhzTRkP-g3mHKnKvi-Sf-QazUIJz4sajIl-_OuaaJ0\",\"is_explicit\":false}},{\"type\":\"link\",\"link\":{\"url\":\"https:\\/\\/bit.ly\\/2zws7yB\",\"title\":\"Non Serviam Records | Shop\",\"description\":\"Non Serviam Records is a Metal label and mailorder service, dedicated and independent label that reshapes the future of metal.\",\"target\":\"internal\",\"photo\":{\"id\":456261264,\"album_id\":-25,\"owner_id\":2000033756,\"sizes\":[{\"type\":\"a\",\"url\":\"https:\\/\\/pp.userapi.com\\/c847021\\/v847021275\\/1544f5\\/_KYsXSZVYHA.jpg\",\"width\":200,\"height\":89},{\"type\":\"b\",\"url\":\"https:\\/\\/pp.userapi.com\\/c847021\\/v847021275\\/1544f3\\/WFjwbT-Os74.jpg\",\"width\":400,\"height\":178},{\"type\":\"c\",\"url\":\"https:\\/\\/pp.userapi.com\\/c847021\\/v847021275\\/1544f7\\/568U_9-6wAA.jpg\",\"width\":200,\"height\":200},{\"type\":\"d\",\"url\":\"https:\\/\\/pp.userapi.com\\/c847021\\/v847021275\\/1544f8\\/E4LcN0p039o.jpg\",\"width\":100,\"height\":100},{\"type\":\"e\",\"url\":\"https:\\/\\/pp.userapi.com\\/c847021\\/v847021275\\/1544f9\\/AOATLTk9rgU.jpg\",\"width\":50,\"height\":50},{\"type\":\"k\",\"url\":\"https:\\/\\/pp.userapi.com\\/c847021\\/v847021275\\/1544f4\\/8nQIQqZ432w.jpg\",\"width\":1074,\"height\":478},{\"type\":\"l\",\"url\":\"https:\\/\\/pp.userapi.com\\/c847021\\/v847021275\\/1544f6\\/zP2IC552FMw.jpg\",\"width\":537,\"height\":240},{\"type\":\"o\",\"url\":\"https:\\/\\/pp.userapi.com\\/c847021\\/v847021275\\/1544f2\\/PGmln-bypu8.jpg\",\"width\":2560,\"height\":1140}],\"text\":\"\",\"date\":1544766482},\"is_favorite\":false}}],\"post_source\":{\"type\":\"vk\"}}],\"post_source\":{\"type\":\"api\",\"platform\":\"android\"},\"comments\":{\"count\":0,\"can_post\":0,\"groups_can_post\":true},\"likes\":{\"count\":1,\"user_likes\":0,\"can_like\":1,\"can_publish\":1},\"reposts\":{\"count\":0,\"user_reposted\":0},\"views\":{\"count\":120},\"is_favorite\":false}]}}\n",
      "237\n",
      "238\n",
      "239\n",
      "240\n",
      "241\n",
      "242\n",
      "243\n",
      "244\n",
      "245\n",
      "246\n",
      "247\n",
      "248\n",
      "249\n",
      "250\n",
      "251\n",
      "252\n",
      "retry\n",
      "{\"error\":{\"error_code\":30,\"error_msg\":\"This profile is private\",\"request_params\":[{\"key\":\"oauth\",\"value\":\"1\"},{\"key\":\"method\",\"value\":\"wall.get\"},{\"key\":\"owner_id\",\"value\":\"10922202\"},{\"key\":\"v\",\"value\":\"5.92\"}]}}\n",
      "253\n",
      "254\n",
      "retry\n",
      "{\"error\":{\"error_code\":30,\"error_msg\":\"This profile is private\",\"request_params\":[{\"key\":\"oauth\",\"value\":\"1\"},{\"key\":\"method\",\"value\":\"wall.get\"},{\"key\":\"owner_id\",\"value\":\"11075138\"},{\"key\":\"v\",\"value\":\"5.92\"}]}}\n",
      "255\n",
      "256\n",
      "257\n",
      "258\n",
      "259\n",
      "260\n",
      "261\n",
      "retry\n",
      "{\"error\":{\"error_code\":30,\"error_msg\":\"This profile is private\",\"request_params\":[{\"key\":\"oauth\",\"value\":\"1\"},{\"key\":\"method\",\"value\":\"wall.get\"},{\"key\":\"owner_id\",\"value\":\"11466860\"},{\"key\":\"v\",\"value\":\"5.92\"}]}}\n",
      "262\n",
      "263\n",
      "264\n",
      "retry\n",
      "{\"error\":{\"error_code\":30,\"error_msg\":\"This profile is private\",\"request_params\":[{\"key\":\"oauth\",\"value\":\"1\"},{\"key\":\"method\",\"value\":\"wall.get\"},{\"key\":\"owner_id\",\"value\":\"11592917\"},{\"key\":\"v\",\"value\":\"5.92\"}]}}\n",
      "265\n",
      "266\n",
      "267\n",
      "268\n",
      "269\n",
      "270\n",
      "retry\n",
      "{\"error\":{\"error_code\":30,\"error_msg\":\"This profile is private\",\"request_params\":[{\"key\":\"oauth\",\"value\":\"1\"},{\"key\":\"method\",\"value\":\"wall.get\"},{\"key\":\"owner_id\",\"value\":\"12300428\"},{\"key\":\"v\",\"value\":\"5.92\"}]}}\n",
      "271\n",
      "272\n",
      "273\n",
      "274\n",
      "275\n",
      "276\n",
      "277\n",
      "278\n",
      "279\n",
      "280\n",
      "281\n",
      "282\n",
      "283\n",
      "284\n",
      "retry\n",
      "{\"error\":{\"error_code\":30,\"error_msg\":\"This profile is private\",\"request_params\":[{\"key\":\"oauth\",\"value\":\"1\"},{\"key\":\"method\",\"value\":\"wall.get\"},{\"key\":\"owner_id\",\"value\":\"13940170\"},{\"key\":\"v\",\"value\":\"5.92\"}]}}\n",
      "285\n",
      "286\n",
      "287\n",
      "288\n",
      "289\n",
      "290\n",
      "retry\n",
      "{\"error\":{\"error_code\":30,\"error_msg\":\"This profile is private\",\"request_params\":[{\"key\":\"oauth\",\"value\":\"1\"},{\"key\":\"method\",\"value\":\"wall.get\"},{\"key\":\"owner_id\",\"value\":\"14554904\"},{\"key\":\"v\",\"value\":\"5.92\"}]}}\n",
      "291\n",
      "292\n",
      "293\n",
      "294\n",
      "295\n",
      "296\n",
      "297\n",
      "298\n",
      "299\n",
      "300\n",
      "301\n",
      "302\n",
      "303\n",
      "304\n",
      "305\n",
      "306\n",
      "307\n",
      "308\n",
      "309\n",
      "310\n",
      "311\n",
      "312\n",
      "313\n",
      "314\n",
      "315\n",
      "316\n",
      "retry\n",
      "{\"error\":{\"error_code\":30,\"error_msg\":\"This profile is private\",\"request_params\":[{\"key\":\"oauth\",\"value\":\"1\"},{\"key\":\"method\",\"value\":\"wall.get\"},{\"key\":\"owner_id\",\"value\":\"16766312\"},{\"key\":\"v\",\"value\":\"5.92\"}]}}\n",
      "317\n",
      "318\n",
      "319\n",
      "320\n",
      "321\n",
      "322\n",
      "323\n",
      "324\n",
      "325\n",
      "326\n",
      "327\n",
      "328\n",
      "329\n",
      "330\n",
      "331\n",
      "332\n",
      "333\n",
      "retry\n",
      "{\"error\":{\"error_code\":30,\"error_msg\":\"This profile is private\",\"request_params\":[{\"key\":\"oauth\",\"value\":\"1\"},{\"key\":\"method\",\"value\":\"wall.get\"},{\"key\":\"owner_id\",\"value\":\"19480880\"},{\"key\":\"v\",\"value\":\"5.92\"}]}}\n",
      "334\n",
      "335\n",
      "336\n",
      "337\n",
      "338\n",
      "339\n",
      "340\n",
      "341\n",
      "342\n",
      "343\n",
      "344\n",
      "345\n",
      "346\n",
      "347\n",
      "348\n",
      "349\n",
      "350\n",
      "351\n",
      "352\n",
      "retry\n",
      "{\"error\":{\"error_code\":30,\"error_msg\":\"This profile is private\",\"request_params\":[{\"key\":\"oauth\",\"value\":\"1\"},{\"key\":\"method\",\"value\":\"wall.get\"},{\"key\":\"owner_id\",\"value\":\"22225764\"},{\"key\":\"v\",\"value\":\"5.92\"}]}}\n",
      "353\n",
      "retry\n",
      "{\"error\":{\"error_code\":30,\"error_msg\":\"This profile is private\",\"request_params\":[{\"key\":\"oauth\",\"value\":\"1\"},{\"key\":\"method\",\"value\":\"wall.get\"},{\"key\":\"owner_id\",\"value\":\"22254243\"},{\"key\":\"v\",\"value\":\"5.92\"}]}}\n",
      "354\n",
      "355\n",
      "356\n",
      "357\n",
      "358\n",
      "359\n",
      "360\n",
      "361\n",
      "362\n",
      "363\n",
      "364\n",
      "retry\n",
      "{\"error\":{\"error_code\":30,\"error_msg\":\"This profile is private\",\"request_params\":[{\"key\":\"oauth\",\"value\":\"1\"},{\"key\":\"method\",\"value\":\"wall.get\"},{\"key\":\"owner_id\",\"value\":\"24613541\"},{\"key\":\"v\",\"value\":\"5.92\"}]}}\n",
      "365\n",
      "366\n",
      "367\n",
      "368\n",
      "retry\n",
      "{\"error\":{\"error_code\":30,\"error_msg\":\"This profile is private\",\"request_params\":[{\"key\":\"oauth\",\"value\":\"1\"},{\"key\":\"method\",\"value\":\"wall.get\"},{\"key\":\"owner_id\",\"value\":\"25566912\"},{\"key\":\"v\",\"value\":\"5.92\"}]}}\n",
      "369\n",
      "370\n",
      "371\n",
      "372\n",
      "373\n",
      "374\n",
      "375\n",
      "376\n",
      "377\n",
      "378\n",
      "379\n",
      "380\n",
      "381\n",
      "retry\n",
      "{\"error\":{\"error_code\":30,\"error_msg\":\"This profile is private\",\"request_params\":[{\"key\":\"oauth\",\"value\":\"1\"},{\"key\":\"method\",\"value\":\"wall.get\"},{\"key\":\"owner_id\",\"value\":\"27511808\"},{\"key\":\"v\",\"value\":\"5.92\"}]}}\n",
      "382\n",
      "383\n",
      "384\n",
      "385\n",
      "386\n",
      "387\n",
      "388\n",
      "389\n",
      "390\n",
      "391\n",
      "392\n",
      "393\n",
      "retry\n",
      "{\"error\":{\"error_code\":30,\"error_msg\":\"This profile is private\",\"request_params\":[{\"key\":\"oauth\",\"value\":\"1\"},{\"key\":\"method\",\"value\":\"wall.get\"},{\"key\":\"owner_id\",\"value\":\"32675417\"},{\"key\":\"v\",\"value\":\"5.92\"}]}}\n",
      "394\n",
      "retry\n",
      "{\"error\":{\"error_code\":30,\"error_msg\":\"This profile is private\",\"request_params\":[{\"key\":\"oauth\",\"value\":\"1\"},{\"key\":\"method\",\"value\":\"wall.get\"},{\"key\":\"owner_id\",\"value\":\"32887473\"},{\"key\":\"v\",\"value\":\"5.92\"}]}}\n",
      "395\n",
      "396\n",
      "397\n",
      "398\n",
      "399\n",
      "400\n",
      "401\n",
      "402\n",
      "403\n",
      "404\n",
      "405\n",
      "406\n",
      "407\n",
      "retry\n",
      "{\"error\":{\"error_code\":30,\"error_msg\":\"This profile is private\",\"request_params\":[{\"key\":\"oauth\",\"value\":\"1\"},{\"key\":\"method\",\"value\":\"wall.get\"},{\"key\":\"owner_id\",\"value\":\"80031\"},{\"key\":\"v\",\"value\":\"5.92\"}]}}\n",
      "408\n",
      "409\n",
      "410\n",
      "411\n",
      "412\n",
      "retry\n",
      "{\"error\":{\"error_code\":30,\"error_msg\":\"This profile is private\",\"request_params\":[{\"key\":\"oauth\",\"value\":\"1\"},{\"key\":\"method\",\"value\":\"wall.get\"},{\"key\":\"owner_id\",\"value\":\"171605\"},{\"key\":\"v\",\"value\":\"5.92\"}]}}\n",
      "413\n",
      "414\n",
      "415\n",
      "416\n",
      "417\n",
      "retry\n",
      "{\"error\":{\"error_code\":30,\"error_msg\":\"This profile is private\",\"request_params\":[{\"key\":\"oauth\",\"value\":\"1\"},{\"key\":\"method\",\"value\":\"wall.get\"},{\"key\":\"owner_id\",\"value\":\"247814\"},{\"key\":\"v\",\"value\":\"5.92\"}]}}\n",
      "418\n",
      "419\n",
      "420\n",
      "421\n",
      "422\n",
      "423\n",
      "424\n",
      "425\n",
      "426\n",
      "427\n",
      "428\n",
      "retry\n",
      "{\"error\":{\"error_code\":30,\"error_msg\":\"This profile is private\",\"request_params\":[{\"key\":\"oauth\",\"value\":\"1\"},{\"key\":\"method\",\"value\":\"wall.get\"},{\"key\":\"owner_id\",\"value\":\"458827\"},{\"key\":\"v\",\"value\":\"5.92\"}]}}\n",
      "429\n",
      "430\n",
      "431\n",
      "432\n",
      "433\n",
      "434\n",
      "435\n",
      "retry\n",
      "{\"error\":{\"error_code\":30,\"error_msg\":\"This profile is private\",\"request_params\":[{\"key\":\"oauth\",\"value\":\"1\"},{\"key\":\"method\",\"value\":\"wall.get\"},{\"key\":\"owner_id\",\"value\":\"688509\"},{\"key\":\"v\",\"value\":\"5.92\"}]}}\n",
      "436\n",
      "437\n",
      "438\n",
      "439\n",
      "440\n",
      "441\n",
      "442\n",
      "443\n",
      "retry\n",
      "{\"error\":{\"error_code\":30,\"error_msg\":\"This profile is private\",\"request_params\":[{\"key\":\"oauth\",\"value\":\"1\"},{\"key\":\"method\",\"value\":\"wall.get\"},{\"key\":\"owner_id\",\"value\":\"862876\"},{\"key\":\"v\",\"value\":\"5.92\"}]}}\n",
      "444\n",
      "retry\n",
      "{\"error\":{\"error_code\":30,\"error_msg\":\"This profile is private\",\"request_params\":[{\"key\":\"oauth\",\"value\":\"1\"},{\"key\":\"method\",\"value\":\"wall.get\"},{\"key\":\"owner_id\",\"value\":\"889964\"},{\"key\":\"v\",\"value\":\"5.92\"}]}}\n",
      "445\n",
      "446\n",
      "447\n",
      "448\n",
      "449\n",
      "450\n",
      "451\n",
      "452\n",
      "453\n",
      "454\n",
      "455\n",
      "456\n",
      "457\n",
      "458\n",
      "459\n",
      "460\n",
      "461\n",
      "462\n",
      "463\n",
      "retry\n",
      "{\"error\":{\"error_code\":30,\"error_msg\":\"This profile is private\",\"request_params\":[{\"key\":\"oauth\",\"value\":\"1\"},{\"key\":\"method\",\"value\":\"wall.get\"},{\"key\":\"owner_id\",\"value\":\"1415612\"},{\"key\":\"v\",\"value\":\"5.92\"}]}}\n",
      "464\n",
      "465\n",
      "466\n",
      "467\n",
      "468\n",
      "retry\n",
      "{\"error\":{\"error_code\":30,\"error_msg\":\"This profile is private\",\"request_params\":[{\"key\":\"oauth\",\"value\":\"1\"},{\"key\":\"method\",\"value\":\"wall.get\"},{\"key\":\"owner_id\",\"value\":\"1531961\"},{\"key\":\"v\",\"value\":\"5.92\"}]}}\n",
      "469\n",
      "retry\n",
      "{\"error\":{\"error_code\":30,\"error_msg\":\"This profile is private\",\"request_params\":[{\"key\":\"oauth\",\"value\":\"1\"},{\"key\":\"method\",\"value\":\"wall.get\"},{\"key\":\"owner_id\",\"value\":\"1677356\"},{\"key\":\"v\",\"value\":\"5.92\"}]}}\n",
      "470\n",
      "471\n",
      "472\n",
      "473\n",
      "474\n",
      "475\n",
      "retry\n",
      "{\"error\":{\"error_code\":30,\"error_msg\":\"This profile is private\",\"request_params\":[{\"key\":\"oauth\",\"value\":\"1\"},{\"key\":\"method\",\"value\":\"wall.get\"},{\"key\":\"owner_id\",\"value\":\"1789344\"},{\"key\":\"v\",\"value\":\"5.92\"}]}}\n",
      "476\n",
      "retry\n",
      "{\"response\":{\"count\":1245,\"items\":[{\"id\":5515,\"from_id\":1789350,\"owner_id\":1789350,\"date\":1552600286,\"post_type\":\"post\",\"text\":\"\",\"copy_history\":[{\"id\":466490,\"owner_id\":-4100014,\"from_id\":-4100014,\"date\":1552593745,\"post_type\":\"post\",\"text\":\"Макулатура — Место (2019)\\nAbstract Hip-Hop (Russia)\\n\\nУ Макулатуры вышел новый альбом «Место». За звук отвечает бывший гитарист Дельфина Павел Додонов\\n\\nСлушать плейлистом (10 треков): https:\\/\\/vk.cc\\/9aeDXW\",\"attachments\":[{\"type\":\"photo\",\"photo\":{\"id\":456248827,\"album_id\":-7,\"owner_id\":-4100014,\"user_id\":100,\"sizes\":[{\"type\":\"m\",\"url\":\"https:\\/\\/sun1-11.userapi.com\\/c846020\\/v846020714\\/1cba02\\/sHNDKj6wEKw.jpg\",\"width\":130,\"height\":130},{\"type\":\"o\",\"url\":\"https:\\/\\/sun1-8.userapi.com\\/c846020\\/v846020714\\/1cba07\\/2EFY169YVJE.jpg\",\"width\":130,\"height\":130},{\"type\":\"p\",\"url\":\"https:\\/\\/sun1-18.userapi.com\\/c846020\\/v846020714\\/1cba08\\/2FTifYK2oxs.jpg\",\"width\":200,\"height\":200},{\"type\":\"q\",\"url\":\"https:\\/\\/sun1-17.userapi.com\\/c846020\\/v846020714\\/1cba09\\/hJt7T5_ux9g.jpg\",\"width\":320,\"height\":320},{\"type\":\"r\",\"url\":\"https:\\/\\/sun1-14.userapi.com\\/c846020\\/v846020714\\/1cba0a\\/EBeM_aj5X9A.jpg\",\"width\":510,\"height\":510},{\"type\":\"s\",\"url\":\"https:\\/\\/sun1-7.userapi.com\\/c846020\\/v846020714\\/1cba01\\/ROjkkhq410I.jpg\",\"width\":75,\"height\":75},{\"type\":\"w\",\"url\":\"https:\\/\\/sun1-24.userapi.com\\/c846020\\/v846020714\\/1cba06\\/6Mt7Co3dOek.jpg\",\"width\":1500,\"height\":1500},{\"type\":\"x\",\"url\":\"https:\\/\\/sun1-2.userapi.com\\/c846020\\/v846020714\\/1cba03\\/NJul6or22js.jpg\",\"width\":604,\"height\":604},{\"type\":\"y\",\"url\":\"https:\\/\\/sun1-18.userapi.com\\/c846020\\/v846020714\\/1cba04\\/no9wBF1_dmA.jpg\",\"width\":807,\"height\":807},{\"type\":\"z\",\"url\":\"https:\\/\\/sun1-9.userapi.com\\/c846020\\/v846020714\\/1cba05\\/tgKsXPTqSlA.jpg\",\"width\":1080,\"height\":1080}],\"text\":\"\",\"date\":1552593681,\"access_key\":\"b57505a95b6afdb7c6\"}},{\"type\":\"audio\",\"audio\":{\"id\":456242447,\"owner_id\":2000270083,\"artist\":\"макулатура\",\"title\":\"утро\",\"duration\":25,\"date\":1552593681,\"url\":\"https:\\/\\/vk.com\\/mp3\\/audio_api_unavailable.mp3\",\"album_id\":2,\"is_hq\":true,\"track_code\":\"58fc9d10sHbZL8_DVMMHuaqPHSR3Hkx7JTqWtRG3ZbzCLmBe91SDTYlv5JYBnWz3-w\",\"is_explicit\":false,\"main_artists\":[{\"name\":\"макулатура\",\"id\":\"8209838412840764188\",\"domain\":\"8209838412840764188\"}]}},{\"type\":\"audio\",\"audio\":{\"id\":456242309,\"owner_id\":2000270437,\"artist\":\"макулатура\",\"title\":\"любовь\",\"duration\":25,\"date\":1552593681,\"url\":\"https:\\/\\/vk.com\\/mp3\\/audio_api_unavailable.mp3\",\"album_id\":2,\"is_hq\":true,\"track_code\":\"db227ab3XzuEd2JqrtBmSg00PrUmCFOrbXnPxLaTVSO8WpIZM4psANQ3ST_7jg0EXA\",\"is_explicit\":true,\"main_artists\":[{\"name\":\"макулатура\",\"id\":\"8209838412840764188\",\"domain\":\"8209838412840764188\"}]}},{\"type\":\"audio\",\"audio\":{\"id\":456242431,\"owner_id\":2000269692,\"artist\":\"макулатура\",\"title\":\"все включено\",\"duration\":25,\"date\":1552593681,\"url\":\"https:\\/\\/vk.com\\/mp3\\/audio_api_unavailable.mp3\",\"album_id\":2,\"is_hq\":true,\"track_code\":\"86d9443b5GrD49iYwwcJPw2o_cbOXHivLxURwU9Ae2i-DXaoJpjXUZOj882WWWJxXA\",\"is_explicit\":false,\"main_artists\":[{\"name\":\"макулатура\",\"id\":\"8209838412840764188\",\"domain\":\"8209838412840764188\"}]}},{\"type\":\"audio\",\"audio\":{\"id\":456242389,\"owner_id\":2000268951,\"artist\":\"макулатура\",\"title\":\"кафедра\",\"duration\":25,\"date\":1552593681,\"url\":\"https:\\/\\/vk.com\\/mp3\\/audio_api_unavailable.mp3\",\"album_id\":2,\"is_hq\":true,\"track_code\":\"eabac7ecrKvzHqsWM4zBUGOxMyb_x4ZPdBsAwSrlYT5KraC2y7WfkKNegENm0qoeMg\",\"is_explicit\":false,\"main_artists\":[{\"name\":\"макулатура\",\"id\":\"8209838412840764188\",\"domain\":\"8209838412840764188\"}]}},{\"type\":\"audio\",\"audio\":{\"id\":456242741,\"owner_id\":2000267097,\"artist\":\"макулатура\",\"title\":\"пальцы\",\"duration\":25,\"date\":1552593681,\"url\":\"https:\\/\\/vk.com\\/mp3\\/audio_api_unavailable.mp3\",\"album_id\":2,\"is_hq\":true,\"track_code\":\"2cf2342b9IBEDG5hsK3omptCp3EIcBlSmW-GbACtqrRZ1cQW58vHuxRMRTTl84PUyg\",\"is_explicit\":false,\"main_artists\":[{\"name\":\"макулатура\",\"id\":\"8209838412840764188\",\"domain\":\"8209838412840764188\"}]}},{\"type\":\"audio\",\"audio\":{\"id\":456242193,\"owner_id\":2000270782,\"artist\":\"макулатура\",\"title\":\"мосты\",\"duration\":25,\"date\":1552593681,\"url\":\"https:\\/\\/vk.com\\/mp3\\/audio_api_unavailable.mp3\",\"album_id\":2,\"is_hq\":true,\"track_code\":\"936ea8d1Ew-uEpSbQJTxUQDsKbrZX6ls9jc8KQZNt2ynUaCSrF0gNP5Sv84VypofUQ\",\"is_explicit\":true,\"main_artists\":[{\"name\":\"макулатура\",\"id\":\"8209838412840764188\",\"domain\":\"8209838412840764188\"}]}},{\"type\":\"audio\",\"audio\":{\"id\":456242336,\"owner_id\":2000270327,\"artist\":\"макулатура\",\"title\":\"реп\",\"duration\":25,\"date\":1552593681,\"url\":\"https:\\/\\/vk.com\\/mp3\\/audio_api_unavailable.mp3\",\"album_id\":2,\"is_hq\":true,\"track_code\":\"ec974ab7_aFIkMjXkbSIF2KorNr_cS_WJrxD-ta-dRomr15sWZ_OmhjQ44LE6uNZMw\",\"is_explicit\":true,\"main_artists\":[{\"name\":\"макулатура\",\"id\":\"8209838412840764188\",\"domain\":\"8209838412840764188\"}]}},{\"type\":\"audio\",\"audio\":{\"id\":456242361,\"owner_id\":2000270476,\"artist\":\"макулатура\",\"title\":\"поддавки\",\"duration\":25,\"date\":1552593681,\"url\":\"https:\\/\\/vk.com\\/mp3\\/audio_api_unavailable.mp3\",\"album_id\":2,\"is_hq\":true,\"track_code\":\"df3708ce6DizQTFkdE3sEIC06z8lCzu_RLnQYx6zb7Uniq7x3i_bA-MBGjEhE4de0Q\",\"is_explicit\":true,\"main_artists\":[{\"name\":\"макулатура\",\"id\":\"8209838412840764188\",\"domain\":\"8209838412840764188\"}]}},{\"type\":\"audio\",\"audio\":{\"id\":456242438,\"owner_id\":2000268199,\"artist\":\"макулатура\",\"title\":\"последний год на земле\",\"duration\":25,\"date\":1552593681,\"url\":\"https:\\/\\/vk.com\\/mp3\\/audio_api_unavailable.mp3\",\"album_id\":2,\"is_hq\":true,\"track_code\":\"128bb7cfYy-qqgPlJCk7Ffuv-tJHVSWKzt4vZgg1RPQmJOpyatVQFPrqKLBxd1Bbqg\",\"is_explicit\":true,\"main_artists\":[{\"name\":\"макулатура\",\"id\":\"8209838412840764188\",\"domain\":\"8209838412840764188\"}]}}],\"post_source\":{\"type\":\"vk\"}}],\"post_source\":{\"type\":\"vk\"},\"comments\":{\"count\":0,\"can_post\":0,\"groups_can_post\":true},\"likes\":{\"count\":0,\"user_likes\":0,\"can_like\":1,\"can_publish\":1},\"reposts\":{\"count\":0,\"user_reposted\":0},\"views\":{\"count\":19},\"is_favorite\":false},{\"id\":5514,\"from_id\":1789350,\"owner_id\":1789350,\"date\":1551684318,\"post_type\":\"post\",\"text\":\"\",\"copy_history\":[{\"id\":100615,\"owner_id\":-26457580,\"from_id\":-26457580,\"date\":1551433441,\"post_type\":\"post\",\"text\":\"[club100710798|Apodemus] — Trippy Road (2019)\\n\\nСтонер, рок, жир в лайв-видео нижегородского космического трио [club100710798|Apodemus].\\n\\n📎 #ВкоментахВсё@stonermusic 👇\\n\\n#stoner #psychedelic_rock #instrumental\",\"attachments\":[{\"type\":\"video\",\"video\":{\"id\":456239330,\"owner_id\":-31641338,\"title\":\"Apodemus — Trippy Road (live @ Джао Да 13.01.2019)\",\"duration\":295,\"description\":\"Band: https:\\/\\/apodemus.bandcamp.com\\/\\nEvent: https:\\/\\/www.csbr-rock.com\\/news\\/tour-2019-report\\nProd by Leftography: https:\\/\\/vk.com\\/leftography\",\"date\":1551344678,\"comments\":0,\"views\":338,\"photo_130\":\"https:\\/\\/pp.userapi.com\\/c848416\\/v848416771\\/133d24\\/1x-4jWZhA80.jpg\",\"photo_320\":\"https:\\/\\/pp.userapi.com\\/c848416\\/v848416771\\/133d26\\/gSe3LtPHFqE.jpg\",\"photo_800\":\"https:\\/\\/pp.userapi.com\\/c848416\\/v848416771\\/133d27\\/wjXLgSC2ftE.jpg\",\"photo_640\":\"https:\\/\\/pp.userapi.com\\/c848416\\/v848416771\\/133d27\\/wjXLgSC2ftE.jpg\",\"is_favorite\":false,\"access_key\":\"accf89f50074413206\",\"platform\":\"YouTube\",\"can_add\":1,\"track_code\":\"video_d3028b29eI56xwtuHSlLVrA7AluycwkPJdv0ZzSrbre2Y7PNA3BPrGP0Og\"}}],\"post_source\":{\"type\":\"vk\"}}],\"post_source\":{\"type\":\"vk\"},\"comments\":{\"count\":0,\"can_post\":0,\"groups_can_post\":true},\"likes\":{\"count\":0,\"user_likes\":0,\"can_like\":1,\"can_publish\":1},\"reposts\":{\"count\":0,\"user_reposted\":0},\"views\":{\"count\":18},\"is_favorite\":false},{\"id\":5513,\"from_id\":1789350,\"owner_id\":1789350,\"date\":1551185632,\"post_type\":\"post\",\"text\":\"\",\"attachments\":[{\"type\":\"photo\",\"photo\":{\"id\":456239287,\"album_id\":-7,\"owner_id\":1789350,\"sizes\":[{\"type\":\"m\",\"url\":\"https:\\/\\/pp.userapi.com\\/c847221\\/v847221242\\/1ac6a3\\/p-bdAo1yB4A.jpg\",\"width\":89,\"height\":130},{\"type\":\"o\",\"url\":\"https:\\/\\/pp.userapi.com\\/c847221\\/v847221242\\/1ac6a5\\/me1Qn2kmzps.jpg\",\"width\":130,\"height\":191},{\"type\":\"p\",\"url\":\"https:\\/\\/pp.userapi.com\\/c847221\\/v847221242\\/1ac6a6\\/JSTA4tlqioU.jpg\",\"width\":200,\"height\":293},{\"type\":\"q\",\"url\":\"https:\\/\\/pp.userapi.com\\/c847221\\/v847221242\\/1ac6a7\\/t_S0136Sdms.jpg\",\"width\":320,\"height\":469},{\"type\":\"r\",\"url\":\"https:\\/\\/pp.userapi.com\\/c847221\\/v847221242\\/1ac6a8\\/jfJ5pBMqwvk.jpg\",\"width\":412,\"height\":604},{\"type\":\"s\",\"url\":\"https:\\/\\/pp.userapi.com\\/c847221\\/v847221242\\/1ac6a2\\/eloLxT9AzUY.jpg\",\"width\":51,\"height\":75},{\"type\":\"x\",\"url\":\"https:\\/\\/pp.userapi.com\\/c847221\\/v847221242\\/1ac6a4\\/X5nod4imrHg.jpg\",\"width\":412,\"height\":604}],\"text\":\"\",\"date\":1551185629,\"access_key\":\"35e424047419e8981a\"}}],\"post_source\":{\"type\":\"vk\"},\"comments\":{\"count\":0,\"can_post\":0,\"groups_can_post\":true},\"likes\":{\"count\":1,\"user_likes\":0,\"can_like\":1,\"can_publish\":1},\"reposts\":{\"count\":0,\"user_reposted\":0},\"views\":{\"count\":49},\"is_favorite\":false},{\"id\":5512,\"from_id\":1789350,\"owner_id\":1789350,\"date\":1550396245,\"post_type\":\"post\",\"text\":\"\",\"copy_history\":[{\"id\":100462,\"owner_id\":-26457580,\"from_id\":-26457580,\"date\":1550387149,\"post_type\":\"post\",\"text\":\"Skraeckoedlan - Eorþe (2019)\\n\\nНачинайте воскресное утро правильно - с нового альбома шведских любителей прога, которые совместно с фантастом Нильсом Хоканссоном (\\\"Eorþe\\\" (Землю, то бишь про нашему) его произведение сделанное под Лавкрафта специально), воплотили это все на записи. \\n\\nссылки, mp3 и flac в комментариях 👇 \\n#stoner #progressive #psychedelic #Sweden | #killsetband\",\"attachments\":[{\"type\":\"photo\",\"photo\":{\"id\":456241809,\"album_id\":-7,\"owner_id\":-26457580,\"user_id\":100,\"sizes\":[{\"type\":\"m\",\"url\":\"https:\\/\\/pp.userapi.com\\/c845521\\/v845521095\\/1a8053\\/zeaTmVZEv_g.jpg\",\"width\":130,\"height\":130},{\"type\":\"o\",\"url\":\"https:\\/\\/pp.userapi.com\\/c845521\\/v845521095\\/1a8058\\/ucVv8I7aNCU.jpg\",\"width\":130,\"height\":130},{\"type\":\"p\",\"url\":\"https:\\/\\/pp.userapi.com\\/c845521\\/v845521095\\/1a8059\\/_5eGHS9_lfo.jpg\",\"width\":200,\"height\":200},{\"type\":\"q\",\"url\":\"https:\\/\\/pp.userapi.com\\/c845521\\/v845521095\\/1a805a\\/w_9yLF6sW6c.jpg\",\"width\":320,\"height\":320},{\"type\":\"r\",\"url\":\"https:\\/\\/pp.userapi.com\\/c845521\\/v845521095\\/1a805b\\/C592Ypaa8Ac.jpg\",\"width\":510,\"height\":510},{\"type\":\"s\",\"url\":\"https:\\/\\/pp.userapi.com\\/c845521\\/v845521095\\/1a8052\\/UlpMS5ZXO1g.jpg\",\"width\":75,\"height\":75},{\"type\":\"w\",\"url\":\"https:\\/\\/pp.userapi.com\\/c845521\\/v845521095\\/1a8057\\/OEfZMS7eJvM.jpg\",\"width\":1400,\"height\":1400},{\"type\":\"x\",\"url\":\"https:\\/\\/pp.userapi.com\\/c845521\\/v845521095\\/1a8054\\/HDGuXLXxRxw.jpg\",\"width\":604,\"height\":604},{\"type\":\"y\",\"url\":\"https:\\/\\/pp.userapi.com\\/c845521\\/v845521095\\/1a8055\\/1tu4AXA9Hu0.jpg\",\"width\":807,\"height\":807},{\"type\":\"z\",\"url\":\"https:\\/\\/pp.userapi.com\\/c845521\\/v845521095\\/1a8056\\/rjYQIsMYvVk.jpg\",\"width\":1080,\"height\":1080}],\"text\":\"\",\"date\":1550387149,\"post_id\":100462,\"access_key\":\"d997575437bde4abd6\"}},{\"type\":\"audio\",\"audio\":{\"id\":456242217,\"owner_id\":2000218638,\"artist\":\"Skraeckoedlan\",\"title\":\"Guldåldern\",\"duration\":25,\"date\":1550387149,\"url\":\"https:\\/\\/vk.com\\/mp3\\/audio_api_unavailable.mp3\",\"genre_id\":1,\"is_hq\":true,\"track_code\":\"76778d17fDXWSVz4KYPfnLQ-7DHUdTq2R7aOKIuzc6K0LzDZzA5KCYIFGMZ727Df42A\",\"is_explicit\":false}},{\"type\":\"audio\",\"audio\":{\"id\":456242938,\"owner_id\":2000215780,\"artist\":\"Skraeckoedlan\",\"title\":\"Kung Mammut\",\"duration\":25,\"date\":1550387149,\"url\":\"https:\\/\\/vk.com\\/mp3\\/audio_api_unavailable.mp3\",\"genre_id\":1,\"is_hq\":true,\"track_code\":\"3a1dbc93MrsX-56D_L8pm2ieJJ1LANUku0ykVY-XZZ_738zsjxsEh0O32r2u50bYP8A\",\"is_explicit\":false}},{\"type\":\"audio\",\"audio\":{\"id\":456242696,\"owner_id\":2000217291,\"artist\":\"Skraeckoedlan\",\"title\":\"Creature of Doggerland\",\"duration\":25,\"date\":1550387149,\"url\":\"https:\\/\\/vk.com\\/mp3\\/audio_api_unavailable.mp3\",\"genre_id\":1,\"is_hq\":true,\"track_code\":\"1ccd4c3fgzPhVdzehUEgkjjoL30rVnnln7xZlPaTaPuhZYCBKJq1D7UZmODXGU_Rb7Y\",\"is_explicit\":false}},{\"type\":\"audio\",\"audio\":{\"id\":456242438,\"owner_id\":2000218074,\"artist\":\"Skraeckoedlan\",\"title\":\"Angelica\",\"duration\":25,\"date\":1550387149,\"url\":\"https:\\/\\/vk.com\\/mp3\\/audio_api_unavailable.mp3\",\"genre_id\":1,\"is_hq\":true,\"track_code\":\"aed242dak1Rd8iAnG0JQQArzikz4bulTIESi_o-M-FQlVh5YxCWlaAm-ZBlJGj8DXa0\",\"is_explicit\":false}},{\"type\":\"audio\",\"audio\":{\"id\":456242227,\"owner_id\":2000218905,\"artist\":\"Skraeckoedlan\",\"title\":\"Mammutkungens Barn\",\"duration\":25,\"date\":1550387149,\"url\":\"https:\\/\\/vk.com\\/mp3\\/audio_api_unavailable.mp3\",\"genre_id\":1,\"is_hq\":true,\"track_code\":\"26f00740kVfJkf7lQSpjXUzj3aT_7uAbkitb932yC0Rlp4wdJvOna53dutsTcgweG70\",\"is_explicit\":false}},{\"type\":\"audio\",\"audio\":{\"id\":456242508,\"owner_id\":2000217868,\"artist\":\"Skraeckoedlan\",\"title\":\"Elfenbenssalarna\",\"duration\":25,\"date\":1550387149,\"url\":\"https:\\/\\/vk.com\\/mp3\\/audio_api_unavailable.mp3\",\"genre_id\":1,\"is_hq\":true,\"track_code\":\"1eab0829iP7UkKKxauThW_VJey87GXaXIYhoK9NPydWTBf79mGW-woDc5o84vI4Yohc\",\"is_explicit\":false}},{\"type\":\"audio\",\"audio\":{\"id\":456242800,\"owner_id\":2000216077,\"artist\":\"Skraeckoedlan\",\"title\":\"Tentakler & Betar\",\"duration\":25,\"date\":1550387149,\"url\":\"https:\\/\\/vk.com\\/mp3\\/audio_api_unavailable.mp3\",\"genre_id\":1,\"is_hq\":true,\"track_code\":\"5d1f05eeHjZ54gXAV92FcRmIO8NwnJ0RV99PpulNxchhleznS3goCi2uQf4FheoyTtY\",\"is_explicit\":false}},{\"type\":\"audio\",\"audio\":{\"id\":456242833,\"owner_id\":2000215706,\"artist\":\"Skraeckoedlan\",\"title\":\"Angra mainyu\",\"duration\":25,\"date\":1550387149,\"url\":\"https:\\/\\/vk.com\\/mp3\\/audio_api_unavailable.mp3\",\"genre_id\":1,\"is_hq\":true,\"track_code\":\"a45fe1e20jmoCWW_cE6yx1igZOZqNT10KqVOEkxYfmwQVQjENjnkBfxFIYEiFt2ED_4\",\"is_explicit\":false}}],\"post_source\":{\"type\":\"vk\"}}],\"post_source\":{\"type\":\"vk\"},\"comments\":{\"count\":0,\"can_post\":0,\"groups_can_post\":true},\"likes\":{\"count\":0,\"user_likes\":0,\"can_like\":1,\"can_publish\":1},\"reposts\":{\"count\":0,\"user_reposted\":0},\"views\":{\"count\":18},\"is_favorite\":false},{\"id\":5511,\"from_id\":1789350,\"owner_id\":1789350,\"date\":1550248334,\"post_type\":\"post\",\"text\":\"\",\"attachments\":[{\"type\":\"photo\",\"photo\":{\"id\":456239286,\"album_id\":-7,\"owner_id\":1789350,\"sizes\":[{\"type\":\"m\",\"url\":\"https:\\/\\/pp.userapi.com\\/c850528\\/v850528846\\/b8f3e\\/bOxOClfvYik.jpg\",\"width\":130,\"height\":130},{\"type\":\"o\",\"url\":\"https:\\/\\/pp.userapi.com\\/c850528\\/v850528846\\/b8f42\\/Cp4yldG54pU.jpg\",\"width\":130,\"height\":130},{\"type\":\"p\",\"url\":\"https:\\/\\/pp.userapi.com\\/c850528\\/v850528846\\/b8f43\\/2yY6-7TIvKU.jpg\",\"width\":200,\"height\":200},{\"type\":\"q\",\"url\":\"https:\\/\\/pp.userapi.com\\/c850528\\/v850528846\\/b8f44\\/aodoZsMM60A.jpg\",\"width\":320,\"height\":320},{\"type\":\"r\",\"url\":\"https:\\/\\/pp.userapi.com\\/c850528\\/v850528846\\/b8f45\\/m-1XMat4W5g.jpg\",\"width\":510,\"height\":510},{\"type\":\"s\",\"url\":\"https:\\/\\/pp.userapi.com\\/c850528\\/v850528846\\/b8f3d\\/6-4IJ1Nf9eA.jpg\",\"width\":75,\"height\":75},{\"type\":\"x\",\"url\":\"https:\\/\\/pp.userapi.com\\/c850528\\/v850528846\\/b8f3f\\/XPDWlbj0VOs.jpg\",\"width\":604,\"height\":604},{\"type\":\"y\",\"url\":\"https:\\/\\/pp.userapi.com\\/c850528\\/v850528846\\/b8f40\\/CmdfYYMOWwo.jpg\",\"width\":807,\"height\":807},{\"type\":\"z\",\"url\":\"https:\\/\\/pp.userapi.com\\/c850528\\/v850528846\\/b8f41\\/27NhLVz4N2Y.jpg\",\"width\":1080,\"height\":1080}],\"text\":\"\",\"date\":1550248330,\"access_key\":\"9ddf136377c2d63338\"}}],\"post_source\":{\"type\":\"vk\"},\"comments\":{\"count\":0,\"can_post\":0,\"groups_can_post\":true},\"likes\":{\"count\":1,\"user_likes\":0,\"can_like\":1,\"can_publish\":1},\"reposts\":{\"count\":0,\"user_reposted\":0},\"views\":{\"count\":83},\"is_favorite\":false},{\"id\":5510,\"from_id\":1789350,\"owner_id\":1789350,\"date\":1549823586,\"post_type\":\"post\",\"text\":\"\",\"copy_history\":[{\"id\":100374,\"owner_id\":-26457580,\"from_id\":-26457580,\"date\":1549821868,\"post_type\":\"post\",\"text\":\"Jagannatha — Samsara (2019)\\n\\nФранцузы вернулись с новой работой.\\n\\nссылки, mp3 в комментариях 👇 \\n#stoner #psychedelic #instrumental | #killsetband\",\"attachments\":[{\"type\":\"photo\",\"photo\":{\"id\":456241790,\"album_id\":-7,\"owner_id\":-26457580,\"user_id\":100,\"sizes\":[{\"type\":\"m\",\"url\":\"https:\\/\\/pp.userapi.com\\/c845016\\/v845016991\\/1a1df2\\/qObvJT_9e10.jpg\",\"width\":130,\"height\":120},{\"type\":\"o\",\"url\":\"https:\\/\\/pp.userapi.com\\/c845016\\/v845016991\\/1a1df7\\/K0VY4i3uRxE.jpg\",\"width\":130,\"height\":120},{\"type\":\"p\",\"url\":\"https:\\/\\/pp.userapi.com\\/c845016\\/v845016991\\/1a1df8\\/_vpV9kDV5Y0.jpg\",\"width\":200,\"height\":185},{\"type\":\"q\",\"url\":\"https:\\/\\/pp.userapi.com\\/c845016\\/v845016991\\/1a1df9\\/cSVllsJrTwM.jpg\",\"width\":320,\"height\":296},{\"type\":\"r\",\"url\":\"https:\\/\\/pp.userapi.com\\/c845016\\/v845016991\\/1a1dfa\\/-PuKvOZ35zg.jpg\",\"width\":510,\"height\":472},{\"type\":\"s\",\"url\":\"https:\\/\\/pp.userapi.com\\/c845016\\/v845016991\\/1a1df1\\/5AcG5snCjZM.jpg\",\"width\":75,\"height\":69},{\"type\":\"w\",\"url\":\"https:\\/\\/pp.userapi.com\\/c845016\\/v845016991\\/1a1df6\\/pEFYNdgsmb8.jpg\",\"width\":1200,\"height\":1110},{\"type\":\"x\",\"url\":\"https:\\/\\/pp.userapi.com\\/c845016\\/v845016991\\/1a1df3\\/kdtjVxQj-9g.jpg\",\"width\":604,\"height\":558},{\"type\":\"y\",\"url\":\"https:\\/\\/pp.userapi.com\\/c845016\\/v845016991\\/1a1df4\\/7iPa4Shcq-g.jpg\",\"width\":807,\"height\":746},{\"type\":\"z\",\"url\":\"https:\\/\\/pp.userapi.com\\/c845016\\/v845016991\\/1a1df5\\/7P9VbBbSV1A.jpg\",\"width\":1168,\"height\":1080}],\"text\":\"\",\"date\":1549821868,\"post_id\":100374,\"access_key\":\"d28366916830b3bee7\"}},{\"type\":\"audio\",\"audio\":{\"id\":456242749,\"owner_id\":2000203751,\"artist\":\"Jagannatha\",\"title\":\"Sooraj\",\"duration\":25,\"date\":1549821868,\"url\":\"https:\\/\\/vk.com\\/mp3\\/audio_api_unavailable.mp3\",\"genre_id\":1,\"is_hq\":true,\"track_code\":\"e9a1420dDUHUMogsvZUwkp9GlpVwDO5xLVUbbY1zqPPd1doPi7o7fYB-zBLvzV_WyR4\",\"is_explicit\":false}},{\"type\":\"audio\",\"audio\":{\"id\":456242904,\"owner_id\":2000202706,\"artist\":\"Jagannatha\",\"title\":\"Chandrama\",\"duration\":25,\"date\":1549821868,\"url\":\"https:\\/\\/vk.com\\/mp3\\/audio_api_unavailable.mp3\",\"genre_id\":1,\"is_hq\":true,\"track_code\":\"b20bef97x6UI7w6UmbHUXAtCR-4qxFZtGCVOotp6yyelBBRbu8vxmVyjSqrL6bsYXRo\",\"is_explicit\":false}},{\"type\":\"audio\",\"audio\":{\"id\":456242656,\"owner_id\":2000204622,\"artist\":\"Jagannatha\",\"title\":\"Brahmaand\",\"duration\":25,\"date\":1549821868,\"url\":\"https:\\/\\/vk.com\\/mp3\\/audio_api_unavailable.mp3\",\"genre_id\":1,\"is_hq\":true,\"track_code\":\"215d1543BIDUExKsM5eskGFVxyWEWl-V7qeUecq-YWq_4Pi5KoQyvIBfVpJhz8PUNw0\",\"is_explicit\":false}}],\"post_source\":{\"type\":\"vk\"}}],\"post_source\":{\"type\":\"vk\"},\"comments\":{\"count\":0,\"can_post\":0,\"groups_can_post\":true},\"likes\":{\"count\":0,\"user_likes\":0,\"can_like\":1,\"can_publish\":1},\"reposts\":{\"count\":0,\"user_reposted\":0},\"views\":{\"count\":19},\"is_favorite\":false},{\"id\":5509,\"from_id\":1789350,\"owner_id\":1789350,\"date\":1549128719,\"post_type\":\"post\",\"text\":\"\",\"copy_history\":[{\"id\":100226,\"owner_id\":-26457580,\"from_id\":-26457580,\"date\":1549027201,\"post_type\":\"post\",\"text\":\"[club160046507|Dog Chasing Sun] — Ghost of the South (2019)\\n\\nИнструментальный стоунер дум с цельными кусками соутерна и психодела.\\n\\nСсылки, плейлист, mp3 и flac в камментах 👇 \\n#Stoner_rock #Southern #Doom #Dog_Chasing_Sun #instrumental #Stoner_psych\",\"attachments\":[{\"type\":\"photo\",\"photo\":{\"id\":456241764,\"album_id\":-7,\"owner_id\":-26457580,\"user_id\":100,\"sizes\":[{\"type\":\"m\",\"url\":\"https:\\/\\/pp.userapi.com\\/c846417\\/v846417649\\/18b3b5\\/1wRQDCWHeAI.jpg\",\"width\":130,\"height\":130},{\"type\":\"o\",\"url\":\"https:\\/\\/pp.userapi.com\\/c846417\\/v846417649\\/18b3ba\\/j04uBm7-8ts.jpg\",\"width\":130,\"height\":130},{\"type\":\"p\",\"url\":\"https:\\/\\/pp.userapi.com\\/c846417\\/v846417649\\/18b3bb\\/6diyPkSdLGY.jpg\",\"width\":200,\"height\":200},{\"type\":\"q\",\"url\":\"https:\\/\\/pp.userapi.com\\/c846417\\/v846417649\\/18b3bc\\/qWKuXa0fcDY.jpg\",\"width\":320,\"height\":320},{\"type\":\"r\",\"url\":\"https:\\/\\/pp.userapi.com\\/c846417\\/v846417649\\/18b3bd\\/FSUkN_mgXCE.jpg\",\"width\":510,\"height\":510},{\"type\":\"s\",\"url\":\"https:\\/\\/pp.userapi.com\\/c846417\\/v846417649\\/18b3b4\\/2qy8twGPjqQ.jpg\",\"width\":75,\"height\":75},{\"type\":\"w\",\"url\":\"https:\\/\\/pp.userapi.com\\/c846417\\/v846417649\\/18b3b9\\/fKW_Vd-QxAI.jpg\",\"width\":1608,\"height\":1608},{\"type\":\"x\",\"url\":\"https:\\/\\/pp.userapi.com\\/c846417\\/v846417649\\/18b3b6\\/YL9Q7zhev2U.jpg\",\"width\":604,\"height\":604},{\"type\":\"y\",\"url\":\"https:\\/\\/pp.userapi.com\\/c846417\\/v846417649\\/18b3b7\\/Tz72Ft9iX2c.jpg\",\"width\":807,\"height\":807},{\"type\":\"z\",\"url\":\"https:\\/\\/pp.userapi.com\\/c846417\\/v846417649\\/18b3b8\\/8oBDNEKpcso.jpg\",\"width\":1080,\"height\":1080}],\"text\":\"\",\"date\":1548939897,\"access_key\":\"2bb541647037a2d32b\"}},{\"type\":\"audio\",\"audio\":{\"id\":456242783,\"owner_id\":2000184393,\"artist\":\"Dog Chasing Sun\",\"title\":\"Red Dead Redemption\",\"duration\":25,\"date\":1549022145,\"url\":\"https:\\/\\/vk.com\\/mp3\\/audio_api_unavailable.mp3\",\"album_id\":2,\"is_hq\":true,\"track_code\":\"e5f24a4ebWUUODzqLNnFFOmZUFO3UGHLomkVYY3zsq1SeucW_x5bWUB0eNR-gapRusM\",\"is_explicit\":false}},{\"type\":\"audio\",\"audio\":{\"id\":456242471,\"owner_id\":2000185896,\"artist\":\"Dog Chasing Sun\",\"title\":\"Dog Days\",\"duration\":25,\"date\":1549022145,\"url\":\"https:\\/\\/vk.com\\/mp3\\/audio_api_unavailable.mp3\",\"album_id\":2,\"is_hq\":true,\"track_code\":\"db5fee55Nj7cdSlm0xA7N8mImcPULEJagYGWu9X8mNub1iIXsvkAAog5bViBSFRymtI\",\"is_explicit\":false}},{\"type\":\"audio\",\"audio\":{\"id\":456242672,\"owner_id\":2000184914,\"artist\":\"Dog Chasing Sun\",\"title\":\"Sabbath\",\"duration\":25,\"date\":1549022145,\"url\":\"https:\\/\\/vk.com\\/mp3\\/audio_api_unavailable.mp3\",\"album_id\":2,\"is_hq\":true,\"track_code\":\"a422a3d7Sdse42fxZtmE1r5Wu6gks6k-j4ZcPWQYV6QnVLiwOG5_50qvI880geuT7Qw\",\"is_explicit\":false}},{\"type\":\"audio\",\"audio\":{\"id\":456242326,\"owner_id\":2000186343,\"artist\":\"Dog Chasing Sun\",\"title\":\"Mushroom Shaman\",\"duration\":25,\"date\":1549022145,\"url\":\"https:\\/\\/vk.com\\/mp3\\/audio_api_unavailable.mp3\",\"album_id\":2,\"is_hq\":true,\"track_code\":\"3b80ede2_VXVxfuoafh7TyjIEJxr4Dg-QU7ljki6EPeiL0a5v6TLaYGJv5Y7oBQKe5I\",\"is_explicit\":false}},{\"type\":\"audio\",\"audio\":{\"id\":456242208,\"owner_id\":2000187548,\"artist\":\"Dog Chasing Sun\",\"title\":\"Weed Powered Spaceship\",\"duration\":25,\"date\":1549022145,\"url\":\"https:\\/\\/vk.com\\/mp3\\/audio_api_unavailable.mp3\",\"album_id\":2,\"is_hq\":true,\"track_code\":\"036e8a45A6cPvdKCS_voGg9CL9tpVy4uYisAjpL0UhQ8gLC0Qbo1m1vxlrwZo4dfXBg\",\"is_explicit\":false}},{\"type\":\"audio\",\"audio\":{\"id\":456242647,\"owner_id\":2000184569,\"artist\":\"Dog Chasing Sun\",\"title\":\"Spiritual Healing\",\"duration\":25,\"date\":1549022145,\"url\":\"https:\\/\\/vk.com\\/mp3\\/audio_api_unavailable.mp3\",\"album_id\":2,\"is_hq\":true,\"track_code\":\"28359335W8tw2UYwwj3AZB9bItpaEpFBtSBMp5HSJEA29cz3bOFt9ySVAg6QZa8hTAE\",\"is_explicit\":false}},{\"type\":\"audio\",\"audio\":{\"id\":456242267,\"owner_id\":2000186758,\"artist\":\"Dog Chasing Sun\",\"title\":\"The Roadrunner\",\"duration\":25,\"date\":1549022145,\"url\":\"https:\\/\\/vk.com\\/mp3\\/audio_api_unavailable.mp3\",\"album_id\":2,\"is_hq\":true,\"track_code\":\"ad83ee72zAcotDVr3IXbFzOjtelFxSMuQW99HKifnL9eUSYrfKH6O3z4cVWO3bRSYPk\",\"is_explicit\":false}},{\"type\":\"audio\",\"audio\":{\"id\":456242250,\"owner_id\":2000187444,\"artist\":\"Dog Chasing Sun\",\"title\":\"Pale Rider\",\"duration\":25,\"date\":1549022145,\"url\":\"https:\\/\\/vk.com\\/mp3\\/audio_api_unavailable.mp3\",\"album_id\":2,\"is_hq\":true,\"track_code\":\"8d429e09laHIQN_93ptJSaDAmWzNCMijxee6X4D6no7Ya5Xy5xqjnZwMm8OMwyYM85o\",\"is_explicit\":false}},{\"type\":\"audio\",\"audio\":{\"id\":456242506,\"owner_id\":2000185467,\"artist\":\"Dog Chasing Sun\",\"title\":\"The Final Chapter\",\"duration\":25,\"date\":1549022145,\"url\":\"https:\\/\\/vk.com\\/mp3\\/audio_api_unavailable.mp3\",\"album_id\":2,\"is_hq\":true,\"track_code\":\"7e64ef4bC04dqHrgyHdxXsJYqPAepee7hYTtExE7TCts-8I6yTk9cknkPt6aLx4bkQI\",\"is_explicit\":false}}],\"post_source\":{\"type\":\"vk\"}}],\"post_source\":{\"type\":\"vk\"},\"comments\":{\"count\":0,\"can_post\":0,\"groups_can_post\":true},\"likes\":{\"count\":0,\"user_likes\":0,\"can_like\":1,\"can_publish\":1},\"reposts\":{\"count\":0,\"user_reposted\":0},\"views\":{\"count\":24},\"is_favorite\":false},{\"id\":5508,\"from_id\":1789350,\"owner_id\":1789350,\"date\":1549097231,\"post_type\":\"post\",\"text\":\"\",\"copy_history\":[{\"id\":100148,\"owner_id\":-26457580,\"from_id\":-26457580,\"date\":1548596427,\"post_type\":\"post\",\"text\":\"ÖfÖ Am — Tales from Outerspace: An Octaman's Odyssey (2018)\\n\\n2-й альбом трио из Монпелье\\n\\nссылки, плейлист, mp3 и flac в комментариях👇\\n#instrumental #stoner_rock #stoner_psych #France | #fadeaway\",\"signer_id\":45304509,\"attachments\":[{\"type\":\"photo\",\"photo\":{\"id\":456241751,\"album_id\":-7,\"owner_id\":-26457580,\"user_id\":100,\"sizes\":[{\"type\":\"m\",\"url\":\"https:\\/\\/pp.userapi.com\\/c846216\\/v846216631\\/18ed78\\/FTbPfhV_I70.jpg\",\"width\":130,\"height\":130},{\"type\":\"o\",\"url\":\"https:\\/\\/pp.userapi.com\\/c846216\\/v846216631\\/18ed7d\\/uUi26DYP4i0.jpg\",\"width\":130,\"height\":130},{\"type\":\"p\",\"url\":\"https:\\/\\/pp.userapi.com\\/c846216\\/v846216631\\/18ed7e\\/nM7nOE4HY7g.jpg\",\"width\":200,\"height\":200},{\"type\":\"q\",\"url\":\"https:\\/\\/pp.userapi.com\\/c846216\\/v846216631\\/18ed7f\\/VOXSisoEePo.jpg\",\"width\":320,\"height\":320},{\"type\":\"r\",\"url\":\"https:\\/\\/pp.userapi.com\\/c846216\\/v846216631\\/18ed80\\/u0Z2xD0PHAE.jpg\",\"width\":510,\"height\":510},{\"type\":\"s\",\"url\":\"https:\\/\\/pp.userapi.com\\/c846216\\/v846216631\\/18ed77\\/uQv_llziC-s.jpg\",\"width\":75,\"height\":75},{\"type\":\"w\",\"url\":\"https:\\/\\/pp.userapi.com\\/c846216\\/v846216631\\/18ed7c\\/RqpTJVSkZhk.jpg\",\"width\":1400,\"height\":1400},{\"type\":\"x\",\"url\":\"https:\\/\\/pp.userapi.com\\/c846216\\/v846216631\\/18ed79\\/4rT7DV99Nsw.jpg\",\"width\":604,\"height\":604},{\"type\":\"y\",\"url\":\"https:\\/\\/pp.userapi.com\\/c846216\\/v846216631\\/18ed7a\\/G9U7IQG7lAk.jpg\",\"width\":807,\"height\":807},{\"type\":\"z\",\"url\":\"https:\\/\\/pp.userapi.com\\/c846216\\/v846216631\\/18ed7b\\/aBPitx5f08Q.jpg\",\"width\":1080,\"height\":1080}],\"text\":\"\",\"date\":1548596427,\"post_id\":100148,\"access_key\":\"3fe6fae3733952b2a3\"}},{\"type\":\"audio\",\"audio\":{\"id\":456242768,\"owner_id\":2000174323,\"artist\":\"ÖfÖ Am\",\"title\":\"Bamakö\",\"duration\":25,\"date\":1548596427,\"url\":\"https:\\/\\/vk.com\\/mp3\\/audio_api_unavailable.mp3\",\"is_hq\":true,\"track_code\":\"856ef14f1Gfha-ia34Iv3VQ8xD_Qw5qFaCWG7-PjDHjjGYEhCXPiW7UnrKSN2kCbAWg\",\"is_explicit\":false}},{\"type\":\"audio\",\"audio\":{\"id\":456242554,\"owner_id\":2000175532,\"artist\":\"ÖfÖ Am\",\"title\":\"Gergövie\",\"duration\":25,\"date\":1548596427,\"url\":\"https:\\/\\/vk.com\\/mp3\\/audio_api_unavailable.mp3\",\"is_hq\":true,\"track_code\":\"3c473f73bfP4GL_sMiU6u4FpVrzxWm3mU0tVyCBsq7CxuvwShxxbz6xU-9JgfVX91D0\",\"is_explicit\":false}},{\"type\":\"audio\",\"audio\":{\"id\":456242304,\"owner_id\":2000176799,\"artist\":\"ÖfÖ Am\",\"title\":\"Eddy's Funeral\",\"duration\":25,\"date\":1548596427,\"url\":\"https:\\/\\/vk.com\\/mp3\\/audio_api_unavailable.mp3\",\"is_hq\":true,\"track_code\":\"36a65c63Vu_RJXCPp-ybAJ4sN8bsukm9J_XiC2GtipGJgzJRVMtg04VpNLH1tPRGy3g\",\"is_explicit\":false}},{\"type\":\"audio\",\"audio\":{\"id\":456242442,\"owner_id\":2000175917,\"artist\":\"ÖfÖ Am\",\"title\":\"Eye öf the Öctopus\",\"duration\":25,\"date\":1548596427,\"url\":\"https:\\/\\/vk.com\\/mp3\\/audio_api_unavailable.mp3\",\"is_hq\":true,\"track_code\":\"3c002e7bIpHyktHNQMNsQPgKBSzLkS2QeFDkDwxkoTk-y9c8CogUrabelfMSmwMGrV4\",\"is_explicit\":false}},{\"type\":\"audio\",\"audio\":{\"id\":456242610,\"owner_id\":2000174744,\"artist\":\"ÖfÖ Am\",\"title\":\"Tears öf Cönstellation\",\"duration\":25,\"date\":1548596427,\"url\":\"https:\\/\\/vk.com\\/mp3\\/audio_api_unavailable.mp3\",\"is_hq\":true,\"track_code\":\"fc4ec602Vq7ndFFdQu8bm2UbBsz5_x8vhAIRdqxmjNWTT96hHOdgkrM4FWMQt3TdME8\",\"is_explicit\":false}},{\"type\":\"audio\",\"audio\":{\"id\":456242079,\"owner_id\":2000177789,\"artist\":\"ÖfÖ Am\",\"title\":\"Terror Is Öctaman\",\"duration\":25,\"date\":1548596427,\"url\":\"https:\\/\\/vk.com\\/mp3\\/audio_api_unavailable.mp3\",\"is_hq\":true,\"track_code\":\"1358ad86ob4-1J2NibTmFFTVs77K6IxPDLzdoOrXtKjXRBV-ZE-XgmqY2bPb7IlSAYE\",\"is_explicit\":false}},{\"type\":\"audio\",\"audio\":{\"id\":456242775,\"owner_id\":2000174298,\"artist\":\"ÖfÖ Am\",\"title\":\"Symphony öf Tentacles\",\"duration\":25,\"date\":1548596427,\"url\":\"https:\\/\\/vk.com\\/mp3\\/audio_api_unavailable.mp3\",\"is_hq\":true,\"track_code\":\"d9ddfb84vXj5va53SikFUN__gnXWYwXufwaBfLdu8UQsycvL09uLRK3x6kkYcWoWiqs\",\"is_explicit\":false}},{\"type\":\"audio\",\"audio\":{\"id\":456242367,\"owner_id\":2000176370,\"artist\":\"ÖfÖ Am\",\"title\":\"Anarchö Shivaïst Regency\",\"duration\":25,\"date\":1548596427,\"url\":\"https:\\/\\/vk.com\\/mp3\\/audio_api_unavailable.mp3\",\"is_hq\":true,\"track_code\":\"dc3ee3e6V4NJuiTACNvRyUPeEZW8O2Kz8rrnsjJy3Hhhnb-Fwv1hvx32YP5ag76PFoo\",\"is_explicit\":false}},{\"type\":\"audio\",\"audio\":{\"id\":456242366,\"owner_id\":2000176177,\"artist\":\"ÖfÖ Am\",\"title\":\"The Battle Öf...\",\"duration\":25,\"date\":1548596427,\"url\":\"https:\\/\\/vk.com\\/mp3\\/audio_api_unavailable.mp3\",\"is_hq\":true,\"track_code\":\"eb8c8443wHbBZQGqcoUjbwoMJUiLMr6iXxileCFooHIxIL-1Jff2SpUpRZQg3UwpX1g\",\"is_explicit\":false}}],\"post_source\":{\"type\":\"vk\"}}],\"post_source\":{\"type\":\"vk\"},\"comments\":{\"count\":0,\"can_post\":0,\"groups_can_post\":true},\"likes\":{\"count\":0,\"user_likes\":0,\"can_like\":1,\"can_publish\":1},\"reposts\":{\"count\":0,\"user_reposted\":0},\"views\":{\"count\":22},\"is_favorite\":false},{\"id\":5507,\"from_id\":1789350,\"owner_id\":1789350,\"date\":1547118546,\"post_type\":\"post\",\"text\":\"\",\"copy_history\":[{\"id\":459296,\"owner_id\":-4100014,\"from_id\":-4100014,\"date\":1546967192,\"post_type\":\"post\",\"text\":\"Фёдоров и Крузенштерн – Гимн Чуме (2019)\\nExperimental Rock \\/ Avant-Garde \\/ Art rock (Russia \\/ Israel) \\n\\nПесни на стихи Александра Пушкина в совместном альбоме лидера АукцЫона Леонида Фёдорова и Игоря Крутоголова из израильской группы Крузенштерн и пароход. Премьера состоялась на образовательном портале Arzamas с комментариями филолога: https:\\/\\/vk.cc\\/8Tk3Op\",\"attachments\":[{\"type\":\"photo\",\"photo\":{\"id\":456248155,\"album_id\":-7,\"owner_id\":-4100014,\"user_id\":100,\"sizes\":[{\"type\":\"m\",\"url\":\"https:\\/\\/pp.userapi.com\\/c850228\\/v850228176\\/b2566\\/0a5oM5wH6_Y.jpg\",\"width\":130,\"height\":130},{\"type\":\"o\",\"url\":\"https:\\/\\/pp.userapi.com\\/c850228\\/v850228176\\/b256a\\/F2Ny8N1bTVU.jpg\",\"width\":130,\"height\":130},{\"type\":\"p\",\"url\":\"https:\\/\\/pp.userapi.com\\/c850228\\/v850228176\\/b256b\\/IoJuKZyEeGU.jpg\",\"width\":200,\"height\":200},{\"type\":\"q\",\"url\":\"https:\\/\\/pp.userapi.com\\/c850228\\/v850228176\\/b256c\\/x3ffcQzQ-d8.jpg\",\"width\":320,\"height\":320},{\"type\":\"r\",\"url\":\"https:\\/\\/pp.userapi.com\\/c850228\\/v850228176\\/b256d\\/Of1vX4ltlng.jpg\",\"width\":510,\"height\":510},{\"type\":\"s\",\"url\":\"https:\\/\\/pp.userapi.com\\/c850228\\/v850228176\\/b2565\\/jiiI0St6QVA.jpg\",\"width\":75,\"height\":75},{\"type\":\"x\",\"url\":\"https:\\/\\/pp.userapi.com\\/c850228\\/v850228176\\/b2567\\/isgv1mLCBT0.jpg\",\"width\":604,\"height\":604},{\"type\":\"y\",\"url\":\"https:\\/\\/pp.userapi.com\\/c850228\\/v850228176\\/b2568\\/_8A0nDCDaDc.jpg\",\"width\":807,\"height\":807},{\"type\":\"z\",\"url\":\"https:\\/\\/pp.userapi.com\\/c850228\\/v850228176\\/b2569\\/w3wjBAcgg7A.jpg\",\"width\":998,\"height\":998}],\"text\":\"\",\"date\":1546866922,\"access_key\":\"63c91cf2c932b62ab9\"}},{\"type\":\"audio\",\"audio\":{\"id\":456242641,\"owner_id\":2000137885,\"artist\":\"Леонид Федоров и Игорь Крутоголов\",\"title\":\"Гимн Чуме\",\"duration\":25,\"date\":1546964108,\"url\":\"https:\\/\\/vk.com\\/mp3\\/audio_api_unavailable.mp3\",\"album_id\":2,\"genre_id\":1001,\"is_hq\":true,\"track_code\":\"279dd93cQZQYWfWeIpP_2yOZejeGIHohvlvz7Uo1hRcIBUNa55Byr0gZ3st0wpKVdA\",\"is_explicit\":false}},{\"type\":\"audio\",\"audio\":{\"id\":456242756,\"owner_id\":2000137040,\"artist\":\"Леонид Федоров и Игорь Крутоголов\",\"title\":\"Эхо\",\"duration\":25,\"date\":1546964108,\"url\":\"https:\\/\\/vk.com\\/mp3\\/audio_api_unavailable.mp3\",\"album_id\":2,\"genre_id\":1001,\"is_hq\":true,\"track_code\":\"e66215a2TrymLzpE6Z1uGmUy_BoykWeWOJBTYyIOyqphjqCTccp9h_ZvERG_zANUMg\",\"is_explicit\":false}},{\"type\":\"audio\",\"audio\":{\"id\":456242728,\"owner_id\":2000137836,\"artist\":\"Леонид Федоров и Игорь Крутоголов\",\"title\":\"Мне Вас не Жаль\",\"duration\":25,\"date\":1546964108,\"url\":\"https:\\/\\/vk.com\\/mp3\\/audio_api_unavailable.mp3\",\"album_id\":2,\"is_hq\":true,\"track_code\":\"84e2cb9eiArHZYTvrtkf_YlYYD63-vnxszCgwdqyliEKKuV-0KO7MZclr7r4iHKz3g\",\"is_explicit\":false}},{\"type\":\"audio\",\"audio\":{\"id\":456242362,\"owner_id\":2000139584,\"artist\":\"Леонид Федоров и Игорь Крутоголов\",\"title\":\"Талисман\",\"duration\":25,\"date\":1546964108,\"url\":\"https:\\/\\/vk.com\\/mp3\\/audio_api_unavailable.mp3\",\"album_id\":2,\"is_hq\":true,\"track_code\":\"6e8b750fgHhx_lB1Qe3lA6_LKD_L7oGtjl8ZRaZuckncTVskaLCzQyG-eyAXvIhN-A\",\"is_explicit\":false}},{\"type\":\"audio\",\"audio\":{\"id\":456242637,\"owner_id\":2000138093,\"artist\":\"Леонид Федоров и Игорь Крутоголов\",\"title\":\"Волшебница\",\"duration\":25,\"date\":1546964108,\"url\":\"https:\\/\\/vk.com\\/mp3\\/audio_api_unavailable.mp3\",\"album_id\":2,\"is_hq\":true,\"track_code\":\"21d05d88u6-RQxxQ9idczUmihdSLre90V2xK3yj6Gdfa9Iio92GIlMEDNwWgdjGDHg\",\"is_explicit\":false}},{\"type\":\"audio\",\"audio\":{\"id\":456242374,\"owner_id\":2000139429,\"artist\":\"Леонид Федоров и Игорь Крутоголов\",\"title\":\"Памятник\",\"duration\":25,\"date\":1546964108,\"url\":\"https:\\/\\/vk.com\\/mp3\\/audio_api_unavailable.mp3\",\"album_id\":2,\"is_hq\":true,\"track_code\":\"5d72b946mFarzySzNHoBTyORXr-wJUdaIBcLoos5MgEjCuINWmCrbfuPD-ZiK2wBdA\",\"is_explicit\":false}},{\"type\":\"audio\",\"audio\":{\"id\":456242684,\"owner_id\":2000137593,\"artist\":\"Леонид Федоров и Игорь Крутоголов\",\"title\":\"Дар\",\"duration\":25,\"date\":1546964108,\"url\":\"https:\\/\\/vk.com\\/mp3\\/audio_api_unavailable.mp3\",\"album_id\":2,\"is_hq\":true,\"track_code\":\"da707bf9nOC5xphEJ4mD5AGzQL9R0yOtqIvhDwqLlpkDs8eI3zCv2-mGsxFx2O6qVg\",\"is_explicit\":false}},{\"type\":\"audio\",\"audio\":{\"id\":456242828,\"owner_id\":2000136658,\"artist\":\"Леонид Федоров и Игорь Крутоголов\",\"title\":\"Цветок\",\"duration\":25,\"date\":1546964108,\"url\":\"https:\\/\\/vk.com\\/mp3\\/audio_api_unavailable.mp3\",\"album_id\":2,\"is_hq\":true,\"track_code\":\"8deaed89ZaHI1xBpQ0REHihF2V9BebcrOJzdVt-Ewo41QFsfqVNWmpiXOzwVFSlQfw\",\"is_explicit\":false}},{\"type\":\"audio\",\"audio\":{\"id\":456242706,\"owner_id\":2000137452,\"artist\":\"Леонид Федоров и Игорь Крутоголов\",\"title\":\"Кружка\",\"duration\":25,\"date\":1546964108,\"url\":\"https:\\/\\/vk.com\\/mp3\\/audio_api_unavailable.mp3\",\"album_id\":2,\"is_hq\":true,\"track_code\":\"6fa80e16SCaYMtMRDoslL4yl3Dy3Gxfnafx7i6_t7D2rMOAjJYR7Hchy-ERY2khh2w\",\"is_explicit\":false}}],\"post_source\":{\"type\":\"vk\"}}],\"post_source\":{\"type\":\"vk\"},\"comments\":{\"count\":0,\"can_post\":0,\"groups_can_post\":true},\"likes\":{\"count\":1,\"user_likes\":0,\"can_like\":1,\"can_publish\":1},\"reposts\":{\"count\":0,\"user_reposted\":0},\"views\":{\"count\":24},\"is_favorite\":false},{\"id\":5506,\"from_id\":1789350,\"owner_id\":1789350,\"date\":1547111728,\"post_type\":\"post\",\"text\":\"\",\"copy_history\":[{\"id\":99698,\"owner_id\":-26457580,\"from_id\":-26457580,\"date\":1546007831,\"post_type\":\"post\",\"text\":\"Demiurgo — Weedian Priest (2018)\\n\\nДымящийся дебют от немцев. Сочный и маслянистый, словно свежесорванная сенсимилья.\\n\\nссылки, плейлист, mp3 и flac в комментариях 👇\\n#instrumental #stoner #desert #fuzz #Germany | #fadeaway\",\"signer_id\":45304509,\"attachments\":[{\"type\":\"photo\",\"photo\":{\"id\":456241603,\"album_id\":-7,\"owner_id\":-26457580,\"user_id\":100,\"sizes\":[{\"type\":\"m\",\"url\":\"https:\\/\\/pp.userapi.com\\/c850016\\/v850016352\\/e9bbb\\/OwN49-ti0U4.jpg\",\"width\":130,\"height\":130},{\"type\":\"o\",\"url\":\"https:\\/\\/pp.userapi.com\\/c850016\\/v850016352\\/e9bc0\\/wuEG7j2gij8.jpg\",\"width\":130,\"height\":130},{\"type\":\"p\",\"url\":\"https:\\/\\/pp.userapi.com\\/c850016\\/v850016352\\/e9bc1\\/riO7_r8IT6U.jpg\",\"width\":200,\"height\":200},{\"type\":\"q\",\"url\":\"https:\\/\\/pp.userapi.com\\/c850016\\/v850016352\\/e9bc2\\/IRFeFVqaZRM.jpg\",\"width\":320,\"height\":320},{\"type\":\"r\",\"url\":\"https:\\/\\/pp.userapi.com\\/c850016\\/v850016352\\/e9bc3\\/0Ode7eY5Md0.jpg\",\"width\":510,\"height\":510},{\"type\":\"s\",\"url\":\"https:\\/\\/pp.userapi.com\\/c850016\\/v850016352\\/e9bba\\/W8WlLVt1T9c.jpg\",\"width\":75,\"height\":75},{\"type\":\"w\",\"url\":\"https:\\/\\/pp.userapi.com\\/c850016\\/v850016352\\/e9bbf\\/ft10VEwvN2Q.jpg\",\"width\":1400,\"height\":1400},{\"type\":\"x\",\"url\":\"https:\\/\\/pp.userapi.com\\/c850016\\/v850016352\\/e9bbc\\/7uJwDDNhAoA.jpg\",\"width\":604,\"height\":604},{\"type\":\"y\",\"url\":\"https:\\/\\/pp.userapi.com\\/c850016\\/v850016352\\/e9bbd\\/bi4o5JLl0Do.jpg\",\"width\":807,\"height\":807},{\"type\":\"z\",\"url\":\"https:\\/\\/pp.userapi.com\\/c850016\\/v850016352\\/e9bbe\\/5iXwQCPb0tQ.jpg\",\"width\":1080,\"height\":1080}],\"text\":\"\",\"date\":1546007831,\"post_id\":99698,\"access_key\":\"78a37941f31bc74a12\"}},{\"type\":\"audio\",\"audio\":{\"id\":456242380,\"owner_id\":2000116803,\"artist\":\"Demiurgo\",\"title\":\"Weedian Priest\",\"duration\":25,\"date\":1546007831,\"url\":\"https:\\/\\/vk.com\\/mp3\\/audio_api_unavailable.mp3\",\"is_hq\":true,\"track_code\":\"15543ecbcLRsdYJ0ByNwOZ-VSHlOFTtZB5YyWP7HOeLr_HRuAXVGiDg5xkpdchl3xg\",\"is_explicit\":false}},{\"type\":\"audio\",\"audio\":{\"id\":456242243,\"owner_id\":2000117056,\"artist\":\"Demiurgo\",\"title\":\"The Journey\",\"duration\":25,\"date\":1546007831,\"url\":\"https:\\/\\/vk.com\\/mp3\\/audio_api_unavailable.mp3\",\"is_hq\":true,\"track_code\":\"99d81d3b-IZ83c9nwiEPouPMpkzT7wTDIr9Ugmhj95tbLprizlrOuiiRi1mYcGbsug\",\"is_explicit\":false}},{\"type\":\"audio\",\"audio\":{\"id\":456242621,\"owner_id\":2000115223,\"artist\":\"Demiurgo\",\"title\":\"Doomsday\",\"duration\":25,\"date\":1546007831,\"url\":\"https:\\/\\/vk.com\\/mp3\\/audio_api_unavailable.mp3\",\"is_hq\":true,\"track_code\":\"a7b0d46c0Wx2yw-mfpPqip8P9lFJp2VMsYJcFzMcYh58ozUJV_rnUCKHS5gkwoPExg\",\"is_explicit\":false}},{\"type\":\"audio\",\"audio\":{\"id\":456242864,\"owner_id\":2000113929,\"artist\":\"Demiurgo\",\"title\":\"Motor\",\"duration\":25,\"date\":1546007831,\"url\":\"https:\\/\\/vk.com\\/mp3\\/audio_api_unavailable.mp3\",\"is_hq\":true,\"track_code\":\"b385c45fVzcXKcOTeoAdwzCAZlLxk_8w52WhF6N-FO-nikD_IdxhC0Nlh60g0XSNaQ\",\"is_explicit\":false}},{\"type\":\"audio\",\"audio\":{\"id\":456242658,\"owner_id\":2000115217,\"artist\":\"Demiurgo\",\"title\":\"Yellow King\",\"duration\":25,\"date\":1546007831,\"url\":\"https:\\/\\/vk.com\\/mp3\\/audio_api_unavailable.mp3\",\"is_hq\":true,\"track_code\":\"fa254a95PmA3GKNScrUiUYBfZvGy4QNY4CwMY2yMmpjFibHX_W0IXGNU52wo5Esf2Q\",\"is_explicit\":false}}],\"post_source\":{\"type\":\"vk\"}}],\"post_source\":{\"type\":\"vk\"},\"comments\":{\"count\":0,\"can_post\":0,\"groups_can_post\":true},\"likes\":{\"count\":0,\"user_likes\":0,\"can_like\":1,\"can_publish\":1},\"reposts\":{\"count\":0,\"user_reposted\":0},\"views\":{\"count\":24},\"is_favorite\":false},{\"id\":5505,\"from_id\":1789350,\"owner_id\":1789350,\"date\":1545980651,\"post_type\":\"post\",\"text\":\"\",\"copy_history\":[{\"id\":99676,\"owner_id\":-26457580,\"from_id\":-26457580,\"date\":1545934555,\"post_type\":\"post\",\"text\":\"Wizard Must Die — In the Land of the Dead Turtles (2018)\\n\\nТрио из Лиона. Дебютный альбом.\\n\\nссылки, плейлист, mp3 и flac в комментариях 👇\\n#stoner #desert #psych #prog #France | #fadeaway\",\"signer_id\":45304509,\"attachments\":[{\"type\":\"photo\",\"photo\":{\"id\":456241600,\"album_id\":-7,\"owner_id\":-26457580,\"user_id\":100,\"sizes\":[{\"type\":\"m\",\"url\":\"https:\\/\\/pp.userapi.com\\/c849224\\/v849224507\\/f34b0\\/CPWH0gaf_fA.jpg\",\"width\":130,\"height\":130},{\"type\":\"o\",\"url\":\"https:\\/\\/pp.userapi.com\\/c849224\\/v849224507\\/f34b5\\/pzhpKc2XdwU.jpg\",\"width\":130,\"height\":130},{\"type\":\"p\",\"url\":\"https:\\/\\/pp.userapi.com\\/c849224\\/v849224507\\/f34b6\\/ZJEqE8i1dhk.jpg\",\"width\":200,\"height\":200},{\"type\":\"q\",\"url\":\"https:\\/\\/pp.userapi.com\\/c849224\\/v849224507\\/f34b7\\/hdZhUkLXgAY.jpg\",\"width\":320,\"height\":320},{\"type\":\"r\",\"url\":\"https:\\/\\/pp.userapi.com\\/c849224\\/v849224507\\/f34b8\\/MqkN9fJboBY.jpg\",\"width\":510,\"height\":510},{\"type\":\"s\",\"url\":\"https:\\/\\/pp.userapi.com\\/c849224\\/v849224507\\/f34af\\/1M0tP4q_fF8.jpg\",\"width\":75,\"height\":75},{\"type\":\"w\",\"url\":\"https:\\/\\/pp.userapi.com\\/c849224\\/v849224507\\/f34b4\\/vATws2a-iro.jpg\",\"width\":1400,\"height\":1400},{\"type\":\"x\",\"url\":\"https:\\/\\/pp.userapi.com\\/c849224\\/v849224507\\/f34b1\\/Wb4F5UosUuA.jpg\",\"width\":604,\"height\":604},{\"type\":\"y\",\"url\":\"https:\\/\\/pp.userapi.com\\/c849224\\/v849224507\\/f34b2\\/wgTodGcNZrg.jpg\",\"width\":807,\"height\":807},{\"type\":\"z\",\"url\":\"https:\\/\\/pp.userapi.com\\/c849224\\/v849224507\\/f34b3\\/760jPBulIw0.jpg\",\"width\":1080,\"height\":1080}],\"text\":\"\",\"date\":1545934555,\"post_id\":99676,\"access_key\":\"aa746756da173370bf\"}},{\"type\":\"audio\",\"audio\":{\"id\":456242315,\"owner_id\":2000115800,\"artist\":\"Wizard Must Die\",\"title\":\"In the Land\",\"duration\":25,\"date\":1545934555,\"url\":\"https:\\/\\/vk.com\\/mp3\\/audio_api_unavailable.mp3\",\"is_hq\":true,\"track_code\":\"07e6807aAkbG2Mr89-_sRuZlJhJ9YxKa70-sQ4dMht06kIljGGI0epKUjsKtvoUGsQ\",\"is_explicit\":false}},{\"type\":\"audio\",\"audio\":{\"id\":456242695,\"owner_id\":2000113378,\"artist\":\"Wizard Must Die\",\"title\":\"From their Blood to the Sea\",\"duration\":25,\"date\":1545934555,\"url\":\"https:\\/\\/vk.com\\/mp3\\/audio_api_unavailable.mp3\",\"is_hq\":true,\"track_code\":\"07cdf076ajHw2kzo1z6bXHA4cdjJP3aNVlpPj-rICl7ymUFWncFcDaSWCNaNb_IcJw\",\"is_explicit\":false}},{\"type\":\"audio\",\"audio\":{\"id\":456242933,\"owner_id\":2000112802,\"artist\":\"Wizard Must Die\",\"title\":\"Umibe no Kafuka\",\"duration\":25,\"date\":1545934555,\"url\":\"https:\\/\\/vk.com\\/mp3\\/audio_api_unavailable.mp3\",\"is_hq\":true,\"track_code\":\"889729ccP-qDRyHV78EbGsR3cTI9bqD8rlqFI0fZrGWUdIRQHG4J1tcLZeu1kHJakw\",\"is_explicit\":false}},{\"type\":\"audio\",\"audio\":{\"id\":456242709,\"owner_id\":2000113297,\"artist\":\"Wizard Must Die\",\"title\":\"Empty Shell\",\"duration\":25,\"date\":1545934555,\"url\":\"https:\\/\\/vk.com\\/mp3\\/audio_api_unavailable.mp3\",\"is_hq\":true,\"track_code\":\"932e0e5di7_jjT-UhTZajQQtoiaGBpohBFMGVdDLNv2osinb1TK9g7fBe6rfZzPNUw\",\"is_explicit\":false}},{\"type\":\"audio\",\"audio\":{\"id\":456242729,\"owner_id\":2000112773,\"artist\":\"Wizard Must Die\",\"title\":\"Logical Math Carnage\",\"duration\":25,\"date\":1545934555,\"url\":\"https:\\/\\/vk.com\\/mp3\\/audio_api_unavailable.mp3\",\"is_hq\":true,\"track_code\":\"b5a2eda16yFIj8JIjeQ7navzJjsCYxR7o3kKLbxd1JRfwl8sPGXdHRzDhnbXtVLd_A\",\"is_explicit\":false}},{\"type\":\"audio\",\"audio\":{\"id\":456242627,\"owner_id\":2000113883,\"artist\":\"Wizard Must Die\",\"title\":\"A Sleeping Wave\",\"duration\":25,\"date\":1545934555,\"url\":\"https:\\/\\/vk.com\\/mp3\\/audio_api_unavailable.mp3\",\"is_hq\":true,\"track_code\":\"d5fa9c08GZACjgtNp9BXveRHfh3bk-WL5cZAyeYSjvprAoEskK0vrFbCT3P9gT79sw\",\"is_explicit\":false}},{\"type\":\"audio\",\"audio\":{\"id\":456242434,\"owner_id\":2000114448,\"artist\":\"Wizard Must Die\",\"title\":\"Odyssey\",\"duration\":25,\"date\":1545934555,\"url\":\"https:\\/\\/vk.com\\/mp3\\/audio_api_unavailable.mp3\",\"is_hq\":true,\"track_code\":\"dc6827feizAZkX4aIHCu_p7U00EqcEPQWw5CHfmfK7fRfkV6fzy9DE3dOiR6Ice-yQ\",\"is_explicit\":false}}],\"post_source\":{\"type\":\"vk\"}}],\"post_source\":{\"type\":\"vk\"},\"comments\":{\"count\":0,\"can_post\":0,\"groups_can_post\":true},\"likes\":{\"count\":0,\"user_likes\":0,\"can_like\":1,\"can_publish\":1},\"reposts\":{\"count\":0,\"user_reposted\":0},\"views\":{\"count\":33},\"is_favorite\":false},{\"id\":5504,\"from_id\":1789350,\"owner_id\":1789350,\"date\":1545809864,\"post_type\":\"post\",\"text\":\"\",\"copy_history\":[{\"id\":99496,\"owner_id\":-26457580,\"from_id\":-26457580,\"date\":1545599214,\"post_type\":\"post\",\"text\":\"Gods & Punks — Enter the Ceremony of Damnation (2018)\\n\\n2-й полноформат банды из Рио\\n\\nссылки, плейлист, mp3 и flac в комментариях👇🏻\\n#stoner_metal #Brazil | #fadeaway\",\"signer_id\":45304509,\"attachments\":[{\"type\":\"photo\",\"photo\":{\"id\":456241569,\"album_id\":-7,\"owner_id\":-26457580,\"user_id\":100,\"sizes\":[{\"type\":\"m\",\"url\":\"https:\\/\\/pp.userapi.com\\/c851220\\/v851220148\\/6f9b0\\/afT0KKayylc.jpg\",\"width\":130,\"height\":130},{\"type\":\"o\",\"url\":\"https:\\/\\/pp.userapi.com\\/c851220\\/v851220148\\/6f9b5\\/ifgsCNdZfa0.jpg\",\"width\":130,\"height\":130},{\"type\":\"p\",\"url\":\"https:\\/\\/pp.userapi.com\\/c851220\\/v851220148\\/6f9b6\\/ANsaQISq0gI.jpg\",\"width\":200,\"height\":200},{\"type\":\"q\",\"url\":\"https:\\/\\/pp.userapi.com\\/c851220\\/v851220148\\/6f9b7\\/q9TMDra1qWs.jpg\",\"width\":320,\"height\":320},{\"type\":\"r\",\"url\":\"https:\\/\\/pp.userapi.com\\/c851220\\/v851220148\\/6f9b8\\/SGEiYRQfbO0.jpg\",\"width\":510,\"height\":510},{\"type\":\"s\",\"url\":\"https:\\/\\/pp.userapi.com\\/c851220\\/v851220148\\/6f9af\\/qti5NjPDvnI.jpg\",\"width\":75,\"height\":75},{\"type\":\"w\",\"url\":\"https:\\/\\/pp.userapi.com\\/c851220\\/v851220148\\/6f9b4\\/cp9GxgyHSU4.jpg\",\"width\":1400,\"height\":1400},{\"type\":\"x\",\"url\":\"https:\\/\\/pp.userapi.com\\/c851220\\/v851220148\\/6f9b1\\/-Pa1P4jyx2o.jpg\",\"width\":604,\"height\":604},{\"type\":\"y\",\"url\":\"https:\\/\\/pp.userapi.com\\/c851220\\/v851220148\\/6f9b2\\/wIrL3-MECLk.jpg\",\"width\":807,\"height\":807},{\"type\":\"z\",\"url\":\"https:\\/\\/pp.userapi.com\\/c851220\\/v851220148\\/6f9b3\\/YCI8W1sTzXA.jpg\",\"width\":1080,\"height\":1080}],\"text\":\"\",\"date\":1545564512,\"access_key\":\"722e91dd639bb9f370\"}},{\"type\":\"audio\",\"audio\":{\"id\":456242496,\"owner_id\":2000106074,\"artist\":\"Gods & Punks\",\"title\":\"The Summoning\",\"duration\":25,\"date\":1545564512,\"url\":\"https:\\/\\/vk.com\\/mp3\\/audio_api_unavailable.mp3\",\"album_id\":2,\"is_hq\":true,\"track_code\":\"29662591rUr3DbnhKuG5Pigqx4jdecuztWQzDq9AO_3dstR3dOKbdqNB_d9wsNJwfw\",\"is_explicit\":false}},{\"type\":\"audio\",\"audio\":{\"id\":456242389,\"owner_id\":2000106742,\"artist\":\"Gods & Punks\",\"title\":\"Welcome to the Ceremony\",\"duration\":25,\"date\":1545564512,\"url\":\"https:\\/\\/vk.com\\/mp3\\/audio_api_unavailable.mp3\",\"album_id\":2,\"is_hq\":true,\"track_code\":\"5645d934LtQYrcLk4uFLW3fjKWEebE2FPfGMzzKdAO9oBzx7wGIY6Ezhhtq4sCAVIA\",\"is_explicit\":false}},{\"type\":\"audio\",\"audio\":{\"id\":456242883,\"owner_id\":2000104539,\"artist\":\"Gods & Punks\",\"title\":\"From Sand to Throne\",\"duration\":25,\"date\":1545564512,\"url\":\"https:\\/\\/vk.com\\/mp3\\/audio_api_unavailable.mp3\",\"album_id\":2,\"is_hq\":true,\"track_code\":\"ba3f3ad2XUAPgnnh-9dc6E5fPxhd20yGHXmddxhgQ154GqoHAoxrfFvOPd-hhjemGQ\",\"is_explicit\":false}},{\"type\":\"audio\",\"audio\":{\"id\":456242550,\"owner_id\":2000105705,\"artist\":\"Gods & Punks\",\"title\":\"Blood Moon Sky\",\"duration\":25,\"date\":1545564512,\"url\":\"https:\\/\\/vk.com\\/mp3\\/audio_api_unavailable.mp3\",\"album_id\":2,\"is_hq\":true,\"track_code\":\"4d495063I54S-d8zhFTTdJtYV6BQiUhiYfFZvTEjsYtjefEHeFMVoka1mw3eBbg6zA\",\"is_explicit\":false}},{\"type\":\"audio\",\"audio\":{\"id\":456243045,\"owner_id\":2000104022,\"artist\":\"Gods & Punks\",\"title\":\"Transparent Chains\",\"duration\":25,\"date\":1545564512,\"url\":\"https:\\/\\/vk.com\\/mp3\\/audio_api_unavailable.mp3\",\"album_id\":2,\"is_hq\":true,\"track_code\":\"63ed7425H7dCspLIONF8gDoXZo0M7_3kbOmiOdhuVV9xl4VdgNspixb-1vZigBfObQ\",\"is_explicit\":false}},{\"type\":\"audio\",\"audio\":{\"id\":456242679,\"owner_id\":2000105386,\"artist\":\"Gods & Punks\",\"title\":\"The Gearlord\",\"duration\":25,\"date\":1545564512,\"url\":\"https:\\/\\/vk.com\\/mp3\\/audio_api_unavailable.mp3\",\"album_id\":2,\"is_hq\":true,\"track_code\":\"4b3c91e4fWbv7IbN5cBz0guiPnMFj8mBxA52l-kKLRuQ7wjRHWZLWrugwvO_kRicXA\",\"is_explicit\":false}},{\"type\":\"audio\",\"audio\":{\"id\":456242318,\"owner_id\":2000107073,\"artist\":\"Gods & Punks\",\"title\":\"Stop the Clocks\",\"duration\":25,\"date\":1545564512,\"url\":\"https:\\/\\/vk.com\\/mp3\\/audio_api_unavailable.mp3\",\"album_id\":2,\"is_hq\":true,\"track_code\":\"eb433ba2-46uLHoB_c381GomWz0tcc267_s3p3dGiAUpkUYdqDbNsvpgPj-nnJeaPQ\",\"is_explicit\":false}},{\"type\":\"audio\",\"audio\":{\"id\":456242395,\"owner_id\":2000106194,\"artist\":\"Gods & Punks\",\"title\":\"Damnation\",\"duration\":25,\"date\":1545564512,\"url\":\"https:\\/\\/vk.com\\/mp3\\/audio_api_unavailable.mp3\",\"album_id\":2,\"is_hq\":true,\"track_code\":\"24126593cTpw8TVKU6m5MV2Cq5mYR0iHK1Gb34IjTwIHmGPI_uJHBiS9cXQJ-NJ_Cg\",\"is_explicit\":false}}],\"post_source\":{\"type\":\"vk\"}}],\"post_source\":{\"type\":\"vk\"},\"comments\":{\"count\":0,\"can_post\":0,\"groups_can_post\":true},\"likes\":{\"count\":0,\"user_likes\":0,\"can_like\":1,\"can_publish\":1},\"reposts\":{\"count\":0,\"user_reposted\":0},\"views\":{\"count\":28},\"is_favorite\":false},{\"id\":5503,\"from_id\":1789350,\"owner_id\":1789350,\"date\":1544965094,\"post_type\":\"post\",\"text\":\"\",\"copy_history\":[{\"id\":99315,\"owner_id\":-26457580,\"from_id\":-26457580,\"date\":1544778421,\"post_type\":\"post\",\"text\":\"Plastic Surgery Disaster — Desire (2018)\\n\\nОгненный дебют квинтета из Берхтесгадена.\\n\\nссылки, плейлист, mp3 и flac в комментариях 👇\\n#desert_psych #stoner_psych #stoner_rock #Germany | #fadeaway\",\"signer_id\":45304509,\"attachments\":[{\"type\":\"photo\",\"photo\":{\"id\":456241549,\"album_id\":-7,\"owner_id\":-26457580,\"user_id\":100,\"sizes\":[{\"type\":\"m\",\"url\":\"https:\\/\\/pp.userapi.com\\/c846216\\/v846216696\\/14cb16\\/Hy63bO7QDTQ.jpg\",\"width\":130,\"height\":130},{\"type\":\"o\",\"url\":\"https:\\/\\/pp.userapi.com\\/c846216\\/v846216696\\/14cb1b\\/xzZdeEndQHo.jpg\",\"width\":130,\"height\":130},{\"type\":\"p\",\"url\":\"https:\\/\\/pp.userapi.com\\/c846216\\/v846216696\\/14cb1c\\/kmhu8b-gAzc.jpg\",\"width\":200,\"height\":200},{\"type\":\"q\",\"url\":\"https:\\/\\/pp.userapi.com\\/c846216\\/v846216696\\/14cb1d\\/S78U9SCix4s.jpg\",\"width\":320,\"height\":320},{\"type\":\"r\",\"url\":\"https:\\/\\/pp.userapi.com\\/c846216\\/v846216696\\/14cb1e\\/t-aqruYeG8Q.jpg\",\"width\":510,\"height\":510},{\"type\":\"s\",\"url\":\"https:\\/\\/pp.userapi.com\\/c846216\\/v846216696\\/14cb15\\/kuUiimm1BfM.jpg\",\"width\":75,\"height\":75},{\"type\":\"w\",\"url\":\"https:\\/\\/pp.userapi.com\\/c846216\\/v846216696\\/14cb1a\\/_8sAWDU9EK8.jpg\",\"width\":1400,\"height\":1400},{\"type\":\"x\",\"url\":\"https:\\/\\/pp.userapi.com\\/c846216\\/v846216696\\/14cb17\\/IenZ4XG9ZfI.jpg\",\"width\":604,\"height\":604},{\"type\":\"y\",\"url\":\"https:\\/\\/pp.userapi.com\\/c846216\\/v846216696\\/14cb18\\/cZgKn9H4Gpk.jpg\",\"width\":807,\"height\":807},{\"type\":\"z\",\"url\":\"https:\\/\\/pp.userapi.com\\/c846216\\/v846216696\\/14cb19\\/1DRq73NLOzA.jpg\",\"width\":1080,\"height\":1080}],\"text\":\"\",\"date\":1544778421,\"post_id\":99315,\"access_key\":\"2e655e60a8554966eb\"}},{\"type\":\"audio\",\"audio\":{\"id\":456242852,\"owner_id\":2000085937,\"artist\":\"Plastic Surgery Disaster\",\"title\":\"Somewhere\",\"duration\":25,\"date\":1544778421,\"url\":\"https:\\/\\/vk.com\\/mp3\\/audio_api_unavailable.mp3\",\"is_hq\":true,\"track_code\":\"2a6b25b5CVzQpvMH5WVbOnGyXe1WaIZ7f6Anttb3HuNaRjtVRc4_YITqtzm_NDd8JQ\",\"is_explicit\":false}},{\"type\":\"audio\",\"audio\":{\"id\":456243024,\"owner_id\":2000085246,\"artist\":\"Plastic Surgery Disaster\",\"title\":\"Something Wrong\",\"duration\":25,\"date\":1544778421,\"url\":\"https:\\/\\/vk.com\\/mp3\\/audio_api_unavailable.mp3\",\"is_hq\":true,\"track_code\":\"541ae639-q0pNcf7ITWy1oPy8lJBI-oqYtt23l8pBU5fgqL1TVzMkX15g8V7ZN6Q1w\",\"is_explicit\":false}},{\"type\":\"audio\",\"audio\":{\"id\":456242949,\"owner_id\":2000085654,\"artist\":\"Plastic Surgery Disaster\",\"title\":\"War of Violence\",\"duration\":25,\"date\":1544778421,\"url\":\"https:\\/\\/vk.com\\/mp3\\/audio_api_unavailable.mp3\",\"is_hq\":true,\"track_code\":\"4175a0cdKXmzw2FJPzIr0oAW5ds0LGUBDRFV5nn8u9e1oTFxqrAfReePJXdlY0eU1A\",\"is_explicit\":false}},{\"type\":\"audio\",\"audio\":{\"id\":456242431,\"owner_id\":2000087788,\"artist\":\"Plastic Surgery Disaster\",\"title\":\"Black Machine\",\"duration\":25,\"date\":1544778421,\"url\":\"https:\\/\\/vk.com\\/mp3\\/audio_api_unavailable.mp3\",\"is_hq\":true,\"track_code\":\"732448264fi1fXrYgbdRDlUxPawXyuG1HdOHPc65H4eWanVbhVLXxOExPubb5j1IAQ\",\"is_explicit\":false}},{\"type\":\"audio\",\"audio\":{\"id\":456242588,\"owner_id\":2000087514,\"artist\":\"Plastic Surgery Disaster\",\"title\":\"Desire\",\"duration\":25,\"date\":1544778421,\"url\":\"https:\\/\\/vk.com\\/mp3\\/audio_api_unavailable.mp3\",\"is_hq\":true,\"track_code\":\"e436ce068GJqHU2eEkvCiqpZcKxhHmgrh_h_hXGg1MPS5zXF9IbGXj5RCaBIGq7M_g\",\"is_explicit\":false}},{\"type\":\"audio\",\"audio\":{\"id\":456243041,\"owner_id\":2000085102,\"artist\":\"Plastic Surgery Disaster\",\"title\":\"One Name\",\"duration\":25,\"date\":1544778421,\"url\":\"https:\\/\\/vk.com\\/mp3\\/audio_api_unavailable.mp3\",\"is_hq\":true,\"track_code\":\"f837686cAo5cJ2ppuB8ltfcKI_ZR5NZer7Ld1zt4jaJ9ku-drxQ0sghrLlfiTknzow\",\"is_explicit\":false}},{\"type\":\"audio\",\"audio\":{\"id\":456242676,\"owner_id\":2000086444,\"artist\":\"Plastic Surgery Disaster\",\"title\":\"Mountain High\",\"duration\":25,\"date\":1544778421,\"url\":\"https:\\/\\/vk.com\\/mp3\\/audio_api_unavailable.mp3\",\"is_hq\":true,\"track_code\":\"9f20273eIiz28AR6HnYmXS3pba90B-r7G_kuiWxkVlz76YQYlFoUEKK8QEREJ0obeQ\",\"is_explicit\":false}},{\"type\":\"audio\",\"audio\":{\"id\":456242725,\"owner_id\":2000087455,\"artist\":\"Plastic Surgery Disaster\",\"title\":\"Don't Waste the Time\",\"duration\":25,\"date\":1544778421,\"url\":\"https:\\/\\/vk.com\\/mp3\\/audio_api_unavailable.mp3\",\"is_hq\":true,\"track_code\":\"400831d0P1fvOXSyU_qSEiTiHSxgC1-LBOUwS0D5Tnr3WNssA7oJa7t1MIwJq_5UcA\",\"is_explicit\":false}},{\"type\":\"audio\",\"audio\":{\"id\":456242395,\"owner_id\":2000088694,\"artist\":\"Plastic Surgery Disaster\",\"title\":\"Lost\",\"duration\":25,\"date\":1544778421,\"url\":\"https:\\/\\/vk.com\\/mp3\\/audio_api_unavailable.mp3\",\"is_hq\":true,\"track_code\":\"e74ac5ebSRKhNeVqc70L-4dYxlMvKu0OoOxBakES4W7kAZvTEER_LvV5oVQp7Ge90w\",\"is_explicit\":false}}],\"post_source\":{\"type\":\"vk\"}}],\"post_source\":{\"type\":\"vk\"},\"comments\":{\"count\":0,\"can_post\":0,\"groups_can_post\":true},\"likes\":{\"count\":0,\"user_likes\":0,\"can_like\":1,\"can_publish\":1},\"reposts\":{\"count\":0,\"user_reposted\":0},\"views\":{\"count\":34},\"is_favorite\":false},{\"id\":5502,\"from_id\":1789350,\"owner_id\":1789350,\"date\":1543906115,\"post_type\":\"post\",\"text\":\"\",\"copy_history\":[{\"id\":99088,\"owner_id\":-26457580,\"from_id\":-26457580,\"date\":1543738020,\"post_type\":\"post\",\"text\":\"[club173947014|Goosła] — Rite of Passage (2018)\\n\\nТрансцендентальный опыт наших предков, в 42 минутах ритуальных вибраций Вселенной.\\n\\nссылки, mp3 и flac в камментах 👇\\n#live #ritual_cosmic_doom #heavy_psych #Ukraine #Poland\",\"attachments\":[{\"type\":\"photo\",\"photo\":{\"id\":456241381,\"album_id\":-7,\"owner_id\":-26457580,\"user_id\":100,\"sizes\":[{\"type\":\"m\",\"url\":\"https:\\/\\/pp.userapi.com\\/c848620\\/v848620238\\/b2b6a\\/mol62L1Dmh8.jpg\",\"width\":128,\"height\":130},{\"type\":\"o\",\"url\":\"https:\\/\\/pp.userapi.com\\/c848620\\/v848620238\\/b2b6f\\/sl8Q82hpS2M.jpg\",\"width\":130,\"height\":132},{\"type\":\"p\",\"url\":\"https:\\/\\/pp.userapi.com\\/c848620\\/v848620238\\/b2b70\\/kE0gtd4d7X8.jpg\",\"width\":200,\"height\":203},{\"type\":\"q\",\"url\":\"https:\\/\\/pp.userapi.com\\/c848620\\/v848620238\\/b2b71\\/rK90Oakp_hs.jpg\",\"width\":320,\"height\":325},{\"type\":\"r\",\"url\":\"https:\\/\\/pp.userapi.com\\/c848620\\/v848620238\\/b2b72\\/Bpx-akvFSfo.jpg\",\"width\":510,\"height\":519},{\"type\":\"s\",\"url\":\"https:\\/\\/pp.userapi.com\\/c848620\\/v848620238\\/b2b69\\/pLyu2xuBbPA.jpg\",\"width\":74,\"height\":75},{\"type\":\"w\",\"url\":\"https:\\/\\/pp.userapi.com\\/c848620\\/v848620238\\/b2b6e\\/CRyzpImrJRs.jpg\",\"width\":1180,\"height\":1200},{\"type\":\"x\",\"url\":\"https:\\/\\/pp.userapi.com\\/c848620\\/v848620238\\/b2b6b\\/asWV2xKimQI.jpg\",\"width\":594,\"height\":604},{\"type\":\"y\",\"url\":\"https:\\/\\/pp.userapi.com\\/c848620\\/v848620238\\/b2b6c\\/i9AmcRmuaks.jpg\",\"width\":794,\"height\":807},{\"type\":\"z\",\"url\":\"https:\\/\\/pp.userapi.com\\/c848620\\/v848620238\\/b2b6d\\/pCy5CatNW78.jpg\",\"width\":1062,\"height\":1080}],\"text\":\"\",\"date\":1542105589,\"access_key\":\"a5c6ede293fe841ad3\"}},{\"type\":\"audio\",\"audio\":{\"id\":456241514,\"owner_id\":2000059190,\"artist\":\"Goosła\",\"title\":\"Red Sun\",\"duration\":25,\"date\":1543572390,\"url\":\"https:\\/\\/vk.com\\/mp3\\/audio_api_unavailable.mp3\",\"album_id\":2,\"is_hq\":true,\"track_code\":\"dcbdf6f8ohV5g8QO8bGBTprZdXTK5MXEAHi2wKd9JP592Lv_s3SUKS3PgDCr4O4Bww\",\"is_explicit\":false}},{\"type\":\"audio\",\"audio\":{\"id\":456241385,\"owner_id\":2000060060,\"artist\":\"Goosła\",\"title\":\"Indica Ritual Planet\",\"duration\":25,\"date\":1543572390,\"url\":\"https:\\/\\/vk.com\\/mp3\\/audio_api_unavailable.mp3\",\"album_id\":2,\"is_hq\":true,\"track_code\":\"16bdc988UtfTIlxG6a9onH647zNs_IySTuVVZxJB6iCmTdhHfFZk64duGHiz_gfTJw\",\"is_explicit\":false}},{\"type\":\"audio\",\"audio\":{\"id\":456241676,\"owner_id\":2000057937,\"artist\":\"Goosła\",\"title\":\"Venus\",\"duration\":25,\"date\":1543572390,\"url\":\"https:\\/\\/vk.com\\/mp3\\/audio_api_unavailable.mp3\",\"album_id\":2,\"is_hq\":true,\"track_code\":\"d8ac18cfAoP3lCd8v-S0n5ff9c1g-YcqC7Q8ftmBMFwpfIxZXjY0v6PYY0LltdvQzg\",\"is_explicit\":false}}],\"post_source\":{\"type\":\"vk\"}}],\"post_source\":{\"type\":\"api\",\"platform\":\"android\"},\"comments\":{\"count\":0,\"can_post\":0,\"groups_can_post\":true},\"likes\":{\"count\":1,\"user_likes\":0,\"can_like\":1,\"can_publish\":1},\"reposts\":{\"count\":0,\"user_reposted\":0},\"views\":{\"count\":32},\"is_favorite\":false},{\"id\":5501,\"from_id\":1789350,\"owner_id\":1789350,\"date\":1542632699,\"post_type\":\"post\",\"text\":\"\",\"copy_history\":[{\"id\":453943,\"owner_id\":-4100014,\"from_id\":-4100014,\"date\":1542304897,\"post_type\":\"post\",\"text\":\"James Lavelle –Trust OST (2018)\\n\\nДжеймс Лавель, также известный как UNKLE записал саундтрек к сериалу «Траст» канала FX\",\"attachments\":[{\"type\":\"photo\",\"photo\":{\"id\":456247791,\"album_id\":-7,\"owner_id\":-4100014,\"user_id\":100,\"sizes\":[{\"type\":\"m\",\"url\":\"https:\\/\\/pp.userapi.com\\/c830508\\/v830508330\\/1db2aa\\/-urmwyxlG90.jpg\",\"width\":130,\"height\":130},{\"type\":\"o\",\"url\":\"https:\\/\\/pp.userapi.com\\/c830508\\/v830508330\\/1db2ae\\/UYCR52C4aEY.jpg\",\"width\":130,\"height\":130},{\"type\":\"p\",\"url\":\"https:\\/\\/pp.userapi.com\\/c830508\\/v830508330\\/1db2af\\/vba21nTBiXM.jpg\",\"width\":200,\"height\":200},{\"type\":\"q\",\"url\":\"https:\\/\\/pp.userapi.com\\/c830508\\/v830508330\\/1db2b0\\/rrj6U-eEY4Y.jpg\",\"width\":320,\"height\":320},{\"type\":\"r\",\"url\":\"https:\\/\\/pp.userapi.com\\/c830508\\/v830508330\\/1db2b1\\/kLoxnPxRDPE.jpg\",\"width\":510,\"height\":510},{\"type\":\"s\",\"url\":\"https:\\/\\/pp.userapi.com\\/c830508\\/v830508330\\/1db2a9\\/1ExI-yD2_-8.jpg\",\"width\":75,\"height\":75},{\"type\":\"x\",\"url\":\"https:\\/\\/pp.userapi.com\\/c830508\\/v830508330\\/1db2ab\\/LdPT7ztNQ0o.jpg\",\"width\":604,\"height\":604},{\"type\":\"y\",\"url\":\"https:\\/\\/pp.userapi.com\\/c830508\\/v830508330\\/1db2ac\\/69-khecbY9U.jpg\",\"width\":807,\"height\":807},{\"type\":\"z\",\"url\":\"https:\\/\\/pp.userapi.com\\/c830508\\/v830508330\\/1db2ad\\/m1He8u70uv0.jpg\",\"width\":1080,\"height\":1080}],\"text\":\"\",\"date\":1542304688,\"access_key\":\"f5a92b05d2951fcaba\"}},{\"type\":\"link\",\"link\":{\"url\":\"https:\\/\\/m.vk.com\\/audio?act=audio_playlist-4100014_62189092&api_view=b58a3d6f2f988a6b505ff34e605429\",\"title\":\"UNKLE –Trust OST\",\"description\":\"Плейлист\",\"photo\":{\"id\":456239018,\"album_id\":235125454,\"owner_id\":-127435785,\"user_id\":100,\"sizes\":[{\"type\":\"m\",\"url\":\"https:\\/\\/sun1-13.userapi.com\\/c637630\\/v637630075\\/3d838\\/-D_AFiarQHY.jpg\",\"width\":130,\"height\":130},{\"type\":\"o\",\"url\":\"https:\\/\\/sun1-18.userapi.com\\/c637630\\/v637630075\\/3d83a\\/_o5f5AJbwhw.jpg\",\"width\":130,\"height\":130},{\"type\":\"p\",\"url\":\"https:\\/\\/sun1-14.userapi.com\\/c637630\\/v637630075\\/3d83b\\/t1L2-NeXjHk.jpg\",\"width\":200,\"height\":200},{\"type\":\"q\",\"url\":\"https:\\/\\/sun1-2.userapi.com\\/c637630\\/v637630075\\/3d83c\\/HKURh1Fy6-A.jpg\",\"width\":320,\"height\":320},{\"type\":\"r\",\"url\":\"https:\\/\\/sun1-18.userapi.com\\/c637630\\/v637630075\\/3d83d\\/PIuiHyOMo4c.jpg\",\"width\":510,\"height\":510},{\"type\":\"s\",\"url\":\"https:\\/\\/sun1-6.userapi.com\\/c637630\\/v637630075\\/3d837\\/ZQCLOU9vt9U.jpg\",\"width\":75,\"height\":75},{\"type\":\"x\",\"url\":\"https:\\/\\/sun1-10.userapi.com\\/c637630\\/v637630075\\/3d839\\/QoS1sHwG3kY.jpg\",\"width\":512,\"height\":512}],\"text\":\"\",\"date\":1490173981}}}],\"post_source\":{\"type\":\"vk\"}}],\"post_source\":{\"type\":\"vk\"},\"comments\":{\"count\":0,\"can_post\":0,\"groups_can_post\":true},\"likes\":{\"count\":0,\"user_likes\":0,\"can_like\":1,\"can_publish\":1},\"reposts\":{\"count\":0,\"user_reposted\":0},\"views\":{\"count\":32},\"is_favorite\":false},{\"id\":5500,\"from_id\":1789350,\"owner_id\":1789350,\"date\":1541761835,\"post_type\":\"post\",\"text\":\"\",\"copy_history\":[{\"id\":453135,\"owner_id\":-4100014,\"from_id\":-4100014,\"date\":1541761293,\"post_type\":\"post\",\"text\":\"Muse – Simulation Theory (2018)\\nAlternative Rock \\/ Synthpop \\/ Synth Rock (UK)\\n\\nВышел восьмой студийный альбом Muse\\n\\nСлушать весь альбом плейлистом: https:\\/\\/vk.cc\\/8G9FPi\",\"attachments\":[{\"type\":\"photo\",\"photo\":{\"id\":456247748,\"album_id\":-7,\"owner_id\":-4100014,\"user_id\":100,\"sizes\":[{\"type\":\"m\",\"url\":\"https:\\/\\/sun1-13.userapi.com\\/c846322\\/v846322133\\/12b58d\\/5G7LOijxBlM.jpg\",\"width\":130,\"height\":130},{\"type\":\"o\",\"url\":\"https:\\/\\/sun1-22.userapi.com\\/c846322\\/v846322133\\/12b592\\/D_ZkDcHSY78.jpg\",\"width\":130,\"height\":130},{\"type\":\"p\",\"url\":\"https:\\/\\/sun1-9.userapi.com\\/c846322\\/v846322133\\/12b593\\/yZJujgYtuZ0.jpg\",\"width\":200,\"height\":200},{\"type\":\"q\",\"url\":\"https:\\/\\/sun1-11.userapi.com\\/c846322\\/v846322133\\/12b594\\/h515Hp-KSAI.jpg\",\"width\":320,\"height\":320},{\"type\":\"r\",\"url\":\"https:\\/\\/sun1-11.userapi.com\\/c846322\\/v846322133\\/12b595\\/i7eLbcdPUTc.jpg\",\"width\":510,\"height\":510},{\"type\":\"s\",\"url\":\"https:\\/\\/sun1-8.userapi.com\\/c846322\\/v846322133\\/12b58c\\/pN5_nDnL7PY.jpg\",\"width\":75,\"height\":75},{\"type\":\"w\",\"url\":\"https:\\/\\/sun1-2.userapi.com\\/c846322\\/v846322133\\/12b591\\/d1zPI9muOi0.jpg\",\"width\":1400,\"height\":1400},{\"type\":\"x\",\"url\":\"https:\\/\\/sun1-3.userapi.com\\/c846322\\/v846322133\\/12b58e\\/BLUgSSjHE98.jpg\",\"width\":604,\"height\":604},{\"type\":\"y\",\"url\":\"https:\\/\\/sun1-22.userapi.com\\/c846322\\/v846322133\\/12b58f\\/VgPcx4-qI2U.jpg\",\"width\":807,\"height\":807},{\"type\":\"z\",\"url\":\"https:\\/\\/sun1-11.userapi.com\\/c846322\\/v846322133\\/12b590\\/7r02v2S_TTQ.jpg\",\"width\":1080,\"height\":1080}],\"text\":\"\",\"date\":1541760550,\"access_key\":\"5fc6984074a7e9c4ab\"}},{\"type\":\"audio\",\"audio\":{\"id\":456241536,\"owner_id\":2000017171,\"artist\":\"Muse\",\"title\":\"Algorithm\",\"duration\":25,\"date\":1541760550,\"url\":\"https:\\/\\/vk.com\\/mp3\\/audio_api_unavailable.mp3\",\"album_id\":2,\"is_hq\":true,\"track_code\":\"b25877062NDIcAfvWebJi8bTRMccrhavwWDZp3lqzeWrMPnqQ1fr65gwLLoPvafPkg\",\"is_explicit\":false,\"main_artists\":[{\"name\":\"Muse\",\"id\":\"8099015328710656381\",\"domain\":\"8099015328710656381\"}]}},{\"type\":\"audio\",\"audio\":{\"id\":456241313,\"owner_id\":2000018568,\"artist\":\"Muse\",\"title\":\"The Dark Side\",\"duration\":25,\"date\":1541760550,\"url\":\"https:\\/\\/vk.com\\/mp3\\/audio_api_unavailable.mp3\",\"album_id\":2,\"is_hq\":true,\"track_code\":\"3a171ab78aVfdHBSJD66Yd8Za2i1cCV6_6R47xtBp70WxtQ1FoPCng80WwdyZdQliw\",\"is_explicit\":false,\"main_artists\":[{\"name\":\"Muse\",\"id\":\"8099015328710656381\",\"domain\":\"8099015328710656381\"}]}},{\"type\":\"audio\",\"audio\":{\"id\":456241443,\"owner_id\":2000017914,\"artist\":\"Muse\",\"title\":\"Pressure\",\"duration\":25,\"date\":1541760550,\"url\":\"https:\\/\\/vk.com\\/mp3\\/audio_api_unavailable.mp3\",\"album_id\":2,\"is_hq\":true,\"track_code\":\"826e48771VE8JVeIYI40jI8C_Zizve7r-mIrxEr5tRYb_-5b_PfmamxlfN021VrI2w\",\"is_explicit\":false,\"main_artists\":[{\"name\":\"Muse\",\"id\":\"8099015328710656381\",\"domain\":\"8099015328710656381\"}]}},{\"type\":\"audio\",\"audio\":{\"id\":456241519,\"owner_id\":2000017186,\"artist\":\"Muse\",\"title\":\"Propaganda\",\"duration\":25,\"date\":1541760550,\"url\":\"https:\\/\\/vk.com\\/mp3\\/audio_api_unavailable.mp3\",\"album_id\":2,\"is_hq\":true,\"track_code\":\"e0b18691mdCm764nUQfthGE_VBs7XYjHuwyn0u5OZJ51zZUexnSq6_avhXIHXIPANQ\",\"is_explicit\":false,\"main_artists\":[{\"name\":\"Muse\",\"id\":\"8099015328710656381\",\"domain\":\"8099015328710656381\"}]}},{\"type\":\"audio\",\"audio\":{\"id\":456241602,\"owner_id\":2000016634,\"artist\":\"Muse\",\"title\":\"Break it to Me\",\"duration\":25,\"date\":1541760550,\"url\":\"https:\\/\\/vk.com\\/mp3\\/audio_api_unavailable.mp3\",\"album_id\":2,\"is_hq\":true,\"track_code\":\"195d76574uYkjDeCau-6tiZwL-C36LcPmdiM-7KKIP6XEcVlF87R3XTMHNc8tNTycg\",\"is_explicit\":false,\"main_artists\":[{\"name\":\"Muse\",\"id\":\"8099015328710656381\",\"domain\":\"8099015328710656381\"}]}},{\"type\":\"audio\",\"audio\":{\"id\":456241639,\"owner_id\":2000015994,\"artist\":\"Muse\",\"title\":\"Something Human\",\"duration\":25,\"date\":1541760550,\"url\":\"https:\\/\\/vk.com\\/mp3\\/audio_api_unavailable.mp3\",\"album_id\":2,\"is_hq\":true,\"track_code\":\"4d0a08179-MhYG9gEjuQbX27ENDPiD_Wjgj20aPsVhO2pv1X4nbE2HEgRDVEYP4pKQ\",\"is_explicit\":false,\"main_artists\":[{\"name\":\"Muse\",\"id\":\"8099015328710656381\",\"domain\":\"8099015328710656381\"}]}},{\"type\":\"audio\",\"audio\":{\"id\":456241850,\"owner_id\":2000014948,\"artist\":\"Muse\",\"title\":\"Thought Contagion\",\"duration\":25,\"date\":1541760550,\"url\":\"https:\\/\\/vk.com\\/mp3\\/audio_api_unavailable.mp3\",\"album_id\":2,\"is_hq\":true,\"track_code\":\"b5555fe2IhSniaeHBDoiBQHTxL4Ill9ja-QA68PEd6-C6Y9FU64RL_fJjNJSYUxBVQ\",\"is_explicit\":false,\"main_artists\":[{\"name\":\"Muse\",\"id\":\"8099015328710656381\",\"domain\":\"8099015328710656381\"}]}},{\"type\":\"audio\",\"audio\":{\"id\":456241436,\"owner_id\":2000017259,\"artist\":\"Muse\",\"title\":\"Get Up and Fight\",\"duration\":25,\"date\":1541760550,\"url\":\"https:\\/\\/vk.com\\/mp3\\/audio_api_unavailable.mp3\",\"album_id\":2,\"is_hq\":true,\"track_code\":\"284a01beWbOlbJEff-0luSxFRcoFXM1Y0X15Kw4Z9ep9_fcW5gxqiPUsukoptkv9eA\",\"is_explicit\":false,\"main_artists\":[{\"name\":\"Muse\",\"id\":\"8099015328710656381\",\"domain\":\"8099015328710656381\"}]}},{\"type\":\"audio\",\"audio\":{\"id\":456241403,\"owner_id\":2000018067,\"artist\":\"Muse\",\"title\":\"The Void\",\"duration\":25,\"date\":1541760550,\"url\":\"https:\\/\\/vk.com\\/mp3\\/audio_api_unavailable.mp3\",\"album_id\":2,\"is_hq\":true,\"track_code\":\"c069f2abPCV1NMscuYLImZiKF74QU8DURMQglfgsGBP90m1QdOIPHiV04Env2abdzA\",\"is_explicit\":false,\"main_artists\":[{\"name\":\"Muse\",\"id\":\"8099015328710656381\",\"domain\":\"8099015328710656381\"}]}}],\"post_source\":{\"type\":\"vk\"}}],\"post_source\":{\"type\":\"vk\"},\"comments\":{\"count\":0,\"can_post\":0,\"groups_can_post\":true},\"likes\":{\"count\":0,\"user_likes\":0,\"can_like\":1,\"can_publish\":1},\"reposts\":{\"count\":0,\"user_reposted\":0},\"views\":{\"count\":23},\"is_favorite\":false},{\"id\":5497,\"from_id\":1789350,\"owner_id\":1789350,\"date\":1541082966,\"post_type\":\"post\",\"text\":\"\",\"attachments\":[{\"type\":\"link\",\"link\":{\"url\":\"https:\\/\\/m.vk.com\\/audio?act=audio_playlist-2000311925_3311925&access_hash=84d555d1a0460bfd92&api_view=c759cb9a722cd98c705ffe710f005c\",\"title\":\"Mona Lisa\",\"caption\":\"m.vk.com\",\"description\":\"Плейлист\",\"photo\":{\"id\":456239018,\"album_id\":235125454,\"owner_id\":-127435785,\"user_id\":100,\"sizes\":[{\"type\":\"m\",\"url\":\"https:\\/\\/sun1-13.userapi.com\\/c637630\\/v637630075\\/3d838\\/-D_AFiarQHY.jpg\",\"width\":130,\"height\":130},{\"type\":\"o\",\"url\":\"https:\\/\\/sun1-18.userapi.com\\/c637630\\/v637630075\\/3d83a\\/_o5f5AJbwhw.jpg\",\"width\":130,\"height\":130},{\"type\":\"p\",\"url\":\"https:\\/\\/sun1-14.userapi.com\\/c637630\\/v637630075\\/3d83b\\/t1L2-NeXjHk.jpg\",\"width\":200,\"height\":200},{\"type\":\"q\",\"url\":\"https:\\/\\/sun1-2.userapi.com\\/c637630\\/v637630075\\/3d83c\\/HKURh1Fy6-A.jpg\",\"width\":320,\"height\":320},{\"type\":\"r\",\"url\":\"https:\\/\\/sun1-18.userapi.com\\/c637630\\/v637630075\\/3d83d\\/PIuiHyOMo4c.jpg\",\"width\":510,\"height\":510},{\"type\":\"s\",\"url\":\"https:\\/\\/sun1-6.userapi.com\\/c637630\\/v637630075\\/3d837\\/ZQCLOU9vt9U.jpg\",\"width\":75,\"height\":75},{\"type\":\"x\",\"url\":\"https:\\/\\/sun1-10.userapi.com\\/c637630\\/v637630075\\/3d839\\/QoS1sHwG3kY.jpg\",\"width\":512,\"height\":512}],\"text\":\"\",\"date\":1490173981}}}],\"post_source\":{\"type\":\"vk\"},\"comments\":{\"count\":0,\"can_post\":0,\"groups_can_post\":true},\"likes\":{\"count\":0,\"user_likes\":0,\"can_like\":1,\"can_publish\":1},\"reposts\":{\"count\":0,\"user_reposted\":0},\"views\":{\"count\":68},\"is_favorite\":false},{\"id\":5496,\"from_id\":1789350,\"owner_id\":1789350,\"date\":1539346415,\"post_type\":\"post\",\"text\":\"\",\"attachments\":[{\"type\":\"photo\",\"photo\":{\"id\":456239264,\"album_id\":-7,\"owner_id\":1789350,\"sizes\":[{\"type\":\"m\",\"url\":\"https:\\/\\/pp.userapi.com\\/c844617\\/v844617633\\/10861e\\/oCrwamKbHj0.jpg\",\"width\":97,\"height\":130},{\"type\":\"o\",\"url\":\"https:\\/\\/pp.userapi.com\\/c844617\\/v844617633\\/108622\\/OIPkU2hFAXU.jpg\",\"width\":130,\"height\":173},{\"type\":\"p\",\"url\":\"https:\\/\\/pp.userapi.com\\/c844617\\/v844617633\\/108623\\/QP6EIZNOmGk.jpg\",\"width\":200,\"height\":267},{\"type\":\"q\",\"url\":\"https:\\/\\/pp.userapi.com\\/c844617\\/v844617633\\/108624\\/Vbo3mdlyVAw.jpg\",\"width\":320,\"height\":427},{\"type\":\"r\",\"url\":\"https:\\/\\/pp.userapi.com\\/c844617\\/v844617633\\/108625\\/PVAfV3__OWQ.jpg\",\"width\":510,\"height\":680},{\"type\":\"s\",\"url\":\"https:\\/\\/pp.userapi.com\\/c844617\\/v844617633\\/10861d\\/_tZWSuu6lsg.jpg\",\"width\":56,\"height\":75},{\"type\":\"x\",\"url\":\"https:\\/\\/pp.userapi.com\\/c844617\\/v844617633\\/10861f\\/5OjLo8Py5GI.jpg\",\"width\":453,\"height\":604},{\"type\":\"y\",\"url\":\"https:\\/\\/pp.userapi.com\\/c844617\\/v844617633\\/108620\\/j_v98-R8hco.jpg\",\"width\":605,\"height\":807},{\"type\":\"z\",\"url\":\"https:\\/\\/pp.userapi.com\\/c844617\\/v844617633\\/108621\\/IGyKSNCEHos.jpg\",\"width\":700,\"height\":933}],\"text\":\"\",\"date\":1539346413,\"post_id\":5496,\"access_key\":\"2baf3133055d7e82dc\"}}],\"post_source\":{\"type\":\"vk\"},\"comments\":{\"count\":0,\"can_post\":0,\"groups_can_post\":true},\"likes\":{\"count\":1,\"user_likes\":0,\"can_like\":1,\"can_publish\":1},\"reposts\":{\"count\":0,\"user_reposted\":0},\"views\":{\"count\":91},\"is_favorite\":false},{\"id\":5495,\"from_id\":1789350,\"owner_id\":1789350,\"date\":1539078581,\"post_type\":\"post\",\"text\":\"\",\"copy_history\":[{\"id\":449908,\"owner_id\":-4100014,\"from_id\":-4100014,\"date\":1538760696,\"post_type\":\"post\",\"text\":\"Cat Power – Wanderer (2018)\\nIndie Folk \\/ Acoustic \\/ Indie Rock (USA)\\nLabel: Domino Recording\\n\\nСлушаем первый за шесть лет альбом прекрасной Cat Power\\n\\nApple Music: https:\\/\\/vk.cc\\/8xPk3d\\nВесь альбом плейлистом (11 треков): https:\\/\\/vk.cc\\/8yhFcu\",\"attachments\":[{\"type\":\"photo\",\"photo\":{\"id\":456247488,\"album_id\":-7,\"owner_id\":-4100014,\"user_id\":100,\"sizes\":[{\"type\":\"m\",\"url\":\"https:\\/\\/pp.userapi.com\\/c830400\\/v830400412\\/1ae8ca\\/lVb9W079oRU.jpg\",\"width\":130,\"height\":130},{\"type\":\"o\",\"url\":\"https:\\/\\/pp.userapi.com\\/c830400\\/v830400412\\/1ae8cf\\/Aaj2euDPwhA.jpg\",\"width\":130,\"height\":130},{\"type\":\"p\",\"url\":\"https:\\/\\/pp.userapi.com\\/c830400\\/v830400412\\/1ae8d0\\/xWVTw4yUmGA.jpg\",\"width\":200,\"height\":200},{\"type\":\"q\",\"url\":\"https:\\/\\/pp.userapi.com\\/c830400\\/v830400412\\/1ae8d1\\/647Vmst4jko.jpg\",\"width\":320,\"height\":320},{\"type\":\"r\",\"url\":\"https:\\/\\/pp.userapi.com\\/c830400\\/v830400412\\/1ae8d2\\/-U0Iw6UUBjY.jpg\",\"width\":510,\"height\":510},{\"type\":\"s\",\"url\":\"https:\\/\\/pp.userapi.com\\/c830400\\/v830400412\\/1ae8c9\\/cWGPtvAPa1g.jpg\",\"width\":75,\"height\":75},{\"type\":\"w\",\"url\":\"https:\\/\\/pp.userapi.com\\/c830400\\/v830400412\\/1ae8ce\\/mksQ3n0X4Po.jpg\",\"width\":1400,\"height\":1400},{\"type\":\"x\",\"url\":\"https:\\/\\/pp.userapi.com\\/c830400\\/v830400412\\/1ae8cb\\/V5Blr0iwyDc.jpg\",\"width\":604,\"height\":604},{\"type\":\"y\",\"url\":\"https:\\/\\/pp.userapi.com\\/c830400\\/v830400412\\/1ae8cc\\/_FaukS8CmoM.jpg\",\"width\":807,\"height\":807},{\"type\":\"z\",\"url\":\"https:\\/\\/pp.userapi.com\\/c830400\\/v830400412\\/1ae8cd\\/eauDe-DoVVU.jpg\",\"width\":1080,\"height\":1080}],\"text\":\"\",\"date\":1538758843,\"access_key\":\"162c050f32f2a4ae71\"}},{\"type\":\"audio\",\"audio\":{\"id\":456241853,\"owner_id\":2000457272,\"artist\":\"Cat Power\",\"title\":\"In Your Face\",\"duration\":25,\"date\":1538759846,\"url\":\"https:\\/\\/vk.com\\/mp3\\/audio_api_unavailable.mp3\",\"album_id\":2,\"is_hq\":true,\"track_code\":\"28509f9543Ypb3e0NqO-dRRDmACUxIYgR3OEo2iuTRdXfY7G7EbQTXkvXOFh8tgyTQ\",\"is_explicit\":false}},{\"type\":\"audio\",\"audio\":{\"id\":456241574,\"owner_id\":2000460866,\"artist\":\"Cat Power\",\"title\":\"You Get\",\"duration\":25,\"date\":1538759846,\"url\":\"https:\\/\\/vk.com\\/mp3\\/audio_api_unavailable.mp3\",\"album_id\":2,\"is_hq\":true,\"track_code\":\"382e6019Bks42EiO69Dq22M5PzQc7iCvUfdjpWhNA8zKP9gvBt41cGiYY9u8gYycOg\",\"is_explicit\":false}},{\"type\":\"audio\",\"audio\":{\"id\":456241940,\"owner_id\":2000457927,\"artist\":\"Cat Power\",\"title\":\"Woman (feat. Lana Del Rey)\",\"duration\":25,\"date\":1538759846,\"url\":\"https:\\/\\/vk.com\\/mp3\\/audio_api_unavailable.mp3\",\"album_id\":2,\"genre_id\":1001,\"is_hq\":true,\"track_code\":\"c7d32f368zqkX6kEVzndK_6s4YNezhQF6K_-2TH4CNGN1zSjq8XAAfQfglEAaLtspw\",\"is_explicit\":false}},{\"type\":\"audio\",\"audio\":{\"id\":456241886,\"owner_id\":2000457773,\"artist\":\"Cat Power\",\"title\":\"Horizon\",\"duration\":25,\"date\":1538759846,\"url\":\"https:\\/\\/vk.com\\/mp3\\/audio_api_unavailable.mp3\",\"album_id\":2,\"is_hq\":true,\"track_code\":\"2f8a7eb2s3TaNzdoviEKy4YkXkRvYterfMLU63B-gDIDAG-k9wWAT4p3HD3pcGyM3w\",\"is_explicit\":false}},{\"type\":\"audio\",\"audio\":{\"id\":456241648,\"owner_id\":2000459723,\"artist\":\"Cat Power\",\"title\":\"Stay\",\"duration\":25,\"date\":1538759847,\"url\":\"https:\\/\\/vk.com\\/mp3\\/audio_api_unavailable.mp3\",\"album_id\":2,\"is_hq\":true,\"track_code\":\"86828c62lMsYXT8Z6MDfAzDDssXZSR_LNcuEOmYK8CQMurl2uR-n8EgdFEy_kblEaQ\",\"is_explicit\":false}},{\"type\":\"audio\",\"audio\":{\"id\":456241564,\"owner_id\":2000460383,\"artist\":\"Cat Power\",\"title\":\"Black\",\"duration\":25,\"date\":1538759847,\"url\":\"https:\\/\\/vk.com\\/mp3\\/audio_api_unavailable.mp3\",\"album_id\":2,\"is_hq\":true,\"track_code\":\"8039f280EKRehxDDUpq-ivmWTAiSxifAYwPtqkTvHLPqeNApoOcjnw7HO5YFy9jNoA\",\"is_explicit\":false}},{\"type\":\"audio\",\"audio\":{\"id\":456242087,\"owner_id\":2000457753,\"artist\":\"Cat Power\",\"title\":\"Robbin Hood\",\"duration\":25,\"date\":1538759847,\"url\":\"https:\\/\\/vk.com\\/mp3\\/audio_api_unavailable.mp3\",\"album_id\":2,\"is_hq\":true,\"track_code\":\"d6abe591unS8NSs_e3lh_DDRJKLH10rCnbesbAGPfsMrfrgFAU2JT-x1AGosKAe7aQ\",\"is_explicit\":false}},{\"type\":\"audio\",\"audio\":{\"id\":456241958,\"owner_id\":2000457643,\"artist\":\"Cat Power\",\"title\":\"Nothing Really Matters\",\"duration\":25,\"date\":1538759847,\"url\":\"https:\\/\\/vk.com\\/mp3\\/audio_api_unavailable.mp3\",\"album_id\":2,\"is_hq\":true,\"track_code\":\"9959ca75Ld-EBAOmv50s4QbIxCyjnQ_IowHrj4XJhQyMekSamdMe5NREKPPozEqmXw\",\"is_explicit\":false}},{\"type\":\"audio\",\"audio\":{\"id\":456242014,\"owner_id\":2000457616,\"artist\":\"Cat Power\",\"title\":\"Me Voy\",\"duration\":25,\"date\":1538759847,\"url\":\"https:\\/\\/vk.com\\/mp3\\/audio_api_unavailable.mp3\",\"album_id\":2,\"is_hq\":true,\"track_code\":\"740bbd78ju5QQpkEAtxcreWq7fUKLPN1nPGPd2mJ5w3P6WMdlRO91QACslFVjTrqvA\",\"is_explicit\":false}}],\"post_source\":{\"type\":\"vk\"}}],\"post_source\":{\"type\":\"vk\"},\"comments\":{\"count\":0,\"can_post\":0,\"groups_can_post\":true},\"likes\":{\"count\":0,\"user_likes\":0,\"can_like\":1,\"can_publish\":1},\"reposts\":{\"count\":0,\"user_reposted\":0},\"views\":{\"count\":39},\"is_favorite\":false},{\"id\":5494,\"from_id\":1789350,\"owner_id\":1789350,\"date\":1538723582,\"post_type\":\"post\",\"text\":\"\",\"copy_history\":[{\"id\":97941,\"owner_id\":-26457580,\"from_id\":-26457580,\"date\":1537688736,\"post_type\":\"post\",\"text\":\"King Bolete — A Deal With the Dark Ones (2018)\\n\\n#stoner #psych #heavy_blues\\n\\nГруппа из UK с хорошим таким названием представляет дебютный альбом.\\n\\nkingbolete.bandcamp.com\\n\\nmp3: vk.cc\\/8vCh7P\\n\\n#killsetband\",\"attachments\":[{\"type\":\"photo\",\"photo\":{\"id\":456241204,\"album_id\":-7,\"owner_id\":-26457580,\"user_id\":100,\"sizes\":[{\"type\":\"m\",\"url\":\"https:\\/\\/pp.userapi.com\\/c849216\\/v849216365\\/81e4e\\/xnunI3hP3Og.jpg\",\"width\":130,\"height\":130},{\"type\":\"o\",\"url\":\"https:\\/\\/pp.userapi.com\\/c849216\\/v849216365\\/81e53\\/YnxOT2W2ilE.jpg\",\"width\":130,\"height\":130},{\"type\":\"p\",\"url\":\"https:\\/\\/pp.userapi.com\\/c849216\\/v849216365\\/81e54\\/T9hA4T94588.jpg\",\"width\":200,\"height\":200},{\"type\":\"q\",\"url\":\"https:\\/\\/pp.userapi.com\\/c849216\\/v849216365\\/81e55\\/V6DXE8fyhhc.jpg\",\"width\":320,\"height\":320},{\"type\":\"r\",\"url\":\"https:\\/\\/pp.userapi.com\\/c849216\\/v849216365\\/81e56\\/tDUKl5OFrMM.jpg\",\"width\":510,\"height\":510},{\"type\":\"s\",\"url\":\"https:\\/\\/pp.userapi.com\\/c849216\\/v849216365\\/81e4d\\/5pRs5Z0juT0.jpg\",\"width\":75,\"height\":75},{\"type\":\"w\",\"url\":\"https:\\/\\/pp.userapi.com\\/c849216\\/v849216365\\/81e52\\/wr7qkb9uRow.jpg\",\"width\":1200,\"height\":1200},{\"type\":\"x\",\"url\":\"https:\\/\\/pp.userapi.com\\/c849216\\/v849216365\\/81e4f\\/TyGDfIDo-us.jpg\",\"width\":604,\"height\":604},{\"type\":\"y\",\"url\":\"https:\\/\\/pp.userapi.com\\/c849216\\/v849216365\\/81e50\\/aKDjoIA5fCg.jpg\",\"width\":807,\"height\":807},{\"type\":\"z\",\"url\":\"https:\\/\\/pp.userapi.com\\/c849216\\/v849216365\\/81e51\\/GagHaczPqsU.jpg\",\"width\":1080,\"height\":1080}],\"text\":\"\",\"date\":1537688736,\"post_id\":97941,\"access_key\":\"dfe743d1019a965668\"}},{\"type\":\"audio\",\"audio\":{\"id\":456241691,\"owner_id\":2000433957,\"artist\":\"King Bolete\",\"title\":\"Green Witch\",\"duration\":25,\"date\":1537688736,\"url\":\"https:\\/\\/vk.com\\/mp3\\/audio_api_unavailable.mp3\",\"genre_id\":1,\"is_hq\":true,\"track_code\":\"2e0dc48eShp96QnScuhaFZaBLWESbnELzFY0Vy04JiXOLqsMo7F8JimlTewotzxWxg\",\"is_explicit\":false}},{\"type\":\"audio\",\"audio\":{\"id\":456241796,\"owner_id\":2000433421,\"artist\":\"King Bolete\",\"title\":\"Down to the Chapel\",\"duration\":25,\"date\":1537688736,\"url\":\"https:\\/\\/vk.com\\/mp3\\/audio_api_unavailable.mp3\",\"genre_id\":1,\"is_hq\":true,\"track_code\":\"8710cb2aJg6NIAAKxhfSF2RB9SktMX3a842pM_g-0mdjf1Il-AcQMtlsRDScSLRUNA\",\"is_explicit\":false}},{\"type\":\"audio\",\"audio\":{\"id\":456241438,\"owner_id\":2000435721,\"artist\":\"King Bolete\",\"title\":\"Palm Reader\",\"duration\":25,\"date\":1537688736,\"url\":\"https:\\/\\/vk.com\\/mp3\\/audio_api_unavailable.mp3\",\"genre_id\":1,\"is_hq\":true,\"track_code\":\"3a389b3aU-Hr0mZG8iwh90Yyb9RWQojD8BAKnIxzgzS-5zyK7lJl3b-eInioc0e0Fg\",\"is_explicit\":false}},{\"type\":\"audio\",\"audio\":{\"id\":456241653,\"owner_id\":2000434331,\"artist\":\"King Bolete\",\"title\":\"Standing Stones\",\"duration\":25,\"date\":1537688736,\"url\":\"https:\\/\\/vk.com\\/mp3\\/audio_api_unavailable.mp3\",\"genre_id\":1,\"is_hq\":true,\"track_code\":\"c5de41f7Eomf1n1ZiKP--x3_JY_xuxXDMmDdiraOFHUbqDxBAYQktcuaOWfS_Ji4TQ\",\"is_explicit\":false}},{\"type\":\"audio\",\"audio\":{\"id\":456241749,\"owner_id\":2000434202,\"artist\":\"King Bolete\",\"title\":\"Liquid Moon\",\"duration\":25,\"date\":1537688736,\"url\":\"https:\\/\\/vk.com\\/mp3\\/audio_api_unavailable.mp3\",\"genre_id\":1,\"is_hq\":true,\"track_code\":\"cea5e1cbsiD2TnxNQokQE2vXDypUpWq8XvoRh5dj9lW-CnqiniWEHKICOHMY1nZQOw\",\"is_explicit\":false}},{\"type\":\"audio\",\"audio\":{\"id\":456241858,\"owner_id\":2000433080,\"artist\":\"King Bolete\",\"title\":\"Wolf Driver\",\"duration\":25,\"date\":1537688736,\"url\":\"https:\\/\\/vk.com\\/mp3\\/audio_api_unavailable.mp3\",\"genre_id\":1,\"is_hq\":true,\"track_code\":\"92c234edoXFr4cXX_0NDK-zC8JHoTwkUOv733Gi9WLEpN3y5AeeXTT-tgemlHCVovA\",\"is_explicit\":false}}],\"post_source\":{\"type\":\"vk\"}}],\"post_source\":{\"type\":\"vk\"},\"comments\":{\"count\":0,\"can_post\":0,\"groups_can_post\":true},\"likes\":{\"count\":0,\"user_likes\":0,\"can_like\":1,\"can_publish\":1},\"reposts\":{\"count\":0,\"user_reposted\":0},\"views\":{\"count\":32},\"is_favorite\":false}]}}\n",
      "477\n",
      "478\n",
      "479\n",
      "480\n",
      "481\n",
      "482\n",
      "483\n",
      "484\n",
      "485\n",
      "486\n",
      "487\n",
      "488\n",
      "489\n",
      "retry\n",
      "{\"error\":{\"error_code\":30,\"error_msg\":\"This profile is private\",\"request_params\":[{\"key\":\"oauth\",\"value\":\"1\"},{\"key\":\"method\",\"value\":\"wall.get\"},{\"key\":\"owner_id\",\"value\":\"2143283\"},{\"key\":\"v\",\"value\":\"5.92\"}]}}\n",
      "490\n",
      "491\n",
      "492\n",
      "493\n",
      "494\n",
      "retry\n",
      "{\"error\":{\"error_code\":30,\"error_msg\":\"This profile is private\",\"request_params\":[{\"key\":\"oauth\",\"value\":\"1\"},{\"key\":\"method\",\"value\":\"wall.get\"},{\"key\":\"owner_id\",\"value\":\"2292145\"},{\"key\":\"v\",\"value\":\"5.92\"}]}}\n",
      "495\n",
      "496\n",
      "497\n",
      "498\n",
      "retry\n",
      "{\"error\":{\"error_code\":30,\"error_msg\":\"This profile is private\",\"request_params\":[{\"key\":\"oauth\",\"value\":\"1\"},{\"key\":\"method\",\"value\":\"wall.get\"},{\"key\":\"owner_id\",\"value\":\"2336095\"},{\"key\":\"v\",\"value\":\"5.92\"}]}}\n",
      "499\n",
      "500\n",
      "retry\n",
      "{\"error\":{\"error_code\":30,\"error_msg\":\"This profile is private\",\"request_params\":[{\"key\":\"oauth\",\"value\":\"1\"},{\"key\":\"method\",\"value\":\"wall.get\"},{\"key\":\"owner_id\",\"value\":\"2470692\"},{\"key\":\"v\",\"value\":\"5.92\"}]}}\n",
      "501\n",
      "502\n",
      "503\n",
      "504\n",
      "505\n",
      "retry\n",
      "{\"error\":{\"error_code\":30,\"error_msg\":\"This profile is private\",\"request_params\":[{\"key\":\"oauth\",\"value\":\"1\"},{\"key\":\"method\",\"value\":\"wall.get\"},{\"key\":\"owner_id\",\"value\":\"2686682\"},{\"key\":\"v\",\"value\":\"5.92\"}]}}\n",
      "506\n",
      "507\n",
      "508\n",
      "509\n",
      "510\n",
      "511\n",
      "512\n",
      "513\n",
      "514\n",
      "515\n",
      "516\n",
      "retry\n",
      "{\"response\":{\"count\":626,\"items\":[{\"id\":750,\"from_id\":3004879,\"owner_id\":3004879,\"date\":1541506304,\"post_type\":\"post\",\"text\":\"\",\"attachments\":[{\"type\":\"link\",\"link\":{\"url\":\"https:\\/\\/amoconf.ru\\/1311\",\"title\":\"Присоединяйтесь онлайн к АМОКОНФ в Сан-Франциско. #АМОКОНФ\",\"caption\":\"amoconf.ru\",\"description\":\"undefined\",\"photo\":{\"id\":456243520,\"album_id\":-2,\"owner_id\":100,\"sizes\":[{\"type\":\"k\",\"url\":\"https:\\/\\/pp.userapi.com\\/c844617\\/v844617588\\/120948\\/kplYhqxTfS8.jpg\",\"width\":1024,\"height\":480},{\"type\":\"l\",\"url\":\"https:\\/\\/pp.userapi.com\\/c844617\\/v844617588\\/120947\\/_yX8K92Ds80.jpg\",\"width\":537,\"height\":240},{\"type\":\"m\",\"url\":\"https:\\/\\/pp.userapi.com\\/c844617\\/v844617588\\/120944\\/uIn6lL1nPRM.jpg\",\"width\":130,\"height\":71},{\"type\":\"p\",\"url\":\"https:\\/\\/pp.userapi.com\\/c844617\\/v844617588\\/120946\\/1Rshw2pKcRM.jpg\",\"width\":260,\"height\":141},{\"type\":\"s\",\"url\":\"https:\\/\\/pp.userapi.com\\/c844617\\/v844617588\\/120943\\/-UbDszwzECg.jpg\",\"width\":75,\"height\":41},{\"type\":\"x\",\"url\":\"https:\\/\\/pp.userapi.com\\/c844617\\/v844617588\\/120945\\/qNUU7QW2rwI.jpg\",\"width\":150,\"height\":81}],\"text\":\"\",\"date\":1540811934},\"is_favorite\":false}}],\"post_source\":{\"type\":\"vk\"},\"comments\":{\"count\":0,\"can_post\":0,\"groups_can_post\":true},\"likes\":{\"count\":14,\"user_likes\":0,\"can_like\":1,\"can_publish\":1},\"reposts\":{\"count\":0,\"user_reposted\":0},\"views\":{\"count\":115},\"is_favorite\":false},{\"id\":747,\"from_id\":3004879,\"owner_id\":3004879,\"date\":1536851702,\"post_type\":\"post\",\"text\":\"Must have!\",\"copy_history\":[{\"id\":32392,\"owner_id\":-19444929,\"from_id\":-19444929,\"date\":1536813000,\"post_type\":\"post\",\"text\":\"850 слов, выучив которые, вы сможете понимать более 60% английской речи!\",\"attachments\":[{\"type\":\"photo\",\"photo\":{\"id\":456249268,\"album_id\":-7,\"owner_id\":-19444929,\"user_id\":100,\"sizes\":[{\"type\":\"m\",\"url\":\"https:\\/\\/sun9-33.userapi.com\\/c845522\\/v845522085\\/f0214\\/z39x64_3Wa4.jpg\",\"width\":85,\"height\":130},{\"type\":\"o\",\"url\":\"https:\\/\\/sun9-25.userapi.com\\/c845522\\/v845522085\\/f0216\\/rQXgF9vnpHs.jpg\",\"width\":130,\"height\":198},{\"type\":\"p\",\"url\":\"https:\\/\\/sun9-14.userapi.com\\/c845522\\/v845522085\\/f0217\\/KY9hNaR1h30.jpg\",\"width\":200,\"height\":305},{\"type\":\"q\",\"url\":\"https:\\/\\/sun9-7.userapi.com\\/c845522\\/v845522085\\/f0218\\/isbHzC6lZmY.jpg\",\"width\":320,\"height\":488},{\"type\":\"r\",\"url\":\"https:\\/\\/sun9-26.userapi.com\\/c845522\\/v845522085\\/f0219\\/2XDpdnXs1p8.jpg\",\"width\":396,\"height\":604},{\"type\":\"s\",\"url\":\"https:\\/\\/sun9-7.userapi.com\\/c845522\\/v845522085\\/f0213\\/sLzJbwDDQnM.jpg\",\"width\":49,\"height\":75},{\"type\":\"x\",\"url\":\"https:\\/\\/sun9-27.userapi.com\\/c845522\\/v845522085\\/f0215\\/wxn3Bpp0gMA.jpg\",\"width\":396,\"height\":604}],\"text\":\"\",\"date\":1536761720,\"access_key\":\"23055a6f69213cdd1e\"}},{\"type\":\"photo\",\"photo\":{\"id\":456249269,\"album_id\":-7,\"owner_id\":-19444929,\"user_id\":100,\"sizes\":[{\"type\":\"m\",\"url\":\"https:\\/\\/pp.userapi.com\\/c845522\\/v845522085\\/f0229\\/zkQAwvFQGbU.jpg\",\"width\":85,\"height\":130},{\"type\":\"o\",\"url\":\"https:\\/\\/pp.userapi.com\\/c845522\\/v845522085\\/f022b\\/H_DU3Pk6qhk.jpg\",\"width\":130,\"height\":198},{\"type\":\"p\",\"url\":\"https:\\/\\/pp.userapi.com\\/c845522\\/v845522085\\/f022c\\/CL6_LGMrzaw.jpg\",\"width\":200,\"height\":305},{\"type\":\"q\",\"url\":\"https:\\/\\/pp.userapi.com\\/c845522\\/v845522085\\/f022d\\/1pncDdWU3Es.jpg\",\"width\":320,\"height\":488},{\"type\":\"r\",\"url\":\"https:\\/\\/pp.userapi.com\\/c845522\\/v845522085\\/f022e\\/yQHDTfOo5us.jpg\",\"width\":396,\"height\":604},{\"type\":\"s\",\"url\":\"https:\\/\\/pp.userapi.com\\/c845522\\/v845522085\\/f0228\\/VVCKSaUHdLw.jpg\",\"width\":49,\"height\":75},{\"type\":\"x\",\"url\":\"https:\\/\\/pp.userapi.com\\/c845522\\/v845522085\\/f022a\\/onRnYzC1gZQ.jpg\",\"width\":396,\"height\":604}],\"text\":\"\",\"date\":1536761720,\"access_key\":\"093dfbcbae8599bc91\"}},{\"type\":\"photo\",\"photo\":{\"id\":456249270,\"album_id\":-7,\"owner_id\":-19444929,\"user_id\":100,\"sizes\":[{\"type\":\"m\",\"url\":\"https:\\/\\/pp.userapi.com\\/c845522\\/v845522085\\/f021b\\/AO7gwsW1yHs.jpg\",\"width\":85,\"height\":130},{\"type\":\"o\",\"url\":\"https:\\/\\/pp.userapi.com\\/c845522\\/v845522085\\/f021d\\/rHwQd3t2xuM.jpg\",\"width\":130,\"height\":198},{\"type\":\"p\",\"url\":\"https:\\/\\/pp.userapi.com\\/c845522\\/v845522085\\/f021e\\/_zOEMwh-14w.jpg\",\"width\":200,\"height\":305},{\"type\":\"q\",\"url\":\"https:\\/\\/pp.userapi.com\\/c845522\\/v845522085\\/f021f\\/4aIK4dN9i0k.jpg\",\"width\":320,\"height\":488},{\"type\":\"r\",\"url\":\"https:\\/\\/pp.userapi.com\\/c845522\\/v845522085\\/f0220\\/psywz4zhNhM.jpg\",\"width\":396,\"height\":604},{\"type\":\"s\",\"url\":\"https:\\/\\/pp.userapi.com\\/c845522\\/v845522085\\/f021a\\/rwQQ38CJm0Y.jpg\",\"width\":49,\"height\":75},{\"type\":\"x\",\"url\":\"https:\\/\\/pp.userapi.com\\/c845522\\/v845522085\\/f021c\\/6bmy31aspFM.jpg\",\"width\":396,\"height\":604}],\"text\":\"\",\"date\":1536761720,\"access_key\":\"427fcda1e27eeac503\"}},{\"type\":\"photo\",\"photo\":{\"id\":456249271,\"album_id\":-7,\"owner_id\":-19444929,\"user_id\":100,\"sizes\":[{\"type\":\"m\",\"url\":\"https:\\/\\/pp.userapi.com\\/c845522\\/v845522085\\/f0222\\/uOZqTLc4ecg.jpg\",\"width\":85,\"height\":130},{\"type\":\"o\",\"url\":\"https:\\/\\/pp.userapi.com\\/c845522\\/v845522085\\/f0224\\/uyxhefQxHFY.jpg\",\"width\":130,\"height\":198},{\"type\":\"p\",\"url\":\"https:\\/\\/pp.userapi.com\\/c845522\\/v845522085\\/f0225\\/9lUhW1fDjTc.jpg\",\"width\":200,\"height\":305},{\"type\":\"q\",\"url\":\"https:\\/\\/pp.userapi.com\\/c845522\\/v845522085\\/f0226\\/QegR6HNyxQY.jpg\",\"width\":320,\"height\":488},{\"type\":\"r\",\"url\":\"https:\\/\\/pp.userapi.com\\/c845522\\/v845522085\\/f0227\\/F2Amf3thqgg.jpg\",\"width\":396,\"height\":604},{\"type\":\"s\",\"url\":\"https:\\/\\/pp.userapi.com\\/c845522\\/v845522085\\/f0221\\/fS0c_Lr8c1c.jpg\",\"width\":49,\"height\":75},{\"type\":\"x\",\"url\":\"https:\\/\\/pp.userapi.com\\/c845522\\/v845522085\\/f0223\\/GvHYXcaMHmA.jpg\",\"width\":396,\"height\":604}],\"text\":\"\",\"date\":1536761720,\"access_key\":\"ad9f5fe2590e724c0a\"}},{\"type\":\"photo\",\"photo\":{\"id\":456249272,\"album_id\":-7,\"owner_id\":-19444929,\"user_id\":100,\"sizes\":[{\"type\":\"m\",\"url\":\"https:\\/\\/pp.userapi.com\\/c845522\\/v845522085\\/f020d\\/2fFqBuXyEJs.jpg\",\"width\":85,\"height\":130},{\"type\":\"o\",\"url\":\"https:\\/\\/pp.userapi.com\\/c845522\\/v845522085\\/f020f\\/i_rauqKFDA8.jpg\",\"width\":130,\"height\":198},{\"type\":\"p\",\"url\":\"https:\\/\\/pp.userapi.com\\/c845522\\/v845522085\\/f0210\\/RALgsnX9cn8.jpg\",\"width\":200,\"height\":305},{\"type\":\"q\",\"url\":\"https:\\/\\/pp.userapi.com\\/c845522\\/v845522085\\/f0211\\/FfP7ZUF3cCE.jpg\",\"width\":320,\"height\":488},{\"type\":\"r\",\"url\":\"https:\\/\\/pp.userapi.com\\/c845522\\/v845522085\\/f0212\\/oLCVeY-scns.jpg\",\"width\":396,\"height\":604},{\"type\":\"s\",\"url\":\"https:\\/\\/pp.userapi.com\\/c845522\\/v845522085\\/f020c\\/JwBSf7jblno.jpg\",\"width\":49,\"height\":75},{\"type\":\"x\",\"url\":\"https:\\/\\/pp.userapi.com\\/c845522\\/v845522085\\/f020e\\/6eRj9hzrzTc.jpg\",\"width\":396,\"height\":604}],\"text\":\"\",\"date\":1536761720,\"access_key\":\"30b17298556199ae10\"}},{\"type\":\"photo\",\"photo\":{\"id\":456249273,\"album_id\":-7,\"owner_id\":-19444929,\"user_id\":100,\"sizes\":[{\"type\":\"m\",\"url\":\"https:\\/\\/pp.userapi.com\\/c845522\\/v845522085\\/f0230\\/wlC424owwWo.jpg\",\"width\":85,\"height\":130},{\"type\":\"o\",\"url\":\"https:\\/\\/pp.userapi.com\\/c845522\\/v845522085\\/f0232\\/8555mfSGBpI.jpg\",\"width\":130,\"height\":198},{\"type\":\"p\",\"url\":\"https:\\/\\/pp.userapi.com\\/c845522\\/v845522085\\/f0233\\/OcwZZC-UZzE.jpg\",\"width\":200,\"height\":305},{\"type\":\"q\",\"url\":\"https:\\/\\/pp.userapi.com\\/c845522\\/v845522085\\/f0234\\/rJQiyIFWyFM.jpg\",\"width\":320,\"height\":488},{\"type\":\"r\",\"url\":\"https:\\/\\/pp.userapi.com\\/c845522\\/v845522085\\/f0235\\/Ip10YMg8gPI.jpg\",\"width\":396,\"height\":604},{\"type\":\"s\",\"url\":\"https:\\/\\/pp.userapi.com\\/c845522\\/v845522085\\/f022f\\/Wz3HlM_HwDw.jpg\",\"width\":49,\"height\":75},{\"type\":\"x\",\"url\":\"https:\\/\\/pp.userapi.com\\/c845522\\/v845522085\\/f0231\\/bBwPbZzz8AY.jpg\",\"width\":396,\"height\":604}],\"text\":\"\",\"date\":1536761720,\"access_key\":\"b2fd1c63da476cdb29\"}},{\"type\":\"photo\",\"photo\":{\"id\":456249274,\"album_id\":-7,\"owner_id\":-19444929,\"user_id\":100,\"sizes\":[{\"type\":\"m\",\"url\":\"https:\\/\\/pp.userapi.com\\/c845522\\/v845522085\\/f0206\\/u0AH1HvuGac.jpg\",\"width\":85,\"height\":130},{\"type\":\"o\",\"url\":\"https:\\/\\/pp.userapi.com\\/c845522\\/v845522085\\/f0208\\/-wfSRq7U_EQ.jpg\",\"width\":130,\"height\":198},{\"type\":\"p\",\"url\":\"https:\\/\\/pp.userapi.com\\/c845522\\/v845522085\\/f0209\\/4bHtgMv4q_4.jpg\",\"width\":200,\"height\":305},{\"type\":\"q\",\"url\":\"https:\\/\\/pp.userapi.com\\/c845522\\/v845522085\\/f020a\\/zfDjrMy6isA.jpg\",\"width\":320,\"height\":488},{\"type\":\"r\",\"url\":\"https:\\/\\/pp.userapi.com\\/c845522\\/v845522085\\/f020b\\/_uaRRpzejt0.jpg\",\"width\":396,\"height\":604},{\"type\":\"s\",\"url\":\"https:\\/\\/pp.userapi.com\\/c845522\\/v845522085\\/f0205\\/dCe2umJZBj0.jpg\",\"width\":49,\"height\":75},{\"type\":\"x\",\"url\":\"https:\\/\\/pp.userapi.com\\/c845522\\/v845522085\\/f0207\\/BJGKnaDIb-I.jpg\",\"width\":396,\"height\":604}],\"text\":\"\",\"date\":1536761720,\"access_key\":\"6f3d660c474aa74dea\"}},{\"type\":\"photo\",\"photo\":{\"id\":456249275,\"album_id\":-7,\"owner_id\":-19444929,\"user_id\":100,\"sizes\":[{\"type\":\"m\",\"url\":\"https:\\/\\/pp.userapi.com\\/c845522\\/v845522085\\/f01ff\\/m68irs3kO8E.jpg\",\"width\":85,\"height\":130},{\"type\":\"o\",\"url\":\"https:\\/\\/pp.userapi.com\\/c845522\\/v845522085\\/f0201\\/_CNt5WGHkdo.jpg\",\"width\":130,\"height\":198},{\"type\":\"p\",\"url\":\"https:\\/\\/pp.userapi.com\\/c845522\\/v845522085\\/f0202\\/vIQL3lxhM58.jpg\",\"width\":200,\"height\":305},{\"type\":\"q\",\"url\":\"https:\\/\\/pp.userapi.com\\/c845522\\/v845522085\\/f0203\\/IslYRNd2YP4.jpg\",\"width\":320,\"height\":488},{\"type\":\"r\",\"url\":\"https:\\/\\/pp.userapi.com\\/c845522\\/v845522085\\/f0204\\/6glTpkgZxLc.jpg\",\"width\":396,\"height\":604},{\"type\":\"s\",\"url\":\"https:\\/\\/pp.userapi.com\\/c845522\\/v845522085\\/f01fe\\/upaKqAoX7zw.jpg\",\"width\":49,\"height\":75},{\"type\":\"x\",\"url\":\"https:\\/\\/pp.userapi.com\\/c845522\\/v845522085\\/f0200\\/Mdgqi9aMg6g.jpg\",\"width\":396,\"height\":604}],\"text\":\"\",\"date\":1536761720,\"access_key\":\"0eb85e3e679d6ee52d\"}}],\"post_source\":{\"type\":\"vk\"}}],\"post_source\":{\"type\":\"api\",\"platform\":\"iphone\"},\"comments\":{\"count\":0,\"can_post\":0,\"groups_can_post\":true},\"likes\":{\"count\":1,\"user_likes\":0,\"can_like\":1,\"can_publish\":1},\"reposts\":{\"count\":0,\"user_reposted\":0},\"views\":{\"count\":115},\"is_favorite\":false},{\"id\":745,\"from_id\":3004879,\"owner_id\":3004879,\"date\":1509834158,\"post_type\":\"post\",\"text\":\"\",\"copy_history\":[{\"id\":78718,\"owner_id\":-33608666,\"from_id\":-33608666,\"date\":1509827763,\"post_type\":\"post\",\"text\":\"25 сайтов для развития интеллекта \\n\\nСоциальные сети Фейсбук, Инстаграм, ВКонтакте в буквальном смысле съедают наше время. Так почему бы не тратить время в интернете с пользой? Список из 25 лучших сайтов для развития интеллекта и мозга. \\n\\n▪ CodeAcademy — Научитесь программировать прямо в интернете. С помощью этого сайта вы сможете научиться таким языкам как HTML,CSS и Javascript абсолютно бесплатно! \\n\\n▪ Coursera — Корсера это целая образовательная платформа. Вы сможете расширить свои познания в самых разных областях. Более 800 бесплатный курсов по различным темам от истории интернета до финансового инжиниринга. \\n\\n▪ Digital Photography School (Школа цифровой фотографии) — Золотая жила для фотографов. Огромное количество статей позволят улучшить ваши навыки фотографа, даже если вы еще новичок. На действующем форуме можно пообщаться и подружиться с сообществом фотографов. . \\n\\n▪ Duolingo — Улучшайте знание иностранных языков с этой веселой и крайне увлекательной игрой. Получите образование уровня высшего учебного заведения абсолютно бесплатно. Если вы ищите еще и другие бесплатные материалы для изучения иностранных языков, можете попробовать BBC Languages. \\n\\n▪ edX — Здесь вы найдете много разных занятий от «Наука Счастья» до «Ответственные Инновации«. edX предлагает кучу бесплатных образовательных курсов от ведущих университетов мира. \\n\\n▪ Factsie — А вы знали, что рогатая ящерица может стрелять кровью из своих слезных протоков? Продолжайте кликать на большую кнопку в центре сайта, чтобы узнать еще больше необычных исторических и научных фактов, а также ссылку на источник. Еще один отличный сайт веселых и интересных фактов — Today I Found Out. \\n\\n▪ Fast Company’s 30-Second MBA — В коротких видео роликах от успешных топ-менеджеров корпораций, вы получите великие бизнес секреты и жизненные уроки, очень очень быстро. \\n\\n▪ Freerice — Расширяя свой словарный запас вы помогаете бороться с голодом! За каждый правильный ответ спонсоры проекта жертвуют 10 Expand your vocabulary while feeding the hungry. It’s the best way to feel good about yourself and learn words you can use for the rest of your life. \\n\\n▪ Gibbon — Универсальный плейлист для обучения. Пользователи собирают статьи и видео, которые помогут вам обучиться чему угодно от программирования для iOS до сторителлинга. \\n\\n▪ Instructables — Благодаря веселым видео и простым инструкциям, вы можете научиться мастерить что угодно от устройства для запуска теннисных мячей до форта на заднем дворе. Так же можно опубликовать свои собственные творения и рассказать всему миру о вашем творении. И этого мало? Посетите eHow и получите разнообразные навыки как готовить, декорировать, ремонтировать, планировать, вести садовоство или даже составить бюджет. \\n\\n▪ Investopedia — Здесь вы узнаете все что нужно о мире инвестирования, рынков и персональных финансов. \\n\\n▪ Khan Academy — В Академии Кхана вы погрузитесь в огромное разнообразие целых областей знаний с помощью невероятно полезных видео. Вы можете не просто смотреть, но и сразу практиковаться в выбранной области и отслеживать свой прогресс. И это не все. Академия Кхана отличный способ расширить и углубить свои познания в областях в которых вы уже проходили обучение. \\n\\n▪ LearnVest — Это сайт о персональных финансах предлагает новости, обучающие классы и подборки ресурсов, чтобы помочь вам взять под контроль свои деньги. \\n\\n▪ Lifehacker — Чрезвычайно полезный сайт. Здесь вы получите огромное количество лучших подсказок, хитростей, советов и готовых материалов, чтобы сделать что угодно и решить любую проблему. \\n\\n▪ Lumosity — Оказывается тренировка мозга может быть очень веселым занятием. Все игры разработаны с привлечением ученых. Вы можете составить личный план тренировок, чтобы развить память, внимание, скорость мышления. Во время игр вы зарабатываете очки и наглядно видите свой прогресс. \\n\\n▪ MIT Open Courseware — Хотите быть таким же умным как и студенты Массачусетского Технологического Института? Получите доступ к занятиям и курсам MIT в одном месте. \\n\\n▪ Powersearching with Google — Научитесь как найти что угодно, улучшив свои навыки поиска в Google. \\n\\n▪ Quora — Получите ответы на вопросы от других умных людей или просто читайте что хотят узнать другие люди. Вы узнаете о многом от повышения производительности до самой лучшей еды всех времен. \\n\\n▪ Recipe Puppy — Введите все ингредиенты какие сможете найти на кухне. А этот необычный поисковик выдаст вам перечень рецептов что вы можете приготовить. Отличный способ научиться готовить не заморачиваясь покупкой всех ингредиентов заранее. Если вам нужна огромная база рецептов, попробуйте AllRecipes. \\n\\n▪ Spreeder — Бесплатная онлайн программа скорочтения увеличит скорость вашего чтения и качество восприятия. Просто скопируйте и вставьте любой текст, который хотите прочитать, а программа позаботиться обо всем остальном. \\n\\n▪ StackOverflow — Сайт ответов и вопросов, но для программистов. Этот сайт лучший друг кодера. Еще отличные сайты для обучения программированию Learn X in Y Minutes и W3Schools. \\n\\n▪ TED-Ed — Новая инициатива запущенная провайдером всемирно известных конференций TED. Идея проста — «уроки которыми стоит поделиться» . Сайт поставил перед собой задачу разжечь любопытство учащихся по всему миру, создавая библиотеку достойных наград анимированых уроков созданных образовательными экспертами, сценаристами и аниматорами. Вы даже можете создать свои специализированные уроки и распространять их по всему миру. Нужно просто добавить вопросы, темы для обсуждения и другие дополнительные материалы к любому образовательному видео на YouTube. \\n\\n▪ Udemy — Накормите свои мозги онлайн курсами на любую тему от веб разработки до игры на гитаре. Можно и самому преподавать, собрать свой класс используя возможности платформы. \\n\\n▪ Unplug The TV — Веселый сайт, предлагает информативные видео, чтобы оторвать вас от телевизора. Огромное количество тем от «Добычи ресурсов в космосе» до «Как использование грузовых контейнеров изменило облик современного мира?» . \\n\\n▪ VSauce — Это канал на YouTube предлагает умопомрачительные факты и лучшее со всего интернета. Смотрите канал и убедитесь что наш мир — невероятное место. Что произойдет если Земля перестанет крутиться? Почему нам становится скучно? Смотрите видео и узнаете.\\n\\nСообщество [club33608666|Маркетинг и реклама] \\nМаркетинг, в отличие от бухгалтерии, – это не отдел, а образ жизни!\",\"attachments\":[{\"type\":\"photo\",\"photo\":{\"id\":456249312,\"album_id\":-7,\"owner_id\":-33608666,\"user_id\":100,\"sizes\":[{\"type\":\"m\",\"url\":\"https:\\/\\/pp.userapi.com\\/c635100\\/v635100039\\/2adff\\/EP4mtfDl2-Q.jpg\",\"width\":130,\"height\":81},{\"type\":\"o\",\"url\":\"https:\\/\\/pp.userapi.com\\/c635100\\/v635100039\\/2ae01\\/f5A2gBZh45M.jpg\",\"width\":130,\"height\":87},{\"type\":\"p\",\"url\":\"https:\\/\\/pp.userapi.com\\/c635100\\/v635100039\\/2ae02\\/pw2pk-L2kbg.jpg\",\"width\":200,\"height\":133},{\"type\":\"q\",\"url\":\"https:\\/\\/pp.userapi.com\\/c635100\\/v635100039\\/2ae03\\/lXSp29-agk8.jpg\",\"width\":320,\"height\":213},{\"type\":\"r\",\"url\":\"https:\\/\\/pp.userapi.com\\/c635100\\/v635100039\\/2ae04\\/oS8QMk5c83w.jpg\",\"width\":510,\"height\":340},{\"type\":\"s\",\"url\":\"https:\\/\\/pp.userapi.com\\/c635100\\/v635100039\\/2adfe\\/wEDc6l-qtC0.jpg\",\"width\":75,\"height\":47},{\"type\":\"x\",\"url\":\"https:\\/\\/pp.userapi.com\\/c635100\\/v635100039\\/2ae00\\/OGjopRnG2Ps.jpg\",\"width\":604,\"height\":376}],\"text\":\"\",\"date\":1509827763,\"post_id\":78718,\"access_key\":\"202aef96dfa83904b2\"}}],\"post_source\":{\"type\":\"api\"}}],\"post_source\":{\"type\":\"api\",\"platform\":\"iphone\"},\"comments\":{\"count\":0,\"can_post\":0,\"groups_can_post\":true},\"likes\":{\"count\":19,\"user_likes\":0,\"can_like\":1,\"can_publish\":1},\"reposts\":{\"count\":1,\"user_reposted\":0},\"views\":{\"count\":351},\"is_favorite\":false},{\"id\":738,\"from_id\":3004879,\"owner_id\":3004879,\"date\":1486401210,\"post_type\":\"post\",\"text\":\"Обращаюсь ко всем тем, кому не все равно. Давайте вместе подарим ребёнку возможность жить и нормально развиваться. Не большой вклад каждого сделает это возможным.  Русфонд\",\"attachments\":[{\"type\":\"link\",\"link\":{\"url\":\"https:\\/\\/rusfond.ru\\/moscow_actions\\/101\",\"title\":\"Боль за двоих\",\"caption\":\"rusfond.ru\",\"description\":\"Четырехлетнюю Машу Шишкову спасет операция\",\"photo\":{\"id\":456239063,\"album_id\":-2,\"owner_id\":100,\"sizes\":[{\"type\":\"m\",\"url\":\"https:\\/\\/pp.userapi.com\\/c836726\\/v836726879\\/2114d\\/GYX6b7biv_I.jpg\",\"width\":130,\"height\":87},{\"type\":\"p\",\"url\":\"https:\\/\\/pp.userapi.com\\/c836726\\/v836726879\\/2114f\\/mNBteOQyMlQ.jpg\",\"width\":260,\"height\":173},{\"type\":\"s\",\"url\":\"https:\\/\\/pp.userapi.com\\/c836726\\/v836726879\\/2114c\\/FKkD0Bvg8xA.jpg\",\"width\":75,\"height\":50},{\"type\":\"x\",\"url\":\"https:\\/\\/pp.userapi.com\\/c836726\\/v836726879\\/2114e\\/Gz7UY2v7qrg.jpg\",\"width\":150,\"height\":100}],\"text\":\"\",\"date\":1486401215},\"is_favorite\":false}}],\"post_source\":{\"type\":\"api\",\"platform\":\"iphone\"},\"comments\":{\"count\":0,\"can_post\":0,\"groups_can_post\":true},\"likes\":{\"count\":11,\"user_likes\":0,\"can_like\":1,\"can_publish\":1},\"reposts\":{\"count\":2,\"user_reposted\":0},\"views\":{\"count\":475},\"is_favorite\":false},{\"id\":734,\"from_id\":3004879,\"owner_id\":3004879,\"date\":1468603983,\"post_type\":\"post\",\"text\":\"\",\"attachments\":[{\"type\":\"photo\",\"photo\":{\"id\":423249947,\"album_id\":-6,\"owner_id\":3004879,\"sizes\":[{\"type\":\"m\",\"url\":\"https:\\/\\/pp.userapi.com\\/c630228\\/v630228879\\/37b15\\/1xcKYF0CDts.jpg\",\"width\":87,\"height\":130},{\"type\":\"o\",\"url\":\"https:\\/\\/pp.userapi.com\\/c630228\\/v630228879\\/37b1a\\/mbi_W3KFEaI.jpg\",\"width\":130,\"height\":195},{\"type\":\"p\",\"url\":\"https:\\/\\/pp.userapi.com\\/c630228\\/v630228879\\/37b1b\\/YifVr8sD-Wg.jpg\",\"width\":200,\"height\":300},{\"type\":\"q\",\"url\":\"https:\\/\\/pp.userapi.com\\/c630228\\/v630228879\\/37b1c\\/8YFaWhgBkw0.jpg\",\"width\":320,\"height\":479},{\"type\":\"r\",\"url\":\"https:\\/\\/pp.userapi.com\\/c630228\\/v630228879\\/37b1d\\/isQLsCchDds.jpg\",\"width\":510,\"height\":764},{\"type\":\"s\",\"url\":\"https:\\/\\/pp.userapi.com\\/c630228\\/v630228879\\/37b14\\/9HwkWbsY0uo.jpg\",\"width\":50,\"height\":75},{\"type\":\"w\",\"url\":\"https:\\/\\/pp.userapi.com\\/c630228\\/v630228879\\/37b19\\/qpfU1z79FiM.jpg\",\"width\":1443,\"height\":2160},{\"type\":\"x\",\"url\":\"https:\\/\\/pp.userapi.com\\/c630228\\/v630228879\\/37b16\\/jRkrcNxjidY.jpg\",\"width\":403,\"height\":604},{\"type\":\"y\",\"url\":\"https:\\/\\/pp.userapi.com\\/c630228\\/v630228879\\/37b17\\/fWLQRRF4S9g.jpg\",\"width\":539,\"height\":807},{\"type\":\"z\",\"url\":\"https:\\/\\/pp.userapi.com\\/c630228\\/v630228879\\/37b18\\/YSCd28us0sA.jpg\",\"width\":721,\"height\":1080}],\"text\":\"\",\"date\":1468603983,\"post_id\":734}}],\"post_source\":{\"type\":\"vk\",\"data\":\"profile_photo\"},\"comments\":{\"count\":0,\"can_post\":0,\"groups_can_post\":true},\"likes\":{\"count\":97,\"user_likes\":0,\"can_like\":1,\"can_publish\":1},\"reposts\":{\"count\":0,\"user_reposted\":0},\"is_favorite\":false},{\"id\":730,\"from_id\":3004879,\"owner_id\":3004879,\"date\":1467099090,\"post_type\":\"post\",\"text\":\"Вчера трагически погиб мой племянник Пожаев Слава.\\nЭто история его последних дней: http:\\/\\/xakac.info\\/news\\/52023\",\"attachments\":[{\"type\":\"link\",\"link\":{\"url\":\"http:\\/\\/xakac.info\\/news\\/52023\",\"title\":\"Житель Хакасии, отправившийся автостопом в Крым, трагически погиб\",\"caption\":\"xakac.info\",\"description\":\"Сегодня в социальных сетях появились сообщения о том, что Вячеслав Пожаев, который отправился автостопом из Хакасии в Крым, погиб. По предварительным данным, молодой человек сорвался со скалы. В настоящее время родственники погибшего объявили сбор средств для транспортировки тела в Хакасию и на похороны.\",\"is_favorite\":false}}],\"post_source\":{\"type\":\"api\",\"platform\":\"android\"},\"comments\":{\"count\":0,\"can_post\":0,\"groups_can_post\":true},\"likes\":{\"count\":23,\"user_likes\":0,\"can_like\":1,\"can_publish\":1},\"reposts\":{\"count\":3,\"user_reposted\":0},\"is_favorite\":false},{\"id\":729,\"from_id\":3004879,\"owner_id\":3004879,\"date\":1464708519,\"post_type\":\"post\",\"text\":\"Давайте поможем детям, они этого заслуживают......\",\"attachments\":[{\"type\":\"link\",\"link\":{\"url\":\"http:\\/\\/www.rusfond.ru\\/letter\\/17\\/11638\",\"title\":\"Арина Василенко, 8 лет, гипертрофическая кардиомиопатия, требуется обследование и лечение в госпитале дель Коре (Масса, Италия). 574 951 руб.\",\"caption\":\"www.rusfond.ru\",\"description\":\"Внимание! \\nЦена обследования и лечения 711 825 руб. \\nЧитатели vesti.ru (на 17.00 31.05.2016) собрали 136 874 руб. \\nНе хватает 574 951 руб. \\n \\nДочка родилась крепкой и здоровой. С трех лет занималась танцами, плаванием, каталась…\",\"is_favorite\":false}}],\"post_source\":{\"type\":\"vk\"},\"comments\":{\"count\":0,\"can_post\":0,\"groups_can_post\":true},\"likes\":{\"count\":6,\"user_likes\":0,\"can_like\":1,\"can_publish\":1},\"reposts\":{\"count\":2,\"user_reposted\":0},\"is_favorite\":false},{\"id\":728,\"from_id\":3004879,\"owner_id\":3004879,\"date\":1462699302,\"post_type\":\"post\",\"text\":\"\",\"copy_history\":[{\"id\":68798,\"owner_id\":-53275080,\"from_id\":-53275080,\"date\":1462453080,\"post_type\":\"post\",\"text\":\"Лучший способ «прокачать» себя (стать умнее, креативнее и успешнее) – читать книги. Какие?\\n\\nНачни\\nАвтор: Джон Эйкафф\\nКнига о том, как раскрасить свою серую жизнь в яркие тона. Быть как все – проще всего. Быть неординарной личностью – поступок, заслуживающий уважения. Сколько бы вам ни было лет, каким бы ни был ваш социальный статус, все сводится к одной простой истине: нужно начать. Прочитав эту книгу, вам действительно захочется начать действовать, начать менять себя и свою жизнь. А когда начинать новую жизнь, как не в Новый год?\\n\\nВ этом году я…\\nАвтор: М. Дж. Райан\\nКнига о том, как изменить привычки, сдержать слово или сделать то, о чем давно мечтал. Обычно такие жизненные обещания дают себе под Новый год, а после праздника благополучно их «забывают». В книге собраны знания автора в области психологии, нейрофизиологии и философии, которые вылились в практические рекомендации, как воплощать в жизнь обещания, данные себе под бой курантов.\\n\\nВыйди из зоны комфорта\\nАвтор: Брайан Трейси\\nКнига о том, как правильно распределять время и добиваться решения сложных задач, выходя из зоны комфорта. В ней – 21 практический совет, следуя которым можно стать столь же успешным, как автор. Брайан Трейси – миллионер, который в юности бросил школу и начинал свой путь наверх фактически с нуля. Эта книга – емкий и сверхполезный сборник секретов личной эффективности Брайана Трейси. Она переведена на 40 языков, ее тираж составляет более 1 200 000 экземпляров.\\n\\nКак люди думают\\nАвтор: Дмитрий Чернышев\\nКнига о сущности мышления. Люди часто думают на автомате, между тем любой акт мышления – есть творчество. Книга поможет вам смотреть на обыденные вещи свежим взглядом. Это авторский проект Дмитрия Чернышева, который придумал даже собственный «алфавит мышления», призванный помочь тренировать самый главный человеческий талант – способность думать.\\n\\nСам себе МВА\\nАвтор: Джош Кауфман\\nКнига о самообучении и вере в себя. Они важнее «корочек». Идея книги заключается в том, что не стоит тратить деньги на обучение в бизнес-школе. Дешевле и эффективнее заниматься самообразованием, тем более, в век информационных технологий это легко. Книга содержит десятки сентенций, которые учат абсолютно новому деловому мышлению. Советы Джоша Кауфмана действительно вдохновляют. Книга может заменить образование МВА по многим параметрам.\\n\\nСила воли\\nАвтор: Келли Макгонигал\\nКнига о том, как стать духовно сильной личностью, противостоять искушениям и перестать откладывать дела в долгий ящик. Книга подкупает абсолютной научностью. Все советы подкреплены многочисленными психологическими и медицинскими исследованиями. Именно поэтому книга полезна не только тем, кто нуждается в укреплении силы воли, но и просто любознательным людям – каждый почерпнет для себя много интересного.\\n\\nИскусство объяснять\\nАвтор: Ли ЛеФевер\\nКнига о том, как сделать так, чтобы вас понимали с полуслова. Ведь когда вас понимают – это счастье, а в бизнесе – еще и деньги. По мнению автора, нет людей, которые неспособны понять, есть те, кто не может объяснить. Книга поможет вам всегда, в любой ситуации, находить нужные слова. Благодаря этому, в ваших личных и профессиональных отношениях будут царить полное взаимопонимание и гармония.\\n\\nЖизнь на полной мощности\\nАвторы: Джим Лоэр и Тони Шварц\\nКнига об управлении энергией, о том, как сбалансировать в жизни разные виды энергий – физическую, эмоциональную, умственную и духовную. Ее авторы – известные спортсмены, которые советуют относиться к жизни не как к марафону, а как к серии спринтерских дистанций – периодов деятельности с полной самоотдачей, чередующихся с эпизодами полноценного отдыха и восстановления сил. Эту книгу, помимо нас, рекомендуют к прочтению главред МИФа Михаил Иванов и бизнесмен Олег Тиньков.\",\"attachments\":[{\"type\":\"photo\",\"photo\":{\"id\":411477188,\"album_id\":-7,\"owner_id\":-53275080,\"user_id\":100,\"sizes\":[{\"type\":\"m\",\"url\":\"https:\\/\\/pp.userapi.com\\/c543105\\/v543105951\\/13618\\/gnqGiESVuBI.jpg\",\"width\":130,\"height\":78},{\"type\":\"o\",\"url\":\"https:\\/\\/pp.userapi.com\\/c543105\\/v543105951\\/1361a\\/ZmGjCvWF7Ls.jpg\",\"width\":130,\"height\":87},{\"type\":\"p\",\"url\":\"https:\\/\\/pp.userapi.com\\/c543105\\/v543105951\\/1361b\\/SQJfjtfIpsE.jpg\",\"width\":200,\"height\":133},{\"type\":\"q\",\"url\":\"https:\\/\\/pp.userapi.com\\/c543105\\/v543105951\\/1361c\\/qoPsOXjPh-Q.jpg\",\"width\":320,\"height\":213},{\"type\":\"r\",\"url\":\"https:\\/\\/pp.userapi.com\\/c543105\\/v543105951\\/1361d\\/EkAgACDqy_Y.jpg\",\"width\":510,\"height\":340},{\"type\":\"s\",\"url\":\"https:\\/\\/pp.userapi.com\\/c543105\\/v543105951\\/13617\\/v_nIPt8_Mj8.jpg\",\"width\":75,\"height\":45},{\"type\":\"x\",\"url\":\"https:\\/\\/pp.userapi.com\\/c543105\\/v543105951\\/13619\\/psYzAyLCdPA.jpg\",\"width\":604,\"height\":362}],\"text\":\"\",\"date\":1462453080,\"post_id\":68798,\"access_key\":\"a982829223cb3b5954\"}}],\"post_source\":{\"type\":\"api\"}}],\"post_source\":{\"type\":\"api\",\"platform\":\"android\"},\"comments\":{\"count\":0,\"can_post\":0,\"groups_can_post\":true},\"likes\":{\"count\":7,\"user_likes\":0,\"can_like\":1,\"can_publish\":1},\"reposts\":{\"count\":1,\"user_reposted\":0},\"is_favorite\":false},{\"id\":727,\"from_id\":3004879,\"owner_id\":3004879,\"date\":1462699142,\"post_type\":\"post\",\"text\":\"\",\"copy_history\":[{\"id\":68816,\"owner_id\":-53275080,\"from_id\":-53275080,\"date\":1462479304,\"post_type\":\"post\",\"text\":\"240 документальных фильмов для расширения сознания\\n\\n240 документальных фильмов, которые бросают вызов общепринятой картине реальности и заставляют нас задуматься над привычными вещами, мнениями и практиками, которые мы обычно воспринимаем как должное.\\n\\nЖизнь в биосфере\\n\\nБлагодаря небольшой магии современных технологий у нас есть возможность исследовать чудо биосферы и взаимосвязь процессов, протекающих в ней.\\n\\n1. Home | «Дом».\\n2. How Many People Can Live on Planet Earth? | «Сколько людей может жить на Земле».\\n3. The Magical Forest | «Волшебный лес».\\n4. «Муравьи: тайная сила природы».\\n5. Mt. Everest: How It Was Made | «Как создавалась Земля: Эверест».\\n6. Mariana’s Trench: The Deepest Spot On Earth | «Как создавалась Земля: Марианская впадина».\\n7. «Дикая планета: Анды, Хребет дракона».\\n8. Shining Mountains: The Rockies | «Сияющие горы»: серия 1 — «Древние», серия 2 — «Земля изобилия», серия 3 — «На краю», серия 4 — «Будущее дикого края».\\n9. Grand Canyon: How It Was Made | «Как создавалась Земля: Гранд-Каньон»\\n10. The Intelligence of Plants| «Царство растений»: эпизод 1, эпизод 2, эпизод 3.\\n\\nТворчество и дизайн\\n\\nТолько посмотрите на эти чудо-вещи, которые создают люди благодаря своему воображению.\\n\\n11. Everything Is A Remix | «Всё кругом ремикс».\\n12. The Creative Brain: How Insight Works | «Творческие способности: взгляд изнутри».\\n13. Teaching to See | «Удивительное рядом».\\n14. Design: The New Business | «Дизайн: новый бизнес».\\n15. PressPausePlay: Art and Creativity in the Digital Age | Press Pause Play\\n16. Infamy: A Graffiti Documentary | «Дурная слава».\\n17. Influencers: How Trends and Creativity Become Contagious | «Влиятельные».\\n18. RIP: A Remix Manifesto | «Манифест ремиксера»: часть 1, часть 2.\\n19. Design: e² — Sustainable Architecture | «Design: e2 — Зелёный Манхэттен».\\n20. The Genius Of Design | «Гении дизайна».\\n\\nОбразовательная система\\n\\nКак государство загоняет молодые умы в стандартизированные шаблоны, штампуя новых обывателей.\\n\\n21. The College Conspiracy.\\n22. Declining by Degrees: Higher Education at Risk.\\n23. The Forbidden Education | «Запрещённое образование».\\n24. Default: The Student Loan Documentary.\\n25. College Inc.\\n26. Education For A Sustainable Future.\\n27. Networked Society: The Future of Learning.\\n28. The Ultimate History Lesson With John Taylor Gatto: hour 1, hour 2, hour 3, hour 4, hour 5.\\n29. Education, Education. Why Poverty?\\n30. The War On Kids.\\n\\nЦифровая революция\\n\\nИнтернет в настоящее время является движущей силой перемен и инноваций в мире.\\n\\n31. Download: The True Story of the Internet | «Загрузка: подлинная история интернета».\\n32. The Age of Big Data | «Эпоха больших данных».\\n33. Resonance: Beings of Frequency | «Резонанс: жизнь в океане микроволн».\\n34. Life In A Day | «Жизнь за один день».\\n35. Networked Society: On The Brink.\\n36. Us Now: Social Media and Mass Collaboration.\\n37. WikiRebels: The WikiLeaks Story.\\n38. The Virtual Revolution: The Cost of Free | «Виртуальная революция: цена свободы».\\n39. How Hackers Changed the World.\\n\\nНовая цивилизация\\n\\n40. THRIVE: What On Earth Will It Take? | «Процветание. Что станет с Землёй?»: часть 1, часть 2.\\n41. Zeitgeist III: Moving Forward | «Zeitgeist III: движение вперёд».\\n42. Paradise or Oblivion | «Рай или забвение».\\n43. 2012: Time For Change.\\n44. The Crisis of Civilization | «Кризис цивилизации».\\n45. The Collective Evolution II.\\n46. The Quickening: Awakening As One.\\n47. Love, Reality, and the Time of Transition.\\n48. Collapse | «Развал».\\n49. The Awakening.\\n\\nПолитика\\n\\nКакое влияние политика оказывает на нашу жизнь.\\n\\n50. Owned and Operated | «Разделённый и эксплуатируемый».\\n51. UnGrip.\\n52. The Power Principle.\\n53. The True Story of Che Guevara.\\n54. Earth Days.\\n55. Capitalism Is The Crisis.\\n56. WikiLeaks: The Secret Life of a Superpower.\\n57. The Putin System | «Система Путина».\\n58. The War On Democracy.\\n59. Rise Like Lions: Occupy Wall Street and the Seeds of Revolution.\\n\\nБиографии гениев\\n\\nБиографии гениев, которые подтолкнули человечество вперёд.\\n\\n60. Isaac Newton: The Last Magician | «Исаак Ньютон: последний из магов».\\n61. Nikola Tesla: The Greatest Mind of All Time.\\n62. The Unlimited Energy of Nicola Tesla | «Свободная энергия Николы Теслы».\\n63. The Missing Secrets Of Nikola Tesla | «Утерянные секреты Николы Теслы».\\n64. Richard Feynman: No Ordinary Genius.\\n65. How Albert Einstein’s Brain Worked | «Загадка мозга Эйнштейна».\\n66. The Extraordinary Genius of Albert Einstein.\\n67. The Biography of Albert Einstein.\\n68. Da Vinci: Unlocking The Genius.\\n69. «Архивы да Винчи. Теневая сторона выдающегося человека».\\n70. Leonardo Da Vinci: The Man Who Wanted to Know Everything | «Леонардо да Винчи: человек, который хотел знать всё».\\n\\nВойна\\n\\nВойна — старейший в мире инструмент для перераспределения ресурсов.\\n\\n71. Psywar: The Real Battlefield Is Your Mind.\\n72. The History of World War II.\\n73. The Secret History of 9\\/11 | «Секретная история: трагедия 9\\/11».\\n74. Robot Armies in the Future.\\n75. The Never Ending War in Afghanistan.\\n76. Shadow Company: Mercenaries In The Modern World.\\n77. World War II From Space | «Вторая мировая война. Взгляд из космоса».\\n78. Why We Fight | «Почему мы воюем».\\n79. The Fog Of War | «Туман войны».\\n80. The Oil Factor: Behind The War On Terror.\\n\\nЭкономика\\n\\nУзнайте больше о мировой финансовой системе и о том, как люди и целые общества попадают в кредитное рабство.\\n\\n81. The Corporation: The Pathological Pursuit of Profit and Power | «Корпорация: патологическая погоня за прибылью».\\n82. Overdose: The Next Financial Crisis | «Передозировка: следующий финансовый кризис».\\n83. The Ascent of Money: A Financial History of The World | «Восхождение денег: финансовая история мира»: серия 1, серия 2, серия 3, серия 4, серия 5.\\n84. The One Percent.\\n85. Quants: The Alchemists of Wall Street | «Кванты: алхимики Уолл-Стрит».\\n86. The Last Days Of Lehman Brothers.\\n87. The Four Horsemen | «Четыре всадника Апокалипсиса».\\n88. Inside Job: The Biggest Robbery In Human History.\\n89. Capitalism: A Love Story | «Капитализм: история любви».\\n90. Money and Life.\\n\\nDigital-предпринимательство\\n\\nИстории предпринимателей, которые используют технологии и меняют мир.\\n\\n91. The Life Of A Young Entrepreneur.\\n92. Profile: Google’s Larry Page and Sergey Brin.\\n93. Profile: Facebook’s Mark Zuckerberg.\\n94. Starting-Up in America.\\n95. The Biography of Bill Gates | «Билл Гейтс. Биография».\\n96. Steve Jobs: One Last Thing | «Стив Джобс: одна последняя вещь».\\n97. Steve Jobs: The Billion Dollar Hippy | «Стив Джобс: хиппи на миллиард долларов».\\n98. Elon Musk: Risk Takers | «Элон Маск: авантюрист».\\n99. The Story of Twitter.\\n\\nСпорт\\n\\nПосмотрите вдохновляющие истории о самых удивительных спортсменах.\\n\\n100. Fearless: The Jeb Corliss Story | «Бесстрашные: история Джеба Корлисса».\\n101. Carts of Darkness.\\n102. The Two Escobars.\\n103. Usain Bolt: The World’s Fastest Man.\\n104. Wayne Gretzky: The Life and Times.\\n105. When We Were Kings | «Мохаммед Али. Когда мы были королями».\\n106. Mike Tyson: Beyond the Glory.\\n107. Birdmen.\\n108. The Legacy Of Michael Jordan | «Наследие Майкла Джордана».\\n109. We Ride: The Story of Snowboarding.\\n\\nТехнологии\\n\\nУзнайте много нового о развитии технологий, их влиянии и скором достижении технологической сингулярности.\\n\\n110. Ray Kurzweil: The Transcendent Man | «Трансцендентный человек Рэймонд Курцвейл».\\n111. How Robots Will Change the World.\\n112. Human 2.0: Mind Control Machine.\\n113. Technology of the Future.\\n114. Trance-Formation: The Future of Humanity.\\n115. The Venus Project: Future By Design | «Проект „Венера“: дизайн будущего».\\n116. Bionics, Transhumanism And The End Of Evolution.\\n117. The Singularity Is Near.\\n118. Car Technology Of The Future.\\n119. Powering The Future: The Energy Revolution | «Энергия будущего: энергетическая революция».\\n\\nИстоки религии\\n\\nПодборка фильмов об изучении истоков религии и жизни человечества на заре цивилизации.\\n\\n120. Entheogen: Awakening the Divine Within.\\n121. Manifesting the Mind: Footprints of the Shaman.\\n122. Ancient Egypt and The Alternative Story of Mankind’s Origins.\\n123. The Hidden Knowledge of the Supernatural.\\n124. Re-Awaken: Open Your Heart, Expand Your Mind.\\n125. Shamans of the Amazon.\\n126. The Root of All Evil: The God Delusion.\\n127. Ancient Knowledge.\\n128. The Naked Truth.\\n129. Before Babel: In Search of the First Language.\\n\\nЗападные вероисповедания\\n\\nПоразительная история трёх авраамических религий: иудаизма, христианства и ислама.\\n\\n130. Secret Quest: The Path of the Christian Gnostics.\\n131. The Secret Gate of Eden.\\n132. Forbidden Knowledge: Lost Secrets of the Bible.\\n133. Banned From The Bible: Secrets Of The Apostles.\\n134. The Life of Prophet\\n135. The Road To Armageddon.\\n136. The Most Hated Family In America.\\n137. Muhammad: The Legacy of a Prophet | «Мухаммед: наследие пророка».\\n138. A Complete History of God.\\n139. Gnosis: The Untold History of the Bible.\\n\\nВосточные вероисповедания\\n\\nРасширьте свой кругозор и узнайте много нового о мировоззрении религий Востока.\\n\\n140. Inner Worlds, Outer Worlds.\\n141. The Life Of The Buddha | «Жизнь Будды».\\n142. The Seven Wonders of the Buddhist World.\\n143. Mysteries of the Cosmic OM: Ancient Vedic Science.\\n144. Where Science and Buddhism Meet | «Там, где встречаются буддизм и наука».\\n145. The Yogis of Tibet | «Великие йоги Тибета».\\n146. Taj Mahal: Secrets To Blow Your Mind | «Тайна Тадж-Махала».\\n147. Light at the Edge of the World: Tibetan Science of the Mind.\\n148. Myths of Mankind: The Mahabharata.\\n149. Ayurveda: The Art of Being | «Аюрведа: искусство жизни».\\n\\nСознание\\n\\nУзнайте много нового об основах экзистенции и чудесах сознания.\\n\\n150. Athene’s Theory of Everything.\\n151. Theory of Everything: GOD, Devils, Dimensions, Dragons & The Illusion of Reality.\\n152. The God Within: Physics, Cosmology and Consciousness.\\n153. 5 Gateways: The Five Key Expansions of Consciousness.\\n154. Return to the Source: Philosophy and The Matrix | «Возвращаясь к источнику: философия и Матрица».\\n155. The Holographic Universe.\\n156. DMT: The Spirit Molecule| «ДМТ: молекула духа».\\n157. What Is Consciousness?\\n158. Kymatica | «Киматика».\\n159. Neuroplasticity: The Brain That Changes Itself .\\n\\nТайны\\n\\nИсследования загадок прошлого в стиле Индианы Джонса.\\n\\n160. Alchemy: Sacred Secrets Revealed.\\n161. The Day Before Disclosure.\\n162. «Секретный код египетских пирамид».\\n163. The Secret Design of the Egyptian Pyramids.\\n164. Decoding the Past: Secrets of the Dollar Bill.\\n165. The Lost Gods of Easter Island | «Утраченные боги острова Пасхи».\\n166. Origins of the Da Vinci Code | «Вскрывая код да Винчи».\\n167. Forbidden Knowledge: Ancient Medical Secrets.\\n168. Secret Mysteries of America’s Beginnings: The New Atlantis.\\n169. Secrets in Plain Sight.\\n\\nМассовая культура\\n\\nУзнайте о том, как наши мысли и мнения влияют на массовую культуру.\\n\\n170. The Century of the Self.\\n171. All Watched Over By Machines Of Loving Grace.\\n172. The Power Of Nightmares.\\n173. The Trap: What Happened To Our Dreams of Freedom | «Ловушка. Что стало с нашей мечтой о свободе».\\n174. Starsuckers: A Culture Obsessed By Celebrity.\\n175. Human Resources: Social Engineering in the 20th Century.\\n176. Obey: The Death of the Liberal Class.\\n177. Brazil: In the Shadow of the Stadiums.\\n178. Bob Marley: Freedom Road.\\n179. Radiant City.\\n\\nМедиакорпорации\\n\\nОткройте для себя удивительные факты о том, как средства массовой информации и реклама пользуются нашими мотивами.\\n\\n180. Weapons of Mass Deceptions.\\n181. Secrets of the Superbrands | «Секреты супербрендов».\\n182. Orwell Rolls in his Grave.\\n183. The Century of the Self | Век личности\\n184. The Esoteric Agenda.\\n185. The Myth of the Liberal Media: The Propaganda Model of News.\\n186. Manufacturing Consent: Noam Chomsky and the Media.\\n187. Symbolism in Logos: Subliminal Messages or Ancient Archetypes.\\n188. Edward Snowden: A Truth Unveiled.\\n189. Outfoxed: Rupert Murdoch’s War on Journalism.\\n\\nИскусство и литература\\n\\nИстории жизни известных деятелей искусства.\\n\\n190. Lord Of The Rings: Facts Behind The Fiction | «„Властелин колец“: фильм о фильме».\\n\\n191. Cosm: Alex Gray’s Visionary Art.\\n\\n192. Banksy’s Exit Through The Gift Shop | «Выход через сувенирную лавку».\\n\\n193. New Art and the Young Artists Behind It.\\n\\n194. Salvador Dali: A Master of the Modern Era.\\n\\n195. How Art Made The World: More Human Than Human | «Как искусство сотворило мир. Более человеческое, чем сам человек».\\n\\n196. The Day Pictures Were Born.\\n\\n197. Guns, Germs and Steel | «Ружья, микробы и сталь».\\n\\n198. Off-Book: Digital Age Creativity.\\n\\n199. This Is Modern Art.\\n\\nЗдоровье\\n\\nУзнайте о том, как работает наше тело и насколько поразительна сила нашего мозга.\\n\\n200. The Human Brain | «Человеческий мозг и его возможности».\\n\\n201. The Truth About Exercise | «Вся правда об упражнениях».\\n\\n202. How To Live To 101 | «Как дожить до 101 года».\\n\\n203. Globesity: Fat’Globesitys New Frontier | «Ожирение — бич XXI века».\\n\\n204. The War On Health.\\n\\n205. The Beautiful Truth.\\n\\n206. Food Inc. | «Корпорация „Еда“».\\n\\n207. The Truth About Food | «Вся правда о еде».\\n\\n208. Addicted To Pleasure: Sugar.\\n\\n209. The Living Matrix.\\n\\n210. «Вредный здоровый образ жизни».\\n\\nОкружающая среда\\n\\nФильмы, заставляющие задуматься о состоянии окружающей среды и растущей угрозе для биосферы.\\n\\n211. Earthlings | «Земляне».\\n\\n212. Blue Gold: World Water Wars.\\n\\n213. Tapped | «Вода в бутылке».\\n\\n214. Shift: Beyond the Numbers of the Climate Crisis.\\n\\n215. All Things Are Connected.\\n\\n216. The Fight For Amazonia.\\n\\n217. Flow: For Love Of Water | «Поток: во имя любви к воде».\\n\\n218. Here Comes the Sun.\\n\\n219. The World According To Monsanto | «Корпорация Mosanto — создатель ГМО».\\n\\n220. The Story of Stuff.\\n\\nКосмос\\n\\nРасширяйте свой кругозор и наслаждайтесь неповторимой красотой космоса.\\n\\n221. The Search for Planets Similar to Earth | «Космические путешествия: в поисках планет земного типа».\\n\\n222. Inside the Milky Way Galaxy | «Путешествие по Млечному Пути».\\n\\n223. Cosmic Journeys : The Largest Black Holes in the Universe | «Космические путешествия: крупнейшие чёрные дыры во Вселенной».\\n\\n224. Beyond The Big Bang\\n\\n225. The Mystery of the Milky Way | «Тайна Млечного Пути».\\n\\n226. Fractals: The Hidden Dimension | «Фракталы: охота за скрытым измерением».\\n\\n227. Into The Universe With Stephen Hawking: The Story of Everything.\\n\\n228. Pioneer Science: Discovering Deep Space.\\n\\n229. Carl Sagan’s Cosmos | «Космос с Карлом Саганом».\\n\\n230. The Strangest Things In The Universe | «Самые странные вещи во Вселенной».\\n\\nНаука\\n\\nИстория научных открытий и всё о том, как наше восприятие изменилось благодаря научным инструментам.\\n\\n231. A Science Odyssey: Mysteries of the Universe.\\n\\n232. The Quantum Revolution | «Квантовая революция».\\n\\n233. Secret Universe: The Hidden Life of the Cell | «Внутренняя вселенная: тайная жизнь клетки».\\n\\n234. Stephen Hawking: A Brief History of Time | «Стивен Хокинг: краткая история времени».\\n\\n235. Quantum Mechanics: Fabric of the Cosmos | «Тайны мироздания. Космическая Одиссея».\\n\\n236. The Light Fantastic | «Что такое свет».\\n\\n237. DNA: The Secret of Life.\\n\\n238. Parallel Universes, Alternative Timelines & Multiverse | «Параллельные вселенные».\\n\\n239. What Is The Higgs Boson?\\n\\n240. Infinity | «Бесконечная бесконечность».\",\"attachments\":[{\"type\":\"photo\",\"photo\":{\"id\":411543419,\"album_id\":-7,\"owner_id\":-53275080,\"user_id\":100,\"sizes\":[{\"type\":\"m\",\"url\":\"https:\\/\\/pp.userapi.com\\/c543105\\/v543105951\\/1366b\\/wBlXug3UzyQ.jpg\",\"width\":130,\"height\":82},{\"type\":\"o\",\"url\":\"https:\\/\\/pp.userapi.com\\/c543105\\/v543105951\\/1366d\\/9VzkdnmBZ4Y.jpg\",\"width\":130,\"height\":87},{\"type\":\"p\",\"url\":\"https:\\/\\/pp.userapi.com\\/c543105\\/v543105951\\/1366e\\/D6YaMDE40Ug.jpg\",\"width\":200,\"height\":133},{\"type\":\"q\",\"url\":\"https:\\/\\/pp.userapi.com\\/c543105\\/v543105951\\/1366f\\/FqBWJErcbzU.jpg\",\"width\":320,\"height\":213},{\"type\":\"r\",\"url\":\"https:\\/\\/pp.userapi.com\\/c543105\\/v543105951\\/13670\\/vd6HPTZsVwE.jpg\",\"width\":510,\"height\":340},{\"type\":\"s\",\"url\":\"https:\\/\\/pp.userapi.com\\/c543105\\/v543105951\\/1366a\\/KbrV1jjaW8A.jpg\",\"width\":75,\"height\":47},{\"type\":\"x\",\"url\":\"https:\\/\\/pp.userapi.com\\/c543105\\/v543105951\\/1366c\\/0n61fl--Xh0.jpg\",\"width\":604,\"height\":382}],\"text\":\"\",\"date\":1462479305,\"post_id\":68816,\"access_key\":\"0cec23625ed3caf1e0\"}}],\"post_source\":{\"type\":\"api\"}}],\"post_source\":{\"type\":\"api\",\"platform\":\"android\"},\"comments\":{\"count\":0,\"can_post\":0,\"groups_can_post\":true},\"likes\":{\"count\":4,\"user_likes\":0,\"can_like\":1,\"can_publish\":1},\"reposts\":{\"count\":2,\"user_reposted\":0},\"is_favorite\":false},{\"id\":726,\"from_id\":3004879,\"owner_id\":3004879,\"date\":1462697962,\"post_type\":\"post\",\"text\":\"\",\"copy_history\":[{\"id\":68844,\"owner_id\":-53275080,\"from_id\":-53275080,\"date\":1462553880,\"post_type\":\"post\",\"text\":\"9 способов искать информацию в GOOGLE, о которых не знает 97% пользователей.\\n\\n1. Как найти точную фразу или форму слова\\n\\nС помощью оператора \\\" \\\". Заключите фразу или слово в кавычки, и Google будет искать веб-страницы, где есть ровно такая фраза (форма слова).\\n\\nПример:\\n\\n[\\\"я к вам пишу\\\"]\\n\\n2. Как найти цитату, в которой пропущено слово\\n\\nЗабыли слово в цитате? Возьмите всю цитату в кавычки, а вместо пропущенного слова поставьте звездочку *. Цитата найдется вместе с забытым словом.\\n\\nПример:\\n\\n[\\\"ночь улица * аптека\\\"]\\n\\n3. Как найти любые из нескольких слов\\n\\nПросто перечислите все подходящие варианты через вертикальный слеш: |. Google будет искать документы с любым из этих слов.\\n\\nПример:\\n\\n[ананасы | рябчики | шампанское]\\n[дачные участки (рублевское | киевское | минское) шоссе]\\n\\n4. Как найти слова в пределах одного предложения\\n\\nИспользуйте оператор с красивым именем «амперсанд» — &. Если соединить слова амперсандом, Google найдет документы, где эти слова стоят в одном предложении.\\n\\nПример:\\n\\n[памятник Пушкину & Псков]\\n\\n5. Как найти документ, содержащий определённое слово\\n\\nПоставьте перед нужным словом плюс, не отделяя его от слова пробелом. В запрос можно включить несколько обязательных слов.\\n\\nПример:\\n\\n[Памятник Шолохову +бульвар]\\n\\n6. Как исключить слово из поиска\\n\\nПоставьте минус перед словом, которое вы не хотите видеть в ответах. Так можно исключить даже несколько слов:\\n\\nПример:\\n\\n[мумий тролль мультфильм -рок -лагутенко]\\n[схемы вязания спицами -купить]\\n\\n7. Как искать на определенном сайте\\n\\nДля этого подойдет оператор site. Он позволяет прямо в запросе указать сайт, на котором нужно искать. Только обязательно поставьте после site двоеточие.\\n\\nПример:\\n\\n[конституция рф site:consultant(точка)ru]\\n[маяковский окна site:lib(точка)ru]\\n\\n8. Как искать документы определенного типа\\n\\nВам нужен оператор mime. Поставьте в запросе mime, двоеточие и затем тип документа, который вам нужен. Например, pdf или doc.\\n\\nПример:\\n\\n[заявление на загранпаспорт mime:pdf]\\n\\n9. Как искать на сайтах на определенном языке\\n\\nС помощью оператора lang. После lang нужно поставить двоеточие и написать, на каком языке вам нужны документы. Если это русский язык, то нужно указать ru, если украинский — uk. Белорусский язык обозначается как be, английский — en, французский — fr.\\n\\nПример:\\n\\n[void glClearColor lang:ru]\\n\\nЧТОБЫ НЕ ЗАБЫТЬ, СОХРАНИ СЕБЕ НА СТЕНУ, ЖМИ ПОД СТАТЬЕЙ \\\"ПОДЕЛИТЬСЯ\\\".\",\"attachments\":[{\"type\":\"photo\",\"photo\":{\"id\":411642159,\"album_id\":-7,\"owner_id\":-53275080,\"user_id\":100,\"sizes\":[{\"type\":\"m\",\"url\":\"https:\\/\\/pp.userapi.com\\/c543105\\/v543105951\\/1373f\\/Cn6Wt33mHQc.jpg\",\"width\":130,\"height\":78},{\"type\":\"o\",\"url\":\"https:\\/\\/pp.userapi.com\\/c543105\\/v543105951\\/13741\\/PP6zPN1jOG4.jpg\",\"width\":130,\"height\":87},{\"type\":\"p\",\"url\":\"https:\\/\\/pp.userapi.com\\/c543105\\/v543105951\\/13742\\/_UeR91m36zc.jpg\",\"width\":200,\"height\":133},{\"type\":\"q\",\"url\":\"https:\\/\\/pp.userapi.com\\/c543105\\/v543105951\\/13743\\/zXRHis_TUXU.jpg\",\"width\":320,\"height\":213},{\"type\":\"r\",\"url\":\"https:\\/\\/pp.userapi.com\\/c543105\\/v543105951\\/13744\\/AactmgxTsIs.jpg\",\"width\":510,\"height\":340},{\"type\":\"s\",\"url\":\"https:\\/\\/pp.userapi.com\\/c543105\\/v543105951\\/1373e\\/XtpR4sAlTpg.jpg\",\"width\":75,\"height\":45},{\"type\":\"x\",\"url\":\"https:\\/\\/pp.userapi.com\\/c543105\\/v543105951\\/13740\\/ckUsIenRR0M.jpg\",\"width\":604,\"height\":362}],\"text\":\"\",\"date\":1462553880,\"post_id\":68844,\"access_key\":\"402d6e240b817763e1\"}}],\"post_source\":{\"type\":\"api\"}}],\"post_source\":{\"type\":\"api\",\"platform\":\"android\"},\"comments\":{\"count\":0,\"can_post\":0,\"groups_can_post\":true},\"likes\":{\"count\":5,\"user_likes\":0,\"can_like\":1,\"can_publish\":1},\"reposts\":{\"count\":1,\"user_reposted\":0},\"is_favorite\":false},{\"id\":725,\"from_id\":3004879,\"owner_id\":3004879,\"date\":1461602376,\"post_type\":\"post\",\"text\":\"Очень крутая CRM-система для ведения продаж и понимания эффективности каждого канала лидогенерации. Рекомендую всем, кто хоть как то связан с продажей чего-либо. Не важно что вы продаете (товары или услуги), не важно кому вы продаете (B2B или B2C) четкое понимание каждого показателя в продажах должно быть в любом случае http:\\/\\/land.lptracker.ru\\/?ref=14186\",\"attachments\":[{\"type\":\"link\",\"link\":{\"url\":\"http:\\/\\/land.lptracker.ru\\/?ref=14186\",\"title\":\"CRM cистема LPTracker.ru\",\"caption\":\"land.lptracker.ru\",\"description\":\"\",\"photo\":{\"id\":409557692,\"album_id\":-2,\"owner_id\":100,\"sizes\":[{\"type\":\"m\",\"url\":\"https:\\/\\/pp.userapi.com\\/c626425\\/v626425574\\/538d\\/qg5UU6PsZ-o.jpg\",\"width\":130,\"height\":65},{\"type\":\"s\",\"url\":\"https:\\/\\/pp.userapi.com\\/c626425\\/v626425574\\/538c\\/YyMJFNpcOdw.jpg\",\"width\":75,\"height\":37},{\"type\":\"x\",\"url\":\"https:\\/\\/pp.userapi.com\\/c626425\\/v626425574\\/538e\\/qwlDU2f1U_U.jpg\",\"width\":150,\"height\":75}],\"text\":\"\",\"date\":1461082719},\"is_favorite\":false}}],\"post_source\":{\"type\":\"vk\"},\"comments\":{\"count\":0,\"can_post\":0,\"groups_can_post\":true},\"likes\":{\"count\":5,\"user_likes\":0,\"can_like\":1,\"can_publish\":1},\"reposts\":{\"count\":1,\"user_reposted\":0},\"is_favorite\":false},{\"id\":724,\"from_id\":3004879,\"owner_id\":3004879,\"date\":1450430169,\"post_type\":\"post\",\"text\":\"\",\"copy_history\":[{\"id\":34407,\"owner_id\":-41091051,\"from_id\":-41091051,\"date\":1450422000,\"post_type\":\"post\",\"text\":\"\",\"attachments\":[{\"type\":\"photo\",\"photo\":{\"id\":391717600,\"album_id\":-7,\"owner_id\":-41091051,\"user_id\":100,\"sizes\":[{\"type\":\"m\",\"url\":\"https:\\/\\/pp.userapi.com\\/c540109\\/v540109703\\/14773\\/T9ocyJcYvWU.jpg\",\"width\":130,\"height\":95},{\"type\":\"o\",\"url\":\"https:\\/\\/pp.userapi.com\\/c540109\\/v540109703\\/14775\\/n4lisvlrMac.jpg\",\"width\":130,\"height\":95},{\"type\":\"p\",\"url\":\"https:\\/\\/pp.userapi.com\\/c540109\\/v540109703\\/14776\\/51YvfJlAifE.jpg\",\"width\":200,\"height\":147},{\"type\":\"q\",\"url\":\"https:\\/\\/pp.userapi.com\\/c540109\\/v540109703\\/14777\\/TaUS8sRy-Zc.jpg\",\"width\":320,\"height\":235},{\"type\":\"r\",\"url\":\"https:\\/\\/pp.userapi.com\\/c540109\\/v540109703\\/14778\\/M1Q9KhoqZig.jpg\",\"width\":510,\"height\":374},{\"type\":\"s\",\"url\":\"https:\\/\\/pp.userapi.com\\/c540109\\/v540109703\\/14772\\/YFl-EbNsil8.jpg\",\"width\":75,\"height\":55},{\"type\":\"x\",\"url\":\"https:\\/\\/pp.userapi.com\\/c540109\\/v540109703\\/14774\\/llI5jaA05S8.jpg\",\"width\":604,\"height\":443}],\"text\":\"\",\"date\":1450422000,\"post_id\":34407,\"access_key\":\"6c43c0110b26746c2f\"}}],\"post_source\":{\"type\":\"api\"}}],\"post_source\":{\"type\":\"api\",\"platform\":\"android\"},\"comments\":{\"count\":0,\"can_post\":0,\"groups_can_post\":true},\"likes\":{\"count\":13,\"user_likes\":0,\"can_like\":1,\"can_publish\":1},\"reposts\":{\"count\":0,\"user_reposted\":0},\"is_favorite\":false},{\"id\":722,\"from_id\":3004879,\"owner_id\":3004879,\"date\":1449090300,\"post_type\":\"post\",\"text\":\"\",\"copy_history\":[{\"id\":268280,\"owner_id\":-22798006,\"from_id\":-22798006,\"date\":1449089113,\"post_type\":\"post\",\"text\":\"400 дней (2015)\\nЖанр: фантастика, триллер, детектив\\n\\nСюжет вращается вокруг астронавтов, отправившихся на симуляторе в путешествие по направлению к далекой планете. Цель этого эксперимента состоит в том, чтобы проверить членов экипажа космического корабля на психологическую совместимость во время длительного полета. Вскоре психика астронавтов дает сбой, и, оказавшись за бортом, они начинают понимать, что полет вовсе не был тренировочным.\",\"attachments\":[{\"type\":\"photo\",\"photo\":{\"id\":389061642,\"album_id\":-7,\"owner_id\":-22798006,\"user_id\":100,\"sizes\":[{\"type\":\"m\",\"url\":\"https:\\/\\/pp.userapi.com\\/c543101\\/v543101990\\/ddbd\\/_3hAowrqRI4.jpg\",\"width\":88,\"height\":130},{\"type\":\"o\",\"url\":\"https:\\/\\/pp.userapi.com\\/c543101\\/v543101990\\/ddc1\\/iiDHaAARZKw.jpg\",\"width\":130,\"height\":193},{\"type\":\"p\",\"url\":\"https:\\/\\/pp.userapi.com\\/c543101\\/v543101990\\/ddc2\\/GM1TCGYBeck.jpg\",\"width\":200,\"height\":297},{\"type\":\"q\",\"url\":\"https:\\/\\/pp.userapi.com\\/c543101\\/v543101990\\/ddc3\\/hGoqbluHtRo.jpg\",\"width\":320,\"height\":475},{\"type\":\"r\",\"url\":\"https:\\/\\/pp.userapi.com\\/c543101\\/v543101990\\/ddc4\\/IaCkDV998LM.jpg\",\"width\":510,\"height\":757},{\"type\":\"s\",\"url\":\"https:\\/\\/pp.userapi.com\\/c543101\\/v543101990\\/ddbc\\/4bxqdkIL1fg.jpg\",\"width\":51,\"height\":75},{\"type\":\"x\",\"url\":\"https:\\/\\/pp.userapi.com\\/c543101\\/v543101990\\/ddbe\\/nj84gMCQPtw.jpg\",\"width\":407,\"height\":604},{\"type\":\"y\",\"url\":\"https:\\/\\/pp.userapi.com\\/c543101\\/v543101990\\/ddbf\\/Gl4rVqu7v2s.jpg\",\"width\":544,\"height\":807},{\"type\":\"z\",\"url\":\"https:\\/\\/pp.userapi.com\\/c543101\\/v543101990\\/ddc0\\/xITdyAVdm08.jpg\",\"width\":674,\"height\":1000}],\"text\":\"\",\"date\":1449072721,\"access_key\":\"05bb5b915ebd2bb06e\"}},{\"type\":\"photo\",\"photo\":{\"id\":389061643,\"album_id\":-7,\"owner_id\":-22798006,\"user_id\":100,\"sizes\":[{\"type\":\"m\",\"url\":\"https:\\/\\/pp.userapi.com\\/c543101\\/v543101990\\/ddc6\\/wM-aKW6gkak.jpg\",\"width\":130,\"height\":72},{\"type\":\"o\",\"url\":\"https:\\/\\/pp.userapi.com\\/c543101\\/v543101990\\/ddc9\\/SdQKwqbJvBM.jpg\",\"width\":130,\"height\":87},{\"type\":\"p\",\"url\":\"https:\\/\\/pp.userapi.com\\/c543101\\/v543101990\\/ddca\\/1ElwtP0YG3Q.jpg\",\"width\":200,\"height\":133},{\"type\":\"q\",\"url\":\"https:\\/\\/pp.userapi.com\\/c543101\\/v543101990\\/ddcb\\/TAUyYETs-Qk.jpg\",\"width\":320,\"height\":213},{\"type\":\"r\",\"url\":\"https:\\/\\/pp.userapi.com\\/c543101\\/v543101990\\/ddcc\\/G4Ewv2N4E5I.jpg\",\"width\":510,\"height\":340},{\"type\":\"s\",\"url\":\"https:\\/\\/pp.userapi.com\\/c543101\\/v543101990\\/ddc5\\/Jy--YEUMnL4.jpg\",\"width\":75,\"height\":42},{\"type\":\"x\",\"url\":\"https:\\/\\/pp.userapi.com\\/c543101\\/v543101990\\/ddc7\\/umfj8H62kXc.jpg\",\"width\":604,\"height\":336},{\"type\":\"y\",\"url\":\"https:\\/\\/pp.userapi.com\\/c543101\\/v543101990\\/ddc8\\/9_KIkZBpQWs.jpg\",\"width\":720,\"height\":400}],\"text\":\"\",\"date\":1449072721,\"access_key\":\"53a43f161d23a0968f\"}},{\"type\":\"video\",\"video\":{\"id\":171621197,\"owner_id\":-47618171,\"title\":\"400 дней (2015) Трейлер\",\"duration\":106,\"description\":\"НОВИНКИ КИНО В ОТЛИЧНОМ КАЧЕСТВЕ FULL HD\\nvk.com\\/x.film \\nvk.com\\/x.film \\nvk.com\\/x.film\\n☝Заходи! Всегда есть, что посмотреть :)\",\"date\":1448920256,\"comments\":54,\"views\":113605,\"width\":1920,\"height\":816,\"photo_130\":\"https:\\/\\/pp.userapi.com\\/c633718\\/v633718171\\/1f76\\/7Sbi5bHO4cA.jpg\",\"photo_320\":\"https:\\/\\/pp.userapi.com\\/c633718\\/v633718171\\/1f74\\/0sDj1D307Fk.jpg\",\"photo_800\":\"https:\\/\\/pp.userapi.com\\/c633718\\/v633718171\\/1f73\\/xaOKRGA7Skw.jpg\",\"is_favorite\":false,\"access_key\":\"76dc8c8afe33d9992a\",\"can_add\":1,\"track_code\":\"video_bf1278b5uevO9z0CNGZKRRo_Ul8vxncSYbiBSwg4xWqIAOMxlb-JyuPD\"}},{\"type\":\"video\",\"video\":{\"id\":171318652,\"owner_id\":336219673,\"title\":\"400 dneй\",\"duration\":5285,\"description\":\"[club77051666|Новинки кино]  - №1 по обновлению новинок, подпишись!\\n\\n☝Заходи! Всегда есть, что посмотреть :)\\n\\nЕсли фильм изъят, ищите его тут http:\\/\\/vk.com\\/videos-77051666\",\"date\":1449046635,\"comments\":181,\"views\":80265,\"width\":1280,\"height\":720,\"photo_130\":\"https:\\/\\/sun9-3.userapi.com\\/c627324\\/v627324673\\/2711f\\/iB9LOMI6b70.jpg\",\"photo_320\":\"https:\\/\\/sun9-27.userapi.com\\/c627324\\/v627324673\\/2711d\\/dkA87PlssjM.jpg\",\"photo_800\":\"https:\\/\\/sun9-28.userapi.com\\/c627324\\/v627324673\\/2711c\\/_h37Ep1Ha4Y.jpg\",\"is_favorite\":false,\"access_key\":\"02cd88b41b6253bbd3\",\"can_add\":1,\"track_code\":\"video_e22fdf67sgqHDI7jyPf0_qnnuu0Nk9nemvvkh54M1klL_tNhxUGCK7Q_\"}}],\"post_source\":{\"type\":\"vk\"}}],\"post_source\":{\"type\":\"api\",\"platform\":\"android\"},\"comments\":{\"count\":0,\"can_post\":0,\"groups_can_post\":true},\"likes\":{\"count\":4,\"user_likes\":0,\"can_like\":1,\"can_publish\":1},\"reposts\":{\"count\":1,\"user_reposted\":0},\"is_favorite\":false},{\"id\":721,\"from_id\":3004879,\"owner_id\":3004879,\"date\":1447966797,\"post_type\":\"post\",\"text\":\"\",\"copy_history\":[{\"id\":265577,\"owner_id\":-22798006,\"from_id\":-22798006,\"date\":1447916432,\"post_type\":\"post\",\"text\":\"Бегущий в лабиринте (2014)\\nБегущий в лабиринте: Испытание огнём (2015)\",\"attachments\":[{\"type\":\"photo\",\"photo\":{\"id\":387020383,\"album_id\":-7,\"owner_id\":-22798006,\"user_id\":100,\"sizes\":[{\"type\":\"m\",\"url\":\"https:\\/\\/pp.userapi.com\\/c543101\\/v543101257\\/1520f\\/9nKap3TM1-4.jpg\",\"width\":91,\"height\":130},{\"type\":\"o\",\"url\":\"https:\\/\\/pp.userapi.com\\/c543101\\/v543101257\\/15213\\/3AAU9SDeQOI.jpg\",\"width\":130,\"height\":185},{\"type\":\"p\",\"url\":\"https:\\/\\/pp.userapi.com\\/c543101\\/v543101257\\/15214\\/saYekl56-g0.jpg\",\"width\":200,\"height\":285},{\"type\":\"q\",\"url\":\"https:\\/\\/pp.userapi.com\\/c543101\\/v543101257\\/15215\\/Gno07E3JBA4.jpg\",\"width\":320,\"height\":455},{\"type\":\"r\",\"url\":\"https:\\/\\/pp.userapi.com\\/c543101\\/v543101257\\/15216\\/LodQwztCaV8.jpg\",\"width\":510,\"height\":725},{\"type\":\"s\",\"url\":\"https:\\/\\/pp.userapi.com\\/c543101\\/v543101257\\/1520e\\/Kwh34zc2zPg.jpg\",\"width\":52,\"height\":75},{\"type\":\"x\",\"url\":\"https:\\/\\/pp.userapi.com\\/c543101\\/v543101257\\/15210\\/AWClcmhdzw0.jpg\",\"width\":424,\"height\":604},{\"type\":\"y\",\"url\":\"https:\\/\\/pp.userapi.com\\/c543101\\/v543101257\\/15211\\/HdjndZafncY.jpg\",\"width\":567,\"height\":807},{\"type\":\"z\",\"url\":\"https:\\/\\/pp.userapi.com\\/c543101\\/v543101257\\/15212\\/7Z-oh8v19M8.jpg\",\"width\":703,\"height\":1000}],\"text\":\"\",\"date\":1447768684,\"access_key\":\"f496ea585b215db257\"}},{\"type\":\"photo\",\"photo\":{\"id\":387020385,\"album_id\":-7,\"owner_id\":-22798006,\"user_id\":100,\"sizes\":[{\"type\":\"m\",\"url\":\"https:\\/\\/pp.userapi.com\\/c543101\\/v543101257\\/15218\\/d5b3DGNzWtg.jpg\",\"width\":130,\"height\":85},{\"type\":\"o\",\"url\":\"https:\\/\\/pp.userapi.com\\/c543101\\/v543101257\\/1521c\\/1FgVXnxSlp8.jpg\",\"width\":130,\"height\":87},{\"type\":\"p\",\"url\":\"https:\\/\\/pp.userapi.com\\/c543101\\/v543101257\\/1521d\\/-xFg6Oyqm3A.jpg\",\"width\":200,\"height\":133},{\"type\":\"q\",\"url\":\"https:\\/\\/pp.userapi.com\\/c543101\\/v543101257\\/1521e\\/MG5OC30xPMw.jpg\",\"width\":320,\"height\":213},{\"type\":\"r\",\"url\":\"https:\\/\\/pp.userapi.com\\/c543101\\/v543101257\\/1521f\\/ilpsv-HaY5U.jpg\",\"width\":510,\"height\":340},{\"type\":\"s\",\"url\":\"https:\\/\\/pp.userapi.com\\/c543101\\/v543101257\\/15217\\/5kuDaRjEFMI.jpg\",\"width\":75,\"height\":49},{\"type\":\"x\",\"url\":\"https:\\/\\/pp.userapi.com\\/c543101\\/v543101257\\/15219\\/9yR0RWYINXA.jpg\",\"width\":604,\"height\":397},{\"type\":\"y\",\"url\":\"https:\\/\\/pp.userapi.com\\/c543101\\/v543101257\\/1521a\\/BEa1SPI10gs.jpg\",\"width\":807,\"height\":531},{\"type\":\"z\",\"url\":\"https:\\/\\/pp.userapi.com\\/c543101\\/v543101257\\/1521b\\/WH8xNPpLlyg.jpg\",\"width\":1200,\"height\":790}],\"text\":\"\",\"date\":1447768684,\"access_key\":\"9ec60dc05401d5e183\"}},{\"type\":\"video\",\"video\":{\"id\":171405137,\"owner_id\":333753407,\"title\":\"6egvlab\",\"duration\":7419,\"description\":\"[club77051666|Новинки кино]  - №1 по обновлению новинок, подпишись!\\n\\n☝Заходи! Всегда есть, что посмотреть :)\\n\\nЕсли фильм изъят, ищите его тут http:\\/\\/vk.com\\/videos-77051666\",\"date\":1447755514,\"comments\":556,\"views\":120084,\"width\":1280,\"height\":720,\"content_restricted\":1,\"photo_130\":\"https:\\/\\/vk.com\\/images\\/video_s.png\",\"photo_320\":\"https:\\/\\/vk.com\\/images\\/video_l.png\",\"is_favorite\":false,\"access_key\":\"f495939d0367d9e2aa\",\"can_add\":1,\"track_code\":\"video_ecc67f42XXZUBh7mbPndzUb6U3APP87r8QeTbzH6BsiSXQUXQDxtVGc1\"}}],\"post_source\":{\"type\":\"vk\"}}],\"post_source\":{\"type\":\"vk\"},\"comments\":{\"count\":0,\"can_post\":0,\"groups_can_post\":true},\"likes\":{\"count\":3,\"user_likes\":0,\"can_like\":1,\"can_publish\":1},\"reposts\":{\"count\":0,\"user_reposted\":0},\"is_favorite\":false},{\"id\":720,\"from_id\":3004879,\"owner_id\":3004879,\"date\":1444903984,\"post_type\":\"post\",\"text\":\"Правильный пароль на телефон\",\"attachments\":[{\"type\":\"link\",\"link\":{\"url\":\"http:\\/\\/idaprikol.ru\\/i\\/5MY54vqJ3\",\"title\":\"Правильный пароль на телефон\",\"caption\":\"idaprikol.ru\",\"description\":\"Click to see the pic...\",\"photo\":{\"id\":384866934,\"album_id\":-2,\"owner_id\":100,\"sizes\":[{\"type\":\"m\",\"url\":\"https:\\/\\/pp.userapi.com\\/c6049\\/v6049879\\/18486\\/I3OfcUQoC5M.jpg\",\"width\":130,\"height\":90},{\"type\":\"p\",\"url\":\"https:\\/\\/pp.userapi.com\\/c6049\\/v6049879\\/18488\\/-1xav4YQI-s.jpg\",\"width\":260,\"height\":181},{\"type\":\"s\",\"url\":\"https:\\/\\/pp.userapi.com\\/c6049\\/v6049879\\/18485\\/RIL183qYuS0.jpg\",\"width\":75,\"height\":52},{\"type\":\"x\",\"url\":\"https:\\/\\/pp.userapi.com\\/c6049\\/v6049879\\/18487\\/WyG4INEqmsw.jpg\",\"width\":150,\"height\":104}],\"text\":\"\",\"date\":1444903988},\"is_favorite\":false}}],\"post_source\":{\"type\":\"api\",\"platform\":\"android\"},\"comments\":{\"count\":0,\"can_post\":0,\"groups_can_post\":true},\"likes\":{\"count\":3,\"user_likes\":0,\"can_like\":1,\"can_publish\":1},\"reposts\":{\"count\":0,\"user_reposted\":0},\"is_favorite\":false},{\"id\":719,\"from_id\":3004879,\"owner_id\":3004879,\"date\":1444316121,\"post_type\":\"post\",\"text\":\"Не стоит выкладывать детские фото в социалках. Не принимайте незнакомцев в друзья!!!\\n\\nhttp:\\/\\/www.g8ozd.ru\\/nastroyki-privatnosti\\/\",\"attachments\":[{\"type\":\"link\",\"link\":{\"url\":\"http:\\/\\/www.g8ozd.ru\\/nastroyki-privatnosti\\/\",\"title\":\"Мама навсегда потеряла своего ребенка из-за ошибки в Facebook. Держи глаза пошире!\",\"caption\":\"www.g8ozd.ru\",\"description\":\"Один клик изменил все!\",\"photo\":{\"id\":383993522,\"album_id\":-2,\"owner_id\":100,\"sizes\":[{\"type\":\"k\",\"url\":\"https:\\/\\/pp.userapi.com\\/c6082\\/v6082879\\/16fda\\/CnPrMgt-s2g.jpg\",\"width\":1074,\"height\":480},{\"type\":\"l\",\"url\":\"https:\\/\\/pp.userapi.com\\/c6082\\/v6082879\\/16fd9\\/Ryndg0ljCPU.jpg\",\"width\":537,\"height\":240},{\"type\":\"m\",\"url\":\"https:\\/\\/pp.userapi.com\\/c6082\\/v6082879\\/16fd6\\/dLYfKGunI_U.jpg\",\"width\":130,\"height\":70},{\"type\":\"p\",\"url\":\"https:\\/\\/pp.userapi.com\\/c6082\\/v6082879\\/16fd8\\/9NPbzHYs4cc.jpg\",\"width\":260,\"height\":140},{\"type\":\"s\",\"url\":\"https:\\/\\/pp.userapi.com\\/c6082\\/v6082879\\/16fd5\\/WvNwlYFkZ1M.jpg\",\"width\":75,\"height\":38},{\"type\":\"x\",\"url\":\"https:\\/\\/pp.userapi.com\\/c6082\\/v6082879\\/16fd7\\/IWzbcnDYGAY.jpg\",\"width\":150,\"height\":80}],\"text\":\"\",\"date\":1444316132},\"is_favorite\":false}}],\"post_source\":{\"type\":\"api\",\"platform\":\"android\"},\"comments\":{\"count\":0,\"can_post\":0,\"groups_can_post\":true},\"likes\":{\"count\":1,\"user_likes\":0,\"can_like\":1,\"can_publish\":1},\"reposts\":{\"count\":1,\"user_reposted\":0},\"is_favorite\":false},{\"id\":718,\"from_id\":3004879,\"owner_id\":3004879,\"date\":1443554245,\"post_type\":\"post\",\"text\":\"\",\"copy_history\":[{\"id\":26283,\"owner_id\":-36557224,\"from_id\":-36557224,\"date\":1443550620,\"post_type\":\"post\",\"text\":\"\",\"attachments\":[{\"type\":\"photo\",\"photo\":{\"id\":380462404,\"album_id\":-7,\"owner_id\":-36557224,\"user_id\":100,\"sizes\":[{\"type\":\"m\",\"url\":\"https:\\/\\/pp.userapi.com\\/c543105\\/v543105773\\/7fb1\\/ah1ICbYH28c.jpg\",\"width\":130,\"height\":121},{\"type\":\"o\",\"url\":\"https:\\/\\/pp.userapi.com\\/c543105\\/v543105773\\/7fb3\\/v6RMatZO060.jpg\",\"width\":130,\"height\":121},{\"type\":\"p\",\"url\":\"https:\\/\\/pp.userapi.com\\/c543105\\/v543105773\\/7fb4\\/i-nrnjr10nc.jpg\",\"width\":200,\"height\":186},{\"type\":\"q\",\"url\":\"https:\\/\\/pp.userapi.com\\/c543105\\/v543105773\\/7fb5\\/LEOdMOquPRI.jpg\",\"width\":320,\"height\":297},{\"type\":\"r\",\"url\":\"https:\\/\\/pp.userapi.com\\/c543105\\/v543105773\\/7fb6\\/a4iAPG7PV34.jpg\",\"width\":510,\"height\":474},{\"type\":\"s\",\"url\":\"https:\\/\\/pp.userapi.com\\/c543105\\/v543105773\\/7fb0\\/hZzASRExGp0.jpg\",\"width\":75,\"height\":70},{\"type\":\"x\",\"url\":\"https:\\/\\/pp.userapi.com\\/c543105\\/v543105773\\/7fb2\\/T0cXDr58hw8.jpg\",\"width\":604,\"height\":561}],\"text\":\"\",\"date\":1443550620,\"post_id\":26283,\"access_key\":\"a5428c67bb972c10de\"}}],\"post_source\":{\"type\":\"api\"}}],\"post_source\":{\"type\":\"api\",\"platform\":\"android\"},\"comments\":{\"count\":0,\"can_post\":0,\"groups_can_post\":true},\"likes\":{\"count\":3,\"user_likes\":0,\"can_like\":1,\"can_publish\":1},\"reposts\":{\"count\":0,\"user_reposted\":0},\"is_favorite\":false},{\"id\":717,\"from_id\":3004879,\"owner_id\":3004879,\"date\":1442218993,\"post_type\":\"post\",\"text\":\"\",\"copy_history\":[{\"id\":164170,\"owner_id\":-41041067,\"from_id\":-41041067,\"date\":1441919701,\"post_type\":\"post\",\"text\":\"Бессмертие\\n\\n1 день:\\n\\nЧто? Почему я ещё жив? Что со мной? Помню, как меня сбивает машина, я падаю, теряю сознание. А теперь вокруг меня собралась целая толпа людей, какой-то нервный мужичок прыгает вокруг меня, постоянно что-то причитая, все смотрят на меня так, будто со мной что-то не так. А на мне ни царапины. Как такое могло случиться?\\n\\n1 неделя:\\n\\nПоказался врачу. Он никаких отклонений не нашел, сказав что мой организм работает как часы. Однако после того как у меня взяли из пальца кровь, порез затянулся на считанные секунды. Благо что врач на это не обратил никакого внимания. Придя домой намеренно уколол себя повторно. Было страшно сделать себе больно, но ничего не произошло. Из укола вытекла одна маленькая капелька крови и тут же затянулась. Со мной явно что-то не так.\\n\\n1 месяц:\\n\\nАбсолютно пропало чувство голода и сна. Как оказалось я теперь совершенно спокойно могу провести целую неделю без еды и воды и ничего мне с этого не будет. Прикольное качество. Однако привычки, выработанные годами, всё равно дают о себе знать. Иногда хочется съесть чего-то вкусного, мороженного или жаренного мяса. Не потому что хочется есть, а просто ради вкуса.\\n\\n1 год:\\n\\nСегодня случилось непоправимое. Сегодня я должен был погибнуть второй раз в своей жизни. Мы с девушкой ехали поздно ночью по горной дороге. Я был так ею увлечён, что не заметил поворота и вылетел с дороги. Мы вместе с машиной ринулись в пропасть. Помню только, что в самый последний момент успел лишь обнять свою любимую и что-то прокричать напоследок. Очнулся я неподалеку от той груды металла, что раньше была автомобилем. Спасти любимую я уже не мог. А на мне по-прежнему не было ни одной царапины.\\n\\n10 лет:\\n\\nТе 10 лет, что я провел на службе по контракту, сделали из меня настоящего бойца. Я изучил науку выживания, благо что с моими способностями это оказалось много проще, чем остальным. Служба в горячих точках помогла мне укрыться от мыслей на тему того, кто же я есть. Когда ты сидишь под пулями, мало кого интересует - какое у тебя прошлое и какими особыми умениями ты обладал. Главное - здесь и сейчас. Для меня мой полк стал второй семьёй. Однако даже им я не скажу о том, что во время наших ночных вылазок меня убивали уже раз 5 или 6. Хотя я и сам уже и не помню сколько точно. Благо что после возвращения на базу мне удавалось объяснить то, что на мне не царапины. Да и мало кого это волновало. Жив, и ладно. Без ложной скромности скажу, что со временем я даже стал для наших, неким подобием талисмана, который приносит удачу. Ха! Как бы я хотел что бы было так. Все ребята в это верили до того момента, пока по нашей позиции, во время очередных боев, не ударила ракета. Больше верить во что-то было некому, т.к. на месте нашей дислокации не осталось ничего. Кроме меня.\\n\\n100 лет:\\n\\nКак же быстро разрастается человечество. Ещё, казалось, вчера, нас было чуть более 7 млрд, а за какие-то неполные 100 лет мы приблизились к 20! Как мне кажется это вызвано небывалым технических рывком в медицине, компьютерных технологиях, биоинженерии. Что бы спастись от голода, люди начали освоение морского дна, строительство морских ферм и доступного жилья под водой. Появились первые города-миллионники. А вот с проектом городов на Луне, увы, ничего, пока что не получилось. Получив доступ к компьютерам, человечество потеряло всякий интерес и стремление к звёздам. Теперь каждый имеет имплант, который соединят всех людей в одну информационную сеть. Разговоры, теперь, используются только в качестве хорошего тона и то, стараются его свести к минимуму. В основном же используют т.н. \\\"телепатию\\\". А если точнее то специальную программку, которая позволяет передавать мысли друг другу. Стоя у истоков фирмы, которая первой начала производить такие чипы-импланты я не могу беспристрастно сказать, хорошо это или плохо. Но люди сами выбирают свое будущее.\\n\\n1000 лет:\\n\\nКак же скучна становится жизнь. Казалось бы - у меня всё есть. Есть компания, которая за 1000-летнюю историю обрела репутацию такую, что может поспорить с некоторыми странами. Я уж молчу про прибыли от неё, ведь каждый день рождается человек, которому необходимы наборы плат, чипов и нейроинтерфейсов для нормального функционирования в обществе. А на эти части - у моей фирмы полная монополия. Женщины, влияние, связи, власть, всё становится неважным. Всё то, что раньше меня волновало - отошло на второй план, оставив только небольшой налёт каких-то приятных воспоминаний. Единственное утешение, что я себе нахожу - это наука. Она доставляет мне истинное наслаждение своей непредсказуемостью. Неизвестно, какие открытия будут совершены в течение какие-то 100 лет. \\n\\n10000 лет:\\n\\nГода проносятся мимо меня. Я не то что бы всегда стремился к жизни отшельника, но, увы, так получилось, что все мои знакомые умирают раньше, чем я смогу оставить о них хоть какое-то яркое впечатление. Череда знакомств, лиц, имен, дат - теперь ничего для меня не значат, сливаясь в одну серую, монотонную краску, которая теперь представляет всё моё существование. Мода, музыка, литература, всё что раньше меня развлекало теперь кажется мне повторением то, что уже было раньше.\\nНе так давно, пару столетий назад, человечество очередной раз вышло на очередной виток научного прогресса. Людям покорился космос и спустя век, весь научно-технический потенциал работал на то, что бы покинуть Землю. И вот свершилось - огромные космические лайнеры, ушли в необъятные просторы космоса, оставив за собой запылённый, уставший мир - колыбель человечества. Остался и я, поскольку решил, что мне нет места в новом мире.\\n\\n100000 лет:\\n\\nВчера... А может уже и не вчера. Я не помню. Был ледниковый период, который длился может день, может час, может век. Я не знаю. Я уже очень давно перестал считать время. Сложно считать то, что не имеет над тобой власти. Бродя по заснеженной пустыне я пытаюсь найти что-то, что может привлечь моё внимание, но всё тщетно.\\n\\n1000000 лет:\\n\\nЯ видел как жизнь умирала. Я видел, как из-за надвигающихся ледников или засухи вымирали целые виды. В итоге всех катаклизмов, что что я пережил, меня посетила мысль, что я остался совсем один на этой планете. Здесь была вода, солнечный свет, приемлемая температура. Но совсем не было жизни, кроме меня. Но однажды случило то, что изменило обычный ход вещей. Кровь. Обычная кровь, что течет в венах, по нелепой случайности попала в воду океана. Вначале я не придал этому значения, но через какой-то незначительный промежуток времени я заметил существ, очень отдаленно, да ещё и при должной фантазии, напоминающих рыб, что выпрыгивали на берег.\\nИ тут у меня затеплилась надежда на то, что отныне я буду не один. Пройдет ещё совсем немного времени и я снова услышу и увижу что-то новое, что-то что сможет меня удивить. Может быть у меня даже получится научить чему-то этих новых, пока что неведомых мне существ. Это было бы здорово. Нужно лишь немного подождать. Но это я уже умею отлично, время научило меня этому.\\nЯ буду присматривать за новым миром. Я буду ждать.\",\"attachments\":[{\"type\":\"photo\",\"photo\":{\"id\":382792159,\"album_id\":-7,\"owner_id\":-41041067,\"user_id\":100,\"sizes\":[{\"type\":\"m\",\"url\":\"https:\\/\\/pp.userapi.com\\/c7008\\/v7008306\\/4ef74\\/nQfEpzURX1c.jpg\",\"width\":130,\"height\":78},{\"type\":\"o\",\"url\":\"https:\\/\\/pp.userapi.com\\/c7008\\/v7008306\\/4ef76\\/r76XU7J0ub0.jpg\",\"width\":130,\"height\":87},{\"type\":\"p\",\"url\":\"https:\\/\\/pp.userapi.com\\/c7008\\/v7008306\\/4ef77\\/wmTTwtlake8.jpg\",\"width\":200,\"height\":133},{\"type\":\"q\",\"url\":\"https:\\/\\/pp.userapi.com\\/c7008\\/v7008306\\/4ef78\\/rASypWFrNvQ.jpg\",\"width\":320,\"height\":213},{\"type\":\"r\",\"url\":\"https:\\/\\/pp.userapi.com\\/c7008\\/v7008306\\/4ef79\\/C3BTHAUh9Zc.jpg\",\"width\":510,\"height\":340},{\"type\":\"s\",\"url\":\"https:\\/\\/pp.userapi.com\\/c7008\\/v7008306\\/4ef73\\/Ct2z35kSs94.jpg\",\"width\":75,\"height\":45},{\"type\":\"x\",\"url\":\"https:\\/\\/pp.userapi.com\\/c7008\\/v7008306\\/4ef75\\/jinv3AnQQ1Q.jpg\",\"width\":604,\"height\":362}],\"text\":\"\",\"date\":1441919701,\"post_id\":164170,\"access_key\":\"eca007fe255ed535be\"}}],\"post_source\":{\"type\":\"api\"}}],\"post_source\":{\"type\":\"api\",\"platform\":\"android\"},\"comments\":{\"count\":0,\"can_post\":0,\"groups_can_post\":true},\"likes\":{\"count\":4,\"user_likes\":0,\"can_like\":1,\"can_publish\":1},\"reposts\":{\"count\":1,\"user_reposted\":0},\"is_favorite\":false},{\"id\":716,\"from_id\":3004879,\"owner_id\":3004879,\"date\":1441538588,\"post_type\":\"post\",\"text\":\"\",\"copy_history\":[{\"id\":88973,\"owner_id\":-37154532,\"from_id\":-37154532,\"date\":1441040482,\"post_type\":\"post\",\"text\":\"Мы устраиваем розыгрыш 3 комплектов фирменных масел для бороды \\\"[club37154532|Borodist]\\\"\\n\\nДля участия в розыгрыше необходимо:\\n1. Подписаться на [club37154532|Borodist]. \\n2. Сделать репост этой записи.\\n\\nТРИ победителя будут выбраны 6 сентября случайным образом через [club49971308|Random.app]! Каждый из них получит по 3 масла. Результат будет объявлен в комментариях под этим постом. Доставка за наш счёт.\\nhttp:\\/\\/borodist.ru\\/store - подробнее о наших продуктах.\",\"attachments\":[{\"type\":\"photo\",\"photo\":{\"id\":380738183,\"album_id\":-7,\"owner_id\":-37154532,\"user_id\":100,\"sizes\":[{\"type\":\"m\",\"url\":\"https:\\/\\/pp.userapi.com\\/c540108\\/v540108635\\/6105\\/H8lxapbXPIg.jpg\",\"width\":130,\"height\":127},{\"type\":\"o\",\"url\":\"https:\\/\\/pp.userapi.com\\/c540108\\/v540108635\\/6108\\/D3XaEX1TOKk.jpg\",\"width\":130,\"height\":127},{\"type\":\"p\",\"url\":\"https:\\/\\/pp.userapi.com\\/c540108\\/v540108635\\/6109\\/nHNRaV9iHoI.jpg\",\"width\":200,\"height\":195},{\"type\":\"q\",\"url\":\"https:\\/\\/pp.userapi.com\\/c540108\\/v540108635\\/610a\\/xXOyofPby7Q.jpg\",\"width\":320,\"height\":312},{\"type\":\"r\",\"url\":\"https:\\/\\/pp.userapi.com\\/c540108\\/v540108635\\/610b\\/we_1I0ptjOw.jpg\",\"width\":510,\"height\":497},{\"type\":\"s\",\"url\":\"https:\\/\\/pp.userapi.com\\/c540108\\/v540108635\\/6104\\/qNaoVgIVYeA.jpg\",\"width\":75,\"height\":73},{\"type\":\"x\",\"url\":\"https:\\/\\/pp.userapi.com\\/c540108\\/v540108635\\/6106\\/vls9HK5fWF4.jpg\",\"width\":604,\"height\":589},{\"type\":\"y\",\"url\":\"https:\\/\\/pp.userapi.com\\/c540108\\/v540108635\\/6107\\/_NrqsK0hBg0.jpg\",\"width\":624,\"height\":608}],\"text\":\"\",\"date\":1441032825,\"post_id\":88973,\"access_key\":\"45cc93dd17d03eb524\"}},{\"type\":\"link\",\"link\":{\"url\":\"http:\\/\\/borodist.ru\\/store\\/\",\"title\":\"Магазин Бородист: товары для любителей бороды и усов.\",\"description\":\"Продукция бренда Бородист с доставкой по России и СНГ. Все для бородачей и усачей.\",\"target\":\"internal\",\"photo\":{\"id\":376821671,\"album_id\":-2,\"owner_id\":100,\"sizes\":[{\"type\":\"l\",\"url\":\"https:\\/\\/pp.userapi.com\\/c629509\\/v629509503\\/e1b7\\/WXZKFGtS9bM.jpg\",\"width\":537,\"height\":240},{\"type\":\"m\",\"url\":\"https:\\/\\/pp.userapi.com\\/c629509\\/v629509503\\/e1b4\\/fEgORqq_DBo.jpg\",\"width\":130,\"height\":130},{\"type\":\"p\",\"url\":\"https:\\/\\/pp.userapi.com\\/c629509\\/v629509503\\/e1b6\\/IOKIf0pltcI.jpg\",\"width\":260,\"height\":260},{\"type\":\"s\",\"url\":\"https:\\/\\/pp.userapi.com\\/c629509\\/v629509503\\/e1b3\\/3eizM-5LVrI.jpg\",\"width\":75,\"height\":75},{\"type\":\"x\",\"url\":\"https:\\/\\/pp.userapi.com\\/c629509\\/v629509503\\/e1b5\\/YT4h93wNlpU.jpg\",\"width\":150,\"height\":150}],\"text\":\"\",\"date\":1440766050},\"is_favorite\":false}}],\"post_source\":{\"type\":\"vk\"}}],\"post_source\":{\"type\":\"api\",\"platform\":\"android\"},\"comments\":{\"count\":0,\"can_post\":0,\"groups_can_post\":true},\"likes\":{\"count\":3,\"user_likes\":0,\"can_like\":1,\"can_publish\":1},\"reposts\":{\"count\":0,\"user_reposted\":0},\"is_favorite\":false},{\"id\":715,\"from_id\":3004879,\"owner_id\":3004879,\"date\":1441463713,\"post_type\":\"post\",\"text\":\"3 важных повода выпрямить свою сгорбившуюся спину\",\"attachments\":[{\"type\":\"link\",\"link\":{\"url\":\"http:\\/\\/lifehacker.ru\\/2015\\/09\\/04\\/nepravilnaja-osanka\\/\",\"title\":\"3 важных повода выпрямить свою сгорбившуюся спину\",\"caption\":\"lifehacker.ru\",\"description\":\"Неправильная осанка может оказаться не менее вредной, чем то же курение. Помимо вопросов здоровья, сгорбившаяся поза может негативно повлиять на ваше настроение, продуктивность и даже успех.\",\"photo\":{\"id\":379691791,\"album_id\":-2,\"owner_id\":100,\"sizes\":[{\"type\":\"k\",\"url\":\"https:\\/\\/pp.userapi.com\\/c6066\\/v6066879\\/149d8\\/AfoqHazyfBs.jpg\",\"width\":1024,\"height\":480},{\"type\":\"l\",\"url\":\"https:\\/\\/pp.userapi.com\\/c6066\\/v6066879\\/149d7\\/VbAkmuz4FCs.jpg\",\"width\":537,\"height\":240},{\"type\":\"m\",\"url\":\"https:\\/\\/pp.userapi.com\\/c6066\\/v6066879\\/149d4\\/0VGjbfUTApU.jpg\",\"width\":130,\"height\":70},{\"type\":\"p\",\"url\":\"https:\\/\\/pp.userapi.com\\/c6066\\/v6066879\\/149d6\\/QRr4nnJc2S8.jpg\",\"width\":260,\"height\":140},{\"type\":\"s\",\"url\":\"https:\\/\\/pp.userapi.com\\/c6066\\/v6066879\\/149d3\\/SIp2Nn2e97c.jpg\",\"width\":75,\"height\":38},{\"type\":\"x\",\"url\":\"https:\\/\\/pp.userapi.com\\/c6066\\/v6066879\\/149d5\\/10UjSKCpcN4.jpg\",\"width\":150,\"height\":80}],\"text\":\"\",\"date\":1441463718},\"is_favorite\":false}}],\"post_source\":{\"type\":\"api\",\"platform\":\"android\"},\"comments\":{\"count\":0,\"can_post\":0,\"groups_can_post\":true},\"likes\":{\"count\":1,\"user_likes\":0,\"can_like\":1,\"can_publish\":1},\"reposts\":{\"count\":0,\"user_reposted\":0},\"is_favorite\":false}]}}\n",
      "517\n",
      "518\n",
      "519\n",
      "retry\n",
      "{\"error\":{\"error_code\":30,\"error_msg\":\"This profile is private\",\"request_params\":[{\"key\":\"oauth\",\"value\":\"1\"},{\"key\":\"method\",\"value\":\"wall.get\"},{\"key\":\"owner_id\",\"value\":\"3082437\"},{\"key\":\"v\",\"value\":\"5.92\"}]}}\n",
      "520\n",
      "521\n",
      "522\n",
      "523\n",
      "524\n",
      "525\n",
      "526\n",
      "527\n",
      "528\n",
      "529\n",
      "530\n",
      "531\n",
      "retry\n",
      "{\"error\":{\"error_code\":30,\"error_msg\":\"This profile is private\",\"request_params\":[{\"key\":\"oauth\",\"value\":\"1\"},{\"key\":\"method\",\"value\":\"wall.get\"},{\"key\":\"owner_id\",\"value\":\"3539371\"},{\"key\":\"v\",\"value\":\"5.92\"}]}}\n",
      "532\n",
      "533\n",
      "534\n",
      "535\n",
      "536\n",
      "537\n",
      "538\n",
      "retry\n",
      "{\"error\":{\"error_code\":30,\"error_msg\":\"This profile is private\",\"request_params\":[{\"key\":\"oauth\",\"value\":\"1\"},{\"key\":\"method\",\"value\":\"wall.get\"},{\"key\":\"owner_id\",\"value\":\"3766339\"},{\"key\":\"v\",\"value\":\"5.92\"}]}}\n",
      "539\n",
      "540\n",
      "541\n",
      "542\n",
      "543\n",
      "544\n",
      "545\n",
      "546\n",
      "retry\n",
      "{\"error\":{\"error_code\":30,\"error_msg\":\"This profile is private\",\"request_params\":[{\"key\":\"oauth\",\"value\":\"1\"},{\"key\":\"method\",\"value\":\"wall.get\"},{\"key\":\"owner_id\",\"value\":\"4179447\"},{\"key\":\"v\",\"value\":\"5.92\"}]}}\n",
      "547\n",
      "548\n",
      "549\n",
      "550\n",
      "retry\n",
      "{\"error\":{\"error_code\":30,\"error_msg\":\"This profile is private\",\"request_params\":[{\"key\":\"oauth\",\"value\":\"1\"},{\"key\":\"method\",\"value\":\"wall.get\"},{\"key\":\"owner_id\",\"value\":\"4287815\"},{\"key\":\"v\",\"value\":\"5.92\"}]}}\n",
      "551\n",
      "552\n",
      "553\n",
      "retry\n",
      "{\"error\":{\"error_code\":30,\"error_msg\":\"This profile is private\",\"request_params\":[{\"key\":\"oauth\",\"value\":\"1\"},{\"key\":\"method\",\"value\":\"wall.get\"},{\"key\":\"owner_id\",\"value\":\"4338103\"},{\"key\":\"v\",\"value\":\"5.92\"}]}}\n",
      "554\n",
      "retry\n",
      "{\"error\":{\"error_code\":30,\"error_msg\":\"This profile is private\",\"request_params\":[{\"key\":\"oauth\",\"value\":\"1\"},{\"key\":\"method\",\"value\":\"wall.get\"},{\"key\":\"owner_id\",\"value\":\"4426616\"},{\"key\":\"v\",\"value\":\"5.92\"}]}}\n",
      "555\n",
      "556\n",
      "retry\n",
      "{\"error\":{\"error_code\":30,\"error_msg\":\"This profile is private\",\"request_params\":[{\"key\":\"oauth\",\"value\":\"1\"},{\"key\":\"method\",\"value\":\"wall.get\"},{\"key\":\"owner_id\",\"value\":\"4485472\"},{\"key\":\"v\",\"value\":\"5.92\"}]}}\n",
      "557\n",
      "558\n",
      "559\n",
      "retry\n",
      "{\"error\":{\"error_code\":30,\"error_msg\":\"This profile is private\",\"request_params\":[{\"key\":\"oauth\",\"value\":\"1\"},{\"key\":\"method\",\"value\":\"wall.get\"},{\"key\":\"owner_id\",\"value\":\"4550039\"},{\"key\":\"v\",\"value\":\"5.92\"}]}}\n",
      "560\n",
      "561\n",
      "562\n",
      "retry\n",
      "{\"error\":{\"error_code\":30,\"error_msg\":\"This profile is private\",\"request_params\":[{\"key\":\"oauth\",\"value\":\"1\"},{\"key\":\"method\",\"value\":\"wall.get\"},{\"key\":\"owner_id\",\"value\":\"4661333\"},{\"key\":\"v\",\"value\":\"5.92\"}]}}\n",
      "563\n",
      "564\n",
      "565\n",
      "566\n",
      "retry\n",
      "{\"error\":{\"error_code\":30,\"error_msg\":\"This profile is private\",\"request_params\":[{\"key\":\"oauth\",\"value\":\"1\"},{\"key\":\"method\",\"value\":\"wall.get\"},{\"key\":\"owner_id\",\"value\":\"4777249\"},{\"key\":\"v\",\"value\":\"5.92\"}]}}\n",
      "567\n",
      "568\n",
      "569\n",
      "570\n",
      "571\n",
      "572\n",
      "573\n",
      "574\n",
      "575\n",
      "576\n",
      "577\n",
      "578\n",
      "579\n",
      "580\n",
      "581\n",
      "582\n",
      "583\n",
      "584\n",
      "585\n",
      "586\n",
      "retry\n",
      "{\"error\":{\"error_code\":30,\"error_msg\":\"This profile is private\",\"request_params\":[{\"key\":\"oauth\",\"value\":\"1\"},{\"key\":\"method\",\"value\":\"wall.get\"},{\"key\":\"owner_id\",\"value\":\"5829288\"},{\"key\":\"v\",\"value\":\"5.92\"}]}}\n",
      "587\n",
      "retry\n",
      "{\"error\":{\"error_code\":30,\"error_msg\":\"This profile is private\",\"request_params\":[{\"key\":\"oauth\",\"value\":\"1\"},{\"key\":\"method\",\"value\":\"wall.get\"},{\"key\":\"owner_id\",\"value\":\"5972851\"},{\"key\":\"v\",\"value\":\"5.92\"}]}}\n",
      "588\n",
      "589\n",
      "590\n",
      "591\n",
      "592\n",
      "retry\n",
      "{\"error\":{\"error_code\":30,\"error_msg\":\"This profile is private\",\"request_params\":[{\"key\":\"oauth\",\"value\":\"1\"},{\"key\":\"method\",\"value\":\"wall.get\"},{\"key\":\"owner_id\",\"value\":\"6297084\"},{\"key\":\"v\",\"value\":\"5.92\"}]}}\n",
      "593\n",
      "594\n",
      "595\n",
      "596\n",
      "597\n",
      "retry\n",
      "{\"error\":{\"error_code\":30,\"error_msg\":\"This profile is private\",\"request_params\":[{\"key\":\"oauth\",\"value\":\"1\"},{\"key\":\"method\",\"value\":\"wall.get\"},{\"key\":\"owner_id\",\"value\":\"6595950\"},{\"key\":\"v\",\"value\":\"5.92\"}]}}\n",
      "598\n",
      "599\n",
      "600\n",
      "601\n",
      "602\n",
      "retry\n",
      "{\"error\":{\"error_code\":30,\"error_msg\":\"This profile is private\",\"request_params\":[{\"key\":\"oauth\",\"value\":\"1\"},{\"key\":\"method\",\"value\":\"wall.get\"},{\"key\":\"owner_id\",\"value\":\"6812002\"},{\"key\":\"v\",\"value\":\"5.92\"}]}}\n",
      "603\n",
      "604\n",
      "605\n",
      "606\n",
      "607\n",
      "608\n",
      "609\n",
      "610\n",
      "611\n",
      "612\n",
      "613\n",
      "614\n",
      "615\n",
      "616\n",
      "617\n",
      "618\n",
      "619\n",
      "620\n",
      "621\n",
      "622\n",
      "623\n",
      "retry\n",
      "{\"error\":{\"error_code\":30,\"error_msg\":\"This profile is private\",\"request_params\":[{\"key\":\"oauth\",\"value\":\"1\"},{\"key\":\"method\",\"value\":\"wall.get\"},{\"key\":\"owner_id\",\"value\":\"8158578\"},{\"key\":\"v\",\"value\":\"5.92\"}]}}\n",
      "624\n",
      "625\n",
      "retry\n",
      "{\"error\":{\"error_code\":30,\"error_msg\":\"This profile is private\",\"request_params\":[{\"key\":\"oauth\",\"value\":\"1\"},{\"key\":\"method\",\"value\":\"wall.get\"},{\"key\":\"owner_id\",\"value\":\"8277611\"},{\"key\":\"v\",\"value\":\"5.92\"}]}}\n",
      "626\n",
      "627\n",
      "628\n",
      "retry\n",
      "{\"error\":{\"error_code\":30,\"error_msg\":\"This profile is private\",\"request_params\":[{\"key\":\"oauth\",\"value\":\"1\"},{\"key\":\"method\",\"value\":\"wall.get\"},{\"key\":\"owner_id\",\"value\":\"8467837\"},{\"key\":\"v\",\"value\":\"5.92\"}]}}\n",
      "629\n",
      "retry\n",
      "{\"error\":{\"error_code\":30,\"error_msg\":\"This profile is private\",\"request_params\":[{\"key\":\"oauth\",\"value\":\"1\"},{\"key\":\"method\",\"value\":\"wall.get\"},{\"key\":\"owner_id\",\"value\":\"8620172\"},{\"key\":\"v\",\"value\":\"5.92\"}]}}\n",
      "630\n",
      "631\n",
      "632\n",
      "633\n",
      "634\n",
      "635\n",
      "636\n",
      "637\n",
      "638\n",
      "retry\n",
      "{\"response\":{\"count\":3042,\"items\":[{\"id\":5054,\"from_id\":9316846,\"owner_id\":9316846,\"date\":1546671708,\"post_type\":\"post\",\"text\":\"Вот он выложен наконец-то) Слушаем, лайкаем, репостим, подписываемся)\",\"copy_history\":[{\"id\":485,\"owner_id\":-78638925,\"from_id\":-78638925,\"date\":1546668060,\"post_type\":\"post\",\"text\":\"Hey, Folks! Альбом уже в сети! \\n\\nОт Гленфиннана до Лондона: \\n\\nЗапись и сведение: [club2269224|KROKODILSOUND] \\nЗапись баяна в бонус треке: [id89711963|Илья Котяшкин]\\nИллюстрация для обложки : [id29578534|Екатерина Смирнова] \\nДизайн, верстка, фото: [id122396043|Илья Привезенцев] \\n\\nОтдельное спасибо: [id339856263|Алексею Новикову], [id27888256|Роману Фураеву] за помощь в написании музыкального материала, [id5575770|Ольге Рассоловой], [id145515411|Галине Хариной] за неоценимую помощь и поддержку 😉\",\"attachments\":[{\"type\":\"photo\",\"photo\":{\"id\":456239382,\"album_id\":-7,\"owner_id\":-78638925,\"user_id\":100,\"sizes\":[{\"type\":\"m\",\"url\":\"https:\\/\\/pp.userapi.com\\/c850632\\/v850632477\\/80e6d\\/WiQW4PD3YGY.jpg\",\"width\":130,\"height\":130},{\"type\":\"o\",\"url\":\"https:\\/\\/pp.userapi.com\\/c850632\\/v850632477\\/80e72\\/Tq18MWwUlKE.jpg\",\"width\":130,\"height\":130},{\"type\":\"p\",\"url\":\"https:\\/\\/pp.userapi.com\\/c850632\\/v850632477\\/80e73\\/8qAt7MNyM7o.jpg\",\"width\":200,\"height\":200},{\"type\":\"q\",\"url\":\"https:\\/\\/pp.userapi.com\\/c850632\\/v850632477\\/80e74\\/Gv-7HmNV4rk.jpg\",\"width\":320,\"height\":320},{\"type\":\"r\",\"url\":\"https:\\/\\/pp.userapi.com\\/c850632\\/v850632477\\/80e75\\/Z5vfmThlI_Y.jpg\",\"width\":510,\"height\":510},{\"type\":\"s\",\"url\":\"https:\\/\\/pp.userapi.com\\/c850632\\/v850632477\\/80e6c\\/V7g9Sn0TjTg.jpg\",\"width\":75,\"height\":75},{\"type\":\"w\",\"url\":\"https:\\/\\/pp.userapi.com\\/c850632\\/v850632477\\/80e71\\/V2YYGTkXcnw.jpg\",\"width\":1465,\"height\":1465},{\"type\":\"x\",\"url\":\"https:\\/\\/pp.userapi.com\\/c850632\\/v850632477\\/80e6e\\/avErBiUITc8.jpg\",\"width\":604,\"height\":604},{\"type\":\"y\",\"url\":\"https:\\/\\/pp.userapi.com\\/c850632\\/v850632477\\/80e6f\\/vF4wjomZo_s.jpg\",\"width\":807,\"height\":807},{\"type\":\"z\",\"url\":\"https:\\/\\/pp.userapi.com\\/c850632\\/v850632477\\/80e70\\/UwfiyNFbzUg.jpg\",\"width\":1080,\"height\":1080}],\"text\":\"\",\"date\":1546665728,\"access_key\":\"9eb8004723c231e517\"}},{\"type\":\"link\",\"link\":{\"url\":\"https:\\/\\/m.vk.com\\/audio?act=audio_playlist-78638925_5&api_view=56d216d54a8be035605ff6ccdbf84f\",\"title\":\"Крик Вильгельма - От Гленфиннана до Лондона (2019)\",\"description\":\"Плейлист\",\"photo\":{\"id\":456239018,\"album_id\":235125454,\"owner_id\":-127435785,\"user_id\":100,\"sizes\":[{\"type\":\"m\",\"url\":\"https:\\/\\/sun9-12.userapi.com\\/c637630\\/v637630075\\/3d838\\/-D_AFiarQHY.jpg\",\"width\":130,\"height\":130},{\"type\":\"o\",\"url\":\"https:\\/\\/sun9-13.userapi.com\\/c637630\\/v637630075\\/3d83a\\/_o5f5AJbwhw.jpg\",\"width\":130,\"height\":130},{\"type\":\"p\",\"url\":\"https:\\/\\/sun9-3.userapi.com\\/c637630\\/v637630075\\/3d83b\\/t1L2-NeXjHk.jpg\",\"width\":200,\"height\":200},{\"type\":\"q\",\"url\":\"https:\\/\\/sun9-17.userapi.com\\/c637630\\/v637630075\\/3d83c\\/HKURh1Fy6-A.jpg\",\"width\":320,\"height\":320},{\"type\":\"r\",\"url\":\"https:\\/\\/sun9-20.userapi.com\\/c637630\\/v637630075\\/3d83d\\/PIuiHyOMo4c.jpg\",\"width\":510,\"height\":510},{\"type\":\"s\",\"url\":\"https:\\/\\/sun9-11.userapi.com\\/c637630\\/v637630075\\/3d837\\/ZQCLOU9vt9U.jpg\",\"width\":75,\"height\":75},{\"type\":\"x\",\"url\":\"https:\\/\\/sun9-10.userapi.com\\/c637630\\/v637630075\\/3d839\\/QoS1sHwG3kY.jpg\",\"width\":512,\"height\":512}],\"text\":\"\",\"date\":1490173981}}}],\"post_source\":{\"type\":\"vk\"}}],\"is_pinned\":1,\"post_source\":{\"type\":\"vk\"},\"comments\":{\"count\":0,\"can_post\":0,\"groups_can_post\":true},\"likes\":{\"count\":2,\"user_likes\":0,\"can_like\":1,\"can_publish\":1},\"reposts\":{\"count\":0,\"user_reposted\":0},\"views\":{\"count\":343},\"is_favorite\":false},{\"id\":5078,\"from_id\":9316846,\"owner_id\":9316846,\"date\":1552551782,\"post_type\":\"post\",\"text\":\"Я тут на днях понял, что соскучился по нашим лютым нойзкор-тусам на реп базах. [id41126776|Тимофей], [id8573078|Алексей], [id1602237|Константин], [id1484515|Тамаш], [id13619317|Эльдар], [id14528783|Даурекумба], [id53630311|Алексей] как насчёт собраться в Ярославле пошуметь? В апреле-мае. Кто хочет, пишите, создам беседу, решим)\",\"post_source\":{\"type\":\"api\",\"platform\":\"android\"},\"comments\":{\"count\":13,\"can_post\":0,\"groups_can_post\":true},\"likes\":{\"count\":6,\"user_likes\":0,\"can_like\":1,\"can_publish\":1},\"reposts\":{\"count\":0,\"user_reposted\":0},\"views\":{\"count\":213},\"is_favorite\":false},{\"id\":5077,\"from_id\":9316846,\"owner_id\":9316846,\"date\":1551995164,\"post_type\":\"post\",\"text\":\"Кто хочет диск?)\",\"copy_history\":[{\"id\":503,\"owner_id\":-78638925,\"from_id\":-78638925,\"date\":1551973020,\"post_type\":\"post\",\"text\":\"Налетай, торопись! Покупай..диджипаки со свежим альбомом! Вкусные, свежие, хрустящие! Самые что ни на есть настоящие! \\nПощупать - повертеть их в руках можно уже [club177258863|17 марта в клубе Джао - да]!\\nДля тех, кто не хочет ждать, велком ту наш торговый ряд, складывай в корзинку наш мерч, ну а дальше все по накатанной ✌ \\nДо встречи на зеленом празднике!\",\"attachments\":[{\"type\":\"photo\",\"photo\":{\"id\":456239393,\"album_id\":-7,\"owner_id\":-78638925,\"user_id\":100,\"sizes\":[{\"type\":\"m\",\"url\":\"https:\\/\\/pp.userapi.com\\/c851416\\/v851416810\\/cf244\\/H8l8NODQaIA.jpg\",\"width\":130,\"height\":87},{\"type\":\"o\",\"url\":\"https:\\/\\/pp.userapi.com\\/c851416\\/v851416810\\/cf248\\/CKsOodXx7BQ.jpg\",\"width\":130,\"height\":87},{\"type\":\"p\",\"url\":\"https:\\/\\/pp.userapi.com\\/c851416\\/v851416810\\/cf249\\/PYRC3a10Raw.jpg\",\"width\":200,\"height\":133},{\"type\":\"q\",\"url\":\"https:\\/\\/pp.userapi.com\\/c851416\\/v851416810\\/cf24a\\/N058lh3trGg.jpg\",\"width\":320,\"height\":213},{\"type\":\"r\",\"url\":\"https:\\/\\/pp.userapi.com\\/c851416\\/v851416810\\/cf24b\\/G36h6s4ecao.jpg\",\"width\":510,\"height\":340},{\"type\":\"s\",\"url\":\"https:\\/\\/pp.userapi.com\\/c851416\\/v851416810\\/cf243\\/XPFJrwIMDt4.jpg\",\"width\":75,\"height\":50},{\"type\":\"x\",\"url\":\"https:\\/\\/pp.userapi.com\\/c851416\\/v851416810\\/cf245\\/gTfN9fZqiyE.jpg\",\"width\":604,\"height\":403},{\"type\":\"y\",\"url\":\"https:\\/\\/pp.userapi.com\\/c851416\\/v851416810\\/cf246\\/lefrctlQLk4.jpg\",\"width\":807,\"height\":538},{\"type\":\"z\",\"url\":\"https:\\/\\/pp.userapi.com\\/c851416\\/v851416810\\/cf247\\/B0-bweZ4xhw.jpg\",\"width\":960,\"height\":640}],\"text\":\"\",\"date\":1551965853,\"access_key\":\"f9b7e41a198b3573b6\"}},{\"type\":\"photo\",\"photo\":{\"id\":456239395,\"album_id\":-7,\"owner_id\":-78638925,\"user_id\":100,\"sizes\":[{\"type\":\"m\",\"url\":\"https:\\/\\/pp.userapi.com\\/c850020\\/v850020850\\/142e51\\/_-sIlmeXdzk.jpg\",\"width\":130,\"height\":130},{\"type\":\"o\",\"url\":\"https:\\/\\/pp.userapi.com\\/c850020\\/v850020850\\/142e54\\/1Dn9moGI67E.jpg\",\"width\":130,\"height\":130},{\"type\":\"p\",\"url\":\"https:\\/\\/pp.userapi.com\\/c850020\\/v850020850\\/142e55\\/VrVEX64qGNA.jpg\",\"width\":200,\"height\":200},{\"type\":\"q\",\"url\":\"https:\\/\\/pp.userapi.com\\/c850020\\/v850020850\\/142e56\\/1l-Cv3_GJWk.jpg\",\"width\":320,\"height\":320},{\"type\":\"r\",\"url\":\"https:\\/\\/pp.userapi.com\\/c850020\\/v850020850\\/142e57\\/9cmrOPGSI-s.jpg\",\"width\":510,\"height\":510},{\"type\":\"s\",\"url\":\"https:\\/\\/pp.userapi.com\\/c850020\\/v850020850\\/142e50\\/2dNJVn4jNqw.jpg\",\"width\":75,\"height\":75},{\"type\":\"x\",\"url\":\"https:\\/\\/pp.userapi.com\\/c850020\\/v850020850\\/142e52\\/YMWQkgV10m8.jpg\",\"width\":604,\"height\":604},{\"type\":\"y\",\"url\":\"https:\\/\\/pp.userapi.com\\/c850020\\/v850020850\\/142e53\\/YKx-AZv2IXM.jpg\",\"width\":750,\"height\":750}],\"text\":\"\",\"date\":1551965872,\"access_key\":\"f4a2e624ab67a8229e\"}}],\"post_source\":{\"type\":\"api\",\"platform\":\"iphone\"}}],\"post_source\":{\"type\":\"api\",\"platform\":\"android\"},\"comments\":{\"count\":0,\"can_post\":0,\"groups_can_post\":true},\"likes\":{\"count\":1,\"user_likes\":0,\"can_like\":1,\"can_publish\":1},\"reposts\":{\"count\":0,\"user_reposted\":0},\"views\":{\"count\":134},\"is_favorite\":false},{\"id\":5072,\"from_id\":9316846,\"owner_id\":9316846,\"date\":1551613167,\"post_type\":\"post\",\"text\":\"Даже немного жаль выезжать)\\nСколько всего было за эти пять с лишним лет: развод и снова свадьба, начало и окончание учебы, увольнение и новая работа. А сколько раз мы приезжали сюда под утро с ощущением: \\\"Наконец-то мы дома!\\\"\\nНо теперь всё, этот этап закрыт, надо идти дальше)\",\"attachments\":[{\"type\":\"photo\",\"photo\":{\"id\":456239716,\"album_id\":-7,\"owner_id\":9316846,\"sizes\":[{\"type\":\"m\",\"url\":\"https:\\/\\/pp.userapi.com\\/c849136\\/v849136697\\/140390\\/VVx-6dMdowA.jpg\",\"width\":97,\"height\":130},{\"type\":\"o\",\"url\":\"https:\\/\\/pp.userapi.com\\/c849136\\/v849136697\\/140394\\/_CUm9u0viDQ.jpg\",\"width\":130,\"height\":173},{\"type\":\"p\",\"url\":\"https:\\/\\/pp.userapi.com\\/c849136\\/v849136697\\/140395\\/maV763XCU0Y.jpg\",\"width\":200,\"height\":267},{\"type\":\"q\",\"url\":\"https:\\/\\/pp.userapi.com\\/c849136\\/v849136697\\/140396\\/SiKGbf-QFho.jpg\",\"width\":320,\"height\":427},{\"type\":\"r\",\"url\":\"https:\\/\\/pp.userapi.com\\/c849136\\/v849136697\\/140397\\/PiuZg4r2jRc.jpg\",\"width\":510,\"height\":680},{\"type\":\"s\",\"url\":\"https:\\/\\/pp.userapi.com\\/c849136\\/v849136697\\/14038f\\/22bzOhPDS4M.jpg\",\"width\":56,\"height\":75},{\"type\":\"x\",\"url\":\"https:\\/\\/pp.userapi.com\\/c849136\\/v849136697\\/140391\\/A-O0H8_Hzt8.jpg\",\"width\":453,\"height\":604},{\"type\":\"y\",\"url\":\"https:\\/\\/pp.userapi.com\\/c849136\\/v849136697\\/140392\\/lCL4jKOil-0.jpg\",\"width\":605,\"height\":807},{\"type\":\"z\",\"url\":\"https:\\/\\/pp.userapi.com\\/c849136\\/v849136697\\/140393\\/747-jHMNHac.jpg\",\"width\":780,\"height\":1040}],\"text\":\"\",\"date\":1551612975,\"post_id\":5072,\"access_key\":\"37c38e83e677a4bb83\"}}],\"post_source\":{\"type\":\"api\",\"platform\":\"android\"},\"comments\":{\"count\":4,\"can_post\":0,\"groups_can_post\":true},\"likes\":{\"count\":27,\"user_likes\":0,\"can_like\":1,\"can_publish\":1},\"reposts\":{\"count\":0,\"user_reposted\":0},\"views\":{\"count\":544},\"is_favorite\":false},{\"id\":5071,\"from_id\":9316846,\"owner_id\":9316846,\"date\":1551389836,\"post_type\":\"post\",\"text\":\"Brodequin!! Мой первый брутальный диск - сборник Gore Grind Cafe, там был их трек Blood of the Martyr. С тех пор они большие фавориты для меня)\",\"copy_history\":[{\"id\":3,\"owner_id\":-177986477,\"from_id\":-177986477,\"date\":1551376842,\"post_type\":\"post\",\"text\":\"Итак первые участники следующего  Coyote Brutal Fest-14\\nBRODEQUIN (Сша) Brutal death\\nhttps:\\/\\/www.facebook.com\\/brodequinTN\\nBOWEL STEW (Италия) Gore Grind\\nhttps:\\/\\/www.facebook.com\\/Bowel-Stew-Official-107541992612120\",\"attachments\":[{\"type\":\"photo\",\"photo\":{\"id\":456239019,\"album_id\":-7,\"owner_id\":-177986477,\"user_id\":100,\"sizes\":[{\"type\":\"m\",\"url\":\"https:\\/\\/pp.userapi.com\\/c844617\\/v844617636\\/1b1cff\\/km5Y1a1tBTU.jpg\",\"width\":130,\"height\":65},{\"type\":\"o\",\"url\":\"https:\\/\\/pp.userapi.com\\/c844617\\/v844617636\\/1b1d04\\/L0W8WhqxIy0.jpg\",\"width\":130,\"height\":87},{\"type\":\"p\",\"url\":\"https:\\/\\/pp.userapi.com\\/c844617\\/v844617636\\/1b1d05\\/nezqwKbRR2M.jpg\",\"width\":200,\"height\":133},{\"type\":\"q\",\"url\":\"https:\\/\\/pp.userapi.com\\/c844617\\/v844617636\\/1b1d06\\/iaF8bL5Xjfw.jpg\",\"width\":320,\"height\":213},{\"type\":\"r\",\"url\":\"https:\\/\\/pp.userapi.com\\/c844617\\/v844617636\\/1b1d07\\/gvvq5kZaJX8.jpg\",\"width\":510,\"height\":340},{\"type\":\"s\",\"url\":\"https:\\/\\/pp.userapi.com\\/c844617\\/v844617636\\/1b1cfe\\/LRAsE-_SFMI.jpg\",\"width\":75,\"height\":37},{\"type\":\"w\",\"url\":\"https:\\/\\/pp.userapi.com\\/c844617\\/v844617636\\/1b1d03\\/-9gHKFRJ_4A.jpg\",\"width\":1824,\"height\":912},{\"type\":\"x\",\"url\":\"https:\\/\\/pp.userapi.com\\/c844617\\/v844617636\\/1b1d00\\/OEm8zxVGniE.jpg\",\"width\":604,\"height\":302},{\"type\":\"y\",\"url\":\"https:\\/\\/pp.userapi.com\\/c844617\\/v844617636\\/1b1d01\\/IlmatEWz7y8.jpg\",\"width\":807,\"height\":403},{\"type\":\"z\",\"url\":\"https:\\/\\/pp.userapi.com\\/c844617\\/v844617636\\/1b1d02\\/FlLuAEml7mo.jpg\",\"width\":1280,\"height\":640}],\"text\":\"\",\"date\":1551376842,\"lat\":38.756902,\"long\":-9.142079,\"access_key\":\"8a5a533573c09ffd6e\"}},{\"type\":\"photo\",\"photo\":{\"id\":456239020,\"album_id\":-7,\"owner_id\":-177986477,\"user_id\":100,\"sizes\":[{\"type\":\"m\",\"url\":\"https:\\/\\/pp.userapi.com\\/c849220\\/v849220492\\/1413aa\\/gaemZ6XlF7A.jpg\",\"width\":97,\"height\":130},{\"type\":\"o\",\"url\":\"https:\\/\\/pp.userapi.com\\/c849220\\/v849220492\\/1413af\\/p45OGiu7c6A.jpg\",\"width\":130,\"height\":174},{\"type\":\"p\",\"url\":\"https:\\/\\/pp.userapi.com\\/c849220\\/v849220492\\/1413b0\\/zkgiEq7b9eg.jpg\",\"width\":200,\"height\":268},{\"type\":\"q\",\"url\":\"https:\\/\\/pp.userapi.com\\/c849220\\/v849220492\\/1413b1\\/pYg9vKBTxto.jpg\",\"width\":320,\"height\":429},{\"type\":\"r\",\"url\":\"https:\\/\\/pp.userapi.com\\/c849220\\/v849220492\\/1413b2\\/GHu6d8sUFHQ.jpg\",\"width\":510,\"height\":683},{\"type\":\"s\",\"url\":\"https:\\/\\/pp.userapi.com\\/c849220\\/v849220492\\/1413a9\\/-NdTwgdxt50.jpg\",\"width\":56,\"height\":75},{\"type\":\"w\",\"url\":\"https:\\/\\/pp.userapi.com\\/c849220\\/v849220492\\/1413ae\\/P0Hduj04lTY.jpg\",\"width\":1194,\"height\":1600},{\"type\":\"x\",\"url\":\"https:\\/\\/pp.userapi.com\\/c849220\\/v849220492\\/1413ab\\/TSnCxwEzoiE.jpg\",\"width\":451,\"height\":604},{\"type\":\"y\",\"url\":\"https:\\/\\/pp.userapi.com\\/c849220\\/v849220492\\/1413ac\\/XCJthgq7HX0.jpg\",\"width\":602,\"height\":807},{\"type\":\"z\",\"url\":\"https:\\/\\/pp.userapi.com\\/c849220\\/v849220492\\/1413ad\\/ZZKvM5410Kg.jpg\",\"width\":806,\"height\":1080}],\"text\":\"\",\"date\":1551376842,\"access_key\":\"ec44269e9161151e84\"}},{\"type\":\"audio\",\"audio\":{\"id\":396267849,\"owner_id\":2000253833,\"artist\":\"Brodequin\",\"title\":\"Methods Of Execution\",\"duration\":25,\"date\":1441835933,\"url\":\"https:\\/\\/vk.com\\/mp3\\/audio_api_unavailable.mp3\",\"album_id\":3,\"is_hq\":true,\"track_code\":\"27325f6coQ-ko23l3mKJMpQ7NCvUYFEg0Firs-U2gbGF7lNNSI6bPPPjLrPiOQ\",\"is_explicit\":false}},{\"type\":\"audio\",\"audio\":{\"id\":456242406,\"owner_id\":2000242234,\"artist\":\"Bowel Stew\",\"title\":\"Necrocoital Amputorgy\",\"duration\":25,\"date\":1551376842,\"url\":\"https:\\/\\/vk.com\\/mp3\\/audio_api_unavailable.mp3\",\"genre_id\":7,\"is_hq\":true,\"track_code\":\"97499c08REZLkvsGsYIXXRFWj4Sed8GSwkNv4IyY2-J3caRiWa1-dRzSuFCN2Q\",\"is_explicit\":false}}],\"post_source\":{\"type\":\"api\",\"platform\":\"android\"}}],\"post_source\":{\"type\":\"api\",\"platform\":\"android\"},\"comments\":{\"count\":0,\"can_post\":0,\"groups_can_post\":true},\"likes\":{\"count\":3,\"user_likes\":0,\"can_like\":1,\"can_publish\":1},\"reposts\":{\"count\":0,\"user_reposted\":0},\"views\":{\"count\":187},\"is_favorite\":false},{\"id\":5070,\"from_id\":9316846,\"owner_id\":9316846,\"date\":1550861037,\"post_type\":\"post\",\"text\":\"Наконец-то до Архангельска доедем)\",\"copy_history\":[{\"id\":2,\"owner_id\":-178588938,\"from_id\":-178588938,\"date\":1550855100,\"post_type\":\"post\",\"text\":\"SICK FEST #15 \\n \\n20 Апреля 2019 \\/ 19:00 \\nКлуб КОЛЕСО (ул. Гайдара 4\\/1) \\nhttp:\\/\\/www.arkoleso.ru\\/ \\n \\nНе большой, но горячий и долгожданный фестиваль экстремальной музыки вновь призывает всех фэнов и почитателей звукового давления в гости. Получить заряд энергии, отдохнуть и повеселиться помогут 5 банд. \\n \\nFERALIMINAL LYCANTHROPIZER (Ярославль) \\nBulldozer Groove Porn Gore Grind \\nhttps:\\/\\/vk.com\\/club13094904 \\nДля всех фэнов весёлой долбы, угара и сёкл-питов - к нам едет такой ансамбль. Танцы на бульдозере гарантированы. Не потеряй штаны и обувь в кутеже! \\n \\nTUUNBAQ (Архангельск) \\nGrindcore \\nhttps:\\/\\/tuunbaq.bandcamp.com \\nАдепты северного грайндкора, уже прекрасно себя показавшие на нескольких концертах в городе. Napalm Death со звуком Dismember. Nasum со звуком Unleashed. Кто не видел - не упусти момент. \\n \\nSVARTBLOD (Архангельск) \\nBlackened Crust \\/ D-Beat \\nЕщё одни поморские бунтари. И не первый раз на мероприятиях от SFB. Короткие и не очень треки- по канонам жанра. \\n \\n+ 2 группы!\",\"attachments\":[{\"type\":\"photo\",\"photo\":{\"id\":456239022,\"album_id\":-6,\"owner_id\":-178588938,\"user_id\":100,\"sizes\":[{\"type\":\"m\",\"url\":\"https:\\/\\/pp.userapi.com\\/c845221\\/v845221087\\/1a9a8e\\/Wb6iVfp8NMM.jpg\",\"width\":92,\"height\":130},{\"type\":\"o\",\"url\":\"https:\\/\\/pp.userapi.com\\/c845221\\/v845221087\\/1a9a93\\/Av2RONYyLO4.jpg\",\"width\":130,\"height\":184},{\"type\":\"p\",\"url\":\"https:\\/\\/pp.userapi.com\\/c845221\\/v845221087\\/1a9a94\\/cA9K9GGx9QQ.jpg\",\"width\":200,\"height\":283},{\"type\":\"q\",\"url\":\"https:\\/\\/pp.userapi.com\\/c845221\\/v845221087\\/1a9a95\\/jhQkhVgu4mY.jpg\",\"width\":320,\"height\":453},{\"type\":\"r\",\"url\":\"https:\\/\\/pp.userapi.com\\/c845221\\/v845221087\\/1a9a96\\/5EwK43tewl8.jpg\",\"width\":510,\"height\":722},{\"type\":\"s\",\"url\":\"https:\\/\\/pp.userapi.com\\/c845221\\/v845221087\\/1a9a8d\\/Utp4sUo79NY.jpg\",\"width\":53,\"height\":75},{\"type\":\"w\",\"url\":\"https:\\/\\/pp.userapi.com\\/c845221\\/v845221087\\/1a9a92\\/Cno3cXqkoDg.jpg\",\"width\":1527,\"height\":2160},{\"type\":\"x\",\"url\":\"https:\\/\\/pp.userapi.com\\/c845221\\/v845221087\\/1a9a8f\\/_3r4KrKuK7k.jpg\",\"width\":427,\"height\":604},{\"type\":\"y\",\"url\":\"https:\\/\\/pp.userapi.com\\/c845221\\/v845221087\\/1a9a90\\/GQ-mCVQ2PTs.jpg\",\"width\":570,\"height\":807},{\"type\":\"z\",\"url\":\"https:\\/\\/pp.userapi.com\\/c845221\\/v845221087\\/1a9a91\\/il7lYVsOXnU.jpg\",\"width\":763,\"height\":1080}],\"text\":\"\",\"date\":1550854459,\"post_id\":1}},{\"type\":\"audio\",\"audio\":{\"id\":456242297,\"owner_id\":2000230112,\"artist\":\"Feraliminal Lycanthropizer\",\"title\":\"The Apocalyptic Triumph of Vaginal Infernality\",\"duration\":25,\"date\":1550855100,\"url\":\"https:\\/\\/vk.com\\/mp3\\/audio_api_unavailable.mp3\",\"no_search\":1,\"is_hq\":true,\"track_code\":\"7421c96dzAUbtJxY85kmGKnbRn3F7qhM0A-K48t5a0QRJ4zYeuT6NkL52wHPww\",\"is_explicit\":true,\"main_artists\":[{\"name\":\"Feraliminal Lycanthropizer\",\"id\":\"6251584570549049039\",\"domain\":\"6251584570549049039\"}]}},{\"type\":\"audio\",\"audio\":{\"id\":456242423,\"owner_id\":2000229833,\"artist\":\"Feraliminal Lycanthropizer\",\"title\":\"The Sudden Petrifaction of Intestinal Wastes\",\"duration\":25,\"date\":1550855100,\"url\":\"https:\\/\\/vk.com\\/mp3\\/audio_api_unavailable.mp3\",\"no_search\":1,\"is_hq\":true,\"track_code\":\"65de6822imOW7Gdpm1ipW_0LK2kbiuNp8wUoqFzsY7dGm81bz3O8UM-hIDCnAg\",\"is_explicit\":true,\"main_artists\":[{\"name\":\"Feraliminal Lycanthropizer\",\"id\":\"6251584570549049039\",\"domain\":\"6251584570549049039\"}]}},{\"type\":\"audio\",\"audio\":{\"id\":456242794,\"owner_id\":2000226651,\"artist\":\"Feraliminal Lycanthropizer\",\"title\":\"Radical Followers of Vaginoplasty Apologists\",\"duration\":25,\"date\":1550855100,\"url\":\"https:\\/\\/vk.com\\/mp3\\/audio_api_unavailable.mp3\",\"no_search\":1,\"is_hq\":true,\"track_code\":\"818abbc9CSj3zJH6j_zCE7tH3_jazqCFgUdwV83sUcmfggiIMG8_G66B1qOzpg\",\"is_explicit\":true,\"main_artists\":[{\"name\":\"Feraliminal Lycanthropizer\",\"id\":\"6251584570549049039\",\"domain\":\"6251584570549049039\"}]}},{\"type\":\"audio\",\"audio\":{\"id\":456242209,\"owner_id\":2000230162,\"artist\":\"TUUNBAQ\",\"title\":\"Terror Takes Shape\",\"duration\":25,\"date\":1550855100,\"url\":\"https:\\/\\/vk.com\\/mp3\\/audio_api_unavailable.mp3\",\"genre_id\":7,\"is_hq\":false,\"track_code\":\"d5834e168IwLmvdu9F2dk7exs3Xvio9MuPQx0_iAh7uH_mCQAl3Gv1LXsDfIBw\",\"is_explicit\":false}},{\"type\":\"audio\",\"audio\":{\"id\":456242881,\"owner_id\":2000226646,\"artist\":\"TUUNBAQ\",\"title\":\"Heart Of The Northern Darkness\",\"duration\":25,\"date\":1550855100,\"url\":\"https:\\/\\/vk.com\\/mp3\\/audio_api_unavailable.mp3\",\"genre_id\":7,\"is_hq\":false,\"track_code\":\"d2fa1921In2szTzri0j9eae3WZlg2q_DX03emvEdcmfdXv6QeeQUTvWAe7K3Eg\",\"is_explicit\":false}},{\"type\":\"audio\",\"audio\":{\"id\":456242336,\"owner_id\":2000229534,\"artist\":\"SVARTBLOD\",\"title\":\"Хаос, Отчаянье, Ужас и Злоба.\",\"duration\":25,\"date\":1550855100,\"url\":\"https:\\/\\/vk.com\\/mp3\\/audio_api_unavailable.mp3\",\"genre_id\":1001,\"is_hq\":true,\"track_code\":\"1a4cb3f8HDGiW9uKGtjlFJD5UagA9oCk1ZKrG5wlslDqIvjMZZ0qAvsWnNMmgg\",\"is_explicit\":false}}],\"post_source\":{\"type\":\"vk\"}}],\"post_source\":{\"type\":\"api\",\"platform\":\"android\"},\"comments\":{\"count\":0,\"can_post\":0,\"groups_can_post\":true},\"likes\":{\"count\":2,\"user_likes\":0,\"can_like\":1,\"can_publish\":1},\"reposts\":{\"count\":0,\"user_reposted\":0},\"views\":{\"count\":175},\"is_favorite\":false},{\"id\":5068,\"from_id\":9316846,\"owner_id\":9316846,\"date\":1550305066,\"post_type\":\"post\",\"text\":\"Мы в начале, не пропустите)\",\"copy_history\":[{\"id\":293,\"owner_id\":-162456329,\"from_id\":-162456329,\"date\":1550303895,\"post_type\":\"post\",\"text\":\"РАСПИСАНИЕ ФЕСТА !!! \\n16:00 ДВЕРИ (Открытие) \\n17:00 малый зал BORDELLERO (Орехово-Зуево) \\n17:40 большой зал FERALIMINAL LYCANTHROPIZER (Ярославль) \\n18:20 малый зал PERVERTED DEXTERITY (Индонезия) \\n19:00 большой зал SEPTICOPYEMIA (Иваново) \\n19:40 малый зал PURULENT JACUZZI (Москва) \\n20:20 большой зал DEAD (Германия) \\n21:00 малый зал TRAUMATOMY (Япония\\/Россия) \\n21:40 большой зал VOMIT REMNANTS (Япония) \\n22:40 малый зал FECUNDATION (Южная Корея) \\n23:20 большой зал DATURA (Донбасс) \\n0:10 малый зал STRANGULATION (Япония) \\n0:40 большой зал FETAL DECAY (Саратов) \\n1:20 малый зал KORPSESOTURI (Финляндия) \\n2:00 большой зал SPAWNED FROM HATE (Англия) \\n2:40 малый зал BRAINTEASERS (Астрахань) \\n3:20 большой зал WHOREANUS (Москва) \\n4:00 далее дискач до 5 утра !!!\",\"post_source\":{\"type\":\"vk\"}}],\"post_source\":{\"type\":\"api\",\"platform\":\"android\"},\"comments\":{\"count\":0,\"can_post\":0,\"groups_can_post\":true},\"likes\":{\"count\":0,\"user_likes\":0,\"can_like\":1,\"can_publish\":1},\"reposts\":{\"count\":0,\"user_reposted\":0},\"views\":{\"count\":170},\"is_favorite\":false},{\"id\":5065,\"from_id\":9316846,\"owner_id\":9316846,\"date\":1549370999,\"post_type\":\"post\",\"text\":\"\",\"copy_history\":[{\"id\":7,\"owner_id\":-169022280,\"from_id\":-169022280,\"date\":1549369676,\"post_type\":\"post\",\"text\":\"Сплит скоро выйдет на кассетах небольшим тиражом на Necrosoft Records https:\\/\\/vk.com\\/necrosoft_records\",\"post_source\":{\"type\":\"vk\"}},{\"id\":13,\"owner_id\":-166481132,\"from_id\":-166481132,\"date\":1549367212,\"post_type\":\"post\",\"text\":\"#Gorenoise #Goregrind\\nViralocide\\/Brucellosis - Split (2019)\",\"attachments\":[{\"type\":\"photo\",\"photo\":{\"id\":456239037,\"album_id\":-7,\"owner_id\":-166481132,\"user_id\":100,\"sizes\":[{\"type\":\"m\",\"url\":\"https:\\/\\/pp.userapi.com\\/c849336\\/v849336191\\/1165e3\\/39G4tvR2s0I.jpg\",\"width\":130,\"height\":128},{\"type\":\"o\",\"url\":\"https:\\/\\/pp.userapi.com\\/c849336\\/v849336191\\/1165e8\\/XKgRpvrHjOM.jpg\",\"width\":130,\"height\":128},{\"type\":\"p\",\"url\":\"https:\\/\\/pp.userapi.com\\/c849336\\/v849336191\\/1165e9\\/1A9kOcOPrko.jpg\",\"width\":200,\"height\":197},{\"type\":\"q\",\"url\":\"https:\\/\\/pp.userapi.com\\/c849336\\/v849336191\\/1165ea\\/JKJVmfxR4yc.jpg\",\"width\":320,\"height\":315},{\"type\":\"r\",\"url\":\"https:\\/\\/pp.userapi.com\\/c849336\\/v849336191\\/1165eb\\/RHngQdTsonM.jpg\",\"width\":510,\"height\":502},{\"type\":\"s\",\"url\":\"https:\\/\\/pp.userapi.com\\/c849336\\/v849336191\\/1165e2\\/aXPot0XqGqA.jpg\",\"width\":75,\"height\":74},{\"type\":\"w\",\"url\":\"https:\\/\\/pp.userapi.com\\/c849336\\/v849336191\\/1165e7\\/6--T6HFKAoE.jpg\",\"width\":1221,\"height\":1201},{\"type\":\"x\",\"url\":\"https:\\/\\/pp.userapi.com\\/c849336\\/v849336191\\/1165e4\\/O-U80dVdcko.jpg\",\"width\":604,\"height\":594},{\"type\":\"y\",\"url\":\"https:\\/\\/pp.userapi.com\\/c849336\\/v849336191\\/1165e5\\/y2P86eLWRv0.jpg\",\"width\":807,\"height\":794},{\"type\":\"z\",\"url\":\"https:\\/\\/pp.userapi.com\\/c849336\\/v849336191\\/1165e6\\/SGckDSnWEGM.jpg\",\"width\":1098,\"height\":1080}],\"text\":\"\",\"date\":1549367212,\"post_id\":13,\"access_key\":\"c175e983d87b23d319\"}},{\"type\":\"link\",\"link\":{\"url\":\"https:\\/\\/m.vk.com\\/audio?act=audio_playlist-166481132_1&api_view=ffa714242f8bf5cff05ff19cf4e461\",\"title\":\"Viralocide\\/Brucellosis split\",\"description\":\"Плейлист\",\"photo\":{\"id\":456239018,\"album_id\":235125454,\"owner_id\":-127435785,\"user_id\":100,\"sizes\":[{\"type\":\"m\",\"url\":\"https:\\/\\/sun9-12.userapi.com\\/c637630\\/v637630075\\/3d838\\/-D_AFiarQHY.jpg\",\"width\":130,\"height\":130},{\"type\":\"o\",\"url\":\"https:\\/\\/sun9-13.userapi.com\\/c637630\\/v637630075\\/3d83a\\/_o5f5AJbwhw.jpg\",\"width\":130,\"height\":130},{\"type\":\"p\",\"url\":\"https:\\/\\/sun9-3.userapi.com\\/c637630\\/v637630075\\/3d83b\\/t1L2-NeXjHk.jpg\",\"width\":200,\"height\":200},{\"type\":\"q\",\"url\":\"https:\\/\\/sun9-17.userapi.com\\/c637630\\/v637630075\\/3d83c\\/HKURh1Fy6-A.jpg\",\"width\":320,\"height\":320},{\"type\":\"r\",\"url\":\"https:\\/\\/sun9-20.userapi.com\\/c637630\\/v637630075\\/3d83d\\/PIuiHyOMo4c.jpg\",\"width\":510,\"height\":510},{\"type\":\"s\",\"url\":\"https:\\/\\/sun9-11.userapi.com\\/c637630\\/v637630075\\/3d837\\/ZQCLOU9vt9U.jpg\",\"width\":75,\"height\":75},{\"type\":\"x\",\"url\":\"https:\\/\\/sun9-10.userapi.com\\/c637630\\/v637630075\\/3d839\\/QoS1sHwG3kY.jpg\",\"width\":512,\"height\":512}],\"text\":\"\",\"date\":1490173981}}}],\"post_source\":{\"type\":\"vk\"}}],\"post_source\":{\"type\":\"api\",\"platform\":\"android\"},\"comments\":{\"count\":0,\"can_post\":0,\"groups_can_post\":true},\"likes\":{\"count\":0,\"user_likes\":0,\"can_like\":1,\"can_publish\":1},\"reposts\":{\"count\":0,\"user_reposted\":0},\"views\":{\"count\":121},\"is_favorite\":false},{\"id\":5063,\"from_id\":9316846,\"owner_id\":9316846,\"date\":1549310392,\"post_type\":\"post\",\"text\":\"И вот тут у меня бомбануло. Я надеюсь, что вы понимаете, что математически как раз выводы неверные. Надпись \\\"Бог+Истина=Жизнь\\\" говорит о том, что имеется некоторое множество, в котором есть как минимум 3 элемента и на двух из них определена операция +. Всё, больше здесь ничего неизвестно. Мы НЕ знаем, какие ещё элементы входят в это множество, определён ли в нём 0 по сложению, коммутативна ли эта операция, а минус может быть вообще не определён.\\nКак пример можно взять какой-нибудь язык программирования типа Python. В нём можно складывать строки, причём в общем случае  a+b<>b+a. А вычитать строки нельзя!\\nНо в данном случае, это и не строки, а просто объекты неизвестной природы. Какой смысл вкладывается в них и в сложение - неизвестно.\\nВывод - паблик пидор, ставьте дизлайки, отписывайтесь, жмите \\\"Пожаловаться\\\".\",\"copy_history\":[{\"id\":165660,\"owner_id\":-25346844,\"from_id\":-25346844,\"date\":1549091820,\"post_type\":\"post\",\"text\":\"Математически верно.\",\"attachments\":[{\"type\":\"photo\",\"photo\":{\"id\":456256424,\"album_id\":-7,\"owner_id\":-25346844,\"user_id\":100,\"sizes\":[{\"type\":\"m\",\"url\":\"https:\\/\\/pp.userapi.com\\/c846322\\/v846322321\\/18f5df\\/WJ7zGPSUgOE.jpg\",\"width\":130,\"height\":100},{\"type\":\"o\",\"url\":\"https:\\/\\/pp.userapi.com\\/c846322\\/v846322321\\/18f5e3\\/2L6BfI_udpY.jpg\",\"width\":130,\"height\":100},{\"type\":\"p\",\"url\":\"https:\\/\\/pp.userapi.com\\/c846322\\/v846322321\\/18f5e4\\/is8DKG-fZuE.jpg\",\"width\":200,\"height\":154},{\"type\":\"q\",\"url\":\"https:\\/\\/pp.userapi.com\\/c846322\\/v846322321\\/18f5e5\\/m9jAZXcRwW8.jpg\",\"width\":320,\"height\":246},{\"type\":\"r\",\"url\":\"https:\\/\\/pp.userapi.com\\/c846322\\/v846322321\\/18f5e6\\/kSZ7_FZwGj8.jpg\",\"width\":510,\"height\":392},{\"type\":\"s\",\"url\":\"https:\\/\\/pp.userapi.com\\/c846322\\/v846322321\\/18f5de\\/p--YbplfX90.jpg\",\"width\":75,\"height\":58},{\"type\":\"x\",\"url\":\"https:\\/\\/pp.userapi.com\\/c846322\\/v846322321\\/18f5e0\\/4xbnpoW1X7Q.jpg\",\"width\":604,\"height\":464},{\"type\":\"y\",\"url\":\"https:\\/\\/pp.userapi.com\\/c846322\\/v846322321\\/18f5e1\\/3RFncWJW85I.jpg\",\"width\":807,\"height\":620},{\"type\":\"z\",\"url\":\"https:\\/\\/pp.userapi.com\\/c846322\\/v846322321\\/18f5e2\\/Z_cX-WiQZIM.jpg\",\"width\":960,\"height\":738}],\"text\":\"\",\"date\":1549053522,\"post_id\":165660,\"access_key\":\"8202a99a99b071709c\"}}],\"post_source\":{\"type\":\"vk\"}}],\"post_source\":{\"type\":\"api\",\"platform\":\"android\"},\"comments\":{\"count\":3,\"can_post\":0,\"groups_can_post\":true},\"likes\":{\"count\":10,\"user_likes\":0,\"can_like\":1,\"can_publish\":1},\"reposts\":{\"count\":1,\"user_reposted\":0},\"views\":{\"count\":256},\"is_favorite\":false},{\"id\":5062,\"from_id\":9316846,\"owner_id\":9316846,\"date\":1548841707,\"post_type\":\"post\",\"text\":\"Очень интересное сообщество\",\"copy_history\":[{\"id\":512,\"owner_id\":-152609441,\"from_id\":-152609441,\"date\":1546338325,\"post_type\":\"post\",\"text\":\"Panphage\\n2016 - Drengskapr\\n\\nКонцептуальный альбом по исландской родовой «Саге о Греттире». То, что именно этому герою посвятили такое полотно, настолько великолепно и знаково, что не отметить это не представляется возможным. Судя по всему, повествование на альбоме основано на одном из самых драматичных эпизодов саги – противостоянии силача Греттира и призрака именем Глам. Некоторые названия композиций переводятся, как: «Греттир, сын Асмунда», «Глам скачет по крышам домов», «Взгляд Глама», «Изгнанник», «Дрангей» (остров, где скрывался объявленный вне закона Греттир)…\\nВ целом - музыкально и концептуально - великолепная отсылка к идеям, заложенным ещё на Windir’овском «Arntor», сквозь призму турсатру и тёмной стороны германоскандинавского язычества, свойственных Panphage.\\n\\n«Ты прославлен здесь своими подвигами, но отныне будут твоим уделом изгнание и тяжбы об убийствах, и едва ли не всякий твой поступок обернётся тебе на беду и злосчастье. Тебя объявят вне закона, и уделом твоим станет одинокая жизнь на чужбине. Я насылаю на тебя проклятье, чтобы этот мой взгляд всегда стоял у тебя перед глазами» (Глам, «Сага о Греттире, сыне Асмунда»).\\n\\n© Útlaginn\",\"attachments\":[{\"type\":\"photo\",\"photo\":{\"id\":456241812,\"album_id\":-7,\"owner_id\":-152609441,\"user_id\":100,\"sizes\":[{\"type\":\"m\",\"url\":\"https:\\/\\/pp.userapi.com\\/c849416\\/v849416434\\/f4b4d\\/sVnN1KvmknU.jpg\",\"width\":130,\"height\":130},{\"type\":\"o\",\"url\":\"https:\\/\\/pp.userapi.com\\/c849416\\/v849416434\\/f4b52\\/oltpT_NAEQc.jpg\",\"width\":130,\"height\":130},{\"type\":\"p\",\"url\":\"https:\\/\\/pp.userapi.com\\/c849416\\/v849416434\\/f4b53\\/g2bgfrKhD88.jpg\",\"width\":200,\"height\":200},{\"type\":\"q\",\"url\":\"https:\\/\\/pp.userapi.com\\/c849416\\/v849416434\\/f4b54\\/jiyZ4JkRFWs.jpg\",\"width\":320,\"height\":320},{\"type\":\"r\",\"url\":\"https:\\/\\/pp.userapi.com\\/c849416\\/v849416434\\/f4b55\\/iXf1ROU0LnY.jpg\",\"width\":510,\"height\":510},{\"type\":\"s\",\"url\":\"https:\\/\\/pp.userapi.com\\/c849416\\/v849416434\\/f4b4c\\/NC1bhpE5nEc.jpg\",\"width\":75,\"height\":75},{\"type\":\"w\",\"url\":\"https:\\/\\/pp.userapi.com\\/c849416\\/v849416434\\/f4b51\\/kPwqNiPcZvY.jpg\",\"width\":1200,\"height\":1200},{\"type\":\"x\",\"url\":\"https:\\/\\/pp.userapi.com\\/c849416\\/v849416434\\/f4b4e\\/GhbCdM_1CgU.jpg\",\"width\":604,\"height\":604},{\"type\":\"y\",\"url\":\"https:\\/\\/pp.userapi.com\\/c849416\\/v849416434\\/f4b4f\\/m7pYoqTum3A.jpg\",\"width\":807,\"height\":807},{\"type\":\"z\",\"url\":\"https:\\/\\/pp.userapi.com\\/c849416\\/v849416434\\/f4b50\\/QjCKDKcQS2A.jpg\",\"width\":1080,\"height\":1080}],\"text\":\"\",\"date\":1546338325,\"post_id\":512,\"access_key\":\"8ac37280785753e9b1\"}},{\"type\":\"audio\",\"audio\":{\"id\":456242710,\"owner_id\":2000123277,\"artist\":\"Panphage\",\"title\":\"Grettir Àsmundarsonar\",\"duration\":25,\"date\":1546338325,\"url\":\"https:\\/\\/vk.com\\/mp3\\/audio_api_unavailable.mp3\",\"genre_id\":7,\"is_hq\":true,\"track_code\":\"1c4d3d49BmS_V3YEiM6Xl8aSSOHZAOb7wm3LS8LHorKXdXpL4bAzX-cXNlS0k_nS\",\"is_explicit\":false}},{\"type\":\"audio\",\"audio\":{\"id\":456242917,\"owner_id\":2000121591,\"artist\":\"Panphage\",\"title\":\"Landrensningen\",\"duration\":25,\"date\":1546338325,\"url\":\"https:\\/\\/vk.com\\/mp3\\/audio_api_unavailable.mp3\",\"genre_id\":7,\"is_hq\":true,\"track_code\":\"60cac025cY01jI31UKX8P-J975QK4FJSgOtKWilPdfNRoTDRiTpEtm3MzaVs-JJ6\",\"is_explicit\":false}},{\"type\":\"audio\",\"audio\":{\"id\":456242891,\"owner_id\":2000121811,\"artist\":\"Panphage\",\"title\":\"Glam rider husen\",\"duration\":25,\"date\":1546338325,\"url\":\"https:\\/\\/vk.com\\/mp3\\/audio_api_unavailable.mp3\",\"genre_id\":7,\"is_hq\":true,\"track_code\":\"28eeaa49COHLgQqLN-dKb_7pxuIV-5flBAffsLfS--sRniIUCVE92pPBStsLuiQq\",\"is_explicit\":false}},{\"type\":\"audio\",\"audio\":{\"id\":456242853,\"owner_id\":2000122114,\"artist\":\"Panphage\",\"title\":\"Glamsyn\",\"duration\":25,\"date\":1546338325,\"url\":\"https:\\/\\/vk.com\\/mp3\\/audio_api_unavailable.mp3\",\"genre_id\":7,\"is_hq\":true,\"track_code\":\"897f5de5w7xYMTV8kfPhj_Qft-UIt3GmdMbI06abfOJwS-7i3cb2hwBxdSytro_K\",\"is_explicit\":false}},{\"type\":\"audio\",\"audio\":{\"id\":456242382,\"owner_id\":2000125118,\"artist\":\"Panphage\",\"title\":\"Utlagr\",\"duration\":25,\"date\":1546338325,\"url\":\"https:\\/\\/vk.com\\/mp3\\/audio_api_unavailable.mp3\",\"genre_id\":7,\"is_hq\":true,\"track_code\":\"ba1182c8dEdNyiay8C7ZbwKOcuvBc9r5XehMWa0gZGSDe1praZJBfBWKZuLMc7cq\",\"is_explicit\":false}},{\"type\":\"audio\",\"audio\":{\"id\":456242516,\"owner_id\":2000124121,\"artist\":\"Panphage\",\"title\":\"Drangey\",\"duration\":25,\"date\":1546338325,\"url\":\"https:\\/\\/vk.com\\/mp3\\/audio_api_unavailable.mp3\",\"genre_id\":7,\"is_hq\":true,\"track_code\":\"2c51c0dbHooeWbyj7ikuYKLVQV-jYfsH6hi9_hMJeDwjn4XgvNgrsUYZ_PPSdEAl\",\"is_explicit\":false}},{\"type\":\"audio\",\"audio\":{\"id\":456242847,\"owner_id\":2000122527,\"artist\":\"Panphage\",\"title\":\"Blodshämnd\",\"duration\":25,\"date\":1546338325,\"url\":\"https:\\/\\/vk.com\\/mp3\\/audio_api_unavailable.mp3\",\"genre_id\":7,\"is_hq\":true,\"track_code\":\"1a3e660276-hzjaMJXMhcfyEPsodtdT0rImj8MTocJdmqUmgiQDalPmOdtwZLk80\",\"is_explicit\":false}}],\"post_source\":{\"type\":\"vk\"}}],\"post_source\":{\"type\":\"api\",\"platform\":\"android\"},\"comments\":{\"count\":0,\"can_post\":0,\"groups_can_post\":true},\"likes\":{\"count\":1,\"user_likes\":0,\"can_like\":1,\"can_publish\":1},\"reposts\":{\"count\":0,\"user_reposted\":0},\"views\":{\"count\":178},\"is_favorite\":false},{\"id\":5061,\"from_id\":9316846,\"owner_id\":9316846,\"date\":1548699280,\"post_type\":\"post\",\"text\":\"Кто хотел презентацию альбома?) 17 марта, Джао да, всем быть)\",\"copy_history\":[{\"id\":3,\"owner_id\":-177258863,\"from_id\":-177258863,\"date\":1548666708,\"post_type\":\"post\",\"text\":\"Веселый и хмельной День Святого Патрика - это прекрасная возможность вернуть весну в наши сердца и как следует повеселиться после долгих зимних вечеров. Каждый может стать ирландцем в этот день! 🍀\\n🕺👯 Выбивать каблуками искры будет помогать ярославская фолк-рок банда [club78638925|\\\"КРИК ВИЛЬГЕЛЬМА\\\"] с презентацией своего нового альбома \\\"От Гленфиннана до Лондона\\\". \\n \\nНа Патрик день принято наряжаться в ярких персонажей , мы тоже ждём вас в разнообразии нарядов, проявляйте фантазию, шейте костюмы, наряжайтесь, лучшим будут вручены диски презентуемого альбома, а самого креативного угостим доброй порцией эля ! 🍻\\n \\nВход абсолютно свободный! 16+\\n\\nБронь столов заблаговременно с депозитом.\\nИнформация по тел. 28-49-55 \\n\\n#ДеньСвятогоПатрика2019 #КрикВильгельма #фолк\\n#ЗелёнаяВечеринка #Ярославль #АфишаЯрославль\",\"attachments\":[{\"type\":\"photo\",\"photo\":{\"id\":456239020,\"album_id\":-7,\"owner_id\":-177258863,\"user_id\":100,\"sizes\":[{\"type\":\"m\",\"url\":\"https:\\/\\/pp.userapi.com\\/c844617\\/v844617105\\/18dad5\\/fijAn9o075Y.jpg\",\"width\":92,\"height\":130},{\"type\":\"o\",\"url\":\"https:\\/\\/pp.userapi.com\\/c844617\\/v844617105\\/18dada\\/1tdmnTWciQc.jpg\",\"width\":130,\"height\":184},{\"type\":\"p\",\"url\":\"https:\\/\\/pp.userapi.com\\/c844617\\/v844617105\\/18dadb\\/EgIuWluhD7c.jpg\",\"width\":200,\"height\":283},{\"type\":\"q\",\"url\":\"https:\\/\\/pp.userapi.com\\/c844617\\/v844617105\\/18dadc\\/JF6SnDyLXfA.jpg\",\"width\":320,\"height\":453},{\"type\":\"r\",\"url\":\"https:\\/\\/pp.userapi.com\\/c844617\\/v844617105\\/18dadd\\/Z1ulGJkQw_M.jpg\",\"width\":510,\"height\":722},{\"type\":\"s\",\"url\":\"https:\\/\\/pp.userapi.com\\/c844617\\/v844617105\\/18dad4\\/I9lHkgOgGZI.jpg\",\"width\":53,\"height\":75},{\"type\":\"w\",\"url\":\"https:\\/\\/pp.userapi.com\\/c844617\\/v844617105\\/18dad9\\/VNBt-PqprSM.jpg\",\"width\":1527,\"height\":2160},{\"type\":\"x\",\"url\":\"https:\\/\\/pp.userapi.com\\/c844617\\/v844617105\\/18dad6\\/R6GeNTcZDVg.jpg\",\"width\":427,\"height\":604},{\"type\":\"y\",\"url\":\"https:\\/\\/pp.userapi.com\\/c844617\\/v844617105\\/18dad7\\/HLea0UwAMOY.jpg\",\"width\":570,\"height\":807},{\"type\":\"z\",\"url\":\"https:\\/\\/pp.userapi.com\\/c844617\\/v844617105\\/18dad8\\/zUDG6JB1PPU.jpg\",\"width\":763,\"height\":1080}],\"text\":\"\",\"date\":1548667118,\"access_key\":\"2e27bf202ed141b649\"}},{\"type\":\"video\",\"video\":{\"id\":456239017,\"owner_id\":-148958716,\"title\":\"Крик Вильгельма - Проводы зимы\",\"duration\":142,\"description\":\"КРИК ВИЛЬГЕЛЬМА l 14 июля 2017 года l Джао Да | Сольник\\n#КрикВильгельма, #Джаода76\",\"date\":1500127923,\"comments\":0,\"views\":511,\"width\":1280,\"height\":720,\"photo_130\":\"https:\\/\\/pp.userapi.com\\/c841233\\/v841233804\\/b99c\\/sVNZDl3Z5Sk.jpg\",\"photo_320\":\"https:\\/\\/pp.userapi.com\\/c841233\\/v841233804\\/b99a\\/2GQZRtFce-I.jpg\",\"photo_800\":\"https:\\/\\/pp.userapi.com\\/c841233\\/v841233804\\/b999\\/r1OIr6gsDdk.jpg\",\"is_favorite\":false,\"access_key\":\"e5c4b0145e12d3aea3\",\"first_frame_320\":\"https:\\/\\/pp.userapi.com\\/c836227\\/v836227804\\/4417a\\/LE5zIhC5YaA.jpg\",\"first_frame_160\":\"https:\\/\\/pp.userapi.com\\/c836227\\/v836227804\\/4417b\\/4zCgyr3pu7M.jpg\",\"first_frame_130\":\"https:\\/\\/pp.userapi.com\\/c836227\\/v836227804\\/4417c\\/aR4QZ_FSUbE.jpg\",\"first_frame_800\":\"https:\\/\\/pp.userapi.com\\/c836227\\/v836227804\\/44179\\/jr1uNCipd4c.jpg\",\"can_add\":1,\"track_code\":\"video_84ce6cfdZy3xykwx4R5bOXc06tqw1nHWQWxZwKW8rm_drFUmMnRQCerKeAk\"}},{\"type\":\"video\",\"video\":{\"id\":456239024,\"owner_id\":-78638925,\"title\":\"Крик Вильгельма - Пей, Пей, Пей (Korpiklaani cover) OFFICIAL DOCUMENTARY VIDEO\",\"duration\":193,\"description\":\"FOLK SUMMER FEST 2017\\n\\nOFFICIAL DOCUMENTARY VIDEO\",\"date\":1512135835,\"comments\":0,\"views\":587,\"photo_130\":\"https:\\/\\/pp.userapi.com\\/c841137\\/u6457308\\/video\\/s_83a77245.jpg\",\"photo_320\":\"https:\\/\\/pp.userapi.com\\/c841137\\/u6457308\\/video\\/l_d47dc2eb.jpg\",\"photo_640\":\"https:\\/\\/pp.userapi.com\\/c841137\\/u6457308\\/video\\/y_4d397cba.jpg\",\"is_favorite\":false,\"access_key\":\"951f3703a61bf274ee\",\"platform\":\"YouTube\",\"can_add\":1,\"track_code\":\"video_79821785zUAo5G5BHi4KxVymsVdv1G69Xrpb6vh8bOI_1fvOVTL_ZTTTVg\"}},{\"type\":\"video\",\"video\":{\"id\":456239051,\"owner_id\":10655758,\"title\":\"Крик Вильгельма - \\\"Memento\\\"(Eluveitie cover) + \\\"Шахта\\\", Live 2017\",\"duration\":397,\"description\":\"Видео с концерта, который прошёл 14.07.17 в  арт-клубе Китайский лётчик Джао Да\",\"date\":1500324089,\"comments\":0,\"views\":134,\"photo_130\":\"https:\\/\\/pp.userapi.com\\/c836229\\/u10655758\\/video\\/s_ce11bf26.jpg\",\"photo_320\":\"https:\\/\\/pp.userapi.com\\/c836229\\/u10655758\\/video\\/l_b95202fa.jpg\",\"photo_800\":\"https:\\/\\/pp.userapi.com\\/c836229\\/u10655758\\/video\\/x_262447db.jpg\",\"is_favorite\":false,\"access_key\":\"c27f7eb806a5a5328b\",\"platform\":\"YouTube\",\"can_add\":1,\"track_code\":\"video_1fdca45ddkbH5aDwowUpFpcQu2Tj4Z7U2Vfv2k8owXN2ba9qgfxCZfbV\"}},{\"type\":\"link\",\"link\":{\"url\":\"https:\\/\\/m.vk.com\\/audio?act=audio_playlist-78638925_5&api_view=56d216d54a8be035605ff6ccdbf84f\",\"title\":\"Крик Вильгельма - От Гленфиннана до Лондона (2019)\",\"description\":\"Плейлист\",\"photo\":{\"id\":456239018,\"album_id\":235125454,\"owner_id\":-127435785,\"user_id\":100,\"sizes\":[{\"type\":\"m\",\"url\":\"https:\\/\\/sun9-12.userapi.com\\/c637630\\/v637630075\\/3d838\\/-D_AFiarQHY.jpg\",\"width\":130,\"height\":130},{\"type\":\"o\",\"url\":\"https:\\/\\/sun9-13.userapi.com\\/c637630\\/v637630075\\/3d83a\\/_o5f5AJbwhw.jpg\",\"width\":130,\"height\":130},{\"type\":\"p\",\"url\":\"https:\\/\\/sun9-3.userapi.com\\/c637630\\/v637630075\\/3d83b\\/t1L2-NeXjHk.jpg\",\"width\":200,\"height\":200},{\"type\":\"q\",\"url\":\"https:\\/\\/sun9-17.userapi.com\\/c637630\\/v637630075\\/3d83c\\/HKURh1Fy6-A.jpg\",\"width\":320,\"height\":320},{\"type\":\"r\",\"url\":\"https:\\/\\/sun9-20.userapi.com\\/c637630\\/v637630075\\/3d83d\\/PIuiHyOMo4c.jpg\",\"width\":510,\"height\":510},{\"type\":\"s\",\"url\":\"https:\\/\\/sun9-11.userapi.com\\/c637630\\/v637630075\\/3d837\\/ZQCLOU9vt9U.jpg\",\"width\":75,\"height\":75},{\"type\":\"x\",\"url\":\"https:\\/\\/sun9-10.userapi.com\\/c637630\\/v637630075\\/3d839\\/QoS1sHwG3kY.jpg\",\"width\":512,\"height\":512}],\"text\":\"\",\"date\":1490173981}}}],\"post_source\":{\"type\":\"vk\"}}],\"post_source\":{\"type\":\"api\",\"platform\":\"android\"},\"comments\":{\"count\":0,\"can_post\":0,\"groups_can_post\":true},\"likes\":{\"count\":1,\"user_likes\":0,\"can_like\":1,\"can_publish\":1},\"reposts\":{\"count\":0,\"user_reposted\":0},\"views\":{\"count\":156},\"is_favorite\":false},{\"id\":5060,\"from_id\":9316846,\"owner_id\":9316846,\"date\":1547496804,\"post_type\":\"post\",\"text\":\"\",\"copy_history\":[{\"id\":261914,\"owner_id\":-26140698,\"from_id\":-26140698,\"date\":1547496006,\"post_type\":\"post\",\"text\":\"Geheimnisvoll — Venomous Sorcery Through Hidden Darkness (2019)\\n\\nЕщё немного релизов Knife Vision на ночь. Добротный raw black metal от проекта из США. \\n\\n#eBlack #eRaw #eUSA | #murdunbad\\n\\nКупить релиз: vk.cc\\/8V6fyt (Digital)\",\"signer_id\":244724457,\"attachments\":[{\"type\":\"photo\",\"photo\":{\"id\":456248700,\"album_id\":-7,\"owner_id\":-26140698,\"user_id\":100,\"sizes\":[{\"type\":\"m\",\"url\":\"https:\\/\\/pp.userapi.com\\/c844723\\/v844723373\\/178124\\/c7w_00hR2rM.jpg\",\"width\":130,\"height\":130},{\"type\":\"o\",\"url\":\"https:\\/\\/pp.userapi.com\\/c844723\\/v844723373\\/178129\\/h_Yna3K9Ic0.jpg\",\"width\":130,\"height\":130},{\"type\":\"p\",\"url\":\"https:\\/\\/pp.userapi.com\\/c844723\\/v844723373\\/17812a\\/iRVChPDbOWM.jpg\",\"width\":200,\"height\":200},{\"type\":\"q\",\"url\":\"https:\\/\\/pp.userapi.com\\/c844723\\/v844723373\\/17812b\\/Aji8360Q_Ew.jpg\",\"width\":320,\"height\":320},{\"type\":\"r\",\"url\":\"https:\\/\\/pp.userapi.com\\/c844723\\/v844723373\\/17812c\\/bss7mxbFRCI.jpg\",\"width\":510,\"height\":510},{\"type\":\"s\",\"url\":\"https:\\/\\/pp.userapi.com\\/c844723\\/v844723373\\/178123\\/IJFh0VLmrO4.jpg\",\"width\":75,\"height\":75},{\"type\":\"w\",\"url\":\"https:\\/\\/pp.userapi.com\\/c844723\\/v844723373\\/178128\\/poJNWXI9Jks.jpg\",\"width\":1400,\"height\":1400},{\"type\":\"x\",\"url\":\"https:\\/\\/pp.userapi.com\\/c844723\\/v844723373\\/178125\\/y8nI92kQwbE.jpg\",\"width\":604,\"height\":604},{\"type\":\"y\",\"url\":\"https:\\/\\/pp.userapi.com\\/c844723\\/v844723373\\/178126\\/JFCYh9sxAls.jpg\",\"width\":807,\"height\":807},{\"type\":\"z\",\"url\":\"https:\\/\\/pp.userapi.com\\/c844723\\/v844723373\\/178127\\/LgzTpjJ11m8.jpg\",\"width\":1080,\"height\":1080}],\"text\":\"\",\"date\":1547495883,\"access_key\":\"5198f5694bef8625d3\"}},{\"type\":\"link\",\"link\":{\"url\":\"https:\\/\\/knifevision.bandcamp.com\\/album\\/venomous-sorcery-through-hidden-darkness\",\"title\":\"Venomous Sorcery Through Hidden Darkness, by GEHEIMNISVOLL\",\"description\":\"\",\"target\":\"internal\",\"photo\":{\"id\":456263138,\"album_id\":-26,\"owner_id\":2000049607,\"sizes\":[{\"type\":\"l\",\"url\":\"https:\\/\\/pp.userapi.com\\/c851532\\/v851532674\\/8d4fb\\/vzrZ5PXRpNo.jpg\",\"width\":537,\"height\":240},{\"type\":\"m\",\"url\":\"https:\\/\\/pp.userapi.com\\/c851532\\/v851532674\\/8d4f8\\/YZrVUGANUdQ.jpg\",\"width\":130,\"height\":130},{\"type\":\"p\",\"url\":\"https:\\/\\/pp.userapi.com\\/c851532\\/v851532674\\/8d4fa\\/UVS0FGC9iD4.jpg\",\"width\":260,\"height\":260},{\"type\":\"s\",\"url\":\"https:\\/\\/pp.userapi.com\\/c851532\\/v851532674\\/8d4f7\\/om2zoxSHbes.jpg\",\"width\":75,\"height\":75},{\"type\":\"x\",\"url\":\"https:\\/\\/pp.userapi.com\\/c851532\\/v851532674\\/8d4f9\\/OsbZey5tlXg.jpg\",\"width\":150,\"height\":150}],\"text\":\"\",\"date\":1547495883},\"is_favorite\":false}},{\"type\":\"audio\",\"audio\":{\"id\":456242771,\"owner_id\":2000149488,\"artist\":\"Geheimnisvoll\",\"title\":\"Intro: Into Nothingness\",\"duration\":25,\"date\":1547495996,\"url\":\"https:\\/\\/vk.com\\/mp3\\/audio_api_unavailable.mp3\",\"album_id\":2,\"is_hq\":true,\"track_code\":\"476763abGzj8hqBdT88M01TUNpni-Scy274Q3dbu03WtBmGUHx0sA6vL7GMekWKdBIw\",\"is_explicit\":false}},{\"type\":\"audio\",\"audio\":{\"id\":456242791,\"owner_id\":2000149652,\"artist\":\"Geheimnisvoll\",\"title\":\"Venomous Sorcery Through Hidden Darkness\",\"duration\":25,\"date\":1547495996,\"url\":\"https:\\/\\/vk.com\\/mp3\\/audio_api_unavailable.mp3\",\"album_id\":2,\"is_hq\":true,\"track_code\":\"4321e0f5OBCigOVpE_g8QxYejtivgJUK_ZiEfjanQVUHTvt50uMPK_XNqVdCplINRkY\",\"is_explicit\":false}},{\"type\":\"audio\",\"audio\":{\"id\":456242521,\"owner_id\":2000150109,\"artist\":\"Geheimnisvoll\",\"title\":\"Esoteric Glare\",\"duration\":25,\"date\":1547495996,\"url\":\"https:\\/\\/vk.com\\/mp3\\/audio_api_unavailable.mp3\",\"album_id\":2,\"is_hq\":true,\"track_code\":\"64ee57b4y1Yhpw3aJuKtCvXD8Z1-lSgEOGoZES3Pl8lBKdmN7R78bXbqQeR3vMNEpZs\",\"is_explicit\":false}},{\"type\":\"audio\",\"audio\":{\"id\":456242514,\"owner_id\":2000151001,\"artist\":\"Geheimnisvoll\",\"title\":\"Drowning in the Depths of the Vacuous Abyss\",\"duration\":25,\"date\":1547495996,\"url\":\"https:\\/\\/vk.com\\/mp3\\/audio_api_unavailable.mp3\",\"album_id\":2,\"is_hq\":true,\"track_code\":\"624e4ce42otAwLEifzZIH4UnBeW2istAVvksKecW8DXWV6ExthrtsBeN_RwuaCZR1X8\",\"is_explicit\":false}}],\"post_source\":{\"type\":\"vk\"}}],\"post_source\":{\"type\":\"api\",\"platform\":\"android\"},\"comments\":{\"count\":0,\"can_post\":0,\"groups_can_post\":true},\"likes\":{\"count\":1,\"user_likes\":0,\"can_like\":1,\"can_publish\":1},\"reposts\":{\"count\":0,\"user_reposted\":0},\"views\":{\"count\":110},\"is_favorite\":false},{\"id\":5055,\"from_id\":9316846,\"owner_id\":9316846,\"date\":1547059244,\"post_type\":\"post\",\"text\":\"Аддзысьлытöдз.\\nБлин, сегодня в поезде полночи это слово снилось, всё не мог вспомнить, что оно значит. Потом проснулся, в книжке посмотрел, вроде отпустило\",\"post_source\":{\"type\":\"api\",\"platform\":\"android\"},\"comments\":{\"count\":4,\"can_post\":0,\"groups_can_post\":true},\"likes\":{\"count\":4,\"user_likes\":0,\"can_like\":1,\"can_publish\":1},\"reposts\":{\"count\":0,\"user_reposted\":0},\"views\":{\"count\":241},\"is_favorite\":false},{\"id\":5053,\"from_id\":9316846,\"owner_id\":9316846,\"date\":1546542721,\"post_type\":\"post\",\"text\":\"Сразу лайк\\/репост\",\"copy_history\":[{\"id\":260577,\"owner_id\":-26140698,\"from_id\":-26140698,\"date\":1546534814,\"post_type\":\"post\",\"text\":\"Digerdöden — Majestätens dunkla håg, i dödens profana ståt (2017)\\n\\nПервый полноформатный альбом от очередного сайд-проекта владельца Ancient Records и Mysticism Productions, Swartadauþuz (Ars Hmu, Azelisassath, Bekëth Nexëhmü, Demonomantic, Gnipahålan, Musmahhu, Mystik, Summum, Trolldom, Urkaos).\\n\\n#eBlack #eSweden | #murdunbad\\n\\nВесь релиз (11): https:\\/\\/vk.cc\\/8SzIlq\\n\\nКупить релиз: vk.cc\\/8SzIar (CD or Vinyl, Discogs Market)\",\"signer_id\":244724457,\"attachments\":[{\"type\":\"photo\",\"photo\":{\"id\":456248514,\"album_id\":-7,\"owner_id\":-26140698,\"user_id\":100,\"sizes\":[{\"type\":\"m\",\"url\":\"https:\\/\\/pp.userapi.com\\/c849328\\/v849328855\\/f63b0\\/q2n7N-g1Hbo.jpg\",\"width\":130,\"height\":130},{\"type\":\"o\",\"url\":\"https:\\/\\/pp.userapi.com\\/c849328\\/v849328855\\/f63b3\\/KYOy224nOWY.jpg\",\"width\":130,\"height\":130},{\"type\":\"p\",\"url\":\"https:\\/\\/pp.userapi.com\\/c849328\\/v849328855\\/f63b4\\/DSEoMCsCs6A.jpg\",\"width\":200,\"height\":200},{\"type\":\"q\",\"url\":\"https:\\/\\/pp.userapi.com\\/c849328\\/v849328855\\/f63b5\\/-gYlWqKCHIc.jpg\",\"width\":320,\"height\":320},{\"type\":\"r\",\"url\":\"https:\\/\\/pp.userapi.com\\/c849328\\/v849328855\\/f63b6\\/4i9MZEOb98c.jpg\",\"width\":510,\"height\":510},{\"type\":\"s\",\"url\":\"https:\\/\\/pp.userapi.com\\/c849328\\/v849328855\\/f63af\\/NVs4Nud5hJs.jpg\",\"width\":75,\"height\":75},{\"type\":\"x\",\"url\":\"https:\\/\\/pp.userapi.com\\/c849328\\/v849328855\\/f63b1\\/hQIypoXpbPc.jpg\",\"width\":604,\"height\":604},{\"type\":\"y\",\"url\":\"https:\\/\\/pp.userapi.com\\/c849328\\/v849328855\\/f63b2\\/0l1MzsDMiXU.jpg\",\"width\":770,\"height\":770}],\"text\":\"\",\"date\":1546534814,\"post_id\":260577,\"access_key\":\"30f0c11e79a0e4a4ff\"}},{\"type\":\"audio\",\"audio\":{\"id\":456242314,\"owner_id\":2000129458,\"artist\":\"Digerdöden\",\"title\":\"Hänsoven Ock Obeaktad\",\"duration\":25,\"date\":1546534814,\"url\":\"https:\\/\\/vk.com\\/mp3\\/audio_api_unavailable.mp3\",\"is_hq\":true,\"track_code\":\"a270e84bu4BJlzNp8Eu8PgbN9xRnjLCTwLu0Mf4htia-Oqefj5CMux7af1ehFdN8UJY\",\"is_explicit\":false}},{\"type\":\"audio\",\"audio\":{\"id\":456242527,\"owner_id\":2000127608,\"artist\":\"Digerdöden\",\"title\":\"I Dödens Sorti\",\"duration\":25,\"date\":1546534814,\"url\":\"https:\\/\\/vk.com\\/mp3\\/audio_api_unavailable.mp3\",\"is_hq\":true,\"track_code\":\"6f48ce38ZJ8SIjq7RCJwuFpHUoDUsY0wey017RP2slOlszyyA3xTpEVvdoUVfB_6DBw\",\"is_explicit\":false}},{\"type\":\"audio\",\"audio\":{\"id\":456242285,\"owner_id\":2000129771,\"artist\":\"Digerdöden\",\"title\":\"I Profan Avoghet Ock Evinnerli\",\"duration\":25,\"date\":1546534814,\"url\":\"https:\\/\\/vk.com\\/mp3\\/audio_api_unavailable.mp3\",\"is_hq\":true,\"track_code\":\"eb1c489fzKQf-opdNrRLIHKMN2gvSeNkyxJl-Lp0Pff12iPpgVb7n0i3xmNn6iRiJNc\",\"is_explicit\":false}},{\"type\":\"audio\",\"audio\":{\"id\":456242375,\"owner_id\":2000129360,\"artist\":\"Digerdöden\",\"title\":\"Lämning Af Herrskapets Ruttna\",\"duration\":25,\"date\":1546534814,\"url\":\"https:\\/\\/vk.com\\/mp3\\/audio_api_unavailable.mp3\",\"is_hq\":true,\"track_code\":\"bcfd0a02pn9mZF6JsKR0k2TJwVN2HZuN0V_XrR-p7D_fVKfgYl-RRDEpErfh-hvRMpI\",\"is_explicit\":false}},{\"type\":\"audio\",\"audio\":{\"id\":456242993,\"owner_id\":2000125931,\"artist\":\"Digerdöden\",\"title\":\"Den Efvige Hornpers Genljuda\",\"duration\":25,\"date\":1546534814,\"url\":\"https:\\/\\/vk.com\\/mp3\\/audio_api_unavailable.mp3\",\"is_hq\":true,\"track_code\":\"0d60dd5b_7-a1xecsBjUvLiByds5j69uI1XjSaAuQFMhEZhDLsvIhM2aW6LhRrv-7to\",\"is_explicit\":false}},{\"type\":\"audio\",\"audio\":{\"id\":456242750,\"owner_id\":2000126984,\"artist\":\"Digerdöden\",\"title\":\"Bråddjupets Håg\",\"duration\":25,\"date\":1546534814,\"url\":\"https:\\/\\/vk.com\\/mp3\\/audio_api_unavailable.mp3\",\"is_hq\":true,\"track_code\":\"170526aaJI-KOI5klC_xUmXg6xTBXEge0AvZ82vXDpeqZUB3oPMTtN11wlrFcZ4QM7s\",\"is_explicit\":false}},{\"type\":\"audio\",\"audio\":{\"id\":456242915,\"owner_id\":2000126048,\"artist\":\"Digerdöden\",\"title\":\"Asket Ock Själaplågning\",\"duration\":25,\"date\":1546534814,\"url\":\"https:\\/\\/vk.com\\/mp3\\/audio_api_unavailable.mp3\",\"is_hq\":true,\"track_code\":\"2854c10ctkBGygn0I__gbn2Spb55_beoG5zVB9bWWvdkwIUpLIKBexGHRcpyoY8sK8k\",\"is_explicit\":false}},{\"type\":\"audio\",\"audio\":{\"id\":456242517,\"owner_id\":2000128284,\"artist\":\"Digerdöden\",\"title\":\"Gestalt I Illviljans Svärtande\",\"duration\":25,\"date\":1546534814,\"url\":\"https:\\/\\/vk.com\\/mp3\\/audio_api_unavailable.mp3\",\"is_hq\":true,\"track_code\":\"3a31f3f4Q1jpkuRrEo9X1Rr1cTL5hx-CMnPb2OwImso2972SbJx0Y77fqFVD0TiXTK4\",\"is_explicit\":false}},{\"type\":\"link\",\"link\":{\"url\":\"https:\\/\\/www.discogs.com\\/sell\\/list?master_id=1379442&ev=mb\",\"title\":\"Digerdöden - Majestätens Dunkla Håg, I Dödens Profana Ståt (All Versions) For Sale at Discogs Market\",\"description\":\"Buy and sell Digerdöden - Majestätens Dunkla Håg, I Dödens Profana Ståt (All Versions) at the Discogs Marketplace.\",\"target\":\"internal\",\"photo\":{\"id\":456261857,\"album_id\":-27,\"owner_id\":2000044327,\"sizes\":[{\"type\":\"m\",\"url\":\"https:\\/\\/pp.userapi.com\\/c851016\\/v851016228\\/8269d\\/XKvPzYODSCM.jpg\",\"width\":130,\"height\":130},{\"type\":\"s\",\"url\":\"https:\\/\\/pp.userapi.com\\/c851016\\/v851016228\\/8269c\\/VQRyUjucuFg.jpg\",\"width\":75,\"height\":75},{\"type\":\"x\",\"url\":\"https:\\/\\/pp.userapi.com\\/c851016\\/v851016228\\/8269e\\/1reDQVYZbR8.jpg\",\"width\":150,\"height\":150}],\"text\":\"\",\"date\":1546534919},\"is_favorite\":false}}],\"post_source\":{\"type\":\"vk\"}}],\"post_source\":{\"type\":\"api\",\"platform\":\"android\"},\"comments\":{\"count\":0,\"can_post\":0,\"groups_can_post\":true},\"likes\":{\"count\":2,\"user_likes\":0,\"can_like\":1,\"can_publish\":1},\"reposts\":{\"count\":0,\"user_reposted\":0},\"views\":{\"count\":194},\"is_favorite\":false},{\"id\":5050,\"from_id\":9316846,\"owner_id\":9316846,\"date\":1546020275,\"post_type\":\"post\",\"text\":\"Йохохо, Ликантропайзер будет на Койоте в феврале)\",\"copy_history\":[{\"id\":175,\"owner_id\":-162456329,\"from_id\":-162456329,\"date\":1546019059,\"post_type\":\"post\",\"text\":\"К фесту присоединились !!!\\nFERALIMINAL LYCANTHROPIZER (Ярославль) Porno Gore Grind \\nhttp:\\/\\/vk.com\\/flgrind\",\"attachments\":[{\"type\":\"photo\",\"photo\":{\"id\":456239119,\"album_id\":-7,\"owner_id\":-162456329,\"user_id\":100,\"sizes\":[{\"type\":\"m\",\"url\":\"https:\\/\\/pp.userapi.com\\/c845321\\/v845321954\\/162422\\/AACIAcxrBkA.jpg\",\"width\":130,\"height\":91},{\"type\":\"o\",\"url\":\"https:\\/\\/pp.userapi.com\\/c845321\\/v845321954\\/162426\\/6O53LBLuVS8.jpg\",\"width\":130,\"height\":91},{\"type\":\"p\",\"url\":\"https:\\/\\/pp.userapi.com\\/c845321\\/v845321954\\/162427\\/7u0Ldr9to2E.jpg\",\"width\":200,\"height\":140},{\"type\":\"q\",\"url\":\"https:\\/\\/pp.userapi.com\\/c845321\\/v845321954\\/162428\\/Ym5h65gE59k.jpg\",\"width\":320,\"height\":224},{\"type\":\"r\",\"url\":\"https:\\/\\/pp.userapi.com\\/c845321\\/v845321954\\/162429\\/sH_F5ZX60_U.jpg\",\"width\":510,\"height\":357},{\"type\":\"s\",\"url\":\"https:\\/\\/pp.userapi.com\\/c845321\\/v845321954\\/162421\\/mBKmSaEIxv8.jpg\",\"width\":75,\"height\":52},{\"type\":\"x\",\"url\":\"https:\\/\\/pp.userapi.com\\/c845321\\/v845321954\\/162423\\/l1kShiGHad8.jpg\",\"width\":604,\"height\":423},{\"type\":\"y\",\"url\":\"https:\\/\\/pp.userapi.com\\/c845321\\/v845321954\\/162424\\/dD1lixOhk8w.jpg\",\"width\":807,\"height\":565},{\"type\":\"z\",\"url\":\"https:\\/\\/pp.userapi.com\\/c845321\\/v845321954\\/162425\\/p0YS-cUV_DE.jpg\",\"width\":900,\"height\":630}],\"text\":\"\",\"date\":1546019059,\"access_key\":\"a1b259f1df5173bd2f\"}},{\"type\":\"photo\",\"photo\":{\"id\":456239120,\"album_id\":-7,\"owner_id\":-162456329,\"user_id\":100,\"sizes\":[{\"type\":\"m\",\"url\":\"https:\\/\\/pp.userapi.com\\/c852032\\/v852032192\\/6a7d7\\/iBg5mQfH_jo.jpg\",\"width\":130,\"height\":87},{\"type\":\"o\",\"url\":\"https:\\/\\/pp.userapi.com\\/c852032\\/v852032192\\/6a7db\\/nSvd_1siMXo.jpg\",\"width\":130,\"height\":87},{\"type\":\"p\",\"url\":\"https:\\/\\/pp.userapi.com\\/c852032\\/v852032192\\/6a7dc\\/BJcaO1kKxi4.jpg\",\"width\":200,\"height\":133},{\"type\":\"q\",\"url\":\"https:\\/\\/pp.userapi.com\\/c852032\\/v852032192\\/6a7dd\\/tTqOLQcZ_tc.jpg\",\"width\":320,\"height\":213},{\"type\":\"r\",\"url\":\"https:\\/\\/pp.userapi.com\\/c852032\\/v852032192\\/6a7de\\/-WPAH8XRq30.jpg\",\"width\":510,\"height\":340},{\"type\":\"s\",\"url\":\"https:\\/\\/pp.userapi.com\\/c852032\\/v852032192\\/6a7d6\\/VUJCww8uqlI.jpg\",\"width\":75,\"height\":50},{\"type\":\"x\",\"url\":\"https:\\/\\/pp.userapi.com\\/c852032\\/v852032192\\/6a7d8\\/Uz5Mn-DrOBQ.jpg\",\"width\":604,\"height\":402},{\"type\":\"y\",\"url\":\"https:\\/\\/pp.userapi.com\\/c852032\\/v852032192\\/6a7d9\\/WBALO9lfhTE.jpg\",\"width\":807,\"height\":537},{\"type\":\"z\",\"url\":\"https:\\/\\/pp.userapi.com\\/c852032\\/v852032192\\/6a7da\\/B2zT_5xzzHg.jpg\",\"width\":1280,\"height\":852}],\"text\":\"\",\"date\":1546019059,\"access_key\":\"f28bfef1a109d9e067\"}},{\"type\":\"video\",\"video\":{\"id\":456240436,\"owner_id\":986297,\"title\":\"FERALIMINAL LYCANTHROPIZER\",\"duration\":332,\"description\":\"\",\"date\":1519065612,\"comments\":0,\"views\":880,\"width\":1280,\"height\":720,\"photo_130\":\"https:\\/\\/pp.userapi.com\\/c841331\\/v841331965\\/7291d\\/Rio2LT9HhCg.jpg\",\"photo_320\":\"https:\\/\\/pp.userapi.com\\/c841331\\/v841331965\\/7291b\\/mkG1j-xX_gg.jpg\",\"photo_800\":\"https:\\/\\/pp.userapi.com\\/c841331\\/v841331965\\/7291a\\/pgjXx-4sae8.jpg\",\"is_favorite\":false,\"access_key\":\"88b50d59754ed95264\",\"first_frame_320\":\"https:\\/\\/pp.userapi.com\\/c834104\\/v834104965\\/c2a37\\/_96sdO_F-uU.jpg\",\"first_frame_160\":\"https:\\/\\/pp.userapi.com\\/c834104\\/v834104965\\/c2a38\\/rOHJiVLfFuQ.jpg\",\"first_frame_130\":\"https:\\/\\/pp.userapi.com\\/c834104\\/v834104965\\/c2a39\\/AOjGelb-m1o.jpg\",\"first_frame_800\":\"https:\\/\\/pp.userapi.com\\/c834104\\/v834104965\\/c2a36\\/hDD8TPYB-ak.jpg\",\"can_add\":1,\"track_code\":\"video_3106e35ciTQD7bShNzK6YvrhUlI8Vjy9F8SMwyluUJ6i1tsUzpSLJA\"}},{\"type\":\"audio\",\"audio\":{\"id\":456242675,\"owner_id\":2000115446,\"artist\":\"Feraliminal Lycanthropizer\",\"title\":\"The Apocalyptic Triumph of Vaginal Infernality\",\"duration\":25,\"date\":1546019059,\"url\":\"https:\\/\\/vk.com\\/mp3\\/audio_api_unavailable.mp3\",\"is_hq\":true,\"track_code\":\"d151498cSysVKZLT-PZa6vKxwhw-n4BLwgc-_znbrn3ouTFC4Gx8FUJu1IvErzKo\",\"is_explicit\":true,\"main_artists\":[{\"name\":\"Feraliminal Lycanthropizer\",\"id\":\"6251584570549049039\",\"domain\":\"6251584570549049039\"}]}},{\"type\":\"audio\",\"audio\":{\"id\":456242415,\"owner_id\":2000117518,\"artist\":\"Feraliminal Lycanthropizer\",\"title\":\"The Sudden Petrifaction of Intestinal Wastes\",\"duration\":25,\"date\":1546019059,\"url\":\"https:\\/\\/vk.com\\/mp3\\/audio_api_unavailable.mp3\",\"is_hq\":true,\"track_code\":\"e6f4b1c8WE0PSiCzyJNAwGRcCPKVux6pTDQKveaI6rAb9O3dShRvc1gNZuv0yiiC\",\"is_explicit\":true,\"main_artists\":[{\"name\":\"Feraliminal Lycanthropizer\",\"id\":\"6251584570549049039\",\"domain\":\"6251584570549049039\"}]}},{\"type\":\"audio\",\"audio\":{\"id\":456242864,\"owner_id\":2000113985,\"artist\":\"Feraliminal Lycanthropizer\",\"title\":\"The Genital Mutation of a Miserable Gerontofil\",\"duration\":25,\"date\":1546019059,\"url\":\"https:\\/\\/vk.com\\/mp3\\/audio_api_unavailable.mp3\",\"is_hq\":true,\"track_code\":\"91c50b12RQRWNgjDyCljGMQVQo5kpzcYnqVQf7bw_f8vc4bUyYRyOgFxTpv0cAta\",\"is_explicit\":true,\"main_artists\":[{\"name\":\"Feraliminal Lycanthropizer\",\"id\":\"6251584570549049039\",\"domain\":\"6251584570549049039\"}]}}],\"post_source\":{\"type\":\"vk\"}}],\"post_source\":{\"type\":\"api\",\"platform\":\"android\"},\"comments\":{\"count\":0,\"can_post\":0,\"groups_can_post\":true},\"likes\":{\"count\":2,\"user_likes\":0,\"can_like\":1,\"can_publish\":1},\"reposts\":{\"count\":0,\"user_reposted\":0},\"views\":{\"count\":190},\"is_favorite\":false},{\"id\":5047,\"from_id\":9316846,\"owner_id\":9316846,\"date\":1545856295,\"post_type\":\"post\",\"text\":\"\",\"attachments\":[{\"type\":\"photo\",\"photo\":{\"id\":456239678,\"album_id\":-6,\"owner_id\":9316846,\"sizes\":[{\"type\":\"m\",\"url\":\"https:\\/\\/pp.userapi.com\\/c850216\\/v850216130\\/9db54\\/DAh4IgygoOk.jpg\",\"width\":87,\"height\":130},{\"type\":\"o\",\"url\":\"https:\\/\\/pp.userapi.com\\/c850216\\/v850216130\\/9db59\\/AzBZLYO2Er8.jpg\",\"width\":130,\"height\":195},{\"type\":\"p\",\"url\":\"https:\\/\\/pp.userapi.com\\/c850216\\/v850216130\\/9db5a\\/xOWFEQYNk8s.jpg\",\"width\":200,\"height\":300},{\"type\":\"q\",\"url\":\"https:\\/\\/pp.userapi.com\\/c850216\\/v850216130\\/9db5b\\/FJ-CA8KvesU.jpg\",\"width\":320,\"height\":479},{\"type\":\"r\",\"url\":\"https:\\/\\/pp.userapi.com\\/c850216\\/v850216130\\/9db5c\\/B6MNF_IPE5s.jpg\",\"width\":510,\"height\":764},{\"type\":\"s\",\"url\":\"https:\\/\\/pp.userapi.com\\/c850216\\/v850216130\\/9db53\\/0_w2D2ffXGw.jpg\",\"width\":50,\"height\":75},{\"type\":\"w\",\"url\":\"https:\\/\\/pp.userapi.com\\/c850216\\/v850216130\\/9db58\\/R6EkWRjeF54.jpg\",\"width\":1282,\"height\":1920},{\"type\":\"x\",\"url\":\"https:\\/\\/pp.userapi.com\\/c850216\\/v850216130\\/9db55\\/o0pJC3MQKy4.jpg\",\"width\":403,\"height\":604},{\"type\":\"y\",\"url\":\"https:\\/\\/pp.userapi.com\\/c850216\\/v850216130\\/9db56\\/Sn7xYKNA92M.jpg\",\"width\":539,\"height\":807},{\"type\":\"z\",\"url\":\"https:\\/\\/pp.userapi.com\\/c850216\\/v850216130\\/9db57\\/mC2MQwfIiTg.jpg\",\"width\":721,\"height\":1080}],\"text\":\"\",\"date\":1545856295,\"post_id\":5047}}],\"post_source\":{\"type\":\"api\",\"platform\":\"android\",\"data\":\"profile_photo\"},\"comments\":{\"count\":2,\"can_post\":0,\"groups_can_post\":true},\"likes\":{\"count\":63,\"user_likes\":0,\"can_like\":1,\"can_publish\":1},\"reposts\":{\"count\":0,\"user_reposted\":0},\"views\":{\"count\":359},\"is_favorite\":false},{\"id\":5046,\"from_id\":9316846,\"owner_id\":9316846,\"date\":1545822820,\"post_type\":\"post\",\"text\":\"Практически акустический вариант прошлого сингла)\",\"copy_history\":[{\"id\":477,\"owner_id\":-78638925,\"from_id\":-78638925,\"date\":1545822600,\"post_type\":\"post\",\"text\":\"10!!!! 10 дней до выхода альбома! Нам уже не терпится показать его вам, но придется чуток подождать) А пока, зацените фоточки, приуроченные к релизу и бонус трек с грядущего альбома✌🏻\",\"attachments\":[{\"type\":\"photo\",\"photo\":{\"id\":456239371,\"album_id\":-7,\"owner_id\":-78638925,\"user_id\":100,\"sizes\":[{\"type\":\"m\",\"url\":\"https:\\/\\/pp.userapi.com\\/c845322\\/v845322649\\/167d46\\/1Nw5XZkbKeY.jpg\",\"width\":130,\"height\":87},{\"type\":\"o\",\"url\":\"https:\\/\\/pp.userapi.com\\/c845322\\/v845322649\\/167d4b\\/WOaWE-L8c8k.jpg\",\"width\":130,\"height\":87},{\"type\":\"p\",\"url\":\"https:\\/\\/pp.userapi.com\\/c845322\\/v845322649\\/167d4c\\/B9KKUSpB8qo.jpg\",\"width\":200,\"height\":134},{\"type\":\"q\",\"url\":\"https:\\/\\/pp.userapi.com\\/c845322\\/v845322649\\/167d4d\\/oQFF1V7BY3I.jpg\",\"width\":320,\"height\":214},{\"type\":\"r\",\"url\":\"https:\\/\\/pp.userapi.com\\/c845322\\/v845322649\\/167d4e\\/1V0oCL4_8-o.jpg\",\"width\":510,\"height\":341},{\"type\":\"s\",\"url\":\"https:\\/\\/pp.userapi.com\\/c845322\\/v845322649\\/167d45\\/UIfpKxIEVzU.jpg\",\"width\":75,\"height\":50},{\"type\":\"w\",\"url\":\"https:\\/\\/pp.userapi.com\\/c845322\\/v845322649\\/167d4a\\/hYYwluvksJw.jpg\",\"width\":1920,\"height\":1282},{\"type\":\"x\",\"url\":\"https:\\/\\/pp.userapi.com\\/c845322\\/v845322649\\/167d47\\/V2oHlJUMTFg.jpg\",\"width\":604,\"height\":403},{\"type\":\"y\",\"url\":\"https:\\/\\/pp.userapi.com\\/c845322\\/v845322649\\/167d48\\/jqSeGvXcOCc.jpg\",\"width\":807,\"height\":539},{\"type\":\"z\",\"url\":\"https:\\/\\/pp.userapi.com\\/c845322\\/v845322649\\/167d49\\/M5gm4_wyLR8.jpg\",\"width\":1280,\"height\":855}],\"text\":\"\",\"date\":1545734009,\"access_key\":\"2d7f25086036fcd83a\"}},{\"type\":\"photo\",\"photo\":{\"id\":456239372,\"album_id\":-7,\"owner_id\":-78638925,\"user_id\":100,\"sizes\":[{\"type\":\"m\",\"url\":\"https:\\/\\/pp.userapi.com\\/c845322\\/v845322649\\/167d50\\/ug93FA7SjXk.jpg\",\"width\":130,\"height\":87},{\"type\":\"o\",\"url\":\"https:\\/\\/pp.userapi.com\\/c845322\\/v845322649\\/167d55\\/MA7V-A5ttlo.jpg\",\"width\":130,\"height\":87},{\"type\":\"p\",\"url\":\"https:\\/\\/pp.userapi.com\\/c845322\\/v845322649\\/167d56\\/X9eSi02BC-Y.jpg\",\"width\":200,\"height\":134},{\"type\":\"q\",\"url\":\"https:\\/\\/pp.userapi.com\\/c845322\\/v845322649\\/167d57\\/T6KIhJDjM3s.jpg\",\"width\":320,\"height\":214},{\"type\":\"r\",\"url\":\"https:\\/\\/pp.userapi.com\\/c845322\\/v845322649\\/167d58\\/RljmAHptF9I.jpg\",\"width\":510,\"height\":341},{\"type\":\"s\",\"url\":\"https:\\/\\/pp.userapi.com\\/c845322\\/v845322649\\/167d4f\\/6hvzKqGXVbc.jpg\",\"width\":75,\"height\":50},{\"type\":\"w\",\"url\":\"https:\\/\\/pp.userapi.com\\/c845322\\/v845322649\\/167d54\\/TphzqTx9VII.jpg\",\"width\":1920,\"height\":1282},{\"type\":\"x\",\"url\":\"https:\\/\\/pp.userapi.com\\/c845322\\/v845322649\\/167d51\\/6pIYxiVwDzw.jpg\",\"width\":604,\"height\":403},{\"type\":\"y\",\"url\":\"https:\\/\\/pp.userapi.com\\/c845322\\/v845322649\\/167d52\\/Ue65hhcoBsQ.jpg\",\"width\":807,\"height\":539},{\"type\":\"z\",\"url\":\"https:\\/\\/pp.userapi.com\\/c845322\\/v845322649\\/167d53\\/BWPUe3c4RtM.jpg\",\"width\":1280,\"height\":855}],\"text\":\"\",\"date\":1545734009,\"access_key\":\"1c655fde28e29ed0eb\"}},{\"type\":\"photo\",\"photo\":{\"id\":456239373,\"album_id\":-7,\"owner_id\":-78638925,\"user_id\":100,\"sizes\":[{\"type\":\"m\",\"url\":\"https:\\/\\/pp.userapi.com\\/c845322\\/v845322649\\/167d5a\\/QOOUiL36RXA.jpg\",\"width\":130,\"height\":87},{\"type\":\"o\",\"url\":\"https:\\/\\/pp.userapi.com\\/c845322\\/v845322649\\/167d5f\\/QqwHTbhvf-M.jpg\",\"width\":130,\"height\":87},{\"type\":\"p\",\"url\":\"https:\\/\\/pp.userapi.com\\/c845322\\/v845322649\\/167d60\\/6gsrbhkg51o.jpg\",\"width\":200,\"height\":134},{\"type\":\"q\",\"url\":\"https:\\/\\/pp.userapi.com\\/c845322\\/v845322649\\/167d61\\/fxIyk9s02ao.jpg\",\"width\":320,\"height\":214},{\"type\":\"r\",\"url\":\"https:\\/\\/pp.userapi.com\\/c845322\\/v845322649\\/167d62\\/lYZR8EeCjEM.jpg\",\"width\":510,\"height\":341},{\"type\":\"s\",\"url\":\"https:\\/\\/pp.userapi.com\\/c845322\\/v845322649\\/167d59\\/8ySrPojdVBQ.jpg\",\"width\":75,\"height\":50},{\"type\":\"w\",\"url\":\"https:\\/\\/pp.userapi.com\\/c845322\\/v845322649\\/167d5e\\/BuCJ3SNIP5E.jpg\",\"width\":1920,\"height\":1282},{\"type\":\"x\",\"url\":\"https:\\/\\/pp.userapi.com\\/c845322\\/v845322649\\/167d5b\\/0AirN27Y9Tk.jpg\",\"width\":604,\"height\":403},{\"type\":\"y\",\"url\":\"https:\\/\\/pp.userapi.com\\/c845322\\/v845322649\\/167d5c\\/8fLUmZreCNw.jpg\",\"width\":807,\"height\":539},{\"type\":\"z\",\"url\":\"https:\\/\\/pp.userapi.com\\/c845322\\/v845322649\\/167d5d\\/qIhiw1ppp6k.jpg\",\"width\":1280,\"height\":855}],\"text\":\"\",\"date\":1545734009,\"access_key\":\"7fa309071a43b54f94\"}},{\"type\":\"photo\",\"photo\":{\"id\":456239374,\"album_id\":-7,\"owner_id\":-78638925,\"user_id\":100,\"sizes\":[{\"type\":\"m\",\"url\":\"https:\\/\\/pp.userapi.com\\/c845322\\/v845322649\\/167d64\\/t8ONIEyuqlk.jpg\",\"width\":87,\"height\":130},{\"type\":\"o\",\"url\":\"https:\\/\\/pp.userapi.com\\/c845322\\/v845322649\\/167d69\\/H0VBg4llpPU.jpg\",\"width\":130,\"height\":195},{\"type\":\"p\",\"url\":\"https:\\/\\/pp.userapi.com\\/c845322\\/v845322649\\/167d6a\\/pQUa00UIzSY.jpg\",\"width\":200,\"height\":300},{\"type\":\"q\",\"url\":\"https:\\/\\/pp.userapi.com\\/c845322\\/v845322649\\/167d6b\\/lsqSh50TMoI.jpg\",\"width\":320,\"height\":479},{\"type\":\"r\",\"url\":\"https:\\/\\/pp.userapi.com\\/c845322\\/v845322649\\/167d6c\\/KWcPN0U6NyY.jpg\",\"width\":510,\"height\":764},{\"type\":\"s\",\"url\":\"https:\\/\\/pp.userapi.com\\/c845322\\/v845322649\\/167d63\\/tJ7NARTfImw.jpg\",\"width\":50,\"height\":75},{\"type\":\"w\",\"url\":\"https:\\/\\/pp.userapi.com\\/c845322\\/v845322649\\/167d68\\/udrVPm2amz4.jpg\",\"width\":1282,\"height\":1920},{\"type\":\"x\",\"url\":\"https:\\/\\/pp.userapi.com\\/c845322\\/v845322649\\/167d65\\/lWBAM6QjMYk.jpg\",\"width\":403,\"height\":604},{\"type\":\"y\",\"url\":\"https:\\/\\/pp.userapi.com\\/c845322\\/v845322649\\/167d66\\/xhdRzuWLRLA.jpg\",\"width\":539,\"height\":807},{\"type\":\"z\",\"url\":\"https:\\/\\/pp.userapi.com\\/c845322\\/v845322649\\/167d67\\/6VQwnK3Y_wI.jpg\",\"width\":721,\"height\":1080}],\"text\":\"\",\"date\":1545734009,\"access_key\":\"8c708a910113e1482c\"}},{\"type\":\"photo\",\"photo\":{\"id\":456239375,\"album_id\":-7,\"owner_id\":-78638925,\"user_id\":100,\"sizes\":[{\"type\":\"m\",\"url\":\"https:\\/\\/pp.userapi.com\\/c845322\\/v845322649\\/167d6e\\/F9OxZQVf-3M.jpg\",\"width\":87,\"height\":130},{\"type\":\"o\",\"url\":\"https:\\/\\/pp.userapi.com\\/c845322\\/v845322649\\/167d73\\/tku5-EKns0c.jpg\",\"width\":130,\"height\":195},{\"type\":\"p\",\"url\":\"https:\\/\\/pp.userapi.com\\/c845322\\/v845322649\\/167d74\\/OqRJNF_2e9A.jpg\",\"width\":200,\"height\":300},{\"type\":\"q\",\"url\":\"https:\\/\\/pp.userapi.com\\/c845322\\/v845322649\\/167d75\\/qGE0nsIflH0.jpg\",\"width\":320,\"height\":479},{\"type\":\"r\",\"url\":\"https:\\/\\/pp.userapi.com\\/c845322\\/v845322649\\/167d76\\/XxKB23ufHNk.jpg\",\"width\":510,\"height\":764},{\"type\":\"s\",\"url\":\"https:\\/\\/pp.userapi.com\\/c845322\\/v845322649\\/167d6d\\/IFtRG11PUq4.jpg\",\"width\":50,\"height\":75},{\"type\":\"w\",\"url\":\"https:\\/\\/pp.userapi.com\\/c845322\\/v845322649\\/167d72\\/31os3dlGmFE.jpg\",\"width\":1282,\"height\":1920},{\"type\":\"x\",\"url\":\"https:\\/\\/pp.userapi.com\\/c845322\\/v845322649\\/167d6f\\/PGNLJhj9rx0.jpg\",\"width\":403,\"height\":604},{\"type\":\"y\",\"url\":\"https:\\/\\/pp.userapi.com\\/c845322\\/v845322649\\/167d70\\/Ho9ydKTWGj8.jpg\",\"width\":539,\"height\":807},{\"type\":\"z\",\"url\":\"https:\\/\\/pp.userapi.com\\/c845322\\/v845322649\\/167d71\\/KCHyE9_JKkQ.jpg\",\"width\":721,\"height\":1080}],\"text\":\"\",\"date\":1545734009,\"access_key\":\"159f0ad15ff118e312\"}},{\"type\":\"photo\",\"photo\":{\"id\":456239376,\"album_id\":-7,\"owner_id\":-78638925,\"user_id\":100,\"sizes\":[{\"type\":\"m\",\"url\":\"https:\\/\\/pp.userapi.com\\/c845322\\/v845322649\\/167d78\\/J0rvpw4S-fw.jpg\",\"width\":87,\"height\":130},{\"type\":\"o\",\"url\":\"https:\\/\\/pp.userapi.com\\/c845322\\/v845322649\\/167d7d\\/vJMCmrxlImo.jpg\",\"width\":130,\"height\":195},{\"type\":\"p\",\"url\":\"https:\\/\\/pp.userapi.com\\/c845322\\/v845322649\\/167d7e\\/3GPVtSeV1gI.jpg\",\"width\":200,\"height\":300},{\"type\":\"q\",\"url\":\"https:\\/\\/pp.userapi.com\\/c845322\\/v845322649\\/167d7f\\/Ns3Gp5zR6lk.jpg\",\"width\":320,\"height\":479},{\"type\":\"r\",\"url\":\"https:\\/\\/pp.userapi.com\\/c845322\\/v845322649\\/167d80\\/FFN-hKtjze8.jpg\",\"width\":510,\"height\":764},{\"type\":\"s\",\"url\":\"https:\\/\\/pp.userapi.com\\/c845322\\/v845322649\\/167d77\\/oDPBb-9VwY8.jpg\",\"width\":50,\"height\":75},{\"type\":\"w\",\"url\":\"https:\\/\\/pp.userapi.com\\/c845322\\/v845322649\\/167d7c\\/iNzn9_lb5aE.jpg\",\"width\":1282,\"height\":1920},{\"type\":\"x\",\"url\":\"https:\\/\\/pp.userapi.com\\/c845322\\/v845322649\\/167d79\\/U4YUtBZpY6E.jpg\",\"width\":403,\"height\":604},{\"type\":\"y\",\"url\":\"https:\\/\\/pp.userapi.com\\/c845322\\/v845322649\\/167d7a\\/Y5oUUxddzNE.jpg\",\"width\":539,\"height\":807},{\"type\":\"z\",\"url\":\"https:\\/\\/pp.userapi.com\\/c845322\\/v845322649\\/167d7b\\/jxuB9HtuFaI.jpg\",\"width\":721,\"height\":1080}],\"text\":\"\",\"date\":1545734009,\"access_key\":\"d35db6b90a4aded4ca\"}},{\"type\":\"photo\",\"photo\":{\"id\":456239377,\"album_id\":-7,\"owner_id\":-78638925,\"user_id\":100,\"sizes\":[{\"type\":\"m\",\"url\":\"https:\\/\\/pp.userapi.com\\/c845322\\/v845322649\\/167d82\\/L2MoXZtiFHA.jpg\",\"width\":87,\"height\":130},{\"type\":\"o\",\"url\":\"https:\\/\\/pp.userapi.com\\/c845322\\/v845322649\\/167d87\\/9geteJVgj6w.jpg\",\"width\":130,\"height\":195},{\"type\":\"p\",\"url\":\"https:\\/\\/pp.userapi.com\\/c845322\\/v845322649\\/167d88\\/qXKHYkToUKQ.jpg\",\"width\":200,\"height\":300},{\"type\":\"q\",\"url\":\"https:\\/\\/pp.userapi.com\\/c845322\\/v845322649\\/167d89\\/e10DfSq5FIs.jpg\",\"width\":320,\"height\":479},{\"type\":\"r\",\"url\":\"https:\\/\\/pp.userapi.com\\/c845322\\/v845322649\\/167d8a\\/amYSAshrpSA.jpg\",\"width\":510,\"height\":764},{\"type\":\"s\",\"url\":\"https:\\/\\/pp.userapi.com\\/c845322\\/v845322649\\/167d81\\/dFZQ5M1367w.jpg\",\"width\":50,\"height\":75},{\"type\":\"w\",\"url\":\"https:\\/\\/pp.userapi.com\\/c845322\\/v845322649\\/167d86\\/bRLtNPnCKA0.jpg\",\"width\":1282,\"height\":1920},{\"type\":\"x\",\"url\":\"https:\\/\\/pp.userapi.com\\/c845322\\/v845322649\\/167d83\\/7WI3QP3e5Tk.jpg\",\"width\":403,\"height\":604},{\"type\":\"y\",\"url\":\"https:\\/\\/pp.userapi.com\\/c845322\\/v845322649\\/167d84\\/S4S44DRNV4w.jpg\",\"width\":539,\"height\":807},{\"type\":\"z\",\"url\":\"https:\\/\\/pp.userapi.com\\/c845322\\/v845322649\\/167d85\\/N2xbL4qgdxo.jpg\",\"width\":721,\"height\":1080}],\"text\":\"\",\"date\":1545734009,\"access_key\":\"d18cdb9d34b360053b\"}},{\"type\":\"photo\",\"photo\":{\"id\":456239378,\"album_id\":-7,\"owner_id\":-78638925,\"user_id\":100,\"sizes\":[{\"type\":\"m\",\"url\":\"https:\\/\\/pp.userapi.com\\/c845322\\/v845322649\\/167d8c\\/gMU7deZlyS8.jpg\",\"width\":87,\"height\":130},{\"type\":\"o\",\"url\":\"https:\\/\\/pp.userapi.com\\/c845322\\/v845322649\\/167d91\\/EeAA5RK398E.jpg\",\"width\":130,\"height\":195},{\"type\":\"p\",\"url\":\"https:\\/\\/pp.userapi.com\\/c845322\\/v845322649\\/167d92\\/OqOOdfmIMuI.jpg\",\"width\":200,\"height\":300},{\"type\":\"q\",\"url\":\"https:\\/\\/pp.userapi.com\\/c845322\\/v845322649\\/167d93\\/WiQBaoa-hn8.jpg\",\"width\":320,\"height\":479},{\"type\":\"r\",\"url\":\"https:\\/\\/pp.userapi.com\\/c845322\\/v845322649\\/167d94\\/Q3UhIkvNHQc.jpg\",\"width\":510,\"height\":764},{\"type\":\"s\",\"url\":\"https:\\/\\/pp.userapi.com\\/c845322\\/v845322649\\/167d8b\\/27L58F7Ersg.jpg\",\"width\":50,\"height\":75},{\"type\":\"w\",\"url\":\"https:\\/\\/pp.userapi.com\\/c845322\\/v845322649\\/167d90\\/SCDVzoBGR8k.jpg\",\"width\":1281,\"height\":1920},{\"type\":\"x\",\"url\":\"https:\\/\\/pp.userapi.com\\/c845322\\/v845322649\\/167d8d\\/IGPOJ-UIBgQ.jpg\",\"width\":403,\"height\":604},{\"type\":\"y\",\"url\":\"https:\\/\\/pp.userapi.com\\/c845322\\/v845322649\\/167d8e\\/In-lAxUnXTw.jpg\",\"width\":539,\"height\":807},{\"type\":\"z\",\"url\":\"https:\\/\\/pp.userapi.com\\/c845322\\/v845322649\\/167d8f\\/CbW6V0CmlJM.jpg\",\"width\":721,\"height\":1080}],\"text\":\"\",\"date\":1545734009,\"access_key\":\"997419fa09ac95222c\"}},{\"type\":\"photo\",\"photo\":{\"id\":456239380,\"album_id\":-7,\"owner_id\":-78638925,\"user_id\":100,\"sizes\":[{\"type\":\"m\",\"url\":\"https:\\/\\/pp.userapi.com\\/c846120\\/v846120501\\/15edab\\/FaBhFNqbRhw.jpg\",\"width\":87,\"height\":130},{\"type\":\"o\",\"url\":\"https:\\/\\/pp.userapi.com\\/c846120\\/v846120501\\/15edb0\\/mOa8gkmoCRM.jpg\",\"width\":130,\"height\":195},{\"type\":\"p\",\"url\":\"https:\\/\\/pp.userapi.com\\/c846120\\/v846120501\\/15edb1\\/VQKkU218ayk.jpg\",\"width\":200,\"height\":300},{\"type\":\"q\",\"url\":\"https:\\/\\/pp.userapi.com\\/c846120\\/v846120501\\/15edb2\\/K50G_6h1Htc.jpg\",\"width\":320,\"height\":479},{\"type\":\"r\",\"url\":\"https:\\/\\/pp.userapi.com\\/c846120\\/v846120501\\/15edb3\\/-v_RYPCrrK4.jpg\",\"width\":510,\"height\":764},{\"type\":\"s\",\"url\":\"https:\\/\\/pp.userapi.com\\/c846120\\/v846120501\\/15edaa\\/1Z5x9oV1Usc.jpg\",\"width\":50,\"height\":75},{\"type\":\"w\",\"url\":\"https:\\/\\/pp.userapi.com\\/c846120\\/v846120501\\/15edaf\\/ZI8vdJeMHrw.jpg\",\"width\":1442,\"height\":2160},{\"type\":\"x\",\"url\":\"https:\\/\\/pp.userapi.com\\/c846120\\/v846120501\\/15edac\\/T7Rx5GNTlkI.jpg\",\"width\":403,\"height\":604},{\"type\":\"y\",\"url\":\"https:\\/\\/pp.userapi.com\\/c846120\\/v846120501\\/15edad\\/_gCqP2gRG00.jpg\",\"width\":539,\"height\":807},{\"type\":\"z\",\"url\":\"https:\\/\\/pp.userapi.com\\/c846120\\/v846120501\\/15edae\\/LQgIsZEjvH4.jpg\",\"width\":721,\"height\":1080}],\"text\":\"\",\"date\":1545767616,\"access_key\":\"f740653f970991ade2\"}},{\"type\":\"audio\",\"audio\":{\"id\":456242267,\"owner_id\":2000111282,\"artist\":\"Крик Вильгельма\",\"title\":\"Стань сильнее (bonus)\",\"duration\":25,\"date\":1545734009,\"url\":\"https:\\/\\/vk.com\\/mp3\\/audio_api_unavailable.mp3\",\"lyrics_id\":435479449,\"album_id\":2,\"genre_id\":13,\"is_hq\":true,\"track_code\":\"79553bdeYS1bP0y3iY2hDHHAR_qqe9qRgg_KuSdGFn2C0gSTv29RHgN5DYne0sk\",\"is_explicit\":false}}],\"post_source\":{\"type\":\"vk\"}}],\"post_source\":{\"type\":\"api\",\"platform\":\"android\"},\"comments\":{\"count\":0,\"can_post\":0,\"groups_can_post\":true},\"likes\":{\"count\":8,\"user_likes\":0,\"can_like\":1,\"can_publish\":1},\"reposts\":{\"count\":0,\"user_reposted\":0},\"views\":{\"count\":218},\"is_favorite\":false},{\"id\":5045,\"from_id\":9316846,\"owner_id\":9316846,\"date\":1545669822,\"post_type\":\"post\",\"text\":\"\",\"copy_history\":[{\"id\":259065,\"owner_id\":-26140698,\"from_id\":-26140698,\"date\":1545646501,\"post_type\":\"post\",\"text\":\"Helfró — Helfró (2018)\\n\\nВесьма достойное полотно прибыло из Рейкьявика. Первый полноформатный альбом проекта Helfró, который представляет из себя довольно напористый и нетривиальный black\\/death метал. \\n\\n#eBlack #eDeath #eIceland | #murdunbad\\n\\nКупить релиз: vk.cc\\/8QtYRj (Digital)\",\"signer_id\":244724457,\"attachments\":[{\"type\":\"photo\",\"photo\":{\"id\":456248382,\"album_id\":-7,\"owner_id\":-26140698,\"user_id\":100,\"sizes\":[{\"type\":\"m\",\"url\":\"https:\\/\\/pp.userapi.com\\/c848620\\/v848620683\\/e707e\\/ZV_q2ceiLK0.jpg\",\"width\":130,\"height\":130},{\"type\":\"o\",\"url\":\"https:\\/\\/pp.userapi.com\\/c848620\\/v848620683\\/e7083\\/nEOEDLatT0g.jpg\",\"width\":130,\"height\":130},{\"type\":\"p\",\"url\":\"https:\\/\\/pp.userapi.com\\/c848620\\/v848620683\\/e7084\\/Acsa0W_EmDU.jpg\",\"width\":200,\"height\":200},{\"type\":\"q\",\"url\":\"https:\\/\\/pp.userapi.com\\/c848620\\/v848620683\\/e7085\\/ZIdL1iT_3mk.jpg\",\"width\":320,\"height\":320},{\"type\":\"r\",\"url\":\"https:\\/\\/pp.userapi.com\\/c848620\\/v848620683\\/e7086\\/wsWg-uPg4Qo.jpg\",\"width\":510,\"height\":510},{\"type\":\"s\",\"url\":\"https:\\/\\/pp.userapi.com\\/c848620\\/v848620683\\/e707d\\/zU2bQO7nnO0.jpg\",\"width\":75,\"height\":75},{\"type\":\"w\",\"url\":\"https:\\/\\/pp.userapi.com\\/c848620\\/v848620683\\/e7082\\/DIDiQbHTEqE.jpg\",\"width\":2160,\"height\":2160},{\"type\":\"x\",\"url\":\"https:\\/\\/pp.userapi.com\\/c848620\\/v848620683\\/e707f\\/QLj_RiVZq48.jpg\",\"width\":604,\"height\":604},{\"type\":\"y\",\"url\":\"https:\\/\\/pp.userapi.com\\/c848620\\/v848620683\\/e7080\\/nqkn51VQ4_A.jpg\",\"width\":807,\"height\":807},{\"type\":\"z\",\"url\":\"https:\\/\\/pp.userapi.com\\/c848620\\/v848620683\\/e7081\\/KQcCMFYDgv8.jpg\",\"width\":1080,\"height\":1080}],\"text\":\"\",\"date\":1545645447,\"access_key\":\"d87845964be41c1b83\"}},{\"type\":\"link\",\"link\":{\"url\":\"https:\\/\\/helfro.bandcamp.com\\/releases\",\"title\":\"Helfró, by Helfró\",\"description\":\"7 track album\",\"target\":\"internal\",\"photo\":{\"id\":456267746,\"album_id\":-28,\"owner_id\":2000038405,\"sizes\":[{\"type\":\"l\",\"url\":\"https:\\/\\/pp.userapi.com\\/c849416\\/v849416683\\/ebddb\\/KFmxnOK619I.jpg\",\"width\":537,\"height\":240},{\"type\":\"m\",\"url\":\"https:\\/\\/pp.userapi.com\\/c849416\\/v849416683\\/ebdd8\\/G1sSGp5uQMY.jpg\",\"width\":130,\"height\":130},{\"type\":\"p\",\"url\":\"https:\\/\\/pp.userapi.com\\/c849416\\/v849416683\\/ebdda\\/fXWzSs3pPks.jpg\",\"width\":260,\"height\":260},{\"type\":\"s\",\"url\":\"https:\\/\\/pp.userapi.com\\/c849416\\/v849416683\\/ebdd7\\/gwW3jfewuSw.jpg\",\"width\":75,\"height\":75},{\"type\":\"x\",\"url\":\"https:\\/\\/pp.userapi.com\\/c849416\\/v849416683\\/ebdd9\\/3nKk_eccw5U.jpg\",\"width\":150,\"height\":150}],\"text\":\"\",\"date\":1545645447},\"is_favorite\":false}},{\"type\":\"audio\",\"audio\":{\"id\":456242330,\"owner_id\":2000108669,\"artist\":\"Helfró\",\"title\":\"Ávöxtur Af Rotnu Tré\",\"duration\":25,\"date\":1545645447,\"url\":\"https:\\/\\/vk.com\\/mp3\\/audio_api_unavailable.mp3\",\"album_id\":2,\"is_hq\":true,\"track_code\":\"fe5231f0bvFd50d78IvN_LI4rhj_QYSJWnsjv7BTulemEueIR5RZygqqC0Wh1qu75WE\",\"is_explicit\":false}},{\"type\":\"audio\",\"audio\":{\"id\":456242664,\"owner_id\":2000107494,\"artist\":\"Helfró\",\"title\":\"Eldhjarta\",\"duration\":25,\"date\":1545645447,\"url\":\"https:\\/\\/vk.com\\/mp3\\/audio_api_unavailable.mp3\",\"album_id\":2,\"is_hq\":true,\"track_code\":\"cfff4083c0CWwz8GP-dNRyuDGgzLfk2nnU06-P8QhymOmXtauktEe8GOczhuuisAfNo\",\"is_explicit\":false}},{\"type\":\"audio\",\"audio\":{\"id\":456242731,\"owner_id\":2000106370,\"artist\":\"Helfró\",\"title\":\"Þrátt Fyrir Brennandi Vilja\",\"duration\":25,\"date\":1545645447,\"url\":\"https:\\/\\/vk.com\\/mp3\\/audio_api_unavailable.mp3\",\"album_id\":2,\"is_hq\":true,\"track_code\":\"c2bfa803c5px3TtWw8GFBdfOI08rYiI1Jd-mS16KCRuj1KTJJIxEoSaQd2iSnONCgJc\",\"is_explicit\":false}},{\"type\":\"audio\",\"audio\":{\"id\":456242760,\"owner_id\":2000106271,\"artist\":\"Helfró\",\"title\":\"Þegn Hinna Stundlegu Harma\",\"duration\":25,\"date\":1545645447,\"url\":\"https:\\/\\/vk.com\\/mp3\\/audio_api_unavailable.mp3\",\"album_id\":2,\"is_hq\":true,\"track_code\":\"8f08aa01e7AXeLduKEGBcYVHc0P9LISNPyh0YszSiEX5eVqYwkZMi0A1-1B5HOc20h4\",\"is_explicit\":false}},{\"type\":\"audio\",\"audio\":{\"id\":456242630,\"owner_id\":2000106940,\"artist\":\"Helfró\",\"title\":\"Hin Forboðna Alsæla\",\"duration\":25,\"date\":1545645447,\"url\":\"https:\\/\\/vk.com\\/mp3\\/audio_api_unavailable.mp3\",\"album_id\":2,\"is_hq\":true,\"track_code\":\"c2371ad5bmNOLyr2C5tl7XN35zwy_433DLqsh2SoZajvLsh6MyZZWBliZshaxgOqJC4\",\"is_explicit\":false}},{\"type\":\"audio\",\"audio\":{\"id\":456242868,\"owner_id\":2000106139,\"artist\":\"Helfró\",\"title\":\"Katrín\",\"duration\":25,\"date\":1545645447,\"url\":\"https:\\/\\/vk.com\\/mp3\\/audio_api_unavailable.mp3\",\"album_id\":2,\"is_hq\":true,\"track_code\":\"d395d9ce9uNT5QQxt_oGtR85TozOif-7_UA8G-R_66gB_GF30fHB2ASoSA_mp2DySGA\",\"is_explicit\":false}},{\"type\":\"audio\",\"audio\":{\"id\":456242283,\"owner_id\":2000108655,\"artist\":\"Helfró\",\"title\":\"Í Musteri Agans\",\"duration\":25,\"date\":1545645447,\"url\":\"https:\\/\\/vk.com\\/mp3\\/audio_api_unavailable.mp3\",\"album_id\":2,\"is_hq\":true,\"track_code\":\"90d39bc4q-6lSsZJsek4cqY4MNNGJ-Jryo7Flt4PrNuvEnM1O-mc1fIHinfgtF418WE\",\"is_explicit\":false}}],\"post_source\":{\"type\":\"vk\"}}],\"post_source\":{\"type\":\"api\",\"platform\":\"android\"},\"comments\":{\"count\":0,\"can_post\":0,\"groups_can_post\":true},\"likes\":{\"count\":0,\"user_likes\":0,\"can_like\":1,\"can_publish\":1},\"reposts\":{\"count\":0,\"user_reposted\":0},\"views\":{\"count\":111},\"is_favorite\":false},{\"id\":5044,\"from_id\":9316846,\"owner_id\":9316846,\"date\":1545041595,\"post_type\":\"post\",\"text\":\"\",\"copy_history\":[{\"id\":475,\"owner_id\":-78638925,\"from_id\":-78638925,\"date\":1545041460,\"post_type\":\"post\",\"text\":\"Hey, Folks! Смотрим тизер к альбому✌️ \\nРелиз уже совсем скоро)\",\"attachments\":[{\"type\":\"video\",\"video\":{\"id\":456239026,\"owner_id\":-78638925,\"title\":\"Крик Вильгельма - От Гленфиннана до Лондона 2019 (Тизер)\",\"duration\":190,\"description\":\"5 Января 2019 увидит свет первый полноформатный альбом группы Крик Вильгельма - \\\"От Гленфиннана до Лондона\\\"!!!\",\"date\":1544988020,\"comments\":0,\"views\":67,\"photo_130\":\"https:\\/\\/pp.userapi.com\\/c846019\\/v846019346\\/15125c\\/fxQtxvBGVjc.jpg\",\"photo_320\":\"https:\\/\\/pp.userapi.com\\/c846019\\/v846019346\\/15125e\\/ybAc2N6t7iQ.jpg\",\"photo_800\":\"https:\\/\\/pp.userapi.com\\/c846019\\/v846019346\\/15125f\\/0lKYmM10zsQ.jpg\",\"photo_640\":\"https:\\/\\/pp.userapi.com\\/c846019\\/v846019346\\/15125f\\/0lKYmM10zsQ.jpg\",\"is_favorite\":false,\"access_key\":\"c3e7aa60ca04f363b0\",\"platform\":\"YouTube\",\"can_add\":1,\"track_code\":\"video_63acb5f5ClLmaEcTAYv4ntvS_JgJqXB25Qn9cp4Ne2JFBcauiKY4df9ffw\"}}],\"post_source\":{\"type\":\"api\",\"platform\":\"iphone\"}}],\"post_source\":{\"type\":\"api\",\"platform\":\"android\"},\"comments\":{\"count\":0,\"can_post\":0,\"groups_can_post\":true},\"likes\":{\"count\":0,\"user_likes\":0,\"can_like\":1,\"can_publish\":1},\"reposts\":{\"count\":0,\"user_reposted\":0},\"views\":{\"count\":97},\"is_favorite\":false},{\"id\":5043,\"from_id\":9316846,\"owner_id\":9316846,\"date\":1544790975,\"post_type\":\"post\",\"text\":\"\",\"copy_history\":[{\"id\":48,\"owner_id\":-173529940,\"from_id\":-173529940,\"date\":1544766482,\"post_type\":\"post\",\"text\":\"Очередная веха на пути к кормлению червей пройдена! Представляем наш долгожданный новый альбом \\\"Evangelium Nihil\\\", который вышел сегодня на Non Serviam Records. \\n\\nзаказ диска с сайта: https:\\/\\/bit.ly\\/2zws7yB \\nBandcamp: https:\\/\\/bit.ly\\/2PGFFBL\",\"attachments\":[{\"type\":\"photo\",\"photo\":{\"id\":456239021,\"album_id\":-7,\"owner_id\":-173529940,\"user_id\":100,\"sizes\":[{\"type\":\"m\",\"url\":\"https:\\/\\/pp.userapi.com\\/c846420\\/v846420275\\/14e29d\\/3VdoNKqaKsw.jpg\",\"width\":130,\"height\":130},{\"type\":\"o\",\"url\":\"https:\\/\\/pp.userapi.com\\/c846420\\/v846420275\\/14e2a2\\/VBlxe4v8UHI.jpg\",\"width\":130,\"height\":130},{\"type\":\"p\",\"url\":\"https:\\/\\/pp.userapi.com\\/c846420\\/v846420275\\/14e2a3\\/57dbNBTqxdY.jpg\",\"width\":200,\"height\":200},{\"type\":\"q\",\"url\":\"https:\\/\\/pp.userapi.com\\/c846420\\/v846420275\\/14e2a4\\/XpmFAnXmIbI.jpg\",\"width\":320,\"height\":320},{\"type\":\"r\",\"url\":\"https:\\/\\/pp.userapi.com\\/c846420\\/v846420275\\/14e2a5\\/BJ8iMtpCy4g.jpg\",\"width\":510,\"height\":510},{\"type\":\"s\",\"url\":\"https:\\/\\/pp.userapi.com\\/c846420\\/v846420275\\/14e29c\\/ZwzGTWH4PEo.jpg\",\"width\":75,\"height\":75},{\"type\":\"w\",\"url\":\"https:\\/\\/pp.userapi.com\\/c846420\\/v846420275\\/14e2a1\\/EzSa6PraDLI.jpg\",\"width\":1400,\"height\":1400},{\"type\":\"x\",\"url\":\"https:\\/\\/pp.userapi.com\\/c846420\\/v846420275\\/14e29e\\/vsvw8j_ydo4.jpg\",\"width\":604,\"height\":604},{\"type\":\"y\",\"url\":\"https:\\/\\/pp.userapi.com\\/c846420\\/v846420275\\/14e29f\\/hkFtH3jycaE.jpg\",\"width\":807,\"height\":807},{\"type\":\"z\",\"url\":\"https:\\/\\/pp.userapi.com\\/c846420\\/v846420275\\/14e2a0\\/y7zngzio9aI.jpg\",\"width\":1080,\"height\":1080}],\"text\":\"\",\"date\":1544766482,\"post_id\":48,\"access_key\":\"4f529778eb3244892e\"}},{\"type\":\"audio\",\"audio\":{\"id\":456242946,\"owner_id\":2000085324,\"artist\":\"Comatose Vigil a.k.\",\"title\":\"Evangelium Nihil\",\"duration\":25,\"date\":1544766482,\"url\":\"https:\\/\\/vk.com\\/mp3\\/audio_api_unavailable.mp3\",\"genre_id\":7,\"is_hq\":true,\"track_code\":\"53591586UTegAKZ6vElxnM7fSlx8aYybfEorGMd8lIL4K5823hZnDvhN5iuAFRY\",\"is_explicit\":false}},{\"type\":\"audio\",\"audio\":{\"id\":456242298,\"owner_id\":2000088318,\"artist\":\"Comatose Vigil a.k.\",\"title\":\"Comatose Vigil\",\"duration\":25,\"date\":1544766482,\"url\":\"https:\\/\\/vk.com\\/mp3\\/audio_api_unavailable.mp3\",\"genre_id\":7,\"is_hq\":true,\"track_code\":\"29b603710JN70KMwB331Yw9FBWcjghLCGybFC0Ax1DF2GvrrS1TmqiOd42E7IZI\",\"is_explicit\":false}},{\"type\":\"audio\",\"audio\":{\"id\":456242660,\"owner_id\":2000086440,\"artist\":\"Comatose Vigil a.k.\",\"title\":\"Deus Sterilis\",\"duration\":25,\"date\":1544766482,\"url\":\"https:\\/\\/vk.com\\/mp3\\/audio_api_unavailable.mp3\",\"genre_id\":7,\"is_hq\":true,\"track_code\":\"8db75276gJ0G5PVA6sNPfMbWgsAnI9qLnER6N4roLIaeaf5f_He2pF6ptRHWnyg\",\"is_explicit\":false}},{\"type\":\"audio\",\"audio\":{\"id\":456242917,\"owner_id\":2000085582,\"artist\":\"Comatose Vigil a.k.\",\"title\":\"The Day Heaven Fell\",\"duration\":25,\"date\":1544766482,\"url\":\"https:\\/\\/vk.com\\/mp3\\/audio_api_unavailable.mp3\",\"genre_id\":7,\"is_hq\":true,\"track_code\":\"45db92fbG84_-hbFecxD6V81iHYfsmewvQwVoXEGOEhVHttwvuMt92e3VpRFkCQ\",\"is_explicit\":false}},{\"type\":\"link\",\"link\":{\"url\":\"https:\\/\\/bit.ly\\/2zws7yB\",\"title\":\"Non Serviam Records | Shop\",\"description\":\"Non Serviam Records is a Metal label and mailorder service, dedicated and independent label that reshapes the future of metal.\",\"target\":\"internal\",\"photo\":{\"id\":456261264,\"album_id\":-25,\"owner_id\":2000033756,\"sizes\":[{\"type\":\"a\",\"url\":\"https:\\/\\/pp.userapi.com\\/c847021\\/v847021275\\/1544f5\\/_KYsXSZVYHA.jpg\",\"width\":200,\"height\":89},{\"type\":\"b\",\"url\":\"https:\\/\\/pp.userapi.com\\/c847021\\/v847021275\\/1544f3\\/WFjwbT-Os74.jpg\",\"width\":400,\"height\":178},{\"type\":\"c\",\"url\":\"https:\\/\\/pp.userapi.com\\/c847021\\/v847021275\\/1544f7\\/568U_9-6wAA.jpg\",\"width\":200,\"height\":200},{\"type\":\"d\",\"url\":\"https:\\/\\/pp.userapi.com\\/c847021\\/v847021275\\/1544f8\\/E4LcN0p039o.jpg\",\"width\":100,\"height\":100},{\"type\":\"e\",\"url\":\"https:\\/\\/pp.userapi.com\\/c847021\\/v847021275\\/1544f9\\/AOATLTk9rgU.jpg\",\"width\":50,\"height\":50},{\"type\":\"k\",\"url\":\"https:\\/\\/pp.userapi.com\\/c847021\\/v847021275\\/1544f4\\/8nQIQqZ432w.jpg\",\"width\":1074,\"height\":478},{\"type\":\"l\",\"url\":\"https:\\/\\/pp.userapi.com\\/c847021\\/v847021275\\/1544f6\\/zP2IC552FMw.jpg\",\"width\":537,\"height\":240},{\"type\":\"o\",\"url\":\"https:\\/\\/pp.userapi.com\\/c847021\\/v847021275\\/1544f2\\/PGmln-bypu8.jpg\",\"width\":2560,\"height\":1140}],\"text\":\"\",\"date\":1544766482},\"is_favorite\":false}}],\"post_source\":{\"type\":\"vk\"}}],\"post_source\":{\"type\":\"api\",\"platform\":\"android\"},\"comments\":{\"count\":0,\"can_post\":0,\"groups_can_post\":true},\"likes\":{\"count\":1,\"user_likes\":0,\"can_like\":1,\"can_publish\":1},\"reposts\":{\"count\":0,\"user_reposted\":0},\"views\":{\"count\":120},\"is_favorite\":false}]}}\n",
      "639\n",
      "640\n",
      "641\n",
      "642\n",
      "643\n",
      "644\n",
      "645\n",
      "646\n",
      "647\n",
      "648\n",
      "649\n",
      "650\n",
      "651\n",
      "652\n",
      "653\n",
      "654\n",
      "retry\n",
      "{\"error\":{\"error_code\":30,\"error_msg\":\"This profile is private\",\"request_params\":[{\"key\":\"oauth\",\"value\":\"1\"},{\"key\":\"method\",\"value\":\"wall.get\"},{\"key\":\"owner_id\",\"value\":\"10922202\"},{\"key\":\"v\",\"value\":\"5.92\"}]}}\n",
      "655\n",
      "656\n",
      "retry\n",
      "{\"error\":{\"error_code\":30,\"error_msg\":\"This profile is private\",\"request_params\":[{\"key\":\"oauth\",\"value\":\"1\"},{\"key\":\"method\",\"value\":\"wall.get\"},{\"key\":\"owner_id\",\"value\":\"11075138\"},{\"key\":\"v\",\"value\":\"5.92\"}]}}\n",
      "657\n",
      "658\n",
      "659\n",
      "660\n",
      "661\n",
      "662\n",
      "663\n",
      "retry\n",
      "{\"error\":{\"error_code\":30,\"error_msg\":\"This profile is private\",\"request_params\":[{\"key\":\"oauth\",\"value\":\"1\"},{\"key\":\"method\",\"value\":\"wall.get\"},{\"key\":\"owner_id\",\"value\":\"11466860\"},{\"key\":\"v\",\"value\":\"5.92\"}]}}\n",
      "664\n",
      "665\n",
      "666\n",
      "retry\n",
      "{\"error\":{\"error_code\":30,\"error_msg\":\"This profile is private\",\"request_params\":[{\"key\":\"oauth\",\"value\":\"1\"},{\"key\":\"method\",\"value\":\"wall.get\"},{\"key\":\"owner_id\",\"value\":\"11592917\"},{\"key\":\"v\",\"value\":\"5.92\"}]}}\n",
      "667\n",
      "668\n",
      "669\n",
      "670\n",
      "671\n",
      "672\n",
      "retry\n",
      "{\"error\":{\"error_code\":30,\"error_msg\":\"This profile is private\",\"request_params\":[{\"key\":\"oauth\",\"value\":\"1\"},{\"key\":\"method\",\"value\":\"wall.get\"},{\"key\":\"owner_id\",\"value\":\"12300428\"},{\"key\":\"v\",\"value\":\"5.92\"}]}}\n",
      "673\n",
      "674\n",
      "675\n",
      "676\n",
      "677\n",
      "678\n",
      "679\n",
      "680\n",
      "681\n",
      "682\n",
      "683\n",
      "684\n",
      "685\n",
      "686\n",
      "retry\n",
      "{\"error\":{\"error_code\":30,\"error_msg\":\"This profile is private\",\"request_params\":[{\"key\":\"oauth\",\"value\":\"1\"},{\"key\":\"method\",\"value\":\"wall.get\"},{\"key\":\"owner_id\",\"value\":\"13940170\"},{\"key\":\"v\",\"value\":\"5.92\"}]}}\n",
      "687\n",
      "688\n",
      "689\n",
      "690\n",
      "691\n",
      "692\n",
      "retry\n",
      "{\"error\":{\"error_code\":30,\"error_msg\":\"This profile is private\",\"request_params\":[{\"key\":\"oauth\",\"value\":\"1\"},{\"key\":\"method\",\"value\":\"wall.get\"},{\"key\":\"owner_id\",\"value\":\"14554904\"},{\"key\":\"v\",\"value\":\"5.92\"}]}}\n",
      "693\n",
      "694\n",
      "695\n",
      "696\n",
      "697\n",
      "698\n",
      "699\n",
      "700\n",
      "701\n",
      "702\n",
      "703\n",
      "704\n",
      "705\n",
      "706\n",
      "707\n",
      "708\n",
      "709\n",
      "710\n",
      "711\n",
      "712\n",
      "713\n",
      "714\n",
      "715\n",
      "716\n",
      "717\n",
      "718\n",
      "retry\n",
      "{\"error\":{\"error_code\":30,\"error_msg\":\"This profile is private\",\"request_params\":[{\"key\":\"oauth\",\"value\":\"1\"},{\"key\":\"method\",\"value\":\"wall.get\"},{\"key\":\"owner_id\",\"value\":\"16766312\"},{\"key\":\"v\",\"value\":\"5.92\"}]}}\n",
      "719\n",
      "720\n",
      "721\n",
      "722\n",
      "723\n",
      "724\n",
      "725\n",
      "726\n",
      "727\n",
      "728\n",
      "729\n",
      "730\n",
      "731\n",
      "732\n",
      "733\n",
      "734\n",
      "735\n",
      "retry\n",
      "{\"error\":{\"error_code\":30,\"error_msg\":\"This profile is private\",\"request_params\":[{\"key\":\"oauth\",\"value\":\"1\"},{\"key\":\"method\",\"value\":\"wall.get\"},{\"key\":\"owner_id\",\"value\":\"19480880\"},{\"key\":\"v\",\"value\":\"5.92\"}]}}\n",
      "736\n",
      "737\n",
      "738\n",
      "739\n",
      "740\n",
      "741\n",
      "742\n",
      "743\n",
      "744\n",
      "745\n",
      "746\n",
      "747\n",
      "748\n",
      "749\n",
      "750\n",
      "751\n",
      "752\n",
      "753\n",
      "754\n",
      "retry\n",
      "{\"error\":{\"error_code\":30,\"error_msg\":\"This profile is private\",\"request_params\":[{\"key\":\"oauth\",\"value\":\"1\"},{\"key\":\"method\",\"value\":\"wall.get\"},{\"key\":\"owner_id\",\"value\":\"22225764\"},{\"key\":\"v\",\"value\":\"5.92\"}]}}\n",
      "755\n",
      "retry\n",
      "{\"error\":{\"error_code\":30,\"error_msg\":\"This profile is private\",\"request_params\":[{\"key\":\"oauth\",\"value\":\"1\"},{\"key\":\"method\",\"value\":\"wall.get\"},{\"key\":\"owner_id\",\"value\":\"22254243\"},{\"key\":\"v\",\"value\":\"5.92\"}]}}\n",
      "756\n",
      "757\n",
      "758\n",
      "759\n",
      "760\n",
      "761\n",
      "762\n",
      "763\n",
      "764\n",
      "765\n",
      "766\n",
      "retry\n",
      "{\"error\":{\"error_code\":30,\"error_msg\":\"This profile is private\",\"request_params\":[{\"key\":\"oauth\",\"value\":\"1\"},{\"key\":\"method\",\"value\":\"wall.get\"},{\"key\":\"owner_id\",\"value\":\"24613541\"},{\"key\":\"v\",\"value\":\"5.92\"}]}}\n",
      "767\n",
      "768\n",
      "769\n",
      "770\n",
      "retry\n",
      "{\"error\":{\"error_code\":30,\"error_msg\":\"This profile is private\",\"request_params\":[{\"key\":\"oauth\",\"value\":\"1\"},{\"key\":\"method\",\"value\":\"wall.get\"},{\"key\":\"owner_id\",\"value\":\"25566912\"},{\"key\":\"v\",\"value\":\"5.92\"}]}}\n",
      "771\n",
      "772\n",
      "773\n",
      "774\n",
      "775\n",
      "776\n",
      "777\n",
      "778\n",
      "779\n",
      "780\n",
      "781\n",
      "782\n",
      "783\n",
      "retry\n",
      "{\"error\":{\"error_code\":30,\"error_msg\":\"This profile is private\",\"request_params\":[{\"key\":\"oauth\",\"value\":\"1\"},{\"key\":\"method\",\"value\":\"wall.get\"},{\"key\":\"owner_id\",\"value\":\"27511808\"},{\"key\":\"v\",\"value\":\"5.92\"}]}}\n",
      "784\n",
      "785\n",
      "786\n",
      "787\n",
      "788\n",
      "789\n",
      "790\n",
      "791\n",
      "792\n",
      "793\n",
      "794\n",
      "795\n",
      "retry\n",
      "{\"error\":{\"error_code\":30,\"error_msg\":\"This profile is private\",\"request_params\":[{\"key\":\"oauth\",\"value\":\"1\"},{\"key\":\"method\",\"value\":\"wall.get\"},{\"key\":\"owner_id\",\"value\":\"32675417\"},{\"key\":\"v\",\"value\":\"5.92\"}]}}\n",
      "796\n",
      "retry\n",
      "{\"error\":{\"error_code\":30,\"error_msg\":\"This profile is private\",\"request_params\":[{\"key\":\"oauth\",\"value\":\"1\"},{\"key\":\"method\",\"value\":\"wall.get\"},{\"key\":\"owner_id\",\"value\":\"32887473\"},{\"key\":\"v\",\"value\":\"5.92\"}]}}\n",
      "797\n",
      "798\n",
      "799\n",
      "800\n",
      "801\n",
      "802\n",
      "803\n"
     ]
    }
   ],
   "source": [
    "storage = FileStorage('wall')\n",
    "\n",
    "scrap_process(storage, urls, None)"
   ]
  },
  {
   "cell_type": "code",
   "execution_count": 137,
   "metadata": {},
   "outputs": [],
   "source": [
    "def parse(data_file, filters):\n",
    "        rows = []\n",
    "        for line in data_file.read_data():\n",
    "            array_json = json.loads(line)\n",
    "            for responce in array_json:\n",
    "\n",
    "                for news in responce['response']['items']:\n",
    "                    row = filters.parse(news)\n",
    "                    rows.append(row)\n",
    "        return rows"
   ]
  },
  {
   "cell_type": "code",
   "execution_count": 138,
   "metadata": {},
   "outputs": [],
   "source": [
    "columns = ['owner_id', 'text']\n",
    "filter_parser = FilterParser(columns)\n",
    "json_parser = JsonParser(filter_parser)\n",
    "\n",
    "storage = FileStorage('wall')\n",
    "parsed_data = parse(storage, filter_parser)\n",
    "df = pd.DataFrame(data=parsed_data, columns=columns)\n",
    "df.to_csv('wall.csv')    "
   ]
  },
  {
   "cell_type": "markdown",
   "metadata": {},
   "source": [
    "Посмотрим сколько есть заполненных id"
   ]
  },
  {
   "cell_type": "code",
   "execution_count": 163,
   "metadata": {},
   "outputs": [],
   "source": [
    "df_wall = pd.read_csv('wall.csv')"
   ]
  },
  {
   "cell_type": "code",
   "execution_count": 164,
   "metadata": {},
   "outputs": [
    {
     "data": {
      "text/html": [
       "<div>\n",
       "<style scoped>\n",
       "    .dataframe tbody tr th:only-of-type {\n",
       "        vertical-align: middle;\n",
       "    }\n",
       "\n",
       "    .dataframe tbody tr th {\n",
       "        vertical-align: top;\n",
       "    }\n",
       "\n",
       "    .dataframe thead th {\n",
       "        text-align: right;\n",
       "    }\n",
       "</style>\n",
       "<table border=\"1\" class=\"dataframe\">\n",
       "  <thead>\n",
       "    <tr style=\"text-align: right;\">\n",
       "      <th></th>\n",
       "      <th>Unnamed: 0</th>\n",
       "      <th>owner_id</th>\n",
       "      <th>text</th>\n",
       "    </tr>\n",
       "  </thead>\n",
       "  <tbody>\n",
       "    <tr>\n",
       "      <th>0</th>\n",
       "      <td>0</td>\n",
       "      <td>255</td>\n",
       "      <td>😱</td>\n",
       "    </tr>\n",
       "  </tbody>\n",
       "</table>\n",
       "</div>"
      ],
      "text/plain": [
       "   Unnamed: 0  owner_id text\n",
       "0           0       255    😱"
      ]
     },
     "execution_count": 164,
     "metadata": {},
     "output_type": "execute_result"
    }
   ],
   "source": [
    "df_wall.head(1)"
   ]
  },
  {
   "cell_type": "code",
   "execution_count": 165,
   "metadata": {},
   "outputs": [
    {
     "data": {
      "text/plain": [
       "(340,)"
      ]
     },
     "execution_count": 165,
     "metadata": {},
     "output_type": "execute_result"
    }
   ],
   "source": [
    "df_wall['owner_id'].unique().shape"
   ]
  },
  {
   "cell_type": "code",
   "execution_count": 166,
   "metadata": {},
   "outputs": [],
   "source": [
    "df_wall.dropna(subset=['text'], inplace = True)"
   ]
  },
  {
   "cell_type": "code",
   "execution_count": 167,
   "metadata": {},
   "outputs": [
    {
     "data": {
      "text/plain": [
       "(4332, 3)"
      ]
     },
     "execution_count": 167,
     "metadata": {},
     "output_type": "execute_result"
    }
   ],
   "source": [
    "df_wall.shape"
   ]
  },
  {
   "cell_type": "code",
   "execution_count": 150,
   "metadata": {},
   "outputs": [
    {
     "data": {
      "text/plain": [
       "(303,)"
      ]
     },
     "execution_count": 150,
     "metadata": {},
     "output_type": "execute_result"
    }
   ],
   "source": [
    "df_wall['owner_id'].unique().shape"
   ]
  },
  {
   "cell_type": "markdown",
   "metadata": {},
   "source": [
    "Теперь у нас 303 записи"
   ]
  },
  {
   "cell_type": "code",
   "execution_count": 153,
   "metadata": {},
   "outputs": [
    {
     "data": {
      "text/html": [
       "<div>\n",
       "<style scoped>\n",
       "    .dataframe tbody tr th:only-of-type {\n",
       "        vertical-align: middle;\n",
       "    }\n",
       "\n",
       "    .dataframe tbody tr th {\n",
       "        vertical-align: top;\n",
       "    }\n",
       "\n",
       "    .dataframe thead th {\n",
       "        text-align: right;\n",
       "    }\n",
       "</style>\n",
       "<table border=\"1\" class=\"dataframe\">\n",
       "  <thead>\n",
       "    <tr style=\"text-align: right;\">\n",
       "      <th></th>\n",
       "      <th>Unnamed: 0</th>\n",
       "      <th>id</th>\n",
       "      <th>sex</th>\n",
       "      <th>city.title</th>\n",
       "      <th>country.title</th>\n",
       "      <th>bdate</th>\n",
       "      <th>about</th>\n",
       "    </tr>\n",
       "  </thead>\n",
       "  <tbody>\n",
       "    <tr>\n",
       "      <th>0</th>\n",
       "      <td>0</td>\n",
       "      <td>255</td>\n",
       "      <td>2</td>\n",
       "      <td>Санкт-Петербург</td>\n",
       "      <td>Россия</td>\n",
       "      <td>3.7.1985</td>\n",
       "      <td>NaN</td>\n",
       "    </tr>\n",
       "  </tbody>\n",
       "</table>\n",
       "</div>"
      ],
      "text/plain": [
       "   Unnamed: 0   id  sex       city.title country.title     bdate about\n",
       "0           0  255    2  Санкт-Петербург        Россия  3.7.1985   NaN"
      ]
     },
     "execution_count": 153,
     "metadata": {},
     "output_type": "execute_result"
    }
   ],
   "source": [
    "df_bd.head(1)"
   ]
  },
  {
   "cell_type": "code",
   "execution_count": 154,
   "metadata": {},
   "outputs": [],
   "source": [
    "df_info = df_bd[df_bd['id'].isin(df_wall['owner_id'].unique())]"
   ]
  },
  {
   "cell_type": "code",
   "execution_count": 156,
   "metadata": {},
   "outputs": [
    {
     "data": {
      "text/plain": [
       "(606, 7)"
      ]
     },
     "execution_count": 156,
     "metadata": {},
     "output_type": "execute_result"
    }
   ],
   "source": [
    "df_info.shape"
   ]
  },
  {
   "cell_type": "code",
   "execution_count": 157,
   "metadata": {},
   "outputs": [
    {
     "name": "stderr",
     "output_type": "stream",
     "text": [
      "C:\\javasdk\\anakonda\\lib\\site-packages\\ipykernel_launcher.py:1: SettingWithCopyWarning: \n",
      "A value is trying to be set on a copy of a slice from a DataFrame\n",
      "\n",
      "See the caveats in the documentation: http://pandas.pydata.org/pandas-docs/stable/indexing.html#indexing-view-versus-copy\n",
      "  \"\"\"Entry point for launching an IPython kernel.\n"
     ]
    }
   ],
   "source": [
    "df_info.drop_duplicates(subset=['id'], inplace =True)"
   ]
  },
  {
   "cell_type": "code",
   "execution_count": 159,
   "metadata": {},
   "outputs": [
    {
     "data": {
      "text/plain": [
       "(303, 7)"
      ]
     },
     "execution_count": 159,
     "metadata": {},
     "output_type": "execute_result"
    }
   ],
   "source": [
    "df_info.shape"
   ]
  },
  {
   "cell_type": "code",
   "execution_count": 160,
   "metadata": {},
   "outputs": [
    {
     "data": {
      "text/html": [
       "<div>\n",
       "<style scoped>\n",
       "    .dataframe tbody tr th:only-of-type {\n",
       "        vertical-align: middle;\n",
       "    }\n",
       "\n",
       "    .dataframe tbody tr th {\n",
       "        vertical-align: top;\n",
       "    }\n",
       "\n",
       "    .dataframe thead th {\n",
       "        text-align: right;\n",
       "    }\n",
       "</style>\n",
       "<table border=\"1\" class=\"dataframe\">\n",
       "  <thead>\n",
       "    <tr style=\"text-align: right;\">\n",
       "      <th></th>\n",
       "      <th>Unnamed: 0</th>\n",
       "      <th>owner_id</th>\n",
       "      <th>text</th>\n",
       "    </tr>\n",
       "  </thead>\n",
       "  <tbody>\n",
       "    <tr>\n",
       "      <th>0</th>\n",
       "      <td>0</td>\n",
       "      <td>255</td>\n",
       "      <td>😱</td>\n",
       "    </tr>\n",
       "  </tbody>\n",
       "</table>\n",
       "</div>"
      ],
      "text/plain": [
       "   Unnamed: 0  owner_id text\n",
       "0           0       255    😱"
      ]
     },
     "execution_count": 160,
     "metadata": {},
     "output_type": "execute_result"
    }
   ],
   "source": [
    "df_wall.head(1)"
   ]
  },
  {
   "cell_type": "code",
   "execution_count": 172,
   "metadata": {},
   "outputs": [],
   "source": [
    "df_wall.drop_duplicates(subset=['text', 'owner_id'], inplace =True)"
   ]
  },
  {
   "cell_type": "code",
   "execution_count": 173,
   "metadata": {},
   "outputs": [
    {
     "data": {
      "text/plain": [
       "(2127, 3)"
      ]
     },
     "execution_count": 173,
     "metadata": {},
     "output_type": "execute_result"
    }
   ],
   "source": [
    "df_wall.shape"
   ]
  },
  {
   "cell_type": "code",
   "execution_count": 175,
   "metadata": {},
   "outputs": [
    {
     "data": {
      "text/plain": [
       "(2094,)"
      ]
     },
     "execution_count": 175,
     "metadata": {},
     "output_type": "execute_result"
    }
   ],
   "source": [
    "df_wall['text'].unique().shape"
   ]
  },
  {
   "cell_type": "code",
   "execution_count": 176,
   "metadata": {},
   "outputs": [
    {
     "data": {
      "text/plain": [
       "(303,)"
      ]
     },
     "execution_count": 176,
     "metadata": {},
     "output_type": "execute_result"
    }
   ],
   "source": [
    "df_wall['owner_id'].unique().shape"
   ]
  },
  {
   "cell_type": "markdown",
   "metadata": {},
   "source": [
    "Теперь подготовим пол и возраст, чтобы определиться, что мы будем предсказывать"
   ]
  },
  {
   "cell_type": "code",
   "execution_count": 177,
   "metadata": {},
   "outputs": [
    {
     "data": {
      "text/html": [
       "<div>\n",
       "<style scoped>\n",
       "    .dataframe tbody tr th:only-of-type {\n",
       "        vertical-align: middle;\n",
       "    }\n",
       "\n",
       "    .dataframe tbody tr th {\n",
       "        vertical-align: top;\n",
       "    }\n",
       "\n",
       "    .dataframe thead th {\n",
       "        text-align: right;\n",
       "    }\n",
       "</style>\n",
       "<table border=\"1\" class=\"dataframe\">\n",
       "  <thead>\n",
       "    <tr style=\"text-align: right;\">\n",
       "      <th></th>\n",
       "      <th>Unnamed: 0</th>\n",
       "      <th>id</th>\n",
       "      <th>sex</th>\n",
       "      <th>city.title</th>\n",
       "      <th>country.title</th>\n",
       "      <th>bdate</th>\n",
       "      <th>about</th>\n",
       "    </tr>\n",
       "  </thead>\n",
       "  <tbody>\n",
       "    <tr>\n",
       "      <th>0</th>\n",
       "      <td>0</td>\n",
       "      <td>255</td>\n",
       "      <td>2</td>\n",
       "      <td>Санкт-Петербург</td>\n",
       "      <td>Россия</td>\n",
       "      <td>3.7.1985</td>\n",
       "      <td>NaN</td>\n",
       "    </tr>\n",
       "  </tbody>\n",
       "</table>\n",
       "</div>"
      ],
      "text/plain": [
       "   Unnamed: 0   id  sex       city.title country.title     bdate about\n",
       "0           0  255    2  Санкт-Петербург        Россия  3.7.1985   NaN"
      ]
     },
     "execution_count": 177,
     "metadata": {},
     "output_type": "execute_result"
    }
   ],
   "source": [
    "df_info.head(1)"
   ]
  },
  {
   "cell_type": "code",
   "execution_count": 180,
   "metadata": {},
   "outputs": [
    {
     "name": "stdout",
     "output_type": "stream",
     "text": [
      "<class 'pandas.core.frame.DataFrame'>\n",
      "Int64Index: 303 entries, 0 to 999\n",
      "Data columns (total 7 columns):\n",
      "Unnamed: 0       303 non-null int64\n",
      "id               303 non-null int64\n",
      "sex              303 non-null int64\n",
      "city.title       284 non-null object\n",
      "country.title    294 non-null object\n",
      "bdate            303 non-null object\n",
      "about            39 non-null object\n",
      "dtypes: int64(3), object(4)\n",
      "memory usage: 18.9+ KB\n"
     ]
    }
   ],
   "source": [
    "df_info.info()"
   ]
  },
  {
   "cell_type": "markdown",
   "metadata": {},
   "source": [
    "Закодируем пол как число"
   ]
  },
  {
   "cell_type": "code",
   "execution_count": 181,
   "metadata": {},
   "outputs": [
    {
     "name": "stderr",
     "output_type": "stream",
     "text": [
      "C:\\javasdk\\anakonda\\lib\\site-packages\\ipykernel_launcher.py:1: SettingWithCopyWarning: \n",
      "A value is trying to be set on a copy of a slice from a DataFrame.\n",
      "Try using .loc[row_indexer,col_indexer] = value instead\n",
      "\n",
      "See the caveats in the documentation: http://pandas.pydata.org/pandas-docs/stable/indexing.html#indexing-view-versus-copy\n",
      "  \"\"\"Entry point for launching an IPython kernel.\n"
     ]
    }
   ],
   "source": [
    "df_info['sex'] = df_info['sex'].astype(int)"
   ]
  },
  {
   "cell_type": "code",
   "execution_count": 182,
   "metadata": {},
   "outputs": [
    {
     "name": "stdout",
     "output_type": "stream",
     "text": [
      "<class 'pandas.core.frame.DataFrame'>\n",
      "Int64Index: 303 entries, 0 to 999\n",
      "Data columns (total 7 columns):\n",
      "Unnamed: 0       303 non-null int64\n",
      "id               303 non-null int64\n",
      "sex              303 non-null int32\n",
      "city.title       284 non-null object\n",
      "country.title    294 non-null object\n",
      "bdate            303 non-null object\n",
      "about            39 non-null object\n",
      "dtypes: int32(1), int64(2), object(4)\n",
      "memory usage: 17.8+ KB\n"
     ]
    }
   ],
   "source": [
    "df_info.info()"
   ]
  },
  {
   "cell_type": "markdown",
   "metadata": {},
   "source": [
    "теперь год"
   ]
  },
  {
   "cell_type": "code",
   "execution_count": 190,
   "metadata": {},
   "outputs": [
    {
     "name": "stderr",
     "output_type": "stream",
     "text": [
      "C:\\javasdk\\anakonda\\lib\\site-packages\\ipykernel_launcher.py:1: SettingWithCopyWarning: \n",
      "A value is trying to be set on a copy of a slice from a DataFrame.\n",
      "Try using .loc[row_indexer,col_indexer] = value instead\n",
      "\n",
      "See the caveats in the documentation: http://pandas.pydata.org/pandas-docs/stable/indexing.html#indexing-view-versus-copy\n",
      "  \"\"\"Entry point for launching an IPython kernel.\n"
     ]
    }
   ],
   "source": [
    "df_info['bdate'] = df_info['bdate'].str.slice(-4).astype(int)"
   ]
  },
  {
   "cell_type": "code",
   "execution_count": 191,
   "metadata": {},
   "outputs": [
    {
     "name": "stdout",
     "output_type": "stream",
     "text": [
      "<class 'pandas.core.frame.DataFrame'>\n",
      "Int64Index: 303 entries, 0 to 999\n",
      "Data columns (total 7 columns):\n",
      "Unnamed: 0       303 non-null int64\n",
      "id               303 non-null int64\n",
      "sex              303 non-null int32\n",
      "city.title       284 non-null object\n",
      "country.title    294 non-null object\n",
      "bdate            303 non-null int32\n",
      "about            39 non-null object\n",
      "dtypes: int32(2), int64(2), object(3)\n",
      "memory usage: 16.6+ KB\n"
     ]
    }
   ],
   "source": [
    "df_info.info()"
   ]
  },
  {
   "cell_type": "code",
   "execution_count": 195,
   "metadata": {},
   "outputs": [
    {
     "data": {
      "text/html": [
       "<div>\n",
       "<style scoped>\n",
       "    .dataframe tbody tr th:only-of-type {\n",
       "        vertical-align: middle;\n",
       "    }\n",
       "\n",
       "    .dataframe tbody tr th {\n",
       "        vertical-align: top;\n",
       "    }\n",
       "\n",
       "    .dataframe thead th {\n",
       "        text-align: right;\n",
       "    }\n",
       "</style>\n",
       "<table border=\"1\" class=\"dataframe\">\n",
       "  <thead>\n",
       "    <tr style=\"text-align: right;\">\n",
       "      <th></th>\n",
       "      <th>Unnamed: 0</th>\n",
       "      <th>id</th>\n",
       "      <th>sex</th>\n",
       "      <th>city.title</th>\n",
       "      <th>country.title</th>\n",
       "      <th>bdate</th>\n",
       "      <th>about</th>\n",
       "    </tr>\n",
       "  </thead>\n",
       "  <tbody>\n",
       "    <tr>\n",
       "      <th>0</th>\n",
       "      <td>0</td>\n",
       "      <td>255</td>\n",
       "      <td>2</td>\n",
       "      <td>Санкт-Петербург</td>\n",
       "      <td>Россия</td>\n",
       "      <td>1985</td>\n",
       "      <td>NaN</td>\n",
       "    </tr>\n",
       "  </tbody>\n",
       "</table>\n",
       "</div>"
      ],
      "text/plain": [
       "   Unnamed: 0   id  sex       city.title country.title  bdate about\n",
       "0           0  255    2  Санкт-Петербург        Россия   1985   NaN"
      ]
     },
     "execution_count": 195,
     "metadata": {},
     "output_type": "execute_result"
    }
   ],
   "source": [
    "df_info.head(1)"
   ]
  },
  {
   "cell_type": "code",
   "execution_count": 196,
   "metadata": {},
   "outputs": [
    {
     "name": "stdout",
     "output_type": "stream",
     "text": [
      "Populating the interactive namespace from numpy and matplotlib\n"
     ]
    },
    {
     "name": "stderr",
     "output_type": "stream",
     "text": [
      "C:\\javasdk\\anakonda\\lib\\site-packages\\IPython\\core\\magics\\pylab.py:160: UserWarning: pylab import has clobbered these variables: ['f']\n",
      "`%matplotlib` prevents importing * from pylab and numpy\n",
      "  \"\\n`%matplotlib` prevents importing * from pylab and numpy\"\n"
     ]
    }
   ],
   "source": [
    "%pylab inline"
   ]
  },
  {
   "cell_type": "code",
   "execution_count": 197,
   "metadata": {},
   "outputs": [
    {
     "data": {
      "text/plain": [
       "<matplotlib.axes._subplots.AxesSubplot at 0x1e4ca3daba8>"
      ]
     },
     "execution_count": 197,
     "metadata": {},
     "output_type": "execute_result"
    },
    {
     "data": {
      "image/png": "[encoded data removed]",
      "text/plain": [
       "<Figure size 432x288 with 1 Axes>"
      ]
     },
     "metadata": {},
     "output_type": "display_data"
    }
   ],
   "source": [
    "df_info['sex'].hist()"
   ]
  },
  {
   "cell_type": "code",
   "execution_count": 201,
   "metadata": {},
   "outputs": [
    {
     "data": {
      "text/plain": [
       "<matplotlib.axes._subplots.AxesSubplot at 0x1e4c4addcf8>"
      ]
     },
     "execution_count": 201,
     "metadata": {},
     "output_type": "execute_result"
    },
    {
     "data": {
      "image/png": "[encoded data removed]",
      "text/plain": [
       "<Figure size 432x288 with 1 Axes>"
      ]
     },
     "metadata": {},
     "output_type": "display_data"
    }
   ],
   "source": [
    "df_info.boxplot(column=['bdate'])"
   ]
  },
  {
   "cell_type": "code",
   "execution_count": 203,
   "metadata": {},
   "outputs": [
    {
     "data": {
      "text/html": [
       "<div>\n",
       "<style scoped>\n",
       "    .dataframe tbody tr th:only-of-type {\n",
       "        vertical-align: middle;\n",
       "    }\n",
       "\n",
       "    .dataframe tbody tr th {\n",
       "        vertical-align: top;\n",
       "    }\n",
       "\n",
       "    .dataframe thead th {\n",
       "        text-align: right;\n",
       "    }\n",
       "</style>\n",
       "<table border=\"1\" class=\"dataframe\">\n",
       "  <thead>\n",
       "    <tr style=\"text-align: right;\">\n",
       "      <th></th>\n",
       "      <th>Unnamed: 0</th>\n",
       "      <th>id</th>\n",
       "      <th>sex</th>\n",
       "      <th>bdate</th>\n",
       "    </tr>\n",
       "  </thead>\n",
       "  <tbody>\n",
       "    <tr>\n",
       "      <th>count</th>\n",
       "      <td>303.000000</td>\n",
       "      <td>3.030000e+02</td>\n",
       "      <td>303.000000</td>\n",
       "      <td>303.000000</td>\n",
       "    </tr>\n",
       "    <tr>\n",
       "      <th>mean</th>\n",
       "      <td>505.211221</td>\n",
       "      <td>1.008508e+07</td>\n",
       "      <td>1.818482</td>\n",
       "      <td>1985.778878</td>\n",
       "    </tr>\n",
       "    <tr>\n",
       "      <th>std</th>\n",
       "      <td>289.176740</td>\n",
       "      <td>9.182631e+06</td>\n",
       "      <td>0.386085</td>\n",
       "      <td>10.014259</td>\n",
       "    </tr>\n",
       "    <tr>\n",
       "      <th>min</th>\n",
       "      <td>0.000000</td>\n",
       "      <td>2.550000e+02</td>\n",
       "      <td>1.000000</td>\n",
       "      <td>1902.000000</td>\n",
       "    </tr>\n",
       "    <tr>\n",
       "      <th>25%</th>\n",
       "      <td>248.000000</td>\n",
       "      <td>2.404987e+06</td>\n",
       "      <td>2.000000</td>\n",
       "      <td>1983.000000</td>\n",
       "    </tr>\n",
       "    <tr>\n",
       "      <th>50%</th>\n",
       "      <td>510.000000</td>\n",
       "      <td>7.046133e+06</td>\n",
       "      <td>2.000000</td>\n",
       "      <td>1987.000000</td>\n",
       "    </tr>\n",
       "    <tr>\n",
       "      <th>75%</th>\n",
       "      <td>762.500000</td>\n",
       "      <td>1.596742e+07</td>\n",
       "      <td>2.000000</td>\n",
       "      <td>1991.000000</td>\n",
       "    </tr>\n",
       "    <tr>\n",
       "      <th>max</th>\n",
       "      <td>999.000000</td>\n",
       "      <td>3.475946e+07</td>\n",
       "      <td>2.000000</td>\n",
       "      <td>1998.000000</td>\n",
       "    </tr>\n",
       "  </tbody>\n",
       "</table>\n",
       "</div>"
      ],
      "text/plain": [
       "       Unnamed: 0            id         sex        bdate\n",
       "count  303.000000  3.030000e+02  303.000000   303.000000\n",
       "mean   505.211221  1.008508e+07    1.818482  1985.778878\n",
       "std    289.176740  9.182631e+06    0.386085    10.014259\n",
       "min      0.000000  2.550000e+02    1.000000  1902.000000\n",
       "25%    248.000000  2.404987e+06    2.000000  1983.000000\n",
       "50%    510.000000  7.046133e+06    2.000000  1987.000000\n",
       "75%    762.500000  1.596742e+07    2.000000  1991.000000\n",
       "max    999.000000  3.475946e+07    2.000000  1998.000000"
      ]
     },
     "execution_count": 203,
     "metadata": {},
     "output_type": "execute_result"
    }
   ],
   "source": [
    "df_info.describe()"
   ]
  },
  {
   "cell_type": "code",
   "execution_count": 213,
   "metadata": {},
   "outputs": [
    {
     "data": {
      "text/plain": [
       "(array([ 2.,  0.,  0.,  0.,  0.,  1.,  0.,  0.,  0.,  0.,  0.,  0.,  0.,\n",
       "         0.,  0.,  0.,  2.,  0.,  0.,  1.,  3.,  4.,  5., 10., 27., 57.,\n",
       "        66., 63., 45., 17.]),\n",
       " array([1902. , 1905.2, 1908.4, 1911.6, 1914.8, 1918. , 1921.2, 1924.4,\n",
       "        1927.6, 1930.8, 1934. , 1937.2, 1940.4, 1943.6, 1946.8, 1950. ,\n",
       "        1953.2, 1956.4, 1959.6, 1962.8, 1966. , 1969.2, 1972.4, 1975.6,\n",
       "        1978.8, 1982. , 1985.2, 1988.4, 1991.6, 1994.8, 1998. ]),\n",
       " <a list of 30 Patch objects>)"
      ]
     },
     "execution_count": 213,
     "metadata": {},
     "output_type": "execute_result"
    },
    {
     "data": {
      "image/png": "[encoded data removed]",
      "text/plain": [
       "<Figure size 432x288 with 1 Axes>"
      ]
     },
     "metadata": {},
     "output_type": "display_data"
    }
   ],
   "source": [
    "plt.hist(df_info['bdate'], bins=30)"
   ]
  },
  {
   "cell_type": "code",
   "execution_count": 214,
   "metadata": {},
   "outputs": [
    {
     "name": "stderr",
     "output_type": "stream",
     "text": [
      "C:\\javasdk\\anakonda\\lib\\site-packages\\ipykernel_launcher.py:1: SettingWithCopyWarning: \n",
      "A value is trying to be set on a copy of a slice from a DataFrame.\n",
      "Try using .loc[row_indexer,col_indexer] = value instead\n",
      "\n",
      "See the caveats in the documentation: http://pandas.pydata.org/pandas-docs/stable/indexing.html#indexing-view-versus-copy\n",
      "  \"\"\"Entry point for launching an IPython kernel.\n",
      "C:\\javasdk\\anakonda\\lib\\site-packages\\pandas\\core\\indexing.py:543: SettingWithCopyWarning: \n",
      "A value is trying to be set on a copy of a slice from a DataFrame.\n",
      "Try using .loc[row_indexer,col_indexer] = value instead\n",
      "\n",
      "See the caveats in the documentation: http://pandas.pydata.org/pandas-docs/stable/indexing.html#indexing-view-versus-copy\n",
      "  self.obj[item] = s\n"
     ]
    }
   ],
   "source": [
    "df_info[df_info['bdate']<1965]=1965"
   ]
  },
  {
   "cell_type": "code",
   "execution_count": 216,
   "metadata": {},
   "outputs": [
    {
     "data": {
      "text/plain": [
       "(array([ 6.,  1.,  1.,  1.,  1.,  1.,  2.,  2.,  1.,  2.,  6.,  4.,  8.,\n",
       "        11.,  8.,  8., 15., 15., 19., 19., 47., 25., 20., 18., 13., 17.,\n",
       "        15.,  7.,  3.,  7.]),\n",
       " array([1965. , 1966.1, 1967.2, 1968.3, 1969.4, 1970.5, 1971.6, 1972.7,\n",
       "        1973.8, 1974.9, 1976. , 1977.1, 1978.2, 1979.3, 1980.4, 1981.5,\n",
       "        1982.6, 1983.7, 1984.8, 1985.9, 1987. , 1988.1, 1989.2, 1990.3,\n",
       "        1991.4, 1992.5, 1993.6, 1994.7, 1995.8, 1996.9, 1998. ]),\n",
       " <a list of 30 Patch objects>)"
      ]
     },
     "execution_count": 216,
     "metadata": {},
     "output_type": "execute_result"
    },
    {
     "data": {
      "image/png": "[encoded data removed]",
      "text/plain": [
       "<Figure size 432x288 with 1 Axes>"
      ]
     },
     "metadata": {},
     "output_type": "display_data"
    }
   ],
   "source": [
    "plt.hist(df_info['bdate'], bins=30)"
   ]
  },
  {
   "cell_type": "code",
   "execution_count": 217,
   "metadata": {},
   "outputs": [
    {
     "data": {
      "text/html": [
       "<div>\n",
       "<style scoped>\n",
       "    .dataframe tbody tr th:only-of-type {\n",
       "        vertical-align: middle;\n",
       "    }\n",
       "\n",
       "    .dataframe tbody tr th {\n",
       "        vertical-align: top;\n",
       "    }\n",
       "\n",
       "    .dataframe thead th {\n",
       "        text-align: right;\n",
       "    }\n",
       "</style>\n",
       "<table border=\"1\" class=\"dataframe\">\n",
       "  <thead>\n",
       "    <tr style=\"text-align: right;\">\n",
       "      <th></th>\n",
       "      <th>Unnamed: 0</th>\n",
       "      <th>id</th>\n",
       "      <th>sex</th>\n",
       "      <th>bdate</th>\n",
       "    </tr>\n",
       "  </thead>\n",
       "  <tbody>\n",
       "    <tr>\n",
       "      <th>count</th>\n",
       "      <td>303.000000</td>\n",
       "      <td>3.030000e+02</td>\n",
       "      <td>303.000000</td>\n",
       "      <td>303.000000</td>\n",
       "    </tr>\n",
       "    <tr>\n",
       "      <th>mean</th>\n",
       "      <td>529.297030</td>\n",
       "      <td>9.887154e+06</td>\n",
       "      <td>34.214521</td>\n",
       "      <td>1986.399340</td>\n",
       "    </tr>\n",
       "    <tr>\n",
       "      <th>std</th>\n",
       "      <td>340.761123</td>\n",
       "      <td>9.145966e+06</td>\n",
       "      <td>250.512409</td>\n",
       "      <td>6.404851</td>\n",
       "    </tr>\n",
       "    <tr>\n",
       "      <th>min</th>\n",
       "      <td>0.000000</td>\n",
       "      <td>2.550000e+02</td>\n",
       "      <td>1.000000</td>\n",
       "      <td>1965.000000</td>\n",
       "    </tr>\n",
       "    <tr>\n",
       "      <th>25%</th>\n",
       "      <td>262.000000</td>\n",
       "      <td>2.305040e+06</td>\n",
       "      <td>2.000000</td>\n",
       "      <td>1983.000000</td>\n",
       "    </tr>\n",
       "    <tr>\n",
       "      <th>50%</th>\n",
       "      <td>522.000000</td>\n",
       "      <td>6.626119e+06</td>\n",
       "      <td>2.000000</td>\n",
       "      <td>1987.000000</td>\n",
       "    </tr>\n",
       "    <tr>\n",
       "      <th>75%</th>\n",
       "      <td>766.500000</td>\n",
       "      <td>1.580976e+07</td>\n",
       "      <td>2.000000</td>\n",
       "      <td>1991.000000</td>\n",
       "    </tr>\n",
       "    <tr>\n",
       "      <th>max</th>\n",
       "      <td>1965.000000</td>\n",
       "      <td>3.475946e+07</td>\n",
       "      <td>1965.000000</td>\n",
       "      <td>1998.000000</td>\n",
       "    </tr>\n",
       "  </tbody>\n",
       "</table>\n",
       "</div>"
      ],
      "text/plain": [
       "        Unnamed: 0            id          sex        bdate\n",
       "count   303.000000  3.030000e+02   303.000000   303.000000\n",
       "mean    529.297030  9.887154e+06    34.214521  1986.399340\n",
       "std     340.761123  9.145966e+06   250.512409     6.404851\n",
       "min       0.000000  2.550000e+02     1.000000  1965.000000\n",
       "25%     262.000000  2.305040e+06     2.000000  1983.000000\n",
       "50%     522.000000  6.626119e+06     2.000000  1987.000000\n",
       "75%     766.500000  1.580976e+07     2.000000  1991.000000\n",
       "max    1965.000000  3.475946e+07  1965.000000  1998.000000"
      ]
     },
     "execution_count": 217,
     "metadata": {},
     "output_type": "execute_result"
    }
   ],
   "source": [
    "df_info.describe()"
   ]
  },
  {
   "cell_type": "markdown",
   "metadata": {},
   "source": [
    "Разобьем возраст на 4 группы - 1965,1983,1987, 1991, 1998 и попробуем их предсказать"
   ]
  },
  {
   "cell_type": "code",
   "execution_count": 221,
   "metadata": {},
   "outputs": [
    {
     "name": "stderr",
     "output_type": "stream",
     "text": [
      "C:\\javasdk\\anakonda\\lib\\site-packages\\ipykernel_launcher.py:1: SettingWithCopyWarning: \n",
      "A value is trying to be set on a copy of a slice from a DataFrame.\n",
      "Try using .loc[row_indexer,col_indexer] = value instead\n",
      "\n",
      "See the caveats in the documentation: http://pandas.pydata.org/pandas-docs/stable/indexing.html#indexing-view-versus-copy\n",
      "  \"\"\"Entry point for launching an IPython kernel.\n"
     ]
    }
   ],
   "source": [
    "df_info['start_date'] = pd.qcut(df_info['bdate'], 4, labels=[1983, 1987, 1991, 1998])"
   ]
  },
  {
   "cell_type": "code",
   "execution_count": 222,
   "metadata": {},
   "outputs": [
    {
     "data": {
      "text/html": [
       "<div>\n",
       "<style scoped>\n",
       "    .dataframe tbody tr th:only-of-type {\n",
       "        vertical-align: middle;\n",
       "    }\n",
       "\n",
       "    .dataframe tbody tr th {\n",
       "        vertical-align: top;\n",
       "    }\n",
       "\n",
       "    .dataframe thead th {\n",
       "        text-align: right;\n",
       "    }\n",
       "</style>\n",
       "<table border=\"1\" class=\"dataframe\">\n",
       "  <thead>\n",
       "    <tr style=\"text-align: right;\">\n",
       "      <th></th>\n",
       "      <th>Unnamed: 0</th>\n",
       "      <th>id</th>\n",
       "      <th>sex</th>\n",
       "      <th>city.title</th>\n",
       "      <th>country.title</th>\n",
       "      <th>bdate</th>\n",
       "      <th>about</th>\n",
       "      <th>start_date</th>\n",
       "    </tr>\n",
       "  </thead>\n",
       "  <tbody>\n",
       "    <tr>\n",
       "      <th>0</th>\n",
       "      <td>0</td>\n",
       "      <td>255</td>\n",
       "      <td>2</td>\n",
       "      <td>Санкт-Петербург</td>\n",
       "      <td>Россия</td>\n",
       "      <td>1985</td>\n",
       "      <td>NaN</td>\n",
       "      <td>1987</td>\n",
       "    </tr>\n",
       "  </tbody>\n",
       "</table>\n",
       "</div>"
      ],
      "text/plain": [
       "   Unnamed: 0   id  sex       city.title country.title  bdate about start_date\n",
       "0           0  255    2  Санкт-Петербург        Россия   1985   NaN       1987"
      ]
     },
     "execution_count": 222,
     "metadata": {},
     "output_type": "execute_result"
    }
   ],
   "source": [
    "df_info.head(1)"
   ]
  },
  {
   "cell_type": "code",
   "execution_count": 223,
   "metadata": {},
   "outputs": [
    {
     "data": {
      "text/html": [
       "<div>\n",
       "<style scoped>\n",
       "    .dataframe tbody tr th:only-of-type {\n",
       "        vertical-align: middle;\n",
       "    }\n",
       "\n",
       "    .dataframe tbody tr th {\n",
       "        vertical-align: top;\n",
       "    }\n",
       "\n",
       "    .dataframe thead th {\n",
       "        text-align: right;\n",
       "    }\n",
       "</style>\n",
       "<table border=\"1\" class=\"dataframe\">\n",
       "  <thead>\n",
       "    <tr style=\"text-align: right;\">\n",
       "      <th></th>\n",
       "      <th>Unnamed: 0</th>\n",
       "      <th>owner_id</th>\n",
       "      <th>text</th>\n",
       "    </tr>\n",
       "  </thead>\n",
       "  <tbody>\n",
       "    <tr>\n",
       "      <th>0</th>\n",
       "      <td>0</td>\n",
       "      <td>255</td>\n",
       "      <td>😱</td>\n",
       "    </tr>\n",
       "  </tbody>\n",
       "</table>\n",
       "</div>"
      ],
      "text/plain": [
       "   Unnamed: 0  owner_id text\n",
       "0           0       255    😱"
      ]
     },
     "execution_count": 223,
     "metadata": {},
     "output_type": "execute_result"
    }
   ],
   "source": [
    "df_wall.head(1)"
   ]
  },
  {
   "cell_type": "code",
   "execution_count": 225,
   "metadata": {},
   "outputs": [],
   "source": [
    "gb_wall = df_wall.groupby('owner_id')"
   ]
  },
  {
   "cell_type": "code",
   "execution_count": 226,
   "metadata": {},
   "outputs": [],
   "source": [
    "gb_agr = gb_wall.agg(lambda col: ' '.join(col))"
   ]
  },
  {
   "cell_type": "code",
   "execution_count": 234,
   "metadata": {},
   "outputs": [],
   "source": [
    "gb_agr.reset_index(inplace=True)"
   ]
  },
  {
   "cell_type": "code",
   "execution_count": 235,
   "metadata": {},
   "outputs": [
    {
     "data": {
      "text/html": [
       "<div>\n",
       "<style scoped>\n",
       "    .dataframe tbody tr th:only-of-type {\n",
       "        vertical-align: middle;\n",
       "    }\n",
       "\n",
       "    .dataframe tbody tr th {\n",
       "        vertical-align: top;\n",
       "    }\n",
       "\n",
       "    .dataframe thead th {\n",
       "        text-align: right;\n",
       "    }\n",
       "</style>\n",
       "<table border=\"1\" class=\"dataframe\">\n",
       "  <thead>\n",
       "    <tr style=\"text-align: right;\">\n",
       "      <th></th>\n",
       "      <th>owner_id</th>\n",
       "      <th>text</th>\n",
       "    </tr>\n",
       "  </thead>\n",
       "  <tbody>\n",
       "    <tr>\n",
       "      <th>0</th>\n",
       "      <td>255</td>\n",
       "      <td>😱 - Доктор,  что у меня? \\r\\n- У вас прогресси...</td>\n",
       "    </tr>\n",
       "  </tbody>\n",
       "</table>\n",
       "</div>"
      ],
      "text/plain": [
       "   owner_id                                               text\n",
       "0       255  😱 - Доктор,  что у меня? \\r\\n- У вас прогресси..."
      ]
     },
     "execution_count": 235,
     "metadata": {},
     "output_type": "execute_result"
    }
   ],
   "source": [
    "gb_agr.head(1)"
   ]
  },
  {
   "cell_type": "code",
   "execution_count": 236,
   "metadata": {},
   "outputs": [],
   "source": [
    "df_work = pd.merge(df_info, gb_agr, how='left', left_on=['id'], right_on=['owner_id'])"
   ]
  },
  {
   "cell_type": "code",
   "execution_count": 237,
   "metadata": {},
   "outputs": [
    {
     "data": {
      "text/html": [
       "<div>\n",
       "<style scoped>\n",
       "    .dataframe tbody tr th:only-of-type {\n",
       "        vertical-align: middle;\n",
       "    }\n",
       "\n",
       "    .dataframe tbody tr th {\n",
       "        vertical-align: top;\n",
       "    }\n",
       "\n",
       "    .dataframe thead th {\n",
       "        text-align: right;\n",
       "    }\n",
       "</style>\n",
       "<table border=\"1\" class=\"dataframe\">\n",
       "  <thead>\n",
       "    <tr style=\"text-align: right;\">\n",
       "      <th></th>\n",
       "      <th>Unnamed: 0</th>\n",
       "      <th>id</th>\n",
       "      <th>sex</th>\n",
       "      <th>city.title</th>\n",
       "      <th>country.title</th>\n",
       "      <th>bdate</th>\n",
       "      <th>about</th>\n",
       "      <th>start_date</th>\n",
       "      <th>owner_id</th>\n",
       "      <th>text</th>\n",
       "    </tr>\n",
       "  </thead>\n",
       "  <tbody>\n",
       "    <tr>\n",
       "      <th>0</th>\n",
       "      <td>0</td>\n",
       "      <td>255</td>\n",
       "      <td>2</td>\n",
       "      <td>Санкт-Петербург</td>\n",
       "      <td>Россия</td>\n",
       "      <td>1985</td>\n",
       "      <td>NaN</td>\n",
       "      <td>1987</td>\n",
       "      <td>255.0</td>\n",
       "      <td>😱 - Доктор,  что у меня? \\r\\n- У вас прогресси...</td>\n",
       "    </tr>\n",
       "  </tbody>\n",
       "</table>\n",
       "</div>"
      ],
      "text/plain": [
       "   Unnamed: 0   id  sex       city.title country.title  bdate about  \\\n",
       "0           0  255    2  Санкт-Петербург        Россия   1985   NaN   \n",
       "\n",
       "  start_date  owner_id                                               text  \n",
       "0       1987     255.0  😱 - Доктор,  что у меня? \\r\\n- У вас прогресси...  "
      ]
     },
     "execution_count": 237,
     "metadata": {},
     "output_type": "execute_result"
    }
   ],
   "source": [
    "df_work.head(1)"
   ]
  },
  {
   "cell_type": "code",
   "execution_count": 240,
   "metadata": {},
   "outputs": [],
   "source": [
    "df_work['city.title'].fillna('NONE', inplace =True)"
   ]
  },
  {
   "cell_type": "code",
   "execution_count": 241,
   "metadata": {},
   "outputs": [],
   "source": [
    "df_work['country.title'].fillna('NONE', inplace =True)"
   ]
  },
  {
   "cell_type": "code",
   "execution_count": 242,
   "metadata": {},
   "outputs": [
    {
     "name": "stdout",
     "output_type": "stream",
     "text": [
      "<class 'pandas.core.frame.DataFrame'>\n",
      "Int64Index: 303 entries, 0 to 302\n",
      "Data columns (total 10 columns):\n",
      "Unnamed: 0       303 non-null int64\n",
      "id               303 non-null int64\n",
      "sex              303 non-null int32\n",
      "city.title       303 non-null object\n",
      "country.title    303 non-null object\n",
      "bdate            303 non-null int32\n",
      "about            44 non-null object\n",
      "start_date       303 non-null category\n",
      "owner_id         298 non-null float64\n",
      "text             298 non-null object\n",
      "dtypes: category(1), float64(1), int32(2), int64(2), object(4)\n",
      "memory usage: 21.8+ KB\n"
     ]
    }
   ],
   "source": [
    "df_work.info()"
   ]
  },
  {
   "cell_type": "code",
   "execution_count": 243,
   "metadata": {},
   "outputs": [
    {
     "data": {
      "text/plain": [
       "array(['Санкт-Петербург', 'Москва', 'Алматы', 1965, 'Великий Новгород',\n",
       "       'Самара', 'Томск', 'Севастополь', 'Донецк', 'Казань',\n",
       "       'Нижний Новгород', 'Калининград', 'Красноярск', 'Волгодонск',\n",
       "       'NONE', 'Екатеринбург', 'Ижевск', 'Тюмень', 'Брянск', 'Глазов',\n",
       "       'Тольятти', 'Ставрополь', 'Ярославль', 'Уфа', 'Астана',\n",
       "       'Петрозаводск', 'Челябинск', 'Сургут', 'Курган', 'Киров',\n",
       "       'Раменское', 'Новосибирск', 'Кемерово', 'Ростов-на-Дону',\n",
       "       'Киляковка', 'Владивосток', 'Chittagong', 'Таганрог', 'Смоленск',\n",
       "       'Новочеркасск', 'Киев', 'Оренбург', 'Кострома', 'Гродно',\n",
       "       'Чебоксары', 'Рязань', 'Заокский', 'Подольск', 'Старый Оскол',\n",
       "       'Kladno', 'Белгород', 'Краснодар', 'Омск', 'Минск', 'Абакан',\n",
       "       'Иркутск', 'Магнитогорск', 'Камышлов', 'Вологда', 'Дмитров',\n",
       "       'Пушное', 'Волжский', 'Воронеж', 'Пенза', 'Касимов', 'Улан-Удэ',\n",
       "       'Вольск', 'Пермь', 'Кичменгский Городок', 'Керчь', 'Барнаул',\n",
       "       'New York City', 'Городищи', 'Калуга', 'Дубна', 'Красногорск',\n",
       "       'Ж/д Водокачка', 'Альметьевск', 'Волгоград', 'Ханты-Мансийск',\n",
       "       'Курск', 'Нефтегорск', 'Саратов', 'Коряжма', 'Хабаровск',\n",
       "       'Новомосковск', 'Guangzhou', 'Владикавказ'], dtype=object)"
      ]
     },
     "execution_count": 243,
     "metadata": {},
     "output_type": "execute_result"
    }
   ],
   "source": [
    "df_work['city.title'].unique()"
   ]
  },
  {
   "cell_type": "code",
   "execution_count": 244,
   "metadata": {},
   "outputs": [
    {
     "data": {
      "text/plain": [
       "array(['Россия', 'Казахстан', 1965, 'Украина', 'NONE', 'Бангладеш',\n",
       "       'Беларусь', 'Чехия', 'США', 'Китай'], dtype=object)"
      ]
     },
     "execution_count": 244,
     "metadata": {},
     "output_type": "execute_result"
    }
   ],
   "source": [
    "df_work['country.title'].unique()"
   ]
  },
  {
   "cell_type": "code",
   "execution_count": 245,
   "metadata": {},
   "outputs": [],
   "source": [
    "df_work.to_csv('work.csv')"
   ]
  },
  {
   "cell_type": "raw",
   "metadata": {},
   "source": [
    "Подготовили модель. \n",
    "Составим план что будем делать:\n",
    "- предсказывать будем возраст (как категорию), по следующим полям - пол, город, длина текста, количество скобочек, и закодированный текст\n",
    "что делаем с текстом:\n",
    "- токенизация, удаление стоп-слов, так как язык русский, леммитизация не однозначана - делаем стеммизацию, и до триграмм для слов\n",
    "как будем предсказывать:\n",
    "- по accuracy\n",
    "как будем считать - в связи с ограниченной мощностью и разреженной матрицей примем логистическую регрессию, рассчитанную как один ко многим\n",
    "\n",
    "\n",
    "При выполнении данного задания используется планшет, поэтому мошность ограничена.\n",
    "Сначала делаем полную подготовку. потом делим на тест\\трайн 20\\80. На 80 на фолдах (4) переберем парочку вариантов"
   ]
  },
  {
   "cell_type": "code",
   "execution_count": 1,
   "metadata": {},
   "outputs": [
    {
     "name": "stdout",
     "output_type": "stream",
     "text": [
      "Populating the interactive namespace from numpy and matplotlib\n"
     ]
    }
   ],
   "source": [
    "import pandas as pd\n",
    "%pylab inline"
   ]
  },
  {
   "cell_type": "code",
   "execution_count": 2,
   "metadata": {},
   "outputs": [],
   "source": [
    "df = pd.read_csv('work.csv')"
   ]
  },
  {
   "cell_type": "code",
   "execution_count": 3,
   "metadata": {},
   "outputs": [
    {
     "data": {
      "text/html": [
       "<div>\n",
       "<style scoped>\n",
       "    .dataframe tbody tr th:only-of-type {\n",
       "        vertical-align: middle;\n",
       "    }\n",
       "\n",
       "    .dataframe tbody tr th {\n",
       "        vertical-align: top;\n",
       "    }\n",
       "\n",
       "    .dataframe thead th {\n",
       "        text-align: right;\n",
       "    }\n",
       "</style>\n",
       "<table border=\"1\" class=\"dataframe\">\n",
       "  <thead>\n",
       "    <tr style=\"text-align: right;\">\n",
       "      <th></th>\n",
       "      <th>Unnamed: 0</th>\n",
       "      <th>Unnamed: 0.1</th>\n",
       "      <th>id</th>\n",
       "      <th>sex</th>\n",
       "      <th>city.title</th>\n",
       "      <th>country.title</th>\n",
       "      <th>bdate</th>\n",
       "      <th>about</th>\n",
       "      <th>start_date</th>\n",
       "      <th>owner_id</th>\n",
       "      <th>text</th>\n",
       "    </tr>\n",
       "  </thead>\n",
       "  <tbody>\n",
       "    <tr>\n",
       "      <th>0</th>\n",
       "      <td>0</td>\n",
       "      <td>0</td>\n",
       "      <td>255</td>\n",
       "      <td>2</td>\n",
       "      <td>Санкт-Петербург</td>\n",
       "      <td>Россия</td>\n",
       "      <td>1985</td>\n",
       "      <td>NaN</td>\n",
       "      <td>1987</td>\n",
       "      <td>255.0</td>\n",
       "      <td>😱 - Доктор,  что у меня? \\r\\r\\n- У вас прогрес...</td>\n",
       "    </tr>\n",
       "  </tbody>\n",
       "</table>\n",
       "</div>"
      ],
      "text/plain": [
       "   Unnamed: 0  Unnamed: 0.1   id  sex       city.title country.title  bdate  \\\n",
       "0           0             0  255    2  Санкт-Петербург        Россия   1985   \n",
       "\n",
       "  about  start_date  owner_id  \\\n",
       "0   NaN        1987     255.0   \n",
       "\n",
       "                                                text  \n",
       "0  😱 - Доктор,  что у меня? \\r\\r\\n- У вас прогрес...  "
      ]
     },
     "execution_count": 3,
     "metadata": {},
     "output_type": "execute_result"
    }
   ],
   "source": [
    "df.head(1)"
   ]
  },
  {
   "cell_type": "markdown",
   "metadata": {},
   "source": [
    "переразобьем возраст на 3 категории, так как 4 - много"
   ]
  },
  {
   "cell_type": "code",
   "execution_count": 4,
   "metadata": {},
   "outputs": [],
   "source": [
    "df['start_date'] = pd.qcut(df['bdate'], 3, labels=[1985, 1989, 1998])"
   ]
  },
  {
   "cell_type": "code",
   "execution_count": 5,
   "metadata": {},
   "outputs": [
    {
     "data": {
      "text/plain": [
       "[1985, 1989, 1998]\n",
       "Categories (3, int64): [1985 < 1989 < 1998]"
      ]
     },
     "execution_count": 5,
     "metadata": {},
     "output_type": "execute_result"
    }
   ],
   "source": [
    "df['start_date'].unique()"
   ]
  },
  {
   "cell_type": "code",
   "execution_count": 6,
   "metadata": {},
   "outputs": [
    {
     "name": "stdout",
     "output_type": "stream",
     "text": [
      "<class 'pandas.core.frame.DataFrame'>\n",
      "RangeIndex: 303 entries, 0 to 302\n",
      "Data columns (total 11 columns):\n",
      "Unnamed: 0       303 non-null int64\n",
      "Unnamed: 0.1     303 non-null int64\n",
      "id               303 non-null int64\n",
      "sex              303 non-null int64\n",
      "city.title       303 non-null object\n",
      "country.title    303 non-null object\n",
      "bdate            303 non-null int64\n",
      "about            44 non-null object\n",
      "start_date       303 non-null category\n",
      "owner_id         298 non-null float64\n",
      "text             298 non-null object\n",
      "dtypes: category(1), float64(1), int64(5), object(4)\n",
      "memory usage: 24.1+ KB\n"
     ]
    }
   ],
   "source": [
    "df.info()"
   ]
  },
  {
   "cell_type": "markdown",
   "metadata": {},
   "source": [
    "Пол - уже закодирован, закодируем города как onehotencoding"
   ]
  },
  {
   "cell_type": "code",
   "execution_count": 7,
   "metadata": {},
   "outputs": [
    {
     "data": {
      "text/html": [
       "<div>\n",
       "<style scoped>\n",
       "    .dataframe tbody tr th:only-of-type {\n",
       "        vertical-align: middle;\n",
       "    }\n",
       "\n",
       "    .dataframe tbody tr th {\n",
       "        vertical-align: top;\n",
       "    }\n",
       "\n",
       "    .dataframe thead th {\n",
       "        text-align: right;\n",
       "    }\n",
       "</style>\n",
       "<table border=\"1\" class=\"dataframe\">\n",
       "  <thead>\n",
       "    <tr style=\"text-align: right;\">\n",
       "      <th></th>\n",
       "      <th>Unnamed: 0</th>\n",
       "      <th>Unnamed: 0.1</th>\n",
       "      <th>id</th>\n",
       "      <th>sex</th>\n",
       "      <th>city.title</th>\n",
       "      <th>country.title</th>\n",
       "      <th>bdate</th>\n",
       "      <th>about</th>\n",
       "      <th>start_date</th>\n",
       "      <th>owner_id</th>\n",
       "      <th>text</th>\n",
       "    </tr>\n",
       "  </thead>\n",
       "  <tbody>\n",
       "    <tr>\n",
       "      <th>0</th>\n",
       "      <td>0</td>\n",
       "      <td>0</td>\n",
       "      <td>255</td>\n",
       "      <td>2</td>\n",
       "      <td>Санкт-Петербург</td>\n",
       "      <td>Россия</td>\n",
       "      <td>1985</td>\n",
       "      <td>NaN</td>\n",
       "      <td>1985</td>\n",
       "      <td>255.0</td>\n",
       "      <td>😱 - Доктор,  что у меня? \\r\\r\\n- У вас прогрес...</td>\n",
       "    </tr>\n",
       "  </tbody>\n",
       "</table>\n",
       "</div>"
      ],
      "text/plain": [
       "   Unnamed: 0  Unnamed: 0.1   id  sex       city.title country.title  bdate  \\\n",
       "0           0             0  255    2  Санкт-Петербург        Россия   1985   \n",
       "\n",
       "  about start_date  owner_id  \\\n",
       "0   NaN       1985     255.0   \n",
       "\n",
       "                                                text  \n",
       "0  😱 - Доктор,  что у меня? \\r\\r\\n- У вас прогрес...  "
      ]
     },
     "execution_count": 7,
     "metadata": {},
     "output_type": "execute_result"
    }
   ],
   "source": [
    "df.head(1)"
   ]
  },
  {
   "cell_type": "markdown",
   "metadata": {},
   "source": [
    "добавим длину текста как параметр"
   ]
  },
  {
   "cell_type": "code",
   "execution_count": 8,
   "metadata": {},
   "outputs": [],
   "source": [
    "df['text_lenght'] = df['text'].str.len()"
   ]
  },
  {
   "cell_type": "code",
   "execution_count": 9,
   "metadata": {},
   "outputs": [],
   "source": [
    "df['symbol_count'] = df['text'].str.count(r'[^\\w\\s]')"
   ]
  },
  {
   "cell_type": "code",
   "execution_count": 10,
   "metadata": {},
   "outputs": [
    {
     "data": {
      "text/html": [
       "<div>\n",
       "<style scoped>\n",
       "    .dataframe tbody tr th:only-of-type {\n",
       "        vertical-align: middle;\n",
       "    }\n",
       "\n",
       "    .dataframe tbody tr th {\n",
       "        vertical-align: top;\n",
       "    }\n",
       "\n",
       "    .dataframe thead th {\n",
       "        text-align: right;\n",
       "    }\n",
       "</style>\n",
       "<table border=\"1\" class=\"dataframe\">\n",
       "  <thead>\n",
       "    <tr style=\"text-align: right;\">\n",
       "      <th></th>\n",
       "      <th>text</th>\n",
       "      <th>text_lenght</th>\n",
       "      <th>symbol_count</th>\n",
       "    </tr>\n",
       "  </thead>\n",
       "  <tbody>\n",
       "    <tr>\n",
       "      <th>0</th>\n",
       "      <td>😱 - Доктор,  что у меня? \\r\\r\\n- У вас прогрес...</td>\n",
       "      <td>726.0</td>\n",
       "      <td>40.0</td>\n",
       "    </tr>\n",
       "  </tbody>\n",
       "</table>\n",
       "</div>"
      ],
      "text/plain": [
       "                                                text  text_lenght  \\\n",
       "0  😱 - Доктор,  что у меня? \\r\\r\\n- У вас прогрес...        726.0   \n",
       "\n",
       "   symbol_count  \n",
       "0          40.0  "
      ]
     },
     "execution_count": 10,
     "metadata": {},
     "output_type": "execute_result"
    }
   ],
   "source": [
    "df[['text', 'text_lenght', 'symbol_count']].head(1)"
   ]
  },
  {
   "cell_type": "code",
   "execution_count": 11,
   "metadata": {},
   "outputs": [],
   "source": [
    "df['symbol_ratio'] = df['symbol_count']/df['text_lenght']"
   ]
  },
  {
   "cell_type": "code",
   "execution_count": 12,
   "metadata": {},
   "outputs": [
    {
     "data": {
      "text/html": [
       "<div>\n",
       "<style scoped>\n",
       "    .dataframe tbody tr th:only-of-type {\n",
       "        vertical-align: middle;\n",
       "    }\n",
       "\n",
       "    .dataframe tbody tr th {\n",
       "        vertical-align: top;\n",
       "    }\n",
       "\n",
       "    .dataframe thead th {\n",
       "        text-align: right;\n",
       "    }\n",
       "</style>\n",
       "<table border=\"1\" class=\"dataframe\">\n",
       "  <thead>\n",
       "    <tr style=\"text-align: right;\">\n",
       "      <th></th>\n",
       "      <th>text</th>\n",
       "      <th>text_lenght</th>\n",
       "      <th>symbol_count</th>\n",
       "      <th>symbol_ratio</th>\n",
       "    </tr>\n",
       "  </thead>\n",
       "  <tbody>\n",
       "    <tr>\n",
       "      <th>0</th>\n",
       "      <td>😱 - Доктор,  что у меня? \\r\\r\\n- У вас прогрес...</td>\n",
       "      <td>726.0</td>\n",
       "      <td>40.0</td>\n",
       "      <td>0.055096</td>\n",
       "    </tr>\n",
       "  </tbody>\n",
       "</table>\n",
       "</div>"
      ],
      "text/plain": [
       "                                                text  text_lenght  \\\n",
       "0  😱 - Доктор,  что у меня? \\r\\r\\n- У вас прогрес...        726.0   \n",
       "\n",
       "   symbol_count  symbol_ratio  \n",
       "0          40.0      0.055096  "
      ]
     },
     "execution_count": 12,
     "metadata": {},
     "output_type": "execute_result"
    }
   ],
   "source": [
    "df[['text', 'text_lenght', 'symbol_count', 'symbol_ratio']].head(1)"
   ]
  },
  {
   "cell_type": "code",
   "execution_count": 13,
   "metadata": {},
   "outputs": [],
   "source": [
    "from sklearn.model_selection import train_test_split"
   ]
  },
  {
   "cell_type": "code",
   "execution_count": 14,
   "metadata": {},
   "outputs": [],
   "source": [
    "y_column = 'start_date'"
   ]
  },
  {
   "cell_type": "code",
   "execution_count": 15,
   "metadata": {},
   "outputs": [
    {
     "data": {
      "text/html": [
       "<div>\n",
       "<style scoped>\n",
       "    .dataframe tbody tr th:only-of-type {\n",
       "        vertical-align: middle;\n",
       "    }\n",
       "\n",
       "    .dataframe tbody tr th {\n",
       "        vertical-align: top;\n",
       "    }\n",
       "\n",
       "    .dataframe thead th {\n",
       "        text-align: right;\n",
       "    }\n",
       "</style>\n",
       "<table border=\"1\" class=\"dataframe\">\n",
       "  <thead>\n",
       "    <tr style=\"text-align: right;\">\n",
       "      <th></th>\n",
       "      <th>Unnamed: 0</th>\n",
       "      <th>Unnamed: 0.1</th>\n",
       "      <th>id</th>\n",
       "      <th>sex</th>\n",
       "      <th>city.title</th>\n",
       "      <th>country.title</th>\n",
       "      <th>bdate</th>\n",
       "      <th>about</th>\n",
       "      <th>start_date</th>\n",
       "      <th>owner_id</th>\n",
       "      <th>text</th>\n",
       "      <th>text_lenght</th>\n",
       "      <th>symbol_count</th>\n",
       "      <th>symbol_ratio</th>\n",
       "    </tr>\n",
       "  </thead>\n",
       "  <tbody>\n",
       "    <tr>\n",
       "      <th>0</th>\n",
       "      <td>0</td>\n",
       "      <td>0</td>\n",
       "      <td>255</td>\n",
       "      <td>2</td>\n",
       "      <td>Санкт-Петербург</td>\n",
       "      <td>Россия</td>\n",
       "      <td>1985</td>\n",
       "      <td>NaN</td>\n",
       "      <td>1985</td>\n",
       "      <td>255.0</td>\n",
       "      <td>😱 - Доктор,  что у меня? \\r\\r\\n- У вас прогрес...</td>\n",
       "      <td>726.0</td>\n",
       "      <td>40.0</td>\n",
       "      <td>0.055096</td>\n",
       "    </tr>\n",
       "  </tbody>\n",
       "</table>\n",
       "</div>"
      ],
      "text/plain": [
       "   Unnamed: 0  Unnamed: 0.1   id  sex       city.title country.title  bdate  \\\n",
       "0           0             0  255    2  Санкт-Петербург        Россия   1985   \n",
       "\n",
       "  about start_date  owner_id  \\\n",
       "0   NaN       1985     255.0   \n",
       "\n",
       "                                                text  text_lenght  \\\n",
       "0  😱 - Доктор,  что у меня? \\r\\r\\n- У вас прогрес...        726.0   \n",
       "\n",
       "   symbol_count  symbol_ratio  \n",
       "0          40.0      0.055096  "
      ]
     },
     "execution_count": 15,
     "metadata": {},
     "output_type": "execute_result"
    }
   ],
   "source": [
    "df.head(1)"
   ]
  },
  {
   "cell_type": "code",
   "execution_count": 25,
   "metadata": {},
   "outputs": [],
   "source": [
    "solve_columns  = ['sex', 'city.title', 'text', 'text_lenght', 'symbol_ratio']"
   ]
  },
  {
   "cell_type": "code",
   "execution_count": 27,
   "metadata": {},
   "outputs": [],
   "source": [
    "df.dropna(subset=['text'], inplace=True)"
   ]
  },
  {
   "cell_type": "code",
   "execution_count": 28,
   "metadata": {},
   "outputs": [],
   "source": [
    "X_train, X_test, y_train, y_test = train_test_split(df[solve_columns], df[y_column], test_size=0.1, random_state=42)"
   ]
  },
  {
   "cell_type": "code",
   "execution_count": 29,
   "metadata": {},
   "outputs": [
    {
     "data": {
      "text/plain": [
       "((268, 5), (30, 5))"
      ]
     },
     "execution_count": 29,
     "metadata": {},
     "output_type": "execute_result"
    }
   ],
   "source": [
    "X_train.shape, X_test.shape"
   ]
  },
  {
   "cell_type": "markdown",
   "metadata": {},
   "source": [
    "Сделаем простой baseline"
   ]
  },
  {
   "cell_type": "code",
   "execution_count": 30,
   "metadata": {},
   "outputs": [],
   "source": [
    "from sklearn.model_selection import cross_validate\n",
    "from sklearn.linear_model import LogisticRegression\n",
    "from sklearn.compose import ColumnTransformer\n",
    "from sklearn.feature_extraction.text import CountVectorizer\n",
    "from sklearn.preprocessing import OneHotEncoder\n",
    "from sklearn.preprocessing import LabelEncoder\n",
    "from sklearn.pipeline import Pipeline"
   ]
  },
  {
   "cell_type": "code",
   "execution_count": 31,
   "metadata": {},
   "outputs": [
    {
     "name": "stdout",
     "output_type": "stream",
     "text": [
      "<class 'pandas.core.frame.DataFrame'>\n",
      "Int64Index: 268 entries, 18 to 104\n",
      "Data columns (total 5 columns):\n",
      "sex             268 non-null int64\n",
      "city.title      268 non-null object\n",
      "text            268 non-null object\n",
      "text_lenght     268 non-null float64\n",
      "symbol_ratio    268 non-null float64\n",
      "dtypes: float64(2), int64(1), object(2)\n",
      "memory usage: 12.6+ KB\n"
     ]
    }
   ],
   "source": [
    "X_train.info()"
   ]
  },
  {
   "cell_type": "code",
   "execution_count": 33,
   "metadata": {},
   "outputs": [
    {
     "name": "stderr",
     "output_type": "stream",
     "text": [
      "C:\\javasdk\\anakonda\\lib\\site-packages\\sklearn\\linear_model\\logistic.py:433: FutureWarning: Default solver will be changed to 'lbfgs' in 0.22. Specify a solver to silence this warning.\n",
      "  FutureWarning)\n",
      "C:\\javasdk\\anakonda\\lib\\site-packages\\sklearn\\linear_model\\logistic.py:460: FutureWarning: Default multi_class will be changed to 'auto' in 0.22. Specify the multi_class option to silence this warning.\n",
      "  \"this warning.\", FutureWarning)\n",
      "C:\\javasdk\\anakonda\\lib\\site-packages\\sklearn\\linear_model\\logistic.py:433: FutureWarning: Default solver will be changed to 'lbfgs' in 0.22. Specify a solver to silence this warning.\n",
      "  FutureWarning)\n",
      "C:\\javasdk\\anakonda\\lib\\site-packages\\sklearn\\linear_model\\logistic.py:460: FutureWarning: Default multi_class will be changed to 'auto' in 0.22. Specify the multi_class option to silence this warning.\n",
      "  \"this warning.\", FutureWarning)\n",
      "C:\\javasdk\\anakonda\\lib\\site-packages\\sklearn\\linear_model\\logistic.py:433: FutureWarning: Default solver will be changed to 'lbfgs' in 0.22. Specify a solver to silence this warning.\n",
      "  FutureWarning)\n",
      "C:\\javasdk\\anakonda\\lib\\site-packages\\sklearn\\linear_model\\logistic.py:460: FutureWarning: Default multi_class will be changed to 'auto' in 0.22. Specify the multi_class option to silence this warning.\n",
      "  \"this warning.\", FutureWarning)\n",
      "C:\\javasdk\\anakonda\\lib\\site-packages\\sklearn\\linear_model\\logistic.py:433: FutureWarning: Default solver will be changed to 'lbfgs' in 0.22. Specify a solver to silence this warning.\n",
      "  FutureWarning)\n",
      "C:\\javasdk\\anakonda\\lib\\site-packages\\sklearn\\linear_model\\logistic.py:460: FutureWarning: Default multi_class will be changed to 'auto' in 0.22. Specify the multi_class option to silence this warning.\n",
      "  \"this warning.\", FutureWarning)\n",
      "C:\\javasdk\\anakonda\\lib\\site-packages\\sklearn\\linear_model\\logistic.py:433: FutureWarning: Default solver will be changed to 'lbfgs' in 0.22. Specify a solver to silence this warning.\n",
      "  FutureWarning)\n",
      "C:\\javasdk\\anakonda\\lib\\site-packages\\sklearn\\linear_model\\logistic.py:460: FutureWarning: Default multi_class will be changed to 'auto' in 0.22. Specify the multi_class option to silence this warning.\n",
      "  \"this warning.\", FutureWarning)\n"
     ]
    }
   ],
   "source": [
    "clf = LogisticRegression()\n",
    "column_trans = ColumnTransformer(\n",
    " [('city', OneHotEncoder(handle_unknown = 'ignore'), ['city.title']),  \n",
    " ('text', CountVectorizer(), 'text')],\n",
    " remainder='drop')\n",
    "steps = [('column_trans', column_trans), ('clf', clf)]\n",
    "pipeline = Pipeline(steps)\n",
    "cv = cross_validate(pipeline, X_train, y_train, scoring='accuracy', cv=5)"
   ]
  },
  {
   "cell_type": "code",
   "execution_count": 36,
   "metadata": {},
   "outputs": [
    {
     "data": {
      "text/plain": [
       "0.37417146794505285"
      ]
     },
     "execution_count": 36,
     "metadata": {},
     "output_type": "execute_result"
    }
   ],
   "source": [
    "np.mean(cv['test_score'])"
   ]
  },
  {
   "cell_type": "markdown",
   "metadata": {},
   "source": [
    "попытемся немного улучшить.\n",
    "1. введем стемизацию"
   ]
  },
  {
   "cell_type": "markdown",
   "metadata": {},
   "source": [
    "https://stackoverflow.com/questions/47423854/sklearn-adding-lemmatizer-to-countvectorizer"
   ]
  },
  {
   "cell_type": "code",
   "execution_count": 58,
   "metadata": {},
   "outputs": [
    {
     "name": "stdout",
     "output_type": "stream",
     "text": [
      "[nltk_data] Downloading package punkt to\n",
      "[nltk_data]     C:\\Users\\kapmik\\AppData\\Roaming\\nltk_data...\n",
      "[nltk_data]   Package punkt is already up-to-date!\n"
     ]
    }
   ],
   "source": [
    "from nltk import word_tokenize          \n",
    "from nltk.stem import WordNetLemmatizer \n",
    "from nltk.corpus import stopwords \n",
    "from nltk.stem.wordnet import WordNetLemmatizer\n",
    "import string\n",
    "\n",
    "import nltk\n",
    "nltk.download('punkt')\n",
    "\n",
    "stop = set(stopwords.words('russian'))\n",
    "exclude = set(string.punctuation) \n",
    "\n",
    "from nltk.stem.snowball import RussianStemmer\n",
    "\n",
    "\n",
    "class StemTokenizer(object):\n",
    "    def __init__(self):\n",
    "        self.r = RussianStemmer()\n",
    "    def __call__(self, articles):\n",
    "        return [self.r.stem(t) for t in word_tokenize(articles)]"
   ]
  },
  {
   "cell_type": "markdown",
   "metadata": {},
   "source": [
    "Протестируем"
   ]
  },
  {
   "cell_type": "code",
   "execution_count": 59,
   "metadata": {},
   "outputs": [
    {
     "data": {
      "text/plain": [
       "18    Я только что совершил покупку в Hobby Games и ...\n",
       "Name: text, dtype: object"
      ]
     },
     "execution_count": 59,
     "metadata": {},
     "output_type": "execute_result"
    }
   ],
   "source": [
    "text = X_train['text'][:1]\n",
    "text"
   ]
  },
  {
   "cell_type": "code",
   "execution_count": 60,
   "metadata": {},
   "outputs": [
    {
     "data": {
      "text/plain": [
       "['18',\n",
       " 'я',\n",
       " 'тольк',\n",
       " 'что',\n",
       " 'соверш',\n",
       " 'покупк',\n",
       " 'в',\n",
       " 'Hobb',\n",
       " 'Games',\n",
       " 'и',\n",
       " '...']"
      ]
     },
     "execution_count": 60,
     "metadata": {},
     "output_type": "execute_result"
    }
   ],
   "source": [
    "StemTokenizer()(text.to_string())"
   ]
  },
  {
   "cell_type": "code",
   "execution_count": 62,
   "metadata": {},
   "outputs": [
    {
     "name": "stderr",
     "output_type": "stream",
     "text": [
      "C:\\javasdk\\anakonda\\lib\\site-packages\\sklearn\\linear_model\\logistic.py:433: FutureWarning: Default solver will be changed to 'lbfgs' in 0.22. Specify a solver to silence this warning.\n",
      "  FutureWarning)\n",
      "C:\\javasdk\\anakonda\\lib\\site-packages\\sklearn\\linear_model\\logistic.py:460: FutureWarning: Default multi_class will be changed to 'auto' in 0.22. Specify the multi_class option to silence this warning.\n",
      "  \"this warning.\", FutureWarning)\n",
      "C:\\javasdk\\anakonda\\lib\\site-packages\\sklearn\\linear_model\\logistic.py:433: FutureWarning: Default solver will be changed to 'lbfgs' in 0.22. Specify a solver to silence this warning.\n",
      "  FutureWarning)\n",
      "C:\\javasdk\\anakonda\\lib\\site-packages\\sklearn\\linear_model\\logistic.py:460: FutureWarning: Default multi_class will be changed to 'auto' in 0.22. Specify the multi_class option to silence this warning.\n",
      "  \"this warning.\", FutureWarning)\n",
      "C:\\javasdk\\anakonda\\lib\\site-packages\\sklearn\\linear_model\\logistic.py:433: FutureWarning: Default solver will be changed to 'lbfgs' in 0.22. Specify a solver to silence this warning.\n",
      "  FutureWarning)\n",
      "C:\\javasdk\\anakonda\\lib\\site-packages\\sklearn\\linear_model\\logistic.py:460: FutureWarning: Default multi_class will be changed to 'auto' in 0.22. Specify the multi_class option to silence this warning.\n",
      "  \"this warning.\", FutureWarning)\n",
      "C:\\javasdk\\anakonda\\lib\\site-packages\\sklearn\\linear_model\\logistic.py:433: FutureWarning: Default solver will be changed to 'lbfgs' in 0.22. Specify a solver to silence this warning.\n",
      "  FutureWarning)\n",
      "C:\\javasdk\\anakonda\\lib\\site-packages\\sklearn\\linear_model\\logistic.py:460: FutureWarning: Default multi_class will be changed to 'auto' in 0.22. Specify the multi_class option to silence this warning.\n",
      "  \"this warning.\", FutureWarning)\n",
      "C:\\javasdk\\anakonda\\lib\\site-packages\\sklearn\\linear_model\\logistic.py:433: FutureWarning: Default solver will be changed to 'lbfgs' in 0.22. Specify a solver to silence this warning.\n",
      "  FutureWarning)\n",
      "C:\\javasdk\\anakonda\\lib\\site-packages\\sklearn\\linear_model\\logistic.py:460: FutureWarning: Default multi_class will be changed to 'auto' in 0.22. Specify the multi_class option to silence this warning.\n",
      "  \"this warning.\", FutureWarning)\n"
     ]
    }
   ],
   "source": [
    "clf = LogisticRegression()\n",
    "column_trans = ColumnTransformer(\n",
    " [('city', OneHotEncoder(handle_unknown = 'ignore'), ['city.title']),  \n",
    " ('text', CountVectorizer(tokenizer=StemTokenizer()), 'text')],\n",
    " remainder='drop')\n",
    "steps = [('column_trans', column_trans), ('clf', clf)]\n",
    "pipeline = Pipeline(steps)\n",
    "cv = cross_validate(pipeline, X_train, y_train, scoring='accuracy', cv=5)"
   ]
  },
  {
   "cell_type": "code",
   "execution_count": 63,
   "metadata": {},
   "outputs": [
    {
     "data": {
      "text/plain": [
       "0.4217783544198639"
      ]
     },
     "execution_count": 63,
     "metadata": {},
     "output_type": "execute_result"
    }
   ],
   "source": [
    "np.mean(cv['test_score'])"
   ]
  },
  {
   "cell_type": "markdown",
   "metadata": {},
   "source": [
    "О, повысилась точность. Теперь добавим стоп-слова"
   ]
  },
  {
   "cell_type": "code",
   "execution_count": 64,
   "metadata": {},
   "outputs": [],
   "source": [
    "class StemTokenizer(object):\n",
    "    def __init__(self):\n",
    "        self.r = RussianStemmer()\n",
    "    def __call__(self, articles):\n",
    "        return [self.r.stem(t) for t in word_tokenize(articles) if t not in stop and t not in exclude]"
   ]
  },
  {
   "cell_type": "code",
   "execution_count": 65,
   "metadata": {},
   "outputs": [
    {
     "name": "stderr",
     "output_type": "stream",
     "text": [
      "C:\\javasdk\\anakonda\\lib\\site-packages\\sklearn\\linear_model\\logistic.py:433: FutureWarning: Default solver will be changed to 'lbfgs' in 0.22. Specify a solver to silence this warning.\n",
      "  FutureWarning)\n",
      "C:\\javasdk\\anakonda\\lib\\site-packages\\sklearn\\linear_model\\logistic.py:460: FutureWarning: Default multi_class will be changed to 'auto' in 0.22. Specify the multi_class option to silence this warning.\n",
      "  \"this warning.\", FutureWarning)\n",
      "C:\\javasdk\\anakonda\\lib\\site-packages\\sklearn\\linear_model\\logistic.py:433: FutureWarning: Default solver will be changed to 'lbfgs' in 0.22. Specify a solver to silence this warning.\n",
      "  FutureWarning)\n",
      "C:\\javasdk\\anakonda\\lib\\site-packages\\sklearn\\linear_model\\logistic.py:460: FutureWarning: Default multi_class will be changed to 'auto' in 0.22. Specify the multi_class option to silence this warning.\n",
      "  \"this warning.\", FutureWarning)\n",
      "C:\\javasdk\\anakonda\\lib\\site-packages\\sklearn\\linear_model\\logistic.py:433: FutureWarning: Default solver will be changed to 'lbfgs' in 0.22. Specify a solver to silence this warning.\n",
      "  FutureWarning)\n",
      "C:\\javasdk\\anakonda\\lib\\site-packages\\sklearn\\linear_model\\logistic.py:460: FutureWarning: Default multi_class will be changed to 'auto' in 0.22. Specify the multi_class option to silence this warning.\n",
      "  \"this warning.\", FutureWarning)\n",
      "C:\\javasdk\\anakonda\\lib\\site-packages\\sklearn\\linear_model\\logistic.py:433: FutureWarning: Default solver will be changed to 'lbfgs' in 0.22. Specify a solver to silence this warning.\n",
      "  FutureWarning)\n",
      "C:\\javasdk\\anakonda\\lib\\site-packages\\sklearn\\linear_model\\logistic.py:460: FutureWarning: Default multi_class will be changed to 'auto' in 0.22. Specify the multi_class option to silence this warning.\n",
      "  \"this warning.\", FutureWarning)\n",
      "C:\\javasdk\\anakonda\\lib\\site-packages\\sklearn\\linear_model\\logistic.py:433: FutureWarning: Default solver will be changed to 'lbfgs' in 0.22. Specify a solver to silence this warning.\n",
      "  FutureWarning)\n",
      "C:\\javasdk\\anakonda\\lib\\site-packages\\sklearn\\linear_model\\logistic.py:460: FutureWarning: Default multi_class will be changed to 'auto' in 0.22. Specify the multi_class option to silence this warning.\n",
      "  \"this warning.\", FutureWarning)\n"
     ]
    },
    {
     "data": {
      "text/plain": [
       "0.38039793190736587"
      ]
     },
     "execution_count": 65,
     "metadata": {},
     "output_type": "execute_result"
    }
   ],
   "source": [
    "clf = LogisticRegression()\n",
    "column_trans = ColumnTransformer(\n",
    " [('city', OneHotEncoder(handle_unknown = 'ignore'), ['city.title']),  \n",
    " ('text', CountVectorizer(tokenizer=StemTokenizer()), 'text')],\n",
    " remainder='drop')\n",
    "steps = [('column_trans', column_trans), ('clf', clf)]\n",
    "pipeline = Pipeline(steps)\n",
    "cv = cross_validate(pipeline, X_train, y_train, scoring='accuracy', cv=5)\n",
    "np.mean(cv['test_score'])"
   ]
  },
  {
   "cell_type": "markdown",
   "metadata": {},
   "source": [
    "Точность упала. Возвращаем старый способ. Добавим 2 и 3 граммы"
   ]
  },
  {
   "cell_type": "code",
   "execution_count": 67,
   "metadata": {},
   "outputs": [],
   "source": [
    "class StemTokenizer(object):\n",
    "    def __init__(self):\n",
    "        self.r = RussianStemmer()\n",
    "    def __call__(self, articles):\n",
    "        return [self.r.stem(t) for t in word_tokenize(articles)]"
   ]
  },
  {
   "cell_type": "code",
   "execution_count": 70,
   "metadata": {},
   "outputs": [
    {
     "data": {
      "text/plain": [
       "<298x2231 sparse matrix of type '<class 'numpy.int64'>'\n",
       "\twith 27853 stored elements in Compressed Sparse Row format>"
      ]
     },
     "execution_count": 70,
     "metadata": {},
     "output_type": "execute_result"
    }
   ],
   "source": [
    "CountVectorizer(tokenizer=StemTokenizer(), ngram_range=(1,3), min_df=5, max_features = 10000).fit_transform(df['text'])"
   ]
  },
  {
   "cell_type": "code",
   "execution_count": null,
   "metadata": {},
   "outputs": [],
   "source": []
  },
  {
   "cell_type": "code",
   "execution_count": 71,
   "metadata": {},
   "outputs": [
    {
     "name": "stderr",
     "output_type": "stream",
     "text": [
      "C:\\javasdk\\anakonda\\lib\\site-packages\\sklearn\\linear_model\\logistic.py:433: FutureWarning: Default solver will be changed to 'lbfgs' in 0.22. Specify a solver to silence this warning.\n",
      "  FutureWarning)\n",
      "C:\\javasdk\\anakonda\\lib\\site-packages\\sklearn\\linear_model\\logistic.py:433: FutureWarning: Default solver will be changed to 'lbfgs' in 0.22. Specify a solver to silence this warning.\n",
      "  FutureWarning)\n",
      "C:\\javasdk\\anakonda\\lib\\site-packages\\sklearn\\linear_model\\logistic.py:433: FutureWarning: Default solver will be changed to 'lbfgs' in 0.22. Specify a solver to silence this warning.\n",
      "  FutureWarning)\n",
      "C:\\javasdk\\anakonda\\lib\\site-packages\\sklearn\\linear_model\\logistic.py:433: FutureWarning: Default solver will be changed to 'lbfgs' in 0.22. Specify a solver to silence this warning.\n",
      "  FutureWarning)\n",
      "C:\\javasdk\\anakonda\\lib\\site-packages\\sklearn\\linear_model\\logistic.py:433: FutureWarning: Default solver will be changed to 'lbfgs' in 0.22. Specify a solver to silence this warning.\n",
      "  FutureWarning)\n"
     ]
    },
    {
     "data": {
      "text/plain": [
       "0.44331178255706555"
      ]
     },
     "execution_count": 71,
     "metadata": {},
     "output_type": "execute_result"
    }
   ],
   "source": [
    "clf = LogisticRegression(multi_class ='auto')\n",
    "column_trans = ColumnTransformer(\n",
    " [('city', OneHotEncoder(handle_unknown = 'ignore'), ['city.title']),  \n",
    " ('text', CountVectorizer(tokenizer=StemTokenizer(), ngram_range=(1,3), min_df=5, max_features = 10000), 'text')],\n",
    " remainder='drop')\n",
    "steps = [('column_trans', column_trans), ('clf', clf)]\n",
    "pipeline = Pipeline(steps)\n",
    "cv = cross_validate(pipeline, X_train, y_train, scoring='accuracy', cv=5)\n",
    "np.mean(cv['test_score'])"
   ]
  },
  {
   "cell_type": "markdown",
   "metadata": {},
   "source": [
    "точность немного увеличилась. теперь добавим триграммы символов"
   ]
  },
  {
   "cell_type": "code",
   "execution_count": 75,
   "metadata": {},
   "outputs": [
    {
     "name": "stderr",
     "output_type": "stream",
     "text": [
      "C:\\javasdk\\anakonda\\lib\\site-packages\\sklearn\\linear_model\\logistic.py:433: FutureWarning: Default solver will be changed to 'lbfgs' in 0.22. Specify a solver to silence this warning.\n",
      "  FutureWarning)\n",
      "C:\\javasdk\\anakonda\\lib\\site-packages\\sklearn\\linear_model\\logistic.py:433: FutureWarning: Default solver will be changed to 'lbfgs' in 0.22. Specify a solver to silence this warning.\n",
      "  FutureWarning)\n",
      "C:\\javasdk\\anakonda\\lib\\site-packages\\sklearn\\linear_model\\logistic.py:433: FutureWarning: Default solver will be changed to 'lbfgs' in 0.22. Specify a solver to silence this warning.\n",
      "  FutureWarning)\n",
      "C:\\javasdk\\anakonda\\lib\\site-packages\\sklearn\\linear_model\\logistic.py:433: FutureWarning: Default solver will be changed to 'lbfgs' in 0.22. Specify a solver to silence this warning.\n",
      "  FutureWarning)\n",
      "C:\\javasdk\\anakonda\\lib\\site-packages\\sklearn\\linear_model\\logistic.py:433: FutureWarning: Default solver will be changed to 'lbfgs' in 0.22. Specify a solver to silence this warning.\n",
      "  FutureWarning)\n"
     ]
    },
    {
     "data": {
      "text/plain": [
       "0.36132007056535353"
      ]
     },
     "execution_count": 75,
     "metadata": {},
     "output_type": "execute_result"
    }
   ],
   "source": [
    "clf = LogisticRegression(multi_class ='auto')\n",
    "column_trans = ColumnTransformer(\n",
    " [('city', OneHotEncoder(handle_unknown = 'ignore'), ['city.title']),  \n",
    " ('text', CountVectorizer(tokenizer=StemTokenizer(), ngram_range=(1,3), min_df=5, max_features = 10000), 'text'),\n",
    " ('symbol', CountVectorizer(ngram_range=(3,3), min_df=5, max_features = 1000, analyzer='char'), 'text')],\n",
    "    remainder='drop')\n",
    "steps = [('column_trans', column_trans), ('clf', clf)]\n",
    "pipeline = Pipeline(steps)\n",
    "cv = cross_validate(pipeline, X_train, y_train, scoring='accuracy', cv=5)\n",
    "np.mean(cv['test_score'])"
   ]
  },
  {
   "cell_type": "markdown",
   "metadata": {},
   "source": [
    "похоже сильно переобучается... возьмем предыдущий вариант"
   ]
  },
  {
   "cell_type": "code",
   "execution_count": 76,
   "metadata": {},
   "outputs": [],
   "source": [
    "clf = LogisticRegression(multi_class ='auto')\n",
    "column_trans = ColumnTransformer(\n",
    " [('city', OneHotEncoder(handle_unknown = 'ignore'), ['city.title']),  \n",
    " ('text', CountVectorizer(tokenizer=StemTokenizer(), ngram_range=(1,3), min_df=5, max_features = 10000), 'text')],\n",
    " remainder='drop')\n",
    "steps = [('column_trans', column_trans), ('clf', clf)]\n",
    "pipeline = Pipeline(steps)"
   ]
  },
  {
   "cell_type": "code",
   "execution_count": 77,
   "metadata": {},
   "outputs": [
    {
     "name": "stderr",
     "output_type": "stream",
     "text": [
      "C:\\javasdk\\anakonda\\lib\\site-packages\\sklearn\\linear_model\\logistic.py:433: FutureWarning: Default solver will be changed to 'lbfgs' in 0.22. Specify a solver to silence this warning.\n",
      "  FutureWarning)\n",
      "C:\\javasdk\\anakonda\\lib\\site-packages\\sklearn\\svm\\base.py:931: ConvergenceWarning: Liblinear failed to converge, increase the number of iterations.\n",
      "  \"the number of iterations.\", ConvergenceWarning)\n"
     ]
    },
    {
     "data": {
      "text/plain": [
       "Pipeline(memory=None,\n",
       "     steps=[('column_trans', ColumnTransformer(n_jobs=None, remainder='drop', sparse_threshold=0.3,\n",
       "         transformer_weights=None,\n",
       "         transformers=[('city', OneHotEncoder(categorical_features=None, categories=None,\n",
       "       dtype=<class 'numpy.float64'>, handle_unknown='ignore',\n",
       "       n_values=N...penalty='l2', random_state=None, solver='warn',\n",
       "          tol=0.0001, verbose=0, warm_start=False))])"
      ]
     },
     "execution_count": 77,
     "metadata": {},
     "output_type": "execute_result"
    }
   ],
   "source": [
    "pipeline.fit(X_train, y_train)"
   ]
  },
  {
   "cell_type": "code",
   "execution_count": 78,
   "metadata": {},
   "outputs": [],
   "source": [
    "y_predict = pipeline.predict(X_test)"
   ]
  },
  {
   "cell_type": "code",
   "execution_count": 79,
   "metadata": {},
   "outputs": [],
   "source": [
    "from sklearn.metrics import accuracy_score"
   ]
  },
  {
   "cell_type": "code",
   "execution_count": 80,
   "metadata": {},
   "outputs": [
    {
     "data": {
      "text/plain": [
       "0.43333333333333335"
      ]
     },
     "execution_count": 80,
     "metadata": {},
     "output_type": "execute_result"
    }
   ],
   "source": [
    "accuracy_score(y_test, y_predict)"
   ]
  },
  {
   "cell_type": "markdown",
   "metadata": {},
   "source": [
    "точность близка к тренировочной. Выше случайной (0.33). Хотя и не большая. по-хорошему нужна большая выборка"
   ]
  }
 ],
 "metadata": {
  "kernelspec": {
   "display_name": "Python 3",
   "language": "python",
   "name": "python3"
  },
  "language_info": {
   "codemirror_mode": {
    "name": "ipython",
    "version": 3
   },
   "file_extension": ".py",
   "mimetype": "text/x-python",
   "name": "python",
   "nbconvert_exporter": "python",
   "pygments_lexer": "ipython3",
   "version": "3.6.5"
  }
 },
 "nbformat": 4,
 "nbformat_minor": 2
}
