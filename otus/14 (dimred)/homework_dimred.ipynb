{
 "cells": [
  {
   "cell_type": "markdown",
   "metadata": {},
   "source": [
    "<img src='pics/otus.png'>"
   ]
  },
  {
   "cell_type": "code",
   "execution_count": 1,
   "metadata": {},
   "outputs": [],
   "source": [
    "from __future__ import print_function\n",
    "from collections import defaultdict\n",
    "import pandas as pd\n",
    "import numpy as np\n",
    "import matplotlib\n",
    "import matplotlib.pyplot as plt\n",
    "import matplotlib.cm as cm\n",
    "import seaborn as sns\n",
    "\n",
    "%matplotlib inline\n",
    "plt.rcParams[\"figure.figsize\"] = (15, 8)\n",
    "pd.options.display.float_format = '{:.2f}'.format\n",
    "import warnings\n",
    "warnings.filterwarnings(\"ignore\")\n"
   ]
  },
  {
   "cell_type": "markdown",
   "metadata": {},
   "source": [
    "## 0. Выберите любой датасет, связанный с медицинской тематикой."
   ]
  },
  {
   "cell_type": "markdown",
   "metadata": {},
   "source": [
    "Выбран датасет https://www.kaggle.com/ruslankl/mice-protein-expression"
   ]
  },
  {
   "cell_type": "markdown",
   "metadata": {},
   "source": [
    "# 1. Провести EDA\n",
    "Просмотреть структуру данных, значения каждого признака, поискать особенности в признаках и в данных вцелом"
   ]
  },
  {
   "cell_type": "code",
   "execution_count": 2,
   "metadata": {},
   "outputs": [],
   "source": [
    "df =pd.read_csv('Data_Cortex_Nuclear.csv')"
   ]
  },
  {
   "cell_type": "code",
   "execution_count": 3,
   "metadata": {},
   "outputs": [
    {
     "data": {
      "text/html": [
       "<div>\n",
       "<style scoped>\n",
       "    .dataframe tbody tr th:only-of-type {\n",
       "        vertical-align: middle;\n",
       "    }\n",
       "\n",
       "    .dataframe tbody tr th {\n",
       "        vertical-align: top;\n",
       "    }\n",
       "\n",
       "    .dataframe thead th {\n",
       "        text-align: right;\n",
       "    }\n",
       "</style>\n",
       "<table border=\"1\" class=\"dataframe\">\n",
       "  <thead>\n",
       "    <tr style=\"text-align: right;\">\n",
       "      <th></th>\n",
       "      <th>MouseID</th>\n",
       "      <th>DYRK1A_N</th>\n",
       "      <th>ITSN1_N</th>\n",
       "      <th>BDNF_N</th>\n",
       "      <th>NR1_N</th>\n",
       "      <th>NR2A_N</th>\n",
       "      <th>pAKT_N</th>\n",
       "      <th>pBRAF_N</th>\n",
       "      <th>pCAMKII_N</th>\n",
       "      <th>pCREB_N</th>\n",
       "      <th>...</th>\n",
       "      <th>pCFOS_N</th>\n",
       "      <th>SYP_N</th>\n",
       "      <th>H3AcK18_N</th>\n",
       "      <th>EGR1_N</th>\n",
       "      <th>H3MeK4_N</th>\n",
       "      <th>CaNA_N</th>\n",
       "      <th>Genotype</th>\n",
       "      <th>Treatment</th>\n",
       "      <th>Behavior</th>\n",
       "      <th>class</th>\n",
       "    </tr>\n",
       "  </thead>\n",
       "  <tbody>\n",
       "    <tr>\n",
       "      <th>0</th>\n",
       "      <td>309_1</td>\n",
       "      <td>0.50</td>\n",
       "      <td>0.75</td>\n",
       "      <td>0.43</td>\n",
       "      <td>2.82</td>\n",
       "      <td>5.99</td>\n",
       "      <td>0.22</td>\n",
       "      <td>0.18</td>\n",
       "      <td>2.37</td>\n",
       "      <td>0.23</td>\n",
       "      <td>...</td>\n",
       "      <td>0.11</td>\n",
       "      <td>0.43</td>\n",
       "      <td>0.11</td>\n",
       "      <td>0.13</td>\n",
       "      <td>0.13</td>\n",
       "      <td>1.68</td>\n",
       "      <td>Control</td>\n",
       "      <td>Memantine</td>\n",
       "      <td>C/S</td>\n",
       "      <td>c-CS-m</td>\n",
       "    </tr>\n",
       "    <tr>\n",
       "      <th>1</th>\n",
       "      <td>309_2</td>\n",
       "      <td>0.51</td>\n",
       "      <td>0.69</td>\n",
       "      <td>0.41</td>\n",
       "      <td>2.79</td>\n",
       "      <td>5.69</td>\n",
       "      <td>0.21</td>\n",
       "      <td>0.17</td>\n",
       "      <td>2.29</td>\n",
       "      <td>0.23</td>\n",
       "      <td>...</td>\n",
       "      <td>0.10</td>\n",
       "      <td>0.44</td>\n",
       "      <td>0.11</td>\n",
       "      <td>0.14</td>\n",
       "      <td>0.13</td>\n",
       "      <td>1.74</td>\n",
       "      <td>Control</td>\n",
       "      <td>Memantine</td>\n",
       "      <td>C/S</td>\n",
       "      <td>c-CS-m</td>\n",
       "    </tr>\n",
       "    <tr>\n",
       "      <th>2</th>\n",
       "      <td>309_3</td>\n",
       "      <td>0.51</td>\n",
       "      <td>0.73</td>\n",
       "      <td>0.42</td>\n",
       "      <td>2.69</td>\n",
       "      <td>5.62</td>\n",
       "      <td>0.21</td>\n",
       "      <td>0.18</td>\n",
       "      <td>2.28</td>\n",
       "      <td>0.23</td>\n",
       "      <td>...</td>\n",
       "      <td>0.11</td>\n",
       "      <td>0.44</td>\n",
       "      <td>0.11</td>\n",
       "      <td>0.13</td>\n",
       "      <td>0.13</td>\n",
       "      <td>1.93</td>\n",
       "      <td>Control</td>\n",
       "      <td>Memantine</td>\n",
       "      <td>C/S</td>\n",
       "      <td>c-CS-m</td>\n",
       "    </tr>\n",
       "  </tbody>\n",
       "</table>\n",
       "<p>3 rows × 82 columns</p>\n",
       "</div>"
      ],
      "text/plain": [
       "  MouseID  DYRK1A_N  ITSN1_N  BDNF_N  NR1_N  NR2A_N  pAKT_N  pBRAF_N  \\\n",
       "0   309_1      0.50     0.75    0.43   2.82    5.99    0.22     0.18   \n",
       "1   309_2      0.51     0.69    0.41   2.79    5.69    0.21     0.17   \n",
       "2   309_3      0.51     0.73    0.42   2.69    5.62    0.21     0.18   \n",
       "\n",
       "   pCAMKII_N  pCREB_N   ...    pCFOS_N  SYP_N  H3AcK18_N  EGR1_N  H3MeK4_N  \\\n",
       "0       2.37     0.23   ...       0.11   0.43       0.11    0.13      0.13   \n",
       "1       2.29     0.23   ...       0.10   0.44       0.11    0.14      0.13   \n",
       "2       2.28     0.23   ...       0.11   0.44       0.11    0.13      0.13   \n",
       "\n",
       "   CaNA_N  Genotype  Treatment  Behavior   class  \n",
       "0    1.68   Control  Memantine       C/S  c-CS-m  \n",
       "1    1.74   Control  Memantine       C/S  c-CS-m  \n",
       "2    1.93   Control  Memantine       C/S  c-CS-m  \n",
       "\n",
       "[3 rows x 82 columns]"
      ]
     },
     "execution_count": 3,
     "metadata": {},
     "output_type": "execute_result"
    }
   ],
   "source": [
    "df.head(3)"
   ]
  },
  {
   "cell_type": "markdown",
   "metadata": {},
   "source": [
    "Краткое описание признаков:\n",
    "[1] Mouse ID\n",
    "\n",
    "[2:78] Values of expression levels of 77 proteins; the names of proteins are followed by N indicating that they were measured in the nuclear fraction. *For example: DYRK1A_n*\n",
    "\n",
    "[79] Genotype: control (c) or trisomy (t)\n",
    "\n",
    "[80] Treatment type: memantine (m) or saline (s)\n",
    "\n",
    "[81] Behavior: context-shock (CS) or shock-context (SC)\n",
    "\n",
    "[82] Class: c-CS-s, c-CS-m, c-SC-s, c-SC-m, t-CS-s, t-CS-m, t-SC-s, t-SC-m\n",
    "\n",
    "В качеcтве целевой переменной будем использовать классы, признаки - сила экспрессии в генах.\n",
    "\n",
    "Уберем лишнее и проанализируем, какие значения у нас есть"
   ]
  },
  {
   "cell_type": "markdown",
   "metadata": {},
   "source": [
    "\n",
    "<i>\n",
    "А вы уверены, что предсказывать именно эти классы на основе протеинов - это хорошая идея? Просто такая точность на тесте может говорить, что скорее всего где-то есть корелляция.</i>"
   ]
  },
  {
   "cell_type": "markdown",
   "metadata": {},
   "source": [
    "Эта задача предсказания синдрома Дауна. И да, он ПРЕДСКАЗЫВАЕТСЯ по генам, поэтому корреляция будет и близка к 100%. Цель найти такие гены, которые более предсказывают чем другие"
   ]
  },
  {
   "cell_type": "code",
   "execution_count": null,
   "metadata": {},
   "outputs": [],
   "source": []
  },
  {
   "cell_type": "code",
   "execution_count": 4,
   "metadata": {},
   "outputs": [],
   "source": [
    "df = df.drop(labels = ['MouseID', 'Genotype', 'Treatment', 'Behavior'], axis=1) "
   ]
  },
  {
   "cell_type": "code",
   "execution_count": 5,
   "metadata": {},
   "outputs": [
    {
     "data": {
      "text/html": [
       "<div>\n",
       "<style scoped>\n",
       "    .dataframe tbody tr th:only-of-type {\n",
       "        vertical-align: middle;\n",
       "    }\n",
       "\n",
       "    .dataframe tbody tr th {\n",
       "        vertical-align: top;\n",
       "    }\n",
       "\n",
       "    .dataframe thead th {\n",
       "        text-align: right;\n",
       "    }\n",
       "</style>\n",
       "<table border=\"1\" class=\"dataframe\">\n",
       "  <thead>\n",
       "    <tr style=\"text-align: right;\">\n",
       "      <th></th>\n",
       "      <th>DYRK1A_N</th>\n",
       "      <th>ITSN1_N</th>\n",
       "      <th>BDNF_N</th>\n",
       "      <th>NR1_N</th>\n",
       "      <th>NR2A_N</th>\n",
       "      <th>pAKT_N</th>\n",
       "      <th>pBRAF_N</th>\n",
       "      <th>pCAMKII_N</th>\n",
       "      <th>pCREB_N</th>\n",
       "      <th>pELK_N</th>\n",
       "      <th>...</th>\n",
       "      <th>BAD_N</th>\n",
       "      <th>BCL2_N</th>\n",
       "      <th>pS6_N</th>\n",
       "      <th>pCFOS_N</th>\n",
       "      <th>SYP_N</th>\n",
       "      <th>H3AcK18_N</th>\n",
       "      <th>EGR1_N</th>\n",
       "      <th>H3MeK4_N</th>\n",
       "      <th>CaNA_N</th>\n",
       "      <th>class</th>\n",
       "    </tr>\n",
       "  </thead>\n",
       "  <tbody>\n",
       "    <tr>\n",
       "      <th>0</th>\n",
       "      <td>0.50</td>\n",
       "      <td>0.75</td>\n",
       "      <td>0.43</td>\n",
       "      <td>2.82</td>\n",
       "      <td>5.99</td>\n",
       "      <td>0.22</td>\n",
       "      <td>0.18</td>\n",
       "      <td>2.37</td>\n",
       "      <td>0.23</td>\n",
       "      <td>1.75</td>\n",
       "      <td>...</td>\n",
       "      <td>0.12</td>\n",
       "      <td>nan</td>\n",
       "      <td>0.11</td>\n",
       "      <td>0.11</td>\n",
       "      <td>0.43</td>\n",
       "      <td>0.11</td>\n",
       "      <td>0.13</td>\n",
       "      <td>0.13</td>\n",
       "      <td>1.68</td>\n",
       "      <td>c-CS-m</td>\n",
       "    </tr>\n",
       "    <tr>\n",
       "      <th>1</th>\n",
       "      <td>0.51</td>\n",
       "      <td>0.69</td>\n",
       "      <td>0.41</td>\n",
       "      <td>2.79</td>\n",
       "      <td>5.69</td>\n",
       "      <td>0.21</td>\n",
       "      <td>0.17</td>\n",
       "      <td>2.29</td>\n",
       "      <td>0.23</td>\n",
       "      <td>1.60</td>\n",
       "      <td>...</td>\n",
       "      <td>0.12</td>\n",
       "      <td>nan</td>\n",
       "      <td>0.11</td>\n",
       "      <td>0.10</td>\n",
       "      <td>0.44</td>\n",
       "      <td>0.11</td>\n",
       "      <td>0.14</td>\n",
       "      <td>0.13</td>\n",
       "      <td>1.74</td>\n",
       "      <td>c-CS-m</td>\n",
       "    </tr>\n",
       "    <tr>\n",
       "      <th>2</th>\n",
       "      <td>0.51</td>\n",
       "      <td>0.73</td>\n",
       "      <td>0.42</td>\n",
       "      <td>2.69</td>\n",
       "      <td>5.62</td>\n",
       "      <td>0.21</td>\n",
       "      <td>0.18</td>\n",
       "      <td>2.28</td>\n",
       "      <td>0.23</td>\n",
       "      <td>1.56</td>\n",
       "      <td>...</td>\n",
       "      <td>0.12</td>\n",
       "      <td>nan</td>\n",
       "      <td>0.11</td>\n",
       "      <td>0.11</td>\n",
       "      <td>0.44</td>\n",
       "      <td>0.11</td>\n",
       "      <td>0.13</td>\n",
       "      <td>0.13</td>\n",
       "      <td>1.93</td>\n",
       "      <td>c-CS-m</td>\n",
       "    </tr>\n",
       "  </tbody>\n",
       "</table>\n",
       "<p>3 rows × 78 columns</p>\n",
       "</div>"
      ],
      "text/plain": [
       "   DYRK1A_N  ITSN1_N  BDNF_N  NR1_N  NR2A_N  pAKT_N  pBRAF_N  pCAMKII_N  \\\n",
       "0      0.50     0.75    0.43   2.82    5.99    0.22     0.18       2.37   \n",
       "1      0.51     0.69    0.41   2.79    5.69    0.21     0.17       2.29   \n",
       "2      0.51     0.73    0.42   2.69    5.62    0.21     0.18       2.28   \n",
       "\n",
       "   pCREB_N  pELK_N   ...    BAD_N  BCL2_N  pS6_N  pCFOS_N  SYP_N  H3AcK18_N  \\\n",
       "0     0.23    1.75   ...     0.12     nan   0.11     0.11   0.43       0.11   \n",
       "1     0.23    1.60   ...     0.12     nan   0.11     0.10   0.44       0.11   \n",
       "2     0.23    1.56   ...     0.12     nan   0.11     0.11   0.44       0.11   \n",
       "\n",
       "   EGR1_N  H3MeK4_N  CaNA_N   class  \n",
       "0    0.13      0.13    1.68  c-CS-m  \n",
       "1    0.14      0.13    1.74  c-CS-m  \n",
       "2    0.13      0.13    1.93  c-CS-m  \n",
       "\n",
       "[3 rows x 78 columns]"
      ]
     },
     "execution_count": 5,
     "metadata": {},
     "output_type": "execute_result"
    }
   ],
   "source": [
    "df.head(3)"
   ]
  },
  {
   "cell_type": "code",
   "execution_count": 6,
   "metadata": {},
   "outputs": [
    {
     "name": "stdout",
     "output_type": "stream",
     "text": [
      "<class 'pandas.core.frame.DataFrame'>\n",
      "RangeIndex: 1080 entries, 0 to 1079\n",
      "Data columns (total 78 columns):\n",
      "DYRK1A_N           1077 non-null float64\n",
      "ITSN1_N            1077 non-null float64\n",
      "BDNF_N             1077 non-null float64\n",
      "NR1_N              1077 non-null float64\n",
      "NR2A_N             1077 non-null float64\n",
      "pAKT_N             1077 non-null float64\n",
      "pBRAF_N            1077 non-null float64\n",
      "pCAMKII_N          1077 non-null float64\n",
      "pCREB_N            1077 non-null float64\n",
      "pELK_N             1077 non-null float64\n",
      "pERK_N             1077 non-null float64\n",
      "pJNK_N             1077 non-null float64\n",
      "PKCA_N             1077 non-null float64\n",
      "pMEK_N             1077 non-null float64\n",
      "pNR1_N             1077 non-null float64\n",
      "pNR2A_N            1077 non-null float64\n",
      "pNR2B_N            1077 non-null float64\n",
      "pPKCAB_N           1077 non-null float64\n",
      "pRSK_N             1077 non-null float64\n",
      "AKT_N              1077 non-null float64\n",
      "BRAF_N             1077 non-null float64\n",
      "CAMKII_N           1077 non-null float64\n",
      "CREB_N             1077 non-null float64\n",
      "ELK_N              1062 non-null float64\n",
      "ERK_N              1077 non-null float64\n",
      "GSK3B_N            1077 non-null float64\n",
      "JNK_N              1077 non-null float64\n",
      "MEK_N              1073 non-null float64\n",
      "TRKA_N             1077 non-null float64\n",
      "RSK_N              1077 non-null float64\n",
      "APP_N              1077 non-null float64\n",
      "Bcatenin_N         1062 non-null float64\n",
      "SOD1_N             1077 non-null float64\n",
      "MTOR_N             1077 non-null float64\n",
      "P38_N              1077 non-null float64\n",
      "pMTOR_N            1077 non-null float64\n",
      "DSCR1_N            1077 non-null float64\n",
      "AMPKA_N            1077 non-null float64\n",
      "NR2B_N             1077 non-null float64\n",
      "pNUMB_N            1077 non-null float64\n",
      "RAPTOR_N           1077 non-null float64\n",
      "TIAM1_N            1077 non-null float64\n",
      "pP70S6_N           1077 non-null float64\n",
      "NUMB_N             1080 non-null float64\n",
      "P70S6_N            1080 non-null float64\n",
      "pGSK3B_N           1080 non-null float64\n",
      "pPKCG_N            1080 non-null float64\n",
      "CDK5_N             1080 non-null float64\n",
      "S6_N               1080 non-null float64\n",
      "ADARB1_N           1080 non-null float64\n",
      "AcetylH3K9_N       1080 non-null float64\n",
      "RRP1_N             1080 non-null float64\n",
      "BAX_N              1080 non-null float64\n",
      "ARC_N              1080 non-null float64\n",
      "ERBB4_N            1080 non-null float64\n",
      "nNOS_N             1080 non-null float64\n",
      "Tau_N              1080 non-null float64\n",
      "GFAP_N             1080 non-null float64\n",
      "GluR3_N            1080 non-null float64\n",
      "GluR4_N            1080 non-null float64\n",
      "IL1B_N             1080 non-null float64\n",
      "P3525_N            1080 non-null float64\n",
      "pCASP9_N           1080 non-null float64\n",
      "PSD95_N            1080 non-null float64\n",
      "SNCA_N             1080 non-null float64\n",
      "Ubiquitin_N        1080 non-null float64\n",
      "pGSK3B_Tyr216_N    1080 non-null float64\n",
      "SHH_N              1080 non-null float64\n",
      "BAD_N              867 non-null float64\n",
      "BCL2_N             795 non-null float64\n",
      "pS6_N              1080 non-null float64\n",
      "pCFOS_N            1005 non-null float64\n",
      "SYP_N              1080 non-null float64\n",
      "H3AcK18_N          900 non-null float64\n",
      "EGR1_N             870 non-null float64\n",
      "H3MeK4_N           810 non-null float64\n",
      "CaNA_N             1080 non-null float64\n",
      "class              1080 non-null object\n",
      "dtypes: float64(77), object(1)\n",
      "memory usage: 658.2+ KB\n"
     ]
    }
   ],
   "source": [
    "df.info()"
   ]
  },
  {
   "cell_type": "markdown",
   "metadata": {},
   "source": [
    "Есть значения, где есть нулевые значения, заполним их средними значениями из групп"
   ]
  },
  {
   "cell_type": "code",
   "execution_count": 7,
   "metadata": {},
   "outputs": [
    {
     "data": {
      "text/html": [
       "<div>\n",
       "<style scoped>\n",
       "    .dataframe tbody tr th:only-of-type {\n",
       "        vertical-align: middle;\n",
       "    }\n",
       "\n",
       "    .dataframe tbody tr th {\n",
       "        vertical-align: top;\n",
       "    }\n",
       "\n",
       "    .dataframe thead th {\n",
       "        text-align: right;\n",
       "    }\n",
       "</style>\n",
       "<table border=\"1\" class=\"dataframe\">\n",
       "  <thead>\n",
       "    <tr style=\"text-align: right;\">\n",
       "      <th></th>\n",
       "      <th>DYRK1A_N</th>\n",
       "      <th>ITSN1_N</th>\n",
       "      <th>BDNF_N</th>\n",
       "      <th>NR1_N</th>\n",
       "      <th>NR2A_N</th>\n",
       "      <th>pAKT_N</th>\n",
       "      <th>pBRAF_N</th>\n",
       "      <th>pCAMKII_N</th>\n",
       "      <th>pCREB_N</th>\n",
       "      <th>pELK_N</th>\n",
       "      <th>...</th>\n",
       "      <th>SHH_N</th>\n",
       "      <th>BAD_N</th>\n",
       "      <th>BCL2_N</th>\n",
       "      <th>pS6_N</th>\n",
       "      <th>pCFOS_N</th>\n",
       "      <th>SYP_N</th>\n",
       "      <th>H3AcK18_N</th>\n",
       "      <th>EGR1_N</th>\n",
       "      <th>H3MeK4_N</th>\n",
       "      <th>CaNA_N</th>\n",
       "    </tr>\n",
       "  </thead>\n",
       "  <tbody>\n",
       "    <tr>\n",
       "      <th>count</th>\n",
       "      <td>1077.00</td>\n",
       "      <td>1077.00</td>\n",
       "      <td>1077.00</td>\n",
       "      <td>1077.00</td>\n",
       "      <td>1077.00</td>\n",
       "      <td>1077.00</td>\n",
       "      <td>1077.00</td>\n",
       "      <td>1077.00</td>\n",
       "      <td>1077.00</td>\n",
       "      <td>1077.00</td>\n",
       "      <td>...</td>\n",
       "      <td>1080.00</td>\n",
       "      <td>867.00</td>\n",
       "      <td>795.00</td>\n",
       "      <td>1080.00</td>\n",
       "      <td>1005.00</td>\n",
       "      <td>1080.00</td>\n",
       "      <td>900.00</td>\n",
       "      <td>870.00</td>\n",
       "      <td>810.00</td>\n",
       "      <td>1080.00</td>\n",
       "    </tr>\n",
       "    <tr>\n",
       "      <th>mean</th>\n",
       "      <td>0.43</td>\n",
       "      <td>0.62</td>\n",
       "      <td>0.32</td>\n",
       "      <td>2.30</td>\n",
       "      <td>3.84</td>\n",
       "      <td>0.23</td>\n",
       "      <td>0.18</td>\n",
       "      <td>3.54</td>\n",
       "      <td>0.21</td>\n",
       "      <td>1.43</td>\n",
       "      <td>...</td>\n",
       "      <td>0.23</td>\n",
       "      <td>0.16</td>\n",
       "      <td>0.13</td>\n",
       "      <td>0.12</td>\n",
       "      <td>0.13</td>\n",
       "      <td>0.45</td>\n",
       "      <td>0.17</td>\n",
       "      <td>0.18</td>\n",
       "      <td>0.21</td>\n",
       "      <td>1.34</td>\n",
       "    </tr>\n",
       "    <tr>\n",
       "      <th>std</th>\n",
       "      <td>0.25</td>\n",
       "      <td>0.25</td>\n",
       "      <td>0.05</td>\n",
       "      <td>0.35</td>\n",
       "      <td>0.93</td>\n",
       "      <td>0.04</td>\n",
       "      <td>0.03</td>\n",
       "      <td>1.30</td>\n",
       "      <td>0.03</td>\n",
       "      <td>0.47</td>\n",
       "      <td>...</td>\n",
       "      <td>0.03</td>\n",
       "      <td>0.03</td>\n",
       "      <td>0.03</td>\n",
       "      <td>0.01</td>\n",
       "      <td>0.02</td>\n",
       "      <td>0.07</td>\n",
       "      <td>0.06</td>\n",
       "      <td>0.04</td>\n",
       "      <td>0.06</td>\n",
       "      <td>0.32</td>\n",
       "    </tr>\n",
       "    <tr>\n",
       "      <th>min</th>\n",
       "      <td>0.15</td>\n",
       "      <td>0.25</td>\n",
       "      <td>0.12</td>\n",
       "      <td>1.33</td>\n",
       "      <td>1.74</td>\n",
       "      <td>0.06</td>\n",
       "      <td>0.06</td>\n",
       "      <td>1.34</td>\n",
       "      <td>0.11</td>\n",
       "      <td>0.43</td>\n",
       "      <td>...</td>\n",
       "      <td>0.16</td>\n",
       "      <td>0.09</td>\n",
       "      <td>0.08</td>\n",
       "      <td>0.07</td>\n",
       "      <td>0.09</td>\n",
       "      <td>0.26</td>\n",
       "      <td>0.08</td>\n",
       "      <td>0.11</td>\n",
       "      <td>0.10</td>\n",
       "      <td>0.59</td>\n",
       "    </tr>\n",
       "    <tr>\n",
       "      <th>25%</th>\n",
       "      <td>0.29</td>\n",
       "      <td>0.47</td>\n",
       "      <td>0.29</td>\n",
       "      <td>2.06</td>\n",
       "      <td>3.16</td>\n",
       "      <td>0.21</td>\n",
       "      <td>0.16</td>\n",
       "      <td>2.48</td>\n",
       "      <td>0.19</td>\n",
       "      <td>1.20</td>\n",
       "      <td>...</td>\n",
       "      <td>0.21</td>\n",
       "      <td>0.14</td>\n",
       "      <td>0.12</td>\n",
       "      <td>0.11</td>\n",
       "      <td>0.11</td>\n",
       "      <td>0.40</td>\n",
       "      <td>0.13</td>\n",
       "      <td>0.16</td>\n",
       "      <td>0.17</td>\n",
       "      <td>1.08</td>\n",
       "    </tr>\n",
       "    <tr>\n",
       "      <th>50%</th>\n",
       "      <td>0.37</td>\n",
       "      <td>0.57</td>\n",
       "      <td>0.32</td>\n",
       "      <td>2.30</td>\n",
       "      <td>3.76</td>\n",
       "      <td>0.23</td>\n",
       "      <td>0.18</td>\n",
       "      <td>3.33</td>\n",
       "      <td>0.21</td>\n",
       "      <td>1.36</td>\n",
       "      <td>...</td>\n",
       "      <td>0.22</td>\n",
       "      <td>0.15</td>\n",
       "      <td>0.13</td>\n",
       "      <td>0.12</td>\n",
       "      <td>0.13</td>\n",
       "      <td>0.45</td>\n",
       "      <td>0.16</td>\n",
       "      <td>0.17</td>\n",
       "      <td>0.19</td>\n",
       "      <td>1.32</td>\n",
       "    </tr>\n",
       "    <tr>\n",
       "      <th>75%</th>\n",
       "      <td>0.49</td>\n",
       "      <td>0.70</td>\n",
       "      <td>0.35</td>\n",
       "      <td>2.53</td>\n",
       "      <td>4.44</td>\n",
       "      <td>0.26</td>\n",
       "      <td>0.20</td>\n",
       "      <td>4.48</td>\n",
       "      <td>0.23</td>\n",
       "      <td>1.56</td>\n",
       "      <td>...</td>\n",
       "      <td>0.24</td>\n",
       "      <td>0.17</td>\n",
       "      <td>0.15</td>\n",
       "      <td>0.13</td>\n",
       "      <td>0.14</td>\n",
       "      <td>0.49</td>\n",
       "      <td>0.20</td>\n",
       "      <td>0.20</td>\n",
       "      <td>0.24</td>\n",
       "      <td>1.59</td>\n",
       "    </tr>\n",
       "    <tr>\n",
       "      <th>max</th>\n",
       "      <td>2.52</td>\n",
       "      <td>2.60</td>\n",
       "      <td>0.50</td>\n",
       "      <td>3.76</td>\n",
       "      <td>8.48</td>\n",
       "      <td>0.54</td>\n",
       "      <td>0.32</td>\n",
       "      <td>7.46</td>\n",
       "      <td>0.31</td>\n",
       "      <td>6.11</td>\n",
       "      <td>...</td>\n",
       "      <td>0.36</td>\n",
       "      <td>0.28</td>\n",
       "      <td>0.26</td>\n",
       "      <td>0.16</td>\n",
       "      <td>0.26</td>\n",
       "      <td>0.76</td>\n",
       "      <td>0.48</td>\n",
       "      <td>0.36</td>\n",
       "      <td>0.41</td>\n",
       "      <td>2.13</td>\n",
       "    </tr>\n",
       "  </tbody>\n",
       "</table>\n",
       "<p>8 rows × 77 columns</p>\n",
       "</div>"
      ],
      "text/plain": [
       "       DYRK1A_N  ITSN1_N  BDNF_N   NR1_N  NR2A_N  pAKT_N  pBRAF_N  pCAMKII_N  \\\n",
       "count   1077.00  1077.00 1077.00 1077.00 1077.00 1077.00  1077.00    1077.00   \n",
       "mean       0.43     0.62    0.32    2.30    3.84    0.23     0.18       3.54   \n",
       "std        0.25     0.25    0.05    0.35    0.93    0.04     0.03       1.30   \n",
       "min        0.15     0.25    0.12    1.33    1.74    0.06     0.06       1.34   \n",
       "25%        0.29     0.47    0.29    2.06    3.16    0.21     0.16       2.48   \n",
       "50%        0.37     0.57    0.32    2.30    3.76    0.23     0.18       3.33   \n",
       "75%        0.49     0.70    0.35    2.53    4.44    0.26     0.20       4.48   \n",
       "max        2.52     2.60    0.50    3.76    8.48    0.54     0.32       7.46   \n",
       "\n",
       "       pCREB_N  pELK_N   ...     SHH_N  BAD_N  BCL2_N   pS6_N  pCFOS_N  \\\n",
       "count  1077.00 1077.00   ...   1080.00 867.00  795.00 1080.00  1005.00   \n",
       "mean      0.21    1.43   ...      0.23   0.16    0.13    0.12     0.13   \n",
       "std       0.03    0.47   ...      0.03   0.03    0.03    0.01     0.02   \n",
       "min       0.11    0.43   ...      0.16   0.09    0.08    0.07     0.09   \n",
       "25%       0.19    1.20   ...      0.21   0.14    0.12    0.11     0.11   \n",
       "50%       0.21    1.36   ...      0.22   0.15    0.13    0.12     0.13   \n",
       "75%       0.23    1.56   ...      0.24   0.17    0.15    0.13     0.14   \n",
       "max       0.31    6.11   ...      0.36   0.28    0.26    0.16     0.26   \n",
       "\n",
       "        SYP_N  H3AcK18_N  EGR1_N  H3MeK4_N  CaNA_N  \n",
       "count 1080.00     900.00  870.00    810.00 1080.00  \n",
       "mean     0.45       0.17    0.18      0.21    1.34  \n",
       "std      0.07       0.06    0.04      0.06    0.32  \n",
       "min      0.26       0.08    0.11      0.10    0.59  \n",
       "25%      0.40       0.13    0.16      0.17    1.08  \n",
       "50%      0.45       0.16    0.17      0.19    1.32  \n",
       "75%      0.49       0.20    0.20      0.24    1.59  \n",
       "max      0.76       0.48    0.36      0.41    2.13  \n",
       "\n",
       "[8 rows x 77 columns]"
      ]
     },
     "execution_count": 7,
     "metadata": {},
     "output_type": "execute_result"
    }
   ],
   "source": [
    "df.describe()"
   ]
  },
  {
   "cell_type": "markdown",
   "metadata": {},
   "source": [
    "Показатели имеют различный разброс - нужно его выровнить"
   ]
  },
  {
   "cell_type": "code",
   "execution_count": 8,
   "metadata": {},
   "outputs": [],
   "source": [
    "import seaborn"
   ]
  },
  {
   "cell_type": "code",
   "execution_count": 9,
   "metadata": {},
   "outputs": [
    {
     "data": {
      "text/plain": [
       "<matplotlib.axes._subplots.AxesSubplot at 0x23fefce3048>"
      ]
     },
     "execution_count": 9,
     "metadata": {},
     "output_type": "execute_result"
    },
    {
     "data": {
      "image/png": "[encoded data removed]",
      "text/plain": [
       "<Figure size 432x288 with 2 Axes>"
      ]
     },
     "metadata": {},
     "output_type": "display_data"
    }
   ],
   "source": [
    "corr = df.corr()\n",
    "seaborn.heatmap(corr, \n",
    "            xticklabels=corr.columns.values,\n",
    "            yticklabels=corr.columns.values)"
   ]
  },
  {
   "cell_type": "code",
   "execution_count": 10,
   "metadata": {},
   "outputs": [],
   "source": [
    "mean_by_group = df.groupby(by='class').mean()\n",
    "std_by_group = df.groupby(by='class').std()"
   ]
  },
  {
   "cell_type": "code",
   "execution_count": 11,
   "metadata": {},
   "outputs": [
    {
     "data": {
      "text/plain": [
       "Text(0.5,1,'Средние значения')"
      ]
     },
     "execution_count": 11,
     "metadata": {},
     "output_type": "execute_result"
    },
    {
     "data": {
      "image/png": "[encoded data removed]",
      "text/plain": [
       "<Figure size 432x288 with 2 Axes>"
      ]
     },
     "metadata": {},
     "output_type": "display_data"
    }
   ],
   "source": [
    "seaborn.heatmap(mean_by_group)\n",
    "plt.title('Средние значения')"
   ]
  },
  {
   "cell_type": "code",
   "execution_count": 12,
   "metadata": {},
   "outputs": [
    {
     "data": {
      "text/plain": [
       "Text(0.5,1,'Вариация')"
      ]
     },
     "execution_count": 12,
     "metadata": {},
     "output_type": "execute_result"
    },
    {
     "data": {
      "image/png": "[encoded data removed]",
      "text/plain": [
       "<Figure size 432x288 with 2 Axes>"
      ]
     },
     "metadata": {},
     "output_type": "display_data"
    }
   ],
   "source": [
    "seaborn.heatmap(std_by_group)\n",
    "plt.title('Вариация')"
   ]
  },
  {
   "cell_type": "markdown",
   "metadata": {},
   "source": [
    "# 2. Спланировать эксперимент \n",
    "\n",
    "\n",
    "Эксперимент - составить план, по которому будет проделана исследовательская работа. Примерные пункты плана:\n",
    "* Составить первичный список признаков, необходимых для решения задачи\n",
    "* Сгенерировать список новых признаков, которые можно получить из данных\n",
    "* Применить понижение размерности для визуализации данных\n",
    "* Применить кластеризацию, визуализировать\n",
    "* Описание кластера\n",
    "* Любые другие пункты"
   ]
  },
  {
   "cell_type": "markdown",
   "metadata": {},
   "source": [
    "- 1 - заполнить нулевые значения средними по выборке\n",
    "- 2 - генерировать не будем, их и так много, да и сложно комбинировать экспрессию в генах\n",
    "- 3 - отмасштабировать призники\n",
    "- 4 - перевести целевую переменную в категориальную\n",
    "- 5 - Применить logistic regression с cv на 5 фолдов\n",
    "- 6 - точность проверям accuracy\n",
    "- 7 - понижаем размерность  по PCA (до 2 и до оптимального параметра)\n",
    "- 8 - визуализируем \n",
    "- 9 - снова применяем log regression\n",
    "- 10 - точность проверям accuracy\n",
    "- 11 - понижаем размерность  по tsne (до 2 и до оптимального параметра)\n",
    "- 12 - визуализируем \n",
    "- 13 - снова применяем log regression\n",
    "- 14 - точность проверям accuracy\n",
    "- 15 - ради интереса класстиризуем и визуализируем"
   ]
  },
  {
   "cell_type": "markdown",
   "metadata": {},
   "source": [
    "# 3. Выполнить подготовку данных для построения модели\n",
    "\n",
    "Выполнить необходимые преобразования данных"
   ]
  },
  {
   "cell_type": "code",
   "execution_count": 13,
   "metadata": {},
   "outputs": [],
   "source": [
    "y = df['class']"
   ]
  },
  {
   "cell_type": "code",
   "execution_count": 14,
   "metadata": {},
   "outputs": [],
   "source": [
    "X = df.drop('class', axis=1)"
   ]
  },
  {
   "cell_type": "markdown",
   "metadata": {},
   "source": [
    "Удалили целевую переменную и заполняем пустые значения"
   ]
  },
  {
   "cell_type": "code",
   "execution_count": 15,
   "metadata": {},
   "outputs": [],
   "source": [
    "X.fillna(X.mean(), inplace=True)"
   ]
  },
  {
   "cell_type": "code",
   "execution_count": 16,
   "metadata": {},
   "outputs": [
    {
     "name": "stdout",
     "output_type": "stream",
     "text": [
      "<class 'pandas.core.frame.DataFrame'>\n",
      "RangeIndex: 1080 entries, 0 to 1079\n",
      "Data columns (total 77 columns):\n",
      "DYRK1A_N           1080 non-null float64\n",
      "ITSN1_N            1080 non-null float64\n",
      "BDNF_N             1080 non-null float64\n",
      "NR1_N              1080 non-null float64\n",
      "NR2A_N             1080 non-null float64\n",
      "pAKT_N             1080 non-null float64\n",
      "pBRAF_N            1080 non-null float64\n",
      "pCAMKII_N          1080 non-null float64\n",
      "pCREB_N            1080 non-null float64\n",
      "pELK_N             1080 non-null float64\n",
      "pERK_N             1080 non-null float64\n",
      "pJNK_N             1080 non-null float64\n",
      "PKCA_N             1080 non-null float64\n",
      "pMEK_N             1080 non-null float64\n",
      "pNR1_N             1080 non-null float64\n",
      "pNR2A_N            1080 non-null float64\n",
      "pNR2B_N            1080 non-null float64\n",
      "pPKCAB_N           1080 non-null float64\n",
      "pRSK_N             1080 non-null float64\n",
      "AKT_N              1080 non-null float64\n",
      "BRAF_N             1080 non-null float64\n",
      "CAMKII_N           1080 non-null float64\n",
      "CREB_N             1080 non-null float64\n",
      "ELK_N              1080 non-null float64\n",
      "ERK_N              1080 non-null float64\n",
      "GSK3B_N            1080 non-null float64\n",
      "JNK_N              1080 non-null float64\n",
      "MEK_N              1080 non-null float64\n",
      "TRKA_N             1080 non-null float64\n",
      "RSK_N              1080 non-null float64\n",
      "APP_N              1080 non-null float64\n",
      "Bcatenin_N         1080 non-null float64\n",
      "SOD1_N             1080 non-null float64\n",
      "MTOR_N             1080 non-null float64\n",
      "P38_N              1080 non-null float64\n",
      "pMTOR_N            1080 non-null float64\n",
      "DSCR1_N            1080 non-null float64\n",
      "AMPKA_N            1080 non-null float64\n",
      "NR2B_N             1080 non-null float64\n",
      "pNUMB_N            1080 non-null float64\n",
      "RAPTOR_N           1080 non-null float64\n",
      "TIAM1_N            1080 non-null float64\n",
      "pP70S6_N           1080 non-null float64\n",
      "NUMB_N             1080 non-null float64\n",
      "P70S6_N            1080 non-null float64\n",
      "pGSK3B_N           1080 non-null float64\n",
      "pPKCG_N            1080 non-null float64\n",
      "CDK5_N             1080 non-null float64\n",
      "S6_N               1080 non-null float64\n",
      "ADARB1_N           1080 non-null float64\n",
      "AcetylH3K9_N       1080 non-null float64\n",
      "RRP1_N             1080 non-null float64\n",
      "BAX_N              1080 non-null float64\n",
      "ARC_N              1080 non-null float64\n",
      "ERBB4_N            1080 non-null float64\n",
      "nNOS_N             1080 non-null float64\n",
      "Tau_N              1080 non-null float64\n",
      "GFAP_N             1080 non-null float64\n",
      "GluR3_N            1080 non-null float64\n",
      "GluR4_N            1080 non-null float64\n",
      "IL1B_N             1080 non-null float64\n",
      "P3525_N            1080 non-null float64\n",
      "pCASP9_N           1080 non-null float64\n",
      "PSD95_N            1080 non-null float64\n",
      "SNCA_N             1080 non-null float64\n",
      "Ubiquitin_N        1080 non-null float64\n",
      "pGSK3B_Tyr216_N    1080 non-null float64\n",
      "SHH_N              1080 non-null float64\n",
      "BAD_N              1080 non-null float64\n",
      "BCL2_N             1080 non-null float64\n",
      "pS6_N              1080 non-null float64\n",
      "pCFOS_N            1080 non-null float64\n",
      "SYP_N              1080 non-null float64\n",
      "H3AcK18_N          1080 non-null float64\n",
      "EGR1_N             1080 non-null float64\n",
      "H3MeK4_N           1080 non-null float64\n",
      "CaNA_N             1080 non-null float64\n",
      "dtypes: float64(77)\n",
      "memory usage: 649.8 KB\n"
     ]
    }
   ],
   "source": [
    "X.info()"
   ]
  },
  {
   "cell_type": "code",
   "execution_count": 17,
   "metadata": {},
   "outputs": [],
   "source": [
    "from sklearn import preprocessing"
   ]
  },
  {
   "cell_type": "markdown",
   "metadata": {},
   "source": [
    "выполним масштабирование"
   ]
  },
  {
   "cell_type": "code",
   "execution_count": 18,
   "metadata": {},
   "outputs": [],
   "source": [
    "scaler = preprocessing.MinMaxScaler()\n",
    "X_scaled = scaler.fit_transform(X)\n"
   ]
  },
  {
   "cell_type": "code",
   "execution_count": 19,
   "metadata": {},
   "outputs": [
    {
     "data": {
      "text/plain": [
       "array([[0.1511224 , 0.21288505, 0.82463786, 0.61211939, 0.63048232,\n",
       "        0.32700587, 0.44866634, 0.16825719, 0.61732205, 0.23255279,\n",
       "        0.15764338, 0.57616682, 0.74768812, 0.59850371, 0.57477459,\n",
       "        0.28669707, 0.65063705, 0.69816413, 0.62278415, 0.71119844,\n",
       "        0.13691507, 0.41964854, 0.31714888, 0.59371483, 0.6279069 ,\n",
       "        0.59626875, 0.64016736, 0.64307006, 0.76614614, 0.29559592,\n",
       "        0.54981707, 0.74744085, 0.09203489, 0.54119566, 0.15233784,\n",
       "        0.68726926, 0.55392167, 0.46727792, 0.5099961 , 0.46946126,\n",
       "        0.4361703 , 0.50601753, 0.16336829, 0.32305865, 0.37325416,\n",
       "        0.60451592, 0.30336345, 0.17845796, 0.32408545, 0.40280956,\n",
       "        0.08358366, 0.32786962, 0.69025721, 0.42681623, 0.4127206 ,\n",
       "        0.47783402, 0.05716795, 0.22882536, 0.53116295, 0.15110301,\n",
       "        0.24260849, 0.16970155, 0.43284301, 0.48378312, 0.04476956,\n",
       "        0.25669889, 0.40522832, 0.16294068, 0.17731204, 0.29917191,\n",
       "        0.42681623, 0.13392994, 0.33629928, 0.08771496, 0.10288975,\n",
       "        0.08457952, 0.70573764]])"
      ]
     },
     "execution_count": 19,
     "metadata": {},
     "output_type": "execute_result"
    }
   ],
   "source": [
    "X_scaled[0:1]"
   ]
  },
  {
   "cell_type": "markdown",
   "metadata": {},
   "source": [
    "Еще раз визализируем значения, сейчас должно быть информативнее"
   ]
  },
  {
   "cell_type": "code",
   "execution_count": 20,
   "metadata": {},
   "outputs": [],
   "source": [
    "df_sc = pd.DataFrame(X_scaled, columns=df.columns[:-1]) "
   ]
  },
  {
   "cell_type": "code",
   "execution_count": 21,
   "metadata": {},
   "outputs": [],
   "source": [
    "df_sc['class'] = y"
   ]
  },
  {
   "cell_type": "code",
   "execution_count": 22,
   "metadata": {},
   "outputs": [],
   "source": [
    "mean_by_group = df_sc.groupby(by='class').mean()\n",
    "std_by_group = df_sc.groupby(by='class').std()"
   ]
  },
  {
   "cell_type": "code",
   "execution_count": 23,
   "metadata": {},
   "outputs": [
    {
     "data": {
      "text/plain": [
       "Text(0.5,1,'Средние значения')"
      ]
     },
     "execution_count": 23,
     "metadata": {},
     "output_type": "execute_result"
    },
    {
     "data": {
      "image/png": "[encoded data removed]",
      "text/plain": [
       "<Figure size 432x288 with 2 Axes>"
      ]
     },
     "metadata": {},
     "output_type": "display_data"
    }
   ],
   "source": [
    "seaborn.heatmap(mean_by_group)\n",
    "plt.title('Средние значения')"
   ]
  },
  {
   "cell_type": "code",
   "execution_count": 24,
   "metadata": {},
   "outputs": [
    {
     "data": {
      "text/plain": [
       "Text(0.5,1,'Вариация')"
      ]
     },
     "execution_count": 24,
     "metadata": {},
     "output_type": "execute_result"
    },
    {
     "data": {
      "image/png": "[encoded data removed]",
      "text/plain": [
       "<Figure size 432x288 with 2 Axes>"
      ]
     },
     "metadata": {},
     "output_type": "display_data"
    }
   ],
   "source": [
    "seaborn.heatmap(std_by_group)\n",
    "plt.title('Вариация')"
   ]
  },
  {
   "cell_type": "markdown",
   "metadata": {},
   "source": [
    "Как видно, разброс не очень большой. а классы хорошо разделимы."
   ]
  },
  {
   "cell_type": "markdown",
   "metadata": {},
   "source": [
    "Теперь y, закодируем его с помощью LabelEncoder"
   ]
  },
  {
   "cell_type": "code",
   "execution_count": 25,
   "metadata": {},
   "outputs": [],
   "source": [
    "y = y.astype('category')"
   ]
  },
  {
   "cell_type": "code",
   "execution_count": 26,
   "metadata": {},
   "outputs": [],
   "source": [
    "le = preprocessing.LabelEncoder()"
   ]
  },
  {
   "cell_type": "code",
   "execution_count": 27,
   "metadata": {},
   "outputs": [],
   "source": [
    "y = le.fit_transform(y)"
   ]
  },
  {
   "cell_type": "code",
   "execution_count": 28,
   "metadata": {},
   "outputs": [
    {
     "data": {
      "text/plain": [
       "array(['c-CS-m', 'c-CS-s', 'c-SC-m', 'c-SC-s', 't-CS-m', 't-CS-s',\n",
       "       't-SC-m', 't-SC-s'], dtype=object)"
      ]
     },
     "execution_count": 28,
     "metadata": {},
     "output_type": "execute_result"
    }
   ],
   "source": [
    "le.classes_"
   ]
  },
  {
   "cell_type": "code",
   "execution_count": 29,
   "metadata": {},
   "outputs": [],
   "source": [
    "unique, counts = np.unique(y, return_counts=True)"
   ]
  },
  {
   "cell_type": "code",
   "execution_count": 30,
   "metadata": {},
   "outputs": [
    {
     "data": {
      "text/plain": [
       "(array([0, 1, 2, 3, 4, 5, 6, 7], dtype=int64),\n",
       " array([150, 135, 150, 135, 135, 105, 135, 135], dtype=int64))"
      ]
     },
     "execution_count": 30,
     "metadata": {},
     "output_type": "execute_result"
    }
   ],
   "source": [
    "unique, counts\n"
   ]
  },
  {
   "cell_type": "markdown",
   "metadata": {},
   "source": [
    "Классы относительно уравновешены  - их количество очень близко, поэтому дополнительные преобразования не нужны"
   ]
  },
  {
   "cell_type": "code",
   "execution_count": 31,
   "metadata": {},
   "outputs": [
    {
     "data": {
      "text/plain": [
       "Text(0.5,1,'Распределение классов')"
      ]
     },
     "execution_count": 31,
     "metadata": {},
     "output_type": "execute_result"
    },
    {
     "data": {
      "image/png": "[encoded data removed]",
      "text/plain": [
       "<Figure size 432x288 with 1 Axes>"
      ]
     },
     "metadata": {},
     "output_type": "display_data"
    }
   ],
   "source": [
    "plt.bar(le.classes_, counts)\n",
    "plt.ylabel('Количество')\n",
    "plt.title('Распределение классов')"
   ]
  },
  {
   "cell_type": "markdown",
   "metadata": {},
   "source": [
    "# 4. Провести построение модели "
   ]
  },
  {
   "cell_type": "markdown",
   "metadata": {},
   "source": [
    "Сначала обучим LogRegression c 5 CV. И проверим качество на accuarcy"
   ]
  },
  {
   "cell_type": "code",
   "execution_count": 32,
   "metadata": {},
   "outputs": [],
   "source": [
    "from sklearn.model_selection import train_test_split\n",
    "x_train, x_test, y_train, y_test = train_test_split(X_scaled, y, test_size=0.3)"
   ]
  },
  {
   "cell_type": "code",
   "execution_count": 33,
   "metadata": {},
   "outputs": [],
   "source": [
    "from sklearn.linear_model import LogisticRegressionCV"
   ]
  },
  {
   "cell_type": "code",
   "execution_count": 34,
   "metadata": {},
   "outputs": [],
   "source": [
    "lr = LogisticRegressionCV(cv=5)"
   ]
  },
  {
   "cell_type": "code",
   "execution_count": 35,
   "metadata": {},
   "outputs": [
    {
     "data": {
      "text/plain": [
       "LogisticRegressionCV(Cs=10, class_weight=None, cv=5, dual=False,\n",
       "           fit_intercept=True, intercept_scaling=1.0, max_iter=100,\n",
       "           multi_class='ovr', n_jobs=1, penalty='l2', random_state=None,\n",
       "           refit=True, scoring=None, solver='lbfgs', tol=0.0001, verbose=0)"
      ]
     },
     "execution_count": 35,
     "metadata": {},
     "output_type": "execute_result"
    }
   ],
   "source": [
    "lr.fit(x_train, y_train)"
   ]
  },
  {
   "cell_type": "code",
   "execution_count": 36,
   "metadata": {},
   "outputs": [],
   "source": [
    "y_predict = lr.predict(x_test)"
   ]
  },
  {
   "cell_type": "code",
   "execution_count": 37,
   "metadata": {},
   "outputs": [],
   "source": [
    "from sklearn.metrics import accuracy_score\n"
   ]
  },
  {
   "cell_type": "code",
   "execution_count": 38,
   "metadata": {},
   "outputs": [
    {
     "data": {
      "text/plain": [
       "0.9938271604938271"
      ]
     },
     "execution_count": 38,
     "metadata": {},
     "output_type": "execute_result"
    }
   ],
   "source": [
    "accuracy_score(y_test, y_predict)"
   ]
  },
  {
   "cell_type": "markdown",
   "metadata": {},
   "source": [
    "Неплохая оценка"
   ]
  },
  {
   "cell_type": "code",
   "execution_count": 39,
   "metadata": {},
   "outputs": [
    {
     "data": {
      "text/plain": [
       "(8, 77)"
      ]
     },
     "execution_count": 39,
     "metadata": {},
     "output_type": "execute_result"
    }
   ],
   "source": [
    "lr.coef_.shape"
   ]
  },
  {
   "cell_type": "code",
   "execution_count": 40,
   "metadata": {},
   "outputs": [
    {
     "data": {
      "text/plain": [
       "Text(0.5,1,'Коэффициенты перед экспрессией генов')"
      ]
     },
     "execution_count": 40,
     "metadata": {},
     "output_type": "execute_result"
    },
    {
     "data": {
      "image/png": "[encoded data removed]",
      "text/plain": [
       "<Figure size 432x288 with 2 Axes>"
      ]
     },
     "metadata": {},
     "output_type": "display_data"
    }
   ],
   "source": [
    "seaborn.heatmap(np.abs(lr.coef_))\n",
    "plt.title('Коэффициенты перед экспрессией генов')"
   ]
  },
  {
   "cell_type": "markdown",
   "metadata": {},
   "source": [
    "Заметно, что классы 7, 5, 2, 1 не имеют ярко выраженных определяющих генов."
   ]
  },
  {
   "cell_type": "code",
   "execution_count": 41,
   "metadata": {},
   "outputs": [
    {
     "data": {
      "text/plain": [
       "array([-1.41193158, -2.65077277,  1.64994993, -0.5117937 ,  2.54959506,\n",
       "        0.62001776,  1.52495325,  2.86401969, -3.31659144, -1.4262563 ,\n",
       "       -2.24155073,  0.47011102,  1.15256845,  1.93470685, -0.7709026 ,\n",
       "       -4.46587192, -3.3244209 , -2.82086949,  0.79588021,  4.01437141,\n",
       "       -1.25523081, -2.96399271,  1.06887765,  0.31245171, -1.17300008,\n",
       "       -3.24887149,  3.39854998,  0.10442387,  2.8950723 , -0.60067959,\n",
       "       -0.15526696, -0.19627595, -2.2501371 ,  0.75926395, -0.8870772 ,\n",
       "       -2.22698477,  0.69457837, -0.34804193,  0.85100445, -1.02213704,\n",
       "        0.19691606,  0.61471834, -5.64696322, -3.68427703, -1.10235539,\n",
       "        1.66576869, -4.01652454,  0.36388559, -3.80747828, -0.11744002,\n",
       "        2.35965898, -2.24924658, -2.04791695,  0.32633657,  2.52769292,\n",
       "        2.24961272, -2.00668592, -2.68846056, -0.3509735 , -1.64650697,\n",
       "        0.01099059,  2.5563939 , -0.96306402,  1.86542268, -1.80924869,\n",
       "        0.00721195,  2.19622397, -0.14609978,  1.1842486 , -0.93550973,\n",
       "        0.32633657, -1.04339427, -0.15969993,  0.38080817, -0.14417178,\n",
       "       -2.27788684, -2.00308098])"
      ]
     },
     "execution_count": 41,
     "metadata": {},
     "output_type": "execute_result"
    }
   ],
   "source": [
    "lr.coef_.mean(axis=0)"
   ]
  },
  {
   "cell_type": "code",
   "execution_count": 42,
   "metadata": {},
   "outputs": [
    {
     "data": {
      "text/plain": [
       "array([ 6.5528575 , 16.01379663,  9.68671386, 14.24603873, 16.02012624,\n",
       "       10.33586942, 15.05129237, 17.46137739,  5.65601572,  5.91987167,\n",
       "        3.23562238, 26.17442756, 24.57104278,  7.29810294, 12.0093683 ,\n",
       "        7.82597576,  4.89315096, 12.26633332,  5.59327806, 23.96359465,\n",
       "        6.16308356, 14.57609791, 13.73505177,  8.24836362, 25.21566618,\n",
       "        3.22077253, 19.45402662,  4.92114456, 19.18758867,  7.194866  ,\n",
       "       28.42753555,  7.53245797, 19.08188707, 20.96627013,  9.32063959,\n",
       "        9.68401222, 16.27288855,  5.44428612,  5.68826831, 15.41086691,\n",
       "        8.11521069, 21.25862131,  3.15051308,  4.33248784, 11.29016914,\n",
       "        9.81600669, 10.27590226, 10.74259548,  5.52566406,  6.60329832,\n",
       "       13.14602982, 10.32750333,  7.4441891 ,  6.66297976, 20.79088139,\n",
       "       22.71184587, 12.68712792,  4.84867425, 10.81223575,  1.68502149,\n",
       "       13.11627419, 10.72904205, 26.09035187,  9.51413304,  7.25554247,\n",
       "        5.38095408, 19.01226984, 11.22904797,  8.14420842,  6.89146778,\n",
       "        6.66297976, 15.21114148, 20.39782372,  7.5230613 ,  6.37494406,\n",
       "        1.15027787, 21.16579466])"
      ]
     },
     "execution_count": 42,
     "metadata": {},
     "output_type": "execute_result"
    }
   ],
   "source": [
    "lr.coef_.max(axis=0)"
   ]
  },
  {
   "cell_type": "code",
   "execution_count": 43,
   "metadata": {},
   "outputs": [
    {
     "data": {
      "text/plain": [
       "array([0.06499749, 0.45171417, 0.44813822, 0.64545964, 2.19199195,\n",
       "       0.08368474, 0.60481608, 1.64012203, 0.08107475, 0.47269143,\n",
       "       0.41510826, 0.95547038, 0.49510166, 0.57370799, 0.97750979,\n",
       "       0.62036323, 0.14434786, 3.4010924 , 0.05659607, 0.00462526,\n",
       "       0.26150781, 1.39145337, 0.10851228, 0.0949691 , 0.62241508,\n",
       "       1.5907261 , 1.31129433, 0.46029771, 0.94806225, 0.3024998 ,\n",
       "       1.36686055, 0.89726516, 1.52074716, 0.2887654 , 1.09267969,\n",
       "       0.04656206, 0.63882146, 0.28217044, 0.72781357, 0.64977727,\n",
       "       0.35175628, 0.37472472, 0.49319118, 0.18784952, 2.87347853,\n",
       "       1.51400079, 0.75166928, 0.28598928, 1.03246019, 1.05251305,\n",
       "       1.04367202, 0.08874923, 0.46274015, 0.45261052, 0.2141315 ,\n",
       "       0.10184516, 1.16303534, 0.07048105, 1.60169573, 0.12878807,\n",
       "       1.79469077, 3.4182804 , 0.71345155, 0.53371288, 0.26050816,\n",
       "       0.10675796, 0.00999025, 0.3581716 , 0.41352019, 0.26098609,\n",
       "       0.45261052, 0.2555217 , 0.01598044, 0.1203163 , 0.60459663,\n",
       "       0.2530857 , 0.51451292])"
      ]
     },
     "execution_count": 43,
     "metadata": {},
     "output_type": "execute_result"
    }
   ],
   "source": [
    "np.abs(lr.coef_).min(axis=0)"
   ]
  },
  {
   "cell_type": "markdown",
   "metadata": {},
   "source": [
    "Чисто визуально, коэффициенты НЕ занижены, что говорит, что в предсказании участвуют все гены. Для более детального анализа построим графики "
   ]
  },
  {
   "cell_type": "markdown",
   "metadata": {},
   "source": [
    "Немного украдем кода из лекции:"
   ]
  },
  {
   "cell_type": "code",
   "execution_count": 44,
   "metadata": {},
   "outputs": [
    {
     "data": {
      "text/plain": [
       "PCA(copy=True, iterated_power='auto', n_components=None, random_state=None,\n",
       "  svd_solver='auto', tol=0.0, whiten=False)"
      ]
     },
     "execution_count": 44,
     "metadata": {},
     "output_type": "execute_result"
    }
   ],
   "source": [
    "from sklearn.decomposition import PCA\n",
    "pca = PCA()\n",
    "pca.fit(x_train)\n"
   ]
  },
  {
   "cell_type": "code",
   "execution_count": 45,
   "metadata": {},
   "outputs": [
    {
     "data": {
      "text/plain": [
       "[<matplotlib.lines.Line2D at 0x23ff1aa8d30>]"
      ]
     },
     "execution_count": 45,
     "metadata": {},
     "output_type": "execute_result"
    },
    {
     "data": {
      "image/png": "[encoded data removed]",
      "text/plain": [
       "<Figure size 432x288 with 1 Axes>"
      ]
     },
     "metadata": {},
     "output_type": "display_data"
    }
   ],
   "source": [
    "cumsum = np.cumsum(pca.explained_variance_ratio_)\n",
    "plt.plot(cumsum)"
   ]
  },
  {
   "cell_type": "markdown",
   "metadata": {},
   "source": [
    "Возьмем первые 20, что грубо обеспечивает 90% дисперсии"
   ]
  },
  {
   "cell_type": "code",
   "execution_count": 46,
   "metadata": {},
   "outputs": [],
   "source": [
    "pca = PCA(n_components=20)\n",
    "x_train_pca = pca.fit_transform(x_train)"
   ]
  },
  {
   "cell_type": "code",
   "execution_count": 47,
   "metadata": {},
   "outputs": [
    {
     "data": {
      "text/plain": [
       "0.9135802469135802"
      ]
     },
     "execution_count": 47,
     "metadata": {},
     "output_type": "execute_result"
    }
   ],
   "source": [
    "lr = LogisticRegressionCV(cv=5)\n",
    "lr.fit(x_train_pca, y_train)\n",
    "y_pred20 = lr.predict(pca.transform(x_test))\n",
    "accuracy_score(y_test, y_pred20)"
   ]
  },
  {
   "cell_type": "markdown",
   "metadata": {},
   "source": [
    "Упало, но не намного. Повторим для n=2, чтобы визуализировать"
   ]
  },
  {
   "cell_type": "code",
   "execution_count": 48,
   "metadata": {},
   "outputs": [
    {
     "data": {
      "text/plain": [
       "0.3148148148148148"
      ]
     },
     "execution_count": 48,
     "metadata": {},
     "output_type": "execute_result"
    }
   ],
   "source": [
    "pca = PCA(n_components=2)\n",
    "x_train_pca = pca.fit_transform(x_train)\n",
    "lr = LogisticRegressionCV(cv=5)\n",
    "lr.fit(x_train_pca, y_train)\n",
    "y_pred = lr.predict(pca.transform(x_test))\n",
    "accuracy_score(y_test, y_pred)"
   ]
  },
  {
   "cell_type": "markdown",
   "metadata": {},
   "source": [
    "Как видно, точно очень плохая. Попробуем визуализировать"
   ]
  },
  {
   "cell_type": "code",
   "execution_count": 49,
   "metadata": {},
   "outputs": [
    {
     "data": {
      "text/plain": [
       "<matplotlib.collections.PathCollection at 0x23ff23a19e8>"
      ]
     },
     "execution_count": 49,
     "metadata": {},
     "output_type": "execute_result"
    },
    {
     "data": {
      "image/png": "[encoded data removed]",
      "text/plain": [
       "<Figure size 432x288 with 1 Axes>"
      ]
     },
     "metadata": {},
     "output_type": "display_data"
    }
   ],
   "source": [
    "plt.scatter(x_train[:,0], x_train[:,1], c=y_train)"
   ]
  },
  {
   "cell_type": "markdown",
   "metadata": {},
   "source": [
    "Не очень четко"
   ]
  },
  {
   "cell_type": "markdown",
   "metadata": {},
   "source": [
    "Теперь повторим в from sklearn.manifold import TSNE"
   ]
  },
  {
   "cell_type": "code",
   "execution_count": 50,
   "metadata": {},
   "outputs": [],
   "source": [
    "from sklearn.manifold import TSNE"
   ]
  },
  {
   "cell_type": "code",
   "execution_count": 51,
   "metadata": {},
   "outputs": [
    {
     "data": {
      "text/plain": [
       "Text(0.5,1,'Попытка разграничение с TSNE. Классы истинные, perplexity = 30')"
      ]
     },
     "execution_count": 51,
     "metadata": {},
     "output_type": "execute_result"
    },
    {
     "data": {
      "image/png": "[encoded data removed]",
      "text/plain": [
       "<Figure size 432x288 with 1 Axes>"
      ]
     },
     "metadata": {},
     "output_type": "display_data"
    }
   ],
   "source": [
    "tsne = TSNE(n_components=2)\n",
    "x_train_tsne = tsne.fit_transform(x_train)\n",
    "plt.scatter(x_train_tsne[:,0], x_train_tsne[:,1], c=y_train)\n",
    "plt.title('Попытка разграничение с TSNE. Классы истинные, perplexity = 30')"
   ]
  },
  {
   "cell_type": "code",
   "execution_count": 52,
   "metadata": {},
   "outputs": [
    {
     "data": {
      "text/plain": [
       "Text(0.5,1,'Попытка разграничение с TSNE. Классы истинные, perplexity = 5')"
      ]
     },
     "execution_count": 52,
     "metadata": {},
     "output_type": "execute_result"
    },
    {
     "data": {
      "image/png": "[encoded data removed]",
      "text/plain": [
       "<Figure size 432x288 with 1 Axes>"
      ]
     },
     "metadata": {},
     "output_type": "display_data"
    }
   ],
   "source": [
    "tsne = TSNE(n_components=2, perplexity = 5)\n",
    "x_train_tsne = tsne.fit_transform(x_train)\n",
    "plt.scatter(x_train_tsne[:,0], x_train_tsne[:,1], c=y_train)\n",
    "plt.title('Попытка разграничение с TSNE. Классы истинные, perplexity = 5')"
   ]
  },
  {
   "cell_type": "code",
   "execution_count": null,
   "metadata": {},
   "outputs": [],
   "source": [
    "tsne = TSNE(n_components=2, perplexity = 50, )\n",
    "x_train_tsne = tsne.fit_transform(x_train)\n",
    "plt.scatter(x_train_tsne[:,0], x_train_tsne[:,1], c=y_train)\n",
    "plt.title('Попытка разграничение с TSNE. Классы истинные, perplexity = 50')"
   ]
  },
  {
   "cell_type": "code",
   "execution_count": null,
   "metadata": {},
   "outputs": [],
   "source": [
    "tsne = TSNE(n_components=2, perplexity = 50, learning_rate =500)\n",
    "x_train_tsne = tsne.fit_transform(x_train)\n",
    "plt.scatter(x_train_tsne[:,0], x_train_tsne[:,1], c=y_train)\n",
    "plt.title('Попытка разграничение с TSNE. Классы истинные, perplexity = 50, learning_rate =500')"
   ]
  },
  {
   "cell_type": "markdown",
   "metadata": {},
   "source": [
    "Попробуем выполнить кластеризацию и визиализируем ее на tsne"
   ]
  },
  {
   "cell_type": "code",
   "execution_count": null,
   "metadata": {},
   "outputs": [],
   "source": [
    "from sklearn.cluster import DBSCAN"
   ]
  },
  {
   "cell_type": "code",
   "execution_count": null,
   "metadata": {},
   "outputs": [],
   "source": [
    "sc = DBSCAN(eps = 0.6)"
   ]
  },
  {
   "cell_type": "code",
   "execution_count": null,
   "metadata": {},
   "outputs": [],
   "source": [
    "y_dbscan = sc.fit_predict(x_train)"
   ]
  },
  {
   "cell_type": "code",
   "execution_count": null,
   "metadata": {},
   "outputs": [],
   "source": [
    "\n",
    "plt.scatter(x_train_tsne[:,0], x_train_tsne[:,1], c=y_dbscan)\n",
    "plt.title('Попытка разграничение с TSNE. DBSCAN, perplexity = 50, learning_rate =500')"
   ]
  },
  {
   "cell_type": "markdown",
   "metadata": {},
   "source": [
    "# 5. Проанализировать результат\n",
    "получилось или нет, почему, что можно улучшить, можно ли интерпретировать результат"
   ]
  },
  {
   "cell_type": "markdown",
   "metadata": {},
   "source": [
    "Что получилось: \n",
    "    - подготовить признаки для логистической регрессии\n",
    "    - уменьшить количество признаков без значимого падения точности\n",
    "    - неплохая попытка визуализации с помощью TSNE\n",
    "Что не получилось:\n",
    "    - точное разделение при 2 мерной проекции. \n",
    "    хотя скорее всего этого добиться сложно, \n",
    "    так как много классов и как было отмечено \n",
    "    при анализе логистической регрессии значимость признаков довольно близка\n",
    "    - классификация - что в принципе и ожидалось,\n",
    "    так как сложно подобрать оптимальные параметры. "
   ]
  },
  {
   "cell_type": "markdown",
   "metadata": {},
   "source": [
    "Попробуем kmeans)"
   ]
  },
  {
   "cell_type": "code",
   "execution_count": null,
   "metadata": {},
   "outputs": [],
   "source": [
    "from sklearn.cluster import KMeans"
   ]
  },
  {
   "cell_type": "code",
   "execution_count": null,
   "metadata": {},
   "outputs": [],
   "source": [
    "km = KMeans(n_clusters=8)"
   ]
  },
  {
   "cell_type": "code",
   "execution_count": null,
   "metadata": {},
   "outputs": [],
   "source": [
    "y_km = km.fit_predict(x_train)"
   ]
  },
  {
   "cell_type": "code",
   "execution_count": null,
   "metadata": {},
   "outputs": [],
   "source": [
    "\n",
    "plt.scatter(x_train_tsne[:,0], x_train_tsne[:,1], c=y_km)\n",
    "plt.title('Попытка разграничение с TSNE. KMeans, perplexity = 50, learning_rate =500')"
   ]
  },
  {
   "cell_type": "markdown",
   "metadata": {},
   "source": [
    "Попытка не очень удачная, зато визуализация очень хорошая)"
   ]
  }
 ],
 "metadata": {
  "kernelspec": {
   "display_name": "Python 3",
   "language": "python",
   "name": "python3"
  },
  "language_info": {
   "codemirror_mode": {
    "name": "ipython",
    "version": 3
   },
   "file_extension": ".py",
   "mimetype": "text/x-python",
   "name": "python",
   "nbconvert_exporter": "python",
   "pygments_lexer": "ipython3",
   "version": "3.6.5"
  }
 },
 "nbformat": 4,
 "nbformat_minor": 2
}
