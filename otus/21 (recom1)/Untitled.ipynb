{
 "cells": [
  {
   "cell_type": "markdown",
   "metadata": {},
   "source": [
    "Работа с датасетом MovieLens\n",
    "\n",
    "https://grouplens.org/datasets/movielens/\n",
    "\n",
    "См книгу \n",
    "Python for Data Analysis, Wes McKinney\n",
    "2. Introductory Examples, MovieLens 1M Data Set (стр. 26)\n",
    "\n",
    "1. Оценить количество фильмов, пользователей и оценок\n",
    "2. Оценить распределения (предлагается построить распределения количества оценок по фильмам и пользователям и увидеть т.н. \"длинные хвосты\" в распределениях)\n",
    "3. Оценить средние оценки по фильмам и по пользователям\n",
    "4. Выбрать критерий, показывающий, что фильм нравится всем, или не нравится никому, и вывести топ фильмов из этих списков. Знаете ли вы эти фильмы, согласны ли с оценками?\n",
    "5. Выбрать лучшие фильмы\n",
    "6. Посмотреть на смещение оценок, увидеть сколько пользователей занижают оценки и завышают оценки.\n",
    "7. Построить рекомендательную систему с помощью библиотеки surprise (или другой, по желанию). Применить подбор параметров модели на сетке, оценить качество полученной модели по выбранной вами метрике. \n",
    "8. Получить рекомендации для нового пользователя, совпадают ли они с лучшими фильмами?\n",
    "9. Поставьте оценку какому-нибудь фильму (который вы знаете и можете поставить оценку) и получите рекомендации, насколько они качественные по вашим ощущениям? Сделайте это для фильма с негативной оценкой и для фильма с позитивной оценкой.\n",
    "10. Добавляйте оценки и посмотрите, как изменяются рекомендации фильмов. Соответствуют ли они вашим предпочтениям? Есть ли недостатки у системы? Сколько нужно оценок для того, чтобы рекомендации стали релевантными? (в этом пункте добавляйте оценки в том числе из интересного вам жанра для пункта 11)\n",
    "11. Построить рекомендательную систему по подвыборке - выбрать интересный вам жанр. Изменились ли рекомендации? Стали лучше\\хуже?\n",
    "12(*). сделать самостоятельное исследование и выяснить, как добавить нового пользователя\\фильм в систему без переобучения всей модели, описать архитектуру такого решения\n"
   ]
  },
  {
   "cell_type": "code",
   "execution_count": 2,
   "metadata": {},
   "outputs": [
    {
     "name": "stdout",
     "output_type": "stream",
     "text": [
      "Populating the interactive namespace from numpy and matplotlib\n"
     ]
    }
   ],
   "source": [
    "import pandas as pd\n",
    "%pylab inline"
   ]
  },
  {
   "cell_type": "code",
   "execution_count": 6,
   "metadata": {},
   "outputs": [],
   "source": [
    "rating = pd.read_csv('ml-latest-small/ratings.csv')"
   ]
  },
  {
   "cell_type": "code",
   "execution_count": 9,
   "metadata": {},
   "outputs": [
    {
     "data": {
      "text/html": [
       "<div>\n",
       "<style scoped>\n",
       "    .dataframe tbody tr th:only-of-type {\n",
       "        vertical-align: middle;\n",
       "    }\n",
       "\n",
       "    .dataframe tbody tr th {\n",
       "        vertical-align: top;\n",
       "    }\n",
       "\n",
       "    .dataframe thead th {\n",
       "        text-align: right;\n",
       "    }\n",
       "</style>\n",
       "<table border=\"1\" class=\"dataframe\">\n",
       "  <thead>\n",
       "    <tr style=\"text-align: right;\">\n",
       "      <th></th>\n",
       "      <th>userId</th>\n",
       "      <th>movieId</th>\n",
       "      <th>rating</th>\n",
       "      <th>timestamp</th>\n",
       "    </tr>\n",
       "  </thead>\n",
       "  <tbody>\n",
       "    <tr>\n",
       "      <th>0</th>\n",
       "      <td>1</td>\n",
       "      <td>1</td>\n",
       "      <td>4.0</td>\n",
       "      <td>964982703</td>\n",
       "    </tr>\n",
       "  </tbody>\n",
       "</table>\n",
       "</div>"
      ],
      "text/plain": [
       "   userId  movieId  rating  timestamp\n",
       "0       1        1     4.0  964982703"
      ]
     },
     "execution_count": 9,
     "metadata": {},
     "output_type": "execute_result"
    }
   ],
   "source": [
    "rating.head(1)"
   ]
  },
  {
   "cell_type": "code",
   "execution_count": 10,
   "metadata": {},
   "outputs": [],
   "source": [
    "movie = pd.read_csv('ml-latest-small/movies.csv')"
   ]
  },
  {
   "cell_type": "code",
   "execution_count": 11,
   "metadata": {},
   "outputs": [
    {
     "data": {
      "text/html": [
       "<div>\n",
       "<style scoped>\n",
       "    .dataframe tbody tr th:only-of-type {\n",
       "        vertical-align: middle;\n",
       "    }\n",
       "\n",
       "    .dataframe tbody tr th {\n",
       "        vertical-align: top;\n",
       "    }\n",
       "\n",
       "    .dataframe thead th {\n",
       "        text-align: right;\n",
       "    }\n",
       "</style>\n",
       "<table border=\"1\" class=\"dataframe\">\n",
       "  <thead>\n",
       "    <tr style=\"text-align: right;\">\n",
       "      <th></th>\n",
       "      <th>movieId</th>\n",
       "      <th>title</th>\n",
       "      <th>genres</th>\n",
       "    </tr>\n",
       "  </thead>\n",
       "  <tbody>\n",
       "    <tr>\n",
       "      <th>0</th>\n",
       "      <td>1</td>\n",
       "      <td>Toy Story (1995)</td>\n",
       "      <td>Adventure|Animation|Children|Comedy|Fantasy</td>\n",
       "    </tr>\n",
       "  </tbody>\n",
       "</table>\n",
       "</div>"
      ],
      "text/plain": [
       "   movieId             title                                       genres\n",
       "0        1  Toy Story (1995)  Adventure|Animation|Children|Comedy|Fantasy"
      ]
     },
     "execution_count": 11,
     "metadata": {},
     "output_type": "execute_result"
    }
   ],
   "source": [
    "movie.head(1)"
   ]
  },
  {
   "cell_type": "code",
   "execution_count": 115,
   "metadata": {},
   "outputs": [
    {
     "data": {
      "text/html": [
       "<div>\n",
       "<style scoped>\n",
       "    .dataframe tbody tr th:only-of-type {\n",
       "        vertical-align: middle;\n",
       "    }\n",
       "\n",
       "    .dataframe tbody tr th {\n",
       "        vertical-align: top;\n",
       "    }\n",
       "\n",
       "    .dataframe thead th {\n",
       "        text-align: right;\n",
       "    }\n",
       "</style>\n",
       "<table border=\"1\" class=\"dataframe\">\n",
       "  <thead>\n",
       "    <tr style=\"text-align: right;\">\n",
       "      <th></th>\n",
       "      <th>userId</th>\n",
       "      <th>movieId</th>\n",
       "      <th>rating</th>\n",
       "      <th>timestamp</th>\n",
       "      <th>count</th>\n",
       "    </tr>\n",
       "  </thead>\n",
       "  <tbody>\n",
       "    <tr>\n",
       "      <th>count</th>\n",
       "      <td>100836.000000</td>\n",
       "      <td>100836.000000</td>\n",
       "      <td>100836.000000</td>\n",
       "      <td>1.008360e+05</td>\n",
       "      <td>100836.0</td>\n",
       "    </tr>\n",
       "    <tr>\n",
       "      <th>mean</th>\n",
       "      <td>326.127564</td>\n",
       "      <td>19435.295718</td>\n",
       "      <td>3.501557</td>\n",
       "      <td>1.205946e+09</td>\n",
       "      <td>1.0</td>\n",
       "    </tr>\n",
       "    <tr>\n",
       "      <th>std</th>\n",
       "      <td>182.618491</td>\n",
       "      <td>35530.987199</td>\n",
       "      <td>1.042529</td>\n",
       "      <td>2.162610e+08</td>\n",
       "      <td>0.0</td>\n",
       "    </tr>\n",
       "    <tr>\n",
       "      <th>min</th>\n",
       "      <td>1.000000</td>\n",
       "      <td>1.000000</td>\n",
       "      <td>0.500000</td>\n",
       "      <td>8.281246e+08</td>\n",
       "      <td>1.0</td>\n",
       "    </tr>\n",
       "    <tr>\n",
       "      <th>25%</th>\n",
       "      <td>177.000000</td>\n",
       "      <td>1199.000000</td>\n",
       "      <td>3.000000</td>\n",
       "      <td>1.019124e+09</td>\n",
       "      <td>1.0</td>\n",
       "    </tr>\n",
       "    <tr>\n",
       "      <th>50%</th>\n",
       "      <td>325.000000</td>\n",
       "      <td>2991.000000</td>\n",
       "      <td>3.500000</td>\n",
       "      <td>1.186087e+09</td>\n",
       "      <td>1.0</td>\n",
       "    </tr>\n",
       "    <tr>\n",
       "      <th>75%</th>\n",
       "      <td>477.000000</td>\n",
       "      <td>8122.000000</td>\n",
       "      <td>4.000000</td>\n",
       "      <td>1.435994e+09</td>\n",
       "      <td>1.0</td>\n",
       "    </tr>\n",
       "    <tr>\n",
       "      <th>max</th>\n",
       "      <td>610.000000</td>\n",
       "      <td>193609.000000</td>\n",
       "      <td>5.000000</td>\n",
       "      <td>1.537799e+09</td>\n",
       "      <td>1.0</td>\n",
       "    </tr>\n",
       "  </tbody>\n",
       "</table>\n",
       "</div>"
      ],
      "text/plain": [
       "              userId        movieId         rating     timestamp     count\n",
       "count  100836.000000  100836.000000  100836.000000  1.008360e+05  100836.0\n",
       "mean      326.127564   19435.295718       3.501557  1.205946e+09       1.0\n",
       "std       182.618491   35530.987199       1.042529  2.162610e+08       0.0\n",
       "min         1.000000       1.000000       0.500000  8.281246e+08       1.0\n",
       "25%       177.000000    1199.000000       3.000000  1.019124e+09       1.0\n",
       "50%       325.000000    2991.000000       3.500000  1.186087e+09       1.0\n",
       "75%       477.000000    8122.000000       4.000000  1.435994e+09       1.0\n",
       "max       610.000000  193609.000000       5.000000  1.537799e+09       1.0"
      ]
     },
     "execution_count": 115,
     "metadata": {},
     "output_type": "execute_result"
    }
   ],
   "source": [
    "rating.describe()"
   ]
  },
  {
   "cell_type": "markdown",
   "metadata": {},
   "source": [
    "1. Оценить количество фильмов, пользователей и оценок"
   ]
  },
  {
   "cell_type": "code",
   "execution_count": 21,
   "metadata": {},
   "outputs": [
    {
     "data": {
      "text/plain": [
       "(100836, 4)"
      ]
     },
     "execution_count": 21,
     "metadata": {},
     "output_type": "execute_result"
    }
   ],
   "source": [
    "rating.shape"
   ]
  },
  {
   "cell_type": "markdown",
   "metadata": {},
   "source": [
    "В анализе принято оценок - 100836"
   ]
  },
  {
   "cell_type": "markdown",
   "metadata": {},
   "source": [
    "Количество пользователей"
   ]
  },
  {
   "cell_type": "code",
   "execution_count": 15,
   "metadata": {},
   "outputs": [
    {
     "data": {
      "text/plain": [
       "(610,)"
      ]
     },
     "execution_count": 15,
     "metadata": {},
     "output_type": "execute_result"
    }
   ],
   "source": [
    "rating['userId'].unique().shape"
   ]
  },
  {
   "cell_type": "markdown",
   "metadata": {},
   "source": [
    "Количество фильмов\n"
   ]
  },
  {
   "cell_type": "code",
   "execution_count": 20,
   "metadata": {},
   "outputs": [
    {
     "data": {
      "text/plain": [
       "(9724,)"
      ]
     },
     "execution_count": 20,
     "metadata": {},
     "output_type": "execute_result"
    }
   ],
   "source": [
    "rating['movieId'].unique().shape"
   ]
  },
  {
   "cell_type": "markdown",
   "metadata": {},
   "source": [
    "2. Оценить распределения (предлагается построить распределения количества оценок по фильмам и пользователям и увидеть т.н. \"длинные хвосты\" в распределениях)\n"
   ]
  },
  {
   "cell_type": "code",
   "execution_count": 26,
   "metadata": {},
   "outputs": [],
   "source": [
    "userId = rating['userId']"
   ]
  },
  {
   "cell_type": "code",
   "execution_count": 30,
   "metadata": {},
   "outputs": [],
   "source": [
    "count_user = userId.value_counts()"
   ]
  },
  {
   "cell_type": "code",
   "execution_count": 34,
   "metadata": {},
   "outputs": [
    {
     "data": {
      "text/plain": [
       "(array([378.,  98.,  44.,  22.,  20.,  12.,   7.,   7.,   1.,   5.,   4.,\n",
       "          3.,   1.,   2.,   2.,   0.,   0.,   0.,   0.,   0.,   1.,   0.,\n",
       "          0.,   1.,   0.,   0.,   0.,   1.,   0.,   1.]),\n",
       " array([  20.        ,  109.26666667,  198.53333333,  287.8       ,\n",
       "         377.06666667,  466.33333333,  555.6       ,  644.86666667,\n",
       "         734.13333333,  823.4       ,  912.66666667, 1001.93333333,\n",
       "        1091.2       , 1180.46666667, 1269.73333333, 1359.        ,\n",
       "        1448.26666667, 1537.53333333, 1626.8       , 1716.06666667,\n",
       "        1805.33333333, 1894.6       , 1983.86666667, 2073.13333333,\n",
       "        2162.4       , 2251.66666667, 2340.93333333, 2430.2       ,\n",
       "        2519.46666667, 2608.73333333, 2698.        ]),\n",
       " <a list of 30 Patch objects>)"
      ]
     },
     "execution_count": 34,
     "metadata": {},
     "output_type": "execute_result"
    },
    {
     "data": {
      "image/png": "[encoded data removed]",
      "text/plain": [
       "<Figure size 432x288 with 1 Axes>"
      ]
     },
     "metadata": {
      "needs_background": "light"
     },
     "output_type": "display_data"
    }
   ],
   "source": [
    "plt.hist(userId.value_counts(), bins = 30)"
   ]
  },
  {
   "cell_type": "markdown",
   "metadata": {},
   "source": [
    "основная часть ставит немного оценок"
   ]
  },
  {
   "cell_type": "code",
   "execution_count": 35,
   "metadata": {},
   "outputs": [
    {
     "data": {
      "text/plain": [
       "(array([7.757e+03, 8.360e+02, 3.530e+02, 2.460e+02, 1.490e+02, 1.040e+02,\n",
       "        6.300e+01, 4.300e+01, 3.500e+01, 3.600e+01, 1.800e+01, 1.800e+01,\n",
       "        1.600e+01, 7.000e+00, 5.000e+00, 6.000e+00, 6.000e+00, 6.000e+00,\n",
       "        7.000e+00, 3.000e+00, 2.000e+00, 2.000e+00, 1.000e+00, 0.000e+00,\n",
       "        0.000e+00, 2.000e+00, 0.000e+00, 1.000e+00, 1.000e+00, 1.000e+00]),\n",
       " array([  1.        ,  11.93333333,  22.86666667,  33.8       ,\n",
       "         44.73333333,  55.66666667,  66.6       ,  77.53333333,\n",
       "         88.46666667,  99.4       , 110.33333333, 121.26666667,\n",
       "        132.2       , 143.13333333, 154.06666667, 165.        ,\n",
       "        175.93333333, 186.86666667, 197.8       , 208.73333333,\n",
       "        219.66666667, 230.6       , 241.53333333, 252.46666667,\n",
       "        263.4       , 274.33333333, 285.26666667, 296.2       ,\n",
       "        307.13333333, 318.06666667, 329.        ]),\n",
       " <a list of 30 Patch objects>)"
      ]
     },
     "execution_count": 35,
     "metadata": {},
     "output_type": "execute_result"
    },
    {
     "data": {
      "image/png": "[encoded data removed]",
      "text/plain": [
       "<Figure size 432x288 with 1 Axes>"
      ]
     },
     "metadata": {
      "needs_background": "light"
     },
     "output_type": "display_data"
    }
   ],
   "source": [
    "plt.hist(rating['movieId'].value_counts(), bins = 30)"
   ]
  },
  {
   "cell_type": "markdown",
   "metadata": {},
   "source": [
    "Аналогично с фильмами"
   ]
  },
  {
   "cell_type": "markdown",
   "metadata": {},
   "source": [
    "3. Оценить средние оценки по фильмам и по пользователям"
   ]
  },
  {
   "cell_type": "markdown",
   "metadata": {},
   "source": [
    "Немного непонятно задание, но построим гистограмму по средним для фильмов и пользователей"
   ]
  },
  {
   "cell_type": "code",
   "execution_count": 38,
   "metadata": {},
   "outputs": [],
   "source": [
    "mean_userid = rating.groupby('userId').mean()"
   ]
  },
  {
   "cell_type": "code",
   "execution_count": 40,
   "metadata": {},
   "outputs": [
    {
     "data": {
      "text/plain": [
       "(array([ 1.,  0.,  0.,  0.,  0.,  0.,  0.,  0.,  0.,  0.,  0.,  2.,  1.,\n",
       "         1.,  3.,  2.,  0.,  6.,  8.,  7.,  4.,  8.,  5., 12., 10., 21.,\n",
       "        32., 31., 37., 27., 37., 33., 33., 44., 39., 38., 37., 30., 27.,\n",
       "        22., 12., 16., 10.,  5.,  1.,  3.,  1.,  2.,  1.,  1.]),\n",
       " array([1.275 , 1.3495, 1.424 , 1.4985, 1.573 , 1.6475, 1.722 , 1.7965,\n",
       "        1.871 , 1.9455, 2.02  , 2.0945, 2.169 , 2.2435, 2.318 , 2.3925,\n",
       "        2.467 , 2.5415, 2.616 , 2.6905, 2.765 , 2.8395, 2.914 , 2.9885,\n",
       "        3.063 , 3.1375, 3.212 , 3.2865, 3.361 , 3.4355, 3.51  , 3.5845,\n",
       "        3.659 , 3.7335, 3.808 , 3.8825, 3.957 , 4.0315, 4.106 , 4.1805,\n",
       "        4.255 , 4.3295, 4.404 , 4.4785, 4.553 , 4.6275, 4.702 , 4.7765,\n",
       "        4.851 , 4.9255, 5.    ]),\n",
       " <a list of 50 Patch objects>)"
      ]
     },
     "execution_count": 40,
     "metadata": {},
     "output_type": "execute_result"
    },
    {
     "data": {
      "image/png": "[encoded data removed]",
      "text/plain": [
       "<Figure size 432x288 with 1 Axes>"
      ]
     },
     "metadata": {
      "needs_background": "light"
     },
     "output_type": "display_data"
    }
   ],
   "source": [
    "plt.hist(mean_userid['rating'], bins=50)"
   ]
  },
  {
   "cell_type": "markdown",
   "metadata": {},
   "source": [
    "По виду близко к нормальному распределению, при этом среднее значение около 3,5. Т.е. у каждого пользователя своя система оценок"
   ]
  },
  {
   "cell_type": "code",
   "execution_count": 43,
   "metadata": {},
   "outputs": [],
   "source": [
    "mean_movieid = rating.groupby('movieId').mean()"
   ]
  },
  {
   "cell_type": "code",
   "execution_count": 44,
   "metadata": {},
   "outputs": [
    {
     "data": {
      "text/plain": [
       "(array([ 1.,  0.,  0.,  0.,  0.,  0.,  0.,  0.,  0.,  0.,  0.,  2.,  1.,\n",
       "         1.,  3.,  2.,  0.,  6.,  8.,  7.,  4.,  8.,  5., 12., 10., 21.,\n",
       "        32., 31., 37., 27., 37., 33., 33., 44., 39., 38., 37., 30., 27.,\n",
       "        22., 12., 16., 10.,  5.,  1.,  3.,  1.,  2.,  1.,  1.]),\n",
       " array([1.275 , 1.3495, 1.424 , 1.4985, 1.573 , 1.6475, 1.722 , 1.7965,\n",
       "        1.871 , 1.9455, 2.02  , 2.0945, 2.169 , 2.2435, 2.318 , 2.3925,\n",
       "        2.467 , 2.5415, 2.616 , 2.6905, 2.765 , 2.8395, 2.914 , 2.9885,\n",
       "        3.063 , 3.1375, 3.212 , 3.2865, 3.361 , 3.4355, 3.51  , 3.5845,\n",
       "        3.659 , 3.7335, 3.808 , 3.8825, 3.957 , 4.0315, 4.106 , 4.1805,\n",
       "        4.255 , 4.3295, 4.404 , 4.4785, 4.553 , 4.6275, 4.702 , 4.7765,\n",
       "        4.851 , 4.9255, 5.    ]),\n",
       " <a list of 50 Patch objects>)"
      ]
     },
     "execution_count": 44,
     "metadata": {},
     "output_type": "execute_result"
    },
    {
     "data": {
      "image/png": "[encoded data removed]",
      "text/plain": [
       "<Figure size 432x288 with 1 Axes>"
      ]
     },
     "metadata": {
      "needs_background": "light"
     },
     "output_type": "display_data"
    }
   ],
   "source": [
    "plt.hist(mean_userid['rating'], bins=50)"
   ]
  },
  {
   "cell_type": "markdown",
   "metadata": {},
   "source": [
    "То же близко к нормальному"
   ]
  },
  {
   "cell_type": "code",
   "execution_count": 47,
   "metadata": {},
   "outputs": [
    {
     "data": {
      "text/html": [
       "<div>\n",
       "<style scoped>\n",
       "    .dataframe tbody tr th:only-of-type {\n",
       "        vertical-align: middle;\n",
       "    }\n",
       "\n",
       "    .dataframe tbody tr th {\n",
       "        vertical-align: top;\n",
       "    }\n",
       "\n",
       "    .dataframe thead th {\n",
       "        text-align: right;\n",
       "    }\n",
       "</style>\n",
       "<table border=\"1\" class=\"dataframe\">\n",
       "  <thead>\n",
       "    <tr style=\"text-align: right;\">\n",
       "      <th></th>\n",
       "      <th>userId</th>\n",
       "      <th>movieId</th>\n",
       "      <th>rating</th>\n",
       "      <th>timestamp</th>\n",
       "    </tr>\n",
       "  </thead>\n",
       "  <tbody>\n",
       "    <tr>\n",
       "      <th>count</th>\n",
       "      <td>100836.000000</td>\n",
       "      <td>100836.000000</td>\n",
       "      <td>100836.000000</td>\n",
       "      <td>1.008360e+05</td>\n",
       "    </tr>\n",
       "    <tr>\n",
       "      <th>mean</th>\n",
       "      <td>326.127564</td>\n",
       "      <td>19435.295718</td>\n",
       "      <td>3.501557</td>\n",
       "      <td>1.205946e+09</td>\n",
       "    </tr>\n",
       "    <tr>\n",
       "      <th>std</th>\n",
       "      <td>182.618491</td>\n",
       "      <td>35530.987199</td>\n",
       "      <td>1.042529</td>\n",
       "      <td>2.162610e+08</td>\n",
       "    </tr>\n",
       "    <tr>\n",
       "      <th>min</th>\n",
       "      <td>1.000000</td>\n",
       "      <td>1.000000</td>\n",
       "      <td>0.500000</td>\n",
       "      <td>8.281246e+08</td>\n",
       "    </tr>\n",
       "    <tr>\n",
       "      <th>25%</th>\n",
       "      <td>177.000000</td>\n",
       "      <td>1199.000000</td>\n",
       "      <td>3.000000</td>\n",
       "      <td>1.019124e+09</td>\n",
       "    </tr>\n",
       "    <tr>\n",
       "      <th>50%</th>\n",
       "      <td>325.000000</td>\n",
       "      <td>2991.000000</td>\n",
       "      <td>3.500000</td>\n",
       "      <td>1.186087e+09</td>\n",
       "    </tr>\n",
       "    <tr>\n",
       "      <th>75%</th>\n",
       "      <td>477.000000</td>\n",
       "      <td>8122.000000</td>\n",
       "      <td>4.000000</td>\n",
       "      <td>1.435994e+09</td>\n",
       "    </tr>\n",
       "    <tr>\n",
       "      <th>max</th>\n",
       "      <td>610.000000</td>\n",
       "      <td>193609.000000</td>\n",
       "      <td>5.000000</td>\n",
       "      <td>1.537799e+09</td>\n",
       "    </tr>\n",
       "  </tbody>\n",
       "</table>\n",
       "</div>"
      ],
      "text/plain": [
       "              userId        movieId         rating     timestamp\n",
       "count  100836.000000  100836.000000  100836.000000  1.008360e+05\n",
       "mean      326.127564   19435.295718       3.501557  1.205946e+09\n",
       "std       182.618491   35530.987199       1.042529  2.162610e+08\n",
       "min         1.000000       1.000000       0.500000  8.281246e+08\n",
       "25%       177.000000    1199.000000       3.000000  1.019124e+09\n",
       "50%       325.000000    2991.000000       3.500000  1.186087e+09\n",
       "75%       477.000000    8122.000000       4.000000  1.435994e+09\n",
       "max       610.000000  193609.000000       5.000000  1.537799e+09"
      ]
     },
     "execution_count": 47,
     "metadata": {},
     "output_type": "execute_result"
    }
   ],
   "source": [
    "rating.describe()\n"
   ]
  },
  {
   "cell_type": "markdown",
   "metadata": {},
   "source": [
    "4. Выбрать критерий, показывающий, что фильм нравится всем, или не нравится никому, и вывести топ фильмов из этих списков. Знаете ли вы эти фильмы, согласны ли с оценками?\n"
   ]
  },
  {
   "cell_type": "markdown",
   "metadata": {},
   "source": [
    "Выберем критерий для фильма, который показывает, что он нравится всем. "
   ]
  },
  {
   "cell_type": "markdown",
   "metadata": {},
   "source": [
    "Для начала возьмем самый простой критерий, максимальное среднее"
   ]
  },
  {
   "cell_type": "code",
   "execution_count": 55,
   "metadata": {},
   "outputs": [
    {
     "data": {
      "text/plain": [
       "0     88448\n",
       "1    100556\n",
       "2    143031\n",
       "3    143511\n",
       "4    143559\n",
       "5      6201\n",
       "6    102217\n",
       "7    102084\n",
       "8      6192\n",
       "9    145994\n",
       "Name: movieId, dtype: int64"
      ]
     },
     "execution_count": 55,
     "metadata": {},
     "output_type": "execute_result"
    }
   ],
   "source": []
  },
  {
   "cell_type": "code",
   "execution_count": 57,
   "metadata": {},
   "outputs": [
    {
     "data": {
      "text/html": [
       "<div>\n",
       "<style scoped>\n",
       "    .dataframe tbody tr th:only-of-type {\n",
       "        vertical-align: middle;\n",
       "    }\n",
       "\n",
       "    .dataframe tbody tr th {\n",
       "        vertical-align: top;\n",
       "    }\n",
       "\n",
       "    .dataframe thead th {\n",
       "        text-align: right;\n",
       "    }\n",
       "</style>\n",
       "<table border=\"1\" class=\"dataframe\">\n",
       "  <thead>\n",
       "    <tr style=\"text-align: right;\">\n",
       "      <th></th>\n",
       "      <th>movieId</th>\n",
       "      <th>title</th>\n",
       "      <th>genres</th>\n",
       "    </tr>\n",
       "  </thead>\n",
       "  <tbody>\n",
       "    <tr>\n",
       "      <th>4246</th>\n",
       "      <td>6192</td>\n",
       "      <td>Open Hearts (Elsker dig for evigt) (2002)</td>\n",
       "      <td>Romance</td>\n",
       "    </tr>\n",
       "    <tr>\n",
       "      <th>4251</th>\n",
       "      <td>6201</td>\n",
       "      <td>Lady Jane (1986)</td>\n",
       "      <td>Drama|Romance</td>\n",
       "    </tr>\n",
       "    <tr>\n",
       "      <th>7656</th>\n",
       "      <td>88448</td>\n",
       "      <td>Paper Birds (Pájaros de papel) (2010)</td>\n",
       "      <td>Comedy|Drama</td>\n",
       "    </tr>\n",
       "    <tr>\n",
       "      <th>8107</th>\n",
       "      <td>100556</td>\n",
       "      <td>Act of Killing, The (2012)</td>\n",
       "      <td>Documentary</td>\n",
       "    </tr>\n",
       "    <tr>\n",
       "      <th>8148</th>\n",
       "      <td>102084</td>\n",
       "      <td>Justice League: Doom (2012)</td>\n",
       "      <td>Action|Animation|Fantasy</td>\n",
       "    </tr>\n",
       "    <tr>\n",
       "      <th>8154</th>\n",
       "      <td>102217</td>\n",
       "      <td>Bill Hicks: Revelations (1993)</td>\n",
       "      <td>Comedy</td>\n",
       "    </tr>\n",
       "    <tr>\n",
       "      <th>9083</th>\n",
       "      <td>143031</td>\n",
       "      <td>Jump In! (2007)</td>\n",
       "      <td>Comedy|Drama|Romance</td>\n",
       "    </tr>\n",
       "    <tr>\n",
       "      <th>9094</th>\n",
       "      <td>143511</td>\n",
       "      <td>Human (2015)</td>\n",
       "      <td>Documentary</td>\n",
       "    </tr>\n",
       "    <tr>\n",
       "      <th>9096</th>\n",
       "      <td>143559</td>\n",
       "      <td>L.A. Slasher (2015)</td>\n",
       "      <td>Comedy|Crime|Fantasy</td>\n",
       "    </tr>\n",
       "    <tr>\n",
       "      <th>9122</th>\n",
       "      <td>145994</td>\n",
       "      <td>Formula of Love (1984)</td>\n",
       "      <td>Comedy</td>\n",
       "    </tr>\n",
       "  </tbody>\n",
       "</table>\n",
       "</div>"
      ],
      "text/plain": [
       "      movieId                                      title  \\\n",
       "4246     6192  Open Hearts (Elsker dig for evigt) (2002)   \n",
       "4251     6201                           Lady Jane (1986)   \n",
       "7656    88448      Paper Birds (Pájaros de papel) (2010)   \n",
       "8107   100556                 Act of Killing, The (2012)   \n",
       "8148   102084               Justice League: Doom (2012)    \n",
       "8154   102217             Bill Hicks: Revelations (1993)   \n",
       "9083   143031                            Jump In! (2007)   \n",
       "9094   143511                               Human (2015)   \n",
       "9096   143559                        L.A. Slasher (2015)   \n",
       "9122   145994                     Formula of Love (1984)   \n",
       "\n",
       "                        genres  \n",
       "4246                   Romance  \n",
       "4251             Drama|Romance  \n",
       "7656              Comedy|Drama  \n",
       "8107               Documentary  \n",
       "8148  Action|Animation|Fantasy  \n",
       "8154                    Comedy  \n",
       "9083      Comedy|Drama|Romance  \n",
       "9094               Documentary  \n",
       "9096      Comedy|Crime|Fantasy  \n",
       "9122                    Comedy  "
      ]
     },
     "execution_count": 57,
     "metadata": {},
     "output_type": "execute_result"
    }
   ],
   "source": [
    "movie[movie['movieId'].isin(mean_movieid.sort_values(by = 'rating', ascending=False)[:10].reset_index()['movieId'])]"
   ]
  },
  {
   "cell_type": "markdown",
   "metadata": {},
   "source": [
    "Скорее всего здесь учтен, тот факт, что за фильм проголосовало мало народу, но поставило 5. Нужно как-то нормировать на размер "
   ]
  },
  {
   "cell_type": "code",
   "execution_count": 60,
   "metadata": {},
   "outputs": [],
   "source": [
    "rating['count'] = 1"
   ]
  },
  {
   "cell_type": "code",
   "execution_count": 61,
   "metadata": {},
   "outputs": [],
   "source": [
    "gb = rating.groupby('movieId')"
   ]
  },
  {
   "cell_type": "code",
   "execution_count": 64,
   "metadata": {},
   "outputs": [],
   "source": [
    "opt = gb.agg(['mean', 'count'])"
   ]
  },
  {
   "cell_type": "code",
   "execution_count": 67,
   "metadata": {},
   "outputs": [],
   "source": [
    "aggr_movie_rating = opt['rating']"
   ]
  },
  {
   "cell_type": "code",
   "execution_count": 68,
   "metadata": {},
   "outputs": [
    {
     "data": {
      "text/html": [
       "<div>\n",
       "<style scoped>\n",
       "    .dataframe tbody tr th:only-of-type {\n",
       "        vertical-align: middle;\n",
       "    }\n",
       "\n",
       "    .dataframe tbody tr th {\n",
       "        vertical-align: top;\n",
       "    }\n",
       "\n",
       "    .dataframe thead th {\n",
       "        text-align: right;\n",
       "    }\n",
       "</style>\n",
       "<table border=\"1\" class=\"dataframe\">\n",
       "  <thead>\n",
       "    <tr style=\"text-align: right;\">\n",
       "      <th></th>\n",
       "      <th>mean</th>\n",
       "      <th>count</th>\n",
       "    </tr>\n",
       "    <tr>\n",
       "      <th>movieId</th>\n",
       "      <th></th>\n",
       "      <th></th>\n",
       "    </tr>\n",
       "  </thead>\n",
       "  <tbody>\n",
       "    <tr>\n",
       "      <th>1</th>\n",
       "      <td>3.92093</td>\n",
       "      <td>215</td>\n",
       "    </tr>\n",
       "  </tbody>\n",
       "</table>\n",
       "</div>"
      ],
      "text/plain": [
       "            mean  count\n",
       "movieId                \n",
       "1        3.92093    215"
      ]
     },
     "execution_count": 68,
     "metadata": {},
     "output_type": "execute_result"
    }
   ],
   "source": [
    "aggr_movie_rating.head(1)"
   ]
  },
  {
   "cell_type": "code",
   "execution_count": 69,
   "metadata": {},
   "outputs": [
    {
     "name": "stderr",
     "output_type": "stream",
     "text": [
      "C:\\ProgramData\\Anaconda3\\lib\\site-packages\\ipykernel_launcher.py:1: SettingWithCopyWarning: \n",
      "A value is trying to be set on a copy of a slice from a DataFrame.\n",
      "Try using .loc[row_indexer,col_indexer] = value instead\n",
      "\n",
      "See the caveats in the documentation: http://pandas.pydata.org/pandas-docs/stable/indexing.html#indexing-view-versus-copy\n",
      "  \"\"\"Entry point for launching an IPython kernel.\n"
     ]
    }
   ],
   "source": [
    "aggr_movie_rating['accum'] = aggr_movie_rating['mean'] * np.log(aggr_movie_rating['count'])"
   ]
  },
  {
   "cell_type": "code",
   "execution_count": 70,
   "metadata": {},
   "outputs": [
    {
     "data": {
      "text/html": [
       "<div>\n",
       "<style scoped>\n",
       "    .dataframe tbody tr th:only-of-type {\n",
       "        vertical-align: middle;\n",
       "    }\n",
       "\n",
       "    .dataframe tbody tr th {\n",
       "        vertical-align: top;\n",
       "    }\n",
       "\n",
       "    .dataframe thead th {\n",
       "        text-align: right;\n",
       "    }\n",
       "</style>\n",
       "<table border=\"1\" class=\"dataframe\">\n",
       "  <thead>\n",
       "    <tr style=\"text-align: right;\">\n",
       "      <th></th>\n",
       "      <th>movieId</th>\n",
       "      <th>title</th>\n",
       "      <th>genres</th>\n",
       "    </tr>\n",
       "  </thead>\n",
       "  <tbody>\n",
       "    <tr>\n",
       "      <th>224</th>\n",
       "      <td>260</td>\n",
       "      <td>Star Wars: Episode IV - A New Hope (1977)</td>\n",
       "      <td>Action|Adventure|Sci-Fi</td>\n",
       "    </tr>\n",
       "    <tr>\n",
       "      <th>257</th>\n",
       "      <td>296</td>\n",
       "      <td>Pulp Fiction (1994)</td>\n",
       "      <td>Comedy|Crime|Drama|Thriller</td>\n",
       "    </tr>\n",
       "    <tr>\n",
       "      <th>277</th>\n",
       "      <td>318</td>\n",
       "      <td>Shawshank Redemption, The (1994)</td>\n",
       "      <td>Crime|Drama</td>\n",
       "    </tr>\n",
       "    <tr>\n",
       "      <th>314</th>\n",
       "      <td>356</td>\n",
       "      <td>Forrest Gump (1994)</td>\n",
       "      <td>Comedy|Drama|Romance|War</td>\n",
       "    </tr>\n",
       "    <tr>\n",
       "      <th>461</th>\n",
       "      <td>527</td>\n",
       "      <td>Schindler's List (1993)</td>\n",
       "      <td>Drama|War</td>\n",
       "    </tr>\n",
       "    <tr>\n",
       "      <th>510</th>\n",
       "      <td>593</td>\n",
       "      <td>Silence of the Lambs, The (1991)</td>\n",
       "      <td>Crime|Horror|Thriller</td>\n",
       "    </tr>\n",
       "    <tr>\n",
       "      <th>659</th>\n",
       "      <td>858</td>\n",
       "      <td>Godfather, The (1972)</td>\n",
       "      <td>Crime|Drama</td>\n",
       "    </tr>\n",
       "    <tr>\n",
       "      <th>898</th>\n",
       "      <td>1196</td>\n",
       "      <td>Star Wars: Episode V - The Empire Strikes Back...</td>\n",
       "      <td>Action|Adventure|Sci-Fi</td>\n",
       "    </tr>\n",
       "    <tr>\n",
       "      <th>1939</th>\n",
       "      <td>2571</td>\n",
       "      <td>Matrix, The (1999)</td>\n",
       "      <td>Action|Sci-Fi|Thriller</td>\n",
       "    </tr>\n",
       "    <tr>\n",
       "      <th>2226</th>\n",
       "      <td>2959</td>\n",
       "      <td>Fight Club (1999)</td>\n",
       "      <td>Action|Crime|Drama|Thriller</td>\n",
       "    </tr>\n",
       "  </tbody>\n",
       "</table>\n",
       "</div>"
      ],
      "text/plain": [
       "      movieId                                              title  \\\n",
       "224       260          Star Wars: Episode IV - A New Hope (1977)   \n",
       "257       296                                Pulp Fiction (1994)   \n",
       "277       318                   Shawshank Redemption, The (1994)   \n",
       "314       356                                Forrest Gump (1994)   \n",
       "461       527                            Schindler's List (1993)   \n",
       "510       593                   Silence of the Lambs, The (1991)   \n",
       "659       858                              Godfather, The (1972)   \n",
       "898      1196  Star Wars: Episode V - The Empire Strikes Back...   \n",
       "1939     2571                                 Matrix, The (1999)   \n",
       "2226     2959                                  Fight Club (1999)   \n",
       "\n",
       "                           genres  \n",
       "224       Action|Adventure|Sci-Fi  \n",
       "257   Comedy|Crime|Drama|Thriller  \n",
       "277                   Crime|Drama  \n",
       "314      Comedy|Drama|Romance|War  \n",
       "461                     Drama|War  \n",
       "510         Crime|Horror|Thriller  \n",
       "659                   Crime|Drama  \n",
       "898       Action|Adventure|Sci-Fi  \n",
       "1939       Action|Sci-Fi|Thriller  \n",
       "2226  Action|Crime|Drama|Thriller  "
      ]
     },
     "execution_count": 70,
     "metadata": {},
     "output_type": "execute_result"
    }
   ],
   "source": [
    "movie[movie['movieId'].isin(aggr_movie_rating.sort_values(by = 'accum', ascending=False)[:10].reset_index()['movieId'])]"
   ]
  },
  {
   "cell_type": "markdown",
   "metadata": {},
   "source": [
    "А этот рейтинг уже гораздо интересней"
   ]
  },
  {
   "cell_type": "markdown",
   "metadata": {},
   "source": [
    "5. Выбрать лучшие фильмы\n"
   ]
  },
  {
   "cell_type": "markdown",
   "metadata": {},
   "source": [
    "- см. выше. \n",
    "Можно придумать и более сложные оценки"
   ]
  },
  {
   "cell_type": "markdown",
   "metadata": {},
   "source": [
    "6. Посмотреть на смещение оценок, увидеть сколько пользователей занижают оценки и завышают оценки.\n"
   ]
  },
  {
   "cell_type": "markdown",
   "metadata": {},
   "source": [
    "Можно сделать так - рассчитать среднюю оценку для фильма. Для каждой оценки - отнять ее. После этого вычислить среднее смещение для пользователя. Потом  - построить распределние"
   ]
  },
  {
   "cell_type": "code",
   "execution_count": 72,
   "metadata": {},
   "outputs": [
    {
     "data": {
      "text/html": [
       "<div>\n",
       "<style scoped>\n",
       "    .dataframe tbody tr th:only-of-type {\n",
       "        vertical-align: middle;\n",
       "    }\n",
       "\n",
       "    .dataframe tbody tr th {\n",
       "        vertical-align: top;\n",
       "    }\n",
       "\n",
       "    .dataframe thead th {\n",
       "        text-align: right;\n",
       "    }\n",
       "</style>\n",
       "<table border=\"1\" class=\"dataframe\">\n",
       "  <thead>\n",
       "    <tr style=\"text-align: right;\">\n",
       "      <th></th>\n",
       "      <th>userId</th>\n",
       "      <th>rating</th>\n",
       "      <th>timestamp</th>\n",
       "    </tr>\n",
       "    <tr>\n",
       "      <th>movieId</th>\n",
       "      <th></th>\n",
       "      <th></th>\n",
       "      <th></th>\n",
       "    </tr>\n",
       "  </thead>\n",
       "  <tbody>\n",
       "    <tr>\n",
       "      <th>1</th>\n",
       "      <td>306.530233</td>\n",
       "      <td>3.92093</td>\n",
       "      <td>1.129835e+09</td>\n",
       "    </tr>\n",
       "  </tbody>\n",
       "</table>\n",
       "</div>"
      ],
      "text/plain": [
       "             userId   rating     timestamp\n",
       "movieId                                   \n",
       "1        306.530233  3.92093  1.129835e+09"
      ]
     },
     "execution_count": 72,
     "metadata": {},
     "output_type": "execute_result"
    }
   ],
   "source": [
    "mean_movieid.head(1)"
   ]
  },
  {
   "cell_type": "code",
   "execution_count": 74,
   "metadata": {},
   "outputs": [
    {
     "data": {
      "text/html": [
       "<div>\n",
       "<style scoped>\n",
       "    .dataframe tbody tr th:only-of-type {\n",
       "        vertical-align: middle;\n",
       "    }\n",
       "\n",
       "    .dataframe tbody tr th {\n",
       "        vertical-align: top;\n",
       "    }\n",
       "\n",
       "    .dataframe thead th {\n",
       "        text-align: right;\n",
       "    }\n",
       "</style>\n",
       "<table border=\"1\" class=\"dataframe\">\n",
       "  <thead>\n",
       "    <tr style=\"text-align: right;\">\n",
       "      <th></th>\n",
       "      <th>movieId</th>\n",
       "      <th>rating</th>\n",
       "    </tr>\n",
       "  </thead>\n",
       "  <tbody>\n",
       "    <tr>\n",
       "      <th>0</th>\n",
       "      <td>1</td>\n",
       "      <td>3.92093</td>\n",
       "    </tr>\n",
       "  </tbody>\n",
       "</table>\n",
       "</div>"
      ],
      "text/plain": [
       "   movieId   rating\n",
       "0        1  3.92093"
      ]
     },
     "execution_count": 74,
     "metadata": {},
     "output_type": "execute_result"
    }
   ],
   "source": [
    "mean_movieid.reset_index()[['movieId', 'rating']].head(1)"
   ]
  },
  {
   "cell_type": "code",
   "execution_count": 77,
   "metadata": {},
   "outputs": [],
   "source": [
    "bias_user =  rating.merge(mean_movieid.reset_index()[['movieId', 'rating']], how='left', on = 'movieId')"
   ]
  },
  {
   "cell_type": "code",
   "execution_count": 79,
   "metadata": {},
   "outputs": [
    {
     "data": {
      "text/html": [
       "<div>\n",
       "<style scoped>\n",
       "    .dataframe tbody tr th:only-of-type {\n",
       "        vertical-align: middle;\n",
       "    }\n",
       "\n",
       "    .dataframe tbody tr th {\n",
       "        vertical-align: top;\n",
       "    }\n",
       "\n",
       "    .dataframe thead th {\n",
       "        text-align: right;\n",
       "    }\n",
       "</style>\n",
       "<table border=\"1\" class=\"dataframe\">\n",
       "  <thead>\n",
       "    <tr style=\"text-align: right;\">\n",
       "      <th></th>\n",
       "      <th>userId</th>\n",
       "      <th>movieId</th>\n",
       "      <th>rating_x</th>\n",
       "      <th>timestamp</th>\n",
       "      <th>count</th>\n",
       "      <th>rating_y</th>\n",
       "    </tr>\n",
       "  </thead>\n",
       "  <tbody>\n",
       "    <tr>\n",
       "      <th>0</th>\n",
       "      <td>1</td>\n",
       "      <td>1</td>\n",
       "      <td>4.0</td>\n",
       "      <td>964982703</td>\n",
       "      <td>1</td>\n",
       "      <td>3.92093</td>\n",
       "    </tr>\n",
       "  </tbody>\n",
       "</table>\n",
       "</div>"
      ],
      "text/plain": [
       "   userId  movieId  rating_x  timestamp  count  rating_y\n",
       "0       1        1       4.0  964982703      1   3.92093"
      ]
     },
     "execution_count": 79,
     "metadata": {},
     "output_type": "execute_result"
    }
   ],
   "source": [
    "bias_user.head(1)"
   ]
  },
  {
   "cell_type": "code",
   "execution_count": 80,
   "metadata": {},
   "outputs": [],
   "source": [
    "bias_user['bias'] =  bias_user['rating_x'] - bias_user['rating_y']"
   ]
  },
  {
   "cell_type": "code",
   "execution_count": 82,
   "metadata": {},
   "outputs": [],
   "source": [
    "group_bias_user = bias_user.groupby('userId').mean()"
   ]
  },
  {
   "cell_type": "code",
   "execution_count": 83,
   "metadata": {},
   "outputs": [
    {
     "data": {
      "text/html": [
       "<div>\n",
       "<style scoped>\n",
       "    .dataframe tbody tr th:only-of-type {\n",
       "        vertical-align: middle;\n",
       "    }\n",
       "\n",
       "    .dataframe tbody tr th {\n",
       "        vertical-align: top;\n",
       "    }\n",
       "\n",
       "    .dataframe thead th {\n",
       "        text-align: right;\n",
       "    }\n",
       "</style>\n",
       "<table border=\"1\" class=\"dataframe\">\n",
       "  <thead>\n",
       "    <tr style=\"text-align: right;\">\n",
       "      <th></th>\n",
       "      <th>movieId</th>\n",
       "      <th>rating_x</th>\n",
       "      <th>timestamp</th>\n",
       "      <th>count</th>\n",
       "      <th>rating_y</th>\n",
       "      <th>bias</th>\n",
       "    </tr>\n",
       "    <tr>\n",
       "      <th>userId</th>\n",
       "      <th></th>\n",
       "      <th></th>\n",
       "      <th></th>\n",
       "      <th></th>\n",
       "      <th></th>\n",
       "      <th></th>\n",
       "    </tr>\n",
       "  </thead>\n",
       "  <tbody>\n",
       "    <tr>\n",
       "      <th>1</th>\n",
       "      <td>1854.603448</td>\n",
       "      <td>4.366379</td>\n",
       "      <td>9.649856e+08</td>\n",
       "      <td>1.0</td>\n",
       "      <td>3.557229</td>\n",
       "      <td>0.80915</td>\n",
       "    </tr>\n",
       "  </tbody>\n",
       "</table>\n",
       "</div>"
      ],
      "text/plain": [
       "            movieId  rating_x     timestamp  count  rating_y     bias\n",
       "userId                                                               \n",
       "1       1854.603448  4.366379  9.649856e+08    1.0  3.557229  0.80915"
      ]
     },
     "execution_count": 83,
     "metadata": {},
     "output_type": "execute_result"
    }
   ],
   "source": [
    "group_bias_user.head(1)"
   ]
  },
  {
   "cell_type": "code",
   "execution_count": 85,
   "metadata": {},
   "outputs": [
    {
     "data": {
      "text/plain": [
       "(array([  1.,   1.,   7.,  19.,  56., 185., 215., 106.,  18.,   2.]),\n",
       " array([-2.14000734, -1.77778839, -1.41556944, -1.05335049, -0.69113154,\n",
       "        -0.32891259,  0.03330636,  0.39552531,  0.75774426,  1.1199632 ,\n",
       "         1.48218215]),\n",
       " <a list of 10 Patch objects>)"
      ]
     },
     "execution_count": 85,
     "metadata": {},
     "output_type": "execute_result"
    },
    {
     "data": {
      "image/png": "[encoded data removed]",
      "text/plain": [
       "<Figure size 432x288 with 1 Axes>"
      ]
     },
     "metadata": {
      "needs_background": "light"
     },
     "output_type": "display_data"
    }
   ],
   "source": [
    "plt.hist(group_bias_user['bias'], bins=10)"
   ]
  },
  {
   "cell_type": "code",
   "execution_count": 86,
   "metadata": {},
   "outputs": [
    {
     "data": {
      "text/html": [
       "<div>\n",
       "<style scoped>\n",
       "    .dataframe tbody tr th:only-of-type {\n",
       "        vertical-align: middle;\n",
       "    }\n",
       "\n",
       "    .dataframe tbody tr th {\n",
       "        vertical-align: top;\n",
       "    }\n",
       "\n",
       "    .dataframe thead th {\n",
       "        text-align: right;\n",
       "    }\n",
       "</style>\n",
       "<table border=\"1\" class=\"dataframe\">\n",
       "  <thead>\n",
       "    <tr style=\"text-align: right;\">\n",
       "      <th></th>\n",
       "      <th>movieId</th>\n",
       "      <th>rating_x</th>\n",
       "      <th>timestamp</th>\n",
       "      <th>count</th>\n",
       "      <th>rating_y</th>\n",
       "      <th>bias</th>\n",
       "    </tr>\n",
       "  </thead>\n",
       "  <tbody>\n",
       "    <tr>\n",
       "      <th>count</th>\n",
       "      <td>610.000000</td>\n",
       "      <td>610.000000</td>\n",
       "      <td>6.100000e+02</td>\n",
       "      <td>610.0</td>\n",
       "      <td>610.000000</td>\n",
       "      <td>610.000000</td>\n",
       "    </tr>\n",
       "    <tr>\n",
       "      <th>mean</th>\n",
       "      <td>15219.524064</td>\n",
       "      <td>3.657222</td>\n",
       "      <td>1.160906e+09</td>\n",
       "      <td>1.0</td>\n",
       "      <td>3.588254</td>\n",
       "      <td>0.068968</td>\n",
       "    </tr>\n",
       "    <tr>\n",
       "      <th>std</th>\n",
       "      <td>20257.089591</td>\n",
       "      <td>0.480635</td>\n",
       "      <td>2.386464e+08</td>\n",
       "      <td>0.0</td>\n",
       "      <td>0.216285</td>\n",
       "      <td>0.419940</td>\n",
       "    </tr>\n",
       "    <tr>\n",
       "      <th>min</th>\n",
       "      <td>221.500000</td>\n",
       "      <td>1.275000</td>\n",
       "      <td>8.281246e+08</td>\n",
       "      <td>1.0</td>\n",
       "      <td>2.732226</td>\n",
       "      <td>-2.140007</td>\n",
       "    </tr>\n",
       "    <tr>\n",
       "      <th>25%</th>\n",
       "      <td>1641.085577</td>\n",
       "      <td>3.360000</td>\n",
       "      <td>9.478854e+08</td>\n",
       "      <td>1.0</td>\n",
       "      <td>3.445148</td>\n",
       "      <td>-0.160168</td>\n",
       "    </tr>\n",
       "    <tr>\n",
       "      <th>50%</th>\n",
       "      <td>4732.081335</td>\n",
       "      <td>3.694385</td>\n",
       "      <td>1.160761e+09</td>\n",
       "      <td>1.0</td>\n",
       "      <td>3.583387</td>\n",
       "      <td>0.084286</td>\n",
       "    </tr>\n",
       "    <tr>\n",
       "      <th>75%</th>\n",
       "      <td>22842.153586</td>\n",
       "      <td>3.997500</td>\n",
       "      <td>1.391039e+09</td>\n",
       "      <td>1.0</td>\n",
       "      <td>3.731781</td>\n",
       "      <td>0.349067</td>\n",
       "    </tr>\n",
       "    <tr>\n",
       "      <th>max</th>\n",
       "      <td>123329.388060</td>\n",
       "      <td>5.000000</td>\n",
       "      <td>1.537162e+09</td>\n",
       "      <td>1.0</td>\n",
       "      <td>4.166394</td>\n",
       "      <td>1.482182</td>\n",
       "    </tr>\n",
       "  </tbody>\n",
       "</table>\n",
       "</div>"
      ],
      "text/plain": [
       "             movieId    rating_x     timestamp  count    rating_y        bias\n",
       "count     610.000000  610.000000  6.100000e+02  610.0  610.000000  610.000000\n",
       "mean    15219.524064    3.657222  1.160906e+09    1.0    3.588254    0.068968\n",
       "std     20257.089591    0.480635  2.386464e+08    0.0    0.216285    0.419940\n",
       "min       221.500000    1.275000  8.281246e+08    1.0    2.732226   -2.140007\n",
       "25%      1641.085577    3.360000  9.478854e+08    1.0    3.445148   -0.160168\n",
       "50%      4732.081335    3.694385  1.160761e+09    1.0    3.583387    0.084286\n",
       "75%     22842.153586    3.997500  1.391039e+09    1.0    3.731781    0.349067\n",
       "max    123329.388060    5.000000  1.537162e+09    1.0    4.166394    1.482182"
      ]
     },
     "execution_count": 86,
     "metadata": {},
     "output_type": "execute_result"
    }
   ],
   "source": [
    "group_bias_user.describe()"
   ]
  },
  {
   "cell_type": "markdown",
   "metadata": {},
   "source": [
    "Довольно симметричное распределение и где-то у половины пользователей смещение находится в интералн -0,16 - 0,35"
   ]
  },
  {
   "cell_type": "markdown",
   "metadata": {},
   "source": [
    "7. Построить рекомендательную систему с помощью библиотеки surprise (или другой, по желанию). Применить подбор параметров модели на сетке, оценить качество полученной модели по выбранной вами метрике. \n"
   ]
  },
  {
   "cell_type": "markdown",
   "metadata": {},
   "source": [
    "В лекциях были рассмотрены следующие методы:\n",
    "\n",
    "- user based collaborative filtering\n",
    "- item based collaborative filtering\n",
    "- SVD без bias\n",
    "- SVD \n",
    "- Факторизационные машины с дополнительной информацией по пользователям и предметом рекомендаций и эффектом времени\n",
    "\n",
    "\n",
    "Так как в соответствии с заданием требуется построить рекомендательную систему по метрике, то выбирается SVD (c bias и not bias), так как факторизационные машины были подробно рассмотрены в лекции"
   ]
  },
  {
   "cell_type": "code",
   "execution_count": 98,
   "metadata": {},
   "outputs": [],
   "source": [
    "from surprise import SVD\n",
    "from surprise import Dataset\n",
    "from surprise.model_selection import cross_validate, GridSearchCV, RandomizedSearchCV\n",
    "from surprise import Reader, Dataset, SVD, evaluate\n",
    "import numpy as np"
   ]
  },
  {
   "cell_type": "code",
   "execution_count": 89,
   "metadata": {},
   "outputs": [],
   "source": [
    "svd_bias = SVD()\n",
    "svd_no_bias = SVD(biased=False)"
   ]
  },
  {
   "cell_type": "code",
   "execution_count": 90,
   "metadata": {},
   "outputs": [],
   "source": [
    "reader = Reader()"
   ]
  },
  {
   "cell_type": "code",
   "execution_count": 93,
   "metadata": {},
   "outputs": [],
   "source": [
    "ds = Dataset.load_from_df(rating[['userId', 'movieId', 'rating']], reader)"
   ]
  },
  {
   "cell_type": "code",
   "execution_count": 96,
   "metadata": {},
   "outputs": [
    {
     "name": "stdout",
     "output_type": "stream",
     "text": [
      "Evaluating RMSE, MAE of algorithm SVD on 5 split(s).\n",
      "\n",
      "                  Fold 1  Fold 2  Fold 3  Fold 4  Fold 5  Mean    Std     \n",
      "RMSE (testset)    0.8788  0.8745  0.8813  0.8723  0.8671  0.8748  0.0050  \n",
      "MAE (testset)     0.6746  0.6690  0.6790  0.6694  0.6671  0.6718  0.0044  \n",
      "Fit time          3.40    3.39    3.43    3.40    3.38    3.40    0.02    \n",
      "Test time         0.10    0.10    0.10    0.10    0.10    0.10    0.00    \n"
     ]
    },
    {
     "data": {
      "text/plain": [
       "{'test_rmse': array([0.87877265, 0.87450591, 0.88134405, 0.87233042, 0.86708372]),\n",
       " 'test_mae': array([0.67455184, 0.66901204, 0.67900581, 0.66937372, 0.66705558]),\n",
       " 'fit_time': (3.40299916267395,\n",
       "  3.385000228881836,\n",
       "  3.4290003776550293,\n",
       "  3.3980019092559814,\n",
       "  3.3799774646759033),\n",
       " 'test_time': (0.10200047492980957,\n",
       "  0.10299992561340332,\n",
       "  0.10199975967407227,\n",
       "  0.09802675247192383,\n",
       "  0.10002326965332031)}"
      ]
     },
     "execution_count": 96,
     "metadata": {},
     "output_type": "execute_result"
    }
   ],
   "source": [
    "cross_validate(svd_bias, ds, measures=['RMSE', 'MAE'], cv=5, verbose=True)"
   ]
  },
  {
   "cell_type": "code",
   "execution_count": 97,
   "metadata": {},
   "outputs": [
    {
     "name": "stdout",
     "output_type": "stream",
     "text": [
      "Evaluating RMSE, MAE of algorithm SVD on 5 split(s).\n",
      "\n",
      "                  Fold 1  Fold 2  Fold 3  Fold 4  Fold 5  Mean    Std     \n",
      "RMSE (testset)    0.9852  0.9732  0.9721  0.9811  0.9775  0.9778  0.0049  \n",
      "MAE (testset)     0.7576  0.7505  0.7506  0.7561  0.7540  0.7538  0.0029  \n",
      "Fit time          3.42    3.39    3.42    3.40    3.38    3.40    0.02    \n",
      "Test time         0.09    0.09    0.09    0.08    0.08    0.09    0.00    \n"
     ]
    },
    {
     "data": {
      "text/plain": [
       "{'test_rmse': array([0.98519641, 0.97315983, 0.97205164, 0.98110692, 0.97746051]),\n",
       " 'test_mae': array([0.7575745 , 0.75046455, 0.75062538, 0.75607406, 0.75403295]),\n",
       " 'fit_time': (3.4160001277923584,\n",
       "  3.3889999389648438,\n",
       "  3.422999858856201,\n",
       "  3.3990249633789062,\n",
       "  3.3829777240753174),\n",
       " 'test_time': (0.08800029754638672,\n",
       "  0.08900022506713867,\n",
       "  0.08500003814697266,\n",
       "  0.08299827575683594,\n",
       "  0.08299803733825684)}"
      ]
     },
     "execution_count": 97,
     "metadata": {},
     "output_type": "execute_result"
    }
   ],
   "source": [
    "cross_validate(svd_no_bias, ds, measures=['RMSE', 'MAE'], cv=5, verbose=True)"
   ]
  },
  {
   "cell_type": "markdown",
   "metadata": {},
   "source": [
    "Лучшее качество без bias. Возьмем его дальше в работу"
   ]
  },
  {
   "cell_type": "markdown",
   "metadata": {},
   "source": [
    "Поиск для сетки возьмем из лекции и модифицируем"
   ]
  },
  {
   "cell_type": "markdown",
   "metadata": {},
   "source": [
    "https://surprise.readthedocs.io/en/stable/matrix_factorization.html#surprise.prediction_algorithms.matrix_factorization.SVD"
   ]
  },
  {
   "cell_type": "code",
   "execution_count": 102,
   "metadata": {},
   "outputs": [
    {
     "name": "stdout",
     "output_type": "stream",
     "text": [
      "0.8732411078678107\n"
     ]
    }
   ],
   "source": [
    "param_grid = {\n",
    "    'lr_all': [0.005, 0.05],\n",
    "    'reg_all': [0.02, 0.002],\n",
    "    'n_factors': [5, 10, 100, 500],\n",
    "    'n_epochs': [10, 100]\n",
    "}\n",
    "\n",
    "gs = RandomizedSearchCV(SVD, param_grid, measures=['rmse', 'mae'], cv=3, n_jobs=-1, refit=True)\n",
    "\n",
    "gs.fit(ds)\n",
    "\n",
    "# best RMSE score\n",
    "print(gs.best_score['rmse'])"
   ]
  },
  {
   "cell_type": "markdown",
   "metadata": {},
   "source": [
    "8. Получить рекомендации для нового пользователя, совпадают ли они с лучшими фильмами?\n"
   ]
  },
  {
   "cell_type": "code",
   "execution_count": 106,
   "metadata": {},
   "outputs": [
    {
     "data": {
      "text/plain": [
       "{'rmse': {'lr_all': 0.05, 'reg_all': 0.02, 'n_factors': 500, 'n_epochs': 10},\n",
       " 'mae': {'lr_all': 0.05, 'reg_all': 0.02, 'n_factors': 500, 'n_epochs': 10}}"
      ]
     },
     "execution_count": 106,
     "metadata": {},
     "output_type": "execute_result"
    }
   ],
   "source": [
    "gs.best_params"
   ]
  },
  {
   "cell_type": "code",
   "execution_count": 107,
   "metadata": {},
   "outputs": [
    {
     "data": {
      "text/plain": [
       "{'rmse': 0.8732411078678107, 'mae': 0.6720483983036446}"
      ]
     },
     "execution_count": 107,
     "metadata": {},
     "output_type": "execute_result"
    }
   ],
   "source": [
    "gs.best_score"
   ]
  },
  {
   "cell_type": "code",
   "execution_count": 143,
   "metadata": {},
   "outputs": [],
   "source": [
    "testset = [[650, x, 4] for x in movie['movieId']]\n"
   ]
  },
  {
   "cell_type": "code",
   "execution_count": 137,
   "metadata": {},
   "outputs": [],
   "source": [
    "est = gs.best_estimator['rmse']"
   ]
  },
  {
   "cell_type": "code",
   "execution_count": 145,
   "metadata": {},
   "outputs": [],
   "source": [
    "predictions = est.test(testset)"
   ]
  },
  {
   "cell_type": "code",
   "execution_count": 148,
   "metadata": {},
   "outputs": [],
   "source": [
    "from collections import defaultdict\n",
    "\n",
    "def get_top_n(predictions, n=10):\n",
    "    '''Return the top-N recommendation for each user from a set of predictions.\n",
    "\n",
    "    Args:\n",
    "        predictions(list of Prediction objects): The list of predictions, as\n",
    "            returned by the test method of an algorithm.\n",
    "        n(int): The number of recommendation to output for each user. Default\n",
    "            is 10.\n",
    "\n",
    "    Returns:\n",
    "    A dict where keys are user (raw) ids and values are lists of tuples:\n",
    "        [(raw item id, rating estimation), ...] of size n.\n",
    "    '''\n",
    "\n",
    "    # First map the predictions to each user.\n",
    "    top_n = defaultdict(list)\n",
    "    for uid, iid, true_r, est, _ in predictions:\n",
    "        top_n[uid].append((iid, est))\n",
    "\n",
    "    # Then sort the predictions for each user and retrieve the k highest ones.\n",
    "    for uid, user_ratings in top_n.items():\n",
    "        user_ratings.sort(key=lambda x: x[1], reverse=True)\n",
    "        top_n[uid] = user_ratings[:n]\n",
    "\n",
    "    return top_n\n"
   ]
  },
  {
   "cell_type": "code",
   "execution_count": 149,
   "metadata": {},
   "outputs": [],
   "source": [
    "top =  get_top_n(predictions)"
   ]
  },
  {
   "cell_type": "code",
   "execution_count": 171,
   "metadata": {},
   "outputs": [],
   "source": [
    "user_rating=[]\n",
    "for uid, user_ratings in top.items():\n",
    "    user_rating.extend(user_ratings)\n",
    "user_rating = list(map(lambda x: x[0], user_rating))"
   ]
  },
  {
   "cell_type": "code",
   "execution_count": 172,
   "metadata": {},
   "outputs": [
    {
     "data": {
      "text/plain": [
       "[318, 296, 2959, 260, 858, 177593, 750, 2571, 1196, 2324]"
      ]
     },
     "execution_count": 172,
     "metadata": {},
     "output_type": "execute_result"
    }
   ],
   "source": [
    "user_rating"
   ]
  },
  {
   "cell_type": "code",
   "execution_count": 174,
   "metadata": {},
   "outputs": [
    {
     "data": {
      "text/html": [
       "<div>\n",
       "<style scoped>\n",
       "    .dataframe tbody tr th:only-of-type {\n",
       "        vertical-align: middle;\n",
       "    }\n",
       "\n",
       "    .dataframe tbody tr th {\n",
       "        vertical-align: top;\n",
       "    }\n",
       "\n",
       "    .dataframe thead th {\n",
       "        text-align: right;\n",
       "    }\n",
       "</style>\n",
       "<table border=\"1\" class=\"dataframe\">\n",
       "  <thead>\n",
       "    <tr style=\"text-align: right;\">\n",
       "      <th></th>\n",
       "      <th>movieId</th>\n",
       "      <th>title</th>\n",
       "      <th>genres</th>\n",
       "    </tr>\n",
       "  </thead>\n",
       "  <tbody>\n",
       "    <tr>\n",
       "      <th>224</th>\n",
       "      <td>260</td>\n",
       "      <td>Star Wars: Episode IV - A New Hope (1977)</td>\n",
       "      <td>Action|Adventure|Sci-Fi</td>\n",
       "    </tr>\n",
       "    <tr>\n",
       "      <th>257</th>\n",
       "      <td>296</td>\n",
       "      <td>Pulp Fiction (1994)</td>\n",
       "      <td>Comedy|Crime|Drama|Thriller</td>\n",
       "    </tr>\n",
       "    <tr>\n",
       "      <th>277</th>\n",
       "      <td>318</td>\n",
       "      <td>Shawshank Redemption, The (1994)</td>\n",
       "      <td>Crime|Drama</td>\n",
       "    </tr>\n",
       "    <tr>\n",
       "      <th>602</th>\n",
       "      <td>750</td>\n",
       "      <td>Dr. Strangelove or: How I Learned to Stop Worr...</td>\n",
       "      <td>Comedy|War</td>\n",
       "    </tr>\n",
       "    <tr>\n",
       "      <th>659</th>\n",
       "      <td>858</td>\n",
       "      <td>Godfather, The (1972)</td>\n",
       "      <td>Crime|Drama</td>\n",
       "    </tr>\n",
       "    <tr>\n",
       "      <th>898</th>\n",
       "      <td>1196</td>\n",
       "      <td>Star Wars: Episode V - The Empire Strikes Back...</td>\n",
       "      <td>Action|Adventure|Sci-Fi</td>\n",
       "    </tr>\n",
       "    <tr>\n",
       "      <th>1730</th>\n",
       "      <td>2324</td>\n",
       "      <td>Life Is Beautiful (La Vita è bella) (1997)</td>\n",
       "      <td>Comedy|Drama|Romance|War</td>\n",
       "    </tr>\n",
       "    <tr>\n",
       "      <th>1939</th>\n",
       "      <td>2571</td>\n",
       "      <td>Matrix, The (1999)</td>\n",
       "      <td>Action|Sci-Fi|Thriller</td>\n",
       "    </tr>\n",
       "    <tr>\n",
       "      <th>2226</th>\n",
       "      <td>2959</td>\n",
       "      <td>Fight Club (1999)</td>\n",
       "      <td>Action|Crime|Drama|Thriller</td>\n",
       "    </tr>\n",
       "    <tr>\n",
       "      <th>9618</th>\n",
       "      <td>177593</td>\n",
       "      <td>Three Billboards Outside Ebbing, Missouri (2017)</td>\n",
       "      <td>Crime|Drama</td>\n",
       "    </tr>\n",
       "  </tbody>\n",
       "</table>\n",
       "</div>"
      ],
      "text/plain": [
       "      movieId                                              title  \\\n",
       "224       260          Star Wars: Episode IV - A New Hope (1977)   \n",
       "257       296                                Pulp Fiction (1994)   \n",
       "277       318                   Shawshank Redemption, The (1994)   \n",
       "602       750  Dr. Strangelove or: How I Learned to Stop Worr...   \n",
       "659       858                              Godfather, The (1972)   \n",
       "898      1196  Star Wars: Episode V - The Empire Strikes Back...   \n",
       "1730     2324         Life Is Beautiful (La Vita è bella) (1997)   \n",
       "1939     2571                                 Matrix, The (1999)   \n",
       "2226     2959                                  Fight Club (1999)   \n",
       "9618   177593   Three Billboards Outside Ebbing, Missouri (2017)   \n",
       "\n",
       "                           genres  \n",
       "224       Action|Adventure|Sci-Fi  \n",
       "257   Comedy|Crime|Drama|Thriller  \n",
       "277                   Crime|Drama  \n",
       "602                    Comedy|War  \n",
       "659                   Crime|Drama  \n",
       "898       Action|Adventure|Sci-Fi  \n",
       "1730     Comedy|Drama|Romance|War  \n",
       "1939       Action|Sci-Fi|Thriller  \n",
       "2226  Action|Crime|Drama|Thriller  \n",
       "9618                  Crime|Drama  "
      ]
     },
     "execution_count": 174,
     "metadata": {},
     "output_type": "execute_result"
    }
   ],
   "source": [
    "movie[movie['movieId'].isin(user_rating)].head(10)"
   ]
  },
  {
   "cell_type": "markdown",
   "metadata": {},
   "source": [
    "Мой рейтинг оказался довольно близко к сущестсующему"
   ]
  },
  {
   "cell_type": "markdown",
   "metadata": {},
   "source": [
    "9. Поставьте оценку какому-нибудь фильму (который вы знаете и можете поставить оценку) и получите рекомендации, насколько они качественные по вашим ощущениям? Сделайте это для фильма с негативной оценкой и для фильма с позитивной оценкой.\n",
    "10. Добавляйте оценки и посмотрите, как изменяются рекомендации фильмов. Соответствуют ли они вашим предпочтениям? Есть ли недостатки у системы? Сколько нужно оценок для того, чтобы рекомендации стали релевантными? (в этом пункте добавляйте оценки в том числе из интересного вам жанра для пункта 11)\n"
   ]
  },
  {
   "cell_type": "code",
   "execution_count": 176,
   "metadata": {},
   "outputs": [
    {
     "data": {
      "text/html": [
       "<div>\n",
       "<style scoped>\n",
       "    .dataframe tbody tr th:only-of-type {\n",
       "        vertical-align: middle;\n",
       "    }\n",
       "\n",
       "    .dataframe tbody tr th {\n",
       "        vertical-align: top;\n",
       "    }\n",
       "\n",
       "    .dataframe thead th {\n",
       "        text-align: right;\n",
       "    }\n",
       "</style>\n",
       "<table border=\"1\" class=\"dataframe\">\n",
       "  <thead>\n",
       "    <tr style=\"text-align: right;\">\n",
       "      <th></th>\n",
       "      <th>userId</th>\n",
       "      <th>movieId</th>\n",
       "      <th>rating</th>\n",
       "      <th>timestamp</th>\n",
       "      <th>count</th>\n",
       "    </tr>\n",
       "  </thead>\n",
       "  <tbody>\n",
       "    <tr>\n",
       "      <th>0</th>\n",
       "      <td>1</td>\n",
       "      <td>1</td>\n",
       "      <td>4.0</td>\n",
       "      <td>964982703</td>\n",
       "      <td>1</td>\n",
       "    </tr>\n",
       "  </tbody>\n",
       "</table>\n",
       "</div>"
      ],
      "text/plain": [
       "   userId  movieId  rating  timestamp  count\n",
       "0       1        1     4.0  964982703      1"
      ]
     },
     "execution_count": 176,
     "metadata": {},
     "output_type": "execute_result"
    }
   ],
   "source": [
    "rating.head(1)"
   ]
  },
  {
   "cell_type": "code",
   "execution_count": 177,
   "metadata": {},
   "outputs": [
    {
     "data": {
      "text/html": [
       "<div>\n",
       "<style scoped>\n",
       "    .dataframe tbody tr th:only-of-type {\n",
       "        vertical-align: middle;\n",
       "    }\n",
       "\n",
       "    .dataframe tbody tr th {\n",
       "        vertical-align: top;\n",
       "    }\n",
       "\n",
       "    .dataframe thead th {\n",
       "        text-align: right;\n",
       "    }\n",
       "</style>\n",
       "<table border=\"1\" class=\"dataframe\">\n",
       "  <thead>\n",
       "    <tr style=\"text-align: right;\">\n",
       "      <th></th>\n",
       "      <th>userId</th>\n",
       "      <th>movieId</th>\n",
       "      <th>rating</th>\n",
       "      <th>timestamp</th>\n",
       "      <th>count</th>\n",
       "    </tr>\n",
       "  </thead>\n",
       "  <tbody>\n",
       "    <tr>\n",
       "      <th>count</th>\n",
       "      <td>100836.000000</td>\n",
       "      <td>100836.000000</td>\n",
       "      <td>100836.000000</td>\n",
       "      <td>1.008360e+05</td>\n",
       "      <td>100836.0</td>\n",
       "    </tr>\n",
       "    <tr>\n",
       "      <th>mean</th>\n",
       "      <td>326.127564</td>\n",
       "      <td>19435.295718</td>\n",
       "      <td>3.501557</td>\n",
       "      <td>1.205946e+09</td>\n",
       "      <td>1.0</td>\n",
       "    </tr>\n",
       "    <tr>\n",
       "      <th>std</th>\n",
       "      <td>182.618491</td>\n",
       "      <td>35530.987199</td>\n",
       "      <td>1.042529</td>\n",
       "      <td>2.162610e+08</td>\n",
       "      <td>0.0</td>\n",
       "    </tr>\n",
       "    <tr>\n",
       "      <th>min</th>\n",
       "      <td>1.000000</td>\n",
       "      <td>1.000000</td>\n",
       "      <td>0.500000</td>\n",
       "      <td>8.281246e+08</td>\n",
       "      <td>1.0</td>\n",
       "    </tr>\n",
       "    <tr>\n",
       "      <th>25%</th>\n",
       "      <td>177.000000</td>\n",
       "      <td>1199.000000</td>\n",
       "      <td>3.000000</td>\n",
       "      <td>1.019124e+09</td>\n",
       "      <td>1.0</td>\n",
       "    </tr>\n",
       "    <tr>\n",
       "      <th>50%</th>\n",
       "      <td>325.000000</td>\n",
       "      <td>2991.000000</td>\n",
       "      <td>3.500000</td>\n",
       "      <td>1.186087e+09</td>\n",
       "      <td>1.0</td>\n",
       "    </tr>\n",
       "    <tr>\n",
       "      <th>75%</th>\n",
       "      <td>477.000000</td>\n",
       "      <td>8122.000000</td>\n",
       "      <td>4.000000</td>\n",
       "      <td>1.435994e+09</td>\n",
       "      <td>1.0</td>\n",
       "    </tr>\n",
       "    <tr>\n",
       "      <th>max</th>\n",
       "      <td>610.000000</td>\n",
       "      <td>193609.000000</td>\n",
       "      <td>5.000000</td>\n",
       "      <td>1.537799e+09</td>\n",
       "      <td>1.0</td>\n",
       "    </tr>\n",
       "  </tbody>\n",
       "</table>\n",
       "</div>"
      ],
      "text/plain": [
       "              userId        movieId         rating     timestamp     count\n",
       "count  100836.000000  100836.000000  100836.000000  1.008360e+05  100836.0\n",
       "mean      326.127564   19435.295718       3.501557  1.205946e+09       1.0\n",
       "std       182.618491   35530.987199       1.042529  2.162610e+08       0.0\n",
       "min         1.000000       1.000000       0.500000  8.281246e+08       1.0\n",
       "25%       177.000000    1199.000000       3.000000  1.019124e+09       1.0\n",
       "50%       325.000000    2991.000000       3.500000  1.186087e+09       1.0\n",
       "75%       477.000000    8122.000000       4.000000  1.435994e+09       1.0\n",
       "max       610.000000  193609.000000       5.000000  1.537799e+09       1.0"
      ]
     },
     "execution_count": 177,
     "metadata": {},
     "output_type": "execute_result"
    }
   ],
   "source": [
    "rating.describe()"
   ]
  },
  {
   "cell_type": "code",
   "execution_count": 180,
   "metadata": {},
   "outputs": [],
   "source": [
    "rating = rating.append({'userId': 611, 'movieId': 260, 'rating': 5}, ignore_index=True )"
   ]
  },
  {
   "cell_type": "code",
   "execution_count": 187,
   "metadata": {},
   "outputs": [],
   "source": [
    "def train(rating):\n",
    "    ds = Dataset.load_from_df(rating[['userId', 'movieId', 'rating']], reader)\n",
    "    gs.fit(ds)\n",
    "    return gs"
   ]
  },
  {
   "cell_type": "code",
   "execution_count": 188,
   "metadata": {},
   "outputs": [],
   "source": [
    "gs = train(rating)"
   ]
  },
  {
   "cell_type": "code",
   "execution_count": 189,
   "metadata": {},
   "outputs": [],
   "source": [
    "def top_r(gs, id):\n",
    "    testset = [[id, x, 4] for x in movie['movieId']]\n",
    "    est = gs.best_estimator['rmse']\n",
    "    predictions = est.test(testset)\n",
    "    top =  get_top_n(predictions)\n",
    "    user_rating=[]\n",
    "    for uid, user_ratings in top.items():\n",
    "        user_rating.extend(user_ratings)\n",
    "    user_rating = list(map(lambda x: x[0], user_rating))\n",
    "    return user_rating"
   ]
  },
  {
   "cell_type": "code",
   "execution_count": 190,
   "metadata": {},
   "outputs": [
    {
     "data": {
      "text/html": [
       "<div>\n",
       "<style scoped>\n",
       "    .dataframe tbody tr th:only-of-type {\n",
       "        vertical-align: middle;\n",
       "    }\n",
       "\n",
       "    .dataframe tbody tr th {\n",
       "        vertical-align: top;\n",
       "    }\n",
       "\n",
       "    .dataframe thead th {\n",
       "        text-align: right;\n",
       "    }\n",
       "</style>\n",
       "<table border=\"1\" class=\"dataframe\">\n",
       "  <thead>\n",
       "    <tr style=\"text-align: right;\">\n",
       "      <th></th>\n",
       "      <th>movieId</th>\n",
       "      <th>title</th>\n",
       "      <th>genres</th>\n",
       "    </tr>\n",
       "  </thead>\n",
       "  <tbody>\n",
       "    <tr>\n",
       "      <th>224</th>\n",
       "      <td>260</td>\n",
       "      <td>Star Wars: Episode IV - A New Hope (1977)</td>\n",
       "      <td>Action|Adventure|Sci-Fi</td>\n",
       "    </tr>\n",
       "    <tr>\n",
       "      <th>314</th>\n",
       "      <td>356</td>\n",
       "      <td>Forrest Gump (1994)</td>\n",
       "      <td>Comedy|Drama|Romance|War</td>\n",
       "    </tr>\n",
       "    <tr>\n",
       "      <th>585</th>\n",
       "      <td>720</td>\n",
       "      <td>Wallace &amp; Gromit: The Best of Aardman Animatio...</td>\n",
       "      <td>Adventure|Animation|Comedy</td>\n",
       "    </tr>\n",
       "    <tr>\n",
       "      <th>602</th>\n",
       "      <td>750</td>\n",
       "      <td>Dr. Strangelove or: How I Learned to Stop Worr...</td>\n",
       "      <td>Comedy|War</td>\n",
       "    </tr>\n",
       "    <tr>\n",
       "      <th>694</th>\n",
       "      <td>912</td>\n",
       "      <td>Casablanca (1942)</td>\n",
       "      <td>Drama|Romance</td>\n",
       "    </tr>\n",
       "    <tr>\n",
       "      <th>4529</th>\n",
       "      <td>6711</td>\n",
       "      <td>Lost in Translation (2003)</td>\n",
       "      <td>Comedy|Drama|Romance</td>\n",
       "    </tr>\n",
       "    <tr>\n",
       "      <th>4604</th>\n",
       "      <td>6857</td>\n",
       "      <td>Ninja Scroll (Jûbei ninpûchô) (1995)</td>\n",
       "      <td>Action|Adventure|Animation|Fantasy</td>\n",
       "    </tr>\n",
       "    <tr>\n",
       "      <th>5006</th>\n",
       "      <td>7748</td>\n",
       "      <td>Pierrot le fou (1965)</td>\n",
       "      <td>Crime|Drama</td>\n",
       "    </tr>\n",
       "    <tr>\n",
       "      <th>6783</th>\n",
       "      <td>60333</td>\n",
       "      <td>Encounters at the End of the World (2008)</td>\n",
       "      <td>Documentary</td>\n",
       "    </tr>\n",
       "    <tr>\n",
       "      <th>7372</th>\n",
       "      <td>79132</td>\n",
       "      <td>Inception (2010)</td>\n",
       "      <td>Action|Crime|Drama|Mystery|Sci-Fi|Thriller|IMAX</td>\n",
       "    </tr>\n",
       "  </tbody>\n",
       "</table>\n",
       "</div>"
      ],
      "text/plain": [
       "      movieId                                              title  \\\n",
       "224       260          Star Wars: Episode IV - A New Hope (1977)   \n",
       "314       356                                Forrest Gump (1994)   \n",
       "585       720  Wallace & Gromit: The Best of Aardman Animatio...   \n",
       "602       750  Dr. Strangelove or: How I Learned to Stop Worr...   \n",
       "694       912                                  Casablanca (1942)   \n",
       "4529     6711                         Lost in Translation (2003)   \n",
       "4604     6857               Ninja Scroll (Jûbei ninpûchô) (1995)   \n",
       "5006     7748                              Pierrot le fou (1965)   \n",
       "6783    60333          Encounters at the End of the World (2008)   \n",
       "7372    79132                                   Inception (2010)   \n",
       "\n",
       "                                               genres  \n",
       "224                           Action|Adventure|Sci-Fi  \n",
       "314                          Comedy|Drama|Romance|War  \n",
       "585                        Adventure|Animation|Comedy  \n",
       "602                                        Comedy|War  \n",
       "694                                     Drama|Romance  \n",
       "4529                             Comedy|Drama|Romance  \n",
       "4604               Action|Adventure|Animation|Fantasy  \n",
       "5006                                      Crime|Drama  \n",
       "6783                                      Documentary  \n",
       "7372  Action|Crime|Drama|Mystery|Sci-Fi|Thriller|IMAX  "
      ]
     },
     "execution_count": 190,
     "metadata": {},
     "output_type": "execute_result"
    }
   ],
   "source": [
    "movie[movie['movieId'].isin(top_r(gs, 611))].head(10)"
   ]
  },
  {
   "cell_type": "code",
   "execution_count": 191,
   "metadata": {},
   "outputs": [],
   "source": [
    "rating = rating.append({'userId': 611, 'movieId': 1196, 'rating': 5}, ignore_index=True )\n",
    "rating = rating.append({'userId': 611, 'movieId': 356, 'rating': 1}, ignore_index=True )"
   ]
  },
  {
   "cell_type": "code",
   "execution_count": 192,
   "metadata": {},
   "outputs": [],
   "source": [
    "gs = train(rating)"
   ]
  },
  {
   "cell_type": "code",
   "execution_count": 193,
   "metadata": {},
   "outputs": [
    {
     "data": {
      "text/html": [
       "<div>\n",
       "<style scoped>\n",
       "    .dataframe tbody tr th:only-of-type {\n",
       "        vertical-align: middle;\n",
       "    }\n",
       "\n",
       "    .dataframe tbody tr th {\n",
       "        vertical-align: top;\n",
       "    }\n",
       "\n",
       "    .dataframe thead th {\n",
       "        text-align: right;\n",
       "    }\n",
       "</style>\n",
       "<table border=\"1\" class=\"dataframe\">\n",
       "  <thead>\n",
       "    <tr style=\"text-align: right;\">\n",
       "      <th></th>\n",
       "      <th>movieId</th>\n",
       "      <th>title</th>\n",
       "      <th>genres</th>\n",
       "    </tr>\n",
       "  </thead>\n",
       "  <tbody>\n",
       "    <tr>\n",
       "      <th>224</th>\n",
       "      <td>260</td>\n",
       "      <td>Star Wars: Episode IV - A New Hope (1977)</td>\n",
       "      <td>Action|Adventure|Sci-Fi</td>\n",
       "    </tr>\n",
       "    <tr>\n",
       "      <th>311</th>\n",
       "      <td>353</td>\n",
       "      <td>Crow, The (1994)</td>\n",
       "      <td>Action|Crime|Fantasy|Thriller</td>\n",
       "    </tr>\n",
       "    <tr>\n",
       "      <th>898</th>\n",
       "      <td>1196</td>\n",
       "      <td>Star Wars: Episode V - The Empire Strikes Back...</td>\n",
       "      <td>Action|Adventure|Sci-Fi</td>\n",
       "    </tr>\n",
       "    <tr>\n",
       "      <th>1218</th>\n",
       "      <td>1617</td>\n",
       "      <td>L.A. Confidential (1997)</td>\n",
       "      <td>Crime|Film-Noir|Mystery|Thriller</td>\n",
       "    </tr>\n",
       "    <tr>\n",
       "      <th>3195</th>\n",
       "      <td>4307</td>\n",
       "      <td>Fast Food, Fast Women (2000)</td>\n",
       "      <td>Comedy|Romance</td>\n",
       "    </tr>\n",
       "    <tr>\n",
       "      <th>3294</th>\n",
       "      <td>4454</td>\n",
       "      <td>More (1998)</td>\n",
       "      <td>Animation|Drama|Sci-Fi|IMAX</td>\n",
       "    </tr>\n",
       "    <tr>\n",
       "      <th>4348</th>\n",
       "      <td>6350</td>\n",
       "      <td>Laputa: Castle in the Sky (Tenkû no shiro Rapy...</td>\n",
       "      <td>Action|Adventure|Animation|Children|Fantasy|Sc...</td>\n",
       "    </tr>\n",
       "    <tr>\n",
       "      <th>7184</th>\n",
       "      <td>72356</td>\n",
       "      <td>Partly Cloudy (2009)</td>\n",
       "      <td>Animation|Children|Comedy|Fantasy</td>\n",
       "    </tr>\n",
       "    <tr>\n",
       "      <th>7355</th>\n",
       "      <td>78499</td>\n",
       "      <td>Toy Story 3 (2010)</td>\n",
       "      <td>Adventure|Animation|Children|Comedy|Fantasy|IMAX</td>\n",
       "    </tr>\n",
       "    <tr>\n",
       "      <th>9009</th>\n",
       "      <td>140174</td>\n",
       "      <td>Room (2015)</td>\n",
       "      <td>Drama</td>\n",
       "    </tr>\n",
       "  </tbody>\n",
       "</table>\n",
       "</div>"
      ],
      "text/plain": [
       "      movieId                                              title  \\\n",
       "224       260          Star Wars: Episode IV - A New Hope (1977)   \n",
       "311       353                                   Crow, The (1994)   \n",
       "898      1196  Star Wars: Episode V - The Empire Strikes Back...   \n",
       "1218     1617                           L.A. Confidential (1997)   \n",
       "3195     4307                       Fast Food, Fast Women (2000)   \n",
       "3294     4454                                        More (1998)   \n",
       "4348     6350  Laputa: Castle in the Sky (Tenkû no shiro Rapy...   \n",
       "7184    72356                               Partly Cloudy (2009)   \n",
       "7355    78499                                 Toy Story 3 (2010)   \n",
       "9009   140174                                        Room (2015)   \n",
       "\n",
       "                                                 genres  \n",
       "224                             Action|Adventure|Sci-Fi  \n",
       "311                       Action|Crime|Fantasy|Thriller  \n",
       "898                             Action|Adventure|Sci-Fi  \n",
       "1218                   Crime|Film-Noir|Mystery|Thriller  \n",
       "3195                                     Comedy|Romance  \n",
       "3294                        Animation|Drama|Sci-Fi|IMAX  \n",
       "4348  Action|Adventure|Animation|Children|Fantasy|Sc...  \n",
       "7184                  Animation|Children|Comedy|Fantasy  \n",
       "7355   Adventure|Animation|Children|Comedy|Fantasy|IMAX  \n",
       "9009                                              Drama  "
      ]
     },
     "execution_count": 193,
     "metadata": {},
     "output_type": "execute_result"
    }
   ],
   "source": [
    "movie[movie['movieId'].isin(top_r(gs, 611))].head(10)"
   ]
  },
  {
   "cell_type": "code",
   "execution_count": 194,
   "metadata": {},
   "outputs": [
    {
     "data": {
      "text/html": [
       "<div>\n",
       "<style scoped>\n",
       "    .dataframe tbody tr th:only-of-type {\n",
       "        vertical-align: middle;\n",
       "    }\n",
       "\n",
       "    .dataframe tbody tr th {\n",
       "        vertical-align: top;\n",
       "    }\n",
       "\n",
       "    .dataframe thead th {\n",
       "        text-align: right;\n",
       "    }\n",
       "</style>\n",
       "<table border=\"1\" class=\"dataframe\">\n",
       "  <thead>\n",
       "    <tr style=\"text-align: right;\">\n",
       "      <th></th>\n",
       "      <th>movieId</th>\n",
       "      <th>title</th>\n",
       "      <th>genres</th>\n",
       "    </tr>\n",
       "  </thead>\n",
       "  <tbody>\n",
       "    <tr>\n",
       "      <th>224</th>\n",
       "      <td>260</td>\n",
       "      <td>Star Wars: Episode IV - A New Hope (1977)</td>\n",
       "      <td>Action|Adventure|Sci-Fi</td>\n",
       "    </tr>\n",
       "    <tr>\n",
       "      <th>898</th>\n",
       "      <td>1196</td>\n",
       "      <td>Star Wars: Episode V - The Empire Strikes Back...</td>\n",
       "      <td>Action|Adventure|Sci-Fi</td>\n",
       "    </tr>\n",
       "    <tr>\n",
       "      <th>911</th>\n",
       "      <td>1210</td>\n",
       "      <td>Star Wars: Episode VI - Return of the Jedi (1983)</td>\n",
       "      <td>Action|Adventure|Sci-Fi</td>\n",
       "    </tr>\n",
       "    <tr>\n",
       "      <th>1979</th>\n",
       "      <td>2628</td>\n",
       "      <td>Star Wars: Episode I - The Phantom Menace (1999)</td>\n",
       "      <td>Action|Adventure|Sci-Fi</td>\n",
       "    </tr>\n",
       "    <tr>\n",
       "      <th>3832</th>\n",
       "      <td>5378</td>\n",
       "      <td>Star Wars: Episode II - Attack of the Clones (...</td>\n",
       "      <td>Action|Adventure|Sci-Fi|IMAX</td>\n",
       "    </tr>\n",
       "    <tr>\n",
       "      <th>5896</th>\n",
       "      <td>33493</td>\n",
       "      <td>Star Wars: Episode III - Revenge of the Sith (...</td>\n",
       "      <td>Action|Adventure|Sci-Fi</td>\n",
       "    </tr>\n",
       "    <tr>\n",
       "      <th>6823</th>\n",
       "      <td>61160</td>\n",
       "      <td>Star Wars: The Clone Wars (2008)</td>\n",
       "      <td>Action|Adventure|Animation|Sci-Fi</td>\n",
       "    </tr>\n",
       "    <tr>\n",
       "      <th>7367</th>\n",
       "      <td>79006</td>\n",
       "      <td>Empire of Dreams: The Story of the 'Star Wars'...</td>\n",
       "      <td>Documentary</td>\n",
       "    </tr>\n",
       "    <tr>\n",
       "      <th>8683</th>\n",
       "      <td>122886</td>\n",
       "      <td>Star Wars: Episode VII - The Force Awakens (2015)</td>\n",
       "      <td>Action|Adventure|Fantasy|Sci-Fi|IMAX</td>\n",
       "    </tr>\n",
       "    <tr>\n",
       "      <th>8908</th>\n",
       "      <td>135216</td>\n",
       "      <td>The Star Wars Holiday Special (1978)</td>\n",
       "      <td>Adventure|Children|Comedy|Sci-Fi</td>\n",
       "    </tr>\n",
       "    <tr>\n",
       "      <th>9433</th>\n",
       "      <td>166528</td>\n",
       "      <td>Rogue One: A Star Wars Story (2016)</td>\n",
       "      <td>Action|Adventure|Fantasy|Sci-Fi</td>\n",
       "    </tr>\n",
       "    <tr>\n",
       "      <th>9645</th>\n",
       "      <td>179819</td>\n",
       "      <td>Star Wars: The Last Jedi (2017)</td>\n",
       "      <td>Action|Adventure|Fantasy|Sci-Fi</td>\n",
       "    </tr>\n",
       "    <tr>\n",
       "      <th>9710</th>\n",
       "      <td>187595</td>\n",
       "      <td>Solo: A Star Wars Story (2018)</td>\n",
       "      <td>Action|Adventure|Children|Sci-Fi</td>\n",
       "    </tr>\n",
       "  </tbody>\n",
       "</table>\n",
       "</div>"
      ],
      "text/plain": [
       "      movieId                                              title  \\\n",
       "224       260          Star Wars: Episode IV - A New Hope (1977)   \n",
       "898      1196  Star Wars: Episode V - The Empire Strikes Back...   \n",
       "911      1210  Star Wars: Episode VI - Return of the Jedi (1983)   \n",
       "1979     2628   Star Wars: Episode I - The Phantom Menace (1999)   \n",
       "3832     5378  Star Wars: Episode II - Attack of the Clones (...   \n",
       "5896    33493  Star Wars: Episode III - Revenge of the Sith (...   \n",
       "6823    61160                   Star Wars: The Clone Wars (2008)   \n",
       "7367    79006  Empire of Dreams: The Story of the 'Star Wars'...   \n",
       "8683   122886  Star Wars: Episode VII - The Force Awakens (2015)   \n",
       "8908   135216               The Star Wars Holiday Special (1978)   \n",
       "9433   166528                Rogue One: A Star Wars Story (2016)   \n",
       "9645   179819                    Star Wars: The Last Jedi (2017)   \n",
       "9710   187595                     Solo: A Star Wars Story (2018)   \n",
       "\n",
       "                                    genres  \n",
       "224                Action|Adventure|Sci-Fi  \n",
       "898                Action|Adventure|Sci-Fi  \n",
       "911                Action|Adventure|Sci-Fi  \n",
       "1979               Action|Adventure|Sci-Fi  \n",
       "3832          Action|Adventure|Sci-Fi|IMAX  \n",
       "5896               Action|Adventure|Sci-Fi  \n",
       "6823     Action|Adventure|Animation|Sci-Fi  \n",
       "7367                           Documentary  \n",
       "8683  Action|Adventure|Fantasy|Sci-Fi|IMAX  \n",
       "8908      Adventure|Children|Comedy|Sci-Fi  \n",
       "9433       Action|Adventure|Fantasy|Sci-Fi  \n",
       "9645       Action|Adventure|Fantasy|Sci-Fi  \n",
       "9710      Action|Adventure|Children|Sci-Fi  "
      ]
     },
     "execution_count": 194,
     "metadata": {},
     "output_type": "execute_result"
    }
   ],
   "source": [
    "movie[movie['title'].str.contains('Star Wars')]"
   ]
  },
  {
   "cell_type": "code",
   "execution_count": 195,
   "metadata": {},
   "outputs": [],
   "source": [
    "ating = rating.append({'userId': 611, 'movieId': 179819, 'rating': 5}, ignore_index=True )\n",
    "rating = rating.append({'userId': 611, 'movieId': 140174, 'rating': 1}, ignore_index=True )"
   ]
  },
  {
   "cell_type": "code",
   "execution_count": 196,
   "metadata": {},
   "outputs": [],
   "source": [
    "gs = train(rating)"
   ]
  },
  {
   "cell_type": "code",
   "execution_count": 197,
   "metadata": {},
   "outputs": [
    {
     "data": {
      "text/html": [
       "<div>\n",
       "<style scoped>\n",
       "    .dataframe tbody tr th:only-of-type {\n",
       "        vertical-align: middle;\n",
       "    }\n",
       "\n",
       "    .dataframe tbody tr th {\n",
       "        vertical-align: top;\n",
       "    }\n",
       "\n",
       "    .dataframe thead th {\n",
       "        text-align: right;\n",
       "    }\n",
       "</style>\n",
       "<table border=\"1\" class=\"dataframe\">\n",
       "  <thead>\n",
       "    <tr style=\"text-align: right;\">\n",
       "      <th></th>\n",
       "      <th>movieId</th>\n",
       "      <th>title</th>\n",
       "      <th>genres</th>\n",
       "    </tr>\n",
       "  </thead>\n",
       "  <tbody>\n",
       "    <tr>\n",
       "      <th>224</th>\n",
       "      <td>260</td>\n",
       "      <td>Star Wars: Episode IV - A New Hope (1977)</td>\n",
       "      <td>Action|Adventure|Sci-Fi</td>\n",
       "    </tr>\n",
       "    <tr>\n",
       "      <th>602</th>\n",
       "      <td>750</td>\n",
       "      <td>Dr. Strangelove or: How I Learned to Stop Worr...</td>\n",
       "      <td>Comedy|War</td>\n",
       "    </tr>\n",
       "    <tr>\n",
       "      <th>898</th>\n",
       "      <td>1196</td>\n",
       "      <td>Star Wars: Episode V - The Empire Strikes Back...</td>\n",
       "      <td>Action|Adventure|Sci-Fi</td>\n",
       "    </tr>\n",
       "    <tr>\n",
       "      <th>911</th>\n",
       "      <td>1210</td>\n",
       "      <td>Star Wars: Episode VI - Return of the Jedi (1983)</td>\n",
       "      <td>Action|Adventure|Sci-Fi</td>\n",
       "    </tr>\n",
       "    <tr>\n",
       "      <th>1032</th>\n",
       "      <td>1344</td>\n",
       "      <td>Cape Fear (1962)</td>\n",
       "      <td>Crime|Drama|Thriller</td>\n",
       "    </tr>\n",
       "    <tr>\n",
       "      <th>2765</th>\n",
       "      <td>3703</td>\n",
       "      <td>Road Warrior, The (Mad Max 2) (1981)</td>\n",
       "      <td>Action|Adventure|Sci-Fi|Thriller</td>\n",
       "    </tr>\n",
       "    <tr>\n",
       "      <th>3277</th>\n",
       "      <td>4437</td>\n",
       "      <td>Suspiria (1977)</td>\n",
       "      <td>Horror</td>\n",
       "    </tr>\n",
       "    <tr>\n",
       "      <th>3646</th>\n",
       "      <td>5010</td>\n",
       "      <td>Black Hawk Down (2001)</td>\n",
       "      <td>Action|Drama|War</td>\n",
       "    </tr>\n",
       "    <tr>\n",
       "      <th>6772</th>\n",
       "      <td>60069</td>\n",
       "      <td>WALL·E (2008)</td>\n",
       "      <td>Adventure|Animation|Children|Romance|Sci-Fi</td>\n",
       "    </tr>\n",
       "    <tr>\n",
       "      <th>6885</th>\n",
       "      <td>63082</td>\n",
       "      <td>Slumdog Millionaire (2008)</td>\n",
       "      <td>Crime|Drama|Romance</td>\n",
       "    </tr>\n",
       "  </tbody>\n",
       "</table>\n",
       "</div>"
      ],
      "text/plain": [
       "      movieId                                              title  \\\n",
       "224       260          Star Wars: Episode IV - A New Hope (1977)   \n",
       "602       750  Dr. Strangelove or: How I Learned to Stop Worr...   \n",
       "898      1196  Star Wars: Episode V - The Empire Strikes Back...   \n",
       "911      1210  Star Wars: Episode VI - Return of the Jedi (1983)   \n",
       "1032     1344                                   Cape Fear (1962)   \n",
       "2765     3703               Road Warrior, The (Mad Max 2) (1981)   \n",
       "3277     4437                                    Suspiria (1977)   \n",
       "3646     5010                             Black Hawk Down (2001)   \n",
       "6772    60069                                      WALL·E (2008)   \n",
       "6885    63082                         Slumdog Millionaire (2008)   \n",
       "\n",
       "                                           genres  \n",
       "224                       Action|Adventure|Sci-Fi  \n",
       "602                                    Comedy|War  \n",
       "898                       Action|Adventure|Sci-Fi  \n",
       "911                       Action|Adventure|Sci-Fi  \n",
       "1032                         Crime|Drama|Thriller  \n",
       "2765             Action|Adventure|Sci-Fi|Thriller  \n",
       "3277                                       Horror  \n",
       "3646                             Action|Drama|War  \n",
       "6772  Adventure|Animation|Children|Romance|Sci-Fi  \n",
       "6885                          Crime|Drama|Romance  "
      ]
     },
     "execution_count": 197,
     "metadata": {},
     "output_type": "execute_result"
    }
   ],
   "source": [
    "movie[movie['movieId'].isin(top_r(gs, 611))].head(10)"
   ]
  },
  {
   "cell_type": "code",
   "execution_count": 198,
   "metadata": {},
   "outputs": [],
   "source": [
    "ating = rating.append({'userId': 611, 'movieId': 5378, 'rating': 5}, ignore_index=True )\n",
    "rating = rating.append({'userId': 611, 'movieId': 750, 'rating': 1}, ignore_index=True )"
   ]
  },
  {
   "cell_type": "code",
   "execution_count": 199,
   "metadata": {},
   "outputs": [
    {
     "data": {
      "text/html": [
       "<div>\n",
       "<style scoped>\n",
       "    .dataframe tbody tr th:only-of-type {\n",
       "        vertical-align: middle;\n",
       "    }\n",
       "\n",
       "    .dataframe tbody tr th {\n",
       "        vertical-align: top;\n",
       "    }\n",
       "\n",
       "    .dataframe thead th {\n",
       "        text-align: right;\n",
       "    }\n",
       "</style>\n",
       "<table border=\"1\" class=\"dataframe\">\n",
       "  <thead>\n",
       "    <tr style=\"text-align: right;\">\n",
       "      <th></th>\n",
       "      <th>movieId</th>\n",
       "      <th>title</th>\n",
       "      <th>genres</th>\n",
       "    </tr>\n",
       "  </thead>\n",
       "  <tbody>\n",
       "    <tr>\n",
       "      <th>224</th>\n",
       "      <td>260</td>\n",
       "      <td>Star Wars: Episode IV - A New Hope (1977)</td>\n",
       "      <td>Action|Adventure|Sci-Fi</td>\n",
       "    </tr>\n",
       "    <tr>\n",
       "      <th>898</th>\n",
       "      <td>1196</td>\n",
       "      <td>Star Wars: Episode V - The Empire Strikes Back...</td>\n",
       "      <td>Action|Adventure|Sci-Fi</td>\n",
       "    </tr>\n",
       "    <tr>\n",
       "      <th>910</th>\n",
       "      <td>1209</td>\n",
       "      <td>Once Upon a Time in the West (C'era una volta ...</td>\n",
       "      <td>Action|Drama|Western</td>\n",
       "    </tr>\n",
       "    <tr>\n",
       "      <th>911</th>\n",
       "      <td>1210</td>\n",
       "      <td>Star Wars: Episode VI - Return of the Jedi (1983)</td>\n",
       "      <td>Action|Adventure|Sci-Fi</td>\n",
       "    </tr>\n",
       "    <tr>\n",
       "      <th>1051</th>\n",
       "      <td>1366</td>\n",
       "      <td>Crucible, The (1996)</td>\n",
       "      <td>Drama</td>\n",
       "    </tr>\n",
       "    <tr>\n",
       "      <th>1946</th>\n",
       "      <td>2580</td>\n",
       "      <td>Go (1999)</td>\n",
       "      <td>Comedy|Crime</td>\n",
       "    </tr>\n",
       "    <tr>\n",
       "      <th>2462</th>\n",
       "      <td>3275</td>\n",
       "      <td>Boondock Saints, The (2000)</td>\n",
       "      <td>Action|Crime|Drama|Thriller</td>\n",
       "    </tr>\n",
       "    <tr>\n",
       "      <th>4800</th>\n",
       "      <td>7153</td>\n",
       "      <td>Lord of the Rings: The Return of the King, The...</td>\n",
       "      <td>Action|Adventure|Drama|Fantasy</td>\n",
       "    </tr>\n",
       "    <tr>\n",
       "      <th>6073</th>\n",
       "      <td>41285</td>\n",
       "      <td>Match Point (2005)</td>\n",
       "      <td>Crime|Drama|Romance</td>\n",
       "    </tr>\n",
       "    <tr>\n",
       "      <th>6885</th>\n",
       "      <td>63082</td>\n",
       "      <td>Slumdog Millionaire (2008)</td>\n",
       "      <td>Crime|Drama|Romance</td>\n",
       "    </tr>\n",
       "  </tbody>\n",
       "</table>\n",
       "</div>"
      ],
      "text/plain": [
       "      movieId                                              title  \\\n",
       "224       260          Star Wars: Episode IV - A New Hope (1977)   \n",
       "898      1196  Star Wars: Episode V - The Empire Strikes Back...   \n",
       "910      1209  Once Upon a Time in the West (C'era una volta ...   \n",
       "911      1210  Star Wars: Episode VI - Return of the Jedi (1983)   \n",
       "1051     1366                               Crucible, The (1996)   \n",
       "1946     2580                                          Go (1999)   \n",
       "2462     3275                        Boondock Saints, The (2000)   \n",
       "4800     7153  Lord of the Rings: The Return of the King, The...   \n",
       "6073    41285                                 Match Point (2005)   \n",
       "6885    63082                         Slumdog Millionaire (2008)   \n",
       "\n",
       "                              genres  \n",
       "224          Action|Adventure|Sci-Fi  \n",
       "898          Action|Adventure|Sci-Fi  \n",
       "910             Action|Drama|Western  \n",
       "911          Action|Adventure|Sci-Fi  \n",
       "1051                           Drama  \n",
       "1946                    Comedy|Crime  \n",
       "2462     Action|Crime|Drama|Thriller  \n",
       "4800  Action|Adventure|Drama|Fantasy  \n",
       "6073             Crime|Drama|Romance  \n",
       "6885             Crime|Drama|Romance  "
      ]
     },
     "execution_count": 199,
     "metadata": {},
     "output_type": "execute_result"
    }
   ],
   "source": [
    "gs = train(rating)\n",
    "movie[movie['movieId'].isin(top_r(gs, 611))].head(10)"
   ]
  },
  {
   "cell_type": "markdown",
   "metadata": {},
   "source": [
    "Как-то не очень. Теперь возьмем только фильмы с Adventure"
   ]
  },
  {
   "cell_type": "markdown",
   "metadata": {},
   "source": [
    "11. Построить рекомендательную систему по подвыборке - выбрать интересный вам жанр. Изменились ли рекомендации? Стали лучше\\хуже?\n"
   ]
  },
  {
   "cell_type": "code",
   "execution_count": 201,
   "metadata": {},
   "outputs": [],
   "source": [
    "movie_adventure = movie[movie['genres'].str.contains('Adventure')]"
   ]
  },
  {
   "cell_type": "code",
   "execution_count": 202,
   "metadata": {},
   "outputs": [],
   "source": [
    "rating_adventure = rating[rating['movieId'].isin(movie_adventure['movieId'])]"
   ]
  },
  {
   "cell_type": "code",
   "execution_count": 203,
   "metadata": {},
   "outputs": [
    {
     "data": {
      "text/html": [
       "<div>\n",
       "<style scoped>\n",
       "    .dataframe tbody tr th:only-of-type {\n",
       "        vertical-align: middle;\n",
       "    }\n",
       "\n",
       "    .dataframe tbody tr th {\n",
       "        vertical-align: top;\n",
       "    }\n",
       "\n",
       "    .dataframe thead th {\n",
       "        text-align: right;\n",
       "    }\n",
       "</style>\n",
       "<table border=\"1\" class=\"dataframe\">\n",
       "  <thead>\n",
       "    <tr style=\"text-align: right;\">\n",
       "      <th></th>\n",
       "      <th>movieId</th>\n",
       "      <th>title</th>\n",
       "      <th>genres</th>\n",
       "    </tr>\n",
       "  </thead>\n",
       "  <tbody>\n",
       "    <tr>\n",
       "      <th>0</th>\n",
       "      <td>1</td>\n",
       "      <td>Toy Story (1995)</td>\n",
       "      <td>Adventure|Animation|Children|Comedy|Fantasy</td>\n",
       "    </tr>\n",
       "  </tbody>\n",
       "</table>\n",
       "</div>"
      ],
      "text/plain": [
       "   movieId             title                                       genres\n",
       "0        1  Toy Story (1995)  Adventure|Animation|Children|Comedy|Fantasy"
      ]
     },
     "execution_count": 203,
     "metadata": {},
     "output_type": "execute_result"
    }
   ],
   "source": [
    "movie_adventure.head(1)"
   ]
  },
  {
   "cell_type": "code",
   "execution_count": 205,
   "metadata": {},
   "outputs": [
    {
     "data": {
      "text/html": [
       "<div>\n",
       "<style scoped>\n",
       "    .dataframe tbody tr th:only-of-type {\n",
       "        vertical-align: middle;\n",
       "    }\n",
       "\n",
       "    .dataframe tbody tr th {\n",
       "        vertical-align: top;\n",
       "    }\n",
       "\n",
       "    .dataframe thead th {\n",
       "        text-align: right;\n",
       "    }\n",
       "</style>\n",
       "<table border=\"1\" class=\"dataframe\">\n",
       "  <thead>\n",
       "    <tr style=\"text-align: right;\">\n",
       "      <th></th>\n",
       "      <th>userId</th>\n",
       "      <th>movieId</th>\n",
       "      <th>rating</th>\n",
       "      <th>timestamp</th>\n",
       "      <th>count</th>\n",
       "    </tr>\n",
       "  </thead>\n",
       "  <tbody>\n",
       "    <tr>\n",
       "      <th>0</th>\n",
       "      <td>1.0</td>\n",
       "      <td>1.0</td>\n",
       "      <td>4.0</td>\n",
       "      <td>964982703.0</td>\n",
       "      <td>1.0</td>\n",
       "    </tr>\n",
       "  </tbody>\n",
       "</table>\n",
       "</div>"
      ],
      "text/plain": [
       "   userId  movieId  rating    timestamp  count\n",
       "0     1.0      1.0     4.0  964982703.0    1.0"
      ]
     },
     "execution_count": 205,
     "metadata": {},
     "output_type": "execute_result"
    }
   ],
   "source": [
    "rating_adventure.head(1)"
   ]
  },
  {
   "cell_type": "code",
   "execution_count": 206,
   "metadata": {},
   "outputs": [],
   "source": [
    "ds = Dataset.load_from_df(rating_adventure[['userId', 'movieId', 'rating']], reader)\n",
    "gs.fit(ds)\n"
   ]
  },
  {
   "cell_type": "code",
   "execution_count": 208,
   "metadata": {},
   "outputs": [
    {
     "data": {
      "text/html": [
       "<div>\n",
       "<style scoped>\n",
       "    .dataframe tbody tr th:only-of-type {\n",
       "        vertical-align: middle;\n",
       "    }\n",
       "\n",
       "    .dataframe tbody tr th {\n",
       "        vertical-align: top;\n",
       "    }\n",
       "\n",
       "    .dataframe thead th {\n",
       "        text-align: right;\n",
       "    }\n",
       "</style>\n",
       "<table border=\"1\" class=\"dataframe\">\n",
       "  <thead>\n",
       "    <tr style=\"text-align: right;\">\n",
       "      <th></th>\n",
       "      <th>movieId</th>\n",
       "      <th>title</th>\n",
       "      <th>genres</th>\n",
       "    </tr>\n",
       "  </thead>\n",
       "  <tbody>\n",
       "    <tr>\n",
       "      <th>224</th>\n",
       "      <td>260</td>\n",
       "      <td>Star Wars: Episode IV - A New Hope (1977)</td>\n",
       "      <td>Action|Adventure|Sci-Fi</td>\n",
       "    </tr>\n",
       "    <tr>\n",
       "      <th>706</th>\n",
       "      <td>924</td>\n",
       "      <td>2001: A Space Odyssey (1968)</td>\n",
       "      <td>Adventure|Drama|Sci-Fi</td>\n",
       "    </tr>\n",
       "    <tr>\n",
       "      <th>863</th>\n",
       "      <td>1136</td>\n",
       "      <td>Monty Python and the Holy Grail (1975)</td>\n",
       "      <td>Adventure|Comedy|Fantasy</td>\n",
       "    </tr>\n",
       "    <tr>\n",
       "      <th>898</th>\n",
       "      <td>1196</td>\n",
       "      <td>Star Wars: Episode V - The Empire Strikes Back...</td>\n",
       "      <td>Action|Adventure|Sci-Fi</td>\n",
       "    </tr>\n",
       "    <tr>\n",
       "      <th>900</th>\n",
       "      <td>1198</td>\n",
       "      <td>Raiders of the Lost Ark (Indiana Jones and the...</td>\n",
       "      <td>Action|Adventure</td>\n",
       "    </tr>\n",
       "    <tr>\n",
       "      <th>903</th>\n",
       "      <td>1201</td>\n",
       "      <td>Good, the Bad and the Ugly, The (Buono, il bru...</td>\n",
       "      <td>Action|Adventure|Western</td>\n",
       "    </tr>\n",
       "    <tr>\n",
       "      <th>1494</th>\n",
       "      <td>2019</td>\n",
       "      <td>Seven Samurai (Shichinin no samurai) (1954)</td>\n",
       "      <td>Action|Adventure|Drama</td>\n",
       "    </tr>\n",
       "    <tr>\n",
       "      <th>2218</th>\n",
       "      <td>2947</td>\n",
       "      <td>Goldfinger (1964)</td>\n",
       "      <td>Action|Adventure|Thriller</td>\n",
       "    </tr>\n",
       "    <tr>\n",
       "      <th>4764</th>\n",
       "      <td>7090</td>\n",
       "      <td>Hero (Ying xiong) (2002)</td>\n",
       "      <td>Action|Adventure|Drama</td>\n",
       "    </tr>\n",
       "    <tr>\n",
       "      <th>6242</th>\n",
       "      <td>46578</td>\n",
       "      <td>Little Miss Sunshine (2006)</td>\n",
       "      <td>Adventure|Comedy|Drama</td>\n",
       "    </tr>\n",
       "  </tbody>\n",
       "</table>\n",
       "</div>"
      ],
      "text/plain": [
       "      movieId                                              title  \\\n",
       "224       260          Star Wars: Episode IV - A New Hope (1977)   \n",
       "706       924                       2001: A Space Odyssey (1968)   \n",
       "863      1136             Monty Python and the Holy Grail (1975)   \n",
       "898      1196  Star Wars: Episode V - The Empire Strikes Back...   \n",
       "900      1198  Raiders of the Lost Ark (Indiana Jones and the...   \n",
       "903      1201  Good, the Bad and the Ugly, The (Buono, il bru...   \n",
       "1494     2019        Seven Samurai (Shichinin no samurai) (1954)   \n",
       "2218     2947                                  Goldfinger (1964)   \n",
       "4764     7090                           Hero (Ying xiong) (2002)   \n",
       "6242    46578                        Little Miss Sunshine (2006)   \n",
       "\n",
       "                         genres  \n",
       "224     Action|Adventure|Sci-Fi  \n",
       "706      Adventure|Drama|Sci-Fi  \n",
       "863    Adventure|Comedy|Fantasy  \n",
       "898     Action|Adventure|Sci-Fi  \n",
       "900            Action|Adventure  \n",
       "903    Action|Adventure|Western  \n",
       "1494     Action|Adventure|Drama  \n",
       "2218  Action|Adventure|Thriller  \n",
       "4764     Action|Adventure|Drama  \n",
       "6242     Adventure|Comedy|Drama  "
      ]
     },
     "execution_count": 208,
     "metadata": {},
     "output_type": "execute_result"
    }
   ],
   "source": [
    "movie[movie['movieId'].isin(top_r(gs, 611))].head(20)"
   ]
  },
  {
   "cell_type": "code",
   "execution_count": 209,
   "metadata": {},
   "outputs": [],
   "source": [
    "ating = rating.append({'userId': 611, 'movieId': 2628, 'rating': 5}, ignore_index=True )\n",
    "rating = rating.append({'userId': 611, 'movieId': 1136, 'rating': 1}, ignore_index=True )"
   ]
  },
  {
   "cell_type": "code",
   "execution_count": 210,
   "metadata": {},
   "outputs": [
    {
     "data": {
      "text/html": [
       "<div>\n",
       "<style scoped>\n",
       "    .dataframe tbody tr th:only-of-type {\n",
       "        vertical-align: middle;\n",
       "    }\n",
       "\n",
       "    .dataframe tbody tr th {\n",
       "        vertical-align: top;\n",
       "    }\n",
       "\n",
       "    .dataframe thead th {\n",
       "        text-align: right;\n",
       "    }\n",
       "</style>\n",
       "<table border=\"1\" class=\"dataframe\">\n",
       "  <thead>\n",
       "    <tr style=\"text-align: right;\">\n",
       "      <th></th>\n",
       "      <th>movieId</th>\n",
       "      <th>title</th>\n",
       "      <th>genres</th>\n",
       "    </tr>\n",
       "  </thead>\n",
       "  <tbody>\n",
       "    <tr>\n",
       "      <th>224</th>\n",
       "      <td>260</td>\n",
       "      <td>Star Wars: Episode IV - A New Hope (1977)</td>\n",
       "      <td>Action|Adventure|Sci-Fi</td>\n",
       "    </tr>\n",
       "    <tr>\n",
       "      <th>585</th>\n",
       "      <td>720</td>\n",
       "      <td>Wallace &amp; Gromit: The Best of Aardman Animatio...</td>\n",
       "      <td>Adventure|Animation|Comedy</td>\n",
       "    </tr>\n",
       "    <tr>\n",
       "      <th>898</th>\n",
       "      <td>1196</td>\n",
       "      <td>Star Wars: Episode V - The Empire Strikes Back...</td>\n",
       "      <td>Action|Adventure|Sci-Fi</td>\n",
       "    </tr>\n",
       "    <tr>\n",
       "      <th>911</th>\n",
       "      <td>1210</td>\n",
       "      <td>Star Wars: Episode VI - Return of the Jedi (1983)</td>\n",
       "      <td>Action|Adventure|Sci-Fi</td>\n",
       "    </tr>\n",
       "    <tr>\n",
       "      <th>990</th>\n",
       "      <td>1291</td>\n",
       "      <td>Indiana Jones and the Last Crusade (1989)</td>\n",
       "      <td>Action|Adventure</td>\n",
       "    </tr>\n",
       "    <tr>\n",
       "      <th>2283</th>\n",
       "      <td>3030</td>\n",
       "      <td>Yojimbo (1961)</td>\n",
       "      <td>Action|Adventure</td>\n",
       "    </tr>\n",
       "    <tr>\n",
       "      <th>2674</th>\n",
       "      <td>3578</td>\n",
       "      <td>Gladiator (2000)</td>\n",
       "      <td>Action|Adventure|Drama</td>\n",
       "    </tr>\n",
       "    <tr>\n",
       "      <th>3984</th>\n",
       "      <td>5618</td>\n",
       "      <td>Spirited Away (Sen to Chihiro no kamikakushi) ...</td>\n",
       "      <td>Adventure|Animation|Fantasy</td>\n",
       "    </tr>\n",
       "    <tr>\n",
       "      <th>8274</th>\n",
       "      <td>105504</td>\n",
       "      <td>Captain Phillips (2013)</td>\n",
       "      <td>Adventure|Drama|Thriller|IMAX</td>\n",
       "    </tr>\n",
       "    <tr>\n",
       "      <th>8636</th>\n",
       "      <td>119145</td>\n",
       "      <td>Kingsman: The Secret Service (2015)</td>\n",
       "      <td>Action|Adventure|Comedy|Crime</td>\n",
       "    </tr>\n",
       "  </tbody>\n",
       "</table>\n",
       "</div>"
      ],
      "text/plain": [
       "      movieId                                              title  \\\n",
       "224       260          Star Wars: Episode IV - A New Hope (1977)   \n",
       "585       720  Wallace & Gromit: The Best of Aardman Animatio...   \n",
       "898      1196  Star Wars: Episode V - The Empire Strikes Back...   \n",
       "911      1210  Star Wars: Episode VI - Return of the Jedi (1983)   \n",
       "990      1291          Indiana Jones and the Last Crusade (1989)   \n",
       "2283     3030                                     Yojimbo (1961)   \n",
       "2674     3578                                   Gladiator (2000)   \n",
       "3984     5618  Spirited Away (Sen to Chihiro no kamikakushi) ...   \n",
       "8274   105504                            Captain Phillips (2013)   \n",
       "8636   119145                Kingsman: The Secret Service (2015)   \n",
       "\n",
       "                             genres  \n",
       "224         Action|Adventure|Sci-Fi  \n",
       "585      Adventure|Animation|Comedy  \n",
       "898         Action|Adventure|Sci-Fi  \n",
       "911         Action|Adventure|Sci-Fi  \n",
       "990                Action|Adventure  \n",
       "2283               Action|Adventure  \n",
       "2674         Action|Adventure|Drama  \n",
       "3984    Adventure|Animation|Fantasy  \n",
       "8274  Adventure|Drama|Thriller|IMAX  \n",
       "8636  Action|Adventure|Comedy|Crime  "
      ]
     },
     "execution_count": 210,
     "metadata": {},
     "output_type": "execute_result"
    }
   ],
   "source": [
    "gs.fit(ds)\n",
    "movie[movie['movieId'].isin(top_r(gs, 611))].head(20)"
   ]
  },
  {
   "cell_type": "markdown",
   "metadata": {},
   "source": [
    "Уже гораздо лучше"
   ]
  },
  {
   "cell_type": "code",
   "execution_count": null,
   "metadata": {},
   "outputs": [],
   "source": []
  }
 ],
 "metadata": {
  "kernelspec": {
   "display_name": "Python 3",
   "language": "python",
   "name": "python3"
  },
  "language_info": {
   "codemirror_mode": {
    "name": "ipython",
    "version": 3
   },
   "file_extension": ".py",
   "mimetype": "text/x-python",
   "name": "python",
   "nbconvert_exporter": "python",
   "pygments_lexer": "ipython3",
   "version": "3.7.1"
  }
 },
 "nbformat": 4,
 "nbformat_minor": 2
}
