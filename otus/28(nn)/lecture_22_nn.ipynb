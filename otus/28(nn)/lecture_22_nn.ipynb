{
 "cells": [
  {
   "cell_type": "markdown",
   "metadata": {
    "colab_type": "text",
    "id": "kKvjCssIQCYn"
   },
   "source": [
    "<img src='otus.png'>\n",
    "\n",
    "# Нейронные сети"
   ]
  },
  {
   "cell_type": "markdown",
   "metadata": {
    "colab_type": "text",
    "id": "8u1VvvDqsmfZ"
   },
   "source": [
    "###Сравнение фреймворков\n",
    "https://ru.wikipedia.org/wiki/%D0%A1%D1%80%D0%B0%D0%B2%D0%BD%D0%B5%D0%BD%D0%B8%D0%B5_%D0%BF%D1%80%D0%BE%D0%B3%D1%80%D0%B0%D0%BC%D0%BC_%D0%B3%D0%BB%D1%83%D0%B1%D0%B8%D0%BD%D0%BD%D0%BE%D0%B3%D0%BE_%D0%BE%D0%B1%D1%83%D1%87%D0%B5%D0%BD%D0%B8%D1%8F\n",
    "\n",
    " Keras — это высокоуровневая библиотека для быстрой реализации Deep Learning алгоритмов, которая отлично подходит для знакомства аналитиков с областью. На данный момент Keras поддерживает 2 back-end-а, TensorFlow и Theano и в будущем будет получать официальную поддержку от TensorFlow. Более того, в пользу Keras говорит тот факт, что библиотека, по словам ее автора, продолжит выступать в качестве пользовательского интерфейса, который может быть использован с несколькими back-end-ами.\n",
    " https://habrahabr.ru/company/newprolab/blog/325818/"
   ]
  },
  {
   "cell_type": "markdown",
   "metadata": {
    "colab_type": "text",
    "id": "c6MlxRSoq612"
   },
   "source": [
    "![alt text](https://habrastorage.org/files/5b0/776/de1/5b0776de1b564e37bf00b4af09c3774f.png)"
   ]
  },
  {
   "cell_type": "code",
   "execution_count": null,
   "metadata": {
    "collapsed": true
   },
   "outputs": [],
   "source": []
  },
  {
   "cell_type": "markdown",
   "metadata": {
    "colab_type": "text",
    "id": "aqGTuOKMQJEr"
   },
   "source": [
    "## Перцептрон\n",
    "\n",
    "Рассмотрим задачу бинарной классификации. Все объекты в тренировочной выборке отмечены $1$ и $0$  \n",
    "\n",
    "Каждый вход - вектор вещественных чисел $\\boldsymbol{x} = (1, x_1, x_2, ..., x_d) \\in \\mathbb{R}^d$.  \n",
    "Каждый вход отмечен известной меткой - выходом $y(\\boldsymbol{x})= {0, 1}$\n",
    "\n",
    "Будем искать такие веса $w_0, w_1, ..., w_d \\in \\mathbb{R}^d$, чтобы минимизировать перекрестную энтропию:\n",
    "\n",
    "$$E(\\boldsymbol{w}) = - \\frac{1}{N}\\sum_{i=1}^{N}(y_i log \\sigma(\\boldsymbol{w}^T \\boldsymbol{x}_i) + (1 - y_i)log (1 - \\sigma(\\boldsymbol{w}^T\\boldsymbol{x}_i))),$$\n",
    "\n",
    "где $\\sigma(x) = \\frac{1}{1 + e ^{-x}}$ - функция активации. \n",
    "\n",
    "\n",
    "Оптимизируем градиентным спуском.\n",
    "\n",
    "\n",
    "Один перцептрон - это разновидность линейной регресии. Разные нелинейности на выходе нейрона можно рассматривать как разные формы функции ошибки.\n",
    "\n",
    "\n",
    "\n",
    "<img src='neuron.png'>\n",
    "\n",
    "\n",
    "Линейная комбинация входов, потом нелинейность\n",
    "$$y = h(\\boldsymbol{w}^T\\boldsymbol{x})= h(\\sum_{i}w_i x_i)$$\n"
   ]
  },
  {
   "cell_type": "markdown",
   "metadata": {
    "colab_type": "text",
    "id": "D0AYn8K3eIgK"
   },
   "source": [
    "## Основные операции в tf\n",
    "\n",
    "Суть такова:\n",
    " строим граф вычислений\n",
    " \n",
    "### Создание переменной в tf:\n",
    "  tf.Variable(value, name=\"\")"
   ]
  },
  {
   "cell_type": "code",
   "execution_count": 1,
   "metadata": {
    "colab": {
     "autoexec": {
      "startup": false,
      "wait_interval": 0
     }
    },
    "colab_type": "code",
    "collapsed": true,
    "id": "u785MXmlguY4"
   },
   "outputs": [],
   "source": [
    "import tensorflow as tf\n",
    "\n",
    "x = tf.Variable(3, name=\"x\")\n",
    "y = tf.Variable(4, name=\"y\")\n"
   ]
  },
  {
   "cell_type": "markdown",
   "metadata": {
    "colab_type": "text",
    "id": "WZaqazbKhfwC"
   },
   "source": [
    "Арифметические операции такие же как и обычно"
   ]
  },
  {
   "cell_type": "code",
   "execution_count": 2,
   "metadata": {
    "colab": {
     "autoexec": {
      "startup": false,
      "wait_interval": 0
     }
    },
    "colab_type": "code",
    "collapsed": true,
    "id": "7Txc-uuwhl-6"
   },
   "outputs": [],
   "source": [
    "f = x*x*y + y + 2"
   ]
  },
  {
   "cell_type": "markdown",
   "metadata": {
    "colab_type": "text",
    "id": "ZuuDTv9Rho6m"
   },
   "source": [
    "В отличие от того, к чему мы привыкли этот код ничего пока не считает. Мы пока только проинициализировали граф. Осталось только проинициализировать сессию, переменные и запустить выполнение!\n"
   ]
  },
  {
   "cell_type": "code",
   "execution_count": 3,
   "metadata": {
    "colab": {
     "autoexec": {
      "startup": false,
      "wait_interval": 0
     },
     "base_uri": "https://localhost:8080/",
     "height": 34,
     "output_extras": [
      {
       "item_id": 1
      }
     ]
    },
    "colab_type": "code",
    "executionInfo": {
     "elapsed": 670,
     "status": "ok",
     "timestamp": 1517256786459,
     "user": {
      "displayName": "Станислав Кладов",
      "photoUrl": "https://lh3.googleusercontent.com/a/default-user=s128",
      "userId": "109384532118251172101"
     },
     "user_tz": -180
    },
    "id": "SRAE4EPUh-hJ",
    "outputId": "cc349367-6a5b-490a-bb14-9bbf12872ac4"
   },
   "outputs": [
    {
     "name": "stdout",
     "output_type": "stream",
     "text": [
      "42\n"
     ]
    }
   ],
   "source": [
    "sess = tf.Session() \n",
    "sess.run(x.initializer)\n",
    "sess.run(y.initializer)\n",
    "result = sess.run(f)\n",
    "\n",
    "print(result)\n",
    "\n",
    "sess.close()"
   ]
  },
  {
   "cell_type": "markdown",
   "metadata": {
    "colab_type": "text",
    "id": "MFDHvi3Uks9v"
   },
   "source": [
    "Можно и по-другому. Вместо конкретной сессии мы инициализируем InteractiveSession, которая автоматически считается сессией по-умолчанию.\n",
    "\n",
    "Также стоит отметить то, как мы вычисляем значение f: f.eval. Мы взяли конкретный узел f и вызвали его вычисление."
   ]
  },
  {
   "cell_type": "code",
   "execution_count": 8,
   "metadata": {
    "colab": {
     "autoexec": {
      "startup": false,
      "wait_interval": 0
     },
     "base_uri": "https://localhost:8080/",
     "height": 34,
     "output_extras": [
      {
       "item_id": 1
      }
     ]
    },
    "colab_type": "code",
    "executionInfo": {
     "elapsed": 650,
     "status": "ok",
     "timestamp": 1517260022158,
     "user": {
      "displayName": "Станислав Кладов",
      "photoUrl": "https://lh3.googleusercontent.com/a/default-user=s128",
      "userId": "109384532118251172101"
     },
     "user_tz": -180
    },
    "id": "b9-B93LrkvAh",
    "outputId": "a4ff6762-43e7-4135-f87c-9034c1bf86d1"
   },
   "outputs": [
    {
     "name": "stdout",
     "output_type": "stream",
     "text": [
      "42\n"
     ]
    }
   ],
   "source": [
    "sess = tf.InteractiveSession() \n",
    "sess.run(x.initializer)\n",
    "sess.run(y.initializer)\n",
    "result = f.eval()\n",
    "print(result)\n",
    "sess.close()"
   ]
  },
  {
   "cell_type": "markdown",
   "metadata": {
    "colab_type": "text",
    "id": "x2WRZAd4kftd"
   },
   "source": [
    "### Жизненный цикл переменных\n",
    "Как только мы вызвали f.eval tensorflow автоматически определил от каких переменных зависит результат и выполняет eval для них.\n",
    "\n",
    "Значения узлов не переиспользуются и не сохраняются при перезапусках графа.\n",
    "\n",
    "Сохраняются только значения переменных Variable."
   ]
  },
  {
   "cell_type": "markdown",
   "metadata": {
    "colab_type": "text",
    "id": "-cdN-kfrxFeS"
   },
   "source": [
    "### Линейная регрессия - данные"
   ]
  },
  {
   "cell_type": "code",
   "execution_count": 4,
   "metadata": {
    "colab": {
     "autoexec": {
      "startup": false,
      "wait_interval": 0
     },
     "base_uri": "https://localhost:8080/",
     "height": 483,
     "output_extras": [
      {
       "item_id": 1
      }
     ]
    },
    "colab_type": "code",
    "executionInfo": {
     "elapsed": 1556,
     "status": "ok",
     "timestamp": 1517267147763,
     "user": {
      "displayName": "Ксения Стройкова",
      "photoUrl": "https://lh3.googleusercontent.com/a/default-user=s128",
      "userId": "102713769388125464353"
     },
     "user_tz": -180
    },
    "id": "NcmYnDMlxKPX",
    "outputId": "4d10fdc6-9d12-43f9-8404-0a6f8a90442f"
   },
   "outputs": [
    {
     "data": {
      "image/png": "[encoded data removed]",
      "text/plain": [
       "<matplotlib.figure.Figure at 0x7f88a735eb50>"
      ]
     },
     "metadata": {},
     "output_type": "display_data"
    }
   ],
   "source": [
    "import numpy as np\n",
    "import tensorflow as tf\n",
    "\n",
    "import matplotlib as mpl\n",
    "import matplotlib.pyplot as plt\n",
    "\n",
    "\n",
    "true_slope, true_bias = 2., 1.\n",
    "n_samples = 100\n",
    "\n",
    "X_data = np.random.uniform(1, 10, (n_samples, 1))\n",
    "y_data = true_slope * X_data + true_bias + np.random.normal(0, 2, (n_samples, 1))\n",
    "\n",
    "fig, ax = plt.subplots()\n",
    "ax.scatter(X_data, y_data)\n",
    "plt.show()"
   ]
  },
  {
   "cell_type": "markdown",
   "metadata": {
    "colab_type": "text",
    "id": "IQ2YBfFsuhDZ"
   },
   "source": [
    "### Линейная регрессия - аналитическое решение"
   ]
  },
  {
   "cell_type": "code",
   "execution_count": 5,
   "metadata": {
    "colab": {
     "autoexec": {
      "startup": false,
      "wait_interval": 0
     },
     "base_uri": "https://localhost:8080/",
     "height": 51,
     "output_extras": [
      {
       "item_id": 1
      }
     ]
    },
    "colab_type": "code",
    "executionInfo": {
     "elapsed": 618,
     "status": "ok",
     "timestamp": 1517260988141,
     "user": {
      "displayName": "Ксения Стройкова",
      "photoUrl": "https://lh3.googleusercontent.com/a/default-user=s128",
      "userId": "102713769388125464353"
     },
     "user_tz": -180
    },
    "id": "kS1AK1U1oQqo",
    "outputId": "e0a239d8-bd7d-48c7-e4e0-53f878175863"
   },
   "outputs": [
    {
     "name": "stdout",
     "output_type": "stream",
     "text": [
      "[[0.9895202]\n",
      " [2.027728 ]]\n"
     ]
    }
   ],
   "source": [
    "import numpy as np\n",
    "\n",
    "\n",
    "X_data_plus_bias = np.c_[np.ones((X_data.shape[0], 1)), X_data]\n",
    "\n",
    "X = tf.constant(X_data_plus_bias, dtype=tf.float32, name=\"X\")\n",
    "y = tf.constant(y_data.reshape(-1, 1), dtype=tf.float32, name=\"y\")\n",
    "\n",
    "XT = tf.transpose(X)\n",
    "\n",
    "theta = tf.matmul(tf.matmul(tf.matrix_inverse(tf.matmul(XT, X)), XT), y)\n",
    "\n",
    "with tf.Session() as sess:\n",
    "    theta_value = theta.eval()\n",
    "    print(theta_value)"
   ]
  },
  {
   "cell_type": "code",
   "execution_count": 6,
   "metadata": {
    "colab": {
     "autoexec": {
      "startup": false,
      "wait_interval": 0
     },
     "base_uri": "https://localhost:8080/",
     "height": 347,
     "output_extras": [
      {
       "item_id": 1
      }
     ]
    },
    "colab_type": "code",
    "executionInfo": {
     "elapsed": 661,
     "status": "ok",
     "timestamp": 1517261087866,
     "user": {
      "displayName": "Ксения Стройкова",
      "photoUrl": "https://lh3.googleusercontent.com/a/default-user=s128",
      "userId": "102713769388125464353"
     },
     "user_tz": -180
    },
    "id": "pyVvb1VXyNdE",
    "outputId": "232db93c-c503-49a6-f855-89dea60a3092"
   },
   "outputs": [
    {
     "data": {
      "image/png": "[encoded data removed]",
      "text/plain": [
       "<matplotlib.figure.Figure at 0x7f88a735e550>"
      ]
     },
     "metadata": {},
     "output_type": "display_data"
    }
   ],
   "source": [
    "line_points = np.array([[1, 0], [1, 10]])\n",
    "line_values = theta_value.T.dot(line_points)\n",
    "\n",
    "fig, ax = plt.subplots()\n",
    "ax.scatter(X_data, y_data)\n",
    "ax.plot([0, 10], line_values[0], color='red')\n",
    "plt.show()"
   ]
  },
  {
   "cell_type": "markdown",
   "metadata": {
    "colab_type": "text",
    "id": "J4x6siL7wuDR"
   },
   "source": [
    "### Линейная регрессия - численное решение"
   ]
  },
  {
   "cell_type": "code",
   "execution_count": 7,
   "metadata": {
    "colab": {
     "autoexec": {
      "startup": false,
      "wait_interval": 0
     }
    },
    "colab_type": "code",
    "collapsed": true,
    "id": "6Q3p8LshwsL7"
   },
   "outputs": [],
   "source": [
    "X = tf.placeholder(tf.float32)\n",
    "y = tf.placeholder(tf.float32)\n",
    "\n",
    "k = tf.Variable(np.random.randn(), name=\"slope\")\n",
    "b = tf.Variable(np.random.randn(), name=\"bias\")\n",
    "\n",
    "y_pred = tf.multiply(X, k) + b\n",
    "loss = tf.reduce_sum(tf.pow(y - y_pred, 2)) / n_samples"
   ]
  },
  {
   "cell_type": "code",
   "execution_count": null,
   "metadata": {
    "collapsed": true
   },
   "outputs": [],
   "source": []
  },
  {
   "cell_type": "code",
   "execution_count": 8,
   "metadata": {
    "colab": {
     "autoexec": {
      "startup": false,
      "wait_interval": 0
     },
     "base_uri": "https://localhost:8080/",
     "height": 187,
     "output_extras": [
      {
       "item_id": 10
      }
     ]
    },
    "colab_type": "code",
    "executionInfo": {
     "elapsed": 4555,
     "status": "ok",
     "timestamp": 1517261052924,
     "user": {
      "displayName": "Ксения Стройкова",
      "photoUrl": "https://lh3.googleusercontent.com/a/default-user=s128",
      "userId": "102713769388125464353"
     },
     "user_tz": -180
    },
    "id": "js_6cU1bzfOc",
    "outputId": "c91fdbee-3eb8-4507-e472-46ef4bf89321"
   },
   "outputs": [
    {
     "name": "stdout",
     "output_type": "stream",
     "text": [
      "Epoch 1000: 4.19136047, k=2.0358, b=1.0010\n",
      "Epoch 2000: 4.93155527, k=1.9022, b=0.8879\n",
      "Epoch 3000: 4.74239540, k=1.9091, b=0.9700\n",
      "Epoch 4000: 4.19224644, k=2.0102, b=1.0379\n",
      "Epoch 5000: 4.19013739, k=2.0340, b=1.0007\n",
      "Epoch 6000: 4.18981457, k=2.0327, b=1.0053\n",
      "Epoch 7000: 4.23578072, k=2.0006, b=0.9327\n",
      "Epoch 8000: 4.32882690, k=2.0796, b=1.0521\n",
      "Epoch 9000: 4.18902159, k=2.0145, b=1.0679\n",
      "Epoch 10000: 4.23773813, k=1.9886, b=1.0075\n"
     ]
    }
   ],
   "source": [
    "batch_size, num_steps, learning_rate, display_step = 10, 10000, .05, 1000\n",
    "\n",
    "optimizer = tf.train.GradientDescentOptimizer(learning_rate).minimize(loss)\n",
    "\n",
    "with tf.Session() as sess:\n",
    "    init = tf.global_variables_initializer()\n",
    "    sess.run(init)\n",
    "    \n",
    "    for i in range(num_steps):\n",
    "        indices = np.random.choice(n_samples, batch_size)\n",
    "        \n",
    "        X_batch, y_batch = X_data[indices], y_data[indices]\n",
    "        \n",
    "        sess.run(optimizer, feed_dict = {X: X_batch, y: y_batch})\n",
    "        \n",
    "        if (i+1) % display_step == 0:\n",
    "            loss_val, k_val, b_val = sess.run([loss, k, b], feed_dict = {X: X_data, y: y_data})\n",
    "            print(\"Epoch %d: %.8f, k=%.4f, b=%.4f\" % (i+1, loss_val, k_val, b_val))"
   ]
  },
  {
   "cell_type": "code",
   "execution_count": 9,
   "metadata": {
    "colab": {
     "autoexec": {
      "startup": false,
      "wait_interval": 0
     },
     "base_uri": "https://localhost:8080/",
     "height": 347,
     "output_extras": [
      {
       "item_id": 1
      }
     ]
    },
    "colab_type": "code",
    "executionInfo": {
     "elapsed": 614,
     "status": "ok",
     "timestamp": 1517261076495,
     "user": {
      "displayName": "Ксения Стройкова",
      "photoUrl": "https://lh3.googleusercontent.com/a/default-user=s128",
      "userId": "102713769388125464353"
     },
     "user_tz": -180
    },
    "id": "uYlmnfBHzoiY",
    "outputId": "040ed577-203c-46b8-ae67-24ee1f12cf5a"
   },
   "outputs": [
    {
     "data": {
      "image/png": "[encoded data removed]",
      "text/plain": [
       "<matplotlib.figure.Figure at 0x7f889cfc8c50>"
      ]
     },
     "metadata": {},
     "output_type": "display_data"
    }
   ],
   "source": [
    "fig, ax = plt.subplots()\n",
    "ax.scatter(X_data, y_data)\n",
    "ax.plot(np.arange(0, 10, 0.01), k_val * np.arange(0, 10, 0.01) + b_val, color='red')\n",
    "plt.show()"
   ]
  },
  {
   "cell_type": "markdown",
   "metadata": {
    "colab_type": "text",
    "id": "sBAlwBTM38yj"
   },
   "source": [
    "## Логистическая регрессия - данные"
   ]
  },
  {
   "cell_type": "code",
   "execution_count": 10,
   "metadata": {
    "colab": {
     "autoexec": {
      "startup": false,
      "wait_interval": 0
     }
    },
    "colab_type": "code",
    "collapsed": true,
    "id": "RSd4b5sr38N8"
   },
   "outputs": [],
   "source": [
    "import numpy as np\n",
    "import matplotlib\n",
    "import matplotlib.pyplot as plt\n",
    "import pandas as pd\n",
    "from sklearn import datasets\n",
    "from sklearn.preprocessing import StandardScaler\n",
    "from sklearn.linear_model import LinearRegression\n",
    "from pandas.tools.plotting import table\n",
    "from sklearn import datasets\n",
    "from sklearn.model_selection import train_test_split\n",
    "\n",
    "%matplotlib inline\n",
    "plt.rcParams[\"figure.figsize\"] = [12, 8]\n",
    "\n",
    "np.random.seed(42)\n"
   ]
  },
  {
   "cell_type": "code",
   "execution_count": 11,
   "metadata": {
    "colab": {
     "autoexec": {
      "startup": false,
      "wait_interval": 0
     },
     "base_uri": "https://localhost:8080/",
     "height": 526,
     "output_extras": [
      {
       "item_id": 1
      }
     ]
    },
    "colab_type": "code",
    "executionInfo": {
     "elapsed": 718,
     "status": "ok",
     "timestamp": 1517267154610,
     "user": {
      "displayName": "Ксения Стройкова",
      "photoUrl": "https://lh3.googleusercontent.com/a/default-user=s128",
      "userId": "102713769388125464353"
     },
     "user_tz": -180
    },
    "id": "yLd0KT1i4DN9",
    "outputId": "813c5f6b-6023-4dad-8b6a-6dc5b7d65b4d"
   },
   "outputs": [
    {
     "data": {
      "image/png": "[encoded data removed]",
      "text/plain": [
       "<matplotlib.figure.Figure at 0x7f8879e78310>"
      ]
     },
     "metadata": {},
     "output_type": "display_data"
    },
    {
     "name": "stdout",
     "output_type": "stream",
     "text": [
      "((130, 2), (130,))\n"
     ]
    }
   ],
   "source": [
    "X, y = datasets.make_classification(n_features=2, n_informative=2, n_redundant=0, n_repeated=0, random_state=12, n_samples=130)\n",
    "X_data_plus_bias = np.c_[np.ones((X.shape[0], 1)), X]\n",
    "X_train, X_test, y_train, y_test = train_test_split(X_data_plus_bias, y, test_size=30, random_state=42)\n",
    "\n",
    "colors = ['yellow' if y_i else 'blue' for y_i in y_train]\n",
    "plt.scatter(X_train[:, 1], X_train[:, 2], c=colors)\n",
    "plt.title(\"Classification problem \\n What is the color for the new (x1, x2) pair?\")\n",
    "plt.xlabel(\"x1 (feature)\")\n",
    "plt.ylabel(\"x2 (feature)\")\n",
    "plt.show()\n",
    "\n",
    "print(X.shape, y.shape)"
   ]
  },
  {
   "cell_type": "markdown",
   "metadata": {
    "colab_type": "text",
    "id": "81eqU8yiQJHE"
   },
   "source": [
    "## Логистическая регрессия в tf"
   ]
  },
  {
   "cell_type": "code",
   "execution_count": 13,
   "metadata": {
    "colab": {
     "autoexec": {
      "startup": false,
      "wait_interval": 0
     }
    },
    "colab_type": "code",
    "collapsed": true,
    "id": "f5MeHSy142Lo"
   },
   "outputs": [],
   "source": [
    "# Parameters\n",
    "learning_rate = 0.1\n",
    "num_steps = 500\n",
    "batch_size = 10\n",
    "display_step = 100\n",
    "\n",
    "# Network Parameters\n",
    "n_hidden_1 = 20 # 1st layer number of neurons\n",
    "n_hidden_2 = 20 # 2nd layer number of neurons\n",
    "num_input = 2\n",
    "num_classes = 2 \n",
    "\n",
    "# tf Graph input\n",
    "X_p = tf.placeholder(\"float\", [None, num_input], name='X_p')\n",
    "Y_p = tf.placeholder(\"float\", [None, num_classes], name='Y_p')"
   ]
  },
  {
   "cell_type": "code",
   "execution_count": 14,
   "metadata": {
    "colab": {
     "autoexec": {
      "startup": false,
      "wait_interval": 0
     }
    },
    "colab_type": "code",
    "collapsed": true,
    "id": "sCPdre_4EWx9"
   },
   "outputs": [],
   "source": [
    "# Store layers weight & bias\n",
    "weights = {\n",
    "    'h1': tf.Variable(tf.random_normal([num_input, n_hidden_1])),\n",
    "    'h2': tf.Variable(tf.random_normal([n_hidden_1, n_hidden_2])),\n",
    "    'out': tf.Variable(tf.random_normal([n_hidden_2, num_classes]))\n",
    "}\n",
    "biases = {\n",
    "    'b1': tf.Variable(tf.random_normal([n_hidden_1])),\n",
    "    'b2': tf.Variable(tf.random_normal([n_hidden_2])),\n",
    "    'out': tf.Variable(tf.random_normal([num_classes]))\n",
    "}"
   ]
  },
  {
   "cell_type": "code",
   "execution_count": 15,
   "metadata": {
    "colab": {
     "autoexec": {
      "startup": false,
      "wait_interval": 0
     }
    },
    "colab_type": "code",
    "id": "kGnFIz9NEc7o"
   },
   "outputs": [
    {
     "name": "stdout",
     "output_type": "stream",
     "text": [
      "WARNING:tensorflow:From <ipython-input-15-e4f10a1b1c02>:18: softmax_cross_entropy_with_logits (from tensorflow.python.ops.nn_ops) is deprecated and will be removed in a future version.\n",
      "Instructions for updating:\n",
      "\n",
      "Future major versions of TensorFlow will allow gradients to flow\n",
      "into the labels input on backprop by default.\n",
      "\n",
      "See tf.nn.softmax_cross_entropy_with_logits_v2.\n",
      "\n"
     ]
    }
   ],
   "source": [
    "\n",
    "# Create model\n",
    "def neural_net(x):\n",
    "    # Hidden fully connected layer\n",
    "    layer_1 = tf.add(tf.matmul(x, weights['h1']), biases['b1'])\n",
    "    # Hidden fully connected layer with 256 neurons\n",
    "    layer_2 = tf.add(tf.matmul(layer_1, weights['h2']), biases['b2'])\n",
    "    # Output fully connected layer with a neuron for each class\n",
    "    out_layer = tf.matmul(layer_2, weights['out']) + biases['out']\n",
    "    return out_layer\n",
    "  \n",
    "  \n",
    "# Construct model\n",
    "logits = neural_net(X_p)\n",
    "\n",
    "# Define loss and optimizer\n",
    "loss_op = tf.reduce_mean(tf.nn.softmax_cross_entropy_with_logits(\n",
    "    logits=logits, labels=Y_p))\n",
    "optimizer = tf.train.AdamOptimizer(learning_rate=learning_rate)\n",
    "train_op = optimizer.minimize(loss_op)\n",
    "\n",
    "# Evaluate model (with test logits, for dropout to be disabled)\n",
    "correct_pred = tf.equal(tf.argmax(logits, 1), tf.argmax(Y_p, 1))\n",
    "accuracy = tf.reduce_mean(tf.cast(correct_pred, tf.float32))\n",
    "\n",
    "# Initialize the variables (i.e. assign their default value)\n",
    "init = tf.global_variables_initializer()"
   ]
  },
  {
   "cell_type": "code",
   "execution_count": 16,
   "metadata": {
    "colab": {
     "autoexec": {
      "startup": false,
      "wait_interval": 0
     },
     "base_uri": "https://localhost:8080/",
     "height": 153,
     "output_extras": [
      {
       "item_id": 1
      }
     ]
    },
    "colab_type": "code",
    "executionInfo": {
     "elapsed": 769,
     "status": "ok",
     "timestamp": 1517267272301,
     "user": {
      "displayName": "Ксения Стройкова",
      "photoUrl": "https://lh3.googleusercontent.com/a/default-user=s128",
      "userId": "102713769388125464353"
     },
     "user_tz": -180
    },
    "id": "1ogoeBT-EyY3",
    "outputId": "60d43cf4-5671-4a1d-92e8-a4aebc2556b1"
   },
   "outputs": [
    {
     "name": "stdout",
     "output_type": "stream",
     "text": [
      "Step 1, Minibatch Loss= 2.6283, Training Accuracy= 0.900\n",
      "Step 100, Minibatch Loss= 1.2997, Training Accuracy= 0.700\n",
      "Step 200, Minibatch Loss= 0.6078, Training Accuracy= 0.600\n",
      "Step 300, Minibatch Loss= 0.4888, Training Accuracy= 0.700\n",
      "Step 400, Minibatch Loss= 0.7043, Training Accuracy= 0.800\n",
      "Step 500, Minibatch Loss= 0.7915, Training Accuracy= 0.700\n",
      "Optimization Finished!\n",
      "('Testing Accuracy:', 1.0)\n"
     ]
    },
    {
     "name": "stderr",
     "output_type": "stream",
     "text": [
      "/usr/local/lib/python2.7/dist-packages/matplotlib/contour.py:967: UserWarning: The following kwargs were not used by contour: 'ls'\n",
      "  s)\n"
     ]
    },
    {
     "data": {
      "image/png": "[encoded data removed]",
      "text/plain": [
       "<matplotlib.figure.Figure at 0x7f8879dd1e90>"
      ]
     },
     "metadata": {},
     "output_type": "display_data"
    }
   ],
   "source": [
    "# Start training\n",
    "with tf.Session() as sess:\n",
    "\n",
    "    # Run the initializer\n",
    "    sess.run(init)\n",
    "\n",
    "    for step in range(1, num_steps+1):\n",
    "        indices = np.random.choice(130, batch_size)\n",
    "        batch_x, batch_y = X[indices], y[indices]\n",
    "        \n",
    "        batch_y = np.c_[batch_y, 1 - batch_y]\n",
    "\n",
    "        # Run optimization op (backprop)\n",
    "        sess.run(train_op, feed_dict={X_p: batch_x, Y_p: batch_y})\n",
    "        if step % display_step == 0 or step == 1:\n",
    "            # Calculate batch loss and accuracy\n",
    "            loss, acc = sess.run([loss_op, accuracy], feed_dict={X_p: batch_x,\n",
    "                                                                 Y_p: batch_y})\n",
    "            print(\"Step \" + str(step) + \", Minibatch Loss= \" + \\\n",
    "                  \"{:.4f}\".format(loss) + \", Training Accuracy= \" + \\\n",
    "                  \"{:.3f}\".format(acc))\n",
    "\n",
    "    print(\"Optimization Finished!\")\n",
    "\n",
    "    # Calculate accuracy for data\n",
    "    indices = np.random.choice(130, batch_size)\n",
    "    batch_x, batch_y = X[indices], y[indices]\n",
    "    batch_y = np.c_[batch_y, 1 - batch_y]\n",
    "    print(\"Testing Accuracy:\", \\\n",
    "        sess.run(accuracy, feed_dict={X_p: batch_x,\n",
    "                                      Y_p: batch_y}))\n",
    "    \n",
    "    num_levels = 50\n",
    "    x_min = X[:, 0].min()\n",
    "    x_max = X[:, 0].max()\n",
    "    y_min = X[:, 1].min()\n",
    "    y_max = X[:, 1].max()\n",
    "    \n",
    "    x_grid, y_grid = np.mgrid[x_min:x_max:.01, y_min:y_max:.01]\n",
    "    pos = np.empty(x_grid.shape + (2,))\n",
    "    pos[:, :, 0] = x_grid\n",
    "    pos[:, :, 1] = y_grid\n",
    "    pos_lin = pos.reshape(pos.shape[0] * pos.shape[1], 2)\n",
    "    \n",
    "    prediction = tf.argmax(logits, 1)\n",
    "    pred_lin = sess.run([prediction], feed_dict={X_p: pos_lin})\n",
    "    pred = pred_lin[0].reshape(pos.shape[0], pos.shape[1])\n",
    "\n",
    "    fig, ax = plt.subplots()\n",
    "    ax.set_xlim((x_min, x_max))\n",
    "    ax.set_ylim((y_min, y_max))\n",
    "    ax.contourf(x_grid, y_grid, pred, num_levels, cmap='Reds', alpha=0.5, ls=None)\n",
    "    ax.contour(x_grid, y_grid, pred, levels=[0.5])\n",
    "\n",
    "    colors = ['yellow' if y_i else 'blue' for y_i in y]\n",
    "    plt.scatter(X[:, 0], X[:, 1], c=colors)\n",
    "    plt.show()"
   ]
  },
  {
   "cell_type": "markdown",
   "metadata": {
    "colab_type": "text",
    "id": "c0Qwmz_uQJJS"
   },
   "source": [
    "## Логистическая регрессия в keras"
   ]
  },
  {
   "cell_type": "code",
   "execution_count": 56,
   "metadata": {
    "colab": {
     "autoexec": {
      "startup": false,
      "wait_interval": 0
     },
     "base_uri": "https://localhost:8080/",
     "height": 34,
     "output_extras": [
      {
       "item_id": 1
      }
     ]
    },
    "colab_type": "code",
    "executionInfo": {
     "elapsed": 3564,
     "status": "ok",
     "timestamp": 1517262949888,
     "user": {
      "displayName": "Ксения Стройкова",
      "photoUrl": "https://lh3.googleusercontent.com/a/default-user=s128",
      "userId": "102713769388125464353"
     },
     "user_tz": -180
    },
    "id": "u3rfRZSA6zKf",
    "outputId": "17d46655-b381-4318-d01c-f56c1d56e688"
   },
   "outputs": [
    {
     "name": "stderr",
     "output_type": "stream",
     "text": [
      "Using TensorFlow backend.\n"
     ]
    }
   ],
   "source": [
    "# https://keras.io/\n",
    "!pip install -q keras\n",
    "import keras"
   ]
  },
  {
   "cell_type": "code",
   "execution_count": 17,
   "metadata": {
    "colab": {
     "autoexec": {
      "startup": false,
      "wait_interval": 0
     }
    },
    "colab_type": "code",
    "id": "x0HPZjmEmzNW"
   },
   "outputs": [
    {
     "name": "stderr",
     "output_type": "stream",
     "text": [
      "Using TensorFlow backend.\n"
     ]
    }
   ],
   "source": [
    "import numpy as np\n",
    "import scipy as sp\n",
    "import scipy.stats as st\n",
    "import scipy.integrate as integrate\n",
    "from keras.models import Sequential\n",
    "from keras.layers import Input, Dense, Activation"
   ]
  },
  {
   "cell_type": "code",
   "execution_count": 18,
   "metadata": {
    "colab": {
     "autoexec": {
      "startup": false,
      "wait_interval": 0
     }
    },
    "colab_type": "code",
    "collapsed": true,
    "id": "y8b3Z4vY631q"
   },
   "outputs": [],
   "source": [
    "logr = Sequential()\n",
    "logr.add(Dense(1, input_dim=3, activation='sigmoid'))\n",
    "logr.compile(loss='binary_crossentropy', optimizer='sgd', metrics=['accuracy'])"
   ]
  },
  {
   "cell_type": "code",
   "execution_count": 19,
   "metadata": {
    "colab": {
     "autoexec": {
      "startup": false,
      "wait_interval": 0
     },
     "base_uri": "https://localhost:8080/",
     "height": 3505,
     "output_extras": [
      {
       "item_id": 1
      },
      {
       "item_id": 4
      },
      {
       "item_id": 7
      },
      {
       "item_id": 9
      },
      {
       "item_id": 12
      },
      {
       "item_id": 13
      },
      {
       "item_id": 14
      }
     ]
    },
    "colab_type": "code",
    "executionInfo": {
     "elapsed": 2580,
     "status": "ok",
     "timestamp": 1517263036501,
     "user": {
      "displayName": "Ксения Стройкова",
      "photoUrl": "https://lh3.googleusercontent.com/a/default-user=s128",
      "userId": "102713769388125464353"
     },
     "user_tz": -180
    },
    "id": "70MOIdZn65w9",
    "outputId": "fe316374-ee99-441d-85e3-b86104146023"
   },
   "outputs": [
    {
     "name": "stderr",
     "output_type": "stream",
     "text": [
      "/usr/local/lib/python2.7/dist-packages/keras/models.py:944: UserWarning: The `nb_epoch` argument in `fit` has been renamed `epochs`.\n",
      "  warnings.warn('The `nb_epoch` argument in `fit` '\n"
     ]
    },
    {
     "name": "stdout",
     "output_type": "stream",
     "text": [
      "Train on 100 samples, validate on 30 samples\n",
      "Epoch 1/100\n",
      "100/100 [==============================] - 0s 2ms/step - loss: 1.4233 - acc: 0.1600 - val_loss: 1.5778 - val_acc: 0.1333\n",
      "Epoch 2/100\n",
      "100/100 [==============================] - 0s 197us/step - loss: 1.3715 - acc: 0.1600 - val_loss: 1.5208 - val_acc: 0.1333\n",
      "Epoch 3/100\n",
      "100/100 [==============================] - 0s 156us/step - loss: 1.3273 - acc: 0.1700 - val_loss: 1.4611 - val_acc: 0.1333\n",
      "Epoch 4/100\n",
      "100/100 [==============================] - 0s 366us/step - loss: 1.2820 - acc: 0.1800 - val_loss: 1.4047 - val_acc: 0.1667\n",
      "Epoch 5/100\n",
      "100/100 [==============================] - 0s 201us/step - loss: 1.2400 - acc: 0.1800 - val_loss: 1.3531 - val_acc: 0.1667\n",
      "Epoch 6/100\n",
      "100/100 [==============================] - 0s 229us/step - loss: 1.2004 - acc: 0.1900 - val_loss: 1.3011 - val_acc: 0.1667\n",
      "Epoch 7/100\n",
      "100/100 [==============================] - 0s 219us/step - loss: 1.1601 - acc: 0.2000 - val_loss: 1.2526 - val_acc: 0.1667\n",
      "Epoch 8/100\n",
      "100/100 [==============================] - 0s 192us/step - loss: 1.1239 - acc: 0.2000 - val_loss: 1.2031 - val_acc: 0.1667\n",
      "Epoch 9/100\n",
      "100/100 [==============================] - 0s 361us/step - loss: 1.0859 - acc: 0.2300 - val_loss: 1.1541 - val_acc: 0.1667\n",
      "Epoch 10/100\n",
      "100/100 [==============================] - 0s 304us/step - loss: 1.0490 - acc: 0.2400 - val_loss: 1.1119 - val_acc: 0.1667\n",
      "Epoch 11/100\n",
      "100/100 [==============================] - 0s 214us/step - loss: 1.0171 - acc: 0.2600 - val_loss: 1.0708 - val_acc: 0.2000\n",
      "Epoch 12/100\n",
      "100/100 [==============================] - 0s 200us/step - loss: 0.9859 - acc: 0.3000 - val_loss: 1.0290 - val_acc: 0.2000\n",
      "Epoch 13/100\n",
      "100/100 [==============================] - 0s 159us/step - loss: 0.9548 - acc: 0.3200 - val_loss: 0.9865 - val_acc: 0.2333\n",
      "Epoch 14/100\n",
      "100/100 [==============================] - 0s 104us/step - loss: 0.9230 - acc: 0.3300 - val_loss: 0.9489 - val_acc: 0.2333\n",
      "Epoch 15/100\n",
      "100/100 [==============================] - 0s 168us/step - loss: 0.8952 - acc: 0.3600 - val_loss: 0.9098 - val_acc: 0.2333\n",
      "Epoch 16/100\n",
      "100/100 [==============================] - 0s 116us/step - loss: 0.8666 - acc: 0.4100 - val_loss: 0.8769 - val_acc: 0.2333\n",
      "Epoch 17/100\n",
      "100/100 [==============================] - 0s 326us/step - loss: 0.8413 - acc: 0.4300 - val_loss: 0.8443 - val_acc: 0.2667\n",
      "Epoch 18/100\n",
      "100/100 [==============================] - 0s 206us/step - loss: 0.8169 - acc: 0.4500 - val_loss: 0.8152 - val_acc: 0.3667\n",
      "Epoch 19/100\n",
      "100/100 [==============================] - 0s 147us/step - loss: 0.7950 - acc: 0.5000 - val_loss: 0.7903 - val_acc: 0.4333\n",
      "Epoch 20/100\n",
      "100/100 [==============================] - 0s 223us/step - loss: 0.7753 - acc: 0.5200 - val_loss: 0.7661 - val_acc: 0.4667\n",
      "Epoch 21/100\n",
      "100/100 [==============================] - 0s 209us/step - loss: 0.7570 - acc: 0.5400 - val_loss: 0.7435 - val_acc: 0.5333\n",
      "Epoch 22/100\n",
      "100/100 [==============================] - 0s 173us/step - loss: 0.7396 - acc: 0.5500 - val_loss: 0.7214 - val_acc: 0.6000\n",
      "Epoch 23/100\n",
      "100/100 [==============================] - 0s 123us/step - loss: 0.7231 - acc: 0.5700 - val_loss: 0.7001 - val_acc: 0.6000\n",
      "Epoch 24/100\n",
      "100/100 [==============================] - 0s 153us/step - loss: 0.7070 - acc: 0.5800 - val_loss: 0.6789 - val_acc: 0.6667\n",
      "Epoch 25/100\n",
      "100/100 [==============================] - 0s 138us/step - loss: 0.6919 - acc: 0.6200 - val_loss: 0.6597 - val_acc: 0.6667\n",
      "Epoch 26/100\n",
      "100/100 [==============================] - ETA: 0s - loss: 0.7270 - acc: 0.625 - 0s 173us/step - loss: 0.6766 - acc: 0.6400 - val_loss: 0.6423 - val_acc: 0.7000\n",
      "Epoch 27/100\n",
      "100/100 [==============================] - 0s 238us/step - loss: 0.6637 - acc: 0.6500 - val_loss: 0.6263 - val_acc: 0.7000\n",
      "Epoch 28/100\n",
      "100/100 [==============================] - 0s 283us/step - loss: 0.6523 - acc: 0.6600 - val_loss: 0.6113 - val_acc: 0.7333\n",
      "Epoch 29/100\n",
      "100/100 [==============================] - 0s 270us/step - loss: 0.6405 - acc: 0.6600 - val_loss: 0.5965 - val_acc: 0.7333\n",
      "Epoch 30/100\n",
      "100/100 [==============================] - 0s 133us/step - loss: 0.6296 - acc: 0.6900 - val_loss: 0.5831 - val_acc: 0.7333\n",
      "Epoch 31/100\n",
      "100/100 [==============================] - 0s 237us/step - loss: 0.6191 - acc: 0.7000 - val_loss: 0.5689 - val_acc: 0.7667\n",
      "Epoch 32/100\n",
      "100/100 [==============================] - 0s 96us/step - loss: 0.6089 - acc: 0.7100 - val_loss: 0.5567 - val_acc: 0.8000\n",
      "Epoch 33/100\n",
      "100/100 [==============================] - 0s 196us/step - loss: 0.5999 - acc: 0.7300 - val_loss: 0.5447 - val_acc: 0.8333\n",
      "Epoch 34/100\n",
      "100/100 [==============================] - 0s 251us/step - loss: 0.5913 - acc: 0.7400 - val_loss: 0.5328 - val_acc: 0.8333\n",
      "Epoch 35/100\n",
      "100/100 [==============================] - 0s 169us/step - loss: 0.5828 - acc: 0.7800 - val_loss: 0.5241 - val_acc: 0.8333\n",
      "Epoch 36/100\n",
      "100/100 [==============================] - 0s 263us/step - loss: 0.5761 - acc: 0.7900 - val_loss: 0.5149 - val_acc: 0.8333\n",
      "Epoch 37/100\n",
      "100/100 [==============================] - 0s 168us/step - loss: 0.5696 - acc: 0.7900 - val_loss: 0.5058 - val_acc: 0.8333\n",
      "Epoch 38/100\n",
      "100/100 [==============================] - 0s 167us/step - loss: 0.5628 - acc: 0.8000 - val_loss: 0.4969 - val_acc: 0.8333\n",
      "Epoch 39/100\n",
      "100/100 [==============================] - 0s 204us/step - loss: 0.5562 - acc: 0.8200 - val_loss: 0.4881 - val_acc: 0.8333\n",
      "Epoch 40/100\n",
      "100/100 [==============================] - 0s 292us/step - loss: 0.5503 - acc: 0.8100 - val_loss: 0.4801 - val_acc: 0.8333\n",
      "Epoch 41/100\n",
      "100/100 [==============================] - 0s 266us/step - loss: 0.5442 - acc: 0.8200 - val_loss: 0.4728 - val_acc: 0.8333\n",
      "Epoch 42/100\n",
      "100/100 [==============================] - 0s 152us/step - loss: 0.5385 - acc: 0.8200 - val_loss: 0.4675 - val_acc: 0.8333\n",
      "Epoch 43/100\n",
      "100/100 [==============================] - 0s 164us/step - loss: 0.5346 - acc: 0.8300 - val_loss: 0.4603 - val_acc: 0.8333\n",
      "Epoch 44/100\n",
      "100/100 [==============================] - 0s 153us/step - loss: 0.5296 - acc: 0.8300 - val_loss: 0.4538 - val_acc: 0.8333\n",
      "Epoch 45/100\n",
      "100/100 [==============================] - 0s 118us/step - loss: 0.5249 - acc: 0.8400 - val_loss: 0.4482 - val_acc: 0.8333\n",
      "Epoch 46/100\n",
      "100/100 [==============================] - 0s 325us/step - loss: 0.5209 - acc: 0.8400 - val_loss: 0.4425 - val_acc: 0.8333\n",
      "Epoch 47/100\n",
      "100/100 [==============================] - 0s 127us/step - loss: 0.5169 - acc: 0.8400 - val_loss: 0.4374 - val_acc: 0.8333\n",
      "Epoch 48/100\n",
      "100/100 [==============================] - 0s 411us/step - loss: 0.5130 - acc: 0.8400 - val_loss: 0.4323 - val_acc: 0.8333\n",
      "Epoch 49/100\n",
      "100/100 [==============================] - 0s 297us/step - loss: 0.5097 - acc: 0.8300 - val_loss: 0.4278 - val_acc: 0.8333\n",
      "Epoch 50/100\n",
      "100/100 [==============================] - 0s 247us/step - loss: 0.5069 - acc: 0.8300 - val_loss: 0.4231 - val_acc: 0.8667\n",
      "Epoch 51/100\n",
      "100/100 [==============================] - 0s 124us/step - loss: 0.5040 - acc: 0.8300 - val_loss: 0.4183 - val_acc: 0.9000\n",
      "Epoch 52/100\n",
      "100/100 [==============================] - 0s 469us/step - loss: 0.5007 - acc: 0.8400 - val_loss: 0.4147 - val_acc: 0.9000\n",
      "Epoch 53/100\n",
      "100/100 [==============================] - 0s 113us/step - loss: 0.4978 - acc: 0.8400 - val_loss: 0.4113 - val_acc: 0.9000\n",
      "Epoch 54/100\n",
      "100/100 [==============================] - 0s 232us/step - loss: 0.4958 - acc: 0.8400 - val_loss: 0.4075 - val_acc: 0.9333\n",
      "Epoch 55/100\n",
      "100/100 [==============================] - 0s 113us/step - loss: 0.4933 - acc: 0.8400 - val_loss: 0.4042 - val_acc: 0.9000\n",
      "Epoch 56/100\n",
      "100/100 [==============================] - 0s 142us/step - loss: 0.4909 - acc: 0.8400 - val_loss: 0.4013 - val_acc: 0.9333\n",
      "Epoch 57/100\n",
      "100/100 [==============================] - 0s 497us/step - loss: 0.4890 - acc: 0.8400 - val_loss: 0.3989 - val_acc: 0.9000\n",
      "Epoch 58/100\n",
      "100/100 [==============================] - 0s 320us/step - loss: 0.4868 - acc: 0.8400 - val_loss: 0.3953 - val_acc: 0.9333\n",
      "Epoch 59/100\n",
      "100/100 [==============================] - 0s 126us/step - loss: 0.4846 - acc: 0.8400 - val_loss: 0.3918 - val_acc: 0.9333\n",
      "Epoch 60/100\n",
      "100/100 [==============================] - 0s 308us/step - loss: 0.4824 - acc: 0.8400 - val_loss: 0.3886 - val_acc: 0.9333\n",
      "Epoch 61/100\n",
      "100/100 [==============================] - 0s 443us/step - loss: 0.4804 - acc: 0.8400 - val_loss: 0.3856 - val_acc: 0.9333\n",
      "Epoch 62/100\n",
      "100/100 [==============================] - 0s 243us/step - loss: 0.4784 - acc: 0.8400 - val_loss: 0.3828 - val_acc: 0.9333\n",
      "Epoch 63/100\n",
      "100/100 [==============================] - 0s 217us/step - loss: 0.4763 - acc: 0.8400 - val_loss: 0.3811 - val_acc: 0.9333\n",
      "Epoch 64/100\n",
      "100/100 [==============================] - 0s 117us/step - loss: 0.4753 - acc: 0.8400 - val_loss: 0.3784 - val_acc: 0.9333\n",
      "Epoch 65/100\n",
      "100/100 [==============================] - 0s 239us/step - loss: 0.4737 - acc: 0.8400 - val_loss: 0.3757 - val_acc: 0.9333\n",
      "Epoch 66/100\n",
      "100/100 [==============================] - 0s 141us/step - loss: 0.4722 - acc: 0.8400 - val_loss: 0.3732 - val_acc: 0.9333\n",
      "Epoch 67/100\n",
      "100/100 [==============================] - 0s 125us/step - loss: 0.4706 - acc: 0.8400 - val_loss: 0.3712 - val_acc: 0.9333\n",
      "Epoch 68/100\n",
      "100/100 [==============================] - 0s 481us/step - loss: 0.4693 - acc: 0.8400 - val_loss: 0.3685 - val_acc: 0.9333\n",
      "Epoch 69/100\n",
      "100/100 [==============================] - 0s 182us/step - loss: 0.4676 - acc: 0.8400 - val_loss: 0.3675 - val_acc: 0.9333\n",
      "Epoch 70/100\n",
      "100/100 [==============================] - 0s 168us/step - loss: 0.4667 - acc: 0.8400 - val_loss: 0.3651 - val_acc: 0.9333\n",
      "Epoch 71/100\n",
      "100/100 [==============================] - 0s 127us/step - loss: 0.4653 - acc: 0.8400 - val_loss: 0.3630 - val_acc: 0.9333\n",
      "Epoch 72/100\n",
      "100/100 [==============================] - 0s 130us/step - loss: 0.4639 - acc: 0.8400 - val_loss: 0.3603 - val_acc: 0.9333\n",
      "Epoch 73/100\n",
      "100/100 [==============================] - 0s 185us/step - loss: 0.4624 - acc: 0.8400 - val_loss: 0.3582 - val_acc: 0.9333\n",
      "Epoch 74/100\n",
      "100/100 [==============================] - 0s 238us/step - loss: 0.4612 - acc: 0.8400 - val_loss: 0.3562 - val_acc: 0.9333\n",
      "Epoch 75/100\n",
      "100/100 [==============================] - 0s 534us/step - loss: 0.4598 - acc: 0.8400 - val_loss: 0.3540 - val_acc: 0.9333\n",
      "Epoch 76/100\n",
      "100/100 [==============================] - 0s 153us/step - loss: 0.4585 - acc: 0.8400 - val_loss: 0.3524 - val_acc: 0.9333\n",
      "Epoch 77/100\n",
      "100/100 [==============================] - 0s 158us/step - loss: 0.4575 - acc: 0.8400 - val_loss: 0.3503 - val_acc: 0.9333\n",
      "Epoch 78/100\n",
      "100/100 [==============================] - 0s 147us/step - loss: 0.4564 - acc: 0.8400 - val_loss: 0.3493 - val_acc: 0.9333\n",
      "Epoch 79/100\n",
      "100/100 [==============================] - 0s 169us/step - loss: 0.4558 - acc: 0.8400 - val_loss: 0.3478 - val_acc: 0.9333\n",
      "Epoch 80/100\n",
      "100/100 [==============================] - 0s 273us/step - loss: 0.4548 - acc: 0.8400 - val_loss: 0.3464 - val_acc: 0.9333\n",
      "Epoch 81/100\n",
      "100/100 [==============================] - 0s 461us/step - loss: 0.4538 - acc: 0.8400 - val_loss: 0.3447 - val_acc: 0.9333\n",
      "Epoch 82/100\n",
      "100/100 [==============================] - 0s 144us/step - loss: 0.4528 - acc: 0.8400 - val_loss: 0.3431 - val_acc: 0.9333\n",
      "Epoch 83/100\n",
      "100/100 [==============================] - 0s 110us/step - loss: 0.4518 - acc: 0.8400 - val_loss: 0.3415 - val_acc: 0.9333\n",
      "Epoch 84/100\n",
      "100/100 [==============================] - 0s 147us/step - loss: 0.4511 - acc: 0.8400 - val_loss: 0.3395 - val_acc: 0.9333\n",
      "Epoch 85/100\n",
      "100/100 [==============================] - 0s 148us/step - loss: 0.4503 - acc: 0.8400 - val_loss: 0.3377 - val_acc: 0.9333\n",
      "Epoch 86/100\n",
      "100/100 [==============================] - 0s 190us/step - loss: 0.4492 - acc: 0.8400 - val_loss: 0.3364 - val_acc: 0.9333\n",
      "Epoch 87/100\n",
      "100/100 [==============================] - 0s 120us/step - loss: 0.4486 - acc: 0.8400 - val_loss: 0.3345 - val_acc: 0.9333\n",
      "Epoch 88/100\n",
      "100/100 [==============================] - 0s 182us/step - loss: 0.4476 - acc: 0.8300 - val_loss: 0.3326 - val_acc: 0.9333\n",
      "Epoch 89/100\n",
      "100/100 [==============================] - 0s 125us/step - loss: 0.4470 - acc: 0.8400 - val_loss: 0.3312 - val_acc: 0.9333\n",
      "Epoch 90/100\n",
      "100/100 [==============================] - 0s 270us/step - loss: 0.4463 - acc: 0.8300 - val_loss: 0.3308 - val_acc: 0.9333\n",
      "Epoch 91/100\n",
      "100/100 [==============================] - 0s 192us/step - loss: 0.4458 - acc: 0.8300 - val_loss: 0.3297 - val_acc: 0.9333\n",
      "Epoch 92/100\n",
      "100/100 [==============================] - 0s 245us/step - loss: 0.4452 - acc: 0.8300 - val_loss: 0.3285 - val_acc: 0.9333\n",
      "Epoch 93/100\n",
      "100/100 [==============================] - 0s 146us/step - loss: 0.4445 - acc: 0.8300 - val_loss: 0.3274 - val_acc: 0.9333\n",
      "Epoch 94/100\n",
      "100/100 [==============================] - 0s 159us/step - loss: 0.4438 - acc: 0.8300 - val_loss: 0.3263 - val_acc: 0.9333\n",
      "Epoch 95/100\n",
      "100/100 [==============================] - 0s 341us/step - loss: 0.4432 - acc: 0.8300 - val_loss: 0.3259 - val_acc: 0.9333\n",
      "Epoch 96/100\n",
      "100/100 [==============================] - 0s 339us/step - loss: 0.4430 - acc: 0.8300 - val_loss: 0.3244 - val_acc: 0.9333\n",
      "Epoch 97/100\n",
      "100/100 [==============================] - 0s 188us/step - loss: 0.4424 - acc: 0.8300 - val_loss: 0.3233 - val_acc: 0.9333\n",
      "Epoch 98/100\n",
      "100/100 [==============================] - 0s 170us/step - loss: 0.4419 - acc: 0.8300 - val_loss: 0.3218 - val_acc: 0.9333\n",
      "Epoch 99/100\n",
      "100/100 [==============================] - 0s 242us/step - loss: 0.4415 - acc: 0.8300 - val_loss: 0.3210 - val_acc: 0.9333\n",
      "Epoch 100/100\n",
      "100/100 [==============================] - 0s 226us/step - loss: 0.4409 - acc: 0.8300 - val_loss: 0.3196 - val_acc: 0.9333\n"
     ]
    },
    {
     "data": {
      "text/plain": [
       "<keras.callbacks.History at 0x7f889d08e090>"
      ]
     },
     "execution_count": 19,
     "metadata": {},
     "output_type": "execute_result"
    }
   ],
   "source": [
    "logr.fit(X_train, y_train, batch_size=16, nb_epoch=100, verbose=1, validation_data=(X_test, y_test))"
   ]
  },
  {
   "cell_type": "code",
   "execution_count": 20,
   "metadata": {
    "colab": {
     "autoexec": {
      "startup": false,
      "wait_interval": 0
     },
     "base_uri": "https://localhost:8080/",
     "height": 500,
     "output_extras": [
      {
       "item_id": 1
      },
      {
       "item_id": 2
      }
     ]
    },
    "colab_type": "code",
    "executionInfo": {
     "elapsed": 5750,
     "status": "ok",
     "timestamp": 1517264151267,
     "user": {
      "displayName": "Ксения Стройкова",
      "photoUrl": "https://lh3.googleusercontent.com/a/default-user=s128",
      "userId": "102713769388125464353"
     },
     "user_tz": -180
    },
    "id": "n0nQNe7Z7dsg",
    "outputId": "ad8cf0c5-a1cf-42e9-e125-966cda2444e5"
   },
   "outputs": [
    {
     "data": {
      "image/png": "[encoded data removed]",
      "text/plain": [
       "<matplotlib.figure.Figure at 0x7f88e45d9e90>"
      ]
     },
     "metadata": {},
     "output_type": "display_data"
    }
   ],
   "source": [
    "num_levels = 50\n",
    "    \n",
    "\n",
    "def plot_model_results(decision, X, Y):\n",
    "    x_min = X[:, 0].min()\n",
    "    x_max = X[:, 0].max()\n",
    "    y_min = X[:, 1].min()\n",
    "    y_max = X[:, 1].max()\n",
    "    \n",
    "    x, y = np.mgrid[x_min:x_max:.01, y_min:y_max:.01]\n",
    "    pos = np.empty(x.shape + (2,))\n",
    "    pos[:, :, 0] = x\n",
    "    pos[:, :, 1] = y\n",
    "    pos_lin = pos.reshape(pos.shape[0] * pos.shape[1], 2)\n",
    "    pred_lin = decision(np.c_[np.ones((pos_lin.shape[0], 1)), pos_lin])\n",
    "    pred = pred_lin.reshape(pos.shape[0], pos.shape[1])\n",
    "\n",
    "    fig, ax = plt.subplots()\n",
    "    ax.set_xlim((x_min, x_max))\n",
    "    ax.set_ylim((y_min, y_max))\n",
    "    ax.contourf(x, y, pred, num_levels, cmap='Reds', alpha=0.5, ls=None)\n",
    "    ax.contour(x, y, pred, levels=[0.5])\n",
    "\n",
    "    colors = ['yellow' if y_i else 'blue' for y_i in Y]\n",
    "    plt.scatter(X[:, 0], X[:, 1], c=colors)\n",
    "    plt.show()\n",
    "    \n",
    "    \n",
    "plot_model_results(logr.predict, X, y)"
   ]
  },
  {
   "cell_type": "markdown",
   "metadata": {
    "colab_type": "text",
    "id": "FxWUEOjX65OT"
   },
   "source": [
    "Добавим слои\n",
    "\n",
    "<img src='neuron.png'>\n",
    "\n",
    "<img src='https://camo.githubusercontent.com/269f47b8185a2ca349ead57db511250553fd918b/687474703a2f2f63733233316e2e6769746875622e696f2f6173736574732f6e6e312f6e657572616c5f6e6574322e6a706567'>"
   ]
  },
  {
   "cell_type": "code",
   "execution_count": 21,
   "metadata": {
    "colab": {
     "autoexec": {
      "startup": false,
      "wait_interval": 0
     },
     "base_uri": "https://localhost:8080/",
     "height": 3451,
     "output_extras": [
      {
       "item_id": 4
      },
      {
       "item_id": 6
      },
      {
       "item_id": 8
      },
      {
       "item_id": 11
      },
      {
       "item_id": 12
      }
     ]
    },
    "colab_type": "code",
    "executionInfo": {
     "elapsed": 2911,
     "status": "ok",
     "timestamp": 1517264295564,
     "user": {
      "displayName": "Ксения Стройкова",
      "photoUrl": "https://lh3.googleusercontent.com/a/default-user=s128",
      "userId": "102713769388125464353"
     },
     "user_tz": -180
    },
    "id": "Q91FJErE_glv",
    "outputId": "d6de615f-a04f-45f6-cfdf-03395c1b18e1"
   },
   "outputs": [
    {
     "name": "stdout",
     "output_type": "stream",
     "text": [
      "Train on 100 samples, validate on 30 samples\n",
      "Epoch 1/100\n",
      "100/100 [==============================] - 0s 2ms/step - loss: 0.8250 - acc: 0.2200 - val_loss: 0.8353 - val_acc: 0.3333\n",
      "Epoch 2/100\n",
      "100/100 [==============================] - 0s 272us/step - loss: 0.7968 - acc: 0.2900 - val_loss: 0.8053 - val_acc: 0.3667\n",
      "Epoch 3/100\n",
      "100/100 [==============================] - 0s 474us/step - loss: 0.7726 - acc: 0.3300 - val_loss: 0.7737 - val_acc: 0.4667\n",
      "Epoch 4/100\n",
      "100/100 [==============================] - 0s 161us/step - loss: 0.7476 - acc: 0.4500 - val_loss: 0.7445 - val_acc: 0.5333\n",
      "Epoch 5/100\n",
      "100/100 [==============================] - 0s 125us/step - loss: 0.7249 - acc: 0.4800 - val_loss: 0.7205 - val_acc: 0.5333\n",
      "Epoch 6/100\n",
      "100/100 [==============================] - 0s 204us/step - loss: 0.7060 - acc: 0.4800 - val_loss: 0.7007 - val_acc: 0.5333\n",
      "Epoch 7/100\n",
      "100/100 [==============================] - 0s 122us/step - loss: 0.6891 - acc: 0.4800 - val_loss: 0.6809 - val_acc: 0.5333\n",
      "Epoch 8/100\n",
      "100/100 [==============================] - 0s 215us/step - loss: 0.6729 - acc: 0.4800 - val_loss: 0.6618 - val_acc: 0.5333\n",
      "Epoch 9/100\n",
      "100/100 [==============================] - 0s 148us/step - loss: 0.6575 - acc: 0.4900 - val_loss: 0.6427 - val_acc: 0.5667\n",
      "Epoch 10/100\n",
      "100/100 [==============================] - 0s 252us/step - loss: 0.6434 - acc: 0.5300 - val_loss: 0.6252 - val_acc: 0.5667\n",
      "Epoch 11/100\n",
      "100/100 [==============================] - 0s 261us/step - loss: 0.6288 - acc: 0.5900 - val_loss: 0.6103 - val_acc: 0.6000\n",
      "Epoch 12/100\n",
      "100/100 [==============================] - 0s 184us/step - loss: 0.6172 - acc: 0.5900 - val_loss: 0.5950 - val_acc: 0.6333\n",
      "Epoch 13/100\n",
      "100/100 [==============================] - 0s 206us/step - loss: 0.6057 - acc: 0.6200 - val_loss: 0.5817 - val_acc: 0.7333\n",
      "Epoch 14/100\n",
      "100/100 [==============================] - 0s 149us/step - loss: 0.5967 - acc: 0.6700 - val_loss: 0.5697 - val_acc: 0.8667\n",
      "Epoch 15/100\n",
      "100/100 [==============================] - 0s 156us/step - loss: 0.5875 - acc: 0.7100 - val_loss: 0.5567 - val_acc: 0.9000\n",
      "Epoch 16/100\n",
      "100/100 [==============================] - 0s 104us/step - loss: 0.5787 - acc: 0.7800 - val_loss: 0.5454 - val_acc: 0.9333\n",
      "Epoch 17/100\n",
      "100/100 [==============================] - 0s 137us/step - loss: 0.5693 - acc: 0.8300 - val_loss: 0.5368 - val_acc: 0.9000\n",
      "Epoch 18/100\n",
      "100/100 [==============================] - 0s 279us/step - loss: 0.5627 - acc: 0.8300 - val_loss: 0.5266 - val_acc: 0.8667\n",
      "Epoch 19/100\n",
      "100/100 [==============================] - 0s 219us/step - loss: 0.5552 - acc: 0.8300 - val_loss: 0.5170 - val_acc: 0.9333\n",
      "Epoch 20/100\n",
      "100/100 [==============================] - 0s 154us/step - loss: 0.5480 - acc: 0.8300 - val_loss: 0.5084 - val_acc: 0.9333\n",
      "Epoch 21/100\n",
      "100/100 [==============================] - 0s 144us/step - loss: 0.5425 - acc: 0.8300 - val_loss: 0.4995 - val_acc: 0.9333\n",
      "Epoch 22/100\n",
      "100/100 [==============================] - 0s 261us/step - loss: 0.5355 - acc: 0.8300 - val_loss: 0.4919 - val_acc: 0.9333\n",
      "Epoch 23/100\n",
      "100/100 [==============================] - 0s 154us/step - loss: 0.5299 - acc: 0.8300 - val_loss: 0.4840 - val_acc: 0.9333\n",
      "Epoch 24/100\n",
      "100/100 [==============================] - 0s 512us/step - loss: 0.5241 - acc: 0.8300 - val_loss: 0.4774 - val_acc: 0.9333\n",
      "Epoch 25/100\n",
      "100/100 [==============================] - 0s 180us/step - loss: 0.5189 - acc: 0.8300 - val_loss: 0.4707 - val_acc: 0.9333\n",
      "Epoch 26/100\n",
      "100/100 [==============================] - 0s 213us/step - loss: 0.5137 - acc: 0.8300 - val_loss: 0.4643 - val_acc: 0.9333\n",
      "Epoch 27/100\n",
      "100/100 [==============================] - 0s 138us/step - loss: 0.5084 - acc: 0.8300 - val_loss: 0.4587 - val_acc: 0.9333\n",
      "Epoch 28/100\n",
      "100/100 [==============================] - 0s 177us/step - loss: 0.5038 - acc: 0.8300 - val_loss: 0.4538 - val_acc: 0.9333\n",
      "Epoch 29/100\n",
      "100/100 [==============================] - 0s 183us/step - loss: 0.5000 - acc: 0.8300 - val_loss: 0.4476 - val_acc: 0.9333\n",
      "Epoch 30/100\n",
      "100/100 [==============================] - 0s 560us/step - loss: 0.4956 - acc: 0.8200 - val_loss: 0.4423 - val_acc: 0.9333\n",
      "Epoch 31/100\n",
      "100/100 [==============================] - 0s 295us/step - loss: 0.4923 - acc: 0.8200 - val_loss: 0.4371 - val_acc: 0.9333\n",
      "Epoch 32/100\n",
      "100/100 [==============================] - 0s 111us/step - loss: 0.4882 - acc: 0.8300 - val_loss: 0.4329 - val_acc: 0.9333\n",
      "Epoch 33/100\n",
      "100/100 [==============================] - 0s 309us/step - loss: 0.4852 - acc: 0.8300 - val_loss: 0.4281 - val_acc: 0.9000\n",
      "Epoch 34/100\n",
      "100/100 [==============================] - 0s 178us/step - loss: 0.4817 - acc: 0.8300 - val_loss: 0.4227 - val_acc: 0.9333\n",
      "Epoch 35/100\n",
      "100/100 [==============================] - 0s 492us/step - loss: 0.4782 - acc: 0.8300 - val_loss: 0.4181 - val_acc: 0.9000\n",
      "Epoch 36/100\n",
      "100/100 [==============================] - 0s 230us/step - loss: 0.4753 - acc: 0.8300 - val_loss: 0.4135 - val_acc: 0.9000\n",
      "Epoch 37/100\n",
      "100/100 [==============================] - 0s 159us/step - loss: 0.4725 - acc: 0.8300 - val_loss: 0.4087 - val_acc: 0.9000\n",
      "Epoch 38/100\n",
      "100/100 [==============================] - 0s 462us/step - loss: 0.4689 - acc: 0.8300 - val_loss: 0.4047 - val_acc: 0.9000\n",
      "Epoch 39/100\n",
      "100/100 [==============================] - 0s 377us/step - loss: 0.4662 - acc: 0.8300 - val_loss: 0.4000 - val_acc: 0.9000\n",
      "Epoch 40/100\n",
      "100/100 [==============================] - 0s 146us/step - loss: 0.4633 - acc: 0.8200 - val_loss: 0.3980 - val_acc: 0.9000\n",
      "Epoch 41/100\n",
      "100/100 [==============================] - 0s 204us/step - loss: 0.4614 - acc: 0.8300 - val_loss: 0.3962 - val_acc: 0.9000\n",
      "Epoch 42/100\n",
      "100/100 [==============================] - 0s 109us/step - loss: 0.4590 - acc: 0.8300 - val_loss: 0.3931 - val_acc: 0.9000\n",
      "Epoch 43/100\n",
      "100/100 [==============================] - 0s 290us/step - loss: 0.4567 - acc: 0.8200 - val_loss: 0.3892 - val_acc: 0.9000\n",
      "Epoch 44/100\n",
      "100/100 [==============================] - 0s 167us/step - loss: 0.4545 - acc: 0.8300 - val_loss: 0.3857 - val_acc: 0.9000\n",
      "Epoch 45/100\n",
      "100/100 [==============================] - 0s 232us/step - loss: 0.4526 - acc: 0.8200 - val_loss: 0.3825 - val_acc: 0.9000\n",
      "Epoch 46/100\n",
      "100/100 [==============================] - 0s 129us/step - loss: 0.4503 - acc: 0.8200 - val_loss: 0.3789 - val_acc: 0.9000\n",
      "Epoch 47/100\n",
      "100/100 [==============================] - 0s 118us/step - loss: 0.4482 - acc: 0.8200 - val_loss: 0.3753 - val_acc: 0.9000\n",
      "Epoch 48/100\n",
      "100/100 [==============================] - 0s 108us/step - loss: 0.4462 - acc: 0.8300 - val_loss: 0.3731 - val_acc: 0.9000\n",
      "Epoch 49/100\n",
      "100/100 [==============================] - 0s 223us/step - loss: 0.4446 - acc: 0.8300 - val_loss: 0.3719 - val_acc: 0.9000\n",
      "Epoch 50/100\n",
      "100/100 [==============================] - 0s 146us/step - loss: 0.4429 - acc: 0.8300 - val_loss: 0.3694 - val_acc: 0.9000\n",
      "Epoch 51/100\n",
      "100/100 [==============================] - 0s 204us/step - loss: 0.4416 - acc: 0.8300 - val_loss: 0.3664 - val_acc: 0.9000\n",
      "Epoch 52/100\n",
      "100/100 [==============================] - 0s 175us/step - loss: 0.4391 - acc: 0.8300 - val_loss: 0.3642 - val_acc: 0.9000\n",
      "Epoch 53/100\n",
      "100/100 [==============================] - 0s 238us/step - loss: 0.4378 - acc: 0.8200 - val_loss: 0.3630 - val_acc: 0.9000\n",
      "Epoch 54/100\n",
      "100/100 [==============================] - 0s 187us/step - loss: 0.4357 - acc: 0.8300 - val_loss: 0.3611 - val_acc: 0.9000\n",
      "Epoch 55/100\n",
      "100/100 [==============================] - 0s 259us/step - loss: 0.4349 - acc: 0.8300 - val_loss: 0.3590 - val_acc: 0.9000\n",
      "Epoch 56/100\n",
      "100/100 [==============================] - 0s 239us/step - loss: 0.4326 - acc: 0.8300 - val_loss: 0.3575 - val_acc: 0.9000\n",
      "Epoch 57/100\n",
      "100/100 [==============================] - 0s 123us/step - loss: 0.4311 - acc: 0.8300 - val_loss: 0.3553 - val_acc: 0.9000\n",
      "Epoch 58/100\n",
      "100/100 [==============================] - 0s 127us/step - loss: 0.4296 - acc: 0.8300 - val_loss: 0.3528 - val_acc: 0.9000\n",
      "Epoch 59/100\n",
      "100/100 [==============================] - 0s 309us/step - loss: 0.4282 - acc: 0.8300 - val_loss: 0.3505 - val_acc: 0.9000\n",
      "Epoch 60/100\n",
      "100/100 [==============================] - 0s 231us/step - loss: 0.4270 - acc: 0.8300 - val_loss: 0.3482 - val_acc: 0.9000\n",
      "Epoch 61/100\n",
      "100/100 [==============================] - 0s 234us/step - loss: 0.4256 - acc: 0.8300 - val_loss: 0.3469 - val_acc: 0.9000\n",
      "Epoch 62/100\n",
      "100/100 [==============================] - 0s 129us/step - loss: 0.4242 - acc: 0.8300 - val_loss: 0.3472 - val_acc: 0.9000\n",
      "Epoch 63/100\n",
      "100/100 [==============================] - 0s 281us/step - loss: 0.4230 - acc: 0.8300 - val_loss: 0.3451 - val_acc: 0.9000\n",
      "Epoch 64/100\n",
      "100/100 [==============================] - 0s 160us/step - loss: 0.4219 - acc: 0.8300 - val_loss: 0.3439 - val_acc: 0.9000\n",
      "Epoch 65/100\n",
      "100/100 [==============================] - 0s 205us/step - loss: 0.4206 - acc: 0.8300 - val_loss: 0.3410 - val_acc: 0.9000\n",
      "Epoch 66/100\n",
      "100/100 [==============================] - 0s 194us/step - loss: 0.4193 - acc: 0.8300 - val_loss: 0.3394 - val_acc: 0.9000\n",
      "Epoch 67/100\n",
      "100/100 [==============================] - 0s 193us/step - loss: 0.4178 - acc: 0.8300 - val_loss: 0.3375 - val_acc: 0.9000\n",
      "Epoch 68/100\n",
      "100/100 [==============================] - 0s 135us/step - loss: 0.4169 - acc: 0.8300 - val_loss: 0.3366 - val_acc: 0.9000\n",
      "Epoch 69/100\n",
      "100/100 [==============================] - 0s 168us/step - loss: 0.4156 - acc: 0.8300 - val_loss: 0.3349 - val_acc: 0.9000\n",
      "Epoch 70/100\n",
      "100/100 [==============================] - 0s 157us/step - loss: 0.4148 - acc: 0.8300 - val_loss: 0.3341 - val_acc: 0.9000\n",
      "Epoch 71/100\n",
      "100/100 [==============================] - 0s 175us/step - loss: 0.4135 - acc: 0.8300 - val_loss: 0.3325 - val_acc: 0.9000\n",
      "Epoch 72/100\n",
      "100/100 [==============================] - 0s 174us/step - loss: 0.4123 - acc: 0.8300 - val_loss: 0.3319 - val_acc: 0.9000\n",
      "Epoch 73/100\n",
      "100/100 [==============================] - 0s 157us/step - loss: 0.4113 - acc: 0.8300 - val_loss: 0.3292 - val_acc: 0.9000\n",
      "Epoch 74/100\n",
      "100/100 [==============================] - 0s 214us/step - loss: 0.4102 - acc: 0.8300 - val_loss: 0.3278 - val_acc: 0.9000\n",
      "Epoch 75/100\n",
      "100/100 [==============================] - 0s 176us/step - loss: 0.4096 - acc: 0.8300 - val_loss: 0.3260 - val_acc: 0.9000\n",
      "Epoch 76/100\n",
      "100/100 [==============================] - 0s 208us/step - loss: 0.4080 - acc: 0.8300 - val_loss: 0.3247 - val_acc: 0.9000\n",
      "Epoch 77/100\n",
      "100/100 [==============================] - 0s 203us/step - loss: 0.4071 - acc: 0.8300 - val_loss: 0.3238 - val_acc: 0.9000\n",
      "Epoch 78/100\n",
      "100/100 [==============================] - 0s 155us/step - loss: 0.4062 - acc: 0.8300 - val_loss: 0.3225 - val_acc: 0.9000\n",
      "Epoch 79/100\n",
      "100/100 [==============================] - 0s 488us/step - loss: 0.4052 - acc: 0.8300 - val_loss: 0.3199 - val_acc: 0.9000\n",
      "Epoch 80/100\n",
      "100/100 [==============================] - 0s 276us/step - loss: 0.4045 - acc: 0.8400 - val_loss: 0.3186 - val_acc: 0.9000\n",
      "Epoch 81/100\n",
      "100/100 [==============================] - 0s 149us/step - loss: 0.4037 - acc: 0.8400 - val_loss: 0.3171 - val_acc: 0.9333\n",
      "Epoch 82/100\n",
      "100/100 [==============================] - 0s 269us/step - loss: 0.4031 - acc: 0.8400 - val_loss: 0.3164 - val_acc: 0.9333\n",
      "Epoch 83/100\n",
      "100/100 [==============================] - 0s 122us/step - loss: 0.4021 - acc: 0.8400 - val_loss: 0.3140 - val_acc: 0.9333\n",
      "Epoch 84/100\n",
      "100/100 [==============================] - 0s 211us/step - loss: 0.4012 - acc: 0.8400 - val_loss: 0.3128 - val_acc: 0.9333\n",
      "Epoch 85/100\n",
      "100/100 [==============================] - 0s 243us/step - loss: 0.4009 - acc: 0.8300 - val_loss: 0.3115 - val_acc: 0.9333\n",
      "Epoch 86/100\n",
      "100/100 [==============================] - 0s 128us/step - loss: 0.4001 - acc: 0.8300 - val_loss: 0.3120 - val_acc: 0.9333\n",
      "Epoch 87/100\n",
      "100/100 [==============================] - 0s 133us/step - loss: 0.3995 - acc: 0.8400 - val_loss: 0.3115 - val_acc: 0.9333\n",
      "Epoch 88/100\n",
      "100/100 [==============================] - 0s 230us/step - loss: 0.3988 - acc: 0.8400 - val_loss: 0.3108 - val_acc: 0.9333\n",
      "Epoch 89/100\n",
      "100/100 [==============================] - 0s 300us/step - loss: 0.3981 - acc: 0.8400 - val_loss: 0.3108 - val_acc: 0.9333\n",
      "Epoch 90/100\n",
      "100/100 [==============================] - 0s 346us/step - loss: 0.3974 - acc: 0.8400 - val_loss: 0.3098 - val_acc: 0.9333\n",
      "Epoch 91/100\n",
      "100/100 [==============================] - 0s 392us/step - loss: 0.3967 - acc: 0.8400 - val_loss: 0.3103 - val_acc: 0.9333\n",
      "Epoch 92/100\n",
      "100/100 [==============================] - 0s 236us/step - loss: 0.3964 - acc: 0.8400 - val_loss: 0.3086 - val_acc: 0.9333\n",
      "Epoch 93/100\n",
      "100/100 [==============================] - 0s 166us/step - loss: 0.3956 - acc: 0.8400 - val_loss: 0.3075 - val_acc: 0.9333\n",
      "Epoch 94/100\n",
      "100/100 [==============================] - 0s 138us/step - loss: 0.3952 - acc: 0.8400 - val_loss: 0.3063 - val_acc: 0.9333\n",
      "Epoch 95/100\n",
      "100/100 [==============================] - 0s 169us/step - loss: 0.3944 - acc: 0.8400 - val_loss: 0.3063 - val_acc: 0.9333\n",
      "Epoch 96/100\n",
      "100/100 [==============================] - 0s 194us/step - loss: 0.3936 - acc: 0.8400 - val_loss: 0.3055 - val_acc: 0.9333\n",
      "Epoch 97/100\n",
      "100/100 [==============================] - 0s 146us/step - loss: 0.3931 - acc: 0.8400 - val_loss: 0.3038 - val_acc: 0.9333\n",
      "Epoch 98/100\n",
      "100/100 [==============================] - 0s 174us/step - loss: 0.3928 - acc: 0.8400 - val_loss: 0.3046 - val_acc: 0.9333\n",
      "Epoch 99/100\n",
      "100/100 [==============================] - 0s 199us/step - loss: 0.3921 - acc: 0.8400 - val_loss: 0.3054 - val_acc: 0.9333\n",
      "Epoch 100/100\n",
      "100/100 [==============================] - 0s 307us/step - loss: 0.3918 - acc: 0.8400 - val_loss: 0.3048 - val_acc: 0.9333\n",
      "0\n"
     ]
    }
   ],
   "source": [
    "nn = Sequential()\n",
    "nn.add(Dense(20, input_dim=3, activation='relu'))\n",
    "nn.add(Dense(1, activation='sigmoid'))\n",
    "nn.compile(loss='binary_crossentropy', optimizer='sgd', metrics=['accuracy'])\n",
    "nn.fit(X_train, y_train, batch_size=16, nb_epoch=100, verbose=1, validation_data=(X_test, y_test))\n",
    "print(np.sum(np.round(nn.predict(X_test).flatten() ) == y_test) / y_test.shape[0])"
   ]
  },
  {
   "cell_type": "code",
   "execution_count": 22,
   "metadata": {
    "colab": {
     "autoexec": {
      "startup": false,
      "wait_interval": 0
     },
     "base_uri": "https://localhost:8080/",
     "height": 500,
     "output_extras": [
      {
       "item_id": 1
      },
      {
       "item_id": 2
      }
     ]
    },
    "colab_type": "code",
    "executionInfo": {
     "elapsed": 6137,
     "status": "ok",
     "timestamp": 1517264345829,
     "user": {
      "displayName": "Ксения Стройкова",
      "photoUrl": "https://lh3.googleusercontent.com/a/default-user=s128",
      "userId": "102713769388125464353"
     },
     "user_tz": -180
    },
    "id": "t2a0EQAdAEee",
    "outputId": "4e688cd5-5d5d-456c-9984-6f26ec38ce0e"
   },
   "outputs": [
    {
     "data": {
      "image/png": "[encoded data removed]",
      "text/plain": [
       "<matplotlib.figure.Figure at 0x7f8879dfa1d0>"
      ]
     },
     "metadata": {},
     "output_type": "display_data"
    }
   ],
   "source": [
    "plot_model_results(nn.predict, X, y)"
   ]
  },
  {
   "cell_type": "code",
   "execution_count": 93,
   "metadata": {
    "colab": {
     "autoexec": {
      "startup": false,
      "wait_interval": 0
     },
     "base_uri": "https://localhost:8080/",
     "height": 3934,
     "output_extras": [
      {
       "item_id": 5
      },
      {
       "item_id": 9
      },
      {
       "item_id": 12
      },
      {
       "item_id": 16
      },
      {
       "item_id": 19
      },
      {
       "item_id": 20
      }
     ]
    },
    "colab_type": "code",
    "executionInfo": {
     "elapsed": 10068,
     "status": "ok",
     "timestamp": 1517264745386,
     "user": {
      "displayName": "Ксения Стройкова",
      "photoUrl": "https://lh3.googleusercontent.com/a/default-user=s128",
      "userId": "102713769388125464353"
     },
     "user_tz": -180
    },
    "id": "41KqRN_1Agaf",
    "outputId": "b841a916-6480-4c6e-aa21-944cd069c1cf",
    "scrolled": true
   },
   "outputs": [
    {
     "name": "stdout",
     "output_type": "stream",
     "text": [
      "Train on 100 samples, validate on 30 samples\n",
      "Epoch 1/100\n",
      "100/100 [==============================] - 0s 5ms/step - loss: 0.7044 - acc: 0.3400 - val_loss: 0.7221 - val_acc: 0.4000\n",
      "Epoch 2/100\n",
      "100/100 [==============================] - 0s 245us/step - loss: 0.7002 - acc: 0.4100 - val_loss: 0.7170 - val_acc: 0.4667\n",
      "Epoch 3/100\n",
      "100/100 [==============================] - 0s 320us/step - loss: 0.6963 - acc: 0.4800 - val_loss: 0.7123 - val_acc: 0.4667\n",
      "Epoch 4/100\n",
      "100/100 [==============================] - 0s 261us/step - loss: 0.6926 - acc: 0.5800 - val_loss: 0.7073 - val_acc: 0.5333\n",
      "Epoch 5/100\n",
      "100/100 [==============================] - 0s 251us/step - loss: 0.6889 - acc: 0.6300 - val_loss: 0.7027 - val_acc: 0.5667\n",
      "Epoch 6/100\n",
      "100/100 [==============================] - 0s 263us/step - loss: 0.6854 - acc: 0.6300 - val_loss: 0.6982 - val_acc: 0.5667\n",
      "Epoch 7/100\n",
      "100/100 [==============================] - 0s 275us/step - loss: 0.6821 - acc: 0.6700 - val_loss: 0.6934 - val_acc: 0.6000\n",
      "Epoch 8/100\n",
      "100/100 [==============================] - 0s 259us/step - loss: 0.6785 - acc: 0.6700 - val_loss: 0.6894 - val_acc: 0.6667\n",
      "Epoch 9/100\n",
      "100/100 [==============================] - 0s 260us/step - loss: 0.6757 - acc: 0.6600 - val_loss: 0.6851 - val_acc: 0.7000\n",
      "Epoch 10/100\n",
      "100/100 [==============================] - 0s 244us/step - loss: 0.6724 - acc: 0.6400 - val_loss: 0.6810 - val_acc: 0.7000\n",
      "Epoch 11/100\n",
      "100/100 [==============================] - 0s 272us/step - loss: 0.6692 - acc: 0.6400 - val_loss: 0.6766 - val_acc: 0.6333\n",
      "Epoch 12/100\n",
      "100/100 [==============================] - 0s 311us/step - loss: 0.6659 - acc: 0.7000 - val_loss: 0.6729 - val_acc: 0.5667\n",
      "Epoch 13/100\n",
      "100/100 [==============================] - 0s 261us/step - loss: 0.6629 - acc: 0.6700 - val_loss: 0.6686 - val_acc: 0.5667\n",
      "Epoch 14/100\n",
      "100/100 [==============================] - 0s 274us/step - loss: 0.6599 - acc: 0.7200 - val_loss: 0.6642 - val_acc: 0.5667\n",
      "Epoch 15/100\n",
      "100/100 [==============================] - 0s 259us/step - loss: 0.6565 - acc: 0.7100 - val_loss: 0.6605 - val_acc: 0.6000\n",
      "Epoch 16/100\n",
      "100/100 [==============================] - 0s 252us/step - loss: 0.6536 - acc: 0.7600 - val_loss: 0.6569 - val_acc: 0.6000\n",
      "Epoch 17/100\n",
      "100/100 [==============================] - 0s 288us/step - loss: 0.6506 - acc: 0.7800 - val_loss: 0.6527 - val_acc: 0.6333\n",
      "Epoch 18/100\n",
      "100/100 [==============================] - 0s 316us/step - loss: 0.6476 - acc: 0.7800 - val_loss: 0.6483 - val_acc: 0.7000\n",
      "Epoch 19/100\n",
      "100/100 [==============================] - 0s 313us/step - loss: 0.6444 - acc: 0.7800 - val_loss: 0.6445 - val_acc: 0.7000\n",
      "Epoch 20/100\n",
      "100/100 [==============================] - 0s 332us/step - loss: 0.6414 - acc: 0.8000 - val_loss: 0.6397 - val_acc: 0.7000\n",
      "Epoch 21/100\n",
      "100/100 [==============================] - 0s 189us/step - loss: 0.6380 - acc: 0.7900 - val_loss: 0.6356 - val_acc: 0.7000\n",
      "Epoch 22/100\n",
      "100/100 [==============================] - 0s 262us/step - loss: 0.6347 - acc: 0.8000 - val_loss: 0.6299 - val_acc: 0.7667\n",
      "Epoch 23/100\n",
      "100/100 [==============================] - 0s 358us/step - loss: 0.6305 - acc: 0.7900 - val_loss: 0.6249 - val_acc: 0.7667\n",
      "Epoch 24/100\n",
      "100/100 [==============================] - 0s 350us/step - loss: 0.6267 - acc: 0.8000 - val_loss: 0.6205 - val_acc: 0.7667\n",
      "Epoch 25/100\n",
      " 16/100 [===>..........................] - ETA: 0s - loss: 0.6041 - acc: 0.8750100/100 [==============================] - 0s 346us/step - loss: 0.6234 - acc: 0.8000 - val_loss: 0.6147 - val_acc: 0.7667\n",
      "Epoch 26/100\n",
      "100/100 [==============================] - 0s 332us/step - loss: 0.6195 - acc: 0.7900 - val_loss: 0.6104 - val_acc: 0.8333\n",
      "Epoch 27/100\n",
      "100/100 [==============================] - 0s 258us/step - loss: 0.6154 - acc: 0.8000 - val_loss: 0.6038 - val_acc: 0.8333\n",
      "Epoch 28/100\n",
      "100/100 [==============================] - 0s 343us/step - loss: 0.6111 - acc: 0.8000 - val_loss: 0.5980 - val_acc: 0.8667\n",
      "Epoch 29/100\n",
      "100/100 [==============================] - 0s 232us/step - loss: 0.6065 - acc: 0.8000 - val_loss: 0.5918 - val_acc: 0.8667\n",
      "Epoch 30/100\n",
      "100/100 [==============================] - 0s 222us/step - loss: 0.6021 - acc: 0.8000 - val_loss: 0.5857 - val_acc: 0.8667\n",
      "Epoch 31/100\n",
      "100/100 [==============================] - 0s 283us/step - loss: 0.5979 - acc: 0.8000 - val_loss: 0.5791 - val_acc: 0.8667\n",
      "Epoch 32/100\n",
      "100/100 [==============================] - 0s 245us/step - loss: 0.5925 - acc: 0.8000 - val_loss: 0.5734 - val_acc: 0.8667\n",
      "Epoch 33/100\n",
      "100/100 [==============================] - 0s 289us/step - loss: 0.5878 - acc: 0.8000 - val_loss: 0.5670 - val_acc: 0.8667\n",
      "Epoch 34/100\n",
      "100/100 [==============================] - 0s 271us/step - loss: 0.5829 - acc: 0.8000 - val_loss: 0.5600 - val_acc: 0.8667\n",
      "Epoch 35/100\n",
      "100/100 [==============================] - 0s 310us/step - loss: 0.5780 - acc: 0.8000 - val_loss: 0.5543 - val_acc: 0.8667\n",
      "Epoch 36/100\n",
      "100/100 [==============================] - 0s 345us/step - loss: 0.5732 - acc: 0.8000 - val_loss: 0.5487 - val_acc: 0.8667\n",
      "Epoch 37/100\n",
      "100/100 [==============================] - 0s 331us/step - loss: 0.5684 - acc: 0.8000 - val_loss: 0.5427 - val_acc: 0.8667\n",
      "Epoch 38/100\n",
      "100/100 [==============================] - 0s 335us/step - loss: 0.5633 - acc: 0.8100 - val_loss: 0.5339 - val_acc: 0.8667\n",
      "Epoch 39/100\n",
      "100/100 [==============================] - 0s 229us/step - loss: 0.5577 - acc: 0.8000 - val_loss: 0.5260 - val_acc: 0.8667\n",
      "Epoch 40/100\n",
      "100/100 [==============================] - 0s 243us/step - loss: 0.5523 - acc: 0.8000 - val_loss: 0.5186 - val_acc: 0.8667\n",
      "Epoch 41/100\n",
      "100/100 [==============================] - 0s 289us/step - loss: 0.5472 - acc: 0.8000 - val_loss: 0.5102 - val_acc: 0.8667\n",
      "Epoch 42/100\n",
      "100/100 [==============================] - 0s 376us/step - loss: 0.5418 - acc: 0.8000 - val_loss: 0.5063 - val_acc: 0.8667\n",
      "Epoch 43/100\n",
      "100/100 [==============================] - 0s 285us/step - loss: 0.5377 - acc: 0.8100 - val_loss: 0.5006 - val_acc: 0.8667\n",
      "Epoch 44/100\n",
      "100/100 [==============================] - 0s 272us/step - loss: 0.5328 - acc: 0.8100 - val_loss: 0.4957 - val_acc: 0.8667\n",
      "Epoch 45/100\n",
      "100/100 [==============================] - 0s 197us/step - loss: 0.5284 - acc: 0.8100 - val_loss: 0.4891 - val_acc: 0.8667\n",
      "Epoch 46/100\n",
      "100/100 [==============================] - 0s 182us/step - loss: 0.5233 - acc: 0.8000 - val_loss: 0.4837 - val_acc: 0.8667\n",
      "Epoch 47/100\n",
      "100/100 [==============================] - 0s 354us/step - loss: 0.5194 - acc: 0.8000 - val_loss: 0.4792 - val_acc: 0.8667\n",
      "Epoch 48/100\n",
      "100/100 [==============================] - 0s 227us/step - loss: 0.5152 - acc: 0.8100 - val_loss: 0.4734 - val_acc: 0.8667\n",
      "Epoch 49/100\n",
      " 16/100 [===>..........................] - ETA: 0s - loss: 0.5364 - acc: 0.8125100/100 [==============================] - 0s 232us/step - loss: 0.5105 - acc: 0.8100 - val_loss: 0.4680 - val_acc: 0.9000\n",
      "Epoch 50/100\n",
      "100/100 [==============================] - 0s 205us/step - loss: 0.5064 - acc: 0.8100 - val_loss: 0.4608 - val_acc: 0.9000\n",
      "Epoch 51/100\n",
      "100/100 [==============================] - 0s 217us/step - loss: 0.5013 - acc: 0.8100 - val_loss: 0.4567 - val_acc: 0.9000\n",
      "Epoch 52/100\n",
      "100/100 [==============================] - 0s 222us/step - loss: 0.4978 - acc: 0.8100 - val_loss: 0.4527 - val_acc: 0.9333\n",
      "Epoch 53/100\n",
      "100/100 [==============================] - 0s 223us/step - loss: 0.4932 - acc: 0.8100 - val_loss: 0.4494 - val_acc: 0.9333\n",
      "Epoch 54/100\n",
      "100/100 [==============================] - 0s 188us/step - loss: 0.4900 - acc: 0.8100 - val_loss: 0.4466 - val_acc: 0.9333\n",
      "Epoch 55/100\n",
      "100/100 [==============================] - 0s 200us/step - loss: 0.4866 - acc: 0.8300 - val_loss: 0.4429 - val_acc: 0.9333\n",
      "Epoch 56/100\n",
      "100/100 [==============================] - 0s 220us/step - loss: 0.4824 - acc: 0.8300 - val_loss: 0.4380 - val_acc: 0.9333\n",
      "Epoch 57/100\n",
      "100/100 [==============================] - 0s 290us/step - loss: 0.4783 - acc: 0.8300 - val_loss: 0.4321 - val_acc: 0.9333\n",
      "Epoch 58/100\n",
      "100/100 [==============================] - 0s 201us/step - loss: 0.4740 - acc: 0.8300 - val_loss: 0.4243 - val_acc: 0.9333\n",
      "Epoch 59/100\n",
      "100/100 [==============================] - 0s 201us/step - loss: 0.4700 - acc: 0.8300 - val_loss: 0.4223 - val_acc: 0.9333\n",
      "Epoch 60/100\n",
      "100/100 [==============================] - 0s 204us/step - loss: 0.4667 - acc: 0.8300 - val_loss: 0.4168 - val_acc: 0.9333\n",
      "Epoch 61/100\n",
      "100/100 [==============================] - 0s 213us/step - loss: 0.4626 - acc: 0.8300 - val_loss: 0.4105 - val_acc: 0.9333\n",
      "Epoch 62/100\n",
      "100/100 [==============================] - 0s 201us/step - loss: 0.4588 - acc: 0.8300 - val_loss: 0.4058 - val_acc: 0.9333\n",
      "Epoch 63/100\n",
      "100/100 [==============================] - 0s 184us/step - loss: 0.4551 - acc: 0.8300 - val_loss: 0.4005 - val_acc: 0.9333\n",
      "Epoch 64/100\n",
      "100/100 [==============================] - 0s 184us/step - loss: 0.4517 - acc: 0.8300 - val_loss: 0.3967 - val_acc: 0.9333\n",
      "Epoch 65/100\n",
      "100/100 [==============================] - 0s 206us/step - loss: 0.4478 - acc: 0.8300 - val_loss: 0.3904 - val_acc: 0.9333\n",
      "Epoch 66/100\n",
      "100/100 [==============================] - 0s 196us/step - loss: 0.4451 - acc: 0.8300 - val_loss: 0.3869 - val_acc: 0.9333\n",
      "Epoch 67/100\n",
      "100/100 [==============================] - 0s 240us/step - loss: 0.4424 - acc: 0.8300 - val_loss: 0.3808 - val_acc: 0.9333\n",
      "Epoch 68/100\n",
      "100/100 [==============================] - 0s 243us/step - loss: 0.4386 - acc: 0.8300 - val_loss: 0.3775 - val_acc: 0.9333\n",
      "Epoch 69/100\n",
      "100/100 [==============================] - 0s 205us/step - loss: 0.4357 - acc: 0.8300 - val_loss: 0.3736 - val_acc: 0.9333\n",
      "Epoch 70/100\n",
      "100/100 [==============================] - 0s 208us/step - loss: 0.4328 - acc: 0.8300 - val_loss: 0.3686 - val_acc: 0.9333\n",
      "Epoch 71/100\n",
      "100/100 [==============================] - 0s 201us/step - loss: 0.4301 - acc: 0.8300 - val_loss: 0.3641 - val_acc: 0.9333\n",
      "Epoch 72/100\n",
      "100/100 [==============================] - 0s 220us/step - loss: 0.4273 - acc: 0.8300 - val_loss: 0.3613 - val_acc: 0.9333\n",
      "Epoch 73/100\n",
      "100/100 [==============================] - 0s 232us/step - loss: 0.4246 - acc: 0.8300 - val_loss: 0.3588 - val_acc: 0.9333\n",
      "Epoch 74/100\n",
      "100/100 [==============================] - 0s 222us/step - loss: 0.4220 - acc: 0.8300 - val_loss: 0.3567 - val_acc: 0.9333\n",
      "Epoch 75/100\n",
      "100/100 [==============================] - 0s 224us/step - loss: 0.4198 - acc: 0.8300 - val_loss: 0.3521 - val_acc: 0.9333\n",
      "Epoch 76/100\n",
      "100/100 [==============================] - 0s 248us/step - loss: 0.4163 - acc: 0.8400 - val_loss: 0.3493 - val_acc: 0.9333\n",
      "Epoch 77/100\n",
      "100/100 [==============================] - 0s 215us/step - loss: 0.4135 - acc: 0.8400 - val_loss: 0.3449 - val_acc: 0.9333\n",
      "Epoch 78/100\n",
      "100/100 [==============================] - 0s 285us/step - loss: 0.4110 - acc: 0.8400 - val_loss: 0.3414 - val_acc: 0.9333\n",
      "Epoch 79/100\n",
      "100/100 [==============================] - 0s 238us/step - loss: 0.4085 - acc: 0.8400 - val_loss: 0.3369 - val_acc: 0.9333\n",
      "Epoch 80/100\n",
      "100/100 [==============================] - 0s 220us/step - loss: 0.4065 - acc: 0.8400 - val_loss: 0.3362 - val_acc: 0.9333\n",
      "Epoch 81/100\n",
      "100/100 [==============================] - 0s 225us/step - loss: 0.4034 - acc: 0.8400 - val_loss: 0.3338 - val_acc: 0.9333\n",
      "Epoch 82/100\n",
      "100/100 [==============================] - 0s 224us/step - loss: 0.4013 - acc: 0.8400 - val_loss: 0.3304 - val_acc: 0.9333\n",
      "Epoch 83/100\n",
      "100/100 [==============================] - 0s 204us/step - loss: 0.3984 - acc: 0.8400 - val_loss: 0.3282 - val_acc: 0.9333\n",
      "Epoch 84/100\n",
      "100/100 [==============================] - 0s 232us/step - loss: 0.3972 - acc: 0.8400 - val_loss: 0.3261 - val_acc: 0.9333\n",
      "Epoch 85/100\n",
      "100/100 [==============================] - 0s 205us/step - loss: 0.3938 - acc: 0.8400 - val_loss: 0.3271 - val_acc: 0.9333\n",
      "Epoch 86/100\n",
      "100/100 [==============================] - 0s 206us/step - loss: 0.3915 - acc: 0.8300 - val_loss: 0.3240 - val_acc: 0.9333\n",
      "Epoch 87/100\n",
      "100/100 [==============================] - 0s 225us/step - loss: 0.3897 - acc: 0.8300 - val_loss: 0.3199 - val_acc: 0.9333\n",
      "Epoch 88/100\n",
      "100/100 [==============================] - 0s 283us/step - loss: 0.3884 - acc: 0.8300 - val_loss: 0.3158 - val_acc: 0.9333\n",
      "Epoch 89/100\n",
      "100/100 [==============================] - 0s 200us/step - loss: 0.3862 - acc: 0.8300 - val_loss: 0.3142 - val_acc: 0.9333\n",
      "Epoch 90/100\n",
      "100/100 [==============================] - 0s 198us/step - loss: 0.3847 - acc: 0.8300 - val_loss: 0.3122 - val_acc: 0.9333\n",
      "Epoch 91/100\n",
      "100/100 [==============================] - 0s 227us/step - loss: 0.3828 - acc: 0.8400 - val_loss: 0.3152 - val_acc: 0.9333\n",
      "Epoch 92/100\n",
      "100/100 [==============================] - 0s 220us/step - loss: 0.3806 - acc: 0.8400 - val_loss: 0.3096 - val_acc: 0.9333\n",
      "Epoch 93/100\n",
      "100/100 [==============================] - 0s 244us/step - loss: 0.3791 - acc: 0.8400 - val_loss: 0.3073 - val_acc: 0.9333\n",
      "Epoch 94/100\n",
      "100/100 [==============================] - 0s 257us/step - loss: 0.3774 - acc: 0.8400 - val_loss: 0.3035 - val_acc: 0.9333\n",
      "Epoch 95/100\n",
      "100/100 [==============================] - 0s 236us/step - loss: 0.3757 - acc: 0.8400 - val_loss: 0.3057 - val_acc: 0.9333\n",
      "Epoch 96/100\n",
      "100/100 [==============================] - 0s 218us/step - loss: 0.3741 - acc: 0.8500 - val_loss: 0.3034 - val_acc: 0.9333\n",
      "Epoch 97/100\n",
      "100/100 [==============================] - 0s 269us/step - loss: 0.3730 - acc: 0.8500 - val_loss: 0.3007 - val_acc: 0.9333\n",
      "Epoch 98/100\n",
      "100/100 [==============================] - 0s 260us/step - loss: 0.3717 - acc: 0.8500 - val_loss: 0.2987 - val_acc: 0.9333\n",
      "Epoch 99/100\n",
      "100/100 [==============================] - 0s 282us/step - loss: 0.3697 - acc: 0.8500 - val_loss: 0.2959 - val_acc: 0.9333\n",
      "Epoch 100/100\n",
      "100/100 [==============================] - 0s 277us/step - loss: 0.3686 - acc: 0.8500 - val_loss: 0.2975 - val_acc: 0.9333\n",
      "0\n",
      "(130,)\n"
     ]
    },
    {
     "data": {
      "image/png": "[encoded data removed]",
      "text/plain": [
       "<matplotlib.figure.Figure at 0x7fdeddbc4e50>"
      ]
     },
     "metadata": {
      "tags": []
     },
     "output_type": "display_data"
    }
   ],
   "source": [
    "nn = Sequential()\n",
    "nn.add(Dense(20, input_dim=3, activation='relu'))\n",
    "nn.add(Dense(20, activation='relu'))\n",
    "nn.add(Dense(20, activation='relu'))\n",
    "nn.add(Dense(20, activation='relu'))\n",
    "nn.add(Dense(1, activation='sigmoid'))\n",
    "nn.compile(loss='binary_crossentropy', optimizer='sgd', metrics=['accuracy'])\n",
    "nn.fit(X_train, y_train, batch_size=16, nb_epoch=100, verbose=1, validation_data=(X_test, y_test))\n",
    "print(np.sum(np.round(nn.predict(X_test).flatten() ) == y_test) / y_test.shape[0])\n",
    "plot_model_results(nn.predict, X, y)"
   ]
  },
  {
   "cell_type": "markdown",
   "metadata": {
    "colab_type": "text",
    "id": "ZX2Ih0ErQJLc"
   },
   "source": [
    "## Обучение нейронной сети, алгоритм обратного распространения ошибки"
   ]
  },
  {
   "cell_type": "markdown",
   "metadata": {
    "colab_type": "text",
    "id": "wXnXXGjnerfT"
   },
   "source": [
    "### Граф вычислений и дифференцирование\n",
    "\n",
    "Рассмотрим функцию $$x^2 + xy + (x + y)^2$$\n",
    "\n",
    "Ее можно представить в виде графа несколькими способами (как композицию простых функций):\n",
    "\n",
    "<img src='graph.png'>\n",
    "\n",
    "Дифференцирование. Пользуемся правилом дифференцирования сложной функции.\n",
    "\n",
    "$$(f\\circ g)\\prime(x) = (f(g(x)))\\prime = f\\prime(g(x))g\\prime(x)$$\n",
    "\n",
    "Если дифференцируем по векторам - получаем градиент, а если по матрице - получаем матрицу Якоби.\n",
    "\n",
    "<img src='g1.png'>\n",
    "\n",
    "Forward propagation (прямое распространение). Вычисляем $\\frac{\\delta f}{\\delta x} $ как сложную функцию\n",
    "\n",
    "<img src='g2.png'>\n",
    "\n",
    "Back propagation (обратное распространение). Начинаем от конца и идем как  $\\frac{\\delta f}{\\delta g} = \\sum_{g \\prime \\in Children(g)} \\frac{\\delta f}{\\delta g \\prime} \\frac{\\delta g \\prime}{\\delta g } $ \n",
    "\n",
    "<img src='g3.png'>\n",
    "\n",
    "Разбор примера см в [1]\n"
   ]
  },
  {
   "cell_type": "markdown",
   "metadata": {
    "colab_type": "text",
    "id": "5YFvZQhHQJQV"
   },
   "source": [
    "## Виды оптимизаторов"
   ]
  },
  {
   "cell_type": "markdown",
   "metadata": {
    "colab_type": "text",
    "id": "jil-ysb4QJoP"
   },
   "source": [
    "## Функции активации\n",
    "\n",
    "<img src='act.png'>\n",
    "\n",
    "Логистический сигмоид\n",
    "\n",
    "$$ \\frac{1}{1 + e^{-x}}$$\n",
    "\n",
    "Гиперболический тангенс tanh\n",
    "\n",
    "$$\\frac{e^x-e^{-x}}{e^x+e^{-x}}$$\n",
    "\n",
    "Ступенька (функция Хевисайда)\n",
    "\n",
    "$$\\begin{cases}\n",
    "    0, & x < 0\\\\\n",
    "    1, & x \\geq 0.\n",
    "  \\end{cases}$$\n",
    "  \n",
    "ReLU\n",
    "$$\\begin{cases}\n",
    "    0, & x < 0\\\\\n",
    "    x, & x \\geq 0.\n",
    "  \\end{cases}$$\n"
   ]
  },
  {
   "cell_type": "markdown",
   "metadata": {
    "colab_type": "text",
    "id": "WcN3uU99QJqd"
   },
   "source": [
    "## Проблема xor"
   ]
  },
  {
   "cell_type": "markdown",
   "metadata": {
    "colab_type": "text",
    "id": "LXzuj1Z35K4J"
   },
   "source": [
    "https://aimatters.wordpress.com/2016/01/16/solving-xor-with-a-neural-network-in-tensorflow/\n",
    "![alt text](http://web.science.mq.edu.au/~cassidy/comp449/html/xor.gif)"
   ]
  },
  {
   "cell_type": "code",
   "execution_count": 26,
   "metadata": {
    "colab": {
     "autoexec": {
      "startup": false,
      "wait_interval": 0
     },
     "base_uri": "https://localhost:8080/",
     "height": 2227,
     "output_extras": [
      {
       "item_id": 10
      }
     ]
    },
    "colab_type": "code",
    "executionInfo": {
     "elapsed": 34903,
     "status": "ok",
     "timestamp": 1517262340844,
     "user": {
      "displayName": "Станислав Кладов",
      "photoUrl": "https://lh3.googleusercontent.com/a/default-user=s128",
      "userId": "109384532118251172101"
     },
     "user_tz": -180
    },
    "id": "XM1mhi703oFI",
    "outputId": "118f6366-650f-45ce-b196-1a85864ce19e"
   },
   "outputs": [
    {
     "name": "stdout",
     "output_type": "stream",
     "text": [
      "---------------------\n",
      "('Epoch ', 0)\n",
      "('Hypothesis ', array([[0.5191291 ],\n",
      "       [0.4876    ],\n",
      "       [0.5161269 ],\n",
      "       [0.48470998]], dtype=float32))\n",
      "('Theta1 ', array([[ 0.07809   ,  0.01713243],\n",
      "       [ 0.3221843 , -0.24336076]], dtype=float32))\n",
      "('Bias1 ', array([ 1.2945384e-06, -5.5374576e-06], dtype=float32))\n",
      "('Theta2 ', array([[-0.832575  ],\n",
      "       [ 0.98572373]], dtype=float32))\n",
      "('Bias2 ', array([-1.8974319e-05], dtype=float32))\n",
      "('cost ', 0.6937111)\n",
      "---------------------\n",
      "('Epoch ', 10000)\n",
      "('Hypothesis ', array([[0.5081129 ],\n",
      "       [0.49148932],\n",
      "       [0.50884324],\n",
      "       [0.49222583]], dtype=float32))\n",
      "('Theta1 ', array([[ 0.02570375,  0.0344021 ],\n",
      "       [ 0.19320206, -0.1164963 ]], dtype=float32))\n",
      "('Bias1 ', array([-0.00593142, -0.01619097], dtype=float32))\n",
      "('Theta2 ', array([[-0.8101705 ],\n",
      "       [ 0.94510496]], dtype=float32))\n",
      "('Bias2 ', array([-0.03238859], dtype=float32))\n",
      "('cost ', 0.69328874)\n",
      "---------------------\n",
      "('Epoch ', 20000)\n",
      "('Hypothesis ', array([[0.50416154],\n",
      "       [0.49492872],\n",
      "       [0.5052323 ],\n",
      "       [0.49600106]], dtype=float32))\n",
      "('Theta1 ', array([[ 0.01399564,  0.03042092],\n",
      "       [ 0.12779579, -0.04844496]], dtype=float32))\n",
      "('Bias1 ', array([-0.00685383, -0.02292947], dtype=float32))\n",
      "('Theta2 ', array([[-0.80346763],\n",
      "       [ 0.93290704]], dtype=float32))\n",
      "('Bias2 ', array([-0.04410239], dtype=float32))\n",
      "('cost ', 0.6931912)\n",
      "---------------------\n",
      "('Epoch ', 30000)\n",
      "('Hypothesis ', array([[0.50220346],\n",
      "       [0.49703342],\n",
      "       [0.50305426],\n",
      "       [0.49788514]], dtype=float32))\n",
      "('Theta1 ', array([[ 0.01143279,  0.02453302],\n",
      "       [ 0.09169445, -0.00995882]], dtype=float32))\n",
      "('Bias1 ', array([-0.00722534, -0.02546601], dtype=float32))\n",
      "('Theta2 ', array([[-0.8017657],\n",
      "       [ 0.9285563]], dtype=float32))\n",
      "('Bias2 ', array([-0.05011822], dtype=float32))\n",
      "('cost ', 0.69316137)\n",
      "---------------------\n",
      "('Epoch ', 40000)\n",
      "('Hypothesis ', array([[0.50116205],\n",
      "       [0.49828073],\n",
      "       [0.50176865],\n",
      "       [0.49888805]], dtype=float32))\n",
      "('Theta1 ', array([[0.01095844, 0.01994901],\n",
      "       [0.07134109, 0.01193807]], dtype=float32))\n",
      "('Bias1 ', array([-0.00764353, -0.02619349], dtype=float32))\n",
      "('Theta2 ', array([[-0.8015318],\n",
      "       [ 0.926859 ]], dtype=float32))\n",
      "('Bias2 ', array([-0.05347789], dtype=float32))\n",
      "('cost ', 0.69315183)\n",
      "---------------------\n",
      "('Epoch ', 50000)\n",
      "('Hypothesis ', array([[0.50059444],\n",
      "       [0.49900657],\n",
      "       [0.50102377],\n",
      "       [0.49943653]], dtype=float32))\n",
      "('Theta1 ', array([[0.01083123, 0.01679369],\n",
      "       [0.05981323, 0.02432775]], dtype=float32))\n",
      "('Bias1 ', array([-0.00811894, -0.02616506], dtype=float32))\n",
      "('Theta2 ', array([[-0.8015318],\n",
      "       [ 0.9260968]], dtype=float32))\n",
      "('Bias2 ', array([-0.05547426], dtype=float32))\n",
      "('cost ', 0.69314885)\n",
      "---------------------\n",
      "('Epoch ', 60000)\n",
      "('Hypothesis ', array([[0.5002797 ],\n",
      "       [0.49942166],\n",
      "       [0.50059557],\n",
      "       [0.4997379 ]], dtype=float32))\n",
      "('Theta1 ', array([[0.01064568, 0.01468203],\n",
      "       [0.05326603, 0.03129217]], dtype=float32))\n",
      "('Bias1 ', array([-0.00863872, -0.02579658], dtype=float32))\n",
      "('Theta2 ', array([[-0.8015318],\n",
      "       [ 0.9255053]], dtype=float32))\n",
      "('Bias2 ', array([-0.05663067], dtype=float32))\n",
      "('cost ', 0.6931478)\n",
      "---------------------\n",
      "('Epoch ', 70000)\n",
      "('Hypothesis ', array([[0.50010884],\n",
      "       [0.49966025],\n",
      "       [0.5003541 ],\n",
      "       [0.49990574]], dtype=float32))\n",
      "('Theta1 ', array([[0.01037204, 0.0132262 ],\n",
      "       [0.04954877, 0.03515968]], dtype=float32))\n",
      "('Bias1 ', array([-0.00914969, -0.02531133], dtype=float32))\n",
      "('Theta2 ', array([[-0.8015318],\n",
      "       [ 0.9253155]], dtype=float32))\n",
      "('Bias2 ', array([-0.05743484], dtype=float32))\n",
      "('cost ', 0.69314736)\n",
      "---------------------\n",
      "('Epoch ', 80000)\n",
      "('Hypothesis ', array([[0.500014  ],\n",
      "       [0.49979416],\n",
      "       [0.50021577],\n",
      "       [0.4999962 ]], dtype=float32))\n",
      "('Theta1 ', array([[0.01002867, 0.01217725],\n",
      "       [0.04742848, 0.03728013]], dtype=float32))\n",
      "('Bias1 ', array([-0.00964373, -0.0247859 ], dtype=float32))\n",
      "('Theta2 ', array([[-0.8015318],\n",
      "       [ 0.9253155]], dtype=float32))\n",
      "('Bias2 ', array([-0.05803498], dtype=float32))\n",
      "('cost ', 0.69314736)\n",
      "---------------------\n",
      "('Epoch ', 90000)\n",
      "('Hypothesis ', array([[0.4999625 ],\n",
      "       [0.49986997],\n",
      "       [0.50013757],\n",
      "       [0.50004524]], dtype=float32))\n",
      "('Theta1 ', array([[0.00964532, 0.01138283],\n",
      "       [0.04620699, 0.03842369]], dtype=float32))\n",
      "('Bias1 ', array([-0.0101324 , -0.02424573], dtype=float32))\n",
      "('Theta2 ', array([[-0.8015318],\n",
      "       [ 0.9253155]], dtype=float32))\n",
      "('Bias2 ', array([-0.05846364], dtype=float32))\n",
      "('cost ', 0.6931473)\n"
     ]
    }
   ],
   "source": [
    "x_ = tf.placeholder(tf.float32, shape=[4,2], name=\"x-input\")\n",
    "y_ = tf.placeholder(tf.float32, shape=[4,1], name=\"y-input\")\n",
    "\n",
    "Theta1 = tf.Variable(tf.random_uniform([2,2], -1, 1), name=\"Theta1\")\n",
    "Theta2 = tf.Variable(tf.random_uniform([2,1], -1, 1), name=\"Theta2\")\n",
    "\n",
    "Bias1 = tf.Variable(tf.zeros([2]), name=\"Bias1\")\n",
    "Bias2 = tf.Variable(tf.zeros([1]), name=\"Bias2\")\n",
    "\n",
    "A2 = tf.sigmoid(tf.matmul(x_, Theta1) + Bias1)\n",
    "Hypothesis = tf.sigmoid(tf.matmul(A2, Theta2) + Bias2)\n",
    "\n",
    "cost = tf.reduce_mean(( (y_ * tf.log(Hypothesis)) + \n",
    "        ((1 - y_) * tf.log(1.0 - Hypothesis)) ) * -1)\n",
    "train_step = tf.train.GradientDescentOptimizer(0.01).minimize(cost)\n",
    "\n",
    "XOR_X = [[0,0],[0,1],[1,0],[1,1]]\n",
    "XOR_Y = [[0],[1],[1],[0]]\n",
    "\n",
    "init = tf.initialize_all_variables()\n",
    "sess = tf.Session()\n",
    "sess.run(init)\n",
    "\n",
    "for i in range(100000):\n",
    "    sess.run(train_step, feed_dict={x_: XOR_X, y_: XOR_Y})\n",
    "\n",
    "    if i % 10000 == 0:\n",
    "        print('---------------------')\n",
    "        print('Epoch ', i)\n",
    "        print('Hypothesis ', sess.run(Hypothesis, feed_dict={x_: XOR_X, y_: XOR_Y}))\n",
    "        print('Theta1 ', sess.run(Theta1))\n",
    "        print('Bias1 ', sess.run(Bias1))\n",
    "        print('Theta2 ', sess.run(Theta2))\n",
    "        print('Bias2 ', sess.run(Bias2))\n",
    "        print('cost ', sess.run(cost, feed_dict={x_: XOR_X, y_: XOR_Y}))"
   ]
  },
  {
   "cell_type": "markdown",
   "metadata": {},
   "source": [
    "<img src='tf_graph.png'>"
   ]
  },
  {
   "cell_type": "code",
   "execution_count": 76,
   "metadata": {
    "scrolled": true
   },
   "outputs": [
    {
     "name": "stdout",
     "output_type": "stream",
     "text": [
      "(200, 2)\n",
      "(200, 1)\n"
     ]
    },
    {
     "data": {
      "image/png": "[encoded data removed]",
      "text/plain": [
       "<matplotlib.figure.Figure at 0x7f485dbe7cd0>"
      ]
     },
     "metadata": {},
     "output_type": "display_data"
    }
   ],
   "source": [
    "rng = np.random.RandomState(0)\n",
    "XOR_X = rng.randn(200, 2)\n",
    "print(XOR_X.shape)\n",
    "XOR_Y = np.logical_xor(XOR_X[:, 0] > 0, XOR_X[:, 1] > 0).reshape(-1, 1)\n",
    "print(XOR_Y.shape)\n",
    "\n",
    "colors = ['yellow' if y_i else 'blue' for y_i in XOR_Y]\n",
    "plt.scatter(XOR_X[:, 0], XOR_X[:, 1], c=colors)\n",
    "plt.show()"
   ]
  },
  {
   "cell_type": "markdown",
   "metadata": {},
   "source": [
    "## xor example\n",
    "\n",
    "http://playground.tensorflow.org/#activation=tanh&batchSize=10&dataset=xor&regDataset=reg-plane&learningRate=0.03&regularizationRate=0&noise=0&networkShape=3&seed=0.87137&showTestData=false&discretize=false&percTrainData=50&x=true&y=true&xTimesY=false&xSquared=false&ySquared=false&cosX=false&sinX=false&cosY=false&sinY=false&collectStats=false&problem=classification&initZero=false&hideText=false"
   ]
  },
  {
   "cell_type": "markdown",
   "metadata": {
    "colab_type": "text",
    "id": "P9bRg6XbQ6UI"
   },
   "source": [
    "## Пример на MNIST. Cвертки"
   ]
  },
  {
   "cell_type": "markdown",
   "metadata": {},
   "source": [
    "<img src='conv.png'>"
   ]
  },
  {
   "cell_type": "code",
   "execution_count": 103,
   "metadata": {
    "colab": {
     "autoexec": {
      "startup": false,
      "wait_interval": 0
     },
     "base_uri": "https://localhost:8080/",
     "height": 14123,
     "output_extras": [
      {
       "item_id": 8
      },
      {
       "item_id": 12
      },
      {
       "item_id": 16
      },
      {
       "item_id": 17
      },
      {
       "item_id": 18
      }
     ]
    },
    "colab_type": "code",
    "executionInfo": {
     "elapsed": 84329,
     "status": "error",
     "timestamp": 1517266160682,
     "user": {
      "displayName": "Ксения Стройкова",
      "photoUrl": "https://lh3.googleusercontent.com/a/default-user=s128",
      "userId": "102713769388125464353"
     },
     "user_tz": -180
    },
    "id": "65033JP9akQZ",
    "outputId": "87f3c9a9-acd2-49b6-c562-1c903835a7bf"
   },
   "outputs": [
    {
     "name": "stdout",
     "output_type": "stream",
     "text": [
      "Extracting MNIST-data/train-images-idx3-ubyte.gz\n",
      "Extracting MNIST-data/train-labels-idx1-ubyte.gz\n",
      "Extracting MNIST-data/t10k-images-idx3-ubyte.gz\n",
      "Extracting MNIST-data/t10k-labels-idx1-ubyte.gz\n",
      "INFO:tensorflow:Using default config.\n",
      "INFO:tensorflow:Using config: {'_save_checkpoints_secs': 600, '_session_config': None, '_keep_checkpoint_max': 5, '_task_type': 'worker', '_is_chief': True, '_cluster_spec': <tensorflow.python.training.server_lib.ClusterSpec object at 0x7fded9c33cd0>, '_save_checkpoints_steps': None, '_keep_checkpoint_every_n_hours': 10000, '_service': None, '_num_ps_replicas': 0, '_tf_random_seed': None, '_master': '', '_num_worker_replicas': 1, '_task_id': 0, '_log_step_count_steps': 100, '_model_dir': './mnist_convnet_model2', '_save_summary_steps': 100}\n",
      "(100, 3, 3, 64)\n",
      "INFO:tensorflow:Create CheckpointSaverHook.\n",
      "INFO:tensorflow:Restoring parameters from ./mnist_convnet_model2/model.ckpt-1\n",
      "INFO:tensorflow:Saving checkpoints for 2 into ./mnist_convnet_model2/model.ckpt.\n",
      "INFO:tensorflow:probabilities = [[0.09863041 0.09268679 0.09436024 0.10650124 0.09962536 0.10172715\n",
      "  0.11216054 0.11045542 0.09131765 0.09253518]\n",
      " [0.09764708 0.09792198 0.0937064  0.09708515 0.09915412 0.1053002\n",
      "  0.10542434 0.10669122 0.09808167 0.09898777]\n",
      " [0.10437495 0.09245089 0.10188615 0.09307603 0.10246667 0.10179632\n",
      "  0.10373487 0.10756745 0.09601564 0.09663101]\n",
      " [0.0958951  0.09832326 0.09720218 0.10088453 0.09573565 0.10656843\n",
      "  0.10240676 0.10370567 0.10328236 0.09599598]\n",
      " [0.09953327 0.10122793 0.09712074 0.10075153 0.09638406 0.10159967\n",
      "  0.1049929  0.10355306 0.09773452 0.09710238]\n",
      " [0.09771939 0.09715149 0.09163155 0.09821807 0.09613323 0.0946454\n",
      "  0.1090818  0.10911888 0.10103033 0.10526988]\n",
      " [0.09885717 0.1104051  0.09494027 0.09720156 0.10377821 0.09159234\n",
      "  0.10697218 0.09830215 0.09612103 0.10182998]\n",
      " [0.10515577 0.09130237 0.09985231 0.09525964 0.09778423 0.10810459\n",
      "  0.10234147 0.11024685 0.09503096 0.09492182]\n",
      " [0.10282829 0.09271544 0.09803437 0.09881055 0.09951567 0.10578749\n",
      "  0.1042228  0.10155492 0.10110074 0.09542976]\n",
      " [0.10102823 0.10577026 0.09503857 0.09333523 0.09474155 0.10322259\n",
      "  0.10463648 0.10419275 0.10204222 0.09599215]\n",
      " [0.09336019 0.09140447 0.10352919 0.10437398 0.10000934 0.10241397\n",
      "  0.11022186 0.09923592 0.09650192 0.09894919]\n",
      " [0.09735364 0.09671254 0.09462664 0.09853194 0.0944764  0.10472919\n",
      "  0.10237544 0.10820579 0.09653542 0.10645301]\n",
      " [0.10362799 0.09716854 0.09761836 0.10461125 0.09651282 0.10406356\n",
      "  0.10825066 0.10513245 0.09222003 0.0907944 ]\n",
      " [0.10151403 0.09595487 0.09984241 0.098814   0.09559438 0.10516533\n",
      "  0.1078791  0.10296489 0.09711967 0.09515131]\n",
      " [0.0960952  0.09716474 0.09477989 0.09246919 0.10141985 0.10525887\n",
      "  0.10149505 0.10831583 0.09940249 0.10359886]\n",
      " [0.09859141 0.09914843 0.09159333 0.10713611 0.08899309 0.09971308\n",
      "  0.10398322 0.10541996 0.10633274 0.09908868]\n",
      " [0.09661745 0.0921789  0.09782854 0.09164321 0.10076815 0.10557309\n",
      "  0.11334247 0.10313641 0.09978651 0.09912522]\n",
      " [0.10084871 0.09340515 0.09718865 0.0943276  0.10196046 0.10516484\n",
      "  0.10448158 0.10422375 0.09759366 0.1008056 ]\n",
      " [0.10222418 0.09638035 0.09543218 0.09172052 0.1005045  0.10054073\n",
      "  0.10708632 0.10568038 0.0983763  0.10205456]\n",
      " [0.09219223 0.10041169 0.09459225 0.10481416 0.10717039 0.10142612\n",
      "  0.10071013 0.10267497 0.1023641  0.09364398]\n",
      " [0.09804969 0.0973872  0.10031589 0.09480105 0.0995543  0.09951766\n",
      "  0.10334216 0.10911996 0.09808169 0.09983051]\n",
      " [0.10118244 0.09937665 0.09688569 0.09649308 0.09902599 0.09565682\n",
      "  0.10155188 0.10964174 0.0958445  0.10434123]\n",
      " [0.10000451 0.09432769 0.09880815 0.09759078 0.10358196 0.10208501\n",
      "  0.10167107 0.10609582 0.10167211 0.09416289]\n",
      " [0.10241926 0.09431735 0.09454983 0.09600198 0.09845717 0.0999454\n",
      "  0.11924674 0.10551193 0.09604065 0.09350976]\n",
      " [0.10533796 0.09551644 0.09081558 0.09531643 0.09730338 0.09927993\n",
      "  0.10640451 0.1036506  0.10063502 0.10574013]\n",
      " [0.09670623 0.09562574 0.09622106 0.10344555 0.09760312 0.09609047\n",
      "  0.10391483 0.10810223 0.10115073 0.10114003]\n",
      " [0.10212664 0.09949814 0.09228208 0.10390715 0.09861998 0.09620863\n",
      "  0.10460658 0.10365241 0.1020921  0.09700628]\n",
      " [0.09850412 0.09195946 0.09455936 0.10501827 0.0992286  0.1026599\n",
      "  0.10400178 0.10834278 0.09426044 0.10146526]\n",
      " [0.099611   0.09749588 0.09840126 0.09713327 0.0959614  0.10492308\n",
      "  0.10566489 0.10957196 0.09299488 0.09824244]\n",
      " [0.10747501 0.09253656 0.0990169  0.09956434 0.09691326 0.1041772\n",
      "  0.10069557 0.10629621 0.09326898 0.10005596]\n",
      " [0.1012707  0.09901907 0.09988684 0.09767994 0.09225027 0.1019135\n",
      "  0.10364619 0.10779069 0.09795246 0.09859035]\n",
      " [0.10618437 0.09419397 0.09663074 0.10156014 0.09809703 0.10300307\n",
      "  0.09720548 0.11604762 0.09836979 0.08870777]\n",
      " [0.09959098 0.09401    0.09747063 0.10051715 0.10218598 0.09949055\n",
      "  0.10176221 0.10691203 0.09612377 0.10193667]\n",
      " [0.10123187 0.09820962 0.09863541 0.09361191 0.09531564 0.09520411\n",
      "  0.10776453 0.11520559 0.09566541 0.09915593]\n",
      " [0.09948218 0.09737962 0.0999215  0.09726929 0.10016424 0.09522762\n",
      "  0.10255921 0.10820156 0.09654193 0.10325285]\n",
      " [0.10091583 0.0971335  0.09924245 0.09714285 0.09741369 0.09866546\n",
      "  0.10772538 0.10741323 0.10075802 0.09358963]\n",
      " [0.09820729 0.09567662 0.09944627 0.09637568 0.10024747 0.09522203\n",
      "  0.11084698 0.10469279 0.10261419 0.09667068]\n",
      " [0.09559433 0.09639236 0.09610025 0.08908712 0.10306737 0.1067408\n",
      "  0.11381435 0.10743915 0.09414218 0.09762211]\n",
      " [0.11135609 0.09764346 0.09128213 0.09447276 0.0999555  0.10071513\n",
      "  0.10385966 0.10441454 0.09718778 0.09911283]\n",
      " [0.09664229 0.1030039  0.09576882 0.10294068 0.0950651  0.09939726\n",
      "  0.1025409  0.106842   0.10324914 0.09454995]\n",
      " [0.10034567 0.093257   0.09439419 0.09817745 0.10176279 0.11041981\n",
      "  0.10821335 0.10152914 0.09655897 0.09534158]\n",
      " [0.09838825 0.09086733 0.09824041 0.09297477 0.10847559 0.10000854\n",
      "  0.10873063 0.10416565 0.09759682 0.10055201]\n",
      " [0.09736931 0.09298376 0.09874599 0.09609794 0.09296834 0.10223642\n",
      "  0.11445789 0.10909213 0.09846467 0.09758355]\n",
      " [0.10035135 0.09812222 0.10284169 0.10197955 0.09324048 0.09972636\n",
      "  0.10807861 0.10966131 0.09215101 0.09384739]\n",
      " [0.09739265 0.10131853 0.09668043 0.09789774 0.09677817 0.10319192\n",
      "  0.10689583 0.10411402 0.09895161 0.09677918]\n",
      " [0.10103763 0.09248638 0.09342838 0.10288879 0.0974825  0.09983546\n",
      "  0.10419704 0.10921064 0.0979965  0.1014367 ]\n",
      " [0.09512059 0.10605281 0.10022039 0.10428898 0.09379601 0.10509899\n",
      "  0.10984622 0.10507767 0.09252884 0.08796956]\n",
      " [0.10211895 0.10027999 0.09844809 0.10051522 0.10146421 0.10176104\n",
      "  0.09869067 0.10567302 0.09604946 0.09499935]\n",
      " [0.09837492 0.09537918 0.09561582 0.10057834 0.09659639 0.10219693\n",
      "  0.10589579 0.11538284 0.09630203 0.09367778]\n",
      " [0.10898745 0.09278699 0.09921022 0.09730892 0.09583367 0.10226281\n",
      "  0.10340357 0.10157513 0.09916443 0.09946682]\n",
      " [0.10186359 0.09674077 0.10101204 0.09954483 0.0925711  0.10133115\n",
      "  0.10643627 0.10874032 0.09393912 0.0978208 ]\n",
      " [0.09764482 0.10179335 0.09125855 0.09937456 0.09465097 0.10022107\n",
      "  0.1119646  0.10243618 0.09972728 0.10092869]\n",
      " [0.10476827 0.10054486 0.09639952 0.09498835 0.09421421 0.10277037\n",
      "  0.10674617 0.10207017 0.1015413  0.09595676]\n",
      " [0.11048882 0.09131344 0.09455074 0.09888612 0.10046876 0.09656287\n",
      "  0.10762448 0.1061822  0.09972596 0.09419665]\n",
      " [0.09464212 0.09362197 0.09818155 0.10108664 0.10355708 0.10040769\n",
      "  0.10320132 0.108442   0.10046211 0.09639753]\n",
      " [0.09877229 0.09957962 0.0954331  0.09815957 0.09569319 0.10170492\n",
      "  0.10087777 0.11333323 0.09688535 0.09956104]\n",
      " [0.10583417 0.09728666 0.09525053 0.09899179 0.09451941 0.10469571\n",
      "  0.10234412 0.1087817  0.09839198 0.09390389]\n",
      " [0.10077531 0.09876804 0.09779668 0.09616329 0.0996837  0.10672025\n",
      "  0.09972701 0.10366642 0.09526588 0.10143349]\n",
      " [0.10208251 0.09583443 0.09898628 0.09821752 0.1009834  0.09833997\n",
      "  0.10347028 0.10770451 0.10218219 0.09219897]\n",
      " [0.10132356 0.09332749 0.10325356 0.09252503 0.09478312 0.10563996\n",
      "  0.11023873 0.11778574 0.09521767 0.0859052 ]\n",
      " [0.10336276 0.08711283 0.09764559 0.09552862 0.09804702 0.10055318\n",
      "  0.11179951 0.10500862 0.10479131 0.09615054]\n",
      " [0.09986412 0.09581018 0.0981281  0.09756667 0.09539042 0.09700923\n",
      "  0.109083   0.11332442 0.09885132 0.09497251]\n",
      " [0.09773212 0.09358136 0.09997905 0.10450935 0.09568431 0.10558133\n",
      "  0.10141599 0.11495975 0.09478012 0.09177662]\n",
      " [0.09573442 0.1013009  0.0975503  0.09351723 0.10014705 0.10072877\n",
      "  0.10125662 0.10936385 0.10244341 0.09795743]\n",
      " [0.10235494 0.09890009 0.09393687 0.10353924 0.09524611 0.09518522\n",
      "  0.10315252 0.107088   0.10116977 0.09942727]\n",
      " [0.10460121 0.09962138 0.09127033 0.10110246 0.096304   0.09806722\n",
      "  0.1072937  0.10978881 0.0938178  0.098133  ]\n",
      " [0.10745783 0.10014548 0.10172805 0.10175224 0.08806551 0.09810773\n",
      "  0.1018272  0.10775173 0.09710954 0.09605473]\n",
      " [0.10184548 0.09850616 0.09272005 0.09671027 0.10387192 0.10022112\n",
      "  0.10771592 0.10079773 0.10270194 0.09490944]\n",
      " [0.09790032 0.09833766 0.09866141 0.0966825  0.09768888 0.10703731\n",
      "  0.09947596 0.10582051 0.10481634 0.09357906]\n",
      " [0.10325629 0.10203184 0.09763262 0.09782774 0.09769841 0.0966361\n",
      "  0.10197256 0.11161813 0.09986616 0.09146011]\n",
      " [0.10192891 0.09408502 0.09782211 0.09863773 0.10061681 0.10119291\n",
      "  0.10602547 0.10242806 0.09365337 0.10360967]\n",
      " [0.11109565 0.09157303 0.09851238 0.09981319 0.09614208 0.09881925\n",
      "  0.10121433 0.10269652 0.10228925 0.09784433]\n",
      " [0.09747349 0.09835755 0.08910257 0.09797519 0.10287736 0.10664478\n",
      "  0.10876047 0.10155424 0.10073669 0.09651764]\n",
      " [0.10145954 0.10195692 0.10080799 0.10071426 0.09204709 0.09810433\n",
      "  0.10536379 0.10174463 0.10103116 0.09677026]\n",
      " [0.10341827 0.09188871 0.09680963 0.10106528 0.09711727 0.10531291\n",
      "  0.10446744 0.10740694 0.09325615 0.09925736]\n",
      " [0.10226376 0.09136322 0.1039961  0.09161762 0.10509024 0.09829035\n",
      "  0.10817646 0.10572336 0.09773072 0.09574816]\n",
      " [0.09816213 0.09382956 0.09920008 0.10369249 0.09548718 0.0982497\n",
      "  0.10538583 0.10748942 0.10341252 0.095091  ]\n",
      " [0.10208441 0.10604335 0.09570159 0.09439715 0.09734531 0.09263597\n",
      "  0.10431504 0.11256521 0.09289045 0.10202152]\n",
      " [0.09749617 0.09701182 0.08998961 0.09895579 0.10165571 0.10676121\n",
      "  0.10991563 0.10359152 0.09847241 0.09615008]\n",
      " [0.10334937 0.09512936 0.09598377 0.09586192 0.10324495 0.10435503\n",
      "  0.10550524 0.1053296  0.09354278 0.09769796]\n",
      " [0.09475357 0.10045097 0.09410784 0.09492279 0.09990855 0.10595683\n",
      "  0.10528652 0.10995544 0.09333254 0.10132505]\n",
      " [0.09823901 0.09206732 0.09949476 0.09859601 0.10232892 0.101622\n",
      "  0.10091507 0.1071861  0.10126304 0.09828776]\n",
      " [0.1023576  0.09804756 0.09550685 0.09732477 0.09567413 0.10396644\n",
      "  0.10227334 0.10666634 0.10099562 0.09718741]\n",
      " [0.10336365 0.09867752 0.09490871 0.10262772 0.0976033  0.0988272\n",
      "  0.09669724 0.10568367 0.10355151 0.09805957]\n",
      " [0.10666527 0.09290284 0.09862463 0.09897147 0.0971286  0.0941036\n",
      "  0.10615128 0.10862788 0.09488581 0.10193861]\n",
      " [0.10251518 0.10261064 0.09186976 0.09579895 0.09818602 0.10541458\n",
      "  0.10381643 0.10659128 0.09379435 0.09940276]\n",
      " [0.10049955 0.09491001 0.09529214 0.10271903 0.10261902 0.10102433\n",
      "  0.10164002 0.10334757 0.09616417 0.10178416]\n",
      " [0.10249433 0.09897387 0.0953978  0.0983068  0.09299235 0.0985728\n",
      "  0.09989816 0.1058818  0.10447045 0.10301159]\n",
      " [0.10280135 0.09062389 0.09743722 0.10454729 0.09261873 0.1073426\n",
      "  0.10052212 0.10982843 0.10399685 0.09028149]\n",
      " [0.09816696 0.10024706 0.09930985 0.09640696 0.10143583 0.1030606\n",
      "  0.10939699 0.10584923 0.09575213 0.09037431]\n",
      " [0.10031363 0.09580322 0.09701532 0.09888117 0.09794863 0.09703635\n",
      "  0.10190044 0.11188228 0.0998314  0.09938754]\n",
      " [0.10288084 0.09681466 0.09652783 0.10024863 0.09782591 0.10349999\n",
      "  0.0976975  0.10682846 0.10138065 0.09629557]\n",
      " [0.10006556 0.09875899 0.09754428 0.10089534 0.09335951 0.09957122\n",
      "  0.1064708  0.10221465 0.10594242 0.09517724]\n",
      " [0.0908452  0.09668586 0.10514075 0.10653249 0.09872958 0.09712119\n",
      "  0.10522497 0.11428477 0.09433332 0.09110191]\n",
      " [0.10088041 0.09880381 0.10057002 0.10063594 0.09729825 0.09894492\n",
      "  0.1000793  0.10365178 0.10055188 0.09858364]\n",
      " [0.09895151 0.09573297 0.09926905 0.09696201 0.09787785 0.1027041\n",
      "  0.10648324 0.10398699 0.10317221 0.09486007]\n",
      " [0.09357879 0.10259674 0.09785781 0.10236043 0.09689371 0.09674092\n",
      "  0.10764915 0.10291931 0.09763117 0.101772  ]\n",
      " [0.10144629 0.09739614 0.09680286 0.10040548 0.09683882 0.10597759\n",
      "  0.10029482 0.10758808 0.09823495 0.09501494]\n",
      " [0.09840481 0.09189399 0.09258839 0.09870115 0.09845871 0.10610681\n",
      "  0.10808936 0.11001383 0.09771807 0.0980249 ]\n",
      " [0.09991304 0.09550529 0.09994785 0.1002811  0.09948335 0.10207585\n",
      "  0.10343824 0.10609036 0.09684741 0.09641753]]\n",
      "INFO:tensorflow:loss = 2.310216, step = 2\n",
      "INFO:tensorflow:probabilities = [[0.09914533 0.09628407 0.09974565 0.11050266 0.09967455 0.09739833\n",
      "  0.10405238 0.10537577 0.09704834 0.09077295]\n",
      " [0.0944222  0.09741107 0.09507043 0.09990111 0.10657349 0.10014537\n",
      "  0.1004544  0.10696644 0.09815914 0.1008963 ]\n",
      " [0.10278305 0.09653497 0.09196593 0.10014015 0.10238287 0.10195266\n",
      "  0.09951375 0.10127247 0.09688762 0.10656659]\n",
      " [0.09875686 0.09714472 0.09712677 0.1006477  0.09706478 0.095473\n",
      "  0.10456286 0.10772905 0.10097095 0.10052334]\n",
      " [0.10098527 0.10014577 0.09981336 0.09657635 0.10122368 0.09952042\n",
      "  0.09827452 0.10549861 0.09911039 0.09885158]\n",
      " [0.10146025 0.09351805 0.09272102 0.10106315 0.09399872 0.09573825\n",
      "  0.11018601 0.1118414  0.1030068  0.09646642]\n",
      " [0.0995449  0.10274334 0.09838191 0.09602887 0.0933727  0.10180186\n",
      "  0.10522558 0.10545758 0.0997887  0.09765457]\n",
      " [0.10560262 0.09256039 0.09626185 0.09669108 0.09243914 0.10916518\n",
      "  0.10631766 0.11015335 0.09434327 0.09646547]\n",
      " [0.1046892  0.09800451 0.09578542 0.09793261 0.09224085 0.10943242\n",
      "  0.1016675  0.10643107 0.09902617 0.09479027]\n",
      " [0.10220114 0.10025837 0.09774069 0.1016902  0.09099211 0.09565612\n",
      "  0.10508783 0.10744166 0.10194217 0.0969897 ]\n",
      " [0.10199279 0.09896483 0.10064102 0.09886942 0.09935585 0.09270066\n",
      "  0.10531472 0.10802925 0.09757167 0.09655979]\n",
      " [0.10357779 0.09370215 0.09441637 0.10162763 0.09512915 0.10073102\n",
      "  0.10251916 0.11497954 0.09886418 0.09445304]\n",
      " [0.10748454 0.0947182  0.09602165 0.10107866 0.09215996 0.10535949\n",
      "  0.10520243 0.10265686 0.09730873 0.09800946]\n",
      " [0.10334988 0.09665757 0.10163613 0.09805699 0.09689675 0.0990003\n",
      "  0.10077503 0.11044976 0.09418106 0.09899648]\n",
      " [0.09393045 0.09661314 0.10072251 0.09769145 0.09536167 0.10689719\n",
      "  0.1050769  0.10746845 0.09538548 0.10085277]\n",
      " [0.10452446 0.09813754 0.09153186 0.10363188 0.09420153 0.10140159\n",
      "  0.10632332 0.10482451 0.09637788 0.09904544]\n",
      " [0.10132476 0.09708479 0.09608991 0.1019021  0.09624626 0.09707667\n",
      "  0.09836015 0.10919955 0.10261331 0.10010243]\n",
      " [0.10041854 0.10125817 0.09742656 0.10228028 0.10099244 0.09709442\n",
      "  0.10411123 0.10477542 0.0951494  0.0964935 ]\n",
      " [0.10434075 0.1008649  0.09234355 0.10228022 0.0933555  0.09237175\n",
      "  0.10063858 0.10890584 0.10140029 0.10349855]\n",
      " [0.09690332 0.09761149 0.09258347 0.09831494 0.09685419 0.10526194\n",
      "  0.10911058 0.10725471 0.09861383 0.09749158]\n",
      " [0.10106073 0.09936225 0.09713457 0.10143386 0.09543749 0.09753712\n",
      "  0.09833033 0.10914604 0.09691098 0.10364664]\n",
      " [0.10325126 0.09711904 0.10332803 0.09419748 0.09632318 0.09555374\n",
      "  0.10868616 0.10852322 0.10193799 0.09107991]\n",
      " [0.10139966 0.09721157 0.09922943 0.0953562  0.09956872 0.0943312\n",
      "  0.10979661 0.10224248 0.09447474 0.10638936]\n",
      " [0.10833337 0.09273361 0.098783   0.09534128 0.09634665 0.09238426\n",
      "  0.10355207 0.10980311 0.10266808 0.10005459]\n",
      " [0.10039917 0.09924499 0.09766664 0.09724598 0.09296627 0.10504687\n",
      "  0.10130858 0.10755523 0.0985413  0.10002495]\n",
      " [0.10271808 0.09091591 0.09690371 0.10422879 0.09424803 0.10169828\n",
      "  0.10410831 0.10454603 0.10040187 0.10023103]\n",
      " [0.10155856 0.09631362 0.09943474 0.09832042 0.09631579 0.09857357\n",
      "  0.10590357 0.11021651 0.09294305 0.10042012]\n",
      " [0.10076407 0.10093223 0.090868   0.10463641 0.10237146 0.10461847\n",
      "  0.10767474 0.10405183 0.09395611 0.09012671]\n",
      " [0.10554548 0.09180617 0.0965829  0.09645698 0.09461635 0.10098457\n",
      "  0.10608561 0.10551864 0.10437575 0.09802756]\n",
      " [0.10287976 0.09743833 0.10131468 0.10471681 0.0977466  0.10102116\n",
      "  0.09582938 0.10723132 0.09921444 0.09260751]\n",
      " [0.09780014 0.09855562 0.09572798 0.09853534 0.10077402 0.1026657\n",
      "  0.10438403 0.10443881 0.10141928 0.09569912]\n",
      " [0.10025249 0.09567557 0.09830034 0.09935448 0.09895401 0.0970013\n",
      "  0.10515426 0.10730281 0.09938446 0.09862029]\n",
      " [0.10036821 0.10001002 0.09443001 0.09910485 0.10225175 0.10091337\n",
      "  0.10779303 0.09971064 0.10113525 0.09428294]\n",
      " [0.10153746 0.09679343 0.09503847 0.09965359 0.10058145 0.09822849\n",
      "  0.10436306 0.10254062 0.09900432 0.10225909]\n",
      " [0.10553069 0.09888184 0.10361781 0.10269707 0.09307396 0.09806126\n",
      "  0.09680829 0.11249694 0.09647708 0.09235507]\n",
      " [0.09973852 0.09881207 0.09301579 0.09793846 0.1000509  0.10172964\n",
      "  0.10478023 0.10107429 0.10379601 0.0990641 ]\n",
      " [0.10119173 0.09721809 0.10159688 0.09016442 0.09739225 0.09871535\n",
      "  0.10599071 0.10533229 0.10364042 0.09875795]\n",
      " [0.10595613 0.09536584 0.09678748 0.09858029 0.09699154 0.09733931\n",
      "  0.10149796 0.11786401 0.09653629 0.09308118]\n",
      " [0.10274607 0.09726351 0.10027234 0.09636942 0.0952328  0.09618853\n",
      "  0.10763336 0.10519743 0.09607519 0.10302143]\n",
      " [0.09495882 0.1003659  0.09900101 0.09552921 0.09986167 0.10840545\n",
      "  0.10780004 0.10565868 0.10089334 0.08752585]\n",
      " [0.10397042 0.09423061 0.10156665 0.10071318 0.09555746 0.10055917\n",
      "  0.10139427 0.10665307 0.09773815 0.09761705]\n",
      " [0.10143747 0.09900066 0.10199764 0.09976308 0.0952346  0.09873082\n",
      "  0.10445986 0.10709285 0.09862908 0.0936539 ]\n",
      " [0.10042442 0.10098439 0.09076099 0.09856684 0.09890259 0.09806947\n",
      "  0.10135619 0.10604915 0.10074532 0.10414064]\n",
      " [0.10056005 0.09562288 0.10205221 0.09963074 0.09487107 0.09733794\n",
      "  0.10432305 0.10971513 0.100257   0.09562994]\n",
      " [0.1063538  0.09702794 0.09742787 0.0959518  0.10016648 0.10408104\n",
      "  0.10298088 0.10562492 0.0947464  0.0956388 ]\n",
      " [0.104455   0.09638102 0.09386635 0.08943886 0.09739494 0.10955429\n",
      "  0.10412367 0.10724541 0.09606367 0.10147682]\n",
      " [0.09805576 0.09766708 0.09401015 0.09892741 0.10658283 0.09928011\n",
      "  0.10006936 0.1052326  0.10163668 0.09853808]\n",
      " [0.09803486 0.09752534 0.10026592 0.0994078  0.09875498 0.09953924\n",
      "  0.10261972 0.10932727 0.10022328 0.09430165]\n",
      " [0.09684425 0.09682535 0.09935893 0.09591293 0.10721805 0.10523937\n",
      "  0.10434671 0.10348149 0.09085671 0.09991624]\n",
      " [0.10210948 0.09225696 0.09786948 0.09309708 0.09953495 0.09921706\n",
      "  0.1081914  0.10996176 0.09821416 0.0995477 ]\n",
      " [0.09406012 0.10290581 0.09334026 0.09749801 0.10464425 0.10013876\n",
      "  0.10837037 0.10597654 0.09467877 0.09838708]\n",
      " [0.10126847 0.09657026 0.09847882 0.09421422 0.10015241 0.10084747\n",
      "  0.10452405 0.10341936 0.10159665 0.09892832]\n",
      " [0.10434235 0.09213338 0.10131665 0.09797838 0.09704161 0.09992938\n",
      "  0.10484739 0.1068361  0.09909927 0.09647549]\n",
      " [0.1040172  0.09655725 0.09498847 0.09885087 0.09939406 0.09870555\n",
      "  0.10396015 0.10633863 0.10064052 0.09654732]\n",
      " [0.09992468 0.09332083 0.10055842 0.09554615 0.10354343 0.10918625\n",
      "  0.10621998 0.10558282 0.08968868 0.09642874]\n",
      " [0.09733947 0.09689002 0.09306692 0.09993984 0.09807973 0.10335388\n",
      "  0.10908537 0.10200065 0.10190655 0.09833752]\n",
      " [0.10858646 0.09655283 0.09965931 0.1043156  0.09242782 0.09654404\n",
      "  0.09751307 0.10485234 0.09898268 0.10056583]\n",
      " [0.10809467 0.0990142  0.0916584  0.09805065 0.09906136 0.09628978\n",
      "  0.10264635 0.1060618  0.0984898  0.10063294]\n",
      " [0.10135776 0.09268539 0.10138573 0.09276002 0.10059661 0.09883966\n",
      "  0.10883053 0.10109477 0.10259745 0.0998521 ]\n",
      " [0.10015842 0.09464388 0.09755306 0.09449083 0.1036738  0.10529357\n",
      "  0.10450806 0.10769879 0.09690513 0.09507444]\n",
      " [0.10216115 0.09659664 0.09789421 0.09919588 0.09451354 0.09938198\n",
      "  0.10088072 0.11521897 0.10127483 0.09288201]\n",
      " [0.09897579 0.09933442 0.09932037 0.10456745 0.09422697 0.09883413\n",
      "  0.10248086 0.1056451  0.10082828 0.09578658]\n",
      " [0.1006671  0.09997397 0.09483226 0.10217869 0.09249315 0.09852504\n",
      "  0.10900117 0.10179867 0.10431831 0.09621166]\n",
      " [0.0988459  0.09899643 0.09910944 0.10204542 0.09238411 0.09563393\n",
      "  0.10775184 0.11032782 0.09555029 0.0993548 ]\n",
      " [0.10337686 0.09987596 0.09403045 0.10553628 0.09771503 0.10010373\n",
      "  0.10137727 0.10822047 0.09838176 0.09138223]\n",
      " [0.10258202 0.0989779  0.09501205 0.09724516 0.09790701 0.10117077\n",
      "  0.10896999 0.10800338 0.09499561 0.09513609]\n",
      " [0.10367935 0.09843049 0.09366436 0.09909822 0.09472908 0.09339184\n",
      "  0.10740881 0.10428058 0.10315456 0.10216273]\n",
      " [0.09435179 0.09702711 0.08909854 0.10171133 0.10352854 0.09547657\n",
      "  0.10297726 0.11060748 0.10096484 0.10425658]\n",
      " [0.09502756 0.09723766 0.09607951 0.10002433 0.1135023  0.10177663\n",
      "  0.10691371 0.09938928 0.09842587 0.09162322]\n",
      " [0.09898976 0.09718899 0.09702387 0.09942908 0.10087594 0.10792775\n",
      "  0.09692907 0.10328273 0.09536874 0.10298403]\n",
      " [0.10126541 0.09556353 0.09847265 0.10261321 0.10073853 0.09982749\n",
      "  0.10149306 0.10588305 0.09578744 0.09835561]\n",
      " [0.0984912  0.09976875 0.09624258 0.09338622 0.09868371 0.10142546\n",
      "  0.09931564 0.11033735 0.1026235  0.09972556]\n",
      " [0.10022333 0.09904161 0.09269051 0.10425659 0.09731688 0.0962185\n",
      "  0.10155313 0.10847464 0.09817811 0.1020466 ]\n",
      " [0.1044452  0.09703007 0.09877877 0.09459828 0.09786394 0.10071693\n",
      "  0.09927656 0.1051821  0.10148197 0.10062619]\n",
      " [0.10117873 0.10081405 0.09732963 0.09670116 0.10116167 0.10103446\n",
      "  0.10300232 0.11041912 0.09629801 0.09206081]\n",
      " [0.09976122 0.10125133 0.09010821 0.10036269 0.09703727 0.10285142\n",
      "  0.10714018 0.10518779 0.10004832 0.09625152]\n",
      " [0.10753248 0.09552061 0.09902957 0.09410945 0.10204437 0.0981861\n",
      "  0.10357235 0.10350904 0.10038674 0.09610925]\n",
      " [0.1016473  0.09849007 0.09759849 0.1010984  0.092581   0.10464635\n",
      "  0.10156358 0.11114127 0.09598951 0.09524403]\n",
      " [0.10676251 0.09118132 0.09018412 0.10038682 0.09717513 0.10347222\n",
      "  0.1022588  0.1089229  0.10052908 0.09912716]\n",
      " [0.10350765 0.10376183 0.09390952 0.09450452 0.09716271 0.09624062\n",
      "  0.10600028 0.10148167 0.10257043 0.10086071]\n",
      " [0.10228311 0.09454958 0.10492977 0.10435341 0.09678918 0.10297555\n",
      "  0.10207493 0.10549232 0.08655005 0.10000207]\n",
      " [0.10620137 0.09647208 0.09534287 0.093952   0.09753335 0.09684259\n",
      "  0.10669053 0.11215441 0.10069277 0.09411804]\n",
      " [0.09893117 0.09840733 0.10213853 0.1032849  0.09104162 0.09824803\n",
      "  0.1053019  0.10633232 0.09787746 0.09843673]\n",
      " [0.09389525 0.09745903 0.09697891 0.0952732  0.10091241 0.10224923\n",
      "  0.10498393 0.11234395 0.09697885 0.09892524]\n",
      " [0.09920946 0.10019637 0.0948808  0.09458384 0.10196821 0.10839257\n",
      "  0.0967608  0.09818698 0.10536622 0.10045478]\n",
      " [0.1087359  0.09548183 0.09134907 0.10561282 0.09998567 0.09657481\n",
      "  0.10445221 0.10832956 0.09059124 0.09888683]\n",
      " [0.0979318  0.09034377 0.10068405 0.10145116 0.09823138 0.10250185\n",
      "  0.10306093 0.11525217 0.09558706 0.09495579]\n",
      " [0.09854122 0.09722558 0.09995437 0.10172782 0.10285638 0.09822495\n",
      "  0.10128745 0.10350771 0.10053742 0.09613714]\n",
      " [0.10431031 0.09306774 0.10197311 0.10171044 0.09811331 0.09612047\n",
      "  0.10543117 0.10530348 0.09810486 0.09586508]\n",
      " [0.10270742 0.09689444 0.09551994 0.0988827  0.09911024 0.09887844\n",
      "  0.10437524 0.10546911 0.09936297 0.09879947]\n",
      " [0.10102556 0.09629793 0.09433678 0.09888048 0.1043667  0.10314112\n",
      "  0.09925109 0.10296512 0.09923732 0.10049794]\n",
      " [0.1100559  0.10039752 0.1015915  0.10379743 0.09803845 0.08918206\n",
      "  0.10531826 0.1030883  0.09421197 0.09431861]\n",
      " [0.10157772 0.09849118 0.10117739 0.09878813 0.0964513  0.10208523\n",
      "  0.10415627 0.0980859  0.09598199 0.10320479]\n",
      " [0.09705464 0.09510835 0.10155223 0.09782658 0.09576396 0.09851632\n",
      "  0.10870069 0.10773537 0.10211075 0.09563115]\n",
      " [0.10450102 0.08962092 0.09448811 0.09842772 0.09893546 0.09667353\n",
      "  0.1007372  0.11549222 0.10013698 0.10098679]\n",
      " [0.09525304 0.10023164 0.09693245 0.0990947  0.10591942 0.10195258\n",
      "  0.10234037 0.10145929 0.10297689 0.09383956]\n",
      " [0.10120323 0.09372388 0.09961683 0.10232818 0.10118828 0.09839194\n",
      "  0.09944882 0.11198455 0.09478647 0.09732781]\n",
      " [0.09990539 0.09571771 0.09571259 0.09515209 0.1015912  0.10366342\n",
      "  0.10394337 0.10597368 0.10444808 0.09389246]\n",
      " [0.09778869 0.09890413 0.09494907 0.10319293 0.10206512 0.09575313\n",
      "  0.09828174 0.10966482 0.09878216 0.10061812]\n",
      " [0.09900871 0.10249969 0.09953729 0.1020778  0.0946671  0.09609316\n",
      "  0.1017368  0.10705239 0.0988246  0.09850246]] (17.445 sec)\n",
      "INFO:tensorflow:global_step/sec: 2.84161\n",
      "INFO:tensorflow:probabilities = [[0.10401449 0.09487262 0.09265002 0.09155001 0.09255586 0.10774632\n",
      "  0.10872152 0.10681215 0.09504323 0.10603373]\n",
      " [0.10349514 0.09387138 0.09971905 0.10386182 0.0936192  0.09991752\n",
      "  0.10490497 0.10021117 0.10279778 0.09760188]\n",
      " [0.09894455 0.09376719 0.10122719 0.09896994 0.09647822 0.10377067\n",
      "  0.10530011 0.10881065 0.09780839 0.0949231 ]\n",
      " [0.09886697 0.09770589 0.10288589 0.10543234 0.09942775 0.10118737\n",
      "  0.09329521 0.10693291 0.09631558 0.09795007]\n",
      " [0.10391872 0.09446108 0.09513532 0.09776149 0.09944469 0.10558555\n",
      "  0.11188439 0.10431839 0.09168997 0.09580038]\n",
      " [0.10378016 0.09532961 0.09617873 0.10476542 0.10176349 0.10385361\n",
      "  0.09804455 0.10342384 0.09560527 0.09725535]\n",
      " [0.10748567 0.09362862 0.09852652 0.09754413 0.09849181 0.1001527\n",
      "  0.09875843 0.10623012 0.10570785 0.09347411]\n",
      " [0.10257915 0.0983979  0.10035251 0.09580836 0.09721106 0.0991483\n",
      "  0.09883806 0.11160796 0.10041716 0.09563953]\n",
      " [0.10350326 0.09822896 0.09107    0.10174017 0.09615979 0.09571969\n",
      "  0.10537816 0.10835258 0.10227152 0.09757593]\n",
      " [0.10659072 0.08742051 0.09919169 0.09857442 0.09699346 0.09716421\n",
      "  0.10795772 0.11309282 0.09898952 0.09402497]\n",
      " [0.10147802 0.09187708 0.09813845 0.10517456 0.10164367 0.09898797\n",
      "  0.11227258 0.10778978 0.09352449 0.08911341]\n",
      " [0.09780855 0.09912837 0.09970925 0.10142414 0.09694987 0.09947211\n",
      "  0.10165256 0.10824918 0.09663747 0.09896854]\n",
      " [0.10038449 0.09795718 0.09645702 0.10904243 0.09315584 0.1068953\n",
      "  0.10429508 0.10624449 0.08957169 0.09599645]\n",
      " [0.10474715 0.09220372 0.0999372  0.10163662 0.0943265  0.10187743\n",
      "  0.10234556 0.10780638 0.09701563 0.09810377]\n",
      " [0.10063844 0.09480711 0.09507605 0.09784471 0.10600074 0.09816378\n",
      "  0.09695683 0.10742616 0.10313819 0.09994794]\n",
      " [0.10418141 0.09580192 0.104885   0.0891876  0.10612176 0.10353889\n",
      "  0.10218537 0.10119383 0.09941517 0.09348898]\n",
      " [0.1056553  0.09462662 0.09767999 0.09949896 0.09793836 0.10205957\n",
      "  0.11392687 0.10111175 0.09414975 0.09335276]\n",
      " [0.10005537 0.09847996 0.09644856 0.10663947 0.10100726 0.09837509\n",
      "  0.10218973 0.11048926 0.09719085 0.0891244 ]\n",
      " [0.10329442 0.09790763 0.09712855 0.10319127 0.09837209 0.0956645\n",
      "  0.10089833 0.11002788 0.09761607 0.09589934]\n",
      " [0.10502163 0.09471197 0.09802902 0.10232114 0.09844256 0.10771682\n",
      "  0.0989579  0.10818651 0.09439597 0.09221651]\n",
      " [0.10129846 0.09507602 0.09191107 0.09571311 0.09963411 0.09738561\n",
      "  0.10930481 0.11290161 0.09945651 0.09731872]\n",
      " [0.09706659 0.09154174 0.09499209 0.10051781 0.0950491  0.09884528\n",
      "  0.10569163 0.11242682 0.10106029 0.10280867]\n",
      " [0.09480251 0.09219756 0.10238906 0.10964279 0.08986411 0.10020328\n",
      "  0.09766923 0.11232974 0.10212133 0.0987804 ]\n",
      " [0.0979517  0.0980157  0.0973816  0.10338778 0.10049435 0.10119063\n",
      "  0.10714877 0.10220279 0.09633373 0.09589291]\n",
      " [0.09464607 0.09215516 0.09916852 0.10831083 0.09911278 0.09738878\n",
      "  0.10711513 0.10253145 0.0973323  0.102239  ]\n",
      " [0.10250577 0.09774538 0.10119639 0.09876602 0.09420238 0.09737378\n",
      "  0.10157047 0.10627367 0.10286241 0.0975037 ]\n",
      " [0.10612573 0.09560698 0.09989698 0.09781875 0.09447678 0.10225863\n",
      "  0.10027487 0.10480984 0.1003998  0.09833162]\n",
      " [0.10046992 0.09719166 0.0991108  0.09825811 0.09701307 0.09799647\n",
      "  0.10626427 0.10442022 0.09836619 0.10090926]\n",
      " [0.10208292 0.09421649 0.10399761 0.09798308 0.09929221 0.09843916\n",
      "  0.10051367 0.10581149 0.09888653 0.09877682]\n",
      " [0.10621721 0.08611486 0.0981924  0.09683847 0.10079242 0.10518403\n",
      "  0.10522909 0.10918761 0.09386574 0.09837818]\n",
      " [0.10426908 0.09609702 0.10369923 0.09568106 0.09160513 0.10282837\n",
      "  0.10674107 0.10519196 0.09448527 0.09940176]\n",
      " [0.10200787 0.10134248 0.09948545 0.10196581 0.09923303 0.09954677\n",
      "  0.09867816 0.10036287 0.10093549 0.09644209]\n",
      " [0.10189141 0.09316362 0.09486359 0.09839354 0.09528088 0.09971825\n",
      "  0.10655703 0.10239966 0.10271516 0.10501686]\n",
      " [0.10883053 0.09878004 0.09122529 0.09883855 0.09700061 0.09371501\n",
      "  0.10252206 0.10502459 0.10225941 0.10180396]\n",
      " [0.09937612 0.09237839 0.09142936 0.09644955 0.10295969 0.10506156\n",
      "  0.10395495 0.10650937 0.09666079 0.10522018]\n",
      " [0.10188786 0.09767489 0.09492356 0.09632365 0.0942257  0.09934113\n",
      "  0.10903702 0.10091276 0.09948315 0.10619017]\n",
      " [0.09954634 0.10076382 0.10219558 0.09936055 0.09508158 0.09911007\n",
      "  0.10106403 0.10683763 0.10169949 0.09434092]\n",
      " [0.09459013 0.10123239 0.095411   0.10169287 0.09529933 0.10240988\n",
      "  0.10673048 0.09943289 0.10168944 0.10151165]\n",
      " [0.09837224 0.08715151 0.09966896 0.10579334 0.09648298 0.09687769\n",
      "  0.10430465 0.1158393  0.10104077 0.09446859]\n",
      " [0.10294429 0.09857456 0.09715611 0.1020669  0.09267004 0.09675708\n",
      "  0.10017343 0.10664003 0.10657701 0.09644058]\n",
      " [0.096569   0.09947625 0.09851201 0.10740668 0.0907758  0.09614045\n",
      "  0.10392442 0.10999867 0.09353515 0.10366165]\n",
      " [0.1012812  0.09756772 0.09817909 0.09651158 0.10034093 0.10232969\n",
      "  0.11155726 0.09950029 0.09746407 0.09526818]\n",
      " [0.10328822 0.09548093 0.0951925  0.10468506 0.09621213 0.10124005\n",
      "  0.110196   0.10167821 0.09517697 0.09684999]\n",
      " [0.09938842 0.09512763 0.09673463 0.10227638 0.09753912 0.09994601\n",
      "  0.10481027 0.10064366 0.09995628 0.10357758]\n",
      " [0.10558198 0.10160916 0.10089148 0.09933245 0.0987836  0.09684878\n",
      "  0.09816485 0.10287539 0.09690282 0.09900944]\n",
      " [0.09903044 0.09938192 0.09681427 0.09868054 0.10161527 0.10086012\n",
      "  0.10209731 0.11212323 0.09419795 0.09519898]\n",
      " [0.09988042 0.09132888 0.09275404 0.09230755 0.0987002  0.10771512\n",
      "  0.10401564 0.11276083 0.10161824 0.09891916]\n",
      " [0.10277067 0.09579804 0.09917726 0.09967732 0.10032447 0.09058626\n",
      "  0.09630769 0.10878802 0.10534769 0.10122252]\n",
      " [0.10202179 0.09647935 0.09749728 0.09933148 0.09724417 0.09800517\n",
      "  0.10142882 0.11150662 0.09897023 0.09751508]\n",
      " [0.09874079 0.09585395 0.0956675  0.09565001 0.10753278 0.101244\n",
      "  0.1032593  0.10745917 0.09918214 0.09541035]\n",
      " [0.10124768 0.10585808 0.09220495 0.10235039 0.09190256 0.10484138\n",
      "  0.10173091 0.1060816  0.0990612  0.09472119]\n",
      " [0.09978824 0.09899116 0.09045636 0.10409858 0.10528921 0.09373365\n",
      "  0.09890215 0.11237571 0.100304   0.09606092]\n",
      " [0.1027442  0.09514913 0.10068471 0.09801303 0.0994126  0.09857085\n",
      "  0.10062347 0.11381852 0.09652174 0.09446174]\n",
      " [0.09815718 0.09728567 0.09745724 0.10232151 0.09744597 0.0979473\n",
      "  0.1077867  0.10534322 0.09559137 0.10066372]\n",
      " [0.10334431 0.09181118 0.09573353 0.09830167 0.09853277 0.10362885\n",
      "  0.10173409 0.10812256 0.10442451 0.0943666 ]\n",
      " [0.10170167 0.09759244 0.09910871 0.09825946 0.10088944 0.0939742\n",
      "  0.10105058 0.10513376 0.10137793 0.10091183]\n",
      " [0.09566002 0.09998304 0.09361455 0.10387231 0.102852   0.1004933\n",
      "  0.10138291 0.10613994 0.09692369 0.09907825]\n",
      " [0.09732236 0.09640361 0.09592963 0.10353909 0.0948016  0.10138126\n",
      "  0.10348497 0.11083996 0.0947855  0.10151204]\n",
      " [0.10248078 0.1041008  0.10077836 0.09565116 0.09402402 0.1036039\n",
      "  0.10331954 0.10994836 0.0926632  0.09342983]\n",
      " [0.09719782 0.09207489 0.09042592 0.10252661 0.09738903 0.10399991\n",
      "  0.10600043 0.11641952 0.09745353 0.09651226]\n",
      " [0.1039729  0.09191258 0.0927468  0.09929857 0.09989963 0.10087266\n",
      "  0.10788699 0.10287621 0.09962294 0.10091069]\n",
      " [0.09814692 0.0993671  0.0975327  0.09807096 0.09810221 0.10400277\n",
      "  0.10537004 0.10487818 0.09501418 0.09951486]\n",
      " [0.09927602 0.09252029 0.10092601 0.09439439 0.1002806  0.10442829\n",
      "  0.10675088 0.10794158 0.09608291 0.09739906]\n",
      " [0.10292003 0.09868287 0.10074016 0.10107188 0.09249963 0.09927718\n",
      "  0.1069114  0.10640854 0.09677087 0.0947174 ]\n",
      " [0.10454384 0.097407   0.09877338 0.09659676 0.09817907 0.09663015\n",
      "  0.10656606 0.10204104 0.10167789 0.09758492]\n",
      " [0.10333674 0.09974918 0.10289383 0.10242973 0.09384049 0.09683552\n",
      "  0.09869483 0.11278803 0.10073236 0.08869928]\n",
      " [0.10863129 0.08562255 0.09627235 0.09680285 0.09850809 0.10158915\n",
      "  0.11009376 0.10234825 0.09592116 0.10421053]\n",
      " [0.10609384 0.0922214  0.1072616  0.09221283 0.10442812 0.09599923\n",
      "  0.10439879 0.11408915 0.09449098 0.08880398]\n",
      " [0.10167458 0.09615131 0.09528525 0.0995863  0.09873936 0.10229272\n",
      "  0.10520928 0.09983367 0.0971647  0.10406281]\n",
      " [0.09991696 0.09636241 0.10059217 0.09641563 0.09706406 0.10022426\n",
      "  0.10437942 0.1053361  0.09908706 0.10062194]\n",
      " [0.09870464 0.09749948 0.09620842 0.10649399 0.09740143 0.09784561\n",
      "  0.0966901  0.10743031 0.1000236  0.10170239]\n",
      " [0.10626727 0.0941877  0.10100073 0.09961669 0.09641765 0.09391212\n",
      "  0.1059871  0.10369778 0.10430501 0.09460789]\n",
      " [0.10236468 0.09957942 0.0952504  0.10057522 0.09435258 0.10514783\n",
      "  0.10192672 0.10984355 0.09869177 0.09226776]\n",
      " [0.09627468 0.097762   0.09689449 0.09928415 0.09787537 0.10072728\n",
      "  0.10802372 0.10403223 0.09959617 0.09952991]\n",
      " [0.09609315 0.09895571 0.10007098 0.09632967 0.09881158 0.10602682\n",
      "  0.10155123 0.10713461 0.09668802 0.09833829]\n",
      " [0.10583212 0.09479021 0.10029891 0.10208976 0.09560416 0.10162628\n",
      "  0.10684363 0.10345367 0.09452771 0.09493358]\n",
      " [0.10647779 0.09319305 0.10247892 0.0962956  0.09799046 0.09831859\n",
      "  0.10858708 0.10640735 0.09761747 0.09263372]\n",
      " [0.10950618 0.0974423  0.09688994 0.09910073 0.09840892 0.10053343\n",
      "  0.10514684 0.09968995 0.09969898 0.09358279]\n",
      " [0.09354647 0.09100746 0.09696195 0.10148117 0.09770483 0.10415538\n",
      "  0.10072263 0.10768396 0.10537044 0.10136576]\n",
      " [0.10566671 0.09839989 0.101242   0.10153372 0.09693595 0.09905161\n",
      "  0.10004086 0.1003159  0.10169046 0.09512288]\n",
      " [0.09749749 0.10016357 0.10250951 0.10316757 0.09577866 0.09727755\n",
      "  0.10030171 0.10382949 0.10182446 0.09764995]\n",
      " [0.10205742 0.09794448 0.09606384 0.0929006  0.10476196 0.10214299\n",
      "  0.10072551 0.10615225 0.10218807 0.09506287]\n",
      " [0.10585453 0.10243297 0.09596135 0.09287261 0.09768892 0.1024267\n",
      "  0.10416281 0.1080337  0.09556196 0.09500441]\n",
      " [0.10543533 0.09632785 0.09257509 0.10218666 0.09838457 0.10214742\n",
      "  0.09718985 0.11035774 0.09857284 0.09682266]\n",
      " [0.10075744 0.09405421 0.09940401 0.09409583 0.0978656  0.1028892\n",
      "  0.10245786 0.10948689 0.09766837 0.10132058]\n",
      " [0.10143586 0.10443646 0.09565847 0.0960442  0.09300005 0.09730809\n",
      "  0.1023773  0.10850984 0.099724   0.10150569]\n",
      " [0.1093808  0.09973603 0.09553441 0.09896404 0.09770418 0.09534664\n",
      "  0.10169611 0.10007925 0.10132258 0.10023594]\n",
      " [0.104955   0.09601612 0.09612297 0.10201974 0.09324598 0.10076423\n",
      "  0.10177306 0.10905624 0.09683619 0.09921047]\n",
      " [0.09836775 0.09631263 0.10448218 0.10213461 0.09959309 0.1011632\n",
      "  0.10276488 0.10997396 0.09298138 0.0922263 ]\n",
      " [0.10530284 0.09763232 0.09561457 0.09633023 0.09973218 0.09780189\n",
      "  0.10758425 0.10065158 0.10743586 0.09191426]\n",
      " [0.10812014 0.10134562 0.10149551 0.09870189 0.10120767 0.09139831\n",
      "  0.09820471 0.10738873 0.09623256 0.09590479]\n",
      " [0.10238954 0.09654451 0.09900253 0.10578743 0.09548978 0.0948585\n",
      "  0.10132672 0.10241384 0.10251123 0.09967586]\n",
      " [0.10230624 0.09782223 0.09639739 0.10024966 0.09089281 0.09733883\n",
      "  0.10689308 0.10340162 0.10367804 0.10102006]\n",
      " [0.10469233 0.09779104 0.09357922 0.09951452 0.09448399 0.09942639\n",
      "  0.10359084 0.10402447 0.1038138  0.09908342]\n",
      " [0.09826524 0.09824958 0.0974006  0.09584065 0.09637665 0.09838421\n",
      "  0.10005281 0.11412506 0.10041135 0.10089377]\n",
      " [0.09986278 0.10359769 0.10289139 0.09944796 0.09904476 0.09467055\n",
      "  0.09775949 0.10346731 0.10240981 0.09684822]\n",
      " [0.10148562 0.09843691 0.10084477 0.10093732 0.09751754 0.09735966\n",
      "  0.10297027 0.11241002 0.09416579 0.09387208]\n",
      " [0.10504516 0.09364242 0.0970521  0.09673802 0.10631932 0.10474493\n",
      "  0.09833538 0.10811342 0.09818245 0.09182682]\n",
      " [0.10357458 0.098685   0.1005325  0.10175704 0.09530072 0.09623863\n",
      "  0.10413858 0.10526349 0.10310721 0.09140224]\n",
      " [0.10172383 0.09508023 0.09768051 0.09808322 0.10000621 0.10146597\n",
      "  0.10071591 0.10337215 0.10035335 0.1015186 ]] (17.748 sec)\n",
      "INFO:tensorflow:loss = 2.2953653, step = 102 (35.195 sec)\n",
      "INFO:tensorflow:probabilities = [[0.09632105 0.09912276 0.09514109 0.10022934 0.09178196 0.09638026\n",
      "  0.11105516 0.11010249 0.10197642 0.09788953]\n",
      " [0.10043613 0.10056065 0.0954091  0.10126718 0.09625173 0.10040886\n",
      "  0.10555187 0.10376286 0.09804987 0.09830176]\n",
      " [0.10152552 0.09928676 0.09744588 0.09829647 0.10104854 0.10068042\n",
      "  0.1042687  0.10219377 0.09502596 0.100228  ]\n",
      " [0.09475214 0.09718683 0.09942155 0.10968701 0.09735178 0.09739497\n",
      "  0.10377978 0.10509866 0.09924618 0.09608114]\n",
      " [0.09839399 0.09590732 0.09782121 0.09999333 0.0966349  0.09794247\n",
      "  0.10375965 0.10922466 0.10287845 0.09744401]\n",
      " [0.09705218 0.0912708  0.10284962 0.09973009 0.10032295 0.10177317\n",
      "  0.10219605 0.1066598  0.09815025 0.09999514]\n",
      " [0.09853554 0.09477071 0.10213318 0.09566732 0.09919018 0.09395036\n",
      "  0.10914408 0.10724843 0.09906122 0.10029904]\n",
      " [0.10389473 0.10138923 0.09361883 0.09824634 0.09906972 0.09758532\n",
      "  0.10051543 0.10784309 0.10137212 0.09646516]\n",
      " [0.10550072 0.09604163 0.10191058 0.09623545 0.09512381 0.09863891\n",
      "  0.10447157 0.10340064 0.09930995 0.09936678]\n",
      " [0.10765006 0.09076548 0.10167355 0.09486501 0.09394789 0.10096759\n",
      "  0.10553362 0.10468403 0.10230146 0.09761129]\n",
      " [0.09907687 0.10084394 0.10461842 0.10091809 0.09095372 0.09685367\n",
      "  0.10686028 0.10283274 0.0978502  0.09919208]\n",
      " [0.09516221 0.09377275 0.1000084  0.0902662  0.09907661 0.10272133\n",
      "  0.11210829 0.10467457 0.10144495 0.10076462]\n",
      " [0.09742397 0.10733584 0.10054523 0.09749015 0.09678315 0.10306421\n",
      "  0.10744241 0.10568487 0.09221774 0.09201249]\n",
      " [0.1026566  0.09206734 0.1010388  0.10064925 0.09961523 0.09643915\n",
      "  0.09887994 0.10619343 0.10332672 0.09913354]\n",
      " [0.10391874 0.0983441  0.09700569 0.10115663 0.09665633 0.09373724\n",
      "  0.10449386 0.10469337 0.10618092 0.09381317]\n",
      " [0.0957379  0.08991939 0.09948988 0.09808518 0.0957184  0.1013972\n",
      "  0.09970514 0.11013917 0.10689154 0.10291625]\n",
      " [0.10403716 0.09449866 0.09951545 0.09558306 0.09488154 0.10332885\n",
      "  0.1083103  0.10582528 0.09972519 0.09429447]\n",
      " [0.10473815 0.09090568 0.10732456 0.09621596 0.09284599 0.09735614\n",
      "  0.11484239 0.10611075 0.10193507 0.08772525]\n",
      " [0.09615508 0.0967782  0.10129599 0.09672004 0.10075936 0.09828193\n",
      "  0.09948087 0.10612239 0.10063587 0.10377029]\n",
      " [0.09762229 0.09449358 0.1000394  0.1038543  0.0939417  0.10382669\n",
      "  0.10143141 0.10227957 0.09660001 0.10591101]\n",
      " [0.09954414 0.09439023 0.10058476 0.10373067 0.09663562 0.08836028\n",
      "  0.10281751 0.11690543 0.10301456 0.0940169 ]\n",
      " [0.09994786 0.10159724 0.09873503 0.10403514 0.09633962 0.10463399\n",
      "  0.0970928  0.10468931 0.09622653 0.09670251]\n",
      " [0.10323241 0.09592722 0.09756695 0.09380756 0.09586886 0.10473676\n",
      "  0.10487797 0.10720959 0.09693386 0.09983878]\n",
      " [0.10139526 0.09780072 0.0940446  0.09801498 0.1050694  0.09899153\n",
      "  0.10449415 0.10162611 0.10337144 0.09519178]\n",
      " [0.10143299 0.09400944 0.09701741 0.1010109  0.09606957 0.10526367\n",
      "  0.10622197 0.10720173 0.09331347 0.09845881]\n",
      " [0.09975229 0.0982946  0.10322361 0.09543885 0.09839889 0.09939384\n",
      "  0.10625962 0.10761662 0.09067256 0.10094912]\n",
      " [0.09924024 0.09857135 0.10432394 0.09534221 0.10041777 0.09532371\n",
      "  0.10099613 0.1042606  0.10382454 0.09769944]\n",
      " [0.10046085 0.10152881 0.09781067 0.0960495  0.10168575 0.10392191\n",
      "  0.10003097 0.1005382  0.10227273 0.09570059]\n",
      " [0.09720915 0.09482565 0.09894318 0.10092668 0.09129487 0.09835131\n",
      "  0.11088744 0.10410348 0.10204798 0.10141028]\n",
      " [0.10025164 0.09483442 0.10263037 0.09698682 0.09589051 0.1027624\n",
      "  0.10332081 0.10513458 0.09614326 0.10204521]\n",
      " [0.1111893  0.0900976  0.10234714 0.09681072 0.0946077  0.09846342\n",
      "  0.10277819 0.11042363 0.09622654 0.0970557 ]\n",
      " [0.10143002 0.10379964 0.09862902 0.09846337 0.09678493 0.09583191\n",
      "  0.10517004 0.10391743 0.10249376 0.09347987]\n",
      " [0.10132564 0.09825698 0.10410404 0.10121501 0.09727753 0.10022937\n",
      "  0.09903408 0.10053805 0.10243873 0.09558056]\n",
      " [0.09431489 0.10097151 0.09962372 0.09848012 0.09564842 0.09839831\n",
      "  0.10535712 0.10246851 0.1035566  0.10118079]\n",
      " [0.09758583 0.0982354  0.10329238 0.10381857 0.09602545 0.10067534\n",
      "  0.10343309 0.11235509 0.09097163 0.09360719]\n",
      " [0.09950835 0.09743739 0.09741919 0.09997223 0.09665187 0.10049151\n",
      "  0.10296977 0.10448924 0.10480576 0.09625471]\n",
      " [0.10199092 0.10056522 0.09787094 0.10115692 0.1032522  0.10042173\n",
      "  0.10289201 0.10261349 0.09555677 0.0936798 ]\n",
      " [0.10552099 0.09809697 0.10045581 0.09552919 0.09271259 0.10042525\n",
      "  0.10394812 0.1042714  0.10073802 0.09830154]\n",
      " [0.09474508 0.09153102 0.09485022 0.10191342 0.0998171  0.10831374\n",
      "  0.10806561 0.10552143 0.09566215 0.09958026]\n",
      " [0.0977272  0.09666913 0.09468326 0.10175027 0.10362531 0.10098295\n",
      "  0.10405823 0.10499554 0.10356521 0.09194288]\n",
      " [0.10221598 0.10042633 0.10365082 0.09565476 0.10015535 0.0978879\n",
      "  0.10094743 0.10226843 0.09921071 0.09758232]\n",
      " [0.10259035 0.09583367 0.09849876 0.09851169 0.09667013 0.09995881\n",
      "  0.11177354 0.10844143 0.09626649 0.09145512]\n",
      " [0.10403969 0.09753927 0.10234953 0.09873721 0.09597988 0.09934613\n",
      "  0.10322227 0.10209601 0.09682391 0.0998661 ]\n",
      " [0.1028199  0.10132863 0.10060494 0.10112245 0.09638941 0.09706023\n",
      "  0.10025008 0.10053788 0.10133379 0.09855269]\n",
      " [0.1010401  0.0929095  0.09609505 0.09743473 0.09761278 0.11090813\n",
      "  0.10397857 0.10434251 0.09784991 0.09782872]\n",
      " [0.10230488 0.09774608 0.09415732 0.10050175 0.09246948 0.10747813\n",
      "  0.10379301 0.11024475 0.09990875 0.0913958 ]\n",
      " [0.10233559 0.09819341 0.09545216 0.10026372 0.09721547 0.10188918\n",
      "  0.10502717 0.09910146 0.09937867 0.10114322]\n",
      " [0.10727055 0.09247872 0.10020578 0.0947504  0.09969371 0.09750443\n",
      "  0.10835006 0.11007152 0.09408155 0.09559324]\n",
      " [0.10359659 0.09868109 0.09721857 0.10304265 0.09761751 0.09947066\n",
      "  0.10398073 0.10103875 0.10022804 0.09512534]\n",
      " [0.10142168 0.09736313 0.09074998 0.09614187 0.10524204 0.09607309\n",
      "  0.11377773 0.10554992 0.09893616 0.09474446]\n",
      " [0.10056889 0.09626818 0.1010529  0.10534542 0.09567688 0.10010368\n",
      "  0.09627353 0.1031492  0.09961605 0.10194524]\n",
      " [0.09846807 0.09583778 0.09716818 0.10410635 0.09384035 0.10106529\n",
      "  0.10252577 0.10987532 0.09959613 0.09751675]\n",
      " [0.09921557 0.0972643  0.0974592  0.09986377 0.09767662 0.09836124\n",
      "  0.09628128 0.1179418  0.09582411 0.10011206]\n",
      " [0.09796708 0.0952318  0.10010226 0.10147708 0.09941179 0.09483243\n",
      "  0.10483842 0.10257088 0.10261831 0.10094997]\n",
      " [0.10439084 0.09751409 0.09142362 0.10632654 0.09572413 0.09871683\n",
      "  0.10029181 0.10169269 0.10541124 0.0985082 ]\n",
      " [0.10120888 0.0920388  0.09984554 0.08696302 0.09748053 0.10152715\n",
      "  0.10778768 0.10844663 0.10069255 0.10400919]\n",
      " [0.10415413 0.09614378 0.0982642  0.10676359 0.09558716 0.09237436\n",
      "  0.10344613 0.10288902 0.10487953 0.09549807]\n",
      " [0.10583375 0.09914342 0.09637157 0.09320462 0.0981392  0.09867283\n",
      "  0.10499631 0.10612358 0.10075563 0.09675907]\n",
      " [0.09991308 0.0949747  0.10136577 0.09775352 0.09195384 0.10476521\n",
      "  0.10132254 0.10885687 0.1041875  0.09490694]\n",
      " [0.10320344 0.09663224 0.09282989 0.09753535 0.09454986 0.1042193\n",
      "  0.11151957 0.1077968  0.09479557 0.096918  ]\n",
      " [0.09799755 0.09881118 0.10070551 0.10072316 0.09906485 0.09554829\n",
      "  0.0967341  0.1063115  0.09534315 0.10876069]\n",
      " [0.10630772 0.08918638 0.10028044 0.09470012 0.09481049 0.10435735\n",
      "  0.10689344 0.10640964 0.09911113 0.09794337]\n",
      " [0.10052413 0.09019598 0.10308468 0.09982854 0.09805958 0.0974519\n",
      "  0.10246582 0.10533512 0.10519909 0.0978552 ]\n",
      " [0.10089077 0.10244326 0.09981652 0.10110644 0.09879492 0.09434655\n",
      "  0.10356038 0.10284926 0.0964207  0.09977112]\n",
      " [0.10596613 0.09550627 0.09989877 0.10723529 0.08762564 0.09951378\n",
      "  0.10592672 0.1077191  0.09494752 0.09566075]\n",
      " [0.0965667  0.09420042 0.1014367  0.09727092 0.09765529 0.09740342\n",
      "  0.1063714  0.10854863 0.09935194 0.10119456]\n",
      " [0.09966333 0.09440953 0.09704044 0.10005607 0.09801831 0.09916132\n",
      "  0.10141118 0.11015815 0.1042765  0.09580514]\n",
      " [0.10127845 0.10572393 0.10368764 0.0944305  0.10586329 0.09864171\n",
      "  0.10145187 0.09853764 0.09279521 0.09758972]\n",
      " [0.09672351 0.09265571 0.10031554 0.09698109 0.10595115 0.09495289\n",
      "  0.10687796 0.1102368  0.09821589 0.09708944]\n",
      " [0.10078473 0.10082865 0.0981657  0.09947956 0.09902012 0.10030356\n",
      "  0.10411379 0.10575118 0.09180681 0.09974587]\n",
      " [0.09725557 0.09516369 0.0979201  0.1083634  0.09709539 0.10112847\n",
      "  0.09832282 0.10126111 0.10210873 0.10138074]\n",
      " [0.10945423 0.0960841  0.09731667 0.09997012 0.09928562 0.10009884\n",
      "  0.09830581 0.10256719 0.09905721 0.09786025]\n",
      " [0.10246461 0.08805916 0.09941471 0.09597583 0.09933722 0.10180107\n",
      "  0.10629005 0.10383108 0.09772929 0.10509697]\n",
      " [0.10124175 0.1006987  0.09769619 0.09939238 0.09430646 0.09588959\n",
      "  0.10279088 0.10545371 0.10440363 0.09812672]\n",
      " [0.10506509 0.09527213 0.09574877 0.09661808 0.09505836 0.09935638\n",
      "  0.10670593 0.10468186 0.10289273 0.09860069]\n",
      " [0.10241438 0.10853334 0.09461685 0.09949476 0.09807842 0.10216593\n",
      "  0.10939907 0.09288801 0.09942079 0.09298848]\n",
      " [0.10066767 0.10065208 0.09904577 0.09352168 0.10151912 0.10171542\n",
      "  0.10711212 0.10536062 0.09578322 0.09462232]\n",
      " [0.10285149 0.08967855 0.0994286  0.09524555 0.10401914 0.10284128\n",
      "  0.10312786 0.10339311 0.10032935 0.0990851 ]\n",
      " [0.09426886 0.09632324 0.09810868 0.09282535 0.10256589 0.10000764\n",
      "  0.10832547 0.10722967 0.09683939 0.10350577]\n",
      " [0.09632134 0.10261221 0.10099275 0.10213655 0.09780209 0.09816908\n",
      "  0.10216717 0.10044306 0.0997383  0.09961747]\n",
      " [0.10237496 0.10246322 0.09436969 0.09406568 0.09681458 0.10243518\n",
      "  0.09733511 0.10189477 0.10591166 0.10233518]\n",
      " [0.10078635 0.09647349 0.1036671  0.09977494 0.10119514 0.10032804\n",
      "  0.10410273 0.10316087 0.09509143 0.09541993]\n",
      " [0.10621065 0.0953285  0.10260959 0.09519938 0.0922894  0.09917375\n",
      "  0.10129226 0.11179452 0.09986569 0.09623628]\n",
      " [0.09958541 0.0962486  0.09812652 0.09624064 0.09486064 0.10539658\n",
      "  0.10355842 0.10539967 0.10453808 0.0960454 ]\n",
      " [0.09967189 0.10131694 0.09773427 0.09830616 0.09899857 0.10178558\n",
      "  0.1062131  0.09984927 0.0985342  0.09759007]\n",
      " [0.10043982 0.09702767 0.10365757 0.10862365 0.09697057 0.09755482\n",
      "  0.09838915 0.104762   0.09673575 0.09583903]\n",
      " [0.09836619 0.0958452  0.09866468 0.09703396 0.10599054 0.09876631\n",
      "  0.10762877 0.10315121 0.09693424 0.09761894]\n",
      " [0.10408623 0.09291524 0.10253954 0.09545609 0.09776804 0.09975041\n",
      "  0.10660062 0.10813988 0.09826117 0.09448274]\n",
      " [0.10435966 0.09121109 0.09522281 0.10426279 0.09506918 0.09382039\n",
      "  0.10570434 0.10334766 0.10142726 0.10557489]\n",
      " [0.10399712 0.10151906 0.09439769 0.0997031  0.09734336 0.09351157\n",
      "  0.10570265 0.10582167 0.09946565 0.0985382 ]\n",
      " [0.09824955 0.09072872 0.10164707 0.09550387 0.0968537  0.09787014\n",
      "  0.11053494 0.11161879 0.0984222  0.09857109]\n",
      " [0.09800722 0.10046339 0.09779575 0.10273339 0.09170949 0.10075239\n",
      "  0.1011023  0.10476375 0.10300608 0.09966626]\n",
      " [0.09924188 0.09552164 0.10106938 0.10407263 0.09693914 0.09844112\n",
      "  0.10139085 0.10415919 0.10126516 0.09789898]\n",
      " [0.09749937 0.09590794 0.09024101 0.1011695  0.09658487 0.09851724\n",
      "  0.1039406  0.11251053 0.10020029 0.10342863]\n",
      " [0.10547274 0.09668879 0.09704069 0.09989573 0.09314574 0.10062618\n",
      "  0.1042665  0.1122506  0.09517752 0.09543544]\n",
      " [0.10551672 0.09346738 0.09824339 0.09847368 0.09917241 0.10479055\n",
      "  0.09519266 0.10387853 0.10145756 0.09980716]\n",
      " [0.10358866 0.10004324 0.09688832 0.1034703  0.09718702 0.10040733\n",
      "  0.10805269 0.10602325 0.09353995 0.09079918]\n",
      " [0.09832306 0.09378578 0.1038176  0.10110495 0.09628747 0.09851545\n",
      "  0.10138717 0.10539897 0.10413572 0.09724383]\n",
      " [0.10588869 0.09860074 0.09644074 0.10180531 0.09903404 0.10079754\n",
      "  0.10143772 0.10177991 0.1000277  0.09418765]\n",
      " [0.10496135 0.09449085 0.09248481 0.10125042 0.09966969 0.10140797\n",
      "  0.10340641 0.10545304 0.09862871 0.09824678]] (17.597 sec)\n",
      "INFO:tensorflow:Saving checkpoints for 201 into ./mnist_convnet_model2/model.ckpt.\n",
      "INFO:tensorflow:Loss for final step: 2.2844605.\n",
      "(?, 3, 3, 64)\n",
      "INFO:tensorflow:Starting evaluation at 2018-01-29-22:49:09\n",
      "INFO:tensorflow:Restoring parameters from ./mnist_convnet_model2/model.ckpt-201\n",
      "INFO:tensorflow:Finished evaluation at 2018-01-29-22:49:20\n",
      "INFO:tensorflow:Saving dict for global step 201: accuracy = 0.1945, global_step = 201, loss = 2.2929292\n",
      "{'loss': 2.2929292, 'global_step': 201, 'accuracy': 0.1945}\n"
     ]
    },
    {
     "ename": "SystemExit",
     "evalue": "ignored",
     "output_type": "error",
     "traceback": [
      "An exception has occurred, use %tb to see the full traceback.\n",
      "\u001b[0;31mSystemExit\u001b[0m\n"
     ]
    },
    {
     "name": "stderr",
     "output_type": "stream",
     "text": [
      "/usr/local/lib/python2.7/dist-packages/IPython/core/interactiveshell.py:2890: UserWarning: To exit: use 'exit', 'quit', or Ctrl-D.\n",
      "  warn(\"To exit: use 'exit', 'quit', or Ctrl-D.\", stacklevel=1)\n"
     ]
    }
   ],
   "source": [
    "# Imports\n",
    "import numpy as np\n",
    "import tensorflow as tf\n",
    "\n",
    "tf.logging.set_verbosity(tf.logging.INFO)\n",
    "\n",
    "# Our application logic will be added here\n",
    "\n",
    "def cnn_model_fn(features, labels, mode):\n",
    "  \"\"\"Model function for CNN.\"\"\"\n",
    "  # Input Layer\n",
    "  input_layer = tf.reshape(features[\"x\"], [-1, 28, 28, 1])\n",
    "\n",
    "  # Convolutional Layer #1\n",
    "  conv1 = tf.layers.conv2d(\n",
    "      inputs=input_layer,\n",
    "      filters=32,\n",
    "      kernel_size=[5, 5],\n",
    "      padding=\"same\",\n",
    "      activation=tf.nn.relu)\n",
    "\n",
    "  # Pooling Layer #1\n",
    "  pool1 = tf.layers.max_pooling2d(inputs=conv1, pool_size=[2, 2], strides=2)\n",
    "\n",
    "  # Convolutional Layer #2 and Pooling Layer #2\n",
    "  conv2 = tf.layers.conv2d(\n",
    "      inputs=pool1,\n",
    "      filters=64,\n",
    "      kernel_size=[5, 5],\n",
    "      padding=\"same\",\n",
    "      activation=tf.nn.relu)\n",
    "  pool2 = tf.layers.max_pooling2d(inputs=conv2, pool_size=[2, 2], strides=2)\n",
    "\n",
    "  # Convolutional Layer #2 and Pooling Layer #2\n",
    "  conv3 = tf.layers.conv2d(\n",
    "      inputs=pool2,\n",
    "      filters=64,\n",
    "      kernel_size=[5, 5],\n",
    "      padding=\"same\",\n",
    "      activation=tf.nn.relu)\n",
    "  pool3 = tf.layers.max_pooling2d(inputs=conv3, pool_size=[2, 2], strides=2)\n",
    "\n",
    "  print(pool3.shape)\n",
    "\n",
    "  # Dense Layer\n",
    "  pool3_flat = tf.reshape(pool3, [-1, 3 * 3 * 64])\n",
    "  dense = tf.layers.dense(inputs=pool3_flat, units=1024, activation=tf.nn.relu)\n",
    "  dropout = tf.layers.dropout(\n",
    "      inputs=dense, rate=0.4, training=mode == tf.estimator.ModeKeys.TRAIN)\n",
    "\n",
    "  # Logits Layer\n",
    "  logits = tf.layers.dense(inputs=dropout, units=10)\n",
    "\n",
    "  predictions = {\n",
    "      # Generate predictions (for PREDICT and EVAL mode)\n",
    "      \"classes\": tf.argmax(input=logits, axis=1),\n",
    "      # Add softmax_tensor to the graph. It is used for PREDICT and by the\n",
    "      # logging_hook.\n",
    "      \"probabilities\": tf.nn.softmax(logits, name=\"softmax_tensor\")\n",
    "  }\n",
    "\n",
    "  if mode == tf.estimator.ModeKeys.PREDICT:\n",
    "    return tf.estimator.EstimatorSpec(mode=mode, predictions=predictions)\n",
    "\n",
    "  # Calculate Loss (for both TRAIN and EVAL modes)\n",
    "  onehot_labels = tf.one_hot(indices=tf.cast(labels, tf.int32), depth=10)\n",
    "  loss = tf.losses.softmax_cross_entropy(\n",
    "      onehot_labels=onehot_labels, logits=logits)\n",
    "\n",
    "  # Configure the Training Op (for TRAIN mode)\n",
    "  if mode == tf.estimator.ModeKeys.TRAIN:\n",
    "    optimizer = tf.train.GradientDescentOptimizer(learning_rate=0.001)\n",
    "    train_op = optimizer.minimize(\n",
    "        loss=loss,\n",
    "        global_step=tf.train.get_global_step())\n",
    "    return tf.estimator.EstimatorSpec(mode=mode, loss=loss, train_op=train_op)\n",
    "\n",
    "  # Add evaluation metrics (for EVAL mode)\n",
    "  eval_metric_ops = {\n",
    "      \"accuracy\": tf.metrics.accuracy(\n",
    "          labels=labels, predictions=predictions[\"classes\"])}\n",
    "  return tf.estimator.EstimatorSpec(\n",
    "      mode=mode, loss=loss, eval_metric_ops=eval_metric_ops)\n",
    "\n",
    "def main(unused_argv):\n",
    "  # Load training and eval data\n",
    "  mnist = tf.contrib.learn.datasets.load_dataset(\"mnist\")\n",
    "  train_data = mnist.train.images # Returns np.array\n",
    "  train_labels = np.asarray(mnist.train.labels, dtype=np.int32)\n",
    "  eval_data = mnist.test.images # Returns np.array\n",
    "  eval_labels = np.asarray(mnist.test.labels, dtype=np.int32)\n",
    "  # Create the Estimator\n",
    "  mnist_classifier = tf.estimator.Estimator(\n",
    "      model_fn=cnn_model_fn, model_dir=\"./mnist_convnet_model2\")\n",
    "  tensors_to_log = {\"probabilities\": \"softmax_tensor\"}\n",
    "  logging_hook = tf.train.LoggingTensorHook(\n",
    "      tensors=tensors_to_log, every_n_iter=50)\n",
    "\n",
    "  # Train the model\n",
    "  train_input_fn = tf.estimator.inputs.numpy_input_fn(\n",
    "      x={\"x\": train_data},\n",
    "      y=train_labels,\n",
    "      batch_size=100,\n",
    "      num_epochs=None,\n",
    "      shuffle=True)\n",
    "  mnist_classifier.train(\n",
    "      input_fn=train_input_fn,\n",
    "      steps=200,\n",
    "      hooks=[logging_hook])\n",
    "# Evaluate the model and print results\n",
    "  eval_input_fn = tf.estimator.inputs.numpy_input_fn(\n",
    "    x={\"x\": eval_data},\n",
    "    y=eval_labels,\n",
    "    num_epochs=1,\n",
    "    shuffle=False)\n",
    "  eval_results = mnist_classifier.evaluate(input_fn=eval_input_fn)\n",
    "  print(eval_results)\n",
    "\n",
    "  \n",
    "if __name__ == \"__main__\":\n",
    "  tf.app.run()"
   ]
  },
  {
   "cell_type": "code",
   "execution_count": null,
   "metadata": {
    "collapsed": true
   },
   "outputs": [],
   "source": [
    "!python2 conv.py"
   ]
  },
  {
   "cell_type": "code",
   "execution_count": null,
   "metadata": {
    "collapsed": true
   },
   "outputs": [],
   "source": [
    "!tensorboard -logdir mnist_convnet_model2"
   ]
  },
  {
   "cell_type": "markdown",
   "metadata": {},
   "source": [
    "<img src='board.png'>"
   ]
  },
  {
   "cell_type": "markdown",
   "metadata": {
    "colab_type": "text",
    "id": "PcAI4uX8S6kY"
   },
   "source": [
    "## Литература\n",
    "\n",
    "1. Николенко, Кадурин, Архангельская. Глубокое обучение. Погружение в мир нейронных сетей.\n",
    "2. Aurélien Géron Hands-on Machine Learning with Scikit-Learn and TensorFlow\n",
    "3. Гудфеллоу, Бенджио, Курвилль. Глубокое обучение"
   ]
  }
 ],
 "metadata": {
  "colab": {
   "collapsed_sections": [],
   "default_view": {},
   "name": "lecture_22_nn.ipynb",
   "provenance": [],
   "version": "0.3.2",
   "views": {}
  },
  "kernelspec": {
   "display_name": "Python 3",
   "language": "python",
   "name": "python3"
  },
  "language_info": {
   "codemirror_mode": {
    "name": "ipython",
    "version": 3
   },
   "file_extension": ".py",
   "mimetype": "text/x-python",
   "name": "python",
   "nbconvert_exporter": "python",
   "pygments_lexer": "ipython3",
   "version": "3.7.1"
  }
 },
 "nbformat": 4,
 "nbformat_minor": 2
}
