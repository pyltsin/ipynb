{
 "cells": [
  {
   "cell_type": "markdown",
   "metadata": {},
   "source": [
    "# Необходимые понятия из математического анализа и линейной алгебры"
   ]
  },
  {
   "cell_type": "code",
   "execution_count": 200,
   "metadata": {},
   "outputs": [],
   "source": [
    "%matplotlib notebook"
   ]
  },
  {
   "cell_type": "code",
   "execution_count": 11,
   "metadata": {
    "collapsed": true
   },
   "outputs": [],
   "source": [
    "import numpy as np\n",
    "import numpy.linalg as la"
   ]
  },
  {
   "cell_type": "markdown",
   "metadata": {},
   "source": [
    "## Линейная алгебра"
   ]
  },
  {
   "cell_type": "markdown",
   "metadata": {},
   "source": [
    "### Обозначения\n",
    "\n",
    "$A ∈ R^{m×n}$ матрица с m строками и n столбцами и действительными числами. $A_{ij}$ - элемент на i строке и j столбце\n",
    "\n",
    "$x ∈ R^{n}$ вектор с n элементами, здесь вектором будем обозначать вектор столбец, $x^T$ будем обозначать вектор строчку.\n",
    "$x_i$ - i элемент вектора x\n"
   ]
  },
  {
   "cell_type": "code",
   "execution_count": 8,
   "metadata": {
    "collapsed": true
   },
   "outputs": [],
   "source": [
    "x = np.ones(10).reshape(10, 1)\n",
    "A = np.ones(10).reshape(2, 5)"
   ]
  },
  {
   "cell_type": "code",
   "execution_count": 9,
   "metadata": {},
   "outputs": [
    {
     "data": {
      "text/plain": [
       "array([[1.],\n",
       "       [1.],\n",
       "       [1.],\n",
       "       [1.],\n",
       "       [1.],\n",
       "       [1.],\n",
       "       [1.],\n",
       "       [1.],\n",
       "       [1.],\n",
       "       [1.]])"
      ]
     },
     "execution_count": 9,
     "metadata": {},
     "output_type": "execute_result"
    }
   ],
   "source": [
    "x"
   ]
  },
  {
   "cell_type": "code",
   "execution_count": 10,
   "metadata": {},
   "outputs": [
    {
     "data": {
      "text/plain": [
       "array([[1., 1., 1., 1., 1.],\n",
       "       [1., 1., 1., 1., 1.]])"
      ]
     },
     "execution_count": 10,
     "metadata": {},
     "output_type": "execute_result"
    }
   ],
   "source": [
    "A"
   ]
  },
  {
   "cell_type": "markdown",
   "metadata": {},
   "source": [
    "Базовые операции с векторами"
   ]
  },
  {
   "cell_type": "code",
   "execution_count": 16,
   "metadata": {
    "collapsed": true
   },
   "outputs": [],
   "source": [
    "x = np.random.rand(3)\n",
    "y = np.random.rand(3)"
   ]
  },
  {
   "cell_type": "code",
   "execution_count": 19,
   "metadata": {},
   "outputs": [
    {
     "data": {
      "text/plain": [
       "(array([0.9800766 , 0.57613862, 0.43178602]),\n",
       " array([1.9800766 , 1.57613862, 1.43178602]),\n",
       " array([1.9601532 , 1.15227723, 0.86357205]),\n",
       " array([0.96055014, 0.33193571, 0.18643917]))"
      ]
     },
     "execution_count": 19,
     "metadata": {},
     "output_type": "execute_result"
    }
   ],
   "source": [
    "x, x + 1, x * 2, x**2"
   ]
  },
  {
   "cell_type": "code",
   "execution_count": 21,
   "metadata": {},
   "outputs": [
    {
     "data": {
      "text/plain": [
       "(array([0.9800766 , 0.57613862, 0.43178602]),\n",
       " array([0.70252636, 0.43411265, 0.04579168]),\n",
       " array([1.68260296, 1.01025126, 0.47757771]))"
      ]
     },
     "execution_count": 21,
     "metadata": {},
     "output_type": "execute_result"
    }
   ],
   "source": [
    "# сложение векторов\n",
    "x, y, x + y"
   ]
  },
  {
   "cell_type": "markdown",
   "metadata": {},
   "source": [
    "векторизация"
   ]
  },
  {
   "cell_type": "code",
   "execution_count": 51,
   "metadata": {},
   "outputs": [
    {
     "name": "stdout",
     "output_type": "stream",
     "text": [
      "CPU times: user 3.84 ms, sys: 0 ns, total: 3.84 ms\n",
      "Wall time: 3.85 ms\n",
      "CPU times: user 26 µs, sys: 2 µs, total: 28 µs\n",
      "Wall time: 31.5 µs\n"
     ]
    },
    {
     "data": {
      "text/plain": [
       "(True, True)"
      ]
     },
     "execution_count": 51,
     "metadata": {},
     "output_type": "execute_result"
    }
   ],
   "source": [
    "x = np.random.rand(10000)\n",
    "y = np.random.rand(10000)\n",
    "%time z = [xi+ yi for xi, yi in zip(x , y)]\n",
    "%time z2 = x + y\n",
    "np.array_equal(z, z2), np.allclose(z, z2)"
   ]
  },
  {
   "cell_type": "markdown",
   "metadata": {},
   "source": [
    "#  Скалярное произведение векторов"
   ]
  },
  {
   "cell_type": "markdown",
   "metadata": {},
   "source": [
    "\n",
    "$\\textbf{u} \\cdot \\textbf{v} = \\sum_i({\\textbf{u}_i \\times \\textbf{v}_i})$\n",
    "\n",
    "или\n",
    "\n",
    "$\\textbf{u} \\cdot \\textbf{v} = \\left \\Vert \\textbf{u} \\right \\| \\times \\left \\Vert \\textbf{v} \\right \\| \\times cos(\\theta)$  "
   ]
  },
  {
   "cell_type": "code",
   "execution_count": 52,
   "metadata": {},
   "outputs": [
    {
     "name": "stdout",
     "output_type": "stream",
     "text": [
      "CPU times: user 1.45 ms, sys: 133 µs, total: 1.59 ms\n",
      "Wall time: 1.59 ms\n",
      "CPU times: user 681 µs, sys: 0 ns, total: 681 µs\n",
      "Wall time: 181 µs\n",
      "CPU times: user 182 µs, sys: 0 ns, total: 182 µs\n",
      "Wall time: 42.4 µs\n",
      "CPU times: user 700 µs, sys: 64 µs, total: 764 µs\n",
      "Wall time: 182 µs\n",
      "2491.860186816321 2491.8601868163178 2491.8601868163178 2491.8601868163178\n"
     ]
    }
   ],
   "source": [
    "%time z1 = sum([ xi*yi for xi, yi in zip(x , y)])\n",
    "%time z2 = x.dot(y)\n",
    "%time z3 = np.dot(x, y)\n",
    "%time z4 = x @ y\n",
    "print(z1, z2, z3, z4)"
   ]
  },
  {
   "cell_type": "markdown",
   "metadata": {},
   "source": [
    "### Норма вектора"
   ]
  },
  {
   "cell_type": "markdown",
   "metadata": {},
   "source": [
    "Норма вектора - мера длины. Рассмотрим l-n норму.\n",
    "\n",
    "$\\left \\Vert \\textbf{u} \\right \\|_l = ({\\sum_{i}{\\textbf{u}_i}^l})^{1/l}$\n",
    "\n",
    "Например l2\n",
    "\n",
    "$\\left \\Vert \\textbf{u} \\right \\|_2 = \\sqrt{{\\textbf{u}_1}^2 + {\\textbf{u}_2}^2 + {\\textbf{u}_3}^2 + ...}$"
   ]
  },
  {
   "cell_type": "code",
   "execution_count": 54,
   "metadata": {},
   "outputs": [
    {
     "name": "stdout",
     "output_type": "stream",
     "text": [
      "CPU times: user 5.38 ms, sys: 116 µs, total: 5.49 ms\n",
      "Wall time: 5.46 ms\n",
      "CPU times: user 742 µs, sys: 0 ns, total: 742 µs\n",
      "Wall time: 208 µs\n",
      "CPU times: user 446 µs, sys: 39 µs, total: 485 µs\n",
      "Wall time: 114 µs\n",
      "CPU times: user 2.78 ms, sys: 242 µs, total: 3.02 ms\n",
      "Wall time: 868 µs\n",
      "57.79714283793897 57.797142837939 57.797142837939 57.797142837939\n"
     ]
    }
   ],
   "source": [
    "%time z1 = sum([ xi**2 for xi in x])**0.5\n",
    "%time z2 = la.norm(x)\n",
    "%time z3 = np.sqrt(np.sum(x**2))\n",
    "%time z4 = np.sqrt(np.dot(x, x))\n",
    "print(z1, z2, z3, z4)"
   ]
  },
  {
   "cell_type": "markdown",
   "metadata": {},
   "source": [
    "Вопросы: \n",
    "    - чему равна l1 норма?\n",
    "    - чему равна l-бесконечность норма?"
   ]
  },
  {
   "cell_type": "code",
   "execution_count": null,
   "metadata": {
    "collapsed": true
   },
   "outputs": [],
   "source": [
    "x = np.arange(3)\n",
    "la.norm(x, 1), la.norm(x, np.inf)"
   ]
  },
  {
   "cell_type": "markdown",
   "metadata": {},
   "source": [
    "### Умножение матрицы на вектор\n",
    "https://see.stanford.edu/materials/aimlcs229/cs229-linalg.pdf\n",
    "\n",
    "#### Умножение матрицы на вектор столбец.\n",
    "y = Ax\n",
    "\n",
    "$A ∈ R^{m×n}$, x ∈ $R^n$, y ∈ $R^m$\n",
    "\n",
    "$y_i = \\sum_{k=1}^n A_{ik} x_{k}$\n",
    "\n",
    "\n",
    "Интерпретация:\n",
    "1. Вектор со скалярными произведениями строчeк A и x\n",
    "2. Вектор который явзяется линейной комбинайцией столбцов A с коэффициентами x\n",
    "\n",
    "#### Умножение матрицы на вектор строчку.\n",
    "$y^T = x^TA$ - умножение вектор строчка на матрицу\n",
    "\n",
    "Интерпретация:\n",
    "1. Вектор со скалярными произведениями столбцов A и x\n",
    "2. Вектор который явзяется линейной комбинайцией строчек A с коэффициентами x"
   ]
  },
  {
   "cell_type": "code",
   "execution_count": 61,
   "metadata": {
    "collapsed": true
   },
   "outputs": [],
   "source": [
    "x = np.arange(1, 4).reshape(-1, 1)\n",
    "A = np.array([\n",
    "    [1, 4, 3],\n",
    "    [4, 1, 7],\n",
    "])"
   ]
  },
  {
   "cell_type": "code",
   "execution_count": 62,
   "metadata": {},
   "outputs": [
    {
     "data": {
      "text/plain": [
       "array([[1],\n",
       "       [2],\n",
       "       [3]])"
      ]
     },
     "execution_count": 62,
     "metadata": {},
     "output_type": "execute_result"
    }
   ],
   "source": [
    "x"
   ]
  },
  {
   "cell_type": "code",
   "execution_count": 63,
   "metadata": {},
   "outputs": [
    {
     "data": {
      "text/plain": [
       "array([[1, 4, 3],\n",
       "       [4, 1, 7]])"
      ]
     },
     "execution_count": 63,
     "metadata": {},
     "output_type": "execute_result"
    }
   ],
   "source": [
    "A"
   ]
  },
  {
   "cell_type": "code",
   "execution_count": 64,
   "metadata": {},
   "outputs": [
    {
     "data": {
      "text/plain": [
       "array([[18],\n",
       "       [27]])"
      ]
     },
     "execution_count": 64,
     "metadata": {},
     "output_type": "execute_result"
    }
   ],
   "source": [
    "A @ x"
   ]
  },
  {
   "cell_type": "code",
   "execution_count": 69,
   "metadata": {},
   "outputs": [
    {
     "name": "stdout",
     "output_type": "stream",
     "text": [
      "0-th element is [18]\n",
      "1-th element is [27]\n"
     ]
    }
   ],
   "source": [
    "# распишем произведение по определению\n",
    "m, n = A.shape\n",
    "for i in range(m):\n",
    "    val = 0\n",
    "    for k in range(n):\n",
    "        val += A[i, k] * x[k]\n",
    "    print(f'{i}-th element is {val}')"
   ]
  },
  {
   "cell_type": "code",
   "execution_count": 68,
   "metadata": {},
   "outputs": [
    {
     "name": "stdout",
     "output_type": "stream",
     "text": [
      "0-th element is [18]\n",
      "1-th element is [27]\n"
     ]
    }
   ],
   "source": [
    "# распишем произведение как скалярное произведение\n",
    "for i in range(m):\n",
    "    print(f'{i}-th element is {A[i].dot(x)}')"
   ]
  },
  {
   "cell_type": "code",
   "execution_count": 74,
   "metadata": {},
   "outputs": [
    {
     "name": "stdout",
     "output_type": "stream",
     "text": [
      "0-th column: [1 4] * [1]\n",
      "1-th column: [4 1] * [2]\n",
      "2-th column: [3 7] * [3]\n"
     ]
    },
    {
     "data": {
      "text/plain": [
       "array([18, 27])"
      ]
     },
     "execution_count": 74,
     "metadata": {},
     "output_type": "execute_result"
    }
   ],
   "source": [
    "# распишем произведение сумму векторов\n",
    "res = 0\n",
    "for i in range(n):\n",
    "    print(f'{i}-th column: {A[:, i]} * {x[i]}')\n",
    "    res += A[:, i] * x[i]\n",
    "res"
   ]
  },
  {
   "cell_type": "code",
   "execution_count": 76,
   "metadata": {},
   "outputs": [
    {
     "ename": "ValueError",
     "evalue": "operands could not be broadcast together with shapes (3,1) (2,3) ",
     "output_type": "error",
     "traceback": [
      "\u001b[0;31m---------------------------------------------------------------------------\u001b[0m",
      "\u001b[0;31mValueError\u001b[0m                                Traceback (most recent call last)",
      "\u001b[0;32m<ipython-input-76-19656724cb33>\u001b[0m in \u001b[0;36m<module>\u001b[0;34m()\u001b[0m\n\u001b[1;32m      1\u001b[0m \u001b[0;31m# не можем умножить слева, так как x это вектор столбец\u001b[0m\u001b[0;34m\u001b[0m\u001b[0;34m\u001b[0m\u001b[0m\n\u001b[0;32m----> 2\u001b[0;31m \u001b[0mx\u001b[0m \u001b[0;34m*\u001b[0m \u001b[0mA\u001b[0m\u001b[0;34m\u001b[0m\u001b[0m\n\u001b[0m",
      "\u001b[0;31mValueError\u001b[0m: operands could not be broadcast together with shapes (3,1) (2,3) "
     ]
    }
   ],
   "source": [
    "# не можем умножить слева, так как x это вектор столбец\n",
    "x * A"
   ]
  },
  {
   "cell_type": "code",
   "execution_count": 80,
   "metadata": {},
   "outputs": [
    {
     "data": {
      "text/plain": [
       "array([[18, 27]])"
      ]
     },
     "execution_count": 80,
     "metadata": {},
     "output_type": "execute_result"
    }
   ],
   "source": [
    "# зато можем умножить вектор строчку на матрицу\n",
    "x.T @ A.T"
   ]
  },
  {
   "cell_type": "code",
   "execution_count": 89,
   "metadata": {
    "collapsed": true
   },
   "outputs": [],
   "source": [
    "# рассмотрим векторизацию\n",
    "def matrix_vector_prod(A, x):\n",
    "    res = []\n",
    "    m, n = A.shape\n",
    "    for i in range(m):\n",
    "        val = 0\n",
    "        for k in range(n):\n",
    "            val += A[i, k] * x[k]\n",
    "        res.append(val)\n",
    "    return res"
   ]
  },
  {
   "cell_type": "code",
   "execution_count": 90,
   "metadata": {},
   "outputs": [
    {
     "name": "stdout",
     "output_type": "stream",
     "text": [
      "CPU times: user 5.16 s, sys: 0 ns, total: 5.16 s\n",
      "Wall time: 5.16 s\n",
      "CPU times: user 26.8 ms, sys: 0 ns, total: 26.8 ms\n",
      "Wall time: 6.57 ms\n"
     ]
    }
   ],
   "source": [
    "A = np.random.rand(1000, 20000)\n",
    "x = np.random.rand(20000)\n",
    "\n",
    "%time z1 = matrix_vector_prod(A, x)\n",
    "%time z2 = A @ x"
   ]
  },
  {
   "cell_type": "markdown",
   "metadata": {},
   "source": [
    "### Умножение матрицы на матрицу\n",
    "\n",
    "Определение:\n",
    "\n",
    "$A ∈ R^{m×n}$, B ∈ $R^{n×p}$\n",
    "\n",
    "$C = AB ∈ R^{m×p}$\n",
    "\n",
    "$C_{ij} = \\sum_{k=1}^n A_{ik} B_{kj}$\n",
    "\n",
    "\n",
    "\n",
    "Интерпретация:\n",
    "\n",
    "1) На основе скалярного произведения. i,j элемент скалярное произведение i - строчки A, j - столбца B\n",
    "\n",
    "2) На основе сложения столбцов матрицы A - представим, что это p умножений столбцов матрицы B на матрицу A\n",
    "\n",
    "3) На основе сложения строчек матрицы B - представим, что это m умножений строчек матрицы A на матрицу B"
   ]
  },
  {
   "cell_type": "code",
   "execution_count": 92,
   "metadata": {
    "collapsed": true
   },
   "outputs": [],
   "source": [
    "# рассмотрим векторизацию\n",
    "def matrix_matrix_prod(A, B):\n",
    "    assert A.shape[1] == B.shape[0]\n",
    "    m, n = A.shape\n",
    "    _, p = B.shape\n",
    "    res = np.zeros((m, p))\n",
    "    \n",
    "    for i in range(m):\n",
    "        for j in range(p):\n",
    "            for k in range(n):\n",
    "                res[i, j] += A[i, k] * B[k, j]\n",
    "    return res"
   ]
  },
  {
   "cell_type": "code",
   "execution_count": 101,
   "metadata": {},
   "outputs": [
    {
     "name": "stdout",
     "output_type": "stream",
     "text": [
      "CPU times: user 3.42 s, sys: 0 ns, total: 3.42 s\n",
      "Wall time: 3.42 s\n",
      "CPU times: user 586 µs, sys: 0 ns, total: 586 µs\n",
      "Wall time: 324 µs\n"
     ]
    },
    {
     "data": {
      "text/plain": [
       "(True, False)"
      ]
     },
     "execution_count": 101,
     "metadata": {},
     "output_type": "execute_result"
    }
   ],
   "source": [
    "A = np.random.rand(100, 200)\n",
    "B = np.random.rand(200, 400)\n",
    "\n",
    "%time z1 = matrix_matrix_prod(A, B)\n",
    "%time z2 = A @ B\n",
    "np.allclose(z1, z2), np.array_equal(z1, z2)"
   ]
  },
  {
   "cell_type": "markdown",
   "metadata": {},
   "source": [
    "умножение матриц не коммутативно\n",
    "AB != BA"
   ]
  },
  {
   "cell_type": "code",
   "execution_count": 102,
   "metadata": {
    "collapsed": true
   },
   "outputs": [],
   "source": [
    "A = np.random.rand(2, 2)\n",
    "B = np.random.rand(2, 2)"
   ]
  },
  {
   "cell_type": "code",
   "execution_count": 103,
   "metadata": {},
   "outputs": [
    {
     "data": {
      "text/plain": [
       "array([[0.17962924, 0.59269211],\n",
       "       [0.24782304, 0.97571854]])"
      ]
     },
     "execution_count": 103,
     "metadata": {},
     "output_type": "execute_result"
    }
   ],
   "source": [
    "A"
   ]
  },
  {
   "cell_type": "code",
   "execution_count": 104,
   "metadata": {},
   "outputs": [
    {
     "data": {
      "text/plain": [
       "array([[0.72598632, 0.77496002],\n",
       "       [0.28077828, 0.74434024]])"
      ]
     },
     "execution_count": 104,
     "metadata": {},
     "output_type": "execute_result"
    }
   ],
   "source": [
    "B"
   ]
  },
  {
   "cell_type": "code",
   "execution_count": 105,
   "metadata": {},
   "outputs": [
    {
     "data": {
      "text/plain": [
       "array([[0.29682344, 0.58037007],\n",
       "       [0.45387671, 0.91831953]])"
      ]
     },
     "execution_count": 105,
     "metadata": {},
     "output_type": "execute_result"
    }
   ],
   "source": [
    "A @ B"
   ]
  },
  {
   "cell_type": "code",
   "execution_count": 106,
   "metadata": {},
   "outputs": [
    {
     "data": {
      "text/plain": [
       "array([[0.32246132, 1.18642922],\n",
       "       [0.23490065, 0.89268165]])"
      ]
     },
     "execution_count": 106,
     "metadata": {},
     "output_type": "execute_result"
    }
   ],
   "source": [
    "B @ A"
   ]
  },
  {
   "cell_type": "markdown",
   "metadata": {},
   "source": [
    "умножение ассоциативно\n",
    "(AB)C = A(BC)"
   ]
  },
  {
   "cell_type": "code",
   "execution_count": 111,
   "metadata": {},
   "outputs": [
    {
     "name": "stdout",
     "output_type": "stream",
     "text": [
      "[[0.92143052 0.4316591 ]\n",
      " [1.07611873 0.51268173]]\n",
      "\n",
      "[[0.92143052 0.4316591 ]\n",
      " [1.07611873 0.51268173]]\n"
     ]
    }
   ],
   "source": [
    "A = np.random.rand(2, 2)\n",
    "B = np.random.rand(2, 2)\n",
    "C = np.random.rand(2, 2)\n",
    "\n",
    "print((A @ B) @ C)\n",
    "print()\n",
    "print(A @ (B @ C))"
   ]
  },
  {
   "cell_type": "markdown",
   "metadata": {},
   "source": [
    "умножение дистрибутивно\n",
    "A(B + C) = AB + AC"
   ]
  },
  {
   "cell_type": "code",
   "execution_count": 114,
   "metadata": {},
   "outputs": [
    {
     "name": "stdout",
     "output_type": "stream",
     "text": [
      "[[1.58231025 0.86327805]\n",
      " [1.81252331 0.90896226]]\n",
      "\n",
      "[[1.58231025 0.86327805]\n",
      " [1.81252331 0.90896226]]\n"
     ]
    }
   ],
   "source": [
    "print(A @ ( B + C))\n",
    "print()\n",
    "print(A @ B + A @ C)"
   ]
  },
  {
   "cell_type": "markdown",
   "metadata": {},
   "source": [
    "### Важные матрицы:\n",
    "единичная матрица -- квадратная матрица у которой на диагонали стоият единицы"
   ]
  },
  {
   "cell_type": "code",
   "execution_count": 115,
   "metadata": {},
   "outputs": [
    {
     "data": {
      "text/plain": [
       "array([[1., 0., 0., 0., 0., 0., 0., 0., 0., 0.],\n",
       "       [0., 1., 0., 0., 0., 0., 0., 0., 0., 0.],\n",
       "       [0., 0., 1., 0., 0., 0., 0., 0., 0., 0.],\n",
       "       [0., 0., 0., 1., 0., 0., 0., 0., 0., 0.],\n",
       "       [0., 0., 0., 0., 1., 0., 0., 0., 0., 0.],\n",
       "       [0., 0., 0., 0., 0., 1., 0., 0., 0., 0.],\n",
       "       [0., 0., 0., 0., 0., 0., 1., 0., 0., 0.],\n",
       "       [0., 0., 0., 0., 0., 0., 0., 1., 0., 0.],\n",
       "       [0., 0., 0., 0., 0., 0., 0., 0., 1., 0.],\n",
       "       [0., 0., 0., 0., 0., 0., 0., 0., 0., 1.]])"
      ]
     },
     "execution_count": 115,
     "metadata": {},
     "output_type": "execute_result"
    }
   ],
   "source": [
    "np.eye(10)"
   ]
  },
  {
   "cell_type": "markdown",
   "metadata": {},
   "source": [
    "диагональная матрица - это матрица у которой ненулевые элементы стоят только на главное диагонали"
   ]
  },
  {
   "cell_type": "code",
   "execution_count": 119,
   "metadata": {},
   "outputs": [
    {
     "data": {
      "text/plain": [
       "array([[1, 0, 0],\n",
       "       [0, 2, 0],\n",
       "       [0, 0, 3]])"
      ]
     },
     "execution_count": 119,
     "metadata": {},
     "output_type": "execute_result"
    }
   ],
   "source": [
    "np.diag([1,2,3])"
   ]
  },
  {
   "cell_type": "markdown",
   "metadata": {},
   "source": [
    "транспонированная матрица - матрица полеченная из исходной заменой строчек на столбцы:\n",
    "\n",
    "$(A^T)_{ij} = A_{ji}$"
   ]
  },
  {
   "cell_type": "code",
   "execution_count": 121,
   "metadata": {},
   "outputs": [
    {
     "name": "stdout",
     "output_type": "stream",
     "text": [
      "[[0 1]\n",
      " [2 3]\n",
      " [4 5]\n",
      " [6 7]\n",
      " [8 9]]\n",
      "\n",
      "[[0 2 4 6 8]\n",
      " [1 3 5 7 9]]\n"
     ]
    }
   ],
   "source": [
    "A = np.arange(10).reshape(5, 2)\n",
    "print(A)\n",
    "print()\n",
    "print(A.T)"
   ]
  },
  {
   "cell_type": "markdown",
   "metadata": {},
   "source": [
    "Симметричная матрица:\n",
    "\n",
    "$A = A^T$\n",
    "\n",
    "Антисимметричная матрица:\n",
    "\n",
    "$A = −A^T$\n",
    "\n",
    "Любую матрице можно представить как сумма симметричной и антисимметричной:\n",
    "\n",
    "$A = 0.5 (A + A^T) + 0.5 (A - A^T)$"
   ]
  },
  {
   "cell_type": "markdown",
   "metadata": {},
   "source": [
    "### Свойства матриц"
   ]
  },
  {
   "cell_type": "markdown",
   "metadata": {},
   "source": [
    "ранг матрицы - максимальное число линейно независимых столбцов в матрицу.\n",
    "\n",
    "набор вектора называются линейно независимыми - если никакой вектор из этого набора не может быть выражен как линейная комбинация остальных векторов"
   ]
  },
  {
   "cell_type": "code",
   "execution_count": 178,
   "metadata": {},
   "outputs": [
    {
     "data": {
      "text/plain": [
       "array([ True,  True,  True])"
      ]
     },
     "execution_count": 178,
     "metadata": {},
     "output_type": "execute_result"
    }
   ],
   "source": [
    "\n",
    "x = np.array([1,2,3])\n",
    "y = np.array([3,2,3])\n",
    "z = np.array([7, 6, 9])\n",
    "(x + 2*y) == z"
   ]
  },
  {
   "cell_type": "code",
   "execution_count": 181,
   "metadata": {},
   "outputs": [
    {
     "name": "stdout",
     "output_type": "stream",
     "text": [
      "10\n",
      "2\n"
     ]
    }
   ],
   "source": [
    "A = np.random.rand(10, 10)\n",
    "print(la.matrix_rank(A))\n",
    "print(la.matrix_rank(np.array([x,y,z])))"
   ]
  },
  {
   "cell_type": "markdown",
   "metadata": {},
   "source": [
    "след матрицы (trace) - сумма диагональных элементов"
   ]
  },
  {
   "cell_type": "code",
   "execution_count": 125,
   "metadata": {
    "collapsed": true
   },
   "outputs": [],
   "source": [
    "A = np.random.rand(2, 2)"
   ]
  },
  {
   "cell_type": "code",
   "execution_count": 126,
   "metadata": {},
   "outputs": [
    {
     "data": {
      "text/plain": [
       "array([[0.13423334, 0.00836608],\n",
       "       [0.35763931, 0.25447095]])"
      ]
     },
     "execution_count": 126,
     "metadata": {},
     "output_type": "execute_result"
    }
   ],
   "source": [
    "A"
   ]
  },
  {
   "cell_type": "code",
   "execution_count": 127,
   "metadata": {},
   "outputs": [
    {
     "data": {
      "text/plain": [
       "0.3887042846020753"
      ]
     },
     "execution_count": 127,
     "metadata": {},
     "output_type": "execute_result"
    }
   ],
   "source": [
    "A.trace()"
   ]
  },
  {
   "cell_type": "markdown",
   "metadata": {},
   "source": [
    "норма фробениуса: корень квадратный из сумма квадратов всех элементов матрицы"
   ]
  },
  {
   "cell_type": "code",
   "execution_count": 132,
   "metadata": {},
   "outputs": [
    {
     "data": {
      "text/plain": [
       "(0.45907507242876316, 0.45907507242876316, 0.45907507242876316)"
      ]
     },
     "execution_count": 132,
     "metadata": {},
     "output_type": "execute_result"
    }
   ],
   "source": [
    "la.norm(A), np.sqrt((A ** 2).sum()), np.sqrt(np.trace(A @ A.T))"
   ]
  },
  {
   "cell_type": "markdown",
   "metadata": {},
   "source": [
    "### Обратная матрица"
   ]
  },
  {
   "cell_type": "markdown",
   "metadata": {},
   "source": [
    "применимо только для квадратных матриц (для не квадратных матриц псевдо обратные матрицы)\n",
    "\n",
    "$A^{−1}A = I = AA^{−1}$\n",
    "\n",
    "Обратная матрица существует тогда и только тогда, когда ранк матрицы nxn равен n (или матрица полного ранга).\n",
    "\n",
    "Свойства:\n",
    "- обратная матрица единственна\n",
    "- $(A^{−1})^{−1}=A $\n",
    "- При умножение матрицы на вектор мы как-то меняем координаты вектора в пространстве. Обратная матрица возвращает исходный вектор\n",
    "- $(AB)^{−1} = B^{−1}A^{−1}$\n",
    "-  $(A^{−1}){T} = (A{T}){−1}$\n"
   ]
  },
  {
   "cell_type": "markdown",
   "metadata": {},
   "source": [
    "### Сложность вычисления обратной матрицы\n",
    "\n",
    "|Алгоритм|Сложность|\n",
    "|---|---|\n",
    "|Gauss–Jordan elimination|$O(n^3)$|\n",
    "|Strassen algorithm|$O(n^{2.807})$|\n",
    "|Coppersmith–Winograd algorithm|$O(n^{2.376})$|\n",
    "|Optimized CW-like algorithms|$O(n^{2.373})$|\n"
   ]
  },
  {
   "cell_type": "code",
   "execution_count": 135,
   "metadata": {},
   "outputs": [
    {
     "data": {
      "text/plain": [
       "array([[1., 2.],\n",
       "       [3., 1.]])"
      ]
     },
     "execution_count": 135,
     "metadata": {},
     "output_type": "execute_result"
    }
   ],
   "source": [
    "A = np.array([[1.,2], [3, 1]])\n",
    "A"
   ]
  },
  {
   "cell_type": "code",
   "execution_count": 168,
   "metadata": {},
   "outputs": [
    {
     "name": "stdout",
     "output_type": "stream",
     "text": [
      "[[-0.2  0.4]\n",
      " [ 0.6 -0.2]]\n",
      "\n",
      "[[1. 2.]\n",
      " [3. 1.]]\n"
     ]
    }
   ],
   "source": [
    "A_inv = la.inv(A) \n",
    "print(A_inv)\n",
    "print()\n",
    "print(la.inv(A_inv))"
   ]
  },
  {
   "cell_type": "code",
   "execution_count": 146,
   "metadata": {},
   "outputs": [
    {
     "name": "stdout",
     "output_type": "stream",
     "text": [
      "[[1. 0.]\n",
      " [0. 1.]]\n",
      "\n",
      "[[1. 0.]\n",
      " [0. 1.]]\n"
     ]
    }
   ],
   "source": [
    "print(A @ A_inv)\n",
    "print()\n",
    "print(A_inv @ A)"
   ]
  },
  {
   "cell_type": "code",
   "execution_count": 147,
   "metadata": {
    "collapsed": true
   },
   "outputs": [],
   "source": [
    "x = [1, 2]"
   ]
  },
  {
   "cell_type": "code",
   "execution_count": 143,
   "metadata": {},
   "outputs": [
    {
     "data": {
      "text/plain": [
       "array([5., 5.])"
      ]
     },
     "execution_count": 143,
     "metadata": {},
     "output_type": "execute_result"
    }
   ],
   "source": [
    "x2 = A.dot(x)\n",
    "x2"
   ]
  },
  {
   "cell_type": "code",
   "execution_count": 149,
   "metadata": {},
   "outputs": [
    {
     "data": {
      "text/plain": [
       "array([1., 2.])"
      ]
     },
     "execution_count": 149,
     "metadata": {},
     "output_type": "execute_result"
    }
   ],
   "source": [
    "A_inv.dot(x2)"
   ]
  },
  {
   "cell_type": "markdown",
   "metadata": {},
   "source": [
    "Вектора ортогональны, если их скалярное произведение равно нулю. Вектора нормализированны, если их l2 норма равна единице.\n",
    "\n",
    "ортогональные/ортонормальная матрица\n",
    "Матрица у которой столбцы нормализированы и  скалярное произведение разных столбцов равно нулю\n",
    "\n",
    "$U^TU = I = UU^T$\n",
    "\n",
    "$U^T=U^{-1}$ для квадратных матриц"
   ]
  },
  {
   "cell_type": "code",
   "execution_count": 157,
   "metadata": {},
   "outputs": [
    {
     "data": {
      "text/plain": [
       "array([[ 0.54030231, -0.84147098],\n",
       "       [ 0.84147098,  0.54030231]])"
      ]
     },
     "execution_count": 157,
     "metadata": {},
     "output_type": "execute_result"
    }
   ],
   "source": [
    "ang = 1\n",
    "U = np.array([[np.cos(ang), -np.sin(ang)], [np.sin(ang), np.cos(ang)]])\n",
    "U"
   ]
  },
  {
   "cell_type": "code",
   "execution_count": 159,
   "metadata": {},
   "outputs": [
    {
     "data": {
      "text/plain": [
       "(1.0, 1.0)"
      ]
     },
     "execution_count": 159,
     "metadata": {},
     "output_type": "execute_result"
    }
   ],
   "source": [
    "la.norm(U[:, 0]), la.norm(U[:, 1])"
   ]
  },
  {
   "cell_type": "code",
   "execution_count": 161,
   "metadata": {},
   "outputs": [
    {
     "name": "stdout",
     "output_type": "stream",
     "text": [
      "[[ 0.54030231 -0.84147098]\n",
      " [ 0.84147098  0.54030231]]\n",
      "\n",
      "[[ 0.54030231  0.84147098]\n",
      " [-0.84147098  0.54030231]]\n",
      "\n",
      "[[ 0.54030231  0.84147098]\n",
      " [-0.84147098  0.54030231]]\n"
     ]
    }
   ],
   "source": [
    "print(U)\n",
    "print()\n",
    "print(U.T)\n",
    "print()\n",
    "print(la.inv(U))"
   ]
  },
  {
   "cell_type": "markdown",
   "metadata": {},
   "source": [
    "### Определитель матрицы\n",
    "\n",
    "Определитель квадратной матрицы. Выразим через рекурсивную формулу\n",
    "\n",
    "$$ \\Delta = \\sum_{j=1}^{n}(-1)^{1+j}a_{1j} |A_{\\1\\j}| $$\n",
    "\n",
    "где $|A_{\\1\\j}|$ - дополнительный минор к элементу $a_{1j}$\n",
    "\n",
    "Дополнительный минор - определитель матрицы, полученной вычеркиванием первой строки и $j$ столбца\n",
    "\n",
    "\n",
    "Пример:\n",
    "\n",
    "Найдем определитель матрицы размером $3 \\times 3$:\n",
    "\n",
    "$A = \\begin{bmatrix}\n",
    "  1 & 2 & 3 \\\\\n",
    "  4 & 5 & 6 \\\\\n",
    "  7 & 8 & 0\n",
    "\\end{bmatrix}$\n",
    "\n",
    "Применяем формулу:\n",
    "\n",
    "$det(A) = 1 \\times \\left | \\begin{bmatrix} 5 & 6 \\\\ 8 & 0 \\end{bmatrix} \\right |\n",
    "     - 2 \\times \\left | \\begin{bmatrix} 4 & 6 \\\\ 7 & 0 \\end{bmatrix} \\right |\n",
    "     + 3 \\times \\left | \\begin{bmatrix} 4 & 5 \\\\ 7 & 8 \\end{bmatrix} \\right |$\n",
    "\n",
    "Расчитаем определители каждой из этих матриц размером $2 \\times 2$  (**дополнительные миноры**):\n",
    "\n",
    "$\\left | \\begin{bmatrix} 5 & 6 \\\\ 8 & 0 \\end{bmatrix} \\right | = 5 \\times 0 - 6 \\times 8 = -48$\n",
    "\n",
    "$\\left | \\begin{bmatrix} 4 & 6 \\\\ 7 & 0 \\end{bmatrix} \\right | = 4 \\times 0 - 6 \\times 7 = -42$\n",
    "\n",
    "$\\left | \\begin{bmatrix} 4 & 5 \\\\ 7 & 8 \\end{bmatrix} \\right | = 4 \\times 8 - 5 \\times 7 = -3$\n",
    "\n",
    "Подсчитаем результат:\n",
    "\n",
    "$det(A) = 1 \\times (-48) - 2 \\times (-42) + 3 \\times (-3) = 27$"
   ]
  },
  {
   "cell_type": "markdown",
   "metadata": {},
   "source": [
    "Определим присоединенную матрицу к матрице A:\n",
    "\n",
    "$adj(A)_{ij} = (−1)^{i+j} |A_{\\j,\\i}$|\n",
    "\n",
    "Тогда обратная матрица будет равна:\n",
    "$$A^{-1}=\\frac{1}{detA}adj(A)$$\n"
   ]
  },
  {
   "cell_type": "markdown",
   "metadata": {},
   "source": [
    "Свойства определителя:\n",
    "- $|A| = |A^T|$\n",
    "- $|AB| = |A||B|$ для квадратных AB\n",
    "- |A| = 0 тогда и только тогда, когда  A сингулярна (нет обратной матрицы).\n",
    "- $|A^{−1}| = 1/|A|$ (для обратимой матрицы A)"
   ]
  },
  {
   "cell_type": "code",
   "execution_count": 169,
   "metadata": {},
   "outputs": [
    {
     "data": {
      "text/plain": [
       "27.0"
      ]
     },
     "execution_count": 169,
     "metadata": {},
     "output_type": "execute_result"
    }
   ],
   "source": [
    "m = np.array([\n",
    "        [1, 2, 3],\n",
    "        [4, 5, 6],\n",
    "        [7, 8, 0]\n",
    "    ])\n",
    "la.det(m)"
   ]
  },
  {
   "cell_type": "markdown",
   "metadata": {},
   "source": [
    "### Сложность вычисления определителя матрицы\n",
    "\n",
    "|Алгоритм|Сложность|\n",
    "|---|---|\n",
    "|Laplace expansion|$O(n!)$|\n",
    "|Division-free algorithm|$O(n^4)$|\n",
    "|LU decomposition|$O(n^3)$|\n",
    "|Bareiss algorithm|$O(n^3)$|\n",
    "|Fast matrix multiplication|$O(n^{2.373})$|\n",
    "\n"
   ]
  },
  {
   "cell_type": "markdown",
   "metadata": {},
   "source": [
    "Вопрос:\n",
    "- Геометрическая интерпретация определителя?"
   ]
  },
  {
   "cell_type": "markdown",
   "metadata": {},
   "source": [
    "## Квадратичные формы и положительно полуопределенные матрицы"
   ]
  },
  {
   "cell_type": "markdown",
   "metadata": {},
   "source": [
    "#### Квадратичная форма для квадратной матрицы:\n",
    "$x^TAx= \\sum_{i=1}^{n}\\sum_{j=1}^{n} A_{ij}x_ix_j$\n",
    "\n",
    "$x^TAx = (x^TAx)^T = x^TA^Tx = x^T(0.5A + 0.5A^T)x$ -- в квадратичную форму вносит вклад только симметричная часть матрицы\n",
    "\n",
    "Вопос, почему возможен первый переход в равенстве выше?\n",
    "\n",
    "\n",
    "Симметричная матрица A:\n",
    "- положительно определена, если для любого ненулевого x, квадратичная форма больше нуля\n",
    "- положительно полуопределена, если для любого ненулевого x, квадратичная форма больше либо равна нулю\n",
    "- отрицательно определена, если для любого ненулевого x, квадратичная форма больше нуля\n",
    "- отрицательно полуопределена, если для любого ненулевого x, квадратичная форма меньше либо равно нулю\n",
    "- в остальных случаях матрица неопределена"
   ]
  },
  {
   "cell_type": "markdown",
   "metadata": {},
   "source": [
    "## Собственные числа и собственные векторы"
   ]
  },
  {
   "cell_type": "markdown",
   "metadata": {},
   "source": [
    "Ненулевой вектор $x$ в линейном пространстве $\\mathcal{L}$ называют **собственным вектором линейного оператора** $A: \\mathcal{L} \\to\\mathcal{L}$, если для некоторого действительного числа $\\lambda$ выполняется соотношение $Ax=\\lambda x$. При этом число $\\lambda$ называют **собственным значением (собственным числом)** оператора $A$."
   ]
  },
  {
   "cell_type": "markdown",
   "metadata": {},
   "source": [
    "Рассмотрим матрицу\n",
    "\n",
    "$$A= \\begin{bmatrix} -1 & -6 \\\\ 2 & 6 \\end{bmatrix} $$\n",
    "\n",
    "Умножим на матрицу\n",
    "\n",
    "$$\\begin{bmatrix} 2 \\\\ -1 \\end{bmatrix}$$\n",
    "\n",
    "$$\\begin{bmatrix} -1 & -6 \\\\ 2 & 6 \\end{bmatrix} \\times \\begin{bmatrix} 2 \\\\ -1 \\end{bmatrix} = \n",
    "\\begin{bmatrix} -1 \\cdot 2 + 6\\cdot 1  \\\\ 2 \\cdot 2 - 6 \\cdot 1 \\end{bmatrix} = \n",
    "\\begin{bmatrix} 4  \\\\ -2  \\end{bmatrix} = 2\\begin{bmatrix} 2  \\\\ -1  \\end{bmatrix}$$"
   ]
  },
  {
   "cell_type": "markdown",
   "metadata": {},
   "source": [
    "Смысл этих понятий следующий:\n",
    "\n",
    "Матрица является оператором, делающим преобразование в пространстве - поворот, сдвиг и пр. \n",
    "Для оператора мы вычисляем вектора и числа такие, что при применении к вектору оператора получаем масштабирование вектора."
   ]
  },
  {
   "cell_type": "markdown",
   "metadata": {},
   "source": [
    "Свойства:\n",
    "- След матрицы равен сумме собсвенных числел\n",
    "- Определитель равен произведению собственных чисел\n",
    "- Ранг матрицы (максимальное количество линейно независимых элементов) равен количеству ненулевых собственных чисел\n",
    "- Если матрица несингулярна, то собсвенные числа обратной матрицы равны 1 / $\\lambda$ \n",
    "- Собственные числа диагональной матрицы это диагональные элементы"
   ]
  },
  {
   "cell_type": "markdown",
   "metadata": {},
   "source": [
    "Вопрос:\n",
    "- чему равны равны собсвенные вектора диагональной матрицы?"
   ]
  },
  {
   "cell_type": "code",
   "execution_count": 172,
   "metadata": {},
   "outputs": [
    {
     "name": "stdout",
     "output_type": "stream",
     "text": [
      "(array([2., 3.]), array([[-0.89442719,  0.83205029],\n",
      "       [ 0.4472136 , -0.5547002 ]]))\n",
      "[ 0.89442719 -0.4472136 ]\n"
     ]
    }
   ],
   "source": [
    "m = np.array([-1, -6, 2, 6]).reshape(2, 2)\n",
    "print(la.eig(m))\n",
    "v = np.array([2, -1])\n",
    "print(v / la.norm(v))"
   ]
  },
  {
   "cell_type": "markdown",
   "metadata": {},
   "source": [
    "Мы можем расписать уравнение на поиск собсвенных значений как:\n",
    "AX = XΛ\n",
    "где X - матрица в которой столбцы это собсвенные вектора A, Λ -- диагональная матрица с собсвенными числами на диагонали\n",
    "\n",
    "Если собственные числа линейно независимы, то мы можем разложить матрицу следующим образом:\n",
    "\n",
    "$A = XΛX^{−1}$"
   ]
  },
  {
   "cell_type": "markdown",
   "metadata": {},
   "source": [
    "### Сингулярное разложение (SVD -- singular value decomposition)"
   ]
  },
  {
   "cell_type": "markdown",
   "metadata": {
    "collapsed": true
   },
   "source": [
    "Любая матрица $m \\times n$ matrix $A$ может быть разложена на матричное произведение 3 матриц:\n",
    "* матрица поворота $U$ ($m \\times m$ ортогональная матрица)\n",
    "* диагональная матрица с неотрицательными элементами (scaling & projecting matrix) $\\Sigma$ ($m \\times n$)\n",
    "* матрица поворота $V^T$ ($n \\times n$ ортогональная матрица)\n",
    "\n",
    "$A = U \\cdot \\Sigma \\cdot V^{T}$\n",
    "\n",
    "Таким образом мы раскладываем преобразование данной матрицы на 3 компоненты:\n",
    "- поворот\n",
    "- масштабирование \n",
    "- еще один поворот"
   ]
  },
  {
   "cell_type": "code",
   "execution_count": 193,
   "metadata": {},
   "outputs": [
    {
     "data": {
      "text/plain": [
       "array([[ 0.89442719, -0.4472136 ],\n",
       "       [ 0.4472136 ,  0.89442719]])"
      ]
     },
     "execution_count": 193,
     "metadata": {},
     "output_type": "execute_result"
    }
   ],
   "source": [
    "A = np.array([\n",
    "    [1, 1.5],\n",
    "    [0, 1]\n",
    "])\n",
    "U, S_diag, V_T = la.svd(A)\n",
    "U"
   ]
  },
  {
   "cell_type": "code",
   "execution_count": 194,
   "metadata": {},
   "outputs": [
    {
     "data": {
      "text/plain": [
       "array([2. , 0.5])"
      ]
     },
     "execution_count": 194,
     "metadata": {},
     "output_type": "execute_result"
    }
   ],
   "source": [
    "S_diag"
   ]
  },
  {
   "cell_type": "code",
   "execution_count": 195,
   "metadata": {},
   "outputs": [
    {
     "data": {
      "text/plain": [
       "array([[ 0.4472136 ,  0.89442719],\n",
       "       [-0.89442719,  0.4472136 ]])"
      ]
     },
     "execution_count": 195,
     "metadata": {},
     "output_type": "execute_result"
    }
   ],
   "source": [
    "V_T"
   ]
  },
  {
   "cell_type": "markdown",
   "metadata": {},
   "source": [
    "## Производная"
   ]
  },
  {
   "cell_type": "markdown",
   "metadata": {},
   "source": [
    "Точку $b \\in \\mathbb R$ называют пределом функции $f(x)$ в точке $a \\in \\mathbb R$, если, каково бы ни было положительное число $\\epsilon$, найдется положительное число $\\delta$, такое, что для всех точек проколотой $\\delta$-окрестности точки $a$ значения функции принадлежат $\\epsilon$-окрестности точки $b$"
   ]
  },
  {
   "cell_type": "markdown",
   "metadata": {},
   "source": [
    "<img src=\"limit.png\" width=250>"
   ]
  },
  {
   "cell_type": "markdown",
   "metadata": {},
   "source": [
    "Для произвольной функции $y=f(x)$ с отношение приращений называется **разностным отношением**\n",
    "\n",
    "$$ \\frac{\\Delta y}{\\Delta x} = \\frac{\\Delta f(a)}{\\Delta x}=\\frac{f(a+\\Delta x) - f(a)}{\\Delta x} = \\varphi (\\Delta x)$$"
   ]
  },
  {
   "cell_type": "markdown",
   "metadata": {},
   "source": [
    "Пусть функция $y=f(X)$ определена в точке $x=a$ и некоторой её окрестности.\n",
    "\n",
    "**Производной** $f'(a)$ **функции** $f(x)$ в фиксированной точке $x=a$ называют предел при $\\Delta x \\rightarrow 0$ разностного отношения (при условии, что этот предел существует), т.е.\n",
    "\n",
    "$$ f'(x) = \\lim_{\\Delta x \\rightarrow 0} \\frac{\\Delta f(a)}{\\Delta x}=\\lim_{\\Delta x \\rightarrow 0} \\frac{f(a+\\Delta x) - f(a)}{\\Delta x}$$"
   ]
  },
  {
   "cell_type": "markdown",
   "metadata": {},
   "source": [
    "Пусть функции $u(x)$ и $v(x)$ дифференцируемы в точке $x$. Тогда в этой точке дифференцируемы их сумма (разность), произведение и частное (последнее при условии $v(x) \\neq 0$), причем (опуская в обозначениях аргумент $x$) справедливы равенства:\n",
    "\n",
    "\n",
    "1. $(u+v)'=u'+v'$\n",
    "1. $(uv)'=u'v+uv'$\n",
    "1. $(\\frac{u}{v})'=\\frac{u'v-uv'}{v^2}$"
   ]
  },
  {
   "cell_type": "markdown",
   "metadata": {},
   "source": [
    "Производная сложной функции $F(x) = y(u(x))$ по независимому переменному $x$ равна произведению производной функции  $y(u)$ по промежуточному аргементу $u$ и промежуточного аргумента $u(x)$ по $x$, т.е. \n",
    "\n",
    "$$F'(x) = y'_u\\rvert _{u=u(x)}u'(x)$$"
   ]
  },
  {
   "cell_type": "markdown",
   "metadata": {},
   "source": [
    "Основные правила дифференцирования\n",
    "\n",
    "1. $y=Cu\\quad (C=const) \\hspace{50pt} y'=Cu'$\n",
    "1. $y=u\\pm v  \\hspace{93pt} y'=u'\\pm v'$\n",
    "1. $y=uv \\hspace{103pt} y'=u'v+uv'$\n",
    "1. $y=\\frac{u}{v}\\quad (v\\neq 0) \\hspace{69pt} y'=\\frac{u'v-uv'}{v^2}$\n",
    "1. $y=f(u),\\quad u=u(x)\\hspace{52pt} y'_x=f'_uu'$\n",
    "1. $y=f(x),\\quad x=f^{-1}(y) \\hspace{45pt} x'_y=\\frac{1}{y'_x} \\quad (y'_x \\neq 0)$\n",
    "1. $y= \\begin{cases} y=y(t), \\\\ x=x(t) \\end{cases} \\hspace{65pt} \\begin{cases} y'_x=\\frac{y'_t}{x'_t} & (x'_t \\neq 0) \\\\ x=x(t) \\end{cases}$"
   ]
  },
  {
   "cell_type": "markdown",
   "metadata": {},
   "source": [
    "**Производные элементарных функций**\n",
    "\n",
    "1. $(C)'=0 \\quad (C=const)$\n",
    "2. $(u^s)' = su^{s-1}\\cdot u'$  \n",
    "при $s=1/2 \\quad (\\sqrt{u})'=\\frac{1}{2\\sqrt{u}}\\cdot u'$  \n",
    "при $s=-1 \\quad (\\frac{1}{u})'=-\\frac{1}{u^2}\\cdot u'$\n",
    "3. $(a^u)'=a^ulna\\cdot u' \\quad (a>0, a\\neq1),$  \n",
    "$(e^u)'=e^u\\cdot u'$\n",
    "4. $(\\log_au)'=\\frac{1}{u\\ln a}\\cdot u' \\quad (a>0, a \\neq 1)$  \n",
    "$(\\ln u)'=\\frac{1}{u}\\cdot u'$\n",
    "5. $(\\sin u)'=\\cos u \\cdot u'$\n",
    "6. $(\\cos u)'=-\\sin u \\cdot u'$\n",
    "7. $(tg u)'=\\frac{1}{\\cos^2u} \\cdot u'$\n",
    "8. $(ctg u)'=-\\frac{1}{\\sin^2u} \\cdot u'$\n",
    "9. $(\\arcsin u)'=\\frac{1}{\\sqrt{1-u^2}} \\cdot u'$\n",
    "10. $(\\arccos u)'=-\\frac{1}{\\sqrt{1-u^2}} \\cdot u'$\n",
    "11. $(arctg u)'=\\frac{1}{1+u^2} \\cdot u'$\n",
    "12. $(arcctg u)'=-\\frac{1}{1+u^2} \\cdot u'$\n",
    "13. $(sh u)'=ch u \\cdot u'$\n",
    "14. $(ch u)'=sh u \\cdot u'$\n",
    "15. $(th u)'=\\frac{1}{ch^2 u} \\cdot u'$\n",
    "16. $(cth u)'=-\\frac{1}{sh^2 u} \\cdot u'$"
   ]
  },
  {
   "cell_type": "markdown",
   "metadata": {},
   "source": [
    "Вопросы:\n",
    "- Как в математике используют производные?"
   ]
  },
  {
   "cell_type": "markdown",
   "metadata": {},
   "source": [
    "# Определенный интеграл"
   ]
  },
  {
   "cell_type": "markdown",
   "metadata": {},
   "source": [
    "### Функция одной переменной\n",
    "площадь под кривой\n",
    "$I = \\sum_{i=0}^n f(x_{i}) \\Delta x_{i}$  \n",
    "\n",
    "$\\Delta x_{i}$ -> 0\n",
    "<img src=\"integral.png\" width=500>\n",
    "\n",
    "### Функция двух переменных\n",
    "объем под поверхностью\n",
    "<img src=\"integral2.png\" width=500>"
   ]
  },
  {
   "cell_type": "markdown",
   "metadata": {},
   "source": [
    "## Неопределенный интеграл\n",
    "\n",
    "функцию $F(x)$ называют первообразной функции $f(x)$ в промежутке $X$, если $F(x)$ дифференцируема в этом промежутке и для любого $x \\in X$ значение производной $F'(x)$ совпадает со значением функции $f(x)$.\n",
    "\n",
    "Множество всех первообразных функции $f(x)$ в некотором промежутке называют неопределенным интегралом от этой функции в данном промежутке и обозначают $\\int f(x)dx$. При этом символ $\\int$ именуют знаком интеграла, $f(x)$ - подынтегральной функцией, $f(x)dx$ - подынтегральным выражением, а $x$ - переменным интегрирования.\n",
    "\n",
    "$$\\int f(x)dx=F(x) + C$$\n",
    "\n",
    "**Свойства**\n",
    "\n",
    "1. $$\\left(\\int{f(x)dx}\\right)' = (F(x)+C)' = f(x)$$\n",
    "2. $$\\int{F'(x)dx} = F(x)+C$$\n",
    "3. Если $\\lambda \\in \\mathbb R \\backslash \\{0\\}$, то\n",
    "$$\\int \\lambda f(x)dx=\\lambda \\int f(x)dx$$\n",
    "4. $$\\int (\\lambda_1 f_1(x)+\\lambda_2 f_2(x))dx=\\lambda_1 \\int f_1(x)dx + \\lambda_2 \\int f_2(x)dx$$\n",
    "\n",
    "\n"
   ]
  },
  {
   "cell_type": "markdown",
   "metadata": {},
   "source": [
    "**Основные неопределенные интегралы**\n",
    "\n",
    "1. $\\int u^sdu=\\frac{u^{s+1}}{s+1} \\quad s \\neq -1$\n",
    "2. $\\int \\frac{du}{u}=ln|u|+C$\n",
    "3. $\\int a^udu=\\frac{a^u}{\\ln a}+C, a > 0, a \\neq 1$\n",
    "4. $\\int e^u du = e^u+C$\n",
    "5. $ \\int \\sin u du = -\\cos u + C$\n",
    "6. $\\int \\cos udu = \\sin u + C$\n",
    "7. $\\int \\frac{du}{\\cos^2u}=tg u + C$\n",
    "8. $\\int \\frac{du}{\\sin^2u}=-ctgu + C$\n",
    "9. $\\int shudu=chu+c$\n",
    "10. $\\int ch udu=shu+C$\n",
    "11. $\\int \\frac{du}{ch^2u}=thu+C$\n",
    "12. $\\int \\frac{du}{sh^2u}=-cthu+C$\n",
    "13. $\\int \\frac{du}{u^2+a^2}=\\frac{1}{a}arctg \\frac{u}{a}+C=-\\frac{1}{a}arcctg \\frac{u}{a}+C_1, a \\neq 0$\n",
    "14. $\\int \\frac{du}{u^2-a^2}=\\frac{1}{2a}\\ln |\\frac{u-a}{u+a}|+C$\n",
    "15. $\\int \\frac{du}{\\sqrt{a^2-u^2}}=arcsin \\frac{u}{a}+C=-arccos \\frac{u}{a}+C_1, a \\neq 0$\n",
    "16. $\\int \\frac{du}{\\sqrt{u^2+A}}=\\ln|{u+\\sqrt{u^2+A}}| + C$"
   ]
  },
  {
   "cell_type": "markdown",
   "metadata": {},
   "source": [
    "# Градиент\n",
    "обощение производной\n",
    "## Градиент относительно вектора\n",
    "Пусть функция f выглядит следующим образом (переводит вектор в скаляр):\n",
    "\n",
    "$f : R^{n} → R$\n",
    "\n",
    "Например: $f(x) = x_1^2 + 3*x_2^3$\n",
    "\n",
    "\n",
    "$ \\nabla_x f(x) = \\begin{bmatrix} \\frac{\\delta f(x)}{\\delta x_1} \\\\ ...\\\\ \\frac{\\delta f(x)}{\\delta x_n} \\end{bmatrix}$\n",
    "\n",
    "$ \\nabla_x f(x) = \\begin{bmatrix} 2x_1 \\\\ 9x_2^2 \\end{bmatrix}$\n",
    "\n",
    "## Градиент относительно матрицы\n",
    "$f : R^{m x n} → R$\n",
    "\n",
    "$ \\nabla_A f(A) = \\begin{bmatrix} \\frac{\\delta f(A)}{\\delta A_{11}} & ...& \\frac{\\delta f(A)}{\\delta A_{1n}}  \\\\ &...&\\\\ \\frac{\\delta f(A)}{\\delta A_{m1}} & ... &  \\frac{\\delta f(A)}{\\delta A_{mn}}\\end{bmatrix}$"
   ]
  },
  {
   "cell_type": "markdown",
   "metadata": {},
   "source": [
    "# Гессиан \n",
    "матрица вторых производных\n",
    "$ \\nabla_x^2 f(x) = \\begin{bmatrix} \\frac{\\delta^2 f(x)}{\\delta x_1^2} & \\frac{\\delta^2 f(x)}{\\delta x_1 \\delta x_2}& ...\n",
    " \\frac{\\delta^2 f(x)}{\\delta x_1 \\delta x_n}  \\\\ &...&\\\\ \\frac{\\delta^2 f(x)}{\\delta x_n^2} & \\frac{\\delta^2 f(x)}{\\delta x_n \\delta x_2}& ...\n",
    " \\frac{\\delta^2 f(x)}{\\delta x_n^2}\\end{bmatrix}$\n",
    " \n",
    " пример:\n",
    " \n",
    "$f(x) = x_1^2 + 3*x_2^3 + 10x_1 x_2$\n",
    "\n",
    "$ \\nabla_x^2 f(x) = \\begin{bmatrix} 2 & 10 \\\\ 10 & 18x_2\\end{bmatrix}$\n",
    "\n",
    "\n",
    "Гессиан всегда симметричен"
   ]
  },
  {
   "cell_type": "markdown",
   "metadata": {},
   "source": [
    "### Градиент и Гессиан матричных выражений\n",
    "\n",
    "- $\\nabla_x b^Tx = b$\n",
    "- $\\nabla_x x^TAx= 2Ax $ (для симметричной матрицы A)\n",
    "- $\\nabla_x^2 x^TAx= 2A $ (для симметричной матрицы A)"
   ]
  },
  {
   "cell_type": "markdown",
   "metadata": {},
   "source": [
    "### Якобиан\n",
    "пусть дана функция\n",
    "$f : R^n → R^m$\n",
    "\n",
    "$J = \\begin{bmatrix} \\frac{\\delta f_1}{\\delta x_1} & ...& \\frac{\\delta f_1}{\\delta x_n}  \\\\ &...&\\\\ \\frac{\\delta f_m}{\\delta x_1} & ... &  \\frac{\\delta f_m}{\\delta x_n}\\end{bmatrix}$\n",
    "\n",
    "если m = n, то можем посчитать определитель Якоби.\n",
    "\n",
    "Используется при замене переменных при интегрировании функции многих переменных"
   ]
  },
  {
   "cell_type": "markdown",
   "metadata": {},
   "source": [
    "## Поиск экстремума"
   ]
  },
  {
   "cell_type": "markdown",
   "metadata": {},
   "source": [
    "### Применение дифференцирования\n",
    "\n",
    "Рассмотрим задачу поиска экстремума функции\n",
    "\n",
    "$$ x^3+2xy+y^2 \\rightarrow extr$$\n",
    "\n",
    "Функция является *бесконечно дифференцируемой*. Поэтому точки экстремума - точки, которые можно найти, приравняв нулю частные производные функции первого порядка:\n",
    "\n",
    "$$ \\begin{cases}f'_x(x,y)=0 \\\\ f'_y(x,y)=0 \\end{cases}$$\n",
    "В нашем случае получим систему уравнений:\n",
    "$$ \\begin{cases}3x^2+2y=0 \\\\ 2x+2y=0 \\end{cases}$$\n",
    "\n",
    "Из второго уравнения получим $x=-y$, и после подстановки в первое уравнение получим $3y^2+2y=0$.\n",
    "\n",
    "Следовательно система имеет два решения:\n",
    "\n",
    "$y_1=0, x_1=0$ и $y_2=-\\frac{2}{3}, x_2=\\frac{2}{3}$\n",
    "\n",
    "### Как понять точка минимум или максимум:\n",
    "https://en.wikipedia.org/wiki/Derivative_test#Higher-order_derivative_test\n",
    "- n нечетное и $f^{(n+1)}(x)<0 $ локальный максимум\n",
    "- n нечетное и $f^{(n+1)}(x)>0 $ локальный минимум\n",
    "- n четное и $f^{(n+1)}(x)<0 $ точка перегиба убывающая\n",
    "- n четное и $f^{(n+1)}(x)>0 $ точка перегиба возрастающая\n",
    "\n",
    "\n",
    "### Пример 1\n",
    "$f(x) = x^2$  в точке x=0\n",
    "\n",
    "n=1, нечетное\n",
    "\n",
    "$f^{2}(0) = 2 > 0$ -> локальный минимум\n",
    "\n",
    "### Пример 2\n",
    "$f(x) = x^3$  в точке x=0$\n",
    "\n",
    "n=1, нечетное\n",
    "\n",
    "$f^{2}(0) = 6x = 0$ -> ничего не можем сказать \n",
    "\n",
    "n=2, четное\n",
    "\n",
    "$f^{3}(0) = 6 > 0$ -> точка перегиба возрастающая\n",
    "\n",
    "### Что делать если не можем решить аналитически?\n",
    "Как правило можем поситать градиент (либо аналитически либо численно в конкретной точке) -- градиент показывает направление в котором функция быстрее всего возрастает. \n",
    "\n",
    "Можем сделать шаг в направлении градиента (если хотим максимизировать функцию)\n",
    "\n",
    "Можем сделать шаг в противоположном градиенту направлению (если хотим минимизировать функцию)"
   ]
  },
  {
   "cell_type": "code",
   "execution_count": 205,
   "metadata": {},
   "outputs": [
    {
     "data": {
      "application/javascript": [
       "/* Put everything inside the global mpl namespace */\n",
       "window.mpl = {};\n",
       "\n",
       "\n",
       "mpl.get_websocket_type = function() {\n",
       "    if (typeof(WebSocket) !== 'undefined') {\n",
       "        return WebSocket;\n",
       "    } else if (typeof(MozWebSocket) !== 'undefined') {\n",
       "        return MozWebSocket;\n",
       "    } else {\n",
       "        alert('Your browser does not have WebSocket support.' +\n",
       "              'Please try Chrome, Safari or Firefox ≥ 6. ' +\n",
       "              'Firefox 4 and 5 are also supported but you ' +\n",
       "              'have to enable WebSockets in about:config.');\n",
       "    };\n",
       "}\n",
       "\n",
       "mpl.figure = function(figure_id, websocket, ondownload, parent_element) {\n",
       "    this.id = figure_id;\n",
       "\n",
       "    this.ws = websocket;\n",
       "\n",
       "    this.supports_binary = (this.ws.binaryType != undefined);\n",
       "\n",
       "    if (!this.supports_binary) {\n",
       "        var warnings = document.getElementById(\"mpl-warnings\");\n",
       "        if (warnings) {\n",
       "            warnings.style.display = 'block';\n",
       "            warnings.textContent = (\n",
       "                \"This browser does not support binary websocket messages. \" +\n",
       "                    \"Performance may be slow.\");\n",
       "        }\n",
       "    }\n",
       "\n",
       "    this.imageObj = new Image();\n",
       "\n",
       "    this.context = undefined;\n",
       "    this.message = undefined;\n",
       "    this.canvas = undefined;\n",
       "    this.rubberband_canvas = undefined;\n",
       "    this.rubberband_context = undefined;\n",
       "    this.format_dropdown = undefined;\n",
       "\n",
       "    this.image_mode = 'full';\n",
       "\n",
       "    this.root = $('<div/>');\n",
       "    this._root_extra_style(this.root)\n",
       "    this.root.attr('style', 'display: inline-block');\n",
       "\n",
       "    $(parent_element).append(this.root);\n",
       "\n",
       "    this._init_header(this);\n",
       "    this._init_canvas(this);\n",
       "    this._init_toolbar(this);\n",
       "\n",
       "    var fig = this;\n",
       "\n",
       "    this.waiting = false;\n",
       "\n",
       "    this.ws.onopen =  function () {\n",
       "            fig.send_message(\"supports_binary\", {value: fig.supports_binary});\n",
       "            fig.send_message(\"send_image_mode\", {});\n",
       "            if (mpl.ratio != 1) {\n",
       "                fig.send_message(\"set_dpi_ratio\", {'dpi_ratio': mpl.ratio});\n",
       "            }\n",
       "            fig.send_message(\"refresh\", {});\n",
       "        }\n",
       "\n",
       "    this.imageObj.onload = function() {\n",
       "            if (fig.image_mode == 'full') {\n",
       "                // Full images could contain transparency (where diff images\n",
       "                // almost always do), so we need to clear the canvas so that\n",
       "                // there is no ghosting.\n",
       "                fig.context.clearRect(0, 0, fig.canvas.width, fig.canvas.height);\n",
       "            }\n",
       "            fig.context.drawImage(fig.imageObj, 0, 0);\n",
       "        };\n",
       "\n",
       "    this.imageObj.onunload = function() {\n",
       "        fig.ws.close();\n",
       "    }\n",
       "\n",
       "    this.ws.onmessage = this._make_on_message_function(this);\n",
       "\n",
       "    this.ondownload = ondownload;\n",
       "}\n",
       "\n",
       "mpl.figure.prototype._init_header = function() {\n",
       "    var titlebar = $(\n",
       "        '<div class=\"ui-dialog-titlebar ui-widget-header ui-corner-all ' +\n",
       "        'ui-helper-clearfix\"/>');\n",
       "    var titletext = $(\n",
       "        '<div class=\"ui-dialog-title\" style=\"width: 100%; ' +\n",
       "        'text-align: center; padding: 3px;\"/>');\n",
       "    titlebar.append(titletext)\n",
       "    this.root.append(titlebar);\n",
       "    this.header = titletext[0];\n",
       "}\n",
       "\n",
       "\n",
       "\n",
       "mpl.figure.prototype._canvas_extra_style = function(canvas_div) {\n",
       "\n",
       "}\n",
       "\n",
       "\n",
       "mpl.figure.prototype._root_extra_style = function(canvas_div) {\n",
       "\n",
       "}\n",
       "\n",
       "mpl.figure.prototype._init_canvas = function() {\n",
       "    var fig = this;\n",
       "\n",
       "    var canvas_div = $('<div/>');\n",
       "\n",
       "    canvas_div.attr('style', 'position: relative; clear: both; outline: 0');\n",
       "\n",
       "    function canvas_keyboard_event(event) {\n",
       "        return fig.key_event(event, event['data']);\n",
       "    }\n",
       "\n",
       "    canvas_div.keydown('key_press', canvas_keyboard_event);\n",
       "    canvas_div.keyup('key_release', canvas_keyboard_event);\n",
       "    this.canvas_div = canvas_div\n",
       "    this._canvas_extra_style(canvas_div)\n",
       "    this.root.append(canvas_div);\n",
       "\n",
       "    var canvas = $('<canvas/>');\n",
       "    canvas.addClass('mpl-canvas');\n",
       "    canvas.attr('style', \"left: 0; top: 0; z-index: 0; outline: 0\")\n",
       "\n",
       "    this.canvas = canvas[0];\n",
       "    this.context = canvas[0].getContext(\"2d\");\n",
       "\n",
       "    var backingStore = this.context.backingStorePixelRatio ||\n",
       "\tthis.context.webkitBackingStorePixelRatio ||\n",
       "\tthis.context.mozBackingStorePixelRatio ||\n",
       "\tthis.context.msBackingStorePixelRatio ||\n",
       "\tthis.context.oBackingStorePixelRatio ||\n",
       "\tthis.context.backingStorePixelRatio || 1;\n",
       "\n",
       "    mpl.ratio = (window.devicePixelRatio || 1) / backingStore;\n",
       "\n",
       "    var rubberband = $('<canvas/>');\n",
       "    rubberband.attr('style', \"position: absolute; left: 0; top: 0; z-index: 1;\")\n",
       "\n",
       "    var pass_mouse_events = true;\n",
       "\n",
       "    canvas_div.resizable({\n",
       "        start: function(event, ui) {\n",
       "            pass_mouse_events = false;\n",
       "        },\n",
       "        resize: function(event, ui) {\n",
       "            fig.request_resize(ui.size.width, ui.size.height);\n",
       "        },\n",
       "        stop: function(event, ui) {\n",
       "            pass_mouse_events = true;\n",
       "            fig.request_resize(ui.size.width, ui.size.height);\n",
       "        },\n",
       "    });\n",
       "\n",
       "    function mouse_event_fn(event) {\n",
       "        if (pass_mouse_events)\n",
       "            return fig.mouse_event(event, event['data']);\n",
       "    }\n",
       "\n",
       "    rubberband.mousedown('button_press', mouse_event_fn);\n",
       "    rubberband.mouseup('button_release', mouse_event_fn);\n",
       "    // Throttle sequential mouse events to 1 every 20ms.\n",
       "    rubberband.mousemove('motion_notify', mouse_event_fn);\n",
       "\n",
       "    rubberband.mouseenter('figure_enter', mouse_event_fn);\n",
       "    rubberband.mouseleave('figure_leave', mouse_event_fn);\n",
       "\n",
       "    canvas_div.on(\"wheel\", function (event) {\n",
       "        event = event.originalEvent;\n",
       "        event['data'] = 'scroll'\n",
       "        if (event.deltaY < 0) {\n",
       "            event.step = 1;\n",
       "        } else {\n",
       "            event.step = -1;\n",
       "        }\n",
       "        mouse_event_fn(event);\n",
       "    });\n",
       "\n",
       "    canvas_div.append(canvas);\n",
       "    canvas_div.append(rubberband);\n",
       "\n",
       "    this.rubberband = rubberband;\n",
       "    this.rubberband_canvas = rubberband[0];\n",
       "    this.rubberband_context = rubberband[0].getContext(\"2d\");\n",
       "    this.rubberband_context.strokeStyle = \"#000000\";\n",
       "\n",
       "    this._resize_canvas = function(width, height) {\n",
       "        // Keep the size of the canvas, canvas container, and rubber band\n",
       "        // canvas in synch.\n",
       "        canvas_div.css('width', width)\n",
       "        canvas_div.css('height', height)\n",
       "\n",
       "        canvas.attr('width', width * mpl.ratio);\n",
       "        canvas.attr('height', height * mpl.ratio);\n",
       "        canvas.attr('style', 'width: ' + width + 'px; height: ' + height + 'px;');\n",
       "\n",
       "        rubberband.attr('width', width);\n",
       "        rubberband.attr('height', height);\n",
       "    }\n",
       "\n",
       "    // Set the figure to an initial 600x600px, this will subsequently be updated\n",
       "    // upon first draw.\n",
       "    this._resize_canvas(600, 600);\n",
       "\n",
       "    // Disable right mouse context menu.\n",
       "    $(this.rubberband_canvas).bind(\"contextmenu\",function(e){\n",
       "        return false;\n",
       "    });\n",
       "\n",
       "    function set_focus () {\n",
       "        canvas.focus();\n",
       "        canvas_div.focus();\n",
       "    }\n",
       "\n",
       "    window.setTimeout(set_focus, 100);\n",
       "}\n",
       "\n",
       "mpl.figure.prototype._init_toolbar = function() {\n",
       "    var fig = this;\n",
       "\n",
       "    var nav_element = $('<div/>')\n",
       "    nav_element.attr('style', 'width: 100%');\n",
       "    this.root.append(nav_element);\n",
       "\n",
       "    // Define a callback function for later on.\n",
       "    function toolbar_event(event) {\n",
       "        return fig.toolbar_button_onclick(event['data']);\n",
       "    }\n",
       "    function toolbar_mouse_event(event) {\n",
       "        return fig.toolbar_button_onmouseover(event['data']);\n",
       "    }\n",
       "\n",
       "    for(var toolbar_ind in mpl.toolbar_items) {\n",
       "        var name = mpl.toolbar_items[toolbar_ind][0];\n",
       "        var tooltip = mpl.toolbar_items[toolbar_ind][1];\n",
       "        var image = mpl.toolbar_items[toolbar_ind][2];\n",
       "        var method_name = mpl.toolbar_items[toolbar_ind][3];\n",
       "\n",
       "        if (!name) {\n",
       "            // put a spacer in here.\n",
       "            continue;\n",
       "        }\n",
       "        var button = $('<button/>');\n",
       "        button.addClass('ui-button ui-widget ui-state-default ui-corner-all ' +\n",
       "                        'ui-button-icon-only');\n",
       "        button.attr('role', 'button');\n",
       "        button.attr('aria-disabled', 'false');\n",
       "        button.click(method_name, toolbar_event);\n",
       "        button.mouseover(tooltip, toolbar_mouse_event);\n",
       "\n",
       "        var icon_img = $('<span/>');\n",
       "        icon_img.addClass('ui-button-icon-primary ui-icon');\n",
       "        icon_img.addClass(image);\n",
       "        icon_img.addClass('ui-corner-all');\n",
       "\n",
       "        var tooltip_span = $('<span/>');\n",
       "        tooltip_span.addClass('ui-button-text');\n",
       "        tooltip_span.html(tooltip);\n",
       "\n",
       "        button.append(icon_img);\n",
       "        button.append(tooltip_span);\n",
       "\n",
       "        nav_element.append(button);\n",
       "    }\n",
       "\n",
       "    var fmt_picker_span = $('<span/>');\n",
       "\n",
       "    var fmt_picker = $('<select/>');\n",
       "    fmt_picker.addClass('mpl-toolbar-option ui-widget ui-widget-content');\n",
       "    fmt_picker_span.append(fmt_picker);\n",
       "    nav_element.append(fmt_picker_span);\n",
       "    this.format_dropdown = fmt_picker[0];\n",
       "\n",
       "    for (var ind in mpl.extensions) {\n",
       "        var fmt = mpl.extensions[ind];\n",
       "        var option = $(\n",
       "            '<option/>', {selected: fmt === mpl.default_extension}).html(fmt);\n",
       "        fmt_picker.append(option)\n",
       "    }\n",
       "\n",
       "    // Add hover states to the ui-buttons\n",
       "    $( \".ui-button\" ).hover(\n",
       "        function() { $(this).addClass(\"ui-state-hover\");},\n",
       "        function() { $(this).removeClass(\"ui-state-hover\");}\n",
       "    );\n",
       "\n",
       "    var status_bar = $('<span class=\"mpl-message\"/>');\n",
       "    nav_element.append(status_bar);\n",
       "    this.message = status_bar[0];\n",
       "}\n",
       "\n",
       "mpl.figure.prototype.request_resize = function(x_pixels, y_pixels) {\n",
       "    // Request matplotlib to resize the figure. Matplotlib will then trigger a resize in the client,\n",
       "    // which will in turn request a refresh of the image.\n",
       "    this.send_message('resize', {'width': x_pixels, 'height': y_pixels});\n",
       "}\n",
       "\n",
       "mpl.figure.prototype.send_message = function(type, properties) {\n",
       "    properties['type'] = type;\n",
       "    properties['figure_id'] = this.id;\n",
       "    this.ws.send(JSON.stringify(properties));\n",
       "}\n",
       "\n",
       "mpl.figure.prototype.send_draw_message = function() {\n",
       "    if (!this.waiting) {\n",
       "        this.waiting = true;\n",
       "        this.ws.send(JSON.stringify({type: \"draw\", figure_id: this.id}));\n",
       "    }\n",
       "}\n",
       "\n",
       "\n",
       "mpl.figure.prototype.handle_save = function(fig, msg) {\n",
       "    var format_dropdown = fig.format_dropdown;\n",
       "    var format = format_dropdown.options[format_dropdown.selectedIndex].value;\n",
       "    fig.ondownload(fig, format);\n",
       "}\n",
       "\n",
       "\n",
       "mpl.figure.prototype.handle_resize = function(fig, msg) {\n",
       "    var size = msg['size'];\n",
       "    if (size[0] != fig.canvas.width || size[1] != fig.canvas.height) {\n",
       "        fig._resize_canvas(size[0], size[1]);\n",
       "        fig.send_message(\"refresh\", {});\n",
       "    };\n",
       "}\n",
       "\n",
       "mpl.figure.prototype.handle_rubberband = function(fig, msg) {\n",
       "    var x0 = msg['x0'] / mpl.ratio;\n",
       "    var y0 = (fig.canvas.height - msg['y0']) / mpl.ratio;\n",
       "    var x1 = msg['x1'] / mpl.ratio;\n",
       "    var y1 = (fig.canvas.height - msg['y1']) / mpl.ratio;\n",
       "    x0 = Math.floor(x0) + 0.5;\n",
       "    y0 = Math.floor(y0) + 0.5;\n",
       "    x1 = Math.floor(x1) + 0.5;\n",
       "    y1 = Math.floor(y1) + 0.5;\n",
       "    var min_x = Math.min(x0, x1);\n",
       "    var min_y = Math.min(y0, y1);\n",
       "    var width = Math.abs(x1 - x0);\n",
       "    var height = Math.abs(y1 - y0);\n",
       "\n",
       "    fig.rubberband_context.clearRect(\n",
       "        0, 0, fig.canvas.width, fig.canvas.height);\n",
       "\n",
       "    fig.rubberband_context.strokeRect(min_x, min_y, width, height);\n",
       "}\n",
       "\n",
       "mpl.figure.prototype.handle_figure_label = function(fig, msg) {\n",
       "    // Updates the figure title.\n",
       "    fig.header.textContent = msg['label'];\n",
       "}\n",
       "\n",
       "mpl.figure.prototype.handle_cursor = function(fig, msg) {\n",
       "    var cursor = msg['cursor'];\n",
       "    switch(cursor)\n",
       "    {\n",
       "    case 0:\n",
       "        cursor = 'pointer';\n",
       "        break;\n",
       "    case 1:\n",
       "        cursor = 'default';\n",
       "        break;\n",
       "    case 2:\n",
       "        cursor = 'crosshair';\n",
       "        break;\n",
       "    case 3:\n",
       "        cursor = 'move';\n",
       "        break;\n",
       "    }\n",
       "    fig.rubberband_canvas.style.cursor = cursor;\n",
       "}\n",
       "\n",
       "mpl.figure.prototype.handle_message = function(fig, msg) {\n",
       "    fig.message.textContent = msg['message'];\n",
       "}\n",
       "\n",
       "mpl.figure.prototype.handle_draw = function(fig, msg) {\n",
       "    // Request the server to send over a new figure.\n",
       "    fig.send_draw_message();\n",
       "}\n",
       "\n",
       "mpl.figure.prototype.handle_image_mode = function(fig, msg) {\n",
       "    fig.image_mode = msg['mode'];\n",
       "}\n",
       "\n",
       "mpl.figure.prototype.updated_canvas_event = function() {\n",
       "    // Called whenever the canvas gets updated.\n",
       "    this.send_message(\"ack\", {});\n",
       "}\n",
       "\n",
       "// A function to construct a web socket function for onmessage handling.\n",
       "// Called in the figure constructor.\n",
       "mpl.figure.prototype._make_on_message_function = function(fig) {\n",
       "    return function socket_on_message(evt) {\n",
       "        if (evt.data instanceof Blob) {\n",
       "            /* FIXME: We get \"Resource interpreted as Image but\n",
       "             * transferred with MIME type text/plain:\" errors on\n",
       "             * Chrome.  But how to set the MIME type?  It doesn't seem\n",
       "             * to be part of the websocket stream */\n",
       "            evt.data.type = \"image/png\";\n",
       "\n",
       "            /* Free the memory for the previous frames */\n",
       "            if (fig.imageObj.src) {\n",
       "                (window.URL || window.webkitURL).revokeObjectURL(\n",
       "                    fig.imageObj.src);\n",
       "            }\n",
       "\n",
       "            fig.imageObj.src = (window.URL || window.webkitURL).createObjectURL(\n",
       "                evt.data);\n",
       "            fig.updated_canvas_event();\n",
       "            fig.waiting = false;\n",
       "            return;\n",
       "        }\n",
       "        else if (typeof evt.data === 'string' && evt.data.slice(0, 21) == \"data:image/png;base64\") {\n",
       "            fig.imageObj.src = evt.data;\n",
       "            fig.updated_canvas_event();\n",
       "            fig.waiting = false;\n",
       "            return;\n",
       "        }\n",
       "\n",
       "        var msg = JSON.parse(evt.data);\n",
       "        var msg_type = msg['type'];\n",
       "\n",
       "        // Call the  \"handle_{type}\" callback, which takes\n",
       "        // the figure and JSON message as its only arguments.\n",
       "        try {\n",
       "            var callback = fig[\"handle_\" + msg_type];\n",
       "        } catch (e) {\n",
       "            console.log(\"No handler for the '\" + msg_type + \"' message type: \", msg);\n",
       "            return;\n",
       "        }\n",
       "\n",
       "        if (callback) {\n",
       "            try {\n",
       "                // console.log(\"Handling '\" + msg_type + \"' message: \", msg);\n",
       "                callback(fig, msg);\n",
       "            } catch (e) {\n",
       "                console.log(\"Exception inside the 'handler_\" + msg_type + \"' callback:\", e, e.stack, msg);\n",
       "            }\n",
       "        }\n",
       "    };\n",
       "}\n",
       "\n",
       "// from http://stackoverflow.com/questions/1114465/getting-mouse-location-in-canvas\n",
       "mpl.findpos = function(e) {\n",
       "    //this section is from http://www.quirksmode.org/js/events_properties.html\n",
       "    var targ;\n",
       "    if (!e)\n",
       "        e = window.event;\n",
       "    if (e.target)\n",
       "        targ = e.target;\n",
       "    else if (e.srcElement)\n",
       "        targ = e.srcElement;\n",
       "    if (targ.nodeType == 3) // defeat Safari bug\n",
       "        targ = targ.parentNode;\n",
       "\n",
       "    // jQuery normalizes the pageX and pageY\n",
       "    // pageX,Y are the mouse positions relative to the document\n",
       "    // offset() returns the position of the element relative to the document\n",
       "    var x = e.pageX - $(targ).offset().left;\n",
       "    var y = e.pageY - $(targ).offset().top;\n",
       "\n",
       "    return {\"x\": x, \"y\": y};\n",
       "};\n",
       "\n",
       "/*\n",
       " * return a copy of an object with only non-object keys\n",
       " * we need this to avoid circular references\n",
       " * http://stackoverflow.com/a/24161582/3208463\n",
       " */\n",
       "function simpleKeys (original) {\n",
       "  return Object.keys(original).reduce(function (obj, key) {\n",
       "    if (typeof original[key] !== 'object')\n",
       "        obj[key] = original[key]\n",
       "    return obj;\n",
       "  }, {});\n",
       "}\n",
       "\n",
       "mpl.figure.prototype.mouse_event = function(event, name) {\n",
       "    var canvas_pos = mpl.findpos(event)\n",
       "\n",
       "    if (name === 'button_press')\n",
       "    {\n",
       "        this.canvas.focus();\n",
       "        this.canvas_div.focus();\n",
       "    }\n",
       "\n",
       "    var x = canvas_pos.x * mpl.ratio;\n",
       "    var y = canvas_pos.y * mpl.ratio;\n",
       "\n",
       "    this.send_message(name, {x: x, y: y, button: event.button,\n",
       "                             step: event.step,\n",
       "                             guiEvent: simpleKeys(event)});\n",
       "\n",
       "    /* This prevents the web browser from automatically changing to\n",
       "     * the text insertion cursor when the button is pressed.  We want\n",
       "     * to control all of the cursor setting manually through the\n",
       "     * 'cursor' event from matplotlib */\n",
       "    event.preventDefault();\n",
       "    return false;\n",
       "}\n",
       "\n",
       "mpl.figure.prototype._key_event_extra = function(event, name) {\n",
       "    // Handle any extra behaviour associated with a key event\n",
       "}\n",
       "\n",
       "mpl.figure.prototype.key_event = function(event, name) {\n",
       "\n",
       "    // Prevent repeat events\n",
       "    if (name == 'key_press')\n",
       "    {\n",
       "        if (event.which === this._key)\n",
       "            return;\n",
       "        else\n",
       "            this._key = event.which;\n",
       "    }\n",
       "    if (name == 'key_release')\n",
       "        this._key = null;\n",
       "\n",
       "    var value = '';\n",
       "    if (event.ctrlKey && event.which != 17)\n",
       "        value += \"ctrl+\";\n",
       "    if (event.altKey && event.which != 18)\n",
       "        value += \"alt+\";\n",
       "    if (event.shiftKey && event.which != 16)\n",
       "        value += \"shift+\";\n",
       "\n",
       "    value += 'k';\n",
       "    value += event.which.toString();\n",
       "\n",
       "    this._key_event_extra(event, name);\n",
       "\n",
       "    this.send_message(name, {key: value,\n",
       "                             guiEvent: simpleKeys(event)});\n",
       "    return false;\n",
       "}\n",
       "\n",
       "mpl.figure.prototype.toolbar_button_onclick = function(name) {\n",
       "    if (name == 'download') {\n",
       "        this.handle_save(this, null);\n",
       "    } else {\n",
       "        this.send_message(\"toolbar_button\", {name: name});\n",
       "    }\n",
       "};\n",
       "\n",
       "mpl.figure.prototype.toolbar_button_onmouseover = function(tooltip) {\n",
       "    this.message.textContent = tooltip;\n",
       "};\n",
       "mpl.toolbar_items = [[\"Home\", \"Reset original view\", \"fa fa-home icon-home\", \"home\"], [\"Back\", \"Back to  previous view\", \"fa fa-arrow-left icon-arrow-left\", \"back\"], [\"Forward\", \"Forward to next view\", \"fa fa-arrow-right icon-arrow-right\", \"forward\"], [\"\", \"\", \"\", \"\"], [\"Pan\", \"Pan axes with left mouse, zoom with right\", \"fa fa-arrows icon-move\", \"pan\"], [\"Zoom\", \"Zoom to rectangle\", \"fa fa-square-o icon-check-empty\", \"zoom\"], [\"\", \"\", \"\", \"\"], [\"Download\", \"Download plot\", \"fa fa-floppy-o icon-save\", \"download\"]];\n",
       "\n",
       "mpl.extensions = [\"eps\", \"jpeg\", \"pdf\", \"png\", \"ps\", \"raw\", \"svg\", \"tif\"];\n",
       "\n",
       "mpl.default_extension = \"png\";var comm_websocket_adapter = function(comm) {\n",
       "    // Create a \"websocket\"-like object which calls the given IPython comm\n",
       "    // object with the appropriate methods. Currently this is a non binary\n",
       "    // socket, so there is still some room for performance tuning.\n",
       "    var ws = {};\n",
       "\n",
       "    ws.close = function() {\n",
       "        comm.close()\n",
       "    };\n",
       "    ws.send = function(m) {\n",
       "        //console.log('sending', m);\n",
       "        comm.send(m);\n",
       "    };\n",
       "    // Register the callback with on_msg.\n",
       "    comm.on_msg(function(msg) {\n",
       "        //console.log('receiving', msg['content']['data'], msg);\n",
       "        // Pass the mpl event to the overridden (by mpl) onmessage function.\n",
       "        ws.onmessage(msg['content']['data'])\n",
       "    });\n",
       "    return ws;\n",
       "}\n",
       "\n",
       "mpl.mpl_figure_comm = function(comm, msg) {\n",
       "    // This is the function which gets called when the mpl process\n",
       "    // starts-up an IPython Comm through the \"matplotlib\" channel.\n",
       "\n",
       "    var id = msg.content.data.id;\n",
       "    // Get hold of the div created by the display call when the Comm\n",
       "    // socket was opened in Python.\n",
       "    var element = $(\"#\" + id);\n",
       "    var ws_proxy = comm_websocket_adapter(comm)\n",
       "\n",
       "    function ondownload(figure, format) {\n",
       "        window.open(figure.imageObj.src);\n",
       "    }\n",
       "\n",
       "    var fig = new mpl.figure(id, ws_proxy,\n",
       "                           ondownload,\n",
       "                           element.get(0));\n",
       "\n",
       "    // Call onopen now - mpl needs it, as it is assuming we've passed it a real\n",
       "    // web socket which is closed, not our websocket->open comm proxy.\n",
       "    ws_proxy.onopen();\n",
       "\n",
       "    fig.parent_element = element.get(0);\n",
       "    fig.cell_info = mpl.find_output_cell(\"<div id='\" + id + \"'></div>\");\n",
       "    if (!fig.cell_info) {\n",
       "        console.error(\"Failed to find cell for figure\", id, fig);\n",
       "        return;\n",
       "    }\n",
       "\n",
       "    var output_index = fig.cell_info[2]\n",
       "    var cell = fig.cell_info[0];\n",
       "\n",
       "};\n",
       "\n",
       "mpl.figure.prototype.handle_close = function(fig, msg) {\n",
       "    var width = fig.canvas.width/mpl.ratio\n",
       "    fig.root.unbind('remove')\n",
       "\n",
       "    // Update the output cell to use the data from the current canvas.\n",
       "    fig.push_to_output();\n",
       "    var dataURL = fig.canvas.toDataURL();\n",
       "    // Re-enable the keyboard manager in IPython - without this line, in FF,\n",
       "    // the notebook keyboard shortcuts fail.\n",
       "    IPython.keyboard_manager.enable()\n",
       "    $(fig.parent_element).html('<img src=\"' + dataURL + '\" width=\"' + width + '\">');\n",
       "    fig.close_ws(fig, msg);\n",
       "}\n",
       "\n",
       "mpl.figure.prototype.close_ws = function(fig, msg){\n",
       "    fig.send_message('closing', msg);\n",
       "    // fig.ws.close()\n",
       "}\n",
       "\n",
       "mpl.figure.prototype.push_to_output = function(remove_interactive) {\n",
       "    // Turn the data on the canvas into data in the output cell.\n",
       "    var width = this.canvas.width/mpl.ratio\n",
       "    var dataURL = this.canvas.toDataURL();\n",
       "    this.cell_info[1]['text/html'] = '<img src=\"' + dataURL + '\" width=\"' + width + '\">';\n",
       "}\n",
       "\n",
       "mpl.figure.prototype.updated_canvas_event = function() {\n",
       "    // Tell IPython that the notebook contents must change.\n",
       "    IPython.notebook.set_dirty(true);\n",
       "    this.send_message(\"ack\", {});\n",
       "    var fig = this;\n",
       "    // Wait a second, then push the new image to the DOM so\n",
       "    // that it is saved nicely (might be nice to debounce this).\n",
       "    setTimeout(function () { fig.push_to_output() }, 1000);\n",
       "}\n",
       "\n",
       "mpl.figure.prototype._init_toolbar = function() {\n",
       "    var fig = this;\n",
       "\n",
       "    var nav_element = $('<div/>')\n",
       "    nav_element.attr('style', 'width: 100%');\n",
       "    this.root.append(nav_element);\n",
       "\n",
       "    // Define a callback function for later on.\n",
       "    function toolbar_event(event) {\n",
       "        return fig.toolbar_button_onclick(event['data']);\n",
       "    }\n",
       "    function toolbar_mouse_event(event) {\n",
       "        return fig.toolbar_button_onmouseover(event['data']);\n",
       "    }\n",
       "\n",
       "    for(var toolbar_ind in mpl.toolbar_items){\n",
       "        var name = mpl.toolbar_items[toolbar_ind][0];\n",
       "        var tooltip = mpl.toolbar_items[toolbar_ind][1];\n",
       "        var image = mpl.toolbar_items[toolbar_ind][2];\n",
       "        var method_name = mpl.toolbar_items[toolbar_ind][3];\n",
       "\n",
       "        if (!name) { continue; };\n",
       "\n",
       "        var button = $('<button class=\"btn btn-default\" href=\"#\" title=\"' + name + '\"><i class=\"fa ' + image + ' fa-lg\"></i></button>');\n",
       "        button.click(method_name, toolbar_event);\n",
       "        button.mouseover(tooltip, toolbar_mouse_event);\n",
       "        nav_element.append(button);\n",
       "    }\n",
       "\n",
       "    // Add the status bar.\n",
       "    var status_bar = $('<span class=\"mpl-message\" style=\"text-align:right; float: right;\"/>');\n",
       "    nav_element.append(status_bar);\n",
       "    this.message = status_bar[0];\n",
       "\n",
       "    // Add the close button to the window.\n",
       "    var buttongrp = $('<div class=\"btn-group inline pull-right\"></div>');\n",
       "    var button = $('<button class=\"btn btn-mini btn-primary\" href=\"#\" title=\"Stop Interaction\"><i class=\"fa fa-power-off icon-remove icon-large\"></i></button>');\n",
       "    button.click(function (evt) { fig.handle_close(fig, {}); } );\n",
       "    button.mouseover('Stop Interaction', toolbar_mouse_event);\n",
       "    buttongrp.append(button);\n",
       "    var titlebar = this.root.find($('.ui-dialog-titlebar'));\n",
       "    titlebar.prepend(buttongrp);\n",
       "}\n",
       "\n",
       "mpl.figure.prototype._root_extra_style = function(el){\n",
       "    var fig = this\n",
       "    el.on(\"remove\", function(){\n",
       "\tfig.close_ws(fig, {});\n",
       "    });\n",
       "}\n",
       "\n",
       "mpl.figure.prototype._canvas_extra_style = function(el){\n",
       "    // this is important to make the div 'focusable\n",
       "    el.attr('tabindex', 0)\n",
       "    // reach out to IPython and tell the keyboard manager to turn it's self\n",
       "    // off when our div gets focus\n",
       "\n",
       "    // location in version 3\n",
       "    if (IPython.notebook.keyboard_manager) {\n",
       "        IPython.notebook.keyboard_manager.register_events(el);\n",
       "    }\n",
       "    else {\n",
       "        // location in version 2\n",
       "        IPython.keyboard_manager.register_events(el);\n",
       "    }\n",
       "\n",
       "}\n",
       "\n",
       "mpl.figure.prototype._key_event_extra = function(event, name) {\n",
       "    var manager = IPython.notebook.keyboard_manager;\n",
       "    if (!manager)\n",
       "        manager = IPython.keyboard_manager;\n",
       "\n",
       "    // Check for shift+enter\n",
       "    if (event.shiftKey && event.which == 13) {\n",
       "        this.canvas_div.blur();\n",
       "        event.shiftKey = false;\n",
       "        // Send a \"J\" for go to next cell\n",
       "        event.which = 74;\n",
       "        event.keyCode = 74;\n",
       "        manager.command_mode();\n",
       "        manager.handle_keydown(event);\n",
       "    }\n",
       "}\n",
       "\n",
       "mpl.figure.prototype.handle_save = function(fig, msg) {\n",
       "    fig.ondownload(fig, null);\n",
       "}\n",
       "\n",
       "\n",
       "mpl.find_output_cell = function(html_output) {\n",
       "    // Return the cell and output element which can be found *uniquely* in the notebook.\n",
       "    // Note - this is a bit hacky, but it is done because the \"notebook_saving.Notebook\"\n",
       "    // IPython event is triggered only after the cells have been serialised, which for\n",
       "    // our purposes (turning an active figure into a static one), is too late.\n",
       "    var cells = IPython.notebook.get_cells();\n",
       "    var ncells = cells.length;\n",
       "    for (var i=0; i<ncells; i++) {\n",
       "        var cell = cells[i];\n",
       "        if (cell.cell_type === 'code'){\n",
       "            for (var j=0; j<cell.output_area.outputs.length; j++) {\n",
       "                var data = cell.output_area.outputs[j];\n",
       "                if (data.data) {\n",
       "                    // IPython >= 3 moved mimebundle to data attribute of output\n",
       "                    data = data.data;\n",
       "                }\n",
       "                if (data['text/html'] == html_output) {\n",
       "                    return [cell, data, j];\n",
       "                }\n",
       "            }\n",
       "        }\n",
       "    }\n",
       "}\n",
       "\n",
       "// Register the function which deals with the matplotlib target/channel.\n",
       "// The kernel may be null if the page has been refreshed.\n",
       "if (IPython.notebook.kernel != null) {\n",
       "    IPython.notebook.kernel.comm_manager.register_target('matplotlib', mpl.mpl_figure_comm);\n",
       "}\n"
      ],
      "text/plain": [
       "<IPython.core.display.Javascript object>"
      ]
     },
     "metadata": {},
     "output_type": "display_data"
    },
    {
     "data": {
      "text/html": [
       "<img src=\"data:image/png;base64,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\" width=\"432\">"
      ],
      "text/plain": [
       "<IPython.core.display.HTML object>"
      ]
     },
     "metadata": {},
     "output_type": "display_data"
    },
    {
     "data": {
      "text/plain": [
       "<matplotlib.collections.PathCollection at 0x7f2ce37fc630>"
      ]
     },
     "execution_count": 205,
     "metadata": {},
     "output_type": "execute_result"
    }
   ],
   "source": [
    "import matplotlib.pyplot as plt\n",
    "import random\n",
    "from matplotlib import cm\n",
    "\n",
    "def fun(x, y):\n",
    "      return x**3 + 2*x*y + y**2\n",
    "\n",
    "fig = plt.figure()\n",
    "ax = fig.add_subplot(111)\n",
    "x = y = np.arange(-1.5, 1.5, 0.05)\n",
    "X, Y = np.meshgrid(x, y)\n",
    "zs = np.array([fun(x,y) for x,y in zip(np.ravel(X), np.ravel(Y))])\n",
    "Z = zs.reshape(X.shape)\n",
    "\n",
    "plt.contourf(X,Y,Z) #reshape Z too!\n",
    "plt.colorbar()\n",
    "plt.scatter([0, 2/3.], [0, -2/3.], marker='o', s=5, zorder=10, color='red')\n"
   ]
  },
  {
   "cell_type": "code",
   "execution_count": 206,
   "metadata": {},
   "outputs": [
    {
     "data": {
      "application/javascript": [
       "/* Put everything inside the global mpl namespace */\n",
       "window.mpl = {};\n",
       "\n",
       "\n",
       "mpl.get_websocket_type = function() {\n",
       "    if (typeof(WebSocket) !== 'undefined') {\n",
       "        return WebSocket;\n",
       "    } else if (typeof(MozWebSocket) !== 'undefined') {\n",
       "        return MozWebSocket;\n",
       "    } else {\n",
       "        alert('Your browser does not have WebSocket support.' +\n",
       "              'Please try Chrome, Safari or Firefox ≥ 6. ' +\n",
       "              'Firefox 4 and 5 are also supported but you ' +\n",
       "              'have to enable WebSockets in about:config.');\n",
       "    };\n",
       "}\n",
       "\n",
       "mpl.figure = function(figure_id, websocket, ondownload, parent_element) {\n",
       "    this.id = figure_id;\n",
       "\n",
       "    this.ws = websocket;\n",
       "\n",
       "    this.supports_binary = (this.ws.binaryType != undefined);\n",
       "\n",
       "    if (!this.supports_binary) {\n",
       "        var warnings = document.getElementById(\"mpl-warnings\");\n",
       "        if (warnings) {\n",
       "            warnings.style.display = 'block';\n",
       "            warnings.textContent = (\n",
       "                \"This browser does not support binary websocket messages. \" +\n",
       "                    \"Performance may be slow.\");\n",
       "        }\n",
       "    }\n",
       "\n",
       "    this.imageObj = new Image();\n",
       "\n",
       "    this.context = undefined;\n",
       "    this.message = undefined;\n",
       "    this.canvas = undefined;\n",
       "    this.rubberband_canvas = undefined;\n",
       "    this.rubberband_context = undefined;\n",
       "    this.format_dropdown = undefined;\n",
       "\n",
       "    this.image_mode = 'full';\n",
       "\n",
       "    this.root = $('<div/>');\n",
       "    this._root_extra_style(this.root)\n",
       "    this.root.attr('style', 'display: inline-block');\n",
       "\n",
       "    $(parent_element).append(this.root);\n",
       "\n",
       "    this._init_header(this);\n",
       "    this._init_canvas(this);\n",
       "    this._init_toolbar(this);\n",
       "\n",
       "    var fig = this;\n",
       "\n",
       "    this.waiting = false;\n",
       "\n",
       "    this.ws.onopen =  function () {\n",
       "            fig.send_message(\"supports_binary\", {value: fig.supports_binary});\n",
       "            fig.send_message(\"send_image_mode\", {});\n",
       "            if (mpl.ratio != 1) {\n",
       "                fig.send_message(\"set_dpi_ratio\", {'dpi_ratio': mpl.ratio});\n",
       "            }\n",
       "            fig.send_message(\"refresh\", {});\n",
       "        }\n",
       "\n",
       "    this.imageObj.onload = function() {\n",
       "            if (fig.image_mode == 'full') {\n",
       "                // Full images could contain transparency (where diff images\n",
       "                // almost always do), so we need to clear the canvas so that\n",
       "                // there is no ghosting.\n",
       "                fig.context.clearRect(0, 0, fig.canvas.width, fig.canvas.height);\n",
       "            }\n",
       "            fig.context.drawImage(fig.imageObj, 0, 0);\n",
       "        };\n",
       "\n",
       "    this.imageObj.onunload = function() {\n",
       "        fig.ws.close();\n",
       "    }\n",
       "\n",
       "    this.ws.onmessage = this._make_on_message_function(this);\n",
       "\n",
       "    this.ondownload = ondownload;\n",
       "}\n",
       "\n",
       "mpl.figure.prototype._init_header = function() {\n",
       "    var titlebar = $(\n",
       "        '<div class=\"ui-dialog-titlebar ui-widget-header ui-corner-all ' +\n",
       "        'ui-helper-clearfix\"/>');\n",
       "    var titletext = $(\n",
       "        '<div class=\"ui-dialog-title\" style=\"width: 100%; ' +\n",
       "        'text-align: center; padding: 3px;\"/>');\n",
       "    titlebar.append(titletext)\n",
       "    this.root.append(titlebar);\n",
       "    this.header = titletext[0];\n",
       "}\n",
       "\n",
       "\n",
       "\n",
       "mpl.figure.prototype._canvas_extra_style = function(canvas_div) {\n",
       "\n",
       "}\n",
       "\n",
       "\n",
       "mpl.figure.prototype._root_extra_style = function(canvas_div) {\n",
       "\n",
       "}\n",
       "\n",
       "mpl.figure.prototype._init_canvas = function() {\n",
       "    var fig = this;\n",
       "\n",
       "    var canvas_div = $('<div/>');\n",
       "\n",
       "    canvas_div.attr('style', 'position: relative; clear: both; outline: 0');\n",
       "\n",
       "    function canvas_keyboard_event(event) {\n",
       "        return fig.key_event(event, event['data']);\n",
       "    }\n",
       "\n",
       "    canvas_div.keydown('key_press', canvas_keyboard_event);\n",
       "    canvas_div.keyup('key_release', canvas_keyboard_event);\n",
       "    this.canvas_div = canvas_div\n",
       "    this._canvas_extra_style(canvas_div)\n",
       "    this.root.append(canvas_div);\n",
       "\n",
       "    var canvas = $('<canvas/>');\n",
       "    canvas.addClass('mpl-canvas');\n",
       "    canvas.attr('style', \"left: 0; top: 0; z-index: 0; outline: 0\")\n",
       "\n",
       "    this.canvas = canvas[0];\n",
       "    this.context = canvas[0].getContext(\"2d\");\n",
       "\n",
       "    var backingStore = this.context.backingStorePixelRatio ||\n",
       "\tthis.context.webkitBackingStorePixelRatio ||\n",
       "\tthis.context.mozBackingStorePixelRatio ||\n",
       "\tthis.context.msBackingStorePixelRatio ||\n",
       "\tthis.context.oBackingStorePixelRatio ||\n",
       "\tthis.context.backingStorePixelRatio || 1;\n",
       "\n",
       "    mpl.ratio = (window.devicePixelRatio || 1) / backingStore;\n",
       "\n",
       "    var rubberband = $('<canvas/>');\n",
       "    rubberband.attr('style', \"position: absolute; left: 0; top: 0; z-index: 1;\")\n",
       "\n",
       "    var pass_mouse_events = true;\n",
       "\n",
       "    canvas_div.resizable({\n",
       "        start: function(event, ui) {\n",
       "            pass_mouse_events = false;\n",
       "        },\n",
       "        resize: function(event, ui) {\n",
       "            fig.request_resize(ui.size.width, ui.size.height);\n",
       "        },\n",
       "        stop: function(event, ui) {\n",
       "            pass_mouse_events = true;\n",
       "            fig.request_resize(ui.size.width, ui.size.height);\n",
       "        },\n",
       "    });\n",
       "\n",
       "    function mouse_event_fn(event) {\n",
       "        if (pass_mouse_events)\n",
       "            return fig.mouse_event(event, event['data']);\n",
       "    }\n",
       "\n",
       "    rubberband.mousedown('button_press', mouse_event_fn);\n",
       "    rubberband.mouseup('button_release', mouse_event_fn);\n",
       "    // Throttle sequential mouse events to 1 every 20ms.\n",
       "    rubberband.mousemove('motion_notify', mouse_event_fn);\n",
       "\n",
       "    rubberband.mouseenter('figure_enter', mouse_event_fn);\n",
       "    rubberband.mouseleave('figure_leave', mouse_event_fn);\n",
       "\n",
       "    canvas_div.on(\"wheel\", function (event) {\n",
       "        event = event.originalEvent;\n",
       "        event['data'] = 'scroll'\n",
       "        if (event.deltaY < 0) {\n",
       "            event.step = 1;\n",
       "        } else {\n",
       "            event.step = -1;\n",
       "        }\n",
       "        mouse_event_fn(event);\n",
       "    });\n",
       "\n",
       "    canvas_div.append(canvas);\n",
       "    canvas_div.append(rubberband);\n",
       "\n",
       "    this.rubberband = rubberband;\n",
       "    this.rubberband_canvas = rubberband[0];\n",
       "    this.rubberband_context = rubberband[0].getContext(\"2d\");\n",
       "    this.rubberband_context.strokeStyle = \"#000000\";\n",
       "\n",
       "    this._resize_canvas = function(width, height) {\n",
       "        // Keep the size of the canvas, canvas container, and rubber band\n",
       "        // canvas in synch.\n",
       "        canvas_div.css('width', width)\n",
       "        canvas_div.css('height', height)\n",
       "\n",
       "        canvas.attr('width', width * mpl.ratio);\n",
       "        canvas.attr('height', height * mpl.ratio);\n",
       "        canvas.attr('style', 'width: ' + width + 'px; height: ' + height + 'px;');\n",
       "\n",
       "        rubberband.attr('width', width);\n",
       "        rubberband.attr('height', height);\n",
       "    }\n",
       "\n",
       "    // Set the figure to an initial 600x600px, this will subsequently be updated\n",
       "    // upon first draw.\n",
       "    this._resize_canvas(600, 600);\n",
       "\n",
       "    // Disable right mouse context menu.\n",
       "    $(this.rubberband_canvas).bind(\"contextmenu\",function(e){\n",
       "        return false;\n",
       "    });\n",
       "\n",
       "    function set_focus () {\n",
       "        canvas.focus();\n",
       "        canvas_div.focus();\n",
       "    }\n",
       "\n",
       "    window.setTimeout(set_focus, 100);\n",
       "}\n",
       "\n",
       "mpl.figure.prototype._init_toolbar = function() {\n",
       "    var fig = this;\n",
       "\n",
       "    var nav_element = $('<div/>')\n",
       "    nav_element.attr('style', 'width: 100%');\n",
       "    this.root.append(nav_element);\n",
       "\n",
       "    // Define a callback function for later on.\n",
       "    function toolbar_event(event) {\n",
       "        return fig.toolbar_button_onclick(event['data']);\n",
       "    }\n",
       "    function toolbar_mouse_event(event) {\n",
       "        return fig.toolbar_button_onmouseover(event['data']);\n",
       "    }\n",
       "\n",
       "    for(var toolbar_ind in mpl.toolbar_items) {\n",
       "        var name = mpl.toolbar_items[toolbar_ind][0];\n",
       "        var tooltip = mpl.toolbar_items[toolbar_ind][1];\n",
       "        var image = mpl.toolbar_items[toolbar_ind][2];\n",
       "        var method_name = mpl.toolbar_items[toolbar_ind][3];\n",
       "\n",
       "        if (!name) {\n",
       "            // put a spacer in here.\n",
       "            continue;\n",
       "        }\n",
       "        var button = $('<button/>');\n",
       "        button.addClass('ui-button ui-widget ui-state-default ui-corner-all ' +\n",
       "                        'ui-button-icon-only');\n",
       "        button.attr('role', 'button');\n",
       "        button.attr('aria-disabled', 'false');\n",
       "        button.click(method_name, toolbar_event);\n",
       "        button.mouseover(tooltip, toolbar_mouse_event);\n",
       "\n",
       "        var icon_img = $('<span/>');\n",
       "        icon_img.addClass('ui-button-icon-primary ui-icon');\n",
       "        icon_img.addClass(image);\n",
       "        icon_img.addClass('ui-corner-all');\n",
       "\n",
       "        var tooltip_span = $('<span/>');\n",
       "        tooltip_span.addClass('ui-button-text');\n",
       "        tooltip_span.html(tooltip);\n",
       "\n",
       "        button.append(icon_img);\n",
       "        button.append(tooltip_span);\n",
       "\n",
       "        nav_element.append(button);\n",
       "    }\n",
       "\n",
       "    var fmt_picker_span = $('<span/>');\n",
       "\n",
       "    var fmt_picker = $('<select/>');\n",
       "    fmt_picker.addClass('mpl-toolbar-option ui-widget ui-widget-content');\n",
       "    fmt_picker_span.append(fmt_picker);\n",
       "    nav_element.append(fmt_picker_span);\n",
       "    this.format_dropdown = fmt_picker[0];\n",
       "\n",
       "    for (var ind in mpl.extensions) {\n",
       "        var fmt = mpl.extensions[ind];\n",
       "        var option = $(\n",
       "            '<option/>', {selected: fmt === mpl.default_extension}).html(fmt);\n",
       "        fmt_picker.append(option)\n",
       "    }\n",
       "\n",
       "    // Add hover states to the ui-buttons\n",
       "    $( \".ui-button\" ).hover(\n",
       "        function() { $(this).addClass(\"ui-state-hover\");},\n",
       "        function() { $(this).removeClass(\"ui-state-hover\");}\n",
       "    );\n",
       "\n",
       "    var status_bar = $('<span class=\"mpl-message\"/>');\n",
       "    nav_element.append(status_bar);\n",
       "    this.message = status_bar[0];\n",
       "}\n",
       "\n",
       "mpl.figure.prototype.request_resize = function(x_pixels, y_pixels) {\n",
       "    // Request matplotlib to resize the figure. Matplotlib will then trigger a resize in the client,\n",
       "    // which will in turn request a refresh of the image.\n",
       "    this.send_message('resize', {'width': x_pixels, 'height': y_pixels});\n",
       "}\n",
       "\n",
       "mpl.figure.prototype.send_message = function(type, properties) {\n",
       "    properties['type'] = type;\n",
       "    properties['figure_id'] = this.id;\n",
       "    this.ws.send(JSON.stringify(properties));\n",
       "}\n",
       "\n",
       "mpl.figure.prototype.send_draw_message = function() {\n",
       "    if (!this.waiting) {\n",
       "        this.waiting = true;\n",
       "        this.ws.send(JSON.stringify({type: \"draw\", figure_id: this.id}));\n",
       "    }\n",
       "}\n",
       "\n",
       "\n",
       "mpl.figure.prototype.handle_save = function(fig, msg) {\n",
       "    var format_dropdown = fig.format_dropdown;\n",
       "    var format = format_dropdown.options[format_dropdown.selectedIndex].value;\n",
       "    fig.ondownload(fig, format);\n",
       "}\n",
       "\n",
       "\n",
       "mpl.figure.prototype.handle_resize = function(fig, msg) {\n",
       "    var size = msg['size'];\n",
       "    if (size[0] != fig.canvas.width || size[1] != fig.canvas.height) {\n",
       "        fig._resize_canvas(size[0], size[1]);\n",
       "        fig.send_message(\"refresh\", {});\n",
       "    };\n",
       "}\n",
       "\n",
       "mpl.figure.prototype.handle_rubberband = function(fig, msg) {\n",
       "    var x0 = msg['x0'] / mpl.ratio;\n",
       "    var y0 = (fig.canvas.height - msg['y0']) / mpl.ratio;\n",
       "    var x1 = msg['x1'] / mpl.ratio;\n",
       "    var y1 = (fig.canvas.height - msg['y1']) / mpl.ratio;\n",
       "    x0 = Math.floor(x0) + 0.5;\n",
       "    y0 = Math.floor(y0) + 0.5;\n",
       "    x1 = Math.floor(x1) + 0.5;\n",
       "    y1 = Math.floor(y1) + 0.5;\n",
       "    var min_x = Math.min(x0, x1);\n",
       "    var min_y = Math.min(y0, y1);\n",
       "    var width = Math.abs(x1 - x0);\n",
       "    var height = Math.abs(y1 - y0);\n",
       "\n",
       "    fig.rubberband_context.clearRect(\n",
       "        0, 0, fig.canvas.width, fig.canvas.height);\n",
       "\n",
       "    fig.rubberband_context.strokeRect(min_x, min_y, width, height);\n",
       "}\n",
       "\n",
       "mpl.figure.prototype.handle_figure_label = function(fig, msg) {\n",
       "    // Updates the figure title.\n",
       "    fig.header.textContent = msg['label'];\n",
       "}\n",
       "\n",
       "mpl.figure.prototype.handle_cursor = function(fig, msg) {\n",
       "    var cursor = msg['cursor'];\n",
       "    switch(cursor)\n",
       "    {\n",
       "    case 0:\n",
       "        cursor = 'pointer';\n",
       "        break;\n",
       "    case 1:\n",
       "        cursor = 'default';\n",
       "        break;\n",
       "    case 2:\n",
       "        cursor = 'crosshair';\n",
       "        break;\n",
       "    case 3:\n",
       "        cursor = 'move';\n",
       "        break;\n",
       "    }\n",
       "    fig.rubberband_canvas.style.cursor = cursor;\n",
       "}\n",
       "\n",
       "mpl.figure.prototype.handle_message = function(fig, msg) {\n",
       "    fig.message.textContent = msg['message'];\n",
       "}\n",
       "\n",
       "mpl.figure.prototype.handle_draw = function(fig, msg) {\n",
       "    // Request the server to send over a new figure.\n",
       "    fig.send_draw_message();\n",
       "}\n",
       "\n",
       "mpl.figure.prototype.handle_image_mode = function(fig, msg) {\n",
       "    fig.image_mode = msg['mode'];\n",
       "}\n",
       "\n",
       "mpl.figure.prototype.updated_canvas_event = function() {\n",
       "    // Called whenever the canvas gets updated.\n",
       "    this.send_message(\"ack\", {});\n",
       "}\n",
       "\n",
       "// A function to construct a web socket function for onmessage handling.\n",
       "// Called in the figure constructor.\n",
       "mpl.figure.prototype._make_on_message_function = function(fig) {\n",
       "    return function socket_on_message(evt) {\n",
       "        if (evt.data instanceof Blob) {\n",
       "            /* FIXME: We get \"Resource interpreted as Image but\n",
       "             * transferred with MIME type text/plain:\" errors on\n",
       "             * Chrome.  But how to set the MIME type?  It doesn't seem\n",
       "             * to be part of the websocket stream */\n",
       "            evt.data.type = \"image/png\";\n",
       "\n",
       "            /* Free the memory for the previous frames */\n",
       "            if (fig.imageObj.src) {\n",
       "                (window.URL || window.webkitURL).revokeObjectURL(\n",
       "                    fig.imageObj.src);\n",
       "            }\n",
       "\n",
       "            fig.imageObj.src = (window.URL || window.webkitURL).createObjectURL(\n",
       "                evt.data);\n",
       "            fig.updated_canvas_event();\n",
       "            fig.waiting = false;\n",
       "            return;\n",
       "        }\n",
       "        else if (typeof evt.data === 'string' && evt.data.slice(0, 21) == \"data:image/png;base64\") {\n",
       "            fig.imageObj.src = evt.data;\n",
       "            fig.updated_canvas_event();\n",
       "            fig.waiting = false;\n",
       "            return;\n",
       "        }\n",
       "\n",
       "        var msg = JSON.parse(evt.data);\n",
       "        var msg_type = msg['type'];\n",
       "\n",
       "        // Call the  \"handle_{type}\" callback, which takes\n",
       "        // the figure and JSON message as its only arguments.\n",
       "        try {\n",
       "            var callback = fig[\"handle_\" + msg_type];\n",
       "        } catch (e) {\n",
       "            console.log(\"No handler for the '\" + msg_type + \"' message type: \", msg);\n",
       "            return;\n",
       "        }\n",
       "\n",
       "        if (callback) {\n",
       "            try {\n",
       "                // console.log(\"Handling '\" + msg_type + \"' message: \", msg);\n",
       "                callback(fig, msg);\n",
       "            } catch (e) {\n",
       "                console.log(\"Exception inside the 'handler_\" + msg_type + \"' callback:\", e, e.stack, msg);\n",
       "            }\n",
       "        }\n",
       "    };\n",
       "}\n",
       "\n",
       "// from http://stackoverflow.com/questions/1114465/getting-mouse-location-in-canvas\n",
       "mpl.findpos = function(e) {\n",
       "    //this section is from http://www.quirksmode.org/js/events_properties.html\n",
       "    var targ;\n",
       "    if (!e)\n",
       "        e = window.event;\n",
       "    if (e.target)\n",
       "        targ = e.target;\n",
       "    else if (e.srcElement)\n",
       "        targ = e.srcElement;\n",
       "    if (targ.nodeType == 3) // defeat Safari bug\n",
       "        targ = targ.parentNode;\n",
       "\n",
       "    // jQuery normalizes the pageX and pageY\n",
       "    // pageX,Y are the mouse positions relative to the document\n",
       "    // offset() returns the position of the element relative to the document\n",
       "    var x = e.pageX - $(targ).offset().left;\n",
       "    var y = e.pageY - $(targ).offset().top;\n",
       "\n",
       "    return {\"x\": x, \"y\": y};\n",
       "};\n",
       "\n",
       "/*\n",
       " * return a copy of an object with only non-object keys\n",
       " * we need this to avoid circular references\n",
       " * http://stackoverflow.com/a/24161582/3208463\n",
       " */\n",
       "function simpleKeys (original) {\n",
       "  return Object.keys(original).reduce(function (obj, key) {\n",
       "    if (typeof original[key] !== 'object')\n",
       "        obj[key] = original[key]\n",
       "    return obj;\n",
       "  }, {});\n",
       "}\n",
       "\n",
       "mpl.figure.prototype.mouse_event = function(event, name) {\n",
       "    var canvas_pos = mpl.findpos(event)\n",
       "\n",
       "    if (name === 'button_press')\n",
       "    {\n",
       "        this.canvas.focus();\n",
       "        this.canvas_div.focus();\n",
       "    }\n",
       "\n",
       "    var x = canvas_pos.x * mpl.ratio;\n",
       "    var y = canvas_pos.y * mpl.ratio;\n",
       "\n",
       "    this.send_message(name, {x: x, y: y, button: event.button,\n",
       "                             step: event.step,\n",
       "                             guiEvent: simpleKeys(event)});\n",
       "\n",
       "    /* This prevents the web browser from automatically changing to\n",
       "     * the text insertion cursor when the button is pressed.  We want\n",
       "     * to control all of the cursor setting manually through the\n",
       "     * 'cursor' event from matplotlib */\n",
       "    event.preventDefault();\n",
       "    return false;\n",
       "}\n",
       "\n",
       "mpl.figure.prototype._key_event_extra = function(event, name) {\n",
       "    // Handle any extra behaviour associated with a key event\n",
       "}\n",
       "\n",
       "mpl.figure.prototype.key_event = function(event, name) {\n",
       "\n",
       "    // Prevent repeat events\n",
       "    if (name == 'key_press')\n",
       "    {\n",
       "        if (event.which === this._key)\n",
       "            return;\n",
       "        else\n",
       "            this._key = event.which;\n",
       "    }\n",
       "    if (name == 'key_release')\n",
       "        this._key = null;\n",
       "\n",
       "    var value = '';\n",
       "    if (event.ctrlKey && event.which != 17)\n",
       "        value += \"ctrl+\";\n",
       "    if (event.altKey && event.which != 18)\n",
       "        value += \"alt+\";\n",
       "    if (event.shiftKey && event.which != 16)\n",
       "        value += \"shift+\";\n",
       "\n",
       "    value += 'k';\n",
       "    value += event.which.toString();\n",
       "\n",
       "    this._key_event_extra(event, name);\n",
       "\n",
       "    this.send_message(name, {key: value,\n",
       "                             guiEvent: simpleKeys(event)});\n",
       "    return false;\n",
       "}\n",
       "\n",
       "mpl.figure.prototype.toolbar_button_onclick = function(name) {\n",
       "    if (name == 'download') {\n",
       "        this.handle_save(this, null);\n",
       "    } else {\n",
       "        this.send_message(\"toolbar_button\", {name: name});\n",
       "    }\n",
       "};\n",
       "\n",
       "mpl.figure.prototype.toolbar_button_onmouseover = function(tooltip) {\n",
       "    this.message.textContent = tooltip;\n",
       "};\n",
       "mpl.toolbar_items = [[\"Home\", \"Reset original view\", \"fa fa-home icon-home\", \"home\"], [\"Back\", \"Back to  previous view\", \"fa fa-arrow-left icon-arrow-left\", \"back\"], [\"Forward\", \"Forward to next view\", \"fa fa-arrow-right icon-arrow-right\", \"forward\"], [\"\", \"\", \"\", \"\"], [\"Pan\", \"Pan axes with left mouse, zoom with right\", \"fa fa-arrows icon-move\", \"pan\"], [\"Zoom\", \"Zoom to rectangle\", \"fa fa-square-o icon-check-empty\", \"zoom\"], [\"\", \"\", \"\", \"\"], [\"Download\", \"Download plot\", \"fa fa-floppy-o icon-save\", \"download\"]];\n",
       "\n",
       "mpl.extensions = [\"eps\", \"jpeg\", \"pdf\", \"png\", \"ps\", \"raw\", \"svg\", \"tif\"];\n",
       "\n",
       "mpl.default_extension = \"png\";var comm_websocket_adapter = function(comm) {\n",
       "    // Create a \"websocket\"-like object which calls the given IPython comm\n",
       "    // object with the appropriate methods. Currently this is a non binary\n",
       "    // socket, so there is still some room for performance tuning.\n",
       "    var ws = {};\n",
       "\n",
       "    ws.close = function() {\n",
       "        comm.close()\n",
       "    };\n",
       "    ws.send = function(m) {\n",
       "        //console.log('sending', m);\n",
       "        comm.send(m);\n",
       "    };\n",
       "    // Register the callback with on_msg.\n",
       "    comm.on_msg(function(msg) {\n",
       "        //console.log('receiving', msg['content']['data'], msg);\n",
       "        // Pass the mpl event to the overridden (by mpl) onmessage function.\n",
       "        ws.onmessage(msg['content']['data'])\n",
       "    });\n",
       "    return ws;\n",
       "}\n",
       "\n",
       "mpl.mpl_figure_comm = function(comm, msg) {\n",
       "    // This is the function which gets called when the mpl process\n",
       "    // starts-up an IPython Comm through the \"matplotlib\" channel.\n",
       "\n",
       "    var id = msg.content.data.id;\n",
       "    // Get hold of the div created by the display call when the Comm\n",
       "    // socket was opened in Python.\n",
       "    var element = $(\"#\" + id);\n",
       "    var ws_proxy = comm_websocket_adapter(comm)\n",
       "\n",
       "    function ondownload(figure, format) {\n",
       "        window.open(figure.imageObj.src);\n",
       "    }\n",
       "\n",
       "    var fig = new mpl.figure(id, ws_proxy,\n",
       "                           ondownload,\n",
       "                           element.get(0));\n",
       "\n",
       "    // Call onopen now - mpl needs it, as it is assuming we've passed it a real\n",
       "    // web socket which is closed, not our websocket->open comm proxy.\n",
       "    ws_proxy.onopen();\n",
       "\n",
       "    fig.parent_element = element.get(0);\n",
       "    fig.cell_info = mpl.find_output_cell(\"<div id='\" + id + \"'></div>\");\n",
       "    if (!fig.cell_info) {\n",
       "        console.error(\"Failed to find cell for figure\", id, fig);\n",
       "        return;\n",
       "    }\n",
       "\n",
       "    var output_index = fig.cell_info[2]\n",
       "    var cell = fig.cell_info[0];\n",
       "\n",
       "};\n",
       "\n",
       "mpl.figure.prototype.handle_close = function(fig, msg) {\n",
       "    var width = fig.canvas.width/mpl.ratio\n",
       "    fig.root.unbind('remove')\n",
       "\n",
       "    // Update the output cell to use the data from the current canvas.\n",
       "    fig.push_to_output();\n",
       "    var dataURL = fig.canvas.toDataURL();\n",
       "    // Re-enable the keyboard manager in IPython - without this line, in FF,\n",
       "    // the notebook keyboard shortcuts fail.\n",
       "    IPython.keyboard_manager.enable()\n",
       "    $(fig.parent_element).html('<img src=\"' + dataURL + '\" width=\"' + width + '\">');\n",
       "    fig.close_ws(fig, msg);\n",
       "}\n",
       "\n",
       "mpl.figure.prototype.close_ws = function(fig, msg){\n",
       "    fig.send_message('closing', msg);\n",
       "    // fig.ws.close()\n",
       "}\n",
       "\n",
       "mpl.figure.prototype.push_to_output = function(remove_interactive) {\n",
       "    // Turn the data on the canvas into data in the output cell.\n",
       "    var width = this.canvas.width/mpl.ratio\n",
       "    var dataURL = this.canvas.toDataURL();\n",
       "    this.cell_info[1]['text/html'] = '<img src=\"' + dataURL + '\" width=\"' + width + '\">';\n",
       "}\n",
       "\n",
       "mpl.figure.prototype.updated_canvas_event = function() {\n",
       "    // Tell IPython that the notebook contents must change.\n",
       "    IPython.notebook.set_dirty(true);\n",
       "    this.send_message(\"ack\", {});\n",
       "    var fig = this;\n",
       "    // Wait a second, then push the new image to the DOM so\n",
       "    // that it is saved nicely (might be nice to debounce this).\n",
       "    setTimeout(function () { fig.push_to_output() }, 1000);\n",
       "}\n",
       "\n",
       "mpl.figure.prototype._init_toolbar = function() {\n",
       "    var fig = this;\n",
       "\n",
       "    var nav_element = $('<div/>')\n",
       "    nav_element.attr('style', 'width: 100%');\n",
       "    this.root.append(nav_element);\n",
       "\n",
       "    // Define a callback function for later on.\n",
       "    function toolbar_event(event) {\n",
       "        return fig.toolbar_button_onclick(event['data']);\n",
       "    }\n",
       "    function toolbar_mouse_event(event) {\n",
       "        return fig.toolbar_button_onmouseover(event['data']);\n",
       "    }\n",
       "\n",
       "    for(var toolbar_ind in mpl.toolbar_items){\n",
       "        var name = mpl.toolbar_items[toolbar_ind][0];\n",
       "        var tooltip = mpl.toolbar_items[toolbar_ind][1];\n",
       "        var image = mpl.toolbar_items[toolbar_ind][2];\n",
       "        var method_name = mpl.toolbar_items[toolbar_ind][3];\n",
       "\n",
       "        if (!name) { continue; };\n",
       "\n",
       "        var button = $('<button class=\"btn btn-default\" href=\"#\" title=\"' + name + '\"><i class=\"fa ' + image + ' fa-lg\"></i></button>');\n",
       "        button.click(method_name, toolbar_event);\n",
       "        button.mouseover(tooltip, toolbar_mouse_event);\n",
       "        nav_element.append(button);\n",
       "    }\n",
       "\n",
       "    // Add the status bar.\n",
       "    var status_bar = $('<span class=\"mpl-message\" style=\"text-align:right; float: right;\"/>');\n",
       "    nav_element.append(status_bar);\n",
       "    this.message = status_bar[0];\n",
       "\n",
       "    // Add the close button to the window.\n",
       "    var buttongrp = $('<div class=\"btn-group inline pull-right\"></div>');\n",
       "    var button = $('<button class=\"btn btn-mini btn-primary\" href=\"#\" title=\"Stop Interaction\"><i class=\"fa fa-power-off icon-remove icon-large\"></i></button>');\n",
       "    button.click(function (evt) { fig.handle_close(fig, {}); } );\n",
       "    button.mouseover('Stop Interaction', toolbar_mouse_event);\n",
       "    buttongrp.append(button);\n",
       "    var titlebar = this.root.find($('.ui-dialog-titlebar'));\n",
       "    titlebar.prepend(buttongrp);\n",
       "}\n",
       "\n",
       "mpl.figure.prototype._root_extra_style = function(el){\n",
       "    var fig = this\n",
       "    el.on(\"remove\", function(){\n",
       "\tfig.close_ws(fig, {});\n",
       "    });\n",
       "}\n",
       "\n",
       "mpl.figure.prototype._canvas_extra_style = function(el){\n",
       "    // this is important to make the div 'focusable\n",
       "    el.attr('tabindex', 0)\n",
       "    // reach out to IPython and tell the keyboard manager to turn it's self\n",
       "    // off when our div gets focus\n",
       "\n",
       "    // location in version 3\n",
       "    if (IPython.notebook.keyboard_manager) {\n",
       "        IPython.notebook.keyboard_manager.register_events(el);\n",
       "    }\n",
       "    else {\n",
       "        // location in version 2\n",
       "        IPython.keyboard_manager.register_events(el);\n",
       "    }\n",
       "\n",
       "}\n",
       "\n",
       "mpl.figure.prototype._key_event_extra = function(event, name) {\n",
       "    var manager = IPython.notebook.keyboard_manager;\n",
       "    if (!manager)\n",
       "        manager = IPython.keyboard_manager;\n",
       "\n",
       "    // Check for shift+enter\n",
       "    if (event.shiftKey && event.which == 13) {\n",
       "        this.canvas_div.blur();\n",
       "        event.shiftKey = false;\n",
       "        // Send a \"J\" for go to next cell\n",
       "        event.which = 74;\n",
       "        event.keyCode = 74;\n",
       "        manager.command_mode();\n",
       "        manager.handle_keydown(event);\n",
       "    }\n",
       "}\n",
       "\n",
       "mpl.figure.prototype.handle_save = function(fig, msg) {\n",
       "    fig.ondownload(fig, null);\n",
       "}\n",
       "\n",
       "\n",
       "mpl.find_output_cell = function(html_output) {\n",
       "    // Return the cell and output element which can be found *uniquely* in the notebook.\n",
       "    // Note - this is a bit hacky, but it is done because the \"notebook_saving.Notebook\"\n",
       "    // IPython event is triggered only after the cells have been serialised, which for\n",
       "    // our purposes (turning an active figure into a static one), is too late.\n",
       "    var cells = IPython.notebook.get_cells();\n",
       "    var ncells = cells.length;\n",
       "    for (var i=0; i<ncells; i++) {\n",
       "        var cell = cells[i];\n",
       "        if (cell.cell_type === 'code'){\n",
       "            for (var j=0; j<cell.output_area.outputs.length; j++) {\n",
       "                var data = cell.output_area.outputs[j];\n",
       "                if (data.data) {\n",
       "                    // IPython >= 3 moved mimebundle to data attribute of output\n",
       "                    data = data.data;\n",
       "                }\n",
       "                if (data['text/html'] == html_output) {\n",
       "                    return [cell, data, j];\n",
       "                }\n",
       "            }\n",
       "        }\n",
       "    }\n",
       "}\n",
       "\n",
       "// Register the function which deals with the matplotlib target/channel.\n",
       "// The kernel may be null if the page has been refreshed.\n",
       "if (IPython.notebook.kernel != null) {\n",
       "    IPython.notebook.kernel.comm_manager.register_target('matplotlib', mpl.mpl_figure_comm);\n",
       "}\n"
      ],
      "text/plain": [
       "<IPython.core.display.Javascript object>"
      ]
     },
     "metadata": {},
     "output_type": "display_data"
    },
    {
     "data": {
      "text/html": [
       "<img src=\"data:image/png;base64,iVBORw0KGgoAAAANSUhEUgAAAbAAAAEgCAYAAADVKCZpAAAgAElEQVR4nOy9eZBb5Zn23VN5q76amvfPqZqambyVTGayQbEEko/KfHkThoEwFSDsAULYAiSsDhAmZjDGkIBZDAZMwDYYvO+0jd3u1S2ptbb2XTrSkY72fd9bXq/vj9PntE4fta1utyXbPFfVXYWP1OcIu/v+9f0893PdfX1ERERERERERERERERERERERERERERERERERERERERERERERERERERERERERERERERERERERERERERERERERERERERERERERERERERERERERERERERERERERERERERERERERERERERERERERERERERERERERERERERERERERERERERERERERERERERERERERERERERERERERERERERERERERERERERERERERERERERERERERERERERERERERERERERERERERERERERERERERERERERERERERERERERERERERERERERERERERERE3RCIiIiIiOatXuduoj4CMCIiIqKFqNe5m6iPAIyIiIhoIep17ibqIwAjIiIiWoh6nbuJ+gjAiIiIiBaiXuduoj4CMCIiIqKFqNe5m6iPAIyIiIhoIep17ibqIwAjIiIiWoh6nbuJ+gjAiIiIiBaiXuduoj4CMCIiIqKFqNe5m6iPAIyIiIhoIep17ibqIwAjIiIiWoh6nbuJ+gjAiIiIiBaiXuduoj4CMCIiIqKFqNe5m6iPAIyIiIhoIep17ibqIwAjIiIiWoh6nbuJ+gjAiIjOV508eRInT57EiRMncPz4cRw/fhzHjh3D0aNHcfToUTSbTRw7dqzXH/OCVa9zN1EfARgRUTfVCh0OPMeOHePBc+TIERw5cgRTU1OYmppCvV5HrVZDtVpFpVJBuVxGqVRCoVCA2+1GsVicM/L5PIrFIk6cONHr/+0LUr3O3UR9BGBERKfTfKBTrVbbQocDz6mAw0WhUBD8uVQq8cHdq1AoQCaToVKpzBncvZrNJk6ePNnrv8YLTr3O3UR9BGBEF6YWo9JZCHTGx8dF0GkFT7lcPiV0Oo1cLge5XH7K93CfqVqtotls9vqf5IJTr3M3UR8BGNG5pdn7Oq3Q4cAzGzq1Wu2U0DGbzR1BaK5qZz7QkUgkiwKo00Umk4FKpTotwEqlEmiahtfrJVXYIqvXuZuojwCM6Mx1umaCI0eOoNlsYmpqCo1GA9VqFel0WrSv0ylkOllia4VOt6DSzWclk0loNJpTviefz6NUKsHj8cDv9+Po0aO9/la5oNTr3E3URwD2VdV8oTNXM0GnsGmFTjabxcTERFvoLNYSWy+gUi6Xu/aseDwOnU53WoCVy2W4XC4Eg0E0Gg3S0LGI6nXuJuojADuf1Al0uCW2TqDTCpVQKCTqauu00pkvdAqFAiYmJrqS6LsJsFKpBKlU2pVnMVojDAbDaQFWqVRgt9sRjUbRaDRIQ8ciqte5m6iPAOxs60yaCeLxOL8MtJgdbO2gEwwGYbFYupJ8i8XiBQmwYrF42s7AxYisl8HoN/4vjOrTLyFWKhVYLBYkEgn+FxtyNmxx1OvcTdRHANZOvepgmw2dyclJxOPxs7q8xkUoFILJZLqgEj0X3QJYoVA4bWfgGT8jloDsshtw6H99B/qd+075Xg5gRqMR6XSaXxKempoiVdgiqNe5m6iPAOzll19GpdIZdNLpNHQ6XVvoLEYH2+zQ6/WIxWJdSb6RSARGo7Erz7pQAZbL5aBQKM7a/Uv5PNTXP4BD/+s7GPzfl0D34SenfH8+n0e1WoVWq0Uul0Oz2USz2USj0SANHYugXuduoj4CsMsvv7xj6HR778ZkMiEcDnflWbFY7LR7KouWiLu4V1SpdA9g2Wz2tK3tC41ysQjHH56B9JL/wqH/5/tQXH8rtEtfmnl9+nBzNptFMplELBYDwzCoVCpQq9UolUo8wLilRNLQcWbqde4m6iMAu+KKKzpPIl3sMqtU2L2LYDDYlWd10tW2WHGhAiydTkOtVs/77yKfzyOdTiMejyMSiSAQCMDn84GiKDidTlitVkw+vQSqy6/A6FU3QnLtzZD+26U4fOvdkEgkfMhkMiiVSkxOTkKv10OpVMJut0OhUPCHmVshViwWyVLiGajXuZuojwDsiiuuQKlUOueSYaXCdo/5/f6uPCuRSGBycrIrz+rmLwJn41ntqh2ui1MqlcLlcsFut8NsNsNgMGBychJKpRITExM8bMbHxzE+Pg6pVAq5XA61Wg2tVguj0Qir1QqHwwGKokDTNCwrXoHq8iuguvwKGH/7e0j/7VJI/+1SKH56/Sk/ZyaTgVQqhUQi4TsQWwEmkUhIQ8cZqNe5m6iPAOynP/3pvPaZugkwp9MJr9fblWelUqnTHow9l6HSybNKpRJyuRxSqRTi8TjC4TACgQBomgZFUXA4HLBarTAajdBqtVCr1ZDL5TwEWmNiYgIqlQqTk5MwGAwwm80wGo2QSCTwer3w+/0IhUKIxWJIJpPIZrMoFArz3hOl3/+Ah5fj8Udhvf8+HmDS71yOUjY759fmcjlEo1EcOnRIAC8OYFKpFI1Gg1RhC1SvczdRHwHYTTfdBLfb3XFC6SbAKIoCRVFdedZClr/OJDr9e+SqnUwmg2QyiWg0imAwCL/fD4/HA5fLBZvNBrPZDL1ez1c7MpmMr3IOHjwIiUQCqVQKhUIBtVoNnU4Hk8kEq9UKp9MJiqLg8/kQCAQQiUQQj8eRTqf5YwydfNbFXob1f/TxDLx+9zAs1/0E1ttvngHYv12KpGHuztFcLod6vY5Dhw4hEokIAFar1SCXy9FoNHDkyJFe/xiel+p17ibqIwD7zW9+A61W23FSkUql81pyPJPwer1wuVxdeVY2m4VSqVyUe5XLZRSLxTmrHbfbjaGhIVgsFlG1M7vSaVftWCwW2O12uN1ueL1eMAwjqnaKxSLfVdqt/bZoNLpojTChbVt5eNkffgiWn/8Ulut+AvN1P8HEJf8vpP92KfR3/RqxgQOnBFij0cD4+DgkEgnq9ToPsHK5DJVKxTd0HD9+vNc/iuedep27ifoIwJ566imMjY11nFjkcjl/vuZsh9/vh91u78qzcrkcJiYmkM/nkclkkEgkRNWO0+mEzWaDyWSCXq+HRqPhq53Z0JHJZFAoFNBoNKJqx+PxYGRkBMFgEJFIBIlEYt7VTqfRzZb9xTqKENuxCe4nHoHq8itg++2DsFzPwouLyet/CdWNt8D4n/8XgY/WnBZgUqmUbwjhAJbP56HVasnZsDNQr3M3Ud/5DbDVq1fjoosuwsUXX4y7774bU1NT877HsmXLsHfv3o6Ti1qtRjqd7kpCDAQCsFqtp3wPV+1ks1mkUinEYjGEw2EwDAOv1wu32w273Q6LxQKDwQCtVguVSiWqdsbHxzEwMAC5XA6VSgWtViuqdmiaBsMwCIfDiMViSKVSgmpnPv9vF5o7RqXCHgY3m81nBq9tn8F927Vw//Ye2B58AJb/+pkAXpbrfgL7k0/CcN3VMF7976D+9Nyc98pms6jX6/xel1Qq5eeDZTIZGAwGcjbsDNTr3E3Ud/4CLBaL4Zvf/CYajQYA4M4778TGjRvnfZ+3334bGzZs6DjBaLVaJBKJM052re3TiUQCkUgEwWAQPp+Pr3a0Wi3Gx8eh0+mg0WigUCjmrHaUSiU0Gg30ej1MJhNsNhtcLhfvRB4MBhGNRpFIJJDJZETVzoV6uLibZ/fO1I4runEdC6/brgXz4lOw3vifIni5Hr4H3v9eAuPV/w7j1f8O2923z/n9lcvlUK1WMTExgWaziXg8Do1Gg2aziWQyCbPZLDobRqqwztXr3E3Ud34D7Otf/zry+TyOHTuGG264AaOjo/O+z/r167F69eqOEky5XIZer0cgEBC0T89V7UxOTkKlUgnap7lo1z5tsVjgcDj4asfhcEClUiEejyOVSiGXyy2o2un0/+1CHDvSTYAxDAObzbagv/vIx6t5eAVf+gOCj94K5/2/EsDL+eBdoB++HfQfHuUBZvyP/w+lbGZOgFUqFSiVSh5UOp0OkUgE0WgUdrtd0NhBzH7np17nbqK+8xdgAPD+++/j7/7u7/D3f//3+PWvf93x1+VyOQwODmLnzp149NFHccstt+CJJ56AyWSCTqeDWq2GQqFo2z49PDwMiUTCHxY1m82iaicUCiEajSKZTCKTySyofbpSYc9mzafB5ExjfHy8a8/qFsDy+fxZ9yfkYiF7luVSCaF3X5+B1/JnEHzkZgQf/iU8f/j9DLzuux2+R++E9+7r4X3kVy0V2K3I2cRVHwewQqGAyclJHlKlUgkSiQSBQAAul0vUWl+v18nZsA7V69xN1Hf+AqxQKOA//uM/kMlkcPToUdx8883YunVrR19L0zReeuklvP3221iyZAnuuusubNiwAeFwmG+fzuVybRsKunm4uJtnsyoVArAzDZqm4XQ6O35/OZ9D8q+vwfPAbXDfdi1Cr/yRh1fw4V/Ct/TpaXjdCd/vfsXCazoM1/8HrHfcBO8jdyE5+KXo3twSdTabhV6vF4CKoihoNBp4PB7R+TCuYYdUYadXr3M3Ud/5C7A9e/bgt7/9Lf/nzZs34/HHH5/3fbRaLR555JGOk47b7YbH4+lKQlzM1vZzCSrdfNbZNthtjfkceyilEki8/QKiT90J/3O/Q/jPz/Pg4oJ54Uk47//VTOXVEvr774H3978Gdcd1iH6yRnz/aYClUimYTCbRUuHIyAjcbrcIYF6vFzRNk4aODtTr3E3Ud/4CTKvV4qKLLkK9XsfJkydx//33Y82aNfO+D0VRuPPOO89KkjrT6Gb10E2odPNZ3QRYpwfPSyEG8VeXIPrUnYg+/SvEVr8iglfw4V8itPwp0I+I4UU/fAesz/0O1B3XgbrjOgRWPM/fmzv4nUwmeX9Fq9UqApXRaIRUKhVdd7vdCAQCxOy3A/U6dxP1nb8AA9hRKN/97ndx8cUX4ze/+Q2azea875FIJHD99af2lGuNhW7ULyS6bXp7IS4hdrOK7aQ6LzgtiC19mIXXM79GZs3LSLy7TAyvZY8hvuwReO+7SQAvz4O3IPDCo7A/9wgPMOf9t4gOfiuVSoyPjyMUCsHhcIhA5XA4IJfLRQ4dZHpz5+p17ibqO78Bthiq1+v48Y9/3HGSWoyzPp1GuVzuKlQIwOYfrf6KJpMJFosFDMPwjiOtXanWL7Yh/Ie7EX3qToSe/Q1Cr/8B6RcfQHDFEwJ4+f/n94i/8BCSz98Lz9MPzADsoVsReelxRJ+8A54/PswDzHP/LSgl44LPVSwWYbVaodPp2i4VWiwWhEIhkUMHmd7cuXqdu4n6CMBOnjyJH/zgBx0nrFgsBr1eT6Bynjwrk8mIZnS1Hv5udxyiEzf51uMQnOOIRCKBUqkUOI74/X4EAwGkDmxB8oPliD51J2IvP470m88i/eIDSL/4AFIvP8I3b8Refx7JFx5E8vl7kXz+XoReeQ7eu6+H75E7EFvxFKJP3oHok3cguOQeFl6/+SWiy59E3izsVi0UCsjn8xgZGRE4cLQuIabTaZFDh8FgQCaTIQ4dHajXuZuojwAMwLwAlkwmuzZ25EKFykKf1amxb6vV1cTEBA4dOsT7AXIGv7MPf7ceh1iom7zNZuOHSPKfOZdFYcca5P/yO2RXL0XizeeR/vNjPLy4CD//EBKr/gfJP93Hwyv5/L2IrlwK3+9+hdjyJ3h4cUE//htEVzyN8O9vRWZQ6CZTKBRQKpVgNBr5g8ytodPpBFZTnEOHVqtFPp8nDh0dqNe5m6iPAAyYH8C63RnY7SXEs3FIup3ryOjoqGhoY7tzeBxwOAB1YuzbanUVjUahUqnOyv/X7LBarQgEAjPwCvuR/2g58n/5HRubVyH98iMieKVffACptW8IwMVF/K2liL30mAhe4SV3I75qGcK/vxXh39+K5AbhYXzOacXlckEikSCZTAoAptFo+CnNrQ4d3N8Vmd58evU6dxP1EYABwJVXXolisdhRkuqms0O3ATbbaZ/b3+G62drNz5rLUX42eFo9Fo1GI4aGhgRDGwOBQEfn8OYb3RwT0zpBu2RWI//WEhZcrz+O0rbVKL/3LDKr/iiE10sPobjpbWTXvSaCV2rlM8ivWSaCV/TZexF+41kk350BWOzPz4gAVi6X4XA4QNM0JiYmMDU1xYNp9pRmzqFjYmJCsCdGHDrmVq9zN1Hf+Q+wYrGI22+/Hd/97nfxve99DxqNZt73uPrqqxGJRDpKUr2wXJpP9TB7lMnpzH1b7a4OHjwoAE+r3dVc87MW6ijfrb/Dbh4GN5lMCAcDqEj7kX/vv1l4rf4jSpveQPm9Z1F+71lk1/55Bl6vPobiZ6+j9PZTyK//iwBemVV/QuGd51B47TG2a7EFXunVLyCz7EGkVs8ALPLsb1Bu+XvnJiZYLBbE43HYbDb4fD4eSjKZTDClmXPokEgkAtBxVRhN06hWq4v+83s+q9e5m6jv/AfY/fffj08//RQAcOTIERSLxXnf4+abb56Xg8LZSL5zjakfGxsDRVGiwY2to0xaodNuf+dU5r6tdlfcOJVugflCA5hVLUdx+2pUP1qKwqevofDJn1Feu4yHV/m9Z5H/7E2kX3wAmbefQ2ntcpTefgqlt59C4cP/mYHXBy+h8NYfUHjtMRReewyJN//EwuuP9yPz3v8gs+xBZJY9iPQbz7AAe+ouZFa/gBIzM72b+3fkmjVqtRokEglfdbU7A0ZRFIaHh0XXuSXHXC5HqrAW9Tp3E/Wd3wArl8v45je/ecY/VPfff/+8klxr8m1tLGidodXqKt+6v8O5ys+1v6NUKgVj6kdGRmC32087uHExErBCoeANYC8UgHWt6cauRWndS6h+tBSVj5ai1L8e5fefE8Cr/N6zKGxYidxHK1B6/3keXqW3n0Lx7aeQ/J+HkFv7FxRWPsHDq/DaY0ivWYHY0oeQeedPPLwyyx5EetlDiDx7HzKrX0D6hftQmJw5M8j9O3LNGs1mEwzD8A707QDWaDRw8OBBvqGjNZRKJUqlEmnoaFGvczdR3/kNMIvFgh/96Ed44IEHcPnll+Phhx9GrVbr6GuPHTuGfD6PYDCIe++9F6tWrcL+/fsF+ztWq1W0vyOVSvkR9bMnBp9uhtZCXOVVKhUyGbHb+NmIbj7rggFYPovK8DZUP1qK6kdLUd7wCmr7PkLli7+K4FV+71mUvvgYpVVLBPDiIr/5XQG4uMisfQ2Zt58TwCuz7EFkXvkdMh/9GekX7kP6hfuQ/3IL/7ny+Tyq1So0Gg2KxSK/FCiXy5HNZtsCrNlsYmxsjG/oaA2ZTIZ6vU4aOlrU69xN1HduAqxcLnf0PoPBgK997WvQarUAgCVLluCll17q6Gu3bduGa6+9Frfddhsuv/xy/OIXv8Dy5ctFjQWRSIRvLOD2d2Y3O5zN0Gg0SCaTXXlWN4d1dgtgZ9XRP0ChOrSZh1dm81uobnsT9Y2voLrjHSG8/roU1f6PUN+wHKUP/lsIr3efQWXPGhQ3rxID7OPlKG56SwSv1IpHUdrwOnJrZwCWXb9SALBarcZ3zHIgSqfTUCgUkEgkbSswmUzGN3S0vsYBj9sfI0uJBGDnhHr1j//iiy/CZDLxv821/kA89thjHS1VJJNJfOMb3+D/rFAo8Itf/GLen+Wdd97BJ5980nHiksvlXdsr0ul0iMfjXXnW5ORk12B5XgOsWEBNPYj61tdR27UalXXLUD2wHrWNr6A+HdXPX0H5wz+x8Pr8ddR2voP6huUswDa+MQOvv76AyvZVqK59AaVtq4Xw+vQ1dg9tzfPIrHh0Zunw1ceQ+Wg5SquWIP/pSh5gmTdnOhFzuRxqtVrbrkKj0YjR0VERwKrVKhQKBd/Q0fp1rRUbcehg1evcTdTXO4D90z/9E/7xH/8R7777LhiGEbx28cUXI5vNdnSfn/zkJ/B4PACAFStW4Pnnn5/3Z9mwYQPeeeedjhNYNysVg8GAaDTalWct1rTpTqJbAIvH49DpdIt3zwCF+r6P0Nj6OhpbX0f9wDrU+j/kwdUa5U1voLL3r6htfJWHV33DcpR3vs/C6/PXUdn4F1TXvoDq2hdQ3vIWD6/S5rdR/utSVNY8j8qa55HlmjdWLkHuYxZepVVLUFj3KguwFb9DYd0ryIYYJJNJhEIh1Go1SKVSUVdhPp/HwMAAarWa4HqpVIJareYbOlodOloBRqY3s+p17ibq6x3Afvazn8FiseCuu+7CjTfeiF27duHIkSP8a7OhNpcsFguuvPJKXHLJJbj55ptRKBTm/Vn27t2Ll19++ZxM9GazGaFQqCvP0ul0iMViBGDtopBDbXIYdQ5c299A/fA2NPrfQ23/xyJ41bauRGVwkwBcPMB2f4DyzvdRWb+Mh1d17Qsor38J+dcfR27zKpSnwcVFbM1yJFYuQeaDpTy8SquWIPfOM4gvfwSJ95ai+OaTsBzYjcnJSUilUvj9/rZ7XaVSCePj4yKT31wuB51Ox1dZnEPH1NSU6D6NRgNHjhz5SkOs17mbqK93APvP//xPWK1WAMD27dtx9dVX4/e//z3C4TBuuOEG2O32rn2Ww4cP49lnn+04mRmNxo7PjZ1pzHZ3OJvRzWqvWwBbDO/Kqs+OxtAG1IY3sfA6uB71wU8x9cVqTH2xGuWBDQJ4lfauQXXfh8j3fyyCV+WzFYjt+kAALh5g615EYuNbAnBxkdm8CoU1QniVVi1B6cMXUPz8DRTffBLFN59EScoOt0wmk3x362yA5XI5aLVayGQyQcfh7NlhnENHrVaDXC4XnQ1rNBo4fvx4135OzzX1OncT9fUOYDfddBPkcjn/52q1iscffxz3338/vva1r0EikXTts+j1ejz00EMdJ7RWx4WzHQ6HAz6fryvPMplMCIfDFzzAWh3kOYeR2Qe9zWYzbJMKpIc2Y+rLDzH15YdI9K9Fat9aNKbBxUWm/yN232vjq8h9uR6NPe9ias87KO8TAqy6613UD65FfdfbqHzykgBelU2vo35gLSq714gBtusDVPesEcPr42Wobn0Lpc2reIAVd3+MSoXdA/N4PBgaGhIBLJ1Ow2g0IpFICDoO280O0+l0YBiGX1qcDbGvstlvr3M3UV/vAPbAAw9gaGgIAAQNGxKJBDfeeCN0Ol3XPovX68Udd9zRcVK02+1dgwpnLtuNZ3VzuXK+DiOt4GlnbTWXw8j4+DgGBwfndJDnHEYEB729XuQ0w2gc+IiHV022GzX5XgG4uKgfXI9a/4cofLEGU3ve4aO+dzVqn72M+oblqA1sQGPvakztegtTu95Cdce7M/Da/T7qe99DY/tKVPevE8Cr2r8WtU2vorr5Lyi988zM3tfa5ahuXonauhdR3vH+DMA+X8kDrFqttj3XlUgkYLFYePPeaDSKZrOJcDgscq4vlUo4fPgwJicn27bdy+VyTE1Nde1n9VxSr3M3UV/vAKbVahEOhwXXuOWIEydOoNmc/3DKhSqVSuG6667rOJF2MrhwscLj8cDtdnflWRaL5awsV7aa+XLgGR0d5cEz21ORs7aaa3RJO2uruRxGQqFQ50uI5TKqjAMN+W40psHVGNmEumIvpoY/RWP0c1H11eh/H3XFF2js+0AALy5qe9egPryRBxcPsP3rWIANfIr6jjfR2L6SBdi+j1l4ffjfqH65Xrg0+cmrKK1aguy6V1D57M+orXuRBdi2d1h4rV2Oyud/QSWbRjabRa1Ww+HDh6HVagXQiUQi/P4Xdyyk0WggEAiAoigRpCwWy5znxqRSKer1+lfybFivczdR37l3DqwXPwhTU1O46qqrOk7IXq93XtZTZxI0TXftWbPHgbRzkT+Vma9KpeLNfGeDZ7anYquZL+epGI1GkUgkeGurxXAYiUajMBqNp31fNcagrtqPqdHPMTX6ORpjW1BX7UNjZAOmhj/lo9Gy91Uf24KGdAd7fehzEbzqo1tQP7xNBK+pXW+heuhT1A5t4MHFRW33KlTWLkNtn7gxpLx9Ncrb3kHlk+U8vGrrXkRlwysorn8FlQ2vovrRUpQoC3K5HMrlMm8plkgkeOgEg0HBkEuXy8WffWz1S+QiGo1iaGiorUMHB7+v4tmwXuduor7eAoz7hj958iROnDiBEydO4Pjx4zh69Oi8QXb8+HFcfvnluOGGGxb0WS6//PKOkyLDMLDZbF2BykKeVS6Xkc/neXurSCTC21u1ji+Z7TIyPDyMkZERAXw48HAu8qcy881kMrwL+uk+Y7cOg0cikVMDLBVDXT/Mg6s+uhE13SDq6i8F4OKiPr4DjQMfoa7sR6P1umQnD67GF++hLv8CjcH1qEt3iuDVGPwUdelOEbwa21eivv8j1PZ91LYtvzKwEdX1LwngVVv3Iqq730dl61szbiDqYd7tRaPRoFAoQCaT8e30fr8fXq9X0FEolUrhcDgQCAREkAqHw7z/ZjuAfVWnN/c6dxP1nXsVWKvm8xvdu+++i3vuuacrAAuFQjCZTIuebNv5KtpsNqhUKhF4uLlZnL3V7Kpn9vgSi8XS1mWk1UWeG73RDTDLZLKOR9icSYTD4fb/Vrk0qg4VarqhGXhpDqCmOYD6xE7UtANieA1/iurkABqHN4tfk+2erro2ozG+DVOD6zE1uB51yXYBvOrSXWgcWofGoXWCpcPG9pWojWxC4+DHqB38RNiSv/FV1Ee3oHbwEzG8+v+K+o63UN3zIQ+wysBG5HI5QVt8qxu9x+MBwzCiZcXx8XGRA0ezyXooejwekUNHa3v9V7Gho9e5m6ivdwA7fvw4wuEwbDYbZDIZvvjiC6xfvx5vvvkmHn/8caxdu7bje0WjUVxzzTWQSCQLBth8hlrO7mw73aTgUw1snA2eVl9Fo9HIn+mZa25Wp+NLOgmuieGCBlgug6prEjXFHtTlu1GbPIi6ch9q2kOoT+zkozZ5QAgoxXtwI9sAACAASURBVF7UJg+Krs9UYDuQGtyIxjS4uGgMb0Bj11to7P+QrcYGPuaj/uXHbNW14w3UJTvQ2P8BpvZ/gNrwphl4bXkd9ZFN000h76G6ftkMwPavR33bG2hsfR3VL9fPVGAHPuWXfo1GI5rNpsCN3uVyIRQKiToKR0dH4fF4RADjJlTPduiY3V7/VZve3OvcTdTXO4ANDg7ib/7mb/D9738f3//+93HVVVfh+uuvx69//Ws8+OCD2LRpU8f3uv3222E0GiGTyeYFsJMnT/JAuuKKK7B//34olcq2I+pbneTHx8dx6NChtuBpNyn4TAY2LsY5pk6DoihQFNWVZ01MTKBQKJz154RCIZjNZlTyWVQpPWqKvajLd6Mu342qbhAVixQ1+S4BvOoTO1FT7JkG0zbU9EOozbougJfmAOrKftQHPxHAi4uabDcawxsE8Joa+Bi10c2o93+A+thmTE3Da2r/B6gPb2ThtWc1Goc+EeyrVbe9ze57HfiEP1Td2Po6qvs+ZgG2by1qm/+CfDIm6Dbklg6tVivsdjvfedgak5OTGB8fFzl3uN1uBINBkUNHq3NH69mwr0pDR69zN1Ff7wCmUChwzTXXnPI9nSxHDAwM4PHHHweAeQNs6dKl+OlPf4obb7wR3/jGN3DLLbfgww8/bDuivtVJPp1O8yapZzu6Ng6k0t2Ox24BLMLQiBqkqOgHUTOMsODSDqJilaKiPYiq9iBbhc0CWFWxFzXDCGry3aLXGtLtbOOGbAfq2kNoyHagIduB/NBGYfU1tgl17QDqii9E8Joa+Bg1eT8aA2sF8Jra/wHqBz9G7eB6NPatETWGVPevQ2rXBzy4uKjteBvVL9ejtulV1De9iiJlRjQahd1uFwBmYmICOp0OyWRSBDCu6p/dyNEKvFaHjtYlytYq7KvS0NHr3E3U1zuAORwOXHzxxQDAbwAfO3YMR48exfHjxzv+Le6FF17AP//zP+Mb3/gG/uEf/gF/+7d/i3vvvXfen+fWW2+F3W7vKClym+LdSPTpdBpqtborz+pmx6NcLj+7AMsmUfHoUdYdQoULm1wALj6MYzPgku9G1SJFRT+EqmFEBK/6xE7U1QdQ1w2hPrGLh1dDtgOpka0ze1/qL1GX70ZDuo1tCGkBV2NwPeqTB1GX7xHBq7F/Deqq/WgcWCuCV2P/h6iN7xbBq771ddTHd6C2ZzXq0wAra0cRCoXgcrkEgEkmkxgeHkYmkxEBTK1WI5fL8YfMuetms1kAPM6hI5VK8fPFZldhX4WGjl7nbqK+3gEsGo3isssuW9R7zrcCa9VDDz0ElUrVUXIsl8tdc5LI5XJQKBRdeZbP5+sY4osBsLPh6F9Ox1GiLTPQ0h1CRj+GklONkkMpBBcX5nFU5btQtUhQMY4Irguqsomd7HvNEgG4eICNbUdDsg31yYNoSLfxUVftm9n3ku1AQ7kXU+Ob0RjfgsaXa2bgdWgd6sp+tqFkbKsQXoMb0Di8mW3db4XXtjdQGd2Cqf0foLh/LQ+wwsDnfPPFbFCNjIy0bZeXy+Wo1WoIBAICMOn1emSzWcF7dTodnE4nbDab6D5TU1OoVCoX/FJir3M3UV/vAHb06FF89tln/JkUAGg2WafshepMAPbMM89gcHCw40TZLYAVCgVMTEx05VndPB6gUCgWDWDlchnlRAhFtxZFswRF0zhKhmGU7UrkLBMomQ6zYZGK4FXWDqDsUAnBNR0VU0tlph9GxXyYfc00JoJXbWIXotJ+FlAt8GpIt6Eu28lXXY3xLZga38xHdfgzTO3/AOXRzage3sp3RGaHNvHwyh74BNVD6zF1aC1qA2tRm4ZXZdubyB/8hAdg7sv1qG96FbXNf0F83zr+qMNswHD7uNxy3+yW+NbBl9ze2OwzYKVSCaOjoyLnjlYY1uv1Bf8snw/qde4m6uttG/3WrVvxwx/+ENdccw2++OILlMtlvPjiiz35LCtWrMDOnTvPOYBxnV/deFYgEIDVau0awLix9wsGV6mIYiyAol3FgsssQcEiQ8FjRMmlnQFXS3CgKusOoexUoWSdQMl4GBXdITHAdIemGz0kwuvaARZU01HQDKCoPYSy+kvUpNtFAMtK9yAzvkMALi5yI5uQH9+JxjS4uKiM70Bjz7uoynajcWgtploiv/Nd1Pd9iMY0/Pi9s6HPUdv+Juv88cVqaGXjbc91yeVy2O12UXXW6raRyWSgUCgwNTUlGorZumfWziORu9eF7tDR69xN1NdbgH39619HJBKBz+fDD37wAwDAZZddhkaj0fXPsnr1aqxbt+6cA1g3n8V37HXhWUqlcsEAK+WzKIQ8yDq1yHuMLLhsCuS9ZuRcWuQcahQpfVuAFcxS5KxyFMwSwfWcblgAqczkIKK6w8hqBtouOxYn9qKo6EdOO4Tq5AE+Kqr9PLhq3JKjZj/qukERvOqqL1AzjgrAxZ9Jk+1CXbZTAC4uYvs/bd/8MbwB9aHPeKcQw8DuthWYVCrl2+pbwTTbLspkMiEYDEImk4mqNa47cXR0dE6Hjgt9enOvczdRX28BdtNNN4GmaQDsOSyGYfCjH/0I6XS665/l888/x9tvv91xEu2Wk0Q3ATbnod+zBLBsNnvK9wgcReJxxBgvkm4jMg4NstMRtWkQs6qRtauRc8xExCATACpjGEfUrETMNNEWbHkzu7xYNB1GwaHmK7qyXSFedjSOoOJQotICLi5qxlEWXoYRVPWDqGn2s2EcmQHX+GbUjKOoqfexB6Znw0tzADX1fjQObxHBq6Y5gOTQZnHzx9gmNCTb2KpsGmChkV1QKBRt4dJsNvkD+XMBjPveazeSpdlswuFwwOVyfWUdOnqdu4n6eguwlStX4mc/+xk+/PBDXHLJJXjiiSfw0ksvoVgsdv2z9Pf3Y/ny5R0n4LPVhNBLgEWjURgMhjO+T7lcRrFYRDabRTKZRCwWQygUEpyvGxsbg16vF5yva3ewWyGXw2nUIuI0IWabRNahQdqhQcxpRNxtRtJlQNapEcAr51Aj55pEyXQYWasCCdvM63l3+8qs6JpE0TnJg4sHmEM1Ay79IEpODUpmCcoOpQhe1ckD7HKj+fAMuKajahiaqboMw6irvmD/W/kF6+wx+jnqYxtnWvflu1FX7uPB1Rj6BLXJg2hItiA/tkVYecl2ojG2CVMjG1CX7uIBlh7eCrlcLmqZb3XPUCgUyGQybYdWNptN0DTddiRLs8ma/CYSidM6dFyo05t7nbuJ+noLsGeffRZ33303Hn30UaxYsQKffvppz9bMJRIJlixZ0nGSVqvVSKfTFxTAYrEYdDqdyDn+VCNLlEplW+d4mUwGpVKJyclJ6PV6mM1mwfk6iUQCn88nOF/XWtEWcxlkQz4kKQuSlBlJyoyM34mM34EUZUbKbeQj5zUL4JV1aJD12UXX2dAIlxRdWuQ8JmRdOhG8imYJinYFyvpBlJ1qlCzSma+1yQXgKusGEdcdRsk6IYJXTbMflckDqJnGUFPv4+HFh7Ifdfke1g2Eg5d8N2qaARZekq2oq/rRkGxBQ7IF9fHN7KiX/R+wnowjn2FqZAMLsIk9rNGwdCeqQxsQCYcxMTEhOJzcbq+rWq2KhlZyABoYGGi7TGgwGJDJZDpy6OCmrV9I6nXuJuo7N7wQT548iWq1inK5DLfbDY1Gg+Hh4Y47EiORCK6++mp873vfw0UXXYT3339/3p/BaDTiwQcf7DjZa7VaJBKJcwZgc9lZ+Xw+gZ3VbAPfVuiMjY1hcHBQ5Bx/qpEl2Wx2Qc7x7X4BKJdKyKYSSAR9PLQSlBlJhkKC8SDppwTg4gHms7HgcuuR8TuR9FqRpMzI0ZY2AFOj6FCjQBmRo4z8UmTWoUHRKhfAq2CdQN5jZhs9ZldtxsOoaAfYLkYnu+TIvVbVHRLCyyJF2SZHzTgigldV9QWqFqnAIWQGYAdQV+1nG0am4TUDse1se/40uLhoSLazzh/T59GKUYYfkzO7OuLCaDSCpuk5h1aOjY21XSZs7U7sxKHjQpve3OvcTdTXW4Bt2bIF9957Lx599FE8/fTTuOmmm3DXXXfhueeew4MPPgibzdbRfRKJBEwmEwCgUqng29/+Nlwu17w+i8/nw2233dZxAjYajYhEIosCqGKxyE8I5pbbuAnBLpcLQ0NDMJlMvCO4UqmETCbjR8afys7K4XAI7KwikcicPorddP1oBVgxn0MqGkLE50aEdiFCu5Dyu5AMeBHzuRD1OhD1OhCjnSJ4Jd1GpBgKab+Thx4XWZ9dWJm5dcj4ncj67AJw8QBzaacbQuTIe83IOrXIOjQoOdTiJUfTYbbTsQ3cqhYJCy79EMpONcqmMZRNY6haZUJ46YdQsU2gYpGJ4FVVsmCrS7eJ4FWU7GBNiGfBqz76GWq6ITRGPucPVFc9Rv6XoHq9jnq9jomJCdFe11xDK7lqSqfTieynWrsTZzt06PV6EQgvNLPfXuduor7eAmzHjh34yU9+guXLl6O/vx+vvfYabrvtNqxduxYOh2PBZ8J++ctfYmxsbF5fk8lkcO2113acgLnfauc7L+tUgxo1Gg30er1gQrDX68XY2BgYhkEsFuOX24rF4qLMy2qNbrp+aDQadv5XNMxDK0y7EA36EQ4GEA/QPLhaI+21svDyWpEMeBH1U4jQLhG8kpQZaZoFWMKpEwAu63O0BVjOa0bea0HWOSkEW0tHY9F0GAW3AVm3Yc5Ox7JdiYpThbJ5nIdX2TSGik3Ogkvdj4pdgYpxBBXDMHverBVe+iFUTKOoag+irvlSAK/y5EGU1PtQ0wsBVj+8GTUda0hck++ZcQQxjqHZbPJVeKXCNtC0289qtwfGVVOtgy+512Z3J3IOHclkUuTQwUHuQjL77XXuJurrLcBeffVVbNiwQXBt5cqVWLVq1YLvGQwG8X/+z/9BuVzu6P00TUOn02FwcBA//OEP8frrr0MikQhMfNu5xw8NDWF0dLSjeVlnOqjxTFrO5xOZTKZjN5KFRqFQQCIeh4+mwfj9CAcYRP1eRENBBBk/An4fAn4fYiG/CF4RrxPJII14wMtDj6/YaIcAXgkPC7hYyx4aFymPTQCojNeKlJ+9Rzuw5SkDCy7KgBxlEFwX7KcZ2fcUPEYBuPiwSFE1jaFilbHgaomaej+qij2oWmWoaGda92vGETQkW1CTbEXVfBhVdT9q6n5UJ79s2ffahZrmy5lD1+oDmBpcj/LgBjSMI4IKiauyZ8OFG1pZKpUE11v9Dt1ut2AQZjvgcQ4drR6Ms5cSL5SzYb3O3UR9vQXYqlWr8OCDD/IefKOjo7jtttvw2WefAcC818yr1SquuOIK9Pf3d/w1Tz/9NB577DEsXboUF110EV566SXI5fK2Jr6ty21ut7tro0e61TBytmyryuUy0pk8otEoGL8fjN8Pn8+HQCAEJhDhodUa4cAMwGLMDOCioYAIXhHahRRDsftlfjcSAZq/HqOsbauzjNuAjM+BJO1AgrLwMRteGcckW7G5DWK4tRyWzjnUSNhmGkVmw6tkZQ9Yl83jInhVDMMs1Dinj9YwjaGm3IuqcQS1aXhx0ZBuZ1vuFXuEllfqL9GQ7kBxnF1+nKqwUIpEIlCr1aLlPe41rVYrei2VSvGt9hwEOcjNVbGNjIyIPBi5sNlsSCQSF8RSYq9zN1FfbwGWyWTw9NNP48c//jH++Mc/4rbbbsOKFSs6rp5adfToUfz85z/Hu+++u+DPM5+hlt00vp2cnEQymTzrz8nn85DL5Yt2v2KxhFgiA28gBsofRSgcQSAYQjAcBUUH4fWH4fWHEQ4FRQAL+llYhQKMCGyz4RX1exAPMYj6PWK4UXZhZUY72SYRhhKAiwcYZWLB5dIh43ch6bWx1936ttVZwa1HnjKKGkVKdgULLvNhFD0G5B1q5O1KlJ0qAbjKxlEU3XqUnJq2B6bLdrZdfza8Kup9qJol/JiX1qjoh1jX/Ollx6k4w1dAMpmsbQUWCARAURTUarWg7T4Wiwn8DiORCA+5dgDjmjvmcugwGAxIpVIXxNmwXuduor5zowsxHA5j8+bN0Ol0/LX5/IZ28uRJ3HffffjDH/5wRp9jPkMtu+kbqNfrEYvFzvpzisXiorjsp7MFBKNJUP4oH75QEkw4wUOrNcLhMAJ+Hxi/D6FQGIFQdBpsIXF15qMR9VEI+9yIhgIIB4Ng/H4EGTHYIrQLYY+DPS8W8CLG0AjTboRpN5IBb1uAZfwupP0uJCirEGy0ddayow0pnxM52tq+09GlRdGtQ96lRd6u5KPk1vLwKjnUKDjUKFgnUHSoheAyDKHg0KBolqCiPSiAV0G1H1nDYaQ1gyJ4xRUHUNEcQK2l7b5BzYw88fl8GBkZEc388vl8oGkauVxO0HYfDodFfodqtRqJRAIymawtpFwu15wOHZOTk8jn8xdEQ0evczdRX+8BFggE8Oc//xmPPvoo7rnnHmzcuBHxeHxe91Aqlejr68Mll1yCyy67DJdddhkGBwfn/Vl+9KMfdXw4uZuuFUajEeFw+Kw/h9uoX9DXlsuIpwqggmnYfSl4AzF4g3H4Qim4/Ak4fQm4/fG2AAuEYgiGo6CZ2WATLi9ygIuEw/xSZGtwDR18Q0jAD7/Xg5DXxYOLizjj4eEUpyxIMB7EAjQSAbp9ZeZzIOPQIEPbkfI5BddnwyvjtSDttQrAxUXKqkDeMIakWY6CdYKPnFmK8iQLr/jkMDLGmXb+9OQgD6+05hAKerb5ozhrDEzFIuHPpaXlLMDqkq1ouGaqoXA4DKlUKprITFEU32pvsVjAMGzV1s7RPp/P841Hcy0TcsdhZr/GLVFfCA0dvc7dRH29BVg2m8X999+PJ554Ahs2bMB3v/tdfPDBB3j++ecBoOubvddeey2CwWBHCbubk5ItFkvHn+tMYiFjYvLFEkLxHJz+FOy+FOx0ClQwC18oDacvIQp/kK2uXN4AaCYKD5OA2x9rD7ZgBIzfh+D0siPNROD1hxEKR9oCLBb0I8I1hAQC/PWg1y0CWNjr4pcTIz4Pfz3ic4vgFaMsCLptiLrFYAvZdTy4QiYVgjY9kpQZEYdeBK+MXYmY04i8VQgvLso2OesIMtsNxK5ARbOfta9q3TfTD6Gm2MM6gBhHBQer04r9qIxvRd00hrq6H1ONOr9U6HA4BAePm80mnE4nwuEwms0mqtUqJBIJarUavF4v/H6/CEQmk2lOiymTyYRUKiVy6OCWHbmW+mbz/PZJ7HXuJurrLcAoisJVV10FAGAYBrfddhsA4NJLLwXQfYDdfvvtHbuxp1IpaDSargDMZrOBYZiuPGt8fLyj96VzZXhCRTiYHOy+FJxMGlQwC6svCzOdhSeYaQswJpwCHUzAScfg8sX58AeFEPMFY/AF4/AHIiKwMUEhwAJMAMFQFIFg+8rM67LzgAp4XfC42S5RuuV6a0RcJiQoC8IuCxi3HSGvCyGPi63UZofbjIzXinibbse8U4O8XYmcXYksbUPKY0HKbUTBpROAK2+dQM5rQYEytncDcWlQsUjbN3/Y5Kxr/ixLq6J+BDn5zJmzqUwMzSZrDcUd82jtKLRarYjH44IlRe4ox+xqjWvuOHToECoVsUu9Tqfjm55mg7J13+x83wfrde4m6ustwJLJJO9CH4vFcNFFF6G/vx+33HILgPntgy2GHn744Y6bGLLZLH+Q82yH0+kETdM9B1i5XEY8XYIzUIDBw4bNX4A7mIOZzgrC7mcB5qAToALTcKMz8ATTAnC1Aoz2h+H1R+H2zcCNogMigHl8QXgoD+wONxxuGpQvDI8/Ahclhhfj98PrdiJAe8AwfvgZho9oKCCCV4h2IxH0IRagRa8l/W7RsmOUodlD1206HfNeM3K0debs2nTkveYZeLl1yHotyLh0yHlMQicQi5Q9UG3XoGwcbd/84VCJ4FWyTqBkHkdB0c8DrBGwC5YKG40GJBIJyuWyoGpqbXmXyWQwGo2iA8zNJjvZWaVStT3vpVar+fu2OnQQgBEtunr5DdBoNHDDDTcgm82iXq/jqquuwkMPPQS5XI4TJ050/Rv8ueeew8DAQEeJfrEaHjqJbrbst1tCLJcrCCUqcAeLPLgcTBFmuggdVYLDnxEBzORJwUpFYPYkYKEzfJiouKD6slEhmBwMzA5/W7B5fKEZePnCoAMxeAIJ+INxePyRWRFGgGFmKrNgCB6agccXEICLi3AoOAMohkYkHAITCLQFG9f4EfdYkQjQiPq9Ldc9YoAxFFIBb1vrq6zXgrxDjRxtY7sduXDrZ+Dl0gpa98sty4d5sxQFpwYF6wRKDvWMH+PkAdazcbp1P60emDEN9hpES4WhUAhGo1FQNbWCKJFIYHR0VGQGzHUj2u123gy49bWJiQm+6mp16JhtY3W+W0v1OncT9fW+iaPVI83v95/RvYaHh/Gd73wH//qv/4o33nhj3l//6quvYvv27R0l+oXsFy00OEupxbxnqVRqa1/FneGx2WwwmszQmH1QOfJQuapQWCLQWCPQunLQUSU+9I4IzHQWRk8GRnccRioNvacAG50UwIsLbyAJqzsIpy8JG52GjWYbP9oBjA4k4A8l4Q0mhUuRoYQIYJQvglAoimA4BjoQFbwWCAZFAGOYACKhIIKhkOB6MNAGYH4a0XAIYR/VtiEkSZkRp8xITldlYdqNGCP2bkxSJiQDHmTceiG8pqPgZB1BRDZXbh3KhhEkTHLkBXtnclQmD6JsGEbZoRKcPUtpR1BV9SNrYAd5Tk01YLPZ+KVCzo0+m83ybhuzQTUyMtJ2phjXdt86+HL2PlcrCDUajcgwmACM6IzV628ChmFgNBoxOjqKffv2Yd26dVi+fDmWLFmCO++8E81ms6P7HD9+HN/61rfAMAyOHDmCSy+9dN5+iO+//z7Wrl17RtXK2QifzweHw8GDs1Ao8KNKWk17ueWaVtNelUolMu1tZ19lNpths9kwNDQEykPD5klA4y5D5apikirD4C1D7a4IwMWFzV+EM1CAiS5C75kJZyDPQ8tKZ+AK5GH3F0AFszy4WsMbSLLLhkwCdDADN5OBnU613UvzBhM8tHzT3Y4UkwQTTrapzCIIhSPwMwx8fgaBcBRMKA7KHxXBy88w8Pv9iPgohGg3IsEAgsEwfP4AfD6mbWUWpikEKbu4WcTrQooyTXs2mljrKx/bKZnxmgXgSrt0SDPuOX0a8x4TCq7J9s0fTjXKFqno8HRaP4aKTYaKfhAV/SAa+bRoqTCdTkOpVEIul6NarYpApVQqIZFIRAMtaZrmwWYymQSTn+dy6PD7/YLOxPPdkaPXuZuor/cAu/jii/H1r38dl156KX784x/jhhtuwH333Ydnn30Wy5Yt63g6s0ajwc9//nP+zytXrsTKlSvn9Vk2bdqEN99886wBjBvQ2M47ca5RJTKZDKOjoxgaGhKY9nKjSjjTXm5USatpbyKR4E17O7GvKpYqGNdQmHA2YKSrMHgrMNBVyJ1VyJ01yJ01mGkWWlp3CVZfCSa6ApWrDKNXCC+9pwiztwBXIAcHU4DRM7Nv5grkRfByMhl4Q1m4mIwYbMFZEKMToAIp+EJJuP1CsHkC7SqzMAKRBJhQHJ6Ws2ns4eqoCGCBYBjhcBR+JsiCqyWiAV9LVebhlx0DHnGrfph2I+VzIhnwCFr8I7SLHQ3DwYu2I+F3I+a1I+1zipxAMn4nkpQFhVndi3mbHDmfDUVKL4JX3q5ExqpExTzGA6we8UCv1yObzQrgYjAYMDY21nbqskKhgNVqBU3TgututxvBYBDN5szgy1qtNifASqUSDh8+LHD6IAAjOmP1+ptgsbR37148/PDD/J+3bNmCJ598cl732L9/P1588cWOl9xGRkb45b1W78RTDWicyztxrlElxWIRwWAQZrP5rFV4pXIFdKwGubOBcfsU1O46jL4aD63WsPrKsPrL0FIVqFxVPmzMDLgs/iJs/hK0VBkW3wy4uDB587B42ZZ7dzAPqz8PozcPJ5NrW5nRoTRc/iQ8wQzcAbYZxEJnxGDzJeD0xeFlovBMH552eCNsIwkjPFjNRSDEAowJBBEIx0FPu4YEwjERvHx+dn8sEvAjHJ5VuXlmNYP4KERCQcROYX2V9lqQZCjEvHY+4i1+jBmvFSl6xkmk4J7pXsy7dMh62Cou3+K9WDSNoUDpkbMpkLcpUHGqeYAVvUbBCJRWuBw8eLAtwLhzgdwva9x1u90uaO6gaRp2ux2NRmPOA84mk0nw2vncQg8QgJ0T6vU3wWJpz549IoA99dRTp/26UqnEL1n+13/9Fy699FJceeWVOHz48Gkd44eHh+F0OuH1esEwDEKhkMAxvtU78UxisSYliyvCCvyxGhTuaXBRdYwZcxizNqFy1QXg0nqq0Htr0HurAnDxAPOXYGNKMHjL0LhnwsHMNH7oqQKs/gLsTAkGVxxGb14QJm8O9llVmTuYhzuQa7+XNuusmZtJwhvKwBdKw+FLioKztOLCy8TgCybhC8ZFYPMFo7PgFUQgHEMgHGvbEEJ7PaKqjG0UaQMwvwfRUFAArtbIesxIt+lszNMWZC0TyHjMs/bO2AqsZGO7GvPT8MrbFChTOpQNw8g7NMiZZVAqFQIQcTE8PCw6sNxaTQUCAUHHodlsFjR3cF2LqVSqrds91zQyPDzMA5QAjOiM1etvgsXSQpcQG40GBgYGoFAosGvXLtxzzz1gGKYj+Mjl8q64xMfjceh0ukW9ZzhVg8x5BAOmY9BQdajcDYxZmy3RgNJVhd5bxSRVh9TegNTewISjBrWLq74qMPqq0Hlr0FBVAbi4sPjYPTIbU4LeW8IkxUY7gBk9eVDBHFzBPCy+1tdysPrEAHP4M6CCaXiCGTiYmeueUKYtwPyhBLwBdr/ME0jx1+k2AKP8Efj9QQRCM/tllD8KDxNpCzCP1wu/39d+P60FXJFQkO+SpfNmHQAAIABJREFUjPtcAnBFaQdiQQYphmo/HsbvRMw+2b75w2Nk/RZb4JW3KVBw6VFyTaJokaFokWFyYlxwLosL7he12XDjADY1NQW5XM4vP7Zbikwmk1AoFG29FpvNJvx+P8xmM78PRgBGdMbq9TfBYunYsWP4l3/5FwQCAb6Jw+l0zuseDMPglltu6RgC3XKJX8xD06lcFWqqiQHTMYzZjkDqOAI1NQtelimoqQb03hlwtYaJZsGldNUw4azzoZ+uvtSuMox0GWZ/BVqqwkOrNbSuFIzePMx0HvZAEVZ/CVpPCY5AQQw2bx6uQBYWOgO7Pwt3IA9nIA8znYNtDrBxcLLTCdjpOKhgFt65wBaeWV50+6KggwnQoTT8oUTbZUeu8YNrCOEquHZg8zMMokFGAC4eYEEfCy6vHfGgHyHGh6DPi0SAFhoQe61IBFmH/ZRTKwBXyqVH1GNHwqkXwSvl0iNDmVG0q3iAWSZGREuFXHt7IBCAxWJpCzCu4UOlUmFqagoajQbFYlEEKZVKNWcF5vF4wDAM79BxvqvXuZuo78IBGAAMDg7i29/+Nr71rW/htddem/fX53I5XHPNNR3DQKvVIh6Pn3WALcacrnyxAluggUOmoxixHMWE8wgOGI7hgOE4FC4WXIetUxjVZ3DY2sSQ+Sg0VAu4bHVoPWylpvfWBeDiwuKvwOKvYJJi4caF2TcDLo27BBNdgsaRgsGTE4HN7CuK4GVnCnC17JW1hjsoXl60+TLwhLJwB7Mwe9P82TSbrz3APEwKdDAJOpSescTypdjOxnb7ZuEYAuE4PIzwup8JiJpBmFAcoXC07QHroM+LEO1GgPYg6PPywVDs8mHcbQJtMyJIOfgqLmhW8/AKOwyIuK2Ie2yIOo08uDJWOaIOA9IuNkpeE4oWGQoWGdzqcUHHYLPZ5Kc0c1UWdx5s9rktruEjEolAoVC07VoMBoMYGhpqu5/mcDgQiUR4hw7SRk90xur1N8G5pKNHj+LKK6/sGApGoxGRSOSsA+xMx5xQ4Qa+1B/DQcMxyJ1HMGBkwcXFiOUI1NQUxqxHMGQ+yse4rQmFkwWX1D7FV2hK1wy0VO4aDHQNKncdem9NAC4uLP4yzL4SLNMVGbdvZmwDMI27CJufPSht8Zegnb5upMVgYyszFmBOJgdXoADrdNOIq407iJnOgppeOnT6kqCCGbiDbBXHQas1KCbVsnQYAx1MwuVPwu1vt+QYhZPygfb74XR74aAY/rrD5RWAy+fzwU154fL4BOBqjZjP3XY8jN+qRZoyIsVQiHtsgsjblMi59Ig7Z+CVdhlQoK0o2BTI0xak7WpIZ9k7lctlqFQqfhmQG4VSrVZFhr2c4bNEIhE52jebrFmwUqkU2FS12zfL5XJkCZHozNXrb4JzTfOZCWaxWBAIBM46wBbq+pHIVnHYehS7NScwYjmKfu1xjFmP8uAaMByD1HEEBwzHIXM0BfCSOpqQu5pQOKdm7Y01MW6dgoHm9saE+2MqF1t9qVxVGOga9N4atN5a28YPrgIzeEvTkKtgkqrA6hcvOU5SJVin98UMnjxs/sL00qOwRZ8LdomxxRnEy1ZgTn8KNl8KZlroHmL1REUAM1NRmOw0zK4gbHSSv26jE3D7IgJ42akAHN6wqE2f209j/H62yzQUha/lkHU44BeAKxRgEAxFEAsy4tEwtAtuqwlxr10Er5jHhqzfKQAXF1mfA7kWVw+/yy4ATD6fh1ar5f+s1WoRi8VQKpXazvVyu90YHh5uu0zIMAzcbrdg8CUXrftm57sTPUAAdk6o198E55rmMxPM4XDA5/OddYDN1/WjVKrAyjSwZ/I4DhqO4ZDxGHaoTmKH6iSkdnbpUOo4goPG4+jXnUC/7gQUriYGTUcwrC9g3DaFAdOx6QaPGYApXA2oqSmMWpvQtdkfkzvqME83dUw46pA5GtNRw6Sg7b4ClSMLrSsPvaciApvZXxZVZQZPERY6O121FQWvG9xpEcB0rjT07jg01iA0tgh07izb5u+Kt63MnL4E7L4UHP4UXIEM7P4cTN4cPMH21Zlven/MF0qBCqRnrrdtCIkhGI6z7vuzzqhFQiEWXgwLN9ofAu0PIRIMCYd2BnwIBYPw07QYYD4K0YCPbc1vAVfSqUcm6EHcY0OOMs64ekR8goaNTCYDg8HAg4b7hSmbzUKn04kgVa/XcfDgQd7vsN0+VzQaFX1tq9sHARjRoqjX3wTnmuYDMLfbDYqizjrAKpXOD02HEjXs1RzHgP4oRi1HsVN1gofXduUJjFuP4JDpGA+uft0J9GuPQ+Zs4rD9CA8uLmSOJjRUAzLHFIYtR/hQu7mqi11iVLsbOGydgs7bCq6Z0FMFaN0FqF1FTDhnmj/U0zZVraGw56G0JaGwxKCwJqF0lqByVaG2p9tWZhZvhj1fNl2ZWf1FGLwlWP3iw9UGb0EEL0cgD1cwD5uPhVZrUMGsEF7T42LocLYt2FobQuhgHHQoBed0B2Q7h5BAMIpQC7i48PuD/LTpSCgkWIJMMCyUYlzzh8+DkM+DOOPh4RVz6MHYjTPLi372fFnKpkY+TPNnC5tN1uppdvOG3W7nzza2q7RGR0cF0OOi1Wtx9nRnuVzOH3YmACNaFPX6m+Bc01VXXYVsNtsRLGiahtPpPCcAVixVoHI18bnkJPonj2O36jh2tMBrwHAMX+qOYZviBL40HOfBNW47goPGY9gzeQwj1qM8uMZsRyBzTOGQ8QjGrEJ4DZunMG4uQGrOY8wyq4PRVITM0YDEXoPElIHEnIbEWsaENde28UNPFaB0VqClSjB6y9B7K1C6WBeQ2WDTuMv8npjGXYJxeumRPX8mBpuDEQNMRxXhCuThDBRg87OVHftaARZaDDCrjwUVFcjCFcjBPP0ehz83x75ZcroqSwkbRQJCiys6GAcdTMHtj4vgRftD+P/Ze88Yx+7r/ttA3gdIAAMGUvQiBozAsRUbiBEg/sPP8zgxDMdR/DyO4hI3ObZqVCytV5asrpWy0qrvaldd2r6r1Wydzt77JW/nZZ/C3vslOTPf58Xv8pIccq1RtKvZCHOAH8whOZyRcfd+5pzzPd8TjiyRebIJ4o9kPIJULISlaEiFVyIcRCJEvBezUQErYmAkS8tFeOSDPqywHmQEL5qNuirYWFlZAcMwIyBqNBpYWFgYA5ssy+qwssViQTabHXlteC1LsViEwWBQe2XDHon/253ogR2AXROx3RfB1Ypdu3bhC1/4Ar70pS/he9/7Hsrl8pa+71vf+taWd29Fo9Et7w+7mgBbzjTwgX0NRwwbOOfs4U0t8KYWOO/q4oy9i/PONo6aN9Rz0VnDJWcVU4423nesq+eio4CL9gIuOsojIo9FXwmzPhkaqgotVcGsT8aMrwsTWx+Bl44ekt+zZDi6f/QsGYw2ck0Y2AZMTAl2vgxPqAELXx9z/KDCm3tmNXhCNTDRKnzhGhzCAHA2vgpXcBxgVLgMl1CCN1gAHa3AH67CKVbBRCtjYOt7Nw7AVQAXLYGOVNRy4ujJq4pFOpSBj19SXfm5yLjSkQ2nIEVXlFm0TcbE8eEMbAnRpRTEyOrExZ2iICKRWBkFl3KWomEklexsc38snYgiI/hUU+FaPo10Og273Y54PD5RdOHz+UbMd/unVqvBarUin8/DZDKNiDm8Xu+IOz3DMKoN1adplQqwA7BrIrb7IrhasbCwoP4j2b17N3bv3r2l77vxxhvh8/m2BJWlpaUtv3crp1qtolwuq0a9fcuqSCSiun6MGvXa8P5CBEc0ZRzRVvC2tqPC603NOs4Y8zhm7qngOmJax1l7E9Puxgi4zjjWsBjoKP2xtZEzS3VhE9rQ0gRaw8cmtKBn27CLLZj5Nub8Mub8HTilUXhpmTYsfAvecB3OIOmPDXpnDViFcYC5gnV4wzX4wnW4gnWYFT/GcbCR41eEH65gBVSEKB69oRrsfHFsuNorjQPMEySGxGy0DF9o1KyYj5XGAOYNFhBMFBSXkNHXpPioEwgfUcqOl9lSHUskEY4q4IquQoiQE42vDsErilhilew+Cy9hKTLIvuJh4v4RiUaxEguPwivEISSwSISDSEuMCrDCEjHidTgcCAQCkCRpDFThcBjz8/Nj1lPDog+KokZk+ZutqhqNhvrH16dplQqwA7BrIrb7Ivgk4uzZs/jxj3+8pff++te/3rLib3V1VXXI2Ayfvkt8JBJBMBic6BJvNBqh0+mg1WrVM8klnmEYzM3NqZZVS0tLiMTTOGmUsf/SOs47hsClBd63ruGYcR0nzWsqvC64ezjrXMMRE3DSSqD1gXMNGrqDc64eTtvJcxc9HZx396BlOtAqr513dzFHdVRwLQY6MPMyDKysQmv4mPg2jGwLjiA5BpYIQYgcf3ww2hOqwxkkqkWX1ICZI++zi+NgswtD4OJqcEsEcoFoDa4JghAHm72MQ0gZgUgZgSgZurYJVbjE6mS3/TABGCUVwEaLYKJleIIVsNFxsPX7ZmyIyPT52KDXNmlLtRAl82d9aI2eFUQjUcSXViFFN4s/4kiEg4pb/mBVTCwaIXNhYgDpRBRLEWnQIwsLpMQY4ZGKSWi32yiVSpifn0ckEpkoyAgEAmPOGtlsVt0j1q8O9GX5/SWvm2fDvF7viA/iDsB24orEdl8En0R897vfxdGjRy/7+sbGBprNJlKpFH75y1/i2WefxfT09IfCR6PRYHp6WrXh6fcFNsNn2CV+aWkJyWTyI7nE9/96LZfLqNVqEBNNHJpdw3vaHl6bW8PB2TW8qd3Ae/oNTNl7eG0B6rno6eKih4Crf05YiBpxyrmG0/Z19Uw51zDrKuCSR8ZZ19rIMfMyzLwMHdPBRW8XF709XPT2YOJJf2yWkmHk2rCKbRhYWYXW8CHAasLINmGkS7CwFdjEFhyXAZs3NACYka3DIRI/RipCMjnTkBhEVTdu7puxWdh44tFIhWugIjW4gnX4IzXYhPHjDw/A5VSGrgPRCpjIONi8UnksK2MiRXDREgLhcaUjHR5sqQ7GshAUdxF/KDuSefVPKJFVHPTHxR/xxDISmw2FlZOKSQjxzHiZUeIRF2isSCxWJBb1KlEEGo3GiZuVeZ5HIpGAw+FAKpVSn08mkwgEAurXkiSBZVnIsgyDwTDR6cNoNI4A7H+7Ez2wA7BrIrb7Ivg48c1vfhNf/OIXx8758+fV9+zZswff+973/uDQ5NzcHP7hH/4B3/nOd/DlL38Z//RP/4QHH3zwQ1eU5HI59S/Oq31Iw70II93GSxfWccLYxQsX1vH8+Q08f34D5x1dvKtbV8H1lobA7JKnp4LruHkD094ejpk3MEd1VXBddPewEOjiffs6LjprQ+DqQUN3oKG7iuy+N3KmfV3YxTYswvgQtH3InkrPtGETWrCJLTiDLWjoNjS0rB6tombsg0tHN2Hlm/CEGvBIDdjFJgxDr3tCjYmCkL7wwymS8qE3XIeZycPK18aGq72hyQCjo1UEokQc4gxWB89PAJhLrICJFMFEi7AHVuCVyoPno+MAC4TzkBJ5MJFx+yuyGmYVYiSJUCILVumvhTftN+NDcYQTGQjR1Bi4wpEoovFlrCwlxuAVkURIoRCWgqwKsGImqZYBFxYWxjwSaZrG6urqmBhjaWkJHMeNiDr6f2BNWqXS/57Z2Vn1M3YAthNXJLb7Iria8d577+Hv//7v0Ww2t/w9r7zyCl599dUtQeV/OmD8PzkGkwPvzLVwVN/Fe9qeCq79l9ZxVN/DGesg8zpj6+Ed7ToOzZNy4lHTBqY9PRw3b+BdA/CuAThlXceMr4s5qoeTtnWctG3gpG0Dp209THva0DOjc2LnPT1c8hE4GTlZeb2nAGsUXouBDuwiAZZ+k/zeLrZG4LUYaMPEt+EJNeCUiFWVjukDrqWWE4ePTVCgxTbgEBuKS34DvnBjzJ/RyDXhFCtjALMKZGjaK5GszBOqwyrU4ZIuA7bIoLzoDVYQiBDIMdHJYOOHBqm5GCk7uoPlidZXfWd9KZEFu0nVKET7ACNuIGxodah3NpSBxeKQIkuD7GyoP7ayPDAgjgU5FWCZlYQq1vD7/eB5fkzE0V9+GQgE1DJjNBodc65fXV2F0+m8LMAymQy02oGN1Q7AduKKxHZfBFcr5ubm8Nd//dfI5XIf6fuOHDmCp59+esuii09iK3N0pY5nT9Vx4Hwbx3QdFV6HdT28OrOG585t4K2FHo4a1nDKsoZD81DPGWsPHzjWVHC9awDOOtcw5VzDJW9PBddJ2zrmqC7O2puY9TZH5sQueNagZTowc7Lqnzh8TJwMIyfDLMjQMh1c8nVxydeBlhnvjxk4ko0ZAmUY6Bo0tIyFADEUHgZb//QNhc1cEw6xCZfUhDPYglNswMCMws0qTPZodIllWPk6XFId3jCxvrKLTWVZ5+adZzU4g6Pwsgs1+EJkD1p/M3X/eEOT+2ZcrExWyWxa9MlEBluqKSkHNpJHIERUjZNk+QEpiQAXBiutjvXPaE6AIErgxMhoiTGcQEwSsJyIjW2clgQOK2EBq4kY4mEJzWYDbrcb2WwWOp1uZDjZ5XKpvoj1el1dWilJ0sSemd1ux+Li4kSAra6ugqIo9TP+t9tIATsAuyZiuy+CqxV/9Vd/hT//8z/H9ddfj+uvvx633HLLlr7vwoUL+N3vfrdluFxtgPmCDTx9souXPyji8WMdvHy+gxcvrOOYoYvnzm0oZx3H9F0cNQ7gddy0huOmNRycAy64egRcrjVMDcFsluphyrmGBX8XHzjW1JmxaXcTZ11r0NBdLAa6+MC5hjPOdWiHVIpz/i4MbAdapgMTJ48NQF/y9WAV2qQvJrRh4WVoaJKpWYQ2FgKdkbNIy9AxbWhpolh0iEQA4pSaMLDtMbBNcgIh2VkDVpGIQTyhBkyBAqxcFQZ2fMDaE5q8tNMfqcGnKCCdwcFG6sllxwo8wRLsXB4eMQ+XkIeNr8DGV+AWCxPm0Ipws0tw0Am4+FEHETq4OrCrklJgQmn4pDzE6LhyUYimEVrKTuyPcVIMDMtO7I/RLK+63sfDEoqFvOosn0gkRgaX7Xb7iB1UKBQCy7Jqb2wzpPL5PC5dujTRI7Ev1Q+FQqBpegdgO3FlYrsvgmstTCYTbr/99msCYIueFp460cXr0208drSLx4528cIHMg5rB/B6c76HN+Z62De1jvctpHR4xtrDwbkNHJwDDs4B5xxdnHWOZmGnbWuYdvdw2jYYdj5h3cCUvYULzgYuens441wfOXNK+XDe38U595p6Lin9sGkf8VA08zL0bAf6Tf6K/UPsqDrQBEjJ0Ca2YBXacARbWAxsFn+0JwLMwrdg4ZtwKlmZI9iCRWhdFmykjzYKMBPXgJWrwc6XYedLsHJlGNk6LExxIthM/lUVXBauAgudhTmQho1OwcpXx+BGSQOAeaUS6GgF3tDoks/hI8bz4GM58LFRVaMQzavgYqQViPGB+GPYnkoMLyMUS4ENrYJmgyPgisbiEEMxMkQdFFWAJZeX1D7u5p1fmx3n+70un8+H1dXVMUhVq1UsLCwgHA6PvRYKhRAKhVRBhyzL2/sP/QrEdt+7d+IzOwDbHIFAAD/5yU+2FWClcg3vzdTw8rkOXj4nq/B69XwdTx7r4Ii2o2Zdz59dw76pdeybWsP7JhlvLg7AdcSwhtOWNRyaIzZS7xqADxxrOOfs4R39Bt7RA9PeHk7Z1jFH9XDevYbjlg0ct2xgMdDFGec6ZqkuNDTxT3zfsQ490xmCVw+LgQ4MbAcWQca0rzuWhelZ4rGoZQjYrEIbJq6Neao5Vl4kYpBNxsF0G64gAZQzSGBnZIltlYFpjoFNT9cmAkzjSUJHFaD1ZqD1Zshjug5DoDjB+qqhzp31j5mrwxOqgQrX4JbqMA8NX19OEBJQXEJ8ikx/WBAyDC5vsAQmWgYdLU+U5VMScdFnQkn4pexI7yySSEEML5P/jQ4GpGlxsLNsaTkJaQh0HMcjHpawnIgjHl+C0WhUlYOZTEY18B12zuiflZUVLC4uqr2x4VMoFOBwOKDT6cZWrQiCgHg8roLw0xDbfe/eic/sAGxzxONx3HDDDVuGTd91+0rBK1uo4aUzNTx1tIbXp1t47GgXTxzr4JUPynjkcBePHO7ijWkZb833FHCt4/XZnvr1Yf063tKs44yth0NDWdi0p4OzzjW8o4d6TlnWsUB1ccq2roLruGUDZ2wytIEOLirQGj6LfgIsnSLi6MNMzw7KiHP+LgwccbO3iW3M+ztjQ9AaqqyCa5aSsUg1oKUq0FEF6KgiNFQZC1SDlBi9pTGwLQZk6Hz5MUGIga7DylZg42uwC3XoqBL0TBMmrj02XK1lLuPdyDThDdXhkRpwhxqwCwPXfceE2TQzX4OVK8PGE/Vjv/RonQA1m1CDQ6ySkmGkjEB0sDLGIZYR2OTHyESKoCMVdaHnJPFHcJOzR/8EQxFEJsjwpfASBEFEOBJDOBKDw+EcgU3fjf5ygoy5uTkVRpuFGj6fD5FIZERmP6xolGUZnU5nu/+ZX5HY7nv3TnxmB2Cbo1Qq4Rvf+MaWgWM2m1EoFK4IvFbSNTx1pIbnTtaw62ANr0w18OzpDl4+K6vweu2SjD3HO3h1uofnptZwTDfIwp6bWsM5W2ckCztmXMMJpR/WB9eUYw3nnGt4R7+Bw8YNnLKt47RtHXO+LqbssgKydQVga5hRsrBpb5d87euMlBCnPS3MeapY8JYw422OSO0vuRuY8SouHt4OZjx1zLlLmHWkMO8uYIGqY44alBpNTG2sP7YQ6MCorHXR0m2YOUWSL5E+mVVowci21fIjkeqPC0KsQnMEXhqaKBqHxSEWvgUtTcqZHzabZmIHA9gG78pESyxfeAAu6xDg/JdZGcPFSqCkArhYCf4hRxAuWhwBFx8rgIkS6yt+E7j4cAqUsAyKCY3BKxxPIhhNQRBDKsAC9KgPYqlUgsFggE6nmwgwk8k0IqsfFmrQNK2WCYvF4kRF46fByBfYAdg1Edt9EXwSsW/fPnzmM59BPp//0Peura3hq1/96pahY7PZkM1mPza8Yis1PPpODS+9X8Nv9tdwz/46nj1Rw7OnO3jkcBePH5Gxf6qmguyYTlZ7X/um1vH2Qhevz/bw+lwPB+eA93TrOGVZw4FZ4MAs8OrsBi44Ozht7Y1mYeY2LtgrOGEZlA+Pm9dx2lzDlCmDM7bWWBZ2yVnAjLuCWU8VF9yyCjKNvz4Ery40NFEn2gUy3DxPDWdiHcz7WmP9MQMrw8CR2TKb2FbnzJzBFrSMPAY2M9cay8yMQz2zxUAbeob02jwKpIj1FQHVYkAmTvqbYKdj2mMqRzPfhEci82mOTbNpel96Yt/MFyKCEK9igaV6PY6tjKnAF64oPo3jqkZPsAxKyiIgpUFv2kwtxbMquMRYFv4QKTPSoYEDfji2ClqIgg8nwYeTiMZXFIDFEWDFMRjRNI35+fnLAszn841lYYlEQvVUHF6M2c/q+kDbAdhOXLHY7ovgasfy8jK+9a1v4S//8i+3BDDgoy21dLlcSCaTHwteQrSCB9+o4cX3Cbju2V/HC6dquPdADa+eb+P5MzKeOdlQ4NXBwfN1vDTVwL6pdbx4tos3Z2oqyF6YkvHefB4HZtcVeK3j7bky3pxr4Zi2rIBrDadNNRw3ykopkWRdU44OztvrOGXpkFKiY021nFoIdKGhu7iklA0veHojvbB5PxF4mDiiNrw05NZhYEdLiLO+DhZ8Tej9JViFNqwC+T4t3cEsRbKtzf0xLSNj3j8OMLvYUpSOJCsj82ckgzJwMhb8A8WjnpWxMCYSkeHYJOHvKyHdoQZZFaPMsw0EJONCEV2gpvTNiHdjH3IWrqGqGIcPKSUSR/1AZGCDZeOr8AQ3w4u4gXiF1MSt1EI0h2A8h8CEEiMjhBFJpCAo4OofKZqEGAwjqMyOlcqju72q1SouXryorj8ZPnq9Xh0hGR5+DofDqnFvX4a/srICWR61mNoB2E5csdjui+Bqx/e//30EAgFcd911WwbYR9kJ5vV6sby8fNnXq9UqSqUScrkcUqkUlpeXEYvFEAqFyGZbvYhb9iTx9Htp3LO/jrtfqeGJt5K4+5U67n6ljmcOr+DxI208criLPUdr2HeqomZhb89W8fL5ririeG+xhZfP93Dc0MGB2Q2ctvRwWL+ulhOPGtZw0d3DUdOGmoEdNREnjjlfd7QPZl/DHEUWX0651kbUiFPONRi5NgxsRxV49GFmYOURpw4tQ+BkE9oq3GZ8BGjzvhZmfJ2xLMwqEIAtBogllZknUnwCkzbMQhsGro1FBSiT/BhtYmtiKdLKt9RSpIkj5UeHkpVZhLYCuY4ymzaufhyeTRueT9N4MvCGxmfT9EwLruCoJVa/7EiFx62vrHwddITYWAXCZFjarghA3Hx6BFz+cBFstAyvVB4DFyVlISZKI9DqHzGaRmgpj3B8Vc3QVlK5EUjV63UsLi6OOG4MA0yWiVfi8PCzKIojxr59Z47++pW+UOTT4EQP7ADsmojtvgiuZly4cAF33XUXAHwkgP3t3/4tqtWqCp/NBr3hcBiiKIJlWdX/0OFwwGKxqL2D4WM0GmG1WuF0OuH1ehEIBMBxHOaNEdzyVBoP7E/hmaNF3HeghmePVxV41fDi6Rp+e7BGRBxTdTx5jIDs6RMdHLoo473Fzkj5sJ+FHdZ2cUKZATs4BxzWEWn9a/MbOO/qqX2wC+4eDhuJO8e0p4cP7Gu45G5hytZUd4ld8vZwxknmvrRMF3N+Mhc2S41K6WeoLnRMB2ZeKRf6uyO9MLLxeVjIIWPB14BNIOCwCqRUaOJk6Bl5zJpqlurCwo+DiqgXWyOCEA0tw8yTLErjK8DC1WFTANW3uNr8GVZhHHj92bRhxxC72IJLaqmZ3zDYLmdW7FUssdyhBiz8QDTim+Cs7wrWFGOc5l4oAAAgAElEQVTicVm+jS/CKxVAR0pjDiB8rKAORwekNHxSDl6pCDZaUMHFhlYQWc6pNlXR5cxgseZyZqSMWC6XYbPZVJHSJID1ZfX91xmGUTOu/uE4DsFg8FO3SgXYAdg1Edt9EXzc+EN+iF/72tdQqVQAfDjA9u/fj2984xv46le/ij/5kz/B5z//edx///0wGAywWq1wOBzweDzw+/1gWRaiKCIcDsPlcoGmaaTTaeTzeZTL5S0Z9LrZMm7/7wx+fyCLnz+aweNv5vD00RrufqWO3QdreOY4efyb/TW8M9tUs66DF9v475OkL/bilIyjui72Ta2pasR3F7vqTNgR/Rretw7UiK/Nb+CCk3ge9ufBjhjJsstzijuHOg/mXMO8v4tZivgkDmdgZ12kpGjmSdnvkrc3ArPFQGeQgdEd1aXDqsBtMTDIwoyXmRWzCm318bxSQjRyMqwCmRmz9aHHkz6Znu1DbwA+izBeilwIkFLkJAn/gl9W5thI/80mtuGUWjApApJhuJn48exMx7RgYJtkPi3YhFNqwqw4808apLbyDVh5Uj70hetwBIkNlomvwyGOqxetTAZ+qTDR+YONFsFF8wiEx0uMfDiJgBCDX1zZZFOVgRRZAcWEwIeTKJYHLvL5fB5utxtLS0uq87wsE2PeYRgtLS2pm5kpihrZwCzLMprNprpxof/cp8GJHtgB2DUR230RXK1gGAaf/exncd111+G6667DH/3RH+Ev/uIvkE6nJ76/D5719XV8+9vfRigU2lIJURRFiKL4kXpeHq6MO/Zm8Lv9BF53PpPBrpeyeOD1Gh5+q4bH3iXwevCNGp4+WsPzpxt4/IiMl86UVJAdUkD27mIXL58nasTnFDXioZkeTpk6Krje1qxjyt7D25oNHJoHppxrOOskRr/HTBs4bAQOG0Hk7p4WPrA3hyymNjDvJ/0vHUOANuUiHomLdFfth2loIq83ch1YeHlku3P/WAR5JAOb9zVgZGVY+ZbSC2vDIsiq870m0MHcJp/FYbANTgdaehyEJk4BFSVDSw/KkU6xCas4yPqMHHmdlCNHwWbmx11DFgIddejayLVhE5rQeHNKmXOyAtIRHAZYEw4FcJczJiblRbLqhSgZ67DwDfik0gi43GIZ/nAZHqkCr1QYgxcXKyO0XJxoUyUtFRGMDkqLS6t5FTLpdBoURaHdbsNsNqvDzY1GY2TJZbvdhsViQS6Xg9vtVt83fOLxOGZmZnYAthNXPrb7Ivik4qOUEH/wgx/A6/VuCUahUAgcx20ZXj6uiP96ZgCv3zyfwV37Mvj5oxm8fLqEB14n8Hr6SA0PvkEeP/leDS9NNUfKh31BxxFNG69cJODaf3ENx/RdvHB+Hc+d28AZSw8f2Hp4Y4GA681F4lB/wdlVoXXato4ZL7GUOqEIN07a1pS9X11Me3s4bV/DnL+HKdcg+9IzZBbMwE7yR+xBExjYTFmUTMnMk/Lg5rkwMz8JSqPPz1Ok32bi2jAw/RKhrILPGWzBKsiw8KTnZmBJdjjnrY59rpG7jEPIhIxtzk9UjSalD2dTVJFmfjwru5yno5Zuwy2RFTBWoQntkBu/M1gfg5ddqMMXqsIh1sdNiPkKXGIZvlBZkeIPSo1MtDToj4Xy6uZpOlIaWFSFMggmCmCiBVChPIRoeiDsiKXRarVHJPGyTPZ/Wa1WtNttVCqVEXWhLMvI5XIwm82wWq1j5cZ+P216elqF26fByBfYAdg1Edt9EXxS8VEAdsstt2zZYSMWiyEQCGzpvRRXwM9/G8TDBwm8dr2Uwe17CbweOZTDo68XcPcrRIH4mwM19fGugzUcOFvH86dLavnwhQ9kHLgg47GjHbw+08MxfRcvXyTgOjS7huPGLo4bejg0DxwxkAzsLc0GXlsA3tRuYNbXxXnXGo6YNtQdYdPeHhZ8TbxvH6xaOasoEPt9rXOu3si6FT1NYGHiydGxHcz5uzCN9bwUWHFtaAIdLFINaKiqCiGbUhrs98EMrAwL3x4rC14uC1uYkK3NUl0seAoTYaWjiaBEz5A9ZmZeJgpG9XdoQ6fA1iqMy/1JhjehbxaQYeaasAlN2MSm8h6S4Wnp8bJj39LKKZHB6b7C0cCQ5Z2j8KrDSKURiF7OMb8MNlqCW8iOeTCK8RzcTBR0ODuy4sUfyoINrUCIJMGEUsgVq6okflig4Xa7sbKygkKhAJfLNQYpr9cLjUYzUbVYqVRgNBphsVjQbrd3ALYTVy62+yK4FmP37t04d+7clqC0tLQEn8/3oe/jpCJ+uiuI/3o8gkcPZrD75Sxue5rA64k3cvjFYxn84rEMXn6fiDjuO1DD86eIrH7XwRpeOVPBI4c7eOxIB2/OtPHk8Q4eO9rFa9Myjuk7eO7cBg5Mr+GEkYDsxQsbeFfTwzlHF68vEHCdMBMbqXf1GzjrJHNfM94epr09nLASN45TtjWcs5WhpTuY9g37Ia5BzxCPQyPbgZYm2dkFzxoMbAeXfKTntUh3YOBkFQj9jEivzHBNKgv2+1WTIGFk21jwk+3QOoaAzSq0YWTbMHMkC+uLQMhQc3tQjuTbmPcUYaCb0DMEIgt+GbO+DkxcayJg9cz470HKk6O/84K/A7vYVHpyLcy5C9AxbcxRHdXrcbzsOBCEWATSX7OJ7cv6N1KRBixcg4hAQk2YOFKGdPDFUbd8vgKXWISdL8MtFsfgRUerEOKlsf1kPikPOpQFI62ADafBhtOQ4mTYOBKJQJKkMUVhOp0eMfzdLLvfvFNsuJ/m9XqRSCR2ALYTVy62+yK4FuOpp57C4cOHtwSwZDIJl8v1B98TiZfw891B3PVkBDfcGsSDLy3hlqcIvJ58M4efP5rBr57M4OGDOew7VsbDb9aw5zCB15OHa3jycB33vtrAi6eyqjficx/IeH1GxhMnenj2TBenTF3snybgek/bw1F9Dy9d3MBxQw9T9h5OW9fwphZ4S7eBKUcP551rZEeYZQMfONYwT3Ux6+vhtH0d5+yVkVLhYqCDC25iEXXR08O0r0fKg0qvysTL0AZkVZjRP0aOQEuvSOn7w8kuqQUjXYU+UIZN6UURqXwLOlZWVqwQebxpwkzYnJ8AaCugmaW60AdqY6CaozqY843Pp1mF9uD35WVYBRk2QYYj2IaJJ3vQ+gPZ8xR5PKlEOQwuvQJdl0TEJ/0B6v6xsNVReNF1GPwF6H0ZGJj6mPhDT9dg4cuwMjlYmRws3GBhpzeYV1zvCbioMJHhu4Nl+KScAq4chEQJdISUHGkpqQLMLyyh3mgiGAwiGo2OgIhhGPj9frW0uPnMzc1BFMWx51OpFCiKUmfHdlSIO3HFYrsvgmsxDhw4gFdeeWVLAMtkMrDb7Zd9fTVVxq9/L+E3T0Vxw61B3PpIGD/6jYTb9w7gdcdekpH1s7EH3yDwevF0Dbtfq+PeV+vEH/FwDo8f6+CtORlPn+7iiRNdvDUn44WzXRzTd/HuELgOzKzjtKWLtxbX8L5tDcfN67jg7uGYeR3v6IGTlnXM+0gWddK2jlO2dUz7epin2jhrr0ET6OCsaw0XPT2iJGQ70DMdmPmB5+E01VFVho5gS+0PGbk2dEwb8355ojydZCENLPqJG4aeIY7zNqEBI9uCiSOuF2aOKPpsQoO4zyvZDpndasLCtwaqRJHAwSG1YFOgYxNlmNgmFtx5kqn1gcvJMLId2IOkT7aglCn7YBt1DOn36SaXRI1MA7MUcRaZ8dSw6KtC4ytB481j3lvBrK85gJtPxiJVH/d19DdhpMuwsGWY2PrQxmqy42wYXnaxCRNdhIMvjPXHLHwDvhBZsumRKrAL1ZHjFVbBxYpwcclNYo88xFgWUqIASsoiFE+D4zgsLS2NgKjRaGB+fh4sy04EWH9spFarjTy/vLysfk8sFkOtVtvuf+JXJLb73r0Tn9kB2KQ4duwY9uzZsyWAFQoF1WVg88nlK7jryTB27SXwuuXhCH54j4Qbbg1i79spIuJ4LoO79w3g9asnsth3oooX3ydZ18Pv1LHvZAP3HWzi4TcLeGuOZF2vXOjg4HQXe06u4eXzXbw938Frc2s4qIDrtfl17J9Zx0lzD2ftXbyr38ARE5HM93tfxy0byg28i7OuNbzvWMdFdxcX7CXoaCJLv+BZU2yhOkrZrgWL0CTlMkWOPu+XoWfasPB94DRhF8npP7bwBEwGlvgQWvnGRINemzBuDUWUgJMEE+PZmYGbnIWZ2PGS4aK/PZY1zvi6WPSW1MfT3jamPXXMuCqYduYw6ypgzl3AvKeIeW8ZC74y5n3Nsc8xsc2x32GW6sIRJMC2iW3Yg6T3thCQ4ZAmD017QgRa7lALVrGl+jjqfNkRcLmCykZqoQ63NAouG1+FTyrDyW4GVxGeYB5+KYdgYuC16BVW4Q8EJq5McbvdsFgsY8/35fXxeHysxLh5g/OnYRcYsAOwayK2+yK4FmN6ehq7d+/eEsDK5TIMBsP485UqHtrLYvezBF6//j3JvG64NYhde2O444k4fquIOH7xaAZ73szhpseyuHtfDs8fL+HeVxvYd7KOh95qYNehBvZPNfC7Nxp49XwL7yzIeOpUD/vO9PDuYgd73+/huakezlhkHJpbx8G5dZyxdnFYTxZcnjT3MOuVccxMTHqnPV1c8nRx0rqO0/Y1aAJtaGkZ094uzrp6OO+oQc+0Yeaa0NFtzPpI38rA9ueuWiqU9EzfRLcFK98iRrsCWX3iklpwh1rwhckNeORILeh9KdiEOhyKKa89SAx67eJgDsuuHE+ovzesCStPLJosXA1GpgYDXYOBrkAfKEPnL0Hry2HRW8S8p4B5dw5zrhxmHSnMufKYV+Cz4C1j0Ufc7zVUDRp/HRp/Exp/C9pAC7NUZ2w9jEXoTFzcqWfGIbjgJ/0+IyvDIsiwiorQhZs8jE1cSpSVMAyBmyNIMlot05rgpN+EjSvBF2nAGRyV4geiNdiFKhxC36ZKGZTmKqBCBFxuMQcuVlaXbjLR0sDFQ1iF1eGduDJFFEUsLCyMqQ3r9TrMZvPYTrG+Y0d/g/OnxYke2AHYNRHbfRFci2GxWHDrrbduCWDVahVarXbs+b0v87hllwd3PBbGTfeH8JNdIRVeN9waxB2PRXD/Kxn88vEMHn+dwOvBAznc9Xwev3oqj1enqrjvYAOPvtvAvlMN7H69hT3v5bDnWAv7L3Twznwbz0918eyZHg5rZLx8voeXzq9hytrBO9p1vLG4gSl7Fycsa3hTSx7PUx2csvQwY6vC7krC5YjBYQ6CtbMIO7yI2p0IW+wImy2I2WxYslux7LQjanciZHcj5KYgeTlIfgkiEwfNJuHmCjBzDWWHVgPecAN2ZSOyW9mK7A034I8obhQScZlwihVYmTx03hSsXAkWpgAzU4CJzsNIpaDz5aD15qDxZqHx5aDxZqDx5qChStBSFWj9VWj9degDRSwGRjM0A9uaOKxs4ieYB3Pj8JnxdWEWxrdMk9k2RcRBd6FT5t7sQRkWUYZZ6EDjr2PO18CsvwszP/mzhyE2S5HhaasowyWRPtvmbNMRHADMxLXgCpE/EnTe1MQZMrdUhz9SVxzwR50++HgZfLwCT3Bc7CEmiuBjJfikAqzeIHK53BjAOI4Dy7Jwu90jz5fLZdjt9hHZ/fD39MuROwDbiSsa230RXIvBMAx+/OMfb3m2S6vVolKpqOfwqTB+cacL/+cGI+5+hMUv7ifwuu+/iYjjzifCuPEuCQ+9sozfH8jipseyePyNHG5+Oo879+XxyGsFPHO0jBffr+Phd5p46O0mDpxt4oG3ZOw71cRbsy08fbqH9xY7OHCphxfPr+G4oYsD0+s4aujhvIvI6meNWVA2EZzRhYRBi6RpES3tEbS1h1HTnULJcBarxnmkjTPIWueRtS4gbVlEyrKAVYsGWfsiMrZF5OwLyNoWyNcOLXL2BeRs88hbZ1GwXELJfB5JmxZZ6xxWHEZEnTbwbj+83iCsvgTM/iTM1CpMvmVYAmlY6AxsTBY2Nge9Zwk2rgA7X4JDIHNNDrEGp1hXjHAbMDAN6JkW3FJzLBMxcP0skKj7tDTpv7kkYuZrVPaS6ekGdP6y+rV56NiDRLrfP/1hbB3bgZYhQ9zzAWU2bUIWNk0Ri63Nz+s2mRgv+MncnCOo9OcUsUcfpvbgJPWiDFeIZLMWYbTMqKfrMLIk+7IKTXhCpFzbX/syDC47X4GDL8AXro+BiwqVQMeq4OKDhZreYA4My48BzO/3I5lMqsPLm5WGm2X3w9+zA7CduOKx3RfBtRjxeBzf/OY3US6XUSqV1FMsFlEoFFAsFkeORqNRn180JPDDmx34f75vxj/+mxk/v8uN/++OIH77DCkl3r0ngn+7U8J/3BfGPU/HcctTWTz9TgH/uSePB18t4L6XCrhlbwF7D5ex52gTL7zfxNPH23j43TZe/qCCh96V8dJZGSeUbczHDT28OrOOw3N1WExRUFo3YmYTmvrjaOhPIG+8iJR5ETGTEWnLPAq2GVRtF1C0zyLj0GLZaUbSZSLHTc6S24JVtxGrHjOSHjNWPWYse8xY8Viw6rUg6bUi6bMg5bMg5bUg6bMiQ1mQ8ZmQ9RqR8xiQc2uRc+mQc+uR9+iQ85qQDHgQ54MQpRSYSAVMtAqPkIObT4MKV0GFa/CFavBI5NiF2tBG5AasAunz2EVi1eSSmnCHmvCFm+Qmr9zoncrpO3v058oWqAasE4amSRY2ni0ZuXFYaRiShQ2eU2bTRFnNyDT+GhapCsxCBzZRhpbpYHYIcNNUd6LX47Bi0R5swyzIqvWVgR3vkRnZNrSeVTjEhrpws388oQYsfB3eENlBZuEHM2W0MuDsDRZgDazAIZbhECtwBcvwhwqgpAJczBIsLmZss7LX60Uul0Mul1PnuvpKQ7/fPzL71Tfy9Xg8Kuw+LU70wA7AronY7ovgWox0Oo3Pfe5zKJVKKJfL6ulnWMNeh/V6HW63G8vLywiGC/j3XznwLz+x4Rv/asLP7/Lg6zeY8fALfXjF8G93Svj57jBufiSG798Vxr7DOfznnjyefLuI254pYNfLRTz8ehm3PVvCoXM1PPh2Gy990MbeU208frSN50/l8PjRDl6/WMPUfBLORS+Shmk0jSdRNpzBkmEBEYMOKcscKvZLyDoWsOQwIuq0YsVFgJT0WrFMOZGgvFgOeLBM+5Bg/FhiA4hxNJY5GjGORlzgsCQFsRQKYSkSwUo0gpVYFKvxGFZjMazGY0jGI0jGIkhGw0hGJKTCIpISj6TIIBVkkBL8SHNeZBkHsgEbsn4Lcn4LspQFmYADq7QPPEVDiqTARstgYmXQ0Qr84crQtuI63FId3lAdVJiUx3xhAjNvmJQpPaEmLAJR6vV7Rk5pXBCiDTQUBw3FJYMhJTx7kLjrGzgCISPXgVUgc2865WiZLjRMF1aBWGXNUN2R8uLmntklXw8mfnLfzKxI8i08ycYsiq+kTZzcI3NKbWgCRGnplNrKkLcME1MZmx+zCQTsxDx49Ji5Bth4HYFodWyZplOsQFyqgFL8FH1SHv5Nm5UdDgdKpRJkWYbH48Hy8vKY0rB/WJaFJEmw2+0ol8s7ANuJKx/bfRFcq/Gd73wHLMui2Wx+6FleXobN7sV/3O7Ej2914uv/YsTN9/nw9RvMuP13FG55gMWdT4QJvO4P4RcPhHHjPWHc9WQYv3o4ikcOreJXT+Vx//4k7nwuj3uez+CBV1O464USnjuewu/flfHcyQKeOt7Ae1MJuDUuZM3TiBsWkdTPIGHWI2nXoeKaQ9TpRNzpwIrXgYzfipWAF9EAg2XGjyWOQZznEBWDCIsSolIIkVAMkegy4okUVlcyyOWLqFSryGazsFgsW/rv38qpVqsoFvLIp1PIrSSQjoeQDvFIi36s+G1I+63I0E4kOQpLoohweAVCrAAxUYI/VIQ/VEYgXAEdqYKNVhCI1kBFCNRcUh0OsQ6rUFe9Bs08ccLwhIlAxCm14AyStSfuMFnLYhWJCtCozKgt+MeHrCcBSDuWhfWh1MEM1cVCoIs5XxPzVB0mZZbMInRgFgggFwLkPZOyPh3TUdWdCwEZZqENm0g+Q8eM7zJbDLSg85dhFRpwh5ojSkVfeAheXAVOoQS72ICZq8MjDS3T5ItgYqQ36Q1VhxSKRZjtPhVYsjy612s4y4rFYmMzYI1GAzqdDgaDQXXo+LTMgAE7ALsmYrsvgms1Xn/9dezdu1ddqVIoFJDJZMZWqjAMA4qicPbcNH56uwn/8F0j/uM2I75+gxk/vtWE//M9M278lRk/3cXjp7sE/HS3hB/eG8Jtj4Vx4z0R7Ho2hkcOpbHn7RxufaaIJ98p4b79FTz6VgVPvFfHc6caODxbxdw0j7RlDg3bFFbN85DMViTtBhTdGiQ8TsR9Xqz43YhTFGI0jTjLIMIJkPgwwmIIkhRDMLwCKZJEfCWLbL6Mer3+B6FjMplQKBSuGMQud/rlqEIug+xKAuloEGkxgAzvQ4qjsCyJCEdWIEQL4OMlsNEi+HgZTJQAjQpX4QpW4VH8A11SAx4lQ6Mi5MbulIgMXUfXoWNaME0w6bUH++XFDub9ZIDbyBFTYS09eqyijAVagZWfZGOL9GXAdhn14kDkQXwlTTxRLDqCbeiYcQstuzgAmCbQhplrwMzWYPDnJ6gU29AGKjD60zD6MzCyg3KsiWuAjtXgDVdhCazCxpdGZPdsrAQHs4xApIxAaLS3NbzXq59lhUIhSJKkKg03S+hnZ2fVUuMOwHbiisZ2XwTXWtxwww34yle+gi996Uv43Oc+hy984Qs4c+YM7HY73G43KIoCwzDqOpV4PI6VlRVYrVbc+4gbv7qXlA1vutuL/+v7Fvz4Nje+/SMH7t8bwk0PRvGz+6O444kEfnxfDLueW8EPfxvHU2+kcfuzJTx3vIL/eqGCF07VcN+rdRw9T0qEKYcOecslRCwWrLpMyHoNEJx+xL0erPpdiNAswpyAIBuCJIQgijHwwSWwoSTEcBqx1RKK5dpHBkskEgHDMFcdYM1mUxUFbH6+Ui6hkFxFJh5COixgNSRiKRxCNJ5EKJGHEO/DrAx/qAw6WoYvXIU/WlNKjaTkaOXrMLANkqExpIdm4fvbm0lZziWR3lM/4zEp2RkBR991o6MCZ1LJkMCqqww3tzHna0KvlCRNfEfJ+NrEUYNpYtYnj0FvkgHxjLeOOUcai54cFn0VLAxtp14MtKAJ1Am06CbZ7Cw0oGPa8IRGN0GbuAa8kSa84QYcYnVs2JmO1sDGqvAES+qxOnzIZrOQZXlklcpwlsUwDBKJxMT5sEuXLqFYLEKWPz1O9MAOwK6J2O6L4FqLVqulDlp+/etfRyKR2NINOJFI4MQZN/7v71vwg1tc+NYPbbjxZhf++adO/L+/dOFnd/vxq4eiuO2xBH52fwx3//cyfvZAArtfTOGmh1fx0skS7nmlgudO1nDo2DIkiw01zxyW7Gb4DW4UvTpEXS6EfDSWGAqcT0CYFSByIXBCHAFhBay0CjqUARcpYin14RnWh52+wrLRaFx1gMXjcVAUtaX3Fgt5ZFcSSCWiWIlHkYjGEYpnEIznlbJjEXS4DCZWJXZKEXJjNnN12MUGTHQeTrGiZGdkZs0mtGDkyKLKzZmZjhlVC/azNCNTx6xPVs+Mr4M5XxOXvOMZ14wzPzELW/BVR9/nG2RXZPi7vz+NlBgtwqjEft5PIGvjytD7S9Ayo2IPm0DMgl1SA55QHRahMTYv5gpWYWfScIgV1V/RyabgDpbAxSoQYgVVsLEZYLIsIxwOw2AwTBx8lmUZi4uLqsR+B2A7cUVjuy+Cazn27t2LQ4cObemmWq/XsbCoxU/v8OCGXzhww88d+N5NLvzrL1z4t5s9+N4v3fj98wn88sE47tizjF8/uoS79iZx+1NJ3PtcGr97JYu9x2qwLvpR88whYrUh5HAj7beDtvoRD1CIMCx4JowAEwPNRsGIK6DENDwiWWQYT9euOGx8Ph+WlpauOsAajQa0Wi2q1epHB221gnw6ieTyMlbiy4jFVxFOZCDE8uBjgwyNjpThlqpwi0WYA0m4xRLsXBFGpjpQ8dFN6KkcNFQFGm+RZDyeLBZcScy7c5j3FLDgLSmD0GXM+2pY8DWw4GtigWphgWrDxDYw71csqnxNzFEtNQsz8komJnRgUVSKRp4IRIaViqbLzJCZFUsse7ANqzjYYaZjZGgCw6tc+r6TbXjD4zvHDCzJwsyBJOwTnO2t/iUEIpWB3N4bwMrKykSAtdttzMzMqIKOSQ4dDocDyWRyB2A7cWVjuy+CazkkScJ3v/vdLd9InU4nnj/E4ls/tOFHt3nwnZ868IPbvLjhJjd+9F8B3Pw7Hrc9sYQ79izj1idX8dsXUrj1qTQeOZjFbU9nsf9UHrTeiZjHjVW/C6yXR8AngaVE8GwYAW4JPn4VlJCCnUnBJZbBxWqoVK9ehpROp2G32686wJrNJnieRzAYvCzgarUaSqUSstkskskklpaWVJsijuMQCATg9XrhcDjgdrng8XjhpRh46CDcdARuJgYnHYeTTcNCLcPBpuDis7ByJRi5Oiw8ke67gjUiDAk2iaO+QOyfzPy4dZVNHPdInPd3Js6FXa4XZpwgFJnzd2HmFBcPZc+ZjiHlS8Nl3DwsbAV6qgBnsD0iu7cHW4NdYyJRbVoVxaYlkB6Aiy/BLRbgDFZh4ysjAJOWiBu9TqebmGWZTKaxPWGyLKNWq8FisaBUKsFgMOwAbCeubGz3RXCtx1e+8pWJvZlJJxaLQaOncNNvKPzTD+z46V0+/Msv3PiPOwP44e1+/OAOGo/vX8Z/PrqKh/an8cvHUtjzVh63PJXFnreLeP1EAqmAE4xXQIQXQNFx0GwUPnYFXj4NB1eAjSvCKdZg9Ua2XN78uMdgMKBcLn/sDKtarapimNXVVSQSCczZAnwAACAASURBVFUMw7IsvF4vZmZmYLfbYTab1Rtm/xiNRlitVjidTni9XtA0DZ7nIUkSotEolpeXkUqlkMvlUCqVUKuRvl+1WkEuX8BqMov4SgbhpQyYUBoebhV8vAwuVoZXqsAtEZk+FanDHyWOIkauCS1DBqjNfAsmTnHOVyyuHME2HNLA+sqqAIe415Nsa8FXhcZfh1npgZmVDKx/rEoWZuA60DADef7lsjALT9bCmHgZtiD5XfqrZjSBzfNi5HVfhKgyNzvbGwIFUOEa/NH6hP1iVfDxCqiwMvAc4KDRaCYCzGq1wmw2q72y/imVSnA4HJBlGTRNI5VKbfc/6SsW233v3onP7ADsw+L+++/HqVOntlbKqtWg0+lw72MM/vM+P77zExd+ejeNH94RwL/fQePmB3j8bJeIJ15P46bHUnjyjTx+83wOD7xaxNPvlTG9EEGE4+GnY/DzK7DTGXj4NGxcESa2CqvQwFKG9LVSqRScTucnArB+hlMul5HP55FOp1U1ZigUgiAIqhrT5XLBZrPBZDKNwEen06l/pbtcLvh8PjAMA0EQEAqFEIvFVDFMJBJBufzxe3iXO9VqFZlMHi4fjVAsjVAir2wpLsEfqYCOVhGIkr6Zla/DxDdhDypD0xEyNN33bLTwbWX/1+bsjABlzEaKH7eouuTrwTQhO5uhuuqiUKvirm9WMjHj5bIwrg6NvwKn1IJDakGvZGKO4DC4mnAEieWUga6Ow4srwMFm4BCrI1kYHy1ienoazeb4zi+DwYBsNqv6Ifafz2az8Hq9ajnx02LkC+wA7JqI7b4IrvVwOp34yU9+suWbo91ux6Ixhn/6oRO/vI/BD27z49/voHHb7wX8680sfrs3godeXsFDr+bx0ME87nmhgGePlvHM4SLc3igobhm2QAZWpgALU4KRqcLENpFIjZYJ++qvrfaM6vU6SqUScrkcUqkUlpeXEY1GIUkSeJ4HTdPwer1wOp2wWq0wGo0qeLRaLS5evAiz2ayqMf1+P1iWVdWYiUQCq6uryGQyKBQKqFar/6N+3CdZsgyHw6BpGsVSGcl0AfGVLEKJHIR4AVysBC5eBhevwClWyRB1pA4qQqT5NrE/NE0k6y6pBS1DBBVmnngbOoJtddWLlirBQFdhU5+X1WMRBqteDCyR6c8pK11MnDzR1d7Mk31puiHnDouinBzthZGjY9rwhojdlIUfzcQcwSYcYg2BaB2+8KYsLFqFP1IGFyfKRKPFObKpuX/6vTGv1zuyhiWZTCIwNAy9A7CduKKx3RfBtR7r6+v4m7/5my2Doi89//0zIm68hcKP7mRw20MC/uVmFrv2RvAf90m49dEonjucw29eLGDPO2U8f7KK97VZ2AMpWJg8dFQVi746tIEWpOVB+a1YLKr9n0QiAbvdDpfLBY7j4Pf74fF44HA4YLFYYDAYRrIfg8EAi8UCh8MBr9eLQCAAjuNUp/ClpSUkk0lks1kUi0XUaqOCEJfLhWQy+YmAxWg0fiLzZ/V6XTViHsnO8kUsreYRWc5DShQQTBRBR8qD7CxShS9cJxZXPPEfdElNeEMtOKU2nMFBOdGpbGGeDwwyJh1DHm/OzqzCcMZGZPtaugObYollExXXDoGAziJMXvZp5evQBBpwBImIwyoSj8g+dPvHyDZgpgtwh1oIbMrCrHwFgSiBdt96yh0sw82nJu786gNseLhZlmUkEokR4O0AbCeuaGz3RfC/IW6++WbMz89v6aZYrVah1+thtKfxk3sY3KpkXvc+HcZN90u46YEw7n8uhruejmPPWxk8fTiPZ4/nofdlofEWMeOq4qytiguGELQT+j/98htN0wgEAtBoNIjFYiP9n6tRfltdXYXb7f5EABaJREDT9Cfys3iehyiKE19rNBoolatIZUtIrBYQVGbOuFgZbKwMf7gKp1iHVxmYpiINuKSmKpBQe1B96buf2EHpWRlOifzv8NEpm6Dn/aOS/UlDzbNUFwaWyOgN3CALs4kyzAJZGDq+X4xkYd4wKSEa2EEmZhOasAs1UOEa3GIBVrakwowK1+CVyuAiWdCsiFgsBoqiJgKs7z7f3/8VDocRCoXU1z5Nsd337p34zKcLYDfddBM++9nP4otf/OLE1w0GA/74j/8Y119/Pa6//no8/vjjW/rcS5cu4eabb4bL5UIkEsHy8jJisRhCoZBafvP5fHC5XLBarZienoZGo8G9jznxL7+mcfMDfvx0F4sf3RvEPU9JuPOpCG7fs4QHXl7FiydzOK6pYMFbw0VXCwveFjK5ypbLb0ajEaVS6arf6D9qyfLjnEmZ0dU6lUoFOp1uS/9/1+t15Es1LKfLiKyUICaK4OIlUGFibRWI1BCI1GEXiEu8iSPCCZfUhEsiO9Q03iycwRYcEhmetipbrM0CKSE6gm0Y2YFjfn+XmEtqDYasRbJ2RcvIsArNCQ72Hej9RSxSVeioEnS+PLRUEZpAExqqDD3TGMnC3KEmvJEm6NimXhhfBR2rYzXfRLPVQjwehyiKaLfbMBqN6nByq9WCwWAYG26u1+sQRQK8T5sTPbADsGsitvsiuJJhMpng8/n+IMD++Z//ecufd8MNN+CrX/0q/u7v/g5/9md/hm9+85v44IMP1P5Pv/zW7//0y2/BYBAsy0IIlfDbvRHc8kgYP9sdwf3Pr+Ch/Un89oU0fv9qHk+9W8ZL79dwwdHEeYcMMfHRb8DBYPCyGcSVPn3F3yfxsxiGQTgc/kR+lt/vRywW+8jfV280CNAyFUjLFfDxMthYBWysAlewClewoWZnfiU7MwRKA0cQtgUdPW5pZaAr46VBqo0576bnKRnzvioWqBJ0/jIMgRKMdBkGugYd3cQiVRnLwrRMW3HiaMIlEWeOvsTezJN9bU4+BzacgcliR6FQUMEUCoUQDofV3pbT6RyRyg9nZJFIBIFAAAzDqGtVdgC2E1c8tvsiuNIRj8evGMCG48Ybb9yy6q9SqcBgMKDZbGJqPo2f3x/Brn3LePTVFB46kMWjrxWw90gZr3xQxwlDGwteGZXq/+zm298I/Unc6PuzPJ/EzyoWizAajZ/oz/ooopNJYwGxWBzBUBSMGAfFL8HJpmBns7DRaVgCSZh8y9D789DTVcXSqgGDvwCtvwJdoAIDXYGRrsLEVGFhyzBzZCealSdlSYfYUs2H9exg8aU9OMnkV4aNb0DjK8IpkVUzVrEFHdOCniWZYR9cVqEBNtHESq6FeqOFQCCAZDKJVCqlSuBlmWxjjsfj6tc2mw2ZTAbFYlGF2fAAs8FggNvtRjqd/tQ50QM7ALsmYrsvgisdHwawP/3TP8WXv/xlfPvb3wbHcVv+3OPHj+Ohhx7a8g3OYrGgUCig0WjgtdMpPPJqGk+8nsWetwt47ngFh843cMrQBhNtfewbsNVq3fKs2sc9drsdmUzmE/lZDocDqVTqqnx2o9FApVJRAWQ2m8Gy7JhJs9vtht1u/9CxgL5HpiAIIx6Z6XQGyUwBS6kKwqs1BJdrMDNFWPganEEyVEyFG8r6kxbcyi4zd6gFK9+ChSdzZ/3jkgjEiKye9L2cUptYYkltVfnYl88b/IURg18d04I92IK43EQi00S+VEelUlHd4vtKwv48Vx9SsiyPZFOyTJZYms1mZDIZVSo/fJLJJObn59UsbgdgO3HFY7svgisdfwhg1WoV9XodADAzM4PPf/7zW/7ccrmMr33ta1u+QUqSBEEQ0Gw2Ua83MKUpYu/hEl46VcWbl5pY8LSRL12Zm3E0Gv3ERA+JRAI+n+8T+Vmrq6twuVxbAtDwloCPMpfWHwtwOp1YXFwcM2nujwX0b/JX4r8rl8vBZDIjX2ogmW8gnm4gvNoAHSOlPbtI1sG4pCZ0TGuTyzyZP9tcGtSzbRi5tvrYIrThDrXhj9ShdQSxlGkgV2qi3hj/fWq1GiqViqocdDqdKnT6kGq326AoSs2mhmHXd0GZNOA8bDH1aXKiB3YAdk3Edl8EVzr+EMA2x3XXXYd8Pr/lz/7Hf/zHy1odbT7lcnmsBJbK1kGHGkhmruyNvj9A/UmY7vY9Cz+uwKIPoD80GO3z+TAzMwOLxTIyl9Y/w3NpFEV97Lm0yzniX43jdDqxsrLyB99TbzRRrjZRrDSRKzWRKTaRLjSRyiunQL7OlpoolMl7JwGKoihEo9E/+LMqlf+/vXOPb6rM9v4zysx5z+s56kccX3wZB2mh45ReKBQqH7xAuYovzKDcxjkjOiooFx3kIl46fkQGRAdnHNEeFezocEBBQS6llDZpeklKm96AXmmS0pQ2bdOU3rYtAv29f6R7m6RpstOmzy5hfT+f59NcdvezA7tr5VnPWr/VInVf1mq1aGlpkZyQ2LgyNzcXVqvVyUG1tLQgOTkZxcXFbh2YmEHb2dlJDozwP0rfBP7GkwOzWCxSHUpOTg7uuecen+pSdu3ahZ07d8o2Uunp6bDZbFwMIs86rTNnzqCystJJmcNbZqarA1Kr1X0WRjsmxojlAv0tjPZlmM1m6PV6Lv+GomoFj7mam5ulrMC+jmlvb5dWYenp6U4hRXGfVavVSp2VHYdWq+21B+aYXp+fn48LFy6QAyP8j9I3gT9ZtmwZRowYgWHDhmHkyJHYvXs34uPjER8fDwD48MMPERoaioiICMTExECr1fp0/pqaGsTGxso2HGVlZdwyBM1ms0+hvfb2dskBicocJpPJSZkjPz/frTJHSkoKjh07hoyMDGRnZ0Ov16OwsNCpMPrChQseC6PlDrGly2DJSjmOjo4OqNVqLmUJgmDfT+T1paOoqAjnz5/3eExLSwva2tqgVqud5KBEHcOUlBRpleY4SkpKcPLkSSen5+jAWltboVKpKAuR8D9K3wTXGzExMbh48aIso2Gz2QbtW7bogERpqOrqapw8eRLl5eVupaFclTnUarWkzKHX631W5sjIyIDVauVifPub5t6fIcpL8Zirvr4eWVlZXOZqaWnx+kVAvKfcKc63tbXh6NGjbp3UuXPnkJ+fj3PnzvUpMVVSUgKDwaD0n69fUdp2E4wcmK+8/fbb2LNnj2zDodFo3Cq5u2oTiq1BxBWQ2Brk9OnTXqWhRAeUlpaGvLw8GI1GyQG5KrP7a/BMHBETCXjMxbOIWhAEaLVaWCwWLnOJIVpPx4iOzl04MCkpCWVlZb1eLywsxMWLF6FWq532zgTBfv+Lj2kFRvgdpW+CwcKbKkd3dzfWrl2L4OBghIeHIz8/X9Z5z507h4ULF6KxsREWiwWNjY199qbS6/VITU1FSkpKnw5IbA1SVFTk1BqkurrabWsQT8NisSA7O5uroecR2hMEe6lAQ0MDl7k8yUv5e9TV1UGr1fr1nH1laJaXl+PEiRMoKirymKGp0+mkjETXhAxxL83xdTG5Q8xQFV9vbW1FVlaW9PzatWv+/BNXHKVtN8EC14F5U+VITEzE3Llz0d3djezsbEyePNnj+Z577jlERUUhKioKd9xxB8aNG4f33nvPbW8qR23CmpoapKenc9vD4SX3JAj27DZePcmqq6uRl5fHZS454TZ/jszMTKfaOkfxZrFIWiwR8KVGzV2G5unTp5GTkyNlaNpstl4JMq2trb3EesVwoChW7fi6TqfDpUuX0NnZifT0dCkFv6mpCTk5OdJxgSTkC5ADGxIofRMMJp4yElesWIF9+/ZJz0NCQjw223PsJLtu3Tp8++23sg1UWloaWlpauBhDsRiXx1z19fV+Xz30NUTnzOvfcSD7bmL3aLF7gNi802AwSM07CwsLJQekUqlw/Phxr0XSfdWo+ZKhKSbFePp3FPfCHFdhot7h999/3ytUmJGRIa3KxHY44mNH0V9yYITfUfomGEw8ObBHH30UmZmZ0vPY2Fjo9XpZ583IyMAf//hH2QatuLiYm1OxWq3IzMzkMpcg8BMTFgQBpaWlXEJ7HR0daGxshEqlQn19vdS+xmAwSCFisX2Nt+7R7pp3/qjSYZGKpNPT07nVoJWXl+Ps2bMej3FdhTnqHYqrYceVmWPWoqigUlNT47RaIwdG+B2lb4LBxJMDmzdvXi8HlpeXJ+u8V69eRVhYmOwQU2NjI7dsM95OpaKiAsXFxVzm8kU5vq2tTUqS8bRHKfZPc+eAkpKSkJGRIbWvKSkpkbpHm81mWCwWWK1WqQh4IJ+tpqamT9URf4/29naoVCq3yUWOx4jvd3V1obm5War1cg0VOrZS6erqkrQljUajU9JHoKG07SbYjevAfA0huvLUU09BrVbLNhpiPQwPA1VeXi7JWA32EGt8/F1k7FomIHaQ1mg0yM3NlbI0vTXw9LZHabVa++yfxjPNvaOjAxqNhltpQmVlJQoLC73+37a2tqKrqwsNDQ1Oqy4xYcidA+vq6kJBQQHy8vIk9fpAy0AEyIENCZS+CQYTTw7s+PHjTkkckyZN8uncR44cwcsvvyzbYJw9exYGg4GLceKpUC8IAnJzc3vJIskplPZUp9ZXB+mzZ89CpVI5ZWkORgNPcWRmZnLLfqyurubWNFTcU/S0UndchdXW1vbSO9TpdLBYLG4dWGtrK5KSkgK2FxhADmxIoPRNMFh4U+Xo7u7GqlWrEBQUhLCwMNn7XyLff/89oqKiZBuMhoYG6HQ6bk5loAr1rlqFnqSi0tLSkJiY2K9C6f7UqfEsouYpL9XR0YG0tDQ0NTVxmc9kMnlVb2ltbUVLSwsuXLjQS+/QarUiPT1dqvVyHRqNRkriCDQleoAc2JBA6ZvgeuY3v/kNCgoKZBsnlUrFrUDWYDCgoKAATU1NHsVyxVogT1qFolSUaxNPR6WO1NRUj3sq/ja83sJf/nQqPOWlqqqquJULyHGYokZiZWUlysvLezmp06dPu12BifVhp06dQnt7OzkwYnBQ+ia4nklISMCWLVtkG4yioiLZqdmuDRMd24W41gL11S7k2LFj0Gq1HtXaRQc0ULHc0tJS2Ur9Ax281TJ4ykuJDpOXCPSFCxe8hi1bW1tRUlIi7Wc5jtraWiQmJvbSThSzEUtKSnD27NmAE/IFyIENCZS+CXiQlJSEkJAQBAcHY/v27b3eT0hIwJ133onIyEhERkbis88+k3XepqYmTJkyxaMDcixGLS0tRVpamlQLJLdhouiAXGuBvLUL4alQz3vf7dy5c17Faf01RIfJKwnHaDTKXtkPdIjiveKeoru9SlFRRtzPchwWiwUqlQpGo7HXexkZGWhpaYFarUZbW5u//6wVR2nbTbDAd2BXr15FUFAQjEYjLl++jIiICJSUlDgdk5CQgNWrV8s+p1qtxtatW7FhwwaMGjUKDz30EFatWuU2FVssRhVTsU+cOIGKiopBbZgoDrPZzC0cJQj2Dsq8dP1Eh8mjB5og8JWXEsPNckKynlbqckPFKpUKSUlJvfYqHSXN6uvrexU3d3V1oaamBoWFhVCpVBAEoZdyR2dnJ8xmMwoLC/39p604SttuggW+A9PpdJg9e7b0fNu2bdi2bZvTMb46sJycHHz77bdQqVR4+eWXsWXLFpjNZlmZcIWFhdzkl8Tmk7wkkXg7TFESicdcgyUvJap2NDc3o6GhQSqa1uv1yMjI6KXa4a5o2tNK3TVU3FdbG1c5q77+DVx1EE0mE8rKyqQic3dK9GJ4MdBQ2nYTLPAd2MGDB/HMM89Iz7/88steziohIQEjRoxAeHg4Hn/8cZjNZtnnN5lMmDNnjmyDVVtbyy1VWhD46hX6q1uz3FFXV8dNvFgQ7F8+3HU29lYy4K1mzVW1Q6xZO3nyJM6fP99LtWMwVp11dXVea94cm16KTur8+fOSyoyr0K9jcoejFFugoLTtJlhgOLCrV68iLi7O7XsHDhzo5cDWrFnjdIyoKAAA8fHxmD59uk/zR0dHe/326mrkea2KeCrUC4K93o2XbJYg2HUmB5rw0Jd6u2sYTqfT4fjx427DcO5KBtx1FvClZu38+fNeJZ/8ObRardc9U7HppeiYSktLUVVVha6uLhgMBpw5c0ZadTk6sEBTogfIgQ0JlL4JBoL4re7YsWNYtGgRWlpaeh0jJ4Toes5bb73Vp+uIi4vDv/71L9mGIj8/H2azmYtR4q1Qb7PZkJ6ezs3oihmCjuK5jtqF7sRzMzIyZKu3iyUDYhhOp9PhwoULXPbexOQRXgLG9fX1XvuuuQr9njlzBjU1NZLgryj0297ejoyMDHJgxOCi9E3gK66CoBkZGXjwwQfx3XffuT3+ypUrGD16NEwmk5TEUVxc7HSMo4TUoUOHEBMT49M15efnY+nSpbINRU1NDbfiWEHgq1AvCPb9FF+LqPuSjhK1Fj2F4Y4ePYq0tLReYThX8Vx/JMzwlJcSBLss2Llz57jNd/r06V6qKq7DcRWWn5+P+vp6yVGJ+6CXLl2SVOkDUcgXIAc2JFD6JugvNTU1+OqrrzBt2jR8/fXXHo9NTEzE2LFjERQUhK1btwKwr5qOHDkCANi8eTNCQ0MRERGBadOmoayszKdr6e7uRnh4uOxvymIYkVcGXVNT06B3NHYMw5WUlCA7O9upcNpRuSMrK6tXGM5dh2nHMJyoXeguDFdUVOR2b2qwBk95KbH9Ca8VdGNjIzQajcd703EVlpOTI4XgHYV+xUQUcmDEoKL0TeALV65cwVdffYV33nkH69evx5o1a3DXXXdh9erV2LZtm1RQqQRr1qzBsWPHZBsKvV7v9ZuuP4dGo/G4VySnh5WnujVH5Y6cnBwkJiZK2XDulDv6yobrz2hqaoJGo+H2b2k2m7km4pSWlqKkpITbfLm5uV4Tf8R2K1qtVhL8dawN02g0KCwsJAdGDC5K3wS+smXLFsTFxeGf//wn9Ho9amtrkZmZibVr12LJkiX4xz/+och1paamYuXKlT4ZQW86dL4O1zCc2EKkoqJCUuvw1kLEWw8ruWG4wsJCVFVVcTO6orAsj7l4y0uJqzBe2Z1NTU1ea+zEe0384uBaxJyWlua0AgtElLbdBLv+HFhdXV2fVf1iWMkT3lQ5urq6sGTJEgQHB2Py5MmoqqqSdV0//PADwsLCZK8qxA16x+Mdw3CifqEooOtrGE5UcBdbiJw/fx6nTp3iouAuCPx7oNXU1HBdFfGUlxIEe1NUXoXUgmBPNPIWlm1ubkZqaqpbGani4mKcOnUKnZ2dAalED5ADGxIofRMMBMewxJUrV7zqrclR5fjoo4+wcuVKAMD+/fuxZMkS2dfzxBNPIDk5GSUlJU5huL70C0+cOIFTp065DcPl5uZ6FNAVFdx9CcNptVpuezeCICA9PZ2bpp+4KuIlKMxbXqq1tdXv5ReevjCdPXsWJ06c8NryRizRcHVg5eXlSE9Ph9lsJgdGDB5K3wQD4dq1a24LJAXB/SpMTkr97NmzodPpANid4vDhwz3G7zUaDSZMmIAJEyZg9OjRCAkJwYwZM3qF4UT9QscwHE/NO0Gwa+zxXDVUVlZyzaArLy/nulfEU15KEOzZpBUVFU6vtbe3O3WeFvctxexFX8oHXL8w6XQ6nDlzxukLk+s1OTa9dBznzp2DwWCAWq0mB0YMHkrfBP3BnUMpKyvD22+/jXHjxuGxxx5z+3tyVDnGjRuHmpoa6XlQUBCsVqus62pra0N0dLRsg+QujDiYQ9xLCdT5xFUK7/kGsipyV0Ttru/a6dOnkZGRgaNHj8rqPH3+/HmYTKYBqXjIkc9ybHrp2pHZYrHgzJkzMJlMsv5+rjeUtt0Euz4dmEhWVhZeeuklhIeH41e/+hWeeuopfPfdd33ukclR5QgNDe3lwJqammRf0yOPPOLTquP06dPckg8EwZ5hxkuhXhDs2Za8irYFwb53w0s6SxDsySqVlZVOq6Dq6up+r4LcFVE7ho0LCwu5qfALgl1ZxVubHLHppaPEVG5uLqxWK9rb231uFnu9oLTtJtj168AmTpyI0NBQrF+/HmlpabL6DQ1GCNGVTz75BO+8845sA2EymVBUVMTNIPEW3OWtV9jY2IjMzEyffqcvKSnX5Bl3e0EpKSk4duyY21VQRUUFTCYTzGYzLBYLrFbrgLUML126BJVKxX2V6SkDUtRIFIQfV2FarRYtLS3o6uoKyF5gADmwIYHSN0F/mTNnDr744gun17q7uz06GzmqHLt27XJK4li8eLFP12WxWPDQQw/JNhBtbW1cDRJvLUZeyRWOe0FqtRoVFRXSKqi4uBiFhYXQ6/UeV0Humn/KqWHLycnhWtNXWFgIg8HAbb6SkhKve4ttbW1Oq7D09HR0dHSQAyMGF6Vvgv6yZ88ezJ07FwB8qjPxpsrR2dmJRYsWITg4GJMmTYLRaPT52qZOnepTGEun03HNDuRdo1VWVuY12aGvvlb9KSHIzMyESqUatFWQ6+AtL9Xc3Mz1S48cNRBxFSaq0Yu9wAJViR4gBzYkUPom6C+XLl3Cvffe6/Z1pQsn33nnHcTHx8s2EAaDgavq+GAp1PdVSF1SUoKkpKReqyC5fa18VfLgLWAsCHzlpQTBvtdnMpm4zVdeXu71HnVstxLorVQAcmBDAqVvgoGwY8cOnDhxAlu3bkVKSgra29tx5MgRvP/++wCg2B9ORUUF5s+fL9s4tLa2Qq1WczNGfRl4X7r7+lpIrdFoUFZW5rQKGswwZklJidfkA38O3vJSNpuNa0dqucr44v9roLdSAciBDQmUvgkGQnt7O+Li4rBmzRq88MILWLduHRoaGnD//fcrfWmIioqC1WqVbSCysrJ8VnDvy9C4WwWJe0FFRUXQ6/VITU1FSkrKoHT3dTd4K/C3tLRArVZz3VvkKS8lCALy8vK4ZlxWVlZ6TTgS9yLJgRFcUPomGAi1tbUYMWIEfvjhB7S1tSE8PBw2mw3R0dG4cOGCT+ey2WyYOXMmxowZg5kzZ6K5udntcTfddBMiIyMRGRmJ+fPn93m+V155BV9//bVPxqG4uFhaBdlsNtTX1+PixYt+WwWJrofBigAAE7dJREFUe0F1dXWoqamBRqPhmszBO6yXm5vLNbnCYDBwzSiVo1noz9He3g6VSuXWSYuZnFarFVVVVQHfCwwgBzYkUPomGCjLly/H4cOHAQCPP/44li5diq1bt/q8D7Zx40ZJG3H79u3YtGmT2+NuueUWr+f64YcfkJSUhMWLFyMxMVFqRe/Y20oU1RX3glJTU6UiVY1GA61Wi5ycHL+uglwHT6knQbDr+fGsYbJYLNDpdNzm4y0vJQh2J11dXe236xdX733Vs6WnpyM5OblXNwKVSuUkg1ZRUSFlJAaiEj1ADmxIoPRNMFBSUlIQFBSEX//61xg7diz+9Kc/SfqGbW1tqKyslHWekJAQqbFlXV0dQkJC3B7nzYFNmTIFkydPxqxZszBq1CgsXLgQ+/fvl3pbOa6CrFark6huZmYmmpqauBm/iooKrtJLNpuNa9sTQbC3keH5b8pbXqqxsVFKWe+rJY6rFmdfq3e1Wi1r9a5SqVBfX+/xi5Nj00tyYMSgofRNMFAMBgNWrlwJrVYrvdbY2IhDhw7h/fffx3PPPQeLxeL1PLfddpvT89tvv93tcTfffDMmTpyImJgYaeXXFytWrEBycrJPDqW0tJSb8WtpaUFaWhpXh5KVlcU1W89oNHIN6w1UXsqTwK4oLSUK7IqdqY8fP47k5GSPLXFELc6LFy+ivr4eNpsNra2t/Vq9X7hwwWvCimPTy0BFadtNsOvfgYmYzWYcPHgQb731FqZOnYqpU6fipZdewr59+yQtwxkzZmDcuHG9xnfffSfbgdXW1gIAjEYjRo0aBYPB0Oc1nThxAmvXrpVtGBz7K/EavBXqq6qquAoYi2E9Xr20BEFAQUEBKioqpEQas9nsNpHGUzmBq7RUXx0J2tvb0dDQMOgdtx1HR0cHNBqN16QjselloKK07SZYYDiwkydPIjo6GhMmTMCWLVvw8ccf47333sPzzz8v+xxyQ4iOLF++HAcPHuzz/a6uLkRERPj0LZf3vpTJZOKqUC86FF7JI4Jg1/OrrKz06Xfa2trQ3NyMhoYGJ5V31+7UYqNQRweUmpqK48ePQ6fTQa/Xo6ioSAohG43GPkPIAxk6nY6rxqXRaMSrr76Kjo4OXLp0CSaTCQUFBVCr1Th06BD27NmDnTt34o033sDFixdl/x1eTyhtuwkWGA6svLwcc+fORXV1tdPr9913Hzo7O2WdY8OGDU5JHBs3bux1THNzs5QcYrVaMWbMmF79xFxZvHgxcnJyZBsGOaoV/hy8FeMFQUBRUdGgF+E6ZnOazWakpKQ4ZXO6Knu463Ul6hvm5+c7qby7tsVxF4rjLS/VXzUQce+sqakJBoMBer0ep06dwsGDB/Hpp5/i3Xffxeuvv45Vq1bhiSeewLx58zB16lSMHz8ev/jFL3Dfffdh0qRJmDlzJhYtWoQVK1Zg48aN2LZtG+Lj4/HVV1/1mdF7vaO07SZYYDgwAIiOjsbly5dx+fJl5Ofn45lnnsGyZctk//E0NTUhNjYWY8aMQWxsLGw2GwBAr9dLCvZarRZhYWGIiIhAWFgYdu/e7fW8e/fuRVxcnGyDYrPZuIaDBMGeyXbx4kVu81mtVlmCu46p2RaLBWazGSaTSUo+KSoqQl5eniQf5RqKc8zmPHXqFPR6/aBkc/rTofRndHR0oL29HZs2bcK+fftw+vRpJCUlYf/+/YiPj8e2bdvwyiuv4Pnnn8fSpUsxZ84cxMTEIDIyEuPHj8f48eMRExODOXPmYNmyZXj++efx6quv4t1338Vnn32Gb775BiqVCgUFBaiqqkJrayuuXbuG7OxsLFq0qP9/tNc5SttuggWOA4uLi8MDDzyA3/72t9iyZQtee+01qRZMySyoS5cuISYmxieDpNFouHUWFoTBLTJ2V1htMBhw6tQpFBYWem01IqZm6/V6FBYWori4GOXl5TAajaiurkZdXR0aGxu9huJqa2t9Wgn7Y/giLyU6odraWhQXFyMrKwuJiYnYu3cvdu3aha1bt2LDhg149tlnsWjRIsyaNQvR0dGSAxo/fjymTp2KkSNH4ve//z1Wr16NN954Azt37sTnn3+Ow4cPIy0tDWfOnEFNTQ06Ojq8il/LwZdWQ4GG0rabYIHjwDo6OqQY/AcffIDDhw+jsbFxSGRBzZw5s1cnXU9DTF3mZWg9KdT7kpqt1Wplp2aLTksU2e1Pw0VfP2NaWtqgfTEQQ3Gtra0wm804c+YMPv/8czzyyCP44osv8MEHH+Ctt97CunXr8PTTT2PhwoWYPn06Jk6cKDmgqKgoPPjgg1iwYAGefPJJvPjii3jzzTfx97//HV988YXUtqW4uBh1dXXo7Ozs5YQWLFgg7eUSg4vStptggePAREwmE7Zv346FCxfi4YcfxptvvomKigoAUEwR4MMPP8TOnTtlG8Ompiafe1p5M67euv6mpqZCo9FIqdmuoTh/p2Yrsfd2/vx5j+nfohPylJTw5z//GS+++CKefPJJLFiwAA899BCioqIkdZYJEyZg2rRpWLhwIZ5++mncfffd2LRpEz788EPs3bsXJ06cQHZ2NsrLy9HY2IjLly/7ZSUkEqiqF0MRpW03wQLLgTU3N2PWrFl47bXXsGzZMrz99tv45ptvpD0sueK+Bw4cQGhoKH7yk5947CablJSEkJAQBAcHSwkg7jCbzZgxY4ZPxjYtLc1JOFUMxVmtVqfUbE/qHr6kZldWViIzM1NKzebhUPLz8/2mIuHqhNwlJXz88ce499578eqrr7pNShBHdHQ0ZsyYgUWLFuG5555zSkrYv38/kpOTkZubi8rKSthsNly9erVPB3TgwAGpVQ8RWChtuwkWWA5MrVZj4cKFAIDc3Fz87ne/Q319PWJjY306T2lpKcrLy/Hwww/36cCuXr2KoKAgGI1GqTmmp4zE+++/H5WVlTAajbJSs0+ePImTJ086heIyMjKQnZ09KKnZolahN7Vxfw6LxYJ9+/a5vRaxvqmiokJ2UkJERISUmOCYlLBy5Ups3rwZO3bswOzZs7FhwwaoVCqpJUlLSwuuXbsWsIoRxOCgtO0mWGA5MKvVisjISOl5aGgoli9fjnfffRfff/+9zwbKkwPT6XSYPXu29Hzbtm3Ytm2b0zG7du1CVFQUJkyYgLvvvhtjx47FggULZKVm19XV+TWMKGf4U6tQblLC6NGjsWDBAikpQQzFRUZGYsqUKZg3b55TUsJf//pX7Nmzp1dSQnt7uywnZDKZsHfvXp/uA4Jwh9K2m2CB5cAAYPr06fj2228BAH/729/wxhtvOL3f2Ngo+1yeHNjBgwel0CQAfPnll1i9erXTMY6hpXPnzuGxxx7zyQmo1WquwrBWqxU7duxwCsU5JiWkp6fjyJEjHpMSJkyY4BSOe+CBBzB//nz84Q9/6JWUcPToUaxfvx7r169HXV2d9CWDVkLE9YDStptggefACgoKUFBQ4PRaUVER1q9fj9DQUEyePBmAZ1kpEU8O7MCBA70c2Jo1a/q8ru7ubkRGRvrUL+rs2bMwGAwDWgX5mpTwy1/+EmFhYX0mJaxbtw5btmxxSkrQ6XQoKytDQ0ODz0kJLS0tSExMlHUsQQwllLbdBAs8ByaiUqnw7LPPIjQ0FKGhoXjhhReQkpIiW5kDGHgI0ZV169bh0KFDsh1QdXU1Nm/e3C+lBMdQnGtSwoYNG/CXv/wFH3/8ca+khJ07d2LHjh20CiIILyhtuwkWmA4sNjYWYWFhiIuLQ25ubr/P48mBXblyBaNHj4bJZJKSOIqLiz2eLyMjA0uXLu2VlLB9+3a3SQnh4eEYPnw4wsPDMXnyZMyePRtLly51Skr49NNPcfDgQaSmpvolKaGlpQWlpaU+/x5B3GgobbsJFpgOzJ06gC/G/NChQxg5ciR+9rOf4a677pJWWrW1tXjkkUek4xITEzF27FgEBQVh69atXs8rZi4+8cQTWLVqFV5//fVeSQlFRUUwm81SUsLmzZulPT2CIIYOSttuggWmAxMJhDBYc3PzkFATIQjCGaVtN8EC24ERBOFfnn76afz85z/HuHHj3L6flpaGW2+9Vdp/feuttzhfIT+Utt0EIwdGEIR80tPTkZ+f79GBPfroo5yvShmUtt0EIwfmDbmyUqNGjZLSzydOnMjxCokbGW8rou7ubqxduxbBwcEIDw9Hfn7+gOesqqoiBwZyYEMCpW+CoY4cWSnA7sCsVivHKyMI7yuixMREzJ07F93d3cjOzpbqIAeCNwd2xx13ICIiAnPnzvWamXs9o7TtJhg5MLmQAyPk4k3kOSEhAXfeeae0T/TZZ58NaD5PDmXFihXYt2+f9DwkJGTA7VY8zdfa2or29nYAduc5ZsyYAc01lFHadhOMHJhcvDmwe++9V9I9/OSTTzheGTGUkCPynJCQ0Et2bCB4ciiPPvooMjMzpeexsbEe7+OBzudKIH+xU9p2E4wcGDBwWSnAXiMGAA0NDYiIiEB6evqgXzchD28roq6uLixZsgTBwcGYPHkyqqqq+j2XHIUWng5s3rx5vRxYXl7eoM1nsVik8pWcnBzcc889AVHO4g6lbTfByIHJxZsDc+TNN9/Ee++9N8hXRMhBzoroo48+wsqVKwEA+/fvx5IlS/o9nxyR54SEBIwYMQLh4eF4/PHHYTab+z0fwDeEuGzZMowYMQLDhg3DyJEjsXv3bsTHxyM+Ph6AvXlraGgoIiIiEBMTA61W2++5hjpK226CkQOTiycH1tHRgba2NunxlClTkJSUxPPyrktsNhtmzpyJMWPGYObMmWhubnZ73E033STtF82fP9+nOeSsiGbPng2dTgfALhE2fPjwfq8a5Ig8NzU1oaurCwAQHx+P6dOn92suEU8O7Pjx405JHJMmTRrQXMSPKG27CUYOzBtyZKWMRiMiIiIQERGB0NBQWbJSBLBx40YppLd9+3Zs2rTJ7XG33HJLv+eQsyIaN24campqpOdBQUH93rfxVeT56tWruPXWW/s1F+B9RdTd3Y1Vq1YhKCgIYWFhA97/In5EadtNMHJgxI/IrXnztqckF8dwVl1dHUJCQtweNxAHJmdFFBoa2suBudPTlIMckWfHEN6hQ4cQExPTr7kIZVHadhOMHBjxI3Jq3uTsKcnltttuc3p+++23uz3u5ptvxsSJExETE4PDhw/7NAfvECLgXuQ5Li4OR44cAQBs3rxZ2ieaNm0aysrK+j0XoRxK226CkQMbyiilAuLPPmieMjzlOjAxw9NoNGLUqFEwGAyyP4ucFdGuXbuckjgWL14s+/zEjYvStptg5MCGMkqpgHiaT86eklzkhhAdWb58OQ4ePOjTPN5WRJ2dnVi0aBGCg4MxadIkGI1GHz8JcSOitO0mGDmw6wF/OrCB1rzJ2VOSy4YNG5ySODZu3NjrmObmZiljz2q1YsyYMf0OWRKEP1HadhOMHNj1AG8VEH+GED3R1NSE2NhYjBkzBrGxsbDZbAAAvV4vOUmtVouwsDBEREQgLCwMu3fv7tdcBOFvlLbdBCMHpjRDUQXE03xy9pRuNPLy8pyyGIkbA6VtN8HIgV0P8FIBkVPzBrjfUxqqyMkmdDzGaDQiOTkZDQ0NAOxZl30hvjdlypQBlRMQ1ydK226CuF7QMMai+3jvFsbYfzo81jHG5nK4pqHAv/UMkfGMsSiH5zf1/HybMfZ7l9f6YiFjbA9jbJSHY4Yxxv7DYe4ExtifZVwvQRDEDcNCxthFxthlxlgDYyy55/X/yxg70fM4iDF2pmeUMMZe53yNSrKXMfaOw/NDzPnzD+v5uY8x9m7P45sd3v9PxthYZv9yMLLntWmMsZ2MsTjG2L8YY28wxn7e8964nnOVMcYSGWPzel5/nzH28YA+CUEQBHFDEcYY+5IxtpgxtrTn8X84vC86q22Msf/uefzTnp//hzG2nTGmYoydZIy91fO7oYyx4z3nmtXz8689v7ORMfbHnsdPMsa+7ZljHWPsG/99LIIgCCKQ+UnPz6XM7nAOMcae7XntZpefLzO7s2Hsx1XZT5k95DqMMTaFMfY/jLGnGGPDGWPfMcZW9Rz3CGPsc2Z3ZocZY9WMsRxmX+1+xRi7kzH2X4wxtb8+GEEQBHFjcDNj7FPGWBVj7H+7vCfud/2B2fcRGfvRgQ1jjD3HGMtn9lWYjtnDhrcxxv7BGFvQc1wUs4cU/4sx9iFzv7/4/xhjuQP7GARBEMSNxhhmd07HGWPre14TV17iKm0Os+8RMsbY/+r5GcUYy2SM3drz/BXG2C5md3oJjLH3HI7LY3bH9gpj7EDP6yOYfeUmruCa/PR5CIIgiBuE1czucEYzxgoYYyE9r//E4Zhoxtg5l9/7NbM7sEnMnrihZYx93fPefmYPCb7PGEthjG3oeX04szu2MsZYEbOHEH/KGPsFs4cZCYIgCEIWwYwxPWPsLmZfdf2BMZbF7HtbjP3oxO5ljHUze7iwmtkd0NOMsd/2PP6SMbaC/eioZjHGHmSMLWH21du/O8zpLQ2fIAiCILyyjtlXSSLDmD2tPsjluJuZfaUVwuwp8f/GCIIgCIIgCIIgCIIgCIIgCIIgCIIgCIIgCIIgCIIgCIIgCIIgCIIgCIIgCIIgCIIgCIIgCIIgCIIgCIIgCIIgCIIgCIIgCIIgCIIgCIIgCIIgCIIgCIIgCIIgCIIgCIIgCIIgCIIgCIIgCIIgCIIgCIIgCIIgCIIgCIIgCIIgCIIgCIIgCIIgCIIIZP4/I2m9UArZRA8AAAAASUVORK5CYII=\" width=\"432\">"
      ],
      "text/plain": [
       "<IPython.core.display.HTML object>"
      ]
     },
     "metadata": {},
     "output_type": "display_data"
    }
   ],
   "source": [
    "from mpl_toolkits.mplot3d import Axes3D\n",
    "fig = plt.figure()\n",
    "ax = fig.add_subplot(111, projection='3d')\n",
    "\n",
    "ax.plot_surface(X, Y, Z, cmap=cm.coolwarm)\n",
    "\n",
    "ax.set_xlabel('X Label')\n",
    "ax.set_ylabel('Y Label')\n",
    "ax.set_zlabel('Z Label')\n",
    "\n",
    "plt.show()"
   ]
  },
  {
   "cell_type": "code",
   "execution_count": 191,
   "metadata": {},
   "outputs": [
    {
     "data": {
      "text/plain": [
       "<matplotlib.collections.PathCollection at 0x7f2ce55b1978>"
      ]
     },
     "execution_count": 191,
     "metadata": {},
     "output_type": "execute_result"
    },
    {
     "data": {
      "image/png": "[encoded data removed]",
      "text/plain": [
       "<Figure size 432x288 with 2 Axes>"
      ]
     },
     "metadata": {},
     "output_type": "display_data"
    }
   ],
   "source": [
    "import numpy as np\n",
    "\n",
    "import matplotlib.pyplot as plt\n",
    "import random\n",
    "from matplotlib import cm\n",
    "\n",
    "def fun(x, y):\n",
    "      return x**2 + y**2\n",
    "\n",
    "fig = plt.figure()\n",
    "ax = fig.add_subplot(111)\n",
    "x = y = np.arange(-1.0, 1.0, 0.05)\n",
    "X, Y = np.meshgrid(x, y)\n",
    "zs = np.array([fun(x,y) for x,y in zip(np.ravel(X), np.ravel(Y))])\n",
    "Z = zs.reshape(X.shape)\n",
    "\n",
    "plt.contourf(X,Y,Z) #reshape Z too!\n",
    "plt.colorbar()\n",
    "plt.scatter([0], [0], marker='o', s=5, zorder=10, color='red')"
   ]
  },
  {
   "cell_type": "markdown",
   "metadata": {},
   "source": [
    "### Выпуклая функция (convex function)"
   ]
  },
  {
   "cell_type": "markdown",
   "metadata": {},
   "source": [
    "#### Определение выпуклой функции\n",
    "f(θx + (1 − θ)y) ≤ θf(x) + (1 − θ)f(y).  0 <= θ <= 1\n",
    "\n",
    "\n",
    "<img src=\"convex.png\" width=500>\n",
    "\n",
    "<img src=\"convex2.png\" width=500>\n",
    "\n",
    "Функция выпукла тогда и только тогда, когда гессиан функции положительно полуопределённ.\n",
    "\n",
    "Для выпуклой функции локальный минимум равен глобальному минимому"
   ]
  },
  {
   "cell_type": "markdown",
   "metadata": {},
   "source": [
    "<img src=\"local_gloabal_extr.png\" width=3000>"
   ]
  }
 ],
 "metadata": {
  "kernelspec": {
   "display_name": "Python 3",
   "language": "python",
   "name": "python3"
  },
  "language_info": {
   "codemirror_mode": {
    "name": "ipython",
    "version": 3
   },
   "file_extension": ".py",
   "mimetype": "text/x-python",
   "name": "python",
   "nbconvert_exporter": "python",
   "pygments_lexer": "ipython3",
   "version": "3.6.1"
  }
 },
 "nbformat": 4,
 "nbformat_minor": 2
}
