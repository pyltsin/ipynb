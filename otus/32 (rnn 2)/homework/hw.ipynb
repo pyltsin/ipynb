{
 "cells": [
  {
   "cell_type": "markdown",
   "metadata": {},
   "source": [
    "RNN\n",
    "Исследование применения рекуррентных сетей для рекомендаций.\n",
    "Используя инструментарий https://github.com/rdevooght/sequence-based-recommendations сравнить представленные модели \n",
    "- Recurrent Neural Networks \n",
    "Layers: (подобрать ячейку (LSTM, GRU, Vanilla), количество и мощность слоев, проверить эффективность использования embeddings и двунаправленности )\n",
    "Update mechanism (оптимизаторы, learning rate)\n",
    "Noise (Dropout)\n",
    "Other options (размер миги-батчей, последовательностей)\n",
    "(! Строим рекомендации с учетом категорий в которых пользователь уже покупал - необходимо обучать модели с параметром -- repeated_interactions )\n",
    "- Latent Trajectory Modeling\n",
    "- Bayesian personalized ranking (BPR-MF)\n",
    "- Fusing Similarity Models with Markov Chains for Sparse Sequential Recommendation (Fossil)\n",
    "\n",
    "Метрики:\n",
    "recall, sps, item_coverage, user_coverage\n",
    "\n",
    "В качестве простых baselines использовать Markov Chain, KNN, POP\n",
    "\n",
    "\n",
    "\n",
    "Оценить применимость и оптимальность этих моделей для решения задачи рекомендаций отдельно в случае short term prediction (sps) и long term prediction (recall).\n"
   ]
  },
  {
   "cell_type": "markdown",
   "metadata": {},
   "source": [
    "В соответствии с комментариями преподавателя можно рассмотреть только RNN"
   ]
  },
  {
   "cell_type": "code",
   "execution_count": 1,
   "metadata": {},
   "outputs": [],
   "source": [
    "import pandas as pd"
   ]
  },
  {
   "cell_type": "code",
   "execution_count": 33,
   "metadata": {},
   "outputs": [],
   "source": [
    "df = pd.read_csv('TransactionsOTUS.csv', sep=',', names=list('ritu'), index_col=False,usecols=range(4), engine='python')"
   ]
  },
  {
   "cell_type": "code",
   "execution_count": 34,
   "metadata": {},
   "outputs": [
    {
     "data": {
      "text/html": [
       "<div>\n",
       "<style scoped>\n",
       "    .dataframe tbody tr th:only-of-type {\n",
       "        vertical-align: middle;\n",
       "    }\n",
       "\n",
       "    .dataframe tbody tr th {\n",
       "        vertical-align: top;\n",
       "    }\n",
       "\n",
       "    .dataframe thead th {\n",
       "        text-align: right;\n",
       "    }\n",
       "</style>\n",
       "<table border=\"1\" class=\"dataframe\">\n",
       "  <thead>\n",
       "    <tr style=\"text-align: right;\">\n",
       "      <th></th>\n",
       "      <th>r</th>\n",
       "      <th>i</th>\n",
       "      <th>t</th>\n",
       "      <th>u</th>\n",
       "    </tr>\n",
       "  </thead>\n",
       "  <tbody>\n",
       "    <tr>\n",
       "      <th>0</th>\n",
       "      <td>2.0</td>\n",
       "      <td>4814</td>\n",
       "      <td>2018-09-28 23:11:22.0000000</td>\n",
       "      <td>2819090</td>\n",
       "    </tr>\n",
       "    <tr>\n",
       "      <th>1</th>\n",
       "      <td>2.0</td>\n",
       "      <td>4814</td>\n",
       "      <td>2018-09-28 20:50:12.0000000</td>\n",
       "      <td>3803173</td>\n",
       "    </tr>\n",
       "    <tr>\n",
       "      <th>2</th>\n",
       "      <td>2.0</td>\n",
       "      <td>4814</td>\n",
       "      <td>2018-09-28 20:54:09.0000000</td>\n",
       "      <td>6087397</td>\n",
       "    </tr>\n",
       "    <tr>\n",
       "      <th>3</th>\n",
       "      <td>2.0</td>\n",
       "      <td>4814</td>\n",
       "      <td>2018-09-28 20:58:12.0000000</td>\n",
       "      <td>6087397</td>\n",
       "    </tr>\n",
       "    <tr>\n",
       "      <th>4</th>\n",
       "      <td>2.0</td>\n",
       "      <td>4814</td>\n",
       "      <td>2018-09-28 21:25:12.0000000</td>\n",
       "      <td>5409942</td>\n",
       "    </tr>\n",
       "  </tbody>\n",
       "</table>\n",
       "</div>"
      ],
      "text/plain": [
       "     r     i                            t        u\n",
       "0  2.0  4814  2018-09-28 23:11:22.0000000  2819090\n",
       "1  2.0  4814  2018-09-28 20:50:12.0000000  3803173\n",
       "2  2.0  4814  2018-09-28 20:54:09.0000000  6087397\n",
       "3  2.0  4814  2018-09-28 20:58:12.0000000  6087397\n",
       "4  2.0  4814  2018-09-28 21:25:12.0000000  5409942"
      ]
     },
     "execution_count": 34,
     "metadata": {},
     "output_type": "execute_result"
    }
   ],
   "source": [
    "df.head()"
   ]
  },
  {
   "cell_type": "code",
   "execution_count": 11,
   "metadata": {},
   "outputs": [
    {
     "name": "stdout",
     "output_type": "stream",
     "text": [
      "usage: preprocess.py [-h] -f FILENAME [--columns COLUMNS] [--sep SEP]\n",
      "                     [--min_user_activity MIN_USER_ACTIVITY]\n",
      "                     [--min_item_pop MIN_ITEM_POP] [--val_size VAL_SIZE]\n",
      "                     [--test_size TEST_SIZE] [--seed SEED]\n",
      "\n",
      "optional arguments:\n",
      "  -h, --help            show this help message and exit\n",
      "  -f FILENAME           Input file\n",
      "  --columns COLUMNS     Order of the columns in the file (eg: \"uirt\"), u for\n",
      "                        user, i for item, t for timestamp, r for rating. If r\n",
      "                        is not present a default rating of 1 is given to all\n",
      "                        interaction. If t is not present interactions are\n",
      "                        assumed to be in chronological order. Extra columns\n",
      "                        are ignored. Default: uit\n",
      "  --sep SEP             Separator between the column. If unspecified pandas\n",
      "                        will try to guess the separator\n",
      "  --min_user_activity MIN_USER_ACTIVITY\n",
      "                        Users with less interactions than this will be removed\n",
      "                        from the dataset. Default: 2\n",
      "  --min_item_pop MIN_ITEM_POP\n",
      "                        Items with less interactions than this will be removed\n",
      "                        from the dataset. Default: 5\n",
      "  --val_size VAL_SIZE   Number of users to put in the validation set. If in\n",
      "                        (0,1) it will be interpreted as the fraction of total\n",
      "                        number of users. Default: 0.1\n",
      "  --test_size TEST_SIZE\n",
      "                        Number of users to put in the test set. If in (0,1) it\n",
      "                        will be interpreted as the fraction of total number of\n",
      "                        users. Default: 0.1\n",
      "  --seed SEED           Seed for the random train/val/test split\n"
     ]
    }
   ],
   "source": [
    "! python \"C:\\Users\\1\\projects\\ipynb\\otus\\32 (rnn 2)\\homework\\sequence-based-recommendations-master\\preprocess.py\" --help"
   ]
  },
  {
   "cell_type": "code",
   "execution_count": 51,
   "metadata": {},
   "outputs": [
    {
     "name": "stdout",
     "output_type": "stream",
     "text": [
      "This program will create a lot of files and directories in C:\\Users\\1\\projects\\ipynb\\otus\\32 (rnn 2)\\homework/\n",
      "Load data...\n",
      "Sort data in chronological order...\n",
      "Remove inactive users and rare items...\n",
      "            r     i          t        u\n",
      "3498175  0.52  5964 2018-09-01  6076456\n",
      "Map original users and items ids to consecutive numerical ids...\n",
      "Save ids mapping to file...\n",
      "Split data into training, validation and test sets...\n",
      "Save training, validation and test sets in the triplets format...\n",
      "Save the training set in the sequences format...\n",
      "Save the validation set in the sequences format...\n",
      "Save the test set in the sequences format...\n",
      "Save the extended training set in the sequences format...\n",
      "Save stats...\n",
      "Data ready!\n",
      "            r    i          t       u u_original i_original\n",
      "3498175  0.52  148 2018-09-01  399066    6076456       5964\n",
      "3476257  3.90  148 2018-09-01  298765    5254295       5964\n",
      "3476258  5.05  148 2018-09-01  287408    5183101       5964\n",
      "3476259  0.80  148 2018-09-01  123258    3020099       5964\n",
      "3476260  2.32  148 2018-09-01  321671    5435330       5964\n",
      "3476261  4.07  148 2018-09-01  320925    5430799       5964\n",
      "3476262  0.14  148 2018-09-01  317987    5405756       5964\n",
      "3476263  6.81  148 2018-09-01  345054    5659851       5964\n",
      "3476264  4.29  148 2018-09-01  352045    5716636       5964\n",
      "3476265  1.99  148 2018-09-01  341642    5642363       5964\n"
     ]
    }
   ],
   "source": [
    "! python \"C:\\Users\\1\\projects\\ipynb\\otus\\32 (rnn 2)\\homework\\sequence-based-recommendations-master\\preprocess.py\" -f \"C:\\Users\\1\\projects\\ipynb\\otus\\32 (rnn 2)\\homework\\TransactionsOTUS.csv\" --columns ritu --sep ',' "
   ]
  },
  {
   "cell_type": "markdown",
   "metadata": {},
   "source": [
    "Выполнили подготовку данных"
   ]
  },
  {
   "cell_type": "code",
   "execution_count": 82,
   "metadata": {},
   "outputs": [
    {
     "name": "stdout",
     "output_type": "stream",
     "text": [
      "Compiling train...\n",
      "Compilation done.\n",
      "Compiling test...\n",
      "Compilation done.\n",
      "Opening file (1)\n"
     ]
    },
    {
     "name": "stderr",
     "output_type": "stream",
     "text": [
      "C:\\ProgramData\\Anaconda3\\lib\\site-packages\\smart_open\\ssh.py:34: UserWarning: paramiko missing, opening SSH/SCP/SFTP paths will be disabled.  `pip install paramiko` to suppress\n",
      "  warnings.warn('paramiko missing, opening SSH/SCP/SFTP paths will be disabled.  `pip install paramiko` to suppress')\n",
      "C:\\ProgramData\\Anaconda3\\lib\\site-packages\\gensim\\utils.py:1197: UserWarning: detected Windows; aliasing chunkize to chunkize_serial\n",
      "  warnings.warn(\"detected Windows; aliasing chunkize to chunkize_serial\")\n",
      "Traceback (most recent call last):\n",
      "  File \".\\sequence-based-recommendations-master\\train.py\", line 60, in <module>\n",
      "    main()\n",
      "  File \".\\sequence-based-recommendations-master\\train.py\", line 57, in main\n",
      "    validation_metrics=args.metrics.split(','))\n",
      "  File \"C:\\Users\\1\\projects\\ipynb\\otus\\32 (rnn 2)\\homework\\sequence-based-recommendations-master\\neural_networks\\rnn_base.py\", line 289, in train\n",
      "    batch = next(batch_generator)\n",
      "  File \"C:\\Users\\1\\projects\\ipynb\\otus\\32 (rnn 2)\\homework\\sequence-based-recommendations-master\\neural_networks\\rnn_base.py\", line 420, in _gen_mini_batch\n",
      "    yield self._prepare_input(sequences)\n",
      "  File \"C:\\Users\\1\\projects\\ipynb\\otus\\32 (rnn 2)\\homework\\sequence-based-recommendations-master\\neural_networks\\rnn_one_hot.py\", line 100, in _prepare_input\n",
      "    X[i, :len(in_seq), :] = seq_features # Copy sequences into X\n",
      "TypeError: int() argument must be a string, a bytes-like object or a number, not 'map'\n"
     ]
    }
   ],
   "source": [
    "! python \".\\sequence-based-recommendations-master\\train.py\" -d \"./\" -m RNN"
   ]
  },
  {
   "cell_type": "markdown",
   "metadata": {},
   "source": [
    "Дальнейшая работа выполнялась в docker контейнере, так как слишком много ошибок. Результаты по валидации. Тестовые результаты не работают"
   ]
  },
  {
   "cell_type": "markdown",
   "metadata": {},
   "source": [
    "UserKNN, MM и другие простые модели НЕ реализованы в данной версии и поэтому рассматриваются только RNN"
   ]
  },
  {
   "cell_type": "raw",
   "metadata": {},
   "source": [
    " python train.py -d ../data/ -m RNN"
   ]
  },
  {
   "cell_type": "markdown",
   "metadata": {},
   "source": [
    "Результат выполнения:"
   ]
  },
  {
   "cell_type": "raw",
   "metadata": {},
   "source": [
    "recall :  0.0664562923115\n",
    "sps :  0.0751137917891\n",
    "Best  sps :  0.0751137917891\n",
    "blockbuster_share :  0.771206980126\n",
    "item_coverage :  42\n",
    "ndcg :  0.0586234842977\n",
    "user_coverage :  0.13365770533"
   ]
  },
  {
   "cell_type": "markdown",
   "metadata": {},
   "source": [
    "Теперь тоже самое выполним для repeated"
   ]
  },
  {
   "cell_type": "markdown",
   "metadata": {},
   "source": [
    "python train.py -d ../data/ --max_iter 20 --repeated_interactions -m RNN"
   ]
  },
  {
   "cell_type": "raw",
   "metadata": {},
   "source": [
    "recall :  0.656592972759\n",
    "sps :  0.831341509899\n",
    "Best  sps :  0.831341509899\n",
    "blockbuster_share :  0.957484376089\n",
    "item_coverage :  55\n",
    "ndcg :  0.675522421801\n",
    "user_coverage :  0.900535886455"
   ]
  },
  {
   "cell_type": "markdown",
   "metadata": {},
   "source": [
    "Гораздо лучше)"
   ]
  },
  {
   "cell_type": "markdown",
   "metadata": {},
   "source": [
    "Обучим аналогично LSTM"
   ]
  },
  {
   "cell_type": "raw",
   "metadata": {},
   "source": [
    "python train.py -d ../data/ --max_iter 20 --repeated_interactions --r_t LSTM -m RNN"
   ]
  },
  {
   "cell_type": "raw",
   "metadata": {},
   "source": [
    "recall :  0.675405789543\n",
    "sps :  0.874795399\n",
    "Best  sps :  0.874795399\n",
    "blockbuster_share :  0.945759305582\n",
    "item_coverage :  48\n",
    "ndcg :  0.71477636145\n",
    "user_coverage :  0.946613152761"
   ]
  },
  {
   "cell_type": "markdown",
   "metadata": {},
   "source": [
    "Лучше. Используем как основную дальше, но добавим двунаправленность"
   ]
  },
  {
   "cell_type": "raw",
   "metadata": {},
   "source": [
    "python train.py -d ../data/ --max_iter 20 --repeated_interactions --r_bi --r_t LSTM -m RNN"
   ]
  },
  {
   "cell_type": "raw",
   "metadata": {},
   "source": [
    "recall :  0.687822637627\n",
    "sps :  0.89333841566\n",
    "Best  sps :  0.89333841566\n",
    "blockbuster_share :  0.950598494509\n",
    "item_coverage :  39\n",
    "ndcg :  0.723981978075\n",
    "user_coverage :  0.954864458844"
   ]
  },
  {
   "cell_type": "markdown",
   "metadata": {},
   "source": [
    "Выигрыш есть, но очень небольшой. Теперь посмотрим embedding"
   ]
  },
  {
   "cell_type": "raw",
   "metadata": {},
   "source": [
    "python train.py -d ../data/ --max_iter 20 --repeated_interactions --r_emb 50 --r_t LSTM -m RNN"
   ]
  },
  {
   "cell_type": "raw",
   "metadata": {},
   "source": [
    "recall :  0.715502753168\n",
    "sps :  0.935783313527\n",
    "Best  sps :  0.935783313527\n",
    "blockbuster_share :  0.883153253732\n",
    "item_coverage :  14\n",
    "ndcg :  0.74607555926\n",
    "user_coverage :  0.978990560326"
   ]
  },
  {
   "cell_type": "markdown",
   "metadata": {},
   "source": [
    "Самое лучшее значение. Добавим слоев"
   ]
  },
  {
   "cell_type": "raw",
   "metadata": {},
   "source": [
    "python train.py -d ../data/ --max_iter 20 --repeated_interactions --r_emb 50 --r_l 32-32 --r_t LSTM -m RNN"
   ]
  },
  {
   "cell_type": "raw",
   "metadata": {},
   "source": [
    "recall :  0.715169217045\n",
    "sps :  0.934011973363\n",
    "Best  sps :  0.934011973363\n",
    "blockbuster_share :  0.887924966231\n",
    "item_coverage :  12\n",
    "ndcg :  0.74663854896\n",
    "user_coverage :  0.978878450189"
   ]
  },
  {
   "cell_type": "markdown",
   "metadata": {},
   "source": [
    "не помогло, скорее всего переобучается"
   ]
  },
  {
   "cell_type": "markdown",
   "metadata": {},
   "source": [
    "Изменим на adagard"
   ]
  },
  {
   "cell_type": "code",
   "execution_count": null,
   "metadata": {},
   "outputs": [],
   "source": [
    "python train.py -d ../data/ --max_iter 20 --repeated_interactions --r_emb 50 --r_l 32-32 --r_t LSTM -m RNN"
   ]
  },
  {
   "cell_type": "raw",
   "metadata": {},
   "source": [
    "recall :  0.698979087029\n",
    "sps :  0.90782304536\n",
    "Best  sps :  0.90782304536\n",
    "blockbuster_share :  0.93784788506\n",
    "item_coverage :  21\n",
    "ndcg :  0.738144336066\n",
    "user_coverage :  0.967734702572"
   ]
  },
  {
   "cell_type": "markdown",
   "metadata": {},
   "source": [
    "Добавим dropout"
   ]
  },
  {
   "cell_type": "raw",
   "metadata": {},
   "source": [
    "python train.py -d ../data/ --max_iter 20 --repeated_interactions --n_dropout 0.2 --r_emb 50 --r_t LSTM -m RNN"
   ]
  },
  {
   "cell_type": "raw",
   "metadata": {},
   "source": [
    "recall :  0.7222383464\n",
    "sps :  0.945626583556\n",
    "Best  sps :  0.945626583556\n",
    "blockbuster_share :  0.865482327634\n",
    "item_coverage :  16\n",
    "ndcg :  0.749872889283\n",
    "user_coverage :  0.981232763066"
   ]
  },
  {
   "cell_type": "markdown",
   "metadata": {},
   "source": [
    "немного улучшилось"
   ]
  },
  {
   "cell_type": "markdown",
   "metadata": {},
   "source": [
    "Изменим размер батча"
   ]
  },
  {
   "cell_type": "raw",
   "metadata": {},
   "source": [
    "python train.py -d ../data/ --max_iter 20 --repeated_interactions -b 32 --n_dropout 0.2 --r_emb 50 --r_t LSTM -m RNN"
   ]
  },
  {
   "cell_type": "raw",
   "metadata": {},
   "source": [
    "recall :  0.72369464259\n",
    "sps :  0.9469719052\n",
    "Best  sps :  0.9469719052\n",
    "blockbuster_share :  0.859932932896\n",
    "item_coverage :  13\n",
    "ndcg :  0.745984770906\n",
    "user_coverage :  0.982421130519"
   ]
  },
  {
   "cell_type": "markdown",
   "metadata": {},
   "source": [
    "ничего не изменилось. Теперь попробуем BRM-MF"
   ]
  },
  {
   "cell_type": "code",
   "execution_count": null,
   "metadata": {},
   "outputs": [],
   "source": [
    "python train.py -d ../data/ --max_iter 20 --repeated_interactions -m BPR-MF"
   ]
  },
  {
   "cell_type": "raw",
   "metadata": {},
   "source": [
    "recall :  0.0038509164798\n",
    "sps :  0.00477589183614\n",
    "Best  sps :  0.00482073589094\n",
    "blockbuster_share :  0.239005736138\n",
    "item_coverage :  74\n",
    "ndcg :  0.00221175887351\n",
    "user_coverage :  0.0114576560013"
   ]
  },
  {
   "cell_type": "markdown",
   "metadata": {},
   "source": [
    "Плохо. Теперь попробуем Fossil"
   ]
  },
  {
   "cell_type": "raw",
   "metadata": {},
   "source": [
    "python train.py -d ../data/ --max_iter 20 --repeated_interactions -m Fossil"
   ]
  },
  {
   "cell_type": "raw",
   "metadata": {},
   "source": [
    "recall :  0.00348998333447\n",
    "sps :  0.00381174465795\n",
    "Best  sps :  0.00511222224714\n",
    "blockbuster_share :  0.252010723861\n",
    "item_coverage :  50\n",
    "ndcg :  0.0023051367881\n",
    "user_coverage :  0.00834099419269"
   ]
  },
  {
   "cell_type": "markdown",
   "metadata": {},
   "source": [
    "Похоже надо настраивать. Наибольшее качество получено на  python train.py -d ../data/ --max_iter 20 --repeated_interactions --n_dropout 0.2 --r_emb 50 --r_t LSTM -m RNN"
   ]
  }
 ],
 "metadata": {
  "kernelspec": {
   "display_name": "Python 3",
   "language": "python",
   "name": "python3"
  },
  "language_info": {
   "codemirror_mode": {
    "name": "ipython",
    "version": 3
   },
   "file_extension": ".py",
   "mimetype": "text/x-python",
   "name": "python",
   "nbconvert_exporter": "python",
   "pygments_lexer": "ipython3",
   "version": "3.7.1"
  }
 },
 "nbformat": 4,
 "nbformat_minor": 2
}
