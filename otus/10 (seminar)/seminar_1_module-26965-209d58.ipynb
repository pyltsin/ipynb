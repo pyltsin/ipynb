{
 "cells": [
  {
   "cell_type": "markdown",
   "metadata": {},
   "source": [
    "<style>\n",
    "div.input {\n",
    "    display:none;\n",
    "}\n",
    "    hello\n",
    "</style>"
   ]
  },
  {
   "cell_type": "markdown",
   "metadata": {},
   "source": [
    "## Регламент\n",
    "На задачу дается от 3 до 10 минут. Решения на написание кода, скидывайте в gist.github.com, на математику -- пишите ответы.\n",
    "\n",
    "После отведенного времени, разбираем решения и обсуждаем, как научиться такие же задачи решать. Тематически задачи соответствуют пройденным лекциям."
   ]
  },
  {
   "cell_type": "markdown",
   "metadata": {},
   "source": [
    "## Задача 1. Python + алгоритмы\n",
    "В массиве длины 100 находятся различные числа в отрезке [0, 100]. Найдите числи из отрезка [0, 100], которого нет в массиве."
   ]
  },
  {
   "cell_type": "code",
   "execution_count": 1,
   "metadata": {},
   "outputs": [],
   "source": [
    "set(range(101)) - set(lst)"
   ]
  },
  {
   "cell_type": "code",
   "execution_count": null,
   "metadata": {},
   "outputs": [],
   "source": []
  },
  {
   "cell_type": "markdown",
   "metadata": {},
   "source": [
    "## Задача 2. Python + алгоритмы\n",
    "Переверните связанный список."
   ]
  },
  {
   "cell_type": "code",
   "execution_count": 36,
   "metadata": {},
   "outputs": [],
   "source": [
    "class Node():\n",
    "    def __init__(self, value, nex):\n",
    "        self.value = value\n",
    "        self.nex = nex\n",
    "\n",
    "class LinkedList():\n",
    "    def __init__(self):\n",
    "        self.head = None\n",
    "    def add(self, value):\n",
    "        if(self.head is None):\n",
    "            self.head = Node(value, None)\n",
    "        else:\n",
    "            prev  = self.head\n",
    "            self.head = Node(value, self.head)\n",
    "        return self\n",
    "    def print(self):\n",
    "        head = self.head\n",
    "        while head.nex is not None:\n",
    "            print (head.value)\n",
    "            head = head.nex\n",
    "        print(head.value)\n",
    "    def reverse(self):\n",
    "        head = self.head\n",
    "        nex = head.nex\n",
    "        head.nex = None\n",
    "        while nex is not None:\n",
    "            nex.nex = head\n",
    "            head = nex\n",
    "            nex = head.nex\n",
    "        self.head = head\n",
    "        "
   ]
  },
  {
   "cell_type": "code",
   "execution_count": 37,
   "metadata": {},
   "outputs": [],
   "source": [
    "ll = LinkedList()"
   ]
  },
  {
   "cell_type": "code",
   "execution_count": 38,
   "metadata": {},
   "outputs": [
    {
     "data": {
      "text/plain": [
       "<__main__.LinkedList at 0x8ee2db9e80>"
      ]
     },
     "execution_count": 38,
     "metadata": {},
     "output_type": "execute_result"
    }
   ],
   "source": [
    "ll.add(1).add(2).add(3)"
   ]
  },
  {
   "cell_type": "code",
   "execution_count": 39,
   "metadata": {},
   "outputs": [
    {
     "name": "stdout",
     "output_type": "stream",
     "text": [
      "3\n",
      "2\n",
      "1\n"
     ]
    }
   ],
   "source": [
    "ll.print()"
   ]
  },
  {
   "cell_type": "code",
   "execution_count": null,
   "metadata": {},
   "outputs": [],
   "source": [
    "ll.reverse()"
   ]
  },
  {
   "cell_type": "code",
   "execution_count": null,
   "metadata": {},
   "outputs": [],
   "source": []
  },
  {
   "cell_type": "markdown",
   "metadata": {},
   "source": [
    "## Задача 3. Теория вероятностей\n",
    "5 людей сидят за круглым столом. Какая вероятность того, что двое из них окажутся рядом?"
   ]
  },
  {
   "cell_type": "markdown",
   "metadata": {},
   "source": [
    "## Задача 4. Теория вероятностей\n",
    "\n",
    "Монетку подбрасывают до первого выпадения орла. Какое в среднем количество подбрасываний нужно сделать? "
   ]
  },
  {
   "cell_type": "markdown",
   "metadata": {},
   "source": [
    "## Задача 5. Теория вероятностей\n",
    "Есть n писем и n конвертов. Сколько писем попадут в нужные конверты, если их разложить случайно"
   ]
  },
  {
   "cell_type": "markdown",
   "metadata": {},
   "source": [
    "## Задача 6. Линейная алгебра\n",
    "Решите систему линейных уравнений:\n",
    "$$ x + y + z = 35 $$\n",
    "$$ 2x + 4y + 17z = 94 $$\n",
    "$$ y + 2 z = 118 $$"
   ]
  },
  {
   "cell_type": "markdown",
   "metadata": {},
   "source": [
    "## Задача 7. Pandas\n",
    "\n",
    "Даны 2 списка `index1 = [0, 1, 2]` и `index2 = list(range(15))`, создайте MultiIndex из декартова произведения двух этих списков. Проиндексирует ряд (`Series` из 45 случайных чисел)"
   ]
  },
  {
   "cell_type": "markdown",
   "metadata": {},
   "source": [
    "## Задача 8. Pandas\n",
    "\n",
    "Просуммируйте элементы ряда S на первом уровне. Должен получиться ряд, состоящий из 3 элементов: сумм для индексов 0, 1, 2.\n",
    "\n",
    "И еще одним способом."
   ]
  },
  {
   "cell_type": "markdown",
   "metadata": {},
   "source": [
    "## Задача 9. Метрические алгоритмы классификации\n",
    "\n",
    "У вас есть данные о дружбе людей в социальных сетях, пользователи разделены на несколько классов в обучающей выборке. Можем ли мы использовать метрические алгоритмы классификации? Какую нужно выбрать метрику?\n",
    "\n",
    "Что делать если число пользователей огромное ($10^9$), а классификацию нужно отдавать для нового пользователя быстро."
   ]
  },
  {
   "cell_type": "markdown",
   "metadata": {},
   "source": [
    "## Задача 10. Теория ML\n",
    "Что такое регуляризация? Можно ли скомбинировать $L_1$ и $L_2$ регуляризацию? Как?"
   ]
  },
  {
   "cell_type": "markdown",
   "metadata": {},
   "source": [
    "## Задача 11. SVM\n",
    "Придумайте ядро, которое позволит провести разделяющую поверхность <br> \n",
    "а) $x_1^2 + x_2^2 = 2$ <br>\n",
    "б) $x_1^2 + x_2 ^2 + 2x_1x_2 = 2$ <br>"
   ]
  },
  {
   "cell_type": "markdown",
   "metadata": {},
   "source": [
    "# Python + алгоритмы"
   ]
  },
  {
   "cell_type": "markdown",
   "metadata": {},
   "source": [
    "## Решение 1"
   ]
  },
  {
   "cell_type": "code",
   "execution_count": 1,
   "metadata": {
    "collapsed": true
   },
   "outputs": [
    {
     "ename": "NameError",
     "evalue": "name 'xrange' is not defined",
     "output_type": "error",
     "traceback": [
      "\u001b[0;31m---------------------------------------------------------------------------\u001b[0m",
      "\u001b[0;31mNameError\u001b[0m                                 Traceback (most recent call last)",
      "\u001b[0;32m<ipython-input-1-419515768cb0>\u001b[0m in \u001b[0;36m<module>\u001b[0;34m()\u001b[0m\n\u001b[0;32m----> 1\u001b[0;31m \u001b[0msum\u001b[0m\u001b[0;34m(\u001b[0m\u001b[0mxrange\u001b[0m\u001b[0;34m(\u001b[0m\u001b[0ma\u001b[0m\u001b[0;34m[\u001b[0m\u001b[0;36m0\u001b[0m\u001b[0;34m]\u001b[0m\u001b[0;34m,\u001b[0m\u001b[0ma\u001b[0m\u001b[0;34m[\u001b[0m\u001b[0;34m-\u001b[0m\u001b[0;36m1\u001b[0m\u001b[0;34m]\u001b[0m\u001b[0;34m+\u001b[0m\u001b[0;36m1\u001b[0m\u001b[0;34m)\u001b[0m\u001b[0;34m)\u001b[0m \u001b[0;34m-\u001b[0m \u001b[0msum\u001b[0m\u001b[0;34m(\u001b[0m\u001b[0ma\u001b[0m\u001b[0;34m)\u001b[0m\u001b[0;34m\u001b[0m\u001b[0m\n\u001b[0m",
      "\u001b[0;31mNameError\u001b[0m: name 'xrange' is not defined"
     ]
    }
   ],
   "source": [
    "sum(range(0, 100) - sum(a)"
   ]
  },
  {
   "cell_type": "markdown",
   "metadata": {},
   "source": [
    "## Решение 2"
   ]
  },
  {
   "cell_type": "code",
   "execution_count": 4,
   "metadata": {},
   "outputs": [],
   "source": [
    "class Node: \n",
    "    def __init__(self, data): \n",
    "        self.data = data \n",
    "        self.next = None\n",
    "\n",
    "class LinkedList:\n",
    "    def __init__(self): \n",
    "        self.head = None\n",
    "  \n",
    "    def reverse(self): \n",
    "        prev = None\n",
    "        current = self.head \n",
    "        while(current is not None): \n",
    "            next = current.next\n",
    "            current.next = prev \n",
    "            prev = current \n",
    "            current = next\n",
    "        self.head = prev \n",
    "          \n",
    "    def push(self, new_data): \n",
    "        new_node = Node(new_data) \n",
    "        new_node.next = self.head \n",
    "        self.head = new_node \n",
    "  \n",
    "    def printList(self): \n",
    "        temp = self.head \n",
    "        while(temp): \n",
    "            print(temp.data)\n",
    "            temp = temp.next"
   ]
  },
  {
   "cell_type": "markdown",
   "metadata": {},
   "source": [
    "## Рекомендации\n",
    "[Кормен Алгоритмы](https://www.ozon.ru/context/detail/id/33769775/) <br>\n",
    "[Сайт с большим количеством практических задач](https://www.hackerrank.com) <br>\n",
    "Python Cookbook David Beazley & Brian K. Jones (O’Reilly, 3rd edition, 2013)"
   ]
  },
  {
   "cell_type": "markdown",
   "metadata": {},
   "source": [
    "## Задача 3\n",
    "\n",
    "$\\frac{1}{2}$"
   ]
  },
  {
   "cell_type": "markdown",
   "metadata": {},
   "source": [
    "## Задача 4\n",
    "\n",
    "Нужно посчитать $$\\sum{\\frac{k}{2^k}} = \\sum_{k = 1}^\\infty{\\frac{1}{2^k}} + \\sum_{k = 2}^\\infty{\\frac{1}{2^k}} + \\sum_{k = 3}^\\infty{\\frac{1}{2^k}} + ... = (\\sum_{k = 1}^\\infty{\\frac{1}{2^k}}) (1 + \\frac{1}{2} + \\frac{1}{4} + ...) = 2$$"
   ]
  },
  {
   "cell_type": "markdown",
   "metadata": {},
   "source": [
    "## Задача 5\n",
    "Рассмотрим величину $I_k$, $I_k = 1$, если $k$-е письмо попадет в свой конверт, $E(I_k) = \\frac{1}{n}$ $\\sum{E(I_k)} = n * \\frac{1}{n} = 1$"
   ]
  },
  {
   "cell_type": "markdown",
   "metadata": {},
   "source": [
    "## Дополнительные материалы по теории вероятностей и комбинаторике\n",
    "[Виленкин Комбинаторика](https://www.ozon.ru/context/detail/id/5106393/)<br>\n",
    "[Ширяев Теория Вероятностей (I, II, задачи)](https://www.ozon.ru/context/detail/id/19679988/)"
   ]
  },
  {
   "cell_type": "markdown",
   "metadata": {},
   "source": [
    "## Задача 6"
   ]
  },
  {
   "cell_type": "code",
   "execution_count": 27,
   "metadata": {},
   "outputs": [
    {
     "name": "stdout",
     "output_type": "stream",
     "text": [
      "[-102.27272727  156.54545455  -19.27272727]\n"
     ]
    }
   ],
   "source": [
    "import numpy as np\n",
    "\n",
    "# Solving following system of linear equation\n",
    "# 1a + 1b = 35\n",
    "# 2a + 4b = 94\n",
    "\n",
    "a = np.array([[1, 1, 1], [2, 4, 17], [0, 1, 2]])\n",
    "b = np.array([35, 94, 118])\n",
    "\n",
    "print(np.linalg.solve(a,b))"
   ]
  },
  {
   "cell_type": "markdown",
   "metadata": {},
   "source": [
    "## Дополнительные материалы по линейной алгебре\n",
    "\n",
    "[Документация numpy по методам LA](https://docs.scipy.org/doc/numpy-1.15.1/reference/routines.linalg.html)<br>\n",
    "[Введение в python и линейную алгебру](https://web.stanford.edu/class/cs231a/section/section1.pdf)"
   ]
  },
  {
   "cell_type": "markdown",
   "metadata": {},
   "source": [
    "## Задача 7"
   ]
  },
  {
   "cell_type": "code",
   "execution_count": 22,
   "metadata": {},
   "outputs": [
    {
     "name": "stdout",
     "output_type": "stream",
     "text": [
      "0.006825054645890005\n"
     ]
    }
   ],
   "source": [
    "import pandas as pd\n",
    "\n",
    "index1 = [0, 1, 2]\n",
    "index2 = list(range(15))\n",
    "\n",
    "mi = pd.MultiIndex.from_product([index1, index2])\n",
    "s = pd.Series(np.random.rand(45), index=mi)\n",
    "print(s[0][0])"
   ]
  },
  {
   "cell_type": "markdown",
   "metadata": {},
   "source": [
    "## Задача 8"
   ]
  },
  {
   "cell_type": "code",
   "execution_count": 23,
   "metadata": {},
   "outputs": [
    {
     "data": {
      "text/plain": [
       "0    7.566287\n",
       "1    8.750472\n",
       "2    8.443908\n",
       "dtype: float64"
      ]
     },
     "execution_count": 23,
     "metadata": {},
     "output_type": "execute_result"
    }
   ],
   "source": [
    "s.sum(level=0)"
   ]
  },
  {
   "cell_type": "code",
   "execution_count": 28,
   "metadata": {},
   "outputs": [
    {
     "name": "stdout",
     "output_type": "stream",
     "text": [
      "         0         1         2         3         4         5         6   \\\n",
      "0  0.006825  0.982500  0.567847  0.065146  0.504755  0.432261  0.387030   \n",
      "1  0.929745  0.796444  0.387119  0.275748  0.433478  0.946451  0.995718   \n",
      "2  0.968710  0.562259  0.486462  0.204575  0.915541  0.964583  0.834730   \n",
      "\n",
      "         7         8         9         10        11        12        13  \\\n",
      "0  0.031238  0.259832  0.927717  0.610719  0.859796  0.918614  0.867674   \n",
      "1  0.426147  0.575937  0.823219  0.113731  0.551377  0.543273  0.906404   \n",
      "2  0.390857  0.078934  0.534981  0.284150  0.359350  0.581274  0.528160   \n",
      "\n",
      "         14  \n",
      "0  0.144333  \n",
      "1  0.045681  \n",
      "2  0.749341  \n"
     ]
    },
    {
     "data": {
      "text/plain": [
       "0    7.566287\n",
       "1    8.750472\n",
       "2    8.443908\n",
       "dtype: float64"
      ]
     },
     "execution_count": 28,
     "metadata": {},
     "output_type": "execute_result"
    }
   ],
   "source": [
    "print(s.unstack())\n",
    "s.unstack().sum(axis=1)"
   ]
  },
  {
   "cell_type": "markdown",
   "metadata": {},
   "source": [
    "## Дополнительные материалы по pandas\n",
    "\n",
    "[101 упражнение по pandas](https://www.machinelearningplus.com/python/101-pandas-exercises-python/)"
   ]
  },
  {
   "cell_type": "markdown",
   "metadata": {},
   "source": [
    "## Задача 9\n",
    "\n",
    "Здесь одним из самых эффективных способов решения задачи является рассчет ближайших по коэффициенту https://ru.wikipedia.org/wiki/Коэффициент_Жаккара "
   ]
  },
  {
   "cell_type": "markdown",
   "metadata": {},
   "source": [
    "## Задача 10\n",
    "https://web.stanford.edu/~hastie/Papers/B67.2%20(2005)%20301-320%20Zou%20&%20Hastie.pdf"
   ]
  },
  {
   "cell_type": "markdown",
   "metadata": {},
   "source": [
    "## Задача 11\n",
    "\n",
    "а) квадратичное ядро<br>\n",
    "б) квадратичное ядро<br>\n",
    "\n",
    "$K(x, y) = <x, y> ^ 2 = (x_1 * y_1 + x_2 + y_2) ^ 2 = (x_1 * y_1) ^ 2 + 2 x_1 y_1 x_2 y_2 + (x_2 * y_2) ^ 2 = <(x1^ 2, x_2 ^ 2, \\sqrt{2} x_1 x_2), (y_1^2, y_2^2, \\sqrt{2} y_1 y_2)>$"
   ]
  }
 ],
 "metadata": {
  "kernelspec": {
   "display_name": "Python 3",
   "language": "python",
   "name": "python3"
  },
  "language_info": {
   "codemirror_mode": {
    "name": "ipython",
    "version": 3
   },
   "file_extension": ".py",
   "mimetype": "text/x-python",
   "name": "python",
   "nbconvert_exporter": "python",
   "pygments_lexer": "ipython3",
   "version": "3.7.0"
  }
 },
 "nbformat": 4,
 "nbformat_minor": 2
}
