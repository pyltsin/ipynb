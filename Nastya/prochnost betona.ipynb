{
 "cells": [
  {
   "cell_type": "code",
   "execution_count": 3,
   "metadata": {},
   "outputs": [
    {
     "name": "stdout",
     "output_type": "stream",
     "text": [
      "Populating the interactive namespace from numpy and matplotlib\n"
     ]
    },
    {
     "name": "stderr",
     "output_type": "stream",
     "text": [
      "C:\\javasdk\\anakonda\\lib\\site-packages\\IPython\\core\\magics\\pylab.py:160: UserWarning: pylab import has clobbered these variables: ['text']\n",
      "`%matplotlib` prevents importing * from pylab and numpy\n",
      "  \"\\n`%matplotlib` prevents importing * from pylab and numpy\"\n"
     ]
    }
   ],
   "source": [
    "%pylab inline"
   ]
  },
  {
   "cell_type": "code",
   "execution_count": 12,
   "metadata": {},
   "outputs": [],
   "source": [
    "R_m = 20"
   ]
  },
  {
   "cell_type": "code",
   "execution_count": 15,
   "metadata": {},
   "outputs": [
    {
     "data": {
      "text/plain": [
       "15"
      ]
     },
     "execution_count": 15,
     "metadata": {},
     "output_type": "execute_result"
    }
   ],
   "source": [
    "R_bn=R_m*(0.77-0.001*R_m)\n",
    "R_bn = round(R_bn)\n",
    "R_bn"
   ]
  },
  {
   "cell_type": "code",
   "execution_count": 29,
   "metadata": {},
   "outputs": [],
   "source": [
    "table1 = [[10, 12],[10, 12],[20, 24]]"
   ]
  },
  {
   "cell_type": "code",
   "execution_count": 20,
   "metadata": {},
   "outputs": [
    {
     "name": "stdout",
     "output_type": "stream",
     "text": [
      "20\n"
     ]
    }
   ],
   "source": [
    "nexti = -1\n",
    "for i, B in enumerate( table1[0]):\n",
    "    if B == 'B10':\n",
    "        nexti = i\n",
    "print(table1[2][nexti])"
   ]
  },
  {
   "cell_type": "code",
   "execution_count": 21,
   "metadata": {},
   "outputs": [],
   "source": [
    "def get_from_table(table, find_value, index):\n",
    "    for i, B in enumerate( table[0]):\n",
    "        if B == find_value:\n",
    "            nexti = i\n",
    "    return table[index][nexti]   "
   ]
  },
  {
   "cell_type": "code",
   "execution_count": 23,
   "metadata": {},
   "outputs": [
    {
     "data": {
      "text/plain": [
       "20"
      ]
     },
     "execution_count": 23,
     "metadata": {},
     "output_type": "execute_result"
    }
   ],
   "source": [
    "get_from_table(table1, 'B10', 2)"
   ]
  },
  {
   "cell_type": "code",
   "execution_count": 34,
   "metadata": {},
   "outputs": [],
   "source": [
    "def interpolate(table, find_value, index):\n",
    "    if find_value<table[0][0]:\n",
    "        return table[index][0]\n",
    "    if find_value>table[0][len(table[0])-1]:\n",
    "         return table[index][len(table[0])-1]\n",
    "    v1 = -1\n",
    "    v2 = -1\n",
    "    for i in range(len(table[0])-1):\n",
    "        if table[0][i]<=find_value<=table[0][i+1]:\n",
    "            v1 = i\n",
    "            v2 = i+1\n",
    "            break\n",
    "    return (table[index][v2]-table[index][v2])/(v2-v1)*(find_value-v1)+table[index][v2]\n"
   ]
  },
  {
   "cell_type": "code",
   "execution_count": 36,
   "metadata": {},
   "outputs": [
    {
     "data": {
      "text/plain": [
       "12.0"
      ]
     },
     "execution_count": 36,
     "metadata": {},
     "output_type": "execute_result"
    }
   ],
   "source": [
    "interpolate(table1, 11, 1)"
   ]
  },
  {
   "cell_type": "code",
   "execution_count": 38,
   "metadata": {},
   "outputs": [
    {
     "data": {
      "text/plain": [
       "12"
      ]
     },
     "execution_count": 38,
     "metadata": {},
     "output_type": "execute_result"
    }
   ],
   "source": [
    "interpolate(table1, 100, 1)"
   ]
  },
  {
   "cell_type": "code",
   "execution_count": 28,
   "metadata": {},
   "outputs": [
    {
     "data": {
      "text/plain": [
       "(1, 2)"
      ]
     },
     "execution_count": 28,
     "metadata": {},
     "output_type": "execute_result"
    }
   ],
   "source": [
    "interpolate()"
   ]
  },
  {
   "cell_type": "code",
   "execution_count": 2,
   "metadata": {},
   "outputs": [
    {
     "name": "stdout",
     "output_type": "stream",
     "text": [
      "Populating the interactive namespace from numpy and matplotlib\n",
      "Нормативное сопротивление бетона сжатию R_bn= 10.799999999999999 МПа\n",
      "Нормативное сопротивление бетона растяжению R_btn= 1.1 МПа\n",
      "Расчетное сопротивление бетона сжатию R_b= 10.799999999999999 МПа\n",
      "Расчетное сопротивление бетона растяжению R_bt= 1.1 МПа\n",
      "Начальный модуль упругости бетона на растяжение-сжатие E_b0= 2.1599999999999997 МПа\n",
      "Модуль сдвига G= 0.8999999999999999 МПа\n",
      "расчет характеристик бетона по Еврокоду 2 \"Проектирование железобетонных конструкций\"\n"
     ]
    }
   ],
   "source": [
    "%pylab inline\n",
    "R_m=float(input(\"Введите класс бетона - число:\"))\n",
    "text=float(input('Введите влажность окружающей среды в процентах - число:'))\n",
    "txt2=int(input('Введите код бетона - тяжелый - 1, мелкозернистый - 2 , напрягающий - 3, легкий - 4, ячеистый - 5:'))\n",
    "txt3=int(input('Расчет по предельным состояниям группы - 1 или 2:'))\n",
    "txt4=int(input('Продолжительность действия нагрузки - продолжительное - 1, непродолжительное - 2'))\n",
    "#расчет характеристик бетона по СП\n",
    "# расчет нормативных характеристик прочности\n",
    "if R_m*(0.77-0.001*R_m)>=0.72*R_m and txt3==1:\n",
    "    R_bn=R_m*(0.77-0.001*R_m) #!!!!! неправильно нужно правильно округлить\n",
    "    print(\"Нормативное сопротивление бетона сжатию R_bn=\", R_bn, \"МПа\")   \n",
    "else:\n",
    "    R_bn=0.72*R_m #!!!!! неправильно нужно правильно округлить\n",
    "    print(\"Нормативное сопротивление бетона сжатию R_bn=\", R_bn, \"МПа\")\n",
    "PerevMPaVkgsm=10.197162 #перевод из МПа в кг/см2\n",
    "R_btn=round(round(((0.5*(((R_bn*PerevMPaVkgsm)**2)**(1/3)))/PerevMPaVkgsm)*2,1)/2,1) #!!!!! неправильно нужно округлить\n",
    "print(\"Нормативное сопротивление бетона растяжению R_btn=\", R_btn, \"МПа\")\n",
    "# расчетное сопротивление бетона сжатию\n",
    "if (txt2==1 or txt2==2 or txt2==3 or txt2==4) and txt3==1:\n",
    "    R_b=R_bn/1.3\n",
    "    print(\"Расчетное сопротивление бетона сжатию R_b=\", R_b, \"МПа\")\n",
    "elif (txt2==5) and txt3==1:\n",
    "    R_b=R_bn/1.5\n",
    "    print(\"Расчетное сопротивление бетона сжатию R_b=\", R_b, \"МПа\")\n",
    "elif txt3==2:\n",
    "    R_b=R_bn\n",
    "    print(\"Расчетное сопротивление бетона сжатию R_b=\", R_b, \"МПа\")\n",
    "else:\n",
    "    print(\"При расчете расчетного сопротивления бетона сжатию произошла ошибка, неверно введен класс код бетона или группа предельных состояний\")\n",
    "#расчетное сопротивление бетона растяжению\n",
    "if (txt2==1 or txt2==2 or txt2==3 or txt2==4) and txt3==1:\n",
    "    R_bt=R_btn/1.5\n",
    "    print(\"Расчетное сопротивление бетона растяжению R_bt=\", R_bt, \"МПа\")\n",
    "elif (txt2==5) and txt3==1:\n",
    "    R_bt=R_btn/2.3\n",
    "    print(\"Расчетное сопротивление бетона растяжению R_bt=\", R_bt, \"МПа\")\n",
    "elif txt3==2:\n",
    "    R_bt=R_btn\n",
    "    print(\"Расчетное сопротивление бетона растяжению R_bt=\", R_bt, \"МПа\")\n",
    "else:\n",
    "    print(\"При расчете расчетного сопротивления бетона растяжению произошла ошибка, неверно введен класс код бетона или группа предельных состояний\")\n",
    "#деформационные характеристики бетона\n",
    "E_b0=0.2*R_b #начальный модуль упругости бетона на растяжение-сжатие\n",
    "print(\"Начальный модуль упругости бетона на растяжение-сжатие E_b0=\", E_b0, \"МПа\")\n",
    "v=0.2 #коэффициент Пуассона\n",
    "G=E_b0/(2*(1+v)) #Модуль сдвига\n",
    "print(\"Модуль сдвига G=\", G, \"МПа\")\n",
    "#расчет характеристик бетона по Еврокоду 2 \"Проектирование железобетонных конструкций\"\n",
    "print('расчет характеристик бетона по Еврокоду 2 \"Проектирование железобетонных конструкций\"')"
   ]
  },
  {
   "cell_type": "code",
   "execution_count": null,
   "metadata": {},
   "outputs": [],
   "source": []
  }
 ],
 "metadata": {
  "kernelspec": {
   "display_name": "Python 3",
   "language": "python",
   "name": "python3"
  },
  "language_info": {
   "codemirror_mode": {
    "name": "ipython",
    "version": 3
   },
   "file_extension": ".py",
   "mimetype": "text/x-python",
   "name": "python",
   "nbconvert_exporter": "python",
   "pygments_lexer": "ipython3",
   "version": "3.6.5"
  }
 },
 "nbformat": 4,
 "nbformat_minor": 2
}
